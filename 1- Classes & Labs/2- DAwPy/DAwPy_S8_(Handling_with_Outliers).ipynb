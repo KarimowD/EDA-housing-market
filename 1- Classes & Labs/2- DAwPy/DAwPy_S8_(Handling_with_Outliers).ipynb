{
 "cells": [
  {
   "cell_type": "markdown",
   "metadata": {
    "deletable": false,
    "editable": false
   },
   "source": [
    "<a href=\"https://clarusway.com/contact-us/\"><img align=\"center\" src=\"https://i.ibb.co/B43qn24/officially-licensed-logo.png\" alt=\"Open in Clarusway LMS\" width=\"110\" height=\"200\" title=\"This notebook is licensed by Clarusway IT training school. Please contact the authorized persons about the conditions under which you can use or share.\"></a>"
   ]
  },
  {
   "cell_type": "markdown",
   "metadata": {},
   "source": [
    "<hr>\n",
    "\n",
    "<a href=\"https://lms.clarusway.com/mod/lesson/view.php?id=2463&pageid=4531&startlastseen=no\"><img align=\"center\" src=\"https://i.ibb.co/6Z5pQxD/lmss.png\" alt=\"Open in Clarusway LMS\" width=\"70\" height=\"200\" title=\"Open Clarusway Learning Management Sytem\"></a>\n",
    "\n",
    "<a href=\"https://github.com/clarusway/DS-DE-0322-Students/blob/main/3-%20Classes%26Labs/2-DAwPY/DAwPy_S01_(Numpy_Arrays).ipynb\"><img align=\"left\" src=\"https://i.ibb.co/n3HWyQX/github-logo.png\" alt=\"Open in Clarusway GitHub\" width=\"90\" height=\"150\" title=\"Open and Execute in Clarusway GitHub Repository\"></a>\n",
    "\n",
    "<a href=\"https://nbviewer.org/github/4dsolutions/clarusway_data_analysis/blob/main/DAwPy_S1_%28Numpy_Arrays%29/DAwPy_S1_%28Numpy_Arrays%29.ipynb\"><img align=\"right\" src=\"https://i.ibb.co/48wtV8c/nbviewer-badge.png\" alt=\"Open in nbviewer\" width=\"100\" height=\"100\" title=\"Open and Execute in nbviewer\"></a><br/>\n",
    "\n",
    "<hr>\n",
    "\n",
    "<p style=\"text-align: center;\"><img src=\"https://i.ibb.co/Rpz9L36/clarusway-logo-black.png\" width=\"500\" height=\"200\" class=\"img-fluid\" alt=\"CLRSWY_LOGO\"></p>\n",
    "\n",
    "<p style=\"text-align: center;\"><img src=\"https://i.ibb.co/XS0bxSH/best-bootcamps.png\" width=\"300\" height=\"200\" class=\"img-fluid\" alt=\"CLRSWY_LOGO\"></p>\n",
    "\n",
    "<p style=\"background-color:#E51A59; font-family:newtimeroman; color:#FDFEFE; font-size:130%; text-align:center; border-radius:10px 10px;\">WAY TO REINVENT YOURSELF</p>\n",
    "\n",
    "<p style=\"text-align: center;\"><img src=\"https://i.ibb.co/99DQ3TY/DS-Courses.png\" class=\"img-fluid\" \n",
    "alt=\"CLRSWY_Courses\"></p>"
   ]
  },
  {
   "cell_type": "markdown",
   "metadata": {
    "id": "IlgneDcCDyzP"
   },
   "source": [
    "<img src=https://i.ibb.co/6gCsHd6/1200px-Pandas-logo-svg.png width=\"600\" height=\"200\">\n",
    "\n",
    "## <p style=\"background-color:#FDFEFE; font-family:newtimeroman; color:#060108; font-size:200%; text-align:center; border-radius:10px 10px;\">Data Analysis with Python</p>\n",
    "\n",
    "## <p style=\"background-color:#FDFEFE; font-family:newtimeroman; color:#060108; font-size:150%; text-align:center; border-radius:10px 10px;\">Session - 08</p>\n",
    "\n",
    "## <p style=\"background-color:#FDFEFE; font-family:newtimeroman; color:#E51A59; font-size:200%; text-align:center; border-radius:10px 10px;\">Handling Outliers</p>\n",
    "\n",
    "<img src=https://i.ibb.co/gjGWL43/outlier1.jpg width=\"700\" height=\"200\">\n",
    "\n",
    "[Image Credit](https://www.analyticsvidhya.com/blog/2021/05/detecting-and-treating-outliers-treating-the-odd-one-out/)"
   ]
  },
  {
   "cell_type": "markdown",
   "metadata": {
    "id": "3vnM00e0DyzX"
   },
   "source": [
    "<a id=\"toc\"></a>\n",
    "\n",
    "## <p style=\"background-color:#E51A59; font-family:newtimeroman; color:#FFF9ED; font-size:175%; text-align:center; border-radius:10px 10px;\">Content</p>\n",
    "\n",
    "* [IMPORTING LIBRARIES NEEDED IN THIS NOTEBOOK](#0)\n",
    "* [HANDLING WITH OUTLIERS](#1)\n",
    "* [CATCHING & DETECTING OUTLIERS](#2)\n",
    "* [REMOVING THE OUTLIERS](#3)    \n",
    "* [LIMITATION & TRANSFORMATION OF THE OUTLIERS](#4)    \n",
    "* [THE END OF THE SESSION - 07](#5)"
   ]
  },
  {
   "cell_type": "markdown",
   "metadata": {
    "id": "KWEv-mx42sud"
   },
   "source": [
    "## <p style=\"background-color:#E51A59; font-family:newtimeroman; color:#FFF9ED; font-size:175%; text-align:center; border-radius:10px 10px;\">Importing Libraries Needed in This Notebook</p>\n",
    "\n",
    "<a id=\"0\"></a>\n",
    "<a href=\"#toc\" class=\"btn btn-primary btn-sm\" role=\"button\" aria-pressed=\"true\" \n",
    "style=\"color:blue; background-color:#dfa8e4\" data-toggle=\"popover\">Content</a>\n",
    "\n",
    "Once you've installed NumPy & Pandas you can import them as a library:"
   ]
  },
  {
   "cell_type": "code",
   "execution_count": 1,
   "metadata": {
    "id": "-bhPlyEyDyzY"
   },
   "outputs": [],
   "source": [
    "import pandas as pd              # DAwPy\n",
    "import numpy as np               # DAwPy\n",
    "import seaborn as sns            # Stats-1 & DAwPy\n",
    "import matplotlib.pyplot as plt  # Stats-1 & DAwPy\n",
    "\n",
    "import warnings\n",
    "warnings.filterwarnings(\"ignore\")  # to suppress all warnings"
   ]
  },
  {
   "cell_type": "markdown",
   "metadata": {},
   "source": [
    "- **``Importing Libraries``**: Make sure to import the required libraries before beginning your. You need both pandas and numpy.\n",
    "\n",
    "<p style=\"background-color:#FFFFFF; font-family:newtimeroman; color:#0000FF; font-size:110%; text-align:left;\"><strong>-----------------------------------------------------------------------------------------------------------------------------------------------------------------------------------------------</strong></p>\n",
    "\n",
    "- ``import warnings``: This imports the warnings module, which is part of Python's standard library and provides a way to issue warning messages.\n",
    "- ``warnings.filterwarnings(\"ignore\")``: This function call tells Python to ignore all warning messages that would normally be printed. This can be useful when we want to focus on the output of your program without being distracted by warnings.\n",
    "\n",
    "<p style=\"background-color:#FFFFFF; font-family:newtimeroman; color:#FF0000; font-size:125%; text-align:left;\"><strong>📢 Caution ❗❗❗</strong></p>\n",
    "\n",
    "\n",
    "- Ignoring warnings can sometimes hide important issues in our code, so use this approach judiciously. It's generally better to address the underlying causes of warnings rather than suppressing them."
   ]
  },
  {
   "cell_type": "markdown",
   "metadata": {
    "id": "XcFDXSrZPR9p"
   },
   "source": [
    "## <p style=\"background-color:#E51A59; font-family:newtimeroman; color:#FFF9ED; font-size:175%; text-align:center; border-radius:10px 10px;\">Handling with Outliers</p>\n",
    "\n",
    "<a id=\"1\"></a>\n",
    "<a href=\"#toc\" class=\"btn btn-primary btn-sm\" role=\"button\" aria-pressed=\"true\" \n",
    "style=\"color:blue; background-color:#dfa8e4\" data-toggle=\"popover\">Content</a>\n",
    "\n",
    "\n",
    "### 🧐 [What is Outlier?](https://statisticsbyjim.com/basics/remove-outliers/#:~:text=Outliers%20are%20unusual%20values%20in,what%20to%20do%20with%20them.)\n",
    "\n",
    "- One of the most important steps as part of data preprocessing is detecting and treating the outliers as they can **``negatively affect the statistical analysis``** and the **``training process of a machine learning algorithm``** resulting in **``lower accuracy``**.\n",
    "\n",
    "- In general, <b>``Outliers``</b> are **unusual values** in our dataset, and they can **distort statistical analyses and violate their assumptions**. ... Outliers **``increase the variability``** in our data, which **``decreases statistical power``**. Consequently, excluding outliers can cause our results to become statistically significant. Outliers can have a disproportionate effect on statistical results, such as the mean, which can result in **``misleading interpretations``**. In this case, the **``mean value makes it seem that the data values are higher than they really are``**.\n",
    "\n",
    "**🧐 [How To Detect and Handle Outliers in Data Mining](https://www.malicksarr.com/how-to-detect-and-handle-outliers-in-data-mining/)**\n",
    "\n",
    "### 🧐 [Most common causes of outliers on a data set](https://towardsdatascience.com/a-brief-overview-of-outlier-detection-techniques-1e0b2c19e561):\n",
    "\n",
    "- Data entry errors (**``human errors``**)\n",
    "- Measurement errors (**``instrument errors``**)\n",
    "- Experimental errors (**``data extraction or experiment planning/executing errors``**)\n",
    "- Intentional (**``dummy outliers made to test detection methods``**)\n",
    "- Data processing errors (**``data manipulation or data set unintended mutations``**)\n",
    "- Sampling errors (**``extracting or mixing data from wrong or various sources``**)\n",
    "- Natural (**``not an error, novelties in data``**) \n",
    "\n",
    "\n",
    "🧐 [Source1](https://www.displayr.com/different-types-of-missing-data/), [Source2](https://www-users.york.ac.uk/~mb55/intro/typemiss4.htm), [Source3](https://www.ncbi.nlm.nih.gov/books/NBK493614/), [Source4](https://towardsdatascience.com/missing-value-handling-missing-data-types-a89c0d81a5bb), [Source5](https://medium.com/analytics-vidhya/different-types-of-missing-data-59c87c046bf7)\n",
    "\n",
    "### Guideline for Handling Outliers 🧐 [Source 01](https://statisticsbyjim.com/basics/remove-outliers/#:~:text=Outliers%20are%20unusual%20values%20in,what%20to%20do%20with%20them.) & [Source 02](https://www.researchgate.net/publication/258174106_Best-Practice_Recommendations_for_Defining_Identifying_and_Handling_Outliers)\n",
    "\n",
    "- A **``measurement error or data entry error``**, **``correct the error if possible``**. If you can’t fix it, **``remove that observation``** because we know it’s incorrect.\n",
    "- **``Not a part of the population``** we are studying (i.e., unusual properties or conditions), we can legitimately **``remove the outlier``**.\n",
    "- A **``natural part of the population``** we are studying, we should **``NOT remove it``**.\n",
    "\n",
    "### Methods for Handling Outliers\n",
    "- **``Removing``** the outliers.\n",
    "- Limitation of the outliers. (**``winsorize``**)\n",
    "- Data **``transformation``**. (log, square root, exponentiating)\n",
    "- Replacing (**``Imputation``**) the outliers. (mean, median, mode)\n",
    "- Using different **``analysis methods``**. (statistical/nonparametric tests)\n",
    "- **``Valuing``** the outliers. (valid reason for the outlier to exist)"
   ]
  },
  {
   "cell_type": "markdown",
   "metadata": {
    "id": "-ubsHXY6Dyzz"
   },
   "source": [
    "## <p style=\"background-color:#E51A59; font-family:newtimeroman; color:#FFF9ED; font-size:175%; text-align:center; border-radius:10px 10px;\">Catching and Detecting Outliers</p>\n",
    "\n",
    "<a id=\"2\"></a>\n",
    "<a href=\"#toc\" class=\"btn btn-primary btn-sm\" role=\"button\" aria-pressed=\"true\" \n",
    "style=\"color:blue; background-color:#dfa8e4\" data-toggle=\"popover\">Content</a>\n",
    "\n",
    "- Seaborn includes a set of **🧐 [17 built-in sample datasets](https://towardsdatascience.com/seaborn-essentials-for-data-visualization-in-python-291aa117583b#:~:text=seaborn%20comes%20with%2017%20built,visualization%20techniques%20to%20solve%20problems.)** which will use here to illustrate its features. When Seaborn is installed, the datasets download automatically.The function **``sns.get_dataset_names()``** displays names of the available datasets. The belove line of code will return the list of datasets available as the following output:"
   ]
  },
  {
   "cell_type": "code",
   "execution_count": 2,
   "metadata": {
    "id": "StpaFc6m2suh",
    "outputId": "3e9e3238-0b95-41b1-ba9b-a26be541d361"
   },
   "outputs": [
    {
     "data": {
      "text/plain": [
       "['anagrams',\n",
       " 'anscombe',\n",
       " 'attention',\n",
       " 'brain_networks',\n",
       " 'car_crashes',\n",
       " 'diamonds',\n",
       " 'dots',\n",
       " 'dowjones',\n",
       " 'exercise',\n",
       " 'flights',\n",
       " 'fmri',\n",
       " 'geyser',\n",
       " 'glue',\n",
       " 'healthexp',\n",
       " 'iris',\n",
       " 'mpg',\n",
       " 'penguins',\n",
       " 'planets',\n",
       " 'seaice',\n",
       " 'taxis',\n",
       " 'tips',\n",
       " 'titanic']"
      ]
     },
     "execution_count": 2,
     "metadata": {},
     "output_type": "execute_result"
    }
   ],
   "source": [
    "# Get the names of available datasets in Seaborn Library\n",
    "\n",
    "sns.get_dataset_names()"
   ]
  },
  {
   "cell_type": "markdown",
   "metadata": {},
   "source": [
    "We will use **``one of the most used``** datasets to lecture, **``\"diamonds\"``**, that consists of the following observations:\n",
    "\n",
    "<p style=\"background-color:#FFFFFF; font-family:newtimeroman; color:#0000FF; font-size:110%; text-align:left;\"><strong>-----------------------------------------------------------------------------------------------------------------------------------------------------------------------------------------------</strong></p>\n",
    "\n",
    "\n",
    "**The ``load_dataset()`` method ``loads an example dataset`` from this [online repository](https://github.com/mwaskom/seaborn-data) (requires internet) and returns a new [pandas DataFrame object](https://www.codecademy.com/resources/docs/pandas/dataframe). With the help of the following function we can load the ``'diamonds'`` dataset:**\n",
    "\n",
    "- **SYNTAX:** <b>``seaborn.load_dataset(name, cache=True, data_home=None, **kws)``</b>\n",
    "\n",
    "   - **``name:``**\tstr\tName of the dataset (in CSV format) from examples repository.\n",
    "   - **``cache (optional):``**\tboolean\tInitially loads the dataset from a local cache directory, after which it saves to this cache directory if a download is needed.\n",
    "   - **``data_home (optional):``**\tstr\tSpecifies the local directory where the cache data is stored; can be viewed with seaborn.get_data_home().\n",
    "   - **``kws (optional):``** dict (keys & values) Extra keyword arguments that are passed to the pandas .read_csv() function."
   ]
  },
  {
   "cell_type": "code",
   "execution_count": 3,
   "metadata": {
    "id": "3OOBIidWDyz0",
    "outputId": "f2529d03-9fbe-4a3e-9090-57c5aa1c8368"
   },
   "outputs": [
    {
     "data": {
      "text/html": [
       "<div>\n",
       "<style scoped>\n",
       "    .dataframe tbody tr th:only-of-type {\n",
       "        vertical-align: middle;\n",
       "    }\n",
       "\n",
       "    .dataframe tbody tr th {\n",
       "        vertical-align: top;\n",
       "    }\n",
       "\n",
       "    .dataframe thead th {\n",
       "        text-align: right;\n",
       "    }\n",
       "</style>\n",
       "<table border=\"1\" class=\"dataframe\">\n",
       "  <thead>\n",
       "    <tr style=\"text-align: right;\">\n",
       "      <th></th>\n",
       "      <th>carat</th>\n",
       "      <th>cut</th>\n",
       "      <th>color</th>\n",
       "      <th>clarity</th>\n",
       "      <th>depth</th>\n",
       "      <th>table</th>\n",
       "      <th>price</th>\n",
       "      <th>x</th>\n",
       "      <th>y</th>\n",
       "      <th>z</th>\n",
       "    </tr>\n",
       "  </thead>\n",
       "  <tbody>\n",
       "    <tr>\n",
       "      <th>0</th>\n",
       "      <td>0.23</td>\n",
       "      <td>Ideal</td>\n",
       "      <td>E</td>\n",
       "      <td>SI2</td>\n",
       "      <td>61.5</td>\n",
       "      <td>55.0</td>\n",
       "      <td>326</td>\n",
       "      <td>3.95</td>\n",
       "      <td>3.98</td>\n",
       "      <td>2.43</td>\n",
       "    </tr>\n",
       "    <tr>\n",
       "      <th>1</th>\n",
       "      <td>0.21</td>\n",
       "      <td>Premium</td>\n",
       "      <td>E</td>\n",
       "      <td>SI1</td>\n",
       "      <td>59.8</td>\n",
       "      <td>61.0</td>\n",
       "      <td>326</td>\n",
       "      <td>3.89</td>\n",
       "      <td>3.84</td>\n",
       "      <td>2.31</td>\n",
       "    </tr>\n",
       "    <tr>\n",
       "      <th>2</th>\n",
       "      <td>0.23</td>\n",
       "      <td>Good</td>\n",
       "      <td>E</td>\n",
       "      <td>VS1</td>\n",
       "      <td>56.9</td>\n",
       "      <td>65.0</td>\n",
       "      <td>327</td>\n",
       "      <td>4.05</td>\n",
       "      <td>4.07</td>\n",
       "      <td>2.31</td>\n",
       "    </tr>\n",
       "    <tr>\n",
       "      <th>3</th>\n",
       "      <td>0.29</td>\n",
       "      <td>Premium</td>\n",
       "      <td>I</td>\n",
       "      <td>VS2</td>\n",
       "      <td>62.4</td>\n",
       "      <td>58.0</td>\n",
       "      <td>334</td>\n",
       "      <td>4.20</td>\n",
       "      <td>4.23</td>\n",
       "      <td>2.63</td>\n",
       "    </tr>\n",
       "    <tr>\n",
       "      <th>4</th>\n",
       "      <td>0.31</td>\n",
       "      <td>Good</td>\n",
       "      <td>J</td>\n",
       "      <td>SI2</td>\n",
       "      <td>63.3</td>\n",
       "      <td>58.0</td>\n",
       "      <td>335</td>\n",
       "      <td>4.34</td>\n",
       "      <td>4.35</td>\n",
       "      <td>2.75</td>\n",
       "    </tr>\n",
       "    <tr>\n",
       "      <th>...</th>\n",
       "      <td>...</td>\n",
       "      <td>...</td>\n",
       "      <td>...</td>\n",
       "      <td>...</td>\n",
       "      <td>...</td>\n",
       "      <td>...</td>\n",
       "      <td>...</td>\n",
       "      <td>...</td>\n",
       "      <td>...</td>\n",
       "      <td>...</td>\n",
       "    </tr>\n",
       "    <tr>\n",
       "      <th>53935</th>\n",
       "      <td>0.72</td>\n",
       "      <td>Ideal</td>\n",
       "      <td>D</td>\n",
       "      <td>SI1</td>\n",
       "      <td>60.8</td>\n",
       "      <td>57.0</td>\n",
       "      <td>2757</td>\n",
       "      <td>5.75</td>\n",
       "      <td>5.76</td>\n",
       "      <td>3.50</td>\n",
       "    </tr>\n",
       "    <tr>\n",
       "      <th>53936</th>\n",
       "      <td>0.72</td>\n",
       "      <td>Good</td>\n",
       "      <td>D</td>\n",
       "      <td>SI1</td>\n",
       "      <td>63.1</td>\n",
       "      <td>55.0</td>\n",
       "      <td>2757</td>\n",
       "      <td>5.69</td>\n",
       "      <td>5.75</td>\n",
       "      <td>3.61</td>\n",
       "    </tr>\n",
       "    <tr>\n",
       "      <th>53937</th>\n",
       "      <td>0.70</td>\n",
       "      <td>Very Good</td>\n",
       "      <td>D</td>\n",
       "      <td>SI1</td>\n",
       "      <td>62.8</td>\n",
       "      <td>60.0</td>\n",
       "      <td>2757</td>\n",
       "      <td>5.66</td>\n",
       "      <td>5.68</td>\n",
       "      <td>3.56</td>\n",
       "    </tr>\n",
       "    <tr>\n",
       "      <th>53938</th>\n",
       "      <td>0.86</td>\n",
       "      <td>Premium</td>\n",
       "      <td>H</td>\n",
       "      <td>SI2</td>\n",
       "      <td>61.0</td>\n",
       "      <td>58.0</td>\n",
       "      <td>2757</td>\n",
       "      <td>6.15</td>\n",
       "      <td>6.12</td>\n",
       "      <td>3.74</td>\n",
       "    </tr>\n",
       "    <tr>\n",
       "      <th>53939</th>\n",
       "      <td>0.75</td>\n",
       "      <td>Ideal</td>\n",
       "      <td>D</td>\n",
       "      <td>SI2</td>\n",
       "      <td>62.2</td>\n",
       "      <td>55.0</td>\n",
       "      <td>2757</td>\n",
       "      <td>5.83</td>\n",
       "      <td>5.87</td>\n",
       "      <td>3.64</td>\n",
       "    </tr>\n",
       "  </tbody>\n",
       "</table>\n",
       "<p>53940 rows × 10 columns</p>\n",
       "</div>"
      ],
      "text/plain": [
       "       carat        cut color clarity  depth  table  price     x     y     z\n",
       "0       0.23      Ideal     E     SI2   61.5   55.0    326  3.95  3.98  2.43\n",
       "1       0.21    Premium     E     SI1   59.8   61.0    326  3.89  3.84  2.31\n",
       "2       0.23       Good     E     VS1   56.9   65.0    327  4.05  4.07  2.31\n",
       "3       0.29    Premium     I     VS2   62.4   58.0    334  4.20  4.23  2.63\n",
       "4       0.31       Good     J     SI2   63.3   58.0    335  4.34  4.35  2.75\n",
       "...      ...        ...   ...     ...    ...    ...    ...   ...   ...   ...\n",
       "53935   0.72      Ideal     D     SI1   60.8   57.0   2757  5.75  5.76  3.50\n",
       "53936   0.72       Good     D     SI1   63.1   55.0   2757  5.69  5.75  3.61\n",
       "53937   0.70  Very Good     D     SI1   62.8   60.0   2757  5.66  5.68  3.56\n",
       "53938   0.86    Premium     H     SI2   61.0   58.0   2757  6.15  6.12  3.74\n",
       "53939   0.75      Ideal     D     SI2   62.2   55.0   2757  5.83  5.87  3.64\n",
       "\n",
       "[53940 rows x 10 columns]"
      ]
     },
     "execution_count": 3,
     "metadata": {},
     "output_type": "execute_result"
    }
   ],
   "source": [
    "# Load the diamonds dataset\n",
    "original_df = sns.load_dataset('diamonds')\n",
    "\n",
    "# Create a copy of the DataFrame. This NOT a shallow copy. By default, the copy() function in Pandas creates a deep copy.\n",
    "df = original_df.copy()\n",
    "\n",
    "# Display the the first and last five entries of copied DataFrame\n",
    "df"
   ]
  },
  {
   "cell_type": "markdown",
   "metadata": {},
   "source": [
    "A DataFrame is the primary object used by the Pandas module to store and manipulate data. It is a structured collection of data arranged in rows and columns, similar to a database table.\n",
    "\n",
    "**info about dataset**\n",
    "- **``price``** price in US dollars (\\$326 — \\$18,823)\n",
    "- **``carat``** weight of the diamond (0.2–5.01)\n",
    "- **``cut``** quality of the cut (Fair, Good, Very Good, Premium, Ideal)\n",
    "- **``color``** diamond colour, from J (worst) to D (best)\n",
    "- **``clarity``** a measurement of how clear the diamond is (I1 (worst), SI2, SI1, VS2, VS1, VVS2, VVS1, IF (best))\n",
    "- **``x``** length in mm (0–10.74)\n",
    "- **``y``** width in mm (0–58.9)\n",
    "- **``z``** depth in mm (0–31.8)\n",
    "- **``depth``** total depth percentage = z / mean(x, y) = 2 * z / (x + y) (43–79)\n",
    "- **``table``** width of top of diamond relative to widest point (43–95)\n",
    "\n",
    "\n",
    "<p style=\"background-color:#FFFFFF; font-family:newtimeroman; color:blue; font-size:125%; text-align:left;\">📢✍🏼 A shallow copy is a type of copy of an object in programming that creates a new object, but does not create copies of the objects that the original object references. Instead, it copies references to those objects. This means that while the new object is distinct from the original, the contents (or referenced objects) are shared between both the original and the copied object. Shallow copies are generally faster to create than deep copies because they do not involve recursively copying all objects. When we make changes to a shallow copy, it can affect the original data if the shallow copy contains references to mutable objects. A shallow copy creates a new object but does NOT create copies of the objects that the original object references. Instead, it copies the references to those objects. This means both the original object and the shallow copy point to the same underlying objects. If the objects being referenced are mutable (like lists, dictionaries, or custom objects), changes made to those objects through either the original or the shallow copy will be reflected in both. ON THE OTHER HAND: By default, the copy() function in Pandas creates a deep copy. This means that it creates a new DataFrame (or Series) and also copies all the data, including all the underlying data structures. Changes made to the new copy will not affect the original DataFrame.</p>\n",
    "\n",
    "**[Join the Discussion on What is the difference between a deep copy and a shallow copy? on Stackoverflow](https://stackoverflow.com/questions/184710/what-is-the-difference-between-a-deep-copy-and-a-shallow-copy#:~:text=A%20shallow%20copy%20of%20a,in%20the%20original%20collection%20duplicated.)**\n",
    "\n",
    "<p style=\"background-color:#FFFFFF; font-family:newtimeroman; color:#0000FF; font-size:110%; text-align:left;\"><strong>-----------------------------------------------------------------------------------------------------------------------------------------------------------------------------------------------</strong></p>\n",
    "\n",
    "**The following code snippet ``filter the DataFrame`` to ``include`` ``only numeric columns``, containing only numerical data types.**"
   ]
  },
  {
   "cell_type": "code",
   "execution_count": 4,
   "metadata": {
    "id": "pLKY7dwl2sui",
    "outputId": "0ec17733-f055-40d6-ebf6-c115da8f5fe5"
   },
   "outputs": [
    {
     "data": {
      "text/html": [
       "<div>\n",
       "<style scoped>\n",
       "    .dataframe tbody tr th:only-of-type {\n",
       "        vertical-align: middle;\n",
       "    }\n",
       "\n",
       "    .dataframe tbody tr th {\n",
       "        vertical-align: top;\n",
       "    }\n",
       "\n",
       "    .dataframe thead th {\n",
       "        text-align: right;\n",
       "    }\n",
       "</style>\n",
       "<table border=\"1\" class=\"dataframe\">\n",
       "  <thead>\n",
       "    <tr style=\"text-align: right;\">\n",
       "      <th></th>\n",
       "      <th>carat</th>\n",
       "      <th>depth</th>\n",
       "      <th>table</th>\n",
       "      <th>price</th>\n",
       "      <th>x</th>\n",
       "      <th>y</th>\n",
       "      <th>z</th>\n",
       "    </tr>\n",
       "  </thead>\n",
       "  <tbody>\n",
       "    <tr>\n",
       "      <th>0</th>\n",
       "      <td>0.23</td>\n",
       "      <td>61.5</td>\n",
       "      <td>55.0</td>\n",
       "      <td>326</td>\n",
       "      <td>3.95</td>\n",
       "      <td>3.98</td>\n",
       "      <td>2.43</td>\n",
       "    </tr>\n",
       "    <tr>\n",
       "      <th>1</th>\n",
       "      <td>0.21</td>\n",
       "      <td>59.8</td>\n",
       "      <td>61.0</td>\n",
       "      <td>326</td>\n",
       "      <td>3.89</td>\n",
       "      <td>3.84</td>\n",
       "      <td>2.31</td>\n",
       "    </tr>\n",
       "    <tr>\n",
       "      <th>2</th>\n",
       "      <td>0.23</td>\n",
       "      <td>56.9</td>\n",
       "      <td>65.0</td>\n",
       "      <td>327</td>\n",
       "      <td>4.05</td>\n",
       "      <td>4.07</td>\n",
       "      <td>2.31</td>\n",
       "    </tr>\n",
       "    <tr>\n",
       "      <th>3</th>\n",
       "      <td>0.29</td>\n",
       "      <td>62.4</td>\n",
       "      <td>58.0</td>\n",
       "      <td>334</td>\n",
       "      <td>4.20</td>\n",
       "      <td>4.23</td>\n",
       "      <td>2.63</td>\n",
       "    </tr>\n",
       "    <tr>\n",
       "      <th>4</th>\n",
       "      <td>0.31</td>\n",
       "      <td>63.3</td>\n",
       "      <td>58.0</td>\n",
       "      <td>335</td>\n",
       "      <td>4.34</td>\n",
       "      <td>4.35</td>\n",
       "      <td>2.75</td>\n",
       "    </tr>\n",
       "  </tbody>\n",
       "</table>\n",
       "</div>"
      ],
      "text/plain": [
       "   carat  depth  table  price     x     y     z\n",
       "0   0.23   61.5   55.0    326  3.95  3.98  2.43\n",
       "1   0.21   59.8   61.0    326  3.89  3.84  2.31\n",
       "2   0.23   56.9   65.0    327  4.05  4.07  2.31\n",
       "3   0.29   62.4   58.0    334  4.20  4.23  2.63\n",
       "4   0.31   63.3   58.0    335  4.34  4.35  2.75"
      ]
     },
     "execution_count": 4,
     "metadata": {},
     "output_type": "execute_result"
    }
   ],
   "source": [
    "# Select only numeric columns\n",
    "df = df.select_dtypes(include=\"number\")\n",
    "# df = df.loc[:, [\"carat\", \"depth\", \"table\", \"price\", \"x\", \"y\", \"z\"]]\n",
    "\n",
    "# Display the filtered DataFrame\n",
    "df.head()"
   ]
  },
  {
   "cell_type": "markdown",
   "metadata": {},
   "source": [
    "**``info about dataset:``**\n",
    "- **``carat   :``** Carat weight of the diamond\n",
    "- **``depth % :``** The height of a diamond, measured from the culet to the table, divided by its average girdle diameter\n",
    "- **``table % :``** The width of the diamond's table expressed as a percentage of its average diameter\n",
    "- **``price   :``** the price of the diamond\n",
    "- **``x       :``** length mm\n",
    "- **``y       :``** width mm\n",
    "- **``z       :``** higth mm\n",
    "\n",
    "<p style=\"background-color:#FFFFFF; font-family:newtimeroman; color:#0000FF; font-size:110%; text-align:left;\"><strong>-----------------------------------------------------------------------------------------------------------------------------------------------------------------------------------------------</strong></p>\n",
    "\n",
    "The expression df.info() is a method in Pandas that provides a concise summary of a DataFrame. "
   ]
  },
  {
   "cell_type": "code",
   "execution_count": 5,
   "metadata": {
    "id": "bbOq7-Wo2suj",
    "outputId": "14b62ac6-dd03-4379-9827-017fe6f4cb95"
   },
   "outputs": [
    {
     "name": "stdout",
     "output_type": "stream",
     "text": [
      "<class 'pandas.core.frame.DataFrame'>\n",
      "RangeIndex: 53940 entries, 0 to 53939\n",
      "Data columns (total 7 columns):\n",
      " #   Column  Non-Null Count  Dtype  \n",
      "---  ------  --------------  -----  \n",
      " 0   carat   53940 non-null  float64\n",
      " 1   depth   53940 non-null  float64\n",
      " 2   table   53940 non-null  float64\n",
      " 3   price   53940 non-null  int64  \n",
      " 4   x       53940 non-null  float64\n",
      " 5   y       53940 non-null  float64\n",
      " 6   z       53940 non-null  float64\n",
      "dtypes: float64(6), int64(1)\n",
      "memory usage: 2.9 MB\n"
     ]
    }
   ],
   "source": [
    "# Display summary information about the DataFrame\n",
    "\n",
    "df.info()"
   ]
  },
  {
   "cell_type": "markdown",
   "metadata": {
    "id": "iWC8v6eA2suj"
   },
   "source": [
    "When we call **``df.info()``** on our DataFrame, it provides a **``concise summary``** of the **``DataFrame's structure``**, including the number of entries, the number of columns, the data types of each column, and the memory usage.\n",
    "\n",
    "- **``Index Range``**: The output shows that there are **``144 entries (rows)``** in the DataFrame.\n",
    "- **``Columns``**: There are **``three columns``**: year, month, and passengers.\n",
    "- **``Non-Null Counts``**: Each column is fully populated with **``NO missing values``** in this dataset.\n",
    "- **``Data Types``**: The **``year``** and **``passengers``** columns are of type **``int64``**, while the **``month``** column is of type **``object``** (typically used for strings).\n",
    "- **``Memory Usage``**: It provides an **``estimate of the memory (2.9 MB)``** used by the DataFrame.\n",
    "\n",
    "<p style=\"background-color:#FFFFFF; font-family:newtimeroman; color:#0000FF; font-size:110%; text-align:left;\"><strong>-----------------------------------------------------------------------------------------------------------------------------------------------------------------------------------------------</strong></p>\n",
    "\n",
    "### <p style=\"background-color:#FFFFFF; font-family:newtimeroman; color:#0000FF; font-size:125%; text-align:left;\"><strong>Detecting Outliers with Graphs:</strong></p>\n",
    "\n",
    "- There are a **``variety of ways to find outliers``**. All these methods employ different approaches for finding values that are unusual compared to the rest of the dataset. We’ll first start with **``visual assessments``** and then move onto more **``analytical assessments``**.\n",
    "\n",
    "- Detecting outliers with graphs involves visualizing data to identify points that deviate significantly from the overall distribution. Common methods include **``box plots``**, which highlight data spread and outliers, **``scatter plots``** for visualizing relationships between variables, and **``histograms``** to observe the frequency of values. These graphical techniques help quickly pinpoint unusual observations that may require further investigation or treatment in data analysis.\n",
    "\n",
    "- Boxplots display diomands, asterisks or other symbols on the graph to indicate explicitly when datasets contain outliers. These graphs use the interquartile method with fences to find outliers. The boxplot below displays ``\"table\"`` feature from our Seaborn example dataset. It’s clear that the outliers is quite different than the typical data value.\n",
    "\n",
    "**🧐 [5 Ways to Find Outliers in Your Data](https://statisticsbyjim.com/basics/outliers/)**\n",
    "\n",
    "<p style=\"background-color:#FFFFFF; font-family:newtimeroman; color:#0000FF; font-size:110%; text-align:left;\"><strong>-----------------------------------------------------------------------------------------------------------------------------------------------------------------------------------------------</strong></p>\n",
    "\n",
    "<p style=\"background-color:#FFFFFF; font-family:newtimeroman; color:green; font-size:125%; text-align:left;\"><strong>👉 Visual Assessments:</strong></p>\n",
    "\n",
    "<p style=\"background-color:#FFFFFF; font-family:newtimeroman; color:red; font-size:125%; text-align:center;\">📢 DO NOT WORRY ABOUT THE CODE USED FOR VISUALIZATION BELOW BECAUSE YOU WILL LEARN THE SUBJECT AT THE DVwPY COURSE. Just focus on quarters and remember the concept of IQR from Statistics sessions ❗❗❗</p>\n",
    "\n",
    "<br>\n",
    "\n",
    "**The following code ``sets up a box plot`` to visualize the ``distribution of values`` in the ``table column`` of the DataFrame.**"
   ]
  },
  {
   "cell_type": "code",
   "execution_count": 6,
   "metadata": {
    "id": "CzSh-wArDyz0",
    "outputId": "9dfea5e1-dc70-41c6-f95f-331bc453b2dc"
   },
   "outputs": [
    {
     "data": {
      "image/png": "[encoded data removed]",
      "text/plain": [
       "<Figure size 750x450 with 1 Axes>"
      ]
     },
     "metadata": {},
     "output_type": "display_data"
    }
   ],
   "source": [
    "# Set the figure size\n",
    "plt.figure(figsize=(5, 3), dpi=150)  # Set figsize to be 5 by 3. If we define dpi=1500, the figure will be more clear.\n",
    "\n",
    "# Create a box plot for the 'table' column\n",
    "sns.boxplot(x=df['table'], color='salmon');"
   ]
  },
  {
   "cell_type": "markdown",
   "metadata": {},
   "source": [
    "When we run this code, we should see a box plot that illustrates:\n",
    "- The **``median value``** of the table column.\n",
    "- The **``interquartile range (IQR)``** represented by the box.\n",
    "- **``Whiskers``** that extend to show the range of the data, excluding outliers.\n",
    "- Any **``individual points``** that are **``considered outliers beyond the whiskers``**.\n",
    "   - Outliers are usually defined as points that fall ``below Q1−1.5×IQR`` or above `Q3+1.5×IQR``, where:\n",
    "     - ``Q1`` is the ``first quartile``, \n",
    "     - ``Q3`` is the ``third quartile``, and \n",
    "     - ``IQR`` is the ``interquartile range``.\n",
    "\n",
    "\n",
    "It is logical to examine graphical representations first to identify potential outliers. By reviewing our box plot (whisker plot), we can observe several extreme values that stand out from the rest of the data. This visual inspection helps in recognizing outlier candidates that may require further investigation or consideration in our analysis.\n",
    "\n",
    "\n",
    "\n",
    "<p style=\"background-color:#FFFFFF; font-family:newtimeroman; color:#0000FF; font-size:110%; text-align:left;\"><strong>-----------------------------------------------------------------------------------------------------------------------------------------------------------------------------------------------</strong></p>\n",
    "\n",
    "**The following code creates a ``histogram`` of the ``\"table\"`` column in the DataFrame using Seaborn.** "
   ]
  },
  {
   "cell_type": "code",
   "execution_count": 7,
   "metadata": {},
   "outputs": [
    {
     "data": {
      "text/plain": [
       "<Figure size 700x500 with 0 Axes>"
      ]
     },
     "metadata": {},
     "output_type": "display_data"
    },
    {
     "data": {
      "image/png": "[encoded data removed]",
      "text/plain": [
       "<Figure size 500x500 with 1 Axes>"
      ]
     },
     "metadata": {},
     "output_type": "display_data"
    }
   ],
   "source": [
    "# Set the figure size\n",
    "plt.figure(figsize=(7, 5))\n",
    "\n",
    "# Create a histogram for the 'table' column\n",
    "sns.displot(df['table'], bins=20, kde=False, color='salmon')\n",
    "\n",
    "# Set the title and labels\n",
    "plt.title('Histogram of Diamond Table Widths')\n",
    "plt.xlabel('Table Width')\n",
    "plt.ylabel('Frequency')\n",
    "\n",
    "# Display the plot\n",
    "plt.show()"
   ]
  },
  {
   "cell_type": "markdown",
   "metadata": {},
   "source": [
    "**Explanation:**\n",
    "   - **``Figure Size``**: The plt.figure(figsize=(15, 8)) ``sets the size`` of the plot.\n",
    "   - **``Histogram``**: sns.displot(df['table'], bins=10, kde=False) creates a histogram of the table column with ``20 bins``. The ``kde=False`` parameter ensures that the ``kernel density estimate (KDE) is NOT included``.\n",
    "   - **``Titles and Labels``**: Adding a title and axis labels helps in understanding the plot better.\n",
    "\n",
    "**Interpretation:**\n",
    "   - **``Distribution``**: The histogram will show **``how the \"table\" widths are distributed across the diamonds``**. We can observe the **``frequency of diamonds with specific table widths``**.\n",
    "   - **``Binning``**: The choice of 20 bins allows us to see the general shape of the distribution, but we can adjust the number of bins for more or less granularity.\n",
    "   \n",
    "<p style=\"background-color:#FFFFFF; font-family:newtimeroman; color:#0000FF; font-size:110%; text-align:left;\"><strong>-----------------------------------------------------------------------------------------------------------------------------------------------------------------------------------------------</strong></p>\n",
    "\n",
    "<p style=\"background-color:#FFFFFF; font-family:newtimeroman; color:#008000; font-size:120%; text-align:left;\"><strong>📌📢 REMINDER:</strong></p>\n",
    "\n",
    "- Most of the outliers we discuss in this notebook are **``univariate outliers``**, where we look at a ``data distribution`` for a **``single variable``** and find values that ``fall outside the distribution``. However, a **🧐 [scatterplot](https://seaborn.pydata.org/generated/seaborn.scatterplot.html)** can be used to detect outliers in a ``multivariate`` setting.\n",
    "\n",
    "<p style=\"background-color:#FFFFFF; font-family:newtimeroman; color:#0000FF; font-size:110%; text-align:left;\"><strong>-----------------------------------------------------------------------------------------------------------------------------------------------------------------------------------------------</strong></p>\n",
    "\n",
    "\n",
    "**In the graph below, we’re looking at ``two variables``, ``\"depth\"`` and ``\"table\"``. The ``scatterplot with regression line`` shows ``how most of the points follow the fitted line for the model``. However, as seen belove, some points does NOT fit the model well.**"
   ]
  },
  {
   "cell_type": "code",
   "execution_count": 8,
   "metadata": {},
   "outputs": [
    {
     "data": {
      "image/png": "[encoded data removed]",
      "text/plain": [
       "<Figure size 1200x500 with 1 Axes>"
      ]
     },
     "metadata": {},
     "output_type": "display_data"
    }
   ],
   "source": [
    "# Set the figure size\n",
    "plt.figure(figsize=(12, 5))\n",
    "\n",
    "# Create a regression plot for 'table' vs 'depth'\n",
    "# sns.scatterplot(data=df, x=\"table\", y=\"carat\");\n",
    "# sns.lmplot(data=df, x=\"table\", y=\"depth\");\n",
    "sns.regplot(data=df, x=\"table\", y=\"depth\", color='salmon')\n",
    "\n",
    "# Add titles and labels\n",
    "plt.title('Regression Plot of \"Table\" Width vs Depth', fontsize=16)\n",
    "plt.xlabel('Table Width')\n",
    "plt.ylabel('Depth')\n",
    "\n",
    "# Display the plot\n",
    "plt.show()"
   ]
  },
  {
   "cell_type": "code",
   "execution_count": 9,
   "metadata": {},
   "outputs": [
    {
     "data": {
      "text/plain": [
       "-0.2957785215265826"
      ]
     },
     "execution_count": 9,
     "metadata": {},
     "output_type": "execute_result"
    }
   ],
   "source": [
    "df[\"table\"].corr(df[\"depth\"])"
   ]
  },
  {
   "cell_type": "markdown",
   "metadata": {},
   "source": [
    "The **``correlation coefficient``** of approximately **``-0.296``** between the **``table``** and **``depth``** columns of your DataFrame indicates a **``weak negative correlation``**.\n",
    "\n",
    "- **depth % :** The height of a diamond, measured from the culet to the table, divided by its average girdle diameter.\n",
    "- **table % :** The width of the diamond's table expressed as a percentage of its average diameter.\n",
    "\n",
    "When we examine all visualizations above, we see that there are **``some extreme values``** in the **``80s``** and **``90s``**. \n",
    "- So how can we obtain the values of these extreme points? \n",
    "   - If we **``sort the values``** in **``ascending``** or **``descending order``**, we can obtain some information needed for analysis.\n",
    "\n",
    "<p style=\"background-color:#FFFFFF; font-family:newtimeroman; color:#0000FF; font-size:110%; text-align:left;\"><strong>-----------------------------------------------------------------------------------------------------------------------------------------------------------------------------------------------</strong></p>\n",
    "\n",
    "<p style=\"background-color:#FFFFFF; font-family:newtimeroman; color:green; font-size:125%; text-align:left;\"><strong>👉 Discover the first and last 10 observations if they differentiate from usual ones:</strong></p>\n",
    "\n",
    "\n",
    "**The following code ``sorts the values`` in the ``\"table\"`` column of the DataFrame in ``ascending order``:**"
   ]
  },
  {
   "cell_type": "code",
   "execution_count": 10,
   "metadata": {
    "id": "tg48kcHm2suk",
    "outputId": "2a7d6ddd-f06d-425d-e6fc-059c20e40197"
   },
   "outputs": [
    {
     "data": {
      "text/plain": [
       "11368    43.0\n",
       "35633    44.0\n",
       "5979     49.0\n",
       "22701    49.0\n",
       "25179    50.0\n",
       "         ... \n",
       "52861    73.0\n",
       "52860    73.0\n",
       "51342    76.0\n",
       "50773    79.0\n",
       "24932    95.0\n",
       "Name: table, Length: 53940, dtype: float64"
      ]
     },
     "execution_count": 10,
     "metadata": {},
     "output_type": "execute_result"
    }
   ],
   "source": [
    "# Sort the values in the 'table' column in ascending order\n",
    "\n",
    "df.table.sort_values(ascending=True)"
   ]
  },
  {
   "cell_type": "markdown",
   "metadata": {},
   "source": [
    "This output shows the sorted values of the table column. The index is preserved in the sorted output, which can be useful for reference.\n",
    "- **``Sorting``**: The sort_values(``ascending=True``) method sorts the table column in ``ascending order``.\n",
    "- **``Output``**: The sorted values will be displayed as a pandas Series, showing the ``table widths`` from the ``smallest to the largest``.\n",
    "\n",
    "<p style=\"background-color:#FFFFFF; font-family:newtimeroman; color:#0000FF; font-size:110%; text-align:left;\"><strong>-----------------------------------------------------------------------------------------------------------------------------------------------------------------------------------------------</strong></p>\n",
    "\n",
    "**The following code demonstrates the ``last 10 values`` of the ``\"table\"`` column sorted in ``ascending order``:**"
   ]
  },
  {
   "cell_type": "code",
   "execution_count": 11,
   "metadata": {
    "id": "TLi94rwm2suk",
    "outputId": "393fdc5a-4796-4ae6-e7c3-c9f7768f0856"
   },
   "outputs": [
    {
     "data": {
      "text/plain": [
       "23067    70.0\n",
       "43705    70.0\n",
       "44938    71.0\n",
       "51391    73.0\n",
       "49375    73.0\n",
       "52861    73.0\n",
       "52860    73.0\n",
       "51342    76.0\n",
       "50773    79.0\n",
       "24932    95.0\n",
       "Name: table, dtype: float64"
      ]
     },
     "execution_count": 11,
     "metadata": {},
     "output_type": "execute_result"
    }
   ],
   "source": [
    "# Display the last 10 values of the 'table' column sorted in ascending order\n",
    "\n",
    "df.table.sort_values(ascending=True).tail(10)"
   ]
  },
  {
   "cell_type": "markdown",
   "metadata": {},
   "source": [
    "This output displays the ``10 largest table widths`` from the dataset. \n",
    "- The values listed—ranging from **``70.0``** to **``95.0``** — indicate **``potential outliers``** in the **``table width``** of diamonds. \n",
    "  - Remember from the ``Histogram`` the **``majority of diamonds``** typically have table widths **``below 70.0``**, making these **``higher values (especially 95.0)``** notable. Such measurements are significantly greater than the common range and warrant further investigation.\n",
    "    - **``Potential Causes``**: These outliers could ``result from`` ``unique cutting styles`` or ``specific diamond types`` that deviate from standard proportions. They might also represent ``errors in measurement`` or ``data entry``.\n",
    "    - **``Impact on Analysis``**: Outliers can ``skew the analysis`` of the dataset. They may ``affect statistical calculations`` (like ``mean`` and ``standard deviation``) and visualizations (like box plots), ``leading to misinterpretations`` of the data distribution.  \n",
    "\n",
    "<hr>\n",
    "\n",
    "- **``Sorting and Tail``**: ``df['table'].sort_values(ascending=True).tail(10)`` sorts the table column in ascending order and then retrieves the last 10 values from that sorted list.\n",
    "- **``Output``**: The output will show the 10 largest values of the table widths in the dataset.\n",
    "\n",
    "<p style=\"background-color:#FFFFFF; font-family:newtimeroman; color:#0000FF; font-size:110%; text-align:left;\"><strong>-----------------------------------------------------------------------------------------------------------------------------------------------------------------------------------------------</strong></p>\n",
    "\n",
    "**The following code defines the ``indexes of the extreme values`` (the last 10 sorted values) in the table column:**"
   ]
  },
  {
   "cell_type": "code",
   "execution_count": 12,
   "metadata": {
    "id": "CxzT-Ehd2sul",
    "outputId": "c7e7b691-9598-4b5f-bcf1-9b4791adfb32"
   },
   "outputs": [
    {
     "data": {
      "text/plain": [
       "Index([23067, 43705, 44938, 51391, 49375, 52861, 52860, 51342, 50773, 24932], dtype='int64')"
      ]
     },
     "execution_count": 12,
     "metadata": {},
     "output_type": "execute_result"
    }
   ],
   "source": [
    "# Get the indexes of the last 10 values of the 'table' column sorted in ascending order\n",
    "\n",
    "df.table.sort_values(ascending=True).tail(10).index"
   ]
  },
  {
   "cell_type": "markdown",
   "metadata": {},
   "source": [
    "This output displays the last 10 values from the table column after sorting them in ascending order. It is useful for quickly examining the largest values in a dataset.\n",
    "\n",
    "- **``df.table``**: Accesses the table column in the DataFrame df.\n",
    "- **``.sort_values(ascending=True)``**: Sorts the values in the table column in ascending order.\n",
    "- **``.tail(10)``**: Retrieves the last 10 entries from the sorted result.\n",
    "\n",
    "<p style=\"background-color:#FFFFFF; font-family:newtimeroman; color:#0000FF; font-size:110%; text-align:left;\"><strong>-----------------------------------------------------------------------------------------------------------------------------------------------------------------------------------------------</strong></p>\n",
    "\n",
    "**The following expression ``retrieves the indices of the last 10 entries`` from the sorted table column of the DataFrame.**"
   ]
  },
  {
   "cell_type": "code",
   "execution_count": 13,
   "metadata": {
    "id": "xj-UYU-i2sul",
    "outputId": "ce331d00-294e-4007-8575-1e90969427c8"
   },
   "outputs": [
    {
     "data": {
      "text/plain": [
       "Index([23067, 43705, 44938, 51391, 49375, 52861, 52860, 51342, 50773, 24932], dtype='int64')"
      ]
     },
     "execution_count": 13,
     "metadata": {},
     "output_type": "execute_result"
    }
   ],
   "source": [
    "# Get the indices of the last 10 sorted values in the 'table' column\n",
    "tail_index = df.table.sort_values(ascending=True).tail(10).index\n",
    "\n",
    "# Display the indices\n",
    "tail_index"
   ]
  },
  {
   "cell_type": "markdown",
   "metadata": {},
   "source": [
    "The tail_index variable contains the indices of the last 10 entries after sorting the table column. This can be useful for referencing the original DataFrame or for further data manipulation.\n",
    "\n",
    "- **``df.table``**: Accesses the table column in the DataFrame df.\n",
    "- **``.sort_values(ascending=True)``**: Sorts the values in the table column in ascending order.\n",
    "- **``.tail(10)``**: Gets the last 10 entries from the sorted result.\n",
    "- **``.index``**: Extracts the indices of these last 10 entries.\n",
    "\n",
    "<p style=\"background-color:#FFFFFF; font-family:newtimeroman; color:#0000FF; font-size:110%; text-align:left;\"><strong>-----------------------------------------------------------------------------------------------------------------------------------------------------------------------------------------------</strong></p>\n",
    "\n",
    "**The following expression ``selects rows`` from the DataFrame ``based on the indices stored in the tail_index variable``.**"
   ]
  },
  {
   "cell_type": "code",
   "execution_count": 14,
   "metadata": {
    "id": "eaIbnaD-2sul",
    "outputId": "f6d793bc-a2b6-496b-c88a-1f0215007863"
   },
   "outputs": [
    {
     "data": {
      "text/html": [
       "<div>\n",
       "<style scoped>\n",
       "    .dataframe tbody tr th:only-of-type {\n",
       "        vertical-align: middle;\n",
       "    }\n",
       "\n",
       "    .dataframe tbody tr th {\n",
       "        vertical-align: top;\n",
       "    }\n",
       "\n",
       "    .dataframe thead th {\n",
       "        text-align: right;\n",
       "    }\n",
       "</style>\n",
       "<table border=\"1\" class=\"dataframe\">\n",
       "  <thead>\n",
       "    <tr style=\"text-align: right;\">\n",
       "      <th></th>\n",
       "      <th>carat</th>\n",
       "      <th>depth</th>\n",
       "      <th>table</th>\n",
       "      <th>price</th>\n",
       "      <th>x</th>\n",
       "      <th>y</th>\n",
       "      <th>z</th>\n",
       "    </tr>\n",
       "  </thead>\n",
       "  <tbody>\n",
       "    <tr>\n",
       "      <th>23067</th>\n",
       "      <td>1.51</td>\n",
       "      <td>58.4</td>\n",
       "      <td>70.0</td>\n",
       "      <td>11102</td>\n",
       "      <td>7.55</td>\n",
       "      <td>7.39</td>\n",
       "      <td>4.36</td>\n",
       "    </tr>\n",
       "    <tr>\n",
       "      <th>43705</th>\n",
       "      <td>0.67</td>\n",
       "      <td>57.2</td>\n",
       "      <td>70.0</td>\n",
       "      <td>1436</td>\n",
       "      <td>5.82</td>\n",
       "      <td>5.75</td>\n",
       "      <td>3.31</td>\n",
       "    </tr>\n",
       "    <tr>\n",
       "      <th>44938</th>\n",
       "      <td>0.68</td>\n",
       "      <td>58.0</td>\n",
       "      <td>71.0</td>\n",
       "      <td>1633</td>\n",
       "      <td>5.85</td>\n",
       "      <td>5.70</td>\n",
       "      <td>3.35</td>\n",
       "    </tr>\n",
       "    <tr>\n",
       "      <th>51391</th>\n",
       "      <td>0.71</td>\n",
       "      <td>55.6</td>\n",
       "      <td>73.0</td>\n",
       "      <td>2368</td>\n",
       "      <td>6.01</td>\n",
       "      <td>5.96</td>\n",
       "      <td>3.33</td>\n",
       "    </tr>\n",
       "    <tr>\n",
       "      <th>49375</th>\n",
       "      <td>0.70</td>\n",
       "      <td>62.0</td>\n",
       "      <td>73.0</td>\n",
       "      <td>2100</td>\n",
       "      <td>5.65</td>\n",
       "      <td>5.54</td>\n",
       "      <td>3.47</td>\n",
       "    </tr>\n",
       "    <tr>\n",
       "      <th>52861</th>\n",
       "      <td>0.50</td>\n",
       "      <td>79.0</td>\n",
       "      <td>73.0</td>\n",
       "      <td>2579</td>\n",
       "      <td>5.21</td>\n",
       "      <td>5.18</td>\n",
       "      <td>4.09</td>\n",
       "    </tr>\n",
       "    <tr>\n",
       "      <th>52860</th>\n",
       "      <td>0.50</td>\n",
       "      <td>79.0</td>\n",
       "      <td>73.0</td>\n",
       "      <td>2579</td>\n",
       "      <td>5.21</td>\n",
       "      <td>5.18</td>\n",
       "      <td>4.09</td>\n",
       "    </tr>\n",
       "    <tr>\n",
       "      <th>51342</th>\n",
       "      <td>0.79</td>\n",
       "      <td>65.3</td>\n",
       "      <td>76.0</td>\n",
       "      <td>2362</td>\n",
       "      <td>5.52</td>\n",
       "      <td>5.13</td>\n",
       "      <td>3.35</td>\n",
       "    </tr>\n",
       "    <tr>\n",
       "      <th>50773</th>\n",
       "      <td>0.81</td>\n",
       "      <td>68.8</td>\n",
       "      <td>79.0</td>\n",
       "      <td>2301</td>\n",
       "      <td>5.26</td>\n",
       "      <td>5.20</td>\n",
       "      <td>3.58</td>\n",
       "    </tr>\n",
       "    <tr>\n",
       "      <th>24932</th>\n",
       "      <td>2.01</td>\n",
       "      <td>58.6</td>\n",
       "      <td>95.0</td>\n",
       "      <td>13387</td>\n",
       "      <td>8.32</td>\n",
       "      <td>8.31</td>\n",
       "      <td>4.87</td>\n",
       "    </tr>\n",
       "  </tbody>\n",
       "</table>\n",
       "</div>"
      ],
      "text/plain": [
       "       carat  depth  table  price     x     y     z\n",
       "23067   1.51   58.4   70.0  11102  7.55  7.39  4.36\n",
       "43705   0.67   57.2   70.0   1436  5.82  5.75  3.31\n",
       "44938   0.68   58.0   71.0   1633  5.85  5.70  3.35\n",
       "51391   0.71   55.6   73.0   2368  6.01  5.96  3.33\n",
       "49375   0.70   62.0   73.0   2100  5.65  5.54  3.47\n",
       "52861   0.50   79.0   73.0   2579  5.21  5.18  4.09\n",
       "52860   0.50   79.0   73.0   2579  5.21  5.18  4.09\n",
       "51342   0.79   65.3   76.0   2362  5.52  5.13  3.35\n",
       "50773   0.81   68.8   79.0   2301  5.26  5.20  3.58\n",
       "24932   2.01   58.6   95.0  13387  8.32  8.31  4.87"
      ]
     },
     "execution_count": 14,
     "metadata": {},
     "output_type": "execute_result"
    }
   ],
   "source": [
    "# Select the rows from the DataFrame using the tail_index\n",
    "\n",
    "df.loc[tail_index]"
   ]
  },
  {
   "cell_type": "markdown",
   "metadata": {},
   "source": [
    "The output returns the rows from the DataFrame that correspond to the indices stored in tail_index. This allows us to easily access specific rows based on previously calculated indices.\n",
    "\n",
    "- **``df``**: This is our original DataFrame.\n",
    "- **``.loc``**: This is a Pandas method used for accessing a group of rows and columns by labels or a boolean array.\n",
    "- **``tail_index``**: This variable contains the indices of the last 10 sorted values from the table column.\n",
    "\n",
    "**Interpretation:**\n",
    "For example; when we compare the **``observation``** at the **``index number 24932``** with other observations, we see that the **``values``** in the columns, particularly **``\"table\"``** and **``\"price\"``** ones (**``95``** and **``13387``** respectively), are **``compatible with each other``**. \n",
    "- Therefore, we can assume that the values about this observation **``might NOT faulty``** and this value can ``be assessed as an extreme value`` rather than an outlier resulting from errors in measurement or data entry.\n",
    "   - **``Depending on our analysis goals``**, we may choose to **``include``** or **``exclude``** this observation.\n",
    "     - If we're looking for general trends, excluding them might provide a clearer picture.\n",
    "     - However, if we're interested in understanding the full range of diamond characteristics, including them could be beneficial.\n",
    "\n",
    "\n",
    "\n",
    "<p style=\"background-color:#FFFFFF; font-family:newtimeroman; color:#0000FF; font-size:110%; text-align:left;\"><strong>-----------------------------------------------------------------------------------------------------------------------------------------------------------------------------------------------</strong></p>\n",
    "\n",
    "\n",
    "<p style=\"background-color:#FFFFFF; font-family:newtimeroman; color:green; font-size:125%; text-align:left;\">👉 REMINDER FROM PEARDECK SLIDES: An assumption of many multivariate statistical analysis, such as Multiple linear regression, is that there are NO multivariate outliers. Multivariate outliers are observations that deviate significantly from the overall pattern of the data when considering multiple variables simultaneously. Unlike univariate outliers, which are identified based on a single variable, multivariate outliers are assessed based on the relationships among several variables.</p>\n",
    "\n",
    "\n",
    "\n",
    "<p style=\"background-color:#FFFFFF; font-family:newtimeroman; color:#0000FF; font-size:110%; text-align:left;\"><strong>-----------------------------------------------------------------------------------------------------------------------------------------------------------------------------------------------</strong></p>\n",
    "\n",
    "<p style=\"background-color:#FFFFFF; font-family:newtimeroman; color:green; font-size:125%; text-align:left;\"><strong>👉 Analytical Assessments:</strong></p>\n",
    "\n",
    "\n",
    "### <p style=\"background-color:#FFFFFF; font-family:newtimeroman; color:#0000FF; font-size:125%; text-align:left;\"><strong>Detecting Outliers with Tukey's Fences | Tukey's Rule:</strong></p>\n",
    "\n",
    "- Once potential outliers have been identified, we need to decide how best to address them. There is **``NO single best practice for determining what to do``**. Potential outliers provide a starting point for further investigation.\n",
    "\n",
    "- There are **``many techniques for detecting outliers``** and **``NO single approach can work for all cases``**. This part of our study describes an often useful approach based on the **``interquartile/Tukey fence method``** for outlier detection.\n",
    "\n",
    "- **``Other common methods for outlier detection are sensitive to extreme values``** and can perform poorly when applied to skewed distributions. The **``Tukey fence method is resistant to extreme values``** and applies to both normal and slightly skewed distributions.\n",
    "\n",
    "- In “Exploratory Data Analysis” by John W. Tukey (1977), a multiplier of 1.5 was proposed for labeling outliers. Tukey's rule says that;\n",
    "  - the outliers are values more than 1.5 times the 🧐 **[interquartile range](https://sphweb.bumc.bu.edu/otlt/mph-modules/bs/bs704_summarizingdata/bs704_summarizingdata7.html)** from the quartiles — either below Q1 − 1.5IQR, or above Q3 + 1.5IQR. \n",
    "\n",
    "<img src=https://i.ibb.co/dP2DdHN/Tukey-s-Method.png width=\"500\" height=\"150\">\n",
    "\n",
    "- ``Minimum value``: The smallest value in the data set (Q1–1.5*IQR)\n",
    "- ``First quartile``: The value below which the lower 25% of the data are contained (Q1)\n",
    "- ``Median value``: The middle number in a range of numbers (Q2)\n",
    "- ``Third quartile``: The value above which the upper 25% of the data are contained (Q3)\n",
    "- ``Maximum value``: The largest value in the data set (Q3+1.5*IQR)\n",
    "- ``InterQuartile Range(IQR)``: Range of observations in a dataset (Q3-Q1)\n",
    "\n",
    "This method is particularly useful for indicating whether a distribution is skewed and whether there are potential unusual observations in the data set.\n",
    "\n",
    "**🧐 [Practical Guide to Outlier Detection Methods](https://towardsdatascience.com/practical-guide-to-outlier-detection-methods-6b9f947a161e)**\n",
    "\n",
    "<p style=\"background-color:#FFFFFF; font-family:newtimeroman; color:#0000FF; font-size:110%; text-align:left;\"><strong>-----------------------------------------------------------------------------------------------------------------------------------------------------------------------------------------------</strong></p>\n",
    "\n",
    "\n",
    "## <p style=\"background-color:#FFFFFF; font-family:newtimeroman; color:#0000FF; font-size:100%; text-align:left;\"><strong>1. First way of specifying Q1 & Q3 is using the ``.quantile()`` method:</strong></p>\n",
    "\n",
    "\n",
    "**The following code calculates the first quartile (Q1), third quartile (Q3), and the interquartile range (IQR) for the table column in the DataFrame.**"
   ]
  },
  {
   "cell_type": "code",
   "execution_count": 15,
   "metadata": {},
   "outputs": [
    {
     "name": "stdout",
     "output_type": "stream",
     "text": [
      "Q1: 56.0 Q3: 59.0\n",
      "IQR: 3.0\n"
     ]
    }
   ],
   "source": [
    "# Calculate Q1 and Q3\n",
    "Q1, Q3 = df[\"table\"].quantile([0.25, 0.75])\n",
    "print(\"Q1:\", Q1, \"Q3:\", Q3)\n",
    "\n",
    "# Calculate IQR\n",
    "IQR = Q3 - Q1\n",
    "print(\"IQR:\", IQR)"
   ]
  },
  {
   "cell_type": "markdown",
   "metadata": {},
   "source": [
    "- **``Q1``**: The value corresponding to **``25 percent (1st Quartile)``** in the ``\"table\"`` column is **``56``**\n",
    "   - **``Q1 (25th percentile)``**: A value of 56.0 indicates that **``25% of the diamonds``** have a ``table width`` **``less than or equal to 56.0``**. This suggests that a significant portion of the dataset consists of diamonds with narrower table widths.\n",
    "<hr>\n",
    "\n",
    "- **``Q3``**: The value corresponding to **``75 percent (3th Quartile)``** in the ``\"table\"`` column is **``59``**\n",
    "   - **``Q3 (75th percentile)``**: A value of 59.0 indicates that **``75% of the diamonds``** have a ``table width`` **``less than or equal to 59.0``**. This shows that **``the majority of diamonds fall within this range``**, with few exceeding this width.\n",
    "<hr>\n",
    "\n",
    "- **``Interquartile Range (IQR)``**: The IQR of 3.0 (calculated as Q3 - Q1) represents the range within which the middle 50% of the data lies. An IQR of **``3.0``** suggests a **``relatively narrow spread``** of values in the table widths among the central portion of the dataset. \n",
    "   - The **``relatively narrow IQR``** indicates that **``most diamonds have table widths clustered closely around the median``**, reflecting a **``specific trend``** or **``standard in diamond cutting practices``**.\n",
    "<hr>\n",
    "\n",
    "**🧐 [What Interquartile Range Tells?](https://en.wikipedia.org/wiki/Interquartile_range)**\n",
    "\n",
    "- In descriptive statistics, the **``interquartile range``** is a **``measure of statistical dispersion``**, which is the spread of the data. It tells us the **``spread of the middle half of our distribution``**. Quartiles segment any distribution that's ordered from low to high into **``four equal parts``**. The **``interquartile range (IQR)``** contains the **``second``** and **``third quartiles``**, or the**`` middle half of our dataset``**.\n",
    "\n",
    "<p style=\"background-color:#FFFFFF; font-family:newtimeroman; color:#0000FF; font-size:110%; text-align:left;\"><strong>-----------------------------------------------------------------------------------------------------------------------------------------------------------------------------------------------</strong></p>\n",
    "\n"
   ]
  },
  {
   "cell_type": "code",
   "execution_count": 16,
   "metadata": {
    "id": "5mPep7sBDyz1",
    "outputId": "b7304132-be74-4d65-91e0-ae1795d06230"
   },
   "outputs": [
    {
     "data": {
      "text/plain": [
       "56.0"
      ]
     },
     "execution_count": 16,
     "metadata": {},
     "output_type": "execute_result"
    }
   ],
   "source": [
    "# Display First Quartile\n",
    "\n",
    "Q1"
   ]
  },
  {
   "cell_type": "markdown",
   "metadata": {},
   "source": [
    "**``Q1, or the first quartile``**, is a statistical measure and the **``median of the lower half of the data``** that represents the **``value below which 25% of the data points in a dataset fall``**. It effectively divides the lowest 25% of the dataset from the rest.\n",
    "\n",
    "- **``Importance``**: Q1 helps in understanding the distribution of the dataset and is often used in conjunction with other statistics (like Q3 and the interquartile range) to identify outliers and assess data spread.\n",
    "\n",
    "<p style=\"background-color:#FFFFFF; font-family:newtimeroman; color:#0000FF; font-size:110%; text-align:left;\"><strong>-----------------------------------------------------------------------------------------------------------------------------------------------------------------------------------------------</strong></p>\n",
    "\n"
   ]
  },
  {
   "cell_type": "code",
   "execution_count": 17,
   "metadata": {
    "id": "jDzjq7aLDyz1",
    "outputId": "8fd7a404-f36b-4fe7-cc98-c35c63394bd8"
   },
   "outputs": [
    {
     "data": {
      "text/plain": [
       "59.0"
      ]
     },
     "execution_count": 17,
     "metadata": {},
     "output_type": "execute_result"
    }
   ],
   "source": [
    "# Display Third Quartile\n",
    "\n",
    "Q3"
   ]
  },
  {
   "cell_type": "markdown",
   "metadata": {},
   "source": [
    "**``Q3, or the third quartile``**, is a statistical measure and the **``median of the upper half of the data``** that represents the **``value below which 75% of the data points in a dataset fall``**. It effectively divides the highest 25% of the dataset from the rest.\n",
    "\n",
    "- **``Importance``**: Q3 helps in understanding the distribution of the dataset and is often used in conjunction with Q1 (the first quartile) to calculate the interquartile range (IQR), which is useful for identifying outliers.\n",
    "\n",
    "<p style=\"background-color:#FFFFFF; font-family:newtimeroman; color:#0000FF; font-size:110%; text-align:left;\"><strong>-----------------------------------------------------------------------------------------------------------------------------------------------------------------------------------------------</strong></p>\n",
    "\n"
   ]
  },
  {
   "cell_type": "code",
   "execution_count": 18,
   "metadata": {
    "id": "jAEx9SCEDyz1",
    "outputId": "86bd153e-a7aa-480b-9753-21f34b2bec87"
   },
   "outputs": [
    {
     "data": {
      "text/plain": [
       "3.0"
      ]
     },
     "execution_count": 18,
     "metadata": {},
     "output_type": "execute_result"
    }
   ],
   "source": [
    "# Display Inter-Quartile Range\n",
    "\n",
    "IQR"
   ]
  },
  {
   "cell_type": "markdown",
   "metadata": {},
   "source": [
    "**``IQR, or the Interquartile Range``**, is a statistical measure that represents the range of the middle 50% of a dataset. It is calculated as the difference between the third quartile (Q3) and the first quartile (Q1):\n",
    "\n",
    "- **``Measures Spread``**: IQR provides insights into the variability or spread of the central portion of the data, helping to understand the distribution.\n",
    "- **``Outlier Detection``**: It is commonly used to identify outliers. An outlier is often defined as a data point that lies outside of 1.5×IQR above Q3 or below Q1.\n",
    "\n",
    "<p style=\"background-color:#FFFFFF; font-family:newtimeroman; color:#0000FF; font-size:110%; text-align:left;\"><strong>-----------------------------------------------------------------------------------------------------------------------------------------------------------------------------------------------</strong></p>\n",
    "\n"
   ]
  },
  {
   "cell_type": "markdown",
   "metadata": {
    "id": "WUIlcKQNDyz2"
   },
   "source": [
    "## <p style=\"background-color:#FFFFFF; font-family:newtimeroman; color:#0000FF; font-size:100%; text-align:left;\"><strong>2. Second way of specifying Q1 & Q3 is using the ``.describe()`` method:</strong></p>\n",
    "\n",
    "- Using the **``.describe()``** method in pandas provides a **``quick statistical summary``** of the DataFrame's column, including key metrics like **``count``**, **``mean``**, **``standard deviation``**, **``minimum``**, **``maximum``**, and the **``quartiles (Q1 and Q3)``**. "
   ]
  },
  {
   "cell_type": "code",
   "execution_count": 19,
   "metadata": {
    "id": "UV1SypysDyz2",
    "outputId": "77086cac-f7d3-4876-bea1-d0acc49a6041"
   },
   "outputs": [
    {
     "data": {
      "text/plain": [
       "count    53940.000000\n",
       "mean        57.457184\n",
       "std          2.234491\n",
       "min         43.000000\n",
       "25%         56.000000\n",
       "50%         57.000000\n",
       "75%         59.000000\n",
       "max         95.000000\n",
       "Name: table, dtype: float64"
      ]
     },
     "execution_count": 19,
     "metadata": {},
     "output_type": "execute_result"
    }
   ],
   "source": [
    "# Get descriptive statistics for the 'table' column\n",
    "\n",
    "df.table.describe()"
   ]
  },
  {
   "cell_type": "markdown",
   "metadata": {},
   "source": [
    "The **``describe()``** method provides a quick and comprehensive summary of the main statistical properties of the table column. This summary is particularly useful for exploratory data analysis, allowing us to understand the data's **``central tendency``** and **``variability``** at a glance.\n",
    "\n",
    "**Explanation of the Output:**\n",
    "- **``Count``**: Total number of entries (rows) in the table column.\n",
    "- **``Mean``**: The average table width across all diamonds, which gives a sense of the central tendency.\n",
    "- **``Standard Deviation (std)``**: Indicates the spread of the table widths around the mean; a lower value suggests that the widths are more closely clustered around the mean.\n",
    "- **``Minimum and Maximum``**: The smallest and largest table widths, providing context for the range of values in the dataset.\n",
    "- **``25% (Q1)``**: The **``first quartile``** value (56.0), which is the same as calculated earlier.\n",
    "- **``50% (Median)``**: The **``median``** value (57.0), indicating the midpoint of the data.\n",
    "- **``75% (Q3)``**: The **``third quartile``** value (59.0), also consistent with the previous calculation.\n",
    "\n",
    "<p style=\"background-color:#FFFFFF; font-family:newtimeroman; color:#0000FF; font-size:110%; text-align:left;\"><strong>-----------------------------------------------------------------------------------------------------------------------------------------------------------------------------------------------</strong></p>\n",
    "\n",
    "**The following code ``calculates the first quartile (Q1)``, ``third quartile (Q3)``, and the ``interquartile range (IQR)`` using the output of the describe() method from the ``table column`` of the DataFrame.**"
   ]
  },
  {
   "cell_type": "code",
   "execution_count": 20,
   "metadata": {},
   "outputs": [
    {
     "name": "stdout",
     "output_type": "stream",
     "text": [
      "Q1: 56.0 Q3: 59.0\n",
      "IQR: 3.0\n"
     ]
    }
   ],
   "source": [
    "# Get Q1 and Q3 from the describe method\n",
    "Q1 = df.table.describe().loc[\"25%\"]  # retrieves the first quartile (25th percentile).\n",
    "Q3 = df.table.describe().loc[\"75%\"]  # retrieves the first quartile (75th percentile).\n",
    "print(\"Q1:\", Q1, \"Q3:\", Q3)\n",
    "\n",
    "# Calculate IQR\n",
    "IQR = Q3 - Q1  # calculates IQR by subtracting Q1 from Q3.\n",
    "\n",
    "# Print the IQR\n",
    "print(\"IQR:\", IQR)"
   ]
  },
  {
   "cell_type": "markdown",
   "metadata": {},
   "source": [
    "The **``IQR``** provides a **``measure of statistical dispersion``** and is useful for **``identifying outliers``** in the dataset. By using the describe() method, we efficiently calculate Q1 and Q3 along with other statistical measures.\n",
    "\n",
    "- **``Extracting Q1 and Q3:``**\n",
    "  - **``Q1 = df.table.describe().loc[\"25%\"]``** retrieves the **``first quartile``** (**``25th percentile``**).\n",
    "  - **``Q3 = df.table.describe().loc[\"75%\"]``** retrieves the **``third quartile``** (**``75th percentile``**).\n",
    "- **``Calculating IQR``**: The **``IQR``** is calculated by **``subtracting Q1 from Q3``**.\n",
    "\n",
    "<p style=\"background-color:#FFFFFF; font-family:newtimeroman; color:#0000FF; font-size:110%; text-align:left;\"><strong>-----------------------------------------------------------------------------------------------------------------------------------------------------------------------------------------------</strong></p>\n",
    "\n",
    "## <p style=\"background-color:#FFFFFF; font-family:newtimeroman; color:#0000FF; font-size:100%; text-align:left;\"><strong>3. Third way of specifying IQR is using the ``scipy.stats.iqr()`` method:</strong></p>\n",
    "\n",
    "**The following code snippet ``calculates the interquartile range (IQR)`` using the ``scipy.stats.iqr`` function.**\n",
    "- This is a convenient way to compute the IQR without manually calculating Q1 and Q3."
   ]
  },
  {
   "cell_type": "code",
   "execution_count": 21,
   "metadata": {
    "id": "aohb8k9v2sun",
    "outputId": "78341ce1-560c-4196-f64d-c15324888dd0"
   },
   "outputs": [
    {
     "name": "stdout",
     "output_type": "stream",
     "text": [
      "IQR: 3.0\n"
     ]
    }
   ],
   "source": [
    "from scipy import stats\n",
    "\n",
    "# Calculate the IQR using scipy.stats.iqr()\n",
    "IQR = stats.iqr(df['table'])\n",
    "\n",
    "# Print the IQR\n",
    "print(\"IQR:\", IQR)"
   ]
  },
  {
   "cell_type": "markdown",
   "metadata": {},
   "source": [
    "Using the **``scipy.stats.iqr()``** method provides a **``quick and efficient way to calculate the IQR``**. This method **``confirms the previous calculations of the IQR``**, which is **``3.0``**, helping to identify the **``spread of the middle 50% of the table widths``** in the diamonds dataset.\n",
    "\n",
    "- **``from scipy import stats``**: This **``imports the stats module from the SciPy library``**, which contains a variety of statistical functions.\n",
    "- **``IQR = stats.iqr(df['table'])``**: This calculates the IQR for the table column in the DataFrame. The **``iqr()``** function **``computes the difference between the 75th percentile (Q3) and the 25th percentile (Q1)``**.\n",
    "\n",
    "<p style=\"background-color:#FFFFFF; font-family:newtimeroman; color:#0000FF; font-size:110%; text-align:left;\"><strong>-----------------------------------------------------------------------------------------------------------------------------------------------------------------------------------------------</strong></p>\n",
    "\n",
    "<p style=\"background-color:#FFFFFF; font-family:newtimeroman; color:green; font-size:125%; text-align:left;\"><strong>👉 Defining the Potential Outliers:</strong></p>\n",
    "\n",
    "\n",
    "**The following code defines the ``lower`` and ``upper limits`` for ``identifying potential outliers`` based on the interquartile range (IQR).**\n",
    "- This approach uses the previously calculated values of ``Q1``, ``Q3``, and ``IQR`` to establish the thresholds:"
   ]
  },
  {
   "cell_type": "code",
   "execution_count": 22,
   "metadata": {
    "id": "wxI3qeX4Dyz2"
   },
   "outputs": [
    {
     "name": "stdout",
     "output_type": "stream",
     "text": [
      "Lower Limit: 51.5\n",
      "Upper Limit: 63.5\n"
     ]
    }
   ],
   "source": [
    "# Define the lower and upper limits\n",
    "lower_lim = Q1 - 1.5 * IQR\n",
    "upper_lim = Q3 + 1.5 * IQR\n",
    "\n",
    "# Print the limits\n",
    "print(\"Lower Limit:\", lower_lim)\n",
    "print(\"Upper Limit:\", upper_lim)"
   ]
  },
  {
   "cell_type": "markdown",
   "metadata": {},
   "source": [
    "These limits (Upper and Lower) can be **``used to identify potential outliers``** in the **``table widths of diamonds``**. **``Any values below the lower limit or above the upper limit may be considered outliers``** and warrant further investigation. \n",
    "\n",
    "- **``Lower Limit``**: lower_lim = **``Q1 - 1.5 * IQR``** calculates the **``threshold``** below which values are considered potential outliers.\n",
    "- **``Upper Limit``**: upper_lim = **``Q3 + 1.5 * IQR``** calculates the **``threshold``** above which values are considered potential outliers.\n",
    "\n",
    "<p style=\"background-color:#FFFFFF; font-family:newtimeroman; color:#0000FF; font-size:110%; text-align:left;\"><strong>-----------------------------------------------------------------------------------------------------------------------------------------------------------------------------------------------</strong></p>\n",
    "\n",
    "<p style=\"background-color:#FFFFFF; font-family:newtimeroman; color:green; font-size:125%; text-align:left;\"><strong>👉 Potential Outliers BELOW Lower Whisker Boundry:</strong></p>\n",
    "\n",
    "\n",
    "**The following code ``counts how many values`` in the table column are ``below the lower limit``:**"
   ]
  },
  {
   "cell_type": "code",
   "execution_count": 23,
   "metadata": {},
   "outputs": [
    {
     "name": "stdout",
     "output_type": "stream",
     "text": [
      "Number of observations below the limits: 16\n"
     ]
    }
   ],
   "source": [
    "# Count how many values are below the lower limit\n",
    "\n",
    "potential_below_limit = (df[\"table\"] < lower_lim).sum()  # We calculated how many values are under lower limit\n",
    "\n",
    "# Print the result using an f-string\n",
    "print(f\"Number of observations below the limits: {potential_below_limit}\")"
   ]
  },
  {
   "cell_type": "markdown",
   "metadata": {},
   "source": [
    "**``Lower Outliers (16 values):``**\n",
    "- The presence of **``16``** values **``below the lower limit``** indicates that there are **``some diamonds with exceptionally narrow table widths``**, which may be **``considered potential outliers``**. This suggests that these diamonds deviate significantly from the typical range of table widths found in the dataset.\n",
    "- These outliers warrant further investigation to determine;\n",
    "   - ``if they represent valid measurements`` or \n",
    "   - ``if they may be errors in data collection``.\n",
    "<hr>\n",
    "\n",
    "- **``Condition``**: The expression **``(df['table'] < lower_lim)``** evaluates to a boolean Series, where each entry is **``True if the corresponding value in the table column is below the lower limit``** and **``False otherwise``**.\n",
    "- **``Count``**: The **``.sum()``** method **``counts the number of True values``** in this Series, giving you the total count of values below the lower limit.\n",
    "\n",
    "<p style=\"background-color:#FFFFFF; font-family:newtimeroman; color:#0000FF; font-size:110%; text-align:left;\"><strong>-----------------------------------------------------------------------------------------------------------------------------------------------------------------------------------------------</strong></p>\n",
    "\n",
    "<p style=\"background-color:#FFFFFF; font-family:newtimeroman; color:green; font-size:125%; text-align:left;\"><strong>👉 Potential Outliers ABOVE Upper Whisker Boundry:</strong></p>\n",
    "\n",
    "\n",
    "**The following code ``counts how many values`` in the table column are ``above the upper limit``:**"
   ]
  },
  {
   "cell_type": "code",
   "execution_count": 24,
   "metadata": {},
   "outputs": [
    {
     "name": "stdout",
     "output_type": "stream",
     "text": [
      "Number of observations above the limits: 589\n"
     ]
    }
   ],
   "source": [
    "# Count how many values are above the upper limit\n",
    "\n",
    "potential_above_limit = (df[\"table\"] > upper_lim).sum()  # We calculated how many values are above upper limit\n",
    "\n",
    "# Print the result using an f-string\n",
    "print(f\"Number of observations above the limits: {potential_above_limit}\")"
   ]
  },
  {
   "cell_type": "markdown",
   "metadata": {},
   "source": [
    "**``Upper Outliers (589 values):``**\n",
    "- The count of **``589``** values **``above the upper limit``** is substantial, indicating a **``significant number of diamonds with unusually wide table widths``**. This suggests that a ``large portion of the dataset falls outside the typical range``.\n",
    "- Such a high number of upper outliers could reflect;\n",
    "   - a trend in diamond cutting techniques or styles that favor wider tables, or \n",
    "   - it may indicate measurement errors or anomalies in the dataset.\n",
    "<hr>\n",
    "\n",
    "- **``Condition``**: The expression **``(df['table'] > upper_lim)``** creates a boolean Series where each value is **``True if it is greater than the upper limit``** and **``False otherwise``**.\n",
    "- **``Count``**: The **``.sum()``** method counts the **``number of True values``** in this Series, giving you the total count of values above the upper limit.\n",
    "\n",
    "<p style=\"background-color:#FFFFFF; font-family:newtimeroman; color:#0000FF; font-size:110%; text-align:left;\"><strong>-----------------------------------------------------------------------------------------------------------------------------------------------------------------------------------------------</strong></p>\n",
    "\n",
    "<p style=\"background-color:#FFFFFF; font-family:newtimeroman; color:green; font-size:125%; text-align:left;\"><strong>👉 Total Potential Outliers ABOVE & BELOW Whisker Boundries:</strong></p>\n",
    "\n",
    "\n",
    "**The following code counts the ``total number of potential outliers`` in the table column (``both below the lower limit and above the upper limit``):**"
   ]
  },
  {
   "cell_type": "code",
   "execution_count": 25,
   "metadata": {},
   "outputs": [
    {
     "data": {
      "text/plain": [
       "605"
      ]
     },
     "execution_count": 25,
     "metadata": {},
     "output_type": "execute_result"
    }
   ],
   "source": [
    "# Let's see how many total potential outliers there are\n",
    "\n",
    "df[\"table\"][(df[\"table\"] < lower_lim) | (df[\"table\"] > upper_lim)].count()"
   ]
  },
  {
   "cell_type": "markdown",
   "metadata": {},
   "source": [
    "The **``presence of 605 potential outliers``** in the table widths indicates a **``considerable portion of diamonds``** (01,12%) in the dataset **``fall outside the typical range``** defined by the interquartile limits.\n",
    "\n",
    "\n",
    "<p style=\"background-color:#FFFFFF; font-family:newtimeroman; color:#0000FF; font-size:110%; text-align:left;\"><strong>-----------------------------------------------------------------------------------------------------------------------------------------------------------------------------------------------</strong></p>\n",
    "\n",
    "<p style=\"background-color:#FFFFFF; font-family:newtimeroman; color:green; font-size:125%; text-align:left;\"><strong>👉 How many observations are in the IQR (Not Outliers):</strong></p>\n",
    "\n",
    "\n",
    "**The following code counts the ``number of observations NOT defined as outliers`` in the table column (``between below the lower limit and above the upper limit``):**"
   ]
  },
  {
   "cell_type": "code",
   "execution_count": 26,
   "metadata": {},
   "outputs": [
    {
     "name": "stdout",
     "output_type": "stream",
     "text": [
      "Number of observations within the limits: 53335\n"
     ]
    }
   ],
   "source": [
    "# Let us check how many observations NOT defined as outliers we have\n",
    "\n",
    "# Count the number of observations within the limits\n",
    "num_within_limits = df.table[~((df.table < lower_lim) | (df.table > upper_lim))].count()\n",
    "\n",
    "# Print the result using an f-string\n",
    "print(f\"Number of observations within the limits: {num_within_limits}\")"
   ]
  },
  {
   "cell_type": "markdown",
   "metadata": {},
   "source": [
    "- **``Majority of the Data``**:\n",
    "  - The figure of **``53,335 non-outlier observations``** indicates that **``most of the diamonds in the dataset fall within the acceptable range``** of table widths as defined by the interquartile limits.\n",
    "  - This suggests that the dataset is predominantly made up of diamonds with table widths that conform to **``typical standards``**, which can provide a solid basis for analysis.\n",
    "- **``Data Distribution``**:\n",
    "  - With a **``total of 53,335 observations NOT classified as outliers``** compared to 605 potential outliers, it is clear that the **``distribution of table widths``** is **``heavily weighted toward the central range``**.\n",
    "  - This distribution can provide reliable insights into general trends and characteristics of diamonds in this dataset.\n",
    "  \n",
    "The identification of 53,335 non-outlier observations highlights the **``stability``** and **``reliability``** of the dataset for analysis. This majority allows for meaningful conclusions about typical diamond characteristics.\n",
    "\n",
    "<p style=\"background-color:#FFFFFF; font-family:newtimeroman; color:#0000FF; font-size:110%; text-align:left;\"><strong>-----------------------------------------------------------------------------------------------------------------------------------------------------------------------------------------------</strong></p>\n",
    "\n",
    "**The following code ``counts how many data points in the table column fall between the lower_lim and upper_lim``.**"
   ]
  },
  {
   "cell_type": "code",
   "execution_count": 27,
   "metadata": {},
   "outputs": [
    {
     "name": "stdout",
     "output_type": "stream",
     "text": [
      "Number of observations within the limits: 53335\n"
     ]
    }
   ],
   "source": [
    "# Alterbative code:\n",
    "\n",
    "# Count the number of observations within the limits\n",
    "num_within_limits = df.table[(df.table >= lower_lim) & (df.table <= upper_lim)].count()\n",
    "\n",
    "# Print the result\n",
    "print(\"Number of observations within the limits:\", num_within_limits)"
   ]
  },
  {
   "cell_type": "markdown",
   "metadata": {},
   "source": [
    "- **``df.table >= lower_lim``**: This creates a boolean Series that is **``True for values greater than or equal to lower_lim``**.\n",
    "- **``df.table <= upper_lim``**: This creates another boolean Series that is **``True for values less than or equal to upper_lim``**.\n",
    "- **``&``**: The **``bitwise AND operator``** combines the two conditions, resulting in a boolean Series that is **``True only for values that satisfy BOTH conditions``**.\n",
    "- **``.count()``**: This method **``counts the number of True values``** in the filtered Series, effectively giving you the number of observations within the limits.\n",
    "\n",
    "\n",
    "<p style=\"background-color:#FFFFFF; font-family:newtimeroman; color:#0000FF; font-size:110%; text-align:left;\"><strong>-----------------------------------------------------------------------------------------------------------------------------------------------------------------------------------------------</strong></p>\n",
    "\n",
    "<p style=\"background-color:#FFFFFF; font-family:newtimeroman; color:green; font-size:125%; text-align:left;\"><strong>👉 Visualization by the Distribution of Usual Observations:</strong></p>\n",
    "\n",
    "\n",
    "**The following code visualizes the data within the specified limits using a box plot, based on the lower_lim and upper_lim values.**"
   ]
  },
  {
   "cell_type": "code",
   "execution_count": 28,
   "metadata": {
    "id": "RzL5NdWH98gh",
    "outputId": "2b266ee2-a4d9-4477-afcf-7cfed7ad81e5"
   },
   "outputs": [
    {
     "data": {
      "image/png": "[encoded data removed]",
      "text/plain": [
       "<Figure size 700x400 with 1 Axes>"
      ]
     },
     "metadata": {},
     "output_type": "display_data"
    }
   ],
   "source": [
    "# Filter the data within the limits\n",
    "filtered_data = df.table[(df.table >= lower_lim) & (df.table <= upper_lim)]\n",
    "\n",
    "# Create a box plot for the filtered data\n",
    "plt.figure(figsize=(7, 4))\n",
    "sns.boxplot(x=filtered_data, color='salmon')\n",
    "\n",
    "# Add titles and labels\n",
    "plt.title('Box Plot of Values Within Limits')\n",
    "plt.ylabel('Table Values')\n",
    "\n",
    "# Show the plot\n",
    "plt.show()"
   ]
  },
  {
   "cell_type": "markdown",
   "metadata": {},
   "source": [
    "\n",
    "\n",
    "<p style=\"background-color:#FFFFFF; font-family:newtimeroman; color:#0000FF; font-size:110%; text-align:left;\"><strong>-----------------------------------------------------------------------------------------------------------------------------------------------------------------------------------------------</strong></p>\n",
    "\n"
   ]
  },
  {
   "cell_type": "markdown",
   "metadata": {
    "id": "fPd52z_j98gh"
   },
   "source": [
    "## <p style=\"background-color:#E51A59; font-family:newtimeroman; color:#FFF9ED; font-size:175%; text-align:center; border-radius:10px 10px;\">Removing the Outliers</p>\n",
    "\n",
    "<a id=\"3\"></a>\n",
    "<a href=\"#toc\" class=\"btn btn-primary btn-sm\" role=\"button\" aria-pressed=\"true\" \n",
    "style=\"color:blue; background-color:#dfa8e4\" data-toggle=\"popover\">Content</a>\n",
    "\n",
    "**``Removing outliers``** is a common data preprocessing step aimed at **``improving the quality of analysis``**. Outliers can **``skew results``** and **``lead to misleading interpretations``**. By identifying and excluding extreme values—often defined as those outside 1.5 times the interquartile range (IQR)—we can achieve a **``more accurate representation of the data's central tendency and variability. This helps ensure that statistical models and visualizations reflect the underlying trends``** without distortion from anomalous data points.\n",
    "\n",
    "### <p style=\"background-color:#FFFFFF; font-family:newtimeroman; color:#0000FF; font-size:125%; text-align:left;\"><strong>How to create a clean DataFrame containing the observations NOT defined as outliers?</strong></p>\n",
    "\n",
    "\n",
    "<p style=\"background-color:#FFFFFF; font-family:newtimeroman; color:#0000FF; font-size:110%; text-align:left;\"><strong>-----------------------------------------------------------------------------------------------------------------------------------------------------------------------------------------------</strong></p>\n",
    "\n",
    "<p style=\"background-color:#FFFFFF; font-family:newtimeroman; color:green; font-size:125%; text-align:left;\"><strong>👉 Keeping the Usual Observations by Condition:</strong></p>\n",
    "\n",
    "\n",
    "#### <p style=\"background-color:#FFFFFF; font-family:newtimeroman; color:#0000FF; font-size:125%; text-align:left;\"><strong>1. The First Approach:</strong></p>\n",
    "\n",
    "**The following code creates a ``boolean Series`` that identifies ``observations`` in the ``\"table\"`` column that are ``NOT classified as outliers``:**"
   ]
  },
  {
   "cell_type": "code",
   "execution_count": 29,
   "metadata": {},
   "outputs": [
    {
     "data": {
      "text/plain": [
       "0         True\n",
       "1         True\n",
       "2        False\n",
       "3         True\n",
       "4         True\n",
       "         ...  \n",
       "53935     True\n",
       "53936     True\n",
       "53937     True\n",
       "53938     True\n",
       "53939     True\n",
       "Name: table, Length: 53940, dtype: bool"
      ]
     },
     "execution_count": 29,
     "metadata": {},
     "output_type": "execute_result"
    }
   ],
   "source": [
    "# Create a boolean Series for observations NOT defined as outliers\n",
    "not_outliers = (df.table >= lower_lim) & (df.table <= upper_lim)\n",
    "\n",
    "# Display the resulting boolean Series\n",
    "not_outliers"
   ]
  },
  {
   "cell_type": "markdown",
   "metadata": {},
   "source": [
    "- **``Boolean Series``**: The expression (df.table >= lower_lim) & (df.table <= upper_lim) generates a **``boolean Series where each entry is True if the corresponding value in the table column is within the defined limits``** and **``False otherwise``**.\n",
    "- **``Result``**: The resulting ``not_outliers`` ``Series`` will contain ``True`` for values that are ``not outliers`` and ``False`` for ``those that are``.\n",
    "\n",
    "<p style=\"background-color:#FFFFFF; font-family:newtimeroman; color:#0000FF; font-size:110%; text-align:left;\"><strong>-----------------------------------------------------------------------------------------------------------------------------------------------------------------------------------------------</strong></p>\n",
    "\n",
    "**The following code creates a ``new DataFrame`` ``named cleaned_df`` that contains only the ``observations`` from the original DataFrame that are ``NOT classified as outliers``:**"
   ]
  },
  {
   "cell_type": "code",
   "execution_count": 30,
   "metadata": {
    "id": "teu7LpN098gi",
    "outputId": "8c2106e7-c1e0-49ed-9917-e65df99ce27c"
   },
   "outputs": [
    {
     "data": {
      "text/html": [
       "<div>\n",
       "<style scoped>\n",
       "    .dataframe tbody tr th:only-of-type {\n",
       "        vertical-align: middle;\n",
       "    }\n",
       "\n",
       "    .dataframe tbody tr th {\n",
       "        vertical-align: top;\n",
       "    }\n",
       "\n",
       "    .dataframe thead th {\n",
       "        text-align: right;\n",
       "    }\n",
       "</style>\n",
       "<table border=\"1\" class=\"dataframe\">\n",
       "  <thead>\n",
       "    <tr style=\"text-align: right;\">\n",
       "      <th></th>\n",
       "      <th>carat</th>\n",
       "      <th>depth</th>\n",
       "      <th>table</th>\n",
       "      <th>price</th>\n",
       "      <th>x</th>\n",
       "      <th>y</th>\n",
       "      <th>z</th>\n",
       "    </tr>\n",
       "  </thead>\n",
       "  <tbody>\n",
       "    <tr>\n",
       "      <th>0</th>\n",
       "      <td>0.23</td>\n",
       "      <td>61.5</td>\n",
       "      <td>55.0</td>\n",
       "      <td>326</td>\n",
       "      <td>3.95</td>\n",
       "      <td>3.98</td>\n",
       "      <td>2.43</td>\n",
       "    </tr>\n",
       "    <tr>\n",
       "      <th>1</th>\n",
       "      <td>0.21</td>\n",
       "      <td>59.8</td>\n",
       "      <td>61.0</td>\n",
       "      <td>326</td>\n",
       "      <td>3.89</td>\n",
       "      <td>3.84</td>\n",
       "      <td>2.31</td>\n",
       "    </tr>\n",
       "    <tr>\n",
       "      <th>3</th>\n",
       "      <td>0.29</td>\n",
       "      <td>62.4</td>\n",
       "      <td>58.0</td>\n",
       "      <td>334</td>\n",
       "      <td>4.20</td>\n",
       "      <td>4.23</td>\n",
       "      <td>2.63</td>\n",
       "    </tr>\n",
       "    <tr>\n",
       "      <th>4</th>\n",
       "      <td>0.31</td>\n",
       "      <td>63.3</td>\n",
       "      <td>58.0</td>\n",
       "      <td>335</td>\n",
       "      <td>4.34</td>\n",
       "      <td>4.35</td>\n",
       "      <td>2.75</td>\n",
       "    </tr>\n",
       "    <tr>\n",
       "      <th>5</th>\n",
       "      <td>0.24</td>\n",
       "      <td>62.8</td>\n",
       "      <td>57.0</td>\n",
       "      <td>336</td>\n",
       "      <td>3.94</td>\n",
       "      <td>3.96</td>\n",
       "      <td>2.48</td>\n",
       "    </tr>\n",
       "    <tr>\n",
       "      <th>...</th>\n",
       "      <td>...</td>\n",
       "      <td>...</td>\n",
       "      <td>...</td>\n",
       "      <td>...</td>\n",
       "      <td>...</td>\n",
       "      <td>...</td>\n",
       "      <td>...</td>\n",
       "    </tr>\n",
       "    <tr>\n",
       "      <th>53935</th>\n",
       "      <td>0.72</td>\n",
       "      <td>60.8</td>\n",
       "      <td>57.0</td>\n",
       "      <td>2757</td>\n",
       "      <td>5.75</td>\n",
       "      <td>5.76</td>\n",
       "      <td>3.50</td>\n",
       "    </tr>\n",
       "    <tr>\n",
       "      <th>53936</th>\n",
       "      <td>0.72</td>\n",
       "      <td>63.1</td>\n",
       "      <td>55.0</td>\n",
       "      <td>2757</td>\n",
       "      <td>5.69</td>\n",
       "      <td>5.75</td>\n",
       "      <td>3.61</td>\n",
       "    </tr>\n",
       "    <tr>\n",
       "      <th>53937</th>\n",
       "      <td>0.70</td>\n",
       "      <td>62.8</td>\n",
       "      <td>60.0</td>\n",
       "      <td>2757</td>\n",
       "      <td>5.66</td>\n",
       "      <td>5.68</td>\n",
       "      <td>3.56</td>\n",
       "    </tr>\n",
       "    <tr>\n",
       "      <th>53938</th>\n",
       "      <td>0.86</td>\n",
       "      <td>61.0</td>\n",
       "      <td>58.0</td>\n",
       "      <td>2757</td>\n",
       "      <td>6.15</td>\n",
       "      <td>6.12</td>\n",
       "      <td>3.74</td>\n",
       "    </tr>\n",
       "    <tr>\n",
       "      <th>53939</th>\n",
       "      <td>0.75</td>\n",
       "      <td>62.2</td>\n",
       "      <td>55.0</td>\n",
       "      <td>2757</td>\n",
       "      <td>5.83</td>\n",
       "      <td>5.87</td>\n",
       "      <td>3.64</td>\n",
       "    </tr>\n",
       "  </tbody>\n",
       "</table>\n",
       "<p>53335 rows × 7 columns</p>\n",
       "</div>"
      ],
      "text/plain": [
       "       carat  depth  table  price     x     y     z\n",
       "0       0.23   61.5   55.0    326  3.95  3.98  2.43\n",
       "1       0.21   59.8   61.0    326  3.89  3.84  2.31\n",
       "3       0.29   62.4   58.0    334  4.20  4.23  2.63\n",
       "4       0.31   63.3   58.0    335  4.34  4.35  2.75\n",
       "5       0.24   62.8   57.0    336  3.94  3.96  2.48\n",
       "...      ...    ...    ...    ...   ...   ...   ...\n",
       "53935   0.72   60.8   57.0   2757  5.75  5.76  3.50\n",
       "53936   0.72   63.1   55.0   2757  5.69  5.75  3.61\n",
       "53937   0.70   62.8   60.0   2757  5.66  5.68  3.56\n",
       "53938   0.86   61.0   58.0   2757  6.15  6.12  3.74\n",
       "53939   0.75   62.2   55.0   2757  5.83  5.87  3.64\n",
       "\n",
       "[53335 rows x 7 columns]"
      ]
     },
     "execution_count": 30,
     "metadata": {},
     "output_type": "execute_result"
    }
   ],
   "source": [
    "# Create a new DataFrame with only the non-outlier observations\n",
    "cleaned_df = df[not_outliers]\n",
    "\n",
    "# Display the cleaned DataFrame\n",
    "cleaned_df"
   ]
  },
  {
   "cell_type": "markdown",
   "metadata": {},
   "source": [
    "- **``Filtering the DataFrame``**: The expression df[not_outliers] ``filters the original DataFrame`` to include ``only those rows where the not_outliers boolean Series is True``.\n",
    "- **``Resulting DataFrame``**: ``cleaned_df`` will now ``contain only the rows`` from df that are ``within the specified limits``, effectively removing outliers.\n",
    "\n",
    "<p style=\"background-color:#FFFFFF; font-family:newtimeroman; color:#0000FF; font-size:110%; text-align:left;\"><strong>-----------------------------------------------------------------------------------------------------------------------------------------------------------------------------------------------</strong></p>\n",
    "\n",
    "<p style=\"background-color:#FFFFFF; font-family:newtimeroman; color:green; font-size:125%; text-align:left;\"><strong>👉 Removing the Outliers by Condition:</strong></p>\n",
    "\n",
    "\n",
    "#### <p style=\"background-color:#FFFFFF; font-family:newtimeroman; color:#0000FF; font-size:125%; text-align:left;\"><strong>2. The Second Approach:</strong></p>\n",
    "\n",
    "\n",
    "**The following expression ``retrieves the indices of the observations`` in the table column of the DataFrame that are considered outliers.**"
   ]
  },
  {
   "cell_type": "code",
   "execution_count": 31,
   "metadata": {
    "id": "o_o1avBL98gj",
    "outputId": "582da398-88c5-49a9-e737-935fe53282c6"
   },
   "outputs": [
    {
     "data": {
      "text/plain": [
       "Index([    2,    91,   145,   219,   227,   239,   296,   314,   356,   359,\n",
       "       ...\n",
       "       53226, 53503, 53542, 53577, 53660, 53695, 53697, 53756, 53757, 53785],\n",
       "      dtype='int64', length=605)"
      ]
     },
     "execution_count": 31,
     "metadata": {},
     "output_type": "execute_result"
    }
   ],
   "source": [
    " df.loc[(df.table < lower_lim) | (df.table > upper_lim)].index"
   ]
  },
  {
   "cell_type": "markdown",
   "metadata": {},
   "source": [
    "- **``(df.table < lower_lim)``**: This creates a boolean Series that is True for values below the lower limit.\n",
    "- **``(df.table > upper_lim)``**: This creates another boolean Series that is True for values above the upper limit.\n",
    "- **``|``**: The bitwise OR operator combines the two conditions, resulting in a boolean Series that is True for values that satisfy either condition.\n",
    "- **``df.loc[...]``**: This selects the rows from the DataFrame where the combined condition is True.\n",
    "- **``.index``**: This retrieves the indices of the selected rows, which represent the outliers.\n",
    "\n",
    "<p style=\"background-color:#FFFFFF; font-family:newtimeroman; color:#0000FF; font-size:110%; text-align:left;\"><strong>-----------------------------------------------------------------------------------------------------------------------------------------------------------------------------------------------</strong></p>\n",
    "\n",
    "**The following code finds the ``index numbers of the observations`` defined as ``outliers`` in the table column:**"
   ]
  },
  {
   "cell_type": "code",
   "execution_count": 32,
   "metadata": {},
   "outputs": [
    {
     "name": "stdout",
     "output_type": "stream",
     "text": [
      "Index numbers of outliers: Index([    2,    91,   145,   219,   227,   239,   296,   314,   356,   359,\n",
      "       ...\n",
      "       53226, 53503, 53542, 53577, 53660, 53695, 53697, 53756, 53757, 53785],\n",
      "      dtype='int64', length=605)\n"
     ]
    }
   ],
   "source": [
    "# Get the index numbers of the observations defined as outliers\n",
    "outlier_indices = df.loc[(df.table < lower_lim) | (df.table > upper_lim)].index\n",
    "\n",
    "# Print the outlier indices\n",
    "print(\"Index numbers of outliers:\", outlier_indices)"
   ]
  },
  {
   "cell_type": "markdown",
   "metadata": {},
   "source": [
    "- **``Condition``**: The expression **``(df.table < lower_lim) | (df.table > upper_lim)``** creates a **``boolean mask``** that **``identifies outliers based on the lower and upper limits``**.\n",
    "- **``Index Retrieval``**: Using **``df.loc[...]``** with the boolean mask allows you to **``select the rows``** that **``match the outlier condition``**, and **``.index``** **``retrieves the index numbers``** of those rows.\n",
    "\n",
    "<p style=\"background-color:#FFFFFF; font-family:newtimeroman; color:#0000FF; font-size:110%; text-align:left;\"><strong>-----------------------------------------------------------------------------------------------------------------------------------------------------------------------------------------------</strong></p>\n",
    "\n",
    "**The following code ``removes the observations defined as outliers`` from the DataFrame, using the ``drop()`` method with the index numbers obtained earlier:**\n",
    "\n",
    "- This method effectively removes the outliers from the DataFrame, allowing for a more accurate analysis of the remaining data."
   ]
  },
  {
   "cell_type": "code",
   "execution_count": 33,
   "metadata": {
    "id": "P3XvaTEU98gk",
    "outputId": "967bd95c-5a93-4022-bcc2-b5d4dc6f5e5b"
   },
   "outputs": [
    {
     "data": {
      "text/html": [
       "<div>\n",
       "<style scoped>\n",
       "    .dataframe tbody tr th:only-of-type {\n",
       "        vertical-align: middle;\n",
       "    }\n",
       "\n",
       "    .dataframe tbody tr th {\n",
       "        vertical-align: top;\n",
       "    }\n",
       "\n",
       "    .dataframe thead th {\n",
       "        text-align: right;\n",
       "    }\n",
       "</style>\n",
       "<table border=\"1\" class=\"dataframe\">\n",
       "  <thead>\n",
       "    <tr style=\"text-align: right;\">\n",
       "      <th></th>\n",
       "      <th>carat</th>\n",
       "      <th>depth</th>\n",
       "      <th>table</th>\n",
       "      <th>price</th>\n",
       "      <th>x</th>\n",
       "      <th>y</th>\n",
       "      <th>z</th>\n",
       "    </tr>\n",
       "  </thead>\n",
       "  <tbody>\n",
       "    <tr>\n",
       "      <th>0</th>\n",
       "      <td>0.23</td>\n",
       "      <td>61.5</td>\n",
       "      <td>55.0</td>\n",
       "      <td>326</td>\n",
       "      <td>3.95</td>\n",
       "      <td>3.98</td>\n",
       "      <td>2.43</td>\n",
       "    </tr>\n",
       "    <tr>\n",
       "      <th>1</th>\n",
       "      <td>0.21</td>\n",
       "      <td>59.8</td>\n",
       "      <td>61.0</td>\n",
       "      <td>326</td>\n",
       "      <td>3.89</td>\n",
       "      <td>3.84</td>\n",
       "      <td>2.31</td>\n",
       "    </tr>\n",
       "    <tr>\n",
       "      <th>3</th>\n",
       "      <td>0.29</td>\n",
       "      <td>62.4</td>\n",
       "      <td>58.0</td>\n",
       "      <td>334</td>\n",
       "      <td>4.20</td>\n",
       "      <td>4.23</td>\n",
       "      <td>2.63</td>\n",
       "    </tr>\n",
       "    <tr>\n",
       "      <th>4</th>\n",
       "      <td>0.31</td>\n",
       "      <td>63.3</td>\n",
       "      <td>58.0</td>\n",
       "      <td>335</td>\n",
       "      <td>4.34</td>\n",
       "      <td>4.35</td>\n",
       "      <td>2.75</td>\n",
       "    </tr>\n",
       "    <tr>\n",
       "      <th>5</th>\n",
       "      <td>0.24</td>\n",
       "      <td>62.8</td>\n",
       "      <td>57.0</td>\n",
       "      <td>336</td>\n",
       "      <td>3.94</td>\n",
       "      <td>3.96</td>\n",
       "      <td>2.48</td>\n",
       "    </tr>\n",
       "    <tr>\n",
       "      <th>...</th>\n",
       "      <td>...</td>\n",
       "      <td>...</td>\n",
       "      <td>...</td>\n",
       "      <td>...</td>\n",
       "      <td>...</td>\n",
       "      <td>...</td>\n",
       "      <td>...</td>\n",
       "    </tr>\n",
       "    <tr>\n",
       "      <th>53935</th>\n",
       "      <td>0.72</td>\n",
       "      <td>60.8</td>\n",
       "      <td>57.0</td>\n",
       "      <td>2757</td>\n",
       "      <td>5.75</td>\n",
       "      <td>5.76</td>\n",
       "      <td>3.50</td>\n",
       "    </tr>\n",
       "    <tr>\n",
       "      <th>53936</th>\n",
       "      <td>0.72</td>\n",
       "      <td>63.1</td>\n",
       "      <td>55.0</td>\n",
       "      <td>2757</td>\n",
       "      <td>5.69</td>\n",
       "      <td>5.75</td>\n",
       "      <td>3.61</td>\n",
       "    </tr>\n",
       "    <tr>\n",
       "      <th>53937</th>\n",
       "      <td>0.70</td>\n",
       "      <td>62.8</td>\n",
       "      <td>60.0</td>\n",
       "      <td>2757</td>\n",
       "      <td>5.66</td>\n",
       "      <td>5.68</td>\n",
       "      <td>3.56</td>\n",
       "    </tr>\n",
       "    <tr>\n",
       "      <th>53938</th>\n",
       "      <td>0.86</td>\n",
       "      <td>61.0</td>\n",
       "      <td>58.0</td>\n",
       "      <td>2757</td>\n",
       "      <td>6.15</td>\n",
       "      <td>6.12</td>\n",
       "      <td>3.74</td>\n",
       "    </tr>\n",
       "    <tr>\n",
       "      <th>53939</th>\n",
       "      <td>0.75</td>\n",
       "      <td>62.2</td>\n",
       "      <td>55.0</td>\n",
       "      <td>2757</td>\n",
       "      <td>5.83</td>\n",
       "      <td>5.87</td>\n",
       "      <td>3.64</td>\n",
       "    </tr>\n",
       "  </tbody>\n",
       "</table>\n",
       "<p>53335 rows × 7 columns</p>\n",
       "</div>"
      ],
      "text/plain": [
       "       carat  depth  table  price     x     y     z\n",
       "0       0.23   61.5   55.0    326  3.95  3.98  2.43\n",
       "1       0.21   59.8   61.0    326  3.89  3.84  2.31\n",
       "3       0.29   62.4   58.0    334  4.20  4.23  2.63\n",
       "4       0.31   63.3   58.0    335  4.34  4.35  2.75\n",
       "5       0.24   62.8   57.0    336  3.94  3.96  2.48\n",
       "...      ...    ...    ...    ...   ...   ...   ...\n",
       "53935   0.72   60.8   57.0   2757  5.75  5.76  3.50\n",
       "53936   0.72   63.1   55.0   2757  5.69  5.75  3.61\n",
       "53937   0.70   62.8   60.0   2757  5.66  5.68  3.56\n",
       "53938   0.86   61.0   58.0   2757  6.15  6.12  3.74\n",
       "53939   0.75   62.2   55.0   2757  5.83  5.87  3.64\n",
       "\n",
       "[53335 rows x 7 columns]"
      ]
     },
     "execution_count": 33,
     "metadata": {},
     "output_type": "execute_result"
    }
   ],
   "source": [
    "# Drop the outliers\n",
    "\n",
    "df.drop(outlier_indices)"
   ]
  },
  {
   "cell_type": "markdown",
   "metadata": {},
   "source": [
    "- **``drop() Method``**: The **``drop(outlier_indices)``** method **``removes the rows with the specified index numbers``** from the DataFrame.\n",
    "\n",
    "<p style=\"background-color:#FFFFFF; font-family:newtimeroman; color:#0000FF; font-size:110%; text-align:left;\"><strong>-----------------------------------------------------------------------------------------------------------------------------------------------------------------------------------------------</strong></p>\n",
    "\n",
    "<p style=\"background-color:#FFFFFF; font-family:newtimeroman; color:green; font-size:125%; text-align:left;\"><strong>👉 Visual Comparison of the Results by Boxplot:</strong></p>\n",
    "\n",
    "\n",
    "**The following code visualizes the ``distribution of the \"table\"`` feature with and ``without outliers`` using box plots. This will create ``side-by-side box plot`` for comparison:**"
   ]
  },
  {
   "cell_type": "code",
   "execution_count": 34,
   "metadata": {
    "id": "COTNIks798gk",
    "outputId": "8dea3151-cc07-417f-811c-04080ca9d5c8"
   },
   "outputs": [
    {
     "data": {
      "image/png": "[encoded data removed]",
      "text/plain": [
       "<Figure size 1600x500 with 2 Axes>"
      ]
     },
     "metadata": {},
     "output_type": "display_data"
    }
   ],
   "source": [
    "# Create subplots and figure with size of 16*5\n",
    "fig, ax = plt.subplots(1, 2, figsize=(16, 5))\n",
    "\n",
    "# Create Box plots with outliers and non-outliers\n",
    "g = sns.boxplot(data=original_df, x=\"table\", color=\"salmon\", ax=ax[0])  # with outliers\n",
    "h = sns.boxplot(data=cleaned_df, x=\"table\", color=\"skyblue\", ax=ax[1])  # without outliers\n",
    "\n",
    "# Set Labels\n",
    "ax[0].set_xlabel(\"'table' Feature WITH Outliers\", fontsize=14)\n",
    "ax[1].set_xlabel(\"'table' Feature WITHOUT Outliers\", fontsize=14)\n",
    "\n",
    "# Set Titles\n",
    "g.set_title('Distribution WITH Outlier', fontsize=16)\n",
    "h.set_title('Distribution WITHOUT Outlier', fontsize=16)\n",
    "\n",
    "# Align layout\n",
    "plt.tight_layout()\n",
    "\n",
    "# Show the plots\n",
    "plt.show()"
   ]
  },
  {
   "cell_type": "markdown",
   "metadata": {},
   "source": [
    "This visualization provides a **``clear comparison``** of **``how outliers affect the distribution of the \"table\" variable``**, helping us understand the impact of these extreme values on your dataset.\n",
    "\n",
    "\n",
    "<p style=\"background-color:#FFFFFF; font-family:newtimeroman; color:#0000FF; font-size:110%; text-align:left;\"><strong>-----------------------------------------------------------------------------------------------------------------------------------------------------------------------------------------------</strong></p>\n",
    "\n",
    "<p style=\"background-color:#FFFFFF; font-family:newtimeroman; color:green; font-size:125%; text-align:left;\"><strong>👉 Visual Comparison of the Results by Histogram:</strong></p>\n",
    "\n",
    "\n",
    "**The following code visualizes the ``distribution of the \"table\" feature with and without outliers`` using histograms. This will create ``side-by-side histograms`` for comparison:**"
   ]
  },
  {
   "cell_type": "code",
   "execution_count": 35,
   "metadata": {
    "id": "5Hcr3YTQ98gl",
    "outputId": "ebc6c799-25f0-48fe-f79e-5713ccafcdbc"
   },
   "outputs": [
    {
     "data": {
      "image/png": "[encoded data removed]",
      "text/plain": [
       "<Figure size 1400x600 with 2 Axes>"
      ]
     },
     "metadata": {},
     "output_type": "display_data"
    }
   ],
   "source": [
    "# Create subplots and figure with size of 16*5\n",
    "fig, ax = plt.subplots(1, 2, figsize=(14, 6))\n",
    "\n",
    "# Create histograms with outliers and non-outliers\n",
    "g = sns.histplot(original_df.table, bins=10, kde=False, color=\"salmon\",     label=\"With Outliers\",    ax=ax[0])\n",
    "h = sns.histplot(cleaned_df.table,  bins=10, kde=False, color=\"skyblue\", label=\"Without Outliers\", ax=ax[1])\n",
    "\n",
    "# Set Labels\n",
    "ax[0].set_xlabel(\"'table' Feature from Original DataFrame\", fontsize=14)\n",
    "ax[1].set_xlabel(\"'table' Feature from Cleaned DataFrame\", fontsize=14)\n",
    "\n",
    "# Set Titles\n",
    "g.set_title('Distribution WITH Outlier', fontsize=16)\n",
    "h.set_title('Distribution WITHOUT Outlier', fontsize=16)\n",
    "\n",
    "# Align layout\n",
    "plt.tight_layout()\n",
    "\n",
    "# Show the plots\n",
    "plt.show()"
   ]
  },
  {
   "cell_type": "markdown",
   "metadata": {},
   "source": [
    "When we examine histograms for 2 DataFrames, after removing the outliers from our DataFrame, it can be assumed that the distribution of observations approaches its normal distribution.\n",
    "\n",
    "<p style=\"background-color:#FFFFFF; font-family:newtimeroman; color:#0000FF; font-size:110%; text-align:left;\"><strong>-----------------------------------------------------------------------------------------------------------------------------------------------------------------------------------------------</strong></p>\n",
    "\n",
    "<p style=\"background-color:#FFFFFF; font-family:newtimeroman; color:green; font-size:125%; text-align:left;\"><strong>👉 Comparison of the Results by DataFrame:</strong></p>\n",
    "\n",
    "\n",
    "**The following code examines the ``descriptive statistics`` for the ``\"table\"`` column in the original DataFrame:**"
   ]
  },
  {
   "cell_type": "code",
   "execution_count": 36,
   "metadata": {
    "id": "qlyT0_bp98gl",
    "outputId": "25ebabb5-228d-4158-8889-5cf3c96b915e"
   },
   "outputs": [
    {
     "data": {
      "text/plain": [
       "count    53940.000000\n",
       "mean        57.457184\n",
       "std          2.234491\n",
       "min         43.000000\n",
       "25%         56.000000\n",
       "50%         57.000000\n",
       "75%         59.000000\n",
       "max         95.000000\n",
       "Name: table, dtype: float64"
      ]
     },
     "execution_count": 36,
     "metadata": {},
     "output_type": "execute_result"
    }
   ],
   "source": [
    "df.table.describe()"
   ]
  },
  {
   "cell_type": "markdown",
   "metadata": {},
   "source": [
    "\n",
    "\n",
    "<p style=\"background-color:#FFFFFF; font-family:newtimeroman; color:#0000FF; font-size:110%; text-align:left;\"><strong>-----------------------------------------------------------------------------------------------------------------------------------------------------------------------------------------------</strong></p>\n",
    "\n",
    "**The following code examines the ``descriptive statistics`` for the ``\"table\"`` column in the DataFrame that has been ``cleaned of outliers``:**"
   ]
  },
  {
   "cell_type": "code",
   "execution_count": 37,
   "metadata": {
    "id": "jubpw3HV98gl",
    "outputId": "5de3ead1-8e86-4617-fdb3-9bea8cbdcf82"
   },
   "outputs": [
    {
     "data": {
      "text/plain": [
       "count    53335.000000\n",
       "mean        57.373404\n",
       "std          2.074349\n",
       "min         51.600000\n",
       "25%         56.000000\n",
       "50%         57.000000\n",
       "75%         59.000000\n",
       "max         63.500000\n",
       "Name: table, dtype: float64"
      ]
     },
     "execution_count": 37,
     "metadata": {},
     "output_type": "execute_result"
    }
   ],
   "source": [
    "cleaned_df.table.describe()"
   ]
  },
  {
   "cell_type": "markdown",
   "metadata": {},
   "source": [
    "To compare the descriptive statistics of a dataset before and after dropping outliers, we can examine key summary statistics such as count, mean, standard deviation, and quartiles (25%, 50%, and 75%). Here’s a structured way to present the comparison based on the results:\n",
    "\n",
    "**``Key Points of Comparison:``**\n",
    "- **``Count``**:\n",
    "  - The count of observations **``decreased``** from **``53,940 to 53,335``**, indicating that outliers were removed from the dataset.\n",
    "- **``Mean``**:\n",
    "  - The mean **``slightly decreased``** from **``57.46 to 57.37``**, suggesting that the **``outliers were likely skewing the average upward``**.\n",
    "- **``Standard Deviation``**:\n",
    "  - The standard deviation **``decreased``** from **``2.23 to 2.07``**, indicating that the **``data is now less spread out``** after outlier removal.\n",
    "- **``Range``**:\n",
    "  - The **``minimum``** value **``increased``** from **``43.00 to 51.60``**, reflecting the removal of particularly low outlier values.\n",
    "  - The **``maximum``** value **``decreased``** from **``95.00 to 63.50``**, suggesting that high outlier values were also eliminated.\n",
    "- **``Quartiles``**:\n",
    "  - The 25th percentile (Q1), median (50th percentile), and 75th percentile (Q3) remained **``unchanged``**, indicating that the **``central tendency (the middle 50% of the data) was NOT significantly affected by the removal of outliers``**.\n",
    "\n",
    "<p style=\"background-color:#FFFFFF; font-family:newtimeroman; color:#0000FF; font-size:110%; text-align:left;\"><strong>-----------------------------------------------------------------------------------------------------------------------------------------------------------------------------------------------</strong></p>\n",
    "\n",
    "#### <p style=\"background-color:#FFFFFF; font-family:newtimeroman; color:#0000FF; font-size:125%; text-align:left;\"><strong>👉 The First Approach to Create DataFrame:</strong></p>\n",
    "\n",
    "\n",
    "**The following code ``compares the descriptive statistics`` of the ``\"table\"`` column in both the ``original`` and ``cleaned DataFrames`` side by side:** "
   ]
  },
  {
   "cell_type": "code",
   "execution_count": 38,
   "metadata": {},
   "outputs": [
    {
     "data": {
      "text/html": [
       "<div>\n",
       "<style scoped>\n",
       "    .dataframe tbody tr th:only-of-type {\n",
       "        vertical-align: middle;\n",
       "    }\n",
       "\n",
       "    .dataframe tbody tr th {\n",
       "        vertical-align: top;\n",
       "    }\n",
       "\n",
       "    .dataframe thead th {\n",
       "        text-align: right;\n",
       "    }\n",
       "</style>\n",
       "<table border=\"1\" class=\"dataframe\">\n",
       "  <thead>\n",
       "    <tr style=\"text-align: right;\">\n",
       "      <th></th>\n",
       "      <th>Original DataFrame</th>\n",
       "      <th>Cleaned DataFrame</th>\n",
       "    </tr>\n",
       "  </thead>\n",
       "  <tbody>\n",
       "    <tr>\n",
       "      <th>count</th>\n",
       "      <td>53940.000000</td>\n",
       "      <td>53335.000000</td>\n",
       "    </tr>\n",
       "    <tr>\n",
       "      <th>mean</th>\n",
       "      <td>57.457184</td>\n",
       "      <td>57.373404</td>\n",
       "    </tr>\n",
       "    <tr>\n",
       "      <th>std</th>\n",
       "      <td>2.234491</td>\n",
       "      <td>2.074349</td>\n",
       "    </tr>\n",
       "    <tr>\n",
       "      <th>min</th>\n",
       "      <td>43.000000</td>\n",
       "      <td>51.600000</td>\n",
       "    </tr>\n",
       "    <tr>\n",
       "      <th>25%</th>\n",
       "      <td>56.000000</td>\n",
       "      <td>56.000000</td>\n",
       "    </tr>\n",
       "    <tr>\n",
       "      <th>50%</th>\n",
       "      <td>57.000000</td>\n",
       "      <td>57.000000</td>\n",
       "    </tr>\n",
       "    <tr>\n",
       "      <th>75%</th>\n",
       "      <td>59.000000</td>\n",
       "      <td>59.000000</td>\n",
       "    </tr>\n",
       "    <tr>\n",
       "      <th>max</th>\n",
       "      <td>95.000000</td>\n",
       "      <td>63.500000</td>\n",
       "    </tr>\n",
       "  </tbody>\n",
       "</table>\n",
       "</div>"
      ],
      "text/plain": [
       "       Original DataFrame  Cleaned DataFrame\n",
       "count        53940.000000       53335.000000\n",
       "mean            57.457184          57.373404\n",
       "std              2.234491           2.074349\n",
       "min             43.000000          51.600000\n",
       "25%             56.000000          56.000000\n",
       "50%             57.000000          57.000000\n",
       "75%             59.000000          59.000000\n",
       "max             95.000000          63.500000"
      ]
     },
     "execution_count": 38,
     "metadata": {},
     "output_type": "execute_result"
    }
   ],
   "source": [
    "# Create a DataFrame to compare the descriptive statistics\n",
    "compare = pd.DataFrame(original_df.table.describe().values, \n",
    "                       index=original_df.table.describe().index, \n",
    "                       columns=[\"Original DataFrame\"])\n",
    "\n",
    "# Add the cleaned DataFrame statistics\n",
    "compare[\"Cleaned DataFrame\"] = cleaned_df.table.describe().values\n",
    "\n",
    "# Display the comparison DataFrame\n",
    "compare"
   ]
  },
  {
   "cell_type": "markdown",
   "metadata": {},
   "source": [
    "When comparing the descriptive outputs of two DataFrames, it can be seen that after removing outliers from our DataFrame, while minimum value increased from 43 to 51.6, maximum value drastically decreased from 95 to 63.5 since we had more extreme values above the upper limit. The standart deviation decreased from 2.234491 to 2.074349 as expected as well.\n",
    "\n",
    "\n",
    "<p style=\"background-color:#FFFFFF; font-family:newtimeroman; color:#0000FF; font-size:110%; text-align:left;\"><strong>-----------------------------------------------------------------------------------------------------------------------------------------------------------------------------------------------</strong></p>\n",
    "\n",
    "#### <p style=\"background-color:#FFFFFF; font-family:newtimeroman; color:#0000FF; font-size:125%; text-align:left;\"><strong>👉 The Second Approach to Create DataFrame:</strong></p>\n",
    "\n",
    "\n",
    "**The following code ``compares the descriptive statistics`` of the ``\"table\"`` column in both the ``original`` and ``cleaned DataFrames`` side by side:** "
   ]
  },
  {
   "cell_type": "code",
   "execution_count": 39,
   "metadata": {
    "id": "-CIic-5T2suq",
    "outputId": "d9a3d26f-c64e-4057-991b-3983c9fe9eef"
   },
   "outputs": [
    {
     "data": {
      "text/html": [
       "<div>\n",
       "<style scoped>\n",
       "    .dataframe tbody tr th:only-of-type {\n",
       "        vertical-align: middle;\n",
       "    }\n",
       "\n",
       "    .dataframe tbody tr th {\n",
       "        vertical-align: top;\n",
       "    }\n",
       "\n",
       "    .dataframe thead th {\n",
       "        text-align: right;\n",
       "    }\n",
       "</style>\n",
       "<table border=\"1\" class=\"dataframe\">\n",
       "  <thead>\n",
       "    <tr style=\"text-align: right;\">\n",
       "      <th></th>\n",
       "      <th>original</th>\n",
       "      <th>clean</th>\n",
       "    </tr>\n",
       "  </thead>\n",
       "  <tbody>\n",
       "    <tr>\n",
       "      <th>count</th>\n",
       "      <td>53940.000000</td>\n",
       "      <td>53335.000000</td>\n",
       "    </tr>\n",
       "    <tr>\n",
       "      <th>mean</th>\n",
       "      <td>57.457184</td>\n",
       "      <td>57.373404</td>\n",
       "    </tr>\n",
       "    <tr>\n",
       "      <th>std</th>\n",
       "      <td>2.234491</td>\n",
       "      <td>2.074349</td>\n",
       "    </tr>\n",
       "    <tr>\n",
       "      <th>min</th>\n",
       "      <td>43.000000</td>\n",
       "      <td>51.600000</td>\n",
       "    </tr>\n",
       "    <tr>\n",
       "      <th>25%</th>\n",
       "      <td>56.000000</td>\n",
       "      <td>56.000000</td>\n",
       "    </tr>\n",
       "    <tr>\n",
       "      <th>50%</th>\n",
       "      <td>57.000000</td>\n",
       "      <td>57.000000</td>\n",
       "    </tr>\n",
       "    <tr>\n",
       "      <th>75%</th>\n",
       "      <td>59.000000</td>\n",
       "      <td>59.000000</td>\n",
       "    </tr>\n",
       "    <tr>\n",
       "      <th>max</th>\n",
       "      <td>95.000000</td>\n",
       "      <td>63.500000</td>\n",
       "    </tr>\n",
       "  </tbody>\n",
       "</table>\n",
       "</div>"
      ],
      "text/plain": [
       "           original         clean\n",
       "count  53940.000000  53335.000000\n",
       "mean      57.457184     57.373404\n",
       "std        2.234491      2.074349\n",
       "min       43.000000     51.600000\n",
       "25%       56.000000     56.000000\n",
       "50%       57.000000     57.000000\n",
       "75%       59.000000     59.000000\n",
       "max       95.000000     63.500000"
      ]
     },
     "execution_count": 39,
     "metadata": {},
     "output_type": "execute_result"
    }
   ],
   "source": [
    "pd.DataFrame([df.table.describe(), cleaned_df.table.describe()], index=['original', 'clean']).T"
   ]
  },
  {
   "cell_type": "code",
   "execution_count": null,
   "metadata": {},
   "outputs": [],
   "source": []
  },
  {
   "cell_type": "markdown",
   "metadata": {},
   "source": [
    "\n",
    "\n",
    "<p style=\"background-color:#FFFFFF; font-family:newtimeroman; color:#0000FF; font-size:110%; text-align:left;\"><strong>-----------------------------------------------------------------------------------------------------------------------------------------------------------------------------------------------</strong></p>\n",
    "\n"
   ]
  },
  {
   "cell_type": "markdown",
   "metadata": {
    "id": "BoNnVsTADyz5"
   },
   "source": [
    "## <p style=\"background-color:#E51A59; font-family:newtimeroman; color:#FFF9ED; font-size:175%; text-align:center; border-radius:10px 10px;\">Limitation & Transformation of the Outliers</p>\n",
    "\n",
    "<a id=\"4\"></a>\n",
    "<a href=\"#toc\" class=\"btn btn-primary btn-sm\" role=\"button\" aria-pressed=\"true\" \n",
    "style=\"color:blue; background-color:#dfa8e4\" data-toggle=\"popover\">Content</a>"
   ]
  },
  {
   "cell_type": "markdown",
   "metadata": {
    "id": "Cps28shGDyz5"
   },
   "source": [
    "<p style=\"background-color:#FFFFFF; font-family:newtimeroman; color:#0000FF; font-size:110%; text-align:left;\"><strong>-----------------------------------------------------------------------------------------------------------------------------------------------------------------------------------------------</strong></p>\n",
    "\n",
    "\n",
    "## <p style=\"background-color:#FFFFFF; font-family:newtimeroman; color:#0000FF; font-size:125%; text-align:left;\"><strong>Limitation of data using ``.winsorize()`` method:</strong></p>\n",
    "\n",
    "**``Winsorization``** is the **``process of replacing the extreme values``** of statistical data in order to limit the effect of the outliers on the calculations or the results obtained by using that data. The **``mean value calculated after such replacement``** of the extreme values is called **``winsorized mean``**.\n",
    "\n",
    "- For example, **``90% winsorization``** means the **``replacement of the top 5% and bottom 5% of the data``**. \n",
    "  - The top 5% of the data is replaced by the value of the data at the 95th percentile and \n",
    "  - The value of the bottom 5% of the data is replaced by the value of the data at the 5th percentile. \n",
    "\n",
    "With winsorizing, any value of a variable above or below a percentile k on each side of the variables’ distribution is replaced with the value of the k-th percentile itself. For example, if k=5, all observations above the 95th percentile are recoded to the value of the 95th percentile, and values below the 5th percent are recoded, respectively 🧐 **[Source 01](https://towardsdatascience.com/detecting-and-treating-outliers-in-python-part-3-dcb54abaf7b0) & [Source 02](https://docs.scipy.org/doc/scipy/reference/generated/scipy.stats.mstats.winsorize.html)**.\n",
    "\n",
    "**🔥 Cautions on Winsorizing Data**\n",
    "\n",
    "Here are a few things to keep in mind when deciding to winsorize data:\n",
    "1. If there aren’t extreme outliers, then winsorizing the data will only modify the smallest and largest values slightly. This is generally not a good idea since it means we’re just modifying data values for the sake of modifications.\n",
    "2. Outliers can represent interesting edge cases in the data. Thus, before modifying outliers it’s a good idea to take a closer look at them to see what could have caused them.\n",
    "3. You should decide whether or not to winsorize data after collecting the data, not before. You should see if there actually are extreme outliers before you decide to perform winsorization. If no extreme outliers are present, winsorization may be unnecessary."
   ]
  },
  {
   "cell_type": "markdown",
   "metadata": {},
   "source": [
    "\n",
    "\n",
    "<p style=\"background-color:#FFFFFF; font-family:newtimeroman; color:#0000FF; font-size:110%; text-align:left;\"><strong>-----------------------------------------------------------------------------------------------------------------------------------------------------------------------------------------------</strong></p>\n",
    "\n"
   ]
  },
  {
   "cell_type": "code",
   "execution_count": 40,
   "metadata": {
    "id": "LiD8IoKdDyz5"
   },
   "outputs": [],
   "source": [
    "# We first need to import winsorize function from mstats package of stats module of scipy which is a scientific computation library\n",
    "\n",
    "from scipy.stats.mstats import winsorize"
   ]
  },
  {
   "cell_type": "code",
   "execution_count": 41,
   "metadata": {
    "id": "IPy160l-Dyz5",
    "outputId": "e85d7315-1f57-404c-a4b2-e918006b0d56"
   },
   "outputs": [
    {
     "data": {
      "text/html": [
       "<div>\n",
       "<style scoped>\n",
       "    .dataframe tbody tr th:only-of-type {\n",
       "        vertical-align: middle;\n",
       "    }\n",
       "\n",
       "    .dataframe tbody tr th {\n",
       "        vertical-align: top;\n",
       "    }\n",
       "\n",
       "    .dataframe thead th {\n",
       "        text-align: right;\n",
       "    }\n",
       "</style>\n",
       "<table border=\"1\" class=\"dataframe\">\n",
       "  <thead>\n",
       "    <tr style=\"text-align: right;\">\n",
       "      <th></th>\n",
       "      <th>carat</th>\n",
       "      <th>depth</th>\n",
       "      <th>table</th>\n",
       "      <th>price</th>\n",
       "      <th>x</th>\n",
       "      <th>y</th>\n",
       "      <th>z</th>\n",
       "    </tr>\n",
       "  </thead>\n",
       "  <tbody>\n",
       "    <tr>\n",
       "      <th>0</th>\n",
       "      <td>0.23</td>\n",
       "      <td>61.5</td>\n",
       "      <td>55.0</td>\n",
       "      <td>326</td>\n",
       "      <td>3.95</td>\n",
       "      <td>3.98</td>\n",
       "      <td>2.43</td>\n",
       "    </tr>\n",
       "    <tr>\n",
       "      <th>1</th>\n",
       "      <td>0.21</td>\n",
       "      <td>59.8</td>\n",
       "      <td>61.0</td>\n",
       "      <td>326</td>\n",
       "      <td>3.89</td>\n",
       "      <td>3.84</td>\n",
       "      <td>2.31</td>\n",
       "    </tr>\n",
       "    <tr>\n",
       "      <th>2</th>\n",
       "      <td>0.23</td>\n",
       "      <td>56.9</td>\n",
       "      <td>65.0</td>\n",
       "      <td>327</td>\n",
       "      <td>4.05</td>\n",
       "      <td>4.07</td>\n",
       "      <td>2.31</td>\n",
       "    </tr>\n",
       "    <tr>\n",
       "      <th>3</th>\n",
       "      <td>0.29</td>\n",
       "      <td>62.4</td>\n",
       "      <td>58.0</td>\n",
       "      <td>334</td>\n",
       "      <td>4.20</td>\n",
       "      <td>4.23</td>\n",
       "      <td>2.63</td>\n",
       "    </tr>\n",
       "    <tr>\n",
       "      <th>4</th>\n",
       "      <td>0.31</td>\n",
       "      <td>63.3</td>\n",
       "      <td>58.0</td>\n",
       "      <td>335</td>\n",
       "      <td>4.34</td>\n",
       "      <td>4.35</td>\n",
       "      <td>2.75</td>\n",
       "    </tr>\n",
       "    <tr>\n",
       "      <th>...</th>\n",
       "      <td>...</td>\n",
       "      <td>...</td>\n",
       "      <td>...</td>\n",
       "      <td>...</td>\n",
       "      <td>...</td>\n",
       "      <td>...</td>\n",
       "      <td>...</td>\n",
       "    </tr>\n",
       "    <tr>\n",
       "      <th>53935</th>\n",
       "      <td>0.72</td>\n",
       "      <td>60.8</td>\n",
       "      <td>57.0</td>\n",
       "      <td>2757</td>\n",
       "      <td>5.75</td>\n",
       "      <td>5.76</td>\n",
       "      <td>3.50</td>\n",
       "    </tr>\n",
       "    <tr>\n",
       "      <th>53936</th>\n",
       "      <td>0.72</td>\n",
       "      <td>63.1</td>\n",
       "      <td>55.0</td>\n",
       "      <td>2757</td>\n",
       "      <td>5.69</td>\n",
       "      <td>5.75</td>\n",
       "      <td>3.61</td>\n",
       "    </tr>\n",
       "    <tr>\n",
       "      <th>53937</th>\n",
       "      <td>0.70</td>\n",
       "      <td>62.8</td>\n",
       "      <td>60.0</td>\n",
       "      <td>2757</td>\n",
       "      <td>5.66</td>\n",
       "      <td>5.68</td>\n",
       "      <td>3.56</td>\n",
       "    </tr>\n",
       "    <tr>\n",
       "      <th>53938</th>\n",
       "      <td>0.86</td>\n",
       "      <td>61.0</td>\n",
       "      <td>58.0</td>\n",
       "      <td>2757</td>\n",
       "      <td>6.15</td>\n",
       "      <td>6.12</td>\n",
       "      <td>3.74</td>\n",
       "    </tr>\n",
       "    <tr>\n",
       "      <th>53939</th>\n",
       "      <td>0.75</td>\n",
       "      <td>62.2</td>\n",
       "      <td>55.0</td>\n",
       "      <td>2757</td>\n",
       "      <td>5.83</td>\n",
       "      <td>5.87</td>\n",
       "      <td>3.64</td>\n",
       "    </tr>\n",
       "  </tbody>\n",
       "</table>\n",
       "<p>53940 rows × 7 columns</p>\n",
       "</div>"
      ],
      "text/plain": [
       "       carat  depth  table  price     x     y     z\n",
       "0       0.23   61.5   55.0    326  3.95  3.98  2.43\n",
       "1       0.21   59.8   61.0    326  3.89  3.84  2.31\n",
       "2       0.23   56.9   65.0    327  4.05  4.07  2.31\n",
       "3       0.29   62.4   58.0    334  4.20  4.23  2.63\n",
       "4       0.31   63.3   58.0    335  4.34  4.35  2.75\n",
       "...      ...    ...    ...    ...   ...   ...   ...\n",
       "53935   0.72   60.8   57.0   2757  5.75  5.76  3.50\n",
       "53936   0.72   63.1   55.0   2757  5.69  5.75  3.61\n",
       "53937   0.70   62.8   60.0   2757  5.66  5.68  3.56\n",
       "53938   0.86   61.0   58.0   2757  6.15  6.12  3.74\n",
       "53939   0.75   62.2   55.0   2757  5.83  5.87  3.64\n",
       "\n",
       "[53940 rows x 7 columns]"
      ]
     },
     "execution_count": 41,
     "metadata": {},
     "output_type": "execute_result"
    }
   ],
   "source": [
    "# let's first remember our original DataFrame containing the extreme values\n",
    "\n",
    "df"
   ]
  },
  {
   "cell_type": "markdown",
   "metadata": {},
   "source": [
    "<p style=\"background-color:#FFFFFF; font-family:newtimeroman; color:#0000FF; font-size:110%; text-align:left;\"><strong>-----------------------------------------------------------------------------------------------------------------------------------------------------------------------------------------------</strong></p>\n",
    "\n",
    "### <p style=\"background-color:#FFFFFF; font-family:newtimeroman; color:#008000; font-size:125%; text-align:left;\"><strong>📌 Testing with a hypothetical proportions:</strong></p>\n",
    "\n",
    "\n",
    "Let us first define and use **``hypothetical proportions``** for the **``lowest``** and **``highest values``** for ``getting to know how winsorize() method works``.\n",
    "\n",
    "**The following code ``applies winsorization`` to the ``\"table\"`` feature in the original DataFrame:**"
   ]
  },
  {
   "cell_type": "code",
   "execution_count": 42,
   "metadata": {},
   "outputs": [
    {
     "data": {
      "text/html": [
       "<div>\n",
       "<style scoped>\n",
       "    .dataframe tbody tr th:only-of-type {\n",
       "        vertical-align: middle;\n",
       "    }\n",
       "\n",
       "    .dataframe tbody tr th {\n",
       "        vertical-align: top;\n",
       "    }\n",
       "\n",
       "    .dataframe thead th {\n",
       "        text-align: right;\n",
       "    }\n",
       "</style>\n",
       "<table border=\"1\" class=\"dataframe\">\n",
       "  <thead>\n",
       "    <tr style=\"text-align: right;\">\n",
       "      <th></th>\n",
       "      <th>winsorized_table</th>\n",
       "    </tr>\n",
       "  </thead>\n",
       "  <tbody>\n",
       "    <tr>\n",
       "      <th>0</th>\n",
       "      <td>55.0</td>\n",
       "    </tr>\n",
       "    <tr>\n",
       "      <th>1</th>\n",
       "      <td>61.0</td>\n",
       "    </tr>\n",
       "    <tr>\n",
       "      <th>2</th>\n",
       "      <td>61.0</td>\n",
       "    </tr>\n",
       "    <tr>\n",
       "      <th>3</th>\n",
       "      <td>58.0</td>\n",
       "    </tr>\n",
       "    <tr>\n",
       "      <th>4</th>\n",
       "      <td>58.0</td>\n",
       "    </tr>\n",
       "    <tr>\n",
       "      <th>...</th>\n",
       "      <td>...</td>\n",
       "    </tr>\n",
       "    <tr>\n",
       "      <th>53935</th>\n",
       "      <td>57.0</td>\n",
       "    </tr>\n",
       "    <tr>\n",
       "      <th>53936</th>\n",
       "      <td>55.0</td>\n",
       "    </tr>\n",
       "    <tr>\n",
       "      <th>53937</th>\n",
       "      <td>60.0</td>\n",
       "    </tr>\n",
       "    <tr>\n",
       "      <th>53938</th>\n",
       "      <td>58.0</td>\n",
       "    </tr>\n",
       "    <tr>\n",
       "      <th>53939</th>\n",
       "      <td>55.0</td>\n",
       "    </tr>\n",
       "  </tbody>\n",
       "</table>\n",
       "<p>53940 rows × 1 columns</p>\n",
       "</div>"
      ],
      "text/plain": [
       "       winsorized_table\n",
       "0                  55.0\n",
       "1                  61.0\n",
       "2                  61.0\n",
       "3                  58.0\n",
       "4                  58.0\n",
       "...                 ...\n",
       "53935              57.0\n",
       "53936              55.0\n",
       "53937              60.0\n",
       "53938              58.0\n",
       "53939              55.0\n",
       "\n",
       "[53940 rows x 1 columns]"
      ]
     },
     "execution_count": 42,
     "metadata": {},
     "output_type": "execute_result"
    }
   ],
   "source": [
    "# Winsorize the 'table' feature (2% lower and 5% upper)\n",
    "winsorized_table = winsorize(df.table, (0.02, 0.05))\n",
    "\n",
    "# Create a DataFrame for the winsorized values\n",
    "winsorized_df = pd.DataFrame(winsorized_table, columns=[\"winsorized_table\"])\n",
    "\n",
    "# Display the modified DataFrane\n",
    "winsorized_df"
   ]
  },
  {
   "cell_type": "markdown",
   "metadata": {},
   "source": [
    "\n",
    "\n",
    "<p style=\"background-color:#FFFFFF; font-family:newtimeroman; color:#0000FF; font-size:110%; text-align:left;\"><strong>-----------------------------------------------------------------------------------------------------------------------------------------------------------------------------------------------</strong></p>\n",
    "\n",
    "**The following code display DataFrames ``side by side``:**"
   ]
  },
  {
   "cell_type": "code",
   "execution_count": 43,
   "metadata": {},
   "outputs": [],
   "source": [
    "from IPython import display\n",
    "\n",
    "def display_side_by_side(dfs: list, captions: list = None):\n",
    "    \"\"\"\n",
    "    Display multiple Pandas DataFrames side by side in a Jupyter Notebook.\n",
    "\n",
    "    This function takes a list of DataFrames and their corresponding captions,\n",
    "    and displays them in a horizontal layout to save vertical space, making it\n",
    "    easier to compare the DataFrames visually.\n",
    "\n",
    "    Parameters:\n",
    "    ----------\n",
    "    dfs : list of pandas.DataFrame\n",
    "        A list containing the DataFrames to be displayed.\n",
    "\n",
    "    captions : list of str, optional\n",
    "        A list of captions for each DataFrame. If not provided, default captions\n",
    "        will be generated as \"DataFrame 1\", \"DataFrame 2\", etc.\n",
    "\n",
    "    Returns:\n",
    "    -------\n",
    "    None\n",
    "        The function displays the DataFrames directly in the notebook.\n",
    "\n",
    "    Raises:\n",
    "    ------\n",
    "    ValueError\n",
    "        If the length of `dfs` does not match the length of `captions` when captions are provided.\n",
    "\n",
    "    Examples:\n",
    "    ---------\n",
    "    >>> import pandas as pd\n",
    "    >>> df1 = pd.DataFrame({'A': [1, 2], 'B': [3, 4]})\n",
    "    >>> df2 = pd.DataFrame({'C': [5, 6], 'D': [7, 8]})\n",
    "    >>> display_side_by_side([df1, df2], ['First DataFrame', 'Second DataFrame'])\n",
    "    >>> display_side_by_side([df1, df2])  # Uses default captions\n",
    "    \"\"\"\n",
    "    \n",
    "    # Generate default captions if none are provided\n",
    "    if captions is None:\n",
    "        captions = [f'DataFrame {i + 1}' for i in range(len(dfs))]\n",
    "    \n",
    "    # Check if the length of dfs and captions match\n",
    "    if len(dfs) != len(captions):\n",
    "        raise ValueError(\"The length of 'dfs' must match the length of 'captions'.\")\n",
    "\n",
    "    output = \"\"\n",
    "    combined = dict(zip(captions, dfs))\n",
    "    for caption, df in combined.items():\n",
    "        output += df.style.set_table_attributes(\"style='display:inline'\").set_caption(caption)._repr_html_()\n",
    "        output += \"\\xa0\\xa0\\xa0\"\n",
    "    display.display(display.HTML(output))"
   ]
  },
  {
   "cell_type": "markdown",
   "metadata": {},
   "source": [
    "\n",
    "\n",
    "<p style=\"background-color:#FFFFFF; font-family:newtimeroman; color:#0000FF; font-size:110%; text-align:left;\"><strong>-----------------------------------------------------------------------------------------------------------------------------------------------------------------------------------------------</strong></p>\n",
    "\n",
    "**The following code creates two DataFrames for the comparisons of before and after winsorization operation:**\n",
    " - One for the counts of unique values in a winsorized version of the table column and\n",
    " - Another for the counts of unique values in the original table column. "
   ]
  },
  {
   "cell_type": "code",
   "execution_count": 44,
   "metadata": {},
   "outputs": [
    {
     "data": {
      "text/html": [
       "<style type=\"text/css\">\n",
       "</style>\n",
       "<table id=\"T_78eaf\" style='display:inline'>\n",
       "  <caption>Winsorized Counts</caption>\n",
       "  <thead>\n",
       "    <tr>\n",
       "      <th class=\"blank level0\" >&nbsp;</th>\n",
       "      <th id=\"T_78eaf_level0_col0\" class=\"col_heading level0 col0\" >count</th>\n",
       "    </tr>\n",
       "    <tr>\n",
       "      <th class=\"index_name level0\" >winsorized_table</th>\n",
       "      <th class=\"blank col0\" >&nbsp;</th>\n",
       "    </tr>\n",
       "  </thead>\n",
       "  <tbody>\n",
       "    <tr>\n",
       "      <th id=\"T_78eaf_level0_row0\" class=\"row_heading level0 row0\" >54.000000</th>\n",
       "      <td id=\"T_78eaf_row0_col0\" class=\"data row0 col0\" >3372</td>\n",
       "    </tr>\n",
       "    <tr>\n",
       "      <th id=\"T_78eaf_level0_row1\" class=\"row_heading level0 row1\" >54.100000</th>\n",
       "      <td id=\"T_78eaf_row1_col0\" class=\"data row1 col0\" >30</td>\n",
       "    </tr>\n",
       "    <tr>\n",
       "      <th id=\"T_78eaf_level0_row2\" class=\"row_heading level0 row2\" >54.200000</th>\n",
       "      <td id=\"T_78eaf_row2_col0\" class=\"data row2 col0\" >28</td>\n",
       "    </tr>\n",
       "    <tr>\n",
       "      <th id=\"T_78eaf_level0_row3\" class=\"row_heading level0 row3\" >54.300000</th>\n",
       "      <td id=\"T_78eaf_row3_col0\" class=\"data row3 col0\" >17</td>\n",
       "    </tr>\n",
       "    <tr>\n",
       "      <th id=\"T_78eaf_level0_row4\" class=\"row_heading level0 row4\" >54.400000</th>\n",
       "      <td id=\"T_78eaf_row4_col0\" class=\"data row4 col0\" >28</td>\n",
       "    </tr>\n",
       "    <tr>\n",
       "      <th id=\"T_78eaf_level0_row5\" class=\"row_heading level0 row5\" >54.500000</th>\n",
       "      <td id=\"T_78eaf_row5_col0\" class=\"data row5 col0\" >24</td>\n",
       "    </tr>\n",
       "    <tr>\n",
       "      <th id=\"T_78eaf_level0_row6\" class=\"row_heading level0 row6\" >54.600000</th>\n",
       "      <td id=\"T_78eaf_row6_col0\" class=\"data row6 col0\" >15</td>\n",
       "    </tr>\n",
       "    <tr>\n",
       "      <th id=\"T_78eaf_level0_row7\" class=\"row_heading level0 row7\" >54.700000</th>\n",
       "      <td id=\"T_78eaf_row7_col0\" class=\"data row7 col0\" >21</td>\n",
       "    </tr>\n",
       "    <tr>\n",
       "      <th id=\"T_78eaf_level0_row8\" class=\"row_heading level0 row8\" >54.800000</th>\n",
       "      <td id=\"T_78eaf_row8_col0\" class=\"data row8 col0\" >24</td>\n",
       "    </tr>\n",
       "    <tr>\n",
       "      <th id=\"T_78eaf_level0_row9\" class=\"row_heading level0 row9\" >54.900000</th>\n",
       "      <td id=\"T_78eaf_row9_col0\" class=\"data row9 col0\" >16</td>\n",
       "    </tr>\n",
       "    <tr>\n",
       "      <th id=\"T_78eaf_level0_row10\" class=\"row_heading level0 row10\" >55.000000</th>\n",
       "      <td id=\"T_78eaf_row10_col0\" class=\"data row10 col0\" >6268</td>\n",
       "    </tr>\n",
       "    <tr>\n",
       "      <th id=\"T_78eaf_level0_row11\" class=\"row_heading level0 row11\" >55.100000</th>\n",
       "      <td id=\"T_78eaf_row11_col0\" class=\"data row11 col0\" >30</td>\n",
       "    </tr>\n",
       "    <tr>\n",
       "      <th id=\"T_78eaf_level0_row12\" class=\"row_heading level0 row12\" >55.200000</th>\n",
       "      <td id=\"T_78eaf_row12_col0\" class=\"data row12 col0\" >18</td>\n",
       "    </tr>\n",
       "    <tr>\n",
       "      <th id=\"T_78eaf_level0_row13\" class=\"row_heading level0 row13\" >55.300000</th>\n",
       "      <td id=\"T_78eaf_row13_col0\" class=\"data row13 col0\" >13</td>\n",
       "    </tr>\n",
       "    <tr>\n",
       "      <th id=\"T_78eaf_level0_row14\" class=\"row_heading level0 row14\" >55.400000</th>\n",
       "      <td id=\"T_78eaf_row14_col0\" class=\"data row14 col0\" >13</td>\n",
       "    </tr>\n",
       "    <tr>\n",
       "      <th id=\"T_78eaf_level0_row15\" class=\"row_heading level0 row15\" >55.500000</th>\n",
       "      <td id=\"T_78eaf_row15_col0\" class=\"data row15 col0\" >13</td>\n",
       "    </tr>\n",
       "    <tr>\n",
       "      <th id=\"T_78eaf_level0_row16\" class=\"row_heading level0 row16\" >55.600000</th>\n",
       "      <td id=\"T_78eaf_row16_col0\" class=\"data row16 col0\" >22</td>\n",
       "    </tr>\n",
       "    <tr>\n",
       "      <th id=\"T_78eaf_level0_row17\" class=\"row_heading level0 row17\" >55.700000</th>\n",
       "      <td id=\"T_78eaf_row17_col0\" class=\"data row17 col0\" >19</td>\n",
       "    </tr>\n",
       "    <tr>\n",
       "      <th id=\"T_78eaf_level0_row18\" class=\"row_heading level0 row18\" >55.800000</th>\n",
       "      <td id=\"T_78eaf_row18_col0\" class=\"data row18 col0\" >19</td>\n",
       "    </tr>\n",
       "    <tr>\n",
       "      <th id=\"T_78eaf_level0_row19\" class=\"row_heading level0 row19\" >55.900000</th>\n",
       "      <td id=\"T_78eaf_row19_col0\" class=\"data row19 col0\" >17</td>\n",
       "    </tr>\n",
       "    <tr>\n",
       "      <th id=\"T_78eaf_level0_row20\" class=\"row_heading level0 row20\" >56.000000</th>\n",
       "      <td id=\"T_78eaf_row20_col0\" class=\"data row20 col0\" >9881</td>\n",
       "    </tr>\n",
       "    <tr>\n",
       "      <th id=\"T_78eaf_level0_row21\" class=\"row_heading level0 row21\" >56.100000</th>\n",
       "      <td id=\"T_78eaf_row21_col0\" class=\"data row21 col0\" >16</td>\n",
       "    </tr>\n",
       "    <tr>\n",
       "      <th id=\"T_78eaf_level0_row22\" class=\"row_heading level0 row22\" >56.200000</th>\n",
       "      <td id=\"T_78eaf_row22_col0\" class=\"data row22 col0\" >17</td>\n",
       "    </tr>\n",
       "    <tr>\n",
       "      <th id=\"T_78eaf_level0_row23\" class=\"row_heading level0 row23\" >56.300000</th>\n",
       "      <td id=\"T_78eaf_row23_col0\" class=\"data row23 col0\" >15</td>\n",
       "    </tr>\n",
       "    <tr>\n",
       "      <th id=\"T_78eaf_level0_row24\" class=\"row_heading level0 row24\" >56.400000</th>\n",
       "      <td id=\"T_78eaf_row24_col0\" class=\"data row24 col0\" >20</td>\n",
       "    </tr>\n",
       "    <tr>\n",
       "      <th id=\"T_78eaf_level0_row25\" class=\"row_heading level0 row25\" >56.500000</th>\n",
       "      <td id=\"T_78eaf_row25_col0\" class=\"data row25 col0\" >11</td>\n",
       "    </tr>\n",
       "    <tr>\n",
       "      <th id=\"T_78eaf_level0_row26\" class=\"row_heading level0 row26\" >56.600000</th>\n",
       "      <td id=\"T_78eaf_row26_col0\" class=\"data row26 col0\" >11</td>\n",
       "    </tr>\n",
       "    <tr>\n",
       "      <th id=\"T_78eaf_level0_row27\" class=\"row_heading level0 row27\" >56.700000</th>\n",
       "      <td id=\"T_78eaf_row27_col0\" class=\"data row27 col0\" >11</td>\n",
       "    </tr>\n",
       "    <tr>\n",
       "      <th id=\"T_78eaf_level0_row28\" class=\"row_heading level0 row28\" >56.800000</th>\n",
       "      <td id=\"T_78eaf_row28_col0\" class=\"data row28 col0\" >7</td>\n",
       "    </tr>\n",
       "    <tr>\n",
       "      <th id=\"T_78eaf_level0_row29\" class=\"row_heading level0 row29\" >56.900000</th>\n",
       "      <td id=\"T_78eaf_row29_col0\" class=\"data row29 col0\" >11</td>\n",
       "    </tr>\n",
       "    <tr>\n",
       "      <th id=\"T_78eaf_level0_row30\" class=\"row_heading level0 row30\" >57.000000</th>\n",
       "      <td id=\"T_78eaf_row30_col0\" class=\"data row30 col0\" >9724</td>\n",
       "    </tr>\n",
       "    <tr>\n",
       "      <th id=\"T_78eaf_level0_row31\" class=\"row_heading level0 row31\" >57.100000</th>\n",
       "      <td id=\"T_78eaf_row31_col0\" class=\"data row31 col0\" >11</td>\n",
       "    </tr>\n",
       "    <tr>\n",
       "      <th id=\"T_78eaf_level0_row32\" class=\"row_heading level0 row32\" >57.200000</th>\n",
       "      <td id=\"T_78eaf_row32_col0\" class=\"data row32 col0\" >11</td>\n",
       "    </tr>\n",
       "    <tr>\n",
       "      <th id=\"T_78eaf_level0_row33\" class=\"row_heading level0 row33\" >57.300000</th>\n",
       "      <td id=\"T_78eaf_row33_col0\" class=\"data row33 col0\" >6</td>\n",
       "    </tr>\n",
       "    <tr>\n",
       "      <th id=\"T_78eaf_level0_row34\" class=\"row_heading level0 row34\" >57.400000</th>\n",
       "      <td id=\"T_78eaf_row34_col0\" class=\"data row34 col0\" >9</td>\n",
       "    </tr>\n",
       "    <tr>\n",
       "      <th id=\"T_78eaf_level0_row35\" class=\"row_heading level0 row35\" >57.500000</th>\n",
       "      <td id=\"T_78eaf_row35_col0\" class=\"data row35 col0\" >8</td>\n",
       "    </tr>\n",
       "    <tr>\n",
       "      <th id=\"T_78eaf_level0_row36\" class=\"row_heading level0 row36\" >57.600000</th>\n",
       "      <td id=\"T_78eaf_row36_col0\" class=\"data row36 col0\" >9</td>\n",
       "    </tr>\n",
       "    <tr>\n",
       "      <th id=\"T_78eaf_level0_row37\" class=\"row_heading level0 row37\" >57.700000</th>\n",
       "      <td id=\"T_78eaf_row37_col0\" class=\"data row37 col0\" >10</td>\n",
       "    </tr>\n",
       "    <tr>\n",
       "      <th id=\"T_78eaf_level0_row38\" class=\"row_heading level0 row38\" >57.800000</th>\n",
       "      <td id=\"T_78eaf_row38_col0\" class=\"data row38 col0\" >11</td>\n",
       "    </tr>\n",
       "    <tr>\n",
       "      <th id=\"T_78eaf_level0_row39\" class=\"row_heading level0 row39\" >57.900000</th>\n",
       "      <td id=\"T_78eaf_row39_col0\" class=\"data row39 col0\" >6</td>\n",
       "    </tr>\n",
       "    <tr>\n",
       "      <th id=\"T_78eaf_level0_row40\" class=\"row_heading level0 row40\" >58.000000</th>\n",
       "      <td id=\"T_78eaf_row40_col0\" class=\"data row40 col0\" >8369</td>\n",
       "    </tr>\n",
       "    <tr>\n",
       "      <th id=\"T_78eaf_level0_row41\" class=\"row_heading level0 row41\" >58.100000</th>\n",
       "      <td id=\"T_78eaf_row41_col0\" class=\"data row41 col0\" >11</td>\n",
       "    </tr>\n",
       "    <tr>\n",
       "      <th id=\"T_78eaf_level0_row42\" class=\"row_heading level0 row42\" >58.200000</th>\n",
       "      <td id=\"T_78eaf_row42_col0\" class=\"data row42 col0\" >4</td>\n",
       "    </tr>\n",
       "    <tr>\n",
       "      <th id=\"T_78eaf_level0_row43\" class=\"row_heading level0 row43\" >58.300000</th>\n",
       "      <td id=\"T_78eaf_row43_col0\" class=\"data row43 col0\" >3</td>\n",
       "    </tr>\n",
       "    <tr>\n",
       "      <th id=\"T_78eaf_level0_row44\" class=\"row_heading level0 row44\" >58.400000</th>\n",
       "      <td id=\"T_78eaf_row44_col0\" class=\"data row44 col0\" >4</td>\n",
       "    </tr>\n",
       "    <tr>\n",
       "      <th id=\"T_78eaf_level0_row45\" class=\"row_heading level0 row45\" >58.500000</th>\n",
       "      <td id=\"T_78eaf_row45_col0\" class=\"data row45 col0\" >10</td>\n",
       "    </tr>\n",
       "    <tr>\n",
       "      <th id=\"T_78eaf_level0_row46\" class=\"row_heading level0 row46\" >58.600000</th>\n",
       "      <td id=\"T_78eaf_row46_col0\" class=\"data row46 col0\" >7</td>\n",
       "    </tr>\n",
       "    <tr>\n",
       "      <th id=\"T_78eaf_level0_row47\" class=\"row_heading level0 row47\" >58.700000</th>\n",
       "      <td id=\"T_78eaf_row47_col0\" class=\"data row47 col0\" >2</td>\n",
       "    </tr>\n",
       "    <tr>\n",
       "      <th id=\"T_78eaf_level0_row48\" class=\"row_heading level0 row48\" >58.800000</th>\n",
       "      <td id=\"T_78eaf_row48_col0\" class=\"data row48 col0\" >5</td>\n",
       "    </tr>\n",
       "    <tr>\n",
       "      <th id=\"T_78eaf_level0_row49\" class=\"row_heading level0 row49\" >58.900000</th>\n",
       "      <td id=\"T_78eaf_row49_col0\" class=\"data row49 col0\" >3</td>\n",
       "    </tr>\n",
       "    <tr>\n",
       "      <th id=\"T_78eaf_level0_row50\" class=\"row_heading level0 row50\" >59.000000</th>\n",
       "      <td id=\"T_78eaf_row50_col0\" class=\"data row50 col0\" >6572</td>\n",
       "    </tr>\n",
       "    <tr>\n",
       "      <th id=\"T_78eaf_level0_row51\" class=\"row_heading level0 row51\" >59.100000</th>\n",
       "      <td id=\"T_78eaf_row51_col0\" class=\"data row51 col0\" >5</td>\n",
       "    </tr>\n",
       "    <tr>\n",
       "      <th id=\"T_78eaf_level0_row52\" class=\"row_heading level0 row52\" >59.200000</th>\n",
       "      <td id=\"T_78eaf_row52_col0\" class=\"data row52 col0\" >7</td>\n",
       "    </tr>\n",
       "    <tr>\n",
       "      <th id=\"T_78eaf_level0_row53\" class=\"row_heading level0 row53\" >59.300000</th>\n",
       "      <td id=\"T_78eaf_row53_col0\" class=\"data row53 col0\" >2</td>\n",
       "    </tr>\n",
       "    <tr>\n",
       "      <th id=\"T_78eaf_level0_row54\" class=\"row_heading level0 row54\" >59.400000</th>\n",
       "      <td id=\"T_78eaf_row54_col0\" class=\"data row54 col0\" >8</td>\n",
       "    </tr>\n",
       "    <tr>\n",
       "      <th id=\"T_78eaf_level0_row55\" class=\"row_heading level0 row55\" >59.500000</th>\n",
       "      <td id=\"T_78eaf_row55_col0\" class=\"data row55 col0\" >4</td>\n",
       "    </tr>\n",
       "    <tr>\n",
       "      <th id=\"T_78eaf_level0_row56\" class=\"row_heading level0 row56\" >59.600000</th>\n",
       "      <td id=\"T_78eaf_row56_col0\" class=\"data row56 col0\" >3</td>\n",
       "    </tr>\n",
       "    <tr>\n",
       "      <th id=\"T_78eaf_level0_row57\" class=\"row_heading level0 row57\" >59.700000</th>\n",
       "      <td id=\"T_78eaf_row57_col0\" class=\"data row57 col0\" >6</td>\n",
       "    </tr>\n",
       "    <tr>\n",
       "      <th id=\"T_78eaf_level0_row58\" class=\"row_heading level0 row58\" >59.800000</th>\n",
       "      <td id=\"T_78eaf_row58_col0\" class=\"data row58 col0\" >6</td>\n",
       "    </tr>\n",
       "    <tr>\n",
       "      <th id=\"T_78eaf_level0_row59\" class=\"row_heading level0 row59\" >59.900000</th>\n",
       "      <td id=\"T_78eaf_row59_col0\" class=\"data row59 col0\" >10</td>\n",
       "    </tr>\n",
       "    <tr>\n",
       "      <th id=\"T_78eaf_level0_row60\" class=\"row_heading level0 row60\" >60.000000</th>\n",
       "      <td id=\"T_78eaf_row60_col0\" class=\"data row60 col0\" >4241</td>\n",
       "    </tr>\n",
       "    <tr>\n",
       "      <th id=\"T_78eaf_level0_row61\" class=\"row_heading level0 row61\" >60.100000</th>\n",
       "      <td id=\"T_78eaf_row61_col0\" class=\"data row61 col0\" >10</td>\n",
       "    </tr>\n",
       "    <tr>\n",
       "      <th id=\"T_78eaf_level0_row62\" class=\"row_heading level0 row62\" >60.200000</th>\n",
       "      <td id=\"T_78eaf_row62_col0\" class=\"data row62 col0\" >5</td>\n",
       "    </tr>\n",
       "    <tr>\n",
       "      <th id=\"T_78eaf_level0_row63\" class=\"row_heading level0 row63\" >60.300000</th>\n",
       "      <td id=\"T_78eaf_row63_col0\" class=\"data row63 col0\" >10</td>\n",
       "    </tr>\n",
       "    <tr>\n",
       "      <th id=\"T_78eaf_level0_row64\" class=\"row_heading level0 row64\" >60.400000</th>\n",
       "      <td id=\"T_78eaf_row64_col0\" class=\"data row64 col0\" >5</td>\n",
       "    </tr>\n",
       "    <tr>\n",
       "      <th id=\"T_78eaf_level0_row65\" class=\"row_heading level0 row65\" >60.500000</th>\n",
       "      <td id=\"T_78eaf_row65_col0\" class=\"data row65 col0\" >10</td>\n",
       "    </tr>\n",
       "    <tr>\n",
       "      <th id=\"T_78eaf_level0_row66\" class=\"row_heading level0 row66\" >60.600000</th>\n",
       "      <td id=\"T_78eaf_row66_col0\" class=\"data row66 col0\" >3</td>\n",
       "    </tr>\n",
       "    <tr>\n",
       "      <th id=\"T_78eaf_level0_row67\" class=\"row_heading level0 row67\" >60.700000</th>\n",
       "      <td id=\"T_78eaf_row67_col0\" class=\"data row67 col0\" >9</td>\n",
       "    </tr>\n",
       "    <tr>\n",
       "      <th id=\"T_78eaf_level0_row68\" class=\"row_heading level0 row68\" >60.800000</th>\n",
       "      <td id=\"T_78eaf_row68_col0\" class=\"data row68 col0\" >5</td>\n",
       "    </tr>\n",
       "    <tr>\n",
       "      <th id=\"T_78eaf_level0_row69\" class=\"row_heading level0 row69\" >60.900000</th>\n",
       "      <td id=\"T_78eaf_row69_col0\" class=\"data row69 col0\" >8</td>\n",
       "    </tr>\n",
       "    <tr>\n",
       "      <th id=\"T_78eaf_level0_row70\" class=\"row_heading level0 row70\" >61.000000</th>\n",
       "      <td id=\"T_78eaf_row70_col0\" class=\"data row70 col0\" >4781</td>\n",
       "    </tr>\n",
       "  </tbody>\n",
       "</table>\n",
       "   <style type=\"text/css\">\n",
       "</style>\n",
       "<table id=\"T_ee6e6\" style='display:inline'>\n",
       "  <caption>Original Counts</caption>\n",
       "  <thead>\n",
       "    <tr>\n",
       "      <th class=\"blank level0\" >&nbsp;</th>\n",
       "      <th id=\"T_ee6e6_level0_col0\" class=\"col_heading level0 col0\" >count</th>\n",
       "    </tr>\n",
       "    <tr>\n",
       "      <th class=\"index_name level0\" >table</th>\n",
       "      <th class=\"blank col0\" >&nbsp;</th>\n",
       "    </tr>\n",
       "  </thead>\n",
       "  <tbody>\n",
       "    <tr>\n",
       "      <th id=\"T_ee6e6_level0_row0\" class=\"row_heading level0 row0\" >43.000000</th>\n",
       "      <td id=\"T_ee6e6_row0_col0\" class=\"data row0 col0\" >1</td>\n",
       "    </tr>\n",
       "    <tr>\n",
       "      <th id=\"T_ee6e6_level0_row1\" class=\"row_heading level0 row1\" >44.000000</th>\n",
       "      <td id=\"T_ee6e6_row1_col0\" class=\"data row1 col0\" >1</td>\n",
       "    </tr>\n",
       "    <tr>\n",
       "      <th id=\"T_ee6e6_level0_row2\" class=\"row_heading level0 row2\" >49.000000</th>\n",
       "      <td id=\"T_ee6e6_row2_col0\" class=\"data row2 col0\" >2</td>\n",
       "    </tr>\n",
       "    <tr>\n",
       "      <th id=\"T_ee6e6_level0_row3\" class=\"row_heading level0 row3\" >50.000000</th>\n",
       "      <td id=\"T_ee6e6_row3_col0\" class=\"data row3 col0\" >2</td>\n",
       "    </tr>\n",
       "    <tr>\n",
       "      <th id=\"T_ee6e6_level0_row4\" class=\"row_heading level0 row4\" >50.100000</th>\n",
       "      <td id=\"T_ee6e6_row4_col0\" class=\"data row4 col0\" >1</td>\n",
       "    </tr>\n",
       "    <tr>\n",
       "      <th id=\"T_ee6e6_level0_row5\" class=\"row_heading level0 row5\" >51.000000</th>\n",
       "      <td id=\"T_ee6e6_row5_col0\" class=\"data row5 col0\" >9</td>\n",
       "    </tr>\n",
       "    <tr>\n",
       "      <th id=\"T_ee6e6_level0_row6\" class=\"row_heading level0 row6\" >51.600000</th>\n",
       "      <td id=\"T_ee6e6_row6_col0\" class=\"data row6 col0\" >1</td>\n",
       "    </tr>\n",
       "    <tr>\n",
       "      <th id=\"T_ee6e6_level0_row7\" class=\"row_heading level0 row7\" >52.000000</th>\n",
       "      <td id=\"T_ee6e6_row7_col0\" class=\"data row7 col0\" >56</td>\n",
       "    </tr>\n",
       "    <tr>\n",
       "      <th id=\"T_ee6e6_level0_row8\" class=\"row_heading level0 row8\" >52.400000</th>\n",
       "      <td id=\"T_ee6e6_row8_col0\" class=\"data row8 col0\" >1</td>\n",
       "    </tr>\n",
       "    <tr>\n",
       "      <th id=\"T_ee6e6_level0_row9\" class=\"row_heading level0 row9\" >52.800000</th>\n",
       "      <td id=\"T_ee6e6_row9_col0\" class=\"data row9 col0\" >2</td>\n",
       "    </tr>\n",
       "    <tr>\n",
       "      <th id=\"T_ee6e6_level0_row10\" class=\"row_heading level0 row10\" >53.000000</th>\n",
       "      <td id=\"T_ee6e6_row10_col0\" class=\"data row10 col0\" >567</td>\n",
       "    </tr>\n",
       "    <tr>\n",
       "      <th id=\"T_ee6e6_level0_row11\" class=\"row_heading level0 row11\" >53.100000</th>\n",
       "      <td id=\"T_ee6e6_row11_col0\" class=\"data row11 col0\" >3</td>\n",
       "    </tr>\n",
       "    <tr>\n",
       "      <th id=\"T_ee6e6_level0_row12\" class=\"row_heading level0 row12\" >53.200000</th>\n",
       "      <td id=\"T_ee6e6_row12_col0\" class=\"data row12 col0\" >5</td>\n",
       "    </tr>\n",
       "    <tr>\n",
       "      <th id=\"T_ee6e6_level0_row13\" class=\"row_heading level0 row13\" >53.300000</th>\n",
       "      <td id=\"T_ee6e6_row13_col0\" class=\"data row13 col0\" >8</td>\n",
       "    </tr>\n",
       "    <tr>\n",
       "      <th id=\"T_ee6e6_level0_row14\" class=\"row_heading level0 row14\" >53.400000</th>\n",
       "      <td id=\"T_ee6e6_row14_col0\" class=\"data row14 col0\" >12</td>\n",
       "    </tr>\n",
       "    <tr>\n",
       "      <th id=\"T_ee6e6_level0_row15\" class=\"row_heading level0 row15\" >53.500000</th>\n",
       "      <td id=\"T_ee6e6_row15_col0\" class=\"data row15 col0\" >12</td>\n",
       "    </tr>\n",
       "    <tr>\n",
       "      <th id=\"T_ee6e6_level0_row16\" class=\"row_heading level0 row16\" >53.600000</th>\n",
       "      <td id=\"T_ee6e6_row16_col0\" class=\"data row16 col0\" >20</td>\n",
       "    </tr>\n",
       "    <tr>\n",
       "      <th id=\"T_ee6e6_level0_row17\" class=\"row_heading level0 row17\" >53.700000</th>\n",
       "      <td id=\"T_ee6e6_row17_col0\" class=\"data row17 col0\" >25</td>\n",
       "    </tr>\n",
       "    <tr>\n",
       "      <th id=\"T_ee6e6_level0_row18\" class=\"row_heading level0 row18\" >53.800000</th>\n",
       "      <td id=\"T_ee6e6_row18_col0\" class=\"data row18 col0\" >22</td>\n",
       "    </tr>\n",
       "    <tr>\n",
       "      <th id=\"T_ee6e6_level0_row19\" class=\"row_heading level0 row19\" >53.900000</th>\n",
       "      <td id=\"T_ee6e6_row19_col0\" class=\"data row19 col0\" >28</td>\n",
       "    </tr>\n",
       "    <tr>\n",
       "      <th id=\"T_ee6e6_level0_row20\" class=\"row_heading level0 row20\" >54.000000</th>\n",
       "      <td id=\"T_ee6e6_row20_col0\" class=\"data row20 col0\" >2594</td>\n",
       "    </tr>\n",
       "    <tr>\n",
       "      <th id=\"T_ee6e6_level0_row21\" class=\"row_heading level0 row21\" >54.100000</th>\n",
       "      <td id=\"T_ee6e6_row21_col0\" class=\"data row21 col0\" >30</td>\n",
       "    </tr>\n",
       "    <tr>\n",
       "      <th id=\"T_ee6e6_level0_row22\" class=\"row_heading level0 row22\" >54.200000</th>\n",
       "      <td id=\"T_ee6e6_row22_col0\" class=\"data row22 col0\" >28</td>\n",
       "    </tr>\n",
       "    <tr>\n",
       "      <th id=\"T_ee6e6_level0_row23\" class=\"row_heading level0 row23\" >54.300000</th>\n",
       "      <td id=\"T_ee6e6_row23_col0\" class=\"data row23 col0\" >17</td>\n",
       "    </tr>\n",
       "    <tr>\n",
       "      <th id=\"T_ee6e6_level0_row24\" class=\"row_heading level0 row24\" >54.400000</th>\n",
       "      <td id=\"T_ee6e6_row24_col0\" class=\"data row24 col0\" >28</td>\n",
       "    </tr>\n",
       "    <tr>\n",
       "      <th id=\"T_ee6e6_level0_row25\" class=\"row_heading level0 row25\" >54.500000</th>\n",
       "      <td id=\"T_ee6e6_row25_col0\" class=\"data row25 col0\" >24</td>\n",
       "    </tr>\n",
       "    <tr>\n",
       "      <th id=\"T_ee6e6_level0_row26\" class=\"row_heading level0 row26\" >54.600000</th>\n",
       "      <td id=\"T_ee6e6_row26_col0\" class=\"data row26 col0\" >15</td>\n",
       "    </tr>\n",
       "    <tr>\n",
       "      <th id=\"T_ee6e6_level0_row27\" class=\"row_heading level0 row27\" >54.700000</th>\n",
       "      <td id=\"T_ee6e6_row27_col0\" class=\"data row27 col0\" >21</td>\n",
       "    </tr>\n",
       "    <tr>\n",
       "      <th id=\"T_ee6e6_level0_row28\" class=\"row_heading level0 row28\" >54.800000</th>\n",
       "      <td id=\"T_ee6e6_row28_col0\" class=\"data row28 col0\" >24</td>\n",
       "    </tr>\n",
       "    <tr>\n",
       "      <th id=\"T_ee6e6_level0_row29\" class=\"row_heading level0 row29\" >54.900000</th>\n",
       "      <td id=\"T_ee6e6_row29_col0\" class=\"data row29 col0\" >16</td>\n",
       "    </tr>\n",
       "    <tr>\n",
       "      <th id=\"T_ee6e6_level0_row30\" class=\"row_heading level0 row30\" >55.000000</th>\n",
       "      <td id=\"T_ee6e6_row30_col0\" class=\"data row30 col0\" >6268</td>\n",
       "    </tr>\n",
       "    <tr>\n",
       "      <th id=\"T_ee6e6_level0_row31\" class=\"row_heading level0 row31\" >55.100000</th>\n",
       "      <td id=\"T_ee6e6_row31_col0\" class=\"data row31 col0\" >30</td>\n",
       "    </tr>\n",
       "    <tr>\n",
       "      <th id=\"T_ee6e6_level0_row32\" class=\"row_heading level0 row32\" >55.200000</th>\n",
       "      <td id=\"T_ee6e6_row32_col0\" class=\"data row32 col0\" >18</td>\n",
       "    </tr>\n",
       "    <tr>\n",
       "      <th id=\"T_ee6e6_level0_row33\" class=\"row_heading level0 row33\" >55.300000</th>\n",
       "      <td id=\"T_ee6e6_row33_col0\" class=\"data row33 col0\" >13</td>\n",
       "    </tr>\n",
       "    <tr>\n",
       "      <th id=\"T_ee6e6_level0_row34\" class=\"row_heading level0 row34\" >55.400000</th>\n",
       "      <td id=\"T_ee6e6_row34_col0\" class=\"data row34 col0\" >13</td>\n",
       "    </tr>\n",
       "    <tr>\n",
       "      <th id=\"T_ee6e6_level0_row35\" class=\"row_heading level0 row35\" >55.500000</th>\n",
       "      <td id=\"T_ee6e6_row35_col0\" class=\"data row35 col0\" >13</td>\n",
       "    </tr>\n",
       "    <tr>\n",
       "      <th id=\"T_ee6e6_level0_row36\" class=\"row_heading level0 row36\" >55.600000</th>\n",
       "      <td id=\"T_ee6e6_row36_col0\" class=\"data row36 col0\" >22</td>\n",
       "    </tr>\n",
       "    <tr>\n",
       "      <th id=\"T_ee6e6_level0_row37\" class=\"row_heading level0 row37\" >55.700000</th>\n",
       "      <td id=\"T_ee6e6_row37_col0\" class=\"data row37 col0\" >19</td>\n",
       "    </tr>\n",
       "    <tr>\n",
       "      <th id=\"T_ee6e6_level0_row38\" class=\"row_heading level0 row38\" >55.800000</th>\n",
       "      <td id=\"T_ee6e6_row38_col0\" class=\"data row38 col0\" >19</td>\n",
       "    </tr>\n",
       "    <tr>\n",
       "      <th id=\"T_ee6e6_level0_row39\" class=\"row_heading level0 row39\" >55.900000</th>\n",
       "      <td id=\"T_ee6e6_row39_col0\" class=\"data row39 col0\" >17</td>\n",
       "    </tr>\n",
       "    <tr>\n",
       "      <th id=\"T_ee6e6_level0_row40\" class=\"row_heading level0 row40\" >56.000000</th>\n",
       "      <td id=\"T_ee6e6_row40_col0\" class=\"data row40 col0\" >9881</td>\n",
       "    </tr>\n",
       "    <tr>\n",
       "      <th id=\"T_ee6e6_level0_row41\" class=\"row_heading level0 row41\" >56.100000</th>\n",
       "      <td id=\"T_ee6e6_row41_col0\" class=\"data row41 col0\" >16</td>\n",
       "    </tr>\n",
       "    <tr>\n",
       "      <th id=\"T_ee6e6_level0_row42\" class=\"row_heading level0 row42\" >56.200000</th>\n",
       "      <td id=\"T_ee6e6_row42_col0\" class=\"data row42 col0\" >17</td>\n",
       "    </tr>\n",
       "    <tr>\n",
       "      <th id=\"T_ee6e6_level0_row43\" class=\"row_heading level0 row43\" >56.300000</th>\n",
       "      <td id=\"T_ee6e6_row43_col0\" class=\"data row43 col0\" >15</td>\n",
       "    </tr>\n",
       "    <tr>\n",
       "      <th id=\"T_ee6e6_level0_row44\" class=\"row_heading level0 row44\" >56.400000</th>\n",
       "      <td id=\"T_ee6e6_row44_col0\" class=\"data row44 col0\" >20</td>\n",
       "    </tr>\n",
       "    <tr>\n",
       "      <th id=\"T_ee6e6_level0_row45\" class=\"row_heading level0 row45\" >56.500000</th>\n",
       "      <td id=\"T_ee6e6_row45_col0\" class=\"data row45 col0\" >11</td>\n",
       "    </tr>\n",
       "    <tr>\n",
       "      <th id=\"T_ee6e6_level0_row46\" class=\"row_heading level0 row46\" >56.600000</th>\n",
       "      <td id=\"T_ee6e6_row46_col0\" class=\"data row46 col0\" >11</td>\n",
       "    </tr>\n",
       "    <tr>\n",
       "      <th id=\"T_ee6e6_level0_row47\" class=\"row_heading level0 row47\" >56.700000</th>\n",
       "      <td id=\"T_ee6e6_row47_col0\" class=\"data row47 col0\" >11</td>\n",
       "    </tr>\n",
       "    <tr>\n",
       "      <th id=\"T_ee6e6_level0_row48\" class=\"row_heading level0 row48\" >56.800000</th>\n",
       "      <td id=\"T_ee6e6_row48_col0\" class=\"data row48 col0\" >7</td>\n",
       "    </tr>\n",
       "    <tr>\n",
       "      <th id=\"T_ee6e6_level0_row49\" class=\"row_heading level0 row49\" >56.900000</th>\n",
       "      <td id=\"T_ee6e6_row49_col0\" class=\"data row49 col0\" >11</td>\n",
       "    </tr>\n",
       "    <tr>\n",
       "      <th id=\"T_ee6e6_level0_row50\" class=\"row_heading level0 row50\" >57.000000</th>\n",
       "      <td id=\"T_ee6e6_row50_col0\" class=\"data row50 col0\" >9724</td>\n",
       "    </tr>\n",
       "    <tr>\n",
       "      <th id=\"T_ee6e6_level0_row51\" class=\"row_heading level0 row51\" >57.100000</th>\n",
       "      <td id=\"T_ee6e6_row51_col0\" class=\"data row51 col0\" >11</td>\n",
       "    </tr>\n",
       "    <tr>\n",
       "      <th id=\"T_ee6e6_level0_row52\" class=\"row_heading level0 row52\" >57.200000</th>\n",
       "      <td id=\"T_ee6e6_row52_col0\" class=\"data row52 col0\" >11</td>\n",
       "    </tr>\n",
       "    <tr>\n",
       "      <th id=\"T_ee6e6_level0_row53\" class=\"row_heading level0 row53\" >57.300000</th>\n",
       "      <td id=\"T_ee6e6_row53_col0\" class=\"data row53 col0\" >6</td>\n",
       "    </tr>\n",
       "    <tr>\n",
       "      <th id=\"T_ee6e6_level0_row54\" class=\"row_heading level0 row54\" >57.400000</th>\n",
       "      <td id=\"T_ee6e6_row54_col0\" class=\"data row54 col0\" >9</td>\n",
       "    </tr>\n",
       "    <tr>\n",
       "      <th id=\"T_ee6e6_level0_row55\" class=\"row_heading level0 row55\" >57.500000</th>\n",
       "      <td id=\"T_ee6e6_row55_col0\" class=\"data row55 col0\" >8</td>\n",
       "    </tr>\n",
       "    <tr>\n",
       "      <th id=\"T_ee6e6_level0_row56\" class=\"row_heading level0 row56\" >57.600000</th>\n",
       "      <td id=\"T_ee6e6_row56_col0\" class=\"data row56 col0\" >9</td>\n",
       "    </tr>\n",
       "    <tr>\n",
       "      <th id=\"T_ee6e6_level0_row57\" class=\"row_heading level0 row57\" >57.700000</th>\n",
       "      <td id=\"T_ee6e6_row57_col0\" class=\"data row57 col0\" >10</td>\n",
       "    </tr>\n",
       "    <tr>\n",
       "      <th id=\"T_ee6e6_level0_row58\" class=\"row_heading level0 row58\" >57.800000</th>\n",
       "      <td id=\"T_ee6e6_row58_col0\" class=\"data row58 col0\" >11</td>\n",
       "    </tr>\n",
       "    <tr>\n",
       "      <th id=\"T_ee6e6_level0_row59\" class=\"row_heading level0 row59\" >57.900000</th>\n",
       "      <td id=\"T_ee6e6_row59_col0\" class=\"data row59 col0\" >6</td>\n",
       "    </tr>\n",
       "    <tr>\n",
       "      <th id=\"T_ee6e6_level0_row60\" class=\"row_heading level0 row60\" >58.000000</th>\n",
       "      <td id=\"T_ee6e6_row60_col0\" class=\"data row60 col0\" >8369</td>\n",
       "    </tr>\n",
       "    <tr>\n",
       "      <th id=\"T_ee6e6_level0_row61\" class=\"row_heading level0 row61\" >58.100000</th>\n",
       "      <td id=\"T_ee6e6_row61_col0\" class=\"data row61 col0\" >11</td>\n",
       "    </tr>\n",
       "    <tr>\n",
       "      <th id=\"T_ee6e6_level0_row62\" class=\"row_heading level0 row62\" >58.200000</th>\n",
       "      <td id=\"T_ee6e6_row62_col0\" class=\"data row62 col0\" >4</td>\n",
       "    </tr>\n",
       "    <tr>\n",
       "      <th id=\"T_ee6e6_level0_row63\" class=\"row_heading level0 row63\" >58.300000</th>\n",
       "      <td id=\"T_ee6e6_row63_col0\" class=\"data row63 col0\" >3</td>\n",
       "    </tr>\n",
       "    <tr>\n",
       "      <th id=\"T_ee6e6_level0_row64\" class=\"row_heading level0 row64\" >58.400000</th>\n",
       "      <td id=\"T_ee6e6_row64_col0\" class=\"data row64 col0\" >4</td>\n",
       "    </tr>\n",
       "    <tr>\n",
       "      <th id=\"T_ee6e6_level0_row65\" class=\"row_heading level0 row65\" >58.500000</th>\n",
       "      <td id=\"T_ee6e6_row65_col0\" class=\"data row65 col0\" >10</td>\n",
       "    </tr>\n",
       "    <tr>\n",
       "      <th id=\"T_ee6e6_level0_row66\" class=\"row_heading level0 row66\" >58.600000</th>\n",
       "      <td id=\"T_ee6e6_row66_col0\" class=\"data row66 col0\" >7</td>\n",
       "    </tr>\n",
       "    <tr>\n",
       "      <th id=\"T_ee6e6_level0_row67\" class=\"row_heading level0 row67\" >58.700000</th>\n",
       "      <td id=\"T_ee6e6_row67_col0\" class=\"data row67 col0\" >2</td>\n",
       "    </tr>\n",
       "    <tr>\n",
       "      <th id=\"T_ee6e6_level0_row68\" class=\"row_heading level0 row68\" >58.800000</th>\n",
       "      <td id=\"T_ee6e6_row68_col0\" class=\"data row68 col0\" >5</td>\n",
       "    </tr>\n",
       "    <tr>\n",
       "      <th id=\"T_ee6e6_level0_row69\" class=\"row_heading level0 row69\" >58.900000</th>\n",
       "      <td id=\"T_ee6e6_row69_col0\" class=\"data row69 col0\" >3</td>\n",
       "    </tr>\n",
       "    <tr>\n",
       "      <th id=\"T_ee6e6_level0_row70\" class=\"row_heading level0 row70\" >59.000000</th>\n",
       "      <td id=\"T_ee6e6_row70_col0\" class=\"data row70 col0\" >6572</td>\n",
       "    </tr>\n",
       "    <tr>\n",
       "      <th id=\"T_ee6e6_level0_row71\" class=\"row_heading level0 row71\" >59.100000</th>\n",
       "      <td id=\"T_ee6e6_row71_col0\" class=\"data row71 col0\" >5</td>\n",
       "    </tr>\n",
       "    <tr>\n",
       "      <th id=\"T_ee6e6_level0_row72\" class=\"row_heading level0 row72\" >59.200000</th>\n",
       "      <td id=\"T_ee6e6_row72_col0\" class=\"data row72 col0\" >7</td>\n",
       "    </tr>\n",
       "    <tr>\n",
       "      <th id=\"T_ee6e6_level0_row73\" class=\"row_heading level0 row73\" >59.300000</th>\n",
       "      <td id=\"T_ee6e6_row73_col0\" class=\"data row73 col0\" >2</td>\n",
       "    </tr>\n",
       "    <tr>\n",
       "      <th id=\"T_ee6e6_level0_row74\" class=\"row_heading level0 row74\" >59.400000</th>\n",
       "      <td id=\"T_ee6e6_row74_col0\" class=\"data row74 col0\" >8</td>\n",
       "    </tr>\n",
       "    <tr>\n",
       "      <th id=\"T_ee6e6_level0_row75\" class=\"row_heading level0 row75\" >59.500000</th>\n",
       "      <td id=\"T_ee6e6_row75_col0\" class=\"data row75 col0\" >4</td>\n",
       "    </tr>\n",
       "    <tr>\n",
       "      <th id=\"T_ee6e6_level0_row76\" class=\"row_heading level0 row76\" >59.600000</th>\n",
       "      <td id=\"T_ee6e6_row76_col0\" class=\"data row76 col0\" >3</td>\n",
       "    </tr>\n",
       "    <tr>\n",
       "      <th id=\"T_ee6e6_level0_row77\" class=\"row_heading level0 row77\" >59.700000</th>\n",
       "      <td id=\"T_ee6e6_row77_col0\" class=\"data row77 col0\" >6</td>\n",
       "    </tr>\n",
       "    <tr>\n",
       "      <th id=\"T_ee6e6_level0_row78\" class=\"row_heading level0 row78\" >59.800000</th>\n",
       "      <td id=\"T_ee6e6_row78_col0\" class=\"data row78 col0\" >6</td>\n",
       "    </tr>\n",
       "    <tr>\n",
       "      <th id=\"T_ee6e6_level0_row79\" class=\"row_heading level0 row79\" >59.900000</th>\n",
       "      <td id=\"T_ee6e6_row79_col0\" class=\"data row79 col0\" >10</td>\n",
       "    </tr>\n",
       "    <tr>\n",
       "      <th id=\"T_ee6e6_level0_row80\" class=\"row_heading level0 row80\" >60.000000</th>\n",
       "      <td id=\"T_ee6e6_row80_col0\" class=\"data row80 col0\" >4241</td>\n",
       "    </tr>\n",
       "    <tr>\n",
       "      <th id=\"T_ee6e6_level0_row81\" class=\"row_heading level0 row81\" >60.100000</th>\n",
       "      <td id=\"T_ee6e6_row81_col0\" class=\"data row81 col0\" >10</td>\n",
       "    </tr>\n",
       "    <tr>\n",
       "      <th id=\"T_ee6e6_level0_row82\" class=\"row_heading level0 row82\" >60.200000</th>\n",
       "      <td id=\"T_ee6e6_row82_col0\" class=\"data row82 col0\" >5</td>\n",
       "    </tr>\n",
       "    <tr>\n",
       "      <th id=\"T_ee6e6_level0_row83\" class=\"row_heading level0 row83\" >60.300000</th>\n",
       "      <td id=\"T_ee6e6_row83_col0\" class=\"data row83 col0\" >10</td>\n",
       "    </tr>\n",
       "    <tr>\n",
       "      <th id=\"T_ee6e6_level0_row84\" class=\"row_heading level0 row84\" >60.400000</th>\n",
       "      <td id=\"T_ee6e6_row84_col0\" class=\"data row84 col0\" >5</td>\n",
       "    </tr>\n",
       "    <tr>\n",
       "      <th id=\"T_ee6e6_level0_row85\" class=\"row_heading level0 row85\" >60.500000</th>\n",
       "      <td id=\"T_ee6e6_row85_col0\" class=\"data row85 col0\" >10</td>\n",
       "    </tr>\n",
       "    <tr>\n",
       "      <th id=\"T_ee6e6_level0_row86\" class=\"row_heading level0 row86\" >60.600000</th>\n",
       "      <td id=\"T_ee6e6_row86_col0\" class=\"data row86 col0\" >3</td>\n",
       "    </tr>\n",
       "    <tr>\n",
       "      <th id=\"T_ee6e6_level0_row87\" class=\"row_heading level0 row87\" >60.700000</th>\n",
       "      <td id=\"T_ee6e6_row87_col0\" class=\"data row87 col0\" >9</td>\n",
       "    </tr>\n",
       "    <tr>\n",
       "      <th id=\"T_ee6e6_level0_row88\" class=\"row_heading level0 row88\" >60.800000</th>\n",
       "      <td id=\"T_ee6e6_row88_col0\" class=\"data row88 col0\" >5</td>\n",
       "    </tr>\n",
       "    <tr>\n",
       "      <th id=\"T_ee6e6_level0_row89\" class=\"row_heading level0 row89\" >60.900000</th>\n",
       "      <td id=\"T_ee6e6_row89_col0\" class=\"data row89 col0\" >8</td>\n",
       "    </tr>\n",
       "    <tr>\n",
       "      <th id=\"T_ee6e6_level0_row90\" class=\"row_heading level0 row90\" >61.000000</th>\n",
       "      <td id=\"T_ee6e6_row90_col0\" class=\"data row90 col0\" >2282</td>\n",
       "    </tr>\n",
       "    <tr>\n",
       "      <th id=\"T_ee6e6_level0_row91\" class=\"row_heading level0 row91\" >61.100000</th>\n",
       "      <td id=\"T_ee6e6_row91_col0\" class=\"data row91 col0\" >2</td>\n",
       "    </tr>\n",
       "    <tr>\n",
       "      <th id=\"T_ee6e6_level0_row92\" class=\"row_heading level0 row92\" >61.200000</th>\n",
       "      <td id=\"T_ee6e6_row92_col0\" class=\"data row92 col0\" >7</td>\n",
       "    </tr>\n",
       "    <tr>\n",
       "      <th id=\"T_ee6e6_level0_row93\" class=\"row_heading level0 row93\" >61.300000</th>\n",
       "      <td id=\"T_ee6e6_row93_col0\" class=\"data row93 col0\" >1</td>\n",
       "    </tr>\n",
       "    <tr>\n",
       "      <th id=\"T_ee6e6_level0_row94\" class=\"row_heading level0 row94\" >61.400000</th>\n",
       "      <td id=\"T_ee6e6_row94_col0\" class=\"data row94 col0\" >3</td>\n",
       "    </tr>\n",
       "    <tr>\n",
       "      <th id=\"T_ee6e6_level0_row95\" class=\"row_heading level0 row95\" >61.500000</th>\n",
       "      <td id=\"T_ee6e6_row95_col0\" class=\"data row95 col0\" >6</td>\n",
       "    </tr>\n",
       "    <tr>\n",
       "      <th id=\"T_ee6e6_level0_row96\" class=\"row_heading level0 row96\" >61.600000</th>\n",
       "      <td id=\"T_ee6e6_row96_col0\" class=\"data row96 col0\" >1</td>\n",
       "    </tr>\n",
       "    <tr>\n",
       "      <th id=\"T_ee6e6_level0_row97\" class=\"row_heading level0 row97\" >61.700000</th>\n",
       "      <td id=\"T_ee6e6_row97_col0\" class=\"data row97 col0\" >2</td>\n",
       "    </tr>\n",
       "    <tr>\n",
       "      <th id=\"T_ee6e6_level0_row98\" class=\"row_heading level0 row98\" >61.800000</th>\n",
       "      <td id=\"T_ee6e6_row98_col0\" class=\"data row98 col0\" >1</td>\n",
       "    </tr>\n",
       "    <tr>\n",
       "      <th id=\"T_ee6e6_level0_row99\" class=\"row_heading level0 row99\" >61.900000</th>\n",
       "      <td id=\"T_ee6e6_row99_col0\" class=\"data row99 col0\" >7</td>\n",
       "    </tr>\n",
       "    <tr>\n",
       "      <th id=\"T_ee6e6_level0_row100\" class=\"row_heading level0 row100\" >62.000000</th>\n",
       "      <td id=\"T_ee6e6_row100_col0\" class=\"data row100 col0\" >1273</td>\n",
       "    </tr>\n",
       "    <tr>\n",
       "      <th id=\"T_ee6e6_level0_row101\" class=\"row_heading level0 row101\" >62.100000</th>\n",
       "      <td id=\"T_ee6e6_row101_col0\" class=\"data row101 col0\" >1</td>\n",
       "    </tr>\n",
       "    <tr>\n",
       "      <th id=\"T_ee6e6_level0_row102\" class=\"row_heading level0 row102\" >62.200000</th>\n",
       "      <td id=\"T_ee6e6_row102_col0\" class=\"data row102 col0\" >4</td>\n",
       "    </tr>\n",
       "    <tr>\n",
       "      <th id=\"T_ee6e6_level0_row103\" class=\"row_heading level0 row103\" >62.300000</th>\n",
       "      <td id=\"T_ee6e6_row103_col0\" class=\"data row103 col0\" >2</td>\n",
       "    </tr>\n",
       "    <tr>\n",
       "      <th id=\"T_ee6e6_level0_row104\" class=\"row_heading level0 row104\" >62.400000</th>\n",
       "      <td id=\"T_ee6e6_row104_col0\" class=\"data row104 col0\" >1</td>\n",
       "    </tr>\n",
       "    <tr>\n",
       "      <th id=\"T_ee6e6_level0_row105\" class=\"row_heading level0 row105\" >62.500000</th>\n",
       "      <td id=\"T_ee6e6_row105_col0\" class=\"data row105 col0\" >4</td>\n",
       "    </tr>\n",
       "    <tr>\n",
       "      <th id=\"T_ee6e6_level0_row106\" class=\"row_heading level0 row106\" >62.600000</th>\n",
       "      <td id=\"T_ee6e6_row106_col0\" class=\"data row106 col0\" >2</td>\n",
       "    </tr>\n",
       "    <tr>\n",
       "      <th id=\"T_ee6e6_level0_row107\" class=\"row_heading level0 row107\" >62.800000</th>\n",
       "      <td id=\"T_ee6e6_row107_col0\" class=\"data row107 col0\" >2</td>\n",
       "    </tr>\n",
       "    <tr>\n",
       "      <th id=\"T_ee6e6_level0_row108\" class=\"row_heading level0 row108\" >63.000000</th>\n",
       "      <td id=\"T_ee6e6_row108_col0\" class=\"data row108 col0\" >588</td>\n",
       "    </tr>\n",
       "    <tr>\n",
       "      <th id=\"T_ee6e6_level0_row109\" class=\"row_heading level0 row109\" >63.300000</th>\n",
       "      <td id=\"T_ee6e6_row109_col0\" class=\"data row109 col0\" >1</td>\n",
       "    </tr>\n",
       "    <tr>\n",
       "      <th id=\"T_ee6e6_level0_row110\" class=\"row_heading level0 row110\" >63.400000</th>\n",
       "      <td id=\"T_ee6e6_row110_col0\" class=\"data row110 col0\" >1</td>\n",
       "    </tr>\n",
       "    <tr>\n",
       "      <th id=\"T_ee6e6_level0_row111\" class=\"row_heading level0 row111\" >63.500000</th>\n",
       "      <td id=\"T_ee6e6_row111_col0\" class=\"data row111 col0\" >1</td>\n",
       "    </tr>\n",
       "    <tr>\n",
       "      <th id=\"T_ee6e6_level0_row112\" class=\"row_heading level0 row112\" >64.000000</th>\n",
       "      <td id=\"T_ee6e6_row112_col0\" class=\"data row112 col0\" >260</td>\n",
       "    </tr>\n",
       "    <tr>\n",
       "      <th id=\"T_ee6e6_level0_row113\" class=\"row_heading level0 row113\" >64.200000</th>\n",
       "      <td id=\"T_ee6e6_row113_col0\" class=\"data row113 col0\" >1</td>\n",
       "    </tr>\n",
       "    <tr>\n",
       "      <th id=\"T_ee6e6_level0_row114\" class=\"row_heading level0 row114\" >64.300000</th>\n",
       "      <td id=\"T_ee6e6_row114_col0\" class=\"data row114 col0\" >1</td>\n",
       "    </tr>\n",
       "    <tr>\n",
       "      <th id=\"T_ee6e6_level0_row115\" class=\"row_heading level0 row115\" >65.000000</th>\n",
       "      <td id=\"T_ee6e6_row115_col0\" class=\"data row115 col0\" >146</td>\n",
       "    </tr>\n",
       "    <tr>\n",
       "      <th id=\"T_ee6e6_level0_row116\" class=\"row_heading level0 row116\" >65.400000</th>\n",
       "      <td id=\"T_ee6e6_row116_col0\" class=\"data row116 col0\" >1</td>\n",
       "    </tr>\n",
       "    <tr>\n",
       "      <th id=\"T_ee6e6_level0_row117\" class=\"row_heading level0 row117\" >66.000000</th>\n",
       "      <td id=\"T_ee6e6_row117_col0\" class=\"data row117 col0\" >91</td>\n",
       "    </tr>\n",
       "    <tr>\n",
       "      <th id=\"T_ee6e6_level0_row118\" class=\"row_heading level0 row118\" >67.000000</th>\n",
       "      <td id=\"T_ee6e6_row118_col0\" class=\"data row118 col0\" >42</td>\n",
       "    </tr>\n",
       "    <tr>\n",
       "      <th id=\"T_ee6e6_level0_row119\" class=\"row_heading level0 row119\" >68.000000</th>\n",
       "      <td id=\"T_ee6e6_row119_col0\" class=\"data row119 col0\" >21</td>\n",
       "    </tr>\n",
       "    <tr>\n",
       "      <th id=\"T_ee6e6_level0_row120\" class=\"row_heading level0 row120\" >69.000000</th>\n",
       "      <td id=\"T_ee6e6_row120_col0\" class=\"data row120 col0\" >9</td>\n",
       "    </tr>\n",
       "    <tr>\n",
       "      <th id=\"T_ee6e6_level0_row121\" class=\"row_heading level0 row121\" >70.000000</th>\n",
       "      <td id=\"T_ee6e6_row121_col0\" class=\"data row121 col0\" >9</td>\n",
       "    </tr>\n",
       "    <tr>\n",
       "      <th id=\"T_ee6e6_level0_row122\" class=\"row_heading level0 row122\" >71.000000</th>\n",
       "      <td id=\"T_ee6e6_row122_col0\" class=\"data row122 col0\" >1</td>\n",
       "    </tr>\n",
       "    <tr>\n",
       "      <th id=\"T_ee6e6_level0_row123\" class=\"row_heading level0 row123\" >73.000000</th>\n",
       "      <td id=\"T_ee6e6_row123_col0\" class=\"data row123 col0\" >4</td>\n",
       "    </tr>\n",
       "    <tr>\n",
       "      <th id=\"T_ee6e6_level0_row124\" class=\"row_heading level0 row124\" >76.000000</th>\n",
       "      <td id=\"T_ee6e6_row124_col0\" class=\"data row124 col0\" >1</td>\n",
       "    </tr>\n",
       "    <tr>\n",
       "      <th id=\"T_ee6e6_level0_row125\" class=\"row_heading level0 row125\" >79.000000</th>\n",
       "      <td id=\"T_ee6e6_row125_col0\" class=\"data row125 col0\" >1</td>\n",
       "    </tr>\n",
       "    <tr>\n",
       "      <th id=\"T_ee6e6_level0_row126\" class=\"row_heading level0 row126\" >95.000000</th>\n",
       "      <td id=\"T_ee6e6_row126_col0\" class=\"data row126 col0\" >1</td>\n",
       "    </tr>\n",
       "  </tbody>\n",
       "</table>\n",
       "   "
      ],
      "text/plain": [
       "<IPython.core.display.HTML object>"
      ]
     },
     "metadata": {},
     "output_type": "display_data"
    }
   ],
   "source": [
    "# Get counts of unique values in the winsorized data and sort by index\n",
    "winsorized_counts = pd.DataFrame(winsorized_df[\"winsorized_table\"].value_counts().sort_index())\n",
    "\n",
    "# Get counts of unique values in the original 'table' data and sort by index\n",
    "original_counts = pd.DataFrame(df[\"table\"].value_counts().sort_index())\n",
    "\n",
    "# Display the counts in the original and winzorized DataFrames\n",
    "display_side_by_side(dfs=[winsorized_counts, original_counts], captions=['Winsorized Counts', 'Original Counts'])"
   ]
  },
  {
   "cell_type": "markdown",
   "metadata": {},
   "source": [
    "**``Key Comparisons:``**\n",
    "- **``Range of Values:``**\n",
    "   - **``Original``**: Min = 43.000, Max = 95.000\n",
    "   - **``Winsorized``**: Min = 54.000, Max = 61.000\n",
    "   - **``Change``**: The winsorization has effectively removed the most extreme outliers from both ends.\n",
    "- **``Counts of Common Values:``**\n",
    "   - The counts for common values (e.g., 54.000, 56.000) remain relatively stable, indicating that the more typical    values are preserved while the extremes are limited.\n",
    "- **``Impact on Distribution:``**\n",
    "   - The winsorized dataset reflects a more normalized distribution with reduced variance, making it less susceptible to the influence of extreme values.\n",
    "\n",
    "**Conclusion:**\n",
    "- The winsorization process has successfully **``mitigated the effect of outliers``**, leading to a ``more concentrated`` and ``stable distribution`` of the table feature. This adjustment helps in providing more reliable statistical analyses and insights into the data, as it **``reduces skewness``** caused by extreme values.\n",
    "\n",
    "<p style=\"background-color:#FFFFFF; font-family:newtimeroman; color:#0000FF; font-size:110%; text-align:left;\"><strong>-----------------------------------------------------------------------------------------------------------------------------------------------------------------------------------------------</strong></p>\n",
    "\n",
    "### <p style=\"background-color:#FFFFFF; font-family:newtimeroman; color:#008000; font-size:125%; text-align:left;\"><strong>📌 Testing using a more professional approach:</strong></p>\n",
    "\n",
    "<br>\n",
    "\n",
    "<p style=\"background-color:#FFFFFF; font-family:newtimeroman; color:green; font-size:125%; text-align:left;\"><strong>👉 Calculating the proportion of values that exceed a specified lower limit:</strong></p>\n",
    "\n",
    "\n",
    "**Let us make a more professional approach for calculating the lowest and highest limits.**\n",
    "\n",
    "**The following code calculates the ``lowest`` and ``highest limits`` for ``outlier detection`` more professionally, we can follow this structured approach.**\n",
    "- Below is the code that calculates and displays the limits, counts the values below the lower limit, and finds the proportion of such values:**"
   ]
  },
  {
   "cell_type": "code",
   "execution_count": 45,
   "metadata": {},
   "outputs": [
    {
     "name": "stdout",
     "output_type": "stream",
     "text": [
      "Lower Limit: 51.5\n",
      "Count of values below lower limit: 16\n",
      "Total number of observations: 53940\n",
      "Proportion of values below lower limit: 0.00029662588060808305\n"
     ]
    }
   ],
   "source": [
    "# Let's find the exact proportion of values less than lower limit\n",
    "\n",
    "# Display the lower limit (calculated previously) and count of values below it\n",
    "print(\"Lower Limit:\", lower_lim)\n",
    "print(\"Count of values below lower limit:\", len(df.table[df.table < lower_lim]))\n",
    "print(\"Total number of observations:\", len(df))\n",
    "\n",
    "# Calculate the proportion of values below the lower limit\n",
    "proportion_below_lower_limit = len(df.table[df.table < lower_lim]) / len(df)\n",
    "\n",
    "# display the result\n",
    "print(\"Proportion of values below lower limit:\", proportion_below_lower_limit)"
   ]
  },
  {
   "cell_type": "markdown",
   "metadata": {},
   "source": [
    "\n",
    "\n",
    "<p style=\"background-color:#FFFFFF; font-family:newtimeroman; color:#0000FF; font-size:110%; text-align:left;\"><strong>-----------------------------------------------------------------------------------------------------------------------------------------------------------------------------------------------</strong></p>\n",
    "\n",
    "<p style=\"background-color:#FFFFFF; font-family:newtimeroman; color:green; font-size:125%; text-align:left;\"><strong>👉 Calculating the proportion of values that exceed a specified upper limit:</strong></p>\n",
    "\n",
    "\n",
    "**The following code calculates the ``proportion of values`` in the ``\"table\"`` column of the DataFrame that are ``greater than the upper_lim``:** "
   ]
  },
  {
   "cell_type": "code",
   "execution_count": 46,
   "metadata": {},
   "outputs": [
    {
     "name": "stdout",
     "output_type": "stream",
     "text": [
      "Upper Limit: 63.5\n",
      "Count of values above upper limit: 589\n",
      "Total number of observations: 53940\n",
      "Proportion of values below lower limit: 0.010919540229885057\n"
     ]
    }
   ],
   "source": [
    "# Let's find the exact proportion of values higher than upper limit\n",
    "\n",
    "# Display the lower limit (calculated previously) and count of values below it\n",
    "print(\"Upper Limit:\", upper_lim)\n",
    "print(\"Count of values above upper limit:\", len(df.table[df.table > upper_lim]))\n",
    "print(\"Total number of observations:\", len(df))\n",
    "\n",
    "# Calculate the proportion of values above the upper limit\n",
    "proportion_above_lower_limit = len(df.table[df.table > upper_lim]) / len(df)\n",
    "\n",
    "# display the result\n",
    "print(\"Proportion of values below lower limit:\", proportion_above_lower_limit)"
   ]
  },
  {
   "cell_type": "markdown",
   "metadata": {},
   "source": [
    "\n",
    "\n",
    "<p style=\"background-color:#FFFFFF; font-family:newtimeroman; color:#0000FF; font-size:110%; text-align:left;\"><strong>-----------------------------------------------------------------------------------------------------------------------------------------------------------------------------------------------</strong></p>\n",
    "\n",
    "<p style=\"background-color:#FFFFFF; font-family:newtimeroman; color:green; font-size:125%; text-align:left;\"><strong>👉 Applying the proportions for the DataFrame:</strong></p>\n",
    "\n",
    "\n",
    "**The following code ``applies winsorization`` using the ``proportions`` calculated above (proportion_below_lower_limit and proportion_above_lower_limit) for ``outliers``:**"
   ]
  },
  {
   "cell_type": "code",
   "execution_count": 47,
   "metadata": {},
   "outputs": [
    {
     "data": {
      "text/html": [
       "<div>\n",
       "<style scoped>\n",
       "    .dataframe tbody tr th:only-of-type {\n",
       "        vertical-align: middle;\n",
       "    }\n",
       "\n",
       "    .dataframe tbody tr th {\n",
       "        vertical-align: top;\n",
       "    }\n",
       "\n",
       "    .dataframe thead th {\n",
       "        text-align: right;\n",
       "    }\n",
       "</style>\n",
       "<table border=\"1\" class=\"dataframe\">\n",
       "  <thead>\n",
       "    <tr style=\"text-align: right;\">\n",
       "      <th></th>\n",
       "      <th>winsorized_table</th>\n",
       "    </tr>\n",
       "  </thead>\n",
       "  <tbody>\n",
       "    <tr>\n",
       "      <th>0</th>\n",
       "      <td>55.0</td>\n",
       "    </tr>\n",
       "    <tr>\n",
       "      <th>1</th>\n",
       "      <td>61.0</td>\n",
       "    </tr>\n",
       "    <tr>\n",
       "      <th>2</th>\n",
       "      <td>63.5</td>\n",
       "    </tr>\n",
       "    <tr>\n",
       "      <th>3</th>\n",
       "      <td>58.0</td>\n",
       "    </tr>\n",
       "    <tr>\n",
       "      <th>4</th>\n",
       "      <td>58.0</td>\n",
       "    </tr>\n",
       "    <tr>\n",
       "      <th>...</th>\n",
       "      <td>...</td>\n",
       "    </tr>\n",
       "    <tr>\n",
       "      <th>53935</th>\n",
       "      <td>57.0</td>\n",
       "    </tr>\n",
       "    <tr>\n",
       "      <th>53936</th>\n",
       "      <td>55.0</td>\n",
       "    </tr>\n",
       "    <tr>\n",
       "      <th>53937</th>\n",
       "      <td>60.0</td>\n",
       "    </tr>\n",
       "    <tr>\n",
       "      <th>53938</th>\n",
       "      <td>58.0</td>\n",
       "    </tr>\n",
       "    <tr>\n",
       "      <th>53939</th>\n",
       "      <td>55.0</td>\n",
       "    </tr>\n",
       "  </tbody>\n",
       "</table>\n",
       "<p>53940 rows × 1 columns</p>\n",
       "</div>"
      ],
      "text/plain": [
       "       winsorized_table\n",
       "0                  55.0\n",
       "1                  61.0\n",
       "2                  63.5\n",
       "3                  58.0\n",
       "4                  58.0\n",
       "...                 ...\n",
       "53935              57.0\n",
       "53936              55.0\n",
       "53937              60.0\n",
       "53938              58.0\n",
       "53939              55.0\n",
       "\n",
       "[53940 rows x 1 columns]"
      ]
     },
     "execution_count": 47,
     "metadata": {},
     "output_type": "execute_result"
    }
   ],
   "source": [
    "# Now that the proportions are calculated, assigned to proportion_below_lower_limit \n",
    "# and proportion_above_lower_limit, a more professional job can be done by winsorize() method.\n",
    "\n",
    "# Apply winsorization using the calculated proportions\n",
    "table_win = winsorize(df.table, (proportion_below_lower_limit, proportion_above_lower_limit))\n",
    "\n",
    "# Create a DataFrame for the winsorized values\n",
    "winsorized_table = pd.DataFrame(table_win, columns=[\"winsorized_table\"])\n",
    "\n",
    "# Display the winsorized DataFrame\n",
    "winsorized_table"
   ]
  },
  {
   "cell_type": "markdown",
   "metadata": {},
   "source": [
    "- **Calculate Proportions:** ``proportion_below_lower_limit`` and ``proportion_above_lower_limit`` represent the ``proportions`` of values ``below`` and ``above`` the ``calculated outlier`` limits, respectively.\n",
    "\n",
    "- **Winsorization:** The ``winsorize()`` function is called to ``adjust the extreme values`` in the ``\"table\"`` column ``based on the calculated proportions``.\n",
    "\n",
    "- **DataFrame Creation:** The resulting winsorized values are stored in a new DataFrame called winsorized_table.\n",
    "\n",
    "<p style=\"background-color:#FFFFFF; font-family:newtimeroman; color:#0000FF; font-size:110%; text-align:left;\"><strong>-----------------------------------------------------------------------------------------------------------------------------------------------------------------------------------------------</strong></p>\n",
    "\n",
    "<p style=\"background-color:#FFFFFF; font-family:newtimeroman; color:green; font-size:125%; text-align:left;\"><strong>👉 Visual Comparison of the Results by Boxplot:</strong></p>\n",
    "\n",
    "\n",
    "**The following code ``visualizes the effects of winsorization`` on the ``\"table\"`` feature side-by-side box plots for the original and winsorized data:** "
   ]
  },
  {
   "cell_type": "code",
   "execution_count": 48,
   "metadata": {},
   "outputs": [
    {
     "data": {
      "image/png": "[encoded data removed]",
      "text/plain": [
       "<Figure size 1600x500 with 2 Axes>"
      ]
     },
     "metadata": {},
     "output_type": "display_data"
    }
   ],
   "source": [
    "# Create box plots\n",
    "fig, ax = plt.subplots(1, 2, figsize=(16, 5))\n",
    "\n",
    "# Box plot for original data\n",
    "g = sns.boxplot(data=original_df, x=\"table\", color=\"salmon\", ax=ax[0])\n",
    "g.set_title('Distribution WITH Outliers', fontsize=16)\n",
    "ax[0].set_xlabel(\"'table' Feature NOT Winsorized\", fontsize=14)\n",
    "\n",
    "# Box plot for winsorized data\n",
    "h = sns.boxplot(data=winsorized_table, x=\"winsorized_table\", color=\"skyblue\", ax=ax[1])\n",
    "h.set_title('Distribution WITHOUT Outliers', fontsize=16)\n",
    "ax[1].set_xlabel(\"'table' Feature Winsorized\", fontsize=14)\n",
    "\n",
    "# Align layout\n",
    "plt.tight_layout()\n",
    "\n",
    "# Show the plots\n",
    "plt.show()"
   ]
  },
  {
   "cell_type": "markdown",
   "metadata": {},
   "source": [
    "\n",
    "\n",
    "<p style=\"background-color:#FFFFFF; font-family:newtimeroman; color:#0000FF; font-size:110%; text-align:left;\"><strong>-----------------------------------------------------------------------------------------------------------------------------------------------------------------------------------------------</strong></p>\n",
    "\n",
    "<p style=\"background-color:#FFFFFF; font-family:newtimeroman; color:green; font-size:125%; text-align:left;\"><strong>👉 Visual Comparison of the Results by Histogram:</strong></p>\n",
    "\n",
    "\n",
    "**The followinh code visualizes the ``distribution`` of the ``\"table\"`` feature ``before`` and ``after`` ``winsorization`` using histograms side-by-side:** "
   ]
  },
  {
   "cell_type": "code",
   "execution_count": 49,
   "metadata": {},
   "outputs": [
    {
     "data": {
      "image/png": "[encoded data removed]",
      "text/plain": [
       "<Figure size 1600x500 with 2 Axes>"
      ]
     },
     "metadata": {},
     "output_type": "display_data"
    }
   ],
   "source": [
    "# Create histograms\n",
    "fig, ax = plt.subplots(1, 2, figsize=(16, 5))\n",
    "\n",
    "# Histogram for original data\n",
    "g = sns.histplot(original_df.table, \n",
    "                 bins=10, \n",
    "                 kde=False, \n",
    "                 color=\"salmon\", \n",
    "                 label=\"With Outliers\", \n",
    "                 ax=ax[0])\n",
    "\n",
    "# Histogram for winsorized data\n",
    "h = sns.histplot(winsorized_table.winsorized_table, \n",
    "                 bins=10, kde=False, \n",
    "                 color=\"skyblue\", \n",
    "                 label=\"Without Outliers\", \n",
    "                 ax=ax[1])\n",
    "\n",
    "# Set Titles\n",
    "g.set_title('Distribution WITH Outliers', fontsize=16)\n",
    "h.set_title('Distribution WITHOUT Outliers', fontsize=16)\n",
    "\n",
    "# Set X Labels\n",
    "ax[0].set_xlabel(\"'table' Feature NOT Winsorized\", fontsize=14)\n",
    "ax[1].set_xlabel(\"'table' Feature Winsorized\", fontsize=14)\n",
    "\n",
    "# Align layout\n",
    "plt.tight_layout()\n",
    "\n",
    "# Show the plots\n",
    "plt.show()"
   ]
  },
  {
   "cell_type": "markdown",
   "metadata": {},
   "source": [
    "\n",
    "\n",
    "<p style=\"background-color:#FFFFFF; font-family:newtimeroman; color:#0000FF; font-size:110%; text-align:left;\"><strong>-----------------------------------------------------------------------------------------------------------------------------------------------------------------------------------------------</strong></p>\n",
    "\n",
    "<p style=\"background-color:#FFFFFF; font-family:newtimeroman; color:green; font-size:125%; text-align:left;\"><strong>👉 Comparison of the Results by DataFrame:</strong></p>\n",
    "\n",
    "\n",
    "**Let's create a DataFrame where ``original``, ``cleaned``, and ``winsorized`` values can be compared:** "
   ]
  },
  {
   "cell_type": "code",
   "execution_count": 50,
   "metadata": {},
   "outputs": [
    {
     "data": {
      "text/plain": [
       "masked_array(data=[55. , 61. , 63.5, ..., 60. , 58. , 55. ],\n",
       "             mask=False,\n",
       "       fill_value=1e+20)"
      ]
     },
     "execution_count": 50,
     "metadata": {},
     "output_type": "execute_result"
    }
   ],
   "source": [
    "# Let us remember winsorized object named \"table_win\"\n",
    "\n",
    "table_win"
   ]
  },
  {
   "cell_type": "markdown",
   "metadata": {},
   "source": [
    "\n",
    "\n",
    "<p style=\"background-color:#FFFFFF; font-family:newtimeroman; color:#0000FF; font-size:110%; text-align:left;\"><strong>-----------------------------------------------------------------------------------------------------------------------------------------------------------------------------------------------</strong></p>\n"
   ]
  },
  {
   "cell_type": "code",
   "execution_count": 51,
   "metadata": {},
   "outputs": [
    {
     "data": {
      "text/plain": [
       "0        55.0\n",
       "1        61.0\n",
       "2        63.5\n",
       "3        58.0\n",
       "4        58.0\n",
       "         ... \n",
       "53935    57.0\n",
       "53936    55.0\n",
       "53937    60.0\n",
       "53938    58.0\n",
       "53939    55.0\n",
       "Length: 53940, dtype: float64"
      ]
     },
     "execution_count": 51,
     "metadata": {},
     "output_type": "execute_result"
    }
   ],
   "source": [
    "# Convert the winsorized array to a pandas Series\n",
    "table_win_ser = pd.Series(table_win)\n",
    "\n",
    "# Display the Series\n",
    "table_win_ser"
   ]
  },
  {
   "cell_type": "markdown",
   "metadata": {},
   "source": [
    "\n",
    "\n",
    "<p style=\"background-color:#FFFFFF; font-family:newtimeroman; color:#0000FF; font-size:110%; text-align:left;\"><strong>-----------------------------------------------------------------------------------------------------------------------------------------------------------------------------------------------</strong></p>\n",
    "\n",
    "**The following code ``creates a DataFrame`` that ``summarizes`` the ``descriptive statistics`` of the ``\"table\"` feature from ``three different states`` (``original``, ``cleaned``, and ``winsorized)``:**"
   ]
  },
  {
   "cell_type": "code",
   "execution_count": 52,
   "metadata": {},
   "outputs": [
    {
     "data": {
      "text/html": [
       "<div>\n",
       "<style scoped>\n",
       "    .dataframe tbody tr th:only-of-type {\n",
       "        vertical-align: middle;\n",
       "    }\n",
       "\n",
       "    .dataframe tbody tr th {\n",
       "        vertical-align: top;\n",
       "    }\n",
       "\n",
       "    .dataframe thead th {\n",
       "        text-align: right;\n",
       "    }\n",
       "</style>\n",
       "<table border=\"1\" class=\"dataframe\">\n",
       "  <thead>\n",
       "    <tr style=\"text-align: right;\">\n",
       "      <th></th>\n",
       "      <th>original</th>\n",
       "      <th>drop (Tukey's Rule)</th>\n",
       "      <th>winsorize</th>\n",
       "    </tr>\n",
       "  </thead>\n",
       "  <tbody>\n",
       "    <tr>\n",
       "      <th>count</th>\n",
       "      <td>53940.000000</td>\n",
       "      <td>53335.000000</td>\n",
       "      <td>53940.000000</td>\n",
       "    </tr>\n",
       "    <tr>\n",
       "      <th>mean</th>\n",
       "      <td>57.457184</td>\n",
       "      <td>57.373404</td>\n",
       "      <td>57.438591</td>\n",
       "    </tr>\n",
       "    <tr>\n",
       "      <th>std</th>\n",
       "      <td>2.234491</td>\n",
       "      <td>2.074349</td>\n",
       "      <td>2.161059</td>\n",
       "    </tr>\n",
       "    <tr>\n",
       "      <th>min</th>\n",
       "      <td>43.000000</td>\n",
       "      <td>51.600000</td>\n",
       "      <td>51.600000</td>\n",
       "    </tr>\n",
       "    <tr>\n",
       "      <th>25%</th>\n",
       "      <td>56.000000</td>\n",
       "      <td>56.000000</td>\n",
       "      <td>56.000000</td>\n",
       "    </tr>\n",
       "    <tr>\n",
       "      <th>50%</th>\n",
       "      <td>57.000000</td>\n",
       "      <td>57.000000</td>\n",
       "      <td>57.000000</td>\n",
       "    </tr>\n",
       "    <tr>\n",
       "      <th>75%</th>\n",
       "      <td>59.000000</td>\n",
       "      <td>59.000000</td>\n",
       "      <td>59.000000</td>\n",
       "    </tr>\n",
       "    <tr>\n",
       "      <th>max</th>\n",
       "      <td>95.000000</td>\n",
       "      <td>63.500000</td>\n",
       "      <td>63.500000</td>\n",
       "    </tr>\n",
       "  </tbody>\n",
       "</table>\n",
       "</div>"
      ],
      "text/plain": [
       "           original  drop (Tukey's Rule)     winsorize\n",
       "count  53940.000000         53335.000000  53940.000000\n",
       "mean      57.457184            57.373404     57.438591\n",
       "std        2.234491             2.074349      2.161059\n",
       "min       43.000000            51.600000     51.600000\n",
       "25%       56.000000            56.000000     56.000000\n",
       "50%       57.000000            57.000000     57.000000\n",
       "75%       59.000000            59.000000     59.000000\n",
       "max       95.000000            63.500000     63.500000"
      ]
     },
     "execution_count": 52,
     "metadata": {},
     "output_type": "execute_result"
    }
   ],
   "source": [
    "# Create the comparison DataFrame:\n",
    "\n",
    "pd.DataFrame([df.table.describe(),          # Original DataFrame\n",
    "              cleaned_df.table.describe(),  # Tukey's Fence Rule\n",
    "              table_win_ser.describe()],    # Winsorize Operation\n",
    "              index=['original', \"drop (Tukey's Rule)\", 'winsorize']).T"
   ]
  },
  {
   "cell_type": "markdown",
   "metadata": {},
   "source": [
    "**Interpretation of Comparison:**\n",
    "\n",
    "When comparing the descriptive outputs of three DataFrames, it can be seen that ``after winsorizing`` the extreme values to the point defined by a given proportion, ``no observations lost`` (the ``count of observations still remained the same``, ``53940``) \n",
    "\n",
    "Like in the method of ``\"Tukey's Rule\"``, while ``minimum value increased from 43 to 51.6``, ``maximum value drastically decreased from 95 to 63.5`` since we had more extreme values above the upper limit. However, unlike in the method of \"Tukey's Rule\", the ``standart deviation`` did ``NOT demonstrate a big decrease``, just decreased from ``2.234491 to 2.161059`` as expected as well.\n",
    "\n",
    "<p style=\"background-color:#FFFFFF; font-family:newtimeroman; color:#0000FF; font-size:110%; text-align:left;\"><strong>-----------------------------------------------------------------------------------------------------------------------------------------------------------------------------------------------</strong></p>\n",
    "\n",
    "#### <p style=\"background-color:#FFFFFF; font-family:newtimeroman; color:#0000FF; font-size:125%; text-align:left;\"><strong>🤔💭 Let's check how many outliers were winsorized❓</strong></p>"
   ]
  },
  {
   "cell_type": "code",
   "execution_count": 53,
   "metadata": {},
   "outputs": [
    {
     "data": {
      "text/plain": [
       "(63.5, 51.5)"
      ]
     },
     "execution_count": 53,
     "metadata": {},
     "output_type": "execute_result"
    }
   ],
   "source": [
    "# Let's remember out upper and lower limits found by means of Tukey's Rule\n",
    "\n",
    "upper_lim, lower_lim"
   ]
  },
  {
   "cell_type": "markdown",
   "metadata": {},
   "source": [
    "\n",
    "\n",
    "<p style=\"background-color:#FFFFFF; font-family:newtimeroman; color:#0000FF; font-size:110%; text-align:left;\"><strong>-----------------------------------------------------------------------------------------------------------------------------------------------------------------------------------------------</strong></p>\n",
    "\n",
    "**The following code displays the ``counts of values`` in the ``original`` ``\"table\"`` feature that are ``less than 51.6``, ``equal to 51.6``, and in the ``winsorized series`` where values ``equal 51.6``:** "
   ]
  },
  {
   "cell_type": "code",
   "execution_count": 54,
   "metadata": {},
   "outputs": [
    {
     "name": "stdout",
     "output_type": "stream",
     "text": [
      "The number of observations BELOW lower limit      : 16\n",
      "The number of observations EQUAL TO lower limit   : 1\n",
      "Total number of observations WINSORIZED           : 17\n"
     ]
    }
   ],
   "source": [
    "# Count of values in the original table less than 51.6\n",
    "count_less_than_51_6 = df.table[df.table < 51.6].count()\n",
    "print(f\"{'The number of observations BELOW lower limit':<50}: {count_less_than_51_6}\")\n",
    "\n",
    "# Count of values in the original table equal to 51.6\n",
    "count_equal_to_51_6 = df.table[df.table == 51.6].count()\n",
    "print(f\"{'The number of observations EQUAL TO lower limit':<50}: {count_equal_to_51_6}\")\n",
    "\n",
    "# Count of values in the winsorized series equal to 51.6\n",
    "count_winsorized_equal_to_51_6 = table_win_ser[table_win_ser == 51.6].count()\n",
    "print(f\"{'Total number of observations WINSORIZED':<50}: {count_winsorized_equal_to_51_6}\")"
   ]
  },
  {
   "cell_type": "markdown",
   "metadata": {},
   "source": [
    "- **``Count of Original Values Less Than 51.6:``**\n",
    "   - This will indicate how many values in the original dataset are below the threshold of 51.6. ==> **``16``**\n",
    "- **``Count of Original Values Equal to 51.6:``**\n",
    "   - This will show how many entries are exactly equal to 51.6 in the original dataset. ==> **``1``**\n",
    "- **``Count of Winsorized Values Equal to 51.6:``**\n",
    "   - This will display the number of entries in the winsorized series that have been adjusted to 51.6. ==> **``17``**\n",
    "\n",
    "<p style=\"background-color:#FFFFFF; font-family:newtimeroman; color:#0000FF; font-size:110%; text-align:left;\"><strong>-----------------------------------------------------------------------------------------------------------------------------------------------------------------------------------------------</strong></p>\n",
    "\n",
    "**The following code displays the ``counts of values`` in the ``original`` ``\"table\"`` feature that are ``greater than 63.5``, ``equal to 63.5``, and in the ``winsorized series`` where values ``equal 63.5``:**"
   ]
  },
  {
   "cell_type": "code",
   "execution_count": 55,
   "metadata": {},
   "outputs": [
    {
     "name": "stdout",
     "output_type": "stream",
     "text": [
      "The number of observations ABOVE upper limit      : 589\n",
      "The number of observations EQUAL TO upper limit   : 1\n",
      "Total number of observations WINSORIZED           : 590\n"
     ]
    }
   ],
   "source": [
    "# Count of values in the original table greater than 63.5\n",
    "count_greater_than_63_5 = df.table[df.table > 63.5].count()\n",
    "print(f\"{'The number of observations ABOVE upper limit':<50}: {count_greater_than_63_5}\")\n",
    "\n",
    "# Count of values in the original table equal to 63.5\n",
    "count_equal_to_63_5 = df.table[df.table == 63.5].count()\n",
    "print(f\"{'The number of observations EQUAL TO upper limit':<50}: {count_equal_to_63_5}\")\n",
    "\n",
    "# Count of values in the winsorized series equal to 63.5\n",
    "count_winsorized_equal_to_63_5 = table_win_ser[table_win_ser == 63.5].count()\n",
    "print(f\"{'Total number of observations WINSORIZED':<50}: {count_winsorized_equal_to_63_5}\")"
   ]
  },
  {
   "cell_type": "markdown",
   "metadata": {},
   "source": [
    "- **``Count of Original Values Greater Than 63.5:``**\n",
    "   - This will show how many values in the original dataset exceed the threshold of 63.5. ==> **``589``**\n",
    "- **``Count of Original Values Equal to 63.5:``**\n",
    "   - This will indicate how many entries are exactly equal to 63.5 in the original dataset. ==> **``1``**\n",
    "- **``Count of Winsorized Values Equal to 63.5:``**\n",
    "   - This will display the number of entries in the winsorized series that remain at 63.5. ==> **``590``**\n",
    "\n",
    "<p style=\"background-color:#FFFFFF; font-family:newtimeroman; color:#0000FF; font-size:110%; text-align:left;\"><strong>-----------------------------------------------------------------------------------------------------------------------------------------------------------------------------------------------</strong></p>\n",
    "\n"
   ]
  },
  {
   "cell_type": "markdown",
   "metadata": {},
   "source": [
    "\n",
    "## <p style=\"background-color:#FFFFFF; font-family:newtimeroman; color:#0000FF; font-size:125%; text-align:left;\"><strong>Transformation using ``log()`` method:</strong></p>\n",
    "\n",
    "The **``Numpy.log()``** method lets you calculate the mathematical log of any number or array. The numpy.log() is a mathematical function that helps user to calculate Natural logarithm of x where x belongs to all the input array elements.\n",
    "\n",
    "The natural logarithm log is the inverse of the exponential function, so that log(exp(x)) = x. The natural logarithm is logarithm in base e 🧐 **[Source 01](https://www.geeksforgeeks.org/numpy-log-python/#:~:text=The%20numpy.,is%20log%20in%20base%20e.) & [Source 02](https://numpy.org/doc/stable/reference/generated/numpy.log.html)**.\n",
    "\n",
    "<p style=\"background-color:#FFFFFF; font-family:newtimeroman; color:#0000FF; font-size:110%; text-align:left;\"><strong>-----------------------------------------------------------------------------------------------------------------------------------------------------------------------------------------------</strong></p>\n"
   ]
  },
  {
   "cell_type": "code",
   "execution_count": 56,
   "metadata": {
    "id": "l3L1NNdEDyz-",
    "outputId": "be3acf37-2c8a-44e9-f36a-71948c54596d"
   },
   "outputs": [
    {
     "data": {
      "text/html": [
       "<div>\n",
       "<style scoped>\n",
       "    .dataframe tbody tr th:only-of-type {\n",
       "        vertical-align: middle;\n",
       "    }\n",
       "\n",
       "    .dataframe tbody tr th {\n",
       "        vertical-align: top;\n",
       "    }\n",
       "\n",
       "    .dataframe thead th {\n",
       "        text-align: right;\n",
       "    }\n",
       "</style>\n",
       "<table border=\"1\" class=\"dataframe\">\n",
       "  <thead>\n",
       "    <tr style=\"text-align: right;\">\n",
       "      <th></th>\n",
       "      <th>carat</th>\n",
       "      <th>depth</th>\n",
       "      <th>table</th>\n",
       "      <th>price</th>\n",
       "      <th>x</th>\n",
       "      <th>y</th>\n",
       "      <th>z</th>\n",
       "    </tr>\n",
       "  </thead>\n",
       "  <tbody>\n",
       "    <tr>\n",
       "      <th>0</th>\n",
       "      <td>0.23</td>\n",
       "      <td>61.5</td>\n",
       "      <td>55.0</td>\n",
       "      <td>326</td>\n",
       "      <td>3.95</td>\n",
       "      <td>3.98</td>\n",
       "      <td>2.43</td>\n",
       "    </tr>\n",
       "    <tr>\n",
       "      <th>1</th>\n",
       "      <td>0.21</td>\n",
       "      <td>59.8</td>\n",
       "      <td>61.0</td>\n",
       "      <td>326</td>\n",
       "      <td>3.89</td>\n",
       "      <td>3.84</td>\n",
       "      <td>2.31</td>\n",
       "    </tr>\n",
       "    <tr>\n",
       "      <th>2</th>\n",
       "      <td>0.23</td>\n",
       "      <td>56.9</td>\n",
       "      <td>65.0</td>\n",
       "      <td>327</td>\n",
       "      <td>4.05</td>\n",
       "      <td>4.07</td>\n",
       "      <td>2.31</td>\n",
       "    </tr>\n",
       "    <tr>\n",
       "      <th>3</th>\n",
       "      <td>0.29</td>\n",
       "      <td>62.4</td>\n",
       "      <td>58.0</td>\n",
       "      <td>334</td>\n",
       "      <td>4.20</td>\n",
       "      <td>4.23</td>\n",
       "      <td>2.63</td>\n",
       "    </tr>\n",
       "    <tr>\n",
       "      <th>4</th>\n",
       "      <td>0.31</td>\n",
       "      <td>63.3</td>\n",
       "      <td>58.0</td>\n",
       "      <td>335</td>\n",
       "      <td>4.34</td>\n",
       "      <td>4.35</td>\n",
       "      <td>2.75</td>\n",
       "    </tr>\n",
       "    <tr>\n",
       "      <th>...</th>\n",
       "      <td>...</td>\n",
       "      <td>...</td>\n",
       "      <td>...</td>\n",
       "      <td>...</td>\n",
       "      <td>...</td>\n",
       "      <td>...</td>\n",
       "      <td>...</td>\n",
       "    </tr>\n",
       "    <tr>\n",
       "      <th>53935</th>\n",
       "      <td>0.72</td>\n",
       "      <td>60.8</td>\n",
       "      <td>57.0</td>\n",
       "      <td>2757</td>\n",
       "      <td>5.75</td>\n",
       "      <td>5.76</td>\n",
       "      <td>3.50</td>\n",
       "    </tr>\n",
       "    <tr>\n",
       "      <th>53936</th>\n",
       "      <td>0.72</td>\n",
       "      <td>63.1</td>\n",
       "      <td>55.0</td>\n",
       "      <td>2757</td>\n",
       "      <td>5.69</td>\n",
       "      <td>5.75</td>\n",
       "      <td>3.61</td>\n",
       "    </tr>\n",
       "    <tr>\n",
       "      <th>53937</th>\n",
       "      <td>0.70</td>\n",
       "      <td>62.8</td>\n",
       "      <td>60.0</td>\n",
       "      <td>2757</td>\n",
       "      <td>5.66</td>\n",
       "      <td>5.68</td>\n",
       "      <td>3.56</td>\n",
       "    </tr>\n",
       "    <tr>\n",
       "      <th>53938</th>\n",
       "      <td>0.86</td>\n",
       "      <td>61.0</td>\n",
       "      <td>58.0</td>\n",
       "      <td>2757</td>\n",
       "      <td>6.15</td>\n",
       "      <td>6.12</td>\n",
       "      <td>3.74</td>\n",
       "    </tr>\n",
       "    <tr>\n",
       "      <th>53939</th>\n",
       "      <td>0.75</td>\n",
       "      <td>62.2</td>\n",
       "      <td>55.0</td>\n",
       "      <td>2757</td>\n",
       "      <td>5.83</td>\n",
       "      <td>5.87</td>\n",
       "      <td>3.64</td>\n",
       "    </tr>\n",
       "  </tbody>\n",
       "</table>\n",
       "<p>53940 rows × 7 columns</p>\n",
       "</div>"
      ],
      "text/plain": [
       "       carat  depth  table  price     x     y     z\n",
       "0       0.23   61.5   55.0    326  3.95  3.98  2.43\n",
       "1       0.21   59.8   61.0    326  3.89  3.84  2.31\n",
       "2       0.23   56.9   65.0    327  4.05  4.07  2.31\n",
       "3       0.29   62.4   58.0    334  4.20  4.23  2.63\n",
       "4       0.31   63.3   58.0    335  4.34  4.35  2.75\n",
       "...      ...    ...    ...    ...   ...   ...   ...\n",
       "53935   0.72   60.8   57.0   2757  5.75  5.76  3.50\n",
       "53936   0.72   63.1   55.0   2757  5.69  5.75  3.61\n",
       "53937   0.70   62.8   60.0   2757  5.66  5.68  3.56\n",
       "53938   0.86   61.0   58.0   2757  6.15  6.12  3.74\n",
       "53939   0.75   62.2   55.0   2757  5.83  5.87  3.64\n",
       "\n",
       "[53940 rows x 7 columns]"
      ]
     },
     "execution_count": 56,
     "metadata": {},
     "output_type": "execute_result"
    }
   ],
   "source": [
    "# Let's remember our DataFrame:\n",
    "\n",
    "df"
   ]
  },
  {
   "cell_type": "markdown",
   "metadata": {},
   "source": [
    "\n",
    "\n",
    "<p style=\"background-color:#FFFFFF; font-family:newtimeroman; color:#0000FF; font-size:110%; text-align:left;\"><strong>-----------------------------------------------------------------------------------------------------------------------------------------------------------------------------------------------</strong></p>\n",
    "\n",
    "<p style=\"background-color:#FFFFFF; font-family:newtimeroman; color:green; font-size:125%; text-align:left;\"><strong>👉 Visual Analysis BEFORE Logaritmic Transformation:</strong></p>\n",
    "\n",
    "\n",
    "**This time \"carat\" featured will be handled regarding outliers.**\n",
    "\n",
    "**The following code visualizes the ``distribution of the carat`` feature from the ``\"diamonds\"`` dataset using a box plot providing insights into its central tendency, variability, and potential outliers.:**"
   ]
  },
  {
   "cell_type": "code",
   "execution_count": 57,
   "metadata": {
    "id": "miAITF0XDyz-",
    "outputId": "454b27f6-ee17-4167-c6ee-ca214164a5ff"
   },
   "outputs": [
    {
     "data": {
      "image/png": "[encoded data removed]",
      "text/plain": [
       "<Figure size 700x400 with 1 Axes>"
      ]
     },
     "metadata": {},
     "output_type": "display_data"
    }
   ],
   "source": [
    "# Create a figure with a size of 8*5\n",
    "plt.figure(figsize=(7, 4))\n",
    "\n",
    "# Create a box plot for the 'carat' feature\n",
    "sns.boxplot(x=original_df.carat, color=\"salmon\")\n",
    "\n",
    "# Set title\n",
    "plt.title('Box Plot of Carat Feature', fontsize=14)\n",
    "\n",
    "# Set title\n",
    "plt.xlabel('Carat')\n",
    "\n",
    "# Display plot\n",
    "plt.show()"
   ]
  },
  {
   "cell_type": "markdown",
   "metadata": {},
   "source": [
    "It seems the \"carat\" feature has too many extreme values (outliers)\n",
    "\n",
    "\n",
    "<p style=\"background-color:#FFFFFF; font-family:newtimeroman; color:#0000FF; font-size:110%; text-align:left;\"><strong>-----------------------------------------------------------------------------------------------------------------------------------------------------------------------------------------------</strong></p>\n",
    "\n",
    "**The following code visualizes the ``distribution of the carat`` feature using a histogram:**"
   ]
  },
  {
   "cell_type": "code",
   "execution_count": 58,
   "metadata": {
    "id": "unCMYzaQDyz-",
    "outputId": "f7e94316-f2dd-4219-8d99-87581d30238e"
   },
   "outputs": [
    {
     "data": {
      "image/png": "[encoded data removed]",
      "text/plain": [
       "<Figure size 700x400 with 1 Axes>"
      ]
     },
     "metadata": {},
     "output_type": "display_data"
    }
   ],
   "source": [
    "# Create a figure with a size of 8*5\n",
    "plt.figure(figsize=(7, 4))\n",
    "\n",
    "# Create a histogram for the 'carat' feature\n",
    "sns.histplot(original_df.carat, bins=10, kde=False, color='skyblue')\n",
    "\n",
    "# Set the title\n",
    "plt.title('Histogram of Carat Feature', fontsize=16)\n",
    "\n",
    "# Set the labels\n",
    "plt.xlabel('Carat')\n",
    "plt.ylabel('Frequency')\n",
    "\n",
    "# Display plot\n",
    "plt.show()"
   ]
  },
  {
   "cell_type": "markdown",
   "metadata": {},
   "source": [
    "Right skewed distribution occurs for \"carat\" feature since the long tail is on the right side of the distribution.\n",
    "\n",
    "\n",
    "<p style=\"background-color:#FFFFFF; font-family:newtimeroman; color:#0000FF; font-size:110%; text-align:left;\"><strong>-----------------------------------------------------------------------------------------------------------------------------------------------------------------------------------------------</strong></p>\n",
    "\n",
    "<p style=\"background-color:#FFFFFF; font-family:newtimeroman; color:green; font-size:125%; text-align:left;\"><strong>👉 Logaritmic Transformation:</strong></p>\n",
    "\n",
    "\n",
    "**The following code snippets ``display the 'carat'`` values and ``calculate the natural logarithm of those values`` from a DataFrame.**"
   ]
  },
  {
   "cell_type": "code",
   "execution_count": 59,
   "metadata": {
    "id": "uZrTeSbxDyz-",
    "outputId": "3641f1c1-7309-4692-a659-e21f49f2c2d0"
   },
   "outputs": [
    {
     "name": "stdout",
     "output_type": "stream",
     "text": [
      "0        0.23\n",
      "1        0.21\n",
      "2        0.23\n",
      "3        0.29\n",
      "4        0.31\n",
      "         ... \n",
      "53935    0.72\n",
      "53936    0.72\n",
      "53937    0.70\n",
      "53938    0.86\n",
      "53939    0.75\n",
      "Name: carat, Length: 53940, dtype: float64\n"
     ]
    },
    {
     "data": {
      "text/plain": [
       "0       -1.469676\n",
       "1       -1.560648\n",
       "2       -1.469676\n",
       "3       -1.237874\n",
       "4       -1.171183\n",
       "           ...   \n",
       "53935   -0.328504\n",
       "53936   -0.328504\n",
       "53937   -0.356675\n",
       "53938   -0.150823\n",
       "53939   -0.287682\n",
       "Name: carat, Length: 53940, dtype: float64"
      ]
     },
     "execution_count": 59,
     "metadata": {},
     "output_type": "execute_result"
    }
   ],
   "source": [
    "# Let us examine what happens when np.log() method is applied \n",
    "\n",
    "# Display the 'carat' values\n",
    "print(df.carat)\n",
    "\n",
    "# Calculate the natural logarithm of 'carat'\n",
    "np.log(df.carat)"
   ]
  },
  {
   "cell_type": "markdown",
   "metadata": {},
   "source": [
    "- **``Logarithm Calculation:``**\n",
    "   - **``np.log(original_df.carat)``** computes the ``natural logarithm`` of ``each carat`` value. This transformation is often ``used to normalize skewed data`` or to ``reduce the impact of outliers``.\n",
    "\n",
    "<p style=\"background-color:#FFFFFF; font-family:newtimeroman; color:#0000FF; font-size:110%; text-align:left;\"><strong>-----------------------------------------------------------------------------------------------------------------------------------------------------------------------------------------------</strong></p>\n",
    "\n",
    "<p style=\"background-color:#FFFFFF; font-family:newtimeroman; color:green; font-size:125%; text-align:left;\"><strong>👉 Visual Analysis AFTER Logaritmic Transformation:</strong></p>\n",
    "\n",
    "\n",
    "**The following code visualizes the ``distribution of the logarithm`` of the ``\"carat\"`` feature using a box plot  providing insights into its central tendency, variability, and potential outliers:**"
   ]
  },
  {
   "cell_type": "code",
   "execution_count": 60,
   "metadata": {},
   "outputs": [
    {
     "data": {
      "image/png": "[encoded data removed]",
      "text/plain": [
       "<Figure size 700x400 with 1 Axes>"
      ]
     },
     "metadata": {},
     "output_type": "display_data"
    }
   ],
   "source": [
    "# Create a figure with a size of 8*5\n",
    "plt.figure(figsize=(7, 4))\n",
    "\n",
    "# Create a box plot for the logarithm of the 'carat' feature\n",
    "sns.boxplot(x=np.log(original_df.carat), color='skyblue')\n",
    "\n",
    "# Set the title\n",
    "plt.title('Box Plot of Logarithm of Carat Feature', fontsize=16)\n",
    "\n",
    "# Set the x label\n",
    "plt.xlabel('Log of Carat')\n",
    "\n",
    "# Display plot\n",
    "plt.show()"
   ]
  },
  {
   "cell_type": "markdown",
   "metadata": {},
   "source": [
    "We got the algorithm of all values in the \"carat\" column and examined the distribution of the observations with boxplot,\n",
    "\n",
    "<p style=\"background-color:#FFFFFF; font-family:newtimeroman; color:#0000FF; font-size:110%; text-align:left;\"><strong>-----------------------------------------------------------------------------------------------------------------------------------------------------------------------------------------------</strong></p>\n",
    "\n",
    "**The following code visualizes the ``distribution of the logarithm`` of the ``\"carat\"`` feature using a histogram:**"
   ]
  },
  {
   "cell_type": "code",
   "execution_count": 61,
   "metadata": {
    "id": "aWnKtLWFDyz_",
    "outputId": "122b7da9-f9ac-4f57-afaa-ab327565313e"
   },
   "outputs": [
    {
     "data": {
      "image/png": "[encoded data removed]",
      "text/plain": [
       "<Figure size 700x400 with 1 Axes>"
      ]
     },
     "metadata": {},
     "output_type": "display_data"
    }
   ],
   "source": [
    "# Create a figure with a size of 8*5\n",
    "plt.figure(figsize=(7, 4))\n",
    "\n",
    "# Create a histogram for the logarithm of the 'carat' feature\n",
    "sns.histplot(np.log(original_df.carat), bins=10, kde=False, color='skyblue')\n",
    "\n",
    "# Set the title\n",
    "plt.title('Histogram of Logarithm of Carat Feature', fontsize=16)\n",
    "\n",
    "# Set the x and y labels\n",
    "plt.xlabel('Log of Carat')\n",
    "plt.ylabel('Frequency')\n",
    "\n",
    "# Display plot\n",
    "plt.show()"
   ]
  },
  {
   "cell_type": "markdown",
   "metadata": {},
   "source": [
    "We got the algorithm of all values in the \"carat\" column and examined the distribution of the observations with histogram/\n",
    "\n",
    "<p style=\"background-color:#FFFFFF; font-family:newtimeroman; color:#0000FF; font-size:110%; text-align:left;\"><strong>-----------------------------------------------------------------------------------------------------------------------------------------------------------------------------------------------</strong></p>\n",
    "\n",
    "#### <p style=\"background-color:#FFFFFF; font-family:newtimeroman; color:#008000; font-size:125%; text-align:left;\"><strong>📌 Adding a new column to the original DataFrame:</strong></p>\n",
    "\n",
    "\n",
    "\n",
    "**The following code adds a ``new column`` to the DataFrame that contains the ``logarithmic values`` of the ``\"carat\"`` feature:**"
   ]
  },
  {
   "cell_type": "code",
   "execution_count": 62,
   "metadata": {},
   "outputs": [
    {
     "data": {
      "text/html": [
       "<div>\n",
       "<style scoped>\n",
       "    .dataframe tbody tr th:only-of-type {\n",
       "        vertical-align: middle;\n",
       "    }\n",
       "\n",
       "    .dataframe tbody tr th {\n",
       "        vertical-align: top;\n",
       "    }\n",
       "\n",
       "    .dataframe thead th {\n",
       "        text-align: right;\n",
       "    }\n",
       "</style>\n",
       "<table border=\"1\" class=\"dataframe\">\n",
       "  <thead>\n",
       "    <tr style=\"text-align: right;\">\n",
       "      <th></th>\n",
       "      <th>carat</th>\n",
       "      <th>depth</th>\n",
       "      <th>table</th>\n",
       "      <th>price</th>\n",
       "      <th>x</th>\n",
       "      <th>y</th>\n",
       "      <th>z</th>\n",
       "      <th>carat_log</th>\n",
       "    </tr>\n",
       "  </thead>\n",
       "  <tbody>\n",
       "    <tr>\n",
       "      <th>0</th>\n",
       "      <td>0.23</td>\n",
       "      <td>61.5</td>\n",
       "      <td>55.0</td>\n",
       "      <td>326</td>\n",
       "      <td>3.95</td>\n",
       "      <td>3.98</td>\n",
       "      <td>2.43</td>\n",
       "      <td>-1.469676</td>\n",
       "    </tr>\n",
       "    <tr>\n",
       "      <th>1</th>\n",
       "      <td>0.21</td>\n",
       "      <td>59.8</td>\n",
       "      <td>61.0</td>\n",
       "      <td>326</td>\n",
       "      <td>3.89</td>\n",
       "      <td>3.84</td>\n",
       "      <td>2.31</td>\n",
       "      <td>-1.560648</td>\n",
       "    </tr>\n",
       "    <tr>\n",
       "      <th>2</th>\n",
       "      <td>0.23</td>\n",
       "      <td>56.9</td>\n",
       "      <td>65.0</td>\n",
       "      <td>327</td>\n",
       "      <td>4.05</td>\n",
       "      <td>4.07</td>\n",
       "      <td>2.31</td>\n",
       "      <td>-1.469676</td>\n",
       "    </tr>\n",
       "    <tr>\n",
       "      <th>3</th>\n",
       "      <td>0.29</td>\n",
       "      <td>62.4</td>\n",
       "      <td>58.0</td>\n",
       "      <td>334</td>\n",
       "      <td>4.20</td>\n",
       "      <td>4.23</td>\n",
       "      <td>2.63</td>\n",
       "      <td>-1.237874</td>\n",
       "    </tr>\n",
       "    <tr>\n",
       "      <th>4</th>\n",
       "      <td>0.31</td>\n",
       "      <td>63.3</td>\n",
       "      <td>58.0</td>\n",
       "      <td>335</td>\n",
       "      <td>4.34</td>\n",
       "      <td>4.35</td>\n",
       "      <td>2.75</td>\n",
       "      <td>-1.171183</td>\n",
       "    </tr>\n",
       "    <tr>\n",
       "      <th>...</th>\n",
       "      <td>...</td>\n",
       "      <td>...</td>\n",
       "      <td>...</td>\n",
       "      <td>...</td>\n",
       "      <td>...</td>\n",
       "      <td>...</td>\n",
       "      <td>...</td>\n",
       "      <td>...</td>\n",
       "    </tr>\n",
       "    <tr>\n",
       "      <th>53935</th>\n",
       "      <td>0.72</td>\n",
       "      <td>60.8</td>\n",
       "      <td>57.0</td>\n",
       "      <td>2757</td>\n",
       "      <td>5.75</td>\n",
       "      <td>5.76</td>\n",
       "      <td>3.50</td>\n",
       "      <td>-0.328504</td>\n",
       "    </tr>\n",
       "    <tr>\n",
       "      <th>53936</th>\n",
       "      <td>0.72</td>\n",
       "      <td>63.1</td>\n",
       "      <td>55.0</td>\n",
       "      <td>2757</td>\n",
       "      <td>5.69</td>\n",
       "      <td>5.75</td>\n",
       "      <td>3.61</td>\n",
       "      <td>-0.328504</td>\n",
       "    </tr>\n",
       "    <tr>\n",
       "      <th>53937</th>\n",
       "      <td>0.70</td>\n",
       "      <td>62.8</td>\n",
       "      <td>60.0</td>\n",
       "      <td>2757</td>\n",
       "      <td>5.66</td>\n",
       "      <td>5.68</td>\n",
       "      <td>3.56</td>\n",
       "      <td>-0.356675</td>\n",
       "    </tr>\n",
       "    <tr>\n",
       "      <th>53938</th>\n",
       "      <td>0.86</td>\n",
       "      <td>61.0</td>\n",
       "      <td>58.0</td>\n",
       "      <td>2757</td>\n",
       "      <td>6.15</td>\n",
       "      <td>6.12</td>\n",
       "      <td>3.74</td>\n",
       "      <td>-0.150823</td>\n",
       "    </tr>\n",
       "    <tr>\n",
       "      <th>53939</th>\n",
       "      <td>0.75</td>\n",
       "      <td>62.2</td>\n",
       "      <td>55.0</td>\n",
       "      <td>2757</td>\n",
       "      <td>5.83</td>\n",
       "      <td>5.87</td>\n",
       "      <td>3.64</td>\n",
       "      <td>-0.287682</td>\n",
       "    </tr>\n",
       "  </tbody>\n",
       "</table>\n",
       "<p>53940 rows × 8 columns</p>\n",
       "</div>"
      ],
      "text/plain": [
       "       carat  depth  table  price     x     y     z  carat_log\n",
       "0       0.23   61.5   55.0    326  3.95  3.98  2.43  -1.469676\n",
       "1       0.21   59.8   61.0    326  3.89  3.84  2.31  -1.560648\n",
       "2       0.23   56.9   65.0    327  4.05  4.07  2.31  -1.469676\n",
       "3       0.29   62.4   58.0    334  4.20  4.23  2.63  -1.237874\n",
       "4       0.31   63.3   58.0    335  4.34  4.35  2.75  -1.171183\n",
       "...      ...    ...    ...    ...   ...   ...   ...        ...\n",
       "53935   0.72   60.8   57.0   2757  5.75  5.76  3.50  -0.328504\n",
       "53936   0.72   63.1   55.0   2757  5.69  5.75  3.61  -0.328504\n",
       "53937   0.70   62.8   60.0   2757  5.66  5.68  3.56  -0.356675\n",
       "53938   0.86   61.0   58.0   2757  6.15  6.12  3.74  -0.150823\n",
       "53939   0.75   62.2   55.0   2757  5.83  5.87  3.64  -0.287682\n",
       "\n",
       "[53940 rows x 8 columns]"
      ]
     },
     "execution_count": 62,
     "metadata": {},
     "output_type": "execute_result"
    }
   ],
   "source": [
    "# Add a new column with the logarithm of 'carat'\n",
    "df[\"carat_log\"] = np.log(df.carat)\n",
    "\n",
    "# Display the updated DataFrame\n",
    "df"
   ]
  },
  {
   "cell_type": "markdown",
   "metadata": {},
   "source": [
    "\n",
    "\n",
    "\n",
    "<p style=\"background-color:#FFFFFF; font-family:newtimeroman; color:#0000FF; font-size:110%; text-align:left;\"><strong>-----------------------------------------------------------------------------------------------------------------------------------------------------------------------------------------------</strong></p>\n",
    "\n",
    "<p style=\"background-color:#FFFFFF; font-family:newtimeroman; color:green; font-size:125%; text-align:left;\"><strong>👉 Visual Comparison BEFORE & AFTER Logaritmic Transformation by Boxplot:</strong></p>\n",
    "\n",
    "\n",
    "**The following code creates ``side-by-side`` ``box plots`` comparing the ``original`` ``\"carat\"`` feature with its logarithmic transformation (carat_log):**"
   ]
  },
  {
   "cell_type": "code",
   "execution_count": 63,
   "metadata": {},
   "outputs": [
    {
     "data": {
      "image/png": "[encoded data removed]",
      "text/plain": [
       "<Figure size 1600x500 with 2 Axes>"
      ]
     },
     "metadata": {},
     "output_type": "display_data"
    }
   ],
   "source": [
    "# Create box plots\n",
    "fig, ax = plt.subplots(1, 2, figsize=(16, 5))\n",
    "\n",
    "# Box plot for original 'carat' data\n",
    "g = sns.boxplot(data=df, x=\"carat\", color=\"salmon\", ax=ax[0])\n",
    "g.set_title('Distribution WITH Outliers', fontsize=16)\n",
    "ax[0].set_xlabel(\"'carat' Feature NOT Transformed\", fontsize=14)\n",
    "\n",
    "# Box plot for transformed 'carat_log' data\n",
    "h = sns.boxplot(data=df, x=\"carat_log\", color=\"skyblue\", ax=ax[1])\n",
    "h.set_title('Distribution WITHOUT Outliers', fontsize=16)\n",
    "ax[1].set_xlabel(\"'carat' Feature Transformed\", fontsize=14)\n",
    "\n",
    "# Align the figure layout\n",
    "plt.tight_layout()\n",
    "\n",
    "# Show the plots\n",
    "plt.show()"
   ]
  },
  {
   "cell_type": "markdown",
   "metadata": {},
   "source": [
    "Having applied winsorized() method for handling outliers, **``NO outliers``** left on the Boxplotchart as seen.\n",
    "\n",
    "<p style=\"background-color:#FFFFFF; font-family:newtimeroman; color:#0000FF; font-size:110%; text-align:left;\"><strong>-----------------------------------------------------------------------------------------------------------------------------------------------------------------------------------------------</strong></p>\n",
    "\n",
    "<p style=\"background-color:#FFFFFF; font-family:newtimeroman; color:green; font-size:125%; text-align:left;\"><strong>👉 Visual Comparison BEFORE & AFTER Logaritmic Transformation by Histogram:</strong></p>\n",
    "\n",
    "\n",
    "**The following code visualizes the ``distributions`` of the ``original`` ``\"carat\"`` feature and its logarithmic transformation using histograms:** "
   ]
  },
  {
   "cell_type": "code",
   "execution_count": 64,
   "metadata": {},
   "outputs": [
    {
     "data": {
      "image/png": "[encoded data removed]",
      "text/plain": [
       "<Figure size 1600x500 with 2 Axes>"
      ]
     },
     "metadata": {},
     "output_type": "display_data"
    }
   ],
   "source": [
    "# Create subplots and figure with a size of 16*5\n",
    "fig, ax = plt.subplots(1, 2, figsize=(16, 5))\n",
    "\n",
    "# Create a Histogram for original 'carat' data\n",
    "g = sns.histplot(df.carat, bins=10, kde=False, color=\"salmon\", label=\"With Outliers\", ax=ax[0])\n",
    "\n",
    "# Create a Histogram for transformed 'carat_log' data\n",
    "h = sns.histplot(df.carat_log, bins=10, kde=False, color=\"skyblue\", label=\"Without Outliers\", ax=ax[1])\n",
    "\n",
    "# Set Titles\n",
    "g.set_title('Distribution WITH Outliers', fontsize=16)\n",
    "h.set_title('Distribution WITHOUT Outliers', fontsize=16)\n",
    "\n",
    "# Set X Labels\n",
    "ax[0].set_xlabel(\"'carat' Feature NOT Transformed\", fontsize=14)\n",
    "ax[1].set_xlabel(\"'carat' Feature Transformed\", fontsize=14)\n",
    "\n",
    "# # Align the figure layout\n",
    "plt.tight_layout()\n",
    "\n",
    "# Show the plots\n",
    "plt.show()"
   ]
  },
  {
   "cell_type": "markdown",
   "metadata": {},
   "source": [
    "\n",
    "\n",
    "<p style=\"background-color:#FFFFFF; font-family:newtimeroman; color:#0000FF; font-size:110%; text-align:left;\"><strong>-----------------------------------------------------------------------------------------------------------------------------------------------------------------------------------------------</strong></p>\n",
    "\n",
    "## <p style=\"background-color:#FFFFFF; font-family:newtimeroman; color:#0000FF; font-size:125%; text-align:left;\"><strong>Removing outliers after log() transformation:</strong></p>\n",
    "\n",
    "\n",
    "\n"
   ]
  },
  {
   "cell_type": "markdown",
   "metadata": {
    "id": "PdVORNIs2suu"
   },
   "source": [
    "#### <p style=\"background-color:#FFFFFF; font-family:newtimeroman; color:#0000FF; font-size:125%; text-align:left;\"><strong>👉 The first method to remove outliers:</strong></p>\n",
    "\n",
    "**The following code display the ``top (largest) values`` of the ``\"carat_log\"`` column in the DataFrame:**"
   ]
  },
  {
   "cell_type": "code",
   "execution_count": 65,
   "metadata": {
    "id": "2cKksy2L2suu",
    "outputId": "01ecb0a8-9d09-4a6c-b0f9-3d9e78b4ed85"
   },
   "outputs": [
    {
     "data": {
      "text/plain": [
       "25999    1.388791\n",
       "25998    1.388791\n",
       "27130    1.418277\n",
       "27630    1.504077\n",
       "27415    1.611436\n",
       "Name: carat_log, dtype: float64"
      ]
     },
     "execution_count": 65,
     "metadata": {},
     "output_type": "execute_result"
    }
   ],
   "source": [
    "# Display the top values of the 'carat_log' column\n",
    "\n",
    "df[\"carat_log\"].sort_values().tail()"
   ]
  },
  {
   "cell_type": "markdown",
   "metadata": {},
   "source": [
    "\n",
    "\n",
    "<p style=\"background-color:#FFFFFF; font-family:newtimeroman; color:#0000FF; font-size:110%; text-align:left;\"><strong>-----------------------------------------------------------------------------------------------------------------------------------------------------------------------------------------------</strong></p>\n",
    "\n",
    "**The following code identify the ``indices`` of the ``largest two values`` to dropped in the ``\"carat_log\"`` column:**\n",
    "\n",
    "- If we **``\"hypothetically\"``** defined the **``biggest two observation as outliers``**, we can pick up their index numbers to remove from our DataFrame."
   ]
  },
  {
   "cell_type": "code",
   "execution_count": 66,
   "metadata": {
    "id": "CT5u4tk12suu",
    "outputId": "5ba15852-66b3-4ba5-ee5f-39bd9c35c301"
   },
   "outputs": [
    {
     "data": {
      "text/plain": [
       "Index([27630, 27415], dtype='int64')"
      ]
     },
     "execution_count": 66,
     "metadata": {},
     "output_type": "execute_result"
    }
   ],
   "source": [
    "# Identify indices of the two largest values in 'carat_log'\n",
    "drop_index = df[\"carat_log\"].sort_values().tail(2).index\n",
    "\n",
    "# Display the resulting indices\n",
    "drop_index"
   ]
  },
  {
   "cell_type": "markdown",
   "metadata": {},
   "source": [
    "\n",
    "\n",
    "<p style=\"background-color:#FFFFFF; font-family:newtimeroman; color:#0000FF; font-size:110%; text-align:left;\"><strong>-----------------------------------------------------------------------------------------------------------------------------------------------------------------------------------------------</strong></p>\n",
    "\n",
    "**The following code ``drops the rows`` corresponding to the ``indices`` stored in ``\"drop_index\"`` from the DataFrame, but let's check the shape of DataFrame before dropping these two entries:**"
   ]
  },
  {
   "cell_type": "code",
   "execution_count": 67,
   "metadata": {},
   "outputs": [
    {
     "name": "stdout",
     "output_type": "stream",
     "text": [
      "The number of entries (rows) in the DataFrame is 53940.\n",
      "The number of features (columns) is 8.\n"
     ]
    }
   ],
   "source": [
    "# Get the shape of the DataFrame\n",
    "\n",
    "print(f\"The number of entries (rows) in the DataFrame is {df.shape[0]}.\")\n",
    "print(f\"The number of features (columns) is {df.shape[1]}.\")"
   ]
  },
  {
   "cell_type": "code",
   "execution_count": 68,
   "metadata": {
    "id": "98Ye8Bre2suv",
    "outputId": "7521094d-68e5-4999-f7cf-563619366953"
   },
   "outputs": [
    {
     "name": "stdout",
     "output_type": "stream",
     "text": [
      "(53940, 8)\n"
     ]
    },
    {
     "data": {
      "text/html": [
       "<div>\n",
       "<style scoped>\n",
       "    .dataframe tbody tr th:only-of-type {\n",
       "        vertical-align: middle;\n",
       "    }\n",
       "\n",
       "    .dataframe tbody tr th {\n",
       "        vertical-align: top;\n",
       "    }\n",
       "\n",
       "    .dataframe thead th {\n",
       "        text-align: right;\n",
       "    }\n",
       "</style>\n",
       "<table border=\"1\" class=\"dataframe\">\n",
       "  <thead>\n",
       "    <tr style=\"text-align: right;\">\n",
       "      <th></th>\n",
       "      <th>carat</th>\n",
       "      <th>depth</th>\n",
       "      <th>table</th>\n",
       "      <th>price</th>\n",
       "      <th>x</th>\n",
       "      <th>y</th>\n",
       "      <th>z</th>\n",
       "      <th>carat_log</th>\n",
       "    </tr>\n",
       "  </thead>\n",
       "  <tbody>\n",
       "    <tr>\n",
       "      <th>0</th>\n",
       "      <td>0.23</td>\n",
       "      <td>61.5</td>\n",
       "      <td>55.0</td>\n",
       "      <td>326</td>\n",
       "      <td>3.95</td>\n",
       "      <td>3.98</td>\n",
       "      <td>2.43</td>\n",
       "      <td>-1.469676</td>\n",
       "    </tr>\n",
       "    <tr>\n",
       "      <th>1</th>\n",
       "      <td>0.21</td>\n",
       "      <td>59.8</td>\n",
       "      <td>61.0</td>\n",
       "      <td>326</td>\n",
       "      <td>3.89</td>\n",
       "      <td>3.84</td>\n",
       "      <td>2.31</td>\n",
       "      <td>-1.560648</td>\n",
       "    </tr>\n",
       "    <tr>\n",
       "      <th>2</th>\n",
       "      <td>0.23</td>\n",
       "      <td>56.9</td>\n",
       "      <td>65.0</td>\n",
       "      <td>327</td>\n",
       "      <td>4.05</td>\n",
       "      <td>4.07</td>\n",
       "      <td>2.31</td>\n",
       "      <td>-1.469676</td>\n",
       "    </tr>\n",
       "    <tr>\n",
       "      <th>3</th>\n",
       "      <td>0.29</td>\n",
       "      <td>62.4</td>\n",
       "      <td>58.0</td>\n",
       "      <td>334</td>\n",
       "      <td>4.20</td>\n",
       "      <td>4.23</td>\n",
       "      <td>2.63</td>\n",
       "      <td>-1.237874</td>\n",
       "    </tr>\n",
       "    <tr>\n",
       "      <th>4</th>\n",
       "      <td>0.31</td>\n",
       "      <td>63.3</td>\n",
       "      <td>58.0</td>\n",
       "      <td>335</td>\n",
       "      <td>4.34</td>\n",
       "      <td>4.35</td>\n",
       "      <td>2.75</td>\n",
       "      <td>-1.171183</td>\n",
       "    </tr>\n",
       "    <tr>\n",
       "      <th>...</th>\n",
       "      <td>...</td>\n",
       "      <td>...</td>\n",
       "      <td>...</td>\n",
       "      <td>...</td>\n",
       "      <td>...</td>\n",
       "      <td>...</td>\n",
       "      <td>...</td>\n",
       "      <td>...</td>\n",
       "    </tr>\n",
       "    <tr>\n",
       "      <th>53935</th>\n",
       "      <td>0.72</td>\n",
       "      <td>60.8</td>\n",
       "      <td>57.0</td>\n",
       "      <td>2757</td>\n",
       "      <td>5.75</td>\n",
       "      <td>5.76</td>\n",
       "      <td>3.50</td>\n",
       "      <td>-0.328504</td>\n",
       "    </tr>\n",
       "    <tr>\n",
       "      <th>53936</th>\n",
       "      <td>0.72</td>\n",
       "      <td>63.1</td>\n",
       "      <td>55.0</td>\n",
       "      <td>2757</td>\n",
       "      <td>5.69</td>\n",
       "      <td>5.75</td>\n",
       "      <td>3.61</td>\n",
       "      <td>-0.328504</td>\n",
       "    </tr>\n",
       "    <tr>\n",
       "      <th>53937</th>\n",
       "      <td>0.70</td>\n",
       "      <td>62.8</td>\n",
       "      <td>60.0</td>\n",
       "      <td>2757</td>\n",
       "      <td>5.66</td>\n",
       "      <td>5.68</td>\n",
       "      <td>3.56</td>\n",
       "      <td>-0.356675</td>\n",
       "    </tr>\n",
       "    <tr>\n",
       "      <th>53938</th>\n",
       "      <td>0.86</td>\n",
       "      <td>61.0</td>\n",
       "      <td>58.0</td>\n",
       "      <td>2757</td>\n",
       "      <td>6.15</td>\n",
       "      <td>6.12</td>\n",
       "      <td>3.74</td>\n",
       "      <td>-0.150823</td>\n",
       "    </tr>\n",
       "    <tr>\n",
       "      <th>53939</th>\n",
       "      <td>0.75</td>\n",
       "      <td>62.2</td>\n",
       "      <td>55.0</td>\n",
       "      <td>2757</td>\n",
       "      <td>5.83</td>\n",
       "      <td>5.87</td>\n",
       "      <td>3.64</td>\n",
       "      <td>-0.287682</td>\n",
       "    </tr>\n",
       "  </tbody>\n",
       "</table>\n",
       "<p>53938 rows × 8 columns</p>\n",
       "</div>"
      ],
      "text/plain": [
       "       carat  depth  table  price     x     y     z  carat_log\n",
       "0       0.23   61.5   55.0    326  3.95  3.98  2.43  -1.469676\n",
       "1       0.21   59.8   61.0    326  3.89  3.84  2.31  -1.560648\n",
       "2       0.23   56.9   65.0    327  4.05  4.07  2.31  -1.469676\n",
       "3       0.29   62.4   58.0    334  4.20  4.23  2.63  -1.237874\n",
       "4       0.31   63.3   58.0    335  4.34  4.35  2.75  -1.171183\n",
       "...      ...    ...    ...    ...   ...   ...   ...        ...\n",
       "53935   0.72   60.8   57.0   2757  5.75  5.76  3.50  -0.328504\n",
       "53936   0.72   63.1   55.0   2757  5.69  5.75  3.61  -0.328504\n",
       "53937   0.70   62.8   60.0   2757  5.66  5.68  3.56  -0.356675\n",
       "53938   0.86   61.0   58.0   2757  6.15  6.12  3.74  -0.150823\n",
       "53939   0.75   62.2   55.0   2757  5.83  5.87  3.64  -0.287682\n",
       "\n",
       "[53938 rows x 8 columns]"
      ]
     },
     "execution_count": 68,
     "metadata": {},
     "output_type": "execute_result"
    }
   ],
   "source": [
    "print(df.shape)\n",
    "\n",
    "# Drop the rows with the specified indices\n",
    "\n",
    "df.drop(drop_index)"
   ]
  },
  {
   "cell_type": "markdown",
   "metadata": {},
   "source": [
    "\n",
    "\n",
    "<p style=\"background-color:#FFFFFF; font-family:newtimeroman; color:#0000FF; font-size:110%; text-align:left;\"><strong>-----------------------------------------------------------------------------------------------------------------------------------------------------------------------------------------------</strong></p>\n",
    "\n",
    "#### <p style=\"background-color:#FFFFFF; font-family:newtimeroman; color:#0000FF; font-size:125%; text-align:left;\"><strong>👉 The second method to remove outliers:</strong></p>\n",
    "\n",
    "\n",
    "**The following code calculates the ``Interquartile Range (IQR)`` for the ``\"carat_log\"`` feature in the DataFrame:**\n",
    "\n",
    "- The output will give you the value of the ``IQR``, which represents the ``range`` within which the ``middle 50% of the data`` lies."
   ]
  },
  {
   "cell_type": "code",
   "execution_count": 69,
   "metadata": {
    "id": "rfANY-GJDyz_",
    "outputId": "96da1073-9d35-4904-98c4-1c984165643f"
   },
   "outputs": [
    {
     "data": {
      "text/plain": [
       "0.9555114450274363"
      ]
     },
     "execution_count": 69,
     "metadata": {},
     "output_type": "execute_result"
    }
   ],
   "source": [
    "# Calculate the first (Q1) and third (Q3) quartiles\n",
    "Q1 = df[\"carat_log\"].quantile(0.25)\n",
    "Q3 = df[\"carat_log\"].quantile(0.75)\n",
    "\n",
    "# Calculate the IQR\n",
    "IQR = Q3 - Q1\n",
    "\n",
    "# Display the IQR\n",
    "IQR"
   ]
  },
  {
   "cell_type": "markdown",
   "metadata": {},
   "source": [
    "\n",
    "\n",
    "<p style=\"background-color:#FFFFFF; font-family:newtimeroman; color:#0000FF; font-size:110%; text-align:left;\"><strong>-----------------------------------------------------------------------------------------------------------------------------------------------------------------------------------------------</strong></p>\n",
    "\n",
    "**The following code calculates the ``lower`` and ``upper`` limits for ``identifying outliers`` using the ``IQR method``:**"
   ]
  },
  {
   "cell_type": "code",
   "execution_count": 70,
   "metadata": {
    "id": "UVTXWnmLDyz_",
    "outputId": "c2919688-a919-46e2-bd5a-70c5ea0bff4e"
   },
   "outputs": [
    {
     "name": "stdout",
     "output_type": "stream",
     "text": [
      "The lower limit calculated by Tukey's Fences is -2.3495578994153097.\n",
      "The upper limit calculated by Tukey's Fences is 1.472487880694436.\n"
     ]
    }
   ],
   "source": [
    "# Calculate \"lower\" and \"upper\" limits for outlier detection\n",
    "lower_lim = Q1 - 1.5 * IQR\n",
    "upper_lim = Q3 + 1.5 * IQR\n",
    "\n",
    "# Display the limits\n",
    "lower_lim, upper_lim\n",
    "# Get the shape of the DataFrame\n",
    "\n",
    "print(f\"The lower limit calculated by Tukey's Fences is {lower_lim}.\")\n",
    "print(f\"The upper limit calculated by Tukey's Fences is {upper_lim}.\")"
   ]
  },
  {
   "cell_type": "markdown",
   "metadata": {},
   "source": [
    "- **``Lower Limit``**: Values **``BELOW this threshold``** are considered **``potential outliers``**.\n",
    "- **``Upper Limit``**: Values **``ABOVE this threshold``** are also considered **``potential outliers``**.\n",
    "\n",
    "<p style=\"background-color:#FFFFFF; font-family:newtimeroman; color:#0000FF; font-size:110%; text-align:left;\"><strong>-----------------------------------------------------------------------------------------------------------------------------------------------------------------------------------------------</strong></p>\n",
    "\n",
    "**The following code counts the ``number of entries`` in the ``\"carat_log\"`` column that ``exceed the upper limit`` (indicating ``potential outliers)``:**"
   ]
  },
  {
   "cell_type": "code",
   "execution_count": 71,
   "metadata": {
    "id": "u0TWN37C98gz",
    "outputId": "2b3b2060-cf50-4042-99c2-570463119622"
   },
   "outputs": [
    {
     "data": {
      "text/plain": [
       "2"
      ]
     },
     "execution_count": 71,
     "metadata": {},
     "output_type": "execute_result"
    }
   ],
   "source": [
    "# Count the number of outliers \"above\" the \"upper\" limit\n",
    "\n",
    "(df.carat_log > upper_lim).sum()"
   ]
  },
  {
   "cell_type": "markdown",
   "metadata": {},
   "source": [
    "\n",
    "\n",
    "<p style=\"background-color:#FFFFFF; font-family:newtimeroman; color:#0000FF; font-size:110%; text-align:left;\"><strong>-----------------------------------------------------------------------------------------------------------------------------------------------------------------------------------------------</strong></p>\n",
    "\n",
    "**The following code counts the ``number of entries`` in the ``\"carat_log\"`` column that ``fall below the lower limit`` (indicating ``potential outliers)``:**"
   ]
  },
  {
   "cell_type": "code",
   "execution_count": 72,
   "metadata": {
    "id": "XU5ChMBX98gz",
    "outputId": "925ba45a-fb75-4d62-b7bf-b5440234f0d0"
   },
   "outputs": [
    {
     "data": {
      "text/plain": [
       "0"
      ]
     },
     "execution_count": 72,
     "metadata": {},
     "output_type": "execute_result"
    }
   ],
   "source": [
    "# Count the number of outliers \"below\" the \"lower\" limit\n",
    "\n",
    "(df.carat_log <= lower_lim).sum()"
   ]
  },
  {
   "cell_type": "markdown",
   "metadata": {},
   "source": [
    "\n",
    "\n",
    "<p style=\"background-color:#FFFFFF; font-family:newtimeroman; color:#0000FF; font-size:110%; text-align:left;\"><strong>-----------------------------------------------------------------------------------------------------------------------------------------------------------------------------------------------</strong></p>\n",
    "\n",
    "**The following code ``retrieves`` the ``rows`` from the DataFrame where the ``\"carat_log\"`` values ``exceed the upper limit`` (indicating ``potential outliers``):**"
   ]
  },
  {
   "cell_type": "code",
   "execution_count": 73,
   "metadata": {
    "id": "A8Jchcg898g0",
    "outputId": "4470fc72-f352-4226-cf4a-6d8ebbb6c211"
   },
   "outputs": [
    {
     "data": {
      "text/html": [
       "<div>\n",
       "<style scoped>\n",
       "    .dataframe tbody tr th:only-of-type {\n",
       "        vertical-align: middle;\n",
       "    }\n",
       "\n",
       "    .dataframe tbody tr th {\n",
       "        vertical-align: top;\n",
       "    }\n",
       "\n",
       "    .dataframe thead th {\n",
       "        text-align: right;\n",
       "    }\n",
       "</style>\n",
       "<table border=\"1\" class=\"dataframe\">\n",
       "  <thead>\n",
       "    <tr style=\"text-align: right;\">\n",
       "      <th></th>\n",
       "      <th>carat</th>\n",
       "      <th>depth</th>\n",
       "      <th>table</th>\n",
       "      <th>price</th>\n",
       "      <th>x</th>\n",
       "      <th>y</th>\n",
       "      <th>z</th>\n",
       "      <th>carat_log</th>\n",
       "    </tr>\n",
       "  </thead>\n",
       "  <tbody>\n",
       "    <tr>\n",
       "      <th>27415</th>\n",
       "      <td>5.01</td>\n",
       "      <td>65.5</td>\n",
       "      <td>59.0</td>\n",
       "      <td>18018</td>\n",
       "      <td>10.74</td>\n",
       "      <td>10.54</td>\n",
       "      <td>6.98</td>\n",
       "      <td>1.611436</td>\n",
       "    </tr>\n",
       "    <tr>\n",
       "      <th>27630</th>\n",
       "      <td>4.50</td>\n",
       "      <td>65.8</td>\n",
       "      <td>58.0</td>\n",
       "      <td>18531</td>\n",
       "      <td>10.23</td>\n",
       "      <td>10.16</td>\n",
       "      <td>6.72</td>\n",
       "      <td>1.504077</td>\n",
       "    </tr>\n",
       "  </tbody>\n",
       "</table>\n",
       "</div>"
      ],
      "text/plain": [
       "       carat  depth  table  price      x      y     z  carat_log\n",
       "27415   5.01   65.5   59.0  18018  10.74  10.54  6.98   1.611436\n",
       "27630   4.50   65.8   58.0  18531  10.23  10.16  6.72   1.504077"
      ]
     },
     "execution_count": 73,
     "metadata": {},
     "output_type": "execute_result"
    }
   ],
   "source": [
    "# Let's see which observations are defined as outliers according to Tukey's Rule\n",
    "\n",
    "# Get the rows where 'carat_log' exceeds the upper limit\n",
    "df.loc[(df.carat_log > upper_lim)]"
   ]
  },
  {
   "cell_type": "markdown",
   "metadata": {},
   "source": [
    "- **``df.loc[...]``**: This is used to ``select rows`` from the DataFrame ``based on a condition``.\n",
    "- **``df.carat_log > upper_lim``**: This ``condition`` identifies ``all rows where \"the carat_log\" value is greater than the upper limit``.\n",
    "\n",
    "<p style=\"background-color:#FFFFFF; font-family:newtimeroman; color:#0000FF; font-size:110%; text-align:left;\"><strong>-----------------------------------------------------------------------------------------------------------------------------------------------------------------------------------------------</strong></p>\n",
    "\n",
    "**The following code identifies the ``indices of the rows`` in the DataFrame where the ``\"carat_log\"`` values ``exceed the upper limit`` (indicating ``potential outliers``):**"
   ]
  },
  {
   "cell_type": "code",
   "execution_count": 74,
   "metadata": {
    "id": "lSStY81N98g0",
    "outputId": "6f32d874-86a5-4652-9a7d-0d67fd88bafd"
   },
   "outputs": [
    {
     "data": {
      "text/plain": [
       "Index([27415, 27630], dtype='int64')"
      ]
     },
     "execution_count": 74,
     "metadata": {},
     "output_type": "execute_result"
    }
   ],
   "source": [
    "# After defining the index numbers of these observation, we can remove them from our DataFrame\n",
    "\n",
    "# Identify the indices of the outliers above the upper limit\n",
    "drop_index = df.loc[df.carat_log > upper_lim].index\n",
    "\n",
    "# Display the indices\n",
    "drop_index"
   ]
  },
  {
   "cell_type": "markdown",
   "metadata": {},
   "source": [
    "- **``Dropping Rows``**: The drop(drop_index) method removes the rows corresponding to the indices stored in drop_index.\n",
    "- **``Result``**: The result contains all the original data except for the dropped rows.\n",
    "\n",
    "<p style=\"background-color:#FFFFFF; font-family:newtimeroman; color:#0000FF; font-size:110%; text-align:left;\"><strong>-----------------------------------------------------------------------------------------------------------------------------------------------------------------------------------------------</strong></p>\n",
    "\n",
    "**The following code drops the ``rows`` with the ``indices`` stored in ``\"drop_index\"`` from the DataFrame:**"
   ]
  },
  {
   "cell_type": "code",
   "execution_count": 75,
   "metadata": {
    "id": "K8_H4n_V98g1",
    "outputId": "41292ec7-43af-457a-97f4-2e83f6bf57e5"
   },
   "outputs": [
    {
     "name": "stdout",
     "output_type": "stream",
     "text": [
      "(53940, 8)\n"
     ]
    },
    {
     "data": {
      "text/html": [
       "<div>\n",
       "<style scoped>\n",
       "    .dataframe tbody tr th:only-of-type {\n",
       "        vertical-align: middle;\n",
       "    }\n",
       "\n",
       "    .dataframe tbody tr th {\n",
       "        vertical-align: top;\n",
       "    }\n",
       "\n",
       "    .dataframe thead th {\n",
       "        text-align: right;\n",
       "    }\n",
       "</style>\n",
       "<table border=\"1\" class=\"dataframe\">\n",
       "  <thead>\n",
       "    <tr style=\"text-align: right;\">\n",
       "      <th></th>\n",
       "      <th>carat</th>\n",
       "      <th>depth</th>\n",
       "      <th>table</th>\n",
       "      <th>price</th>\n",
       "      <th>x</th>\n",
       "      <th>y</th>\n",
       "      <th>z</th>\n",
       "      <th>carat_log</th>\n",
       "    </tr>\n",
       "  </thead>\n",
       "  <tbody>\n",
       "    <tr>\n",
       "      <th>0</th>\n",
       "      <td>0.23</td>\n",
       "      <td>61.5</td>\n",
       "      <td>55.0</td>\n",
       "      <td>326</td>\n",
       "      <td>3.95</td>\n",
       "      <td>3.98</td>\n",
       "      <td>2.43</td>\n",
       "      <td>-1.469676</td>\n",
       "    </tr>\n",
       "    <tr>\n",
       "      <th>1</th>\n",
       "      <td>0.21</td>\n",
       "      <td>59.8</td>\n",
       "      <td>61.0</td>\n",
       "      <td>326</td>\n",
       "      <td>3.89</td>\n",
       "      <td>3.84</td>\n",
       "      <td>2.31</td>\n",
       "      <td>-1.560648</td>\n",
       "    </tr>\n",
       "    <tr>\n",
       "      <th>2</th>\n",
       "      <td>0.23</td>\n",
       "      <td>56.9</td>\n",
       "      <td>65.0</td>\n",
       "      <td>327</td>\n",
       "      <td>4.05</td>\n",
       "      <td>4.07</td>\n",
       "      <td>2.31</td>\n",
       "      <td>-1.469676</td>\n",
       "    </tr>\n",
       "    <tr>\n",
       "      <th>3</th>\n",
       "      <td>0.29</td>\n",
       "      <td>62.4</td>\n",
       "      <td>58.0</td>\n",
       "      <td>334</td>\n",
       "      <td>4.20</td>\n",
       "      <td>4.23</td>\n",
       "      <td>2.63</td>\n",
       "      <td>-1.237874</td>\n",
       "    </tr>\n",
       "    <tr>\n",
       "      <th>4</th>\n",
       "      <td>0.31</td>\n",
       "      <td>63.3</td>\n",
       "      <td>58.0</td>\n",
       "      <td>335</td>\n",
       "      <td>4.34</td>\n",
       "      <td>4.35</td>\n",
       "      <td>2.75</td>\n",
       "      <td>-1.171183</td>\n",
       "    </tr>\n",
       "    <tr>\n",
       "      <th>...</th>\n",
       "      <td>...</td>\n",
       "      <td>...</td>\n",
       "      <td>...</td>\n",
       "      <td>...</td>\n",
       "      <td>...</td>\n",
       "      <td>...</td>\n",
       "      <td>...</td>\n",
       "      <td>...</td>\n",
       "    </tr>\n",
       "    <tr>\n",
       "      <th>53935</th>\n",
       "      <td>0.72</td>\n",
       "      <td>60.8</td>\n",
       "      <td>57.0</td>\n",
       "      <td>2757</td>\n",
       "      <td>5.75</td>\n",
       "      <td>5.76</td>\n",
       "      <td>3.50</td>\n",
       "      <td>-0.328504</td>\n",
       "    </tr>\n",
       "    <tr>\n",
       "      <th>53936</th>\n",
       "      <td>0.72</td>\n",
       "      <td>63.1</td>\n",
       "      <td>55.0</td>\n",
       "      <td>2757</td>\n",
       "      <td>5.69</td>\n",
       "      <td>5.75</td>\n",
       "      <td>3.61</td>\n",
       "      <td>-0.328504</td>\n",
       "    </tr>\n",
       "    <tr>\n",
       "      <th>53937</th>\n",
       "      <td>0.70</td>\n",
       "      <td>62.8</td>\n",
       "      <td>60.0</td>\n",
       "      <td>2757</td>\n",
       "      <td>5.66</td>\n",
       "      <td>5.68</td>\n",
       "      <td>3.56</td>\n",
       "      <td>-0.356675</td>\n",
       "    </tr>\n",
       "    <tr>\n",
       "      <th>53938</th>\n",
       "      <td>0.86</td>\n",
       "      <td>61.0</td>\n",
       "      <td>58.0</td>\n",
       "      <td>2757</td>\n",
       "      <td>6.15</td>\n",
       "      <td>6.12</td>\n",
       "      <td>3.74</td>\n",
       "      <td>-0.150823</td>\n",
       "    </tr>\n",
       "    <tr>\n",
       "      <th>53939</th>\n",
       "      <td>0.75</td>\n",
       "      <td>62.2</td>\n",
       "      <td>55.0</td>\n",
       "      <td>2757</td>\n",
       "      <td>5.83</td>\n",
       "      <td>5.87</td>\n",
       "      <td>3.64</td>\n",
       "      <td>-0.287682</td>\n",
       "    </tr>\n",
       "  </tbody>\n",
       "</table>\n",
       "<p>53938 rows × 8 columns</p>\n",
       "</div>"
      ],
      "text/plain": [
       "       carat  depth  table  price     x     y     z  carat_log\n",
       "0       0.23   61.5   55.0    326  3.95  3.98  2.43  -1.469676\n",
       "1       0.21   59.8   61.0    326  3.89  3.84  2.31  -1.560648\n",
       "2       0.23   56.9   65.0    327  4.05  4.07  2.31  -1.469676\n",
       "3       0.29   62.4   58.0    334  4.20  4.23  2.63  -1.237874\n",
       "4       0.31   63.3   58.0    335  4.34  4.35  2.75  -1.171183\n",
       "...      ...    ...    ...    ...   ...   ...   ...        ...\n",
       "53935   0.72   60.8   57.0   2757  5.75  5.76  3.50  -0.328504\n",
       "53936   0.72   63.1   55.0   2757  5.69  5.75  3.61  -0.328504\n",
       "53937   0.70   62.8   60.0   2757  5.66  5.68  3.56  -0.356675\n",
       "53938   0.86   61.0   58.0   2757  6.15  6.12  3.74  -0.150823\n",
       "53939   0.75   62.2   55.0   2757  5.83  5.87  3.64  -0.287682\n",
       "\n",
       "[53938 rows x 8 columns]"
      ]
     },
     "execution_count": 75,
     "metadata": {},
     "output_type": "execute_result"
    }
   ],
   "source": [
    "print(df.shape)\n",
    "\n",
    "# Drop the rows with the specified indices\n",
    "\n",
    "df.drop(drop_index)"
   ]
  },
  {
   "cell_type": "markdown",
   "metadata": {},
   "source": [
    "\n",
    "\n",
    "<p style=\"background-color:#FFFFFF; font-family:newtimeroman; color:#0000FF; font-size:110%; text-align:left;\"><strong>-----------------------------------------------------------------------------------------------------------------------------------------------------------------------------------------------</strong></p>\n",
    "\n",
    "#### <p style=\"background-color:#FFFFFF; font-family:newtimeroman; color:#0000FF; font-size:125%; text-align:left;\"><strong>👉 The third method to remove outliers:</strong></p>\n",
    "\n",
    "**The following code creates a ``boolean mask`` for ``identifying non-outlier entries`` in the ``\"carat_log\"` column:**"
   ]
  },
  {
   "cell_type": "code",
   "execution_count": 76,
   "metadata": {
    "id": "eynpOvpw98g1"
   },
   "outputs": [
    {
     "data": {
      "text/plain": [
       "0        True\n",
       "1        True\n",
       "2        True\n",
       "3        True\n",
       "4        True\n",
       "         ... \n",
       "53935    True\n",
       "53936    True\n",
       "53937    True\n",
       "53938    True\n",
       "53939    True\n",
       "Name: carat_log, Length: 53940, dtype: bool"
      ]
     },
     "execution_count": 76,
     "metadata": {},
     "output_type": "execute_result"
    }
   ],
   "source": [
    "# Here we can define the observations not defined as outliers and assign them to an object\n",
    "\n",
    "# Create a boolean mask for non-outliers\n",
    "not_outliers = (df.carat_log <= upper_lim)\n",
    "\n",
    "# Display the boolean mask\n",
    "not_outliers"
   ]
  },
  {
   "cell_type": "markdown",
   "metadata": {},
   "source": [
    "- **``Boolean Mask``**: The variable ``\"not_outliers\"`` contains;\n",
    "  - **``True``** for ``rows where \"carat_log\" is less than or equal to the upper limit`` and\n",
    "  - **``False``** for ``rows that exceed the upper limit``.\n",
    "\n",
    "<p style=\"background-color:#FFFFFF; font-family:newtimeroman; color:#0000FF; font-size:110%; text-align:left;\"><strong>-----------------------------------------------------------------------------------------------------------------------------------------------------------------------------------------------</strong></p>\n",
    "\n"
   ]
  },
  {
   "cell_type": "code",
   "execution_count": 77,
   "metadata": {
    "id": "IH06uogG98g1",
    "outputId": "a92aed65-cc78-410e-8fa1-65344e875d8a"
   },
   "outputs": [
    {
     "data": {
      "text/plain": [
       "53938"
      ]
     },
     "execution_count": 77,
     "metadata": {},
     "output_type": "execute_result"
    }
   ],
   "source": [
    "# Count the number of \"non-outlier\" entries\n",
    "\n",
    "len(df[not_outliers])"
   ]
  },
  {
   "cell_type": "markdown",
   "metadata": {},
   "source": [
    "\n",
    "\n",
    "<p style=\"background-color:#FFFFFF; font-family:newtimeroman; color:#0000FF; font-size:110%; text-align:left;\"><strong>-----------------------------------------------------------------------------------------------------------------------------------------------------------------------------------------------</strong></p>\n",
    "\n",
    "**The following code creates a ``new DataFrame`` containing ``only the non-outlier entries`` from the original DataFrame:** "
   ]
  },
  {
   "cell_type": "code",
   "execution_count": 78,
   "metadata": {},
   "outputs": [
    {
     "data": {
      "text/html": [
       "<div>\n",
       "<style scoped>\n",
       "    .dataframe tbody tr th:only-of-type {\n",
       "        vertical-align: middle;\n",
       "    }\n",
       "\n",
       "    .dataframe tbody tr th {\n",
       "        vertical-align: top;\n",
       "    }\n",
       "\n",
       "    .dataframe thead th {\n",
       "        text-align: right;\n",
       "    }\n",
       "</style>\n",
       "<table border=\"1\" class=\"dataframe\">\n",
       "  <thead>\n",
       "    <tr style=\"text-align: right;\">\n",
       "      <th></th>\n",
       "      <th>carat</th>\n",
       "      <th>depth</th>\n",
       "      <th>table</th>\n",
       "      <th>price</th>\n",
       "      <th>x</th>\n",
       "      <th>y</th>\n",
       "      <th>z</th>\n",
       "      <th>carat_log</th>\n",
       "    </tr>\n",
       "  </thead>\n",
       "  <tbody>\n",
       "    <tr>\n",
       "      <th>0</th>\n",
       "      <td>0.23</td>\n",
       "      <td>61.5</td>\n",
       "      <td>55.0</td>\n",
       "      <td>326</td>\n",
       "      <td>3.95</td>\n",
       "      <td>3.98</td>\n",
       "      <td>2.43</td>\n",
       "      <td>-1.469676</td>\n",
       "    </tr>\n",
       "    <tr>\n",
       "      <th>1</th>\n",
       "      <td>0.21</td>\n",
       "      <td>59.8</td>\n",
       "      <td>61.0</td>\n",
       "      <td>326</td>\n",
       "      <td>3.89</td>\n",
       "      <td>3.84</td>\n",
       "      <td>2.31</td>\n",
       "      <td>-1.560648</td>\n",
       "    </tr>\n",
       "    <tr>\n",
       "      <th>2</th>\n",
       "      <td>0.23</td>\n",
       "      <td>56.9</td>\n",
       "      <td>65.0</td>\n",
       "      <td>327</td>\n",
       "      <td>4.05</td>\n",
       "      <td>4.07</td>\n",
       "      <td>2.31</td>\n",
       "      <td>-1.469676</td>\n",
       "    </tr>\n",
       "    <tr>\n",
       "      <th>3</th>\n",
       "      <td>0.29</td>\n",
       "      <td>62.4</td>\n",
       "      <td>58.0</td>\n",
       "      <td>334</td>\n",
       "      <td>4.20</td>\n",
       "      <td>4.23</td>\n",
       "      <td>2.63</td>\n",
       "      <td>-1.237874</td>\n",
       "    </tr>\n",
       "    <tr>\n",
       "      <th>4</th>\n",
       "      <td>0.31</td>\n",
       "      <td>63.3</td>\n",
       "      <td>58.0</td>\n",
       "      <td>335</td>\n",
       "      <td>4.34</td>\n",
       "      <td>4.35</td>\n",
       "      <td>2.75</td>\n",
       "      <td>-1.171183</td>\n",
       "    </tr>\n",
       "    <tr>\n",
       "      <th>...</th>\n",
       "      <td>...</td>\n",
       "      <td>...</td>\n",
       "      <td>...</td>\n",
       "      <td>...</td>\n",
       "      <td>...</td>\n",
       "      <td>...</td>\n",
       "      <td>...</td>\n",
       "      <td>...</td>\n",
       "    </tr>\n",
       "    <tr>\n",
       "      <th>53935</th>\n",
       "      <td>0.72</td>\n",
       "      <td>60.8</td>\n",
       "      <td>57.0</td>\n",
       "      <td>2757</td>\n",
       "      <td>5.75</td>\n",
       "      <td>5.76</td>\n",
       "      <td>3.50</td>\n",
       "      <td>-0.328504</td>\n",
       "    </tr>\n",
       "    <tr>\n",
       "      <th>53936</th>\n",
       "      <td>0.72</td>\n",
       "      <td>63.1</td>\n",
       "      <td>55.0</td>\n",
       "      <td>2757</td>\n",
       "      <td>5.69</td>\n",
       "      <td>5.75</td>\n",
       "      <td>3.61</td>\n",
       "      <td>-0.328504</td>\n",
       "    </tr>\n",
       "    <tr>\n",
       "      <th>53937</th>\n",
       "      <td>0.70</td>\n",
       "      <td>62.8</td>\n",
       "      <td>60.0</td>\n",
       "      <td>2757</td>\n",
       "      <td>5.66</td>\n",
       "      <td>5.68</td>\n",
       "      <td>3.56</td>\n",
       "      <td>-0.356675</td>\n",
       "    </tr>\n",
       "    <tr>\n",
       "      <th>53938</th>\n",
       "      <td>0.86</td>\n",
       "      <td>61.0</td>\n",
       "      <td>58.0</td>\n",
       "      <td>2757</td>\n",
       "      <td>6.15</td>\n",
       "      <td>6.12</td>\n",
       "      <td>3.74</td>\n",
       "      <td>-0.150823</td>\n",
       "    </tr>\n",
       "    <tr>\n",
       "      <th>53939</th>\n",
       "      <td>0.75</td>\n",
       "      <td>62.2</td>\n",
       "      <td>55.0</td>\n",
       "      <td>2757</td>\n",
       "      <td>5.83</td>\n",
       "      <td>5.87</td>\n",
       "      <td>3.64</td>\n",
       "      <td>-0.287682</td>\n",
       "    </tr>\n",
       "  </tbody>\n",
       "</table>\n",
       "<p>53938 rows × 8 columns</p>\n",
       "</div>"
      ],
      "text/plain": [
       "       carat  depth  table  price     x     y     z  carat_log\n",
       "0       0.23   61.5   55.0    326  3.95  3.98  2.43  -1.469676\n",
       "1       0.21   59.8   61.0    326  3.89  3.84  2.31  -1.560648\n",
       "2       0.23   56.9   65.0    327  4.05  4.07  2.31  -1.469676\n",
       "3       0.29   62.4   58.0    334  4.20  4.23  2.63  -1.237874\n",
       "4       0.31   63.3   58.0    335  4.34  4.35  2.75  -1.171183\n",
       "...      ...    ...    ...    ...   ...   ...   ...        ...\n",
       "53935   0.72   60.8   57.0   2757  5.75  5.76  3.50  -0.328504\n",
       "53936   0.72   63.1   55.0   2757  5.69  5.75  3.61  -0.328504\n",
       "53937   0.70   62.8   60.0   2757  5.66  5.68  3.56  -0.356675\n",
       "53938   0.86   61.0   58.0   2757  6.15  6.12  3.74  -0.150823\n",
       "53939   0.75   62.2   55.0   2757  5.83  5.87  3.64  -0.287682\n",
       "\n",
       "[53938 rows x 8 columns]"
      ]
     },
     "execution_count": 78,
     "metadata": {},
     "output_type": "execute_result"
    }
   ],
   "source": [
    "df[not_outliers]"
   ]
  },
  {
   "cell_type": "code",
   "execution_count": 79,
   "metadata": {
    "id": "AzdQ_8c098g2",
    "outputId": "02451f39-cb7d-4adf-c2b1-848b7a9d25dc"
   },
   "outputs": [
    {
     "data": {
      "text/html": [
       "<div>\n",
       "<style scoped>\n",
       "    .dataframe tbody tr th:only-of-type {\n",
       "        vertical-align: middle;\n",
       "    }\n",
       "\n",
       "    .dataframe tbody tr th {\n",
       "        vertical-align: top;\n",
       "    }\n",
       "\n",
       "    .dataframe thead th {\n",
       "        text-align: right;\n",
       "    }\n",
       "</style>\n",
       "<table border=\"1\" class=\"dataframe\">\n",
       "  <thead>\n",
       "    <tr style=\"text-align: right;\">\n",
       "      <th></th>\n",
       "      <th>carat</th>\n",
       "      <th>depth</th>\n",
       "      <th>table</th>\n",
       "      <th>price</th>\n",
       "      <th>x</th>\n",
       "      <th>y</th>\n",
       "      <th>z</th>\n",
       "      <th>carat_log</th>\n",
       "    </tr>\n",
       "  </thead>\n",
       "  <tbody>\n",
       "    <tr>\n",
       "      <th>0</th>\n",
       "      <td>0.23</td>\n",
       "      <td>61.5</td>\n",
       "      <td>55.0</td>\n",
       "      <td>326</td>\n",
       "      <td>3.95</td>\n",
       "      <td>3.98</td>\n",
       "      <td>2.43</td>\n",
       "      <td>-1.469676</td>\n",
       "    </tr>\n",
       "    <tr>\n",
       "      <th>1</th>\n",
       "      <td>0.21</td>\n",
       "      <td>59.8</td>\n",
       "      <td>61.0</td>\n",
       "      <td>326</td>\n",
       "      <td>3.89</td>\n",
       "      <td>3.84</td>\n",
       "      <td>2.31</td>\n",
       "      <td>-1.560648</td>\n",
       "    </tr>\n",
       "    <tr>\n",
       "      <th>2</th>\n",
       "      <td>0.23</td>\n",
       "      <td>56.9</td>\n",
       "      <td>65.0</td>\n",
       "      <td>327</td>\n",
       "      <td>4.05</td>\n",
       "      <td>4.07</td>\n",
       "      <td>2.31</td>\n",
       "      <td>-1.469676</td>\n",
       "    </tr>\n",
       "    <tr>\n",
       "      <th>3</th>\n",
       "      <td>0.29</td>\n",
       "      <td>62.4</td>\n",
       "      <td>58.0</td>\n",
       "      <td>334</td>\n",
       "      <td>4.20</td>\n",
       "      <td>4.23</td>\n",
       "      <td>2.63</td>\n",
       "      <td>-1.237874</td>\n",
       "    </tr>\n",
       "    <tr>\n",
       "      <th>4</th>\n",
       "      <td>0.31</td>\n",
       "      <td>63.3</td>\n",
       "      <td>58.0</td>\n",
       "      <td>335</td>\n",
       "      <td>4.34</td>\n",
       "      <td>4.35</td>\n",
       "      <td>2.75</td>\n",
       "      <td>-1.171183</td>\n",
       "    </tr>\n",
       "    <tr>\n",
       "      <th>...</th>\n",
       "      <td>...</td>\n",
       "      <td>...</td>\n",
       "      <td>...</td>\n",
       "      <td>...</td>\n",
       "      <td>...</td>\n",
       "      <td>...</td>\n",
       "      <td>...</td>\n",
       "      <td>...</td>\n",
       "    </tr>\n",
       "    <tr>\n",
       "      <th>53935</th>\n",
       "      <td>0.72</td>\n",
       "      <td>60.8</td>\n",
       "      <td>57.0</td>\n",
       "      <td>2757</td>\n",
       "      <td>5.75</td>\n",
       "      <td>5.76</td>\n",
       "      <td>3.50</td>\n",
       "      <td>-0.328504</td>\n",
       "    </tr>\n",
       "    <tr>\n",
       "      <th>53936</th>\n",
       "      <td>0.72</td>\n",
       "      <td>63.1</td>\n",
       "      <td>55.0</td>\n",
       "      <td>2757</td>\n",
       "      <td>5.69</td>\n",
       "      <td>5.75</td>\n",
       "      <td>3.61</td>\n",
       "      <td>-0.328504</td>\n",
       "    </tr>\n",
       "    <tr>\n",
       "      <th>53937</th>\n",
       "      <td>0.70</td>\n",
       "      <td>62.8</td>\n",
       "      <td>60.0</td>\n",
       "      <td>2757</td>\n",
       "      <td>5.66</td>\n",
       "      <td>5.68</td>\n",
       "      <td>3.56</td>\n",
       "      <td>-0.356675</td>\n",
       "    </tr>\n",
       "    <tr>\n",
       "      <th>53938</th>\n",
       "      <td>0.86</td>\n",
       "      <td>61.0</td>\n",
       "      <td>58.0</td>\n",
       "      <td>2757</td>\n",
       "      <td>6.15</td>\n",
       "      <td>6.12</td>\n",
       "      <td>3.74</td>\n",
       "      <td>-0.150823</td>\n",
       "    </tr>\n",
       "    <tr>\n",
       "      <th>53939</th>\n",
       "      <td>0.75</td>\n",
       "      <td>62.2</td>\n",
       "      <td>55.0</td>\n",
       "      <td>2757</td>\n",
       "      <td>5.83</td>\n",
       "      <td>5.87</td>\n",
       "      <td>3.64</td>\n",
       "      <td>-0.287682</td>\n",
       "    </tr>\n",
       "  </tbody>\n",
       "</table>\n",
       "<p>53938 rows × 8 columns</p>\n",
       "</div>"
      ],
      "text/plain": [
       "       carat  depth  table  price     x     y     z  carat_log\n",
       "0       0.23   61.5   55.0    326  3.95  3.98  2.43  -1.469676\n",
       "1       0.21   59.8   61.0    326  3.89  3.84  2.31  -1.560648\n",
       "2       0.23   56.9   65.0    327  4.05  4.07  2.31  -1.469676\n",
       "3       0.29   62.4   58.0    334  4.20  4.23  2.63  -1.237874\n",
       "4       0.31   63.3   58.0    335  4.34  4.35  2.75  -1.171183\n",
       "...      ...    ...    ...    ...   ...   ...   ...        ...\n",
       "53935   0.72   60.8   57.0   2757  5.75  5.76  3.50  -0.328504\n",
       "53936   0.72   63.1   55.0   2757  5.69  5.75  3.61  -0.328504\n",
       "53937   0.70   62.8   60.0   2757  5.66  5.68  3.56  -0.356675\n",
       "53938   0.86   61.0   58.0   2757  6.15  6.12  3.74  -0.150823\n",
       "53939   0.75   62.2   55.0   2757  5.83  5.87  3.64  -0.287682\n",
       "\n",
       "[53938 rows x 8 columns]"
      ]
     },
     "execution_count": 79,
     "metadata": {},
     "output_type": "execute_result"
    }
   ],
   "source": [
    "# Create a boolean mask for non-outliers\n",
    "cleaned_df = df[not_outliers]\n",
    "\n",
    "# Display the cleaned DataFrame\n",
    "cleaned_df"
   ]
  },
  {
   "cell_type": "markdown",
   "metadata": {},
   "source": [
    "- **``Filtering``**: The expression ``df[not_outliers]`` selects ``only the rows where the not_outliers mask`` is ``True``, effectively ``filtering out the outliers``.\n",
    "- **``New DataFrame``**: The result is stored in ``\"cleaned_df\"``, which contains ``only the entries that are NOT considered outliers``.\n",
    "\n",
    "  - **``A boolean mask``** is a way to filter data in a DataFrame or array using a boolean condition. In Python, particularly with libraries like pandas and NumPy, a boolean mask is a Series or array of boolean values (True or False) that indicates which elements should be selected or filtered based on a specified condition.\n",
    "  \n",
    "<p style=\"background-color:#FFFFFF; font-family:newtimeroman; color:#0000FF; font-size:110%; text-align:left;\"><strong>-----------------------------------------------------------------------------------------------------------------------------------------------------------------------------------------------</strong></p>\n",
    "\n",
    "\n"
   ]
  },
  {
   "cell_type": "markdown",
   "metadata": {
    "id": "yy3DrzGX2sux"
   },
   "source": [
    "<a id=\"5\"></a>\n",
    "<a href=\"#toc\" class=\"btn btn-primary btn-sm\" role=\"button\" aria-pressed=\"true\" \n",
    "style=\"color:blue; background-color:#dfa8e4\" data-toggle=\"popover\">Content</a>\n",
    "\n",
    "## <p style=\"background-color:#FDFEFE; font-family:newtimeroman; color:#E51A59; font-size:150%; text-align:center; border-radius:10px 10px;\">End of the Session - 08</p>\n",
    "\n",
    "<p style=\"text-align: center;\"><img src=\"https://i.ibb.co/TtRtYNn/healthy-lunch.jpg\" width=\"800\" height=\"200\" class=\"img-fluid\" alt=\"Lunch Time\"></p>\n",
    "\n",
    "\n",
    "<p style=\"text-align: center;\"><img src=\"https://i.ibb.co/99DQ3TY/DS-Courses.png\" class=\"img-fluid\" \n",
    "alt=\"CLRSWY\"></p>\n",
    "\n",
    "\n",
    "<br><br><br>\n",
    "\n",
    "<p style=\"text-align: center;\"><img src=\"https://i.ibb.co/Rpz9L36/clarusway-logo-black.png\" width=\"450\" height=\"200\" class=\"img-fluid\" alt=\"CLRSWY_LOGO\"></p>\n",
    "\n",
    "<p style=\"background-color:#E51A59; font-family:newtimeroman; color:#FDFEFE; font-size:130%; text-align:center; border-radius:10px 10px;\">WAY TO REINVENT YOURSELF</p>"
   ]
  },
  {
   "cell_type": "markdown",
   "metadata": {
    "deletable": false,
    "editable": false
   },
   "source": [
    "<a href=\"https://clarusway.com/contact-us/\"><img align=\"center\" src=\"https://i.ibb.co/B43qn24/officially-licensed-logo.png\" alt=\"Open in Clarusway LMS\" width=\"110\" height=\"200\" title=\"This notebook is licensed by Clarusway IT training school. Please contact the authorized persons about the conditions under which you can use or share.\"></a>"
   ]
  }
 ],
 "metadata": {
  "colab": {
   "name": "DAwPy_S8_(Handling_with_Outliers).ipynb",
   "provenance": []
  },
  "kernelspec": {
   "display_name": "Python 3 (ipykernel)",
   "language": "python",
   "name": "python3"
  },
  "language_info": {
   "codemirror_mode": {
    "name": "ipython",
    "version": 3
   },
   "file_extension": ".py",
   "mimetype": "text/x-python",
   "name": "python",
   "nbconvert_exporter": "python",
   "pygments_lexer": "ipython3",
   "version": "3.11.5"
  },
  "toc": {
   "base_numbering": 1,
   "nav_menu": {},
   "number_sections": false,
   "sideBar": true,
   "skip_h1_title": false,
   "title_cell": "Table of Contents",
   "title_sidebar": "Contents",
   "toc_cell": false,
   "toc_position": {
    "height": "calc(100% - 180px)",
    "left": "10px",
    "top": "150px",
    "width": "299.6px"
   },
   "toc_section_display": true,
   "toc_window_display": true
  },
  "varInspector": {
   "cols": {
    "lenName": 16,
    "lenType": 16,
    "lenVar": 40
   },
   "kernels_config": {
    "python": {
     "delete_cmd_postfix": "",
     "delete_cmd_prefix": "del ",
     "library": "var_list.py",
     "varRefreshCmd": "print(var_dic_list())"
    },
    "r": {
     "delete_cmd_postfix": ") ",
     "delete_cmd_prefix": "rm(",
     "library": "var_list.r",
     "varRefreshCmd": "cat(var_dic_list()) "
    }
   },
   "types_to_exclude": [
    "module",
    "function",
    "builtin_function_or_method",
    "instance",
    "_Feature"
   ],
   "window_display": false
  }
 },
 "nbformat": 4,
 "nbformat_minor": 1
}
