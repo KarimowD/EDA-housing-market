{
 "cells": [
  {
   "cell_type": "markdown",
   "metadata": {
    "deletable": false,
    "editable": false
   },
   "source": [
    "<a href=\"https://clarusway.com/contact-us/\"><img align=\"center\" src=\"https://i.ibb.co/B43qn24/officially-licensed-logo.png\" alt=\"Open in Clarusway LMS\" width=\"110\" height=\"200\" title=\"This notebook is licensed by Clarusway IT training school. Please contact the authorized persons about the conditions under which you can use or share.\"></a>"
   ]
  },
  {
   "cell_type": "markdown",
   "metadata": {},
   "source": [
    "<hr>\n",
    "\n",
    "<a href=\"https://lms.clarusway.com/mod/lesson/view.php?id=2463&pageid=4531&startlastseen=no\"><img align=\"center\" src=\"https://i.ibb.co/6Z5pQxD/lmss.png\" alt=\"Open in Clarusway LMS\" width=\"70\" height=\"200\" title=\"Open Clarusway Learning Management Sytem\"></a>\n",
    "\n",
    "<a href=\"https://github.com/clarusway/DS-DE-0322-Students/blob/main/3-%20Classes%26Labs/2-DAwPY/DAwPy_S01_(Numpy_Arrays).ipynb\"><img align=\"left\" src=\"https://i.ibb.co/n3HWyQX/github-logo.png\" alt=\"Open in Clarusway GitHub\" width=\"90\" height=\"150\" title=\"Open and Execute in Clarusway GitHub Repository\"></a>\n",
    "\n",
    "<a href=\"https://nbviewer.org/github/4dsolutions/clarusway_data_analysis/blob/main/DAwPy_S1_%28Numpy_Arrays%29/DAwPy_S1_%28Numpy_Arrays%29.ipynb\"><img align=\"right\" src=\"https://i.ibb.co/48wtV8c/nbviewer-badge.png\" alt=\"Open in nbviewer\" width=\"100\" height=\"100\" title=\"Open and Execute in nbviewer\"></a><br/>\n",
    "\n",
    "<hr>\n",
    "\n",
    "<p style=\"text-align: center;\"><img src=\"https://i.ibb.co/Rpz9L36/clarusway-logo-black.png\" width=\"500\" height=\"200\" class=\"img-fluid\" alt=\"CLRSWY_LOGO\"></p>\n",
    "\n",
    "<p style=\"text-align: center;\"><img src=\"https://i.ibb.co/XS0bxSH/best-bootcamps.png\" width=\"300\" height=\"200\" class=\"img-fluid\" alt=\"CLRSWY_LOGO\"></p>\n",
    "\n",
    "<p style=\"background-color:#E51A59; font-family:newtimeroman; color:#FDFEFE; font-size:130%; text-align:center; border-radius:10px 10px;\">WAY TO REINVENT YOURSELF</p>\n",
    "\n",
    "<p style=\"text-align: center;\"><img src=\"https://i.ibb.co/99DQ3TY/DS-Courses.png\" class=\"img-fluid\" \n",
    "alt=\"CLRSWY_Courses\"></p>"
   ]
  },
  {
   "cell_type": "markdown",
   "metadata": {},
   "source": [
    "<img src=https://i.ibb.co/6gCsHd6/1200px-Pandas-logo-svg.png width=\"600\" height=\"200\">\n",
    "\n",
    "## <p style=\"background-color:#FDFEFE; font-family:newtimeroman; color:#060108; font-size:200%; text-align:center; border-radius:10px 10px;\">Data Analysis with Python</p>\n",
    "\n",
    "## <p style=\"background-color:#FDFEFE; font-family:newtimeroman; color:#060108; font-size:150%; text-align:center; border-radius:10px 10px;\">Session - 05-06</p>\n",
    "\n",
    "## <p style=\"background-color:#FDFEFE; font-family:newtimeroman; color:#E51A59; font-size:200%; text-align:center; border-radius:10px 10px;\">Groupby & Useful Operations</p>"
   ]
  },
  {
   "cell_type": "markdown",
   "metadata": {},
   "source": [
    "<a id=\"toc\"></a>\n",
    "\n",
    "## <p style=\"background-color:#E51A59; font-family:newtimeroman; color:#FFF9ED; font-size:175%; text-align:center; border-radius:10px 10px;\">Content</p>\n",
    "\n",
    "* [IMPORTING LIBRARIES NEEDED IN THIS NOTEBOOK](#0)\n",
    "* [BASIC AGGREGATION METHODS](#1)\n",
    "* [GROUPBY & AGGREGATION](#2)\n",
    "    * [DataFrame.groupby()](#2.1)\n",
    "* [DATAFRAME/SERIES OPERATIONS](#3)\n",
    "    * [.aggregate()/agg()](#3.1)\n",
    "        * [DataFrame.agg()](#3.1.1)\n",
    "        * [DataFrame.groupby().agg()](#3.1.2)\n",
    "    * [.filter()](#3.2)\n",
    "        * [DataFrame.groupby().filter()](#3.2.1)\n",
    "    * [.transform()](#3.3)\n",
    "        * [DataFrame.groupby().transform()](#3.3.1)\n",
    "    * [.apply()](#3.4)\n",
    "        * [Series.apply() - df[\"col\"].apply()](#3.4.1)\n",
    "        * [DataFrame.apply()](#3.4.2)\n",
    "    * [.applymap()](#3.5)\n",
    "    * [.map()](#3.6)\n",
    "        * [Series.map() - df[\"col\"].map()](#3.6.1)\n",
    "        * [DataFrame.map()](#3.6.2)\n",
    "    * [df.transform() vs df.apply()](#3.7)\n",
    "* [pivot() vs pivot_table()](#8)\n",
    "* [.stack() & .unstack()](#9)\n",
    "    * [.stack()](#9.1)\n",
    "    * [.unstack()](#9.2)\n",
    "* [THE END OF THE SESSION - 05 & 06](#10)"
   ]
  },
  {
   "cell_type": "markdown",
   "metadata": {},
   "source": [
    "## <p style=\"background-color:#E51A59; font-family:newtimeroman; color:#FFF9ED; font-size:175%; text-align:center; border-radius:10px 10px;\">Importing Libraries Needed in This Notebook</p>\n",
    "\n",
    "<a id=\"0\"></a>\n",
    "<a href=\"#toc\" class=\"btn btn-primary btn-sm\" role=\"button\" aria-pressed=\"true\" \n",
    "style=\"color:blue; background-color:#dfa8e4\" data-toggle=\"popover\">Content</a>\n",
    "\n",
    "Once you've installed NumPy you can import it as a library:"
   ]
  },
  {
   "cell_type": "code",
   "execution_count": 138,
   "metadata": {
    "id": "9fK0LEmHQhle"
   },
   "outputs": [],
   "source": [
    "import numpy as np\n",
    "import pandas as pd\n",
    "import seaborn as sns\n",
    "\n",
    "import warnings\n",
    "warnings.filterwarnings(\"ignore\")  # to suppress all warnings"
   ]
  },
  {
   "cell_type": "markdown",
   "metadata": {},
   "source": [
    "- **``Importing Libraries``**: Make sure to import the required libraries before beginning your. You need both pandas and numpy.\n",
    "\n",
    "<p style=\"background-color:#FFFFFF; font-family:newtimeroman; color:#0000FF; font-size:110%; text-align:left;\"><strong>-----------------------------------------------------------------------------------------------------------------------------------------------------------------------------------------------</strong></p>\n",
    "\n",
    "- ``import warnings``: This imports the warnings module, which is part of Python's standard library and provides a way to issue warning messages.\n",
    "- ``warnings.filterwarnings(\"ignore\")``: This function call tells Python to ignore all warning messages that would normally be printed. This can be useful when we want to focus on the output of your program without being distracted by warnings.\n",
    "\n",
    "<p style=\"background-color:#FFFFFF; font-family:newtimeroman; color:#FF0000; font-size:125%; text-align:left;\"><strong>📢 Caution ❗❗❗</strong></p>\n",
    "\n",
    "\n",
    "- Ignoring warnings can sometimes hide important issues in our code, so use this approach judiciously. It's generally better to address the underlying causes of warnings rather than suppressing them."
   ]
  },
  {
   "cell_type": "markdown",
   "metadata": {
    "id": "m-P4HnRXQhle"
   },
   "source": [
    "## <p style=\"background-color:#E51A59; font-family:newtimeroman; color:#FFF9ED; font-size:175%; text-align:center; border-radius:10px 10px;\">Basic Aggregation Methods</p>\n",
    "\n",
    "<a id=\"1\"></a>\n",
    "<a href=\"#toc\" class=\"btn btn-primary btn-sm\" role=\"button\" aria-pressed=\"true\" \n",
    "style=\"color:blue; background-color:#dfa8e4\" data-toggle=\"popover\">Content</a>\n",
    "\n",
    "One of the most basic analysis functions is **``grouping``** and **``aggregating data``**. In some cases, this level of analysis may be sufficient to answer real-world/business questions. In other instances, this activity might be the first step in a more complex data science analysis. In pandas, the **``groupby()``** function can be combined with one or more aggregation functions to quickly and easily summarize data. This concept is deceptively simple and most new pandas users will smootly understand this concept. However, they might be surprised at how useful complex aggregation functions can be for supporting sophisticated analysis [Source](https://pbpython.com/groupby-agg.html).\n",
    "\n",
    "An essential piece of analysis of large data is efficient summarization: computing aggregations, such as **``sum()``**, **``mean()``**, **``median()``**, **``min()``**, and **``max()``**, in which a single number gives insight into the nature of a potentially large dataset. The **``aggregate()``** method allows you to apply a function or a list of function names to be executed along one of the axis of the DataFrame, default 0, which is the index (row) axis [Source](https://jakevdp.github.io/PythonDataScienceHandbook/03.08-aggregation-and-grouping.html).\n",
    "\n",
    "Often when faced with a large amount of data, a first step is to compute summary statistics for the data in question. Perhaps the most common summary statistics are the mean and standard deviation, which allow you to summarize the \"typical\" values in a dataset, but other aggregates are useful as well (the sum, product, median, minimum and maximum, quantiles, etc.).\n",
    "\n",
    "NumPy has fast built-in aggregation functions for working on arrays which are also used for Pandas Dataframes [Pandas Official Documentation](https://pandas.pydata.org/docs/reference/frame.html); we'll discuss and demonstrate some of them here:\n",
    "\n",
    "* **``count()``** ==> Counts non-NA cells for each column or row.\n",
    "* **``mean()``** ==> Returns the mean of the values over the requested axis.\n",
    "* **``median()``** ==> Returns the median of the values over the requested axis.\n",
    "* **``min()``** ==> Returns the minimum of the values over the requested axis.\n",
    "* **``max()``** ==> Returns the maximum of the values over the requested axis.\n",
    "* **``std()``** ==> Returns sample standard deviation over requested axis.\n",
    "* **``var()``** ==> Returns unbiased variance over requested axis.\n",
    "* **``sum()``** ==> Returns the sum of the values over the requested axis.\n",
    "* **``idxmin()``** ==> Returns index of first occurrence of minimum over requested axis.\n",
    "* **``idxmax()``** ==> Returns index of first occurrence of maximum over requested axis.\n",
    "* **``corr()``** ==> Computes pairwise correlation of columns, excluding NA/null values.\n",
    "\n",
    "To sum up, in this session, we'll explore aggregations in Pandas, from simple operations akin to what we've seen on NumPy arrays, to more sophisticated operations based on the concept of a groupby.\n",
    "\n",
    "<p style=\"background-color:#FFFFFF; font-family:newtimeroman; color:#0000FF; font-size:110%; text-align:left;\"><strong>-----------------------------------------------------------------------------------------------------------------------------------------------------------------------------------------------</strong></p>\n",
    "\n",
    "**The following code generates a DataFrame using NumPy and pandas, with ``random integers`` and ``specific column names``.**"
   ]
  },
  {
   "cell_type": "code",
   "execution_count": 139,
   "metadata": {},
   "outputs": [
    {
     "data": {
      "text/html": [
       "<div>\n",
       "<style scoped>\n",
       "    .dataframe tbody tr th:only-of-type {\n",
       "        vertical-align: middle;\n",
       "    }\n",
       "\n",
       "    .dataframe tbody tr th {\n",
       "        vertical-align: top;\n",
       "    }\n",
       "\n",
       "    .dataframe thead th {\n",
       "        text-align: right;\n",
       "    }\n",
       "</style>\n",
       "<table border=\"1\" class=\"dataframe\">\n",
       "  <thead>\n",
       "    <tr style=\"text-align: right;\">\n",
       "      <th></th>\n",
       "      <th>x1</th>\n",
       "      <th>x2</th>\n",
       "      <th>x3</th>\n",
       "      <th>x4</th>\n",
       "      <th>x5</th>\n",
       "    </tr>\n",
       "  </thead>\n",
       "  <tbody>\n",
       "    <tr>\n",
       "      <th>0</th>\n",
       "      <td>51</td>\n",
       "      <td>92</td>\n",
       "      <td>14</td>\n",
       "      <td>71</td>\n",
       "      <td>60</td>\n",
       "    </tr>\n",
       "    <tr>\n",
       "      <th>1</th>\n",
       "      <td>20</td>\n",
       "      <td>82</td>\n",
       "      <td>86</td>\n",
       "      <td>74</td>\n",
       "      <td>74</td>\n",
       "    </tr>\n",
       "    <tr>\n",
       "      <th>2</th>\n",
       "      <td>87</td>\n",
       "      <td>99</td>\n",
       "      <td>23</td>\n",
       "      <td>2</td>\n",
       "      <td>21</td>\n",
       "    </tr>\n",
       "    <tr>\n",
       "      <th>3</th>\n",
       "      <td>52</td>\n",
       "      <td>1</td>\n",
       "      <td>87</td>\n",
       "      <td>29</td>\n",
       "      <td>37</td>\n",
       "    </tr>\n",
       "    <tr>\n",
       "      <th>4</th>\n",
       "      <td>1</td>\n",
       "      <td>63</td>\n",
       "      <td>59</td>\n",
       "      <td>20</td>\n",
       "      <td>32</td>\n",
       "    </tr>\n",
       "    <tr>\n",
       "      <th>5</th>\n",
       "      <td>75</td>\n",
       "      <td>57</td>\n",
       "      <td>21</td>\n",
       "      <td>88</td>\n",
       "      <td>48</td>\n",
       "    </tr>\n",
       "    <tr>\n",
       "      <th>6</th>\n",
       "      <td>90</td>\n",
       "      <td>58</td>\n",
       "      <td>41</td>\n",
       "      <td>91</td>\n",
       "      <td>59</td>\n",
       "    </tr>\n",
       "  </tbody>\n",
       "</table>\n",
       "</div>"
      ],
      "text/plain": [
       "   x1  x2  x3  x4  x5\n",
       "0  51  92  14  71  60\n",
       "1  20  82  86  74  74\n",
       "2  87  99  23   2  21\n",
       "3  52   1  87  29  37\n",
       "4   1  63  59  20  32\n",
       "5  75  57  21  88  48\n",
       "6  90  58  41  91  59"
      ]
     },
     "execution_count": 139,
     "metadata": {},
     "output_type": "execute_result"
    }
   ],
   "source": [
    "# Set random seed for reproducibility\n",
    "np.random.seed(42)\n",
    "\n",
    "# Create a DataFrame with random integers\n",
    "df = pd.DataFrame(np.random.randint(0, 100, size=(7, 5)), \n",
    "                  columns=[\"x1\", \"x2\", \"x3\", \"x4\", \"x5\"])\n",
    "\n",
    "# Display the DataFrame\n",
    "df"
   ]
  },
  {
   "cell_type": "markdown",
   "metadata": {},
   "source": [
    "**[The np.random.seed()](https://numpy.org/doc/stable/reference/random/generated/numpy.random.seed.html)** function is part of the NumPy library in Python. It is used to set the random seed for the NumPy random number generator.\n",
    "\n",
    "The random number generator in NumPy is a pseudorandom number generator, which means that it generates a sequence of numbers that appear to be random but are actually determined by a deterministic algorithm. By setting the random seed, you can ensure that the sequence of random numbers generated by NumPy is reproducible. In other words, if you set the same seed, you will get the same sequence of random numbers every time you run your program.\n",
    "\n",
    "- **``np.random.seed()``** sets the random seed to 42 for reproducibility. It ensures that the random numbers generated will be the same each time the code is run.\n",
    "- **``np.random.randint(0, 100, size=(7, 5))``** generates a 7x5 array of random integers between 0 (inclusive) and 100 (exclusive). The shape of the array is defined by size=(7, 5), meaning it will have 7 rows and 5 columns.\n",
    "- **``pd.DataFrame(...)``** converts this 2D array into a pandas DataFrame with columns named \"x1\", \"x2\", \"x3\", \"x4\", and \"x5\".\n",
    "\n",
    "\n",
    "<p style=\"background-color:#FFFFFF; font-family:newtimeroman; color:#0000FF; font-size:110%; text-align:left;\"><strong>-----------------------------------------------------------------------------------------------------------------------------------------------------------------------------------------------</strong></p>\n",
    "\n",
    "**The following code counts the number of non-null entries in each column of the DataFrame.**\n",
    "- This method helps us understand how many valid (non-null) entries are present, which is useful for data cleaning and analysis."
   ]
  },
  {
   "cell_type": "code",
   "execution_count": 140,
   "metadata": {
    "id": "4uq6zeK097R3",
    "outputId": "977a3c2c-62d0-4860-a4fa-68d121151a10"
   },
   "outputs": [
    {
     "data": {
      "text/plain": [
       "x1    7\n",
       "x2    7\n",
       "x3    7\n",
       "x4    7\n",
       "x5    7\n",
       "dtype: int64"
      ]
     },
     "execution_count": 140,
     "metadata": {},
     "output_type": "execute_result"
    }
   ],
   "source": [
    "# Count non-null entries in each column\n",
    "\n",
    "df.count()"
   ]
  },
  {
   "cell_type": "markdown",
   "metadata": {},
   "source": [
    "- Each value represents the count of non-null entries in the corresponding column of the DataFrame.\n",
    "  - In this case, since all entries are random integers and there are NO null values, each column shows a count of 7 (the total number of rows).\n",
    "\n",
    "<p style=\"background-color:#FFFFFF; font-family:newtimeroman; color:#0000FF; font-size:110%; text-align:left;\"><strong>-----------------------------------------------------------------------------------------------------------------------------------------------------------------------------------------------</strong></p>\n",
    "\n",
    "**The following code counts the number of non-null entries specifically in the x1 column of the DataFrame.**\n",
    "- This method is particularly useful when we want to check the validity of data in a specific column."
   ]
  },
  {
   "cell_type": "code",
   "execution_count": 146,
   "metadata": {},
   "outputs": [
    {
     "data": {
      "text/plain": [
       "0    51\n",
       "1    20\n",
       "2    87\n",
       "3    52\n",
       "4     1\n",
       "5    75\n",
       "6    90\n",
       "Name: x1, dtype: int32"
      ]
     },
     "execution_count": 146,
     "metadata": {},
     "output_type": "execute_result"
    }
   ],
   "source": [
    "df['x1']"
   ]
  },
  {
   "cell_type": "code",
   "execution_count": 145,
   "metadata": {},
   "outputs": [
    {
     "data": {
      "text/plain": [
       "7"
      ]
     },
     "execution_count": 145,
     "metadata": {},
     "output_type": "execute_result"
    }
   ],
   "source": [
    "# Count non-null entries in the 'x1' column\n",
    "\n",
    "df['x1'].count()"
   ]
  },
  {
   "cell_type": "markdown",
   "metadata": {},
   "source": [
    "- The output represents the number of non-null entries in the x1 column.\n",
    "   - In this case, since all entries in the DataFrame are random integers and there are NO null values, the count will reflect the total number of rows in the DataFrame (7).\n",
    "\n",
    "<p style=\"background-color:#FFFFFF; font-family:newtimeroman; color:#0000FF; font-size:110%; text-align:left;\"><strong>-----------------------------------------------------------------------------------------------------------------------------------------------------------------------------------------------</strong></p>\n",
    "\n",
    "**The following code calculates the mean (average) of each numeric column in the DataFrame.**\n",
    "- This method is useful for summarizing the central tendency of your data.\n",
    "\n"
   ]
  },
  {
   "cell_type": "code",
   "execution_count": 147,
   "metadata": {},
   "outputs": [
    {
     "data": {
      "text/html": [
       "<div>\n",
       "<style scoped>\n",
       "    .dataframe tbody tr th:only-of-type {\n",
       "        vertical-align: middle;\n",
       "    }\n",
       "\n",
       "    .dataframe tbody tr th {\n",
       "        vertical-align: top;\n",
       "    }\n",
       "\n",
       "    .dataframe thead th {\n",
       "        text-align: right;\n",
       "    }\n",
       "</style>\n",
       "<table border=\"1\" class=\"dataframe\">\n",
       "  <thead>\n",
       "    <tr style=\"text-align: right;\">\n",
       "      <th></th>\n",
       "      <th>x1</th>\n",
       "      <th>x2</th>\n",
       "      <th>x3</th>\n",
       "      <th>x4</th>\n",
       "      <th>x5</th>\n",
       "    </tr>\n",
       "  </thead>\n",
       "  <tbody>\n",
       "    <tr>\n",
       "      <th>0</th>\n",
       "      <td>51</td>\n",
       "      <td>92</td>\n",
       "      <td>14</td>\n",
       "      <td>71</td>\n",
       "      <td>60</td>\n",
       "    </tr>\n",
       "    <tr>\n",
       "      <th>1</th>\n",
       "      <td>20</td>\n",
       "      <td>82</td>\n",
       "      <td>86</td>\n",
       "      <td>74</td>\n",
       "      <td>74</td>\n",
       "    </tr>\n",
       "    <tr>\n",
       "      <th>2</th>\n",
       "      <td>87</td>\n",
       "      <td>99</td>\n",
       "      <td>23</td>\n",
       "      <td>2</td>\n",
       "      <td>21</td>\n",
       "    </tr>\n",
       "    <tr>\n",
       "      <th>3</th>\n",
       "      <td>52</td>\n",
       "      <td>1</td>\n",
       "      <td>87</td>\n",
       "      <td>29</td>\n",
       "      <td>37</td>\n",
       "    </tr>\n",
       "    <tr>\n",
       "      <th>4</th>\n",
       "      <td>1</td>\n",
       "      <td>63</td>\n",
       "      <td>59</td>\n",
       "      <td>20</td>\n",
       "      <td>32</td>\n",
       "    </tr>\n",
       "    <tr>\n",
       "      <th>5</th>\n",
       "      <td>75</td>\n",
       "      <td>57</td>\n",
       "      <td>21</td>\n",
       "      <td>88</td>\n",
       "      <td>48</td>\n",
       "    </tr>\n",
       "    <tr>\n",
       "      <th>6</th>\n",
       "      <td>90</td>\n",
       "      <td>58</td>\n",
       "      <td>41</td>\n",
       "      <td>91</td>\n",
       "      <td>59</td>\n",
       "    </tr>\n",
       "  </tbody>\n",
       "</table>\n",
       "</div>"
      ],
      "text/plain": [
       "   x1  x2  x3  x4  x5\n",
       "0  51  92  14  71  60\n",
       "1  20  82  86  74  74\n",
       "2  87  99  23   2  21\n",
       "3  52   1  87  29  37\n",
       "4   1  63  59  20  32\n",
       "5  75  57  21  88  48\n",
       "6  90  58  41  91  59"
      ]
     },
     "execution_count": 147,
     "metadata": {},
     "output_type": "execute_result"
    }
   ],
   "source": [
    "df"
   ]
  },
  {
   "cell_type": "code",
   "execution_count": 150,
   "metadata": {
    "id": "nmO7e7Zo97R5",
    "outputId": "b7a65357-4a44-4114-8efb-00dfa3395d3b"
   },
   "outputs": [
    {
     "data": {
      "text/plain": [
       "x1    53.714286\n",
       "x2    64.571429\n",
       "x3    47.285714\n",
       "x4    53.571429\n",
       "x5    47.285714\n",
       "dtype: float64"
      ]
     },
     "execution_count": 150,
     "metadata": {},
     "output_type": "execute_result"
    }
   ],
   "source": [
    "# Calculate the mean of each column\n",
    "\n",
    "df.mean()"
   ]
  },
  {
   "cell_type": "markdown",
   "metadata": {},
   "source": [
    "- Each value represents the mean of the corresponding column in the DataFrame.\n",
    "  - For example, if x1 has a mean value of approximately 53.714286, it indicates that the average of all entries in the x1 column is around that number.\n",
    "\n",
    "<img src=https://i.ibb.co/HGdvFt6/axis-direction.png width=\"400\" height=\"200\">\n",
    "\n",
    "<p style=\"background-color:#FFFFFF; font-family:newtimeroman; color:#0000FF; font-size:110%; text-align:left;\"><strong>-----------------------------------------------------------------------------------------------------------------------------------------------------------------------------------------------</strong></p>\n",
    "\n",
    "**The following code calculates the mean (average) of the values in the x2 column of the DataFrame.**\n",
    "- In our case, the result of approximately 64.57142857142857 indicates the average value of the entries in that column."
   ]
  },
  {
   "cell_type": "code",
   "execution_count": 151,
   "metadata": {
    "id": "P7FMBf1Z97R5",
    "outputId": "7f6b9cbb-35fe-4388-9c8a-a117e914cc7c"
   },
   "outputs": [
    {
     "data": {
      "text/plain": [
       "64.57142857142857"
      ]
     },
     "execution_count": 151,
     "metadata": {},
     "output_type": "execute_result"
    }
   ],
   "source": [
    "# Calculate the mean of the 'x2' column\n",
    "\n",
    "df.x2.mean()"
   ]
  },
  {
   "cell_type": "markdown",
   "metadata": {},
   "source": [
    "- **``Mean Value``**: The output 64.57142857142857 represents the average of all entries in the x2 column.\n",
    "- **``Interpretation``**: This means that if we were to add all the values in the x2 column and then divide by the number of entries, we would get approximately 64.57.\n",
    "\n",
    "<p style=\"background-color:#FFFFFF; font-family:newtimeroman; color:#0000FF; font-size:110%; text-align:left;\"><strong>-----------------------------------------------------------------------------------------------------------------------------------------------------------------------------------------------</strong></p>\n",
    "\n",
    "**The following code calculates the median value of each numeric column in the DataFrame.**\n",
    "- The median is the middle value when the data is sorted, and it provides a measure of central tendency that is less affected by outliers than the mean."
   ]
  },
  {
   "cell_type": "code",
   "execution_count": 152,
   "metadata": {
    "id": "mR22qUn497R6",
    "outputId": "682d713c-6239-40f5-9cb4-30d40b472d7d"
   },
   "outputs": [
    {
     "data": {
      "text/plain": [
       "x1    52.0\n",
       "x2    63.0\n",
       "x3    41.0\n",
       "x4    71.0\n",
       "x5    48.0\n",
       "dtype: float64"
      ]
     },
     "execution_count": 152,
     "metadata": {},
     "output_type": "execute_result"
    }
   ],
   "source": [
    "# Calculate the median of each column\n",
    "\n",
    "df.median()"
   ]
  },
  {
   "cell_type": "markdown",
   "metadata": {},
   "source": [
    "- Each value represents the median of the corresponding column in the DataFrame.\n",
    "  - For example, if x1 has a median value of 52.0, this indicates that half of the values in the x1 column are below 52.0 and half are above.\n",
    "\n",
    "<p style=\"background-color:#FFFFFF; font-family:newtimeroman; color:#0000FF; font-size:110%; text-align:left;\"><strong>-----------------------------------------------------------------------------------------------------------------------------------------------------------------------------------------------</strong></p>\n",
    "\n",
    "**The following code calculates the median value of the entries in the x3 column of the DataFrame.**\n",
    "- In our case, the result of 41.0 indicates that when the values in the x3 column are sorted, the middle value is 41.0."
   ]
  },
  {
   "cell_type": "code",
   "execution_count": 153,
   "metadata": {
    "id": "W6zyP6Ni97R6",
    "outputId": "94fde029-92b3-48f0-ad24-5023bd03520b"
   },
   "outputs": [
    {
     "data": {
      "text/plain": [
       "41.0"
      ]
     },
     "execution_count": 153,
     "metadata": {},
     "output_type": "execute_result"
    }
   ],
   "source": [
    "# Calculate the median of the 'x3' column\n",
    "\n",
    "df.x3.median()"
   ]
  },
  {
   "cell_type": "markdown",
   "metadata": {},
   "source": [
    "- **``Median Value``**: The output 41.0 represents the median of all entries in the x3 column.\n",
    "- **``Interpretation``**: This means that half of the values in the x3 column are below 41.0, and half are above it. The median is a robust measure of central tendency, especially useful when the data has outliers.\n",
    "\n",
    "<p style=\"background-color:#FFFFFF; font-family:newtimeroman; color:#0000FF; font-size:110%; text-align:left;\"><strong>-----------------------------------------------------------------------------------------------------------------------------------------------------------------------------------------------</strong></p>\n",
    "\n",
    "**The following code calculates the minimum value for each numeric column in the DataFrame.**\n",
    "- This method is useful for quickly identifying the smallest value in our dataset."
   ]
  },
  {
   "cell_type": "code",
   "execution_count": 154,
   "metadata": {
    "id": "atLhGCIU97R7",
    "outputId": "c0965f82-b802-4ab0-a96d-adb50e517592"
   },
   "outputs": [
    {
     "data": {
      "text/plain": [
       "x1     1\n",
       "x2     1\n",
       "x3    14\n",
       "x4     2\n",
       "x5    21\n",
       "dtype: int32"
      ]
     },
     "execution_count": 154,
     "metadata": {},
     "output_type": "execute_result"
    }
   ],
   "source": [
    "# Calculate the minimum value of each column\n",
    "\n",
    "df.min()"
   ]
  },
  {
   "cell_type": "markdown",
   "metadata": {},
   "source": [
    "- Each value represents the minimum of the corresponding column in the DataFrame.\n",
    "  - For example, x1 column has a minimum value of 1, that means 1 is the smallest value present in the x1 column.\n",
    "\n",
    "<p style=\"background-color:#FFFFFF; font-family:newtimeroman; color:#0000FF; font-size:110%; text-align:left;\"><strong>-----------------------------------------------------------------------------------------------------------------------------------------------------------------------------------------------</strong></p>\n",
    "\n",
    "**The following code calculates the minimum value of the entries in the x4 column of the DataFrame.**\n",
    "- This method is useful for finding the smallest value specifically in that column."
   ]
  },
  {
   "cell_type": "code",
   "execution_count": 155,
   "metadata": {
    "id": "8nFLLdth97R7",
    "outputId": "2433ff6f-00e7-42ae-980d-acf62264f5ff"
   },
   "outputs": [
    {
     "data": {
      "text/plain": [
       "2"
      ]
     },
     "execution_count": 155,
     "metadata": {},
     "output_type": "execute_result"
    }
   ],
   "source": [
    "# Calculate the minimum value of the 'x4' column\n",
    "\n",
    "df.x4.min()"
   ]
  },
  {
   "cell_type": "markdown",
   "metadata": {},
   "source": [
    "- **``Minimum Value``**: The output will display the smallest value found in the x4 column.\n",
    "  - For example, the output is 2, it indicates that 2 is the **``smallest entry``** in the **``x4 column``** of the DataFrame.\n",
    "\n",
    "<p style=\"background-color:#FFFFFF; font-family:newtimeroman; color:#0000FF; font-size:110%; text-align:left;\"><strong>-----------------------------------------------------------------------------------------------------------------------------------------------------------------------------------------------</strong></p>\n",
    "\n",
    "**The following code returns the index (row labels) of the first occurrence of the minimum value for each numeric column in the DataFrame.**\n",
    "- This is useful for identifying where the minimum values are located within the DataFrame."
   ]
  },
  {
   "cell_type": "code",
   "execution_count": 157,
   "metadata": {},
   "outputs": [
    {
     "data": {
      "text/html": [
       "<div>\n",
       "<style scoped>\n",
       "    .dataframe tbody tr th:only-of-type {\n",
       "        vertical-align: middle;\n",
       "    }\n",
       "\n",
       "    .dataframe tbody tr th {\n",
       "        vertical-align: top;\n",
       "    }\n",
       "\n",
       "    .dataframe thead th {\n",
       "        text-align: right;\n",
       "    }\n",
       "</style>\n",
       "<table border=\"1\" class=\"dataframe\">\n",
       "  <thead>\n",
       "    <tr style=\"text-align: right;\">\n",
       "      <th></th>\n",
       "      <th>x1</th>\n",
       "      <th>x2</th>\n",
       "      <th>x3</th>\n",
       "      <th>x4</th>\n",
       "      <th>x5</th>\n",
       "    </tr>\n",
       "  </thead>\n",
       "  <tbody>\n",
       "    <tr>\n",
       "      <th>0</th>\n",
       "      <td>51</td>\n",
       "      <td>92</td>\n",
       "      <td>14</td>\n",
       "      <td>71</td>\n",
       "      <td>60</td>\n",
       "    </tr>\n",
       "    <tr>\n",
       "      <th>1</th>\n",
       "      <td>20</td>\n",
       "      <td>82</td>\n",
       "      <td>86</td>\n",
       "      <td>74</td>\n",
       "      <td>74</td>\n",
       "    </tr>\n",
       "    <tr>\n",
       "      <th>2</th>\n",
       "      <td>87</td>\n",
       "      <td>99</td>\n",
       "      <td>23</td>\n",
       "      <td>2</td>\n",
       "      <td>21</td>\n",
       "    </tr>\n",
       "    <tr>\n",
       "      <th>3</th>\n",
       "      <td>52</td>\n",
       "      <td>1</td>\n",
       "      <td>87</td>\n",
       "      <td>29</td>\n",
       "      <td>37</td>\n",
       "    </tr>\n",
       "    <tr>\n",
       "      <th>4</th>\n",
       "      <td>1</td>\n",
       "      <td>63</td>\n",
       "      <td>59</td>\n",
       "      <td>20</td>\n",
       "      <td>32</td>\n",
       "    </tr>\n",
       "    <tr>\n",
       "      <th>5</th>\n",
       "      <td>75</td>\n",
       "      <td>57</td>\n",
       "      <td>21</td>\n",
       "      <td>88</td>\n",
       "      <td>48</td>\n",
       "    </tr>\n",
       "    <tr>\n",
       "      <th>6</th>\n",
       "      <td>90</td>\n",
       "      <td>58</td>\n",
       "      <td>41</td>\n",
       "      <td>91</td>\n",
       "      <td>59</td>\n",
       "    </tr>\n",
       "  </tbody>\n",
       "</table>\n",
       "</div>"
      ],
      "text/plain": [
       "   x1  x2  x3  x4  x5\n",
       "0  51  92  14  71  60\n",
       "1  20  82  86  74  74\n",
       "2  87  99  23   2  21\n",
       "3  52   1  87  29  37\n",
       "4   1  63  59  20  32\n",
       "5  75  57  21  88  48\n",
       "6  90  58  41  91  59"
      ]
     },
     "execution_count": 157,
     "metadata": {},
     "output_type": "execute_result"
    }
   ],
   "source": [
    "df"
   ]
  },
  {
   "cell_type": "code",
   "execution_count": 161,
   "metadata": {},
   "outputs": [
    {
     "data": {
      "text/plain": [
       "x1    4\n",
       "x2    3\n",
       "x3    0\n",
       "x4    2\n",
       "x5    2\n",
       "dtype: int64"
      ]
     },
     "execution_count": 161,
     "metadata": {},
     "output_type": "execute_result"
    }
   ],
   "source": [
    "# Find the index of the minimum value in each column\n",
    "\n",
    "df.idxmin()\n",
    "\n",
    "# df.argmin()\n",
    "# # Raises an error of \"AttributeError: 'DataFrame' object has no attribute 'argmin'\"\""
   ]
  },
  {
   "cell_type": "markdown",
   "metadata": {},
   "source": [
    "- Each value represents the index of the **``first occurrence of the minimum``** in the corresponding column.\n",
    "  - For example, the output shows x1 has a minimum index of 1, it means that the smallest value in the x1 column is located at row index 1.\n",
    "\n",
    "<p style=\"background-color:#FFFFFF; font-family:newtimeroman; color:#0000FF; font-size:110%; text-align:left;\"><strong>-----------------------------------------------------------------------------------------------------------------------------------------------------------------------------------------------</strong></p>\n",
    "\n",
    "**The following code returns the index (row label) of the first occurrence of the minimum value specifically in the x5 column of the DataFrame.**\n",
    "- This method is useful for identifying the **``location of the smallest value``** in that particular column."
   ]
  },
  {
   "cell_type": "code",
   "execution_count": 163,
   "metadata": {},
   "outputs": [
    {
     "data": {
      "text/plain": [
       "2"
      ]
     },
     "execution_count": 163,
     "metadata": {},
     "output_type": "execute_result"
    }
   ],
   "source": [
    "# Find the index of the minimum value in the 'x5' column\n",
    "\n",
    "df.x5.idxmin()\n",
    "\n",
    "# df.x5.argmin()"
   ]
  },
  {
   "cell_type": "markdown",
   "metadata": {},
   "source": [
    "### <p style=\"background-color:#FFFFFF; font-family:newtimeroman; color:#008000; font-size:100%; text-align:left;\"><strong>📌 DON'T FORGET 🥴: dxmin() function returns index of first occurrence of minimum over requested axis. While finding the index of the minimum value across any index, all NA/null values are excluded.</strong></p>\n",
    "\n",
    "- **``Index of Minimum Value``**: The output will display the index of the first occurrence of the minimum value found in the x5 column.\n",
    "  - For example, the output is 1, it indicates that the **``smallest entry in the x5 column``** is **``located at row index 1``**.\n",
    "\n",
    "<p style=\"background-color:#FFFFFF; font-family:newtimeroman; color:#0000FF; font-size:110%; text-align:left;\"><strong>-----------------------------------------------------------------------------------------------------------------------------------------------------------------------------------------------</strong></p>\n",
    "\n",
    "**The following code calculates the standard deviation for each numeric column in the DataFrame.**\n",
    "- The standard deviation is a measure of the amount of variation or dispersion in a set of values.\n",
    "\n"
   ]
  },
  {
   "cell_type": "code",
   "execution_count": 164,
   "metadata": {},
   "outputs": [
    {
     "data": {
      "text/plain": [
       "x1    33.673502\n",
       "x2    32.623392\n",
       "x3    30.663302\n",
       "x4    35.818325\n",
       "x5    18.454577\n",
       "dtype: float64"
      ]
     },
     "execution_count": 164,
     "metadata": {},
     "output_type": "execute_result"
    }
   ],
   "source": [
    "# Calculate the standard deviation of each column\n",
    "\n",
    "df.std()"
   ]
  },
  {
   "cell_type": "markdown",
   "metadata": {},
   "source": [
    "- Each value represents the standard deviation of the corresponding column in the DataFrame.\n",
    "  - For example, if x1 has a standard deviation of approximately 27.52, this indicates a moderate level of dispersion in the values of the x1 column.\n",
    "\n",
    "<p style=\"background-color:#FFFFFF; font-family:newtimeroman; color:#0000FF; font-size:110%; text-align:left;\"><strong>-----------------------------------------------------------------------------------------------------------------------------------------------------------------------------------------------</strong></p>\n",
    "\n",
    "**The following code calculates the standard deviation for the specified columns, x1 and x2, in the DataFrame.**\n",
    "- This method allows us to focus on a subset of columns rather than computing the standard deviation for the entire DataFrame."
   ]
  },
  {
   "cell_type": "code",
   "execution_count": 167,
   "metadata": {},
   "outputs": [
    {
     "data": {
      "text/plain": [
       "x1    33.673502\n",
       "x2    32.623392\n",
       "dtype: float64"
      ]
     },
     "execution_count": 167,
     "metadata": {},
     "output_type": "execute_result"
    }
   ],
   "source": [
    "# Calculate the standard deviation for the 'x1' and 'x2' columns\n",
    "\n",
    "df[[\"x1\", \"x2\"]].std()"
   ]
  },
  {
   "cell_type": "markdown",
   "metadata": {},
   "source": [
    "- Each value represents the standard deviation of the corresponding column (x1 and x2) in the DataFrame.\n",
    "  - For example, x1 has a standard deviation of approximately 33.059110, it indicates a moderate level of variability in the values of the x1 column.\n",
    "\n",
    "<p style=\"background-color:#FFFFFF; font-family:newtimeroman; color:#0000FF; font-size:110%; text-align:left;\"><strong>-----------------------------------------------------------------------------------------------------------------------------------------------------------------------------------------------</strong></p>\n",
    "\n",
    "**The following code calculates the variance for each numeric column in the DataFrame.**\n",
    "- Variance measures the spread of the data points around the mean, indicating how much the values differ from the average."
   ]
  },
  {
   "cell_type": "code",
   "execution_count": 168,
   "metadata": {
    "id": "WylVffrI97R8",
    "outputId": "e7694ac9-0e1d-4eda-c46e-6e8f256c8ece"
   },
   "outputs": [
    {
     "data": {
      "text/plain": [
       "x1    1133.904762\n",
       "x2    1064.285714\n",
       "x3     940.238095\n",
       "x4    1282.952381\n",
       "x5     340.571429\n",
       "dtype: float64"
      ]
     },
     "execution_count": 168,
     "metadata": {},
     "output_type": "execute_result"
    }
   ],
   "source": [
    "# Calculate the variance of each column\n",
    "\n",
    "df.var()"
   ]
  },
  {
   "cell_type": "markdown",
   "metadata": {},
   "source": [
    "- Each value represents the variance of the corresponding column in the DataFrame.\n",
    "  - For example, x1 has a variance of approximately 1092.904762, it indicates a certain level of spread in the values of the x1 column around its mean.\n",
    "\n",
    "<p style=\"background-color:#FFFFFF; font-family:newtimeroman; color:#0000FF; font-size:110%; text-align:left;\"><strong>-----------------------------------------------------------------------------------------------------------------------------------------------------------------------------------------------</strong></p>\n",
    "\n",
    "**The following code calculates the variance for the specified columns, x1 and x2, in the DataFrame.**\n",
    "- This allows you to focus on the variability of just those two columns instead of the entire DataFrame."
   ]
  },
  {
   "cell_type": "code",
   "execution_count": 169,
   "metadata": {
    "id": "mxlbePxK97R8",
    "outputId": "11d4d3af-1873-47e1-df98-9169baa343be"
   },
   "outputs": [
    {
     "data": {
      "text/plain": [
       "x1    1133.904762\n",
       "x2    1064.285714\n",
       "dtype: float64"
      ]
     },
     "execution_count": 169,
     "metadata": {},
     "output_type": "execute_result"
    }
   ],
   "source": [
    "# Calculate the variance for the 'x1' and 'x2' columns\n",
    "\n",
    "df[[\"x1\", \"x2\"]].var()"
   ]
  },
  {
   "cell_type": "markdown",
   "metadata": {},
   "source": [
    "- Each value represents the variance of the corresponding column (x1 and x2) in the DataFrame.\n",
    "  - For example, x1 has a variance of approximately 1092.904762, it indicates the degree to which the values in the x1 column differ from their mean.\n",
    "\n",
    "<p style=\"background-color:#FFFFFF; font-family:newtimeroman; color:#0000FF; font-size:110%; text-align:left;\"><strong>-----------------------------------------------------------------------------------------------------------------------------------------------------------------------------------------------</strong></p>\n",
    "\n",
    "**The following code calculates the sum of each column in the DataFrame.**\n",
    "- The axis=0 parameter specifies that the operation should be performed along the rows, effectively summing each column."
   ]
  },
  {
   "cell_type": "code",
   "execution_count": 170,
   "metadata": {},
   "outputs": [
    {
     "data": {
      "text/html": [
       "<div>\n",
       "<style scoped>\n",
       "    .dataframe tbody tr th:only-of-type {\n",
       "        vertical-align: middle;\n",
       "    }\n",
       "\n",
       "    .dataframe tbody tr th {\n",
       "        vertical-align: top;\n",
       "    }\n",
       "\n",
       "    .dataframe thead th {\n",
       "        text-align: right;\n",
       "    }\n",
       "</style>\n",
       "<table border=\"1\" class=\"dataframe\">\n",
       "  <thead>\n",
       "    <tr style=\"text-align: right;\">\n",
       "      <th></th>\n",
       "      <th>x1</th>\n",
       "      <th>x2</th>\n",
       "      <th>x3</th>\n",
       "      <th>x4</th>\n",
       "      <th>x5</th>\n",
       "    </tr>\n",
       "  </thead>\n",
       "  <tbody>\n",
       "    <tr>\n",
       "      <th>0</th>\n",
       "      <td>51</td>\n",
       "      <td>92</td>\n",
       "      <td>14</td>\n",
       "      <td>71</td>\n",
       "      <td>60</td>\n",
       "    </tr>\n",
       "    <tr>\n",
       "      <th>1</th>\n",
       "      <td>20</td>\n",
       "      <td>82</td>\n",
       "      <td>86</td>\n",
       "      <td>74</td>\n",
       "      <td>74</td>\n",
       "    </tr>\n",
       "    <tr>\n",
       "      <th>2</th>\n",
       "      <td>87</td>\n",
       "      <td>99</td>\n",
       "      <td>23</td>\n",
       "      <td>2</td>\n",
       "      <td>21</td>\n",
       "    </tr>\n",
       "    <tr>\n",
       "      <th>3</th>\n",
       "      <td>52</td>\n",
       "      <td>1</td>\n",
       "      <td>87</td>\n",
       "      <td>29</td>\n",
       "      <td>37</td>\n",
       "    </tr>\n",
       "    <tr>\n",
       "      <th>4</th>\n",
       "      <td>1</td>\n",
       "      <td>63</td>\n",
       "      <td>59</td>\n",
       "      <td>20</td>\n",
       "      <td>32</td>\n",
       "    </tr>\n",
       "    <tr>\n",
       "      <th>5</th>\n",
       "      <td>75</td>\n",
       "      <td>57</td>\n",
       "      <td>21</td>\n",
       "      <td>88</td>\n",
       "      <td>48</td>\n",
       "    </tr>\n",
       "    <tr>\n",
       "      <th>6</th>\n",
       "      <td>90</td>\n",
       "      <td>58</td>\n",
       "      <td>41</td>\n",
       "      <td>91</td>\n",
       "      <td>59</td>\n",
       "    </tr>\n",
       "  </tbody>\n",
       "</table>\n",
       "</div>"
      ],
      "text/plain": [
       "   x1  x2  x3  x4  x5\n",
       "0  51  92  14  71  60\n",
       "1  20  82  86  74  74\n",
       "2  87  99  23   2  21\n",
       "3  52   1  87  29  37\n",
       "4   1  63  59  20  32\n",
       "5  75  57  21  88  48\n",
       "6  90  58  41  91  59"
      ]
     },
     "execution_count": 170,
     "metadata": {},
     "output_type": "execute_result"
    }
   ],
   "source": [
    "df"
   ]
  },
  {
   "cell_type": "code",
   "execution_count": 171,
   "metadata": {
    "id": "mEpPsFnz97R8",
    "outputId": "7c259fa4-27f2-4061-ef87-ebca2a04aec1"
   },
   "outputs": [
    {
     "data": {
      "text/plain": [
       "x1    376\n",
       "x2    452\n",
       "x3    331\n",
       "x4    375\n",
       "x5    331\n",
       "dtype: int64"
      ]
     },
     "execution_count": 171,
     "metadata": {},
     "output_type": "execute_result"
    }
   ],
   "source": [
    "# Calculate the sum of each column\n",
    "\n",
    "df.sum(axis=0)"
   ]
  },
  {
   "cell_type": "markdown",
   "metadata": {},
   "source": [
    "- Each value represents the total sum of the corresponding column in the DataFrame.\n",
    "  - For example, x1 has a sum of 324, it indicates that the values in the x1 column add up to 324.\n",
    "\n",
    "<p style=\"background-color:#FFFFFF; font-family:newtimeroman; color:#0000FF; font-size:110%; text-align:left;\"><strong>-----------------------------------------------------------------------------------------------------------------------------------------------------------------------------------------------</strong></p>\n",
    "\n",
    "**The following code calculates the sum of each row in the DataFrame.**\n",
    "- The axis=1 parameter specifies that the operation should be performed across the columns for each row, effectively summing the values horizontally."
   ]
  },
  {
   "cell_type": "code",
   "execution_count": 172,
   "metadata": {},
   "outputs": [
    {
     "data": {
      "text/plain": [
       "0    288\n",
       "1    336\n",
       "2    232\n",
       "3    206\n",
       "4    175\n",
       "5    289\n",
       "6    339\n",
       "dtype: int64"
      ]
     },
     "execution_count": 172,
     "metadata": {},
     "output_type": "execute_result"
    }
   ],
   "source": [
    "# Calculate the sum of each row\n",
    "\n",
    "df.sum(axis=1)"
   ]
  },
  {
   "cell_type": "markdown",
   "metadata": {},
   "source": [
    "- Each value represents the total sum of the corresponding row in the DataFrame.\n",
    "  - For example, if first row has a sum of 200, it indicates that the values in that row add up to 200.\n",
    "\n",
    "<p style=\"background-color:#FFFFFF; font-family:newtimeroman; color:#0000FF; font-size:110%; text-align:left;\"><strong>-----------------------------------------------------------------------------------------------------------------------------------------------------------------------------------------------</strong></p>\n",
    "\n",
    "**The following code calculates the sum of all values in the x1 column of the DataFrame.**\n",
    "- This method allows us to quickly get the total for that specific column."
   ]
  },
  {
   "cell_type": "code",
   "execution_count": 176,
   "metadata": {},
   "outputs": [
    {
     "data": {
      "text/plain": [
       "x1    376\n",
       "x2    452\n",
       "dtype: int64"
      ]
     },
     "execution_count": 176,
     "metadata": {},
     "output_type": "execute_result"
    }
   ],
   "source": [
    "# Calculate the sum of the 'x1' column\n",
    "\n",
    "df[[\"x1\", \"x2\"]].sum()"
   ]
  },
  {
   "cell_type": "markdown",
   "metadata": {},
   "source": [
    "- The output will display the total sum of all entries in the x1 column.\n",
    "  - For example, the output is 324, it indicates that the values in the x1 column add up to 324.\n",
    "\n",
    "<p style=\"background-color:#FFFFFF; font-family:newtimeroman; color:#0000FF; font-size:110%; text-align:left;\"><strong>-----------------------------------------------------------------------------------------------------------------------------------------------------------------------------------------------</strong></p>\n",
    "\n",
    "**The following code provides a summary of the statistical properties of the numeric columns in a DataFrame.**\n",
    "- It generates descriptive statistics, which include measures such as count, mean, standard deviation, minimum, maximum, and percentiles."
   ]
  },
  {
   "cell_type": "code",
   "execution_count": 177,
   "metadata": {},
   "outputs": [
    {
     "data": {
      "text/html": [
       "<div>\n",
       "<style scoped>\n",
       "    .dataframe tbody tr th:only-of-type {\n",
       "        vertical-align: middle;\n",
       "    }\n",
       "\n",
       "    .dataframe tbody tr th {\n",
       "        vertical-align: top;\n",
       "    }\n",
       "\n",
       "    .dataframe thead th {\n",
       "        text-align: right;\n",
       "    }\n",
       "</style>\n",
       "<table border=\"1\" class=\"dataframe\">\n",
       "  <thead>\n",
       "    <tr style=\"text-align: right;\">\n",
       "      <th></th>\n",
       "      <th>x1</th>\n",
       "      <th>x2</th>\n",
       "      <th>x3</th>\n",
       "      <th>x4</th>\n",
       "      <th>x5</th>\n",
       "    </tr>\n",
       "  </thead>\n",
       "  <tbody>\n",
       "    <tr>\n",
       "      <th>count</th>\n",
       "      <td>7.000000</td>\n",
       "      <td>7.000000</td>\n",
       "      <td>7.000000</td>\n",
       "      <td>7.000000</td>\n",
       "      <td>7.000000</td>\n",
       "    </tr>\n",
       "    <tr>\n",
       "      <th>mean</th>\n",
       "      <td>53.714286</td>\n",
       "      <td>64.571429</td>\n",
       "      <td>47.285714</td>\n",
       "      <td>53.571429</td>\n",
       "      <td>47.285714</td>\n",
       "    </tr>\n",
       "    <tr>\n",
       "      <th>std</th>\n",
       "      <td>33.673502</td>\n",
       "      <td>32.623392</td>\n",
       "      <td>30.663302</td>\n",
       "      <td>35.818325</td>\n",
       "      <td>18.454577</td>\n",
       "    </tr>\n",
       "    <tr>\n",
       "      <th>min</th>\n",
       "      <td>1.000000</td>\n",
       "      <td>1.000000</td>\n",
       "      <td>14.000000</td>\n",
       "      <td>2.000000</td>\n",
       "      <td>21.000000</td>\n",
       "    </tr>\n",
       "    <tr>\n",
       "      <th>25%</th>\n",
       "      <td>35.500000</td>\n",
       "      <td>57.500000</td>\n",
       "      <td>22.000000</td>\n",
       "      <td>24.500000</td>\n",
       "      <td>34.500000</td>\n",
       "    </tr>\n",
       "    <tr>\n",
       "      <th>50%</th>\n",
       "      <td>52.000000</td>\n",
       "      <td>63.000000</td>\n",
       "      <td>41.000000</td>\n",
       "      <td>71.000000</td>\n",
       "      <td>48.000000</td>\n",
       "    </tr>\n",
       "    <tr>\n",
       "      <th>75%</th>\n",
       "      <td>81.000000</td>\n",
       "      <td>87.000000</td>\n",
       "      <td>72.500000</td>\n",
       "      <td>81.000000</td>\n",
       "      <td>59.500000</td>\n",
       "    </tr>\n",
       "    <tr>\n",
       "      <th>max</th>\n",
       "      <td>90.000000</td>\n",
       "      <td>99.000000</td>\n",
       "      <td>87.000000</td>\n",
       "      <td>91.000000</td>\n",
       "      <td>74.000000</td>\n",
       "    </tr>\n",
       "  </tbody>\n",
       "</table>\n",
       "</div>"
      ],
      "text/plain": [
       "              x1         x2         x3         x4         x5\n",
       "count   7.000000   7.000000   7.000000   7.000000   7.000000\n",
       "mean   53.714286  64.571429  47.285714  53.571429  47.285714\n",
       "std    33.673502  32.623392  30.663302  35.818325  18.454577\n",
       "min     1.000000   1.000000  14.000000   2.000000  21.000000\n",
       "25%    35.500000  57.500000  22.000000  24.500000  34.500000\n",
       "50%    52.000000  63.000000  41.000000  71.000000  48.000000\n",
       "75%    81.000000  87.000000  72.500000  81.000000  59.500000\n",
       "max    90.000000  99.000000  87.000000  91.000000  74.000000"
      ]
     },
     "execution_count": 177,
     "metadata": {},
     "output_type": "execute_result"
    }
   ],
   "source": [
    "# Generate descriptive statistics\n",
    "\n",
    "df.describe()"
   ]
  },
  {
   "cell_type": "markdown",
   "metadata": {},
   "source": [
    "- **``Count``**: Number of non-null entries in each column.\n",
    "- **``Mean``**: Average value for each column.\n",
    "- **``Standard Deviation (std)``**: Measure of the amount of variation or dispersion of the values.\n",
    "- **``Min``**: Minimum value in each column.\n",
    "- **``25% (1st Quartile)``**: Value below which 25% of the data fall.\n",
    "- **``50% (Median)``**: Middle value that divides the data set in half.\n",
    "- **``75% (3rd Quartile)``**: Value below which 75% of the data fall.\n",
    "- **``Max``**: Maximum value in each column.\n",
    "\n",
    "<p style=\"background-color:#FFFFFF; font-family:newtimeroman; color:#0000FF; font-size:110%; text-align:left;\"><strong>-----------------------------------------------------------------------------------------------------------------------------------------------------------------------------------------------</strong></p>\n",
    "\n",
    "**The following code generates the same descriptive statistics as df.describe(), but the .T method transposes the result.**\n",
    "- This means that the rows and columns of the summary statistics are swapped, which can make it easier to read and interpret the statistics for each variable."
   ]
  },
  {
   "cell_type": "code",
   "execution_count": 179,
   "metadata": {
    "id": "UL8uJOO6Qhlk",
    "outputId": "6c7b56eb-0d7c-4fbe-e0ab-849639addca0",
    "scrolled": true
   },
   "outputs": [
    {
     "data": {
      "text/html": [
       "<div>\n",
       "<style scoped>\n",
       "    .dataframe tbody tr th:only-of-type {\n",
       "        vertical-align: middle;\n",
       "    }\n",
       "\n",
       "    .dataframe tbody tr th {\n",
       "        vertical-align: top;\n",
       "    }\n",
       "\n",
       "    .dataframe thead th {\n",
       "        text-align: right;\n",
       "    }\n",
       "</style>\n",
       "<table border=\"1\" class=\"dataframe\">\n",
       "  <thead>\n",
       "    <tr style=\"text-align: right;\">\n",
       "      <th></th>\n",
       "      <th>count</th>\n",
       "      <th>mean</th>\n",
       "      <th>std</th>\n",
       "      <th>min</th>\n",
       "      <th>25%</th>\n",
       "      <th>50%</th>\n",
       "      <th>75%</th>\n",
       "      <th>max</th>\n",
       "    </tr>\n",
       "  </thead>\n",
       "  <tbody>\n",
       "    <tr>\n",
       "      <th>x1</th>\n",
       "      <td>7.0</td>\n",
       "      <td>53.714286</td>\n",
       "      <td>33.673502</td>\n",
       "      <td>1.0</td>\n",
       "      <td>35.5</td>\n",
       "      <td>52.0</td>\n",
       "      <td>81.0</td>\n",
       "      <td>90.0</td>\n",
       "    </tr>\n",
       "    <tr>\n",
       "      <th>x2</th>\n",
       "      <td>7.0</td>\n",
       "      <td>64.571429</td>\n",
       "      <td>32.623392</td>\n",
       "      <td>1.0</td>\n",
       "      <td>57.5</td>\n",
       "      <td>63.0</td>\n",
       "      <td>87.0</td>\n",
       "      <td>99.0</td>\n",
       "    </tr>\n",
       "    <tr>\n",
       "      <th>x3</th>\n",
       "      <td>7.0</td>\n",
       "      <td>47.285714</td>\n",
       "      <td>30.663302</td>\n",
       "      <td>14.0</td>\n",
       "      <td>22.0</td>\n",
       "      <td>41.0</td>\n",
       "      <td>72.5</td>\n",
       "      <td>87.0</td>\n",
       "    </tr>\n",
       "    <tr>\n",
       "      <th>x4</th>\n",
       "      <td>7.0</td>\n",
       "      <td>53.571429</td>\n",
       "      <td>35.818325</td>\n",
       "      <td>2.0</td>\n",
       "      <td>24.5</td>\n",
       "      <td>71.0</td>\n",
       "      <td>81.0</td>\n",
       "      <td>91.0</td>\n",
       "    </tr>\n",
       "    <tr>\n",
       "      <th>x5</th>\n",
       "      <td>7.0</td>\n",
       "      <td>47.285714</td>\n",
       "      <td>18.454577</td>\n",
       "      <td>21.0</td>\n",
       "      <td>34.5</td>\n",
       "      <td>48.0</td>\n",
       "      <td>59.5</td>\n",
       "      <td>74.0</td>\n",
       "    </tr>\n",
       "  </tbody>\n",
       "</table>\n",
       "</div>"
      ],
      "text/plain": [
       "    count       mean        std   min   25%   50%   75%   max\n",
       "x1    7.0  53.714286  33.673502   1.0  35.5  52.0  81.0  90.0\n",
       "x2    7.0  64.571429  32.623392   1.0  57.5  63.0  87.0  99.0\n",
       "x3    7.0  47.285714  30.663302  14.0  22.0  41.0  72.5  87.0\n",
       "x4    7.0  53.571429  35.818325   2.0  24.5  71.0  81.0  91.0\n",
       "x5    7.0  47.285714  18.454577  21.0  34.5  48.0  59.5  74.0"
      ]
     },
     "execution_count": 179,
     "metadata": {},
     "output_type": "execute_result"
    }
   ],
   "source": [
    "# df.describe().transpose()\n",
    "\n",
    "# Generate descriptive statistics and transpose the result\n",
    "df.describe().T"
   ]
  },
  {
   "cell_type": "markdown",
   "metadata": {},
   "source": [
    "- Each row corresponds to a column in the original DataFrame, and each column in the output corresponds to a statistical measure.\n",
    "- This format can be helpful for quickly comparing statistics across different variables, as it lays out the information in a more compact and readable way.\n",
    "\n",
    "<p style=\"background-color:#FFFFFF; font-family:newtimeroman; color:#0000FF; font-size:110%; text-align:left;\"><strong>-----------------------------------------------------------------------------------------------------------------------------------------------------------------------------------------------</strong></p>\n",
    "\n"
   ]
  },
  {
   "cell_type": "markdown",
   "metadata": {
    "collapsed": true,
    "id": "oK6Sr7bqQhle"
   },
   "source": [
    "## <p style=\"background-color:#E51A59; font-family:newtimeroman; color:#FFF9ED; font-size:175%; text-align:center; border-radius:10px 10px;\">Groupby & Aggregation</p>\n",
    "\n",
    "<a id=\"2\"></a>\n",
    "<a href=\"#toc\" class=\"btn btn-primary btn-sm\" role=\"button\" aria-pressed=\"true\" \n",
    "style=\"color:blue; background-color:#dfa8e4\" data-toggle=\"popover\">Content</a>\n",
    "\n",
    "In Exploratory Data Analysis (EDA), we often would like to analyze data by some categories. In SQL, the GROUP BY statement groups row that has the same category values into summary rows. In Pandas, SQL's GROUP BY operation is performed using the similarly named **``groupby()``** method. Pandas' groupby() allows us to split data into separate groups to perform computations for better analysis [Source](https://towardsdatascience.com/all-pandas-groupby-you-should-know-for-grouping-data-and-performing-operations-2a8ec1327b5).\n",
    "\n",
    "In this part of the session, you'll learn the \"group by\" process (split-apply-combine) and how to use Pandas's groupby() function to group data and perform operations."
   ]
  },
  {
   "cell_type": "markdown",
   "metadata": {},
   "source": [
    "### <p style=\"background-color:#E51A59; font-family:newtimeroman; color:#FFF9ED; font-size:150%; text-align:LEFT; border-radius:10px 10px;\">DataFrame.groupby()</p>\n",
    "\n",
    "<a id=\"2.1\"></a>\n",
    "<a href=\"#toc\" class=\"btn btn-primary btn-sm\" role=\"button\" aria-pressed=\"true\" \n",
    "style=\"color:blue; background-color:#dfa8e4\" data-toggle=\"popover\">Content</a>\n",
    "\n",
    "**``groupby()``** method groups DataFrame using a mapper or by a Series of columns. A groupby operation involves some combination of splitting the object, applying a function, and combining the results. This can be used to group large amounts of data and compute operations on these groups [Official Pandas Documentation](https://pandas.pydata.org/docs/reference/api/pandas.DataFrame.groupby.html).\n",
    "\n",
    "In other words, the **``groupby()``** method allows you to group rows of data together and call aggregate functions.\n",
    "\n",
    "**SYNTAX:** <b>``DataFrame.groupby(by=None, axis=0, level=None, as_index=True, sort=True, group_keys=True, squeeze=NoDefault.no_default, observed=False, dropna=True)``</b>\n",
    "\n",
    "<p style=\"background-color:#FFFFFF; font-family:newtimeroman; color:#0000FF; font-size:110%; text-align:left;\"><strong>-----------------------------------------------------------------------------------------------------------------------------------------------------------------------------------------------</strong></p>\n",
    "\n",
    "**The following code creates a dictionary with data related to employees in different companies and departments. This dictionary can be converted into a pandas DataFrame for further analysis.**"
   ]
  },
  {
   "cell_type": "code",
   "execution_count": 180,
   "metadata": {},
   "outputs": [],
   "source": [
    "data = {'Company':['GOOG', 'GOOG', 'MSFT', 'MSFT', 'GOOG', 'MSFT', 'GOOG', 'MSFT'],\n",
    "        'Department':['HR', 'IT', 'IT', 'HR', 'HR', 'IT', 'IT', 'HR'],\n",
    "        'Person':['Sam', 'Charlie', 'Amy', 'Vanessa', 'Carl', 'Sarah', 'Tom', 'Terry'],\n",
    "        'Age':[30, 28, 35, 40, 42, 25, 32, 48],\n",
    "        'Sales':[200, 120, 340, 124, 243, 350, 180, 220]}"
   ]
  },
  {
   "cell_type": "markdown",
   "metadata": {},
   "source": [
    "- **``Company``**: The company where the employee works (GOOG or MSFT).\n",
    "- **``Department``**: The department of the employee (HR or IT).\n",
    "- **``Person``**: The name of the employee.\n",
    "- **``Age``**: The age of the employee.\n",
    "- **``Sales``**: The sales figure associated with the employee.\n",
    "\n",
    "<p style=\"background-color:#FFFFFF; font-family:newtimeroman; color:#0000FF; font-size:110%; text-align:left;\"><strong>-----------------------------------------------------------------------------------------------------------------------------------------------------------------------------------------------</strong></p>\n",
    "\n"
   ]
  },
  {
   "cell_type": "code",
   "execution_count": 181,
   "metadata": {},
   "outputs": [
    {
     "data": {
      "text/html": [
       "<div>\n",
       "<style scoped>\n",
       "    .dataframe tbody tr th:only-of-type {\n",
       "        vertical-align: middle;\n",
       "    }\n",
       "\n",
       "    .dataframe tbody tr th {\n",
       "        vertical-align: top;\n",
       "    }\n",
       "\n",
       "    .dataframe thead th {\n",
       "        text-align: right;\n",
       "    }\n",
       "</style>\n",
       "<table border=\"1\" class=\"dataframe\">\n",
       "  <thead>\n",
       "    <tr style=\"text-align: right;\">\n",
       "      <th></th>\n",
       "      <th>Company</th>\n",
       "      <th>Department</th>\n",
       "      <th>Person</th>\n",
       "      <th>Age</th>\n",
       "      <th>Sales</th>\n",
       "    </tr>\n",
       "  </thead>\n",
       "  <tbody>\n",
       "    <tr>\n",
       "      <th>0</th>\n",
       "      <td>GOOG</td>\n",
       "      <td>HR</td>\n",
       "      <td>Sam</td>\n",
       "      <td>30</td>\n",
       "      <td>200</td>\n",
       "    </tr>\n",
       "    <tr>\n",
       "      <th>1</th>\n",
       "      <td>GOOG</td>\n",
       "      <td>IT</td>\n",
       "      <td>Charlie</td>\n",
       "      <td>28</td>\n",
       "      <td>120</td>\n",
       "    </tr>\n",
       "    <tr>\n",
       "      <th>2</th>\n",
       "      <td>MSFT</td>\n",
       "      <td>IT</td>\n",
       "      <td>Amy</td>\n",
       "      <td>35</td>\n",
       "      <td>340</td>\n",
       "    </tr>\n",
       "    <tr>\n",
       "      <th>3</th>\n",
       "      <td>MSFT</td>\n",
       "      <td>HR</td>\n",
       "      <td>Vanessa</td>\n",
       "      <td>40</td>\n",
       "      <td>124</td>\n",
       "    </tr>\n",
       "    <tr>\n",
       "      <th>4</th>\n",
       "      <td>GOOG</td>\n",
       "      <td>HR</td>\n",
       "      <td>Carl</td>\n",
       "      <td>42</td>\n",
       "      <td>243</td>\n",
       "    </tr>\n",
       "    <tr>\n",
       "      <th>5</th>\n",
       "      <td>MSFT</td>\n",
       "      <td>IT</td>\n",
       "      <td>Sarah</td>\n",
       "      <td>25</td>\n",
       "      <td>350</td>\n",
       "    </tr>\n",
       "    <tr>\n",
       "      <th>6</th>\n",
       "      <td>GOOG</td>\n",
       "      <td>IT</td>\n",
       "      <td>Tom</td>\n",
       "      <td>32</td>\n",
       "      <td>180</td>\n",
       "    </tr>\n",
       "    <tr>\n",
       "      <th>7</th>\n",
       "      <td>MSFT</td>\n",
       "      <td>HR</td>\n",
       "      <td>Terry</td>\n",
       "      <td>48</td>\n",
       "      <td>220</td>\n",
       "    </tr>\n",
       "  </tbody>\n",
       "</table>\n",
       "</div>"
      ],
      "text/plain": [
       "  Company Department   Person  Age  Sales\n",
       "0    GOOG         HR      Sam   30    200\n",
       "1    GOOG         IT  Charlie   28    120\n",
       "2    MSFT         IT      Amy   35    340\n",
       "3    MSFT         HR  Vanessa   40    124\n",
       "4    GOOG         HR     Carl   42    243\n",
       "5    MSFT         IT    Sarah   25    350\n",
       "6    GOOG         IT      Tom   32    180\n",
       "7    MSFT         HR    Terry   48    220"
      ]
     },
     "execution_count": 181,
     "metadata": {},
     "output_type": "execute_result"
    }
   ],
   "source": [
    "# Create a DataFrame from the dictionary\n",
    "df1 = pd.DataFrame(data)\n",
    "\n",
    "# Display the DataFrame\n",
    "df1"
   ]
  },
  {
   "cell_type": "markdown",
   "metadata": {},
   "source": [
    "\n",
    "\n",
    "<p style=\"background-color:#FFFFFF; font-family:newtimeroman; color:#0000FF; font-size:110%; text-align:left;\"><strong>-----------------------------------------------------------------------------------------------------------------------------------------------------------------------------------------------</strong></p>\n",
    "\n",
    "**The following expression creates a DataFrameGroupBy object.**\n",
    "- This allows us to perform various aggregation functions or analysis on the grouped data, such as calculating sums, means, counts, etc."
   ]
  },
  {
   "cell_type": "code",
   "execution_count": 182,
   "metadata": {},
   "outputs": [
    {
     "data": {
      "text/plain": [
       "<pandas.core.groupby.generic.DataFrameGroupBy object at 0x000001C2E50B5450>"
      ]
     },
     "execution_count": 182,
     "metadata": {},
     "output_type": "execute_result"
    }
   ],
   "source": [
    "# Group by 'Company' \n",
    "\n",
    "df1.groupby('Company')"
   ]
  },
  {
   "cell_type": "markdown",
   "metadata": {},
   "source": [
    "The output <pandas.core.groupby.generic.DataFrameGroupBy object at 0x000001FF30E25CC8> indicates that we have created a DataFrameGroupBy object using df1.groupby('Company'). This object is essentially a representation of the grouped data, but it does NOT display the grouped data itself until we perform some operations on it.\n",
    "\n",
    "- **``How to Use the GroupBy Object?``**\n",
    "  - To extract meaningful statistics from the grouped data, we typically follow the groupby() call with an aggregation function. Here are some common operations you can perform:\n",
    "    - **``Aggregation``**: Calculate summary statistics like sum, mean, count, etc.\n",
    "    - **``Iteration``**: Loop through the groups.\n",
    "    - **``Transformation``**: Apply a function to each group and return a DataFrame with the same shape.\n",
    "\n",
    "<p style=\"background-color:#FFFFFF; font-family:newtimeroman; color:#0000FF; font-size:110%; text-align:left;\"><strong>-----------------------------------------------------------------------------------------------------------------------------------------------------------------------------------------------</strong></p>\n",
    "\n",
    "**The following expression calculates the mean (average) of numeric columns (like Age and Sales) for each group defined by the Company column in the DataFrame.**"
   ]
  },
  {
   "cell_type": "code",
   "execution_count": 183,
   "metadata": {},
   "outputs": [
    {
     "data": {
      "text/html": [
       "<div>\n",
       "<style scoped>\n",
       "    .dataframe tbody tr th:only-of-type {\n",
       "        vertical-align: middle;\n",
       "    }\n",
       "\n",
       "    .dataframe tbody tr th {\n",
       "        vertical-align: top;\n",
       "    }\n",
       "\n",
       "    .dataframe thead th {\n",
       "        text-align: right;\n",
       "    }\n",
       "</style>\n",
       "<table border=\"1\" class=\"dataframe\">\n",
       "  <thead>\n",
       "    <tr style=\"text-align: right;\">\n",
       "      <th></th>\n",
       "      <th>Age</th>\n",
       "      <th>Sales</th>\n",
       "    </tr>\n",
       "    <tr>\n",
       "      <th>Company</th>\n",
       "      <th></th>\n",
       "      <th></th>\n",
       "    </tr>\n",
       "  </thead>\n",
       "  <tbody>\n",
       "    <tr>\n",
       "      <th>GOOG</th>\n",
       "      <td>33.0</td>\n",
       "      <td>185.75</td>\n",
       "    </tr>\n",
       "    <tr>\n",
       "      <th>MSFT</th>\n",
       "      <td>37.0</td>\n",
       "      <td>258.50</td>\n",
       "    </tr>\n",
       "  </tbody>\n",
       "</table>\n",
       "</div>"
      ],
      "text/plain": [
       "          Age   Sales\n",
       "Company              \n",
       "GOOG     33.0  185.75\n",
       "MSFT     37.0  258.50"
      ]
     },
     "execution_count": 183,
     "metadata": {},
     "output_type": "execute_result"
    }
   ],
   "source": [
    "# Group by 'Company' and calculate the mean of numeric columns\n",
    "\n",
    "df1.groupby('Company').mean(numeric_only=True)"
   ]
  },
  {
   "cell_type": "markdown",
   "metadata": {},
   "source": [
    "The rows are indexed by the company names, with the mean values calculated for each numeric column.\n",
    "\n",
    "- **``Age``**: The average age of employees in each company.\n",
    "- **``Sales``**: The average sales figures for employees in each company.\n",
    "\n",
    "<p style=\"background-color:#FFFFFF; font-family:newtimeroman; color:#0000FF; font-size:110%; text-align:left;\"><strong>-----------------------------------------------------------------------------------------------------------------------------------------------------------------------------------------------</strong></p>\n",
    "\n",
    "**The following expression calculates the mean (average) sales for each company in the DataFrame.**\n",
    "- This is a more specific way to focus on the Sales column after grouping by the Company column."
   ]
  },
  {
   "cell_type": "code",
   "execution_count": 184,
   "metadata": {},
   "outputs": [
    {
     "data": {
      "text/plain": [
       "Company\n",
       "GOOG    185.75\n",
       "MSFT    258.50\n",
       "Name: Sales, dtype: float64"
      ]
     },
     "execution_count": 184,
     "metadata": {},
     "output_type": "execute_result"
    }
   ],
   "source": [
    "# Group by 'Company' and calculate the mean of the 'Sales' column\n",
    "\n",
    "df1.groupby('Company')[\"Sales\"].mean(numeric_only=True)"
   ]
  },
  {
   "cell_type": "markdown",
   "metadata": {},
   "source": [
    "The output is indexed by company names, showing the average sales figures calculated for each company.\n",
    "\n",
    "- **``Mean Sales for GOOG``**: The average sales for employees at Google (GOOG).\n",
    "- **``Mean Sales for MSFT``**: The average sales for employees at Microsoft (MSFT).\n",
    "\n",
    "\n",
    "<p style=\"background-color:#FFFFFF; font-family:newtimeroman; color:#0000FF; font-size:110%; text-align:left;\"><strong>-----------------------------------------------------------------------------------------------------------------------------------------------------------------------------------------------</strong></p>\n",
    "\n",
    "**The following expression calculates the mean (average) of the Sales column for each group defined by the Company column in the DataFrame.**\n",
    "- By using double brackets, we are selecting Sales as a DataFrame, which maintains the DataFrame structure in the result."
   ]
  },
  {
   "cell_type": "code",
   "execution_count": 185,
   "metadata": {},
   "outputs": [
    {
     "data": {
      "text/html": [
       "<div>\n",
       "<style scoped>\n",
       "    .dataframe tbody tr th:only-of-type {\n",
       "        vertical-align: middle;\n",
       "    }\n",
       "\n",
       "    .dataframe tbody tr th {\n",
       "        vertical-align: top;\n",
       "    }\n",
       "\n",
       "    .dataframe thead th {\n",
       "        text-align: right;\n",
       "    }\n",
       "</style>\n",
       "<table border=\"1\" class=\"dataframe\">\n",
       "  <thead>\n",
       "    <tr style=\"text-align: right;\">\n",
       "      <th></th>\n",
       "      <th>Sales</th>\n",
       "    </tr>\n",
       "    <tr>\n",
       "      <th>Company</th>\n",
       "      <th></th>\n",
       "    </tr>\n",
       "  </thead>\n",
       "  <tbody>\n",
       "    <tr>\n",
       "      <th>GOOG</th>\n",
       "      <td>185.75</td>\n",
       "    </tr>\n",
       "    <tr>\n",
       "      <th>MSFT</th>\n",
       "      <td>258.50</td>\n",
       "    </tr>\n",
       "  </tbody>\n",
       "</table>\n",
       "</div>"
      ],
      "text/plain": [
       "          Sales\n",
       "Company        \n",
       "GOOG     185.75\n",
       "MSFT     258.50"
      ]
     },
     "execution_count": 185,
     "metadata": {},
     "output_type": "execute_result"
    }
   ],
   "source": [
    "# Group by 'Company' and calculate the mean of the 'Sales' column\n",
    "\n",
    "df1.groupby('Company')[[\"Sales\"]].mean(numeric_only=True)"
   ]
  },
  {
   "cell_type": "markdown",
   "metadata": {},
   "source": [
    "The result is displayed as a DataFrame, maintaining the column structure, which can be useful for further operations or when merging with other DataFrames.\n",
    "\n",
    "- **``Mean Sales for GOOG``**: The average sales for employees at Google (GOOG).\n",
    "- **``Mean Sales for MSFT``**: The average sales for employees at Microsoft (MSFT).\n",
    "\n",
    "\n",
    "<p style=\"background-color:#FFFFFF; font-family:newtimeroman; color:#0000FF; font-size:110%; text-align:left;\"><strong>-----------------------------------------------------------------------------------------------------------------------------------------------------------------------------------------------</strong></p>\n",
    "\n",
    "**The following expression calculates the mean (average) of numeric columns for each combination of Company and Department in the DataFrame.**\n",
    "- This is useful for analyzing how different departments within each company perform on average."
   ]
  },
  {
   "cell_type": "code",
   "execution_count": 186,
   "metadata": {},
   "outputs": [
    {
     "data": {
      "text/html": [
       "<div>\n",
       "<style scoped>\n",
       "    .dataframe tbody tr th:only-of-type {\n",
       "        vertical-align: middle;\n",
       "    }\n",
       "\n",
       "    .dataframe tbody tr th {\n",
       "        vertical-align: top;\n",
       "    }\n",
       "\n",
       "    .dataframe thead th {\n",
       "        text-align: right;\n",
       "    }\n",
       "</style>\n",
       "<table border=\"1\" class=\"dataframe\">\n",
       "  <thead>\n",
       "    <tr style=\"text-align: right;\">\n",
       "      <th></th>\n",
       "      <th></th>\n",
       "      <th>Age</th>\n",
       "      <th>Sales</th>\n",
       "    </tr>\n",
       "    <tr>\n",
       "      <th>Company</th>\n",
       "      <th>Department</th>\n",
       "      <th></th>\n",
       "      <th></th>\n",
       "    </tr>\n",
       "  </thead>\n",
       "  <tbody>\n",
       "    <tr>\n",
       "      <th rowspan=\"2\" valign=\"top\">GOOG</th>\n",
       "      <th>HR</th>\n",
       "      <td>36.0</td>\n",
       "      <td>221.5</td>\n",
       "    </tr>\n",
       "    <tr>\n",
       "      <th>IT</th>\n",
       "      <td>30.0</td>\n",
       "      <td>150.0</td>\n",
       "    </tr>\n",
       "    <tr>\n",
       "      <th rowspan=\"2\" valign=\"top\">MSFT</th>\n",
       "      <th>HR</th>\n",
       "      <td>44.0</td>\n",
       "      <td>172.0</td>\n",
       "    </tr>\n",
       "    <tr>\n",
       "      <th>IT</th>\n",
       "      <td>30.0</td>\n",
       "      <td>345.0</td>\n",
       "    </tr>\n",
       "  </tbody>\n",
       "</table>\n",
       "</div>"
      ],
      "text/plain": [
       "                     Age  Sales\n",
       "Company Department             \n",
       "GOOG    HR          36.0  221.5\n",
       "        IT          30.0  150.0\n",
       "MSFT    HR          44.0  172.0\n",
       "        IT          30.0  345.0"
      ]
     },
     "execution_count": 186,
     "metadata": {},
     "output_type": "execute_result"
    }
   ],
   "source": [
    "# Group by 'Company' and 'Department' and calculate the mean of numeric columns\n",
    "\n",
    "df1.groupby(['Company', \"Department\"]).mean(numeric_only=True)"
   ]
  },
  {
   "cell_type": "markdown",
   "metadata": {},
   "source": [
    "The rows are multi-indexed by Company and Department, allowing for easy comparison across both categories.\n",
    "\n",
    "- The output shows the average age and sales figures for each combination of Company and Department.\n",
    "  - For example:\n",
    "    - **``GOOG, HR``**: Average Age is 36.0 and Average Sales is approximately 221.5.\n",
    "    - **``MSFT, IT``**: Average Age is 30.0 and Average Sales is approximately 345.0.\n",
    "\n",
    "<p style=\"background-color:#FFFFFF; font-family:newtimeroman; color:#0000FF; font-size:110%; text-align:left;\"><strong>-----------------------------------------------------------------------------------------------------------------------------------------------------------------------------------------------</strong></p>\n",
    "\n",
    "**The following expression calculates the mean (average) of the Sales column for each combination of Company and Department in the DataFrame.**\n",
    "- By using double brackets, we are selecting Sales as a DataFrame, which maintains the DataFrame structure in the result."
   ]
  },
  {
   "cell_type": "code",
   "execution_count": 187,
   "metadata": {},
   "outputs": [
    {
     "data": {
      "text/html": [
       "<div>\n",
       "<style scoped>\n",
       "    .dataframe tbody tr th:only-of-type {\n",
       "        vertical-align: middle;\n",
       "    }\n",
       "\n",
       "    .dataframe tbody tr th {\n",
       "        vertical-align: top;\n",
       "    }\n",
       "\n",
       "    .dataframe thead th {\n",
       "        text-align: right;\n",
       "    }\n",
       "</style>\n",
       "<table border=\"1\" class=\"dataframe\">\n",
       "  <thead>\n",
       "    <tr style=\"text-align: right;\">\n",
       "      <th></th>\n",
       "      <th></th>\n",
       "      <th>Sales</th>\n",
       "    </tr>\n",
       "    <tr>\n",
       "      <th>Company</th>\n",
       "      <th>Department</th>\n",
       "      <th></th>\n",
       "    </tr>\n",
       "  </thead>\n",
       "  <tbody>\n",
       "    <tr>\n",
       "      <th rowspan=\"2\" valign=\"top\">GOOG</th>\n",
       "      <th>HR</th>\n",
       "      <td>221.5</td>\n",
       "    </tr>\n",
       "    <tr>\n",
       "      <th>IT</th>\n",
       "      <td>150.0</td>\n",
       "    </tr>\n",
       "    <tr>\n",
       "      <th rowspan=\"2\" valign=\"top\">MSFT</th>\n",
       "      <th>HR</th>\n",
       "      <td>172.0</td>\n",
       "    </tr>\n",
       "    <tr>\n",
       "      <th>IT</th>\n",
       "      <td>345.0</td>\n",
       "    </tr>\n",
       "  </tbody>\n",
       "</table>\n",
       "</div>"
      ],
      "text/plain": [
       "                    Sales\n",
       "Company Department       \n",
       "GOOG    HR          221.5\n",
       "        IT          150.0\n",
       "MSFT    HR          172.0\n",
       "        IT          345.0"
      ]
     },
     "execution_count": 187,
     "metadata": {},
     "output_type": "execute_result"
    }
   ],
   "source": [
    "# Group by 'Company' and 'Department' and calculate the mean of the 'Sales' column\n",
    "\n",
    "df1.groupby(['Company', \"Department\"])[[\"Sales\"]].mean(numeric_only=True)"
   ]
  },
  {
   "cell_type": "markdown",
   "metadata": {},
   "source": [
    "The output is displayed as a DataFrame, maintaining the column structure.\n",
    "\n",
    "- **``Sales``**: The average sales for each combination of Company and Department.\n",
    "   - **``GOOG, HR``**: Average Sales is approximately 221.5.\n",
    "   - **``MSFT, IT``**: Average Sales is approximately 345.0.\n",
    "\n",
    "<p style=\"background-color:#FFFFFF; font-family:newtimeroman; color:#0000FF; font-size:110%; text-align:left;\"><strong>-----------------------------------------------------------------------------------------------------------------------------------------------------------------------------------------------</strong></p>\n",
    "\n",
    "**The following expression generates descriptive statistics for the Sales column for each combination of Company and Department.**\n",
    "- This provides a comprehensive summary, including count, mean, standard deviation, minimum, maximum, and percentiles."
   ]
  },
  {
   "cell_type": "code",
   "execution_count": 188,
   "metadata": {},
   "outputs": [
    {
     "data": {
      "text/html": [
       "<div>\n",
       "<style scoped>\n",
       "    .dataframe tbody tr th:only-of-type {\n",
       "        vertical-align: middle;\n",
       "    }\n",
       "\n",
       "    .dataframe tbody tr th {\n",
       "        vertical-align: top;\n",
       "    }\n",
       "\n",
       "    .dataframe thead tr th {\n",
       "        text-align: left;\n",
       "    }\n",
       "\n",
       "    .dataframe thead tr:last-of-type th {\n",
       "        text-align: right;\n",
       "    }\n",
       "</style>\n",
       "<table border=\"1\" class=\"dataframe\">\n",
       "  <thead>\n",
       "    <tr>\n",
       "      <th></th>\n",
       "      <th></th>\n",
       "      <th colspan=\"8\" halign=\"left\">Sales</th>\n",
       "    </tr>\n",
       "    <tr>\n",
       "      <th></th>\n",
       "      <th></th>\n",
       "      <th>count</th>\n",
       "      <th>mean</th>\n",
       "      <th>std</th>\n",
       "      <th>min</th>\n",
       "      <th>25%</th>\n",
       "      <th>50%</th>\n",
       "      <th>75%</th>\n",
       "      <th>max</th>\n",
       "    </tr>\n",
       "    <tr>\n",
       "      <th>Company</th>\n",
       "      <th>Department</th>\n",
       "      <th></th>\n",
       "      <th></th>\n",
       "      <th></th>\n",
       "      <th></th>\n",
       "      <th></th>\n",
       "      <th></th>\n",
       "      <th></th>\n",
       "      <th></th>\n",
       "    </tr>\n",
       "  </thead>\n",
       "  <tbody>\n",
       "    <tr>\n",
       "      <th rowspan=\"2\" valign=\"top\">GOOG</th>\n",
       "      <th>HR</th>\n",
       "      <td>2.0</td>\n",
       "      <td>221.5</td>\n",
       "      <td>30.405592</td>\n",
       "      <td>200.0</td>\n",
       "      <td>210.75</td>\n",
       "      <td>221.5</td>\n",
       "      <td>232.25</td>\n",
       "      <td>243.0</td>\n",
       "    </tr>\n",
       "    <tr>\n",
       "      <th>IT</th>\n",
       "      <td>2.0</td>\n",
       "      <td>150.0</td>\n",
       "      <td>42.426407</td>\n",
       "      <td>120.0</td>\n",
       "      <td>135.00</td>\n",
       "      <td>150.0</td>\n",
       "      <td>165.00</td>\n",
       "      <td>180.0</td>\n",
       "    </tr>\n",
       "    <tr>\n",
       "      <th rowspan=\"2\" valign=\"top\">MSFT</th>\n",
       "      <th>HR</th>\n",
       "      <td>2.0</td>\n",
       "      <td>172.0</td>\n",
       "      <td>67.882251</td>\n",
       "      <td>124.0</td>\n",
       "      <td>148.00</td>\n",
       "      <td>172.0</td>\n",
       "      <td>196.00</td>\n",
       "      <td>220.0</td>\n",
       "    </tr>\n",
       "    <tr>\n",
       "      <th>IT</th>\n",
       "      <td>2.0</td>\n",
       "      <td>345.0</td>\n",
       "      <td>7.071068</td>\n",
       "      <td>340.0</td>\n",
       "      <td>342.50</td>\n",
       "      <td>345.0</td>\n",
       "      <td>347.50</td>\n",
       "      <td>350.0</td>\n",
       "    </tr>\n",
       "  </tbody>\n",
       "</table>\n",
       "</div>"
      ],
      "text/plain": [
       "                   Sales                                                  \\\n",
       "                   count   mean        std    min     25%    50%     75%   \n",
       "Company Department                                                         \n",
       "GOOG    HR           2.0  221.5  30.405592  200.0  210.75  221.5  232.25   \n",
       "        IT           2.0  150.0  42.426407  120.0  135.00  150.0  165.00   \n",
       "MSFT    HR           2.0  172.0  67.882251  124.0  148.00  172.0  196.00   \n",
       "        IT           2.0  345.0   7.071068  340.0  342.50  345.0  347.50   \n",
       "\n",
       "                           \n",
       "                      max  \n",
       "Company Department         \n",
       "GOOG    HR          243.0  \n",
       "        IT          180.0  \n",
       "MSFT    HR          220.0  \n",
       "        IT          350.0  "
      ]
     },
     "execution_count": 188,
     "metadata": {},
     "output_type": "execute_result"
    }
   ],
   "source": [
    "# Group by 'Company' and 'Department' and calculate descriptive statistics for 'Sales'\n",
    "\n",
    "df1.groupby(['Company', \"Department\"])[[\"Sales\"]].describe()"
   ]
  },
  {
   "cell_type": "markdown",
   "metadata": {},
   "source": [
    "The output provides several statistics for the Sales column:\n",
    "Count: The number of entries in each group.\n",
    "Mean: The average sales for each group.\n",
    "Standard Deviation (std): The measure of the variation in sales.\n",
    "Min: The minimum sales value.\n",
    "25% (1st Quartile): The value below which 25% of the data fall.\n",
    "50% (Median): The median sales value.\n",
    "75% (3rd Quartile): The value below which 75% of the data fall.\n",
    "Max: The maximum sales value.\n",
    "\n",
    "<p style=\"background-color:#FFFFFF; font-family:newtimeroman; color:#0000FF; font-size:110%; text-align:left;\"><strong>-----------------------------------------------------------------------------------------------------------------------------------------------------------------------------------------------</strong></p>\n",
    "\n"
   ]
  },
  {
   "cell_type": "markdown",
   "metadata": {
    "id": "nnwjEqnyQhlp"
   },
   "source": [
    "**Now we can use the ``.groupby()`` method to group rows together based on a column name.**\n",
    "- For instance, let's group based on Company. This will create a DataFrameGroupBy object:**"
   ]
  },
  {
   "cell_type": "code",
   "execution_count": 189,
   "metadata": {
    "id": "aMpt8WJV97SK",
    "outputId": "cbd5b1ba-12f2-4888-8fd2-a8b437af4b9e"
   },
   "outputs": [
    {
     "data": {
      "text/plain": [
       "<pandas.core.groupby.generic.DataFrameGroupBy object at 0x000001C2E5152ED0>"
      ]
     },
     "execution_count": 189,
     "metadata": {},
     "output_type": "execute_result"
    }
   ],
   "source": [
    "df1.groupby('Company')"
   ]
  },
  {
   "cell_type": "markdown",
   "metadata": {},
   "source": [
    "The output <pandas.core.groupby.generic.DataFrameGroupBy object at 0x000001FF3339E3C8> indicates that you have created a DataFrameGroupBy object using df1.groupby('Company'). This object represents the grouping of the DataFrame df1 by the Company column, but it does not display the grouped data itself until you perform some operations on it.\n",
    "\n",
    "- **``How to Use the GroupBy Object?``**\n",
    "  - To extract meaningful statistics or perform operations on the grouped data, you typically follow the groupby() call with an aggregation function or other methods. Here are some common operations you can perform:\n",
    "\n",
    "   - **``1. Aggregation``**: We can calculate summary statistics like mean, sum, count, etc. For example, to get the mean sales for each company:\n",
    "   - **``2. Count of Employees in Each Company``**: We can count the number of entries for each company.\n",
    "   - **``3. Iterating Through Groups``**: We can loop through each group and perform operations.\n",
    "   - **``4. Descriptive Statistics``**: We can generate descriptive statistics for numeric columns.\n",
    "\n",
    "<p style=\"background-color:#FFFFFF; font-family:newtimeroman; color:#0000FF; font-size:110%; text-align:left;\"><strong>-----------------------------------------------------------------------------------------------------------------------------------------------------------------------------------------------</strong></p>\n",
    "\n",
    "**The following expression creates a DataFrameGroupBy object named by_comp that groups the DataFrame by the Company column.**\n",
    "- This object can be used to perform a variety of operations on the grouped data, but it does NOT display any results until we apply a function to it."
   ]
  },
  {
   "cell_type": "code",
   "execution_count": 190,
   "metadata": {
    "id": "oFTBl4-wQhls"
   },
   "outputs": [],
   "source": [
    "# Save this object as a new variable\n",
    "\n",
    "by_comp = df1.groupby('Company')"
   ]
  },
  {
   "cell_type": "markdown",
   "metadata": {},
   "source": [
    "\n",
    "\n",
    "<p style=\"background-color:#FFFFFF; font-family:newtimeroman; color:#0000FF; font-size:110%; text-align:left;\"><strong>-----------------------------------------------------------------------------------------------------------------------------------------------------------------------------------------------</strong></p>\n",
    "\n",
    "**The following expression calculates the mean (average) for all numeric columns (like Age and Sales) in the DataFrameGroupBy object by_comp, which was created by grouping DataFrame by the Company column.**"
   ]
  },
  {
   "cell_type": "code",
   "execution_count": 191,
   "metadata": {
    "id": "5ME4VyszQhlt",
    "outputId": "63b5b8fd-9f2b-4cd2-c12a-9596268bff47"
   },
   "outputs": [
    {
     "data": {
      "text/html": [
       "<div>\n",
       "<style scoped>\n",
       "    .dataframe tbody tr th:only-of-type {\n",
       "        vertical-align: middle;\n",
       "    }\n",
       "\n",
       "    .dataframe tbody tr th {\n",
       "        vertical-align: top;\n",
       "    }\n",
       "\n",
       "    .dataframe thead th {\n",
       "        text-align: right;\n",
       "    }\n",
       "</style>\n",
       "<table border=\"1\" class=\"dataframe\">\n",
       "  <thead>\n",
       "    <tr style=\"text-align: right;\">\n",
       "      <th></th>\n",
       "      <th>Age</th>\n",
       "      <th>Sales</th>\n",
       "    </tr>\n",
       "    <tr>\n",
       "      <th>Company</th>\n",
       "      <th></th>\n",
       "      <th></th>\n",
       "    </tr>\n",
       "  </thead>\n",
       "  <tbody>\n",
       "    <tr>\n",
       "      <th>GOOG</th>\n",
       "      <td>33.0</td>\n",
       "      <td>185.75</td>\n",
       "    </tr>\n",
       "    <tr>\n",
       "      <th>MSFT</th>\n",
       "      <td>37.0</td>\n",
       "      <td>258.50</td>\n",
       "    </tr>\n",
       "  </tbody>\n",
       "</table>\n",
       "</div>"
      ],
      "text/plain": [
       "          Age   Sales\n",
       "Company              \n",
       "GOOG     33.0  185.75\n",
       "MSFT     37.0  258.50"
      ]
     },
     "execution_count": 191,
     "metadata": {},
     "output_type": "execute_result"
    }
   ],
   "source": [
    "# Calculate the mean of numeric columns by calling aggregate methods on the object/\n",
    "\n",
    "by_comp.mean(numeric_only=True)"
   ]
  },
  {
   "cell_type": "markdown",
   "metadata": {},
   "source": [
    "The index is the company names, and the output DataFrame contains the mean values for each numeric column.\n",
    "\n",
    "- **``Age``**: The average age of employees for each company.\n",
    "- **``Sales``**: The average sales figures for employees in each company.\n",
    "\n",
    "<p style=\"background-color:#FFFFFF; font-family:newtimeroman; color:#0000FF; font-size:110%; text-align:left;\"><strong>-----------------------------------------------------------------------------------------------------------------------------------------------------------------------------------------------</strong></p>\n",
    "\n"
   ]
  },
  {
   "cell_type": "markdown",
   "metadata": {
    "id": "DZ8Q-x3T97SN"
   },
   "source": [
    "## <p style=\"background-color:#E51A59; font-family:newtimeroman; color:#FFF9ED; font-size:175%; text-align:center; border-radius:10px 10px;\">Useful Operations</p>\n",
    "\n",
    "<a id=\"3\"></a>\n",
    "<a href=\"#toc\" class=\"btn btn-primary btn-sm\" role=\"button\" aria-pressed=\"true\" \n",
    "style=\"color:blue; background-color:#dfa8e4\" data-toggle=\"popover\">Content</a>"
   ]
  },
  {
   "cell_type": "markdown",
   "metadata": {
    "id": "F32Bfl4oQhl1"
   },
   "source": [
    "- ### `.aggregate()`\n",
    "- ### `.filter()`\n",
    "- ### `.transform()`\n",
    "- ### `.apply()`\n",
    "- ### `.applymap()`\n",
    "- ### `.map()`\n",
    "- ### `.pivot() & .pivot_table()`\n",
    "- ### `.stack() & .unstack()`"
   ]
  },
  {
   "cell_type": "markdown",
   "metadata": {},
   "source": [
    "### <p style=\"background-color:#E51A59; font-family:newtimeroman; color:#FFF9ED; font-size:150%; text-align:center; border-radius:10px 10px;\">.aggregate() / agg()</p>\n",
    "\n",
    "<a id=\"3.1\"></a>\n",
    "<a href=\"#toc\" class=\"btn btn-primary btn-sm\" role=\"button\" aria-pressed=\"true\" \n",
    "style=\"color:blue; background-color:#dfa8e4\" data-toggle=\"popover\">Content</a>\n",
    "\n",
    "In pandas, when using the agg function, we can specify aggregation functions in different ways, such as using the function name directly (e.g., **``min``**) or as a string (e.g., **``\"min\"``**). Both approaches achieve the same result, but there are some nuances to be aware of.\n",
    "\n",
    "**``Differences Between Using min and \"min\"``**\n",
    "- **``Function vs. String:``**\n",
    "  - **``Function (e.g., min)``**: When we pass the function directly, we're using a callable. This means we're passing the actual implementation of the function.\n",
    "  - **``String (e.g., \"min\")``**: When we pass a string, pandas interprets it as a reference to the function name and looks it up internally.\n",
    "- **``Flexibility:``**\n",
    "  - Using a string can sometimes be more readable, especially when we're chaining multiple operations or using multiple aggregation functions. It also allows us to easily specify multiple functions in a list.\n",
    "  - When we use the function directly, it can be more explicit, and we may have better autocompletion and error checking in some IDEs.\n",
    "- **``Custom Functions:``**\n",
    "  - If we're using a custom function, we must pass it directly as a callable (e.g., my_custom_function), since we can't reference it by name as a string."
   ]
  },
  {
   "cell_type": "markdown",
   "metadata": {},
   "source": [
    "#### <p style=\"background-color:#E51A59; font-family:newtimeroman; color:#FFF9ED; font-size:150%; text-align:LEFT; border-radius:10px 10px;\">DataFrame.agg()</p>\n",
    "\n",
    "<a id=\"3.1.1\"></a>\n",
    "<a href=\"#toc\" class=\"btn btn-primary btn-sm\" role=\"button\" aria-pressed=\"true\" \n",
    "style=\"color:blue; background-color:#dfa8e4\" data-toggle=\"popover\">Content</a>\n",
    "\n",
    "**SYNTAX:** <b>``DataFrame.aggregate(func=None, axis=0, *args, **kwargs)``</b>\n",
    "\n",
    "Returns: scalar, Series or DataFrame\n",
    "\n",
    "The return can be:\n",
    "- scalar : when Series.agg is called with single function\n",
    "- Series : when DataFrame.agg is called with a single function\n",
    "- DataFrame : when DataFrame.agg is called with several functions (Returns scalar, Series or DataFrame).\n",
    "\n",
    "The aggregation operations are always performed over an axis, either the index (default) or the column axis. This behavior is different from numpy aggregation functions (mean, median, prod, sum, std, var), where the default is to compute the aggregation of the flattened array, e.g., numpy.mean(arr_2d) as opposed to numpy.mean(arr_2d, axis=0).\n",
    "\n",
    "**agg()** is an **alias for aggregate()**. Use the alias [Official Pandas Documentation](https://pandas.pydata.org/pandas-docs/stable/reference/api/pandas.DataFrame.aggregate.html).\n",
    "\n",
    "<p style=\"background-color:#FFFFFF; font-family:newtimeroman; color:#0000FF; font-size:110%; text-align:left;\"><strong>-----------------------------------------------------------------------------------------------------------------------------------------------------------------------------------------------</strong></p>\n"
   ]
  },
  {
   "cell_type": "code",
   "execution_count": 192,
   "metadata": {
    "id": "LxJEFpYOQhl1",
    "outputId": "dcbf09c4-3a53-426d-ebd7-ff9a28bd4f74"
   },
   "outputs": [
    {
     "data": {
      "text/html": [
       "<div>\n",
       "<style scoped>\n",
       "    .dataframe tbody tr th:only-of-type {\n",
       "        vertical-align: middle;\n",
       "    }\n",
       "\n",
       "    .dataframe tbody tr th {\n",
       "        vertical-align: top;\n",
       "    }\n",
       "\n",
       "    .dataframe thead th {\n",
       "        text-align: right;\n",
       "    }\n",
       "</style>\n",
       "<table border=\"1\" class=\"dataframe\">\n",
       "  <thead>\n",
       "    <tr style=\"text-align: right;\">\n",
       "      <th></th>\n",
       "      <th>groups</th>\n",
       "      <th>var1</th>\n",
       "      <th>var2</th>\n",
       "    </tr>\n",
       "  </thead>\n",
       "  <tbody>\n",
       "    <tr>\n",
       "      <th>0</th>\n",
       "      <td>A</td>\n",
       "      <td>10</td>\n",
       "      <td>100</td>\n",
       "    </tr>\n",
       "    <tr>\n",
       "      <th>1</th>\n",
       "      <td>B</td>\n",
       "      <td>23</td>\n",
       "      <td>253</td>\n",
       "    </tr>\n",
       "    <tr>\n",
       "      <th>2</th>\n",
       "      <td>C</td>\n",
       "      <td>33</td>\n",
       "      <td>333</td>\n",
       "    </tr>\n",
       "    <tr>\n",
       "      <th>3</th>\n",
       "      <td>A</td>\n",
       "      <td>22</td>\n",
       "      <td>262</td>\n",
       "    </tr>\n",
       "    <tr>\n",
       "      <th>4</th>\n",
       "      <td>B</td>\n",
       "      <td>11</td>\n",
       "      <td>111</td>\n",
       "    </tr>\n",
       "    <tr>\n",
       "      <th>5</th>\n",
       "      <td>C</td>\n",
       "      <td>99</td>\n",
       "      <td>969</td>\n",
       "    </tr>\n",
       "    <tr>\n",
       "      <th>6</th>\n",
       "      <td>A</td>\n",
       "      <td>76</td>\n",
       "      <td>405</td>\n",
       "    </tr>\n",
       "    <tr>\n",
       "      <th>7</th>\n",
       "      <td>B</td>\n",
       "      <td>84</td>\n",
       "      <td>578</td>\n",
       "    </tr>\n",
       "    <tr>\n",
       "      <th>8</th>\n",
       "      <td>C</td>\n",
       "      <td>45</td>\n",
       "      <td>760</td>\n",
       "    </tr>\n",
       "  </tbody>\n",
       "</table>\n",
       "</div>"
      ],
      "text/plain": [
       "  groups  var1  var2\n",
       "0      A    10   100\n",
       "1      B    23   253\n",
       "2      C    33   333\n",
       "3      A    22   262\n",
       "4      B    11   111\n",
       "5      C    99   969\n",
       "6      A    76   405\n",
       "7      B    84   578\n",
       "8      C    45   760"
      ]
     },
     "execution_count": 192,
     "metadata": {},
     "output_type": "execute_result"
    }
   ],
   "source": [
    "# Create a DataFrame from the dictionary\n",
    "df2 = pd.DataFrame({'groups': ['A', 'B', 'C', 'A', 'B', 'C', 'A', 'B', 'C'],\n",
    "                    'var1': [10, 23, 33, 22, 11, 99, 76, 84, 45],\n",
    "                    'var2': [100, 253, 333, 262, 111, 969, 405, 578, 760]})\n",
    "\n",
    "# Display the DataFrame\n",
    "df2"
   ]
  },
  {
   "cell_type": "markdown",
   "metadata": {},
   "source": [
    "\n",
    "\n",
    "<p style=\"background-color:#FFFFFF; font-family:newtimeroman; color:#0000FF; font-size:110%; text-align:left;\"><strong>-----------------------------------------------------------------------------------------------------------------------------------------------------------------------------------------------</strong></p>\n",
    "\n",
    "**The following expression applies the aggregation functions sum and min to each numeric column in the DataFrame.**\n",
    "- This will compute both the total and the minimum for each numeric column (var1 and var2)."
   ]
  },
  {
   "cell_type": "code",
   "execution_count": 193,
   "metadata": {},
   "outputs": [
    {
     "data": {
      "text/html": [
       "<div>\n",
       "<style scoped>\n",
       "    .dataframe tbody tr th:only-of-type {\n",
       "        vertical-align: middle;\n",
       "    }\n",
       "\n",
       "    .dataframe tbody tr th {\n",
       "        vertical-align: top;\n",
       "    }\n",
       "\n",
       "    .dataframe thead th {\n",
       "        text-align: right;\n",
       "    }\n",
       "</style>\n",
       "<table border=\"1\" class=\"dataframe\">\n",
       "  <thead>\n",
       "    <tr style=\"text-align: right;\">\n",
       "      <th></th>\n",
       "      <th>groups</th>\n",
       "      <th>var1</th>\n",
       "      <th>var2</th>\n",
       "    </tr>\n",
       "  </thead>\n",
       "  <tbody>\n",
       "    <tr>\n",
       "      <th>sum</th>\n",
       "      <td>ABCABCABC</td>\n",
       "      <td>403</td>\n",
       "      <td>3771</td>\n",
       "    </tr>\n",
       "    <tr>\n",
       "      <th>min</th>\n",
       "      <td>A</td>\n",
       "      <td>10</td>\n",
       "      <td>100</td>\n",
       "    </tr>\n",
       "  </tbody>\n",
       "</table>\n",
       "</div>"
      ],
      "text/plain": [
       "        groups  var1  var2\n",
       "sum  ABCABCABC   403  3771\n",
       "min          A    10   100"
      ]
     },
     "execution_count": 193,
     "metadata": {},
     "output_type": "execute_result"
    }
   ],
   "source": [
    "# Apply aggregation functions\n",
    "\n",
    "df2.agg([sum, min])"
   ]
  },
  {
   "cell_type": "markdown",
   "metadata": {},
   "source": [
    "- **``sum``**: The total for each numeric column:\n",
    "- **``var1``**: The sum is 403.\n",
    "- **``var2``**: The sum is 3771.\n",
    "- **``min``**: The minimum value for each numeric column:\n",
    "- **``var1``**: The minimum is 10.\n",
    "- **``var2``**: The minimum is 100.\n",
    "\n",
    "<p style=\"background-color:#FFFFFF; font-family:newtimeroman; color:#0000FF; font-size:110%; text-align:left;\"><strong>-----------------------------------------------------------------------------------------------------------------------------------------------------------------------------------------------</strong></p>\n",
    "\n",
    "**The following expression applies the aggregation functions sum and min to the columns var1 and var2 in the DataFrame.**\n",
    "- This will compute both the total and the minimum for each of these columns."
   ]
  },
  {
   "cell_type": "code",
   "execution_count": 195,
   "metadata": {},
   "outputs": [
    {
     "data": {
      "text/html": [
       "<div>\n",
       "<style scoped>\n",
       "    .dataframe tbody tr th:only-of-type {\n",
       "        vertical-align: middle;\n",
       "    }\n",
       "\n",
       "    .dataframe tbody tr th {\n",
       "        vertical-align: top;\n",
       "    }\n",
       "\n",
       "    .dataframe thead th {\n",
       "        text-align: right;\n",
       "    }\n",
       "</style>\n",
       "<table border=\"1\" class=\"dataframe\">\n",
       "  <thead>\n",
       "    <tr style=\"text-align: right;\">\n",
       "      <th></th>\n",
       "      <th>groups</th>\n",
       "      <th>var1</th>\n",
       "      <th>var2</th>\n",
       "    </tr>\n",
       "  </thead>\n",
       "  <tbody>\n",
       "    <tr>\n",
       "      <th>0</th>\n",
       "      <td>A</td>\n",
       "      <td>10</td>\n",
       "      <td>100</td>\n",
       "    </tr>\n",
       "    <tr>\n",
       "      <th>1</th>\n",
       "      <td>B</td>\n",
       "      <td>23</td>\n",
       "      <td>253</td>\n",
       "    </tr>\n",
       "    <tr>\n",
       "      <th>2</th>\n",
       "      <td>C</td>\n",
       "      <td>33</td>\n",
       "      <td>333</td>\n",
       "    </tr>\n",
       "    <tr>\n",
       "      <th>3</th>\n",
       "      <td>A</td>\n",
       "      <td>22</td>\n",
       "      <td>262</td>\n",
       "    </tr>\n",
       "    <tr>\n",
       "      <th>4</th>\n",
       "      <td>B</td>\n",
       "      <td>11</td>\n",
       "      <td>111</td>\n",
       "    </tr>\n",
       "    <tr>\n",
       "      <th>5</th>\n",
       "      <td>C</td>\n",
       "      <td>99</td>\n",
       "      <td>969</td>\n",
       "    </tr>\n",
       "    <tr>\n",
       "      <th>6</th>\n",
       "      <td>A</td>\n",
       "      <td>76</td>\n",
       "      <td>405</td>\n",
       "    </tr>\n",
       "    <tr>\n",
       "      <th>7</th>\n",
       "      <td>B</td>\n",
       "      <td>84</td>\n",
       "      <td>578</td>\n",
       "    </tr>\n",
       "    <tr>\n",
       "      <th>8</th>\n",
       "      <td>C</td>\n",
       "      <td>45</td>\n",
       "      <td>760</td>\n",
       "    </tr>\n",
       "  </tbody>\n",
       "</table>\n",
       "</div>"
      ],
      "text/plain": [
       "  groups  var1  var2\n",
       "0      A    10   100\n",
       "1      B    23   253\n",
       "2      C    33   333\n",
       "3      A    22   262\n",
       "4      B    11   111\n",
       "5      C    99   969\n",
       "6      A    76   405\n",
       "7      B    84   578\n",
       "8      C    45   760"
      ]
     },
     "execution_count": 195,
     "metadata": {},
     "output_type": "execute_result"
    }
   ],
   "source": [
    "df2"
   ]
  },
  {
   "cell_type": "code",
   "execution_count": 194,
   "metadata": {},
   "outputs": [
    {
     "data": {
      "text/html": [
       "<div>\n",
       "<style scoped>\n",
       "    .dataframe tbody tr th:only-of-type {\n",
       "        vertical-align: middle;\n",
       "    }\n",
       "\n",
       "    .dataframe tbody tr th {\n",
       "        vertical-align: top;\n",
       "    }\n",
       "\n",
       "    .dataframe thead th {\n",
       "        text-align: right;\n",
       "    }\n",
       "</style>\n",
       "<table border=\"1\" class=\"dataframe\">\n",
       "  <thead>\n",
       "    <tr style=\"text-align: right;\">\n",
       "      <th></th>\n",
       "      <th>var1</th>\n",
       "      <th>var2</th>\n",
       "    </tr>\n",
       "  </thead>\n",
       "  <tbody>\n",
       "    <tr>\n",
       "      <th>sum</th>\n",
       "      <td>403</td>\n",
       "      <td>3771</td>\n",
       "    </tr>\n",
       "    <tr>\n",
       "      <th>min</th>\n",
       "      <td>10</td>\n",
       "      <td>100</td>\n",
       "    </tr>\n",
       "  </tbody>\n",
       "</table>\n",
       "</div>"
      ],
      "text/plain": [
       "     var1  var2\n",
       "sum   403  3771\n",
       "min    10   100"
      ]
     },
     "execution_count": 194,
     "metadata": {},
     "output_type": "execute_result"
    }
   ],
   "source": [
    "# Apply aggregation functions to 'var1' and 'var2'\n",
    "\n",
    "df2[[\"var1\", \"var2\"]].agg([sum, min])"
   ]
  },
  {
   "cell_type": "markdown",
   "metadata": {},
   "source": [
    "sum: The total for each numeric column:\n",
    "var1: The sum is 403.\n",
    "var2: The sum is 3771.\n",
    "min: The minimum value for each numeric column:\n",
    "var1: The minimum is 10.\n",
    "var2: The minimum is 100.\n",
    "\n",
    "<p style=\"background-color:#FFFFFF; font-family:newtimeroman; color:#0000FF; font-size:110%; text-align:left;\"><strong>-----------------------------------------------------------------------------------------------------------------------------------------------------------------------------------------------</strong></p>\n",
    "\n",
    "**The following expression applies different aggregation functions to specified columns in the DataFrame.**\n",
    "- Specifically, it calculates the sum for the var1 column and the minimum for the var2 column."
   ]
  },
  {
   "cell_type": "code",
   "execution_count": 196,
   "metadata": {},
   "outputs": [
    {
     "data": {
      "text/plain": [
       "var1    403\n",
       "var2    100\n",
       "dtype: int64"
      ]
     },
     "execution_count": 196,
     "metadata": {},
     "output_type": "execute_result"
    }
   ],
   "source": [
    "# Apply aggregation functions to 'var1' and 'var2'\n",
    "\n",
    "df2.agg({\"var1\":sum, \"var2\":min})"
   ]
  },
  {
   "cell_type": "markdown",
   "metadata": {},
   "source": [
    "- **``var1``**: The sum of the var1 column is 403.\n",
    "- **``var2``**: The minimum value of the var2 column is 100.\n",
    "\n",
    "<p style=\"background-color:#FFFFFF; font-family:newtimeroman; color:#0000FF; font-size:110%; text-align:left;\"><strong>-----------------------------------------------------------------------------------------------------------------------------------------------------------------------------------------------</strong></p>\n",
    "\n",
    "**The following expression applies specific aggregation functions to specified columns in the DataFrame, similar to the previous examples but structured to output results in a ``multi-level index format``.**"
   ]
  },
  {
   "cell_type": "code",
   "execution_count": 197,
   "metadata": {},
   "outputs": [
    {
     "data": {
      "text/html": [
       "<div>\n",
       "<style scoped>\n",
       "    .dataframe tbody tr th:only-of-type {\n",
       "        vertical-align: middle;\n",
       "    }\n",
       "\n",
       "    .dataframe tbody tr th {\n",
       "        vertical-align: top;\n",
       "    }\n",
       "\n",
       "    .dataframe thead th {\n",
       "        text-align: right;\n",
       "    }\n",
       "</style>\n",
       "<table border=\"1\" class=\"dataframe\">\n",
       "  <thead>\n",
       "    <tr style=\"text-align: right;\">\n",
       "      <th></th>\n",
       "      <th>var1</th>\n",
       "      <th>var2</th>\n",
       "    </tr>\n",
       "  </thead>\n",
       "  <tbody>\n",
       "    <tr>\n",
       "      <th>sum</th>\n",
       "      <td>403.0</td>\n",
       "      <td>NaN</td>\n",
       "    </tr>\n",
       "    <tr>\n",
       "      <th>min</th>\n",
       "      <td>NaN</td>\n",
       "      <td>100.0</td>\n",
       "    </tr>\n",
       "  </tbody>\n",
       "</table>\n",
       "</div>"
      ],
      "text/plain": [
       "      var1   var2\n",
       "sum  403.0    NaN\n",
       "min    NaN  100.0"
      ]
     },
     "execution_count": 197,
     "metadata": {},
     "output_type": "execute_result"
    }
   ],
   "source": [
    "# Apply aggregation functions to 'var1' and 'var2'\n",
    "\n",
    "df2.agg({\"var1\":[sum], \"var2\":[min]})"
   ]
  },
  {
   "cell_type": "markdown",
   "metadata": {},
   "source": [
    "The results are structured with a multi-level index, where the first level indicates the aggregation function (e.g., sum, min), and the second level indicates the variable name.\n",
    "\n",
    "- **``var1``**: The sum of the var1 column is 403.\n",
    "- **``var2``**: The minimum value of the var2 column is 100.\n",
    "\n",
    "<p style=\"background-color:#FFFFFF; font-family:newtimeroman; color:#0000FF; font-size:110%; text-align:left;\"><strong>-----------------------------------------------------------------------------------------------------------------------------------------------------------------------------------------------</strong></p>\n",
    "\n",
    "**The following expression apply ``multiple aggregation functions`` to the specified columns in the DataFrame.**\n",
    "- In this case, we will compute the sum and mean for var1, and the minimum and maximum for var2."
   ]
  },
  {
   "cell_type": "code",
   "execution_count": 198,
   "metadata": {},
   "outputs": [
    {
     "data": {
      "text/html": [
       "<div>\n",
       "<style scoped>\n",
       "    .dataframe tbody tr th:only-of-type {\n",
       "        vertical-align: middle;\n",
       "    }\n",
       "\n",
       "    .dataframe tbody tr th {\n",
       "        vertical-align: top;\n",
       "    }\n",
       "\n",
       "    .dataframe thead th {\n",
       "        text-align: right;\n",
       "    }\n",
       "</style>\n",
       "<table border=\"1\" class=\"dataframe\">\n",
       "  <thead>\n",
       "    <tr style=\"text-align: right;\">\n",
       "      <th></th>\n",
       "      <th>var1</th>\n",
       "      <th>var2</th>\n",
       "    </tr>\n",
       "  </thead>\n",
       "  <tbody>\n",
       "    <tr>\n",
       "      <th>sum</th>\n",
       "      <td>403.000000</td>\n",
       "      <td>NaN</td>\n",
       "    </tr>\n",
       "    <tr>\n",
       "      <th>mean</th>\n",
       "      <td>44.777778</td>\n",
       "      <td>NaN</td>\n",
       "    </tr>\n",
       "    <tr>\n",
       "      <th>min</th>\n",
       "      <td>NaN</td>\n",
       "      <td>100.0</td>\n",
       "    </tr>\n",
       "    <tr>\n",
       "      <th>max</th>\n",
       "      <td>NaN</td>\n",
       "      <td>969.0</td>\n",
       "    </tr>\n",
       "  </tbody>\n",
       "</table>\n",
       "</div>"
      ],
      "text/plain": [
       "            var1   var2\n",
       "sum   403.000000    NaN\n",
       "mean   44.777778    NaN\n",
       "min          NaN  100.0\n",
       "max          NaN  969.0"
      ]
     },
     "execution_count": 198,
     "metadata": {},
     "output_type": "execute_result"
    }
   ],
   "source": [
    "# Apply aggregation functions to 'var1' and 'var2'\n",
    "\n",
    "df2.agg({\"var1\":[sum, np.mean], \"var2\":[\"min\", max]})"
   ]
  },
  {
   "cell_type": "markdown",
   "metadata": {},
   "source": [
    "- **``var1``**:\n",
    "  - **``sum``**: The total of var1 is 400.\n",
    "  - **``mean``**: The average of var1 is approximately 44.44.\n",
    "- **``var2``**:\n",
    "  - **``min``**: The minimum value of var2 is 100.\n",
    "  - **``max``**: The maximum value of var2 is 969.\n",
    "\n",
    "<p style=\"background-color:#FFFFFF; font-family:newtimeroman; color:#0000FF; font-size:110%; text-align:left;\"><strong>-----------------------------------------------------------------------------------------------------------------------------------------------------------------------------------------------</strong></p>\n",
    "\n"
   ]
  },
  {
   "cell_type": "markdown",
   "metadata": {
    "id": "iGHzZ1-5Qhl1"
   },
   "source": [
    "## THIS IS WHERE WE LEFT\n",
    "\n",
    "\n",
    "\n",
    "#### <p style=\"background-color:#E51A59; font-family:newtimeroman; color:#FFF9ED; font-size:150%; text-align:LEFT; border-radius:10px 10px;\">DataFrame.groupby().agg()</p>\n",
    "\n",
    "<a id=\"3.1.2\"></a>\n",
    "<a href=\"#toc\" class=\"btn btn-primary btn-sm\" role=\"button\" aria-pressed=\"true\" \n",
    "style=\"color:blue; background-color:#dfa8e4\" data-toggle=\"popover\">Content</a>\n",
    "\n",
    "**``DataFrameGroupBy.agg(arg, *args, **kwargs)``**\n",
    "\n",
    "Aggregates using one or more operations over the specified axis [Pandas Official Documentation](https://pandas.pydata.org/pandas-docs/version/0.23/generated/pandas.core.groupby.DataFrameGroupBy.agg.html).\n",
    "\n",
    "[SOUREC01](https://www.shanelynn.ie/summarising-aggregation-and-grouping-data-in-python-pandas/) & [SOURCE02](https://www.analyticsvidhya.com/blog/2020/03/groupby-pandas-aggregating-data-python/)"
   ]
  },
  {
   "cell_type": "markdown",
   "metadata": {},
   "source": [
    "<hr>\n",
    "\n",
    "**The following expression groups the DataFrame by the groups column and then computes the minimum, median, and maximum for the numeric columns (var1 and var2) within each group.**"
   ]
  },
  {
   "cell_type": "code",
   "execution_count": null,
   "metadata": {
    "id": "7V7_IGw2Qhl1",
    "outputId": "6ffa77f4-15cd-4ea1-ed9b-0156b0493bdd"
   },
   "outputs": [],
   "source": [
    "# Group by 'groups' and calculate min, median, and max for numeric columns\n",
    "\n",
    "df2.groupby('groups').aggregate([np.min, np.median, np.max])"
   ]
  },
  {
   "cell_type": "markdown",
   "metadata": {},
   "source": [
    "- **``df2.groupby('groups')``**: This groups the DataFrame by the groups column, creating separate groups for 'A', 'B', and 'C'.\n",
    "- **``.aggregate([np.min, np.median, np.max])``**: This applies the specified aggregation functions (minimum, median, and maximum) to each numeric column within the grouped data.\n",
    "<hr>\n",
    "\n",
    "📌 In pandas, **``amin``** and **``min``** are both functions used to ``determine the minimum value`` in a DataFrame or Series, but they differ in their behavior and usage.\n",
    "\n",
    "- The **``min``** ``function in pandas`` is a method that can be ``called directly`` on a ``DataFrame`` or ``Series`` object. It returns the minimum value within the specified axis or across all axes by default.\n",
    "\n",
    "- On the other hand, **``amin``** is a ``NumPy function`` that is accessible through pandas. It performs the same operation as ``min``, but it ``operates exclusively on the underlying NumPy array`` of the DataFrame or Series. This means that **``amin``** can be ``more efficient`` when working with ``large datasets``. \n",
    "\n",
    "<p style=\"background-color:#FFFFFF; font-family:newtimeroman; color:#0000FF; font-size:110%; text-align:left;\"><strong>-----------------------------------------------------------------------------------------------------------------------------------------------------------------------------------------------</strong></p>\n",
    "\n",
    "<p style=\"background-color:#FFFFFF; font-family:newtimeroman; color:#0000FF; font-size:125%; text-align:left;\"><strong>Multiple aggregate functions to all numeric columns in different format:</strong></p>\n",
    "\n",
    "**The following command groups the DataFrame by the ``\"groups\"`` column and applies ``three (3) aggregation functions``: the ``minimum()``, ``median()``, and ``maximum()``. This allows you to compute these statistics for each numeric column (``\"var1\"`` and ``\"var2\"``) within each group.**"
   ]
  },
  {
   "cell_type": "code",
   "execution_count": null,
   "metadata": {
    "id": "DuDH2AmiQhl1",
    "outputId": "3216ecd4-abeb-43ae-8966-bbc3591fc5f1"
   },
   "outputs": [],
   "source": [
    "# Group by 'groups' and calculate min, median, and max for numeric columns\n",
    "\n",
    "df2.groupby('groups').agg([np.min, \"median\", max])"
   ]
  },
  {
   "cell_type": "markdown",
   "metadata": {},
   "source": [
    "\n",
    "- **``df2.groupby('groups')``**: This groups the DataFrame by the groups column, separating the data into groups ``'A'``, ``'B'``, and ``'C'``.\n",
    "- **``.agg([np.min, \"median\", max])``**: This applies the specified aggregation functions:\n",
    "  - **``np.min``**: Computes the minimum value.\n",
    "  - **``\"median\"``**: Computes the median value.\n",
    "  - **``max``**: Computes the maximum value.\n",
    "\n",
    "<p style=\"background-color:#FFFFFF; font-family:newtimeroman; color:#0000FF; font-size:110%; text-align:left;\"><strong>-----------------------------------------------------------------------------------------------------------------------------------------------------------------------------------------------</strong></p>\n",
    "\n",
    "**The following command attempts to apply ``multiple aggregation functions`` to the ``\"var1\"`` column and a ``single aggregation function`` to the ``\"var2\"`` column after grouping the DataFrame by the ``\"groups\"`` column.**\n",
    "- However, the ``syntax for specifying multiple functions`` for a single column in this context is ``NOT correct and recommended``; nevertheless, it works.**"
   ]
  },
  {
   "cell_type": "code",
   "execution_count": null,
   "metadata": {
    "id": "Og1leRPvQhl1",
    "outputId": "16303967-180a-4a03-cf23-8a1bf357f7e7"
   },
   "outputs": [],
   "source": [
    "# Group by 'groups' and apply multiple aggregations to 'var1' and median to 'var2'\n",
    "\n",
    "df2.groupby('groups').agg({'var1':(min, 'max'), 'var2':'median'})\n",
    "\n",
    "# (CORRECT SYNTAX)\n",
    "# df2.groupby('groups').agg({'var1': [min, max], 'var2': 'median'})"
   ]
  },
  {
   "cell_type": "markdown",
   "metadata": {},
   "source": [
    "- **``var1``**:\n",
    "  - **``min``**: The minimum value of var1 for each group.\n",
    "  - **``max``**: The maximum value of var1 for each group.\n",
    "- **``var2``**:\n",
    "  - **``median``**: The median value of var2 for each group.\n",
    "\n",
    "<p style=\"background-color:#FFFFFF; font-family:newtimeroman; color:#0000FF; font-size:110%; text-align:left;\"><strong>-----------------------------------------------------------------------------------------------------------------------------------------------------------------------------------------------</strong></p>\n",
    "\n",
    "<p style=\"background-color:#FFFFFF; font-family:newtimeroman; color:#0000FF; font-size:125%; text-align:left;\"><strong>Multiple aggregate functions to single numeric column in different format:</strong></p>\n",
    "\n",
    "**The following command groups the DataFrame by the ``\"groups\"`` column and then computes the ``minimum`` and ``maximum`` values for the ``\"var1\"`` column within each group.**\n",
    "- The result will be a DataFrame displaying these statistics for each group."
   ]
  },
  {
   "cell_type": "code",
   "execution_count": null,
   "metadata": {},
   "outputs": [],
   "source": [
    "# Group by 'groups' and apply multiple aggregations (min, max) to 'var1'\n",
    "\n",
    "df2.groupby('groups')[\"var1\"].agg([min, 'max'])"
   ]
  },
  {
   "cell_type": "markdown",
   "metadata": {},
   "source": [
    "- **``df2.groupby('groups')``**: Groups the DataFrame by the groups column, creating separate groups for 'A', 'B', and 'C'.\n",
    "- **``[\"var1\"]``**: Selects the var1 column for aggregation.\n",
    "- **``.agg([min, 'max'])``**: Applies the min and max functions to the selected var1 column.\n",
    "\n",
    "<p style=\"background-color:#FFFFFF; font-family:newtimeroman; color:#0000FF; font-size:110%; text-align:left;\"><strong>-----------------------------------------------------------------------------------------------------------------------------------------------------------------------------------------------</strong></p>\n",
    "\n",
    "**The following command groups the DataFrame by the ``\"groups\"`` column and then computes both the ``minimum`` and ``maximum`` values for the ``\"var1\"`` and ``\"var2\"`` columns within each group.**\n",
    "- The result will be a DataFrame displaying these statistics for each group."
   ]
  },
  {
   "cell_type": "code",
   "execution_count": null,
   "metadata": {},
   "outputs": [],
   "source": [
    "# Group by 'groups' and apply min and max functions to 'var1' and 'var2'\n",
    "\n",
    "df2.groupby('groups')[[\"var1\",\"var2\"]].agg([min, 'max'])"
   ]
  },
  {
   "cell_type": "markdown",
   "metadata": {},
   "source": [
    "- **``df2.groupby('groups')``**: This groups the DataFrame by the groups column, which contains categories ``'A'``, ``'B'``, and ``'C'``.\n",
    "- **``[[\"var1\", \"var2\"]]``**: This selects the ``\"var1\"`` and ``\"var2\"`` columns for aggregation.\n",
    "- **``.agg([min, max])``**: This applies both the ``min()`` and ``max()`` functions to the selected columns.\n",
    "\n",
    "<p style=\"background-color:#FFFFFF; font-family:newtimeroman; color:#0000FF; font-size:110%; text-align:left;\"><strong>-----------------------------------------------------------------------------------------------------------------------------------------------------------------------------------------------</strong></p>\n",
    "\n"
   ]
  },
  {
   "cell_type": "markdown",
   "metadata": {
    "id": "41pA7VmKQhl2"
   },
   "source": [
    "### <p style=\"background-color:#E51A59; font-family:newtimeroman; color:#FFF9ED; font-size:175%; text-align:center; border-radius:10px 10px;\">.filter()</p>\n",
    "\n",
    "<a id=\"3.2\"></a>\n",
    "<a href=\"#toc\" class=\"btn btn-primary btn-sm\" role=\"button\" aria-pressed=\"true\" \n",
    "style=\"color:blue; background-color:#dfa8e4\" data-toggle=\"popover\">Content</a>"
   ]
  },
  {
   "cell_type": "markdown",
   "metadata": {},
   "source": [
    "#### <p style=\"background-color:#E51A59; font-family:newtimeroman; color:#FFF9ED; font-size:150%; text-align:LEFT; border-radius:10px 10px;\">DataFrame.filter()</p>\n",
    "\n",
    "<a id=\"3.2.1\"></a>\n",
    "<a href=\"#toc\" class=\"btn btn-primary btn-sm\" role=\"button\" aria-pressed=\"true\" \n",
    "style=\"color:blue; background-color:#dfa8e4\" data-toggle=\"popover\">Content</a>\n",
    "\n",
    "Pandas **``Dataframe.filter()``** is an inbuilt function that is used to subset columns or rows of DataFrame according to labels in the particular index. The DataFrame **``filter()``** returns subset the DataFrame rows or columns according to the detailed index labels. **One thing to note that** this routine does **NOT** filter a DataFrame on its contents. The filter() function is applied to the labels of the index [Pandas Official Documentation](https://pandas.pydata.org/docs/reference/api/pandas.DataFrame.filter.html)\n",
    "\n",
    "[SOUREC01](https://www.sharpsightlabs.com/blog/pandas-filter/) & [SOURCE02](https://appdividend.com/2020/03/19/pandas-filter-pandas-dataframe-filter-in-python-example/)"
   ]
  },
  {
   "cell_type": "code",
   "execution_count": null,
   "metadata": {
    "id": "hdaXmNQsQhl2",
    "outputId": "e9bd947a-8261-4918-cfbd-9b5d2f784382"
   },
   "outputs": [],
   "source": [
    "# Display the DataFrame\n",
    "\n",
    "df2"
   ]
  },
  {
   "cell_type": "markdown",
   "metadata": {},
   "source": [
    "- **``groups``**: A categorical column with values 'A', 'B', and 'C'.\n",
    "- **``var1``**: A numeric column containing integer values.\n",
    "- **``var2``**: Another numeric column containing integer values.\n",
    "\n",
    "<p style=\"background-color:#FFFFFF; font-family:newtimeroman; color:#0000FF; font-size:110%; text-align:left;\"><strong>-----------------------------------------------------------------------------------------------------------------------------------------------------------------------------------------------</strong></p>\n",
    "\n",
    "**The following command ``selects specific columns`` from the DataFrame.**\n",
    "- This will ``return a new DataFrame`` containing ``only the specified columns``: ``\"groups\"`` and ``\"var1\"``."
   ]
  },
  {
   "cell_type": "code",
   "execution_count": null,
   "metadata": {
    "id": "dqwAguQeQhl2",
    "outputId": "0e4d3d9d-7773-4b84-c93f-e91d3bb30d9e"
   },
   "outputs": [],
   "source": [
    "# Filter the DataFrame to include only 'groups' and 'var1'\n",
    "\n",
    "df2.filter([\"groups\", \"var1\"])\n",
    "\n",
    "# df2[[\"groups\", \"var1\"]]  # gives the same output"
   ]
  },
  {
   "cell_type": "markdown",
   "metadata": {},
   "source": [
    "\n",
    "### <p style=\"background-color:#FFFFFF; font-family:newtimeroman; color:#008000; font-size:100%; text-align:left;\"><strong>📌 DON'T FORGET 🥴: The filter() method in pandas is primarily used for filtering rows or columns based on specific conditions.</strong></p>\n",
    "\n",
    "- **``Understanding filter:``**\n",
    "  - **``Filtering Rows:``**\n",
    "    - You can use filter to select rows based on a condition in the DataFrame's index.\n",
    "  - **``Filtering Columns:``**\n",
    "    - You can use filter to select columns based on their labels or a condition on their labels.\n",
    "\n",
    "<p style=\"background-color:#FFFFFF; font-family:newtimeroman; color:#0000FF; font-size:110%; text-align:left;\"><strong>-----------------------------------------------------------------------------------------------------------------------------------------------------------------------------------------------</strong></p>\n",
    "\n",
    "**The following command ``selects columns`` from the DataFrame that ``match a specific regular expression pattern``.**\n",
    "- In our case, it selects all columns whose names start with ``\"var\"``."
   ]
  },
  {
   "cell_type": "code",
   "execution_count": null,
   "metadata": {
    "id": "AcpIhhl9Qhl2",
    "outputId": "1b5cffc6-61b5-421c-ecf9-101dfa293ac9"
   },
   "outputs": [],
   "source": [
    "# Filter the DataFrame to include only columns that end with 'var1'\n",
    "\n",
    "df2.filter(regex=\"^var\", axis=1)"
   ]
  },
  {
   "cell_type": "markdown",
   "metadata": {},
   "source": [
    "- **``df2``**: Refers to the DataFrame you have created.\n",
    "- **``.filter(regex=\"^var\", axis=1)``**:\n",
    "  - **``regex=\"^var\"``**: This regular expression matches any column name that starts with \"var\". \n",
    "    -  The ``^`` symbol denotes the beggining of the string.\n",
    "  - **``regex=\"ar1$\"``**: This regular expression matches any column name that ends with \"ar1\". \n",
    "    - The ``$`` symbol denotes the end of the string.\n",
    "  - **``axis=1``**: Specifies that the filtering should be applied to columns (as opposed to rows).\n",
    "\n",
    "<p style=\"background-color:#FFFFFF; font-family:newtimeroman; color:#0000FF; font-size:110%; text-align:left;\"><strong>-----------------------------------------------------------------------------------------------------------------------------------------------------------------------------------------------</strong></p>\n",
    "\n",
    "**The following command ``selects columns`` from the DataFrame that ``contain the substring \"var\" in their names``.**\n",
    "- This method is useful for ``filtering columns based on partial matches``."
   ]
  },
  {
   "cell_type": "code",
   "execution_count": null,
   "metadata": {},
   "outputs": [],
   "source": [
    "# The \"like\" parameter enables us to identify items that contain a certain string.\n",
    "\n",
    "# Filter the DataFrame to include only columns that contain 'var'\n",
    "df2.filter(like=\"var\", axis=1)"
   ]
  },
  {
   "cell_type": "markdown",
   "metadata": {},
   "source": [
    "- **``df2``**: Refers to the DataFrame you have created.\n",
    "- **``.filter(like=\"var\", axis=1)``**:\n",
    "  - **``like=\"var\"``**: This specifies that any **``column name``** containing the substring \"var\" should be included.\n",
    "  - **``axis=1``**: Indicates that the filtering should be applied to columns.\n",
    "\n",
    "<p style=\"background-color:#FFFFFF; font-family:newtimeroman; color:#0000FF; font-size:110%; text-align:left;\"><strong>-----------------------------------------------------------------------------------------------------------------------------------------------------------------------------------------------</strong></p>\n",
    "\n",
    "**The following command ``selects rows`` from the DataFrame that ``contain the substring \"1\" in their index labels``.**\n",
    "- This command is useful for ``filtering rows`` based on ``partial matches in the index``."
   ]
  },
  {
   "cell_type": "code",
   "execution_count": null,
   "metadata": {},
   "outputs": [],
   "source": [
    "# Filter the DataFrame to include \"only rows\" with '1' in the index\n",
    "\n",
    "df2.filter(like=\"1\", axis=0)"
   ]
  },
  {
   "cell_type": "markdown",
   "metadata": {},
   "source": [
    "- **``df2``**: Refers to the DataFrame you created earlier.\n",
    "- **``.filter(like=\"1\", axis=0)``**:\n",
    "  - **``like=\"1\"``**: This specifies that any **``row index label``** containing the substring \"1\" should be included.\n",
    "  - **``axis=0``**: Indicates that the filtering should be applied to rows.\n",
    "\n",
    "<p style=\"background-color:#FFFFFF; font-family:newtimeroman; color:#0000FF; font-size:110%; text-align:left;\"><strong>-----------------------------------------------------------------------------------------------------------------------------------------------------------------------------------------------</strong></p>\n",
    "\n"
   ]
  },
  {
   "cell_type": "markdown",
   "metadata": {},
   "source": [
    "#### <p style=\"background-color:#E51A59; font-family:newtimeroman; color:#FFF9ED; font-size:150%; text-align:LEFT; border-radius:10px 10px;\">DataFrame.groupby().filter()</p>\n",
    "\n",
    "<a id=\"3.2.1\"></a>\n",
    "<a href=\"#toc\" class=\"btn btn-primary btn-sm\" role=\"button\" aria-pressed=\"true\" \n",
    "style=\"color:blue; background-color:#dfa8e4\" data-toggle=\"popover\">Content</a>\n",
    "\n",
    "**SYNTAX:** <b>``DataFrameGroupBy.filter(func, dropna=True, *args, **kwargs)``</b>\n",
    "    \n",
    "    \n",
    "- Returns a copy of a DataFrame excluding filtered elements.\n",
    "- Elements from groups are filtered if they do not satisfy the boolean criterion specified by func [Official Pandas Document](https://pandas.pydata.org/docs/reference/api/pandas.core.groupby.DataFrameGroupBy.filter.html)."
   ]
  },
  {
   "cell_type": "code",
   "execution_count": null,
   "metadata": {},
   "outputs": [],
   "source": [
    "# Retrieve unique values from the 'groups' column\n",
    "\n",
    "df2.groups.unique()"
   ]
  },
  {
   "cell_type": "markdown",
   "metadata": {},
   "source": [
    "\n",
    "\n",
    "<p style=\"background-color:#FFFFFF; font-family:newtimeroman; color:#0000FF; font-size:110%; text-align:left;\"><strong>-----------------------------------------------------------------------------------------------------------------------------------------------------------------------------------------------</strong></p>\n",
    "\n",
    "<p style=\"background-color:#FFFFFF; font-family:newtimeroman; color:#0000FF; font-size:125%; text-align:left;\"><strong>Example-1 (User Defined Function-DEF):</strong></p>\n",
    "\n",
    "**The following command is used to ``group the DataFrame`` by the ``\"groups\"`` column and then ``calculate the mean`` of the numeric columns (``\"var1\"`` and ``\"var2\"``) for each group.**\n",
    "- This provides a ``summary of the average values`` for those columns within each category.**"
   ]
  },
  {
   "cell_type": "markdown",
   "metadata": {},
   "source": [
    "**Example-1**"
   ]
  },
  {
   "cell_type": "code",
   "execution_count": null,
   "metadata": {},
   "outputs": [],
   "source": [
    "# Group by 'groups' and calculate the mean for var1 and var2\n",
    "\n",
    "df2.groupby(\"groups\").mean()"
   ]
  },
  {
   "cell_type": "markdown",
   "metadata": {},
   "source": [
    "- **``df2.groupby(\"groups\")``**: Groups the DataFrame by the groups column, resulting in separate groups for 'A', 'B', and 'C'.\n",
    "- **``.mean()``**: Calculates the mean (average) for each numeric column within each group.\n",
    "\n",
    "<p style=\"background-color:#FFFFFF; font-family:newtimeroman; color:#0000FF; font-size:110%; text-align:left;\"><strong>-----------------------------------------------------------------------------------------------------------------------------------------------------------------------------------------------</strong></p>\n",
    "\n",
    "**The following function ``filter_func(x)`` is designed to be used as a filtering function, typically in the context of a group operation.**\n",
    "- It checks ``whether the mean of the ``\"var1\"`` column for a given group exceeds 39``."
   ]
  },
  {
   "cell_type": "code",
   "execution_count": null,
   "metadata": {},
   "outputs": [],
   "source": [
    "# Define a User Defined filter function\n",
    "\n",
    "def filter_func(x):\n",
    "    return x[\"var1\"].mean() > 39"
   ]
  },
  {
   "cell_type": "markdown",
   "metadata": {},
   "source": [
    "- **``x``**: Represents a subset of the DataFrame, typically a group of rows corresponding to a specific category in the groups column.\n",
    "- **``x[\"var1\"].mean()``**: Calculates the mean of the var1 column for that subset.\n",
    "- **``> 39``**: The function returns True if the mean is greater than 39, and False otherwise.\n",
    "\n",
    "<p style=\"background-color:#FFFFFF; font-family:newtimeroman; color:#0000FF; font-size:110%; text-align:left;\"><strong>-----------------------------------------------------------------------------------------------------------------------------------------------------------------------------------------------</strong></p>\n",
    "\n",
    "**The following command filters ``\"groups\"`` column in the DataFrame based on the condition defined in the ``filter_func``. This function checks ``whether the mean of the ``\"var1\"`` column for each group exceeds a specified value (in our case, 39).**"
   ]
  },
  {
   "cell_type": "code",
   "execution_count": null,
   "metadata": {},
   "outputs": [],
   "source": [
    "# Returns the rows that meet the condition, as a DataFrame\n",
    "\n",
    "\n",
    "df2.groupby('groups').filter(filter_func)"
   ]
  },
  {
   "cell_type": "markdown",
   "metadata": {},
   "source": [
    "The result ``retains only those groups`` that ``meet the condition`` defined in filter_func: \n",
    "- **``Group A``**: The mean of ``\"var1\"`` is (10 + 22 + 76) / 3 = ``36``, which is not greater than 39. **``NOT SHOWN``**\n",
    "- **``Group B``**: The mean of ``\"var1\"`` is (23 + 11 + 84) / 3 = ``39.33``, which is greater than 39.\n",
    "- **``Group C``**: The mean of ``\"var1\"`` is (33 + 99 + 45) / 3 = ``59``, which is greater than 39.\n",
    "\n",
    "<p style=\"background-color:#FFFFFF; font-family:newtimeroman; color:#0000FF; font-size:110%; text-align:left;\"><strong>-----------------------------------------------------------------------------------------------------------------------------------------------------------------------------------------------</strong></p>\n",
    "\n",
    "<p style=\"background-color:#FFFFFF; font-family:newtimeroman; color:#0000FF; font-size:125%; text-align:left;\"><strong>Example-2 (Lambda Function):</strong></p>\n",
    "\n",
    "**The following command groups the DataFrame by the ``\"groups\"`` column and calculates the sum for each numeric column (\"``var1\"`` and ``\"var2\"``) within those groups.**\n",
    "- This operation provides a summary of total values for each group."
   ]
  },
  {
   "cell_type": "code",
   "execution_count": null,
   "metadata": {},
   "outputs": [],
   "source": [
    "# Group by 'groups' and calculate the \"sum\" for \"var1\" and \"var2\"\n",
    "\n",
    "df2.groupby(\"groups\").sum()"
   ]
  },
  {
   "cell_type": "markdown",
   "metadata": {},
   "source": [
    "- **``Group A:``**\n",
    "  - **``var1``**: 10+22+76=``108``\n",
    "  - **``var2``**: 100+262+405=``767``\n",
    "- **``Group B:``**\n",
    "  - **``var1``**: 23+11+84=``118``\n",
    "  - **``var2``**: 253+111+578=``942``\n",
    "- **``Group C:``**\n",
    "  - **``var1``**: 33+99+45=``177``\n",
    "  - **``var2``**: 333+969+760=``2062``\n",
    "\n",
    "<p style=\"background-color:#FFFFFF; font-family:newtimeroman; color:#0000FF; font-size:110%; text-align:left;\"><strong>-----------------------------------------------------------------------------------------------------------------------------------------------------------------------------------------------</strong></p>\n",
    "\n",
    "**The following command filters ``\"groups\"`` column in the DataFrame based on the condition that the sum of the ``\"var2\"`` column for each group is less than 800.**\n",
    "- This allows you to retain only those groups that meet this criterion."
   ]
  },
  {
   "cell_type": "code",
   "execution_count": null,
   "metadata": {
    "id": "2a7cL2l9Qhl3",
    "outputId": "f415e9f0-bd34-4e02-b67e-78cfacc3a965"
   },
   "outputs": [],
   "source": [
    "# Filter \"groups\" where the sum of \"var2\" is less than 800\n",
    "\n",
    "df2.groupby('groups').filter(lambda x : x['var2'].sum() < 800)"
   ]
  },
  {
   "cell_type": "markdown",
   "metadata": {},
   "source": [
    "- **``Group A:``**\n",
    "  - **``Sum of var2``**: 100+262+405=767 (``meets the condition``)\n",
    "- **``Group B``**:\n",
    "  - **``Sum of var2``**: 253+111+578=942 (does NOT meet the condition)\n",
    "- **``Group C``**:\n",
    "  - **``Sum of var2``**: 333+969+760=2062 (does NOT meet the condition)\n",
    "\n",
    "<p style=\"background-color:#FFFFFF; font-family:newtimeroman; color:#0000FF; font-size:110%; text-align:left;\"><strong>-----------------------------------------------------------------------------------------------------------------------------------------------------------------------------------------------</strong></p>\n",
    "\n"
   ]
  },
  {
   "cell_type": "markdown",
   "metadata": {
    "id": "HsGwIIY9Qhl3"
   },
   "source": [
    "### <p style=\"background-color:#E51A59; font-family:newtimeroman; color:#FFF9ED; font-size:175%; text-align:center; border-radius:10px 10px;\">.transform()</p>\n",
    "\n",
    "<a id=\"3.3\"></a>\n",
    "<a href=\"#toc\" class=\"btn btn-primary btn-sm\" role=\"button\" aria-pressed=\"true\" \n",
    "style=\"color:blue; background-color:#dfa8e4\" data-toggle=\"popover\">Content</a>"
   ]
  },
  {
   "cell_type": "markdown",
   "metadata": {},
   "source": [
    "#### <p style=\"background-color:#E51A59; font-family:newtimeroman; color:#FFF9ED; font-size:150%; text-align:LEFT; border-radius:10px 10px;\">DataFrame.transform()</p>\n",
    "\n",
    "<a id=\"3.3.1\"></a>\n",
    "<a href=\"#toc\" class=\"btn btn-primary btn-sm\" role=\"button\" aria-pressed=\"true\" \n",
    "style=\"color:blue; background-color:#dfa8e4\" data-toggle=\"popover\">Content</a>\n",
    "\n",
    "**SYNTAX:** <b>``DataFrame.transform(func, axis=0, *args, **kwargs)``</b>\n",
    "\n",
    "- Returns DataFrame\n",
    "- Call func on self producing a DataFrame that must have the same length as self.\n",
    "\n",
    "Python’s Transform function returns a self-produced dataframe with transformed values after applying the function specified in its parameter. This dataframe has the same length as the passed dataframe. **``transform()``** is an operation mostly used in conjunction with groupby (which is one of the most useful operations in pandas). It is a powerful function that you can lean on for **feature engineering** in Python. As the name (feature engineering) suggests, it enables us to extract new features from existing ones. Let’s understand the importance of the transform function with the help of an example. \n",
    "\n",
    "[SOUREC01](https://pandas.pydata.org/docs/reference/api/pandas.DataFrame.transform.html) & [SOURCE02](https://www.analyticsvidhya.com/blog/2020/03/understanding-transform-function-python/)\n",
    "\n",
    "<p style=\"background-color:#FFFFFF; font-family:newtimeroman; color:#0000FF; font-size:110%; text-align:left;\"><strong>-----------------------------------------------------------------------------------------------------------------------------------------------------------------------------------------------</strong></p>\n",
    "\n",
    "\n",
    "**The following command ``selects specific columns`` from the DataFrame using ``integer-based indexing``. This will create a new DataFrame ``df_num`` containing only the columns located at ``index positions`` ``1`` and ``2``.**"
   ]
  },
  {
   "cell_type": "code",
   "execution_count": null,
   "metadata": {},
   "outputs": [],
   "source": [
    "# Select columns using iloc and assign it to an object named \"df_num\"\n",
    "df_num = df2.iloc[:, 1:3]\n",
    "\n",
    "# Display the selected rows\n",
    "df_num"
   ]
  },
  {
   "cell_type": "markdown",
   "metadata": {},
   "source": [
    "- **``df2``**: Refers to the original DataFrame.\n",
    "- **``iloc``**: This is used for integer-location based indexing.\n",
    "- **``[:, 1:3]``**:\n",
    "  - **``The colon (:)``** indicates that we want all rows.\n",
    "  - **``1:3``** specifies the columns to select: column index 1 (inclusive) to column index 3 (exclusive). This means columns 1 and 2 will be selected.\n",
    "\n",
    "<p style=\"background-color:#FFFFFF; font-family:newtimeroman; color:#0000FF; font-size:110%; text-align:left;\"><strong>-----------------------------------------------------------------------------------------------------------------------------------------------------------------------------------------------</strong></p>\n",
    "\n",
    "**The command ``applies a transformation`` to the DataFrame df_num, ``where each element in df_num is increased by 10``. This is done using the transform method, which allows you to apply a function to each column (or row) of the DataFrame.**"
   ]
  },
  {
   "cell_type": "code",
   "execution_count": null,
   "metadata": {},
   "outputs": [],
   "source": [
    "# Apply the transformation\n",
    "df_num.transform(lambda x : x+10)\n",
    "\n",
    "# df_num+10  # gives the same result"
   ]
  },
  {
   "cell_type": "markdown",
   "metadata": {},
   "source": [
    "- **``df_num``**: Refers to the DataFrame containing the selected columns (e.g., var1 and var2).\n",
    "- **``.transform(lambda x: x + 10)``**:\n",
    "  - This applies a lambda function to each column in df_num.\n",
    "  - The lambda function takes each element x and adds 10 to it.\n",
    "\n",
    "<p style=\"background-color:#FFFFFF; font-family:newtimeroman; color:#0000FF; font-size:110%; text-align:left;\"><strong>-----------------------------------------------------------------------------------------------------------------------------------------------------------------------------------------------</strong></p>\n",
    "\n",
    "<p style=\"background-color:#FFFFFF; font-family:newtimeroman; color:#008000; font-size:120%; text-align:left;\"><strong>📌📢 Rather than simple calculations, we should use transform() method for more sophisticated/complicated ones in feature engineering:</strong></p>\n",
    "\n",
    "<p style=\"background-color:#FFFFFF; font-family:newtimeroman; color:#0000FF; font-size:125%; text-align:left;\"><strong>Transformation to all columns in the DataFrame:</strong></p>\n",
    "\n",
    "**The following command ``standardizes the columns`` in the DataFrame df_num.**\n",
    "- This process transforms each column to have a mean of 0 and a standard deviation of 1, which is commonly referred to as z-score normalization.**\n",
    "  - score is is z = (x-μ)/σ, where x is the raw score, μ is the population mean, and σ is the population standard deviation."
   ]
  },
  {
   "cell_type": "code",
   "execution_count": null,
   "metadata": {},
   "outputs": [],
   "source": [
    "# Apply the transformation for standardization\n",
    "\n",
    "df_num.transform(lambda x: (x-x.mean()) / x.std())\n",
    "\n",
    "# This is the dataframe we get after applying Transform function:"
   ]
  },
  {
   "cell_type": "markdown",
   "metadata": {},
   "source": [
    "- **``df_num``**: Refers to the DataFrame containing the selected numeric columns (e.g., var1 and var2).\n",
    "- **``.transform(lambda x: (x - x.mean()) / x.std())``**:\n",
    "  - **``x - x.mean()``**: Subtracts the mean of the column from ``each element in that column``.\n",
    "  - **``/ x.std()``**: Divides the result by the standard deviation of the column.\n",
    "\n",
    "<p style=\"background-color:#FFFFFF; font-family:newtimeroman; color:#0000FF; font-size:110%; text-align:left;\"><strong>-----------------------------------------------------------------------------------------------------------------------------------------------------------------------------------------------</strong></p>\n",
    "\n",
    "**The following command ``standardizes`` the ``\"var1\"`` column of the DataFrame df_num.**\n",
    "- This transformation scales the values so that they have a mean of 0 and a standard deviation of 1."
   ]
  },
  {
   "cell_type": "code",
   "execution_count": null,
   "metadata": {
    "id": "OjiH7WEY97ST",
    "outputId": "1cd07dd3-3813-4453-b8ce-1a80aca2c14b"
   },
   "outputs": [],
   "source": [
    "# Apply lambda function to the \"var1\" column via transfom() method\n",
    "\n",
    "df_num[\"var1\"].transform(lambda x: (x-x.mean()) / x.std())"
   ]
  },
  {
   "cell_type": "markdown",
   "metadata": {},
   "source": [
    "- **``df_num.var1``**: Refers specifically to the var1 column in the df_num DataFrame.\n",
    "- **``.transform(lambda x: (x - x.mean()) / x.std())``**:\n",
    "  - **``x - x.mean()``**: Subtracts the mean of the ``\"var1\"`` column from each value in that column.\n",
    "  - **``/ x.std()``**: Divides the result by the standard deviation of the ``\"var1\"`` column.\n",
    "\n",
    "<p style=\"background-color:#FFFFFF; font-family:newtimeroman; color:#0000FF; font-size:110%; text-align:left;\"><strong>-----------------------------------------------------------------------------------------------------------------------------------------------------------------------------------------------</strong></p>\n",
    "\n",
    "**The following command ``applies the square root transformation to each value`` in the ``\"var1\"`` column of the DataFrame df_num.**\n",
    "- This transformation is useful for reducing skewness in data, especially when dealing with non-negative values."
   ]
  },
  {
   "cell_type": "code",
   "execution_count": null,
   "metadata": {},
   "outputs": [],
   "source": [
    "# Apply square root transformation to the \"var1\" column via a single Numpy method\n",
    "df_num[\"var1\"].transform(np.sqrt)\n",
    "\n",
    "# np.sqrt(df_num.var1)      # gives the same result\n",
    "# df_num.var1.agg(np.sqrt)  # gives the same result"
   ]
  },
  {
   "cell_type": "markdown",
   "metadata": {},
   "source": [
    "- **``df_num.var1``**: Refers specifically to the var1 column in the df_num DataFrame.\n",
    "- **``.transform(np.sqrt)``**:\n",
    "  - This applies the square root function from the NumPy library (np.sqrt) to each element in the var1 column.\n",
    "\n",
    "<p style=\"background-color:#FFFFFF; font-family:newtimeroman; color:#0000FF; font-size:110%; text-align:left;\"><strong>-----------------------------------------------------------------------------------------------------------------------------------------------------------------------------------------------</strong></p>\n",
    "\n",
    "<p style=\"background-color:#FFFFFF; font-family:newtimeroman; color:#0000FF; font-size:125%; text-align:left;\"><strong>Multiple transformation to a single column:</strong></p>\n",
    "\n",
    "**The following command applies ``multiple transformations`` to the ``\"var1\"`` column of the DataFrame df_num.**\n",
    "- In our case, it applies both the square root and the exponential functions to each element in the ``\"var1\"`` column."
   ]
  },
  {
   "cell_type": "code",
   "execution_count": null,
   "metadata": {},
   "outputs": [],
   "source": [
    "# Apply multiple transformations to the var1 column via multiple Numpy methods\n",
    "df_num[\"var1\"].transform([np.sqrt, np.exp])\n",
    "\n",
    "# df_num.var1.agg([np.sqrt, np.exp])  # gives the same result"
   ]
  },
  {
   "cell_type": "markdown",
   "metadata": {},
   "source": [
    "As seen above, transform comes in handy during feature extraction. As the name suggests, it enables us to extract new features from existing ones.\n",
    "\n",
    "\n",
    "- **``df_num.var1``**: Refers specifically to the var1 column in the df_num DataFrame.\n",
    "- **``.transform([np.sqrt, np.exp])``**:\n",
    "  - This applies both the square root function (np.sqrt) and the exponential function (np.exp) to the var1 column.\n",
    "  - The result will have a MultiIndex, with the first level indicating the transformation applied.\n",
    "\n",
    "<p style=\"background-color:#FFFFFF; font-family:newtimeroman; color:#0000FF; font-size:110%; text-align:left;\"><strong>-----------------------------------------------------------------------------------------------------------------------------------------------------------------------------------------------</strong></p>\n",
    "\n"
   ]
  },
  {
   "cell_type": "markdown",
   "metadata": {},
   "source": [
    "#### <p style=\"background-color:#E51A59; font-family:newtimeroman; color:#FFF9ED; font-size:150%; text-align:LEFT; border-radius:10px 10px;\">DataFrame.groupby().transform()</p>\n",
    "\n",
    "<a id=\"3.3.1\"></a>\n",
    "<a href=\"#toc\" class=\"btn btn-primary btn-sm\" role=\"button\" aria-pressed=\"true\" \n",
    "style=\"color:blue; background-color:#dfa8e4\" data-toggle=\"popover\">Content</a>\n",
    "\n",
    "**SYNTAX:** <b>``DataFrameGroupBy.transform(func, *args, engine=None, engine_kwargs=None, **kwargs)``</b>\n",
    "\n",
    "- Call function producing a like-indexed DataFrame on each group and return a DataFrame having the same indexes as the original object filled with the transformed values. [Official Pandas Document](https://pandas.pydata.org/docs/reference/api/pandas.core.groupby.DataFrameGroupBy.transform.html)."
   ]
  },
  {
   "cell_type": "code",
   "execution_count": null,
   "metadata": {},
   "outputs": [],
   "source": [
    "# Let's remember our DataFrame\n",
    "\n",
    "df2"
   ]
  },
  {
   "cell_type": "markdown",
   "metadata": {},
   "source": [
    "\n",
    "\n",
    "<p style=\"background-color:#FFFFFF; font-family:newtimeroman; color:#0000FF; font-size:110%; text-align:left;\"><strong>-----------------------------------------------------------------------------------------------------------------------------------------------------------------------------------------------</strong></p>\n",
    "\n",
    "**The following command calculates the mean (average) of the ``\"var1\"`` column for ``each group`` in the ``\"groups\"`` column of the DataFrame.**\n",
    "- This operation groups the data by unique values in the groups column and computes the mean for the corresponding ``\"var1\"`` values."
   ]
  },
  {
   "cell_type": "code",
   "execution_count": null,
   "metadata": {},
   "outputs": [],
   "source": [
    "# Calculate the mean of \"var1\" for each group\n",
    "\n",
    "df2.groupby(\"groups\")[\"var1\"].mean()"
   ]
  },
  {
   "cell_type": "markdown",
   "metadata": {},
   "source": [
    "- **``Group A``**: The mean of ``\"var1\"`` is (10 + 22 + 76) / 3 = ``36``.\n",
    "- **``Group B``**: The mean of ``\"var1\"`` is (23 + 11 + 84) / 3 = approximately ``39.33``.\n",
    "- **``Group C``**: The mean of ``\"var1\"`` is (33 + 99 + 45) / 3 = ``59``.\n",
    "\n",
    "<p style=\"background-color:#FFFFFF; font-family:newtimeroman; color:#0000FF; font-size:110%; text-align:left;\"><strong>-----------------------------------------------------------------------------------------------------------------------------------------------------------------------------------------------</strong></p>\n",
    "\n",
    "**The following command ``calculates the mean`` of the ``\"var1\"`` column for ``each group`` defined in the ``\"groups\"`` column of the DataFrame.** \n",
    "- It then returns a Series where each entry corresponds to the mean of its respective group, maintaining the original DataFrame's index.**\n",
    "\n",
    "#### <p style=\"background-color:#FFFFFF; font-family:newtimeroman; color:#FF0000; font-size:125%; text-align:left;\"><strong>📌💡🤔💭 Focus on the length of the results and compare the following with the one above❗❗❗</strong></p>"
   ]
  },
  {
   "cell_type": "code",
   "execution_count": null,
   "metadata": {},
   "outputs": [],
   "source": [
    "# Apply transform() method to calculate the mean of \"var1\" for each group\n",
    "\n",
    "df2.groupby(\"groups\")[\"var1\"].transform(\"mean\")"
   ]
  },
  {
   "cell_type": "markdown",
   "metadata": {},
   "source": [
    "The two commands serve similar purposes but produce different outputs.\n",
    "- **``1st Output``**: Returns a Series where the index consists of the unique groups, and the values are the mean of ``\"var1\"`` for each group.\n",
    "  - Useful for summarizing data and obtaining a quick overview of the means for each group.\n",
    "  - Best when you are interested in aggregating information and do not need to maintain the original DataFrame's structure.\n",
    "- **``2nd Output``**: Rreturns a Series of the ``same length as the original DataFrame``, where each entry in the Series is replaced by the mean of its corresponding group.\n",
    "  - Useful when you want to perform further calculations or comparisons that require the original DataFrame's shape.\n",
    "  - The transform method can be less efficient for very large DataFrames because it computes the mean for each group and then broadcasts it back to match the original DataFrame's index.\n",
    "\n",
    "<hr>\n",
    "\n",
    "- **``Group A``**: The mean of var1 for group A is 36.0 (calculated from 10, 22, 76).\n",
    "- **``Group B``**: The mean for group B is approximately 39.33 (calculated from 23, 11, 84).\n",
    "- **``Group C``**: The mean for group C is 59.0 (calculated from 33, 99, 45).\n",
    "\n",
    "<p style=\"background-color:#FFFFFF; font-family:newtimeroman; color:#0000FF; font-size:110%; text-align:left;\"><strong>-----------------------------------------------------------------------------------------------------------------------------------------------------------------------------------------------</strong></p>\n",
    "\n",
    "**The following command ``adds a new column`` to the DataFrame df2 that contains the mean of the ``\"var1\"`` column for each group defined in the groups column.** \n",
    "- Each entry in this new column corresponds to the mean of the group to which that row belongs."
   ]
  },
  {
   "cell_type": "code",
   "execution_count": null,
   "metadata": {},
   "outputs": [],
   "source": [
    "df2.groupby(\"groups\")[\"var1\"].mean()"
   ]
  },
  {
   "cell_type": "code",
   "execution_count": null,
   "metadata": {},
   "outputs": [],
   "source": [
    "# Add a new column with the \"mean\" of \"var1\" for each group\n",
    "df2[\"var1_mean_transform\"] = df2.groupby(\"groups\")[\"var1\"].transform(\"mean\")\n",
    "\n",
    "# Display the modified DataFrame\n",
    "df2"
   ]
  },
  {
   "cell_type": "markdown",
   "metadata": {},
   "source": [
    "By using the command above to create the ``\"var1_mean_transform\"`` column, we provide a way to compare individual ``\"var1\"`` values against their group means.\n",
    "\n",
    "- **``df2.groupby(\"groups\")[\"var1\"]``**: This groups the DataFrame by the groups column and selects the ``\"var1\"`` column.\n",
    "- **``.transform(\"mean\")``**: Calculates the mean for each group and returns a Series where each value is the mean of the group that the corresponding row belongs to.\n",
    "- **``df2[\"var1_mean_transform\"] = ...``**: This assigns the resulting Series to a new column named var1_mean_transform in the original DataFrame.\n",
    "\n",
    "<p style=\"background-color:#FFFFFF; font-family:newtimeroman; color:#0000FF; font-size:110%; text-align:left;\"><strong>-----------------------------------------------------------------------------------------------------------------------------------------------------------------------------------------------</strong></p>\n",
    "\n",
    "**The following code ``adds a new column to the DataFrame`` that contains the median of the ``\"var2\"`` column for each group defined in the groups column.**\n",
    "- Each entry in this new column corresponds to the median of the group to which that row belongs."
   ]
  },
  {
   "cell_type": "code",
   "execution_count": null,
   "metadata": {},
   "outputs": [],
   "source": [
    "df2.groupby(\"groups\")[\"var2\"].median()"
   ]
  },
  {
   "cell_type": "code",
   "execution_count": null,
   "metadata": {},
   "outputs": [],
   "source": [
    "# Add a new column with the \"median\" of \"var2\" for each group\n",
    "df2[\"var2_median_transform\"] = df2.groupby(\"groups\")[\"var2\"].transform(\"median\")\n",
    "\n",
    "# Display the modified DataFrame\n",
    "df2"
   ]
  },
  {
   "cell_type": "markdown",
   "metadata": {},
   "source": [
    "By using the command above to create the ``\"var2_median_transform\"`` column, we provide a way to compare individual ``\"var2\"`` values against their group medians,\n",
    "- **``df2.groupby(\"groups\")``**: This groups the DataFrame by the unique values in the groups column.\n",
    "- **``[\"var2\"].transform(\"median\")``**: This selects the ``\"var2\"`` column and calculates the median for each group. The transform method ensures that the result maintains the same index as the original DataFrame, so each entry corresponds to the median of its respective group.\n",
    "- **``df2[\"var2_median_transform\"] = ...``**: This assigns the resulting Series to a new column named var2_median_transform in the original DataFrame.\n",
    "<hr>\n",
    "\n",
    "- **``For Group A``**: The median of var2 is ``262.0`` (the middle value of 100, 262, and 405).\n",
    "- **``For Group B``**: The median of var2 is ``253.0`` (the middle value of 111, 253, and 578).\n",
    "- **``For Group C``**: The median of var2 is ``333.0`` (the middle value of 333, 969, and 760).\n",
    "\n",
    "<p style=\"background-color:#FFFFFF; font-family:newtimeroman; color:#0000FF; font-size:110%; text-align:left;\"><strong>-----------------------------------------------------------------------------------------------------------------------------------------------------------------------------------------------</strong></p>\n",
    "\n"
   ]
  },
  {
   "cell_type": "markdown",
   "metadata": {},
   "source": [
    "### <p style=\"background-color:#E51A59; font-family:newtimeroman; color:#FFF9ED; font-size:175%; text-align:center; border-radius:10px 10px;\">.apply()</p>\n",
    "\n",
    "<a id=\"3.4\"></a>\n",
    "<a href=\"#toc\" class=\"btn btn-primary btn-sm\" role=\"button\" aria-pressed=\"true\" \n",
    "style=\"color:blue; background-color:#dfa8e4\" data-toggle=\"popover\">Content</a>\n",
    "\n",
    "One alternative to using a loop to iterate over a DataFrame is to use the pandas **``.apply()``** method. This function acts as a **``map()``** function in Python. It takes a function as an input and applies this function to an entire DataFrame. **apply()** is used to apply a function along an axis of the DataFrame or on values of Series. In other words, ``Pandas.apply()``** allow the users to pass a function and apply it on **every single value** of the Pandas series. This function does **NOT** make changes to the original DataFrame object.\n",
    "\n",
    "[SOUREC01](https://www.geeksforgeeks.org/python-pandas-apply/), [SOURCE02](https://www.datacamp.com/community/tutorials/pandas-apply) & [SOURCE03](https://sparkbyexamples.com/pandas/pandas-apply-function-usage-examples/)"
   ]
  },
  {
   "cell_type": "markdown",
   "metadata": {},
   "source": [
    "#### <p style=\"background-color:#E51A59; font-family:newtimeroman; color:#FFF9ED; font-size:150%; text-align:LEFT; border-radius:10px 10px;\">Series.apply() - df[\"col\"].apply()</p>\n",
    "\n",
    "<a id=\"3.4.1\"></a>\n",
    "<a href=\"#toc\" class=\"btn btn-primary btn-sm\" role=\"button\" aria-pressed=\"true\" \n",
    "style=\"color:blue; background-color:#dfa8e4\" data-toggle=\"popover\">Content</a>\n",
    "\n",
    "**SYNTAX:** <b>``Series.apply(func, convert_dtype=True, args=(), **kwargs)``</b>\n",
    "\n",
    "- Invoke function on values of Series.\n",
    "- Can be ufunc (a NumPy function that applies to the entire Series) or a Python function that only works on single values.. [Official Pandas Document](https://pandas.pydata.org/pandas-docs/version/0.25.0/reference/api/pandas.Series.apply.html)."
   ]
  },
  {
   "cell_type": "code",
   "execution_count": null,
   "metadata": {},
   "outputs": [],
   "source": [
    "# Create a new DataFrame\n",
    "df3 = pd.DataFrame({'col1':[1, 2, 3, 4],\n",
    "                    'col2':[444, 555, 666, 444],\n",
    "                    'col3':['abc', 'def', 'ghi', 'xyz']})\n",
    "\n",
    "# Display the DataFrame\n",
    "df3"
   ]
  },
  {
   "cell_type": "markdown",
   "metadata": {},
   "source": [
    "- **``col1``**: Contains integer values from 1 to 4.\n",
    "- **``col2``**: Contains integer values including duplicates: 444, 555, 666, and another 444.\n",
    "- **``col3``**: Contains string values: 'abc', 'def', 'ghi', and 'xyz'.\n",
    "\n",
    "<p style=\"background-color:#FFFFFF; font-family:newtimeroman; color:#0000FF; font-size:110%; text-align:left;\"><strong>-----------------------------------------------------------------------------------------------------------------------------------------------------------------------------------------------</strong></p>\n",
    "\n",
    "**The following function takes an input ``x`` and returns its square.**"
   ]
  },
  {
   "cell_type": "code",
   "execution_count": null,
   "metadata": {},
   "outputs": [],
   "source": [
    "# Define a User Defined Function\n",
    "\n",
    "def squared(x):\n",
    "    return x**2"
   ]
  },
  {
   "cell_type": "markdown",
   "metadata": {},
   "source": [
    "\n",
    "\n",
    "<p style=\"background-color:#FFFFFF; font-family:newtimeroman; color:#0000FF; font-size:110%; text-align:left;\"><strong>-----------------------------------------------------------------------------------------------------------------------------------------------------------------------------------------------</strong></p>\n",
    "\n",
    "**The following command applies the ``squared`` function to ``each element`` in the ``\"col1\"`` column of the DataFrame.**\n",
    "- This will compute the square of each value in that column."
   ]
  },
  {
   "cell_type": "code",
   "execution_count": null,
   "metadata": {},
   "outputs": [],
   "source": [
    "# Apply the \"squared\" function to \"col1\"\n",
    "\n",
    "df3['col1'].apply(squared)"
   ]
  },
  {
   "cell_type": "markdown",
   "metadata": {},
   "source": [
    "\n",
    "\n",
    "<p style=\"background-color:#FFFFFF; font-family:newtimeroman; color:#0000FF; font-size:110%; text-align:left;\"><strong>-----------------------------------------------------------------------------------------------------------------------------------------------------------------------------------------------</strong></p>\n",
    "\n",
    "**The following command applies the ``natural logarithm`` function from the NumPy library to ``each element`` in the ``\"col2\"`` column of the DataFrame.**\n",
    "- This will compute the natural logarithm (base e) of each value in that column."
   ]
  },
  {
   "cell_type": "code",
   "execution_count": null,
   "metadata": {},
   "outputs": [],
   "source": [
    "# Apply the \"natural logarithm\" function to \"col2\"\n",
    "\n",
    "df3['col2'].apply(np.log)"
   ]
  },
  {
   "cell_type": "markdown",
   "metadata": {},
   "source": [
    "\n",
    "\n",
    "<p style=\"background-color:#FFFFFF; font-family:newtimeroman; color:#0000FF; font-size:110%; text-align:left;\"><strong>-----------------------------------------------------------------------------------------------------------------------------------------------------------------------------------------------</strong></p>\n",
    "\n",
    "**The following command applies the ``built-in`` ``len()`` function to ``each element`` in the ``\"col3\"`` column of the DataFrame.**\n",
    "- This will compute the length of each string in that column."
   ]
  },
  {
   "cell_type": "code",
   "execution_count": null,
   "metadata": {},
   "outputs": [],
   "source": [
    "# Apply the built-in \"len\" function to \"col3\"\n",
    "\n",
    "df3['col3'].apply(len)"
   ]
  },
  {
   "cell_type": "markdown",
   "metadata": {},
   "source": [
    "\n",
    "\n",
    "<p style=\"background-color:#FFFFFF; font-family:newtimeroman; color:#0000FF; font-size:110%; text-align:left;\"><strong>-----------------------------------------------------------------------------------------------------------------------------------------------------------------------------------------------</strong></p>\n",
    "\n",
    "**The following command applies a ``lambda`` function to ``each element`` in the ``\"col3\"`` column of the DataFrame.**\n",
    "- This specific lambda function multiplies each string in ``col3`` by 3, effectively repeating each string three times."
   ]
  },
  {
   "cell_type": "code",
   "execution_count": null,
   "metadata": {},
   "outputs": [],
   "source": [
    "# Apply the \"lambda\" function to \"col3\"\n",
    "\n",
    "df3['col3'].apply(lambda x: x * 3)"
   ]
  },
  {
   "cell_type": "markdown",
   "metadata": {},
   "source": [
    "When we apply the lambda function lambda x: x * 3 to the col3 column of the DataFrame df3, we're attempting to multiply each string value by 3. In Python, multiplying a string by an integer results in the string being repeated that number of times.\n",
    "\n",
    "#### <p style=\"background-color:#FFFFFF; font-family:newtimeroman; color:#FF0000; font-size:120%; text-align:left;\"><strong>📌💡🔥 BE CAREFUL while creating a new feature using groupby() and apply() methods together ❗❗❗</strong></p>\n",
    "\n",
    "\n",
    "<p style=\"background-color:#FFFFFF; font-family:newtimeroman; color:#0000FF; font-size:110%; text-align:left;\"><strong>-----------------------------------------------------------------------------------------------------------------------------------------------------------------------------------------------</strong></p>\n",
    "\n",
    "<p style=\"background-color:#FFFFFF; font-family:newtimeroman; color:#0000FF; font-size:125%; text-align:left;\"><strong>Feature Engineering by apply() method:</strong></p>\n",
    "\n",
    "**The following command applies a ``lambda`` function to ``each element`` in the ``\"col2\"`` column of the DataFrame.**\n",
    "- This function categorizes each value in ``\"col2\"`` as;\n",
    "  - **``\"high\"``** if it is **``greater than 500``**, and \n",
    "  - **``\"low\"``** **``otherwise``**."
   ]
  },
  {
   "cell_type": "code",
   "execution_count": null,
   "metadata": {},
   "outputs": [],
   "source": [
    "# Apply the \"lambda\" function to \"col2\"\n",
    "\n",
    "df3['col2'].apply(lambda x: \"high\" if x > 500 else \"low\")"
   ]
  },
  {
   "cell_type": "markdown",
   "metadata": {},
   "source": [
    "- **``col2_category``**: This new column contains categorical values based on the condition applied:\n",
    "  - Values in ``\"col2\"`` that are ``less than or equal to 500`` are labeled as ``\"low\"``.\n",
    "  - Values ``greater than 500`` are labeled as ``\"high\"``.\n",
    "\n",
    "<p style=\"background-color:#FFFFFF; font-family:newtimeroman; color:#0000FF; font-size:110%; text-align:left;\"><strong>-----------------------------------------------------------------------------------------------------------------------------------------------------------------------------------------------</strong></p>\n",
    "\n"
   ]
  },
  {
   "cell_type": "markdown",
   "metadata": {},
   "source": [
    "#### <p style=\"background-color:#E51A59; font-family:newtimeroman; color:#FFF9ED; font-size:150%; text-align:LEFT; border-radius:10px 10px;\">DataFrame.apply()</p>\n",
    "\n",
    "<a id=\"3.4.2\"></a>\n",
    "<a href=\"#toc\" class=\"btn btn-primary btn-sm\" role=\"button\" aria-pressed=\"true\" \n",
    "style=\"color:blue; background-color:#dfa8e4\" data-toggle=\"popover\">Content</a>\n",
    "\n",
    "**SYNTAX:** <b>``DataFrame.apply(func, axis=0, raw=False, result_type=None, args=(), **kwargs)``</b>\n",
    "- Returns Series or DataFrame\n",
    "- Result of applying function along the given axis of the DataFrame. [Official Pandas Document](https://pandas.pydata.org/docs/reference/api/pandas.DataFrame.apply.html)."
   ]
  },
  {
   "cell_type": "code",
   "execution_count": null,
   "metadata": {},
   "outputs": [],
   "source": [
    "# Display the DataFrame\n",
    "\n",
    "df2"
   ]
  },
  {
   "cell_type": "markdown",
   "metadata": {},
   "source": [
    "\n",
    "\n",
    "<p style=\"background-color:#FFFFFF; font-family:newtimeroman; color:#0000FF; font-size:110%; text-align:left;\"><strong>-----------------------------------------------------------------------------------------------------------------------------------------------------------------------------------------------</strong></p>\n",
    "\n",
    "**The following code removes specific columns from the DataFrame.** "
   ]
  },
  {
   "cell_type": "code",
   "execution_count": null,
   "metadata": {},
   "outputs": [],
   "source": [
    "# Drop the specified columns\n",
    "df2.drop([\"var1_mean_transform\", \"var2_median_transform\"], axis=1, inplace=True)\n",
    "\n",
    "# Display the modified DataFrame\n",
    "df2"
   ]
  },
  {
   "cell_type": "markdown",
   "metadata": {},
   "source": [
    "- **``df2.drop(...)``**: This is the method used to drop specified labels from a DataFrame.\n",
    "- **``[\"var1_mean_transform\", \"var2_median_transform\"]``**: This list specifies the columns we want to drop from the DataFrame. In our case, it includes:\n",
    "  - var1_mean_transform\n",
    "  - var2_median_transform\n",
    "- **``axis=1``**: This argument specifies that we want to drop columns (as opposed to rows, which would be axis=0).\n",
    "- **``inplace=True``**: This argument modifies the original DataFrame directly, meaning that df2 will be updated without needing to assign the result to a new variable.\n",
    "\n",
    "<p style=\"background-color:#FFFFFF; font-family:newtimeroman; color:#0000FF; font-size:110%; text-align:left;\"><strong>-----------------------------------------------------------------------------------------------------------------------------------------------------------------------------------------------</strong></p>\n",
    "\n",
    "**The following command applies the ``np.sum`` function from the NumPy library to ``each column`` of the DataFrame.**\n",
    "- This will calculate the sum of each column, returning a Series with the sum of each column's values."
   ]
  },
  {
   "cell_type": "code",
   "execution_count": null,
   "metadata": {},
   "outputs": [],
   "source": [
    "# sum() functions works with putting + sign between each element of an iterable object\n",
    "\n",
    "# Apply np.sum to calculate the sum of each column\n",
    "df2.apply(np.sum)"
   ]
  },
  {
   "cell_type": "markdown",
   "metadata": {},
   "source": [
    "- **``groups``**: The values are concatenated because ``np.sum`` operates on ``strings`` by ``concatenation``.\n",
    "- **``var1``**: The sum of the values in var1 is 10+23+33+22+11+99=``198``.\n",
    "- **``var2``**: The sum of the values in var2 is 100+253+333+262+111+969=``1978``.\n",
    "\n",
    "<p style=\"background-color:#FFFFFF; font-family:newtimeroman; color:#0000FF; font-size:110%; text-align:left;\"><strong>-----------------------------------------------------------------------------------------------------------------------------------------------------------------------------------------------</strong></p>\n",
    "\n"
   ]
  },
  {
   "cell_type": "code",
   "execution_count": null,
   "metadata": {},
   "outputs": [],
   "source": [
    "# It gives an error due to the non-numeric column : \"groups\"\n",
    "\n",
    "# df2.apply(np.sum, axis=1)"
   ]
  },
  {
   "cell_type": "markdown",
   "metadata": {},
   "source": [
    "**🤔💭 Why does it give an error❓**\n",
    "\n",
    "- When we use the command ``df2.apply(np.sum, axis=1)``, it ``attempts to calculate`` the ``sum for each row across all columns`` in the DataFrame. \n",
    " - The error occurs because ``one of the columns``, **``\"groups\"``**, contains **``non-numeric data (strings)``**. The np.sum function expects numeric input to perform the summation, and it **``CANNOT sum string values``**.\n",
    "\n",
    "<p style=\"background-color:#FFFFFF; font-family:newtimeroman; color:#0000FF; font-size:110%; text-align:left;\"><strong>-----------------------------------------------------------------------------------------------------------------------------------------------------------------------------------------------</strong></p>\n",
    "\n",
    "**Let's remember of df named \"df_num\" containing only numerical values:**"
   ]
  },
  {
   "cell_type": "code",
   "execution_count": null,
   "metadata": {},
   "outputs": [],
   "source": [
    "# Display the DataFrame\n",
    "\n",
    "df_num"
   ]
  },
  {
   "cell_type": "markdown",
   "metadata": {},
   "source": [
    "\n",
    "\n",
    "<p style=\"background-color:#FFFFFF; font-family:newtimeroman; color:#0000FF; font-size:110%; text-align:left;\"><strong>-----------------------------------------------------------------------------------------------------------------------------------------------------------------------------------------------</strong></p>\n",
    "\n",
    "**The following command ``computes the sum of each column`` in a DataFrame named, which is expected to contain ``only numeric data``.**\n",
    "- The np.sum function from the NumPy library will be applied to each column, returning a Series with the sum of the values for each column."
   ]
  },
  {
   "cell_type": "code",
   "execution_count": null,
   "metadata": {},
   "outputs": [],
   "source": [
    "# Apply np.sum to calculate the sum of each \"column\", vertically\n",
    "df_num.apply(np.sum)\n",
    "\n",
    "# df_num.sum()  # This will give the same result. So there is no need to use apply() for simple calculations as well."
   ]
  },
  {
   "cell_type": "markdown",
   "metadata": {},
   "source": [
    "- **``var1``**: The sum is 10+23+33+22+11+99+76+84+45=``403``.\n",
    "- **``var2``**: The sum is 100+253+333+262+111+969+405+578+760=``3771``.\n",
    "- **``var3``**: The sum is 5+5+5=``15``.\n",
    "\n",
    "<p style=\"background-color:#FFFFFF; font-family:newtimeroman; color:#0000FF; font-size:110%; text-align:left;\"><strong>-----------------------------------------------------------------------------------------------------------------------------------------------------------------------------------------------</strong></p>\n",
    "\n",
    "**The following command ``calculates the sum of each row across all columns`` in the DataFrame.**"
   ]
  },
  {
   "cell_type": "code",
   "execution_count": null,
   "metadata": {},
   "outputs": [],
   "source": [
    "# Apply np.sum to calculate the sum of each \"row\", horizontally\n",
    "\n",
    "df_num.apply(np.sum, axis=1)\n",
    "\n",
    "# df_num.sum(axis=1)  # This will give the same result. So there is no need to use apply() for simple calculations as well."
   ]
  },
  {
   "cell_type": "markdown",
   "metadata": {},
   "source": [
    "- **``Row 0``**: 10+100=110\n",
    "- **``Row 1``**:23+253=276\n",
    "- **``Row 2``**: 33+333=366\n",
    "and so on\n",
    "\n",
    "<p style=\"background-color:#FFFFFF; font-family:newtimeroman; color:#0000FF; font-size:110%; text-align:left;\"><strong>-----------------------------------------------------------------------------------------------------------------------------------------------------------------------------------------------</strong></p>\n",
    "\n",
    "**The following command applies a ``lambda`` function to ``each element`` in the DataFrame, ``adding 10 to each numeric value`` in the DataFrame.**"
   ]
  },
  {
   "cell_type": "code",
   "execution_count": null,
   "metadata": {},
   "outputs": [],
   "source": [
    "# Apply the \"lambda\" function to \"add 10\" to each element\n",
    "\n",
    "df_num.apply(lambda x : x + 10)"
   ]
  },
  {
   "cell_type": "markdown",
   "metadata": {},
   "source": [
    "- Each value in the original DataFrame has been incremented by 10.\n",
    "  - For example, the original value ``10`` in ``\"var1\"`` becomes ``20``, and ``100`` in ``\"var2\"`` becomes ``110``.\n",
    "\n",
    "<p style=\"background-color:#FFFFFF; font-family:newtimeroman; color:#0000FF; font-size:110%; text-align:left;\"><strong>-----------------------------------------------------------------------------------------------------------------------------------------------------------------------------------------------</strong></p>\n",
    "\n",
    "**The following command calculates the ``mean (average) of numeric columns`` in the DataFrame, ``grouped by the values`` in the ``\"groups\"` column.**\n",
    "- This operation will return a ``new DataFrame`` that shows the mean for each group."
   ]
  },
  {
   "cell_type": "code",
   "execution_count": null,
   "metadata": {
    "scrolled": true
   },
   "outputs": [],
   "source": [
    "\n",
    "df2.groupby(\"groups\").mean()"
   ]
  },
  {
   "cell_type": "markdown",
   "metadata": {},
   "source": [
    "- **``Group A:``**\n",
    "  - **``Mean of var1``**: (10+22+76)/2=``36.0``\n",
    "  - **``Mean of var2``**: (100+262+405)/2=``255.666667``\n",
    "- **``Group B:``**\n",
    "  - **``Mean of var1``**: (23+11+84)/2=``39.333333``\n",
    "  - **``Mean of var2``**: (253+111+578)/2=``314.000000``\n",
    "- **``Group C:``**\n",
    "  - **``Mean of var1``**: (10+99+45)/2=``59.0``\n",
    "  - **``Mean of var2``**: (33+969+760)/2=``687.333333``\n",
    "\n",
    "<p style=\"background-color:#FFFFFF; font-family:newtimeroman; color:#0000FF; font-size:110%; text-align:left;\"><strong>-----------------------------------------------------------------------------------------------------------------------------------------------------------------------------------------------</strong></p>\n",
    "\n",
    "#### <p style=\"background-color:#FFFFFF; font-family:newtimeroman; color:#FF0000; font-size:125%; text-align:left;\"><strong>📌💡🤔💭 WATCH OUT ❗❗❗ Look over what happens in the following example:</strong></p>"
   ]
  },
  {
   "cell_type": "markdown",
   "metadata": {},
   "source": [
    "**The following command groups the DataFrame by the ``\"groups\"`` column and then applies the ``np.mean`` function to each group.**\n",
    "- This operation computes the mean for each numeric column within each group and returns a new DataFrame."
   ]
  },
  {
   "cell_type": "code",
   "execution_count": null,
   "metadata": {
    "scrolled": true
   },
   "outputs": [],
   "source": [
    "# Group by 'groups' and calculate the \"mean\" of 'var1' using np.mean\n",
    "display(df2.groupby('groups').apply(np.mean))\n",
    "\n",
    "display((10+100+22+262+76+405)/6)   # = 145.833334\n",
    "display((23+253+11+111+84+578)/6)   # = 176.666667\n",
    "display((33+333+99+969+45+760)/6)   # = 145.666667"
   ]
  },
  {
   "cell_type": "markdown",
   "metadata": {},
   "source": [
    "<p style=\"background-color:#FFFFFF; font-family:newtimeroman; color:#0000FF; font-size:110%; text-align:left;\"><strong>-----------------------------------------------------------------------------------------------------------------------------------------------------------------------------------------------</strong></p>\n",
    "\n",
    "\n",
    "**The following command groups the DataFrame by the ``\"groups\"`` column and then applies the ``np.mean`` function specifically to the ``\"var1\"`` column within each group.**\n",
    "- This operation returns the ``mean`` of ``\"var1\"`` for ``each group``."
   ]
  },
  {
   "cell_type": "code",
   "execution_count": null,
   "metadata": {},
   "outputs": [],
   "source": [
    "# Group by 'groups' and calculate the \"mean\" of 'var1'\n",
    "\n",
    "df2.groupby('groups')[[\"var1\"]].apply(np.mean)"
   ]
  },
  {
   "cell_type": "markdown",
   "metadata": {},
   "source": [
    "The result allows you to focus specifically on a ``single column`` when calculating group-wise statistics. \n",
    "\n",
    "- **``Group A:``**\n",
    "  - **``Mean of \"var1\"``**: (10+22+76)/2=``36.0``\n",
    "- **``Group B:``**\n",
    "  - **``Mean of \"var1\"``**: (23+11+84)/2=``39.333333``\n",
    "- **``Group C:``**\n",
    "  - **``Mean of \"var1\"``**: (10+99+45)/2=``59.0``\n",
    "  \n",
    "<p style=\"background-color:#FFFFFF; font-family:newtimeroman; color:#0000FF; font-size:110%; text-align:left;\"><strong>-----------------------------------------------------------------------------------------------------------------------------------------------------------------------------------------------</strong></p>\n",
    "\n",
    "<p style=\"background-color:#FFFFFF; font-family:newtimeroman; color:#0000FF; font-size:125%; text-align:left;\"><strong>Let's do it with transform to see/remember the difference in the output:</strong></p>\n",
    "\n",
    "**The command computes the ``mean`` of ``each numeric column`` within ``each group`` defined by the ``\"groups\"`` column, and then broadcasts these mean values back to the original DataFrame structure.**\n",
    "- This means that the resulting DataFrame will have the ``same shape as the original DataFrame``, with each entry in the numeric columns replaced by the mean of its respective group."
   ]
  },
  {
   "cell_type": "code",
   "execution_count": null,
   "metadata": {},
   "outputs": [],
   "source": [
    "# Apply \"transform\" to calculate the \"mean\" for \"each group\"\n",
    "\n",
    "df2.groupby('groups').transform(np.mean)"
   ]
  },
  {
   "cell_type": "markdown",
   "metadata": {},
   "source": [
    "Using ``df2.groupby('groups').transform(np.mean)`` is useful when you want to ``retain the original DataFrame structure`` while ``replacing the values with group-wise statistics``. \n",
    "\n",
    "- **``Group A:``**\n",
    "  - **``Mean of var1``**: (10+22+76)/2=``36.0``\n",
    "  - **``Mean of var2``**: (100+262+405)/2=``255.666667``\n",
    "- **``Group B:``**\n",
    "  - **``Mean of var1``**: (23+11+84)/2=``39.333333``\n",
    "  - **``Mean of var2``**: (253+111+578)/2=``314.000000``\n",
    "- **``Group C:``**\n",
    "  - **``Mean of var1``**: (10+99+45)/2=``59.0``\n",
    "  - **``Mean of var2``**: (33+969+760)/2=``687.333333``\n",
    "    \n",
    "<p style=\"background-color:#FFFFFF; font-family:newtimeroman; color:#0000FF; font-size:110%; text-align:left;\"><strong>-----------------------------------------------------------------------------------------------------------------------------------------------------------------------------------------------</strong></p>\n"
   ]
  },
  {
   "cell_type": "markdown",
   "metadata": {},
   "source": [
    "### <p style=\"background-color:#E51A59; font-family:newtimeroman; color:#FFF9ED; font-size:175%; text-align:center; border-radius:10px 10px;\">DataFrame.applymap()</p>\n",
    "\n",
    "<a id=\"3.5\"></a>\n",
    "<a href=\"#toc\" class=\"btn btn-primary btn-sm\" role=\"button\" aria-pressed=\"true\" \n",
    "style=\"color:blue; background-color:#dfa8e4\" data-toggle=\"popover\">Content</a>\n",
    "\n",
    "**SYNTAX:** <b>``DataFrame.applymap(func, na_action=None, **kwargs)``</b>\n",
    "- Apply a function to a Dataframe elementwise.\n",
    "- This method applies a function that accepts and returns a scalar to every element of a DataFrame. [Official Pandas Document](https://pandas.pydata.org/docs/reference/api/pandas.DataFrame.applymap.html)."
   ]
  },
  {
   "cell_type": "code",
   "execution_count": null,
   "metadata": {},
   "outputs": [],
   "source": [
    "# Let's remember our DataFrame\n",
    "\n",
    "df_num"
   ]
  },
  {
   "cell_type": "markdown",
   "metadata": {},
   "source": [
    "\n",
    "\n",
    "<p style=\"background-color:#FFFFFF; font-family:newtimeroman; color:#0000FF; font-size:110%; text-align:left;\"><strong>-----------------------------------------------------------------------------------------------------------------------------------------------------------------------------------------------</strong></p>\n",
    "\n",
    "**The following command ``applies a function`` to ``each element`` in the DataFrame, ``multiplying each numeric value`` by ``5``.**\n",
    "- The ``applymap()`` method is specifically designed for ``element-wise operations`` on a DataFrame."
   ]
  },
  {
   "cell_type": "code",
   "execution_count": null,
   "metadata": {},
   "outputs": [],
   "source": [
    "# Apply the \"lambda\" function to multiply each element by 5\n",
    "df_num.applymap(lambda x: x*5)\n",
    "\n",
    "# df_num.apply(lambda x: x*5)  # This will give the same result.\n",
    "# df_num*5                     # This will give the same result."
   ]
  },
  {
   "cell_type": "markdown",
   "metadata": {},
   "source": [
    "- Each value in ``\"var1\"`` and ``\"var2\"`` has been multiplied by 5:\n",
    "  - For example, the original value ``10`` in ``\"var1\"`` becomes ``50``, and ``100`` in ``\"var2\"`` becomes ``\"500\"``.\n",
    "\n",
    "<p style=\"background-color:#FFFFFF; font-family:newtimeroman; color:#0000FF; font-size:110%; text-align:left;\"><strong>-----------------------------------------------------------------------------------------------------------------------------------------------------------------------------------------------</strong></p>\n",
    "\n",
    "#### <p style=\"background-color:#FFFFFF; font-family:newtimeroman; color:#FF0000; font-size:125%; text-align:left;\"><strong>📌💡🤔💭 If both apply() and applymap() functions give the same results, so why do we need them seperately❓  Look over what happens in the following example:</strong></p>\n",
    "\n",
    "\n",
    "**APPLYMAP()**\n",
    "\n",
    "**The following command ``applies a applymap() function`` to ``each element`` in the DataFrame df_num, ``calculating the length of each element`` when converted to a string.**\n",
    "- This method is useful for ``counting the number of characters`` in each entry."
   ]
  },
  {
   "cell_type": "code",
   "execution_count": null,
   "metadata": {},
   "outputs": [],
   "source": [
    "display(df_num)\n",
    "\n",
    "# Apply the \"lambda\" function to calculate the length of \"each element\"\n",
    "df_num.applymap(lambda x: len(str(x)))"
   ]
  },
  {
   "cell_type": "markdown",
   "metadata": {},
   "source": [
    "- **``var1``**: Each numeric value (e.g., 10, 23, etc.) has a length of 2 characters when converted to a string.\n",
    "- **``var2``**: Each numeric value (e.g., 100, 253, etc.) has a length of 3 characters when converted to a string.\n",
    "\n",
    "<p style=\"background-color:#FFFFFF; font-family:newtimeroman; color:#0000FF; font-size:110%; text-align:left;\"><strong>-----------------------------------------------------------------------------------------------------------------------------------------------------------------------------------------------</strong></p>\n",
    "\n",
    "**APPLY()**\n",
    "\n",
    "\n",
    "**The command ``applies a apply function`` along the ``specified axis`` (default is columns) to calculate the length of the string representation of each column in the DataFrame.**\n",
    "\n",
    "- <p style=\"background-color:#FFFFFF; font-family:newtimeroman; color:#FF0000; font-size:125%; text-align:left;\"><strong>📌However, this will NOT calculate the length of individual elements; instead, it will return the length of the entire Series as a whole, which effectively gives you the number of entries in each column.</strong></p>"
   ]
  },
  {
   "cell_type": "code",
   "execution_count": null,
   "metadata": {},
   "outputs": [],
   "source": [
    "# Apply the \"lambda\" function to calculate the length of \"each Series\"\n",
    "\n",
    "df_num.apply(lambda x: len(str(x)))"
   ]
  },
  {
   "cell_type": "markdown",
   "metadata": {},
   "source": [
    "- **applymap()** is only available in DataFrame and used for **``element-wise operation``** across the whole DataFrame. It has been optimized and some cases work **much faster than apply()**\n",
    "\n",
    "\n",
    "Using ``df_num.apply(lambda x: len(str(x)))`` returns the number of entries in each column rather than the length of individual elements. If you want to calculate the length of each individual element, you should use ``applymap()`` instead. \n",
    "\n",
    "- **``var1``**: The Series [10, 23, 33, 22, 11, 99, 76, 84, 45] when converted to a string would look something like;\n",
    "  - **``'0    10\\n1    23\\n2    33\\n3    22\\n4    11\\n5    99\\n6    76\\n7    84\\n8    45\\n'``**, which has a character length of ``96``.\n",
    "- **``var2``**: Similarly, the Series [100, 253, 333, 262, 111, 969, 405, 578, 760] would produce a longer string representation, leading to a length of ``105``.\n",
    "\n",
    "<p style=\"background-color:#FFFFFF; font-family:newtimeroman; color:#0000FF; font-size:110%; text-align:left;\"><strong>-----------------------------------------------------------------------------------------------------------------------------------------------------------------------------------------------</strong></p>\n",
    "\n"
   ]
  },
  {
   "cell_type": "markdown",
   "metadata": {},
   "source": [
    "## Then what is the difference between applymap() & apply() ?\n",
    "\n",
    "\n",
    "- **applymap()** method **``only works on a pandas DataFrame``** where function is **``applied on every element individually``**. \n",
    "- **apply()** method can be applied **``along an axis of both DataFrame``** or **``on values of Series``**; where function can be **``applied both series and individual elements based on the type of function provided``**."
   ]
  },
  {
   "cell_type": "markdown",
   "metadata": {},
   "source": [
    "### <p style=\"background-color:#E51A59; font-family:newtimeroman; color:#FFF9ED; font-size:175%; text-align:center; border-radius:10px 10px;\">Series.map()</p>\n",
    "\n",
    "<a id=\"3.6\"></a>\n",
    "<a href=\"#toc\" class=\"btn btn-primary btn-sm\" role=\"button\" aria-pressed=\"true\" \n",
    "style=\"color:blue; background-color:#dfa8e4\" data-toggle=\"popover\">Content</a>\n",
    "\n",
    "**SYNTAX:** <b>``Series.map(arg, na_action=None)``</b>\n",
    "\n",
    "- Map values of Series according to an input mapping or function.\n",
    "- Used for substituting each value in a Series with another value, that may be derived from a function, a dict or a Series. [Official Pandas Document](https://pandas.pydata.org/docs/reference/api/pandas.Series.map.html).\n",
    "\n",
    "***************************************************************************************************************************\n",
    "\n",
    "- Python's **map()** is a built-in function that allows you to process and transform all the items in an iterable without using an explicit for loop, a technique commonly known as mapping.\n",
    "- **map()** is useful when you need to apply a transformation function to each item in an iterable and transform them into a new iterable [Source](https://realpython.com/python-map-function/#:~:text=Python's%20map()%20is%20a,them%20into%20a%20new%20iterable.).\n",
    "\n",
    "- The **map()** function is used to map values of Series according to input correspondence. Used for substituting each value in a Series with another value, that may be derived from a function, a dict or a Series.\n",
    "- **map()** accepts a dict or a Series. Values that are not found in the dict are converted to NaN, unless the dict has a default value [Source](https://www.w3resource.com/pandas/series/series-map.php)."
   ]
  },
  {
   "cell_type": "code",
   "execution_count": null,
   "metadata": {},
   "outputs": [],
   "source": [
    "# Display the DataFrame\n",
    "\n",
    "df3"
   ]
  },
  {
   "cell_type": "markdown",
   "metadata": {},
   "source": [
    "\n",
    "\n",
    "<p style=\"background-color:#FFFFFF; font-family:newtimeroman; color:#0000FF; font-size:110%; text-align:left;\"><strong>-----------------------------------------------------------------------------------------------------------------------------------------------------------------------------------------------</strong></p>\n",
    "\n",
    "**The following code creates a DataFrame and then uses the ``map()`` function on the ``\"col1\"`` column to replace its values based on a specified mapping dictionary.**"
   ]
  },
  {
   "cell_type": "code",
   "execution_count": null,
   "metadata": {},
   "outputs": [],
   "source": [
    "# Map values in col1\n",
    "\n",
    "df3.col1.map({1:\"A\", 2:\"B\"})"
   ]
  },
  {
   "cell_type": "markdown",
   "metadata": {},
   "source": [
    "#### <p style=\"background-color:#FFFFFF; font-family:newtimeroman; color:#FF0000; font-size:125%; text-align:left;\"><strong>📌💡🤔💭 WATCH OUT ❗❗❗ Values NOT in the mapping dictionary (in this case, 3 and 4) will result in NaN (Not a Number).</strong></p>\n",
    "\n",
    "- ``Index 0``: Original value ``1`` is replaced with ``\"A\"``.\n",
    "- ``Index 1``: Original value ``2`` is replaced with ``\"B\"``.\n",
    "- ``Index 2``: Original value ``3`` is not found in the mapping, so it becomes ``NaN``.\n",
    "- ``Index 3``: Original value ``4`` is also not found in the mapping, so it becomes ``NaN``.\n",
    "\n",
    "<p style=\"background-color:#FFFFFF; font-family:newtimeroman; color:#0000FF; font-size:110%; text-align:left;\"><strong>-----------------------------------------------------------------------------------------------------------------------------------------------------------------------------------------------</strong></p>\n",
    "\n",
    "**The following code ``creates a Pandas Series`` named ``s`` that contains a ``mix of strings`` and a ``missing value (NaN)``.**"
   ]
  },
  {
   "cell_type": "code",
   "execution_count": null,
   "metadata": {},
   "outputs": [],
   "source": [
    "# Create a Series named \"s\"\n",
    "s = pd.Series(['Data Analyst', 'Data Scientist', np.nan, 'DevOps Engineer'])\n",
    "\n",
    "# Display the Series\n",
    "s"
   ]
  },
  {
   "cell_type": "markdown",
   "metadata": {},
   "source": [
    "- **``Index``**: The Series has a default index starting from 0.\n",
    "- **``Values``**: The values include two job titles and one missing value (NaN).\n",
    "- **``Data Type``**: The dtype of the Series is object, which is typical for a Series containing strings and NaN values.\n",
    "\n",
    "<p style=\"background-color:#FFFFFF; font-family:newtimeroman; color:#0000FF; font-size:110%; text-align:left;\"><strong>-----------------------------------------------------------------------------------------------------------------------------------------------------------------------------------------------</strong></p>\n",
    "\n",
    "**The following command applies the format method to each element in the Pandas Series ``s``. This will ``transform each string`` in the Series into a ``new string`` that incorporates the original value into the phrase ``\"I am a {value}\"``.**"
   ]
  },
  {
   "cell_type": "code",
   "execution_count": null,
   "metadata": {},
   "outputs": [],
   "source": [
    "# Use format method with map\n",
    "s.map('I am a {}'.format)\n",
    "\n",
    "# Use f-string format with map\n",
    "# s.map(lambda x: f'I am a {x}')"
   ]
  },
  {
   "cell_type": "markdown",
   "metadata": {},
   "source": [
    "- The ``map()`` function applies the specified function (in this case, the string formatting method) to each element of the Series.\n",
    "- For ``each non-null element``, it substitutes the element into the placeholder {} in the string.\n",
    "- **``Non-null Values``**: Each job title is incorporated into the phrase ``\"I am a {job title}\"``.\n",
    "- **``NaN Handling``**: The ``NaN`` value remains as ``NaN`` in the output, since map will leave missing values unchanged.\n",
    "\n",
    "<p style=\"background-color:#FFFFFF; font-family:newtimeroman; color:#0000FF; font-size:110%; text-align:left;\"><strong>-----------------------------------------------------------------------------------------------------------------------------------------------------------------------------------------------</strong></p>\n",
    "\n",
    "**The following command applies the format method to each element in the Pandas Series ``s``, similar to the previous example.** \n",
    "- However, with the addition of ``na_action='ignore'``, this command will ``skip any NaN values`` during the mapping process."
   ]
  },
  {
   "cell_type": "code",
   "execution_count": null,
   "metadata": {},
   "outputs": [],
   "source": [
    "# Use format method with map and na_action='ignore'\n",
    "s.map('I am a {}'.format, na_action='ignore')\n",
    "\n",
    "# Use f-string format with map and na_action='ignore'\n",
    "# result = s.map(lambda x: f'I am a {x}' if pd.notna(x) else x, na_action='ignore')"
   ]
  },
  {
   "cell_type": "markdown",
   "metadata": {},
   "source": [
    "- **``NaN Handling``**: The **``na_action='ignore'``** parameter tells the function to ``ignore any NaN values``, meaning they will ``remain unchanged in the output`` by preventing the formatting function from being applied to it.\n",
    "<hr>\n",
    "\n",
    "**WRAP UP:**\n",
    "\n",
    "**apply()** is used to apply a function along an axis of the DataFrame or on values of Series.<br> \n",
    "**applymap()** is used to apply a function to a DataFrame elementwise.<br> \n",
    "**map()** is used to substitute each value in a Series with another value.\n",
    "\n",
    "[SOURCE01](https://towardsdatascience.com/introduction-to-pandas-apply-applymap-and-map-5d3e044e93ff#:~:text=apply()%20is%20used%20to,a%20Series%20with%20another%20value.), [SOURCE](https://stackoverflow.com/questions/19798153/difference-between-map-applymap-and-apply-methods-in-pandas)\n",
    "\n",
    "<p style=\"background-color:#FFFFFF; font-family:newtimeroman; color:#0000FF; font-size:110%; text-align:left;\"><strong>-----------------------------------------------------------------------------------------------------------------------------------------------------------------------------------------------</strong></p>\n",
    "\n"
   ]
  },
  {
   "cell_type": "markdown",
   "metadata": {},
   "source": [
    "### <p style=\"background-color:#E51A59; font-family:newtimeroman; color:#FFF9ED; font-size:175%; text-align:center; border-radius:10px 10px;\">.transform() vs .apply()</p>\n",
    "\n",
    "<a id=\"3.7\"></a>\n",
    "<a href=\"#toc\" class=\"btn btn-primary btn-sm\" role=\"button\" aria-pressed=\"true\" \n",
    "style=\"color:blue; background-color:#dfa8e4\" data-toggle=\"popover\">Content</a>\n",
    "\n",
    "### Similarties\n",
    "- Both apply() and transform() can be used to manipulate the **``entire DataFrame``**.\n",
    "- Both apply() and transform() support **``lambda expression``**.\n",
    "- Both apply() and transform() can be used for manipulating a **``single column``**."
   ]
  },
  {
   "cell_type": "code",
   "execution_count": null,
   "metadata": {},
   "outputs": [],
   "source": [
    "# Create the DataFrame\n",
    "df5 = pd.DataFrame({'A': [1,2,3], 'B': [10,20,30] })\n",
    "\n",
    "# Display the DataFrame\n",
    "df5"
   ]
  },
  {
   "cell_type": "markdown",
   "metadata": {},
   "source": [
    "- **``Index``**: The DataFrame has a default integer index starting from 0.\n",
    "- **``Columns``**: It contains two columns:\n",
    "  - **``Column A``**: Contains values 1, 2, and 3.\n",
    "  - **``Column B``**: Contains values 10, 20, and 30.\n",
    "\n",
    "<p style=\"background-color:#FFFFFF; font-family:newtimeroman; color:#0000FF; font-size:110%; text-align:left;\"><strong>-----------------------------------------------------------------------------------------------------------------------------------------------------------------------------------------------</strong></p>\n",
    "\n",
    "**The following command ``applies a lambda function`` to ``each column`` of the DataFrame, ``adding 10 to each element``.** "
   ]
  },
  {
   "cell_type": "code",
   "execution_count": null,
   "metadata": {},
   "outputs": [],
   "source": [
    "display(df5.apply(lambda x: x+10))\n",
    "\n",
    "df5.transform(lambda x: x+10)"
   ]
  },
  {
   "cell_type": "markdown",
   "metadata": {},
   "source": [
    "Using both **``appply()``** and **``transform()``** produces same results in an effective way to perform **``element-wise operations``** on all columns of a DataFrame. \n",
    "- **``Column A:``**\n",
    "  - **``Original values``**: [1, 2, 3]\n",
    "  - **``After adding 10``**: [11, 12, 13]\n",
    "- **``Column B:``**\n",
    "  - **``Original values``**: [10, 20, 30]\n",
    "  - **``After adding 10``**: [20, 30, 40]\n",
    "  \n",
    "- **``Key Difference of transform() from apply():``**\n",
    "  - **``Shape Preservation``**: Unlike apply() method, which can ``potentially change the shape`` of the output depending on the function used, ``transform()`` methhod always returns a DataFrame with the ``same shape as the input DataFrame``.\n",
    "\n",
    "<p style=\"background-color:#FFFFFF; font-family:newtimeroman; color:#0000FF; font-size:110%; text-align:left;\"><strong>-----------------------------------------------------------------------------------------------------------------------------------------------------------------------------------------------</strong></p>\n",
    "\n",
    "**The following code adds ``two (2) new columns`` to the DataFrame:** \n",
    "  - one using the apply() method and \n",
    "  - the other using the transform() method"
   ]
  },
  {
   "cell_type": "code",
   "execution_count": null,
   "metadata": {},
   "outputs": [],
   "source": [
    "# Add a new column to the DataFrame by adding 10 to each element via apply() method.\n",
    "df5['B_apply'] = df5['B'].apply(lambda x: x+10)\n",
    "\n",
    "# Add a new column to the DataFrame by adding 10 to each element via transform() method.\n",
    "df5['B_transform'] = df5['B'].transform(lambda x: x+10)\n",
    "\n",
    "# Display the modified DataFrame\n",
    "df5"
   ]
  },
  {
   "cell_type": "markdown",
   "metadata": {},
   "source": [
    "<p style=\"background-color:#FFFFFF; font-family:newtimeroman; color:#0000FF; font-size:110%; text-align:left;\"><strong>-----------------------------------------------------------------------------------------------------------------------------------------------------------------------------------------------</strong></p>\n",
    "\n",
    "\n",
    "### Differences between .apply() and .transform() when manupulating data\n",
    "- **📌 transform()** CANNOT produce aggregated results.\n",
    "- **📌 apply()** works with ``multiple Series`` at a time. \n",
    "  - But, **transform()** is only allowed to work with a ``single Series`` at a time.\n",
    "\n",
    "\n",
    "**The following code modifies the DataFrame to keep only the specified columns, ``A`` and ``B``.**"
   ]
  },
  {
   "cell_type": "code",
   "execution_count": null,
   "metadata": {},
   "outputs": [],
   "source": [
    "# Select specific columns to modify the DataFrame\n",
    "df5 = df5[[\"A\", \"B\"]]\n",
    "\n",
    "# Display the modified DataFrame\n",
    "df5"
   ]
  },
  {
   "cell_type": "markdown",
   "metadata": {},
   "source": [
    "\n",
    "\n",
    "<p style=\"background-color:#FFFFFF; font-family:newtimeroman; color:#0000FF; font-size:110%; text-align:left;\"><strong>-----------------------------------------------------------------------------------------------------------------------------------------------------------------------------------------------</strong></p>\n",
    "\n",
    "**The following command applies a function to each column of the DataFrame that **``calculates the sum of the values``** in that column.**"
   ]
  },
  {
   "cell_type": "code",
   "execution_count": null,
   "metadata": {},
   "outputs": [],
   "source": [
    "# (1) transform() CANNOT produce aggregated results.\n",
    "\n",
    "df5.apply(lambda x: x.sum())\n",
    "\n",
    "# df5.transform(lambda x: x.sum()) # gives an error of \"ValueError: Function did not transform\""
   ]
  },
  {
   "cell_type": "markdown",
   "metadata": {},
   "source": [
    "The result is a Series where the **``index``** corresponds to the ``column names`` and the **``values``** are the ``sums of the respective columns``.\n",
    "- **``Column A``**: The sum is calculated as 1 + 2 + 3 = 6.\n",
    "- **``Column B``**: The sum is calculated as 10 + 20 + 30 = 60.\n",
    "\n",
    "<hr>\n",
    "\n",
    "#### <p style=\"background-color:#FFFFFF; font-family:newtimeroman; color:#FF0000; font-size:125%; text-align:left;\"><strong>🤔💭 WATCH OUT ❗❗❗ Why the transform() method gives an error in such a case❓ </strong></p>\n",
    "\n",
    "\n",
    "- Using **``transform()``** produces an **``error``** because the transform method is **``designed to return a DataFrame or Series that has the same shape as the original input``**. When you apply a function like **``sum()``** that **``reduces the size of the input``** (e.g., collapsing multiple values into a single sum), it **``causes a shape mismatch``**.\n",
    "\n",
    "- **Key Differences Between ``apply`` and ``transform``:**\n",
    "  - **``apply:``**\n",
    "    - Can return a Series or DataFrame of ``different shapes``.\n",
    "      - For example, df5.apply(lambda x: x.sum()) returns a Series with the sums of each column.\n",
    "  - **``transform:``**\n",
    "    - Requires the output to have the ``same shape as the input``.\n",
    "    - If you try to apply a function that reduces the data (like summing), it will NOT work because it doesn't return the same number of entries.\n",
    "\n",
    "\n",
    "<p style=\"background-color:#FFFFFF; font-family:newtimeroman; color:#0000FF; font-size:110%; text-align:left;\"><strong>-----------------------------------------------------------------------------------------------------------------------------------------------------------------------------------------------</strong></p>\n",
    "\n",
    "**The following command computes the ``difference`` between the ``values in column \"B\"`` and ``column \"A\"`` for ``each row`` of the DataFrame.**"
   ]
  },
  {
   "cell_type": "code",
   "execution_count": null,
   "metadata": {},
   "outputs": [],
   "source": [
    "# (2) apply() works with multiple Series at a time. But, transform() is only allowed to work with a single Series at a time\n",
    "\n",
    "df5.apply(lambda x: x[\"B\"]-x[\"A\"], axis=1)\n",
    "\n",
    "# df5.transform(lambda x: x[\"B\"]-x[\"A\"], axis=1) # gives an error"
   ]
  },
  {
   "cell_type": "markdown",
   "metadata": {},
   "source": [
    "- The apply method is called on the DataFrame df5.\n",
    "- The ``lambda function`` is executed for each row of the DataFrame, where ``x`` represents ``a Series`` corresponding to that row.\n",
    "- The **``axis=1``** argument indicates that the function should be applied ``across rows`` (i.e., for each row).\n",
    "<hr>\n",
    "\n",
    "The **``transform()``** produces an **``error``** because the transform() method is ``NOT designed`` to operate with ``row-wise operations`` (i.e., when axis=1) that require access to multiple columns. Here's a detailed explanation:\n",
    "\n",
    "- **``Key Points:``**\n",
    "  - **``Transform Method Behavior:``**\n",
    "    - The transform method is intended for operations that return a Series or DataFrame of the same shape as the input.\n",
    "    - It operates on each column independently when axis=0 (the default), and it cannot access multiple columns when applied row-wise (axis=1).\n",
    "  - **``Error Explanation:``**\n",
    "    - When you try to access multiple columns in a row-wise context using transform, it fails because transform expects the output to align with the input structure.\n",
    "    - As a result, when you attempt to reference x[\"B\"] and x[\"A\"], it leads to a shape mismatch or a key error.\n",
    "<hr>\n",
    "\n",
    "<p style=\"background-color:#FFFFFF; font-family:newtimeroman; color:#0000FF; font-size:125%; text-align:left;\"><strong>WRAP UP: Differences Between .apply() and .transform()</strong></p>\n",
    "\n",
    "- **transform()** returns a DataFrame that has the ``same length as the input``, but **apply()** CANNOT.\n",
    "- **apply()** works with ``multiple Series`` at a time. But, **transform()** is only allowed to work with a ``single Series`` at a time.\n",
    "\n",
    "<p style=\"background-color:#FFFFFF; font-family:newtimeroman; color:#0000FF; font-size:110%; text-align:left;\"><strong>-----------------------------------------------------------------------------------------------------------------------------------------------------------------------------------------------</strong></p>\n",
    "\n"
   ]
  },
  {
   "cell_type": "code",
   "execution_count": null,
   "metadata": {},
   "outputs": [],
   "source": [
    "# Create the DataFrame\n",
    "df6 = pd.DataFrame({'key': ['a', 'b', 'c'] * 3,\n",
    "                    'A': np.arange(9),\n",
    "                    'B': [1, 2, 3] * 3})\n",
    "\n",
    "# Display the DataFrame\n",
    "df6"
   ]
  },
  {
   "cell_type": "markdown",
   "metadata": {},
   "source": [
    "- **``Column key``**: Contains the values [``'a'``, ``'b'``, ``'c'``] repeated three times.\n",
    "- **``Column A``**: Contains a range of numbers from 0 to 8 (inclusive), generated by np.arange(9).\n",
    "- **``Column B``**: Contains the values [``1``, ``2``, ``3``] repeated three times.\n",
    "\n",
    "<p style=\"background-color:#FFFFFF; font-family:newtimeroman; color:#0000FF; font-size:110%; text-align:left;\"><strong>-----------------------------------------------------------------------------------------------------------------------------------------------------------------------------------------------</strong></p>\n",
    "\n",
    "**The following command ``groups the DataFrame`` by the values in the ``\"key\"`` column and then ``calculates the sum`` of the ``\"A\"`` column for ``each group``.**"
   ]
  },
  {
   "cell_type": "code",
   "execution_count": null,
   "metadata": {},
   "outputs": [],
   "source": [
    "# Group by 'key' column and sum the 'A' column\n",
    "\n",
    "df6.groupby('key')['A'].sum()"
   ]
  },
  {
   "cell_type": "markdown",
   "metadata": {},
   "source": [
    "- **``df6.groupby('key')``**: This part groups the DataFrame based on the unique values in the key column ('a', 'b', and 'c').\n",
    "- **``['A']``**: This selects the ``\"A\"`` column from the grouped DataFrame.\n",
    "- **``.sum()``**: This calculates the ``sum of the \"A\" values`` for each group.\n",
    "  - **``Group 'a'``**: Sum of A: 0 + 3 + 6 = ``9``\n",
    "  - **``Group 'b'``**: Sum of A: 1 + 4 + 7 = ``12``\n",
    "  - **``Group 'c'``**: Sum of A: 2 + 5 + 8 = ``15``\n",
    "\n",
    "<p style=\"background-color:#FFFFFF; font-family:newtimeroman; color:#0000FF; font-size:110%; text-align:left;\"><strong>-----------------------------------------------------------------------------------------------------------------------------------------------------------------------------------------------</strong></p>\n",
    "\n",
    "**The following command groups the DataFrame by the ``\"key\"`` column and then applies a lambda function to calculate the sum of the ``\"A\"`` column for each group.** "
   ]
  },
  {
   "cell_type": "code",
   "execution_count": null,
   "metadata": {},
   "outputs": [],
   "source": [
    "# Group by 'key' column and apply a lambda function to sum the 'A' column\n",
    "\n",
    "df6.groupby('key')['A'].apply(lambda x: x.sum())"
   ]
  },
  {
   "cell_type": "markdown",
   "metadata": {},
   "source": [
    "- **``df6.groupby('key')``**: This part groups the DataFrame by the unique values in the key column ('a', 'b', and 'c').\n",
    "- **``['A']``**: This selects the A column from the grouped DataFrame.\n",
    "- **``.apply(lambda x: x.sum())``**: This applies the lambda function to each group, where x represents the values of A for that group. The function calculates the sum of these values.\n",
    "The result is ``a Series`` ``indexed`` by the ``unique values`` in the ``\"key\"`` column, with the ``sum of the corresponding \"A\" values``. \n",
    "  - **``Group 'a'``**: Sum of A: 0 + 3 + 6 = 9\n",
    "  - **``Group 'b'``**: Sum of A: 1 + 4 + 7 = 12\n",
    "  - **``Group 'c'``**: Sum of A: 2 + 5 + 8 = 15\n",
    "\n",
    "<p style=\"background-color:#FFFFFF; font-family:newtimeroman; color:#0000FF; font-size:110%; text-align:left;\"><strong>-----------------------------------------------------------------------------------------------------------------------------------------------------------------------------------------------</strong></p>\n",
    "\n",
    "<p style=\"background-color:#FFFFFF; font-family:newtimeroman; color:#008000; font-size:125%; text-align:left;\"><strong>Let's do same operation using transform() function now.</strong></p>\n",
    "\n",
    "\n",
    "**The following command calculates the ``sum of each group`` defined by the ``\"key\"`` column and returns ``a Series`` that has the ``same length as the original DataFrame``.**"
   ]
  },
  {
   "cell_type": "code",
   "execution_count": null,
   "metadata": {},
   "outputs": [],
   "source": [
    "# Use transform to calculate the sum of 'A' for each group\n",
    "\n",
    "df6.groupby('key')['A'].transform(lambda x: x.sum())"
   ]
  },
  {
   "cell_type": "markdown",
   "metadata": {},
   "source": [
    "- **``df6.groupby('key')``**: This part groups the DataFrame by the unique values in the key column ('a', 'b', and 'c').\n",
    "- **``['A']``**: This selects the A column from the grouped DataFrame.\n",
    "- **``.transform(lambda x: x.sum())``**: The transform method applies the lambda function to each group, which computes the sum of the values in A for that group.\n",
    "  - The key difference here is that transform returns ``a Series`` with the ``same index as the original DataFrame``, meaning ``each element`` will be ``replaced with the sum of its group``.\n",
    "  - **``Group 'a'``**: The sum is 0 + 3 + 6 = 9. ``Every row with key 'a'`` will show the value ``9``.\n",
    "  - **``Group 'b'``**: The sum is 1 + 4 + 7 = 12. ``Every row with key 'b'`` will show the value ``12``.\n",
    "  - **``Group 'c'``**: The sum is 2 + 5 + 8 = 15. ``Every row with key 'c'`` will show the value ``15``.\n",
    "<hr>\n",
    "\n",
    "<!-- The difference between ``df6.groupby('key')['A'].``**``apply``**``(lambda x: x.sum())`` and ``df6.groupby('key')['A'].``**``transform``**``(lambda x: x.sum())`` lies primarily in the **``shape of the output``** and how the results are represented. -->\n",
    "\n",
    "#### <p style=\"background-color:#FFFFFF; font-family:newtimeroman; color:#FF0000; font-size:125%; text-align:left;\"><strong>🤔💭 WATCH OUT ❗❗❗ The difference between apply and transform lies primarily in the shape of the output and how the results are represented.</strong></p>\n",
    "\n",
    "\n",
    "- **``Purpose and Use Cases:``**\n",
    "  - **``apply:``**\n",
    "    - **``Purpose``**: Used when you want to ``perform an operation`` that ``results in a different shape`` or when you need to ``aggregate data into a smaller representation`` (like a summary).\n",
    "    - **``Use Case``**: Useful for ``summarizing data``, such as calculating totals, means, or other statistics that do ``NOT need to align with the original DataFrame's shape``.\n",
    "  - **``transform:``**\n",
    "    - **``Purpose``**: Used when you want to ``perform operations`` that return ``results in the same shape as the input`` DataFrame.\n",
    "    - **``Use Case``**: Useful for ``generating new columns`` that reflect ``group-level statistics`` while retaining the original DataFrame's structure. For example, you might want to add a column that shows the sum for the respective group next to each row.\n",
    "- **``Summary:``**\n",
    "**``apply()``** gives a ``summarized view of the data``, reducing the number of rows and focusing on group statistics.\n",
    "**``transform()``** provides a way to ``generate statistics while maintaining the original DataFrame's shape``, allowing for ``element-wise operations`` and ``easier integration with the original data``.\n",
    "\n",
    "<p style=\"background-color:#FFFFFF; font-family:newtimeroman; color:#0000FF; font-size:110%; text-align:left;\"><strong>-----------------------------------------------------------------------------------------------------------------------------------------------------------------------------------------------</strong></p>\n",
    "\n"
   ]
  },
  {
   "cell_type": "code",
   "execution_count": null,
   "metadata": {},
   "outputs": [],
   "source": [
    "# Let's remember our DataFrame\n",
    "\n",
    "df6"
   ]
  },
  {
   "cell_type": "markdown",
   "metadata": {},
   "source": [
    "\n",
    "\n",
    "<p style=\"background-color:#FFFFFF; font-family:newtimeroman; color:#0000FF; font-size:110%; text-align:left;\"><strong>-----------------------------------------------------------------------------------------------------------------------------------------------------------------------------------------------</strong></p>\n",
    "\n",
    "**The following command computes the ``mean of the difference`` between the columns ``\"B\"`` and ``\"A\"`` for ``each group`` defined by the ``\"key\"`` column.**"
   ]
  },
  {
   "cell_type": "code",
   "execution_count": null,
   "metadata": {},
   "outputs": [],
   "source": [
    "# (3) apply() works with multiple Series at a time. But, transform() is only allowed to work with a single Series at a time.\n",
    "\n",
    "df6.groupby('key').apply(lambda x: (x[\"B\"]-x[\"A\"]).mean())\n",
    "\n",
    "# df6.groupby('key').transform(lambda x: (x[\"B\"]-x[\"A\"]).mean()) # gives an error"
   ]
  },
  {
   "cell_type": "markdown",
   "metadata": {},
   "source": [
    "- **``df6.groupby('key')``**: This ``groups the DataFrame`` by the ``unique values`` in the ``\"key\"`` column (``'a'``, ``'b'``, and ``'c'``).\n",
    "- **``.apply(lambda x: (x[\"B\"] - x[\"A\"]).mean())``**: For ``each group``, the lambda function calculates the ``difference`` between the ``\"B\"`` and ``\"A\"`` columns. It then computes the mean of these differences.\n",
    "\n",
    "This command effectively calculates the ``average difference`` between columns ``\"B\"`` and ``\"A\"`` for ``each group`` represented by the ``\"key\"`` column. \n",
    "- **``Differences for Group 'a':``**\n",
    "  - **``Row 0``**: 1 - 0 = 1\n",
    "  - **``Row 3``**: 1 - 3 = -2\n",
    "  - **``Row 6``**: 1 - 6 = -5\n",
    "    - **``Mean``**: (1 - 2 - 5) / 3 = ``-2``\n",
    "- **``Differences for Group 'b':``**\n",
    "  - **``Row 1``**: 2 - 1 = 1\n",
    "  - **``Row 4``**: 2 - 4 = -2\n",
    "  - **``Row 7``**: 2 - 7 = -5\n",
    "    - **``Mean``**: (1 - 2 - 5) / 3 = ``-2``\n",
    "- **``Differences for Group 'c':``**\n",
    "  - **``Row 2``**: 3 - 2 = 1\n",
    "  - **``Row 5``**: 3 - 5 = -2\n",
    "  - **``Row 8``**: 3 - 8 = -5\n",
    "    - **``Mean``**: (1 - 2 - 5) / 3 = ``-2``\n",
    "\n",
    "#### <p style=\"background-color:#FFFFFF; font-family:newtimeroman; color:#FF0000; font-size:120%; text-align:left;\"><strong>📌💡🔥 BE CAREFUL while creating a new feature using groupby() and apply() methods together ❗❗❗</strong></p>\n",
    "\n",
    "<p style=\"background-color:#FFFFFF; font-family:newtimeroman; color:#0000FF; font-size:110%; text-align:left;\"><strong>-----------------------------------------------------------------------------------------------------------------------------------------------------------------------------------------------</strong></p>\n",
    "\n",
    "**The following command ``calculates the mean`` of the ``\"var1\"`` column for ``each group`` defined by the ``\"groups\"`` column and assigns this mean value to a ``new column`` named ``\"mean\"`` in the DataFrame.**"
   ]
  },
  {
   "cell_type": "code",
   "execution_count": null,
   "metadata": {},
   "outputs": [],
   "source": [
    "df2[\"mean\"] = df2.groupby(\"groups\")[\"var1\"].apply(np.mean)\n",
    "\n",
    "# Display the modified DataFrame\n",
    "df2"
   ]
  },
  {
   "cell_type": "markdown",
   "metadata": {},
   "source": [
    "#### <p style=\"background-color:#FFFFFF; font-family:newtimeroman; color:#FF0000; font-size:125%; text-align:left;\"><strong>OOOPS🙊🙈🙉 What happened❓ </strong></p>\n",
    "\n",
    "If all values in the new column are NaN after executing the code, it indicates that the **``index alignment``** ``between the grouped result and the original DataFrame`` is **``NOT matching properly``**. This can happen if the ``groupby operation results in a Series with a different index than the original DataFrame``.\n",
    "\n",
    "**``Common Causes and Solutions:``**\n",
    " - **``Index Alignment:``**\n",
    "    - When you use ``groupby and apply`` together, the resulting Series may NOT align correctly with the original DataFrame's index because the ``groupby operation creates a new index`` based on the ``unique values of the grouping column``.\n",
    "     - **``Solution``**: ``Use transform`` instead of apply to return a Series with the ``same index as the original DataFrame``.\n",
    " - **``Check for Missing Values``**:\n",
    "    - Ensure that there are NO missing values (NaN) in the ``\"var1\"`` column that could affect the grouping and mean calculation.\n",
    " - **``DataFrame Structure``**:\n",
    "    - Make sure the ``\"groups\"`` column is correctly defined and ``contains valid categorical data``.\n",
    "    \n",
    "\n",
    "<p style=\"background-color:#FFFFFF; font-family:newtimeroman; color:#0000FF; font-size:110%; text-align:left;\"><strong>-----------------------------------------------------------------------------------------------------------------------------------------------------------------------------------------------</strong></p>\n",
    "\n",
    "**The following command ``removes the column`` named ``\"mean\"`` from the DataFrame.**"
   ]
  },
  {
   "cell_type": "code",
   "execution_count": null,
   "metadata": {},
   "outputs": [],
   "source": [
    "df2.drop(\"mean\", axis=1, inplace=True)\n",
    "\n",
    "# Display the modified DataFrame\n",
    "df2"
   ]
  },
  {
   "cell_type": "markdown",
   "metadata": {},
   "source": [
    "- This method is used to drop specified labels from rows or columns.\n",
    "- The parameter ``\"mean\"`` specifies the ``column to be dropped``.\n",
    "- The **``axis=1``** argument indicates that you are dropping a ``column`` (use axis=0 for rows).\n",
    "- **``inplace=True``**: This modifies the DataFrame in place, meaning the ``change is applied directly to df2`` without needing to reassign it.\n",
    "   - If **``inplace=False (the default)``**, the method would return a new DataFrame with the specified column removed, but df2 itself would remain unchanged.\n",
    "\n",
    "\n",
    "<p style=\"background-color:#FFFFFF; font-family:newtimeroman; color:#0000FF; font-size:110%; text-align:left;\"><strong>-----------------------------------------------------------------------------------------------------------------------------------------------------------------------------------------------</strong></p>\n"
   ]
  },
  {
   "cell_type": "markdown",
   "metadata": {},
   "source": [
    "### <p style=\"background-color:#E51A59; font-family:newtimeroman; color:#FFF9ED; font-size:175%; text-align:center; border-radius:10px 10px;\">pivot() vs pivot_table()</p>\n",
    "\n",
    "<a id=\"8\"></a>\n",
    "<a href=\"#toc\" class=\"btn btn-primary btn-sm\" role=\"button\" aria-pressed=\"true\" \n",
    "style=\"color:blue; background-color:#dfa8e4\" data-toggle=\"popover\">Content</a>\n",
    "\n",
    "**pivot_table()**\n",
    "- pandas.pivot_table(data, values=None, index=None, columns=None, aggfunc='mean', fill_value=None, margins=False, dropna=True, margins_name='All', observed=False, sort=True).\n",
    "- Create a spreadsheet-style pivot table as a DataFrame.\n",
    "- The levels in the pivot table will be stored in MultiIndex objects (hierarchical indexes) on the index and columns of the result DataFrame.\n",
    "\n",
    "**pivot()**\n",
    "- DataFrame.pivot(index=None, columns=None, values=None).\n",
    "- Return reshaped DataFrame organized by given index / column values.\n",
    "- Reshape data (produce a “pivot” table) based on column values. Uses unique values from specified index / columns to form axes of the resulting DataFrame.\n",
    "- This function does not support data aggregation, multiple values will result in a MultiIndex in the columns.\n",
    "\n",
    "**Differences**\n",
    "- **Pivot_table** is a generalization of pivot that **CAN** handle **duplicate values** for one pivoted index/column pair. However, **pivot()** is used for pivoting without aggregation. Therefore, it **CANNOT** deal with duplicate values for one index/column pair.\n",
    "- **Pivot_table** will only allow numeric types as \"values=\", whereas **pivot** will take string types as \"values=\".\n",
    "- **Pivot_table** also supports using multiple columns for the index.<br> \n",
    "[SOURCE](https://www.quora.com/In-pandas-whats-the-difference-between-dataframe-pivot-and-dataframe-pivot_table)"
   ]
  },
  {
   "cell_type": "code",
   "execution_count": null,
   "metadata": {
    "colab": {
     "base_uri": "https://localhost:8080/",
     "height": 238
    },
    "id": "wI_gBfByQhl9",
    "outputId": "9600d34d-6627-4539-9ba9-1db33c54f5b7"
   },
   "outputs": [],
   "source": [
    "# Create dataset\n",
    "data = {'gender':['male', 'female', 'female', 'male', 'female', 'male'],\n",
    "        'sport':['tennis', 'tennis', 'basketball', 'football', 'voleyball', 'basketball'],\n",
    "        'status':[\"professional\", \"professional\", \"professional\", \"amateur\", \"amateur\", \"amateur\"],\n",
    "        'age':[20, 24, 26, 23, 22, 21],\n",
    "        'height':[185, 172, 175, 178, 182, 196],\n",
    "        'weight':[83, 58, 62, 80, 65, 90]}\n",
    "\n",
    "# Create a new DataFrame\n",
    "df7 = pd.DataFrame(data)\n",
    "\n",
    "# Display the DataFrame\n",
    "df7"
   ]
  },
  {
   "cell_type": "markdown",
   "metadata": {},
   "source": [
    "\n",
    "\n",
    "<p style=\"background-color:#FFFFFF; font-family:newtimeroman; color:#0000FF; font-size:110%; text-align:left;\"><strong>-----------------------------------------------------------------------------------------------------------------------------------------------------------------------------------------------</strong></p>\n",
    "\n",
    "#### <p style=\"background-color:#FFFFFF; font-family:newtimeroman; color:#0000FF; font-size:125%; text-align:left;\"><strong> Create pivot_table():</strong></p>\n",
    "\n",
    "\n",
    "**The following command ``creates a pivot table`` that summarizes the ``average age of participants`` based on their ``gender`` and the ``sport`` they play.**"
   ]
  },
  {
   "cell_type": "code",
   "execution_count": null,
   "metadata": {},
   "outputs": [],
   "source": [
    "# Creating the Pivot Table:\n",
    "\n",
    "df7.pivot_table(index='gender',\n",
    "                columns='sport',\n",
    "                values='age',\n",
    "                aggfunc='mean')"
   ]
  },
  {
   "cell_type": "markdown",
   "metadata": {},
   "source": [
    "- **``index='gender'``**: The rows of the pivot table will be indexed by the unique values in the gender column.\n",
    "- **``columns='sport'``**: The columns of the pivot table will be created for each unique value in the sport column.\n",
    "- **``values='age'``**: The values in the pivot table will be taken from the age column.\n",
    "- **``aggfunc='mean'``**: The aggregation function used to summarize the values (in this case, calculating the mean age).\n",
    "<hr>\n",
    "\n",
    "This pivot table provides a clear summary of the ``average ages`` of participants by ``gender`` and ``sport``, allowing for easy comparison across groups.\n",
    "\n",
    "- **``For Females:``**\n",
    "  - **``Basketball``**: Average age is 26 (only one female).\n",
    "  - **``Tennis``**: Average age is 24 (only one female).\n",
    "  - **``Voleyball``**: Average age is 22 (only one female).\n",
    "  - **``Football``**: No female participants, so the value is NaN.\n",
    "- **``For Males:``**\n",
    "  - **``Basketball``**: Average age is 21 (only one male).\n",
    "  - **``Football``**: Average age is 23 (only one male).\n",
    "  - **``Tennis``**: Average age is 20 (only one male).\n",
    "  - **``Voleyball``**: No male participants, so the value is NaN.\n",
    "\n",
    "<p style=\"background-color:#FFFFFF; font-family:newtimeroman; color:#0000FF; font-size:110%; text-align:left;\"><strong>-----------------------------------------------------------------------------------------------------------------------------------------------------------------------------------------------</strong></p>\n",
    "\n",
    "**The following command ``creates a pivot table`` similar to the previous one but ``specified with a list`` for the values in ``\"values\"`` parameter.**"
   ]
  },
  {
   "cell_type": "code",
   "execution_count": null,
   "metadata": {},
   "outputs": [],
   "source": [
    "# Creating the Pivot Table:\n",
    "\n",
    "df7.pivot_table(index='gender',\n",
    "                columns='sport',\n",
    "                values=['age'],\n",
    "                aggfunc='mean')"
   ]
  },
  {
   "cell_type": "markdown",
   "metadata": {},
   "source": [
    "- **``values=['age']``**: Specifies that the ``values to be aggregated`` come from the ``\"age\"`` column. \n",
    "  - 📌 Note that using a ``list`` allows for specifying ``multiple columns`` if needed.\n",
    "\n",
    "  - **``Multi-level Columns``**: The output contains a ``multi-level column index``, where each set of columns corresponds to the ``\"age\"``, ``\"height\"``, and ``\"weight\"`` values for ``each sport``.\n",
    "  - **``Mean Values:``**\n",
    "    - Each cell shows the average of the specified metric for the corresponding ``sport`` and ``gender``.\n",
    "    - ``NaN`` values indicate that there are ``NO participants`` for that ``gender-sport`` combination.\n",
    "    \n",
    "\n",
    "<p style=\"background-color:#FFFFFF; font-family:newtimeroman; color:#0000FF; font-size:110%; text-align:left;\"><strong>-----------------------------------------------------------------------------------------------------------------------------------------------------------------------------------------------</strong></p>\n",
    "\n",
    "\n",
    "#### <p style=\"background-color:#FFFFFF; font-family:newtimeroman; color:#0000FF; font-size:125%; text-align:left;\"><strong> Create pivot_table() with multiple features:</strong></p>\n",
    "\n",
    "\n",
    "**The following command ``creates a pivot table`` that ``summarizes the mean values`` of the columns ``\"age\"``, ``\"height\"``, and ``\"weight\"`` for each ``combination of \"gender\" and \"sport\"``.** "
   ]
  },
  {
   "cell_type": "code",
   "execution_count": null,
   "metadata": {},
   "outputs": [],
   "source": [
    "# Creating the Pivot Table:\n",
    "\n",
    "df7.pivot_table(index='gender',\n",
    "                columns='sport',\n",
    "                values=['age', 'height', 'weight'],\n",
    "                aggfunc='mean')"
   ]
  },
  {
   "cell_type": "markdown",
   "metadata": {},
   "source": [
    "- **``index='gender'``**: Rows will be indexed by the unique values in the gender column.\n",
    "- **``columns='sport'``**: Columns will be created for each unique value in the sport column.\n",
    "- **``📌 values=['age', 'height', 'weight']``**: Specifies that the values to be aggregated come from the age, height, and weight columns.\n",
    "- **``aggfunc='mean'``**: The aggregation function used to summarize the values, calculating the mean for each specified column.\n",
    "\n",
    "  - **``Multi-level Columns``**: The output contains a multi-level column index, where each set of columns corresponds to the age, height, and weight values for each sport.\n",
    "  - **``Mean Values``**:\n",
    "    - Each cell shows the average of the specified metric for the corresponding sport and gender.\n",
    "    - NaN values indicate that there are no participants for that gender-sport combination.\n",
    "\n",
    "<p style=\"background-color:#FFFFFF; font-family:newtimeroman; color:#0000FF; font-size:110%; text-align:left;\"><strong>-----------------------------------------------------------------------------------------------------------------------------------------------------------------------------------------------</strong></p>\n",
    "\n",
    "#### <p style=\"background-color:#FFFFFF; font-family:newtimeroman; color:#0000FF; font-size:125%; text-align:left;\"><strong> Create pivot() producing the same result:</strong></p>\n",
    "\n",
    "**The following command ``creates a pivot table`` that reorganizes the DataFrame based on ``specified`` ``index``, ``columns``, and ``values``.**"
   ]
  },
  {
   "cell_type": "code",
   "execution_count": null,
   "metadata": {},
   "outputs": [],
   "source": [
    "# Creating the Pivot Table:\n",
    "\n",
    "df7.pivot(index='gender',\n",
    "          columns='sport',\n",
    "          values=['age','height','weight'])"
   ]
  },
  {
   "cell_type": "markdown",
   "metadata": {},
   "source": [
    "- **``index='gender'``**: The rows of the pivot table will be ``indexed`` by the ``unique values`` in the ``\"gender\"`` column.\n",
    "- **``columns='sport'``**: The ``columns`` will be created for ``each unique value`` in the ``\"sport\"`` column.\n",
    "- **``values=['age', 'height', 'weight']``**: Specifies that the pivot table will include the columns ``\"age\"``, ``\"height\"``, and ``\"weigh\"``.\n",
    "\n",
    "The resulting pivot table will organize the data in a ``multi-level column format``, ``similar to the previous pivot table`` created with ``pivot_table() method``. \n",
    "- **``Multi-level Columns``**: The output contains a ``multi-level column index`` where each set of columns corresponds to ``age``, ``height``, and ``weight`` for ``each sport``.\n",
    "- **``Values``**:\n",
    "  - Each cell shows the corresponding value for the specified metric (age, height, weight) for the respective ``gender`` and ``sport``.\n",
    "  - ``NaN`` indicates that there are ``NO participants`` for that ``specific gender-sport combination``.\n",
    "\n",
    "<p style=\"background-color:#FFFFFF; font-family:newtimeroman; color:#0000FF; font-size:110%; text-align:left;\"><strong>-----------------------------------------------------------------------------------------------------------------------------------------------------------------------------------------------</strong></p>\n",
    "\n",
    "#### <p style=\"background-color:#FFFFFF; font-family:newtimeroman; color:#0000FF; font-size:125%; text-align:left;\"><strong> Difference in terms of aggregate function</strong></p>\n",
    "\n",
    "**📌 1. If we have ``categoric features`` for value parameter rather than ``numerical features``, we can use just ``pivot()`` method:**\n",
    "\n",
    "- **The following command creates a ``pivot table`` that reorganizes the DataFrame to show the ``status of participants`` based on their ``gender`` and the ``sport`` they play.**"
   ]
  },
  {
   "cell_type": "markdown",
   "metadata": {},
   "source": [
    "**1. If we have categoric values for value parameter, we can use just \"pivot\" method.**"
   ]
  },
  {
   "cell_type": "code",
   "execution_count": null,
   "metadata": {},
   "outputs": [],
   "source": [
    "# Creating the Pivot Table:\n",
    "\n",
    "df7.pivot(index='gender',\n",
    "          columns='sport',\n",
    "          values='status')"
   ]
  },
  {
   "cell_type": "markdown",
   "metadata": {},
   "source": [
    "- **``index='gender'``**: The rows of the pivot table will be indexed by the unique values in the gender column.\n",
    "- **``columns='sport'``**: The columns will be created for each unique value in the sport column.\n",
    "- **``values='status'``**: Specifies that the pivot table will include the status column, which indicates whether participants are professional or amateur.\n",
    "  - **``Values``**: Each cell shows the status of the respective gender for the corresponding sport.\n",
    "  - **``NaN Values``**: Cells with NaN indicate that there are no participants of that gender for that specific sport.\n",
    "\n",
    "<p style=\"background-color:#FFFFFF; font-family:newtimeroman; color:#0000FF; font-size:110%; text-align:left;\"><strong>-----------------------------------------------------------------------------------------------------------------------------------------------------------------------------------------------</strong></p>\n",
    "\n",
    "#### <p style=\"background-color:#FFFFFF; font-family:newtimeroman; color:#FF0000; font-size:125%; text-align:left;\"><strong>🤔💭 WATCH OUT ❗❗❗ Why the pivot_table() method gives an error in such a case❓ </strong></p>\n",
    "\n",
    "\n",
    "📌 1. The command above results in an error if you attempt to create a pivot table with a column that does ``NOT contain numeric data`` but ``still requires an aggregation`` function. This typically happens when:\n",
    "\n",
    "  - **``Non-Numeric Values``**: The values in the column specified in values (in this case, status) are non-numeric, which means there is ``NO aggregation function that can be applied`` (like mean, sum, etc.).\n",
    "  - **``Why It Occurs with status:``**\n",
    "    - In our case, the **``\"status\"``** column contains **``categorical data``** (e.g., \"professional\" and \"amateur\"), which **``CANNOT be aggregated numerically``**. The ``pivot_table()`` function is expecting to perform a numeric aggregation but finds none.\n",
    "\n",
    "  - **``Solution:``**\n",
    "    - To create a pivot table with non-numeric data, you can simply remove the aggregation function since the goal is to display the unique values. You can use ``aggfunc='first'` or ``aggfunc='count'`` if you want to count occurrences.\n",
    "\n",
    "📌 2. Moreover, the command above results in an error if there are ``duplicate entries`` for the ``combinations`` of ``gender`` and ``sport``. In a pivot table, ``each combination of index and column`` ``must be unique`` to avoid ambiguity.\n",
    "\n",
    "- **``Other Common Causes of the Error:``**\n",
    "  - **``Duplicate Entries:``**\n",
    "    - If there are ``multiple entries`` for the ``same gender and sport combination`` in the ``\"status\"`` column, the pivot table CANNOT determine how to aggregate those values.\n",
    "  - **``Missing Data:``**\n",
    "    - If the DataFrame has ``missing`` or ``NaN`` values in critical columns, it might impact the pivoting operation, but this typically does not lead to an outright error.\n",
    "  - **``Solution:``**\n",
    "    - To handle duplicate entries, you can specify an aggregation function (like first, last, count, etc.) to resolve the duplicates. "
   ]
  },
  {
   "cell_type": "code",
   "execution_count": null,
   "metadata": {},
   "outputs": [],
   "source": [
    "# gives an error because no numeric types to aggregate\n",
    "\n",
    "# df7.pivot_table(index='gender',\n",
    "#                columns='sport',\n",
    "#                values='status')"
   ]
  },
  {
   "cell_type": "markdown",
   "metadata": {},
   "source": [
    "\n",
    "\n",
    "<p style=\"background-color:#FFFFFF; font-family:newtimeroman; color:#0000FF; font-size:110%; text-align:left;\"><strong>-----------------------------------------------------------------------------------------------------------------------------------------------------------------------------------------------</strong></p>\n",
    "\n"
   ]
  },
  {
   "cell_type": "markdown",
   "metadata": {},
   "source": [
    "**📌 2. If we have ``duplicate values`` in the column selected for index parameter, we can use only ``pivot_table()`` method.**\n",
    "\n",
    "- **The following User Define function is intended to apply ``specific styling`` to a ``particular cell`` in a DataFrame when using Pandas' Styler.** "
   ]
  },
  {
   "cell_type": "code",
   "execution_count": null,
   "metadata": {},
   "outputs": [],
   "source": [
    "# We want to color cell at <3, 2>. Coloring the background red, and text color Violet\n",
    "\n",
    "# Custom function to color the desired cell\n",
    "def styling_specific_cell(x, row_idx, col_idx):\n",
    "    color = 'background-color: yellow; color: red'\n",
    "    df_styler = pd.DataFrame('', index=x.index, columns=x.columns)\n",
    "    df_styler.iloc[row_idx, col_idx] = color\n",
    "    return df_styler"
   ]
  },
  {
   "cell_type": "code",
   "execution_count": null,
   "metadata": {},
   "outputs": [],
   "source": [
    "# Let us remember our DataFrame first:\n",
    "\n",
    "# Display the DataFrame\n",
    "df7\n",
    "\n",
    "idx_r = [1, 2]   # Row indexes of cells to be colored\n",
    "idx_c = [0, 1]   # Column index of cell to be colored \n",
    "\n",
    "# Pass the row and column index as kwargs\n",
    "df7.style.apply(styling_specific_cell, row_idx=idx_r, col_idx=idx_c, axis = None)  \n",
    "# Axis set to None to work on entire dataframe"
   ]
  },
  {
   "cell_type": "markdown",
   "metadata": {},
   "source": [
    "\n",
    "\n",
    "<p style=\"background-color:#FFFFFF; font-family:newtimeroman; color:#0000FF; font-size:110%; text-align:left;\"><strong>-----------------------------------------------------------------------------------------------------------------------------------------------------------------------------------------------</strong></p>\n",
    "\n",
    "<p style=\"background-color:#FFFFFF; font-family:newtimeroman; color:#0000FF; font-size:125%; text-align:left;\"><strong>Let's change the value \"basketball\" of observation for \"sport\" at the index number 2 into \"tennis\" to create duplicate values in the DataFrame.</strong></p>\n",
    "\n",
    "- **The following command ``df7.loc[2, \"sport\"]=\"tennis\"`` updates the value in the DataFrame at the specified row and column.** "
   ]
  },
  {
   "cell_type": "code",
   "execution_count": null,
   "metadata": {},
   "outputs": [],
   "source": [
    "df7.loc[2, \"sport\"] = \"tennis\"\n",
    "df7\n",
    "\n",
    "idx_r = [1, 2]   # Row indexes of cells to be colored\n",
    "idx_c = [0, 1]   # Column index of cell to be colored \n",
    "\n",
    "# Pass the row and column index as kwargs\n",
    "df7.style.apply(styling_specific_cell, row_idx=idx_r, col_idx=idx_c, axis = None)  \n",
    "# Axis set to None to work on entire dataframe"
   ]
  },
  {
   "cell_type": "markdown",
   "metadata": {},
   "source": [
    "- **``This uses .loc[]``** to access the value in the third row (index 2) of the sport column.\n",
    "- **``= \"tennis\"``** This assigns the string \"tennis\" to that specific cell.\n",
    "\n",
    "<p style=\"background-color:#FFFFFF; font-family:newtimeroman; color:#0000FF; font-size:110%; text-align:left;\"><strong>-----------------------------------------------------------------------------------------------------------------------------------------------------------------------------------------------</strong></p>\n",
    "\n",
    "**The following command ``creates a pivot table`` that ``summarizes the average values`` of ``age``, ``height``, and ``weight`` for each ``combination`` of ``gender and sport``.**"
   ]
  },
  {
   "cell_type": "code",
   "execution_count": null,
   "metadata": {},
   "outputs": [],
   "source": [
    "# Creating the Pivot Table:\n",
    "\n",
    "df7.pivot_table(index='gender',\n",
    "                columns='sport',\n",
    "                values=['age','height','weight'],\n",
    "                aggfunc='mean')"
   ]
  },
  {
   "cell_type": "markdown",
   "metadata": {},
   "source": [
    "- **``index='gender'``**: The rows of the pivot table will be indexed by the unique values in the gender column.\n",
    "- **``columns='sport'``**: The columns will be created for each unique value in the sport column.\n",
    "- **``values=['age', 'height', 'weight']``**: Specifies that the pivot table will include the average values for the age, height, and weight columns.\n",
    "- **``aggfunc='mean'``**: The aggregation function used to summarize the values, calculating the mean for each specified metric.\n",
    "- **``Multi-level Columns``**: Each metric (age, height, weight) is displayed under a separate column for each sport.\n",
    "  - **``Mean Values``**: The cells show the average of each metric for the respective gender and sport.\n",
    "  - **``NaN Values``**: Cells with NaN indicate that there were no participants for that gender-sport combination.\n",
    "\n",
    "<p style=\"background-color:#FFFFFF; font-family:newtimeroman; color:#0000FF; font-size:110%; text-align:left;\"><strong>-----------------------------------------------------------------------------------------------------------------------------------------------------------------------------------------------</strong></p>\n",
    "\n",
    "\n",
    "**⚠️☢️☣️ The following command ATTEMPTS to create a pivot table that reorganizes the DataFrame by using gender as the index and sport as the columns, displaying the specified values for age, height, and weight.**\n",
    "\n",
    "- **``💥 Important Note:``**\n",
    "  - If there are ``duplicate entries`` for any combination of gender and sport, this command will ``raise a ValueError`` because pivot requires unique index/column combinations. In such cases, you ``should use`` **``pivot_table()``** method with an aggregation function to handle duplicates."
   ]
  },
  {
   "cell_type": "code",
   "execution_count": null,
   "metadata": {},
   "outputs": [],
   "source": [
    "# gives an error because of the dublicate values\n",
    "\n",
    "# df7.pivot(index='gender',\n",
    "#          columns='sport',\n",
    "#          values=['age','height','weight'])"
   ]
  },
  {
   "cell_type": "markdown",
   "metadata": {},
   "source": [
    "📌 The **``pivot()``** function in Pandas will **``raise an error``** if there are **``duplicate entries``** for the combinations of the specified index and columns. When using pivot() method, ``each combination of gender and sport MUST be unique`` because it doesn't aggregate the data.\n",
    "\n",
    "- **``🎯🏆🤝 Solution:``**\n",
    "  - To handle duplicates, you should use the ``pivot_table()`` function instead. This allows you to specify an aggregation function that will deal with the duplicates appropriately.\n",
    "    - **``aggfunc='mean'``**: This specifies that if there are duplicate entries for any combination of gender and sport, it will calculate the mean of the values in the age, height, and weight columns.\n",
    "\n",
    "<p style=\"background-color:#FFFFFF; font-family:newtimeroman; color:#0000FF; font-size:110%; text-align:left;\"><strong>-----------------------------------------------------------------------------------------------------------------------------------------------------------------------------------------------</strong></p>\n",
    "\n",
    "📌 When using the **``pivot()``** method in Pandas, ``if we want to avoid errors due to duplicate values``, we **``CANNOT specify an index parameter``**, which is **\"gender\" where we have duplicate values``**. Instead, we can use only the columns parameter to create a wide-format DataFrame."
   ]
  },
  {
   "cell_type": "code",
   "execution_count": null,
   "metadata": {},
   "outputs": [],
   "source": [
    "# Creating the Pivot Table:\n",
    "\n",
    "df7.pivot(columns='sport',\n",
    "          values=['age','height','weight'])"
   ]
  },
  {
   "cell_type": "markdown",
   "metadata": {},
   "source": [
    "- **``Using pivot() Without the index Parameter:``**\n",
    "  - By removing the index parameter, you can pivot the DataFrame to show the specified values across the ``different sports`` ``without grouping by gender``. Here’s how to do it:\n",
    "    - **``Multi-level Columns``**: The output will have a multi-level column index where each metric (age, height, weight) is displayed under each sport.\n",
    "    - **``Values``**: Each cell shows the corresponding value for the specified metric (age, height, weight) across the sports.\n",
    "    - **``NaN Values``**: Cells with ``NaN`` indicate that there are ``NO entries`` for that ``specific combination`` of ``sport and metric``.\n",
    "- **``Important Note:``**\n",
    "  - 📌 Using ``pivot()`` method without an index is useful when you want a wide format but be aware that it ``may lead to a loss of some grouping context`` (like gender, in your original case). If you need to distinguish between genders, ``consider using pivot_table() method instead``.\n",
    "\n",
    "<p style=\"background-color:#FFFFFF; font-family:newtimeroman; color:#0000FF; font-size:110%; text-align:left;\"><strong>-----------------------------------------------------------------------------------------------------------------------------------------------------------------------------------------------</strong></p>\n",
    "\n",
    "<p style=\"background-color:#FFFFFF; font-family:newtimeroman; color:#0000FF; font-size:125%; text-align:left;\"><strong>🏆 We can get the same results using both groupby() and pivot_table() as well:</strong></p>\n",
    "\n",
    "### groupby():\n",
    "\n",
    "**The following command groups the DataFrame by both the ``\"gender\"`` and ``\"sport\"`` columns, then ``calculates the mean`` of ``all numeric columns`` within ``each group``.**"
   ]
  },
  {
   "cell_type": "code",
   "execution_count": null,
   "metadata": {},
   "outputs": [],
   "source": [
    "# Group by gender and sport, then calculate the mean of numeric columns\n",
    "df7.groupby([\"gender\", \"sport\"]).mean(numeric_only=True)\n",
    "\n",
    "# df7.groupby([\"gender\", \"sport\"])[['age','height','weight']].mean()"
   ]
  },
  {
   "cell_type": "markdown",
   "metadata": {},
   "source": [
    "- **``df7.groupby([\"gender\", \"sport\"])``**: This groups the DataFrame by the unique combinations of values in the ``\"gender\"`` and ``\"sport\"`` columns.\n",
    "- **``.mean(numeric_only=True)``**: This computes the mean for each numeric column (like ``\"age\"``, ``\"height\"``, and ``\"weight\"``) for each - **``group. \n",
    "- **``The numeric_only=True``** parameter ensures that only numeric columns are considered, which is useful if your DataFrame contains non-numeric data.\n",
    "\n",
    "  - **``Grouped by Gender and Sport``**: Each row corresponds to a unique combination of gender and sport.\n",
    "  - **``Mean Values``**: The numeric columns (age, height, weight) show the average values for each combination.\n",
    "  - **``NaN Handling``**: If a group has no entries, it will not appear in the output.\n",
    "  \n",
    "<p style=\"background-color:#FFFFFF; font-family:newtimeroman; color:#0000FF; font-size:110%; text-align:left;\"><strong>-----------------------------------------------------------------------------------------------------------------------------------------------------------------------------------------------</strong></p>\n",
    "\n",
    "### pivot_table():\n",
    "\n",
    "  \n",
    "**The following command ``creates a pivot table`` that ``summarizes the average values`` of ``\"age\"``, ``\"height\"``, and ``\"weight\"`` for each ``combination`` of ``\"gender\"`` and ``\"sport\"``.**"
   ]
  },
  {
   "cell_type": "code",
   "execution_count": null,
   "metadata": {},
   "outputs": [],
   "source": [
    "# Creating the Pivot Table:\n",
    "\n",
    "df7.pivot_table(index=['gender', 'sport'],\n",
    "#                 columns = \"status\",\n",
    "                values=['age','height','weight'],\n",
    "                aggfunc='mean')"
   ]
  },
  {
   "cell_type": "markdown",
   "metadata": {},
   "source": [
    "- **``index=['gender', 'sport']``**: This specifies that the rows of the pivot table will be indexed by the unique combinations of values in the gender and sport columns.\n",
    "- **``columns='status'``**: This indicates that the columns of the pivot table will be defined by the unique values in the status column (e.g., \"professional\" and \"amateur\").\n",
    "- **``values=['age', 'height', 'weight']``**: This specifies that the pivot table will calculate the average for the age, height, and weight columns.\n",
    "- **``aggfunc='mean'``**: This specifies that the mean should be calculated for the specified values.append\n",
    "\n",
    "\n",
    "  - **``Multi-level Columns``**: The resulting DataFrame will have a multi-level column index where each metric (age, height, weight) is displayed under each status (amateur, professional).\n",
    "  - **``Mean Values``**: Each cell shows the average of the specified metric for the respective combination of gender, sport, and status.\n",
    "  - **``NaN Values``**: Cells with NaN indicate that there were no entries for that specific combination.\n",
    "\n",
    "<p style=\"background-color:#FFFFFF; font-family:newtimeroman; color:#0000FF; font-size:110%; text-align:left;\"><strong>-----------------------------------------------------------------------------------------------------------------------------------------------------------------------------------------------</strong></p>\n",
    "\n"
   ]
  },
  {
   "cell_type": "markdown",
   "metadata": {
    "id": "EpZvcuT497Sv"
   },
   "source": [
    "### <p style=\"background-color:#E51A59; font-family:newtimeroman; color:#FFF9ED; font-size:175%; text-align:center; border-radius:10px 10px;\">.stack() & .unstack()</p>\n",
    "\n",
    "<a id=\"9\"></a>\n",
    "<a href=\"#toc\" class=\"btn btn-primary btn-sm\" role=\"button\" aria-pressed=\"true\" \n",
    "style=\"color:blue; background-color:#dfa8e4\" data-toggle=\"popover\">Content</a>\n",
    "\n",
    "Reshape using **``stack()``** and **``unstack()``** function in Pandas python: Reshaping the data using **``stack()``** function in pandas converts the data into stacked format .i.e. the column is stacked row wise. When more than one column header is present we can stack the specific column header by specified the level. **``unstack()``** function in pandas converts the data into unstacked format [Source](https://www.datasciencemadesimple.com/reshape-using-stack-unstack-function-pandas-python/).\n",
    "\n",
    "**Why and when should use a stack() and unstack() methods?**\n",
    "\n",
    "[ANSWER](https://stackoverflow.com/questions/69139030/why-and-when-should-use-a-stack-and-unstack-methods)"
   ]
  },
  {
   "cell_type": "markdown",
   "metadata": {},
   "source": [
    "#### <p style=\"background-color:#E51A59; font-family:newtimeroman; color:#FFF9ED; font-size:150%; text-align:left; border-radius:10px 10px;\">.stack()</p>\n",
    "\n",
    "<a id=\"9.1\"></a>\n",
    "<a href=\"#toc\" class=\"btn btn-primary btn-sm\" role=\"button\" aria-pressed=\"true\" \n",
    "style=\"color:blue; background-color:#dfa8e4\" data-toggle=\"popover\">Content</a>\n",
    "\n",
    "**SYNTAX:** <b>``DataFrame.stack(level=- 1, dropna=True)``</b>\n",
    "\n",
    "- Stack the prescribed level(s) from columns to index.\n",
    "- Return a reshaped DataFrame or Series having a multi-level index with one or more new inner-most levels compared to the current DataFrame.\n",
    "- The new inner-most levels are created by pivoting the columns of the current dataframe:\n",
    "    - if the columns have a single level, the output is a Series;\n",
    "    - if the columns have multiple levels, the new index level(s) is (are) taken from the prescribed level(s) and the output is a DataFrame."
   ]
  },
  {
   "cell_type": "code",
   "execution_count": null,
   "metadata": {},
   "outputs": [],
   "source": [
    "# Let's remember our DataFrame\n",
    "\n",
    "df7"
   ]
  },
  {
   "cell_type": "markdown",
   "metadata": {},
   "source": [
    "\n",
    "\n",
    "<p style=\"background-color:#FFFFFF; font-family:newtimeroman; color:#0000FF; font-size:110%; text-align:left;\"><strong>-----------------------------------------------------------------------------------------------------------------------------------------------------------------------------------------------</strong></p>\n",
    "\n",
    "**The following command ``adds a new column`` named ``\"level\"`` to the DataFrame.**\n",
    "- This new column categorizes the ``weight values`` into two levels: ``\"high\"`` or ``\"low\"``."
   ]
  },
  {
   "cell_type": "code",
   "execution_count": null,
   "metadata": {},
   "outputs": [],
   "source": [
    "# Create the 'level' column based on the 'weight' column\n",
    "df7[\"level\"] = df7[\"weight\"].transform(lambda x: \"high\" if x > 80 else \"low\")\n",
    "\n",
    "# Display the modified DataFrame\n",
    "df7"
   ]
  },
  {
   "cell_type": "markdown",
   "metadata": {},
   "source": [
    "- This uses the **``transform()``** method to apply a function to each value in the ``\"weight\"`` column.\n",
    "- The ``lambda function`` checks if the ``weight`` is ``greater than 80``:\n",
    "    - If True, it assigns \"high\".\n",
    "    - If False, it assigns \"low\".\n",
    "- **``df7[\"level\"] = ...``**: The results of the transform operation are assigned to a new column called ``\"level\"`` in the DataFrame.\n",
    "\n",
    "<p style=\"background-color:#FFFFFF; font-family:newtimeroman; color:#0000FF; font-size:110%; text-align:left;\"><strong>-----------------------------------------------------------------------------------------------------------------------------------------------------------------------------------------------</strong></p>\n",
    "\n",
    "**The following command ``creates a pivot table`` from the ``DataFrame``, and stores the output in ``df8``.**\n",
    "- This pivot table **``summarizes the average values``** of **``\"age\"``**, **``\"height\"``**, and **``\"weight\"``** based on the **``unique combinations``** of **``\"gender\"``**, **``\"sport\"``**, **``\"status\"``**, and **``\"level\"``**.**"
   ]
  },
  {
   "cell_type": "code",
   "execution_count": null,
   "metadata": {},
   "outputs": [],
   "source": [
    "# Creating the Pivot Table:\n",
    "df8 = df7.pivot_table(index=['gender','sport'],\n",
    "                      columns=[\"status\",\"level\"],\n",
    "                      values=['age','height','weight'],\n",
    "                      aggfunc='mean')\n",
    "\n",
    "# Display the Pivot Table:\n",
    "df8"
   ]
  },
  {
   "cell_type": "markdown",
   "metadata": {},
   "source": [
    "- **``index=['gender', 'sport']``**: This specifies that the rows of the pivot table will be indexed by the unique combinations of values in the gender and sport columns.\n",
    "- **``columns=[\"status\", \"level\"]``**: This indicates that the columns of the pivot table will be defined by the unique combinations of values in the status and level columns.\n",
    "- **``📌 values=['age', 'height', 'weight']``**: This specifies that the pivot table will calculate the average for the age, height, and weight columns.\n",
    "- **``aggfunc='mean'``**: This specifies that the mean should be calculated for the specified values.\n",
    "\n",
    "  - **``Multi-level Index and Columns``**: The output will have a multi-level index based on gender and sport, and a multi-level column structure based on status and level.\n",
    "  - **``Mean Values``**: Each cell shows the average of the specified metric for the respective combination of gender, sport, status, and level.\n",
    "  - **``NaN Values``**: Cells with NaN indicate that there were NO entries for that specific combination.\n",
    "\n",
    "<p style=\"background-color:#FFFFFF; font-family:newtimeroman; color:#0000FF; font-size:110%; text-align:left;\"><strong>-----------------------------------------------------------------------------------------------------------------------------------------------------------------------------------------------</strong></p>\n",
    "\n",
    "**The following command ``converts the pivot table`` from a ``wide format`` to a ``long format`` by stacking the columns.**\n",
    "- This operation compresses the ``multi-level column index`` into a ``single index``, making the DataFrame easier to work with for certain types of analyses."
   ]
  },
  {
   "cell_type": "code",
   "execution_count": null,
   "metadata": {},
   "outputs": [],
   "source": [
    "df8.stack()  # Default level=-1"
   ]
  },
  {
   "cell_type": "markdown",
   "metadata": {},
   "source": [
    "After using df8.stack(), the resulting DataFrame indeed have a ``multi-level index`` that consists of ``\"gender\"``, ``\"sport\"``, and ``\"level\"``, along with the corresponding values for ``\"age\"``, ``\"height\"``, and ``\"weight\"``.\n",
    "\n",
    "- **``Long Format``**: The DataFrame is now in a long format where the multi-level column index has been transformed into a multi-level index.\n",
    "- **``Index Levels``**: The new index consists of the original indices (``\"gender\"``, ``\"sport\"``) along with the ``\"level\"`` from the columns, while the columns represent the aggregated metrics (``\"age\"``, ``\"height\"``, ``\"weight\"``).\n",
    "- **``Mean Values``**: Each row corresponds to a unique combination of the indices, showing the mean values for ``\"age\"``, ``\"height\"``, and ``\"weight\"`` based on the combinations of ``\"gender\"``, ``\"sport\"``, and ``\"level\"``.\n",
    "\n",
    "<p style=\"background-color:#FFFFFF; font-family:newtimeroman; color:#0000FF; font-size:110%; text-align:left;\"><strong>-----------------------------------------------------------------------------------------------------------------------------------------------------------------------------------------------</strong></p>\n",
    "\n",
    "**The following command is used to stack the columns of the pivot table, df8, specifically targeting the ``second level of the column index`` (which corresponds to ``\"status\"`` in this case).**\n",
    "- This operation converts the specified level of the column index into part of the row index, resulting in a reshaped DataFrame."
   ]
  },
  {
   "cell_type": "code",
   "execution_count": null,
   "metadata": {},
   "outputs": [],
   "source": [
    "# try \"-1, -2, 0, 1, 2\" as level parameter\n",
    "\n",
    "\n",
    "# df8.stack(level=0)\n",
    "\n",
    "# df8.stack(level=-1)\n",
    "\n",
    "df8.stack(level=-2)"
   ]
  },
  {
   "cell_type": "markdown",
   "metadata": {},
   "source": [
    "\n",
    "\n",
    "<p style=\"background-color:#FFFFFF; font-family:newtimeroman; color:#0000FF; font-size:110%; text-align:left;\"><strong>-----------------------------------------------------------------------------------------------------------------------------------------------------------------------------------------------</strong></p>\n",
    "\n",
    "**The following command is used to stack the columns of the pivot table, df8, specifically targeting the ``last level of the column index`` (which corresponds to ``\"status\"`` in this case).** \n",
    "- The **``dropna=False``** parameter ensures that even if there are ``NaN`` values, they will be ``included in the output``."
   ]
  },
  {
   "cell_type": "code",
   "execution_count": null,
   "metadata": {},
   "outputs": [],
   "source": [
    "df8.stack(level=-2, dropna=False)\n",
    "# df8.stack(level='status', dropna=False)"
   ]
  },
  {
   "cell_type": "markdown",
   "metadata": {},
   "source": [
    "The output shows a ``multi-level index`` where the **``first level``** represents ``\"gender\"``, the **``second level``** represents ``\"sport\"``, and the **``third level``** represents ``\"status\"``. \n",
    "\n",
    "- **``level=-2``**: This targets the ``second level`` of the column index, which contains the metrics (``\"status\"``).\n",
    "- **``dropna=False``**: This ensures that rows with NaN values are included in the output.\n",
    "\n",
    "<p style=\"background-color:#FFFFFF; font-family:newtimeroman; color:#0000FF; font-size:110%; text-align:left;\"><strong>-----------------------------------------------------------------------------------------------------------------------------------------------------------------------------------------------</strong></p>\n",
    "\n",
    "**The following code stacks the ``last two levels`` of the column index in the pivot table df8.**\n",
    "- This operation will combine the ``\"level\"`` and ``\"status\"`` into the row index, effectively reshaping your DataFrame."
   ]
  },
  {
   "cell_type": "code",
   "execution_count": null,
   "metadata": {},
   "outputs": [],
   "source": [
    "df8.stack(level=[-1, -2])\n",
    "\n",
    "# df8.stack(level=[-2, -1])"
   ]
  },
  {
   "cell_type": "markdown",
   "metadata": {},
   "source": [
    "- **``level=[-1, -2]``**: This specifies that the **``last level``** (which corresponds to ``\"status\"``) and the **``second-to-last level``** (which corresponds to ``\"level\"``) should be stacked.\n",
    "- **``Multi-level Index``**: The new index consists of ``\"gender\"``, ``\"sport\"``, ``\"level\"``, and ``\"status\"``.\n",
    "- **``Values``**: The values for ``\"age\"``, ``\"height\"``, and ``\"weight\"`` are organized under the corresponding combinations of ``\"gender\"``, ``\"sport\"``,   ``\"level\"``, and ``\"status\"``.\n",
    "\n",
    "<p style=\"background-color:#FFFFFF; font-family:newtimeroman; color:#0000FF; font-size:110%; text-align:left;\"><strong>-----------------------------------------------------------------------------------------------------------------------------------------------------------------------------------------------</strong></p>\n",
    "\n"
   ]
  },
  {
   "cell_type": "markdown",
   "metadata": {},
   "source": [
    "#### <p style=\"background-color:#E51A59; font-family:newtimeroman; color:#FFF9ED; font-size:150%; text-align:left; border-radius:10px 10px;\">.unstack()</p>\n",
    "\n",
    "<a id=\"9.2\"></a>\n",
    "<a href=\"#toc\" class=\"btn btn-primary btn-sm\" role=\"button\" aria-pressed=\"true\" \n",
    "style=\"color:blue; background-color:#dfa8e4\" data-toggle=\"popover\">Content</a>\n",
    "\n",
    "**SYNTAX:** <b>``DataFrame.unstack(level=- 1, fill_value=None)``</b>\n",
    "\n",
    "- Pivot a level of the (necessarily hierarchical) index labels.\n",
    "- Returns a DataFrame having a new level of column labels whose inner-most level consists of the pivoted index labels.\n",
    "- If the index is not a MultiIndex, the output will be a Series.\n",
    "\n",
    "**``unstack()``** function pivots a level of the (necessarily hierarchical) index labels, returning a DataFrame having a new level of column labels whose inner-most level consists of the pivoted index labels [Source](https://www.w3resource.com/pandas/dataframe/dataframe-unstack.php)."
   ]
  },
  {
   "cell_type": "code",
   "execution_count": null,
   "metadata": {},
   "outputs": [],
   "source": [
    "# Let's remember our DataFrame\n",
    "\n",
    "df8"
   ]
  },
  {
   "cell_type": "markdown",
   "metadata": {},
   "source": [
    "\n",
    "\n",
    "<p style=\"background-color:#FFFFFF; font-family:newtimeroman; color:#0000FF; font-size:110%; text-align:left;\"><strong>-----------------------------------------------------------------------------------------------------------------------------------------------------------------------------------------------</strong></p>\n",
    "\n",
    "**The following code transforms the DataFrame, df8, from a ``long format`` back to a ``wide format``.**\n",
    "- This operation pivots the ``innermost level`` of the index (or the last level if not specified) into columns."
   ]
  },
  {
   "cell_type": "code",
   "execution_count": null,
   "metadata": {},
   "outputs": [],
   "source": [
    "df8.unstack()  # Default level=-1 (last level)"
   ]
  },
  {
   "cell_type": "markdown",
   "metadata": {},
   "source": [
    "- **``Wide Format``**: The DataFrame is now in a wide format, where the metrics (``\"age\"``, ``\"height\"``, ``\"weight\"``) are represented across multiple columns, but NOT all combinations of ``\"gender\"`` and ``\"sport\"`` have values, resulting in many ``NaN`` entries.\n",
    "- **``Column Names``**: The columns are organized by the levels of the original indices, but some metrics may be missing for certain combinations, leading to gaps in the data represented by ``NaN`` values.\n",
    "\n",
    "<p style=\"background-color:#FFFFFF; font-family:newtimeroman; color:#0000FF; font-size:110%; text-align:left;\"><strong>-----------------------------------------------------------------------------------------------------------------------------------------------------------------------------------------------</strong></p>\n",
    "\n",
    "**The following code transform the DataFrame, df8, by moving the ``first level`` of the index (which corresponds to ``\"gender\"``) into the columns.**\n",
    "- This operation reshapes the DataFrame, allowing for a clearer view of the data based on ``\"gender\"``."
   ]
  },
  {
   "cell_type": "code",
   "execution_count": null,
   "metadata": {},
   "outputs": [],
   "source": [
    "# try \"-1, 0, 1\" as level parameter\n",
    "\n",
    "df8.unstack(level=-1)\n",
    "df8.unstack(level=0)"
   ]
  },
  {
   "cell_type": "markdown",
   "metadata": {},
   "source": [
    "- **``level=0``**: This specifies that the **``first level``** of the index (which is ``\"gender\"``) should be moved to the column headers.\n",
    "\n",
    "- **``Wide Format``**: The DataFrame is now in a **``wide format``**, where the metrics (``\"age\"``, ``\"height\"``, ``\"weight\"``) are represented across multiple columns for each ``\"sport\"``. However, many combinations of ``\"gender\"`` and ``\"sport\"`` do NOT have values, resulting in numerous ``NaN`` entries.\n",
    "- **``Column Names``**: The columns are organized by ``\"sport\"``, displaying the metrics for both ``\"genders\"``. Some metrics are missing for certain combinations, leading to significant gaps in the data represented by ``NaN`` values.\n",
    "\n",
    "<p style=\"background-color:#FFFFFF; font-family:newtimeroman; color:#0000FF; font-size:110%; text-align:left;\"><strong>-----------------------------------------------------------------------------------------------------------------------------------------------------------------------------------------------</strong></p>\n",
    "\n",
    "#### <p style=\"background-color:#FFFFFF; font-family:newtimeroman; color:#FF0000; font-size:125%; text-align:left;\"><strong>🤔💭 BE CAREFUL ❗❗❗ The NaN values originating from dataset itself will retained:</strong></p>\n",
    "\n",
    "- When you use the following code ``df8.unstack(level=-1, fill_value=0)``, you reshape the DataFrame by moving the ``last level`` of the index (typically ``\"sport\"``) into the columns. The **``fill_value=0``** parameter is used to fill ``NaN`` values that ``arise from the unstacking process``."
   ]
  },
  {
   "cell_type": "code",
   "execution_count": null,
   "metadata": {},
   "outputs": [],
   "source": [
    "df8.unstack(level=-1, fill_value=0) # Replace NaN with this value if the unstack produces missing values."
   ]
  },
  {
   "cell_type": "markdown",
   "metadata": {},
   "source": [
    "- **``Structure``**: The output shows that the DataFrame is now organized with ``\"gender\"`` as the ``first level`` of the index. The columns represent the metrics (like ``\"age\"``, ``\"height\"``, ``\"weight\"``) for each ``\"sport\"``.\n",
    "- **``Filled Zeros``**: The **``fill_value=0``** has replaced ``NaN`` entries that arose from the unstacking process. For combinations of ``\"gender\"`` and ``\"sport\"`` that had NO data for certain metrics, zeros are shown instead.\n",
    "- **``📌 Retained NaNs``**: Any original ``NaN`` values from the dataset remain ``unchanged``, which is why you still see ``NaN`` in your output.\n",
    "\n",
    "**``Summary of Key Points:``**\n",
    "- **``Last Index Level``**: When you specify **``level=-1``**, it refers to the ``last level`` of the index (in this case, ``\"sport\"``).\n",
    "- **``Filling NaNs``**: The **``fill_value=0`` fills gaps created by unstacking but does **NOT affect existing ``NaN`` values** in the dataset.\n",
    "- **``Output Interpretation``**: The output indicates the metrics for each ``\"gender\"`` and ``\"sport\"``, with zeros for missing combinations and retained ``NaN`` values from the original data.\n",
    "\n",
    "<p style=\"background-color:#FFFFFF; font-family:newtimeroman; color:#0000FF; font-size:110%; text-align:left;\"><strong>-----------------------------------------------------------------------------------------------------------------------------------------------------------------------------------------------</strong></p>\n",
    "\n",
    "**The following code reshapes the DataFrame by moving the ``last level`` of the index (typically representing ``\"status\"``) into the columns via ``unstack(level=-1)``, and then it ``replaces any NaN values that result from the unstacking process with zeros`` via ``fillna(0)``.**"
   ]
  },
  {
   "cell_type": "code",
   "execution_count": null,
   "metadata": {},
   "outputs": [],
   "source": [
    "df8.unstack(level=-1).fillna(0)"
   ]
  },
  {
   "cell_type": "markdown",
   "metadata": {},
   "source": [
    "- **``.fillna(0)``**: After unstacking, any ``NaN`` values introduced ``during this operation`` (where there is NO data for a combination of the index levels) will be replaced with ``0``.\n",
    "\n",
    "<hr>\n",
    "\n",
    "#### <p style=\"background-color:#FFFFFF; font-family:newtimeroman; color:#FF0000; font-size:125%; text-align:left;\"><strong>🤔💭 WARNING ❗❗❗</strong></p>\n",
    "\n",
    "Be cautious when using the **``stack()``** and **``unstack()``** methods in pandas, as unnecessary or improper usage can lead to unintended results. These methods can significantly alter the structure of your DataFrame;\n",
    "  - potentially introducing complex MultiIndexes, \n",
    "  - excessive NaN values, or \n",
    "  - making the data more difficult to interpret. \n",
    "  \n",
    " Always ensure that you fully understand the implications of reshaping your data before applying these methods to avoid confusion and maintain clarity in your analysis."
   ]
  },
  {
   "cell_type": "markdown",
   "metadata": {
    "id": "Q8waTg_wQhl9"
   },
   "source": [
    "<a id=\"10\"></a>\n",
    "<a href=\"#toc\" class=\"btn btn-primary btn-sm\" role=\"button\" aria-pressed=\"true\" \n",
    "style=\"color:blue; background-color:#dfa8e4\" data-toggle=\"popover\">Content</a>\n",
    "\n",
    "## <p style=\"background-color:#FDFEFE; font-family:newtimeroman; color:#E51A59; font-size:150%; text-align:center; border-radius:10px 10px;\">End of the Session - 05 & 06</p>\n",
    "\n",
    "\n",
    "<p style=\"text-align: center;\"><img src=\"https://i.ibb.co/TtRtYNn/healthy-lunch.jpg\" width=\"800\" height=\"200\" class=\"img-fluid\" alt=\"Lunch Time\"></p>\n",
    "\n",
    "\n",
    "<p style=\"text-align: center;\"><img src=\"https://i.ibb.co/99DQ3TY/DS-Courses.png\" class=\"img-fluid\" \n",
    "alt=\"CLRSWY\"></p>\n",
    "\n",
    "\n",
    "<br><br><br>\n",
    "\n",
    "<p style=\"text-align: center;\"><img src=\"https://i.ibb.co/Rpz9L36/clarusway-logo-black.png\" width=\"450\" height=\"200\" class=\"img-fluid\" alt=\"CLRSWY_LOGO\"></p>\n",
    "\n",
    "<p style=\"background-color:#E51A59; font-family:newtimeroman; color:#FDFEFE; font-size:130%; text-align:center; border-radius:10px 10px;\">WAY TO REINVENT YOURSELF</p>"
   ]
  },
  {
   "cell_type": "markdown",
   "metadata": {
    "deletable": false,
    "editable": false
   },
   "source": [
    "<a href=\"https://clarusway.com/contact-us/\"><img align=\"center\" src=\"https://i.ibb.co/B43qn24/officially-licensed-logo.png\" alt=\"Open in Clarusway LMS\" width=\"110\" height=\"200\" title=\"This notebook is licensed by Clarusway IT training school. Please contact the authorized persons about the conditions under which you can use or share.\"></a>"
   ]
  }
 ],
 "metadata": {
  "colab": {
   "name": "DAwPy-S5 (Groupby,Aggregation,DataFrame_Operations,Pivot_Tables,Stack).ipynb",
   "provenance": []
  },
  "kernelspec": {
   "display_name": "Python 3 (ipykernel)",
   "language": "python",
   "name": "python3"
  },
  "language_info": {
   "codemirror_mode": {
    "name": "ipython",
    "version": 3
   },
   "file_extension": ".py",
   "mimetype": "text/x-python",
   "name": "python",
   "nbconvert_exporter": "python",
   "pygments_lexer": "ipython3",
   "version": "3.11.5"
  },
  "toc": {
   "base_numbering": 1,
   "nav_menu": {},
   "number_sections": false,
   "sideBar": true,
   "skip_h1_title": false,
   "title_cell": "Table of Contents",
   "title_sidebar": "Contents",
   "toc_cell": false,
   "toc_position": {
    "height": "calc(100% - 180px)",
    "left": "10px",
    "top": "150px",
    "width": "295.6px"
   },
   "toc_section_display": true,
   "toc_window_display": true
  },
  "varInspector": {
   "cols": {
    "lenName": 16,
    "lenType": 16,
    "lenVar": 40
   },
   "kernels_config": {
    "python": {
     "delete_cmd_postfix": "",
     "delete_cmd_prefix": "del ",
     "library": "var_list.py",
     "varRefreshCmd": "print(var_dic_list())"
    },
    "r": {
     "delete_cmd_postfix": ") ",
     "delete_cmd_prefix": "rm(",
     "library": "var_list.r",
     "varRefreshCmd": "cat(var_dic_list()) "
    }
   },
   "types_to_exclude": [
    "module",
    "function",
    "builtin_function_or_method",
    "instance",
    "_Feature"
   ],
   "window_display": false
  }
 },
 "nbformat": 4,
 "nbformat_minor": 1
}
