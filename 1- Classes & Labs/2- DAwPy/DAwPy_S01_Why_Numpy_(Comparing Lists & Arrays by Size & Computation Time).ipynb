{
 "cells": [
  {
   "cell_type": "markdown",
   "metadata": {
    "deletable": false,
    "editable": false
   },
   "source": [
    "<a href=\"https://clarusway.com/contact-us/\"><img align=\"center\" src=\"https://i.ibb.co/B43qn24/officially-licensed-logo.png\" alt=\"Open in Clarusway LMS\" width=\"110\" height=\"200\" title=\"This notebook is licensed by Clarusway IT training school. Please contact the authorized persons about the conditions under which you can use or share.\"></a>"
   ]
  },
  {
   "cell_type": "markdown",
   "metadata": {
    "id": "NHDIRP8w96Vx"
   },
   "source": [
    "<hr>\n",
    "\n",
    "<a href=\"https://lms.clarusway.com/mod/lesson/view.php?id=2463&pageid=4531&startlastseen=no\"><img align=\"center\" src=\"https://i.ibb.co/6Z5pQxD/lmss.png\" alt=\"Open in Clarusway LMS\" width=\"70\" height=\"200\" title=\"Open Clarusway Learning Management Sytem\"></a>\n",
    "\n",
    "<a href=\"https://github.com/clarusway/DS-DE-0322-Students/blob/main/3-%20Classes%26Labs/2-DAwPY/DAwPy_S01_(Numpy_Arrays).ipynb\"><img align=\"left\" src=\"https://i.ibb.co/n3HWyQX/github-logo.png\" alt=\"Open in Clarusway GitHub\" width=\"90\" height=\"150\" title=\"Open and Execute in Clarusway GitHub Repository\"></a>\n",
    "\n",
    "<a href=\"https://nbviewer.org/github/4dsolutions/clarusway_data_analysis/blob/main/DAwPy_S1_%28Numpy_Arrays%29/DAwPy_S1_%28Numpy_Arrays%29.ipynb\"><img align=\"right\" src=\"https://i.ibb.co/48wtV8c/nbviewer-badge.png\" alt=\"Open in nbviewer\" width=\"100\" height=\"100\" title=\"Open and Execute in nbviewer\"></a><br/>\n",
    "\n",
    "<hr>\n",
    "\n",
    "<p style=\"text-align: center;\"><img src=\"https://i.ibb.co/Rpz9L36/clarusway-logo-black.png\" width=\"500\" height=\"200\" class=\"img-fluid\" alt=\"CLRSWY_LOGO\"></p>\n",
    "\n",
    "<p style=\"text-align: center;\"><img src=\"https://i.ibb.co/XS0bxSH/best-bootcamps.png\" width=\"300\" height=\"200\" class=\"img-fluid\" alt=\"CLRSWY_LOGO\"></p>\n",
    "\n",
    "<p style=\"background-color:#E51A59; font-family:newtimeroman; color:#FDFEFE; font-size:130%; text-align:center; border-radius:10px 10px;\">WAY TO REINVENT YOURSELF</p>\n",
    "\n",
    "<p style=\"text-align: center;\"><img src=\"https://i.ibb.co/99DQ3TY/DS-Courses.png\" class=\"img-fluid\" \n",
    "alt=\"CLRSWY_Courses\"></p>"
   ]
  },
  {
   "cell_type": "markdown",
   "metadata": {
    "id": "G120Z1WI96V1"
   },
   "source": [
    "<p style=\"text-align: center;\"><img src=https://i.ibb.co/8NdjfdZ/Num-Py-logo.png width=\"500\" height=\"200\">\n",
    "\n",
    "## <p style=\"background-color:#FDFEFE; font-family:newtimeroman; color:#060108; font-size:200%; text-align:center; border-radius:10px 10px;\">Data Analysis with Python</p>\n",
    "\n",
    "## <p style=\"background-color:#FDFEFE; font-family:newtimeroman; color:#060108; font-size:150%; text-align:center; border-radius:10px 10px;\">Session - 01</p>\n",
    "\n",
    "## <p style=\"background-color:#FDFEFE; font-family:newtimeroman; color:#E51A59; font-size:150%; text-align:center; border-radius:10px 10px;\">Numpy Arrays (Session-01 - Part-02)</p>"
   ]
  },
  {
   "cell_type": "markdown",
   "metadata": {
    "id": "0OV722ts96V1"
   },
   "source": [
    "<a id=\"toc\"></a>\n",
    "\n",
    "## <p style=\"background-color:#9d4f8c; font-family:newtimeroman; color:#FFF9ED; font-size:175%; text-align:center; border-radius:10px 10px;\">Content</p>\n",
    "\n",
    "* [WHY NUMPY? & WHY DO WE NEED IT?](#0)\n",
    "    * [When you make a change to an array, it becomes another object.](#0.1)\n",
    "    * [Advanced mathematical operations are executed more efficientl](#0.2)\n",
    "    * [Comparing list and array by ids](#0.3)\n",
    "    * [Comparing list and array by size](#0.4)\n",
    "    * [Comparing list and array by computation time](#0.5)\n",
    "* [THE END OF THE SESSION-01 (PART-02)](#1)"
   ]
  },
  {
   "cell_type": "markdown",
   "metadata": {
    "id": "7lw8ViVpusdH"
   },
   "source": [
    "## <p style=\"background-color:#9d4f8c; font-family:newtimeroman; color:#FFF9ED; font-size:175%; text-align:center; border-radius:10px 10px;\">Why Numpy? & Why Do We Need It?</p>\n",
    "\n",
    "<a id=\"0\"></a>\n",
    "<a href=\"#toc\" class=\"btn btn-primary btn-sm\" role=\"button\" aria-pressed=\"true\"\n",
    "style=\"color:blue; background-color:#dfa8e4\" data-toggle=\"popover\">Content</a>\n",
    "\n",
    "**There are several important differences between NumPy arrays and the standard Python sequences:**\n",
    "\n",
    "- **``NumPy arrays``** have a ``fixed size`` at creation, unlike Python lists (which can grow dynamically). Changing the size of an ndarray will create a new array and delete the original.\n",
    "\n",
    "- The elements in a **``NumPy array``** are all required to be of ``the same data type``, and thus will be the ``same size in memory``. The exception: one can have arrays of (Python, including NumPy) objects, thereby allowing for arrays of different sized elements.\n",
    "\n",
    "- **``NumPy arrays``** facilitate ``advanced mathematical and other types of operations`` on large numbers of data. Typically, such operations are executed more efficiently and ``with less code`` than is possible using Python's built-in sequences.\n",
    "\n",
    "- A growing plethora of scientific and mathematical Python-based packages are using NumPy arrays; though these typically support Python-sequence input, they convert such input to NumPy arrays prior to processing, and they often output NumPy arrays. In other words, in order to efficiently use much (perhaps even most) of today's scientific/mathematical Python-based software, just knowing how to use Python’s built-in sequence types is insufficient - one also needs to know how to use NumPy arrays.\n",
    "\n",
    "<img src=https://i.ibb.co/2FD1VMM/Numpy-vs-Lists.pngg width=\"500\" height=\"200\">\n",
    "\n",
    "[Numpy Array vs List Source 01](https://blog.finxter.com/what-are-advantages-of-numpy-over-regular-python-lists/),\n",
    "[Numpy Array vs List Source 02](https://numpy.org/doc/stable/user/whatisnumpy.html),\n",
    "[Numpy Array vs List Source 03](https://python.plainenglish.io/python-list-vs-numpy-array-whats-the-difference-7308cd4b52f6),\n",
    "[Numpy vs List Source 04](https://webcourses.ucf.edu/courses/1249560/pages/python-lists-vs-numpy-arrays-what-is-the-difference#:~:text=A%20numpy%20array%20is%20a,a%20tuple%20of%20nonnegative%20integers.&text=A%20list%20is%20the%20Python,contain%20elements%20of%20different%20types.),\n",
    "[Numpy Array vs List Source 05](https://dev.to/chanduthedev/python-list-vs-numpy-array-3pjp),\n",
    "[Numpy Array vs List Source 06](https://medium.com/analytics-vidhya/list-vs-numpy-comparision-35bf921588e9),\n",
    "[Numpy Array vs List Source 07](https://stackoverflow.com/questions/15944171/python-differences-between-lists-and-numpy-array-of-objects),\n",
    "[Numpy Array vs List Video Source 01](https://www.youtube.com/watch?v=mkbgEvUkSaM),\n",
    "[Numpy Array vs List Video Source 02](https://www.youtube.com/watch?v=JtW_xGNDEJ8),\n",
    "[Numpy Array vs List Video Source 03](https://www.youtube.com/watch?v=C10KmAbCW6A)"
   ]
  },
  {
   "cell_type": "code",
   "execution_count": null,
   "metadata": {
    "id": "5Th_BeYCusdP"
   },
   "outputs": [],
   "source": [
    "import numpy as np\n",
    "import time\n",
    "import sys"
   ]
  },
  {
   "cell_type": "markdown",
   "metadata": {
    "id": "85YF_Hsu96V4"
   },
   "source": [
    "### <p style=\"background-color:#9d4f8c; font-family:newtimeroman; color:#FFF9ED; font-size:150%; text-align:LEFT; border-radius:10px 10px;\">When you make a change to an array, it becomes another object!</p>\n",
    "\n",
    "<a id=\"0.1\"></a>\n",
    "<a href=\"#toc\" class=\"btn btn-primary btn-sm\" role=\"button\" aria-pressed=\"true\"\n",
    "style=\"color:blue; background-color:#dfa8e4\" data-toggle=\"popover\">Content</a>"
   ]
  },
  {
   "cell_type": "code",
   "execution_count": 39,
   "metadata": {
    "id": "nR1B9_Vz96V4",
    "outputId": "fb16fa5c-a295-4085-b768-9fbc19f883d5"
   },
   "outputs": [
    {
     "data": {
      "text/plain": [
       "array([1, 2, 3, 4, 5])"
      ]
     },
     "execution_count": 39,
     "metadata": {},
     "output_type": "execute_result"
    }
   ],
   "source": [
    "my_list = [1, 2, 3, 4, 5]\n",
    "\n",
    "my_first_array = np.array(my_list)\n",
    "my_first_array"
   ]
  },
  {
   "cell_type": "code",
   "execution_count": 40,
   "metadata": {
    "id": "RwYAUVCt96V5",
    "outputId": "cbddb4be-be33-4c6f-c2f5-b5d37f2fc906"
   },
   "outputs": [
    {
     "data": {
      "text/plain": [
       "1410958507440"
      ]
     },
     "execution_count": 40,
     "metadata": {},
     "output_type": "execute_result"
    }
   ],
   "source": [
    "id(my_first_array)  # this is the location of my_first_array in memory."
   ]
  },
  {
   "cell_type": "code",
   "execution_count": 41,
   "metadata": {},
   "outputs": [
    {
     "data": {
      "text/plain": [
       "1410977658704"
      ]
     },
     "execution_count": 41,
     "metadata": {},
     "output_type": "execute_result"
    }
   ],
   "source": [
    "my_first_array = np.append(my_first_array, (6, 7))  # the location of array changed.\n",
    "                                                    # the original one deleted, a different new array object now.\n",
    "\n",
    "id(my_first_array)"
   ]
  },
  {
   "cell_type": "markdown",
   "metadata": {
    "id": "PFYKc9fw96V6"
   },
   "source": [
    "**let's look at the same situation for the lists in Python:**"
   ]
  },
  {
   "cell_type": "code",
   "execution_count": 42,
   "metadata": {
    "id": "nfX4aXJ-96V6",
    "outputId": "756a7ce2-1d9a-4d5d-d832-ae542ce15aff"
   },
   "outputs": [
    {
     "data": {
      "text/plain": [
       "1410977501568"
      ]
     },
     "execution_count": 42,
     "metadata": {},
     "output_type": "execute_result"
    }
   ],
   "source": [
    "id(my_list)  # this is the location of my_list in memory."
   ]
  },
  {
   "cell_type": "code",
   "execution_count": 43,
   "metadata": {
    "id": "V5GRKdUX96V6",
    "outputId": "df6b1258-cb38-4178-8c92-980045153cab"
   },
   "outputs": [
    {
     "data": {
      "text/plain": [
       "[1, 2, 3, 4, 5, [6, 7]]"
      ]
     },
     "execution_count": 43,
     "metadata": {},
     "output_type": "execute_result"
    }
   ],
   "source": [
    "my_list.append([6, 7])  # we have added some values to the list.\n",
    "my_list"
   ]
  },
  {
   "cell_type": "code",
   "execution_count": 44,
   "metadata": {
    "id": "v3FEneU496V7",
    "outputId": "fa2d13a3-9224-4903-b9e3-0985916d6c0f"
   },
   "outputs": [
    {
     "data": {
      "text/plain": [
       "1410977501568"
      ]
     },
     "execution_count": 44,
     "metadata": {},
     "output_type": "execute_result"
    }
   ],
   "source": [
    "id(my_list)  # Be noted! The location of my_list didn't change.\n",
    "             # Unlike numpy arrays, it is still the same object!"
   ]
  },
  {
   "cell_type": "markdown",
   "metadata": {
    "id": "LOYow_Yy96V7"
   },
   "source": [
    "### <p style=\"background-color:#9d4f8c; font-family:newtimeroman; color:#FFF9ED; font-size:150%; text-align:LEFT; border-radius:10px 10px;\">Advanced mathematical operations are executed more efficiently</p>\n",
    "\n",
    "<a id=\"0.2\"></a>\n",
    "<a href=\"#toc\" class=\"btn btn-primary btn-sm\" role=\"button\" aria-pressed=\"true\"\n",
    "style=\"color:blue; background-color:#dfa8e4\" data-toggle=\"popover\">Content</a>"
   ]
  },
  {
   "cell_type": "code",
   "execution_count": 45,
   "metadata": {
    "id": "HLAnPG4o96V7"
   },
   "outputs": [],
   "source": [
    "list_a = [1, 2, 3, 4]\n",
    "list_b = [2, 3, 4, 5]"
   ]
  },
  {
   "cell_type": "code",
   "execution_count": 46,
   "metadata": {
    "id": "w7tbPih496V7"
   },
   "outputs": [
    {
     "ename": "NameError",
     "evalue": "name 'a' is not defined",
     "output_type": "error",
     "traceback": [
      "\u001b[1;31m---------------------------------------------------------------------------\u001b[0m",
      "\u001b[1;31mNameError\u001b[0m                                 Traceback (most recent call last)",
      "Cell \u001b[1;32mIn[46], line 1\u001b[0m\n\u001b[1;32m----> 1\u001b[0m a \u001b[38;5;241m*\u001b[39m b\n",
      "\u001b[1;31mNameError\u001b[0m: name 'a' is not defined"
     ]
    }
   ],
   "source": [
    "# a * b # Gives an error"
   ]
  },
  {
   "cell_type": "raw",
   "metadata": {
    "id": "G7gQKbdh96V7"
   },
   "source": [
    "---------------------------------------------------------------------------\n",
    "ValueError                                Traceback (most recent call last)\n",
    "<ipython-input-26-be282160eae8> in <module>\n",
    "----> 1 a * b # Gives an error\n",
    "\n",
    "ValueError: operands could not be broadcast together with shapes (1000,) (4,)"
   ]
  },
  {
   "cell_type": "code",
   "execution_count": 47,
   "metadata": {
    "id": "1Jkq3WWK96V7",
    "outputId": "b9fa06c7-f075-466e-e719-96434f815517"
   },
   "outputs": [
    {
     "data": {
      "text/plain": [
       "[2, 6, 12, 20]"
      ]
     },
     "execution_count": 47,
     "metadata": {},
     "output_type": "execute_result"
    }
   ],
   "source": [
    "a_mult_b = []\n",
    "\n",
    "for i in range(len(list_a)) :\n",
    "    a_mult_b.append(list_a[i] * list_b[i])\n",
    "\n",
    "a_mult_b"
   ]
  },
  {
   "cell_type": "markdown",
   "metadata": {
    "id": "tlOozzFi96V7"
   },
   "source": [
    "**let's do the same in the numpy arrays:**"
   ]
  },
  {
   "cell_type": "code",
   "execution_count": 48,
   "metadata": {
    "id": "XjiXrmIM96V8"
   },
   "outputs": [],
   "source": [
    "a_arr = np.array(list_a)\n",
    "b_arr = np.array(list_b)"
   ]
  },
  {
   "cell_type": "code",
   "execution_count": 49,
   "metadata": {
    "id": "e4Tnc_9j96V8",
    "outputId": "188322b4-20e7-4c2b-fdd3-6d91792b4d9d"
   },
   "outputs": [
    {
     "data": {
      "text/plain": [
       "array([ 2,  6, 12, 20])"
      ]
     },
     "execution_count": 49,
     "metadata": {},
     "output_type": "execute_result"
    }
   ],
   "source": [
    "a_arr * b_arr"
   ]
  },
  {
   "cell_type": "code",
   "execution_count": 50,
   "metadata": {},
   "outputs": [
    {
     "data": {
      "text/plain": [
       "array([1, 2, 3, 4])"
      ]
     },
     "execution_count": 50,
     "metadata": {},
     "output_type": "execute_result"
    }
   ],
   "source": [
    "a_arr"
   ]
  },
  {
   "cell_type": "markdown",
   "metadata": {
    "id": "9SrqWu_796V8"
   },
   "source": [
    "**Another example:**"
   ]
  },
  {
   "cell_type": "code",
   "execution_count": 51,
   "metadata": {
    "id": "EWIRsuOP96V8"
   },
   "outputs": [],
   "source": [
    "arr_1 = np.array([[1, 2, 3, 4], [1, 2, 3, 4], [2, 3, 4, 5]])\n",
    "arr_2 = np.array([[2, 3, 4, 5], [1, 2, 4, 5], [1, 2, 3, 4]])"
   ]
  },
  {
   "cell_type": "code",
   "execution_count": 52,
   "metadata": {
    "id": "UQxaRZdJ96V8",
    "outputId": "42835e8c-5b49-44d9-d66a-de4014317d86"
   },
   "outputs": [
    {
     "data": {
      "text/plain": [
       "array([[1, 2, 3, 4],\n",
       "       [1, 2, 3, 4],\n",
       "       [2, 3, 4, 5]])"
      ]
     },
     "execution_count": 52,
     "metadata": {},
     "output_type": "execute_result"
    }
   ],
   "source": [
    "arr_1"
   ]
  },
  {
   "cell_type": "code",
   "execution_count": 53,
   "metadata": {
    "id": "iHSnRPT196V9",
    "outputId": "7e03e09f-97e6-4ded-97b8-be15d7c02077"
   },
   "outputs": [
    {
     "data": {
      "text/plain": [
       "array([[2, 3, 4, 5],\n",
       "       [1, 2, 4, 5],\n",
       "       [1, 2, 3, 4]])"
      ]
     },
     "execution_count": 53,
     "metadata": {},
     "output_type": "execute_result"
    }
   ],
   "source": [
    "arr_2"
   ]
  },
  {
   "cell_type": "code",
   "execution_count": 54,
   "metadata": {
    "id": "ikbpEmTK96V9",
    "outputId": "34dedf37-d259-4fad-93a3-f0be415d0614"
   },
   "outputs": [
    {
     "data": {
      "text/plain": [
       "array([[ 2,  6, 12, 20],\n",
       "       [ 1,  4, 12, 20],\n",
       "       [ 2,  6, 12, 20]])"
      ]
     },
     "execution_count": 54,
     "metadata": {},
     "output_type": "execute_result"
    }
   ],
   "source": [
    "arr_1 * arr_2"
   ]
  },
  {
   "cell_type": "markdown",
   "metadata": {
    "id": "S_4Qa-Lw96V9"
   },
   "source": [
    "### <p style=\"background-color:#9d4f8c; font-family:newtimeroman; color:#FFF9ED; font-size:150%; text-align:LEFT; border-radius:10px 10px;\">Comparing list and array by ids</p>\n",
    "\n",
    "<a id=\"0.3\"></a>\n",
    "<a href=\"#toc\" class=\"btn btn-primary btn-sm\" role=\"button\" aria-pressed=\"true\"\n",
    "style=\"color:blue; background-color:#dfa8e4\" data-toggle=\"popover\">Content</a>"
   ]
  },
  {
   "cell_type": "code",
   "execution_count": 55,
   "metadata": {
    "id": "lpk0xbko96V9",
    "outputId": "1e345d19-249d-424b-dfeb-17d3199caa77"
   },
   "outputs": [
    {
     "name": "stdout",
     "output_type": "stream",
     "text": [
      "[1, 2, 3, 4]\n"
     ]
    },
    {
     "data": {
      "text/plain": [
       "1410978765056"
      ]
     },
     "execution_count": 55,
     "metadata": {},
     "output_type": "execute_result"
    }
   ],
   "source": [
    "print(list_a)\n",
    "id(list_a)"
   ]
  },
  {
   "cell_type": "code",
   "execution_count": 56,
   "metadata": {
    "id": "rKyJEHH396V9",
    "outputId": "1619c443-db95-4575-9623-fc4ea923f07b"
   },
   "outputs": [
    {
     "name": "stdout",
     "output_type": "stream",
     "text": [
      "[2, 3, 4, 5]\n"
     ]
    },
    {
     "data": {
      "text/plain": [
       "1410976582208"
      ]
     },
     "execution_count": 56,
     "metadata": {},
     "output_type": "execute_result"
    }
   ],
   "source": [
    "print(list_b)\n",
    "id(list_b)"
   ]
  },
  {
   "cell_type": "code",
   "execution_count": 57,
   "metadata": {
    "id": "dXrNPll996V-",
    "outputId": "b34d9f77-4377-4ba1-b2da-74654d370c3a"
   },
   "outputs": [
    {
     "data": {
      "text/plain": [
       "False"
      ]
     },
     "execution_count": 57,
     "metadata": {},
     "output_type": "execute_result"
    }
   ],
   "source": [
    "id(list_a) == id(list_b)"
   ]
  },
  {
   "cell_type": "code",
   "execution_count": 58,
   "metadata": {
    "id": "nx2CFO2Y96V-",
    "outputId": "9cc9f47a-b127-445e-e9d0-c71f7f2b7f81"
   },
   "outputs": [
    {
     "name": "stdout",
     "output_type": "stream",
     "text": [
      "[1, 2, 3, 4]\n",
      "[1, 2, 3, 4]\n"
     ]
    },
    {
     "data": {
      "text/plain": [
       "False"
      ]
     },
     "execution_count": 58,
     "metadata": {},
     "output_type": "execute_result"
    }
   ],
   "source": [
    "list_c = list_a[:]\n",
    "\n",
    "print(list_a)\n",
    "print(list_c)\n",
    "\n",
    "id(list_a) == id(list_c)"
   ]
  },
  {
   "cell_type": "code",
   "execution_count": 59,
   "metadata": {
    "id": "4PhUOrn496V-",
    "outputId": "15249b7d-d89b-413e-bc73-8b94741b3f43"
   },
   "outputs": [
    {
     "data": {
      "text/plain": [
       "True"
      ]
     },
     "execution_count": 59,
     "metadata": {},
     "output_type": "execute_result"
    }
   ],
   "source": [
    "list_c = list_a\n",
    "\n",
    "id(list_a) == id(list_c)"
   ]
  },
  {
   "cell_type": "code",
   "execution_count": 60,
   "metadata": {
    "id": "Y9U_AstW96V-",
    "outputId": "6b1a650c-4964-468a-e244-6cb64b772c71"
   },
   "outputs": [
    {
     "name": "stdout",
     "output_type": "stream",
     "text": [
      "[1, 2, 3, 4]\n",
      "1410978765056\n",
      "140719622886184\n",
      "140719622886216\n",
      "140719622886248\n",
      "False\n"
     ]
    }
   ],
   "source": [
    "print(list_a)\n",
    "\n",
    "print(id(list_a))\n",
    "print(id(list_a[0]))\n",
    "print(id(list_a[1]))\n",
    "print(id(list_a[2]))\n",
    "print(id(list_a[0]) == id(list_a[1]) == id(list_a[2]))"
   ]
  },
  {
   "cell_type": "code",
   "execution_count": 61,
   "metadata": {
    "id": "SGXm3hm896V_",
    "outputId": "bda82ea8-12e3-40fc-f9d8-8a5afc6d9aa1"
   },
   "outputs": [
    {
     "name": "stdout",
     "output_type": "stream",
     "text": [
      "[[1 2 3 4]\n",
      " [1 2 3 4]\n",
      " [2 3 4 5]]\n",
      "1410982971120\n",
      "1410989243728\n",
      "1410989243728\n",
      "1410989243728\n",
      "True\n"
     ]
    }
   ],
   "source": [
    "print(arr_1)\n",
    "\n",
    "print(id(arr_1))\n",
    "print(id(arr_1[0]))\n",
    "print(id(arr_1[1]))\n",
    "print(id(arr_1[2]))\n",
    "print(id(arr_1[0]) == id(arr_1[1]) == id(arr_1[2]))"
   ]
  },
  {
   "cell_type": "markdown",
   "metadata": {
    "id": "J2x1DJ8wusda"
   },
   "source": [
    "### <p style=\"background-color:#9d4f8c; font-family:newtimeroman; color:#FFF9ED; font-size:150%; text-align:LEFT; border-radius:10px 10px;\">Comparing list and array by size</p>\n",
    "\n",
    "<a id=\"0.4\"></a>\n",
    "<a href=\"#toc\" class=\"btn btn-primary btn-sm\" role=\"button\" aria-pressed=\"true\"\n",
    "style=\"color:blue; background-color:#dfa8e4\" data-toggle=\"popover\">Content</a>"
   ]
  },
  {
   "cell_type": "code",
   "execution_count": 62,
   "metadata": {
    "id": "U7_8EfgU96V_",
    "outputId": "0d45477b-7cc8-4c97-c567-00887ecc48b6"
   },
   "outputs": [
    {
     "data": {
      "text/plain": [
       "28"
      ]
     },
     "execution_count": 62,
     "metadata": {},
     "output_type": "execute_result"
    }
   ],
   "source": [
    "sys.getsizeof(5)  # Returns the size of object in bytes."
   ]
  },
  {
   "cell_type": "code",
   "execution_count": 63,
   "metadata": {
    "id": "Fg96FCTl96V_",
    "outputId": "a838c242-19a0-472e-ff17-38e87c7db472"
   },
   "outputs": [
    {
     "data": {
      "text/plain": [
       "28"
      ]
     },
     "execution_count": 63,
     "metadata": {},
     "output_type": "execute_result"
    }
   ],
   "source": [
    "sys.getsizeof(99999999)"
   ]
  },
  {
   "cell_type": "code",
   "execution_count": 65,
   "metadata": {
    "id": "W3AyU-Q596V_",
    "outputId": "84fcde96-67fb-431c-c5ec-05342ef843ad"
   },
   "outputs": [
    {
     "data": {
      "text/plain": [
       "50"
      ]
     },
     "execution_count": 65,
     "metadata": {},
     "output_type": "execute_result"
    }
   ],
   "source": [
    "sys.getsizeof(\"b\")"
   ]
  },
  {
   "cell_type": "code",
   "execution_count": 66,
   "metadata": {
    "id": "lQIYDWH096V_",
    "outputId": "35c3e9f0-722c-4f49-f4ef-64cae22007ca"
   },
   "outputs": [
    {
     "data": {
      "text/plain": [
       "59"
      ]
     },
     "execution_count": 66,
     "metadata": {},
     "output_type": "execute_result"
    }
   ],
   "source": [
    "sys.getsizeof(\"alidelveli\")"
   ]
  },
  {
   "cell_type": "code",
   "execution_count": 67,
   "metadata": {
    "id": "kbxGml1fusdb",
    "outputId": "8eb8a049-1cd1-4f2f-acdb-5e82fc0b9c84"
   },
   "outputs": [
    {
     "name": "stdout",
     "output_type": "stream",
     "text": [
      "size of one item in list : 28\n",
      "size of all items in list : 28000\n",
      "------------------------------\n",
      "size of one item in array : 4\n",
      "size of all items in array : 4000\n"
     ]
    }
   ],
   "source": [
    "numbers = range(1000)\n",
    "\n",
    "print(\"size of one item in list :\", sys.getsizeof(numbers[1]))  # sys.getsizeof() returns the memory size of the object\n",
    "print(\"size of all items in list :\", sys.getsizeof(numbers[1]) * len(numbers))\n",
    "\n",
    "print(\"---\" * 10)\n",
    "\n",
    "arr = np.arange(1000)\n",
    "\n",
    "print(\"size of one item in array :\", arr.itemsize)  # itemsize() returns the length of one array element in bytes.\n",
    "print(\"size of all items in array :\", arr.itemsize * arr.size)"
   ]
  },
  {
   "cell_type": "markdown",
   "metadata": {
    "id": "H35HqMSVusdb"
   },
   "source": [
    "### <p style=\"background-color:#9d4f8c; font-family:newtimeroman; color:#FFF9ED; font-size:150%; text-align:LEFT; border-radius:10px 10px;\">Comparing list and array by computation time</p>\n",
    "\n",
    "<a id=\"0.5\"></a>\n",
    "<a href=\"#toc\" class=\"btn btn-primary btn-sm\" role=\"button\" aria-pressed=\"true\"\n",
    "style=\"color:blue; background-color:#dfa8e4\" data-toggle=\"popover\">Content</a>"
   ]
  },
  {
   "cell_type": "code",
   "execution_count": 68,
   "metadata": {
    "id": "Qnz9oipNusdc",
    "outputId": "0294eba1-0b2e-443d-ee58-edec6008e6ee"
   },
   "outputs": [
    {
     "data": {
      "text/plain": [
       "1728551660.7434223"
      ]
     },
     "execution_count": 68,
     "metadata": {},
     "output_type": "execute_result"
    }
   ],
   "source": [
    "time.time()  # Return the current time in seconds since the Epoch."
   ]
  },
  {
   "cell_type": "code",
   "execution_count": 69,
   "metadata": {
    "id": "GgdfmG-w96WE",
    "outputId": "b9665da2-d4df-4ed2-a479-4a205841f15a"
   },
   "outputs": [
    {
     "data": {
      "text/plain": [
       "1728551669.3653455"
      ]
     },
     "execution_count": 69,
     "metadata": {},
     "output_type": "execute_result"
    }
   ],
   "source": [
    "start = time.time()  # Assigning the current epoch time to the \"start\" variable\n",
    "start"
   ]
  },
  {
   "cell_type": "code",
   "execution_count": 70,
   "metadata": {
    "id": "SGn_Indl96WE",
    "outputId": "0f966e94-be00-412e-a3b1-a369e4deb578"
   },
   "outputs": [
    {
     "data": {
      "text/plain": [
       "16.656564474105835"
      ]
     },
     "execution_count": 70,
     "metadata": {},
     "output_type": "execute_result"
    }
   ],
   "source": [
    "# Wait for several seconds and than run this cell.\n",
    "\n",
    "time.time() - start  # time difference between two operations"
   ]
  },
  {
   "cell_type": "code",
   "execution_count": 71,
   "metadata": {
    "id": "uFkACEQr96WE",
    "outputId": "c1768185-af90-4b5d-e77a-2948a045cc31"
   },
   "outputs": [
    {
     "name": "stdout",
     "output_type": "stream",
     "text": [
      "python list took :  338.49024772644043\n",
      "numpy array took : 40.62843322753906\n"
     ]
    }
   ],
   "source": [
    "size = 1000000\n",
    "\n",
    "items1 = range(size)\n",
    "\n",
    "items2 = range(size)\n",
    "\n",
    "a1 = np.arange(size)\n",
    "\n",
    "a2 = np.arange(size)\n",
    "\n",
    "start = time.time()\n",
    "\n",
    "result = [(x+y) for x, y in zip(items1, items2)]\n",
    "print(\"python list took : \", (time.time() - start) * 1000)\n",
    "\n",
    "start = time.time()\n",
    "result = a1 + a2\n",
    "print(\"numpy array took :\", (time.time()-start) * 1000)"
   ]
  },
  {
   "cell_type": "markdown",
   "metadata": {
    "id": "P_2lSOYG96WE"
   },
   "source": [
    "<a id=\"1\"></a>\n",
    "<a href=\"#toc\" class=\"btn btn-primary btn-sm\" role=\"button\" aria-pressed=\"true\"\n",
    "style=\"color:blue; background-color:#dfa8e4\" data-toggle=\"popover\">Content</a>\n",
    "\n",
    "## <p style=\"background-color:#FDFEFE; font-family:newtimeroman; color:#E51A59; font-size:150%; text-align:center; border-radius:10px 10px;\">End of the NumPy Session-01 (Part-02)</p>\n",
    "\n",
    "<p style=\"text-align: center;\"><img src=\"https://i.ibb.co/99DQ3TY/DS-Courses.png\" class=\"img-fluid\" \n",
    "alt=\"CLRSWY\"></p>\n",
    "\n",
    "\n",
    "<br><br><br>\n",
    "\n",
    "<p style=\"text-align: center;\"><img src=\"https://i.ibb.co/Rpz9L36/clarusway-logo-black.png\" width=\"450\" height=\"200\" class=\"img-fluid\" alt=\"CLRSWY_LOGO\"></p>\n",
    "\n",
    "<p style=\"background-color:#E51A59; font-family:newtimeroman; color:#FDFEFE; font-size:130%; text-align:center; border-radius:10px 10px;\">WAY TO REINVENT YOURSELF</p>"
   ]
  },
  {
   "cell_type": "markdown",
   "metadata": {
    "deletable": false,
    "editable": false
   },
   "source": [
    "<a href=\"https://clarusway.com/contact-us/\"><img align=\"center\" src=\"https://i.ibb.co/B43qn24/officially-licensed-logo.png\" alt=\"Open in Clarusway LMS\" width=\"110\" height=\"200\" title=\"This notebook is licensed by Clarusway IT training school. Please contact the authorized persons about the conditions under which you can use or share.\"></a>"
   ]
  }
 ],
 "metadata": {
  "colab": {
   "provenance": []
  },
  "kernelspec": {
   "display_name": "Python 3 (ipykernel)",
   "language": "python",
   "name": "python3"
  },
  "language_info": {
   "codemirror_mode": {
    "name": "ipython",
    "version": 3
   },
   "file_extension": ".py",
   "mimetype": "text/x-python",
   "name": "python",
   "nbconvert_exporter": "python",
   "pygments_lexer": "ipython3",
   "version": "3.11.5"
  },
  "toc": {
   "base_numbering": 1,
   "nav_menu": {},
   "number_sections": false,
   "sideBar": true,
   "skip_h1_title": false,
   "title_cell": "Table of Contents",
   "title_sidebar": "Contents",
   "toc_cell": false,
   "toc_position": {},
   "toc_section_display": true,
   "toc_window_display": true
  },
  "varInspector": {
   "cols": {
    "lenName": 16,
    "lenType": 16,
    "lenVar": 40
   },
   "kernels_config": {
    "python": {
     "delete_cmd_postfix": "",
     "delete_cmd_prefix": "del ",
     "library": "var_list.py",
     "varRefreshCmd": "print(var_dic_list())"
    },
    "r": {
     "delete_cmd_postfix": ") ",
     "delete_cmd_prefix": "rm(",
     "library": "var_list.r",
     "varRefreshCmd": "cat(var_dic_list()) "
    }
   },
   "types_to_exclude": [
    "module",
    "function",
    "builtin_function_or_method",
    "instance",
    "_Feature"
   ],
   "window_display": false
  }
 },
 "nbformat": 4,
 "nbformat_minor": 1
}
