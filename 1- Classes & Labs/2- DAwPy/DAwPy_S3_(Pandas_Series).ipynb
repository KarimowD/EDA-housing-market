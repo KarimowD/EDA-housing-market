{
 "cells": [
  {
   "cell_type": "markdown",
   "metadata": {
    "deletable": false,
    "editable": false
   },
   "source": [
    "<a href=\"https://clarusway.com/contact-us/\"><img align=\"center\" src=\"https://i.ibb.co/B43qn24/officially-licensed-logo.png\" alt=\"Open in Clarusway LMS\" width=\"110\" height=\"200\" title=\"This notebook is licensed by Clarusway IT training school. Please contact the authorized persons about the conditions under which you can use or share.\"></a>"
   ]
  },
  {
   "cell_type": "markdown",
   "metadata": {},
   "source": [
    "<hr>\n",
    "\n",
    "<a href=\"https://lms.clarusway.com/mod/lesson/view.php?id=2463&pageid=4531&startlastseen=no\"><img align=\"center\" src=\"https://i.ibb.co/6Z5pQxD/lmss.png\" alt=\"Open in Clarusway LMS\" width=\"70\" height=\"200\" title=\"Open Clarusway Learning Management Sytem\"></a>\n",
    "\n",
    "<a href=\"https://github.com/clarusway/DS-DE-0322-Students/blob/main/3-%20Classes%26Labs/2-DAwPY/DAwPy_S01_(Numpy_Arrays).ipynb\"><img align=\"left\" src=\"https://i.ibb.co/n3HWyQX/github-logo.png\" alt=\"Open in Clarusway GitHub\" width=\"90\" height=\"150\" title=\"Open and Execute in Clarusway GitHub Repository\"></a>\n",
    "\n",
    "<a href=\"https://nbviewer.org/github/4dsolutions/clarusway_data_analysis/blob/main/DAwPy_S1_%28Numpy_Arrays%29/DAwPy_S1_%28Numpy_Arrays%29.ipynb\"><img align=\"right\" src=\"https://i.ibb.co/48wtV8c/nbviewer-badge.png\" alt=\"Open in nbviewer\" width=\"100\" height=\"100\" title=\"Open and Execute in nbviewer\"></a><br/>\n",
    "\n",
    "<hr>\n",
    "\n",
    "<p style=\"text-align: center;\"><img src=\"https://i.ibb.co/Rpz9L36/clarusway-logo-black.png\" width=\"500\" height=\"200\" class=\"img-fluid\" alt=\"CLRSWY_LOGO\"></p>\n",
    "\n",
    "<p style=\"text-align: center;\"><img src=\"https://i.ibb.co/XS0bxSH/best-bootcamps.png\" width=\"300\" height=\"200\" class=\"img-fluid\" alt=\"CLRSWY_LOGO\"></p>\n",
    "\n",
    "<p style=\"background-color:#E51A59; font-family:newtimeroman; color:#FDFEFE; font-size:130%; text-align:center; border-radius:10px 10px;\">WAY TO REINVENT YOURSELF</p>\n",
    "\n",
    "<p style=\"text-align: center;\"><img src=\"https://i.ibb.co/99DQ3TY/DS-Courses.png\" class=\"img-fluid\" \n",
    "alt=\"CLRSWY_Courses\"></p>"
   ]
  },
  {
   "cell_type": "markdown",
   "metadata": {},
   "source": [
    "<img src=https://i.ibb.co/6gCsHd6/1200px-Pandas-logo-svg.png width=\"600\" height=\"200\">\n",
    "\n",
    "## <p style=\"background-color:#FDFEFE; font-family:newtimeroman; color:#060108; font-size:200%; text-align:center; border-radius:10px 10px;\">Data Analysis with Python</p>\n",
    "\n",
    "## <p style=\"background-color:#FDFEFE; font-family:newtimeroman; color:#060108; font-size:150%; text-align:center; border-radius:10px 10px;\">Session - 03</p>\n",
    "\n",
    "## <p style=\"background-color:#FDFEFE; font-family:newtimeroman; color:#E51A59; font-size:200%; text-align:center; border-radius:10px 10px;\">Pandas Series</p>"
   ]
  },
  {
   "cell_type": "markdown",
   "metadata": {},
   "source": [
    "<a id=\"toc\"></a>\n",
    "\n",
    "## <p style=\"background-color:#E51A59; font-family:newtimeroman; color:#FFF9ED; font-size:150%; text-align:center; border-radius:10px 10px;\">Content</p>\n",
    "\n",
    "* [IMPORTING LIBRARIES NEEDED IN THIS NOTEBOOK](#0)\n",
    "* [CREATING PANDAS SERIES](#1)\n",
    "    * [Using Lists](#1.1)\n",
    "    * [Using Numpy Arrays](#1.2)\n",
    "    * [Using Dictionaries](#1.3)\n",
    "    * [Using Scalar Value](#1.4)\n",
    "* [DATA IN A SERIES](#2)\n",
    "* [BASIC ATTRIBUTES & METHODS OF SERIES](#3)\n",
    "* [INDEXING AND SLICING WİTH PANDAS SERIES](#4)\n",
    "* [Selection with Condition and Broadcasting](#5)\n",
    "* [RECAP FOR SEVERAL SELECTING ATTRIBUTES](#6)\n",
    "* [THE END OF THE SESSION-03](#7)"
   ]
  },
  {
   "cell_type": "markdown",
   "metadata": {},
   "source": [
    "## <p style=\"background-color:#E51A59; font-family:newtimeroman; color:#FFF9ED; font-size:175%; text-align:center; border-radius:10px 10px;\">Importing Libraries Needed in This Notebook</p>\n",
    "\n",
    "<a id=\"0\"></a>\n",
    "<a href=\"#toc\" class=\"btn btn-primary btn-sm\" role=\"button\" aria-pressed=\"true\" \n",
    "style=\"color:blue; background-color:#dfa8e4\" data-toggle=\"popover\">Content</a>\n",
    "\n",
    "Once you've installed NumPy & Pandas you can import them as a library:"
   ]
  },
  {
   "cell_type": "code",
   "execution_count": null,
   "metadata": {
    "id": "i7VkXwmNuPZL"
   },
   "outputs": [],
   "source": [
    "import pandas as pd\n",
    "import numpy as np\n",
    "\n",
    "import warnings\n",
    "warnings.filterwarnings(\"ignore\")  # to suppress all warnings"
   ]
  },
  {
   "cell_type": "markdown",
   "metadata": {},
   "source": [
    "- ``import warnings``: This imports the warnings module, which is part of Python's standard library and provides a way to issue warning messages.\n",
    "- ``warnings.filterwarnings(\"ignore\")``: This function call tells Python to ignore all warning messages that would normally be printed. This can be useful when you want to focus on the output of your program without being distracted by warnings.\n",
    "\n",
    "<p style=\"background-color:#FFFFFF; font-family:newtimeroman; color:#FF0000; font-size:125%; text-align:left;\"><strong>📢 Caution ❗❗❗</strong></p>\n",
    "\n",
    "\n",
    "- Ignoring warnings can sometimes hide important issues in your code, so use this approach judiciously. It's generally better to address the underlying causes of warnings rather than suppressing them."
   ]
  },
  {
   "cell_type": "markdown",
   "metadata": {},
   "source": [
    "## <p style=\"background-color:#E51A59; font-family:newtimeroman; color:#FFF9ED; font-size:175%; text-align:center; border-radius:10px 10px;\">Creating a Pandas Series</p>\n",
    "\n",
    "<a id=\"1\"></a>\n",
    "<a href=\"#toc\" class=\"btn btn-primary btn-sm\" role=\"button\" aria-pressed=\"true\" \n",
    "style=\"color:blue; background-color:#dfa8e4\" data-toggle=\"popover\">Content</a>\n",
    "\n",
    "**``A series``** is a **one-dimensional data structure**. A Series is very **similar to a NumPy array** (in fact it is built on top of the NumPy array object). **What differentiates** the NumPy array from a Series, is that a Series can **have axis labels**, meaning it can be indexed by a label, instead of just a number location. It also doesn’t need to hold numeric data, it can hold any arbitrary Python Object [Source](http://www.datasciencelovers.com/python-for-data-science/pandas-series/).\n",
    "\n",
    "\n",
    "<p style=\"background-color:#FFFFFF; font-family:newtimeroman; color:#0000FF; font-size:120%; text-align:left;\"><strong>🔥 So important points to remember for Pandas Series are: 🔥</strong></p>\n",
    "\n",
    "\n",
    "- **``🤝 Homogeneous data``**: All the elements are of the same type. This consistency in data type allows for efficient storage and operations within the Series.\n",
    "    - **``Single Data Type``**: All elements in a Series share the same data type (e.g., all integers, all floats, all strings).\n",
    "    - **``Efficiency``**: Homogeneous data allows Pandas to ``optimize memory usage`` and ``computational speed`` since operations on uniform data types can be executed more efficiently.\n",
    "    - **``Type Inference``**: When we create a Series, Pandas automatically infers the data type based on the input data. We can also explicitly specify the data type using the dtype parameter.\n",
    "- **``⛔ Size Immutable``**: The size of a Pandas Series is immutable, meaning that once a Series is created, we CANNOT change its length (i.e., the number of elements it contains). The size (or length) of a Pandas Series is fixed once it is created. We CANNOT directly change the number of elements in the Series.\n",
    "    - **``Effect``**: If we want to change the size of a Series (e.g., adding or removing elements), we CANNOT do so directly. Instead, we would need to create a new Series.\n",
    "- **``🛠️ Values of Data Mutable``**: While the size of a Series is immutable, the individual values within the Series are mutable. This means we can modify the existing elements in the Series after it has been created.\n",
    "    - **``Effect``**: We can change the value of an element at a specific index without needing to create a new Series. While we can modify the individual elements of an existing Series (changing their values), this does NOT affect the overall size of the Series.\n",
    "<hr>\n",
    "\n",
    "\n",
    "### <p style=\"background-color:#FFFFFF; font-family:newtimeroman; color:#008000; font-size:125%; text-align:left;\"><strong>📑✍️ Summary Key Points from the Slides:</strong></p>\n",
    "\n",
    "\n",
    "- Pandas **``Series``** is a **``one-dimensional data structure``**. \n",
    "- It can hold data of many types including objects, floats, strings and integers. \n",
    "- We can create a series by calling ``pandas.Series()``. \n",
    "- A list, numpy array, dict can be turned into a pandas Series. We should use the simplest data structure that meets our needs [Source](https://pythonbasics.org/pandas-series/). \n",
    "- The **``axis labels``** are collectively called **``index``**. **``Labels``** need **``NOT be unique``** but **``MUST``** be a **``hashable type``**. The object supports both integer and label-based indexing and provides a host of methods for performing operations involving the index [Source](https://www.geeksforgeeks.org/creating-a-pandas-series/).\n",
    "\n",
    "  - In programming, particularly in Python, the term **``hashable``** refers to an object that has a **``hash value``** that **``remains constant during its lifetime``**. Hashable objects can be used as **``keys in dictionaries``** or as **``elements in sets``**.\n",
    "\n",
    "  - **``Key Characteristics of Hashable Objects:``**\n",
    "     - **``Immutable``**: Hashable objects CANNOT change their state or value once they are created. For example, tuples and strings are hashable because they are immutable. For example, in Python, strings are immutable, which means that when you perform operations that modify a string (like concatenation), a new string is created rather than changing the original string, its id and hash value will be changed.\n",
    "     - **``Consistent Hash Value``**: The hash value of a hashable object, which is generated by the built-in hash() function, must remain the same throughout the object's lifetime.\n",
    "     - **``Unique Representation``**: While hashable objects do NOT need to be unique, they must have a consistent way to represent their identity. Two different objects can have the same hash value (a scenario known as a hash collision).\n",
    "       - **``Examples of Hashable Types:``**\n",
    "         - **``Immutable Types:``**\n",
    "           - Integers\n",
    "           - Floats\n",
    "           - Strings\n",
    "           - Tuples (as long as they contain only hashable elements)\n",
    "         - **``Non-Hashable Types:``**\n",
    "           - Lists (mutable)\n",
    "           - Dictionaries (mutable)\n",
    "           - Sets (mutable)\n",
    "  - **``Usage in Pandas:``**\n",
    "    - In the context of a Pandas Series, the index is used to label the data elements. While these labels do NOT have to be unique (i.e., you can have repeated labels), they MUST be of a hashable type, enabling efficient data access and manipulation. When we change the index labels of a Pandas Series, the hash values of those labels will also change.\n",
    "\n",
    "  - **``Key Points about Index in a Pandas Series:``**\n",
    "    - **``Hashable Labels``**: The labels used in the index (e.g., strings, integers, tuples) must be hashable. This is because the internal structure of Pandas often relies on using these labels as keys, similar to how dictionaries work.\n",
    "    - **``Modifiable Index``**: You can change the index of a Series after it has been created. For example, you can set a new index using series.index = new_index. However, the new index must still consist of hashable types.\n",
    "    - **``Uniqueness Not Required``**: While the index labels must be hashable, they do not need to be unique. This means you can have repeated labels in the index, but each label must still be a hashable type.\n",
    "    - **``Immutable Hash Values``**: Each individual label in the index (like strings, integers, etc.) has a hash value that is based on its content. For instance, the hash value of the string \"a\" will always be the same as long as it remains unchanged.\n",
    "    - **``Changing Labels``**: When we change an index label in a Pandas Series, we are essentially replacing the old label with a new one. Since the new label is a different object (even if it has similar content), it will have a different hash value.\n",
    "      - When the index labels are changed, they are replaced with new labels.\n",
    "      - Each new label will have a different hash value compared to the old label, reflecting that they are different objects.\n",
    "      - Thus, changing index labels results in new hash values for those labels.\n",
    "\n",
    "[SOURCE01](https://pandas.pydata.org/docs/reference/api/pandas.Series.html), [SOURCE02](https://www.datasciencemadesimple.com/create-series-in-python-pandas/), \n",
    "[SOURCE03](https://www.cbsecsip.in/2020/08/pandas-data-structure-series.html), \n",
    "[SOURCE04](https://towardsdatascience.com/pandas-series-a-lightweight-intro-b7963a0d62a2), \n",
    "[SOURCE05](https://www.educba.com/pandas-series/), \n",
    "[SOURCE06](http://www.rebellionrider.com/python-pandas-series-in-detail-part-1/), \n",
    "[SOURCE06](https://www.javatpoint.com/python-pandas-series), &\n",
    "[SOURCE06](https://towardsdatascience.com/20-examples-to-master-pandas-series-bc4c68200324)<br>\n",
    "<hr>\n",
    "\n",
    "<p style=\"background-color:#FFFFFF; font-family:newtimeroman; color:#0000FF; font-size:120%; text-align:left;\"><strong>👉 In this lecture we will discuss how to create Pandas Series, use basic attributes of Series, index Pandas Series & be familiar with Pandas Dataframes.</strong></p>\n",
    "\n",
    "<hr>"
   ]
  },
  {
   "cell_type": "markdown",
   "metadata": {},
   "source": [
    "<p style=\"background-color:#FFFFFF; font-family:newtimeroman; color:#0000FF; font-size:120%; text-align:left;\"><strong>🏃🏃🏽‍♀👉 Let's begin our introduction by exploring how to create Pandas Series.</strong></p>\n",
    "\n",
    "\n",
    "- **You can create a series by calling pandas. Series() . A list, numpy array, dict and scalar value can be turned into a pandas series.**\n",
    "\n",
    "   - **``pd.Series(data=None, index=None, dtype=None, name=None, copy=False, fastpath=False)``**\n",
    "\n",
    "### <p style=\"background-color:#FFFFFF; font-family:newtimeroman; color:#008000; font-size:125%; text-align:left;\"><strong>🥳 Our First Series:</strong></p>\n",
    "\n",
    "- We first create a variaty of objects including Python lists, Numpy Array, and Python Dictionary for our operation."
   ]
  },
  {
   "cell_type": "code",
   "execution_count": 103,
   "metadata": {
    "id": "XUnr4ijkuPZS"
   },
   "outputs": [],
   "source": [
    "# Create a simple list of strings\n",
    "labels = ['a', 'b', 'c']\n",
    "\n",
    "# Create a simple list of integers\n",
    "my_list = [10, 20, 30]\n",
    "\n",
    "# Create a NumPy array from a list of integers\n",
    "arr = np.array([10, 20, 30])\n",
    "\n",
    "# Create a simple Python Dictionary\n",
    "d = {'a': 10, 'b': 20, 'c': 30}"
   ]
  },
  {
   "cell_type": "markdown",
   "metadata": {},
   "source": [
    "### <p style=\"background-color:#E51A59; font-family:newtimeroman; color:#FFF9ED; font-size:150%; text-align:center; border-radius:10px 10px;\">Using Lists</p>\n",
    "\n",
    "<a id=\"1.2.1\"></a>\n",
    "<a href=\"#toc\" class=\"btn btn-primary btn-sm\" role=\"button\" aria-pressed=\"true\" \n",
    "style=\"color:blue; background-color:#dfa8e4\" data-toggle=\"popover\">Content</a>\n",
    "\n",
    "**To turn a list into a series, all you have to do is:**"
   ]
  },
  {
   "cell_type": "code",
   "execution_count": 104,
   "metadata": {
    "colab": {
     "base_uri": "https://localhost:8080/"
    },
    "id": "lgPxt-BouPZS",
    "outputId": "a9141f61-111f-44fa-f8dc-9dff6e52b8fe"
   },
   "outputs": [
    {
     "data": {
      "text/plain": [
       "0    a\n",
       "1    b\n",
       "2    c\n",
       "dtype: object"
      ]
     },
     "execution_count": 104,
     "metadata": {},
     "output_type": "execute_result"
    }
   ],
   "source": [
    "# Create a Pandas Series from a list of strings\n",
    "\n",
    "pd.Series(labels)"
   ]
  },
  {
   "cell_type": "code",
   "execution_count": 105,
   "metadata": {
    "colab": {
     "base_uri": "https://localhost:8080/"
    },
    "id": "NLASEzrbuPZT",
    "outputId": "5ea96ab1-dd1f-47bd-aa94-742397bfd9b0"
   },
   "outputs": [
    {
     "data": {
      "text/plain": [
       "0    10\n",
       "1    20\n",
       "2    30\n",
       "dtype: int64"
      ]
     },
     "execution_count": 105,
     "metadata": {},
     "output_type": "execute_result"
    }
   ],
   "source": [
    "# Create a Pandas Series from a list of integers\n",
    "\n",
    "pd.Series(my_list)"
   ]
  },
  {
   "cell_type": "code",
   "execution_count": 108,
   "metadata": {},
   "outputs": [
    {
     "data": {
      "text/plain": [
       "0    10\n",
       "1    20\n",
       "2    30\n",
       "dtype: int64"
      ]
     },
     "execution_count": 108,
     "metadata": {},
     "output_type": "execute_result"
    }
   ],
   "source": [
    "# Create a Pandas Series from a list of integers\n",
    "\n",
    "pd.Series((10, 20, 30))"
   ]
  },
  {
   "cell_type": "markdown",
   "metadata": {},
   "source": [
    "- **By default it assigns an index. First it shows the index, then the element value.**"
   ]
  },
  {
   "cell_type": "markdown",
   "metadata": {},
   "source": [
    "### <p style=\"background-color:#E51A59; font-family:newtimeroman; color:#FFF9ED; font-size:150%; text-align:center; border-radius:10px 10px;\">Using NumPy Arrays</p>\n",
    "\n",
    "<a id=\"1.2.2\"></a>\n",
    "<a href=\"#toc\" class=\"btn btn-primary btn-sm\" role=\"button\" aria-pressed=\"true\" \n",
    "style=\"color:blue; background-color:#dfa8e4\" data-toggle=\"popover\">Content</a>\n",
    "\n",
    "**You can create a Series from a Numpy ndarray.**"
   ]
  },
  {
   "cell_type": "code",
   "execution_count": 109,
   "metadata": {},
   "outputs": [
    {
     "data": {
      "text/plain": [
       "array([10, 20, 30])"
      ]
     },
     "execution_count": 109,
     "metadata": {},
     "output_type": "execute_result"
    }
   ],
   "source": [
    "# Let's remember our array\n",
    "\n",
    "arr"
   ]
  },
  {
   "cell_type": "code",
   "execution_count": 113,
   "metadata": {
    "colab": {
     "base_uri": "https://localhost:8080/"
    },
    "id": "bMxCiRcxuPZU",
    "outputId": "fd28e2fc-1ddf-4b32-8450-7a6b91d13a99"
   },
   "outputs": [
    {
     "data": {
      "text/plain": [
       "a    10\n",
       "b    20\n",
       "c    30\n",
       "dtype: int32"
      ]
     },
     "execution_count": 113,
     "metadata": {},
     "output_type": "execute_result"
    }
   ],
   "source": [
    "# Create a Pandas Series from a Numpy array\n",
    "\n",
    "pd.Series(data=arr, index=labels)"
   ]
  },
  {
   "cell_type": "markdown",
   "metadata": {},
   "source": [
    "### <p style=\"background-color:#E51A59; font-family:newtimeroman; color:#FFF9ED; font-size:150%; text-align:center; border-radius:10px 10px;\">Using Dictionaries</p>\n",
    "\n",
    "<a id=\"1.2.3\"></a>\n",
    "<a href=\"#toc\" class=\"btn btn-primary btn-sm\" role=\"button\" aria-pressed=\"true\" \n",
    "style=\"color:blue; background-color:#dfa8e4\" data-toggle=\"popover\">Content</a>\n",
    "\n",
    "**If you have a Python Dictionary, you can turn it into a Series:**"
   ]
  },
  {
   "cell_type": "code",
   "execution_count": 114,
   "metadata": {
    "colab": {
     "base_uri": "https://localhost:8080/"
    },
    "id": "qjd4_CbY9kPN",
    "outputId": "0cf69d9d-12eb-47c3-d2eb-51b57f9854e7"
   },
   "outputs": [
    {
     "data": {
      "text/plain": [
       "{'a': 10, 'b': 20, 'c': 30}"
      ]
     },
     "execution_count": 114,
     "metadata": {},
     "output_type": "execute_result"
    }
   ],
   "source": [
    "# Let's remember our Python Dictionary\n",
    "\n",
    "d"
   ]
  },
  {
   "cell_type": "code",
   "execution_count": 115,
   "metadata": {
    "colab": {
     "base_uri": "https://localhost:8080/"
    },
    "id": "mhSuOow-uPZV",
    "outputId": "8f41ce28-30b9-4fa6-ba10-e2861888155a"
   },
   "outputs": [
    {
     "data": {
      "text/plain": [
       "a    10\n",
       "b    20\n",
       "c    30\n",
       "dtype: int64"
      ]
     },
     "execution_count": 115,
     "metadata": {},
     "output_type": "execute_result"
    }
   ],
   "source": [
    "# Create a Pandas Series from a Python Dictionary\n",
    "\n",
    "pd.Series(d)"
   ]
  },
  {
   "cell_type": "markdown",
   "metadata": {},
   "source": [
    "It used the **``dictionary keys``** as **``index``**. The keys of the dictionary match with the Index values; hence, the default Index values have NO effect in this case."
   ]
  },
  {
   "cell_type": "code",
   "execution_count": 116,
   "metadata": {
    "colab": {
     "base_uri": "https://localhost:8080/"
    },
    "id": "lZrm9t_IuPZV",
    "outputId": "8be20530-244d-448c-d4bb-8f34bb3b661e"
   },
   "outputs": [
    {
     "data": {
      "text/plain": [
       "q     NaN\n",
       "c    30.0\n",
       "y     NaN\n",
       "dtype: float64"
      ]
     },
     "execution_count": 116,
     "metadata": {},
     "output_type": "execute_result"
    }
   ],
   "source": [
    "# Create a Series using the Python Dictionary and the labels\n",
    "\n",
    "pd.Series(data=d, index=['q', 'c', 'y'])"
   ]
  },
  {
   "cell_type": "markdown",
   "metadata": {},
   "source": [
    "- In the example above, when we create a Pandas Series from a dictionary with a specified index, **``the NaN (Not a Number) values appear for the labels in the index that do NOT match any keys in the dictionary``**.\n",
    "\n",
    "  - **``Index Specification:``**\n",
    "    - We specified an index of ['q', 'c', 'y']. This means we want the Series to look for these labels.\n",
    "      - The dictionary d only contains keys 'a', 'b', and 'c'.\n",
    "  - **``Key Matching:``**\n",
    "    - When Pandas constructs the Series, it looks for each label in the specified index:\n",
    "      - For **``'q'``**: There is **``NO``** corresponding key in the dictionary, so it is filled with **``NaN``**.\n",
    "      - For **``'c'``**: There is a corresponding value (30) in the dictionary, so it is filled with that value.\n",
    "      - For **``'y'``**: There is **``NO``** corresponding key in the dictionary, so it is also filled with **``NaN``**.\n",
    "\n",
    "<p style=\"background-color:#FFFFFF; font-family:newtimeroman; color:#FF0000; font-size:125%; text-align:left;\"><strong>📢❗🚨 Note that the Index is first build with the keys from the dictionary. After this the Series is reindexed with the given Index values, hence we get all NaN as a result.</strong></p>"
   ]
  },
  {
   "cell_type": "markdown",
   "metadata": {},
   "source": [
    "### <p style=\"background-color:#E51A59; font-family:newtimeroman; color:#FFF9ED; font-size:150%; text-align:center; border-radius:10px 10px;\">Using Scalar Value</p>\n",
    "\n",
    "<a id=\"1.2.4\"></a>\n",
    "<a href=\"#toc\" class=\"btn btn-primary btn-sm\" role=\"button\" aria-pressed=\"true\" \n",
    "style=\"color:blue; background-color:#dfa8e4\" data-toggle=\"popover\">Content</a>\n",
    "\n",
    " - **``Scalars``** are **``single values``** representing one unit of data, such as an integer or bool, as **``opposed to``** data structures like a **``list``** or **``tuple``**, which are composed of scalars.\n",
    "\n",
    "   - 📌 If data is a scalar value, an **``index must be provided``**. The value will be **``repeated``** to match the length of index [Source](https://www.tutorialspoint.com/python_pandas/python_pandas_series.htm)."
   ]
  },
  {
   "cell_type": "code",
   "execution_count": 117,
   "metadata": {
    "id": "DQLe05nC93Y0",
    "outputId": "a851f29b-8d78-4de8-a6d0-496d8db083c6"
   },
   "outputs": [
    {
     "data": {
      "text/plain": [
       "0    Matthew\n",
       "dtype: object"
      ]
     },
     "execution_count": 117,
     "metadata": {},
     "output_type": "execute_result"
    }
   ],
   "source": [
    "# Create a Pandas Series using a scalar value\n",
    "\n",
    "pd.Series(data=\"Matthew\")"
   ]
  },
  {
   "cell_type": "markdown",
   "metadata": {},
   "source": [
    "- **``Scalar Value``**: In this case, \"Matthew\" is a scalar value (a single string).\n",
    "- **``Default Index``**: By default, Pandas assigns a numeric index starting from 0. Since we provided a single scalar value, the Series will have one element at index 0.\n",
    "- **``Data Type``**: The data type of the Series is object since it contains string data.\n",
    "<HR>"
   ]
  },
  {
   "cell_type": "code",
   "execution_count": 118,
   "metadata": {},
   "outputs": [
    {
     "data": {
      "text/plain": [
       "range(0, 3)"
      ]
     },
     "execution_count": 118,
     "metadata": {},
     "output_type": "execute_result"
    }
   ],
   "source": [
    "range(3)"
   ]
  },
  {
   "cell_type": "code",
   "execution_count": 119,
   "metadata": {
    "id": "V6rqr53693Y0",
    "outputId": "b428a60c-1beb-462d-f60d-aa79d386d9ca"
   },
   "outputs": [
    {
     "data": {
      "text/plain": [
       "0    Matthew\n",
       "1    Matthew\n",
       "2    Matthew\n",
       "dtype: object"
      ]
     },
     "execution_count": 119,
     "metadata": {},
     "output_type": "execute_result"
    }
   ],
   "source": [
    "# Create a Pandas Series using a scalar value and a specified index\n",
    "\n",
    "pd.Series(data=\"Matthew\", index=range(3))"
   ]
  },
  {
   "cell_type": "markdown",
   "metadata": {},
   "source": [
    " - **``Scalar Value``**: The scalar value \"Matthew\" is provided as the data for the Series.\n",
    " - **``Index Specification``**: The index is specified using range(3), which generates the indices 0, 1, and 2.\n",
    " - **``Repetition of Scalar``**: Since we provided a scalar value and specified an index with three positions, the scalar value \"Matthew\" is repeated for each index.\n",
    " - **``Data Type``**: The data type of the Series is object, which is typical for string data in Pandas.\n",
    "<hr>"
   ]
  },
  {
   "cell_type": "code",
   "execution_count": 120,
   "metadata": {
    "id": "hpncx0vL93Y1",
    "outputId": "662a98ed-534b-462f-ea8f-27851f69d77f"
   },
   "outputs": [
    {
     "data": {
      "text/plain": [
       "a    10\n",
       "b    10\n",
       "c    10\n",
       "dtype: int64"
      ]
     },
     "execution_count": 120,
     "metadata": {},
     "output_type": "execute_result"
    }
   ],
   "source": [
    "# Create a Pandas Series using a scalar value and a specified index\n",
    "\n",
    "pd.Series(data=10, index=['a', 'b', 'c'])"
   ]
  },
  {
   "cell_type": "markdown",
   "metadata": {},
   "source": [
    " - **``Scalar Value``**: The scalar value 10 is provided as the data for the Series.\n",
    " - **``Index Specification``**: The index is specified as ['a', 'b', 'c'], which means the Series will have these labels.\n",
    " - **``Repetition of Scalar``**: Since we provided a scalar value and specified an index with three positions, the scalar value 10 is repeated for each index label.\n",
    " - **``Data Type``**: The data type of the Series is int64 because the scalar value is an integer.\n",
    " <hr>"
   ]
  },
  {
   "cell_type": "markdown",
   "metadata": {
    "id": "zK1CZtLouPZV"
   },
   "source": [
    "## <p style=\"background-color:#E51A59; font-family:newtimeroman; color:#FFF9ED; font-size:175%; text-align:center; border-radius:10px 10px;\">Data in a Series</p>\n",
    "\n",
    "<a id=\"2\"></a>\n",
    "<a href=\"#toc\" class=\"btn btn-primary btn-sm\" role=\"button\" aria-pressed=\"true\" \n",
    "style=\"color:blue; background-color:#dfa8e4\" data-toggle=\"popover\">Content</a>\n",
    "\n",
    "**``A series``** is a **one-dimensional data structure**. A Series is very **similar to a NumPy array** (in fact it is built on top of the NumPy array object). **What differentiates** the NumPy array from a Series, is that a Series can **have axis labels**, meaning it can be indexed by a label, instead of just a number location. It also doesn’t need to hold numeric data, it can hold any arbitrary Python Object [Source](http://www.datasciencelovers.com/python-for-data-science/pandas-series/).\n",
    "\n",
    "<p style=\"background-color:#FFFFFF; font-family:newtimeroman; color:#FF0000; font-size:125%; text-align:left;\"><strong>📢 REMINDER: Important points to remember for Pandas Series are:</strong></p>\n",
    "\n",
    "- **``Homogeneous data``**\n",
    "- **``Size Immutable``**\n",
    "- **``Values of Data Mutable``**\n",
    "\n",
    "<hr>\n",
    "\n",
    "### <p style=\"background-color:#FFFFFF; font-family:newtimeroman; color:#008000; font-size:125%; text-align:left;\"><strong>A pandas Series can hold a variety of object types:</strong></p>\n"
   ]
  },
  {
   "cell_type": "code",
   "execution_count": 121,
   "metadata": {},
   "outputs": [
    {
     "data": {
      "text/plain": [
       "0     <class 'set'>\n",
       "1    <class 'list'>\n",
       "2    <class 'dict'>\n",
       "dtype: object"
      ]
     },
     "execution_count": 121,
     "metadata": {},
     "output_type": "execute_result"
    }
   ],
   "source": [
    "# Create a Pandas Series with a list of data types. The Series created contains \"class types\" as its elements.\n",
    "\n",
    "pd.Series([set, list, dict])"
   ]
  },
  {
   "cell_type": "markdown",
   "metadata": {},
   "source": [
    "- **``List of Types``**: The input list contains the types set, list, and dict. These are class types in Python, not instances of those types.\n",
    "- **``Index``**: By default, Pandas assigns a numeric index starting from 0 to each element in the Series.\n",
    "- **``Data Type``**: The data type of the Series is object, which is the default type for storing mixed or non-numeric data in Pandas.\n",
    "<hr>"
   ]
  },
  {
   "cell_type": "code",
   "execution_count": 122,
   "metadata": {
    "colab": {
     "base_uri": "https://localhost:8080/"
    },
    "id": "baQMWFZyuPZW",
    "outputId": "c0a149e6-ab2e-40a3-cdef-b0a65275973d"
   },
   "outputs": [
    {
     "data": {
      "text/plain": [
       "{2, 5, 7, 8}"
      ]
     },
     "execution_count": 122,
     "metadata": {},
     "output_type": "execute_result"
    }
   ],
   "source": [
    "# Call the first element of the Series (which is the set type) with a list\n",
    "\n",
    "pd.Series([set, list, dict])                     [0]               ([2, 5, 7, 5, 8, 2])"
   ]
  },
  {
   "cell_type": "markdown",
   "metadata": {},
   "source": [
    "- **``Creating the Series:``**\n",
    "  - pd.Series(set) creates a Series where the first element is the **``set type``** itself.\n",
    "- **``Accessing the First Element:``**\n",
    "  - series[0] retrieves the **``set class``** from the Series.\n",
    "- **``Calling the Set Constructor:``**\n",
    "  - By calling series[0]([2, 5, 7, 5, 8, 2]), we invoke the set constructor with a list of numbers. This constructs a set from the list, automatically removing duplicates.\n",
    "- **``Result:``**\n",
    "  - The result is {2, 5, 7, 8}, which is a set containing unique values from the input list.\n",
    "\n",
    "<hr>\n",
    "\n",
    "### <p style=\"background-color:#FFFFFF; font-family:newtimeroman; color:#008000; font-size:125%; text-align:left;\"><strong>Even functions can be used:</strong></p>\n",
    "\n",
    "**The following code creates a Pandas Series from a ``list of functions (like sum, print, and len)``, we can store and access these functions as elements of the Series (although it's unlikely to use Series in such situations but the example shows the power of Series).** "
   ]
  },
  {
   "cell_type": "code",
   "execution_count": 123,
   "metadata": {
    "colab": {
     "base_uri": "https://localhost:8080/"
    },
    "id": "xuunC4i_uPZW",
    "outputId": "5f22ece4-515a-4b94-a14f-f8f7d7761d18"
   },
   "outputs": [
    {
     "data": {
      "text/plain": [
       "0      <built-in function sum>\n",
       "1    <built-in function print>\n",
       "2      <built-in function len>\n",
       "dtype: object"
      ]
     },
     "execution_count": 123,
     "metadata": {},
     "output_type": "execute_result"
    }
   ],
   "source": [
    "pd.Series([sum, print, len])"
   ]
  },
  {
   "cell_type": "code",
   "execution_count": 124,
   "metadata": {
    "id": "SMU5jdDi93Y3",
    "outputId": "28a27363-3ce8-484a-8505-51290f0072f0"
   },
   "outputs": [
    {
     "name": "stdout",
     "output_type": "stream",
     "text": [
      "a\n"
     ]
    }
   ],
   "source": [
    "# Call the \"print\" function from the Series with the argument \"a\"\n",
    "\n",
    "pd.Series([sum, print, len])    [1]     (\"a\")"
   ]
  },
  {
   "cell_type": "markdown",
   "metadata": {},
   "source": [
    "- **``Creating the Series``**: The Series is created with three functions: sum, print, and len.\n",
    "- **``Accessing the Function``**: series[1] retrieves the **``print function``** from the Series.\n",
    "- **``Calling the Function``**: When we call series[1](\"a\"), we invoke the print function with the argument \"a\".\n",
    "- **``Output``**: The print function outputs the string directly to the console, resulting in a.\n",
    "<hr>"
   ]
  },
  {
   "cell_type": "code",
   "execution_count": 125,
   "metadata": {},
   "outputs": [
    {
     "data": {
      "text/plain": [
       "9"
      ]
     },
     "execution_count": 125,
     "metadata": {},
     "output_type": "execute_result"
    }
   ],
   "source": [
    "# Call the \"len\" function from the Series with the argument \"a\"\n",
    "\n",
    "pd.Series([sum, print, len])            [2]               (\"clarusway\")"
   ]
  },
  {
   "cell_type": "markdown",
   "metadata": {},
   "source": [
    "- **``Creating the Series``**: The Series is created with three functions: sum, print, and len.\n",
    "- **``Accessing the Function``**: series[2] retrieves the **``len function``** from the Series.\n",
    "- **``Calling the Function``**: When we call series[2](\"clarusway\"), we invoke the len function with the argument \"clarusway\".\n",
    "- **``Output``**: The print function outputs the length of the argumnet \"clarusway\" directly to the console, resulting in 9.\n",
    "<hr>"
   ]
  },
  {
   "cell_type": "code",
   "execution_count": 126,
   "metadata": {
    "id": "W4LwTYgauPZX"
   },
   "outputs": [],
   "source": [
    "# Define a list containing mixed data types of string, integer, and boolean\n",
    "\n",
    "mix_data = ['Matthew', 2, True]"
   ]
  },
  {
   "cell_type": "code",
   "execution_count": 127,
   "metadata": {},
   "outputs": [
    {
     "data": {
      "text/plain": [
       "0    Matthew\n",
       "1          2\n",
       "2       True\n",
       "dtype: object"
      ]
     },
     "execution_count": 127,
     "metadata": {},
     "output_type": "execute_result"
    }
   ],
   "source": [
    "# Create a Pandas Series from the mixed data\n",
    "ser = pd.Series(mix_data)\n",
    "\n",
    "# Display the Series\n",
    "ser"
   ]
  },
  {
   "cell_type": "code",
   "execution_count": 129,
   "metadata": {},
   "outputs": [
    {
     "data": {
      "text/plain": [
       "dtype('O')"
      ]
     },
     "execution_count": 129,
     "metadata": {},
     "output_type": "execute_result"
    }
   ],
   "source": [
    "# Check the data type of the Series\n",
    "\n",
    "ser.dtype"
   ]
  },
  {
   "cell_type": "markdown",
   "metadata": {},
   "source": [
    "- **``object Data Type``**: In this context, object is the default data type used by Pandas for Series that contain mixed data types. It signifies that the elements can be of different types (like strings, integers, booleans, etc.).\n",
    "\n",
    "In Pandas, the data type object is used to represent a collection of mixed or heterogeneous data types. Here’s why the dtype of a Series containing mixed data types (like strings, integers, and booleans) is object:\n",
    "\n",
    "- **``Reasons for object Data Type:``**\n",
    "  - **``Heterogeneous Data``**:\n",
    "When a Series contains elements of different types (such as strings, integers, and booleans), Pandas CANNOT assign a more specific data type (like int64, float64, or bool) because those data types are NOT UNIFORM across the Series.\n",
    "  - **``Flexibility``**:\n",
    "The object type allows for the storage of any Python object, making it flexible enough to accommodate various data types. This is particularly useful for cases where data might NOT be uniform.\n",
    "  - **``Underlying Implementation``**:\n",
    "Pandas is built on top of NumPy, which has fixed data types for efficiency. When you introduce mixed types, Pandas defaults to using object to avoid losing information or raising errors.\n",
    "  - **``Performance Considerations``**:\n",
    "While object type allows for flexibility, it may NOT be as performant as using specific types (like int or float). Operations on object dtype can be slower because they involve more generic handling of elements.\n",
    "\n",
    "<hr>"
   ]
  },
  {
   "cell_type": "code",
   "execution_count": 130,
   "metadata": {},
   "outputs": [
    {
     "data": {
      "text/plain": [
       "pandas.core.series.Series"
      ]
     },
     "execution_count": 130,
     "metadata": {},
     "output_type": "execute_result"
    }
   ],
   "source": [
    "# Check the type of the Series\n",
    "\n",
    "type(ser)"
   ]
  },
  {
   "cell_type": "code",
   "execution_count": 131,
   "metadata": {},
   "outputs": [
    {
     "data": {
      "text/plain": [
       "str"
      ]
     },
     "execution_count": 131,
     "metadata": {},
     "output_type": "execute_result"
    }
   ],
   "source": [
    "# Check the type of the first element\n",
    "\n",
    "type(ser[0])"
   ]
  },
  {
   "cell_type": "markdown",
   "metadata": {},
   "source": [
    "- **``Accessing the First Element``**: ser[0] retrieves the first element of the Series, which is string 'Matthew'.\n",
    "\n",
    "<hr>"
   ]
  },
  {
   "cell_type": "code",
   "execution_count": 132,
   "metadata": {},
   "outputs": [
    {
     "data": {
      "text/plain": [
       "int"
      ]
     },
     "execution_count": 132,
     "metadata": {},
     "output_type": "execute_result"
    }
   ],
   "source": [
    "# Check the type of the first element\n",
    "\n",
    "type(ser[1])"
   ]
  },
  {
   "cell_type": "markdown",
   "metadata": {},
   "source": [
    "- **``Accessing the Second Element``**: ser[1] retrieves the second element of the Series, which is integer 2.\n",
    "\n",
    "<hr>"
   ]
  },
  {
   "cell_type": "code",
   "execution_count": 133,
   "metadata": {},
   "outputs": [
    {
     "data": {
      "text/plain": [
       "bool"
      ]
     },
     "execution_count": 133,
     "metadata": {},
     "output_type": "execute_result"
    }
   ],
   "source": [
    "# Check the type of the first element\n",
    "\n",
    "type(ser[2])"
   ]
  },
  {
   "cell_type": "markdown",
   "metadata": {},
   "source": [
    "- **``Accessing the Third Element``**: ser[2] retrieves the third element of the Series, which is Boolean True.\n",
    "\n",
    "<hr>"
   ]
  },
  {
   "cell_type": "code",
   "execution_count": 134,
   "metadata": {
    "id": "wf5jbdGY93Y5",
    "outputId": "b9b443e3-bbba-4877-8948-06fcd2b84154"
   },
   "outputs": [
    {
     "data": {
      "text/plain": [
       "array(['Matthew', '2', 'True'], dtype='<U11')"
      ]
     },
     "execution_count": 134,
     "metadata": {},
     "output_type": "execute_result"
    }
   ],
   "source": [
    "# Create a NumPy array from the mixed data\n",
    "arr = np.array(mix_data)\n",
    "\n",
    "# Display the array\n",
    "arr"
   ]
  },
  {
   "cell_type": "markdown",
   "metadata": {},
   "source": [
    "- **``Data Type:``**\n",
    "  - Since the list contains a string ('Matthew'), an integer (2), and a boolean (True), NumPy promotes the other types to string to maintain a consistent data type across the array.\n",
    "  - As a result, the **``integer``** and **``boolean``** values are **``converted to strings``**, leading to the entire array being of type string."
   ]
  },
  {
   "cell_type": "code",
   "execution_count": 136,
   "metadata": {},
   "outputs": [
    {
     "data": {
      "text/plain": [
       "numpy.str_"
      ]
     },
     "execution_count": 136,
     "metadata": {},
     "output_type": "execute_result"
    }
   ],
   "source": [
    "# Check the type of the third element\n",
    "\n",
    "type(arr[2])"
   ]
  },
  {
   "cell_type": "markdown",
   "metadata": {},
   "source": [
    "- **``Accessing the Element``**: arr[2] retrieves the **``third element``** of the NumPy array, which corresponds to the **``boolean value True``** from the original list.\n",
    "- **``Type of the Element``**:\n",
    "  - **``NumPy converts the boolean True to its string representation``** when creating the array, resulting in 'True'.\n",
    "  - The type of this element is numpy.str_, which is NumPy's own string type (similar to Python's built-in str).\n",
    "\n",
    "**[Reminder Source for Numpy Arrays](https://pythonguides.com/python-numpy-data-types/)**"
   ]
  },
  {
   "cell_type": "markdown",
   "metadata": {},
   "source": [
    "## <p style=\"background-color:#E51A59; font-family:newtimeroman; color:#FFF9ED; font-size:150%; text-align:center; border-radius:10px 10px;\">BASIC ATTRIBUTES & METHODS OF SERIES</p>\n",
    "\n",
    "<a id=\"3\"></a>\n",
    "<a href=\"#toc\" class=\"btn btn-primary btn-sm\" role=\"button\" aria-pressed=\"true\" \n",
    "style=\"color:blue; background-color:#dfa8e4\" data-toggle=\"popover\">Content</a>\n",
    "\n",
    "**SOME COMMON ATTRIBUTES** [Official Pandas API Document](https://pandas.pydata.org/docs/reference/api/pandas.Series.html)<br>\n",
    "\n",
    "- **``Series.dtype``**\tIt returns the data type of the data.<br>\n",
    "- **``Series.shape``**\tIt returns a tuple of shape of the data.<br>\n",
    "- **``Series.size``**\t    It returns the size of the data.<br>\n",
    "- **``Series.ndim``**\t    It returns the number of dimensions in the data.<br>\n",
    "- **``Series.index``**\tDefines the index of the Series.<br>\n",
    "- **``Series.keys``**  \tReturn alias for index.<br>\n",
    "- **``Series.values``**   Returns Series as ndarray or ndarray-like depending on the dtype.<br>\n",
    "- **``Series.items``**\tLazily iterate over (index, value) tuples.<br>\n",
    "- **``Series.head``**   \tReturn the first n rows.<br>\n",
    "- **``Series.tail``** \tReturn the last n rows.<br>\n",
    "- **``Series.sample``**   Return a random sample of items from an axis of object.<br>\n",
    "- **``Series.sort_index``**  Sort Series by index labels.<br>\n",
    "- **``Series.sort_values``**  Sort by the values.<br>\n",
    "- **``Series.isin``**     Whether elements in Series are contained in values.<br>"
   ]
  },
  {
   "cell_type": "code",
   "execution_count": 137,
   "metadata": {},
   "outputs": [
    {
     "data": {
      "text/plain": [
       "0    18\n",
       "1    95\n",
       "2    22\n",
       "3    67\n",
       "4    72\n",
       "5    45\n",
       "6    16\n",
       "dtype: int32"
      ]
     },
     "execution_count": 137,
     "metadata": {},
     "output_type": "execute_result"
    }
   ],
   "source": [
    "# Create a Pandas Series with 7 random integers between 0 and 99\n",
    "ser = pd.Series(np.random.randint(0, 100, 7))\n",
    "\n",
    "# Display the Series\n",
    "ser"
   ]
  },
  {
   "cell_type": "markdown",
   "metadata": {},
   "source": [
    "- **``Generating Random Integers:``**\n",
    "  - np.random.randint(0, 100, 7) generates an array of 7 random integers, where each integer is between 0 (inclusive) and 100 (exclusive).\n",
    "- **``Creating the Series:``**\n",
    "  - The generated array of random integers is passed to pd.Series(), creating a Series where each element corresponds to one of the random integers.\n",
    "- **``Default Index:``**\n",
    "  - By default, Pandas assigns a numeric index starting from 0 to each element in the Series.\n",
    "<hr>\n",
    "\n",
    "### type:\n"
   ]
  },
  {
   "cell_type": "code",
   "execution_count": 138,
   "metadata": {
    "colab": {
     "base_uri": "https://localhost:8080/"
    },
    "id": "kQ7aH-fRuPZN",
    "outputId": "179e6817-2d3d-4ef5-96e3-66b04776b2a4"
   },
   "outputs": [
    {
     "data": {
      "text/plain": [
       "pandas.core.series.Series"
      ]
     },
     "execution_count": 138,
     "metadata": {},
     "output_type": "execute_result"
    }
   ],
   "source": [
    "# Check the type of the Series\n",
    "\n",
    "type(ser)"
   ]
  },
  {
   "cell_type": "markdown",
   "metadata": {},
   "source": [
    "- **``Output``**: The output indicates that **``ser``** is an instance of the Series class from the Pandas library.\n",
    "  - This confirms that **``ser``** is indeed a Pandas Series object, which allows you to utilize all the functionalities provided by the Pandas library for data manipulation and analysis.\n",
    "\n",
    "<hr>\n",
    "\n",
    "### data type:\n"
   ]
  },
  {
   "cell_type": "code",
   "execution_count": 139,
   "metadata": {
    "colab": {
     "base_uri": "https://localhost:8080/"
    },
    "id": "zE8qiun2uPZN",
    "outputId": "afee59bf-2d8a-43bc-f1ec-197d3ddfb4b0"
   },
   "outputs": [
    {
     "data": {
      "text/plain": [
       "dtype('int32')"
      ]
     },
     "execution_count": 139,
     "metadata": {},
     "output_type": "execute_result"
    }
   ],
   "source": [
    "# Check the data type of the Series\n",
    "\n",
    "ser.dtype"
   ]
  },
  {
   "cell_type": "markdown",
   "metadata": {},
   "source": [
    "- **``Data Type``**: The output indicates that the elements in the Series are of type int64, which is the default integer type used by Pandas for integer data.\n",
    "  - This means that the Series contains 64-bit integers.\n",
    "\n",
    "<hr>\n",
    "\n",
    "### shape:\n"
   ]
  },
  {
   "cell_type": "code",
   "execution_count": 140,
   "metadata": {
    "id": "edipdQn_93Y6",
    "outputId": "19dbfe70-316c-41e7-ae90-066b6ded22b5"
   },
   "outputs": [
    {
     "data": {
      "text/plain": [
       "(7,)"
      ]
     },
     "execution_count": 140,
     "metadata": {},
     "output_type": "execute_result"
    }
   ],
   "source": [
    "# Check the shape of the Series\n",
    "\n",
    "ser.shape"
   ]
  },
  {
   "cell_type": "markdown",
   "metadata": {},
   "source": [
    "- **``Shape of the Series``**: The output (7,) indicates that the Series has 7 elements.\n",
    "  - The shape is represented as a tuple, where:\n",
    "    - The first value (7) is the number of elements in the Series.\n",
    "    - The trailing comma indicates that this is a one-dimensional object.\n",
    "\n",
    "<hr>\n",
    "\n",
    "### size:\n"
   ]
  },
  {
   "cell_type": "code",
   "execution_count": 141,
   "metadata": {
    "colab": {
     "base_uri": "https://localhost:8080/"
    },
    "id": "5RMJSNl0uPZO",
    "outputId": "7a8f3ea4-075b-4bad-d6ef-6f599ac55933"
   },
   "outputs": [
    {
     "data": {
      "text/plain": [
       "7"
      ]
     },
     "execution_count": 141,
     "metadata": {},
     "output_type": "execute_result"
    }
   ],
   "source": [
    "# Check the size of the Series\n",
    "\n",
    "ser.size"
   ]
  },
  {
   "cell_type": "markdown",
   "metadata": {},
   "source": [
    "- **``Size of the Series``**: The output 7 indicates that there are 7 elements in the Series.\n",
    "  - The **``size``** attribute specifically counts the number of elements, regardless of the index or shape.\n",
    "\n",
    "<hr>\n",
    "\n",
    "### length of Series:\n"
   ]
  },
  {
   "cell_type": "code",
   "execution_count": 142,
   "metadata": {
    "id": "WiDwQuJB93Y7",
    "outputId": "60249d13-94bf-4843-8a70-a81352ebf765"
   },
   "outputs": [
    {
     "data": {
      "text/plain": [
       "7"
      ]
     },
     "execution_count": 142,
     "metadata": {},
     "output_type": "execute_result"
    }
   ],
   "source": [
    "# Check the length of the Series\n",
    "\n",
    "len(ser)"
   ]
  },
  {
   "cell_type": "markdown",
   "metadata": {},
   "source": [
    "- **``Length of the Series``**: The output 7 indicates that there are 7 elements in the Series.\n",
    "  - The **``len()``** function is a built-in Python function that returns the number of items in an object, and it works seamlessly with Pandas Series.\n",
    "\n",
    "<hr>\n",
    "\n",
    "### number of dimension:\n"
   ]
  },
  {
   "cell_type": "code",
   "execution_count": 143,
   "metadata": {
    "colab": {
     "base_uri": "https://localhost:8080/"
    },
    "id": "vGNZHvNBuPZO",
    "outputId": "8e51dcdc-a74f-4129-9d72-cb01f86eb250"
   },
   "outputs": [
    {
     "data": {
      "text/plain": [
       "1"
      ]
     },
     "execution_count": 143,
     "metadata": {},
     "output_type": "execute_result"
    }
   ],
   "source": [
    "ser.ndim"
   ]
  },
  {
   "cell_type": "markdown",
   "metadata": {},
   "source": [
    "- **``Number of Dimensions``**: The output 1 indicates that the Series is one-dimensional.\n",
    "  - This means that the Series consists of a single axis, where each element can be accessed via its index.\n",
    "\n",
    "<hr>"
   ]
  },
  {
   "cell_type": "code",
   "execution_count": 144,
   "metadata": {
    "id": "7tlvjHwh93Y7",
    "outputId": "519b5e81-a454-4b41-cc05-4d35ffb4b49e"
   },
   "outputs": [
    {
     "data": {
      "text/plain": [
       "0    18\n",
       "1    95\n",
       "2    22\n",
       "3    67\n",
       "4    72\n",
       "5    45\n",
       "6    16\n",
       "dtype: int32"
      ]
     },
     "execution_count": 144,
     "metadata": {},
     "output_type": "execute_result"
    }
   ],
   "source": [
    "# Let's remember our Series\n",
    "\n",
    "ser"
   ]
  },
  {
   "cell_type": "markdown",
   "metadata": {},
   "source": [
    "<hr>\n",
    "\n",
    "### index:\n"
   ]
  },
  {
   "cell_type": "code",
   "execution_count": 145,
   "metadata": {
    "id": "m6C462qc93Y7",
    "outputId": "0434ae49-23fa-474b-ef24-12cee74728fb"
   },
   "outputs": [
    {
     "data": {
      "text/plain": [
       "RangeIndex(start=0, stop=7, step=1)"
      ]
     },
     "execution_count": 145,
     "metadata": {},
     "output_type": "execute_result"
    }
   ],
   "source": [
    "# Check the index of the Series\n",
    "\n",
    "ser.index"
   ]
  },
  {
   "cell_type": "markdown",
   "metadata": {},
   "source": [
    "- **``Index of the Series``**: The output **``RangeIndex(start=0, stop=7, step=1)``** indicates that the Series has a default index ranging **``from 0 to 6``**.\n",
    "  - The **``RangeIndex``** represents a simple, integer-based index, which is the default when no custom index is provided.\n",
    "\n",
    "<hr>"
   ]
  },
  {
   "cell_type": "code",
   "execution_count": 146,
   "metadata": {},
   "outputs": [
    {
     "data": {
      "text/plain": [
       "[0, 1, 2, 3, 4, 5, 6]"
      ]
     },
     "execution_count": 146,
     "metadata": {},
     "output_type": "execute_result"
    }
   ],
   "source": [
    "# Convert the index of the Series to a list\n",
    "\n",
    "list(ser.index)"
   ]
  },
  {
   "cell_type": "markdown",
   "metadata": {},
   "source": [
    "- **``ser.index``**: This property retrieves the index labels of the Series.\n",
    "- **``list() Conversion``**: Using list() converts the index object into a standard Python list, making it easy to work with or display.\n",
    "\n",
    "<hr>\n",
    "\n",
    "### keys of Series:\n"
   ]
  },
  {
   "cell_type": "code",
   "execution_count": 147,
   "metadata": {},
   "outputs": [
    {
     "data": {
      "text/plain": [
       "RangeIndex(start=0, stop=7, step=1)"
      ]
     },
     "execution_count": 147,
     "metadata": {},
     "output_type": "execute_result"
    }
   ],
   "source": [
    "# Get the keys (index labels) of the Series\n",
    "\n",
    "ser.keys()"
   ]
  },
  {
   "cell_type": "markdown",
   "metadata": {},
   "source": [
    "- **``Keys of the Series``**: The output RangeIndex(start=0, stop=7, step=1) indicates that the Series has a default index ranging from 0 to 6.\n",
    "  - The **``keys()``** method returns the index labels, which can be thought of as the \"keys\" if you consider the Series to be similar to a dictionary.\n",
    "\n",
    "<hr>"
   ]
  },
  {
   "cell_type": "code",
   "execution_count": 148,
   "metadata": {},
   "outputs": [
    {
     "name": "stdout",
     "output_type": "stream",
     "text": [
      "Using ser.index:\n",
      "0\n",
      "1\n",
      "2\n",
      "3\n",
      "4\n",
      "5\n",
      "6\n",
      "\n",
      "Using ser.keys():\n",
      "0\n",
      "1\n",
      "2\n",
      "3\n",
      "4\n",
      "5\n",
      "6\n"
     ]
    }
   ],
   "source": [
    "# Iterate over the index labels using ser.index\n",
    "print(\"Using ser.index:\")\n",
    "for i in ser.index: # we can also use \"keys()\"\n",
    "    print(i)\n",
    "    \n",
    "# Alternatively, using ser.keys()\n",
    "print(\"\\nUsing ser.keys():\")\n",
    "for i in ser.keys():\n",
    "    print(i)"
   ]
  },
  {
   "cell_type": "markdown",
   "metadata": {},
   "source": [
    "- **``Iterating with ser.index:``**\n",
    "  - The loop iterates over the index of the Series, printing each index label.\n",
    "- **``Iterating with ser.keys():``**\n",
    "  - The second loop does the same but uses the keys() method to access the index labels.\n",
    "\n",
    "<hr>\n",
    "\n",
    "### values of Series:\n"
   ]
  },
  {
   "cell_type": "code",
   "execution_count": 149,
   "metadata": {
    "colab": {
     "base_uri": "https://localhost:8080/"
    },
    "id": "0Ai6IgSH9kPJ",
    "outputId": "6f94fdc6-b25e-4e5b-84fc-998ff0becb67"
   },
   "outputs": [
    {
     "data": {
      "text/plain": [
       "array([18, 95, 22, 67, 72, 45, 16])"
      ]
     },
     "execution_count": 149,
     "metadata": {},
     "output_type": "execute_result"
    }
   ],
   "source": [
    "# Access the values of the Series\n",
    "\n",
    "ser.values"
   ]
  },
  {
   "cell_type": "markdown",
   "metadata": {},
   "source": [
    "- **``Underlying Data``**: ser.values retrieves the values stored in the Series as a NumPy array.\n",
    "  - This allows you to perform operations that are available for NumPy arrays, such as mathematical computations, reshaping, etc.\n",
    "\n",
    "<hr>"
   ]
  },
  {
   "cell_type": "code",
   "execution_count": 150,
   "metadata": {
    "colab": {
     "base_uri": "https://localhost:8080/"
    },
    "id": "vIColgkR9kPJ",
    "outputId": "2e8648e8-3e58-4d2d-e4d9-02d7eb6bdf56"
   },
   "outputs": [
    {
     "data": {
      "text/plain": [
       "[18, 95, 22, 67, 72, 45, 16]"
      ]
     },
     "execution_count": 150,
     "metadata": {},
     "output_type": "execute_result"
    }
   ],
   "source": [
    "# Create a list from the Series values using a list comprehension\n",
    "\n",
    "[i for i in ser.values]"
   ]
  },
  {
   "cell_type": "markdown",
   "metadata": {},
   "source": [
    "- **``List Comprehension``**: The expression **``[i for i in ser.values]``** iterates over each value in ser.values (which is a NumPy array) and constructs a new list containing those values.\n",
    "- **``Conversion``**: This effectively converts the NumPy array of values into a Python list, which can be useful for further processing or when you need a list format.\n",
    "\n",
    "<hr>"
   ]
  },
  {
   "cell_type": "code",
   "execution_count": 151,
   "metadata": {
    "colab": {
     "base_uri": "https://localhost:8080/"
    },
    "id": "ZsRJWpnm9kPJ",
    "outputId": "b65f2cdd-dc04-40f4-bc4d-1c71b9e868b3"
   },
   "outputs": [
    {
     "name": "stdout",
     "output_type": "stream",
     "text": [
      "18\n",
      "95\n",
      "22\n",
      "67\n",
      "72\n",
      "45\n",
      "16\n"
     ]
    }
   ],
   "source": [
    "# Iterate over the values of the Series and print each one\n",
    "\n",
    "for i in ser.values:\n",
    "    print(i)"
   ]
  },
  {
   "cell_type": "markdown",
   "metadata": {},
   "source": [
    "- **``Accessing Values``**: **``ser.values``** retrieves the underlying data of the Series as a NumPy array.\n",
    "- **``Iteration``**: The for loop iterates over each value in this array, allowing you to perform operations (such as printing) on each individual value.\n",
    "\n",
    "<hr>\n",
    "\n",
    "### items:\n"
   ]
  },
  {
   "cell_type": "code",
   "execution_count": 152,
   "metadata": {
    "id": "uBGiXTo393Y9",
    "outputId": "d6c0fbf1-f9ed-4d54-94d0-60e59f300bc8",
    "scrolled": true
   },
   "outputs": [
    {
     "data": {
      "text/plain": [
       "<bound method Series.items of 0    18\n",
       "1    95\n",
       "2    22\n",
       "3    67\n",
       "4    72\n",
       "5    45\n",
       "6    16\n",
       "dtype: int32>"
      ]
     },
     "execution_count": 152,
     "metadata": {},
     "output_type": "execute_result"
    }
   ],
   "source": [
    "# Iterate over the Series items (index-value pairs)\n",
    "\n",
    "ser.items"
   ]
  },
  {
   "cell_type": "markdown",
   "metadata": {},
   "source": [
    "- **``Items Method``**: The **``ser.items()``** method returns an iterator over the Series, yielding pairs of (index, value) for each item.\n",
    "  - **``Iteration``**: The for loop iterates through these pairs, allowing you to access both the index and the value at the same time.\n",
    "\n",
    "<hr>"
   ]
  },
  {
   "cell_type": "code",
   "execution_count": 153,
   "metadata": {},
   "outputs": [
    {
     "data": {
      "text/plain": [
       "<zip at 0x1cbd0536080>"
      ]
     },
     "execution_count": 153,
     "metadata": {},
     "output_type": "execute_result"
    }
   ],
   "source": [
    "# Iterate over the Series items \n",
    "\n",
    "ser.items()"
   ]
  },
  {
   "cell_type": "markdown",
   "metadata": {},
   "source": [
    "- **``Items Method``**: The **``ser.items()``** method returns an iterator over the Series, yielding pairs of (index, value) for each element.\n",
    "- **``Iteration``**: The for loop iterates through these pairs, allowing you to access both the index and the corresponding value at the same time.\n",
    "\n",
    "<hr>"
   ]
  },
  {
   "cell_type": "code",
   "execution_count": 154,
   "metadata": {
    "id": "7TJ_O9yO93ZF",
    "outputId": "02d23113-12bc-46d5-c893-5bf6695199bf"
   },
   "outputs": [
    {
     "data": {
      "text/plain": [
       "[(0, 18), (1, 95), (2, 22), (3, 67), (4, 72), (5, 45), (6, 16)]"
      ]
     },
     "execution_count": 154,
     "metadata": {},
     "output_type": "execute_result"
    }
   ],
   "source": [
    "# Convert index-value pairs of the Series to a list of tuples\n",
    "\n",
    "list(ser.items())"
   ]
  },
  {
   "cell_type": "markdown",
   "metadata": {},
   "source": [
    "- **``Items Method``**: The **``ser.items()``** method generates an iterator over the index-value pairs of the Series.\n",
    "- **``Conversion to List``**: Using **``list()``** on this iterator converts it into a list of tuples, where each tuple contains an index and its corresponding value.\n",
    "\n",
    "<hr>"
   ]
  },
  {
   "cell_type": "code",
   "execution_count": 155,
   "metadata": {
    "id": "1Lk3quVE93ZG",
    "outputId": "2dbc6f34-3d09-48df-9a87-238fa8f04a22"
   },
   "outputs": [
    {
     "name": "stdout",
     "output_type": "stream",
     "text": [
      "Index: 0, Value: 18\n",
      "Index: 1, Value: 95\n",
      "Index: 2, Value: 22\n",
      "Index: 3, Value: 67\n",
      "Index: 4, Value: 72\n",
      "Index: 5, Value: 45\n",
      "Index: 6, Value: 16\n"
     ]
    }
   ],
   "source": [
    "# Iterate over the Series items (index-value pairs)\n",
    "\n",
    "for index, value in ser.items():\n",
    "    print(f\"Index: {index}, Value: {value}\")"
   ]
  },
  {
   "cell_type": "markdown",
   "metadata": {},
   "source": [
    "- **``Items Method``**: The **``ser.items()``** method provides an iterator that yields pairs of index and value for each element in the Series.\n",
    "- **``Iteration``**: The for loop iterates through these pairs, allowing you to access both the index and the value simultaneously.\n",
    "- **``Formatted Output``**: The print statement uses an f-string to format the output, displaying the index and the corresponding value in a readable way.\n",
    "\n",
    "<hr>"
   ]
  },
  {
   "cell_type": "code",
   "execution_count": 156,
   "metadata": {
    "id": "ruFnc9jb9kPK"
   },
   "outputs": [
    {
     "data": {
      "text/plain": [
       "c     5\n",
       "b     4\n",
       "a     1\n",
       "e    22\n",
       "f    23\n",
       "d    24\n",
       "g     1\n",
       "i    22\n",
       "h    21\n",
       "j     9\n",
       "dtype: int32"
      ]
     },
     "execution_count": 156,
     "metadata": {},
     "output_type": "execute_result"
    }
   ],
   "source": [
    "# Create a Pandas Series with random integers and a custom index\n",
    "ser = pd.Series(data = np.random.randint(0, 25, 10), index=[i for i in \"cbaefdgihj\"])\n",
    "\n",
    "# Display the Series\n",
    "ser"
   ]
  },
  {
   "cell_type": "markdown",
   "metadata": {},
   "source": [
    "- **``Data Generation:``**\n",
    "  - **``np.random.randint(0, 25, 10)``** generates an array of 10 random integers, each between 0 and 24.\n",
    "- **``Custom Index:``**\n",
    "  - The index is created using a list comprehension that iterates over the string **``\"cbaefdgihj\"``**, resulting in the following **``index: ['c', 'b', 'a', 'e', 'f', 'd', 'g', 'i', 'h', 'j']``**.\n",
    "- **``Creating the Series:``**\n",
    "  - **``pd.Series(data=..., index=...)``** creates a Series where each value corresponds to the specified index.\n",
    "\n",
    "<hr>\n",
    "\n",
    "### head:\n"
   ]
  },
  {
   "cell_type": "code",
   "execution_count": 157,
   "metadata": {
    "colab": {
     "base_uri": "https://localhost:8080/"
    },
    "id": "PSWBb1jJ9kPL",
    "outputId": "a5b13b30-55b2-4c13-c14d-e741ae7ee697"
   },
   "outputs": [
    {
     "data": {
      "text/plain": [
       "c     5\n",
       "b     4\n",
       "a     1\n",
       "e    22\n",
       "f    23\n",
       "dtype: int32"
      ]
     },
     "execution_count": 157,
     "metadata": {},
     "output_type": "execute_result"
    }
   ],
   "source": [
    "# Display the first three entries of the Series\n",
    "\n",
    "ser.head()"
   ]
  },
  {
   "cell_type": "markdown",
   "metadata": {},
   "source": [
    "- **``head(3) Method``**: This method returns the first three entries of the Series, along with their corresponding index labels.\n",
    "  - It is a convenient way to quickly check the beginning of your data.\n",
    "\n",
    "<hr>\n",
    "\n",
    "### tail:\n"
   ]
  },
  {
   "cell_type": "code",
   "execution_count": 158,
   "metadata": {
    "colab": {
     "base_uri": "https://localhost:8080/"
    },
    "id": "tuheIJWg9kPL",
    "outputId": "44ed0aa3-acab-485e-ddf0-f8f495ad3f75"
   },
   "outputs": [
    {
     "data": {
      "text/plain": [
       "h    21\n",
       "j     9\n",
       "dtype: int32"
      ]
     },
     "execution_count": 158,
     "metadata": {},
     "output_type": "execute_result"
    }
   ],
   "source": [
    "# Display the last two entries of the Series\n",
    "\n",
    "ser.tail(2)"
   ]
  },
  {
   "cell_type": "markdown",
   "metadata": {},
   "source": [
    "- **``tail(2) Method``**: This method returns the last two entries of the Series, along with their corresponding index labels.\n",
    "  - It provides a convenient way to quickly check the end of your data.\n",
    "\n",
    "<hr>\n",
    "\n",
    "### sample:\n"
   ]
  },
  {
   "cell_type": "code",
   "execution_count": 164,
   "metadata": {
    "id": "vMVnXHJK93ZI",
    "outputId": "797816df-d31a-489a-e60c-dfb668dae005"
   },
   "outputs": [
    {
     "data": {
      "text/plain": [
       "g    1\n",
       "a    1\n",
       "dtype: int32"
      ]
     },
     "execution_count": 164,
     "metadata": {},
     "output_type": "execute_result"
    }
   ],
   "source": [
    "# Randomly sample 2 entries from the Series\n",
    "\n",
    "ser.sample(2)"
   ]
  },
  {
   "cell_type": "markdown",
   "metadata": {},
   "source": [
    "- **``sample(2) Method``**: This method randomly selects two entries from the Series, returning them along with their corresponding index labels.\n",
    "  - Each time you run this code, you may get different entries since the selection is random.\n",
    "\n",
    "<hr>\n",
    "\n",
    "### sorting index of Series:\n"
   ]
  },
  {
   "cell_type": "code",
   "execution_count": 166,
   "metadata": {
    "id": "a2H_48m593ZI",
    "outputId": "4ec25c98-6699-4e1b-caab-1211f5469f90"
   },
   "outputs": [
    {
     "data": {
      "text/plain": [
       "j     9\n",
       "i    22\n",
       "h    21\n",
       "g     1\n",
       "f    23\n",
       "e    22\n",
       "d    24\n",
       "c     5\n",
       "b     4\n",
       "a     1\n",
       "dtype: int32"
      ]
     },
     "execution_count": 166,
     "metadata": {},
     "output_type": "execute_result"
    }
   ],
   "source": [
    "# Sort the Series by index in ascending order\n",
    "\n",
    "ser.sort_index(ascending=False)"
   ]
  },
  {
   "cell_type": "markdown",
   "metadata": {},
   "source": [
    "- **``sort_index(ascending=True)``**: This method sorts the Series based on its index labels in ascending order. By default, ascending=True, so it sorts from lowest to highest.\n",
    "  - The sorted Series retains its values but rearranges them according to the sorted index.\n",
    "\n",
    "<hr>\n",
    "\n",
    "### sorting values of Series:\n"
   ]
  },
  {
   "cell_type": "code",
   "execution_count": 168,
   "metadata": {
    "id": "kBUMrfPj93ZJ",
    "outputId": "f188af2c-666b-4878-81dd-a85913c54f30"
   },
   "outputs": [
    {
     "data": {
      "text/plain": [
       "d    24\n",
       "f    23\n",
       "e    22\n",
       "i    22\n",
       "h    21\n",
       "j     9\n",
       "c     5\n",
       "b     4\n",
       "a     1\n",
       "g     1\n",
       "dtype: int32"
      ]
     },
     "execution_count": 168,
     "metadata": {},
     "output_type": "execute_result"
    }
   ],
   "source": [
    "# Sort the Series by values in descending order\n",
    "\n",
    "ser.sort_values(ascending=False)"
   ]
  },
  {
   "cell_type": "markdown",
   "metadata": {},
   "source": [
    "- **``sort_values(ascending=False)``**: This method sorts the Series based on its values in descending order. Setting ascending=False means that the largest values will appear first.\n",
    "  - The sorted Series retains its index labels but rearranges them according to their corresponding sorted values.\n",
    "\n",
    "<hr>"
   ]
  },
  {
   "cell_type": "code",
   "execution_count": 169,
   "metadata": {
    "id": "SolrDB1d93ZJ",
    "outputId": "612198d2-986c-4df9-cf13-c602944f05dc"
   },
   "outputs": [
    {
     "data": {
      "text/plain": [
       "c     5\n",
       "b     4\n",
       "a     1\n",
       "e    22\n",
       "f    23\n",
       "d    24\n",
       "g     1\n",
       "i    22\n",
       "h    21\n",
       "j     9\n",
       "dtype: int32"
      ]
     },
     "execution_count": 169,
     "metadata": {},
     "output_type": "execute_result"
    }
   ],
   "source": [
    "# Let's remember our Series\n",
    "\n",
    "ser"
   ]
  },
  {
   "cell_type": "markdown",
   "metadata": {},
   "source": [
    "<hr>\n",
    "\n",
    "### isin:\n"
   ]
  },
  {
   "cell_type": "code",
   "execution_count": 170,
   "metadata": {
    "id": "shKrWBfM93ZJ",
    "outputId": "271aeaca-1473-4b56-e29e-0b850deee3c5"
   },
   "outputs": [
    {
     "data": {
      "text/plain": [
       "c     True\n",
       "b    False\n",
       "a    False\n",
       "e    False\n",
       "f    False\n",
       "d    False\n",
       "g    False\n",
       "i    False\n",
       "h    False\n",
       "j     True\n",
       "dtype: bool"
      ]
     },
     "execution_count": 170,
     "metadata": {},
     "output_type": "execute_result"
    }
   ],
   "source": [
    "# Check which elements are in the list [5, 9]\n",
    "\n",
    "ser.isin([5, 9])"
   ]
  },
  {
   "cell_type": "markdown",
   "metadata": {},
   "source": [
    "Using ser.isin([5, 9]) allows you to check which elements in the Pandas Series are contained in the specified list (in this case, [5, 9]). This method returns a boolean Series indicating whether each element is in the provided list.\n",
    "\n",
    "- **``isin([5, 9]) Method``**: This method checks each element in the Series to see if it is present in the list [5, 9].\n",
    "  - The result is a boolean Series where each True indicates that the corresponding element in the original Series is either 5 or 9, and False indicates it is NOT.\n",
    "\n",
    "<hr>"
   ]
  },
  {
   "cell_type": "markdown",
   "metadata": {
    "id": "LLA4QNehuPZb"
   },
   "source": [
    "## <p style=\"background-color:#E51A59; font-family:newtimeroman; color:#FFF9ED; font-size:150%; text-align:center; border-radius:10px 10px;\">Indexing & Slicing with Pandas Series</p>\n",
    "\n",
    "<a id=\"4\"></a>\n",
    "<a href=\"#toc\" class=\"btn btn-primary btn-sm\" role=\"button\" aria-pressed=\"true\" \n",
    "style=\"color:blue; background-color:#dfa8e4\" data-toggle=\"popover\">Content</a>\n",
    "\n",
    "As stated and implemented by examples above, a Series is very similar to a NumPy array. \n",
    "- What differentiates the NumPy array from a Series is that **a Series can have axis labels**, meaning it can be indexed by a label, instead of just a number location. It also doesn’t need to hold numeric data, it can hold any arbitrary Python Object [Source](https://rpubs.com/pjozefek/659184).\n",
    "\n",
    "The key to using a Series is understanding its index. Pandas makes use of these index names or numbers by allowing for fast look up of information.\n",
    "\n",
    "The axis labeling information in pandas objects serves many purposes:\n",
    "\n",
    "- Identifies data (i.e. provides metadata) using known indicators, important for analysis, visualization, and interactive console display.\n",
    "- Enables automatic and explicit data alignment.\n",
    "- Allows intuitive getting and setting of subsets of the data set.\n",
    "\n",
    "In this section, we will focus on the final point: namely, how to slice, dice, and generally get and set subsets of pandas objects. The primary focus will be on Series and DataFrame as they have received more development attention in this area. For more information, please visit [pandas-docs.github.io](https://pandas-docs.github.io/pandas-docs-travis/user_guide/indexing.html)\n",
    "\n",
    "Let's see some examples of how to grab information from a Series. Let us create two sereis, ser1 and ser2:"
   ]
  },
  {
   "cell_type": "code",
   "execution_count": 180,
   "metadata": {
    "id": "S5WOmI-OuPZb"
   },
   "outputs": [],
   "source": [
    "# Create the first Series\n",
    "ser1 = pd.Series([1, 2, 3, 4], index = ['USA', 'Germany','RF', 'Japan'])\n",
    "\n",
    "# Create the second Series\n",
    "ser2 = pd.Series([1, 2, 5, 4, 6], index = ['USA', 'Germany','Italy', 'Japan', 'Spain'])"
   ]
  },
  {
   "cell_type": "markdown",
   "metadata": {},
   "source": [
    "The two main data structures in Pandas both have at least one axis.\n",
    "- A **Series** has **one axis**, the index. \n",
    "- A **DataFrame** has **two axes**, the index and the columns. \n",
    "\n",
    "It’s useful to note here that in all the DataFrame functions that can be applied to either rows or columns;\n",
    " - an **``axis of 0``** refers to the **``index``**, \n",
    " - an **``axis of 1``** refers to the **``columns``**."
   ]
  },
  {
   "cell_type": "code",
   "execution_count": 181,
   "metadata": {
    "colab": {
     "base_uri": "https://localhost:8080/"
    },
    "id": "1l7jha5E9kPP",
    "outputId": "2f4844e5-7480-429d-cbbe-7ea276b2dd26"
   },
   "outputs": [
    {
     "data": {
      "text/plain": [
       "USA        1\n",
       "Germany    2\n",
       "RF         3\n",
       "Japan      4\n",
       "dtype: int64"
      ]
     },
     "execution_count": 181,
     "metadata": {},
     "output_type": "execute_result"
    }
   ],
   "source": [
    "# Display the first Series\n",
    "\n",
    "ser1"
   ]
  },
  {
   "cell_type": "markdown",
   "metadata": {},
   "source": [
    "- **``Data``**: The values are [1, 2, 3, 4].\n",
    "- **``Index``**: The corresponding indices are ['USA', 'Germany', 'RF', 'Japan'].\n",
    "- **``Type``**: The Series has a data type of int64.\n",
    "\n",
    "<hr>"
   ]
  },
  {
   "cell_type": "code",
   "execution_count": 182,
   "metadata": {},
   "outputs": [
    {
     "data": {
      "text/plain": [
       "USA        1\n",
       "Germany    2\n",
       "Italy      5\n",
       "Japan      4\n",
       "Spain      6\n",
       "dtype: int64"
      ]
     },
     "execution_count": 182,
     "metadata": {},
     "output_type": "execute_result"
    }
   ],
   "source": [
    "# Display the second Series\n",
    "\n",
    "ser2"
   ]
  },
  {
   "cell_type": "markdown",
   "metadata": {},
   "source": [
    "- **``Data``**: The values are [1, 2, 5, 4, 6].\n",
    "- **``Index``**: The corresponding indices are ['USA', 'Germany', 'Italy', 'Japan', 'Spain'].\n",
    "- **``Type``**: The Series has a data type of int64.\n",
    "\n",
    "<hr>\n",
    "\n",
    "- **``Summary of Differences in these two Series:``**\n",
    "  - **``Values``**: Different sets of integer values.\n",
    "  - **``Indices``**: Different labels and lengths, with some indices being common and others unique.\n",
    "    - **``Common indices``**: ['USA', 'Germany', 'Japan'].\n",
    "    - **``Unique indices``**:\n",
    "      - **``In ser1``**: ['RF'].\n",
    "      - **``In ser2``**: ['Italy', 'Spain'].\n",
    "      - **``Length``**: ser1 has 4 entries, while ser2 has 5 entries.\n",
    "\n",
    "<hr>\n",
    "\n",
    "**The following code ``sorts the values of the Pandas Series ser1 by its index labels in ascending order``.**"
   ]
  },
  {
   "cell_type": "code",
   "execution_count": 183,
   "metadata": {
    "colab": {
     "base_uri": "https://localhost:8080/"
    },
    "id": "VHrzUsxX9kPP",
    "outputId": "56abdbe8-27fd-4552-9dd0-88f62ade4439"
   },
   "outputs": [
    {
     "data": {
      "text/plain": [
       "Germany    2\n",
       "Japan      4\n",
       "RF         3\n",
       "USA        1\n",
       "dtype: int64"
      ]
     },
     "execution_count": 183,
     "metadata": {},
     "output_type": "execute_result"
    }
   ],
   "source": [
    "# Sort the Series by index\n",
    "\n",
    "ser1.sort_index()"
   ]
  },
  {
   "cell_type": "markdown",
   "metadata": {},
   "source": [
    "- **``Sorting by Index``**: The ``**sort_index()``** method sorts the Series based on its **``index labels in ascending order``**.\n",
    "- **``Result``**: The indices are rearranged so that they appear in **``alphabetical order``**, while the corresponding values remain aligned with their respective indices.\n",
    "\n",
    "<hr>\n",
    "\n",
    "**The following code ``sorts the values of the Pandas Series ser2 in ascending order``. This method rearranges the Series based on the values, while the corresponding indices remain aligned with their respective values.**"
   ]
  },
  {
   "cell_type": "code",
   "execution_count": 184,
   "metadata": {
    "colab": {
     "base_uri": "https://localhost:8080/"
    },
    "id": "-a4ZenL69kPP",
    "outputId": "6c695529-db10-4b42-f87c-76a2bf3de6f1"
   },
   "outputs": [
    {
     "data": {
      "text/plain": [
       "USA        1\n",
       "Germany    2\n",
       "Japan      4\n",
       "Italy      5\n",
       "Spain      6\n",
       "dtype: int64"
      ]
     },
     "execution_count": 184,
     "metadata": {},
     "output_type": "execute_result"
    }
   ],
   "source": [
    "# Sort the Series by values\n",
    "\n",
    "ser2.sort_values()"
   ]
  },
  {
   "cell_type": "markdown",
   "metadata": {},
   "source": [
    "- **``Sorting by Values``**: The **``sort_values()``** method sorts the Series based on its **``values in ascending order``**.\n",
    "- **``Result``**: The Series is rearranged so that the **``smallest values appear first``**, while the indices are still associated with their corresponding values.\n",
    "\n",
    "<hr>\n",
    "\n"
   ]
  },
  {
   "cell_type": "markdown",
   "metadata": {},
   "source": [
    "### Indexing in Pandas Series:\n",
    "\n",
    "- **We're going to start with the ``basic form of selecting``, using the ``[...]`` operator.**\n",
    "\n",
    "  - If we do NOT introduce labels into our Series, the index by default will be the natural numbers starting from 0. \n",
    "    - So the index will be the number of data introduced - 1."
   ]
  },
  {
   "cell_type": "code",
   "execution_count": 185,
   "metadata": {},
   "outputs": [
    {
     "data": {
      "text/plain": [
       "USA        1\n",
       "Germany    2\n",
       "RF         3\n",
       "Japan      4\n",
       "dtype: int64"
      ]
     },
     "execution_count": 185,
     "metadata": {},
     "output_type": "execute_result"
    }
   ],
   "source": [
    "# Let's remember our first Series\n",
    "\n",
    "ser1"
   ]
  },
  {
   "cell_type": "markdown",
   "metadata": {},
   "source": [
    "<hr>\n",
    "\n",
    "**The following code ``retrieves the value at the index position 3`` in the Pandas Series ser1.**"
   ]
  },
  {
   "cell_type": "code",
   "execution_count": 186,
   "metadata": {},
   "outputs": [
    {
     "data": {
      "text/plain": [
       "4"
      ]
     },
     "execution_count": 186,
     "metadata": {},
     "output_type": "execute_result"
    }
   ],
   "source": [
    "# Attempt to access the \"value\" at \"index position 3\"\n",
    "\n",
    "ser1[3]"
   ]
  },
  {
   "cell_type": "markdown",
   "metadata": {},
   "source": [
    "- **``Indexing``**: In this case, ser1[3] refers to the fourth element of the Series (using zero-based indexing). Since the Series is ordered, the fourth entry corresponds to the index 'Japan'.\n",
    "- **``Value``**: The value associated with the index 'Japan' is 4.\n",
    "\n",
    "<hr>\n",
    "\n",
    "**The following code ``retrieves the index label at position 3`` in the Pandas Series ser1.**\n",
    "- In this case, it will give you the fourth index label, since indexing is zero-based."
   ]
  },
  {
   "cell_type": "code",
   "execution_count": 187,
   "metadata": {},
   "outputs": [
    {
     "data": {
      "text/plain": [
       "'Japan'"
      ]
     },
     "execution_count": 187,
     "metadata": {},
     "output_type": "execute_result"
    }
   ],
   "source": [
    "# Access the \"index label\" at position 3\n",
    "\n",
    "ser1.index[3]"
   ]
  },
  {
   "cell_type": "markdown",
   "metadata": {},
   "source": [
    "- **``Indexing``**: The code **``ser1.index[3]``** accesses the **``fourth index label``** of the Series, which corresponds to the entry at position 3.\n",
    "- **``Result``**: The index label at that position is 'Japan'.\n",
    "\n",
    "<hr>\n",
    "\n",
    "**The following code  ``retrieves the integer location (position) of the index label 'Japan'`` in the Pandas Series ser1.**\n",
    "- This method is useful for finding the positional index of a specific label."
   ]
  },
  {
   "cell_type": "code",
   "execution_count": 188,
   "metadata": {},
   "outputs": [
    {
     "data": {
      "text/plain": [
       "3"
      ]
     },
     "execution_count": 188,
     "metadata": {},
     "output_type": "execute_result"
    }
   ],
   "source": [
    "# pandas.index.get_loc\n",
    "# index.get_loc(key, method=None, tolerance=None)[source]\n",
    "# Get integer location, slice or boolean mask for requested label.\n",
    "\n",
    "# Get the integer location of the index label 'Japan'\n",
    "ser1.index.get_loc('Japan') "
   ]
  },
  {
   "cell_type": "markdown",
   "metadata": {},
   "source": [
    "- **``Using get_loc()``**: The method **``get_loc('Japan')``** returns the **``integer position of the index label 'Japan'``**, which is 3 in this case (since indexing is zero-based).\n",
    "- **``Result``**: This indicates that **``'Japan'``** is the **``fourth element``** in the Series.\n",
    "\n",
    "<hr>\n",
    "\n",
    "**The following code allows us to access the ``value associated with the index label 'Japan'`` in the Pandas Series ser1.**"
   ]
  },
  {
   "cell_type": "markdown",
   "metadata": {},
   "source": [
    "Here we can see how 'calling' a label works."
   ]
  },
  {
   "cell_type": "code",
   "execution_count": 189,
   "metadata": {
    "colab": {
     "base_uri": "https://localhost:8080/"
    },
    "id": "J1YUlUc_9kPP",
    "outputId": "47009a76-77e6-4145-e502-9265fa9faa3f"
   },
   "outputs": [
    {
     "data": {
      "text/plain": [
       "4"
      ]
     },
     "execution_count": 189,
     "metadata": {},
     "output_type": "execute_result"
    }
   ],
   "source": [
    "# Access the value associated with the index 'Japan'\n",
    "\n",
    "ser1['Japan']"
   ]
  },
  {
   "cell_type": "markdown",
   "metadata": {},
   "source": [
    "- **``Label-Based Indexing``**: The code **``ser1['Japan']``** uses **``label-based indexing``** to directly access the value corresponding to the **``index label 'Japan'``**.\n",
    "- **``Result``**: The value associated with the index 'Japan' is **``4``**.\n",
    "\n",
    "<hr>\n",
    "\n",
    "**The following code is another way to ``access the value associated with the index label 'Japan'`` in the Pandas Series ser1.**\n",
    "- This method utilizes the **``dot notation``** for accessing attributes, which is possible when the index labels are valid Python identifiers."
   ]
  },
  {
   "cell_type": "code",
   "execution_count": 190,
   "metadata": {
    "id": "B8dR_PQ493ZM",
    "outputId": "df38d38b-91b9-4810-a5cb-135bf8e0108c"
   },
   "outputs": [
    {
     "data": {
      "text/plain": [
       "4"
      ]
     },
     "execution_count": 190,
     "metadata": {},
     "output_type": "execute_result"
    }
   ],
   "source": [
    "# Access the value associated with the index 'Japan' using dot notation\n",
    "\n",
    "ser1.Japan"
   ]
  },
  {
   "cell_type": "markdown",
   "metadata": {},
   "source": [
    "- **``Dot Notation``**: The code ser1.Japan accesses the value associated with the index label 'Japan' using dot notation, which is a shorthand for accessing attributes in a Pandas Series.\n",
    "- **``Result``**: The value associated with the index 'Japan' is 4, just like when using ser1['Japan'].\n",
    "\n",
    "<hr>\n",
    "\n",
    "The difference between ser1['Japan'] and ser1.Japan lies primarily in how they access the data in the Pandas Series, and there are some conceptual differences worth noting.\n",
    "\n",
    "- **``Differences:``**\n",
    "  - **``Access Method``**:\n",
    "    - **``ser1['Japan']``**: This uses label-based indexing, which is the standard way to access elements in a Pandas Series using the index label. It is explicit and works with any valid label.\n",
    "    - **``ser1.Japan``**: This uses attribute access (dot notation). It is a shortcut for accessing values when the index label is a valid Python identifier (e.g., does not contain spaces or special characters).\n",
    "  - **``Flexibility:``**\n",
    "    - **``ser1['Japan']``**: Works with any index label, even if it contains spaces or characters that are invalid for attribute access.\n",
    "    - **``ser1.Japan``**: Limited to index labels that are valid Python identifiers. If the index label were something like 'Japan 2020', this access method would fail.\n",
    "  - **``Conceptual Names:``**\n",
    "    - The first method (ser1['Japan']) is often referred to as \"indexing\" or \"label-based indexing\".\n",
    "    - The second method (ser1.Japan) is referred to as \"attribute access\" or simply \"dot notation\".\n",
    "  - **``SQL Syntax:``**\n",
    "    - If you were to draw an analogy to SQL, you might think of ser1['Japan'] as similar to a SELECT statement with a WHERE clause (explicitly specifying which data to retrieve).\n",
    "    - In contrast, ser1.Japan could be viewed as a shorthand for directly referencing a column (like using a column name in a SELECT statement without conditions), but it lacks the explicit specificity.\n",
    "  - **``Preferred Method:``**\n",
    "    - **``Preference:``**\n",
    "      - **``The preferred method is ser1['Japan'] because:``**\n",
    "        - It is more flexible and works with any index label.\n",
    "        - It is explicit, making the code clearer and easier to read, especially for those unfamiliar with the structure of the Series.\n",
    "        - It avoids potential errors that might occur when using dot notation with index labels that are not valid Python identifiers.\n",
    "\n",
    "<hr>\n",
    "\n",
    "**The following code ``returns the value associated with the index label 'Japan'`` in the Pandas Series ser1:**"
   ]
  },
  {
   "cell_type": "code",
   "execution_count": 191,
   "metadata": {
    "colab": {
     "base_uri": "https://localhost:8080/"
    },
    "id": "TA4UqJ5Y9kPP",
    "outputId": "b118fdb2-8e3d-4e6d-bf12-d543f79732e3"
   },
   "outputs": [
    {
     "name": "stdout",
     "output_type": "stream",
     "text": [
      "The value for 'Japan': 4\n"
     ]
    }
   ],
   "source": [
    "# Print the value for 'Japan'\n",
    "\n",
    "print(\"The value for 'Japan':\", ser1['Japan'])"
   ]
  },
  {
   "cell_type": "markdown",
   "metadata": {},
   "source": [
    "- **``Accessing the Value``**: The code **``ser1['Japan']``** retrieves the **``value``** associated with the **``index label 'Japan'``**, which is **``4``**.\n",
    "- **``Printing``**: The print() function outputs a formatted string that includes the retrieved value.\n",
    "\n",
    "<hr>\n",
    "\n",
    "**The following code ``returns the value associated with the 3rd index position`` in the Pandas Series ser1. Since ``indexing is zero-based``, this refers to the ``fourth element`` in the Series.**"
   ]
  },
  {
   "cell_type": "code",
   "execution_count": 192,
   "metadata": {},
   "outputs": [
    {
     "name": "stdout",
     "output_type": "stream",
     "text": [
      "The value for the 3rd index: 4\n"
     ]
    }
   ],
   "source": [
    "# Print the value for the 3rd index position\n",
    "\n",
    "print(\"The value for the 3rd index:\", ser1[3])"
   ]
  },
  {
   "cell_type": "markdown",
   "metadata": {},
   "source": [
    "- **``Accessing the Value``**: The code **``ser1[3]``** retrieves the **``value``** at the **``3rd index position``** (**``fourth element``**), which corresponds to the index label **``'Japan'``**.\n",
    "- **``Printing``**: The print() function outputs a formatted string that includes the retrieved value.\n",
    "\n",
    "<hr>\n",
    "\n"
   ]
  },
  {
   "cell_type": "code",
   "execution_count": 193,
   "metadata": {},
   "outputs": [
    {
     "data": {
      "text/plain": [
       "USA        1\n",
       "Germany    2\n",
       "RF         3\n",
       "Japan      4\n",
       "dtype: int64"
      ]
     },
     "execution_count": 193,
     "metadata": {},
     "output_type": "execute_result"
    }
   ],
   "source": [
    "ser1"
   ]
  },
  {
   "cell_type": "code",
   "execution_count": null,
   "metadata": {},
   "outputs": [],
   "source": [
    "# ser1[4]  # IndexError: index 4 is out of bounds for axis 0 with size 4"
   ]
  },
  {
   "cell_type": "markdown",
   "metadata": {},
   "source": [
    "The IndexError occurs because we are trying to access an index that is out of bounds for the Series.\n",
    "\n",
    "- **``Zero-Based Indexing:``**\n",
    "  - In Python (and thus in Pandas), indexing is zero-based. This means that the first element of the Series is accessed with index 0, the second with index 1, and so on.\n",
    "- **``Size of the Series:``**\n",
    "  - In your case, ser1 has 4 elements. The valid indices for accessing elements in ser1 are 0, 1, 2, and 3.\n",
    "  - Attempting to access ser1[4] refers to the fifth element, which does not exist since ser1 only contains 4 elements.\n",
    "- **``Error Message:``**\n",
    "  **``The error message IndexError``**: index 4 is out of bounds for axis 0 with size 4 indicates that you are trying to access an index that is beyond the available range (which is 0 to 3 for a size of 4).\n",
    "- **``Valid Index Access:``**\n",
    "  - To successfully access the elements in ser1, you can use:\n",
    "    - ser1[0] for the first element (value 1).\n",
    "    - ser1[1] for the second element (value 2).\n",
    "    - ser1[2] for the third element (value 3).\n",
    "    - ser1[3] for the fourth element (value 4).\n",
    "\n",
    "<hr>\n",
    "\n",
    "\n",
    "**The following code correctly ``handles the IndexError that occurs when trying to access an out-of-bounds index`` in the Pandas Series ser1.**"
   ]
  },
  {
   "cell_type": "code",
   "execution_count": 194,
   "metadata": {},
   "outputs": [
    {
     "name": "stdout",
     "output_type": "stream",
     "text": [
      "Nope, the index you selected is out of bounds. That's not how you select rows (index) in a Series.\n"
     ]
    }
   ],
   "source": [
    "# Attempt to access the fourth element\n",
    "\n",
    "try:\n",
    "    print(\"The value of the fourth element in the Series:\", ser1[4])\n",
    "except IndexError as error:\n",
    "    print(\"Nope, the index you selected is out of bounds. That's not how you select rows (index) in a Series.\")"
   ]
  },
  {
   "cell_type": "markdown",
   "metadata": {},
   "source": [
    "- As seen above, with a Series, the call will return a single scalar value that matches the value at that label in the index. If you pass in a value for a label that doesn't exist, you will get a KeyError raised. Also, if you pass in an integer and your index has that value, it will return it. But if you don't have an integer value in your index, it will return the value by position. This is convenient, but can be confusing.\n",
    "<hr>\n",
    "\n",
    "- **``Try-Except Block:``**\n",
    "  - The try block attempts to access the fourth element using ser1[4].\n",
    "  - If this raises an IndexError (as it will, since ser1 only has indices 0 to 3), the control shifts to the except block.\n",
    "- **``Handling the Error:``**\n",
    "  - **``The except IndexError as error``**: line captures the error, allowing you to handle it gracefully by printing a custom message.\n",
    "  - This prevents the program from crashing and provides informative feedback to the user.\n",
    "\n",
    "<hr>\n",
    "\n",
    "\n"
   ]
  },
  {
   "cell_type": "markdown",
   "metadata": {},
   "source": [
    "### Slicing in Pandas Series:\n",
    "\n",
    "\n",
    "- **Let's see some slicing example with Series**"
   ]
  },
  {
   "cell_type": "code",
   "execution_count": 195,
   "metadata": {},
   "outputs": [
    {
     "data": {
      "text/plain": [
       "USA        1\n",
       "Germany    2\n",
       "Italy      5\n",
       "Japan      4\n",
       "Spain      6\n",
       "dtype: int64"
      ]
     },
     "execution_count": 195,
     "metadata": {},
     "output_type": "execute_result"
    }
   ],
   "source": [
    "# Let's remember our second Series\n",
    "\n",
    "ser2"
   ]
  },
  {
   "cell_type": "markdown",
   "metadata": {},
   "source": [
    "<hr>\n",
    "\n",
    "**The following code attempts to ``access the value at the first index position`` in the Pandas Series ser2.**\n",
    "- However, since the Series uses custom index labels rather than integer indices, this will NOT yield the expected result based on integer indexing."
   ]
  },
  {
   "cell_type": "code",
   "execution_count": 196,
   "metadata": {
    "colab": {
     "base_uri": "https://localhost:8080/",
     "height": 35
    },
    "id": "Bv_9LH7r9kPQ",
    "outputId": "88307206-77aa-4e3e-96d9-d4490ab9f891"
   },
   "outputs": [
    {
     "data": {
      "text/plain": [
       "1"
      ]
     },
     "execution_count": 196,
     "metadata": {},
     "output_type": "execute_result"
    }
   ],
   "source": [
    "# Let's remember Basic Indexing\n",
    "\n",
    "# Access the \"value\" at \"index position 0\"\n",
    "ser2[0]"
   ]
  },
  {
   "cell_type": "markdown",
   "metadata": {},
   "source": [
    "- **``Accessing the Value``**: The code ser2[0] retrieves the value at the first index position, which corresponds to the index label 'USA'.\n",
    "- **``Result``**: The value associated with the index 'USA' is 1, because the Series is ordered based on the order of creation.\n",
    "\n",
    "<hr>\n",
    "\n",
    "**The following code will ``slice the Pandas Series ser2 from the third element to the end``.**\n",
    "- This utilizes Python's standard slicing syntax, where indexing is zero-based."
   ]
  },
  {
   "cell_type": "code",
   "execution_count": 198,
   "metadata": {},
   "outputs": [
    {
     "data": {
      "text/plain": [
       "USA        1\n",
       "Germany    2\n",
       "Italy      5\n",
       "Japan      4\n",
       "Spain      6\n",
       "dtype: int64"
      ]
     },
     "execution_count": 198,
     "metadata": {},
     "output_type": "execute_result"
    }
   ],
   "source": [
    "ser2"
   ]
  },
  {
   "cell_type": "code",
   "execution_count": 197,
   "metadata": {
    "colab": {
     "base_uri": "https://localhost:8080/"
    },
    "id": "xrytly2yuPZf",
    "outputId": "520d6194-3a5b-4a06-9429-51597a7141ac"
   },
   "outputs": [
    {
     "data": {
      "text/plain": [
       "Italy    5\n",
       "Japan    4\n",
       "Spain    6\n",
       "dtype: int64"
      ]
     },
     "execution_count": 197,
     "metadata": {},
     "output_type": "execute_result"
    }
   ],
   "source": [
    "# Slice the Series from the third element to the end\n",
    "\n",
    "ser2[2:]"
   ]
  },
  {
   "cell_type": "markdown",
   "metadata": {},
   "source": [
    "- **``Slicing``**: The expression **``ser2[2:]``** retrieves **``all elements starting from the index position 2 (the third element) to the end of the Series``**.\n",
    "- **``Result``**: The resulting Series contains the entries with indices **``'Italy'``**, **``'Japan'``**, and **``'Spain'``**, along with their corresponding values.\n",
    "\n",
    "<hr>\n",
    "\n",
    "**The following code ``reverses the order of the elements`` in the Pandas Series ser2.**\n",
    "- This utilizes Python's slicing syntax, where the notation **``[::-1]``** means to take the **``entire Series but with a step of -1, effectively reversing it``**."
   ]
  },
  {
   "cell_type": "code",
   "execution_count": 199,
   "metadata": {
    "id": "pFaVX9UG93ZQ",
    "outputId": "4b708c02-003e-41eb-85f4-48b27c9f1cd0"
   },
   "outputs": [
    {
     "data": {
      "text/plain": [
       "Spain      6\n",
       "Japan      4\n",
       "Italy      5\n",
       "Germany    2\n",
       "USA        1\n",
       "dtype: int64"
      ]
     },
     "execution_count": 199,
     "metadata": {},
     "output_type": "execute_result"
    }
   ],
   "source": [
    "# Reverse the Series\n",
    "\n",
    "ser2[::-1]"
   ]
  },
  {
   "cell_type": "markdown",
   "metadata": {},
   "source": [
    "- **``Reversing``**: The expression **``ser2[::-1]``** creates a new Series where the original order of elements is reversed.\n",
    "- **``Result``**: The resulting Series retains the original values but **``changes the order of the indices from last to first``**.\n",
    "\n",
    "<hr>\n",
    "\n"
   ]
  },
  {
   "cell_type": "markdown",
   "metadata": {
    "id": "FuAlZSDAuPZd"
   },
   "source": [
    "### Aritmetic Operations in the Series:\n",
    "\n",
    "- **Another huge pro of using labelled indexes is that you can perform operations between two different series and Pandas know what labels have both series in common and does the operations automatically.**\n",
    "\n",
    "Operations are then also done based on index:\n",
    "\n",
    "**The following code ``performs element-wise addition`` of the two Pandas Series, ser1 and ser2.**\n",
    "- The addition is done based on their index labels. \n",
    "  - If an index exists in both Series, their corresponding values are added together. If an index exists in only one of the Series, the result will have NaN (Not a Number) for that index."
   ]
  },
  {
   "cell_type": "code",
   "execution_count": 202,
   "metadata": {},
   "outputs": [
    {
     "data": {
      "text/plain": [
       "(USA        1\n",
       " Germany    2\n",
       " RF         3\n",
       " Japan      4\n",
       " dtype: int64,\n",
       " USA        1\n",
       " Germany    2\n",
       " Italy      5\n",
       " Japan      4\n",
       " Spain      6\n",
       " dtype: int64)"
      ]
     },
     "execution_count": 202,
     "metadata": {},
     "output_type": "execute_result"
    }
   ],
   "source": [
    "ser1, ser2"
   ]
  },
  {
   "cell_type": "code",
   "execution_count": 201,
   "metadata": {
    "colab": {
     "base_uri": "https://localhost:8080/"
    },
    "id": "5XacyJBK9kPQ",
    "outputId": "0eb913f5-ac96-49c9-e09d-c000d834436c"
   },
   "outputs": [
    {
     "data": {
      "text/plain": [
       "Germany    4.0\n",
       "Italy      NaN\n",
       "Japan      8.0\n",
       "RF         NaN\n",
       "Spain      NaN\n",
       "USA        2.0\n",
       "dtype: float64"
      ]
     },
     "execution_count": 201,
     "metadata": {},
     "output_type": "execute_result"
    }
   ],
   "source": [
    "# Perform the addition\n",
    "\n",
    "ser1 + ser2"
   ]
  },
  {
   "cell_type": "markdown",
   "metadata": {},
   "source": [
    "Using **``ser1 + ser2``** allows you to perform **``element-wise addition based on index labels``**, resulting in a new Series that includes combined values where applicable and **``NaN``** for **``unmatched indices``**.\n",
    "\n",
    "\n",
    "- **``Element-wise Addition:``**\n",
    "  - **``For the index 'USA'``**: ser1['USA'] (1) + ser2['USA'] (1) = **``2``**\n",
    "  - **``For the index 'Germany'``**: ser1['Germany'] (2) + ser2['Germany'] (2) = **``4``**\n",
    "  - **``For the index 'Japan'``**: ser1['Japan'] (4) + ser2['Japan'] (4) = **``8``**\n",
    "\n",
    "For the indices **``'Italy'``**, **``'RF'``**, and **``'Spain'``**, the corresponding values in one of the Series are **``NaN``**, leading to NaN in the result.\n",
    "\n",
    "<hr>\n",
    "\n",
    "**The following code ``performs element-wise multiplication`` of the two Pandas Series, ser1 and ser2.**\n",
    "- Similar to addition, multiplication is done based on their index labels.  \n",
    "  - If an index exists in both Series, the corresponding values are multiplied together. \n",
    "  - If an index exists in only one of the Series, the result will include NaN (Not a Number) for that index.\n",
    "\n"
   ]
  },
  {
   "cell_type": "code",
   "execution_count": 203,
   "metadata": {
    "scrolled": true
   },
   "outputs": [
    {
     "data": {
      "text/plain": [
       "Germany     4.0\n",
       "Italy       NaN\n",
       "Japan      16.0\n",
       "RF          NaN\n",
       "Spain       NaN\n",
       "USA         1.0\n",
       "dtype: float64"
      ]
     },
     "execution_count": 203,
     "metadata": {},
     "output_type": "execute_result"
    }
   ],
   "source": [
    "# Perform the multiplication\n",
    "\n",
    "ser1 * ser2"
   ]
  },
  {
   "cell_type": "markdown",
   "metadata": {},
   "source": [
    "Using **``ser1 * ser2``** allows you to perform **``element-wise multiplication based on index labels``**, resulting in a new Series that includes combined values where applicable and **``NaN``** for **``unmatched indices``**.\n",
    "\n",
    "\n",
    "- **``Element-wise Multiplication:``**\n",
    "- **``For the index 'USA'``**: ser1['USA'] (1) * ser2['USA'] (1) = **``1``**\n",
    "- **``For the index 'Germany'``**: ser1['Germany'] (2) * ser2['Germany'] (2) = **``4``**\n",
    "- **``For the index 'Japan'``**: ser1['Japan'] (4) * ser2['Japan'] (4) = **``16``**\n",
    "\n",
    "For the indices **``'Italy'``**, **``'RF'``**, and **``'Spain'``**, the corresponding values in one of the Series are **``NaN``**, leading to NaN in the result.\n",
    "\n",
    "<hr>\n",
    "\n"
   ]
  },
  {
   "cell_type": "markdown",
   "metadata": {},
   "source": [
    "**Let's make changes on indexes:**"
   ]
  },
  {
   "cell_type": "code",
   "execution_count": 205,
   "metadata": {
    "colab": {
     "base_uri": "https://localhost:8080/"
    },
    "id": "SzUGaG2YuPZg",
    "outputId": "227793d2-d2d8-4275-d375-fd002cce4f05"
   },
   "outputs": [
    {
     "data": {
      "text/plain": [
       "terry      121\n",
       "micheal    200\n",
       "orion      150\n",
       "jason       99\n",
       "dtype: int64"
      ]
     },
     "execution_count": 205,
     "metadata": {},
     "output_type": "execute_result"
    }
   ],
   "source": [
    "# Create the Series\n",
    "ser = pd.Series(data=[121, 200, 150, 99], index=[\"terry\", \"micheal\", \"orion\", \"jason\"])\n",
    "\n",
    "# Display the Series\n",
    "ser"
   ]
  },
  {
   "cell_type": "markdown",
   "metadata": {},
   "source": [
    "- **``Data``**: The **``values``** in the Series are **``[121, 200, 150, 99]``**.\n",
    "- **``Index``**: The corresponding **``indices``** are **``[\"terry\", \"micheal\", \"orion\", \"jason\"]``**.\n",
    "- **``Data Type``**: The Series has a data type of int64, indicating that the values are integers.\n",
    "\n",
    "<hr>\n",
    "\n",
    "**The following code  will ``return the index labels`` of the Pandas Series ser.**\n",
    "- This allows you to see the labels associated with each entry in the Series."
   ]
  },
  {
   "cell_type": "code",
   "execution_count": 206,
   "metadata": {},
   "outputs": [
    {
     "data": {
      "text/plain": [
       "Index(['terry', 'micheal', 'orion', 'jason'], dtype='object')"
      ]
     },
     "execution_count": 206,
     "metadata": {},
     "output_type": "execute_result"
    }
   ],
   "source": [
    "# Access the index of the Series\n",
    "\n",
    "ser.index"
   ]
  },
  {
   "cell_type": "markdown",
   "metadata": {},
   "source": [
    "- **``Index Object``**: The output is an **``Index object``** that contains the **``labels``** **``['terry', 'micheal', 'orion', 'jason']``**.\n",
    "- **``Data Type``**: The **``dtype``** is **``object``**, indicating that the index **``labels are strings``**.\n",
    "\n",
    "<hr>\n",
    "\n",
    "**The following code allows us to ``access the value associated with the index label 'terry'`` in the Pandas Series ser.**"
   ]
  },
  {
   "cell_type": "code",
   "execution_count": 207,
   "metadata": {
    "colab": {
     "base_uri": "https://localhost:8080/"
    },
    "id": "-Cw2RyopuPZg",
    "outputId": "636d9e26-ad9c-434e-f1e7-900c0c2958e8"
   },
   "outputs": [
    {
     "data": {
      "text/plain": [
       "121"
      ]
     },
     "execution_count": 207,
     "metadata": {},
     "output_type": "execute_result"
    }
   ],
   "source": [
    "# Access the value associated with the index 'terry'\n",
    "\n",
    "ser['terry']"
   ]
  },
  {
   "cell_type": "markdown",
   "metadata": {},
   "source": [
    "- **``Label-Based Indexing``**: The code **``ser['terry']``** retrieves the **``value``** corresponding to the index label **``'terry'``**, which is **``121``**.\n",
    "- **``Result``**: This shows the **``value``** associated with the **``specified index label``**.\n",
    "\n",
    "<hr>\n",
    "\n",
    "**The following code ``accesses the value at the first positional index`` in the Pandas Series ser.**\n",
    "- Since indexing in Python is zero-based, **``ser[0]``** retrieves the **``first element``** of the Series."
   ]
  },
  {
   "cell_type": "code",
   "execution_count": 208,
   "metadata": {
    "colab": {
     "base_uri": "https://localhost:8080/"
    },
    "id": "Zh2miOopuPZg",
    "outputId": "62b8612e-4bb7-4fa3-9a01-778a128585b4"
   },
   "outputs": [
    {
     "data": {
      "text/plain": [
       "121"
      ]
     },
     "execution_count": 208,
     "metadata": {},
     "output_type": "execute_result"
    }
   ],
   "source": [
    "# Access the value at the first positional index\n",
    "\n",
    "ser[0]"
   ]
  },
  {
   "cell_type": "markdown",
   "metadata": {},
   "source": [
    "- **``Positional Indexing``**: The code **``ser[0]``** retrieves the **``value``** at the **``first index position``**, which corresponds to the index label **``'terry'``**.\n",
    "Result``**: The **``value``** associated with the **``first element``** is **``121``**.\n",
    "\n",
    "<hr>\n",
    "\n",
    "**The following code allows you to ``access multiple elements`` from the Pandas Series ser at ``specified positional indices``.**\n",
    "- In this case, it retrieves the **``values``** at index positions **``0``** and **``2``**."
   ]
  },
  {
   "cell_type": "code",
   "execution_count": null,
   "metadata": {},
   "outputs": [],
   "source": [
    "# Access the values at index positions 0 and 2\n",
    "\n",
    "ser[[0, 2]]"
   ]
  },
  {
   "cell_type": "markdown",
   "metadata": {},
   "source": [
    "using **``ser[[0, 2]]``** is an example of **``fancy indexing``** (or boolean indexing) in Pandas. Fancy indexing allows you to access **``multiple elements``** of a Series or DataFrame by using an array or list of indices.\n",
    "\n",
    "- **``Key Points About Fancy Indexing:``**\n",
    "  - **``Multiple Indices``**: Fancy indexing enables you to retrieve multiple elements at once based on their positional indices or labels, as demonstrated in your example.\n",
    "  - **``Array-Like Input``**: You can use a list or a NumPy array of indices to specify which elements you want to access. This contrasts with standard indexing, where you would typically access a single element at a time.\n",
    "  - **``Return Type``**: The result of fancy indexing is still a Series (if applied to a Series) or a DataFrame (if applied to a DataFrame), preserving the original structure while allowing for selective access.\n",
    "\n",
    "- **``Positional Indexing``**: The code **``ser[[0, 2]]``** retrieves the values at the specified positions:\n",
    "  - **``Index 0``**: corresponds to **``'terry'``** (value **``121``**).\n",
    "  - **``Index 2``**: corresponds to **``'orion'``** (value **``150``**).\n",
    "- **``Result``**: The result is a new Series containing the values associated with the specified positions, along with their respective index labels.\n",
    "\n",
    "<hr>\n",
    "\n",
    "**The following code allows us to ``access multiple elements`` from the Pandas Series ser using their index labels.**\n",
    "- This is another example of **``fancy indexing``**, but this time it utilizes label-based indexing rather than positional indexing."
   ]
  },
  {
   "cell_type": "code",
   "execution_count": 213,
   "metadata": {
    "colab": {
     "base_uri": "https://localhost:8080/"
    },
    "id": "wCbdbGNouPZg",
    "outputId": "827f15c4-b125-4efb-f017-858030dd9ac6"
   },
   "outputs": [
    {
     "data": {
      "text/plain": [
       "terry    121\n",
       "orion    150\n",
       "dtype: int64"
      ]
     },
     "execution_count": 213,
     "metadata": {},
     "output_type": "execute_result"
    }
   ],
   "source": [
    "# Access the values associated with the index labels 'terry' and 'orion'\n",
    "\n",
    "ser[[\"terry\", \"orion\"]]"
   ]
  },
  {
   "cell_type": "markdown",
   "metadata": {},
   "source": [
    "- **``Label-Based Indexing``**: The code **``ser[[\"terry\", \"orion\"]]``** retrieves the values associated with the specified labels.\n",
    "- **``Result``**: The result is a new Series containing the values for the specified index labels along with their respective labels.\n",
    "\n",
    "<hr>\n",
    "\n",
    "**The following code ``slices the Pandas Series ser to retrieve a subset of elements from the first index position up to, but not including, the third index position``.**\n",
    "- This utilizes Python's standard slicing syntax."
   ]
  },
  {
   "cell_type": "code",
   "execution_count": 214,
   "metadata": {},
   "outputs": [
    {
     "data": {
      "text/plain": [
       "terry      121\n",
       "micheal    200\n",
       "orion      150\n",
       "jason       99\n",
       "dtype: int64"
      ]
     },
     "execution_count": 214,
     "metadata": {},
     "output_type": "execute_result"
    }
   ],
   "source": [
    "ser"
   ]
  },
  {
   "cell_type": "code",
   "execution_count": 215,
   "metadata": {
    "colab": {
     "base_uri": "https://localhost:8080/"
    },
    "id": "9Y3jUO8M9kPS",
    "outputId": "7178da0b-ab32-49f9-dd5a-cff6d69c57bc"
   },
   "outputs": [
    {
     "data": {
      "text/plain": [
       "terry      121\n",
       "micheal    200\n",
       "orion      150\n",
       "dtype: int64"
      ]
     },
     "execution_count": 215,
     "metadata": {},
     "output_type": "execute_result"
    }
   ],
   "source": [
    "# Slice the Series from index position 0 to 3\n",
    "\n",
    "ser[0:3]"
   ]
  },
  {
   "cell_type": "markdown",
   "metadata": {},
   "source": [
    "- **``Slicing``**: The expression **``ser[0:3]``** retrieves the elements at index positions **``0``**, **``1``**, and **``2``**. The slicing is inclusive of the **``starting index (0)``** and **``exclusive of the stopping index (3)``**.\n",
    "- **``Result``**: The resulting Series includes the values for the index labels 'terry', 'micheal', and 'orion'.\n",
    "\n",
    "<hr>\n",
    "\n",
    "**The following code ``slices the Pandas Series ser using label-based indexing``.**\n",
    "- This retrieves all elements from the index label **``'terry'``** to the index label **``'orion'``**, ``**inclusive``**."
   ]
  },
  {
   "cell_type": "code",
   "execution_count": 216,
   "metadata": {
    "colab": {
     "base_uri": "https://localhost:8080/"
    },
    "id": "TaoY0bgw9kPR",
    "outputId": "0d2d8980-2fd8-42f3-ce8b-b08d8dc3670e"
   },
   "outputs": [
    {
     "data": {
      "text/plain": [
       "terry      121\n",
       "micheal    200\n",
       "orion      150\n",
       "dtype: int64"
      ]
     },
     "execution_count": 216,
     "metadata": {},
     "output_type": "execute_result"
    }
   ],
   "source": [
    "# Slice the Series from 'terry' to 'orion'\n",
    "\n",
    "ser['terry':'orion']"
   ]
  },
  {
   "cell_type": "markdown",
   "metadata": {},
   "source": [
    "- **``Label-Based Slicing``**: The expression **``ser['terry':'orion']``** retrieves the **``elements starting from the index label 'terry'``** to the **``index label 'orion'``**, **``inclusive``** of both endpoints.\n",
    "- **``Result``**: The resulting Series includes the values for the index labels **``'terry'``**, **``'micheal'``**, and **``'orion'``**.\n",
    "\n",
    "<hr>\n",
    "\n"
   ]
  },
  {
   "cell_type": "markdown",
   "metadata": {},
   "source": [
    "## <p style=\"background-color:#E51A59; font-family:newtimeroman; color:#FFF9ED; font-size:150%; text-align:center; border-radius:10px 10px;\">Selection with Condition and Broadcasting</p>\n",
    "\n",
    "<a id=\"5\"></a>\n",
    "<a href=\"#toc\" class=\"btn btn-primary btn-sm\" role=\"button\" aria-pressed=\"true\" \n",
    "style=\"color:blue; background-color:#dfa8e4\" data-toggle=\"popover\">Content</a>"
   ]
  },
  {
   "cell_type": "code",
   "execution_count": 217,
   "metadata": {
    "colab": {
     "base_uri": "https://localhost:8080/"
    },
    "id": "vBxqIQ-09kPV",
    "outputId": "1ad7db08-1069-42c3-e50a-41857306f308",
    "scrolled": true
   },
   "outputs": [
    {
     "data": {
      "text/plain": [
       "terry      121\n",
       "micheal    200\n",
       "orion      150\n",
       "jason       99\n",
       "dtype: int64"
      ]
     },
     "execution_count": 217,
     "metadata": {},
     "output_type": "execute_result"
    }
   ],
   "source": [
    "# Let's remember our Series\n",
    "\n",
    "ser"
   ]
  },
  {
   "cell_type": "markdown",
   "metadata": {},
   "source": [
    "- **``Index Labels``**: The Series has index labels: **``'terry'``**, **``'micheal'``**, **``'orion'``**, and **``'jason'``**.\n",
    "- **``Values``**: The corresponding values are **``121``**, **``200``**, **``150``**, and **``99``**.\n",
    "- **``Data Type``**: The data type of the Series is int64, indicating that the values are integers.\n",
    "\n",
    "<hr>\n",
    "\n",
    "### Conditional Selection:\n",
    "\n",
    "\n",
    "**The following expression ``checks whether the index label 'terry' exists in the Pandas Series ser``.**\n",
    "- This expression returns a boolean value: \n",
    "   - True if the label is present and\n",
    "   - False if it is NOT."
   ]
  },
  {
   "cell_type": "code",
   "execution_count": 218,
   "metadata": {
    "colab": {
     "base_uri": "https://localhost:8080/"
    },
    "id": "usbYLx3j9kPU",
    "outputId": "7c5bd16f-13d8-4a5f-f03a-7c978d52cb1d"
   },
   "outputs": [
    {
     "data": {
      "text/plain": [
       "True"
      ]
     },
     "execution_count": 218,
     "metadata": {},
     "output_type": "execute_result"
    }
   ],
   "source": [
    "# Check if 'terry' is an index label in the Series\n",
    "\n",
    "'terry' in ser"
   ]
  },
  {
   "cell_type": "markdown",
   "metadata": {},
   "source": [
    "- **``Membership Check``**: The expression **``'terry' in ser``** effectively checks the Series' index for the presence of the label **``'terry'``**.\n",
    "- **``Result``**: Since **``'terry'``** is indeed one of the index labels in the Series, the result is **``True``**.\n",
    "\n",
    "<hr>\n",
    "\n",
    "**The following expression ``checks whether the index label 'bob' exists in the Pandas Series ser``.**\n",
    "- This expression returns a boolean value: \n",
    "   - **``True``** if the label is **``present``** and\n",
    "   - **``False``** if it is **``NOT``**."
   ]
  },
  {
   "cell_type": "code",
   "execution_count": 219,
   "metadata": {
    "colab": {
     "base_uri": "https://localhost:8080/"
    },
    "id": "EU9JyMT09kPU",
    "outputId": "48234278-79f3-4811-e615-3c73b2cf25bd"
   },
   "outputs": [
    {
     "data": {
      "text/plain": [
       "False"
      ]
     },
     "execution_count": 219,
     "metadata": {},
     "output_type": "execute_result"
    }
   ],
   "source": [
    "# Check if 'bob' is an index label in the Series\n",
    "\n",
    "'bob' in ser"
   ]
  },
  {
   "cell_type": "markdown",
   "metadata": {},
   "source": [
    "- **``Membership Check``**: The expression **``'bob' in ser``** effectively checks the Series' index for the presence of the label **``'bob'``**.\n",
    "- **``Result``**: Since **``'bob'``** is NOT one of the index labels in the Series, the result is **``False``**.\n",
    "\n",
    "<hr>\n",
    "\n",
    "**The following expression ``checks whether the value 121 exists within the values of the Pandas Series ser``.**\n",
    "- This expression returns a boolean value: \n",
    "   - **``True``** if the label is **``present``** and\n",
    "   - **``False``** if it is **``NOT``**."
   ]
  },
  {
   "cell_type": "code",
   "execution_count": 220,
   "metadata": {},
   "outputs": [
    {
     "data": {
      "text/plain": [
       "array([121, 200, 150,  99], dtype=int64)"
      ]
     },
     "execution_count": 220,
     "metadata": {},
     "output_type": "execute_result"
    }
   ],
   "source": [
    "ser.values"
   ]
  },
  {
   "cell_type": "code",
   "execution_count": 221,
   "metadata": {
    "colab": {
     "base_uri": "https://localhost:8080/"
    },
    "id": "YiO2_IRV9kPU",
    "outputId": "46a0c523-c651-4390-ded5-8cfdca2f2175"
   },
   "outputs": [
    {
     "data": {
      "text/plain": [
       "True"
      ]
     },
     "execution_count": 221,
     "metadata": {},
     "output_type": "execute_result"
    }
   ],
   "source": [
    "# Check if 121 is in the values of the Series\n",
    "\n",
    "121 in ser.values"
   ]
  },
  {
   "cell_type": "markdown",
   "metadata": {},
   "source": [
    "- **``Membership Check``**: The expression **``121 in ser.values``** checks the underlying array of values in the Series to see if **``121``** is one of them.\n",
    "- **``Result``**: Since **``121``** is indeed one of the values in the Series, the result is **``True``**.\n",
    "\n",
    "<hr>\n",
    "\n",
    "**The following expression ``checks whether the value 55 exists within the values of the Pandas Series ser``.**\n",
    "- This expression returns a boolean value: \n",
    "   - **``True``** if the label is **``present``** and\n",
    "   - **``False``** if it is **``NOT``**."
   ]
  },
  {
   "cell_type": "code",
   "execution_count": 222,
   "metadata": {
    "colab": {
     "base_uri": "https://localhost:8080/"
    },
    "id": "m5R7hM7o9kPV",
    "outputId": "d33ae475-f6da-4887-bc03-437f1ca9a39f"
   },
   "outputs": [
    {
     "data": {
      "text/plain": [
       "False"
      ]
     },
     "execution_count": 222,
     "metadata": {},
     "output_type": "execute_result"
    }
   ],
   "source": [
    "# Check if 55 is in the values of the Series\n",
    "\n",
    "55 in ser.values"
   ]
  },
  {
   "cell_type": "markdown",
   "metadata": {},
   "source": [
    "- **``Membership Check``**: The expression **``55 in ser.values``** checks the underlying array of values in the Series to see if **``55``** is one of them.\n",
    "- **``Result``**: Since **``55``** is NOT one of the values in the Series, the result is **``False``**.\n",
    "\n",
    "<hr>\n",
    "\n",
    "**The following expression applies a ``comparison operation to each element in the Pandas Series ser``.**\n",
    "- This will return a new Series of boolean values, indicating **``whether each corresponding value in the Series is less than 100``**."
   ]
  },
  {
   "cell_type": "code",
   "execution_count": 224,
   "metadata": {},
   "outputs": [
    {
     "data": {
      "text/plain": [
       "terry      121\n",
       "micheal    200\n",
       "orion      150\n",
       "jason       99\n",
       "dtype: int64"
      ]
     },
     "execution_count": 224,
     "metadata": {},
     "output_type": "execute_result"
    }
   ],
   "source": [
    "ser"
   ]
  },
  {
   "cell_type": "code",
   "execution_count": 223,
   "metadata": {},
   "outputs": [
    {
     "data": {
      "text/plain": [
       "terry      False\n",
       "micheal    False\n",
       "orion      False\n",
       "jason       True\n",
       "dtype: bool"
      ]
     },
     "execution_count": 223,
     "metadata": {},
     "output_type": "execute_result"
    }
   ],
   "source": [
    "# Perform the comparison\n",
    "\n",
    "ser < 100"
   ]
  },
  {
   "cell_type": "markdown",
   "metadata": {},
   "source": [
    "- **``Element-wise Comparison``**: The expression ser < 100 checks each value in the Series:\n",
    "  - **``For 'terry'``**: ``121 < 100`` → **``False``**\n",
    "  - **``For 'micheal'``**: ``200 < 100`` → **``False``**\n",
    "  - **``For 'orion'``**: ``150 < 100`` → **``False``**\n",
    "  - **``For 'jason'``**: ``99 < 100`` → **``True``**\n",
    "- **``Result``**: The resulting Series contains boolean values indicating **``whether each original value is less than 100``**.\n",
    "\n",
    "<hr>\n",
    "\n",
    "### Broadcasting:\n",
    "\n",
    "**The following expression ``updates the values in the Pandas Series ser where the condition (values less than 100) is true. Specifically, it sets those values to 100``.**"
   ]
  },
  {
   "cell_type": "code",
   "execution_count": 225,
   "metadata": {
    "colab": {
     "base_uri": "https://localhost:8080/"
    },
    "id": "K-u1nAUK9kPV",
    "outputId": "505c9809-8351-4929-b440-19aebfc16de3"
   },
   "outputs": [
    {
     "data": {
      "text/plain": [
       "terry      121\n",
       "micheal    200\n",
       "orion      150\n",
       "jason      100\n",
       "dtype: int64"
      ]
     },
     "execution_count": 225,
     "metadata": {},
     "output_type": "execute_result"
    }
   ],
   "source": [
    "# Update values that are less than 100\n",
    "ser[ser < 100] = 100\n",
    "\n",
    "# Display the Series\n",
    "ser"
   ]
  },
  {
   "cell_type": "markdown",
   "metadata": {},
   "source": [
    "- **``Condition``**: The condition **``ser < 100``** checks **``each value in the Series``** and returns a boolean Series indicating which values are less than 100.\n",
    "- **``Updating Values``**: The values that satisfy this condition (in this case, the **``value 99``** for index **``'jason'``**) are **``set to 100``**.\n",
    "- **``Result``**: The resulting Series shows that the original value of **``99 has been replaced with 100``**, while all other values remain unchanged.\n",
    "\n",
    "<hr>\n",
    "\n",
    "**The following expression ``checks whether each value in the Pandas Series ser is contained within the specified list (in this case, the list containing just the value 121)``.**\n",
    "- This operation returns a boolean Series indicating;\n",
    "  - **``True``** for values that are **``present``** in the list and\n",
    "  - **``False``** for those that are **``NOT``**."
   ]
  },
  {
   "cell_type": "code",
   "execution_count": 226,
   "metadata": {},
   "outputs": [
    {
     "data": {
      "text/plain": [
       "terry       True\n",
       "micheal    False\n",
       "orion      False\n",
       "jason      False\n",
       "dtype: bool"
      ]
     },
     "execution_count": 226,
     "metadata": {},
     "output_type": "execute_result"
    }
   ],
   "source": [
    "# Check if values are in the list [121]\n",
    "\n",
    "ser.isin([121])"
   ]
  },
  {
   "cell_type": "markdown",
   "metadata": {},
   "source": [
    "- **``Membership Check``**: The **``isin([121])``** method checks **``each value in the Series to see if it matches 121``**.\n",
    "- **``Result``**: The resulting Series indicates that only the value associated with the index label **``'terry'``** is **``121``**, hence it returns;\n",
    "  - **``True``** for matching index **``'terry'``** and\n",
    "  - **``False``** for all others.\n",
    "\n",
    "<hr>\n",
    "\n",
    "**The following expression ``updates the values in the Pandas Series ser where the condition (values equal to 121) is true, setting those values to 125``.**"
   ]
  },
  {
   "cell_type": "code",
   "execution_count": 227,
   "metadata": {
    "id": "nKI8hHSr9kPV"
   },
   "outputs": [
    {
     "data": {
      "text/plain": [
       "terry      125\n",
       "micheal    200\n",
       "orion      150\n",
       "jason      100\n",
       "dtype: int64"
      ]
     },
     "execution_count": 227,
     "metadata": {},
     "output_type": "execute_result"
    }
   ],
   "source": [
    "# Update values that are equal to 121\n",
    "\n",
    "ser[ser.isin([121])] = 125\n",
    "\n",
    "\n",
    "ser"
   ]
  },
  {
   "cell_type": "markdown",
   "metadata": {},
   "source": [
    "- **``Condition``**: The method **``ser.isin([121])``** checks **``each value in the Series and returns a boolean Series``**, indicating which values are equal to **``121``**.\n",
    "- **``Updating Values``**: The values that satisfy this condition (in this case, the **``value 121``** for index **``'terry'``**) are set to **``125``**.\n",
    "- **``Result``**: The resulting Series shows that the original value of 121 has been **``replaced with 125``**, while all other values remain unchanged.\n",
    "\n",
    "<hr>\n",
    "\n"
   ]
  },
  {
   "cell_type": "markdown",
   "metadata": {},
   "source": [
    "## <p style=\"background-color:#E51A59; font-family:newtimeroman; color:#FFF9ED; font-size:150%; text-align:center; border-radius:10px 10px;\">Recap for Several Selecting Attributes</p>\n",
    "\n",
    "<a id=\"6\"></a>\n",
    "<a href=\"#toc\" class=\"btn btn-primary btn-sm\" role=\"button\" aria-pressed=\"true\" \n",
    "style=\"color:blue; background-color:#dfa8e4\" data-toggle=\"popover\">Content</a>"
   ]
  },
  {
   "cell_type": "code",
   "execution_count": 228,
   "metadata": {
    "colab": {
     "base_uri": "https://localhost:8080/"
    },
    "id": "e-s7Wty-uPZh",
    "outputId": "4e6cd861-86f6-4e8b-c332-6dc5297599b8"
   },
   "outputs": [
    {
     "data": {
      "text/plain": [
       "Index(['terry', 'micheal', 'orion', 'jason'], dtype='object')"
      ]
     },
     "execution_count": 228,
     "metadata": {},
     "output_type": "execute_result"
    }
   ],
   "source": [
    "# Retrieve the keys (index labels) of the Series\n",
    "\n",
    "ser.keys()"
   ]
  },
  {
   "cell_type": "markdown",
   "metadata": {},
   "source": [
    " - **``Index Object``**: The **``keys()``** method returns an **``Index object``** that contains the **``labels``** **``['terry', 'micheal', 'orion', 'jason']``**.\n",
    "- **``Data Type``**: The **``dtype``** is **``object``**, indicating that the **``index labels``** are **``strings``**.\n",
    "\n",
    "<hr>\n",
    "\n"
   ]
  },
  {
   "cell_type": "code",
   "execution_count": 229,
   "metadata": {
    "colab": {
     "base_uri": "https://localhost:8080/"
    },
    "id": "sX1BjCZruPZh",
    "outputId": "ac9d1be6-68f1-49ca-ec6a-73631cab1436"
   },
   "outputs": [
    {
     "data": {
      "text/plain": [
       "Index(['terry', 'micheal', 'orion', 'jason'], dtype='object')"
      ]
     },
     "execution_count": 229,
     "metadata": {},
     "output_type": "execute_result"
    }
   ],
   "source": [
    "# Retrieve the index of the Series\n",
    "\n",
    "ser.index"
   ]
  },
  {
   "cell_type": "markdown",
   "metadata": {},
   "source": [
    "- **``Index Object``**: The **``index``** attribute returns an **``Index object``** that contains the **``labels``** **``['terry', 'micheal', 'orion', 'jason']``**.\n",
    "- **``Data Type``**: The **``dtype``** is **``object``**, indicating that the **``index labels``** are **``strings``**.\n",
    "\n",
    "\n",
    "<p style=\"background-color:#FFFFFF; font-family:newtimeroman; color:#0000FF; font-size:120%; text-align:left;\"><strong>✍️👉 Both ser.keys() and ser.index return the same result when called on a Pandas Series. They both provide the index labels associated with the Series.</strong></p>\n",
    "\n",
    "\n",
    "\n",
    "<hr>\n",
    "\n"
   ]
  },
  {
   "cell_type": "code",
   "execution_count": 230,
   "metadata": {
    "colab": {
     "base_uri": "https://localhost:8080/"
    },
    "id": "pRoQjE4luPZi",
    "outputId": "f6fe35d8-4f2c-4da7-c9a6-fe876170cd23"
   },
   "outputs": [
    {
     "data": {
      "text/plain": [
       "array([125, 200, 150, 100], dtype=int64)"
      ]
     },
     "execution_count": 230,
     "metadata": {},
     "output_type": "execute_result"
    }
   ],
   "source": [
    "# Retrieve the values of the Series\n",
    "\n",
    "ser.values"
   ]
  },
  {
   "cell_type": "markdown",
   "metadata": {},
   "source": [
    "- **``NumPy Array``**: The values attribute returns the **``values``** as a NumPy array, which can be useful for numerical operations and compatibility with other libraries that utilize NumPy arrays.\n",
    "- **``Data Type``**: The array will typically have a data type that matches the data type of the Series (in this case, int64).\n",
    "\n",
    "<hr>\n",
    "\n"
   ]
  },
  {
   "cell_type": "code",
   "execution_count": 231,
   "metadata": {},
   "outputs": [
    {
     "data": {
      "text/plain": [
       "<bound method Series.items of terry      125\n",
       "micheal    200\n",
       "orion      150\n",
       "jason      100\n",
       "dtype: int64>"
      ]
     },
     "execution_count": 231,
     "metadata": {},
     "output_type": "execute_result"
    }
   ],
   "source": [
    "# Retrieve the values of the Series\n",
    "\n",
    "ser.items"
   ]
  },
  {
   "cell_type": "markdown",
   "metadata": {},
   "source": [
    "#### <p style=\"background-color:#FFFFFF; font-family:newtimeroman; color:#FF0000; font-size:125%; text-align:left;\"><strong>📢❗🚨 Be Careful; items is NOT attribute, but method ❗❗❗</strong></p>\n",
    "\n",
    "\n",
    "<hr>\n",
    "\n"
   ]
  },
  {
   "cell_type": "code",
   "execution_count": 232,
   "metadata": {
    "colab": {
     "base_uri": "https://localhost:8080/"
    },
    "id": "Rebvt-lo9kPT",
    "outputId": "f45e92dc-ac31-4ba9-b0d0-5a9589504062"
   },
   "outputs": [
    {
     "data": {
      "text/plain": [
       "<zip at 0x1cbd05b9340>"
      ]
     },
     "execution_count": 232,
     "metadata": {},
     "output_type": "execute_result"
    }
   ],
   "source": [
    "# Retrieve the items in the Series\n",
    "\n",
    "ser.items()"
   ]
  },
  {
   "cell_type": "markdown",
   "metadata": {},
   "source": [
    "- **``Zip Object``**: The zip object combines the index labels and values, but we need to iterate through it or convert it to a list to view its contents.\n",
    "\n",
    "<hr>\n",
    "\n",
    "A **``zip object``** is an iterator in Python that aggregates elements from two or more iterables (like lists or tuples) into tuples. The **``zip()``** function pairs elements from the input iterables based on their positions, creating a new iterable of tuples.\n",
    "\n",
    "- **``Characteristics of Zip Objects:``**\n",
    "  - **``Lazy Evaluation``**: Zip objects are lazily evaluated, meaning they generate their **``values``** **``on-the-fly``** and do **``NOT store them in memory``**. This makes them **``memory efficient``**, especially when dealing with large datasets.\n",
    "  - **``Tuple Pairing``**: Each tuple in a zip object contains elements from each of the input iterables, taken from the same index. The iteration stops when the shortest input iterable is exhausted.\n",
    "  - **``Conversion``**: Since zip objects are iterators, you often **``need to convert``** them to **``a list``** or **``another iterable type``** to view or manipulate the results.\n",
    "  \n",
    "  <hr>"
   ]
  },
  {
   "cell_type": "code",
   "execution_count": 233,
   "metadata": {
    "colab": {
     "base_uri": "https://localhost:8080/"
    },
    "id": "3TABuTMnuPZi",
    "outputId": "49a62e4e-e964-4101-bcb6-c0251b7b0bd9"
   },
   "outputs": [
    {
     "data": {
      "text/plain": [
       "[('terry', 125), ('micheal', 200), ('orion', 150), ('jason', 100)]"
      ]
     },
     "execution_count": 233,
     "metadata": {},
     "output_type": "execute_result"
    }
   ],
   "source": [
    "# Convert the zip object to a list to display\n",
    "\n",
    "list(ser.items())"
   ]
  },
  {
   "cell_type": "markdown",
   "metadata": {},
   "source": [
    "- **``Iteration``**: By converting the zip object to a list, we can **``easily display/access or process the index-value pairs``**.\n",
    "  - The output yields a tuple where the **``first element``** is the **``index label``** and the **``second``** is the **``value``** associated with that label.\n",
    "\n",
    "<hr>\n",
    "\n"
   ]
  },
  {
   "cell_type": "code",
   "execution_count": 234,
   "metadata": {
    "colab": {
     "base_uri": "https://localhost:8080/"
    },
    "id": "MeVom79b9kPT",
    "outputId": "c64b730f-50bd-4472-ba89-85b7731a0abc"
   },
   "outputs": [
    {
     "name": "stdout",
     "output_type": "stream",
     "text": [
      "Items in the Series:\n",
      "*************************\n",
      "Index: terry   | Value: 125\n",
      "Index: micheal | Value: 200\n",
      "Index: orion   | Value: 150\n",
      "Index: jason   | Value: 100\n"
     ]
    }
   ],
   "source": [
    "# Iterate over the items in the Series\n",
    "\n",
    "print(\"Items in the Series:\")\n",
    "print(\"*\"*25)\n",
    "\n",
    "for index, value in ser.items():\n",
    "    print(f\"Index: {index:<7} | Value: {value:>3}\")"
   ]
  },
  {
   "cell_type": "markdown",
   "metadata": {},
   "source": [
    "- **``Iteration``**: The **``items()``** method provides an efficient way to access both the index labels and their corresponding values in a Series.\n",
    "- **``Tuples``**: Each iteration yields a tuple where the **``first element``** is the **``index label``** and the **``second``** is the **``value``** associated with that label.\n",
    "\n",
    "<hr>\n",
    "\n"
   ]
  },
  {
   "cell_type": "code",
   "execution_count": 235,
   "metadata": {
    "colab": {
     "base_uri": "https://localhost:8080/"
    },
    "id": "jFy-AplP9kPU",
    "outputId": "bd07a303-3ab3-488b-b9a6-0156aec169d9"
   },
   "outputs": [
    {
     "data": {
      "text/plain": [
       "terry      125\n",
       "micheal    200\n",
       "orion      150\n",
       "jason      100\n",
       "dtype: int64"
      ]
     },
     "execution_count": 235,
     "metadata": {},
     "output_type": "execute_result"
    }
   ],
   "source": [
    "# Let's remember our Series\n",
    "\n",
    "ser"
   ]
  },
  {
   "cell_type": "markdown",
   "metadata": {},
   "source": [
    "\n",
    "\n",
    "<hr>\n",
    "\n"
   ]
  },
  {
   "cell_type": "code",
   "execution_count": 236,
   "metadata": {},
   "outputs": [
    {
     "data": {
      "text/plain": [
       "terry      125\n",
       "orion      150\n",
       "micheal    200\n",
       "jason      100\n",
       "dtype: int64"
      ]
     },
     "execution_count": 236,
     "metadata": {},
     "output_type": "execute_result"
    }
   ],
   "source": [
    "# Sort the Series by \"index\" in \"descending order\"\n",
    "\n",
    "ser.sort_index(ascending=False)"
   ]
  },
  {
   "cell_type": "markdown",
   "metadata": {},
   "source": [
    "- **``Sorting``**: The method **``sort_index(ascending=False)``** sorts the Series based on the **``index labels``** **``from Z to A (in descending order)``**.\n",
    "- **``Result``**: The resulting Series maintains the original values but rearranges them according to the sorted index.\n",
    "\n",
    "<hr>\n",
    "\n"
   ]
  },
  {
   "cell_type": "code",
   "execution_count": 237,
   "metadata": {},
   "outputs": [
    {
     "data": {
      "text/plain": [
       "micheal    200\n",
       "orion      150\n",
       "terry      125\n",
       "jason      100\n",
       "dtype: int64"
      ]
     },
     "execution_count": 237,
     "metadata": {},
     "output_type": "execute_result"
    }
   ],
   "source": [
    "# Sort the Series by \"values\" in \"descending order\"\n",
    "\n",
    "ser.sort_values(ascending=False)"
   ]
  },
  {
   "cell_type": "markdown",
   "metadata": {},
   "source": [
    "- **``Sorting``**: The method **``sort_values(ascending=False)``** sorts the Series based on the **``values``** from **``highest to lowest (in descending order)``**.\n",
    "- **``Result``**: The resulting Series maintains the original index labels, but the values are rearranged according to the sorted order.\n",
    "\n",
    "<hr>\n",
    "\n"
   ]
  },
  {
   "cell_type": "markdown",
   "metadata": {},
   "source": [
    "<a id=\"7\"></a>\n",
    "<a href=\"#toc\" class=\"btn btn-primary btn-sm\" role=\"button\" aria-pressed=\"true\" \n",
    "style=\"color:blue; background-color:#dfa8e4\" data-toggle=\"popover\">Content</a>\n",
    "\n",
    "## <p style=\"background-color:#FDFEFE; font-family:newtimeroman; color:#E51A59; font-size:150%; text-align:center; border-radius:10px 10px;\">End of the Session - 03</p>\n",
    "\n",
    "<!-- <p style=\"text-align: center;\"><img src=\"https://i.ibb.co/RhJpNnJ/lunch-time.jpg\" width=\"450\" height=\"200\" class=\"img-fluid\" alt=\"Lunch Time\"></p>\n",
    " -->\n",
    "<p style=\"text-align: center;\"><img src=\"https://i.ibb.co/TtRtYNn/healthy-lunch.jpg\" width=\"800\" height=\"200\" class=\"img-fluid\" alt=\"Lunch Time\"></p>\n",
    "\n",
    "<p style=\"text-align: center;\"><img src=\"https://i.ibb.co/99DQ3TY/DS-Courses.png\" class=\"img-fluid\" \n",
    "alt=\"CLRSWY\"></p>\n",
    "\n",
    "\n",
    "<br><br><br>\n",
    "\n",
    "<p style=\"text-align: center;\"><img src=\"https://i.ibb.co/Rpz9L36/clarusway-logo-black.png\" width=\"450\" height=\"200\" class=\"img-fluid\" alt=\"CLRSWY_LOGO\"></p>\n",
    "\n",
    "<p style=\"background-color:#E51A59; font-family:newtimeroman; color:#FDFEFE; font-size:130%; text-align:center; border-radius:10px 10px;\">WAY TO REINVENT YOURSELF</p>"
   ]
  },
  {
   "cell_type": "markdown",
   "metadata": {
    "deletable": false,
    "editable": false
   },
   "source": [
    "<a href=\"https://clarusway.com/contact-us/\"><img align=\"center\" src=\"https://i.ibb.co/B43qn24/officially-licensed-logo.png\" alt=\"Open in Clarusway LMS\" width=\"110\" height=\"200\" title=\"This notebook is licensed by Clarusway IT training school. Please contact the authorized persons about the conditions under which you can use or share.\"></a>"
   ]
  }
 ],
 "metadata": {
  "colab": {
   "name": "DAwPy-S3 (Pandas Series).ipynb",
   "provenance": []
  },
  "kernelspec": {
   "display_name": "Python 3 (ipykernel)",
   "language": "python",
   "name": "python3"
  },
  "language_info": {
   "codemirror_mode": {
    "name": "ipython",
    "version": 3
   },
   "file_extension": ".py",
   "mimetype": "text/x-python",
   "name": "python",
   "nbconvert_exporter": "python",
   "pygments_lexer": "ipython3",
   "version": "3.11.5"
  },
  "toc": {
   "base_numbering": 1,
   "nav_menu": {},
   "number_sections": false,
   "sideBar": true,
   "skip_h1_title": false,
   "title_cell": "Table of Contents",
   "title_sidebar": "Contents",
   "toc_cell": false,
   "toc_position": {
    "height": "calc(100% - 180px)",
    "left": "10px",
    "top": "150px",
    "width": "317.6px"
   },
   "toc_section_display": true,
   "toc_window_display": true
  },
  "varInspector": {
   "cols": {
    "lenName": 16,
    "lenType": 16,
    "lenVar": 40
   },
   "kernels_config": {
    "python": {
     "delete_cmd_postfix": "",
     "delete_cmd_prefix": "del ",
     "library": "var_list.py",
     "varRefreshCmd": "print(var_dic_list())"
    },
    "r": {
     "delete_cmd_postfix": ") ",
     "delete_cmd_prefix": "rm(",
     "library": "var_list.r",
     "varRefreshCmd": "cat(var_dic_list()) "
    }
   },
   "types_to_exclude": [
    "module",
    "function",
    "builtin_function_or_method",
    "instance",
    "_Feature"
   ],
   "window_display": false
  }
 },
 "nbformat": 4,
 "nbformat_minor": 1
}
