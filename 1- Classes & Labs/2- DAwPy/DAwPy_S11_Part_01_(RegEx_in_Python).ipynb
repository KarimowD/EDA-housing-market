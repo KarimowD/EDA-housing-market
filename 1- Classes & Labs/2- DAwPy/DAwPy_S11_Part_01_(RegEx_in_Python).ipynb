{
 "cells": [
  {
   "cell_type": "markdown",
   "metadata": {
    "deletable": false,
    "editable": false
   },
   "source": [
    "<a href=\"https://clarusway.com/contact-us/\"><img align=\"center\" src=\"https://i.ibb.co/B43qn24/officially-licensed-logo.png\" alt=\"Open in Clarusway LMS\" width=\"110\" height=\"200\" title=\"This notebook is licensed by Clarusway IT training school. Please contact the authorized persons about the conditions under which you can use or share.\"></a>"
   ]
  },
  {
   "cell_type": "markdown",
   "metadata": {},
   "source": [
    "<hr>\n",
    "\n",
    "<a href=\"https://lms.clarusway.com/mod/lesson/view.php?id=2463&pageid=4531&startlastseen=no\"><img align=\"center\" src=\"https://i.ibb.co/6Z5pQxD/lmss.png\" alt=\"Open in Clarusway LMS\" width=\"70\" height=\"200\" title=\"Open Clarusway Learning Management Sytem\"></a>\n",
    "\n",
    "<a href=\"https://github.com/clarusway/DS-DE-0322-Students/blob/main/3-%20Classes%26Labs/2-DAwPY/DAwPy_S01_(Numpy_Arrays).ipynb\"><img align=\"left\" src=\"https://i.ibb.co/n3HWyQX/github-logo.png\" alt=\"Open in Clarusway GitHub\" width=\"90\" height=\"150\" title=\"Open and Execute in Clarusway GitHub Repository\"></a>\n",
    "\n",
    "<a href=\"https://nbviewer.org/github/4dsolutions/clarusway_data_analysis/blob/main/DAwPy_S1_%28Numpy_Arrays%29/DAwPy_S1_%28Numpy_Arrays%29.ipynb\"><img align=\"right\" src=\"https://i.ibb.co/48wtV8c/nbviewer-badge.png\" alt=\"Open in nbviewer\" width=\"100\" height=\"100\" title=\"Open and Execute in nbviewer\"></a><br/>\n",
    "\n",
    "<hr>\n",
    "\n",
    "<p style=\"text-align: center;\"><img src=\"https://i.ibb.co/Rpz9L36/clarusway-logo-black.png\" width=\"500\" height=\"200\" class=\"img-fluid\" alt=\"CLRSWY_LOGO\"></p>\n",
    "\n",
    "<p style=\"text-align: center;\"><img src=\"https://i.ibb.co/XS0bxSH/best-bootcamps.png\" width=\"300\" height=\"200\" class=\"img-fluid\" alt=\"CLRSWY_LOGO\"></p>\n",
    "\n",
    "<p style=\"background-color:#E51A59; font-family:newtimeroman; color:#FDFEFE; font-size:130%; text-align:center; border-radius:10px 10px;\">WAY TO REINVENT YOURSELF</p>\n",
    "\n",
    "<p style=\"text-align: center;\"><img src=\"https://i.ibb.co/99DQ3TY/DS-Courses.png\" class=\"img-fluid\" \n",
    "alt=\"CLRSWY_Courses\"></p>"
   ]
  },
  {
   "cell_type": "markdown",
   "metadata": {
    "id": "ib_EYg_hdUiE"
   },
   "source": [
    "<img src=https://i.ibb.co/6gCsHd6/1200px-Pandas-logo-svg.png width=\"600\" height=\"200\">\n",
    "\n",
    "## <p style=\"background-color:#FDFEFE; font-family:newtimeroman; color:#060108; font-size:200%; text-align:center; border-radius:10px 10px;\">Data Analysis with Python</p>\n",
    "\n",
    "## <p style=\"background-color:#FDFEFE; font-family:newtimeroman; color:#060108; font-size:150%; text-align:center; border-radius:10px 10px;\">Session - 11 (Part - 01)</p>\n",
    "\n",
    "## <p style=\"background-color:#FDFEFE; font-family:newtimeroman; color:#E51A59; font-size:200%; text-align:center; border-radius:10px 10px;\">RegEx in Python</p>\n",
    "\n",
    "<img src=https://i.ibb.co/3YHkK1K/regex1.jpg width=\"800\" height=\"200\">\n",
    "\n",
    "[Image Credit](https://medium.com/@rayykim/understanding-regex-101-204853651755)\n",
    "\n",
    "Regular expressions (Regex or RegExp) are extremely useful in stepping up your algorithm game and will make you a better problem solver. The structure of regular expressions can be intimidating at first, but it is very rewarding once you grasp the patterns and implement them in your work properly."
   ]
  },
  {
   "cell_type": "markdown",
   "metadata": {},
   "source": [
    "<a id=\"toc\"></a>\n",
    "\n",
    "## <p style=\"background-color:#E51A59; font-family:newtimeroman; color:#FFF9ED; font-size:175%; text-align:center; border-radius:10px 10px;\">Content</p>\n",
    "\n",
    "* [IMPORTING LIBRARIES NEEDED IN THIS NOTEBOOK](#0)\n",
    "* [RegEx in PYTHON](#1)\n",
    "* [RAW STRING (\"r/ R\")](#2)\n",
    "* [COMMON PYTHON RegEx FUNCTIONS](#3)    \n",
    "* [PANDAS FUNCTIONS ACCEPTING RegEx](#4)    \n",
    "* [THE END OF THE SESSION - 07](#5)"
   ]
  },
  {
   "cell_type": "markdown",
   "metadata": {},
   "source": [
    "## <p style=\"background-color:#E51A59; font-family:newtimeroman; color:#FFF9ED; font-size:175%; text-align:center; border-radius:10px 10px;\">Importing Libraries Needed in This Notebook</p>\n",
    "\n",
    "<a id=\"0\"></a>\n",
    "<a href=\"#toc\" class=\"btn btn-primary btn-sm\" role=\"button\" aria-pressed=\"true\" \n",
    "style=\"color:blue; background-color:#dfa8e4\" data-toggle=\"popover\">Content</a>\n",
    "\n",
    "Once you've installed NumPy & Pandas you can import them as a library:"
   ]
  },
  {
   "cell_type": "code",
   "execution_count": null,
   "metadata": {
    "id": "wVg6uhWtxWBo"
   },
   "outputs": [],
   "source": [
    "import pandas as pd              # DAwPy\n",
    "import numpy as np               # DAwPy\n",
    "import seaborn as sns            # Stats-1 & DAwPy\n",
    "import matplotlib.pyplot as plt  # Stats-1 & DAwPy\n",
    "\n",
    "# The \"re\" module provides support for regular expressions in Python.\n",
    "import re\n",
    "\n",
    "# import warnings\n",
    "# warnings.filterwarnings(\"ignore\")  # to suppress all warnings"
   ]
  },
  {
   "cell_type": "markdown",
   "metadata": {},
   "source": [
    "- **``Importing Libraries``**: Make sure to import the required libraries before beginning your. You need both pandas and numpy.\n",
    "\n",
    "<p style=\"background-color:#FFFFFF; font-family:newtimeroman; color:#0000FF; font-size:110%; text-align:left;\"><strong>-----------------------------------------------------------------------------------------------------------------------------------------------------------------------------------------------</strong></p>\n",
    "\n",
    "- ``import warnings``: This imports the warnings module, which is part of Python's standard library and provides a way to issue warning messages.\n",
    "- ``warnings.filterwarnings(\"ignore\")``: This function call tells Python to ignore all warning messages that would normally be printed. This can be useful when we want to focus on the output of your program without being distracted by warnings.\n",
    "\n",
    "<p style=\"background-color:#FFFFFF; font-family:newtimeroman; color:#FF0000; font-size:125%; text-align:left;\"><strong>📢 Caution ❗❗❗</strong></p>\n",
    "\n",
    "\n",
    "- Ignoring warnings can sometimes hide important issues in our code, so use this approach judiciously. It's generally better to address the underlying causes of warnings rather than suppressing them.\n",
    "\n",
    "<p style=\"background-color:#FFFFFF; font-family:newtimeroman; color:#0000FF; font-size:110%; text-align:left;\"><strong>-----------------------------------------------------------------------------------------------------------------------------------------------------------------------------------------------</strong></p>"
   ]
  },
  {
   "cell_type": "markdown",
   "metadata": {},
   "source": [
    "## <p style=\"background-color:#E51A59; font-family:newtimeroman; color:#FFF9ED; font-size:175%; text-align:center; border-radius:10px 10px;\">RegEx in Python</p>\n",
    "\n",
    "<a id=\"1\"></a>\n",
    "<a href=\"#toc\" class=\"btn btn-primary btn-sm\" role=\"button\" aria-pressed=\"true\" \n",
    "style=\"color:blue; background-color:#dfa8e4\" data-toggle=\"popover\">Content</a>\n",
    "\n",
    "- A **Reg**ular **Ex**pression (RegEx) is a special sequence of characters that helps you match or find other strings or sets of strings, using a specialized syntax held in a pattern.\n",
    "\n",
    "- The **Python module** **``re``** provides full support for regular expressions in Python [Source 01](https://docs.python.org/3/library/re.html#re-objects), [Source 02](https://www.tutorialspoint.com/python/python_reg_expressions.htm) & [Source 03](https://www.w3schools.com/python/python_regex.asp).\n",
    "\n",
    "**``Regular Expressions (RegEx)``** in Python are a powerful tool for ``**searching, matching, and manipulating strings``** based on **``specific patterns``**. The **``re module``** provides various functions for tasks such as pattern matching, substitution, and splitting strings. Common operations include using **``re.search()``** to find patterns, **``re.match()``** for checking if a string starts with a pattern, and **``re.sub()``** for replacing occurrences of a pattern. RegEx is widely used in data validation, text processing, and web scraping, making it an essential skill for programmers working with text data.\n",
    "\n",
    "\n",
    "### Common Expressions\n",
    "\n",
    "- **``\\d``** Any numeric digit from ``0`` to ``9``.\n",
    "- **``\\D``** Matches any character which is not a decimal digit. This is the opposite of ``\\d``.\n",
    "- **``\\w``** Any letter, numeric digit, or the underscore character. (Think of this as matching \"word\" characters.)\n",
    "- **``\\W``** Any character that is not a letter, numeric digit, or the underscore character.\n",
    "- **``\\s``** Any space, tab, or newline character. (Think of this as matching white-space characters.)\n",
    "- **``\\S``** Any character that is not a space, tab, or newline.\n",
    "\n",
    "\n",
    "### Common Metacharacters\n",
    "\n",
    "- **``\"[]\"``**\t  A set of characters\t``\"[a-m]\"``\n",
    "- **``\"\\\"``**\t      Signals a special sequence (can also be used to escape special characters)\n",
    "- **``\".\"``**\t      Any character (except newline character)\n",
    "- **``\"^\"``**\t      Starts with\t``\"^hello\"``\n",
    "- **``\"$\"``**\t      Ends with\t``\"world$\"``\n",
    "- **``\"*\"``**\t      Match zero, one or more of the previous\n",
    "- **``\"+\"``**\t      Match one or more of the previous\n",
    "- **``\"?\"``**\t      Match zero or one of the previous\n",
    "- **``\"{}\"``**\t  Match exactly the specified number of occurrences\n",
    "- **``\"|\"``**\t      Either or\t`\"falls|stays\"`\n",
    "- **``\"()\"``**\t  Capture and group"
   ]
  },
  {
   "cell_type": "markdown",
   "metadata": {},
   "source": [
    "## <p style=\"background-color:#E51A59; font-family:newtimeroman; color:#FFF9ED; font-size:175%; text-align:center; border-radius:10px 10px;\">Raw String (\"r / R\")</p>\n",
    "\n",
    "<a id=\"2\"></a>\n",
    "<a href=\"#toc\" class=\"btn btn-primary btn-sm\" role=\"button\" aria-pressed=\"true\" \n",
    "style=\"color:blue; background-color:#dfa8e4\" data-toggle=\"popover\">Content</a>\n",
    "\n",
    "In Python, a **``raw string``** is created by **``prefixing``** a string literal with **``r``** or **``R``**, which tells the **``interpreter to treat backslashes (\\)``** as **``literal characters rather than escape characters``**. This is particularly useful in regular expressions and file paths, where backslashes are common. \n",
    "- For example, **``r\"C:\\new_folder\"``** will be **``interpreted as a string``** with the **``exact characters``** C:\\new_folder, while **``\"C:\\\\new_folder\"``** requires **``double backslashes``** to achieve the **``same result``**. Using raw strings simplifies the writing and readability of complex patterns or paths.\n",
    "\n",
    "<hr>\n",
    "\n",
    "- Python raw string is created by prefixing a string literal with **'r' or 'R'**.\n",
    "- Python raw string treats **``backslash (\\)``** as a literal character. This is useful when we want to have a string that contains backslash and don’t want it to be treated as an escape character [Source 01](https://blog.devgenius.io/beauty-of-raw-strings-in-python-fa627d674cbf) & [Source 02](https://stackoverflow.com/questions/26318287/what-does-r-mean-before-a-regex-pattern#:~:text=The%20r%20means%20that%20the,escape%20codes%20will%20be%20ignored.)."
   ]
  },
  {
   "cell_type": "markdown",
   "metadata": {},
   "source": [
    "\n",
    "\n",
    "<p style=\"background-color:#FFFFFF; font-family:newtimeroman; color:#0000FF; font-size:110%; text-align:left;\"><strong>-----------------------------------------------------------------------------------------------------------------------------------------------------------------------------------------------</strong></p>\n",
    "\n",
    "## <p style=\"background-color:#FFFFFF; font-family:newtimeroman; color:#0000FF; font-size:120%; text-align:left;\"><strong>Raw String (\"r / R\"):</strong></p>\n",
    "\n",
    "\n",
    "**The following code snippet demonstrates how to print escape sequences in Python**"
   ]
  },
  {
   "cell_type": "code",
   "execution_count": 122,
   "metadata": {},
   "outputs": [
    {
     "name": "stdout",
     "output_type": "stream",
     "text": [
      "Backslash: \\\n",
      "New line char: \\n\n"
     ]
    }
   ],
   "source": [
    "print(\"Backslash: \\\\\")\n",
    "print(\"New line char: \\\\n\")"
   ]
  },
  {
   "cell_type": "markdown",
   "metadata": {},
   "source": [
    "- **``print(\"Backslash: \\\\\"):``**\n",
    "  - This line prints the text Backslash: \\. The double backslash (\\\\) is used to represent a single backslash in the output.\n",
    "- **``print(\"New line char: \\\\n\"):``**\n",
    "  - This line prints New line char: \\n. Again, the double backslash is used to display the escape sequence for a new line (i.e., \\n) as literal text, rather than interpreting it as a new line.\n",
    "\n",
    "<p style=\"background-color:#FFFFFF; font-family:newtimeroman; color:#0000FF; font-size:110%; text-align:left;\"><strong>-----------------------------------------------------------------------------------------------------------------------------------------------------------------------------------------------</strong></p>\n",
    "\n",
    "**The following code snippet uses raw strings in Python, which treat backslashes (\\) as literal characters.**"
   ]
  },
  {
   "cell_type": "code",
   "execution_count": 124,
   "metadata": {},
   "outputs": [
    {
     "name": "stdout",
     "output_type": "stream",
     "text": [
      "Backslash: \\\\\n",
      "New line char: \\\\n\n"
     ]
    }
   ],
   "source": [
    "print(r\"Backslash: \\\\\")\n",
    "print(R\"New line char: \\\\n\")"
   ]
  },
  {
   "cell_type": "markdown",
   "metadata": {},
   "source": [
    "- **``print(r\"Backslash: \\\\\"):``**\n",
    "  - This line prints Backslash: \\\\. The r prefix indicates that it is a raw string, so the double backslash is interpreted as two literal backslashes.\n",
    "- **``print(r\"New line char: \\\\n\"):``**\n",
    "  - This line prints New line char: \\\\n. Similarly, the raw string preserves the backslash and the n, displaying them as literal characters rather than interpreting \\n as a newline.\n",
    "\n",
    "<p style=\"background-color:#FFFFFF; font-family:newtimeroman; color:#0000FF; font-size:110%; text-align:left;\"><strong>-----------------------------------------------------------------------------------------------------------------------------------------------------------------------------------------------</strong></p>\n",
    "\n",
    "**The following code snippet creates a string with a newline character and then prints it.**"
   ]
  },
  {
   "cell_type": "code",
   "execution_count": 125,
   "metadata": {},
   "outputs": [
    {
     "name": "stdout",
     "output_type": "stream",
     "text": [
      "Hello\n",
      "World\n"
     ]
    }
   ],
   "source": [
    "my_string = \"Hello\\nWorld\"\n",
    "print(my_string)"
   ]
  },
  {
   "cell_type": "markdown",
   "metadata": {},
   "source": [
    "- **``my_string = \"Hello\\nWorld\":``**\n",
    "  - This line initializes a variable my_string with the value Hello\\nWorld.\n",
    "  - The \\n is an escape sequence that represents a newline character, so when the string is printed, it will break onto a new line.\n",
    "- **``print(my_string):``**\n",
    "  - This line outputs the value of my_string to the console.\n",
    "\n",
    "<p style=\"background-color:#FFFFFF; font-family:newtimeroman; color:#0000FF; font-size:110%; text-align:left;\"><strong>-----------------------------------------------------------------------------------------------------------------------------------------------------------------------------------------------</strong></p>\n",
    "\n",
    "**The following code snippet uses a raw string to include a backslash and the letter \"n\" literally.**"
   ]
  },
  {
   "cell_type": "code",
   "execution_count": 126,
   "metadata": {},
   "outputs": [
    {
     "name": "stdout",
     "output_type": "stream",
     "text": [
      "Hello\\nWorld\n"
     ]
    }
   ],
   "source": [
    "my_string = r\"Hello\\nWorld\"\n",
    "print(my_string)"
   ]
  },
  {
   "cell_type": "markdown",
   "metadata": {},
   "source": [
    "- **``my_string = r\"Hello\\nWorld\":``**\n",
    "  - This line initializes a variable my_string with the value Hello\\nWorld.\n",
    "  - The r prefix denotes a raw string, which means that backslashes are treated as literal characters. Therefore, \\n is interpreted as the characters \\ and n, rather than as a newline character.\n",
    "- **``print(my_string):``**\n",
    "  - This line outputs the value of my_string to the console.\n",
    "\n",
    "<p style=\"background-color:#FFFFFF; font-family:newtimeroman; color:#0000FF; font-size:110%; text-align:left;\"><strong>-----------------------------------------------------------------------------------------------------------------------------------------------------------------------------------------------</strong></p>\n",
    "\n"
   ]
  },
  {
   "cell_type": "markdown",
   "metadata": {},
   "source": [
    "## <p style=\"background-color:#FFFFFF; font-family:newtimeroman; color:#0000FF; font-size:120%; text-align:left;\"><strong>Invalid Raw String:</strong></p>\n",
    "\n",
    "\n",
    "An **``invalid raw string``** in Python **``occurs when a raw string literal ends with an odd number of backslashes``**. This is because a **``single backslash at the end``** of the string would **``escape the closing quote``**, leading to a **``syntax error``**.\n",
    "- For example, r\"Hello\\\" is invalid, while r\"Hello\\\\\" is valid, as it properly represents two literal backslashes. To avoid such errors, ensure that raw strings do not end with an unpaired backslash.\n",
    "\n"
   ]
  },
  {
   "cell_type": "code",
   "execution_count": 127,
   "metadata": {},
   "outputs": [
    {
     "ename": "SyntaxError",
     "evalue": "unterminated string literal (detected at line 1) (443930442.py, line 1)",
     "output_type": "error",
     "traceback": [
      "\u001b[1;36m  Cell \u001b[1;32mIn[127], line 1\u001b[1;36m\u001b[0m\n\u001b[1;33m    print(\"\\\") # gives an error\u001b[0m\n\u001b[1;37m          ^\u001b[0m\n\u001b[1;31mSyntaxError\u001b[0m\u001b[1;31m:\u001b[0m unterminated string literal (detected at line 1)\n"
     ]
    }
   ],
   "source": [
    "# print(\"\\\") # gives an error"
   ]
  },
  {
   "cell_type": "markdown",
   "metadata": {},
   "source": [
    "The statement **``print(\"\\\")``** will indeed result in a **``syntax error``** in Python. This happens because the **``backslash (\\) is an escape character``**, and Python expects a following character to determine how to interpret it. **``Since there’s NO character after the backslash, Python raises an error``**.\n",
    "\n",
    "\n",
    "\n",
    "<p style=\"background-color:#FFFFFF; font-family:newtimeroman; color:#0000FF; font-size:110%; text-align:left;\"><strong>-----------------------------------------------------------------------------------------------------------------------------------------------------------------------------------------------</strong></p>\n",
    "\n"
   ]
  },
  {
   "cell_type": "code",
   "execution_count": 128,
   "metadata": {},
   "outputs": [
    {
     "ename": "SyntaxError",
     "evalue": "unterminated string literal (detected at line 1) (835173915.py, line 1)",
     "output_type": "error",
     "traceback": [
      "\u001b[1;36m  Cell \u001b[1;32mIn[128], line 1\u001b[1;36m\u001b[0m\n\u001b[1;33m    print(r\"\\\") # gives an error\u001b[0m\n\u001b[1;37m          ^\u001b[0m\n\u001b[1;31mSyntaxError\u001b[0m\u001b[1;31m:\u001b[0m unterminated string literal (detected at line 1)\n"
     ]
    }
   ],
   "source": [
    "# print(r\"\\\") # gives an error"
   ]
  },
  {
   "cell_type": "markdown",
   "metadata": {},
   "source": [
    "The statement **``print(r\"\\\")``** will raise a **``syntax error``** in Python because a **``raw string literal CANNOT end with an unescaped backslash``**. In a raw string, the backslash is treated as a literal character, and **``if it's the last character, there’s NO closing quote for the string``**.\n",
    "\n",
    "**``Why the Error Occurs?``**\n",
    "- **``Raw Strings``**: In a raw string (indicated by the prefix r or R), backslashes are treated as literal characters. This means that they do not escape the following characters.\n",
    "- **``Ending with a Backslash``**: When you write r\"\\\\\", it is valid because it represents two literal backslashes. However, r\"\\\\\" is invalid because the single backslash at the end does not escape anything, leading to a syntax error.\n",
    "\n",
    "<p style=\"background-color:#FFFFFF; font-family:newtimeroman; color:#0000FF; font-size:110%; text-align:left;\"><strong>-----------------------------------------------------------------------------------------------------------------------------------------------------------------------------------------------</strong></p>\n",
    "\n"
   ]
  },
  {
   "cell_type": "code",
   "execution_count": 129,
   "metadata": {},
   "outputs": [
    {
     "ename": "SyntaxError",
     "evalue": "unterminated string literal (detected at line 1) (2660593944.py, line 1)",
     "output_type": "error",
     "traceback": [
      "\u001b[1;36m  Cell \u001b[1;32mIn[129], line 1\u001b[1;36m\u001b[0m\n\u001b[1;33m    print(r\"abc\\\") # gives an error\u001b[0m\n\u001b[1;37m          ^\u001b[0m\n\u001b[1;31mSyntaxError\u001b[0m\u001b[1;31m:\u001b[0m unterminated string literal (detected at line 1)\n"
     ]
    }
   ],
   "source": [
    "# print(r\"abc\\\") # gives an error"
   ]
  },
  {
   "cell_type": "markdown",
   "metadata": {},
   "source": [
    "The statement **``print(r\"abc\\\")``** will indeed raise a **``syntax error``** in Python because a **``raw string CANNOT end with an unescaped backslash``**. Here’s a detailed explanation of why this occurs:\n",
    "\n",
    "**``Explanation of the Error:``**\n",
    "- **``Raw Strings``**: In Python, when you prefix a string with r or R, it tells the interpreter to treat backslashes as literal characters. This means escape sequences are not processed.\n",
    "- **``Ending with a Backslash``**: When you write r\"abc\\\", the string ends with a single backslash. Since there’s no character following the backslash to escape, Python raises a syntax error.\n",
    "\n",
    "<p style=\"background-color:#FFFFFF; font-family:newtimeroman; color:#0000FF; font-size:110%; text-align:left;\"><strong>-----------------------------------------------------------------------------------------------------------------------------------------------------------------------------------------------</strong></p>\n",
    "\n"
   ]
  },
  {
   "cell_type": "code",
   "execution_count": 131,
   "metadata": {},
   "outputs": [
    {
     "ename": "SyntaxError",
     "evalue": "incomplete input (3603393088.py, line 1)",
     "output_type": "error",
     "traceback": [
      "\u001b[1;36m  Cell \u001b[1;32mIn[131], line 1\u001b[1;36m\u001b[0m\n\u001b[1;33m    print(r\"abc\\\\\\)\" # gives an error\u001b[0m\n\u001b[1;37m                                     ^\u001b[0m\n\u001b[1;31mSyntaxError\u001b[0m\u001b[1;31m:\u001b[0m incomplete input\n"
     ]
    }
   ],
   "source": [
    "# print(r\"abc\\\\\\)\" # gives an error"
   ]
  },
  {
   "cell_type": "markdown",
   "metadata": {},
   "source": [
    "The statement **``print(r\"abc\\\\\\)\")``** will produce a **``syntax error``** because a **``raw string CANNOT end with an unescaped backslash``**. Here’s a breakdown of why this happens:\n",
    "\n",
    "**``Explanation of the Error:``**\n",
    "- **``Raw Strings``**: When you prefix a string with r or R, Python treats backslashes as literal characters. This means that escape sequences are not processed in raw strings.\n",
    "- **``Ending with a Backslash``**: In the case of r\"abc\\\\\\)\", the string ends with a single backslash followed by a closing parenthesis. The backslash is not followed by a valid character that it could escape, leading to a syntax error.\n",
    "\n",
    "<p style=\"background-color:#FFFFFF; font-family:newtimeroman; color:#0000FF; font-size:110%; text-align:left;\"><strong>-----------------------------------------------------------------------------------------------------------------------------------------------------------------------------------------------</strong></p>\n",
    "\n",
    "**The following statement is a ``valid use of a raw string`` in Python.**"
   ]
  },
  {
   "cell_type": "code",
   "execution_count": 130,
   "metadata": {},
   "outputs": [
    {
     "name": "stdout",
     "output_type": "stream",
     "text": [
      "abc\\\\\n"
     ]
    }
   ],
   "source": [
    "print(r\"abc\\\\\")"
   ]
  },
  {
   "cell_type": "markdown",
   "metadata": {},
   "source": [
    "- **``Raw String``**: The r prefix indicates that this is a raw string. In raw strings, backslashes are treated as literal characters and do not escape the following characters.\n",
    "- **``String Content``**: The string abc\\\\ contains the characters abc followed by two backslashes. Since each backslash is treated literally, both backslashes are preserved in the output.\n",
    "\n",
    "<p style=\"background-color:#FFFFFF; font-family:newtimeroman; color:#0000FF; font-size:110%; text-align:left;\"><strong>-----------------------------------------------------------------------------------------------------------------------------------------------------------------------------------------------</strong></p>\n",
    "\n"
   ]
  },
  {
   "cell_type": "markdown",
   "metadata": {},
   "source": [
    "## <p style=\"background-color:#E51A59; font-family:newtimeroman; color:#FFF9ED; font-size:175%; text-align:center; border-radius:10px 10px;\">Common Python RegEx Functions</p>\n",
    "\n",
    "<a id=\"3\"></a>\n",
    "<a href=\"#toc\" class=\"btn btn-primary btn-sm\" role=\"button\" aria-pressed=\"true\" \n",
    "style=\"color:blue; background-color:#dfa8e4\" data-toggle=\"popover\">Content</a>\n",
    "\n",
    "- **[re.search()](https://docs.python.org/3/library/re.html):** Scan through string looking for a match to the pattern.\n",
    "- **[re.match()](https://docs.python.org/3/library/re.html):** Try to apply the pattern at the start of the string.\n",
    "- **[re.fullmatch()](https://docs.python.org/3/library/re.html):** Try to apply the pattern to all of the string.\n",
    "- **[re.findall()](https://docs.python.org/3/library/re.html):** Return a list of all non-overlapping matches in the string.\n",
    "- **[re.sub()](https://docs.python.org/3/library/re.html):** Return the string obtained by replacing the leftmost non-overlapping occurrences of the pattern in string by the replacement repl.\n",
    "- **[re.split()](https://docs.python.org/3/library/re.html):** Split the source string by the occurrences of the pattern, returning a list containing the resulting substrings."
   ]
  },
  {
   "cell_type": "markdown",
   "metadata": {},
   "source": [
    "<p style=\"background-color:#FFFFFF; font-family:newtimeroman; color:#0000FF; font-size:110%; text-align:left;\"><strong>-----------------------------------------------------------------------------------------------------------------------------------------------------------------------------------------------</strong></p>\n",
    "\n",
    "\n",
    "The **``dir(re)``** function in Python is used to **``list all the attributes and methods available in the re module``**, which provides support for regular expressions. This includes functions, constants, and classes defined in the module."
   ]
  },
  {
   "cell_type": "code",
   "execution_count": 134,
   "metadata": {},
   "outputs": [
    {
     "data": {
      "text/plain": [
       "['A',\n",
       " 'ASCII',\n",
       " 'DEBUG',\n",
       " 'DOTALL',\n",
       " 'I',\n",
       " 'IGNORECASE',\n",
       " 'L',\n",
       " 'LOCALE',\n",
       " 'M',\n",
       " 'MULTILINE',\n",
       " 'Match',\n",
       " 'NOFLAG',\n",
       " 'Pattern',\n",
       " 'RegexFlag',\n",
       " 'S',\n",
       " 'Scanner',\n",
       " 'T',\n",
       " 'TEMPLATE',\n",
       " 'U',\n",
       " 'UNICODE',\n",
       " 'VERBOSE',\n",
       " 'X',\n",
       " '_MAXCACHE',\n",
       " '__all__',\n",
       " '__builtins__',\n",
       " '__cached__',\n",
       " '__doc__',\n",
       " '__file__',\n",
       " '__loader__',\n",
       " '__name__',\n",
       " '__package__',\n",
       " '__path__',\n",
       " '__spec__',\n",
       " '__version__',\n",
       " '_cache',\n",
       " '_casefix',\n",
       " '_compile',\n",
       " '_compile_repl',\n",
       " '_compiler',\n",
       " '_constants',\n",
       " '_expand',\n",
       " '_parser',\n",
       " '_pickle',\n",
       " '_special_chars_map',\n",
       " '_subx',\n",
       " 'compile',\n",
       " 'copyreg',\n",
       " 'enum',\n",
       " 'error',\n",
       " 'escape',\n",
       " 'findall',\n",
       " 'finditer',\n",
       " 'fullmatch',\n",
       " 'functools',\n",
       " 'match',\n",
       " 'purge',\n",
       " 'search',\n",
       " 'split',\n",
       " 'sub',\n",
       " 'subn',\n",
       " 'template']"
      ]
     },
     "execution_count": 134,
     "metadata": {},
     "output_type": "execute_result"
    }
   ],
   "source": [
    "dir(re) # shows all functions/methods in re module"
   ]
  },
  {
   "cell_type": "code",
   "execution_count": null,
   "metadata": {},
   "outputs": [],
   "source": [
    "# We can see docstring of related method with help function\n",
    "\n",
    "# method = re.match\n",
    "# help(method)"
   ]
  },
  {
   "cell_type": "markdown",
   "metadata": {},
   "source": [
    "## <p style=\"background-color:#FFFFFF; font-family:newtimeroman; color:#0000FF; font-size:120%; text-align:left;\"><strong>re.search(pattern, string, flags=0)</strong></p>\n",
    "\n",
    "**🧐 [re.search()](https://docs.python.org/3/library/re.html)** scans through string looking for a match to the pattern, returning a Match object, or None if no match was found **🧐 [Source](https://www.pythontutorial.net/python-regex/python-regex-flags/)**. In other words Python regex **``re.search()``** method looks for occurrences of the regex pattern inside the entire target string and returns the corresponding Match Object instance where the match found. The **``re.search()``** returns only **the first match** to the pattern from the target string **🧐 [Source](https://pynative.com/python-regex-search/)**.\n",
    "\n"
   ]
  },
  {
   "cell_type": "markdown",
   "metadata": {
    "id": "QdwpQv8tdUio"
   },
   "source": [
    "#### Find numeric digits with search function"
   ]
  },
  {
   "cell_type": "code",
   "execution_count": 135,
   "metadata": {
    "id": "90Pa0v1OdUiq"
   },
   "outputs": [],
   "source": [
    "# Define a text including letters and numbers\n",
    "\n",
    "text = \"A78L41K\""
   ]
  },
  {
   "cell_type": "markdown",
   "metadata": {},
   "source": [
    "\n",
    "\n",
    "<p style=\"background-color:#FFFFFF; font-family:newtimeroman; color:#0000FF; font-size:110%; text-align:left;\"><strong>-----------------------------------------------------------------------------------------------------------------------------------------------------------------------------------------------</strong></p>\n",
    "\n",
    "**The following expression ``searchs for the substring \"78\" within the string`` stored in the variable text (which is \"A78L41K\").**"
   ]
  },
  {
   "cell_type": "code",
   "execution_count": 136,
   "metadata": {},
   "outputs": [
    {
     "data": {
      "text/plain": [
       "<re.Match object; span=(1, 3), match='78'>"
      ]
     },
     "execution_count": 136,
     "metadata": {},
     "output_type": "execute_result"
    }
   ],
   "source": [
    "re.search(\"78\", text)\n",
    "\n",
    "\n",
    "# text = \"A78L41K\"\n",
    "# match = re.search(\"78\", text)\n",
    "\n",
    "# if match:\n",
    "#     print(\"Match found:\", match.group())  # Output: Match found: 78\n",
    "#     print(\"Match starts at index:\", match.start())  # Output: Match starts at index: 1\n",
    "# else:\n",
    "#     print(\"No match found.\")"
   ]
  },
  {
   "cell_type": "markdown",
   "metadata": {},
   "source": [
    "The output <re.Match object; span=(1, 3), match='78'> indicates that the re.search(\"78\", text) function found a match for the substring \"78\" in the string stored in text (which is \"A78L41K\"). Here’s a breakdown of what each part of this output means:\n",
    "\n",
    "- **``<re.Match object>``**: This indicates that a match object was created as a result of the search. A match object contains information about the match.\n",
    "- **``span=(1, 3)``**:\n",
    "  - The span attribute provides the start and end positions of the match in the original string.\n",
    "    - In this case, 1 is the starting index and 3 is the ending index (exclusive). This means that the substring \"78\" starts at index 1 and ends just before index 3.\n",
    "- **``match='78'``**: This shows the actual substring that was matched in the original text. In this case, it confirms that the matched substring is \"78\".\n",
    "\n",
    "<p style=\"background-color:#FFFFFF; font-family:newtimeroman; color:#0000FF; font-size:110%; text-align:left;\"><strong>-----------------------------------------------------------------------------------------------------------------------------------------------------------------------------------------------</strong></p>\n",
    "\n",
    "#### With regular expressions:\n",
    "\n",
    "**The following expression ``searches for a pattern`` that consists of ``two consecutive digits`` within the string stored in the variable text (which is \"A78L41K\").**"
   ]
  },
  {
   "cell_type": "code",
   "execution_count": 137,
   "metadata": {},
   "outputs": [
    {
     "data": {
      "text/plain": [
       "<re.Match object; span=(1, 3), match='78'>"
      ]
     },
     "execution_count": 137,
     "metadata": {},
     "output_type": "execute_result"
    }
   ],
   "source": [
    "re.search(\"\\d\\d\", text)"
   ]
  },
  {
   "cell_type": "markdown",
   "metadata": {},
   "source": [
    "\n",
    "\n",
    "<p style=\"background-color:#FFFFFF; font-family:newtimeroman; color:#0000FF; font-size:110%; text-align:left;\"><strong>-----------------------------------------------------------------------------------------------------------------------------------------------------------------------------------------------</strong></p>\n",
    "\n",
    "#### with compile() method\n",
    "\n",
    "**The following statement ``creates a compiled regular expression object`` in Python.**"
   ]
  },
  {
   "cell_type": "code",
   "execution_count": null,
   "metadata": {},
   "outputs": [],
   "source": [
    "# Create a compiled pattern to search in the text\n",
    "\n",
    "comp = re.compile(\"\\d\\d\")  # Using a raw string"
   ]
  },
  {
   "cell_type": "markdown",
   "metadata": {},
   "source": [
    "**``re.compile(pattern):``**\n",
    "- This function compiles a regular expression pattern into a regular expression object, which can then be used for matching using methods like **``search()``**, **``match()``**, and **``findall()``**.\n",
    "- Compiling a pattern can improve performance if we plan to use the **``same pattern multiple times``**.\n",
    "\n",
    "<p style=\"background-color:#FFFFFF; font-family:newtimeroman; color:#0000FF; font-size:110%; text-align:left;\"><strong>-----------------------------------------------------------------------------------------------------------------------------------------------------------------------------------------------</strong></p>\n",
    "\n",
    "**The following method ``searches for a pattern in the string text using a compiled regular expression object``, comp.**"
   ]
  },
  {
   "cell_type": "code",
   "execution_count": 138,
   "metadata": {},
   "outputs": [
    {
     "data": {
      "text/plain": [
       "<re.Match object; span=(1, 3), match='78'>"
      ]
     },
     "execution_count": 138,
     "metadata": {},
     "output_type": "execute_result"
    }
   ],
   "source": [
    "# Use the compiled pattern to search in the text\n",
    "\n",
    "comp.search(text)"
   ]
  },
  {
   "cell_type": "markdown",
   "metadata": {},
   "source": [
    "\n",
    "\n",
    "<p style=\"background-color:#FFFFFF; font-family:newtimeroman; color:#0000FF; font-size:110%; text-align:left;\"><strong>-----------------------------------------------------------------------------------------------------------------------------------------------------------------------------------------------</strong></p>\n",
    "\n",
    "**The following statement is ``storing the result of the search operation in the variable num``.**"
   ]
  },
  {
   "cell_type": "code",
   "execution_count": 139,
   "metadata": {},
   "outputs": [
    {
     "data": {
      "text/plain": [
       "<re.Match object; span=(1, 3), match='78'>"
      ]
     },
     "execution_count": 139,
     "metadata": {},
     "output_type": "execute_result"
    }
   ],
   "source": [
    "# Assign the search operation into num variable\n",
    "num = comp.search(text)\n",
    "\n",
    "# Display the search operation\n",
    "num"
   ]
  },
  {
   "cell_type": "markdown",
   "metadata": {},
   "source": [
    "- If a match is found, num will be a match object, and you can access its properties (like the matched string and its position) using methods like group(), start(), and end().\n",
    "- If no match is found, num will be None.\n",
    "\n",
    "<p style=\"background-color:#FFFFFF; font-family:newtimeroman; color:#0000FF; font-size:110%; text-align:left;\"><strong>-----------------------------------------------------------------------------------------------------------------------------------------------------------------------------------------------</strong></p>\n",
    "\n",
    "**The following method ``retrieves the starting index of the match`` found by the regular expression search.**"
   ]
  },
  {
   "cell_type": "code",
   "execution_count": 140,
   "metadata": {},
   "outputs": [
    {
     "data": {
      "text/plain": [
       "1"
      ]
     },
     "execution_count": 140,
     "metadata": {},
     "output_type": "execute_result"
    }
   ],
   "source": [
    "# Check the starting index of the matched substring\n",
    "\n",
    "num.start()"
   ]
  },
  {
   "cell_type": "markdown",
   "metadata": {},
   "source": [
    "- The start() method returns the starting index of the matched substring in the original string.\n",
    "  - If a match is found, calling num.start() will give you the index where the match begins.\n",
    "  - If num is None (i.e., no match was found), calling num.start() will result in an AttributeError.\n",
    "\n",
    "<p style=\"background-color:#FFFFFF; font-family:newtimeroman; color:#0000FF; font-size:110%; text-align:left;\"><strong>-----------------------------------------------------------------------------------------------------------------------------------------------------------------------------------------------</strong></p>\n",
    "\n",
    "**The following method ``retrieves the ending index of the match`` found by the regular expression search.**"
   ]
  },
  {
   "cell_type": "code",
   "execution_count": 141,
   "metadata": {},
   "outputs": [
    {
     "data": {
      "text/plain": [
       "3"
      ]
     },
     "execution_count": 141,
     "metadata": {},
     "output_type": "execute_result"
    }
   ],
   "source": [
    "# Check the ending index of the matched substring\n",
    "\n",
    "num.end()"
   ]
  },
  {
   "cell_type": "markdown",
   "metadata": {},
   "source": [
    "- The end() method returns the ending index (exclusive) of the matched substring in the original string.\n",
    "  - If a match is found, calling num.end() will provide the index just after the last character of the matched substring.\n",
    "  - If num is None (i.e., no match was found), calling num.end() will raise an AttributeError.\n",
    "\n",
    "<p style=\"background-color:#FFFFFF; font-family:newtimeroman; color:#0000FF; font-size:110%; text-align:left;\"><strong>-----------------------------------------------------------------------------------------------------------------------------------------------------------------------------------------------</strong></p>\n",
    "\n",
    "**The following method ``retrieves a tuple containing the start and end indices of the match`` found by the regular expression search.**"
   ]
  },
  {
   "cell_type": "code",
   "execution_count": 142,
   "metadata": {},
   "outputs": [
    {
     "data": {
      "text/plain": [
       "(1, 3)"
      ]
     },
     "execution_count": 142,
     "metadata": {},
     "output_type": "execute_result"
    }
   ],
   "source": [
    "# Check the starting and ending indices of the matched substring\n",
    "\n",
    "num.span()"
   ]
  },
  {
   "cell_type": "markdown",
   "metadata": {},
   "source": [
    "- The span() method returns a tuple (start, end), where:\n",
    "  - start is the index of the first character of the matched substring.\n",
    "  - end is the index just after the last character of the matched substring (exclusive).\n",
    "- If a match is found, calling num.span() gives you both indices in one call.\n",
    "- If num is None (i.e., no match was found), calling num.span() will raise an AttributeError.\n",
    "\n",
    "<p style=\"background-color:#FFFFFF; font-family:newtimeroman; color:#0000FF; font-size:110%; text-align:left;\"><strong>-----------------------------------------------------------------------------------------------------------------------------------------------------------------------------------------------</strong></p>\n",
    "\n",
    "**The following method ``retrieves the actual matched substring`` from the match object.**"
   ]
  },
  {
   "cell_type": "code",
   "execution_count": 146,
   "metadata": {},
   "outputs": [
    {
     "data": {
      "text/plain": [
       "'78'"
      ]
     },
     "execution_count": 146,
     "metadata": {},
     "output_type": "execute_result"
    }
   ],
   "source": [
    "num.group()"
   ]
  },
  {
   "cell_type": "markdown",
   "metadata": {},
   "source": [
    "- The group() method returns the substring that was matched by the regular expression.\n",
    "- By default, calling num.group() without any arguments returns the entire match.\n",
    "- We can also pass an argument (e.g., group(1)) to retrieve specific groups if your regular expression contains capturing groups (defined with parentheses).\n",
    "\n",
    "<p style=\"background-color:#FFFFFF; font-family:newtimeroman; color:#0000FF; font-size:110%; text-align:left;\"><strong>-----------------------------------------------------------------------------------------------------------------------------------------------------------------------------------------------</strong></p>\n",
    "\n",
    "**When you execute print(num.group()) in the context of our previous regular expression search, it will ``print the actual substring`` that was matched by the regular expression.**"
   ]
  },
  {
   "cell_type": "code",
   "execution_count": 147,
   "metadata": {
    "colab": {
     "base_uri": "https://localhost:8080/"
    },
    "id": "zYFsypsxdUit",
    "outputId": "faaae3b0-1d32-4385-89e8-c3f31d2dfe7f"
   },
   "outputs": [
    {
     "name": "stdout",
     "output_type": "stream",
     "text": [
      "78\n"
     ]
    }
   ],
   "source": [
    "# Display the matched substring directly\n",
    "\n",
    "print(num.group())"
   ]
  },
  {
   "cell_type": "markdown",
   "metadata": {},
   "source": [
    "\n",
    "\n",
    "<p style=\"background-color:#FFFFFF; font-family:newtimeroman; color:#0000FF; font-size:110%; text-align:left;\"><strong>-----------------------------------------------------------------------------------------------------------------------------------------------------------------------------------------------</strong></p>\n",
    "\n"
   ]
  },
  {
   "cell_type": "markdown",
   "metadata": {
    "id": "sQ3FgmXXdUiy"
   },
   "source": [
    "#### Find non decimal digits with search function"
   ]
  },
  {
   "cell_type": "code",
   "execution_count": 148,
   "metadata": {
    "id": "7JcMarW9dUi0"
   },
   "outputs": [],
   "source": [
    "# Define a text including numbers and letters\n",
    "\n",
    "text = \"8PM19MIN\""
   ]
  },
  {
   "cell_type": "markdown",
   "metadata": {},
   "source": [
    "\n",
    "\n",
    "<p style=\"background-color:#FFFFFF; font-family:newtimeroman; color:#0000FF; font-size:110%; text-align:left;\"><strong>-----------------------------------------------------------------------------------------------------------------------------------------------------------------------------------------------</strong></p>\n",
    "\n",
    "**The following expression ``searches for the first non-digit character`` in the string text, which is \"8PM19MIN\".**"
   ]
  },
  {
   "cell_type": "code",
   "execution_count": 149,
   "metadata": {
    "colab": {
     "base_uri": "https://localhost:8080/"
    },
    "id": "KsVCco6wHRcR",
    "outputId": "f46a6363-97e8-4aa9-e36e-1c6ecdd403ed"
   },
   "outputs": [
    {
     "data": {
      "text/plain": [
       "'P'"
      ]
     },
     "execution_count": 149,
     "metadata": {},
     "output_type": "execute_result"
    }
   ],
   "source": [
    "# Search for the first non-digit character\n",
    "nondeci = re.search(\"\\D\", text)\n",
    "\n",
    "# Display the matched substring\n",
    "nondeci.group()"
   ]
  },
  {
   "cell_type": "markdown",
   "metadata": {},
   "source": [
    "- **``Pattern \"\\D\"``**: In regular expressions, \\D is a metacharacter that matches any character that is not a digit (0-9).\n",
    "re.search(pattern, string):\n",
    "  - This function searches the string for the first occurrence of the specified pattern (\\D in this case).\n",
    "  - It returns a match object if a match is found or None if no match is found.\n",
    "- **``nondeci.group()``**: The group() method of the match object returns the matched substring.\n",
    "\n",
    "<p style=\"background-color:#FFFFFF; font-family:newtimeroman; color:#0000FF; font-size:110%; text-align:left;\"><strong>-----------------------------------------------------------------------------------------------------------------------------------------------------------------------------------------------</strong></p>\n",
    "\n",
    "**The following expression ``searches for the first occurrence of two consecutive non-digit characters`` in the string text, which is \"8PM19MIN\".**"
   ]
  },
  {
   "cell_type": "code",
   "execution_count": 152,
   "metadata": {},
   "outputs": [
    {
     "data": {
      "text/plain": [
       "'PM'"
      ]
     },
     "execution_count": 152,
     "metadata": {},
     "output_type": "execute_result"
    }
   ],
   "source": [
    "# Search for the first two consecutive non-digit characters\n",
    "nondeci = re.search(\"\\D\\D\", text)\n",
    "\n",
    "# Display the matched substring\n",
    "nondeci.group()"
   ]
  },
  {
   "cell_type": "markdown",
   "metadata": {},
   "source": [
    "\n",
    "\n",
    "<p style=\"background-color:#FFFFFF; font-family:newtimeroman; color:#0000FF; font-size:110%; text-align:left;\"><strong>-----------------------------------------------------------------------------------------------------------------------------------------------------------------------------------------------</strong></p>\n",
    "\n",
    "**The following expression ``searches for one or more consecutive non-digit characters in the string text``, which is \"8PM19MIN\".**"
   ]
  },
  {
   "cell_type": "code",
   "execution_count": 153,
   "metadata": {},
   "outputs": [
    {
     "data": {
      "text/plain": [
       "'PM'"
      ]
     },
     "execution_count": 153,
     "metadata": {},
     "output_type": "execute_result"
    }
   ],
   "source": [
    "# Search for the one or more consecutive non-digit characters\n",
    "nondeci = re.search(\"\\D+\", text)\n",
    "\n",
    "# Display the matched substring\n",
    "nondeci.group()"
   ]
  },
  {
   "cell_type": "markdown",
   "metadata": {},
   "source": [
    "\n",
    "\n",
    "<p style=\"background-color:#FFFFFF; font-family:newtimeroman; color:#0000FF; font-size:110%; text-align:left;\"><strong>-----------------------------------------------------------------------------------------------------------------------------------------------------------------------------------------------</strong></p>\n",
    "\n"
   ]
  },
  {
   "cell_type": "markdown",
   "metadata": {
    "id": "fyUkcboZdUi1"
   },
   "source": [
    "#### Find phone number pattern"
   ]
  },
  {
   "cell_type": "code",
   "execution_count": 154,
   "metadata": {},
   "outputs": [],
   "source": [
    "# Define a text including a pattern of phone number\n",
    "\n",
    "text = 'My phone number is 1234567890'"
   ]
  },
  {
   "cell_type": "markdown",
   "metadata": {},
   "source": [
    "\n",
    "\n",
    "<p style=\"background-color:#FFFFFF; font-family:newtimeroman; color:#0000FF; font-size:110%; text-align:left;\"><strong>-----------------------------------------------------------------------------------------------------------------------------------------------------------------------------------------------</strong></p>\n",
    "\n",
    "**The following expression ``searches for a sequence of exactly ten consecutive digits`` (which represents a phone number) in the string text, which is 'My phone number is 1234567890'.**"
   ]
  },
  {
   "cell_type": "code",
   "execution_count": 155,
   "metadata": {},
   "outputs": [
    {
     "data": {
      "text/plain": [
       "'1234567890'"
      ]
     },
     "execution_count": 155,
     "metadata": {},
     "output_type": "execute_result"
    }
   ],
   "source": [
    "# Search for a sequence of ten digits\n",
    "telno = re.search(\"\\d\\d\\d\\d\\d\\d\\d\\d\\d\\d\",text)\n",
    "\n",
    "# Display the matched substring\n",
    "telno.group()"
   ]
  },
  {
   "cell_type": "markdown",
   "metadata": {},
   "source": [
    "\n",
    "\n",
    "<p style=\"background-color:#FFFFFF; font-family:newtimeroman; color:#0000FF; font-size:110%; text-align:left;\"><strong>-----------------------------------------------------------------------------------------------------------------------------------------------------------------------------------------------</strong></p>\n",
    "\n",
    "**The following expression ``searches for a sequence of exactly ten consecutive digits in the string text``, which is  'My phone number is 1234567890'.**"
   ]
  },
  {
   "cell_type": "code",
   "execution_count": 156,
   "metadata": {},
   "outputs": [
    {
     "data": {
      "text/plain": [
       "'1234567890'"
      ]
     },
     "execution_count": 156,
     "metadata": {},
     "output_type": "execute_result"
    }
   ],
   "source": [
    "# Search for a sequence of ten digits\n",
    "telno = re.search(\"\\d+\", text)\n",
    "\n",
    "# Display the matched substring\n",
    "telno.group()"
   ]
  },
  {
   "cell_type": "markdown",
   "metadata": {},
   "source": [
    "\n",
    "\n",
    "<p style=\"background-color:#FFFFFF; font-family:newtimeroman; color:#0000FF; font-size:110%; text-align:left;\"><strong>-----------------------------------------------------------------------------------------------------------------------------------------------------------------------------------------------</strong></p>\n",
    "\n"
   ]
  },
  {
   "cell_type": "code",
   "execution_count": 157,
   "metadata": {},
   "outputs": [
    {
     "data": {
      "text/plain": [
       "''"
      ]
     },
     "execution_count": 157,
     "metadata": {},
     "output_type": "execute_result"
    }
   ],
   "source": [
    "telno = re.search(\"\\d*\",text)\n",
    "\n",
    "# Display the matched substring\n",
    "telno.group()"
   ]
  },
  {
   "cell_type": "markdown",
   "metadata": {},
   "source": [
    "The difference in behavior between <b>``re.search(\"\\d+\", text)``</b> and <b>``re.search(\"\\d*\", text)``</b> is due to how the **``+``** and **``*``** quantifiers work in regular expressions.\n",
    "\n",
    "- **``+``** **``(One or More):``**\n",
    "- The **``+``** quantifier matches **``one or more occurrences``** of the **``preceding element``**.\n",
    "- In the case of **``\"\\d+\"``**, it will search for a sequence of digits that occurs at least once.\n",
    "  - Therefore, when we run **``re.search(\"\\d+\", text)``**, it successfully finds the sequence \"1234567890\".\n",
    "- **``*``** **``(Zero or More):``**\n",
    "  - The **``*``** quantifier matches **``zero or more occurrences``** of the **``preceding element``**.\n",
    "  - In the case of <b>``\"\\d*\"``</b>, it will match a sequence of digits or nothing at all.\n",
    "  - Since the pattern allows for zero occurrences, it will match the position before the first digit in the string, resulting in an empty string as a valid match.\n",
    "  - When we run <b>``re.search(\"\\d*\", text)``</b>, it finds a match at the start of the string (before any digits), which is why telno.group() returns an empty string.\n",
    "\n",
    "<p style=\"background-color:#FFFFFF; font-family:newtimeroman; color:#0000FF; font-size:110%; text-align:left;\"><strong>-----------------------------------------------------------------------------------------------------------------------------------------------------------------------------------------------</strong></p>\n",
    "\n",
    "<p style=\"background-color:#FFFFFF; font-family:newtimeroman; color:#FF0000; font-size:125%; text-align:left;\"><strong>📢 Caution ❗❗❗</strong></p>\n",
    "\n",
    "\n",
    "- **``\"\\d+\"``** requires **``at least one digit to match``**, so it returns the full number.\n",
    "- <b>``\"\\d*\"``</b> can **``match zero digits``**, so it finds a position where there are NO digits and returns an empty string. This behavior is typical for how regex patterns interpret the presence of characters.\n",
    "\n",
    "\n",
    "<p style=\"background-color:#FFFFFF; font-family:newtimeroman; color:#0000FF; font-size:110%; text-align:left;\"><strong>-----------------------------------------------------------------------------------------------------------------------------------------------------------------------------------------------</strong></p>\n",
    "\n"
   ]
  },
  {
   "cell_type": "code",
   "execution_count": 163,
   "metadata": {
    "id": "9t-6zEncdUi2",
    "tags": []
   },
   "outputs": [],
   "source": [
    "# Define a text including a pattern of phone number\n",
    "\n",
    "text = 'My phone number is 123 456 7890'"
   ]
  },
  {
   "cell_type": "markdown",
   "metadata": {},
   "source": [
    "\n",
    "\n",
    "<p style=\"background-color:#FFFFFF; font-family:newtimeroman; color:#0000FF; font-size:110%; text-align:left;\"><strong>-----------------------------------------------------------------------------------------------------------------------------------------------------------------------------------------------</strong></p>\n",
    "\n",
    "**The following expression ``searches for a specific pattern of a phone number formatted with spaces`` in the string text, which is 'My phone number is 123 456 7890'.**"
   ]
  },
  {
   "cell_type": "code",
   "execution_count": 165,
   "metadata": {},
   "outputs": [
    {
     "data": {
      "text/plain": [
       "'123 456 7890'"
      ]
     },
     "execution_count": 165,
     "metadata": {},
     "output_type": "execute_result"
    }
   ],
   "source": [
    "# Search for a pattern of ten digits split by spaces (empty characters)\n",
    "telno = re.search(\"\\d\\d\\d \\d\\d\\d \\d\\d\\d\\d\", text)\n",
    "\n",
    "# Display the matched substring\n",
    "telno.group()"
   ]
  },
  {
   "cell_type": "markdown",
   "metadata": {},
   "source": [
    "- **``Pattern \"\\d\\d\\d \\d\\d\\d \\d\\d\\d\\d\":``**\n",
    "  - This pattern specifies that you are looking for three digits, followed by a space, three more digits, another space, and then four digits.\n",
    "  - Specifically, it matches the format XXX XXX XXXX, where X is a digit.\n",
    "- **``re.search(pattern, string):``**\n",
    "  - The search() function scans the string to find the first occurrence of the specified pattern.\n",
    "  - It returns a match object if it finds the pattern; otherwise, it returns None.\n",
    "- **``telno.group():``**\n",
    "  - The group() method of the match object returns the matched substring.\n",
    "\n",
    "<p style=\"background-color:#FFFFFF; font-family:newtimeroman; color:#0000FF; font-size:110%; text-align:left;\"><strong>-----------------------------------------------------------------------------------------------------------------------------------------------------------------------------------------------</strong></p>\n",
    "\n"
   ]
  },
  {
   "cell_type": "code",
   "execution_count": 166,
   "metadata": {},
   "outputs": [],
   "source": [
    "# Define a text including a pattern of phone number\n",
    "\n",
    "text = 'My phone number is 123-456-7890'"
   ]
  },
  {
   "cell_type": "markdown",
   "metadata": {},
   "source": [
    "\n",
    "\n",
    "<p style=\"background-color:#FFFFFF; font-family:newtimeroman; color:#0000FF; font-size:110%; text-align:left;\"><strong>-----------------------------------------------------------------------------------------------------------------------------------------------------------------------------------------------</strong></p>\n",
    "\n",
    "**The following expression ``searches for a specific pattern of a phone number formatted with dashes`` in the string text, which is 'My phone number is 123-456-7890'.**"
   ]
  },
  {
   "cell_type": "code",
   "execution_count": 167,
   "metadata": {},
   "outputs": [
    {
     "data": {
      "text/plain": [
       "'123-456-7890'"
      ]
     },
     "execution_count": 167,
     "metadata": {},
     "output_type": "execute_result"
    }
   ],
   "source": [
    "# Search for a pattern of ten digits with dashes\n",
    "telno = re.search(\"\\d\\d\\d-\\d\\d\\d-\\d\\d\\d\\d\",text)\n",
    "\n",
    "# Display the matched substring\n",
    "telno.group()"
   ]
  },
  {
   "cell_type": "markdown",
   "metadata": {},
   "source": [
    "- **``Pattern \"\\d\\d\\d-\\d\\d\\d-\\d\\d\\d\\d\":``**\n",
    "  - This pattern specifies that you are looking for three digits, followed by a dash, three more digits, another dash, and finally four digits.\n",
    "  - Specifically, it matches the format XXX-XXX-XXXX.\n",
    "- **``re.search(pattern, string):``**\n",
    "  - The search() function scans through the string to find the first occurrence of the specified pattern.\n",
    "  - Since your string does not contain dashes, the search will return None.\n",
    "- **``telno.group():``**\n",
    "  - If a match is found, group() will return the matched substring. If no match is found, calling group() will raise an AttributeError.\n",
    "\n",
    "<p style=\"background-color:#FFFFFF; font-family:newtimeroman; color:#0000FF; font-size:110%; text-align:left;\"><strong>-----------------------------------------------------------------------------------------------------------------------------------------------------------------------------------------------</strong></p>\n",
    "\n",
    "**The following expression is an attempt to construct a regular expression pattern for a phone number formatted with dashes, but it contains a small mistake in the way the pattern is constructed.**"
   ]
  },
  {
   "cell_type": "code",
   "execution_count": 168,
   "metadata": {},
   "outputs": [
    {
     "data": {
      "text/plain": [
       "'123-456-7890'"
      ]
     },
     "execution_count": 168,
     "metadata": {},
     "output_type": "execute_result"
    }
   ],
   "source": [
    "# Search for a pattern of ten digits with dashes\n",
    "telno = re.search('\\d'*3 + '-' + '\\d'*3 + '-' + '\\d'*4, text)\n",
    "\n",
    "# Display the matched substring\n",
    "telno.group(0)"
   ]
  },
  {
   "cell_type": "markdown",
   "metadata": {},
   "source": [
    "- **``Pattern Construction:``**\n",
    "  - <b>``'\\d'*3``</b> generates a string that matches three digits (\\d\\d\\d).\n",
    "  - <b>``'-'``</b> is a literal dash.\n",
    "  - <b>``'\\d'*3``</b> again generates a string that matches three digits (\\d\\d\\d).\n",
    "  - <b>``'-'``</b> is another literal dash.\n",
    "  - <b>``'\\d'*4``</b> generates a string that matches four digits (\\d\\d\\d\\d).\n",
    "\n",
    "However, using <b>``'\\d'*3``</b> will **``NOT create a valid regex pattern``** directly in the way intended. It will result in a string of the form <b>``'\\d\\d\\d-\\d\\d\\d-\\d\\d\\d\\d'``</b>, which is **``correct but NOT the most readable``**.\n",
    "\n",
    "<p style=\"background-color:#FFFFFF; font-family:newtimeroman; color:#0000FF; font-size:110%; text-align:left;\"><strong>-----------------------------------------------------------------------------------------------------------------------------------------------------------------------------------------------</strong></p>\n",
    "\n"
   ]
  },
  {
   "cell_type": "markdown",
   "metadata": {
    "id": "lM-ZB_1WdUi4"
   },
   "source": [
    "#### Find phone number pattern by grouping\n",
    "\n",
    "**The following expression ``searches for a phone number`` in the ``format XXX-XXX-XXXX within the string text``. The ``parentheses () create capturing groups``, allowing us to extract specific parts of the match.**"
   ]
  },
  {
   "cell_type": "code",
   "execution_count": 171,
   "metadata": {},
   "outputs": [
    {
     "data": {
      "text/plain": [
       "'123'"
      ]
     },
     "execution_count": 171,
     "metadata": {},
     "output_type": "execute_result"
    }
   ],
   "source": [
    "# Search for a pattern of ten digits with dashes\n",
    "telno = re.search(\"(\\d\\d\\d)-(\\d\\d\\d)-(\\d\\d\\d\\d)\", text)\n",
    "\n",
    "# Display the matched substring\n",
    "telno.group(1) # try 1, 2, 3 for group"
   ]
  },
  {
   "cell_type": "markdown",
   "metadata": {},
   "source": [
    "- **``Pattern (\\d\\d\\d)-(\\d\\d\\d)-(\\d\\d\\d\\d):``**\n",
    "  - **``This pattern looks for:``**\n",
    "    - Three digits followed by a dash (captured in group 1).\n",
    "    - Three digits followed by another dash (captured in group 2).\n",
    "    - Four digits (captured in group 3).\n",
    "  - **``Using re.search():``**\n",
    "     - This function scans the string for the specified pattern and returns a match object.\n",
    "  - **``Using telno.group():``**\n",
    "    - **``telno.group(0)``** returns the entire matched substring. # Output: 123-456-7890\n",
    "    - **``telno.group(1)``** returns the first captured group (the first three digits).  # Output: 123\n",
    "    - **``telno.group(2)``** returns the second captured group (the second set of three digits).  # Output: 456\n",
    "    - **``telno.group(3)``** returns the third captured group (the last four digits).  # Output: 7890\n",
    "\n",
    "<p style=\"background-color:#FFFFFF; font-family:newtimeroman; color:#0000FF; font-size:110%; text-align:left;\"><strong>-----------------------------------------------------------------------------------------------------------------------------------------------------------------------------------------------</strong></p>\n",
    "\n",
    "**The following expression ``searches for a pattern of a phone number formatted with dashes``, where each section can contain zero or more digits due to the * quantifier.**"
   ]
  },
  {
   "cell_type": "code",
   "execution_count": 172,
   "metadata": {},
   "outputs": [
    {
     "data": {
      "text/plain": [
       "'123-456-7890'"
      ]
     },
     "execution_count": 172,
     "metadata": {},
     "output_type": "execute_result"
    }
   ],
   "source": [
    "# Search for a pattern of the phone number with optional digits\n",
    "telno = re.search(\"(\\d*)-(\\d*)-(\\d*)\", text)\n",
    "\n",
    "# Display the matched substring\n",
    "telno.group()"
   ]
  },
  {
   "cell_type": "markdown",
   "metadata": {},
   "source": [
    "<p style=\"background-color:#FFFFFF; font-family:newtimeroman; color:#FF0000; font-size:125%; text-align:left;\"><strong>📢 Caution ❗❗❗</strong></p>\n",
    "\n",
    "- Using <b>``(\\d*)``</b> allows for **``flexibility in matching``**, BUT it **``can also lead to empty matches``** if the input does **``NOT contain digits``**. If we want to ensure that there are digits in each part, consider using **``+``** instead of <b>``*``</b>, which **``requires at least one digit in each group``**. \n",
    "\n",
    "\n",
    "<p style=\"background-color:#FFFFFF; font-family:newtimeroman; color:#0000FF; font-size:110%; text-align:left;\"><strong>-----------------------------------------------------------------------------------------------------------------------------------------------------------------------------------------------</strong></p>\n",
    "\n",
    "**The following expression ``searches for a phone number formatted as XXX-XXX-XXXX``, where each ``X`` represents a ``digit``.**"
   ]
  },
  {
   "cell_type": "code",
   "execution_count": 175,
   "metadata": {},
   "outputs": [
    {
     "data": {
      "text/plain": [
       "'456'"
      ]
     },
     "execution_count": 175,
     "metadata": {},
     "output_type": "execute_result"
    }
   ],
   "source": [
    "# Search for a pattern of the phone number\n",
    "telno = re.search(\"(\\d+)-(\\d+)-(\\d+)\", text)\n",
    "\n",
    "# Display the matched substring\n",
    "telno.group(2)"
   ]
  },
  {
   "cell_type": "markdown",
   "metadata": {},
   "source": [
    "- **``Pattern (\\d+)-(\\d+)-(\\d+):``**\n",
    "  - **``- \\d+``** matches **``one or more digits**``. The **``+**`` quantifier ensures that each group must contain **``at least one digit``**.\n",
    "  - The dashes - are literal characters that separate the groups.\n",
    "  - **``Using re.search():``**\n",
    "    - This function searches through the string for the specified pattern and returns a match object if the pattern is found.\n",
    "- **``Using telno.group():``**\n",
    "  - **``telno.group(0)``** returns the entire matched substring (the full phone number).\n",
    "  - **``telno.group(1)``**, **``telno.group(2)``**, and **``telno.group(3)``** return the values of the **``three capturing groups``**.\n",
    "\n",
    "<p style=\"background-color:#FFFFFF; font-family:newtimeroman; color:#0000FF; font-size:110%; text-align:left;\"><strong>-----------------------------------------------------------------------------------------------------------------------------------------------------------------------------------------------</strong></p>\n",
    "\n"
   ]
  },
  {
   "cell_type": "markdown",
   "metadata": {
    "id": "FGNnm_uJdUi7"
   },
   "source": [
    "#### Escaping parentheses and create 2 group -> first group:(415) second group:555-1212 print"
   ]
  },
  {
   "cell_type": "code",
   "execution_count": 176,
   "metadata": {
    "id": "kZNl9STIdUi8"
   },
   "outputs": [],
   "source": [
    "# Define a text including a pattern of phone number with parentheses and spaces\n",
    "\n",
    "text = 'My phone number is (415) 555-1212'"
   ]
  },
  {
   "cell_type": "markdown",
   "metadata": {},
   "source": [
    "\n",
    "\n",
    "<p style=\"background-color:#FFFFFF; font-family:newtimeroman; color:#0000FF; font-size:110%; text-align:left;\"><strong>-----------------------------------------------------------------------------------------------------------------------------------------------------------------------------------------------</strong></p>\n",
    "\n",
    "**The following expression ``searches for a phone number`` formatted with ``parentheses`` around the area code and ``spaces`` between the area code and the rest of the number.**"
   ]
  },
  {
   "cell_type": "code",
   "execution_count": 177,
   "metadata": {
    "colab": {
     "base_uri": "https://localhost:8080/"
    },
    "id": "HAgy2yf2jhKJ",
    "outputId": "a8fd8f00-e354-47d6-e93b-f56622b54e63"
   },
   "outputs": [
    {
     "name": "stdout",
     "output_type": "stream",
     "text": [
      "(415)\n",
      "555-1212\n"
     ]
    }
   ],
   "source": [
    "telno = re.search(\"(\\(\\d\\d\\d\\)) (\\d\\d\\d-\\d\\d\\d\\d)\", text)\n",
    "\n",
    "# Display the matched substrings in each part\n",
    "print(telno.group(1))\n",
    "print(telno.group(2))"
   ]
  },
  {
   "cell_type": "markdown",
   "metadata": {},
   "source": [
    "- **``Pattern (\\(\\d\\d\\d\\)) (\\d\\d\\d-\\d\\d\\d\\d):``**\n",
    "  - **``\\(\\d\\d\\d\\)``** matches an area code in parentheses (e.g., (415)).\n",
    "  - The **``space``** after the parentheses is a **``literal space``**.\n",
    "  - **``(\\d\\d\\d-\\d\\d\\d\\d)``** matches the next part of the phone number, which consists of three digits, a dash, and then four digits (e.g., 555-1212).\n",
    "- **``Using re.search():``**\n",
    "  - This function scans the string for the specified pattern and returns a match object if it finds a match.\n",
    "- Using **``telno.group(1)``** and **``telno.group(2)``**:\n",
    "  - **``telno.group(1)``** returns the **``first captured group``** (the area code).\n",
    "  - **``telno.group(2)``** returns the **``second captured group``** (the rest of the phone number).\n",
    "\n",
    "<p style=\"background-color:#FFFFFF; font-family:newtimeroman; color:#0000FF; font-size:110%; text-align:left;\"><strong>-----------------------------------------------------------------------------------------------------------------------------------------------------------------------------------------------</strong></p>\n",
    "\n"
   ]
  },
  {
   "cell_type": "markdown",
   "metadata": {},
   "source": [
    "## <p style=\"background-color:#FFFFFF; font-family:newtimeroman; color:#0000FF; font-size:120%; text-align:left;\"><strong>re.match(pattern, string, flags=0)</strong></p>\n",
    "\n",
    "**🧐 [re.match()](https://docs.python.org/3/library/re.html)** function in Python's re module tries to apply the pattern **at the start of the string**, returning a Match object, or None if no match was found.\n",
    "\n",
    "\n",
    "- Try to apply the pattern at the start of the string, returning a Match object, or None if no match was found.\n",
    "\n",
    "- If we want to locate a match anywhere in string, use search() instead of match()"
   ]
  },
  {
   "cell_type": "code",
   "execution_count": 178,
   "metadata": {
    "id": "90Pa0v1OdUiq"
   },
   "outputs": [],
   "source": [
    "# Define a text including numbers and letters\n",
    "\n",
    "text = \"A78L41K\""
   ]
  },
  {
   "cell_type": "markdown",
   "metadata": {},
   "source": [
    "\n",
    "\n",
    "<p style=\"background-color:#FFFFFF; font-family:newtimeroman; color:#0000FF; font-size:110%; text-align:left;\"><strong>-----------------------------------------------------------------------------------------------------------------------------------------------------------------------------------------------</strong></p>\n",
    "\n"
   ]
  },
  {
   "cell_type": "code",
   "execution_count": 181,
   "metadata": {},
   "outputs": [
    {
     "ename": "AttributeError",
     "evalue": "'NoneType' object has no attribute 'group'",
     "output_type": "error",
     "traceback": [
      "\u001b[1;31m---------------------------------------------------------------------------\u001b[0m",
      "\u001b[1;31mAttributeError\u001b[0m                            Traceback (most recent call last)",
      "Cell \u001b[1;32mIn[181], line 2\u001b[0m\n\u001b[0;32m      1\u001b[0m num \u001b[38;5;241m=\u001b[39m re\u001b[38;5;241m.\u001b[39mmatch(\u001b[38;5;124m\"\u001b[39m\u001b[38;5;124m\\\u001b[39m\u001b[38;5;124md\u001b[39m\u001b[38;5;124m\\\u001b[39m\u001b[38;5;124md\u001b[39m\u001b[38;5;124m\"\u001b[39m, text) \u001b[38;5;66;03m# gives an error, because match function just look at the begining of string \u001b[39;00m\n\u001b[1;32m----> 2\u001b[0m num\u001b[38;5;241m.\u001b[39mgroup()\n",
      "\u001b[1;31mAttributeError\u001b[0m: 'NoneType' object has no attribute 'group'"
     ]
    }
   ],
   "source": [
    "# num = re.match(\"\\d\\d\", text) # gives an error, because match function just look at the begining of string \n",
    "# num.group()"
   ]
  },
  {
   "cell_type": "markdown",
   "metadata": {},
   "source": [
    "\n",
    "\n",
    "<p style=\"background-color:#FFFFFF; font-family:newtimeroman; color:#0000FF; font-size:110%; text-align:left;\"><strong>-----------------------------------------------------------------------------------------------------------------------------------------------------------------------------------------------</strong></p>\n",
    "\n",
    "**The following expression ``checks if the string text starts with a non-digit character followed by two digits``.**"
   ]
  },
  {
   "cell_type": "code",
   "execution_count": 182,
   "metadata": {},
   "outputs": [
    {
     "data": {
      "text/plain": [
       "'A78'"
      ]
     },
     "execution_count": 182,
     "metadata": {},
     "output_type": "execute_result"
    }
   ],
   "source": [
    "# Match a non-digit followed by two digits\n",
    "alp = re.match(\"\\D\\d\\d\", text)\n",
    "\n",
    "# Display the matched substring\n",
    "alp.group()"
   ]
  },
  {
   "cell_type": "markdown",
   "metadata": {},
   "source": [
    "- **``Pattern \"\\D\\d\\d\":``**\n",
    "  - **``\\D``** matches any character that is not a digit (0-9).\n",
    "  - **``\\d``** matches any digit (0-9).\n",
    "    - Thus, \\D\\d\\d looks for a non-digit character followed by exactly two digits.\n",
    "- **``Using re.match():``**\n",
    "  - This function checks for a match only at the beginning of the string. If the pattern does not start at the beginning, it will return None.\n",
    "- **``Using alp.group():``**\n",
    "  - If a match is found, group() returns the matched substring.\n",
    "\n",
    "<p style=\"background-color:#FFFFFF; font-family:newtimeroman; color:#0000FF; font-size:110%; text-align:left;\"><strong>-----------------------------------------------------------------------------------------------------------------------------------------------------------------------------------------------</strong></p>\n",
    "\n"
   ]
  },
  {
   "cell_type": "markdown",
   "metadata": {},
   "source": [
    "## <p style=\"background-color:#FFFFFF; font-family:newtimeroman; color:#0000FF; font-size:120%; text-align:left;\"><strong>re.fullmatch(pattern, string, flags=0)</strong></p>\n",
    "\n",
    "**🧐 [re.fullmatch()](https://docs.python.org/3/library/re.html)** method tries to apply the pattern to all of the string. It returns a match object if and **only if the entire string matches the pattern**. Otherwise, it will return None. \n",
    "- Try to apply the pattern to all of the string"
   ]
  },
  {
   "cell_type": "code",
   "execution_count": 186,
   "metadata": {},
   "outputs": [],
   "source": [
    "# Define a text including numbers and letters\n",
    "\n",
    "text = \"A78L41K\""
   ]
  },
  {
   "cell_type": "markdown",
   "metadata": {},
   "source": [
    "\n",
    "\n",
    "<p style=\"background-color:#FFFFFF; font-family:newtimeroman; color:#0000FF; font-size:110%; text-align:left;\"><strong>-----------------------------------------------------------------------------------------------------------------------------------------------------------------------------------------------</strong></p>\n",
    "\n",
    "**The following expression ``checks if the entire string text matches a specific pattern involving word characters (letters, digits, or underscores) and digits``.**"
   ]
  },
  {
   "cell_type": "code",
   "execution_count": 187,
   "metadata": {},
   "outputs": [
    {
     "data": {
      "text/plain": [
       "'A78L41K'"
      ]
     },
     "execution_count": 187,
     "metadata": {},
     "output_type": "execute_result"
    }
   ],
   "source": [
    "# Full match for the specified pattern\n",
    "alpnum = re.fullmatch(\"\\D\\d+\\D\\d+\\D\", text)\n",
    "\n",
    "# Display the matched substring\n",
    "alpnum.group()"
   ]
  },
  {
   "cell_type": "markdown",
   "metadata": {},
   "source": [
    "The re.fullmatch() function checks **``if the entire text matches the specified pattern``**. If it does, it returns a match object; otherwise, it returns None.\n",
    "\n",
    "- **``Pattern \"\\D\\d+\\D\\d+\\D\":``**\n",
    "  - **``\\D``** matches any character that is not a digit (0-9).\n",
    "  - **``\\d+``** matches one or more digits.\n",
    "- **``The pattern looks for:``**\n",
    "  - A non-digit character.\n",
    "  - Followed by one or more digits.\n",
    "  - Followed by another non-digit character.\n",
    "  - Followed by one or more digits.\n",
    "  - Followed by a final non-digit character.\n",
    "\n",
    "<p style=\"background-color:#FFFFFF; font-family:newtimeroman; color:#0000FF; font-size:110%; text-align:left;\"><strong>-----------------------------------------------------------------------------------------------------------------------------------------------------------------------------------------------</strong></p>\n",
    "\n",
    "**The following expression ``checks if the entire string text matches a specific pattern involving word characters (letters, digits, or underscores) and digits``.**"
   ]
  },
  {
   "cell_type": "code",
   "execution_count": 188,
   "metadata": {},
   "outputs": [
    {
     "data": {
      "text/plain": [
       "'A78L41K'"
      ]
     },
     "execution_count": 188,
     "metadata": {},
     "output_type": "execute_result"
    }
   ],
   "source": [
    "# Full match for the specified pattern\n",
    "alpnum = re.fullmatch(\"\\w\\d+\\w\\d+\\w\", text)\n",
    "\n",
    "# Display the matched substring\n",
    "alpnum.group()"
   ]
  },
  {
   "cell_type": "markdown",
   "metadata": {},
   "source": [
    "The **``re.fullmatch()``** function checks **``if the entire text matches the specified pattern``**. If it does, it returns a match object; otherwise, it returns None.\n",
    "\n",
    "\n",
    "- **``Pattern \"\\w\\d+\\w\\d+\\w\":``**\n",
    "  - **``\\w matches any word character, which includes letters (uppercase and lowercase), digits (0-9), and underscores (_).\n",
    "  - **``\\d+ matches one or more digits.\n",
    "- **``The pattern looks for:``**\n",
    "  - A word character.\n",
    "    - Followed by one or more digits.\n",
    "    - Followed by another word character.\n",
    "    - Followed by one or more digits.\n",
    "    - Followed by a final word character.\n",
    "\n",
    "<p style=\"background-color:#FFFFFF; font-family:newtimeroman; color:#0000FF; font-size:110%; text-align:left;\"><strong>-----------------------------------------------------------------------------------------------------------------------------------------------------------------------------------------------</strong></p>\n",
    "\n"
   ]
  },
  {
   "cell_type": "markdown",
   "metadata": {},
   "source": [
    "## <p style=\"background-color:#FFFFFF; font-family:newtimeroman; color:#0000FF; font-size:120%; text-align:left;\"><strong>re.findall(pattern, string, flags=0)</strong></p>\n",
    "\n",
    "**🧐 [re.findall()](https://docs.python.org/3/library/re.html)** is **probably the single most powerful function in the re module**. **``re.findall()``** function scans string from left to right, searching for all non-overlapping matches of the pattern in the string. The function returns all the findings as a list. **🧐 [Source-01](https://www.pythontutorial.net/python-regex/python-regex-findall/), [Source-02](https://blog.finxter.com/python-re-findall/), [Source-03](https://pythonexamples.org/python-re-findall/), and [Source-04](https://developers.google.com/edu/python/regular-expressions)**\n",
    "\n",
    "**🧐 [Difference between re.search() & re.findall()](https://www.tutorialspoint.com/what-is-the-difference-between-re-search-and-re-findall-methods-in-python-regular-expressions#:~:text=Here%20you%20can%20see%20that,end%20of%20the%20given%20string.)**\n",
    "\n",
    "- The **``re.search()``** method is able to ``find a pattern`` from ``any position of the string``.\n",
    "\n",
    "- The **``re.findall()``** helps to get a ``list of all matching patterns``. It ``searches from start or end of the given string``. If you use ``findall()`` method to search for a pattern in a given string it will ``return all occurrences`` of the pattern. While searching a pattern, it is ``recommended`` to use ``re.findall()`` always, it works like ``re.search()`` and ``re.match()`` both."
   ]
  },
  {
   "cell_type": "markdown",
   "metadata": {
    "id": "JAIHT45BdUi-"
   },
   "source": [
    "#### Extract numbers from text as a list"
   ]
  },
  {
   "cell_type": "code",
   "execution_count": 189,
   "metadata": {
    "id": "Y00SfOrhdUi_"
   },
   "outputs": [],
   "source": [
    "# Define a text including zeros, ones, spaces\n",
    "\n",
    "text = \"O 1, t 10, o 100. 100000\""
   ]
  },
  {
   "cell_type": "markdown",
   "metadata": {},
   "source": [
    "\n",
    "\n",
    "<p style=\"background-color:#FFFFFF; font-family:newtimeroman; color:#0000FF; font-size:110%; text-align:left;\"><strong>-----------------------------------------------------------------------------------------------------------------------------------------------------------------------------------------------</strong></p>\n",
    "\n",
    "**The following expression ``extracts all individual digits`` from the string text.**\n",
    "- The pattern **``\"\\d{1}\"``** specifically matches **``any single digit (0-9)``**."
   ]
  },
  {
   "cell_type": "code",
   "execution_count": 190,
   "metadata": {},
   "outputs": [
    {
     "data": {
      "text/plain": [
       "['1', '1', '0', '1', '0', '0', '1', '0', '0', '0', '0', '0']"
      ]
     },
     "execution_count": 190,
     "metadata": {},
     "output_type": "execute_result"
    }
   ],
   "source": [
    "# Find all individual digits\n",
    "\n",
    "re.findall(\"\\d{1}\", text)"
   ]
  },
  {
   "cell_type": "markdown",
   "metadata": {},
   "source": [
    "- **``Pattern \"\\d{1}\":``**\n",
    "  - **``\\d``** matches any digit (0-9).\n",
    "  - **``{1}``** specifies that we want to match **``exactly one digit``**.\n",
    "\n",
    "<p style=\"background-color:#FFFFFF; font-family:newtimeroman; color:#0000FF; font-size:110%; text-align:left;\"><strong>-----------------------------------------------------------------------------------------------------------------------------------------------------------------------------------------------</strong></p>\n",
    "\n",
    "**The following expression extracts ``all occurrences of two consecutive digits`` from the string text.**\n",
    "- The pattern **``\"\\d{2}\"``** specifically matches **``any two digits in sequence``**."
   ]
  },
  {
   "cell_type": "code",
   "execution_count": 191,
   "metadata": {},
   "outputs": [
    {
     "data": {
      "text/plain": [
       "['10', '10', '10', '00', '00']"
      ]
     },
     "execution_count": 191,
     "metadata": {},
     "output_type": "execute_result"
    }
   ],
   "source": [
    "# Find all occurrences of two consecutive digits\n",
    "\n",
    "re.findall(\"\\d{2}\", text)"
   ]
  },
  {
   "cell_type": "markdown",
   "metadata": {},
   "source": [
    "\n",
    "\n",
    "<p style=\"background-color:#FFFFFF; font-family:newtimeroman; color:#0000FF; font-size:110%; text-align:left;\"><strong>-----------------------------------------------------------------------------------------------------------------------------------------------------------------------------------------------</strong></p>\n",
    "\n",
    "**The following expression extracts ``all occurrences of three consecutive digits`` from the string text.**\n",
    "- The pattern **``\"\\d{3}\"``** specifically matches **``any three digits in sequence``**."
   ]
  },
  {
   "cell_type": "code",
   "execution_count": 192,
   "metadata": {},
   "outputs": [
    {
     "data": {
      "text/plain": [
       "'O 1, t 10, o 100. 100000'"
      ]
     },
     "execution_count": 192,
     "metadata": {},
     "output_type": "execute_result"
    }
   ],
   "source": [
    "text"
   ]
  },
  {
   "cell_type": "code",
   "execution_count": 193,
   "metadata": {},
   "outputs": [
    {
     "data": {
      "text/plain": [
       "['100', '100', '000']"
      ]
     },
     "execution_count": 193,
     "metadata": {},
     "output_type": "execute_result"
    }
   ],
   "source": [
    "# Find all occurrences of three consecutive digits\n",
    "\n",
    "re.findall(\"\\d{3}\", text)"
   ]
  },
  {
   "cell_type": "markdown",
   "metadata": {},
   "source": [
    "\n",
    "\n",
    "<p style=\"background-color:#FFFFFF; font-family:newtimeroman; color:#0000FF; font-size:110%; text-align:left;\"><strong>-----------------------------------------------------------------------------------------------------------------------------------------------------------------------------------------------</strong></p>\n",
    "\n",
    "**The following expression extracts ``all occurrences of four consecutive digits`` from the string text.**\n",
    "- The pattern **``\"\\d{4}\"``** specifically matches **``any four digits in sequence``**."
   ]
  },
  {
   "cell_type": "code",
   "execution_count": 194,
   "metadata": {
    "colab": {
     "base_uri": "https://localhost:8080/"
    },
    "id": "MsvhCcwUKwTp",
    "outputId": "9a786c44-238a-4748-b2c3-08c64f7fcc3a"
   },
   "outputs": [
    {
     "data": {
      "text/plain": [
       "['1000']"
      ]
     },
     "execution_count": 194,
     "metadata": {},
     "output_type": "execute_result"
    }
   ],
   "source": [
    "# Find all occurrences of four consecutive digits\n",
    "\n",
    "re.findall(\"\\d{4}\", text)"
   ]
  },
  {
   "cell_type": "markdown",
   "metadata": {},
   "source": [
    "\n",
    "\n",
    "<p style=\"background-color:#FFFFFF; font-family:newtimeroman; color:#0000FF; font-size:110%; text-align:left;\"><strong>-----------------------------------------------------------------------------------------------------------------------------------------------------------------------------------------------</strong></p>\n",
    "\n",
    "**The following expression extracts ``all occurrences of digits`` that are ``between 1 and 6 digits long`` from the string text.**\n",
    "- The pattern **``\"\\d{1,6}\"``** specifies that we want to match **``any sequence of digits``** that has **``at least 1 digit and at most 6 digits``**."
   ]
  },
  {
   "cell_type": "code",
   "execution_count": 195,
   "metadata": {},
   "outputs": [
    {
     "data": {
      "text/plain": [
       "['1', '10', '100', '100000']"
      ]
     },
     "execution_count": 195,
     "metadata": {},
     "output_type": "execute_result"
    }
   ],
   "source": [
    "# Find all occurrences of digits between 1 and 6 digits long\n",
    "\n",
    "re.findall(\"\\d{1,6}\", text)"
   ]
  },
  {
   "cell_type": "markdown",
   "metadata": {},
   "source": [
    "- **``Pattern \"\\d{1,6}\":``**\n",
    "  - **``\\d``** matches **``any digit (0-9)``**.\n",
    "  - **``{1,6}``** specifies that we want to match sequences of digits that are **``at least 1 digit``** and **``at most 6 digits``** long.\n",
    "\n",
    "<p style=\"background-color:#FFFFFF; font-family:newtimeroman; color:#0000FF; font-size:110%; text-align:left;\"><strong>-----------------------------------------------------------------------------------------------------------------------------------------------------------------------------------------------</strong></p>\n",
    "\n",
    "**The following expression extracts ``all occurrences of one or more consecutive digits`` from the string text.**\n",
    "- The pattern **``\"\\d+\"``** specifies that we want to match sequences of digits, where **``+``** indicates **``one or more occurrences``**."
   ]
  },
  {
   "cell_type": "code",
   "execution_count": 196,
   "metadata": {},
   "outputs": [
    {
     "data": {
      "text/plain": [
       "['1', '10', '100', '100000']"
      ]
     },
     "execution_count": 196,
     "metadata": {},
     "output_type": "execute_result"
    }
   ],
   "source": [
    "# Find all occurrences of one or more consecutive digits\n",
    "\n",
    "re.findall(\"\\d+\", text)"
   ]
  },
  {
   "cell_type": "markdown",
   "metadata": {},
   "source": [
    "- **``Pattern \"\\d+\":``**\n",
    "- **``\\d``** matches **``any digit (0-9)``**.\n",
    "- **``+``** specifies that we want to match **``one or more consecutive digits``**.\n",
    "\n",
    "<p style=\"background-color:#FFFFFF; font-family:newtimeroman; color:#0000FF; font-size:110%; text-align:left;\"><strong>-----------------------------------------------------------------------------------------------------------------------------------------------------------------------------------------------</strong></p>\n",
    "\n"
   ]
  },
  {
   "cell_type": "markdown",
   "metadata": {},
   "source": [
    "#### Extract words begining with \"f\""
   ]
  },
  {
   "cell_type": "code",
   "execution_count": 201,
   "metadata": {},
   "outputs": [],
   "source": [
    "# Given the string text\n",
    "\n",
    "text = 'which foot or hand fell fastest'"
   ]
  },
  {
   "cell_type": "markdown",
   "metadata": {},
   "source": [
    "\n",
    "\n",
    "<p style=\"background-color:#FFFFFF; font-family:newtimeroman; color:#0000FF; font-size:110%; text-align:left;\"><strong>-----------------------------------------------------------------------------------------------------------------------------------------------------------------------------------------------</strong></p>\n",
    "\n",
    "**The following expression extracts ``all substrings from the string text that start with the letter 'f' followed by zero or more lowercase letters (a-z)``.**\n",
    "- The pattern **``f[a-z]*``** specifies that we want to match **``any word starting with 'f'``**, and **``*``** means it can be followed by **``any number of lowercase letters, including none``**."
   ]
  },
  {
   "cell_type": "code",
   "execution_count": 202,
   "metadata": {},
   "outputs": [
    {
     "data": {
      "text/plain": [
       "['foot', 'fell', 'fastest']"
      ]
     },
     "execution_count": 202,
     "metadata": {},
     "output_type": "execute_result"
    }
   ],
   "source": [
    "# Find all substrings that start with 'f'\n",
    "\n",
    "re.findall(\"f[a-z]*\", text)"
   ]
  },
  {
   "cell_type": "markdown",
   "metadata": {},
   "source": [
    "- **``Pattern \"f[a-z]*\":``**\n",
    "- **``f``** matches the **``literal character 'f'``**.\n",
    "- **``[a-z]*``** matches **``zero or more lowercase letters following 'f'``**.\n",
    "\n",
    "<p style=\"background-color:#FFFFFF; font-family:newtimeroman; color:#0000FF; font-size:110%; text-align:left;\"><strong>-----------------------------------------------------------------------------------------------------------------------------------------------------------------------------------------------</strong></p>\n",
    "\n"
   ]
  },
  {
   "cell_type": "markdown",
   "metadata": {},
   "source": [
    "#### Extract equations made up of words and numbers"
   ]
  },
  {
   "cell_type": "code",
   "execution_count": 203,
   "metadata": {},
   "outputs": [],
   "source": [
    "# Given the string text\n",
    "\n",
    "text = 'set width=20 and height=10'"
   ]
  },
  {
   "cell_type": "markdown",
   "metadata": {},
   "source": [
    "\n",
    "\n",
    "<p style=\"background-color:#FFFFFF; font-family:newtimeroman; color:#0000FF; font-size:110%; text-align:left;\"><strong>-----------------------------------------------------------------------------------------------------------------------------------------------------------------------------------------------</strong></p>\n",
    "\n",
    "**The following expression extracts ``all key-value pairs`` from the string text where keys consist of word characters (letters, digits, or underscores) and are followed by an equals sign = and a sequence of digits.**"
   ]
  },
  {
   "cell_type": "code",
   "execution_count": 204,
   "metadata": {},
   "outputs": [
    {
     "data": {
      "text/plain": [
       "['width=20', 'height=10']"
      ]
     },
     "execution_count": 204,
     "metadata": {},
     "output_type": "execute_result"
    }
   ],
   "source": [
    "# Find all key-value pairs\n",
    "\n",
    "re.findall('\\w+=\\d+', text)"
   ]
  },
  {
   "cell_type": "markdown",
   "metadata": {},
   "source": [
    "- **``Pattern '\\w+=\\d+':``**\n",
    "  - **``\\w+``** matches **``one or more word characters``** (letters, digits, or underscores) for the key.\n",
    "  - **``=``** is a **``literal equals sign``**.\n",
    "  - **``\\d+``** matches **``one or more digits``** for the value.\n",
    "\n",
    "<p style=\"background-color:#FFFFFF; font-family:newtimeroman; color:#0000FF; font-size:110%; text-align:left;\"><strong>-----------------------------------------------------------------------------------------------------------------------------------------------------------------------------------------------</strong></p>\n",
    "\n",
    "**The following expression extracts ``all key-value pairs`` from the string text, capturing the keys and values separately.**\n",
    "- The pattern uses capturing groups to return the keys and values as tuples."
   ]
  },
  {
   "cell_type": "code",
   "execution_count": 205,
   "metadata": {},
   "outputs": [
    {
     "data": {
      "text/plain": [
       "[('width', '20'), ('height', '10')]"
      ]
     },
     "execution_count": 205,
     "metadata": {},
     "output_type": "execute_result"
    }
   ],
   "source": [
    "# Find all key-value pairs with separate capturing groups for keys and values\n",
    "\n",
    "re.findall('(\\w+)=(\\d+)', text)"
   ]
  },
  {
   "cell_type": "markdown",
   "metadata": {},
   "source": [
    "- **``Pattern (\\w+)=(\\d+):``**\n",
    "  - **``(\\w+)``** captures **``one or more word characters``** (letters, digits, or underscores) for the key.\n",
    "  - **``=``** is a **``literal equals sign``**.\n",
    "  - **``(\\d+)``** captures **``one or more digits``** for the value.\n",
    "\n",
    "<p style=\"background-color:#FFFFFF; font-family:newtimeroman; color:#0000FF; font-size:110%; text-align:left;\"><strong>-----------------------------------------------------------------------------------------------------------------------------------------------------------------------------------------------</strong></p>\n",
    "\n"
   ]
  },
  {
   "cell_type": "markdown",
   "metadata": {
    "id": "Bl2g3RcBdUjG"
   },
   "source": [
    "#### Check if the string starts with 'hello'"
   ]
  },
  {
   "cell_type": "code",
   "execution_count": 206,
   "metadata": {
    "id": "nEFXpIaHdUjH"
   },
   "outputs": [],
   "source": [
    "# Given the string text\n",
    "\n",
    "text = \"hello world\""
   ]
  },
  {
   "cell_type": "markdown",
   "metadata": {},
   "source": [
    "\n",
    "\n",
    "<p style=\"background-color:#FFFFFF; font-family:newtimeroman; color:#0000FF; font-size:110%; text-align:left;\"><strong>-----------------------------------------------------------------------------------------------------------------------------------------------------------------------------------------------</strong></p>\n",
    "\n",
    "**The following expression checks ``if the string text starts with the word \"hello\"``.**\n",
    "- The **``^``** character in the pattern asserts that the match MUST occur at the **``beginning of the string``**."
   ]
  },
  {
   "cell_type": "code",
   "execution_count": 207,
   "metadata": {},
   "outputs": [
    {
     "data": {
      "text/plain": [
       "['hello']"
      ]
     },
     "execution_count": 207,
     "metadata": {},
     "output_type": "execute_result"
    }
   ],
   "source": [
    "# Find if the text starts with 'hello'\n",
    "\n",
    "re.findall(\"^hello\", text)"
   ]
  },
  {
   "cell_type": "markdown",
   "metadata": {},
   "source": [
    "- **``Pattern \"^hello\":``**\n",
    "  - **``^``** asserts the position at the start of the string.\n",
    "  - **``hello``** matches the literal string \"hello\".\n",
    "\n",
    "<p style=\"background-color:#FFFFFF; font-family:newtimeroman; color:#0000FF; font-size:110%; text-align:left;\"><strong>-----------------------------------------------------------------------------------------------------------------------------------------------------------------------------------------------</strong></p>\n",
    "\n",
    "\n",
    "**The following expression checks ``if the string text starts with the word \"hello\"`` and return that match.**\n",
    "- The **``^``** character in the pattern ensures that the match occurs at the **``beginning of the string``**.\n",
    "\n"
   ]
  },
  {
   "cell_type": "code",
   "execution_count": 210,
   "metadata": {},
   "outputs": [
    {
     "data": {
      "text/plain": [
       "'hello'"
      ]
     },
     "execution_count": 210,
     "metadata": {},
     "output_type": "execute_result"
    }
   ],
   "source": [
    "# Attempt to match the start of the string\n",
    "\n",
    "re.match(\"^hello\", text).group()"
   ]
  },
  {
   "cell_type": "markdown",
   "metadata": {},
   "source": [
    "- **``Pattern \"^hello\":``**\n",
    "  - **``^``** asserts the position at the start of the string.\n",
    "  - **``hello``** matches the literal string \"hello\".\n",
    "- **``re.match():``**\n",
    "  - This function checks for a match only at the beginning of the string.\n",
    "  - If **``\"hello\"``** is found **``at the start``**, match.group() returns the matched substring.\n",
    "\n",
    "<p style=\"background-color:#FFFFFF; font-family:newtimeroman; color:#0000FF; font-size:110%; text-align:left;\"><strong>-----------------------------------------------------------------------------------------------------------------------------------------------------------------------------------------------</strong></p>\n",
    "\n",
    "**The following expression searches for the ``word \"hello\" at the beginning`` of the string text.**\n",
    "- The **``^``** character asserts that the match MUST occur at the **``start of the string``, BUT **``re.search()``** will return a match object if it finds **``\"hello\" anywhere in the string``**, as long as it complies with the pattern.\n",
    "\n"
   ]
  },
  {
   "cell_type": "code",
   "execution_count": 213,
   "metadata": {},
   "outputs": [
    {
     "data": {
      "text/plain": [
       "'hello'"
      ]
     },
     "execution_count": 213,
     "metadata": {},
     "output_type": "execute_result"
    }
   ],
   "source": [
    "# Search for 'hello' at the start of the string\n",
    "\n",
    "re.search(\"^hello\", text).group()"
   ]
  },
  {
   "cell_type": "markdown",
   "metadata": {},
   "source": [
    "- **``Pattern \"^hello\":``**\n",
    "- **``^``** asserts the position at the start of the string.\n",
    "- **``hello``** matches the literal string \"hello\".\n",
    "- **``re.search():``**\n",
    "  - This function looks for the pattern anywhere in the string.\n",
    "  - If \"hello\" is found at the start (or anywhere), match.group() returns the matched substring.\n",
    "\n",
    "<p style=\"background-color:#FFFFFF; font-family:newtimeroman; color:#0000FF; font-size:110%; text-align:left;\"><strong>-----------------------------------------------------------------------------------------------------------------------------------------------------------------------------------------------</strong></p>\n",
    "\n",
    "#### Check if the string ends with 'world'\n",
    "\n",
    "\n",
    "**The following expression checks ``if the string text ends with the word \"world\"``.**\n",
    "- The **``$``** character in the pattern asserts that the match must occur at the **``end of the string``**.\n",
    "\n"
   ]
  },
  {
   "cell_type": "code",
   "execution_count": 215,
   "metadata": {},
   "outputs": [
    {
     "data": {
      "text/plain": [
       "'hello world'"
      ]
     },
     "execution_count": 215,
     "metadata": {},
     "output_type": "execute_result"
    }
   ],
   "source": [
    "text"
   ]
  },
  {
   "cell_type": "code",
   "execution_count": 216,
   "metadata": {},
   "outputs": [
    {
     "data": {
      "text/plain": [
       "['world']"
      ]
     },
     "execution_count": 216,
     "metadata": {},
     "output_type": "execute_result"
    }
   ],
   "source": [
    "# Find if the text ends with 'world'\n",
    "\n",
    "re.findall(\"world$\", text)"
   ]
  },
  {
   "cell_type": "markdown",
   "metadata": {},
   "source": [
    "- **``Pattern \"world$\":``**\n",
    "  - **``world``** matches the **``literal string \"world\"``**.\n",
    "  - **``$``** asserts the position at the **``end of the string``**.\n",
    "\n",
    "<p style=\"background-color:#FFFFFF; font-family:newtimeroman; color:#0000FF; font-size:110%; text-align:left;\"><strong>-----------------------------------------------------------------------------------------------------------------------------------------------------------------------------------------------</strong></p>\n",
    "\n"
   ]
  },
  {
   "cell_type": "markdown",
   "metadata": {},
   "source": [
    "## <p style=\"background-color:#FFFFFF; font-family:newtimeroman; color:#0000FF; font-size:120%; text-align:left;\"><strong>re.sub(pattern, repl, string, count=0, flags=0)</strong></p>\n",
    "\n",
    "\n",
    "**🧐 [re.sub](https://docs.python.org/3/library/re.html) method returns the string obtained by **replacing the leftmost non-overlapping occurrences of the pattern in string by the replacement (repl)**.  repl attribute can be either a string or a callable; if a string, backslash escapes in it are processed.  If it is a callable, it's passed the Match object and must return a replacement string to be used.**"
   ]
  },
  {
   "cell_type": "markdown",
   "metadata": {
    "id": "h77aI1DRdUjA"
   },
   "source": [
    "\n",
    "\n",
    "<p style=\"background-color:#FFFFFF; font-family:newtimeroman; color:#0000FF; font-size:110%; text-align:left;\"><strong>-----------------------------------------------------------------------------------------------------------------------------------------------------------------------------------------------</strong></p>\n",
    "\n",
    "\n",
    "\n",
    "#### Remove anything other than digits"
   ]
  },
  {
   "cell_type": "code",
   "execution_count": 218,
   "metadata": {
    "id": "CSV6i0hEdUjB"
   },
   "outputs": [],
   "source": [
    "# Given the string text\n",
    "\n",
    "text = \"2004-959-559 # This is Phone Number\""
   ]
  },
  {
   "cell_type": "markdown",
   "metadata": {},
   "source": [
    "\n",
    "\n",
    "<p style=\"background-color:#FFFFFF; font-family:newtimeroman; color:#0000FF; font-size:110%; text-align:left;\"><strong>-----------------------------------------------------------------------------------------------------------------------------------------------------------------------------------------------</strong></p>\n",
    "\n",
    "**The following code ``re.sub(\"\\D\", \" \", text)`` is used to ``replace`` ``all non-digit characters`` in the string text with a ``space``.**"
   ]
  },
  {
   "cell_type": "code",
   "execution_count": 219,
   "metadata": {},
   "outputs": [
    {
     "data": {
      "text/plain": [
       "'2004959559'"
      ]
     },
     "execution_count": 219,
     "metadata": {},
     "output_type": "execute_result"
    }
   ],
   "source": [
    "# Replace all non-digit characters with a \"space\"\n",
    "\n",
    "re.sub(\"\\D\", \"\", text)"
   ]
  },
  {
   "cell_type": "markdown",
   "metadata": {},
   "source": [
    "**Pattern ``\\D``:**\n",
    "- **``\\D``** matches any character that is **``NOT a digit (0-9)``**.\n",
    "**Substitution:**\n",
    "- **``All occurrences``** of **``non-digit characters``** (like -, #, and spaces) are **``replaced with a space``**.\n",
    "\n",
    "<p style=\"background-color:#FFFFFF; font-family:newtimeroman; color:#0000FF; font-size:110%; text-align:left;\"><strong>-----------------------------------------------------------------------------------------------------------------------------------------------------------------------------------------------</strong></p>\n",
    "\n",
    "#### Remove digits and replace with \".\"\n",
    "\n",
    "**The following code ``re.sub(\"\\d\", \".\", text)`` is used to ``replace`` ``all digit characters`` in the string text with a ``period (.)``.**"
   ]
  },
  {
   "cell_type": "code",
   "execution_count": 220,
   "metadata": {
    "id": "gZngvdNhtu-N"
   },
   "outputs": [
    {
     "data": {
      "text/plain": [
       "'....-...-... # This is Phone Number'"
      ]
     },
     "execution_count": 220,
     "metadata": {},
     "output_type": "execute_result"
    }
   ],
   "source": [
    "# Replace all digit characters with a \"period\"\n",
    "\n",
    "re.sub(\"\\d\", \".\", text)"
   ]
  },
  {
   "cell_type": "markdown",
   "metadata": {},
   "source": [
    "- **Pattern ``\\d``:**\n",
    "  - **``\\d``** matches **``any digit (0-9)``**.\n",
    "- **Substitution:**\n",
    "  - **``All occurrences``** of digits in the string are **``replaced with a period (.)``**.\n",
    "\n",
    "<p style=\"background-color:#FFFFFF; font-family:newtimeroman; color:#0000FF; font-size:110%; text-align:left;\"><strong>-----------------------------------------------------------------------------------------------------------------------------------------------------------------------------------------------</strong></p>\n",
    "\n",
    "**The following code ``re.sub(\"\\d\", \".\", text, count=4)`` is used to ``replace`` ``the first four digit characters`` in the string text with a ``period (.)``.**"
   ]
  },
  {
   "cell_type": "code",
   "execution_count": 221,
   "metadata": {
    "scrolled": true
   },
   "outputs": [
    {
     "data": {
      "text/plain": [
       "'....-959-559 # This is Phone Number'"
      ]
     },
     "execution_count": 221,
     "metadata": {},
     "output_type": "execute_result"
    }
   ],
   "source": [
    "# Replace the pattern (any numeric digit occurring four times at the beginning) with \".\"\n",
    "\n",
    "re.sub(\"\\d\", \".\", text, count=4)"
   ]
  },
  {
   "cell_type": "markdown",
   "metadata": {},
   "source": [
    "**Pattern ``\\d``:**\n",
    "- **``\\d``** matches any digit (0-9).\n",
    "**Substitution:**\n",
    "- The **``count=4``** argument specifies that **``only the first four occurrences of digits``** should be **``replaced``** with a **``period (.)``**.\n",
    "**Result:**\n",
    "- The **``first four digits (2, 0, 0, and 4)``** are replaced, resulting in **``....-959-559 # This is Phone Number``**.\n",
    "\n",
    "<p style=\"background-color:#FFFFFF; font-family:newtimeroman; color:#0000FF; font-size:110%; text-align:left;\"><strong>-----------------------------------------------------------------------------------------------------------------------------------------------------------------------------------------------</strong></p>\n",
    "\n",
    "**Using ``pd.Series(text).str.replace(\"\\d\", \".\", regex=True)`` allows you to ``replace`` ``all digit characters`` in a Pandas Series with a ``period (.)``.** "
   ]
  },
  {
   "cell_type": "code",
   "execution_count": 222,
   "metadata": {},
   "outputs": [
    {
     "data": {
      "text/plain": [
       "0    ....-...-... # This is Phone Number\n",
       "dtype: object"
      ]
     },
     "execution_count": 222,
     "metadata": {},
     "output_type": "execute_result"
    }
   ],
   "source": [
    "pd.Series(text).str.replace(\"\\d\", \".\", regex=True)\n",
    "\n",
    "# str.replace() method does the same thing"
   ]
  },
  {
   "cell_type": "markdown",
   "metadata": {},
   "source": [
    "**Explanation:**\n",
    "- **``pd.Series([text])``:** Creates a ``Pandas Series`` from the given text.\n",
    "- **``.str.replace(r\"\\d\", \".\", regex=True)``:**\n",
    "   - **``r\"\\d\"``**: This pattern matches ``any digit (0-9)``.\n",
    "   - **``.``**: This is the ``replacement string``.\n",
    "   - **``regex=True``**: This specifies that the first argument is a regex pattern.\n",
    "- **``Result``**: ``Each digit`` in the original string is ``replaced`` with ``a period``, resulting in ....-...-... # This is Phone Number.\n",
    "\n",
    "<p style=\"background-color:#FFFFFF; font-family:newtimeroman; color:#0000FF; font-size:110%; text-align:left;\"><strong>-----------------------------------------------------------------------------------------------------------------------------------------------------------------------------------------------</strong></p>\n",
    "\n",
    "📢❗🚨 Note that although **``str.replace()``** method has **count** parameter, it does NOT limit the number of replacements, it simply allows you to see how many replacements were made.\n",
    "\n",
    "<p style=\"background-color:#FFFFFF; font-family:newtimeroman; color:#0000FF; font-size:110%; text-align:left;\"><strong>-----------------------------------------------------------------------------------------------------------------------------------------------------------------------------------------------</strong></p>\n"
   ]
  },
  {
   "cell_type": "markdown",
   "metadata": {},
   "source": [
    "## <p style=\"background-color:#FFFFFF; font-family:newtimeroman; color:#0000FF; font-size:120%; text-align:left;\"><strong>re.split(pattern, string, maxsplit=0, flags=0)</strong></p>\n",
    "\n",
    "\n",
    "**🧐 [re.split()](https://docs.python.org/3/library/re.html#re.split)** method splits the source string by the occurrences of the pattern, returning a list containing the resulting substrings. If capturing parentheses are used in pattern, then the text of all groups in the pattern are also returned as part of the resulting list. If maxsplit is nonzero, at most maxsplit splits occur, and the remainder of the string is returned as the final element of the list.\n",
    "\n",
    "**🧐 [Python Regex Split String Using re.split()](https://pynative.com/python-regex-split/)**<br>\n",
    "\n",
    "<p style=\"background-color:#FFFFFF; font-family:newtimeroman; color:#0000FF; font-size:110%; text-align:left;\"><strong>-----------------------------------------------------------------------------------------------------------------------------------------------------------------------------------------------</strong></p>\n"
   ]
  },
  {
   "cell_type": "code",
   "execution_count": 223,
   "metadata": {},
   "outputs": [],
   "source": [
    "# Given the string text\n",
    "\n",
    "text = \"ab56cd78_de fg3hıi49\""
   ]
  },
  {
   "cell_type": "markdown",
   "metadata": {},
   "source": [
    "\n",
    "\n",
    "<p style=\"background-color:#FFFFFF; font-family:newtimeroman; color:#0000FF; font-size:110%; text-align:left;\"><strong>-----------------------------------------------------------------------------------------------------------------------------------------------------------------------------------------------</strong></p>\n",
    "\n",
    "**The following code ``re.split(\"\\D+\", text)`` is used to ``split`` the ``string text`` at ``every occurrence`` of ``one or more non-digit characters``.**"
   ]
  },
  {
   "cell_type": "code",
   "execution_count": 224,
   "metadata": {},
   "outputs": [
    {
     "data": {
      "text/plain": [
       "['', '56', '78', '3', '49']"
      ]
     },
     "execution_count": 224,
     "metadata": {},
     "output_type": "execute_result"
    }
   ],
   "source": [
    "re.split(\"\\D+\", text)"
   ]
  },
  {
   "cell_type": "markdown",
   "metadata": {},
   "source": [
    "**Explanation:**\n",
    "- **Pattern ``\\D+``:**\n",
    "   - **``\\D``** matches ``any character`` that is ``not a digit (0-9)``.\n",
    "   - **``+``** means ``one or more occurrences`` of the ``preceding element (non-digit characters)``.\n",
    "- **Result**: The string is split into parts where non-digit characters occur.\n",
    "   - The first element of the result is an empty string ('') because the string starts with non-digit characters.\n",
    "\n",
    "<p style=\"background-color:#FFFFFF; font-family:newtimeroman; color:#0000FF; font-size:110%; text-align:left;\"><strong>-----------------------------------------------------------------------------------------------------------------------------------------------------------------------------------------------</strong></p>\n",
    "\n",
    "**The following code ``re.split(\"\\D+\", text, maxsplit=2)`` is used to ``split`` the ``string text`` at ``every occurrence`` of ``one or more non-digit characters``, ``limiting`` the number of ``splits to 2``.**"
   ]
  },
  {
   "cell_type": "code",
   "execution_count": 225,
   "metadata": {},
   "outputs": [
    {
     "data": {
      "text/plain": [
       "['', '56', '78_de fg3hıi49']"
      ]
     },
     "execution_count": 225,
     "metadata": {},
     "output_type": "execute_result"
    }
   ],
   "source": [
    "re.split(\"\\D+\", text, maxsplit=2)"
   ]
  },
  {
   "cell_type": "markdown",
   "metadata": {},
   "source": [
    "**Explanation:**\n",
    "- **Pattern ``\\D+``:**\n",
    "   - **``\\D``** matches ``any character`` that is ``not a digit (0-9)``.\n",
    "   - **``+``** means ``one or more occurrences`` of ``non-digit characters``.\n",
    "- **``maxsplit=2``:**\n",
    "   - This ``limits`` the ``number of splits to 2``. After two splits, the remainder of the string is returned as the last element.\n",
    "\n",
    "**Result Breakdown:**\n",
    "- The string is split into parts where non-digit characters occur.\n",
    "- The first element is an empty string ('') because the original string starts with non-digit characters.\n",
    "- The second element is '56', which is the first sequence of digits.\n",
    "- The third element is '78_de fg3hıi49', which is the remainder of the string after two splits.\n",
    "\n",
    "<p style=\"background-color:#FFFFFF; font-family:newtimeroman; color:#0000FF; font-size:110%; text-align:left;\"><strong>-----------------------------------------------------------------------------------------------------------------------------------------------------------------------------------------------</strong></p>\n",
    "\n",
    "**The following code ``re.findall(\"\\d+\", text)`` is used to ``find`` ``all sequences of digits`` in the string text.**"
   ]
  },
  {
   "cell_type": "code",
   "execution_count": 226,
   "metadata": {},
   "outputs": [
    {
     "data": {
      "text/plain": [
       "['56', '78', '3', '49']"
      ]
     },
     "execution_count": 226,
     "metadata": {},
     "output_type": "execute_result"
    }
   ],
   "source": [
    "re.findall(\"\\d+\", text)"
   ]
  },
  {
   "cell_type": "markdown",
   "metadata": {},
   "source": [
    "**Explanation:**\n",
    "- **Pattern ``\\d+``:**\n",
    "   - **``\\d``** matches ``any digit (0-9)``.\n",
    "   - **``+``** means ``one or more occurrences`` of the ``preceding element``, so \\d+ matches sequences of digits.\n",
    "\n",
    "<p style=\"background-color:#FFFFFF; font-family:newtimeroman; color:#0000FF; font-size:110%; text-align:left;\"><strong>-----------------------------------------------------------------------------------------------------------------------------------------------------------------------------------------------</strong></p>\n",
    "\n"
   ]
  },
  {
   "cell_type": "markdown",
   "metadata": {},
   "source": [
    "## <p style=\"background-color:#E51A59; font-family:newtimeroman; color:#FFF9ED; font-size:175%; text-align:center; border-radius:10px 10px;\">Pandas Functions Accepting RegEx</p>\n",
    "\n",
    "<a id=\"4\"></a>\n",
    "<a href=\"#toc\" class=\"btn btn-primary btn-sm\" role=\"button\" aria-pressed=\"true\" \n",
    "style=\"color:blue; background-color:#dfa8e4\" data-toggle=\"popover\">Content</a>\n",
    "\n",
    "Pandas provides a variety of string functions that accept regular expressions (RegEx), allowing for powerful text manipulation and analysis. These functions, accessible through the **``.str accessor``**, enable operations such as searching, replacing, and splitting strings based on complex patterns. \n",
    "- For example, methods like .str.contains(), .str.replace(), and .str.extract() facilitate filtering and transforming data within DataFrames and Series by leveraging the flexibility of RegEx, making it easier to handle and analyze textual data efficiently.\n",
    "\n"
   ]
  },
  {
   "cell_type": "markdown",
   "metadata": {},
   "source": [
    "- **[str.count()](https://pandas.pydata.org/docs/reference/api/pandas.Series.str.count.html):** Count occurrences of pattern in each string of the Series/Index\n",
    "- **[str.replace()](https://pandas.pydata.org/docs/reference/api/pandas.Series.replace.html):** Replace the search string or pattern with the given value\n",
    "- **[str.contains()](https://pandas.pydata.org/docs/reference/api/pandas.Series.str.contains.html):** Test if pattern or regex is contained within a string of a Series or Index. Calls re.search() and returns a boolean\n",
    "- **[str.findall()](https://pandas.pydata.org/docs/reference/api/pandas.Series.str.findall.html):** Find all occurrences of pattern or regular expression in the Series/Index. Equivalent to applying re.findall() on all elements\n",
    "- **[str.match()](https://pandas.pydata.org/docs/reference/api/pandas.Series.str.match.html):** Determine if each string matches a regular expression. Calls re.match() and returns a boolean\n",
    "- **[str.split()](https://pandas.pydata.org/docs/reference/api/pandas.Series.str.split.html):** Split strings around given separator/delimiter and accepts string or regular expression to split on\n",
    "- **[str.extract()](https://pandas.pydata.org/docs/reference/api/pandas.Series.str.extract.html):** Extract capture groups in the regex pat as columns in a DataFrame and returns the captured groups"
   ]
  },
  {
   "cell_type": "code",
   "execution_count": 227,
   "metadata": {},
   "outputs": [
    {
     "data": {
      "text/html": [
       "<div>\n",
       "<style scoped>\n",
       "    .dataframe tbody tr th:only-of-type {\n",
       "        vertical-align: middle;\n",
       "    }\n",
       "\n",
       "    .dataframe tbody tr th {\n",
       "        vertical-align: top;\n",
       "    }\n",
       "\n",
       "    .dataframe thead th {\n",
       "        text-align: right;\n",
       "    }\n",
       "</style>\n",
       "<table border=\"1\" class=\"dataframe\">\n",
       "  <thead>\n",
       "    <tr style=\"text-align: right;\">\n",
       "      <th></th>\n",
       "      <th>name</th>\n",
       "      <th>bloom</th>\n",
       "    </tr>\n",
       "  </thead>\n",
       "  <tbody>\n",
       "    <tr>\n",
       "      <th>0</th>\n",
       "      <td>Evert van Dijk</td>\n",
       "      <td>Carmine-pink, salmon-pink streaks, stripes, flecks. #94569# Warm pink, clear carmine pink, rose pink shaded salmon.  Mild fragrance.  Large, very double, in small clusters, high-centered bloom form.  Blooms in flushes throughout the season.</td>\n",
       "    </tr>\n",
       "    <tr>\n",
       "      <th>1</th>\n",
       "      <td>Every Good Gift</td>\n",
       "      <td>Red.  Flowers velvety red.  #079463895689# Moderate fragrance.  Average diameter 4\".  Medium-large, full (26-40 petals), borne mostly solitary bloom form.  Blooms in flushes throughout the season.</td>\n",
       "    </tr>\n",
       "    <tr>\n",
       "      <th>2</th>\n",
       "      <td>Evghenya</td>\n",
       "      <td>Orange-pink.  75 petals.  Large, very double #68345_686# bloom form.  Blooms in flushes throughout the season.</td>\n",
       "    </tr>\n",
       "    <tr>\n",
       "      <th>3</th>\n",
       "      <td>Evita</td>\n",
       "      <td>White or white blend.  None to mild fragrance.  35 petals #9897#.  Large, full (26-40 petals), high-centered bloom form.  Blooms in flushes throughout the season.</td>\n",
       "    </tr>\n",
       "    <tr>\n",
       "      <th>4</th>\n",
       "      <td>Evrathin</td>\n",
       "      <td>Light pink. [Deep pink.]  Outer petals white. Expand rarely #679754YH89#.  Mild fragrance.  35 to 40 petals.  Average diameter 2.5\".  Medium, double (17-25 petals), full (26-40 petals), cluster-flowered, in small clusters bloom form.  Prolific, once-blooming spring or summer.  Glandular sepals, leafy sepals, long sepals buds.</td>\n",
       "    </tr>\n",
       "    <tr>\n",
       "      <th>5</th>\n",
       "      <td>Evita 2</td>\n",
       "      <td>White, blush shading.  Mild, wild rose fragrance #AGHJS876IOP#.  20 to 25 petals.  Average diameter 1.25\".  Small, very double, cluster-flowered bloom form.  Blooms in flushes throughout the season.</td>\n",
       "    </tr>\n",
       "  </tbody>\n",
       "</table>\n",
       "</div>"
      ],
      "text/plain": [
       "              name  \\\n",
       "0   Evert van Dijk   \n",
       "1  Every Good Gift   \n",
       "2         Evghenya   \n",
       "3            Evita   \n",
       "4         Evrathin   \n",
       "5          Evita 2   \n",
       "\n",
       "                                                                                                                                                                                                                                                                                                                                     bloom  \n",
       "0                                                                                         Carmine-pink, salmon-pink streaks, stripes, flecks. #94569# Warm pink, clear carmine pink, rose pink shaded salmon.  Mild fragrance.  Large, very double, in small clusters, high-centered bloom form.  Blooms in flushes throughout the season.  \n",
       "1                                                                                                                                     Red.  Flowers velvety red.  #079463895689# Moderate fragrance.  Average diameter 4\".  Medium-large, full (26-40 petals), borne mostly solitary bloom form.  Blooms in flushes throughout the season.  \n",
       "2                                                                                                                                                                                                                           Orange-pink.  75 petals.  Large, very double #68345_686# bloom form.  Blooms in flushes throughout the season.  \n",
       "3                                                                                                                                                                       White or white blend.  None to mild fragrance.  35 petals #9897#.  Large, full (26-40 petals), high-centered bloom form.  Blooms in flushes throughout the season.  \n",
       "4  Light pink. [Deep pink.]  Outer petals white. Expand rarely #679754YH89#.  Mild fragrance.  35 to 40 petals.  Average diameter 2.5\".  Medium, double (17-25 petals), full (26-40 petals), cluster-flowered, in small clusters bloom form.  Prolific, once-blooming spring or summer.  Glandular sepals, leafy sepals, long sepals buds.  \n",
       "5                                                                                                                                   White, blush shading.  Mild, wild rose fragrance #AGHJS876IOP#.  20 to 25 petals.  Average diameter 1.25\".  Small, very double, cluster-flowered bloom form.  Blooms in flushes throughout the season.  "
      ]
     },
     "execution_count": 227,
     "metadata": {},
     "output_type": "execute_result"
    }
   ],
   "source": [
    "# Data setup\n",
    "data = [['Evert van Dijk', 'Carmine-pink, salmon-pink streaks, stripes, flecks. #94569# Warm pink, clear carmine pink, rose pink shaded salmon.  Mild fragrance.  Large, very double, in small clusters, high-centered bloom form.  Blooms in flushes throughout the season.'],\n",
    "        ['Every Good Gift', 'Red.  Flowers velvety red.  #079463895689# Moderate fragrance.  Average diameter 4\".  Medium-large, full (26-40 petals), borne mostly solitary bloom form.  Blooms in flushes throughout the season.'], \n",
    "        ['Evghenya', 'Orange-pink.  75 petals.  Large, very double #68345_686# bloom form.  Blooms in flushes throughout the season.'], \n",
    "        ['Evita', 'White or white blend.  None to mild fragrance.  35 petals #9897#.  Large, full (26-40 petals), high-centered bloom form.  Blooms in flushes throughout the season.'],\n",
    "        ['Evrathin', 'Light pink. [Deep pink.]  Outer petals white. Expand rarely #679754YH89#.  Mild fragrance.  35 to 40 petals.  Average diameter 2.5\".  Medium, double (17-25 petals), full (26-40 petals), cluster-flowered, in small clusters bloom form.  Prolific, once-blooming spring or summer.  Glandular sepals, leafy sepals, long sepals buds.'],\n",
    "        ['Evita 2', 'White, blush shading.  Mild, wild rose fragrance #AGHJS876IOP#.  20 to 25 petals.  Average diameter 1.25\".  Small, very double, cluster-flowered bloom form.  Blooms in flushes throughout the season.']]\n",
    "  \n",
    "# Create the DataFrame\n",
    "df = pd.DataFrame(data, columns=['name', 'bloom']) \n",
    "\n",
    "# Display the DataFrame\n",
    "df "
   ]
  },
  {
   "cell_type": "markdown",
   "metadata": {},
   "source": [
    "\n",
    "\n",
    "<p style=\"background-color:#FFFFFF; font-family:newtimeroman; color:#0000FF; font-size:110%; text-align:left;\"><strong>-----------------------------------------------------------------------------------------------------------------------------------------------------------------------------------------------</strong></p>\n",
    "\n"
   ]
  },
  {
   "cell_type": "markdown",
   "metadata": {},
   "source": [
    "## <p style=\"background-color:#FFFFFF; font-family:newtimeroman; color:#0000FF; font-size:120%; text-align:left;\"><strong>pandas.Series.str.count(pat, flags=0)</strong></p>\n",
    "\n",
    "\n",
    "- Count occurrences of pattern in each string of the Series/Index.\n",
    "\n",
    "- This function is used to count the number of times a particular regex pattern is repeated in each of the string elements of the Series."
   ]
  },
  {
   "cell_type": "markdown",
   "metadata": {},
   "source": [
    "<p style=\"background-color:#FFFFFF; font-family:newtimeroman; color:#0000FF; font-size:110%; text-align:left;\"><strong>-----------------------------------------------------------------------------------------------------------------------------------------------------------------------------------------------</strong></p>\n",
    "\n",
    "\n",
    "**The following code ``displays the bloom feature`` of the DataFrame with a ``maximum column width of 400 characters``.**"
   ]
  },
  {
   "cell_type": "code",
   "execution_count": 228,
   "metadata": {},
   "outputs": [
    {
     "data": {
      "text/html": [
       "<div>\n",
       "<style scoped>\n",
       "    .dataframe tbody tr th:only-of-type {\n",
       "        vertical-align: middle;\n",
       "    }\n",
       "\n",
       "    .dataframe tbody tr th {\n",
       "        vertical-align: top;\n",
       "    }\n",
       "\n",
       "    .dataframe thead th {\n",
       "        text-align: right;\n",
       "    }\n",
       "</style>\n",
       "<table border=\"1\" class=\"dataframe\">\n",
       "  <thead>\n",
       "    <tr style=\"text-align: right;\">\n",
       "      <th></th>\n",
       "      <th>bloom</th>\n",
       "    </tr>\n",
       "  </thead>\n",
       "  <tbody>\n",
       "    <tr>\n",
       "      <th>0</th>\n",
       "      <td>Carmine-pink, salmon-pink streaks, stripes, flecks. #94569# Warm pink, clear carmine pink, rose pink shaded salmon.  Mild fragrance.  Large, very double, in small clusters, high-centered bloom form.  Blooms in flushes throughout the season.</td>\n",
       "    </tr>\n",
       "    <tr>\n",
       "      <th>1</th>\n",
       "      <td>Red.  Flowers velvety red.  #079463895689# Moderate fragrance.  Average diameter 4\".  Medium-large, full (26-40 petals), borne mostly solitary bloom form.  Blooms in flushes throughout the season.</td>\n",
       "    </tr>\n",
       "    <tr>\n",
       "      <th>2</th>\n",
       "      <td>Orange-pink.  75 petals.  Large, very double #68345_686# bloom form.  Blooms in flushes throughout the season.</td>\n",
       "    </tr>\n",
       "    <tr>\n",
       "      <th>3</th>\n",
       "      <td>White or white blend.  None to mild fragrance.  35 petals #9897#.  Large, full (26-40 petals), high-centered bloom form.  Blooms in flushes throughout the season.</td>\n",
       "    </tr>\n",
       "    <tr>\n",
       "      <th>4</th>\n",
       "      <td>Light pink. [Deep pink.]  Outer petals white. Expand rarely #679754YH89#.  Mild fragrance.  35 to 40 petals.  Average diameter 2.5\".  Medium, double (17-25 petals), full (26-40 petals), cluster-flowered, in small clusters bloom form.  Prolific, once-blooming spring or summer.  Glandular sepals, leafy sepals, long sepals buds.</td>\n",
       "    </tr>\n",
       "    <tr>\n",
       "      <th>5</th>\n",
       "      <td>White, blush shading.  Mild, wild rose fragrance #AGHJS876IOP#.  20 to 25 petals.  Average diameter 1.25\".  Small, very double, cluster-flowered bloom form.  Blooms in flushes throughout the season.</td>\n",
       "    </tr>\n",
       "  </tbody>\n",
       "</table>\n",
       "</div>"
      ],
      "text/plain": [
       "                                                                                                                                                                                                                                                                                                                                     bloom\n",
       "0                                                                                         Carmine-pink, salmon-pink streaks, stripes, flecks. #94569# Warm pink, clear carmine pink, rose pink shaded salmon.  Mild fragrance.  Large, very double, in small clusters, high-centered bloom form.  Blooms in flushes throughout the season.\n",
       "1                                                                                                                                     Red.  Flowers velvety red.  #079463895689# Moderate fragrance.  Average diameter 4\".  Medium-large, full (26-40 petals), borne mostly solitary bloom form.  Blooms in flushes throughout the season.\n",
       "2                                                                                                                                                                                                                           Orange-pink.  75 petals.  Large, very double #68345_686# bloom form.  Blooms in flushes throughout the season.\n",
       "3                                                                                                                                                                       White or white blend.  None to mild fragrance.  35 petals #9897#.  Large, full (26-40 petals), high-centered bloom form.  Blooms in flushes throughout the season.\n",
       "4  Light pink. [Deep pink.]  Outer petals white. Expand rarely #679754YH89#.  Mild fragrance.  35 to 40 petals.  Average diameter 2.5\".  Medium, double (17-25 petals), full (26-40 petals), cluster-flowered, in small clusters bloom form.  Prolific, once-blooming spring or summer.  Glandular sepals, leafy sepals, long sepals buds.\n",
       "5                                                                                                                                   White, blush shading.  Mild, wild rose fragrance #AGHJS876IOP#.  20 to 25 petals.  Average diameter 1.25\".  Small, very double, cluster-flowered bloom form.  Blooms in flushes throughout the season."
      ]
     },
     "execution_count": 228,
     "metadata": {},
     "output_type": "execute_result"
    }
   ],
   "source": [
    "# Set the maximum column width for display\n",
    "pd.options.display.max_colwidth = 400\n",
    "\n",
    "# Display the bloom feature\n",
    "df[[\"bloom\"]]"
   ]
  },
  {
   "cell_type": "markdown",
   "metadata": {},
   "source": [
    "<p style=\"background-color:#FFFFFF; font-family:newtimeroman; color:#0000FF; font-size:110%; text-align:left;\"><strong>-----------------------------------------------------------------------------------------------------------------------------------------------------------------------------------------------</strong></p>\n",
    "\n",
    "### How many numerical values are there in each row of \"bloom\" feature?\n",
    "\n",
    "- **The following method ``counts the occurrences of numeric patterns`` in the bloom column of the DataFrame. The pattern ``\"\\d+\"`` matches ``one or more digits``.**"
   ]
  },
  {
   "cell_type": "code",
   "execution_count": 229,
   "metadata": {},
   "outputs": [
    {
     "data": {
      "text/plain": [
       "0     1\n",
       "1     4\n",
       "2     3\n",
       "3     4\n",
       "4    10\n",
       "5     5\n",
       "Name: bloom, dtype: int64"
      ]
     },
     "execution_count": 229,
     "metadata": {},
     "output_type": "execute_result"
    }
   ],
   "source": [
    "# Count occurrences of numeric patterns in the 'bloom' column\n",
    "\n",
    "df.bloom.str.count(\"\\d+\")"
   ]
  },
  {
   "cell_type": "markdown",
   "metadata": {},
   "source": [
    "- **``df['bloom'].str.count(r\"\\d+\"):``**\n",
    "  - This counts **``how many times one or more digits appear in each string``** of the bloom column.\n",
    "  - The result is a Series where each entry corresponds to the **``count of digits``** in the respective row of the bloom descriptions.\n",
    "\n",
    "<p style=\"background-color:#FFFFFF; font-family:newtimeroman; color:#0000FF; font-size:110%; text-align:left;\"><strong>-----------------------------------------------------------------------------------------------------------------------------------------------------------------------------------------------</strong></p>\n",
    "\n"
   ]
  },
  {
   "cell_type": "markdown",
   "metadata": {},
   "source": [
    "### How many characters are there in each row of \"bloom\" feature?\n",
    "\n",
    "- **The following ``apply(len)`` method gets the ``length of each string`` in the bloom column of the DataFrame. This will return a Series containing the number of characters in each bloom description.**"
   ]
  },
  {
   "cell_type": "code",
   "execution_count": 230,
   "metadata": {},
   "outputs": [
    {
     "data": {
      "text/plain": [
       "0    240\n",
       "1    196\n",
       "2    110\n",
       "3    162\n",
       "4    327\n",
       "5    198\n",
       "Name: bloom, dtype: int64"
      ]
     },
     "execution_count": 230,
     "metadata": {},
     "output_type": "execute_result"
    }
   ],
   "source": [
    "# Apply len to get the length of each bloom description\n",
    "\n",
    "df.bloom.apply(len)"
   ]
  },
  {
   "cell_type": "markdown",
   "metadata": {},
   "source": [
    "- **``df['bloom'].apply(len):``**\n",
    "  - This applies the len function to each string in the bloom column, returning the **``number of characters in each description``**.\n",
    "  - The result is a Series where each entry corresponds to the length of the respective row's bloom description.\n",
    "\n",
    "<p style=\"background-color:#FFFFFF; font-family:newtimeroman; color:#0000FF; font-size:110%; text-align:left;\"><strong>-----------------------------------------------------------------------------------------------------------------------------------------------------------------------------------------------</strong></p>\n",
    "\n",
    "**The following** **[str.count()](https://pandas.pydata.org/docs/reference/api/pandas.Series.str.count.html)** **method ``counts the number of periods (.)`` in each entry of the bloom column of the DataFrame.**\n",
    "- This will return a Series containing the count of periods in each bloom description."
   ]
  },
  {
   "cell_type": "code",
   "execution_count": 232,
   "metadata": {},
   "outputs": [
    {
     "data": {
      "text/plain": [
       "0     5\n",
       "1     6\n",
       "2     4\n",
       "3     5\n",
       "4    11\n",
       "5     7\n",
       "Name: bloom, dtype: int64"
      ]
     },
     "execution_count": 232,
     "metadata": {},
     "output_type": "execute_result"
    }
   ],
   "source": [
    "# Count the number of periods in each bloom description\n",
    "\n",
    "df.bloom.str.count(\".\")"
   ]
  },
  {
   "cell_type": "markdown",
   "metadata": {},
   "source": [
    "- **SYNTAX: ``Series.str.count(pat, flags=0)``**\n",
    "  - 👉 **``pat``** argument is **``valid regular expression``**.\n",
    "\n",
    "<p style=\"background-color:#FFFFFF; font-family:newtimeroman; color:#0000FF; font-size:110%; text-align:left;\"><strong>-----------------------------------------------------------------------------------------------------------------------------------------------------------------------------------------------</strong></p>\n",
    "\n",
    "\n",
    "- **``df['bloom'].str.count(r\"\\.\"):``**\n",
    "  - This counts **``how many times the period character (.) appears in each string``** of the bloom column.\n",
    "  - The result is a Series where each entry corresponds to the count of periods in the respective row of the bloom descriptions.\n",
    "\n",
    "<p style=\"background-color:#FFFFFF; font-family:newtimeroman; color:#FF0000; font-size:125%; text-align:left;\"><strong>⚠️ BE CAREFUL: The dot (.) matches any character in regex ❗❗❗ So, it counts all characters in each entry (row). To count literal dots, it's a good practice to escape it using a backslash: '\\.'.</strong></p>\n",
    "\n",
    "- **[Special characters in regular expressions](https://users.pja.edu.pl/~jms/qnx/help/watcom/wd/regexp.html#:~:text=The%20dot%20(.),special%20meaning%20matches%20that%20character.)**\n",
    "- **[The Dot Matches (Almost) Any Character](https://www.regular-expressions.info/dot.html)**\n",
    "- **[Special Characters in Regular Expressions](https://simpleregex.dev/special-characters/)**\n",
    "\n",
    "<p style=\"background-color:#FFFFFF; font-family:newtimeroman; color:#0000FF; font-size:110%; text-align:left;\"><strong>-----------------------------------------------------------------------------------------------------------------------------------------------------------------------------------------------</strong></p>\n",
    "\n"
   ]
  },
  {
   "cell_type": "markdown",
   "metadata": {},
   "source": [
    "### How many sentences are there in each row of \"bloom\" feature?\n",
    "\n",
    "- **The following ``str.count()`` method ``counts the number of periods (.)`` in each entry of the bloom column of the DataFrame.**\n",
    "  - In this case, we need to **``escape the period``** in the regex pattern to ensure it is treated as a **``literal character``**."
   ]
  },
  {
   "cell_type": "code",
   "execution_count": 233,
   "metadata": {},
   "outputs": [
    {
     "data": {
      "text/plain": [
       "0     5\n",
       "1     6\n",
       "2     4\n",
       "3     5\n",
       "4    11\n",
       "5     7\n",
       "Name: bloom, dtype: int64"
      ]
     },
     "execution_count": 233,
     "metadata": {},
     "output_type": "execute_result"
    }
   ],
   "source": [
    "# Count the number of periods in each bloom description\n",
    "\n",
    "df.bloom.str.count(\"\\.\")"
   ]
  },
  {
   "cell_type": "markdown",
   "metadata": {},
   "source": [
    "\n",
    "\n",
    "<p style=\"background-color:#FFFFFF; font-family:newtimeroman; color:#0000FF; font-size:110%; text-align:left;\"><strong>-----------------------------------------------------------------------------------------------------------------------------------------------------------------------------------------------</strong></p>\n",
    "\n"
   ]
  },
  {
   "cell_type": "markdown",
   "metadata": {},
   "source": [
    "## <p style=\"background-color:#FFFFFF; font-family:newtimeroman; color:#0000FF; font-size:120%; text-align:left;\"><strong>pandas.Series.str.replace(pat, repl, n=- 1, case=None, flags=0, regex=None)</strong></p>\n",
    "\n",
    "\n",
    "- Replace each occurrence of pattern/regex in the Series/Index.\n",
    "\n",
    "- Equivalent to str.replace() or re.sub(), depending on the regex value."
   ]
  },
  {
   "cell_type": "markdown",
   "metadata": {},
   "source": [
    "### Replace the values finding between the two \"#\" characters (including \"#\" characters) with the \"\" in each row of \"bloom\" feature.\n",
    "\n",
    "- **The following ``str.replace()`` method removes substrings that match a specific pattern from the bloom column of the DataFrame.**\n",
    "  - In this case, the pattern \"#\\S+#\" matches any sequence of characters that starts and ends with a #, including non-whitespace characters in between."
   ]
  },
  {
   "cell_type": "code",
   "execution_count": 234,
   "metadata": {},
   "outputs": [
    {
     "data": {
      "text/plain": [
       "'White, blush shading.  Mild, wild rose fragrance #AGHJS876IOP#.  20 to 25 petals.  Average diameter 1.25\".  Small, very double, cluster-flowered bloom form.  Blooms in flushes throughout the season.'"
      ]
     },
     "metadata": {},
     "output_type": "display_data"
    }
   ],
   "source": [
    "display(df[\"bloom\"][5])\n",
    "\n",
    "# Remove substrings that match the pattern \"#\\S+#\" and assign it to itself\n",
    "\n",
    "df[\"bloom\"] = df.bloom.str.replace(\"#\\S+#\", \"\", regex=True)"
   ]
  },
  {
   "cell_type": "markdown",
   "metadata": {},
   "source": [
    "- This replaces any substring that matches the pattern **``#\\S+#``** (i.e., a **``# followed by one or more non-whitespace characters, followed by another #``**) with an empty string.\n",
    "- The **``regex=True``** argument specifies that the **``pattern should be interpreted as a regular expression``**.\n",
    "\n",
    "<p style=\"background-color:#FFFFFF; font-family:newtimeroman; color:#0000FF; font-size:110%; text-align:left;\"><strong>-----------------------------------------------------------------------------------------------------------------------------------------------------------------------------------------------</strong></p>\n",
    "\n"
   ]
  },
  {
   "cell_type": "code",
   "execution_count": 235,
   "metadata": {},
   "outputs": [
    {
     "data": {
      "text/plain": [
       "'White, blush shading.  Mild, wild rose fragrance .  20 to 25 petals.  Average diameter 1.25\".  Small, very double, cluster-flowered bloom form.  Blooms in flushes throughout the season.'"
      ]
     },
     "execution_count": 235,
     "metadata": {},
     "output_type": "execute_result"
    }
   ],
   "source": [
    "# Display the updated DataFrame\n",
    "\n",
    "df[\"bloom\"][5]"
   ]
  },
  {
   "cell_type": "markdown",
   "metadata": {},
   "source": [
    "\n",
    "\n",
    "<p style=\"background-color:#FFFFFF; font-family:newtimeroman; color:#0000FF; font-size:110%; text-align:left;\"><strong>-----------------------------------------------------------------------------------------------------------------------------------------------------------------------------------------------</strong></p>\n",
    "\n"
   ]
  },
  {
   "cell_type": "markdown",
   "metadata": {},
   "source": [
    "## <p style=\"background-color:#FFFFFF; font-family:newtimeroman; color:#0000FF; font-size:120%; text-align:left;\"><strong>pandas.Series.str.contains(pat, case=True, flags=0, na=None, regex=True)</strong></p>\n",
    "\n",
    "\n",
    "- Test if pattern or regex is contained within a string of a Series or Index.\n",
    "\n",
    "- Return boolean Series or Index based on whether a given pattern or regex is contained within a string of a Series or Index."
   ]
  },
  {
   "cell_type": "markdown",
   "metadata": {},
   "source": [
    "### Which rows in \"bloom\" feature includes \"diameter\" value?\n",
    "\n",
    "- **The following str.contains() method checks which entries in the bloom column of the DataFrame contain the word \"diameter\".**\n",
    "  - This method returns a boolean Series indicating whether each entry contains the specified substring."
   ]
  },
  {
   "cell_type": "code",
   "execution_count": 236,
   "metadata": {},
   "outputs": [
    {
     "data": {
      "text/plain": [
       "0    False\n",
       "1     True\n",
       "2    False\n",
       "3    False\n",
       "4     True\n",
       "5     True\n",
       "Name: bloom, dtype: bool"
      ]
     },
     "execution_count": 236,
     "metadata": {},
     "output_type": "execute_result"
    }
   ],
   "source": [
    "# Check which bloom descriptions contain the word \"diameter\"\n",
    "\n",
    "df[\"bloom\"].str.contains(\"diameter\", case=False)"
   ]
  },
  {
   "cell_type": "code",
   "execution_count": 238,
   "metadata": {},
   "outputs": [
    {
     "data": {
      "text/plain": [
       "0                                                                                      Carmine-pink, salmon-pink streaks, stripes, flecks.  Warm pink, clear carmine pink, rose pink shaded salmon.  Mild fragrance.  Large, very double, in small clusters, high-centered bloom form.  Blooms in flushes throughout the season.\n",
       "1                                                                                                                                         Red.  Flowers velvety red.   Moderate fragrance.  Average diameter 4\".  Medium-large, full (26-40 petals), borne mostly solitary bloom form.  Blooms in flushes throughout the season.\n",
       "2                                                                                                                                                                                                                            Orange-pink.  75 petals.  Large, very double  bloom form.  Blooms in flushes throughout the season.\n",
       "3                                                                                                                                                                   White or white blend.  None to mild fragrance.  35 petals .  Large, full (26-40 petals), high-centered bloom form.  Blooms in flushes throughout the season.\n",
       "4    Light pink. [Deep pink.]  Outer petals white. Expand rarely .  Mild fragrance.  35 to 40 petals.  Average diameter 2.5\".  Medium, double (17-25 petals), full (26-40 petals), cluster-flowered, in small clusters bloom form.  Prolific, once-blooming spring or summer.  Glandular sepals, leafy sepals, long sepals buds.\n",
       "5                                                                                                                                      White, blush shading.  Mild, wild rose fragrance .  20 to 25 petals.  Average diameter 1.25\".  Small, very double, cluster-flowered bloom form.  Blooms in flushes throughout the season.\n",
       "Name: bloom, dtype: object"
      ]
     },
     "execution_count": 238,
     "metadata": {},
     "output_type": "execute_result"
    }
   ],
   "source": [
    "df[\"bloom\"]"
   ]
  },
  {
   "cell_type": "markdown",
   "metadata": {},
   "source": [
    "- This checks each string in the bloom column to see if it contains the substring \"diameter\".\n",
    "- The **``case=False``** argument makes the search **``case-insensitive``**, so it will match \"Diameter\", \"DIAMETER\", etc.\n",
    "\n",
    "<p style=\"background-color:#FFFFFF; font-family:newtimeroman; color:#0000FF; font-size:110%; text-align:left;\"><strong>-----------------------------------------------------------------------------------------------------------------------------------------------------------------------------------------------</strong></p>\n",
    "\n",
    "**The following checks which entries in the bloom column of the DataFrame contain a pattern that matches a ``digit followed by a double quote (\")``.**"
   ]
  },
  {
   "cell_type": "code",
   "execution_count": 241,
   "metadata": {},
   "outputs": [
    {
     "data": {
      "text/plain": [
       "0    False\n",
       "1     True\n",
       "2    False\n",
       "3    False\n",
       "4     True\n",
       "5     True\n",
       "Name: bloom, dtype: bool"
      ]
     },
     "execution_count": 241,
     "metadata": {},
     "output_type": "execute_result"
    }
   ],
   "source": [
    "# Check which bloom descriptions contain a digit followed by a double quote\n",
    "\n",
    "df[\"bloom\"].str.contains('\\d+\"')"
   ]
  },
  {
   "cell_type": "markdown",
   "metadata": {},
   "source": [
    "- This checks each string in the bloom column to see if it contains one or more digits (\\d+) followed by a double quote (\").\n",
    "  - If the r was used before the string, it would indicate that it's a raw string, which treats backslashes as literal characters, making it easier to write regex patterns.\n",
    "\n",
    "<p style=\"background-color:#FFFFFF; font-family:newtimeroman; color:#0000FF; font-size:110%; text-align:left;\"><strong>-----------------------------------------------------------------------------------------------------------------------------------------------------------------------------------------------</strong></p>\n",
    "\n"
   ]
  },
  {
   "cell_type": "code",
   "execution_count": 240,
   "metadata": {},
   "outputs": [
    {
     "data": {
      "text/html": [
       "<div>\n",
       "<style scoped>\n",
       "    .dataframe tbody tr th:only-of-type {\n",
       "        vertical-align: middle;\n",
       "    }\n",
       "\n",
       "    .dataframe tbody tr th {\n",
       "        vertical-align: top;\n",
       "    }\n",
       "\n",
       "    .dataframe thead th {\n",
       "        text-align: right;\n",
       "    }\n",
       "</style>\n",
       "<table border=\"1\" class=\"dataframe\">\n",
       "  <thead>\n",
       "    <tr style=\"text-align: right;\">\n",
       "      <th></th>\n",
       "      <th>name</th>\n",
       "      <th>bloom</th>\n",
       "    </tr>\n",
       "  </thead>\n",
       "  <tbody>\n",
       "    <tr>\n",
       "      <th>1</th>\n",
       "      <td>Every Good Gift</td>\n",
       "      <td>Red.  Flowers velvety red.   Moderate fragrance.  Average diameter 4\".  Medium-large, full (26-40 petals), borne mostly solitary bloom form.  Blooms in flushes throughout the season.</td>\n",
       "    </tr>\n",
       "    <tr>\n",
       "      <th>4</th>\n",
       "      <td>Evrathin</td>\n",
       "      <td>Light pink. [Deep pink.]  Outer petals white. Expand rarely .  Mild fragrance.  35 to 40 petals.  Average diameter 2.5\".  Medium, double (17-25 petals), full (26-40 petals), cluster-flowered, in small clusters bloom form.  Prolific, once-blooming spring or summer.  Glandular sepals, leafy sepals, long sepals buds.</td>\n",
       "    </tr>\n",
       "    <tr>\n",
       "      <th>5</th>\n",
       "      <td>Evita 2</td>\n",
       "      <td>White, blush shading.  Mild, wild rose fragrance .  20 to 25 petals.  Average diameter 1.25\".  Small, very double, cluster-flowered bloom form.  Blooms in flushes throughout the season.</td>\n",
       "    </tr>\n",
       "  </tbody>\n",
       "</table>\n",
       "</div>"
      ],
      "text/plain": [
       "              name  \\\n",
       "1  Every Good Gift   \n",
       "4         Evrathin   \n",
       "5          Evita 2   \n",
       "\n",
       "                                                                                                                                                                                                                                                                                                                         bloom  \n",
       "1                                                                                                                                       Red.  Flowers velvety red.   Moderate fragrance.  Average diameter 4\".  Medium-large, full (26-40 petals), borne mostly solitary bloom form.  Blooms in flushes throughout the season.  \n",
       "4  Light pink. [Deep pink.]  Outer petals white. Expand rarely .  Mild fragrance.  35 to 40 petals.  Average diameter 2.5\".  Medium, double (17-25 petals), full (26-40 petals), cluster-flowered, in small clusters bloom form.  Prolific, once-blooming spring or summer.  Glandular sepals, leafy sepals, long sepals buds.  \n",
       "5                                                                                                                                    White, blush shading.  Mild, wild rose fragrance .  20 to 25 petals.  Average diameter 1.25\".  Small, very double, cluster-flowered bloom form.  Blooms in flushes throughout the season.  "
      ]
     },
     "execution_count": 240,
     "metadata": {},
     "output_type": "execute_result"
    }
   ],
   "source": [
    "# Display the output as DataFrame format\n",
    "\n",
    "df[df[\"bloom\"].str.contains('\\d+\"')]"
   ]
  },
  {
   "cell_type": "markdown",
   "metadata": {},
   "source": [
    "\n",
    "\n",
    "<p style=\"background-color:#FFFFFF; font-family:newtimeroman; color:#0000FF; font-size:110%; text-align:left;\"><strong>-----------------------------------------------------------------------------------------------------------------------------------------------------------------------------------------------</strong></p>\n",
    "\n"
   ]
  },
  {
   "cell_type": "markdown",
   "metadata": {},
   "source": [
    "## <p style=\"background-color:#FFFFFF; font-family:newtimeroman; color:#0000FF; font-size:120%; text-align:left;\"><strong>pandas.Series.str.findall(pat, flags=0)</strong></p>\n",
    "\n",
    "\n",
    "- Find all occurrences of pattern or regular expression in the Series/Index.\n",
    "\n",
    "- Equivalent to applying re.findall() to all the elements in the Series/Index."
   ]
  },
  {
   "cell_type": "markdown",
   "metadata": {},
   "source": [
    "### Find all numeric values in each rows of the \"bloom\" feature:\n",
    "\n",
    "- **The following str.findall() method extracts all occurrences of one or more digits from each entry in the bloom column of the DataFrame. This method returns a list of all matches found in each string.**"
   ]
  },
  {
   "cell_type": "code",
   "execution_count": 242,
   "metadata": {},
   "outputs": [
    {
     "data": {
      "text/plain": [
       "0                                []\n",
       "1                       [4, 26, 40]\n",
       "2                              [75]\n",
       "3                      [35, 26, 40]\n",
       "4    [35, 40, 2, 5, 17, 25, 26, 40]\n",
       "5                   [20, 25, 1, 25]\n",
       "Name: bloom, dtype: object"
      ]
     },
     "execution_count": 242,
     "metadata": {},
     "output_type": "execute_result"
    }
   ],
   "source": [
    "# Find all occurrences of digits in each bloom description\n",
    "\n",
    "df[\"bloom\"].str.findall(\"\\d+\")"
   ]
  },
  {
   "cell_type": "markdown",
   "metadata": {},
   "source": [
    "- This extracts **``all sequences of one or more digits``** from each string in the bloom column.\n",
    "- The result is a Series where each entry is a list of strings representing the digit sequences found in the corresponding bloom description.\n",
    "\n",
    "<p style=\"background-color:#FFFFFF; font-family:newtimeroman; color:#0000FF; font-size:110%; text-align:left;\"><strong>-----------------------------------------------------------------------------------------------------------------------------------------------------------------------------------------------</strong></p>\n",
    "\n",
    "### Find diameter values in each rows of the \"bloom\" feature:\n",
    "\n",
    "- **The following str.findall() method extracts ``both numbers with decimal points and numbers followed by a double quote`` from each entry in the bloom column of the DataFrame.**"
   ]
  },
  {
   "cell_type": "code",
   "execution_count": 243,
   "metadata": {},
   "outputs": [
    {
     "data": {
      "text/plain": [
       "0         []\n",
       "1       [4\"]\n",
       "2         []\n",
       "3         []\n",
       "4     [2.5\"]\n",
       "5    [1.25\"]\n",
       "Name: bloom, dtype: object"
      ]
     },
     "execution_count": 243,
     "metadata": {},
     "output_type": "execute_result"
    }
   ],
   "source": [
    "# Find all occurrences of numbers with decimal points and numbers followed by a double quote\n",
    "\n",
    "df[\"bloom\"].str.findall('\\d+\\.\\d+\"|\\d+\"')"
   ]
  },
  {
   "cell_type": "markdown",
   "metadata": {},
   "source": [
    "- This extracts all sequences that match either a number with decimals followed by a double quote or a whole number followed by a double quote from each string in the bloom column.\n",
    "- The result is a Series where each entry is a list of strings representing the matches found in the corresponding bloom description.\n",
    "\n",
    "<p style=\"background-color:#FFFFFF; font-family:newtimeroman; color:#0000FF; font-size:110%; text-align:left;\"><strong>-----------------------------------------------------------------------------------------------------------------------------------------------------------------------------------------------</strong></p>\n",
    "\n",
    "\n",
    "- The regex pattern **``'\\d+\\.\\d+\"|\\d+\"'``** matches either:\n",
    " - **``\\d+\\.\\d+\"``**: One or more digits, followed by a decimal point, followed by one or more digits, and ending with a double quote.\n",
    " - **``\\d+\"``**: One or more digits followed by a double quote.\n",
    " \n",
    "\n",
    "\n",
    "<p style=\"background-color:#FFFFFF; font-family:newtimeroman; color:#0000FF; font-size:110%; text-align:left;\"><strong>-----------------------------------------------------------------------------------------------------------------------------------------------------------------------------------------------</strong></p>\n",
    "\n"
   ]
  },
  {
   "cell_type": "markdown",
   "metadata": {},
   "source": [
    "## <p style=\"background-color:#FFFFFF; font-family:newtimeroman; color:#0000FF; font-size:120%; text-align:left;\"><strong>pandas.Series.str.match(pat, case=True, flags=0, na=None)</strong></p>\n",
    "\n",
    "\n",
    "- Determine if each string starts with a match of a regular expression."
   ]
  },
  {
   "cell_type": "markdown",
   "metadata": {},
   "source": [
    "### Find the rows of pink blooms (this information is available in the first words of the rows):\n",
    "\n",
    "- **The following str.match() method checks if each entry in the bloom column of the DataFrame starts with a string that matches the specified pattern.**\n",
    "  - In this case, we're looking for entries that either **``contain \"pink\"``**, **``end with \"-pink\"``**, or **``have \"pink\" preceded by a word``**."
   ]
  },
  {
   "cell_type": "code",
   "execution_count": 244,
   "metadata": {},
   "outputs": [
    {
     "data": {
      "text/plain": [
       "0                                                                                      Carmine-pink, salmon-pink streaks, stripes, flecks.  Warm pink, clear carmine pink, rose pink shaded salmon.  Mild fragrance.  Large, very double, in small clusters, high-centered bloom form.  Blooms in flushes throughout the season.\n",
       "1                                                                                                                                         Red.  Flowers velvety red.   Moderate fragrance.  Average diameter 4\".  Medium-large, full (26-40 petals), borne mostly solitary bloom form.  Blooms in flushes throughout the season.\n",
       "2                                                                                                                                                                                                                            Orange-pink.  75 petals.  Large, very double  bloom form.  Blooms in flushes throughout the season.\n",
       "3                                                                                                                                                                   White or white blend.  None to mild fragrance.  35 petals .  Large, full (26-40 petals), high-centered bloom form.  Blooms in flushes throughout the season.\n",
       "4    Light pink. [Deep pink.]  Outer petals white. Expand rarely .  Mild fragrance.  35 to 40 petals.  Average diameter 2.5\".  Medium, double (17-25 petals), full (26-40 petals), cluster-flowered, in small clusters bloom form.  Prolific, once-blooming spring or summer.  Glandular sepals, leafy sepals, long sepals buds.\n",
       "5                                                                                                                                      White, blush shading.  Mild, wild rose fragrance .  20 to 25 petals.  Average diameter 1.25\".  Small, very double, cluster-flowered bloom form.  Blooms in flushes throughout the season.\n",
       "Name: bloom, dtype: object"
      ]
     },
     "execution_count": 244,
     "metadata": {},
     "output_type": "execute_result"
    }
   ],
   "source": [
    "df[\"bloom\"]"
   ]
  },
  {
   "cell_type": "code",
   "execution_count": 245,
   "metadata": {},
   "outputs": [
    {
     "data": {
      "text/plain": [
       "0     True\n",
       "1    False\n",
       "2     True\n",
       "3    False\n",
       "4     True\n",
       "5    False\n",
       "Name: bloom, dtype: bool"
      ]
     },
     "execution_count": 245,
     "metadata": {},
     "output_type": "execute_result"
    }
   ],
   "source": [
    "# Check if each bloom description matches the pattern\n",
    "\n",
    "df[\"bloom\"].str.match(\"pink|\\w+-pink|\\w+ pink\")"
   ]
  },
  {
   "cell_type": "markdown",
   "metadata": {},
   "source": [
    "- This checks for the presence of \"pink\", a word followed by \"-pink\", or a word followed by \"pink\" anywhere in the string.\n",
    "\n",
    "<p style=\"background-color:#FFFFFF; font-family:newtimeroman; color:#0000FF; font-size:110%; text-align:left;\"><strong>-----------------------------------------------------------------------------------------------------------------------------------------------------------------------------------------------</strong></p>\n",
    "\n",
    "- **The following str.match() method checks if each entry in the specified Series matches a regex pattern from the start of the string.**\n",
    "\n",
    "<p style=\"background-color:#FFFFFF; font-family:newtimeroman; color:#FF0000; font-size:115%; text-align:left;\"><strong>REMEMBER!!!</strong></p>\n",
    "\n",
    "  - 👉 **``str.match(pattern)``**: This method checks if the string **``matches the pattern starting from the beginning``**. The pattern **``(\"pink|\\w+-pink|\\w+ pink\")``** will **``only match if the string starts with \"pink\", a word followed by \"-pink\", or a word followed by \"pink\"``**."
   ]
  },
  {
   "cell_type": "code",
   "execution_count": 246,
   "metadata": {},
   "outputs": [
    {
     "data": {
      "text/plain": [
       "0     True\n",
       "1    False\n",
       "2     True\n",
       "3    False\n",
       "4     True\n",
       "5    False\n",
       "Name: bloom, dtype: bool"
      ]
     },
     "execution_count": 246,
     "metadata": {},
     "output_type": "execute_result"
    }
   ],
   "source": [
    "# Check if each bloom description matches the pattern\n",
    "\n",
    "df[\"bloom\"].str.match(\"pink|\\w+-pink|\\w+ pink\")"
   ]
  },
  {
   "cell_type": "markdown",
   "metadata": {},
   "source": [
    "- **``str.match()``** is indeed used for checking matches **``starting from the beginning of the string``**.\n",
    "- If we want to check for any occurrence of the pattern **``anywhere in the string``**, we would **``use str.contains()``** instead.\n",
    "\n",
    "<p style=\"background-color:#FFFFFF; font-family:newtimeroman; color:#0000FF; font-size:110%; text-align:left;\"><strong>-----------------------------------------------------------------------------------------------------------------------------------------------------------------------------------------------</strong></p>\n",
    "\n",
    "**The following str.match() method checks if each entry in the bloom column starts with the word \"pink\" or has a word followed by either \"-pink\" or \" pink\".**"
   ]
  },
  {
   "cell_type": "code",
   "execution_count": 247,
   "metadata": {},
   "outputs": [
    {
     "data": {
      "text/plain": [
       "0     True\n",
       "1    False\n",
       "2     True\n",
       "3    False\n",
       "4     True\n",
       "5    False\n",
       "Name: bloom, dtype: bool"
      ]
     },
     "execution_count": 247,
     "metadata": {},
     "output_type": "execute_result"
    }
   ],
   "source": [
    "# Check if each bloom description matches the pattern\n",
    "\n",
    "df[\"bloom\"].str.match(\"pink|\\w+[- ]?pink\")"
   ]
  },
  {
   "cell_type": "markdown",
   "metadata": {},
   "source": [
    "- **``df['bloom'].str.match(r\"pink|\\w+[- ]?pink\")``**:\n",
    "  - **``pink``**: Matches if the string starts with \"pink\".\n",
    "  - **``\\w+[- ]?pink``**: Matches if the string starts with a word followed by either \"-pink\" or \" pink\". The **``[- ]?``** part means it will match **``either a hyphen or a space (or none) before \"pink\"``**.\n",
    "\n",
    "<p style=\"background-color:#FFFFFF; font-family:newtimeroman; color:#0000FF; font-size:110%; text-align:left;\"><strong>-----------------------------------------------------------------------------------------------------------------------------------------------------------------------------------------------</strong></p>\n",
    "\n",
    "**The following expression checks if each entry in the bloom column ``contains at least one character followed by the word \"pink\" at the start of the string``. The ``.+`` means ``\"one or more of any character\"``.**"
   ]
  },
  {
   "cell_type": "code",
   "execution_count": 248,
   "metadata": {},
   "outputs": [
    {
     "data": {
      "text/plain": [
       "0     True\n",
       "1    False\n",
       "2     True\n",
       "3    False\n",
       "4     True\n",
       "5    False\n",
       "Name: bloom, dtype: bool"
      ]
     },
     "execution_count": 248,
     "metadata": {},
     "output_type": "execute_result"
    }
   ],
   "source": [
    "# Check if each bloom description matches the pattern\n",
    "\n",
    "df[\"bloom\"].str.match(\".+pink\")"
   ]
  },
  {
   "cell_type": "markdown",
   "metadata": {},
   "source": [
    "- This checks if each string **``starts with at least one character followed by \"pink\"``**.\n",
    "- If the string starts directly with \"pink\" or any other characters before \"pink\", it will match.\n",
    "\n",
    "<p style=\"background-color:#FFFFFF; font-family:newtimeroman; color:#0000FF; font-size:110%; text-align:left;\"><strong>-----------------------------------------------------------------------------------------------------------------------------------------------------------------------------------------------</strong></p>\n",
    "\n"
   ]
  },
  {
   "cell_type": "markdown",
   "metadata": {},
   "source": [
    "## <p style=\"background-color:#FFFFFF; font-family:newtimeroman; color:#0000FF; font-size:120%; text-align:left;\"><strong>pandas.Series.str.split(pat=None, n=- 1, expand=False, *, regex=None)</strong></p>\n",
    "\n",
    "\n",
    "- Split strings around given separator/delimiter.\n",
    "\n",
    "- Splits the string in the Series/Index from the beginning, at the specified delimiter string."
   ]
  },
  {
   "cell_type": "markdown",
   "metadata": {},
   "source": [
    "### Split each rows of \"bloom\" feature from the dot character as sentences:\n",
    "\n",
    "- **The following str.split() method splits the entries in the bloom column of the DataFrame by a specified delimiter.**\n",
    "  - In this case, we're splitting by the string **``\". \"``** (**``a period followed by a space``**), which is often used to separate sentences."
   ]
  },
  {
   "cell_type": "code",
   "execution_count": 249,
   "metadata": {},
   "outputs": [
    {
     "data": {
      "text/plain": [
       "0                                                                                      [Carmine-pink, salmon-pink streaks, stripes, flecks,  Warm pink, clear carmine pink, rose pink shaded salmon,  Mild fragrance,  Large, very double, in small clusters, high-centered bloom form,  Blooms in flushes throughout the season.]\n",
       "1                                                                                                                                         [Red,  Flowers velvety red,   Moderate fragrance,  Average diameter 4\",  Medium-large, full (26-40 petals), borne mostly solitary bloom form,  Blooms in flushes throughout the season.]\n",
       "2                                                                                                                                                                                                                            [Orange-pink,  75 petals,  Large, very double  bloom form,  Blooms in flushes throughout the season.]\n",
       "3                                                                                                                                                                   [White or white blend,  None to mild fragrance,  35 petals ,  Large, full (26-40 petals), high-centered bloom form,  Blooms in flushes throughout the season.]\n",
       "4    [Light pink, [Deep pink.]  Outer petals white, Expand rarely ,  Mild fragrance,  35 to 40 petals,  Average diameter 2.5\",  Medium, double (17-25 petals), full (26-40 petals), cluster-flowered, in small clusters bloom form,  Prolific, once-blooming spring or summer,  Glandular sepals, leafy sepals, long sepals buds.]\n",
       "5                                                                                                                                      [White, blush shading,  Mild, wild rose fragrance ,  20 to 25 petals,  Average diameter 1.25\",  Small, very double, cluster-flowered bloom form,  Blooms in flushes throughout the season.]\n",
       "Name: bloom, dtype: object"
      ]
     },
     "execution_count": 249,
     "metadata": {},
     "output_type": "execute_result"
    }
   ],
   "source": [
    "# Split each bloom description by \". \"\n",
    "\n",
    "df[\"bloom\"].str.split(\"\\. \")"
   ]
  },
  {
   "cell_type": "markdown",
   "metadata": {},
   "source": [
    "- This splits each string in the bloom column at each occurrence of the delimiter **``\". \"``** (**``period followed by a space``**).\n",
    "- The result is a Series where each entry is a list of sentences extracted from the original string.\n",
    "\n",
    "<p style=\"background-color:#FFFFFF; font-family:newtimeroman; color:#0000FF; font-size:110%; text-align:left;\"><strong>-----------------------------------------------------------------------------------------------------------------------------------------------------------------------------------------------</strong></p>\n",
    "\n",
    "**The following expression splits the entries in the bloom column by the ``delimiter \". \"`` (``a period followed by a space``) and ``expands the result into separate columns``.**\n",
    "- This is useful when we want to **``create a DataFrame where each sentence from the original string occupies its own column``**."
   ]
  },
  {
   "cell_type": "code",
   "execution_count": 250,
   "metadata": {},
   "outputs": [
    {
     "data": {
      "text/html": [
       "<div>\n",
       "<style scoped>\n",
       "    .dataframe tbody tr th:only-of-type {\n",
       "        vertical-align: middle;\n",
       "    }\n",
       "\n",
       "    .dataframe tbody tr th {\n",
       "        vertical-align: top;\n",
       "    }\n",
       "\n",
       "    .dataframe thead th {\n",
       "        text-align: right;\n",
       "    }\n",
       "</style>\n",
       "<table border=\"1\" class=\"dataframe\">\n",
       "  <thead>\n",
       "    <tr style=\"text-align: right;\">\n",
       "      <th></th>\n",
       "      <th>0</th>\n",
       "      <th>1</th>\n",
       "      <th>2</th>\n",
       "      <th>3</th>\n",
       "      <th>4</th>\n",
       "      <th>5</th>\n",
       "      <th>6</th>\n",
       "      <th>7</th>\n",
       "      <th>8</th>\n",
       "    </tr>\n",
       "  </thead>\n",
       "  <tbody>\n",
       "    <tr>\n",
       "      <th>0</th>\n",
       "      <td>Carmine-pink, salmon-pink streaks, stripes, flecks</td>\n",
       "      <td>Warm pink, clear carmine pink, rose pink shaded salmon</td>\n",
       "      <td>Mild fragrance</td>\n",
       "      <td>Large, very double, in small clusters, high-centered bloom form</td>\n",
       "      <td>Blooms in flushes throughout the season.</td>\n",
       "      <td>None</td>\n",
       "      <td>None</td>\n",
       "      <td>None</td>\n",
       "      <td>None</td>\n",
       "    </tr>\n",
       "    <tr>\n",
       "      <th>1</th>\n",
       "      <td>Red</td>\n",
       "      <td>Flowers velvety red</td>\n",
       "      <td>Moderate fragrance</td>\n",
       "      <td>Average diameter 4\"</td>\n",
       "      <td>Medium-large, full (26-40 petals), borne mostly solitary bloom form</td>\n",
       "      <td>Blooms in flushes throughout the season.</td>\n",
       "      <td>None</td>\n",
       "      <td>None</td>\n",
       "      <td>None</td>\n",
       "    </tr>\n",
       "    <tr>\n",
       "      <th>2</th>\n",
       "      <td>Orange-pink</td>\n",
       "      <td>75 petals</td>\n",
       "      <td>Large, very double  bloom form</td>\n",
       "      <td>Blooms in flushes throughout the season.</td>\n",
       "      <td>None</td>\n",
       "      <td>None</td>\n",
       "      <td>None</td>\n",
       "      <td>None</td>\n",
       "      <td>None</td>\n",
       "    </tr>\n",
       "    <tr>\n",
       "      <th>3</th>\n",
       "      <td>White or white blend</td>\n",
       "      <td>None to mild fragrance</td>\n",
       "      <td>35 petals</td>\n",
       "      <td>Large, full (26-40 petals), high-centered bloom form</td>\n",
       "      <td>Blooms in flushes throughout the season.</td>\n",
       "      <td>None</td>\n",
       "      <td>None</td>\n",
       "      <td>None</td>\n",
       "      <td>None</td>\n",
       "    </tr>\n",
       "    <tr>\n",
       "      <th>4</th>\n",
       "      <td>Light pink</td>\n",
       "      <td>[Deep pink.]  Outer petals white</td>\n",
       "      <td>Expand rarely</td>\n",
       "      <td>Mild fragrance</td>\n",
       "      <td>35 to 40 petals</td>\n",
       "      <td>Average diameter 2.5\"</td>\n",
       "      <td>Medium, double (17-25 petals), full (26-40 petals), cluster-flowered, in small clusters bloom form</td>\n",
       "      <td>Prolific, once-blooming spring or summer</td>\n",
       "      <td>Glandular sepals, leafy sepals, long sepals buds.</td>\n",
       "    </tr>\n",
       "    <tr>\n",
       "      <th>5</th>\n",
       "      <td>White, blush shading</td>\n",
       "      <td>Mild, wild rose fragrance</td>\n",
       "      <td>20 to 25 petals</td>\n",
       "      <td>Average diameter 1.25\"</td>\n",
       "      <td>Small, very double, cluster-flowered bloom form</td>\n",
       "      <td>Blooms in flushes throughout the season.</td>\n",
       "      <td>None</td>\n",
       "      <td>None</td>\n",
       "      <td>None</td>\n",
       "    </tr>\n",
       "  </tbody>\n",
       "</table>\n",
       "</div>"
      ],
      "text/plain": [
       "                                                    0  \\\n",
       "0  Carmine-pink, salmon-pink streaks, stripes, flecks   \n",
       "1                                                 Red   \n",
       "2                                         Orange-pink   \n",
       "3                                White or white blend   \n",
       "4                                          Light pink   \n",
       "5                                White, blush shading   \n",
       "\n",
       "                                                         1  \\\n",
       "0   Warm pink, clear carmine pink, rose pink shaded salmon   \n",
       "1                                      Flowers velvety red   \n",
       "2                                                75 petals   \n",
       "3                                   None to mild fragrance   \n",
       "4                         [Deep pink.]  Outer petals white   \n",
       "5                               Mild, wild rose fragrance    \n",
       "\n",
       "                                 2  \\\n",
       "0                   Mild fragrance   \n",
       "1               Moderate fragrance   \n",
       "2   Large, very double  bloom form   \n",
       "3                       35 petals    \n",
       "4                   Expand rarely    \n",
       "5                  20 to 25 petals   \n",
       "\n",
       "                                                                  3  \\\n",
       "0   Large, very double, in small clusters, high-centered bloom form   \n",
       "1                                               Average diameter 4\"   \n",
       "2                          Blooms in flushes throughout the season.   \n",
       "3              Large, full (26-40 petals), high-centered bloom form   \n",
       "4                                                    Mild fragrance   \n",
       "5                                            Average diameter 1.25\"   \n",
       "\n",
       "                                                                      4  \\\n",
       "0                              Blooms in flushes throughout the season.   \n",
       "1   Medium-large, full (26-40 petals), borne mostly solitary bloom form   \n",
       "2                                                                  None   \n",
       "3                              Blooms in flushes throughout the season.   \n",
       "4                                                       35 to 40 petals   \n",
       "5                       Small, very double, cluster-flowered bloom form   \n",
       "\n",
       "                                           5  \\\n",
       "0                                       None   \n",
       "1   Blooms in flushes throughout the season.   \n",
       "2                                       None   \n",
       "3                                       None   \n",
       "4                      Average diameter 2.5\"   \n",
       "5   Blooms in flushes throughout the season.   \n",
       "\n",
       "                                                                                                     6  \\\n",
       "0                                                                                                 None   \n",
       "1                                                                                                 None   \n",
       "2                                                                                                 None   \n",
       "3                                                                                                 None   \n",
       "4   Medium, double (17-25 petals), full (26-40 petals), cluster-flowered, in small clusters bloom form   \n",
       "5                                                                                                 None   \n",
       "\n",
       "                                           7  \\\n",
       "0                                       None   \n",
       "1                                       None   \n",
       "2                                       None   \n",
       "3                                       None   \n",
       "4   Prolific, once-blooming spring or summer   \n",
       "5                                       None   \n",
       "\n",
       "                                                    8  \n",
       "0                                                None  \n",
       "1                                                None  \n",
       "2                                                None  \n",
       "3                                                None  \n",
       "4   Glandular sepals, leafy sepals, long sepals buds.  \n",
       "5                                                None  "
      ]
     },
     "execution_count": 250,
     "metadata": {},
     "output_type": "execute_result"
    }
   ],
   "source": [
    "# Split each bloom description by \". \", expanding into separate columns\n",
    "\n",
    "df[\"bloom\"].str.split(\"\\. \", expand=True)"
   ]
  },
  {
   "cell_type": "markdown",
   "metadata": {},
   "source": [
    "- This splits each entry in the bloom column at each occurrence of the delimiter \". \" and expands the result into separate columns.\n",
    "- The result is a DataFrame where each sentence is placed in its own column.\n",
    "- If there are fewer sentences in some entries than in others, the resulting DataFrame will have NaN or NoNe values in the empty cells.\n",
    "\n",
    "<p style=\"background-color:#FFFFFF; font-family:newtimeroman; color:#0000FF; font-size:110%; text-align:left;\"><strong>-----------------------------------------------------------------------------------------------------------------------------------------------------------------------------------------------</strong></p>\n",
    "\n",
    "<p style=\"background-color:#FFFFFF; font-family:newtimeroman; color:#008000; font-size:125%; text-align:left;\"><strong>📌 EXTRA EXAMPLE ON SPLIT:</strong></p>\n",
    "\n",
    "\n",
    "**The following statement creates a pandas Series from the list info and then parse the information to extract individual fields like id, age, and salary.**\n",
    "- Below is an example of how to create a Series and then split the strings into a DataFrame for easier analysis."
   ]
  },
  {
   "cell_type": "code",
   "execution_count": 251,
   "metadata": {},
   "outputs": [
    {
     "data": {
      "text/plain": [
       "0    id:345, age:25, salary:1200\n",
       "1    id:346, age:32, salary:1500\n",
       "2    id:347, age:28, salary:1400\n",
       "dtype: object"
      ]
     },
     "execution_count": 251,
     "metadata": {},
     "output_type": "execute_result"
    }
   ],
   "source": [
    "# Sample data\n",
    "info = [\"id:345, age:25, salary:1200\", \"id:346, age:32, salary:1500\", \"id:347, age:28, salary:1400\"]\n",
    "\n",
    "# Create a pandas Series\n",
    "s = pd.Series(info)\n",
    "\n",
    "# Display the Series\n",
    "s"
   ]
  },
  {
   "cell_type": "markdown",
   "metadata": {},
   "source": [
    "\n",
    "\n",
    "<p style=\"background-color:#FFFFFF; font-family:newtimeroman; color:#0000FF; font-size:110%; text-align:left;\"><strong>-----------------------------------------------------------------------------------------------------------------------------------------------------------------------------------------------</strong></p>\n",
    "\n"
   ]
  },
  {
   "cell_type": "markdown",
   "metadata": {},
   "source": [
    "### Split the Series to create a dataframe consisting of \"id, age and salary\" columns:"
   ]
  },
  {
   "cell_type": "code",
   "execution_count": 252,
   "metadata": {},
   "outputs": [
    {
     "data": {
      "text/html": [
       "<div>\n",
       "<style scoped>\n",
       "    .dataframe tbody tr th:only-of-type {\n",
       "        vertical-align: middle;\n",
       "    }\n",
       "\n",
       "    .dataframe tbody tr th {\n",
       "        vertical-align: top;\n",
       "    }\n",
       "\n",
       "    .dataframe thead th {\n",
       "        text-align: right;\n",
       "    }\n",
       "</style>\n",
       "<table border=\"1\" class=\"dataframe\">\n",
       "  <thead>\n",
       "    <tr style=\"text-align: right;\">\n",
       "      <th></th>\n",
       "      <th>0</th>\n",
       "      <th>1</th>\n",
       "      <th>2</th>\n",
       "      <th>3</th>\n",
       "    </tr>\n",
       "  </thead>\n",
       "  <tbody>\n",
       "    <tr>\n",
       "      <th>0</th>\n",
       "      <td></td>\n",
       "      <td>345</td>\n",
       "      <td>25</td>\n",
       "      <td>1200</td>\n",
       "    </tr>\n",
       "    <tr>\n",
       "      <th>1</th>\n",
       "      <td></td>\n",
       "      <td>346</td>\n",
       "      <td>32</td>\n",
       "      <td>1500</td>\n",
       "    </tr>\n",
       "    <tr>\n",
       "      <th>2</th>\n",
       "      <td></td>\n",
       "      <td>347</td>\n",
       "      <td>28</td>\n",
       "      <td>1400</td>\n",
       "    </tr>\n",
       "  </tbody>\n",
       "</table>\n",
       "</div>"
      ],
      "text/plain": [
       "  0    1   2     3\n",
       "0    345  25  1200\n",
       "1    346  32  1500\n",
       "2    347  28  1400"
      ]
     },
     "execution_count": 252,
     "metadata": {},
     "output_type": "execute_result"
    }
   ],
   "source": [
    "# Split the Series entries based on non-digit characters\n",
    "\n",
    "s.str.split(\"\\D+\", expand=True)"
   ]
  },
  {
   "cell_type": "markdown",
   "metadata": {},
   "source": [
    "- **``\\D+``** is a regex pattern that matches **``one or more non-digit characters``**.\n",
    "- The **``expand=True``** argument makes the result a DataFrame rather than a Series, with each extracted number in its own column.\n",
    "\n",
    "<p style=\"background-color:#FFFFFF; font-family:newtimeroman; color:#0000FF; font-size:110%; text-align:left;\"><strong>-----------------------------------------------------------------------------------------------------------------------------------------------------------------------------------------------</strong></p>\n",
    "\n",
    "<p style=\"background-color:#FFFFFF; font-family:newtimeroman; color:#FF0000; font-size:125%; text-align:left;\"><strong>🤔💭 Why is the first column empty❓</strong></p>\n",
    "\n",
    "- The first column is empty because the split occurs at the start of the string where there are non-digit characters (\"id:\"). When we use s.str.split(r\"\\D+\", expand=True), the regex \\D+ matches one or more non-digit characters. This means that the splitting will occur at every non-digit character, including the very start of the string if it begins with non-digits.\n",
    "- In our specific case, since the strings start with \"id:\", the split operation results in an empty string for the first column because there are no digits before the first non-digit characters.\n",
    "\n",
    "<p style=\"background-color:#FFFFFF; font-family:newtimeroman; color:#FF0000; font-size:125%; text-align:left;\"><strong>NOTE !!!</strong></p>\n",
    "\n",
    "- If there are multiple non-digit characters at the beginning of the strings or if the first segment is empty, the first column will likely contain NaN or empty strings.\n",
    "  - If we were to have strings that start with non-digit characters but do not contain any digits immediately after (e.g., \"id:,\" or \"age:,\"), then we would see empty strings or NaN in the first column.\n",
    "- We may want to convert the remaining columns to numeric types for further analysis using df.apply(pd.to_numeric) if needed.\n",
    "\n",
    "<p style=\"background-color:#FFFFFF; font-family:newtimeroman; color:#0000FF; font-size:110%; text-align:left;\"><strong>-----------------------------------------------------------------------------------------------------------------------------------------------------------------------------------------------</strong></p>\n",
    "\n",
    "**The following statement ``splits the Series s based on non-digit characters`` and then ``select all columns except the first one``.**\n",
    "- This effectively removes the first column, which may contain empty strings or unwanted data."
   ]
  },
  {
   "cell_type": "code",
   "execution_count": 253,
   "metadata": {},
   "outputs": [
    {
     "data": {
      "text/html": [
       "<div>\n",
       "<style scoped>\n",
       "    .dataframe tbody tr th:only-of-type {\n",
       "        vertical-align: middle;\n",
       "    }\n",
       "\n",
       "    .dataframe tbody tr th {\n",
       "        vertical-align: top;\n",
       "    }\n",
       "\n",
       "    .dataframe thead th {\n",
       "        text-align: right;\n",
       "    }\n",
       "</style>\n",
       "<table border=\"1\" class=\"dataframe\">\n",
       "  <thead>\n",
       "    <tr style=\"text-align: right;\">\n",
       "      <th></th>\n",
       "      <th>1</th>\n",
       "      <th>2</th>\n",
       "      <th>3</th>\n",
       "    </tr>\n",
       "  </thead>\n",
       "  <tbody>\n",
       "    <tr>\n",
       "      <th>0</th>\n",
       "      <td>345</td>\n",
       "      <td>25</td>\n",
       "      <td>1200</td>\n",
       "    </tr>\n",
       "    <tr>\n",
       "      <th>1</th>\n",
       "      <td>346</td>\n",
       "      <td>32</td>\n",
       "      <td>1500</td>\n",
       "    </tr>\n",
       "    <tr>\n",
       "      <th>2</th>\n",
       "      <td>347</td>\n",
       "      <td>28</td>\n",
       "      <td>1400</td>\n",
       "    </tr>\n",
       "  </tbody>\n",
       "</table>\n",
       "</div>"
      ],
      "text/plain": [
       "     1   2     3\n",
       "0  345  25  1200\n",
       "1  346  32  1500\n",
       "2  347  28  1400"
      ]
     },
     "execution_count": 253,
     "metadata": {},
     "output_type": "execute_result"
    }
   ],
   "source": [
    "# Split the Series entries based on non-digit characters and remove the first column\n",
    "df = s.str.split(\"\\D+\", expand=True).iloc[:, 1:]\n",
    "\n",
    "# Display the DataFrame\n",
    "df"
   ]
  },
  {
   "cell_type": "markdown",
   "metadata": {},
   "source": [
    "- **``s.str.split(r\"\\D+\", expand=True):``**\n",
    "  - This splits each string in the Series s based on non-digit characters, resulting in a DataFrame where each cell contains the numeric values extracted from the original strings.\n",
    "- **``.iloc[:, 1:]:``**\n",
    "  - This selects all rows and all columns from the second column onward (effectively removing the first column). This is useful if the first column contains empty strings or unwanted data.\n",
    "\n",
    "\n",
    "\n",
    "<p style=\"background-color:#FFFFFF; font-family:newtimeroman; color:#0000FF; font-size:110%; text-align:left;\"><strong>-----------------------------------------------------------------------------------------------------------------------------------------------------------------------------------------------</strong></p>\n",
    "\n",
    "**The following code renames the columns of the DataFrame to [\"id\", \"age\", \"salary\"] after removing the empty column.**"
   ]
  },
  {
   "cell_type": "code",
   "execution_count": 254,
   "metadata": {},
   "outputs": [
    {
     "data": {
      "text/html": [
       "<div>\n",
       "<style scoped>\n",
       "    .dataframe tbody tr th:only-of-type {\n",
       "        vertical-align: middle;\n",
       "    }\n",
       "\n",
       "    .dataframe tbody tr th {\n",
       "        vertical-align: top;\n",
       "    }\n",
       "\n",
       "    .dataframe thead th {\n",
       "        text-align: right;\n",
       "    }\n",
       "</style>\n",
       "<table border=\"1\" class=\"dataframe\">\n",
       "  <thead>\n",
       "    <tr style=\"text-align: right;\">\n",
       "      <th></th>\n",
       "      <th>id</th>\n",
       "      <th>age</th>\n",
       "      <th>salary</th>\n",
       "    </tr>\n",
       "  </thead>\n",
       "  <tbody>\n",
       "    <tr>\n",
       "      <th>0</th>\n",
       "      <td>345</td>\n",
       "      <td>25</td>\n",
       "      <td>1200</td>\n",
       "    </tr>\n",
       "    <tr>\n",
       "      <th>1</th>\n",
       "      <td>346</td>\n",
       "      <td>32</td>\n",
       "      <td>1500</td>\n",
       "    </tr>\n",
       "    <tr>\n",
       "      <th>2</th>\n",
       "      <td>347</td>\n",
       "      <td>28</td>\n",
       "      <td>1400</td>\n",
       "    </tr>\n",
       "  </tbody>\n",
       "</table>\n",
       "</div>"
      ],
      "text/plain": [
       "    id age salary\n",
       "0  345  25   1200\n",
       "1  346  32   1500\n",
       "2  347  28   1400"
      ]
     },
     "execution_count": 254,
     "metadata": {},
     "output_type": "execute_result"
    }
   ],
   "source": [
    "# Assign new column names\n",
    "df.columns = [\"id\", \"age\", \"salary\"]\n",
    "\n",
    "# Display the updated DataFrame\n",
    "df"
   ]
  },
  {
   "cell_type": "markdown",
   "metadata": {},
   "source": [
    "\n",
    "\n",
    "<p style=\"background-color:#FFFFFF; font-family:newtimeroman; color:#0000FF; font-size:110%; text-align:left;\"><strong>-----------------------------------------------------------------------------------------------------------------------------------------------------------------------------------------------</strong></p>\n",
    "\n"
   ]
  },
  {
   "cell_type": "markdown",
   "metadata": {},
   "source": [
    "## <p style=\"background-color:#FFFFFF; font-family:newtimeroman; color:#0000FF; font-size:120%; text-align:left;\"><strong>pandas.Series.str.extract(pat, flags=0, expand=True)</strong></p>\n",
    "\n",
    "\n",
    "- Extract capture groups in the regex pat as columns in a DataFrame.\n",
    "\n",
    "- For each subject string in the Series, extract groups from the first match of regular expression pat."
   ]
  },
  {
   "cell_type": "markdown",
   "metadata": {
    "id": "_1kItwoRdUjL"
   },
   "source": [
    "### Extract just numbers:\n",
    "\n",
    "- **The following code creates a pandas Series from the list ['a3aa', 'b4aa', 'c5aa'] as follows.**"
   ]
  },
  {
   "cell_type": "code",
   "execution_count": 255,
   "metadata": {
    "id": "-fhxFuwxdUjO"
   },
   "outputs": [
    {
     "data": {
      "text/plain": [
       "0    a3aa\n",
       "1    b4aa\n",
       "2    c5aa\n",
       "dtype: object"
      ]
     },
     "execution_count": 255,
     "metadata": {},
     "output_type": "execute_result"
    }
   ],
   "source": [
    "# Create a pandas Series\n",
    "s = pd.Series(['a3aa', 'b4aa', 'c5aa'])\n",
    "\n",
    "# Display the Series\n",
    "s"
   ]
  },
  {
   "cell_type": "markdown",
   "metadata": {},
   "source": [
    "\n",
    "\n",
    "<p style=\"background-color:#FFFFFF; font-family:newtimeroman; color:#0000FF; font-size:110%; text-align:left;\"><strong>-----------------------------------------------------------------------------------------------------------------------------------------------------------------------------------------------</strong></p>\n",
    "\n",
    "**The following code ``extracts the first digit`` from each string in the pandas Series s. The regex pattern ``(\\d) matches a single digit``.**"
   ]
  },
  {
   "cell_type": "code",
   "execution_count": 256,
   "metadata": {},
   "outputs": [
    {
     "data": {
      "text/html": [
       "<div>\n",
       "<style scoped>\n",
       "    .dataframe tbody tr th:only-of-type {\n",
       "        vertical-align: middle;\n",
       "    }\n",
       "\n",
       "    .dataframe tbody tr th {\n",
       "        vertical-align: top;\n",
       "    }\n",
       "\n",
       "    .dataframe thead th {\n",
       "        text-align: right;\n",
       "    }\n",
       "</style>\n",
       "<table border=\"1\" class=\"dataframe\">\n",
       "  <thead>\n",
       "    <tr style=\"text-align: right;\">\n",
       "      <th></th>\n",
       "      <th>0</th>\n",
       "    </tr>\n",
       "  </thead>\n",
       "  <tbody>\n",
       "    <tr>\n",
       "      <th>0</th>\n",
       "      <td>3</td>\n",
       "    </tr>\n",
       "    <tr>\n",
       "      <th>1</th>\n",
       "      <td>4</td>\n",
       "    </tr>\n",
       "    <tr>\n",
       "      <th>2</th>\n",
       "      <td>5</td>\n",
       "    </tr>\n",
       "  </tbody>\n",
       "</table>\n",
       "</div>"
      ],
      "text/plain": [
       "   0\n",
       "0  3\n",
       "1  4\n",
       "2  5"
      ]
     },
     "execution_count": 256,
     "metadata": {},
     "output_type": "execute_result"
    }
   ],
   "source": [
    "# Extract the first digit from each string\n",
    "\n",
    "s.str.extract(\"(\\d)\")"
   ]
  },
  {
   "cell_type": "markdown",
   "metadata": {},
   "source": [
    "- The pattern **``(\\d) captures the first occurrence of any digit``** in each string.\n",
    "- The result is a DataFrame where each entry contains the first digit found in the corresponding string from the Series.\n",
    "\n",
    "<p style=\"background-color:#FFFFFF; font-family:newtimeroman; color:#0000FF; font-size:110%; text-align:left;\"><strong>-----------------------------------------------------------------------------------------------------------------------------------------------------------------------------------------------</strong></p>\n",
    "\n",
    "### Extract just letters:\n",
    "\n",
    "\n",
    "- **The following code extracts patterns from each string in the pandas Series s where there is a ``non-digit character followed by a digit and then followed by one or more non-digit characters``.**"
   ]
  },
  {
   "cell_type": "code",
   "execution_count": 257,
   "metadata": {},
   "outputs": [
    {
     "data": {
      "text/html": [
       "<div>\n",
       "<style scoped>\n",
       "    .dataframe tbody tr th:only-of-type {\n",
       "        vertical-align: middle;\n",
       "    }\n",
       "\n",
       "    .dataframe tbody tr th {\n",
       "        vertical-align: top;\n",
       "    }\n",
       "\n",
       "    .dataframe thead th {\n",
       "        text-align: right;\n",
       "    }\n",
       "</style>\n",
       "<table border=\"1\" class=\"dataframe\">\n",
       "  <thead>\n",
       "    <tr style=\"text-align: right;\">\n",
       "      <th></th>\n",
       "      <th>0</th>\n",
       "      <th>1</th>\n",
       "    </tr>\n",
       "  </thead>\n",
       "  <tbody>\n",
       "    <tr>\n",
       "      <th>0</th>\n",
       "      <td>a</td>\n",
       "      <td>aa</td>\n",
       "    </tr>\n",
       "    <tr>\n",
       "      <th>1</th>\n",
       "      <td>b</td>\n",
       "      <td>aa</td>\n",
       "    </tr>\n",
       "    <tr>\n",
       "      <th>2</th>\n",
       "      <td>c</td>\n",
       "      <td>aa</td>\n",
       "    </tr>\n",
       "  </tbody>\n",
       "</table>\n",
       "</div>"
      ],
      "text/plain": [
       "   0   1\n",
       "0  a  aa\n",
       "1  b  aa\n",
       "2  c  aa"
      ]
     },
     "execution_count": 257,
     "metadata": {},
     "output_type": "execute_result"
    }
   ],
   "source": [
    "# Extract the pattern\n",
    "\n",
    "s.str.extract(\"(\\D)\\d(\\D+)\")"
   ]
  },
  {
   "cell_type": "markdown",
   "metadata": {},
   "source": [
    "- **``(\\D)``**: Captures a **``single non-digit character (the letter)``**.\n",
    "- **``(\\d)``**: Captures a **``single digit``**.\n",
    "- **``(\\D+)``**: Captures **``one or more non-digit characters that follow the digit``**.\n",
    "\n",
    "<p style=\"background-color:#FFFFFF; font-family:newtimeroman; color:#0000FF; font-size:110%; text-align:left;\"><strong>-----------------------------------------------------------------------------------------------------------------------------------------------------------------------------------------------</strong></p>\n",
    "\n",
    "- **The following code extracts patterns from each string in the pandas Series s where there is a ``non-digit character followed by a digit and then two additional non-digit characters``.**"
   ]
  },
  {
   "cell_type": "code",
   "execution_count": 258,
   "metadata": {},
   "outputs": [
    {
     "data": {
      "text/html": [
       "<div>\n",
       "<style scoped>\n",
       "    .dataframe tbody tr th:only-of-type {\n",
       "        vertical-align: middle;\n",
       "    }\n",
       "\n",
       "    .dataframe tbody tr th {\n",
       "        vertical-align: top;\n",
       "    }\n",
       "\n",
       "    .dataframe thead th {\n",
       "        text-align: right;\n",
       "    }\n",
       "</style>\n",
       "<table border=\"1\" class=\"dataframe\">\n",
       "  <thead>\n",
       "    <tr style=\"text-align: right;\">\n",
       "      <th></th>\n",
       "      <th>0</th>\n",
       "      <th>1</th>\n",
       "      <th>2</th>\n",
       "    </tr>\n",
       "  </thead>\n",
       "  <tbody>\n",
       "    <tr>\n",
       "      <th>0</th>\n",
       "      <td>a</td>\n",
       "      <td>a</td>\n",
       "      <td>a</td>\n",
       "    </tr>\n",
       "    <tr>\n",
       "      <th>1</th>\n",
       "      <td>b</td>\n",
       "      <td>a</td>\n",
       "      <td>a</td>\n",
       "    </tr>\n",
       "    <tr>\n",
       "      <th>2</th>\n",
       "      <td>c</td>\n",
       "      <td>a</td>\n",
       "      <td>a</td>\n",
       "    </tr>\n",
       "  </tbody>\n",
       "</table>\n",
       "</div>"
      ],
      "text/plain": [
       "   0  1  2\n",
       "0  a  a  a\n",
       "1  b  a  a\n",
       "2  c  a  a"
      ]
     },
     "execution_count": 258,
     "metadata": {},
     "output_type": "execute_result"
    }
   ],
   "source": [
    "# Extract the pattern\n",
    "\n",
    "s.str.extract(\"(\\D)\\d(\\D)(\\D)\")"
   ]
  },
  {
   "cell_type": "markdown",
   "metadata": {},
   "source": [
    "- **``Pattern Breakdown:``**\n",
    "  - **``(\\D)``**: Captures a **``single non-digit character (the letter)``**.\n",
    "  - **``(\\d)``**: Captures a **``single digit``**.\n",
    "  - **``(\\D)``**: Captures the **``first non-digit character following the digit``**.\n",
    "  - **``(\\D)``**: Captures the **``second non-digit character following the digit``**.\n",
    "- **``Resulting DataFrame:``**\n",
    "  - **``The resulting DataFrame will have four columns:``**\n",
    "    - The first column contains the initial non-digit character.\n",
    "    - The second column contains the digit.\n",
    "    - The third column contains the first non-digit character after the digit.\n",
    "    - The fourth column contains the second non-digit character after the digit.\n",
    "\n",
    "<p style=\"background-color:#FFFFFF; font-family:newtimeroman; color:#0000FF; font-size:110%; text-align:left;\"><strong>-----------------------------------------------------------------------------------------------------------------------------------------------------------------------------------------------</strong></p>\n",
    "\n",
    "- **The following code extracts patterns from each string in the pandas Series s where there is a ``word character (alphanumeric or underscore), followed by a digit, and then two additional word characters``.**"
   ]
  },
  {
   "cell_type": "code",
   "execution_count": 259,
   "metadata": {
    "colab": {
     "base_uri": "https://localhost:8080/",
     "height": 136
    },
    "id": "odmLNx8OPZx9",
    "outputId": "47eafa82-7652-4596-bd66-3b546bc48ed8",
    "scrolled": true
   },
   "outputs": [
    {
     "data": {
      "text/html": [
       "<div>\n",
       "<style scoped>\n",
       "    .dataframe tbody tr th:only-of-type {\n",
       "        vertical-align: middle;\n",
       "    }\n",
       "\n",
       "    .dataframe tbody tr th {\n",
       "        vertical-align: top;\n",
       "    }\n",
       "\n",
       "    .dataframe thead th {\n",
       "        text-align: right;\n",
       "    }\n",
       "</style>\n",
       "<table border=\"1\" class=\"dataframe\">\n",
       "  <thead>\n",
       "    <tr style=\"text-align: right;\">\n",
       "      <th></th>\n",
       "      <th>0</th>\n",
       "      <th>1</th>\n",
       "      <th>2</th>\n",
       "    </tr>\n",
       "  </thead>\n",
       "  <tbody>\n",
       "    <tr>\n",
       "      <th>0</th>\n",
       "      <td>a</td>\n",
       "      <td>a</td>\n",
       "      <td>a</td>\n",
       "    </tr>\n",
       "    <tr>\n",
       "      <th>1</th>\n",
       "      <td>b</td>\n",
       "      <td>a</td>\n",
       "      <td>a</td>\n",
       "    </tr>\n",
       "    <tr>\n",
       "      <th>2</th>\n",
       "      <td>c</td>\n",
       "      <td>a</td>\n",
       "      <td>a</td>\n",
       "    </tr>\n",
       "  </tbody>\n",
       "</table>\n",
       "</div>"
      ],
      "text/plain": [
       "   0  1  2\n",
       "0  a  a  a\n",
       "1  b  a  a\n",
       "2  c  a  a"
      ]
     },
     "execution_count": 259,
     "metadata": {},
     "output_type": "execute_result"
    }
   ],
   "source": [
    "# Extract the pattern\n",
    "\n",
    "s.str.extract(\"(\\w)\\d(\\w)(\\w)\")"
   ]
  },
  {
   "cell_type": "markdown",
   "metadata": {},
   "source": [
    "- **``Pattern Breakdown:``**\n",
    "  - **``(\\w)``**: Captures a **``single word character (alphanumeric or underscore)``**.\n",
    "  - **``(\\d)``**: Captures a **``single digit``**.\n",
    "  - **``(\\w)``**: Captures the **``first word character following the digit``**.\n",
    "  - **``(\\w)``**: Captures the **``second word character following the digit``**.\n",
    "- **``Resulting DataFrame:``**\n",
    "  - **``The resulting DataFrame will have four columns:``**\n",
    "    - The first column contains the initial word character.\n",
    "    - The second column contains the digit.\n",
    "    - The third column contains the first word character after the digit.\n",
    "    - The fourth column contains the second word character after the digit.\n",
    "\n",
    "<p style=\"background-color:#FFFFFF; font-family:newtimeroman; color:#0000FF; font-size:110%; text-align:left;\"><strong>-----------------------------------------------------------------------------------------------------------------------------------------------------------------------------------------------</strong></p>\n",
    "\n"
   ]
  },
  {
   "cell_type": "markdown",
   "metadata": {},
   "source": [
    "<p style=\"background-color:#FFFFFF; font-family:newtimeroman; color:#008000; font-size:125%; text-align:left;\"><strong>📌 EXTRA EXAMPLE ON EXTRACT:</strong></p>\n",
    "\n",
    "\n",
    "### Extract \"id, age and salary\" values to create a dataframe consisting of \"id, age and salary\" columns:\n",
    "\n",
    "- **The following statement creates a pandas Series from the list info containing strings with various fields like id, age, and salary.**"
   ]
  },
  {
   "cell_type": "code",
   "execution_count": 260,
   "metadata": {},
   "outputs": [
    {
     "data": {
      "text/plain": [
       "0    id:345, age:25, salary:1200\n",
       "1    id:346, age:32, salary:1500\n",
       "2    id:347, age:28, salary:1400\n",
       "dtype: object"
      ]
     },
     "execution_count": 260,
     "metadata": {},
     "output_type": "execute_result"
    }
   ],
   "source": [
    "# Sample data\n",
    "info = [\"id:345, age:25, salary:1200\", \"id:346, age:32, salary:1500\", \"id:347, age:28, salary:1400\"]\n",
    "\n",
    "# Create a pandas Series\n",
    "s = pd.Series(info)\n",
    "\n",
    "# Display the Series\n",
    "s"
   ]
  },
  {
   "cell_type": "markdown",
   "metadata": {},
   "source": [
    "\n",
    "\n",
    "<p style=\"background-color:#FFFFFF; font-family:newtimeroman; color:#0000FF; font-size:110%; text-align:left;\"><strong>-----------------------------------------------------------------------------------------------------------------------------------------------------------------------------------------------</strong></p>\n",
    "\n",
    "**The following statement ``extracts the numeric values from each string`` in the pandas Series s, capturing the first, second, and third sets of digits (for id, age, and salary, respectively) and then ``assigns the output into DataFrame``. The regex pattern matches one or more digits followed by non-digit characters.**"
   ]
  },
  {
   "cell_type": "code",
   "execution_count": 261,
   "metadata": {},
   "outputs": [
    {
     "data": {
      "text/html": [
       "<div>\n",
       "<style scoped>\n",
       "    .dataframe tbody tr th:only-of-type {\n",
       "        vertical-align: middle;\n",
       "    }\n",
       "\n",
       "    .dataframe tbody tr th {\n",
       "        vertical-align: top;\n",
       "    }\n",
       "\n",
       "    .dataframe thead th {\n",
       "        text-align: right;\n",
       "    }\n",
       "</style>\n",
       "<table border=\"1\" class=\"dataframe\">\n",
       "  <thead>\n",
       "    <tr style=\"text-align: right;\">\n",
       "      <th></th>\n",
       "      <th>0</th>\n",
       "      <th>1</th>\n",
       "      <th>2</th>\n",
       "    </tr>\n",
       "  </thead>\n",
       "  <tbody>\n",
       "    <tr>\n",
       "      <th>0</th>\n",
       "      <td>345</td>\n",
       "      <td>25</td>\n",
       "      <td>1200</td>\n",
       "    </tr>\n",
       "    <tr>\n",
       "      <th>1</th>\n",
       "      <td>346</td>\n",
       "      <td>32</td>\n",
       "      <td>1500</td>\n",
       "    </tr>\n",
       "    <tr>\n",
       "      <th>2</th>\n",
       "      <td>347</td>\n",
       "      <td>28</td>\n",
       "      <td>1400</td>\n",
       "    </tr>\n",
       "  </tbody>\n",
       "</table>\n",
       "</div>"
      ],
      "text/plain": [
       "     0   1     2\n",
       "0  345  25  1200\n",
       "1  346  32  1500\n",
       "2  347  28  1400"
      ]
     },
     "execution_count": 261,
     "metadata": {},
     "output_type": "execute_result"
    }
   ],
   "source": [
    "# Extract the numeric values and assign the output into DataFrame\n",
    "df = s.str.extract(\"(\\d+)\\D+(\\d+)\\D+(\\d+)\")\n",
    "\n",
    "# Display the DataFrame\n",
    "df"
   ]
  },
  {
   "cell_type": "markdown",
   "metadata": {},
   "source": [
    "- **``s.str.extract(r\"(\\d+)\\D+(\\d+)\\D+(\\d+)\")``** uses regex to extract three groups of digits:\n",
    "  - The **``first group``** captures the digits from the id.\n",
    "  - The **``second group``** captures the digits the age.\n",
    "  - The **``third group``** captures the digits the salary.\n",
    "\n",
    "<p style=\"background-color:#FFFFFF; font-family:newtimeroman; color:#0000FF; font-size:110%; text-align:left;\"><strong>-----------------------------------------------------------------------------------------------------------------------------------------------------------------------------------------------</strong></p>\n",
    "\n",
    "**The following code renames the columns of the DataFrame to [\"id\", \"age\", \"salary\"] after removing the empty column.**"
   ]
  },
  {
   "cell_type": "code",
   "execution_count": 262,
   "metadata": {},
   "outputs": [
    {
     "data": {
      "text/html": [
       "<div>\n",
       "<style scoped>\n",
       "    .dataframe tbody tr th:only-of-type {\n",
       "        vertical-align: middle;\n",
       "    }\n",
       "\n",
       "    .dataframe tbody tr th {\n",
       "        vertical-align: top;\n",
       "    }\n",
       "\n",
       "    .dataframe thead th {\n",
       "        text-align: right;\n",
       "    }\n",
       "</style>\n",
       "<table border=\"1\" class=\"dataframe\">\n",
       "  <thead>\n",
       "    <tr style=\"text-align: right;\">\n",
       "      <th></th>\n",
       "      <th>id</th>\n",
       "      <th>age</th>\n",
       "      <th>salary</th>\n",
       "    </tr>\n",
       "  </thead>\n",
       "  <tbody>\n",
       "    <tr>\n",
       "      <th>0</th>\n",
       "      <td>345</td>\n",
       "      <td>25</td>\n",
       "      <td>1200</td>\n",
       "    </tr>\n",
       "    <tr>\n",
       "      <th>1</th>\n",
       "      <td>346</td>\n",
       "      <td>32</td>\n",
       "      <td>1500</td>\n",
       "    </tr>\n",
       "    <tr>\n",
       "      <th>2</th>\n",
       "      <td>347</td>\n",
       "      <td>28</td>\n",
       "      <td>1400</td>\n",
       "    </tr>\n",
       "  </tbody>\n",
       "</table>\n",
       "</div>"
      ],
      "text/plain": [
       "    id age salary\n",
       "0  345  25   1200\n",
       "1  346  32   1500\n",
       "2  347  28   1400"
      ]
     },
     "execution_count": 262,
     "metadata": {},
     "output_type": "execute_result"
    }
   ],
   "source": [
    "# Assign new column names\n",
    "df.columns = [\"id\", \"age\", \"salary\"]\n",
    "\n",
    "# Display the updated DataFrame\n",
    "df"
   ]
  },
  {
   "cell_type": "markdown",
   "metadata": {},
   "source": [
    "\n",
    "\n",
    "<p style=\"background-color:#FFFFFF; font-family:newtimeroman; color:#0000FF; font-size:110%; text-align:left;\"><strong>-----------------------------------------------------------------------------------------------------------------------------------------------------------------------------------------------</strong></p>\n",
    "\n",
    "**The following code finds ``all occurrences of one or more digits`` in each string of the pandas Series s.**\n",
    "- This method returns a list of strings containing the matched digits for each entry."
   ]
  },
  {
   "cell_type": "code",
   "execution_count": 263,
   "metadata": {},
   "outputs": [
    {
     "data": {
      "text/plain": [
       "0    [345, 25, 1200]\n",
       "1    [346, 32, 1500]\n",
       "2    [347, 28, 1400]\n",
       "dtype: object"
      ]
     },
     "execution_count": 263,
     "metadata": {},
     "output_type": "execute_result"
    }
   ],
   "source": [
    "# Find all occurrences of digits in each string\n",
    "\n",
    "s.str.findall(\"(\\d+)\")"
   ]
  },
  {
   "cell_type": "markdown",
   "metadata": {},
   "source": [
    "\n",
    "\n",
    "<p style=\"background-color:#FFFFFF; font-family:newtimeroman; color:#0000FF; font-size:110%; text-align:left;\"><strong>-----------------------------------------------------------------------------------------------------------------------------------------------------------------------------------------------</strong></p>\n",
    "\n"
   ]
  },
  {
   "cell_type": "markdown",
   "metadata": {
    "id": "O10GpuGmdUjP"
   },
   "source": [
    "<p style=\"background-color:#FFFFFF; font-family:newtimeroman; color:#008000; font-size:125%; text-align:left;\"><strong>📌 EXTRA EXAMPLE ON EXTRACT:</strong></p>\n",
    "\n",
    "\n",
    "### Extract first number:\n",
    "\n",
    "- **The following code creates a Pandas Series named ``\"s\"`` that contains each ``fuel consumption`` value from a real-world dataset as an element.**"
   ]
  },
  {
   "cell_type": "code",
   "execution_count": 264,
   "metadata": {},
   "outputs": [
    {
     "data": {
      "text/plain": [
       "0       40 l/100 km (comb)\n",
       "1       38 l/100 km (comb)\n",
       "2      6.4 l/100 km (comb)\n",
       "3     8.3 kg/100 km (comb)\n",
       "4     5.1 kg/100 km (comb)\n",
       "5      5.4 l/100 km (comb)\n",
       "6      6.7 l/100 km (comb)\n",
       "7      6.2 l/100 km (comb)\n",
       "8      7.3 l/100 km (comb)\n",
       "9      6.3 l/100 km (comb)\n",
       "10     5.7 l/100 km (comb)\n",
       "11     6.1 l/100 km (comb)\n",
       "12     6.8 l/100 km (comb)\n",
       "13     7.5 l/100 km (comb)\n",
       "14     7.4 l/100 km (comb)\n",
       "15    3.6 kg/100 km (comb)\n",
       "16       0 l/100 km (comb)\n",
       "17     7.8 l/100 km (comb)\n",
       "dtype: object"
      ]
     },
     "execution_count": 264,
     "metadata": {},
     "output_type": "execute_result"
    }
   ],
   "source": [
    "# Create a pandas Series\n",
    "s = pd.Series(['40 l/100 km (comb)', \n",
    "               '38 l/100 km (comb)', '6.4 l/100 km (comb)',\n",
    "               '8.3 kg/100 km (comb)', '5.1 kg/100 km (comb)',\n",
    "               '5.4 l/100 km (comb)', '6.7 l/100 km (comb)',\n",
    "               '6.2 l/100 km (comb)', '7.3 l/100 km (comb)',\n",
    "               '6.3 l/100 km (comb)', '5.7 l/100 km (comb)',\n",
    "               '6.1 l/100 km (comb)', '6.8 l/100 km (comb)',\n",
    "               '7.5 l/100 km (comb)', '7.4 l/100 km (comb)',\n",
    "               '3.6 kg/100 km (comb)', '0 l/100 km (comb)', \n",
    "               '7.8 l/100 km (comb)'])\n",
    "\n",
    "# Display the Series\n",
    "s"
   ]
  },
  {
   "cell_type": "markdown",
   "metadata": {},
   "source": [
    "- Given the Series s, which contains **``fuel consumption``** data in various formats (either in liters or kilograms per 100 kilometers), we can perform various operations to extract relevant information, such as the numeric values and their respective units.\n",
    "\n",
    "<p style=\"background-color:#FFFFFF; font-family:newtimeroman; color:#0000FF; font-size:110%; text-align:left;\"><strong>-----------------------------------------------------------------------------------------------------------------------------------------------------------------------------------------------</strong></p>\n",
    "\n",
    "**The following code extracts the ``first sequence of non-whitespace characters`` from each string in the pandas Series s.**\n",
    "- The regex pattern **``\\S+``** matches **``one or more non-whitespace characters``**."
   ]
  },
  {
   "cell_type": "code",
   "execution_count": 265,
   "metadata": {
    "colab": {
     "base_uri": "https://localhost:8080/",
     "height": 580
    },
    "id": "-AA7s0zEPn0o",
    "outputId": "d5f6bf27-a12c-4065-aad4-9ba7e5490c53"
   },
   "outputs": [
    {
     "data": {
      "text/html": [
       "<div>\n",
       "<style scoped>\n",
       "    .dataframe tbody tr th:only-of-type {\n",
       "        vertical-align: middle;\n",
       "    }\n",
       "\n",
       "    .dataframe tbody tr th {\n",
       "        vertical-align: top;\n",
       "    }\n",
       "\n",
       "    .dataframe thead th {\n",
       "        text-align: right;\n",
       "    }\n",
       "</style>\n",
       "<table border=\"1\" class=\"dataframe\">\n",
       "  <thead>\n",
       "    <tr style=\"text-align: right;\">\n",
       "      <th></th>\n",
       "      <th>0</th>\n",
       "    </tr>\n",
       "  </thead>\n",
       "  <tbody>\n",
       "    <tr>\n",
       "      <th>0</th>\n",
       "      <td>40</td>\n",
       "    </tr>\n",
       "    <tr>\n",
       "      <th>1</th>\n",
       "      <td>38</td>\n",
       "    </tr>\n",
       "    <tr>\n",
       "      <th>2</th>\n",
       "      <td>6.4</td>\n",
       "    </tr>\n",
       "    <tr>\n",
       "      <th>3</th>\n",
       "      <td>8.3</td>\n",
       "    </tr>\n",
       "    <tr>\n",
       "      <th>4</th>\n",
       "      <td>5.1</td>\n",
       "    </tr>\n",
       "    <tr>\n",
       "      <th>5</th>\n",
       "      <td>5.4</td>\n",
       "    </tr>\n",
       "    <tr>\n",
       "      <th>6</th>\n",
       "      <td>6.7</td>\n",
       "    </tr>\n",
       "    <tr>\n",
       "      <th>7</th>\n",
       "      <td>6.2</td>\n",
       "    </tr>\n",
       "    <tr>\n",
       "      <th>8</th>\n",
       "      <td>7.3</td>\n",
       "    </tr>\n",
       "    <tr>\n",
       "      <th>9</th>\n",
       "      <td>6.3</td>\n",
       "    </tr>\n",
       "    <tr>\n",
       "      <th>10</th>\n",
       "      <td>5.7</td>\n",
       "    </tr>\n",
       "    <tr>\n",
       "      <th>11</th>\n",
       "      <td>6.1</td>\n",
       "    </tr>\n",
       "    <tr>\n",
       "      <th>12</th>\n",
       "      <td>6.8</td>\n",
       "    </tr>\n",
       "    <tr>\n",
       "      <th>13</th>\n",
       "      <td>7.5</td>\n",
       "    </tr>\n",
       "    <tr>\n",
       "      <th>14</th>\n",
       "      <td>7.4</td>\n",
       "    </tr>\n",
       "    <tr>\n",
       "      <th>15</th>\n",
       "      <td>3.6</td>\n",
       "    </tr>\n",
       "    <tr>\n",
       "      <th>16</th>\n",
       "      <td>0</td>\n",
       "    </tr>\n",
       "    <tr>\n",
       "      <th>17</th>\n",
       "      <td>7.8</td>\n",
       "    </tr>\n",
       "  </tbody>\n",
       "</table>\n",
       "</div>"
      ],
      "text/plain": [
       "      0\n",
       "0    40\n",
       "1    38\n",
       "2   6.4\n",
       "3   8.3\n",
       "4   5.1\n",
       "5   5.4\n",
       "6   6.7\n",
       "7   6.2\n",
       "8   7.3\n",
       "9   6.3\n",
       "10  5.7\n",
       "11  6.1\n",
       "12  6.8\n",
       "13  7.5\n",
       "14  7.4\n",
       "15  3.6\n",
       "16    0\n",
       "17  7.8"
      ]
     },
     "execution_count": 265,
     "metadata": {},
     "output_type": "execute_result"
    }
   ],
   "source": [
    "# Extract the first sequence of non-whitespace characters\n",
    "s.str.extract(\"(\\S+)\")\n",
    "\n",
    "# s.str.extract(\"(\\d+\\.\\d+|\\d+)\")  # Gives the same result\n",
    "# s.str.extract(\"(\\d*\\.?\\d*)\")     # Gives the same result"
   ]
  },
  {
   "cell_type": "markdown",
   "metadata": {},
   "source": [
    "\n",
    "\n",
    "<p style=\"background-color:#FFFFFF; font-family:newtimeroman; color:#0000FF; font-size:110%; text-align:left;\"><strong>-----------------------------------------------------------------------------------------------------------------------------------------------------------------------------------------------</strong></p>\n",
    "\n",
    "### Extract first and second number:\n",
    "\n",
    "- **The following expression extract ``two groups`` from each string in the pandas Series s.**\n",
    "  - The **``first group``** captures a **``floating-point number``** (which may have digits before and after a decimal point), and \n",
    "  - The **``second group``** captures an **``integer``** that appears later in the string, after any characters."
   ]
  },
  {
   "cell_type": "code",
   "execution_count": 266,
   "metadata": {
    "colab": {
     "base_uri": "https://localhost:8080/",
     "height": 580
    },
    "id": "BwEdlMCBQgW4",
    "outputId": "aa1ca7ce-6bb6-4652-dbe3-051a01f5619f"
   },
   "outputs": [
    {
     "data": {
      "text/html": [
       "<div>\n",
       "<style scoped>\n",
       "    .dataframe tbody tr th:only-of-type {\n",
       "        vertical-align: middle;\n",
       "    }\n",
       "\n",
       "    .dataframe tbody tr th {\n",
       "        vertical-align: top;\n",
       "    }\n",
       "\n",
       "    .dataframe thead th {\n",
       "        text-align: right;\n",
       "    }\n",
       "</style>\n",
       "<table border=\"1\" class=\"dataframe\">\n",
       "  <thead>\n",
       "    <tr style=\"text-align: right;\">\n",
       "      <th></th>\n",
       "      <th>0</th>\n",
       "      <th>1</th>\n",
       "    </tr>\n",
       "  </thead>\n",
       "  <tbody>\n",
       "    <tr>\n",
       "      <th>0</th>\n",
       "      <td>40</td>\n",
       "      <td>100</td>\n",
       "    </tr>\n",
       "    <tr>\n",
       "      <th>1</th>\n",
       "      <td>38</td>\n",
       "      <td>100</td>\n",
       "    </tr>\n",
       "    <tr>\n",
       "      <th>2</th>\n",
       "      <td>6.4</td>\n",
       "      <td>100</td>\n",
       "    </tr>\n",
       "    <tr>\n",
       "      <th>3</th>\n",
       "      <td>8.3</td>\n",
       "      <td>100</td>\n",
       "    </tr>\n",
       "    <tr>\n",
       "      <th>4</th>\n",
       "      <td>5.1</td>\n",
       "      <td>100</td>\n",
       "    </tr>\n",
       "    <tr>\n",
       "      <th>5</th>\n",
       "      <td>5.4</td>\n",
       "      <td>100</td>\n",
       "    </tr>\n",
       "    <tr>\n",
       "      <th>6</th>\n",
       "      <td>6.7</td>\n",
       "      <td>100</td>\n",
       "    </tr>\n",
       "    <tr>\n",
       "      <th>7</th>\n",
       "      <td>6.2</td>\n",
       "      <td>100</td>\n",
       "    </tr>\n",
       "    <tr>\n",
       "      <th>8</th>\n",
       "      <td>7.3</td>\n",
       "      <td>100</td>\n",
       "    </tr>\n",
       "    <tr>\n",
       "      <th>9</th>\n",
       "      <td>6.3</td>\n",
       "      <td>100</td>\n",
       "    </tr>\n",
       "    <tr>\n",
       "      <th>10</th>\n",
       "      <td>5.7</td>\n",
       "      <td>100</td>\n",
       "    </tr>\n",
       "    <tr>\n",
       "      <th>11</th>\n",
       "      <td>6.1</td>\n",
       "      <td>100</td>\n",
       "    </tr>\n",
       "    <tr>\n",
       "      <th>12</th>\n",
       "      <td>6.8</td>\n",
       "      <td>100</td>\n",
       "    </tr>\n",
       "    <tr>\n",
       "      <th>13</th>\n",
       "      <td>7.5</td>\n",
       "      <td>100</td>\n",
       "    </tr>\n",
       "    <tr>\n",
       "      <th>14</th>\n",
       "      <td>7.4</td>\n",
       "      <td>100</td>\n",
       "    </tr>\n",
       "    <tr>\n",
       "      <th>15</th>\n",
       "      <td>3.6</td>\n",
       "      <td>100</td>\n",
       "    </tr>\n",
       "    <tr>\n",
       "      <th>16</th>\n",
       "      <td>0</td>\n",
       "      <td>100</td>\n",
       "    </tr>\n",
       "    <tr>\n",
       "      <th>17</th>\n",
       "      <td>7.8</td>\n",
       "      <td>100</td>\n",
       "    </tr>\n",
       "  </tbody>\n",
       "</table>\n",
       "</div>"
      ],
      "text/plain": [
       "      0    1\n",
       "0   40   100\n",
       "1   38   100\n",
       "2   6.4  100\n",
       "3   8.3  100\n",
       "4   5.1  100\n",
       "5   5.4  100\n",
       "6   6.7  100\n",
       "7   6.2  100\n",
       "8   7.3  100\n",
       "9   6.3  100\n",
       "10  5.7  100\n",
       "11  6.1  100\n",
       "12  6.8  100\n",
       "13  7.5  100\n",
       "14  7.4  100\n",
       "15  3.6  100\n",
       "16   0   100\n",
       "17  7.8  100"
      ]
     },
     "execution_count": 266,
     "metadata": {},
     "output_type": "execute_result"
    }
   ],
   "source": [
    "# Extract the specified patterns\n",
    "\n",
    "s.str.extract('(\\d*.\\d*).+/(\\d*)')"
   ]
  },
  {
   "cell_type": "markdown",
   "metadata": {},
   "source": [
    "- **``(\\d+\\.\\d+)``**: Captures a floating-point number (one or more digits followed by a decimal point and one or more digits).\n",
    "- **``.+/``**: Matches one or more characters followed by a slash (not captured).\n",
    "- **``(\\d+)``**: Captures an integer (one or more digits).\n",
    "\n",
    "<p style=\"background-color:#FFFFFF; font-family:newtimeroman; color:#FF0000; font-size:125%; text-align:left;\"><strong>Important Note !!!</strong></p>\n",
    "\n",
    "- The pattern <b>``(\\d*.\\d*)``</b> may NOT capture floating-point numbers correctly due to the use of **``.``** which matches any character. It should be **``(\\d+\\.\\d+)``** for correct matching of decimal numbers.\n",
    "- Ensure that the strings contain the expected format; otherwise, NaN will be returned for entries that do NOT match the pattern.\n",
    "\n",
    "<p style=\"background-color:#FFFFFF; font-family:newtimeroman; color:#0000FF; font-size:110%; text-align:left;\"><strong>-----------------------------------------------------------------------------------------------------------------------------------------------------------------------------------------------</strong></p>\n",
    "\n",
    "<p style=\"background-color:#FFFFFF; font-family:newtimeroman; color:#008000; font-size:125%; text-align:left;\"><strong>📌 EXTRA EXAMPLE ON EXTRACT:</strong></p>\n",
    "\n",
    "\n",
    "### Extract date as month and year separately:\n",
    "\n",
    "- **The following code creates a Pandas Series  from a real-world dataset, which contains ``date`` and ``fuel consumption`` information.**"
   ]
  },
  {
   "cell_type": "code",
   "execution_count": 267,
   "metadata": {
    "id": "p6mWmQ9tdUjV"
   },
   "outputs": [
    {
     "data": {
      "text/plain": [
       "0     06/2020\\n\\n4.9 l/100 km (comb)\n",
       "1     11/2020\\n\\n166 g CO2/km (comb)\n",
       "2     10/2019\\n\\n5.3 l/100 km (comb)\n",
       "3     05/2022\\n\\n6.3 l/100 km (comb)\n",
       "4     07/2019\\n\\n128 g CO2/km (comb)\n",
       "5     06/2022\\n\\n112 g CO2/km (comb)\n",
       "6     01/2022\\n\\n5.8 l/100 km (comb)\n",
       "7     11/2020\\n\\n106 g CO2/km (comb)\n",
       "8     04/2019\\n\\n105 g CO2/km (comb)\n",
       "9     08/2020\\n\\n133 g CO2/km (comb)\n",
       "10    04/2022\\n\\n133 g CO2/km (comb)\n",
       "dtype: object"
      ]
     },
     "execution_count": 267,
     "metadata": {},
     "output_type": "execute_result"
    }
   ],
   "source": [
    "# Create a pandas Series\n",
    "s = pd.Series(['06/2020\\n\\n4.9 l/100 km (comb)',\n",
    "               '11/2020\\n\\n166 g CO2/km (comb)',                                 \n",
    "               '10/2019\\n\\n5.3 l/100 km (comb)',\n",
    "               '05/2022\\n\\n6.3 l/100 km (comb)',\n",
    "               '07/2019\\n\\n128 g CO2/km (comb)',\n",
    "               '06/2022\\n\\n112 g CO2/km (comb)',                                                 \n",
    "               '01/2022\\n\\n5.8 l/100 km (comb)',\n",
    "               '11/2020\\n\\n106 g CO2/km (comb)',\n",
    "               '04/2019\\n\\n105 g CO2/km (comb)',\n",
    "               '08/2020\\n\\n133 g CO2/km (comb)',\n",
    "               '04/2022\\n\\n133 g CO2/km (comb)'])\n",
    "\n",
    "# Display the Series\n",
    "s"
   ]
  },
  {
   "cell_type": "markdown",
   "metadata": {},
   "source": [
    "- Given the Series s, which contains **``fuel consumption``** and **``emissions``** information **``formatted with dates``** and various units, we can perform various operations to extract relevant information, such as the numeric values and their respective units.\n",
    "\n",
    "<p style=\"background-color:#FFFFFF; font-family:newtimeroman; color:#0000FF; font-size:110%; text-align:left;\"><strong>-----------------------------------------------------------------------------------------------------------------------------------------------------------------------------------------------</strong></p>\n",
    "\n",
    "**The following expression extracts ``two groups`` from each string in the pandas Series s.**\n",
    "- The **``first group``** captures a **``two-digit number``**, and \n",
    "- The **``second group``** captures a **``four-digit number``**, with any character in between."
   ]
  },
  {
   "cell_type": "code",
   "execution_count": 268,
   "metadata": {
    "colab": {
     "base_uri": "https://localhost:8080/",
     "height": 373
    },
    "id": "v_L0MCjWQ-r4",
    "outputId": "b815010d-ceb0-4821-99a9-80cde42377d2"
   },
   "outputs": [
    {
     "data": {
      "text/html": [
       "<div>\n",
       "<style scoped>\n",
       "    .dataframe tbody tr th:only-of-type {\n",
       "        vertical-align: middle;\n",
       "    }\n",
       "\n",
       "    .dataframe tbody tr th {\n",
       "        vertical-align: top;\n",
       "    }\n",
       "\n",
       "    .dataframe thead th {\n",
       "        text-align: right;\n",
       "    }\n",
       "</style>\n",
       "<table border=\"1\" class=\"dataframe\">\n",
       "  <thead>\n",
       "    <tr style=\"text-align: right;\">\n",
       "      <th></th>\n",
       "      <th>0</th>\n",
       "      <th>1</th>\n",
       "    </tr>\n",
       "  </thead>\n",
       "  <tbody>\n",
       "    <tr>\n",
       "      <th>0</th>\n",
       "      <td>06</td>\n",
       "      <td>2020</td>\n",
       "    </tr>\n",
       "    <tr>\n",
       "      <th>1</th>\n",
       "      <td>11</td>\n",
       "      <td>2020</td>\n",
       "    </tr>\n",
       "    <tr>\n",
       "      <th>2</th>\n",
       "      <td>10</td>\n",
       "      <td>2019</td>\n",
       "    </tr>\n",
       "    <tr>\n",
       "      <th>3</th>\n",
       "      <td>05</td>\n",
       "      <td>2022</td>\n",
       "    </tr>\n",
       "    <tr>\n",
       "      <th>4</th>\n",
       "      <td>07</td>\n",
       "      <td>2019</td>\n",
       "    </tr>\n",
       "    <tr>\n",
       "      <th>5</th>\n",
       "      <td>06</td>\n",
       "      <td>2022</td>\n",
       "    </tr>\n",
       "    <tr>\n",
       "      <th>6</th>\n",
       "      <td>01</td>\n",
       "      <td>2022</td>\n",
       "    </tr>\n",
       "    <tr>\n",
       "      <th>7</th>\n",
       "      <td>11</td>\n",
       "      <td>2020</td>\n",
       "    </tr>\n",
       "    <tr>\n",
       "      <th>8</th>\n",
       "      <td>04</td>\n",
       "      <td>2019</td>\n",
       "    </tr>\n",
       "    <tr>\n",
       "      <th>9</th>\n",
       "      <td>08</td>\n",
       "      <td>2020</td>\n",
       "    </tr>\n",
       "    <tr>\n",
       "      <th>10</th>\n",
       "      <td>04</td>\n",
       "      <td>2022</td>\n",
       "    </tr>\n",
       "  </tbody>\n",
       "</table>\n",
       "</div>"
      ],
      "text/plain": [
       "     0     1\n",
       "0   06  2020\n",
       "1   11  2020\n",
       "2   10  2019\n",
       "3   05  2022\n",
       "4   07  2019\n",
       "5   06  2022\n",
       "6   01  2022\n",
       "7   11  2020\n",
       "8   04  2019\n",
       "9   08  2020\n",
       "10  04  2022"
      ]
     },
     "execution_count": 268,
     "metadata": {},
     "output_type": "execute_result"
    }
   ],
   "source": [
    "s.str.extract(\"(\\d\\d).(\\d\\d\\d\\d)\")\n",
    "\n",
    "\n",
    "#s.str.extract(\"(\\d{2}).(\\d{4})\")    # Gives the same result\n",
    "#s.str.extract(\"(\\d*).(\\d*)\")        # Gives the same result\n",
    "#s.str.extract(\"(\\d\\d)/(\\d*)\")       # Gives the same result\n",
    "#s.str.extract(\"(\\d\\d)/(\\d\\d\\d\\d)\")  # Gives the same result\n",
    "#s.str.extract(\"(\\d+).(\\d+)\")        # Gives the same result\n",
    "#s.str.extract(\"(\\S+)/(\\S+)\")        # Gives the same result"
   ]
  },
  {
   "cell_type": "markdown",
   "metadata": {},
   "source": [
    "- **``(\\d\\d)``** OR **``(\\d{2})``**: Captures a **``two-digit number``**.\n",
    "- **``.``**: Matches any character (this can lead to unexpected behavior if the character between the two groups is not as intended).\n",
    "- **``(\\d\\d\\d\\d)``** OR **``(\\d{4})``**: Captures a four-digit number.\n",
    "\n",
    "<p style=\"background-color:#FFFFFF; font-family:newtimeroman; color:#0000FF; font-size:110%; text-align:left;\"><strong>-----------------------------------------------------------------------------------------------------------------------------------------------------------------------------------------------</strong></p>\n",
    "\n",
    "### Extract date and comsuption value:\n",
    "\n",
    "**The following extracts **``two groups``** from each string in the pandas Series s.**\n",
    "- The **``first group``** captures a **``date``** in the format **``MM/YYYY``**, and \n",
    "- The **``second group``** captures either a **``decimal number``** OR an **``integer``**."
   ]
  },
  {
   "cell_type": "markdown",
   "metadata": {
    "id": "QpV_XrLDdUjc"
   },
   "source": []
  },
  {
   "cell_type": "code",
   "execution_count": 269,
   "metadata": {
    "colab": {
     "base_uri": "https://localhost:8080/",
     "height": 390
    },
    "id": "9yNxQt1vR12H",
    "outputId": "b4b0d616-017c-4b43-8b1d-e260d407aa8c"
   },
   "outputs": [
    {
     "data": {
      "text/html": [
       "<div>\n",
       "<style scoped>\n",
       "    .dataframe tbody tr th:only-of-type {\n",
       "        vertical-align: middle;\n",
       "    }\n",
       "\n",
       "    .dataframe tbody tr th {\n",
       "        vertical-align: top;\n",
       "    }\n",
       "\n",
       "    .dataframe thead th {\n",
       "        text-align: right;\n",
       "    }\n",
       "</style>\n",
       "<table border=\"1\" class=\"dataframe\">\n",
       "  <thead>\n",
       "    <tr style=\"text-align: right;\">\n",
       "      <th></th>\n",
       "      <th>0</th>\n",
       "      <th>1</th>\n",
       "    </tr>\n",
       "  </thead>\n",
       "  <tbody>\n",
       "    <tr>\n",
       "      <th>0</th>\n",
       "      <td>06/2020</td>\n",
       "      <td>4.9</td>\n",
       "    </tr>\n",
       "    <tr>\n",
       "      <th>1</th>\n",
       "      <td>11/2020</td>\n",
       "      <td>166</td>\n",
       "    </tr>\n",
       "    <tr>\n",
       "      <th>2</th>\n",
       "      <td>10/2019</td>\n",
       "      <td>5.3</td>\n",
       "    </tr>\n",
       "    <tr>\n",
       "      <th>3</th>\n",
       "      <td>05/2022</td>\n",
       "      <td>6.3</td>\n",
       "    </tr>\n",
       "    <tr>\n",
       "      <th>4</th>\n",
       "      <td>07/2019</td>\n",
       "      <td>128</td>\n",
       "    </tr>\n",
       "    <tr>\n",
       "      <th>5</th>\n",
       "      <td>06/2022</td>\n",
       "      <td>112</td>\n",
       "    </tr>\n",
       "    <tr>\n",
       "      <th>6</th>\n",
       "      <td>01/2022</td>\n",
       "      <td>5.8</td>\n",
       "    </tr>\n",
       "    <tr>\n",
       "      <th>7</th>\n",
       "      <td>11/2020</td>\n",
       "      <td>106</td>\n",
       "    </tr>\n",
       "    <tr>\n",
       "      <th>8</th>\n",
       "      <td>04/2019</td>\n",
       "      <td>105</td>\n",
       "    </tr>\n",
       "    <tr>\n",
       "      <th>9</th>\n",
       "      <td>08/2020</td>\n",
       "      <td>133</td>\n",
       "    </tr>\n",
       "    <tr>\n",
       "      <th>10</th>\n",
       "      <td>04/2022</td>\n",
       "      <td>133</td>\n",
       "    </tr>\n",
       "  </tbody>\n",
       "</table>\n",
       "</div>"
      ],
      "text/plain": [
       "          0    1\n",
       "0   06/2020  4.9\n",
       "1   11/2020  166\n",
       "2   10/2019  5.3\n",
       "3   05/2022  6.3\n",
       "4   07/2019  128\n",
       "5   06/2022  112\n",
       "6   01/2022  5.8\n",
       "7   11/2020  106\n",
       "8   04/2019  105\n",
       "9   08/2020  133\n",
       "10  04/2022  133"
      ]
     },
     "execution_count": 269,
     "metadata": {},
     "output_type": "execute_result"
    }
   ],
   "source": [
    "# Extract the date and numeric values\n",
    "\n",
    "s.str.extract('(\\d+/\\d+)\\s+(\\d+.\\d+|\\d+)')"
   ]
  },
  {
   "cell_type": "markdown",
   "metadata": {},
   "source": [
    "- **``(\\d+/\\d+)``**: Captures the date in the format **``MM/YYYY``**.\n",
    "- **``\\s+``**: Matches **``one or more whitespace characters``**.\n",
    "- **``(\\d+\\.\\d+|\\d+)``**: Captures either a **``decimal number``** (like 4.9) or an **``integer``** (like 166).\n",
    "\n",
    "<p style=\"background-color:#FFFFFF; font-family:newtimeroman; color:#0000FF; font-size:110%; text-align:left;\"><strong>-----------------------------------------------------------------------------------------------------------------------------------------------------------------------------------------------</strong></p>\n",
    "\n",
    "<p style=\"background-color:#FFFFFF; font-family:newtimeroman; color:#008000; font-size:125%; text-align:left;\"><strong>📌 EXTRA EXAMPLE ON EXTRACT:</strong></p>\n",
    "\n",
    "\n",
    "### Extract date as month and year separately:\n",
    "\n",
    "- **The following code creates a Pandas Series from a real-world dataset, which contains ``fuel consumption`` and ``date`` information.**"
   ]
  },
  {
   "cell_type": "code",
   "execution_count": 270,
   "metadata": {},
   "outputs": [
    {
     "data": {
      "text/plain": [
       "0    \\n\\n4.9 06/2020 l/100 km (comb)\n",
       "1    \\n\\n166 11/2020 g CO2/km (comb)\n",
       "2    \\n\\n5.3 10/2019 l/100 km (comb)\n",
       "3    \\n\\n6.3 05/2022 l/100 km (comb)\n",
       "4    \\n\\n128 07/2019 g CO2/km (comb)\n",
       "5    \\n\\n112 06/2022 g CO2/km (comb)\n",
       "6    \\n\\n5.8 01/2022 l/100 km (comb)\n",
       "dtype: object"
      ]
     },
     "execution_count": 270,
     "metadata": {},
     "output_type": "execute_result"
    }
   ],
   "source": [
    "# Create a pandas Series\n",
    "s = pd.Series(['\\n\\n4.9 06/2020 l/100 km (comb)',\n",
    "               '\\n\\n166 11/2020 g CO2/km (comb)',                                 \n",
    "               '\\n\\n5.3 10/2019 l/100 km (comb)',\n",
    "               '\\n\\n6.3 05/2022 l/100 km (comb)',\n",
    "               '\\n\\n128 07/2019 g CO2/km (comb)',\n",
    "               '\\n\\n112 06/2022 g CO2/km (comb)',                                                 \n",
    "               '\\n\\n5.8 01/2022 l/100 km (comb)'])\n",
    "\n",
    "# Display the Series\n",
    "s"
   ]
  },
  {
   "cell_type": "markdown",
   "metadata": {},
   "source": [
    "\n",
    "\n",
    "<p style=\"background-color:#FFFFFF; font-family:newtimeroman; color:#0000FF; font-size:110%; text-align:left;\"><strong>-----------------------------------------------------------------------------------------------------------------------------------------------------------------------------------------------</strong></p>\n",
    "\n",
    "**The following expression extracts ``two groups`` from each string in the pandas Series s.**\n",
    "- The **``first group`` captures a **``sequence of digits``** representing the **``month``**, and \n",
    "- The **``second group``** captures a **``sequence of digits``** representing the **``year``**, matching the pattern that occurs after a non-whitespace sequence followed by whitespace."
   ]
  },
  {
   "cell_type": "code",
   "execution_count": 271,
   "metadata": {},
   "outputs": [
    {
     "data": {
      "text/html": [
       "<div>\n",
       "<style scoped>\n",
       "    .dataframe tbody tr th:only-of-type {\n",
       "        vertical-align: middle;\n",
       "    }\n",
       "\n",
       "    .dataframe tbody tr th {\n",
       "        vertical-align: top;\n",
       "    }\n",
       "\n",
       "    .dataframe thead th {\n",
       "        text-align: right;\n",
       "    }\n",
       "</style>\n",
       "<table border=\"1\" class=\"dataframe\">\n",
       "  <thead>\n",
       "    <tr style=\"text-align: right;\">\n",
       "      <th></th>\n",
       "      <th>month</th>\n",
       "      <th>year</th>\n",
       "    </tr>\n",
       "  </thead>\n",
       "  <tbody>\n",
       "    <tr>\n",
       "      <th>0</th>\n",
       "      <td>06</td>\n",
       "      <td>2020</td>\n",
       "    </tr>\n",
       "    <tr>\n",
       "      <th>1</th>\n",
       "      <td>11</td>\n",
       "      <td>2020</td>\n",
       "    </tr>\n",
       "    <tr>\n",
       "      <th>2</th>\n",
       "      <td>10</td>\n",
       "      <td>2019</td>\n",
       "    </tr>\n",
       "    <tr>\n",
       "      <th>3</th>\n",
       "      <td>05</td>\n",
       "      <td>2022</td>\n",
       "    </tr>\n",
       "    <tr>\n",
       "      <th>4</th>\n",
       "      <td>07</td>\n",
       "      <td>2019</td>\n",
       "    </tr>\n",
       "    <tr>\n",
       "      <th>5</th>\n",
       "      <td>06</td>\n",
       "      <td>2022</td>\n",
       "    </tr>\n",
       "    <tr>\n",
       "      <th>6</th>\n",
       "      <td>01</td>\n",
       "      <td>2022</td>\n",
       "    </tr>\n",
       "  </tbody>\n",
       "</table>\n",
       "</div>"
      ],
      "text/plain": [
       "  month  year\n",
       "0    06  2020\n",
       "1    11  2020\n",
       "2    10  2019\n",
       "3    05  2022\n",
       "4    07  2019\n",
       "5    06  2022\n",
       "6    01  2022"
      ]
     },
     "execution_count": 271,
     "metadata": {},
     "output_type": "execute_result"
    }
   ],
   "source": [
    "# Extract month and year\n",
    "extracted = s.str.extract(r\"\\S+\\s(\\d+)/(\\d+)\")\n",
    "\n",
    "# Rename columns\n",
    "extracted.columns = ['month', 'year']\n",
    "\n",
    "# Display the result\n",
    "extracted"
   ]
  },
  {
   "cell_type": "markdown",
   "metadata": {},
   "source": [
    "\n",
    "- **``\\S+``**: This matches **``one or more non-whitespace characters``**. This would capture the initial part of the string (e.g., the fuel consumption value).\n",
    "- **``\\s``**: This matches a **``single whitespace character``**, which separates the initial part from the date.\n",
    "- **``(\\d+)``**: This captures **``one or more digits``** (the first group), which represents the **``month``**.\n",
    "- **``/``**: This matches the **``literal slash``** character, **``separating``** the **``month``** from the **``year``**.\n",
    "- **``(\\d+)``**: This captures **``one or more digits``** (the second group), which represents the **``year``**.\n",
    "\n",
    "\n",
    "<p style=\"background-color:#FFFFFF; font-family:newtimeroman; color:#0000FF; font-size:110%; text-align:left;\"><strong>-----------------------------------------------------------------------------------------------------------------------------------------------------------------------------------------------</strong></p>\n",
    "\n",
    "\n",
    "**The following expression extracts **``two groups of digits``** from each string in the pandas Series s.**\n",
    "- The **``first group``** captures a **``sequence of digits``** (typically representing the **``month``**), and \n",
    "- The **``second group``** captures another **``sequence of digits``** (typically representing the **``year``**)."
   ]
  },
  {
   "cell_type": "code",
   "execution_count": 272,
   "metadata": {},
   "outputs": [
    {
     "data": {
      "text/html": [
       "<div>\n",
       "<style scoped>\n",
       "    .dataframe tbody tr th:only-of-type {\n",
       "        vertical-align: middle;\n",
       "    }\n",
       "\n",
       "    .dataframe tbody tr th {\n",
       "        vertical-align: top;\n",
       "    }\n",
       "\n",
       "    .dataframe thead th {\n",
       "        text-align: right;\n",
       "    }\n",
       "</style>\n",
       "<table border=\"1\" class=\"dataframe\">\n",
       "  <thead>\n",
       "    <tr style=\"text-align: right;\">\n",
       "      <th></th>\n",
       "      <th>0</th>\n",
       "      <th>1</th>\n",
       "    </tr>\n",
       "  </thead>\n",
       "  <tbody>\n",
       "    <tr>\n",
       "      <th>0</th>\n",
       "      <td>06</td>\n",
       "      <td>2020</td>\n",
       "    </tr>\n",
       "    <tr>\n",
       "      <th>1</th>\n",
       "      <td>11</td>\n",
       "      <td>2020</td>\n",
       "    </tr>\n",
       "    <tr>\n",
       "      <th>2</th>\n",
       "      <td>10</td>\n",
       "      <td>2019</td>\n",
       "    </tr>\n",
       "    <tr>\n",
       "      <th>3</th>\n",
       "      <td>05</td>\n",
       "      <td>2022</td>\n",
       "    </tr>\n",
       "    <tr>\n",
       "      <th>4</th>\n",
       "      <td>07</td>\n",
       "      <td>2019</td>\n",
       "    </tr>\n",
       "    <tr>\n",
       "      <th>5</th>\n",
       "      <td>06</td>\n",
       "      <td>2022</td>\n",
       "    </tr>\n",
       "    <tr>\n",
       "      <th>6</th>\n",
       "      <td>01</td>\n",
       "      <td>2022</td>\n",
       "    </tr>\n",
       "  </tbody>\n",
       "</table>\n",
       "</div>"
      ],
      "text/plain": [
       "    0     1\n",
       "0  06  2020\n",
       "1  11  2020\n",
       "2  10  2019\n",
       "3  05  2022\n",
       "4  07  2019\n",
       "5  06  2022\n",
       "6  01  2022"
      ]
     },
     "execution_count": 272,
     "metadata": {},
     "output_type": "execute_result"
    }
   ],
   "source": [
    "# Extract month and year\n",
    "\n",
    "s.str.extract(\"(\\d+)/(\\d+)\")"
   ]
  },
  {
   "cell_type": "markdown",
   "metadata": {},
   "source": [
    "- **``(\\d+)``**: Captures the **``first group of digits``** (the month``**).\n",
    "- **``/``**: Matches the **``literal character /``**.\n",
    "- **``(\\d+)``**: Captures the **``second group of digits``** (the year``**).\n",
    "\n",
    "<p style=\"background-color:#FFFFFF; font-family:newtimeroman; color:#0000FF; font-size:110%; text-align:left;\"><strong>-----------------------------------------------------------------------------------------------------------------------------------------------------------------------------------------------</strong></p>\n",
    "\n"
   ]
  },
  {
   "cell_type": "markdown",
   "metadata": {},
   "source": [
    "## <p style=\"background-color:#FFFFFF; font-family:newtimeroman; color:#0000FF; font-size:120%; text-align:left;\"><strong>Example From PearDeck Slides:</strong></p>\n",
    "\n",
    "**To ``extract an email address`` from the given text using regular expressions in Python, we can use the ``\"re\"`` module.**\n",
    "- Here's a code example demonstrating how to do this:"
   ]
  },
  {
   "cell_type": "code",
   "execution_count": 273,
   "metadata": {},
   "outputs": [],
   "source": [
    "# Define a string variable text with the value of \"my email adress is example@gmail.com\".\n",
    "\n",
    "text = \"my email adress is example@gmail.com\""
   ]
  },
  {
   "cell_type": "markdown",
   "metadata": {},
   "source": [
    "\n",
    "\n",
    "<p style=\"background-color:#FFFFFF; font-family:newtimeroman; color:#0000FF; font-size:110%; text-align:left;\"><strong>-----------------------------------------------------------------------------------------------------------------------------------------------------------------------------------------------</strong></p>\n",
    "\n",
    "**The following regex pattern is designed to match email addresses in a given text string.**"
   ]
  },
  {
   "cell_type": "code",
   "execution_count": 275,
   "metadata": {},
   "outputs": [
    {
     "name": "stdout",
     "output_type": "stream",
     "text": [
      "example@gmail.com\n",
      "example\n",
      "gmail\n",
      "com\n"
     ]
    }
   ],
   "source": [
    "# Search for the email address\n",
    "reg = re.search(\"([a-zA-Z0-9_.+-]+)@([a-zA-Z0-9_.+-]+)\\.([a-zA-Z0-9_.+-]+)\", text)\n",
    "\n",
    "print(reg.group())\n",
    "print(reg.group(1))\n",
    "print(reg.group(2))\n",
    "print(reg.group(3))"
   ]
  },
  {
   "cell_type": "markdown",
   "metadata": {},
   "source": [
    "- **``([a-zA-Z0-9_.+-]+)``**: This captures the **``local part``** of the email (before the @), allowing letters, digits, underscores, dots, pluses, and hyphens.\n",
    "- **``@``**: This matches the @ symbol.\n",
    "- **``([a-zA-Z0-9_.+-]+)``**: This captures the **``domain name``** (after the @ and before the dot).\n",
    "- **``\\.([a-zA-Z0-9_.+-]+)``**: This matches the dot (.) followed by the **``top-level domain (TLD)``**, capturing it as well.\n",
    "\n",
    "**``The patterns captures:``**\n",
    "- **``Group 0``**: The entire matched email address``**.\n",
    "- **``Group 1``**: The **``local part``** (before the @).\n",
    "- **``Group 2``**: The **``domain name``** (between the @ and the .).\n",
    "- **``Group 3``**: The **``top-level domain``** (after the last .).\n",
    "\n",
    "**``re.search scans through the string looking for the first location where the regex pattern produces a match.``**\n",
    "- **``reg.group(0)``** prints the **``entire email address``**.\n",
    "- **``reg.group(1)``** prints the **``local part``**.\n",
    "- **``reg.group(2)``** prints the **``domain``**.\n",
    "- **``reg.group(3)``** prints the **``top-level domain``**.\n",
    "\n",
    "<p style=\"background-color:#FFFFFF; font-family:newtimeroman; color:#0000FF; font-size:110%; text-align:left;\"><strong>-----------------------------------------------------------------------------------------------------------------------------------------------------------------------------------------------</strong></p>\n",
    "\n",
    "### 🥴 weird_email:\n",
    "\n"
   ]
  },
  {
   "cell_type": "code",
   "execution_count": 276,
   "metadata": {},
   "outputs": [],
   "source": [
    "# Define a weird email\n",
    "\n",
    "text = \"/er._%+-@42f.-.Ab/\""
   ]
  },
  {
   "cell_type": "markdown",
   "metadata": {},
   "source": [
    "\n",
    "\n",
    "<p style=\"background-color:#FFFFFF; font-family:newtimeroman; color:#0000FF; font-size:110%; text-align:left;\"><strong>-----------------------------------------------------------------------------------------------------------------------------------------------------------------------------------------------</strong></p>\n",
    "\n"
   ]
  },
  {
   "cell_type": "code",
   "execution_count": 277,
   "metadata": {},
   "outputs": [
    {
     "name": "stdout",
     "output_type": "stream",
     "text": [
      "/er._%+-@42f.-.Ab/\n"
     ]
    }
   ],
   "source": [
    "reg = re.search(\"/[\\w._%+-]+@[\\w.-]+\\.[a-zA-Z]{2,4}/\", text)\n",
    "\n",
    "print(reg.group(0))"
   ]
  },
  {
   "cell_type": "markdown",
   "metadata": {},
   "source": [
    "**``Regex Breakdown:``**\n",
    "- **``[\\w._%+-]+``**: Captures the local part of the email (the part before the @). Matches one or more word characters, dots, underscores, percent signs, pluses, or hyphens in the local part of the email. It allows:\n",
    "  - Letters (both uppercase and lowercase)\n",
    "  - Digits\n",
    "  - Special characters: _, ., +, -\n",
    "\n",
    "- **``@``**: Matches the @ symbol, which separates the local part from the domain part.\n",
    "\n",
    "- **``[\\w.-]+``**: Captures the domain name (the part after the @ but before the .). Matches one or more word characters, dots, or hyphens in the domain name. It allows:\n",
    "  - Letters (both uppercase and lowercase)\n",
    "  - Digits\n",
    "  - Special characters: _, ., +, -\n",
    "- **``\\.``**: Matches the literal . character (the dot before the top-level domain).\n",
    "- **``\\.[a-zA-Z]{2,4}``**: Captures the top-level domain (e.g., com, org, etc.). Matches a dot followed by 2 to 4 letters, which represents the top-level domain. It allows:\n",
    "  - Letters (both uppercase and lowercase)\n",
    "  - Digits\n",
    "  - Special characters: _, ., +, -\n",
    "\n",
    "<p style=\"background-color:#FFFFFF; font-family:newtimeroman; color:#0000FF; font-size:110%; text-align:left;\"><strong>-----------------------------------------------------------------------------------------------------------------------------------------------------------------------------------------------</strong></p>\n",
    "\n"
   ]
  },
  {
   "cell_type": "markdown",
   "metadata": {},
   "source": [
    "<a id=\"5\"></a>\n",
    "<a href=\"#toc\" class=\"btn btn-primary btn-sm\" role=\"button\" aria-pressed=\"true\" \n",
    "style=\"color:blue; background-color:#dfa8e4\" data-toggle=\"popover\">Content</a>\n",
    "\n",
    "## <p style=\"background-color:#FDFEFE; font-family:newtimeroman; color:#E51A59; font-size:150%; text-align:center; border-radius:10px 10px;\">End of the Session - 11 (Part - 01)</p>\n",
    "\n",
    "<p style=\"text-align: center;\"><img src=\"https://i.ibb.co/TtRtYNn/healthy-lunch.jpg\" width=\"800\" height=\"200\" class=\"img-fluid\" alt=\"Lunch Time\"></p>\n",
    "\n",
    "\n",
    "<p style=\"text-align: center;\"><img src=\"https://i.ibb.co/99DQ3TY/DS-Courses.png\" class=\"img-fluid\" \n",
    "alt=\"CLRSWY\"></p>\n",
    "\n",
    "\n",
    "<br><br><br>\n",
    "\n",
    "<p style=\"text-align: center;\"><img src=\"https://i.ibb.co/Rpz9L36/clarusway-logo-black.png\" width=\"450\" height=\"200\" class=\"img-fluid\" alt=\"CLRSWY_LOGO\"></p>\n",
    "\n",
    "<p style=\"background-color:#E51A59; font-family:newtimeroman; color:#FDFEFE; font-size:130%; text-align:center; border-radius:10px 10px;\">WAY TO REINVENT YOURSELF</p>"
   ]
  },
  {
   "cell_type": "markdown",
   "metadata": {
    "deletable": false,
    "editable": false
   },
   "source": [
    "<a href=\"https://clarusway.com/contact-us/\"><img align=\"center\" src=\"https://i.ibb.co/B43qn24/officially-licensed-logo.png\" alt=\"Open in Clarusway LMS\" width=\"110\" height=\"200\" title=\"This notebook is licensed by Clarusway IT training school. Please contact the authorized persons about the conditions under which you can use or share.\"></a>"
   ]
  }
 ],
 "metadata": {
  "colab": {
   "collapsed_sections": [],
   "name": "Regex-LabSession-5(Student).ipynb",
   "provenance": []
  },
  "kernelspec": {
   "display_name": "Python 3 (ipykernel)",
   "language": "python",
   "name": "python3"
  },
  "language_info": {
   "codemirror_mode": {
    "name": "ipython",
    "version": 3
   },
   "file_extension": ".py",
   "mimetype": "text/x-python",
   "name": "python",
   "nbconvert_exporter": "python",
   "pygments_lexer": "ipython3",
   "version": "3.11.5"
  },
  "toc": {
   "base_numbering": 1,
   "nav_menu": {},
   "number_sections": false,
   "sideBar": true,
   "skip_h1_title": false,
   "title_cell": "Table of Contents",
   "title_sidebar": "Contents",
   "toc_cell": false,
   "toc_position": {
    "height": "calc(100% - 180px)",
    "left": "10px",
    "top": "150px",
    "width": "287.6px"
   },
   "toc_section_display": true,
   "toc_window_display": true
  },
  "varInspector": {
   "cols": {
    "lenName": 16,
    "lenType": 16,
    "lenVar": 40
   },
   "kernels_config": {
    "python": {
     "delete_cmd_postfix": "",
     "delete_cmd_prefix": "del ",
     "library": "var_list.py",
     "varRefreshCmd": "print(var_dic_list())"
    },
    "r": {
     "delete_cmd_postfix": ") ",
     "delete_cmd_prefix": "rm(",
     "library": "var_list.r",
     "varRefreshCmd": "cat(var_dic_list()) "
    }
   },
   "types_to_exclude": [
    "module",
    "function",
    "builtin_function_or_method",
    "instance",
    "_Feature"
   ],
   "window_display": false
  }
 },
 "nbformat": 4,
 "nbformat_minor": 4
}
