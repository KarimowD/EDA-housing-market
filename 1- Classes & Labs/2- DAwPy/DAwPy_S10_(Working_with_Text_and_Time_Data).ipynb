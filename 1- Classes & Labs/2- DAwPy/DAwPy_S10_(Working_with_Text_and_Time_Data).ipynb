{
 "cells": [
  {
   "cell_type": "markdown",
   "metadata": {
    "deletable": false,
    "editable": false
   },
   "source": [
    "<a href=\"https://clarusway.com/contact-us/\"><img align=\"center\" src=\"https://i.ibb.co/B43qn24/officially-licensed-logo.png\" alt=\"Open in Clarusway LMS\" width=\"110\" height=\"200\" title=\"This notebook is licensed by Clarusway IT training school. Please contact the authorized persons about the conditions under which you can use or share.\"></a>"
   ]
  },
  {
   "cell_type": "markdown",
   "metadata": {},
   "source": [
    "<hr>\n",
    "\n",
    "<a href=\"https://lms.clarusway.com/mod/lesson/view.php?id=2463&pageid=4531&startlastseen=no\"><img align=\"center\" src=\"https://i.ibb.co/6Z5pQxD/lmss.png\" alt=\"Open in Clarusway LMS\" width=\"70\" height=\"200\" title=\"Open Clarusway Learning Management Sytem\"></a>\n",
    "\n",
    "<a href=\"https://github.com/clarusway/DS-DE-0322-Students/blob/main/3-%20Classes%26Labs/2-DAwPY/DAwPy_S01_(Numpy_Arrays).ipynb\"><img align=\"left\" src=\"https://i.ibb.co/n3HWyQX/github-logo.png\" alt=\"Open in Clarusway GitHub\" width=\"90\" height=\"150\" title=\"Open and Execute in Clarusway GitHub Repository\"></a>\n",
    "\n",
    "<a href=\"https://nbviewer.org/github/4dsolutions/clarusway_data_analysis/blob/main/DAwPy_S1_%28Numpy_Arrays%29/DAwPy_S1_%28Numpy_Arrays%29.ipynb\"><img align=\"right\" src=\"https://i.ibb.co/48wtV8c/nbviewer-badge.png\" alt=\"Open in nbviewer\" width=\"100\" height=\"100\" title=\"Open and Execute in nbviewer\"></a><br/>\n",
    "\n",
    "<hr>\n",
    "\n",
    "<p style=\"text-align: center;\"><img src=\"https://i.ibb.co/Rpz9L36/clarusway-logo-black.png\" width=\"500\" height=\"200\" class=\"img-fluid\" alt=\"CLRSWY_LOGO\"></p>\n",
    "\n",
    "<p style=\"text-align: center;\"><img src=\"https://i.ibb.co/XS0bxSH/best-bootcamps.png\" width=\"300\" height=\"200\" class=\"img-fluid\" alt=\"CLRSWY_LOGO\"></p>\n",
    "\n",
    "<p style=\"background-color:#E51A59; font-family:newtimeroman; color:#FDFEFE; font-size:130%; text-align:center; border-radius:10px 10px;\">WAY TO REINVENT YOURSELF</p>\n",
    "\n",
    "<p style=\"text-align: center;\"><img src=\"https://i.ibb.co/99DQ3TY/DS-Courses.png\" class=\"img-fluid\" \n",
    "alt=\"CLRSWY_Courses\"></p>"
   ]
  },
  {
   "cell_type": "markdown",
   "metadata": {
    "id": "Y9hFsTV0Aga2"
   },
   "source": [
    "<img src=https://i.ibb.co/6gCsHd6/1200px-Pandas-logo-svg.png width=\"700\" height=\"200\">\n",
    "\n",
    "## <p style=\"background-color:#FDFEFE; font-family:newtimeroman; color:#060108; font-size:200%; text-align:center; border-radius:10px 10px;\">Data Analysis with Python</p>\n",
    "\n",
    "## <p style=\"background-color:#FDFEFE; font-family:newtimeroman; color:#060108; font-size:150%; text-align:center; border-radius:10px 10px;\">Session - 10</p>\n",
    "\n",
    "## <p style=\"background-color:#FDFEFE; font-family:newtimeroman; color:#E51A59; font-size:200%; text-align:center; border-radius:10px 10px;\">Working with Text & Time Data</p>\n",
    "\n",
    "\n",
    "\n",
    "<img src=https://i.ibb.co/tLrfSDc/pandas-reading-book-on-beach.jpg width=\"400\" height=\"200\">\n",
    "\n",
    "[Image created using Free Online AI Image Generator](https://www.canva.com/ai-image-generator/)\n",
    "\n",
    "\n",
    "Raw text data often comes in a form that makes analysis difficult. As such, it often requires text processing methods. Text processing is the practice of automating the generation and manipulation of text. It can be used for many data manipulation tasks including feature engineering from text, data wrangling, web scraping, search engines and much more.\n",
    "\n",
    "Data wrangling including removal, extraction, replacement and conversion. is the process of gathering and transforming data to address an analytical question. It’s also often the most important and time-consuming step of the entire data science pipeline. In this process, you can also use Pandas to replace words or phrases with more informative or useful text.\n",
    "\n",
    "Today, using the basic Pandas tools and skills,  we’ll look at how to perform extraction from text as well as conversion of string values into time stamps or generating the type of clean and interpretable text data that allows for insights [Source](https://builtin.com/data-science/data-wrangling-pandas)."
   ]
  },
  {
   "cell_type": "markdown",
   "metadata": {},
   "source": [
    "<a id=\"toc\"></a>\n",
    "\n",
    "## <p style=\"background-color:#E51A59; font-family:newtimeroman; color:#FFF9ED; font-size:175%; text-align:center; border-radius:10px 10px;\">Content</p>\n",
    "\n",
    "* [WORKING WITH TEXT DATA](#0)\n",
    "* [IMPORTING LIBRARIES NEEDED IN THIS NOTEBOOK](#00)\n",
    "* [WORKING WITH TIME DATA](#1)\n",
    "    * [String Methods](#1.1)\n",
    "    * [Most Usefull String Methods](#1.2)\n",
    "    * [Dummy Operations](#1.3)\n",
    "* [WORKING WITH TIME DATA](#2)\n",
    "    * [pd.to_datetime()](#2.1)\n",
    "    * [Series.dt()](#2.2)\n",
    "    * [Datetime Module](#2.3)\n",
    "    * [Series.dt()](#2.4)\n",
    "* [OPERATION WITH DATETIME OBJECT](#3)\n",
    "* [THE END OF THE SESSION](#4)"
   ]
  },
  {
   "cell_type": "markdown",
   "metadata": {},
   "source": [
    "## <p style=\"background-color:#E51A59; font-family:newtimeroman; color:#FFF9ED; font-size:150%; text-align:center; border-radius:10px 10px;\">Importing Libraries Needed in This Notebook</p>\n",
    "\n",
    "<a id=\"00\"></a>\n",
    "<a href=\"#toc\" class=\"btn btn-primary btn-sm\" role=\"button\" aria-pressed=\"true\" \n",
    "style=\"color:blue; background-color:#dfa8e4\" data-toggle=\"popover\">Content</a>"
   ]
  },
  {
   "cell_type": "code",
   "execution_count": 1,
   "metadata": {
    "id": "tloWtpz4Aga4"
   },
   "outputs": [],
   "source": [
    "import pandas as pd              # DAwPy\n",
    "import numpy as np               # DAwPy\n",
    "import seaborn as sns            # Stats-1 & DAwPy\n",
    "import matplotlib.pyplot as plt  # Stats-1 & DAwPy"
   ]
  },
  {
   "cell_type": "markdown",
   "metadata": {},
   "source": [
    "- **``Importing Libraries``**: Make sure to import the required libraries before beginning your. You need both pandas and numpy.\n",
    "\n",
    "<p style=\"background-color:#FFFFFF; font-family:newtimeroman; color:#0000FF; font-size:110%; text-align:left;\"><strong>-----------------------------------------------------------------------------------------------------------------------------------------------------------------------------------------------</strong></p>\n",
    "\n",
    "- ``import warnings``: This imports the warnings module, which is part of Python's standard library and provides a way to issue warning messages.\n",
    "- ``warnings.filterwarnings(\"ignore\")``: This function call tells Python to ignore all warning messages that would normally be printed. This can be useful when we want to focus on the output of your program without being distracted by warnings.\n",
    "\n",
    "<p style=\"background-color:#FFFFFF; font-family:newtimeroman; color:#FF0000; font-size:125%; text-align:left;\"><strong>📢 Caution ❗❗❗</strong></p>\n",
    "\n",
    "\n",
    "- Ignoring warnings can sometimes hide important issues in our code, so use this approach judiciously. It's generally better to address the underlying causes of warnings rather than suppressing them.\n",
    "\n",
    "<p style=\"background-color:#FFFFFF; font-family:newtimeroman; color:#0000FF; font-size:110%; text-align:left;\"><strong>-----------------------------------------------------------------------------------------------------------------------------------------------------------------------------------------------</strong></p>"
   ]
  },
  {
   "cell_type": "markdown",
   "metadata": {},
   "source": [
    "## <p style=\"background-color:#E51A59; font-family:newtimeroman; color:#FFF9ED; font-size:175%; text-align:center; border-radius:10px 10px;\">Working with Text Data</p>\n",
    "\n",
    "<a id=\"1\"></a>\n",
    "<a href=\"#toc\" class=\"btn btn-primary btn-sm\" role=\"button\" aria-pressed=\"true\" \n",
    "style=\"color:blue; background-color:#dfa8e4\" data-toggle=\"popover\">Content</a>\n",
    "\n",
    "Pandas cannot only include text data as an object, it also includes any other data that pandas don’t understand. This means, if you say when a column is an Object dtype, and it doesn’t mean all the values in that column will be a string or text data. In fact, they may be numbers, or a mixture of string, integers, and floats dtype. So with this incompatibility, we can not do any string operations on that column directly. Due to this problem, string dtype is introduced from the pandas 1.0 version, but we need to define it explicitly for applying string functions.\n",
    "\n",
    "**🧐 [Pandas provides a set of string functions](https://pandas.pydata.org/docs/user_guide/text.html)** which make it easy to operate on string data. Most importantly, these functions ignore (or exclude) missing/NaN values. Almost, all of these methods work with Python string functions **🧐 [Refer To Official Python Documentation]( https://docs.python.org/3/library/stdtypes.html#string-methods)**. So, while studying with the Series Object, convert it to String Object and then perform the operation.\n",
    "\n",
    "To sum up, before pandas 1.0, only “object” datatype was used to store strings which cause some drawbacks because non-string data can also be stored using “object” datatype. Pandas 1.0 introduces a new datatype specific to string data which is StringDtype. According to **🧐 [Pandas Official Document](https://pandas.pydata.org/pandas-docs/stable/user_guide/text.html)**, there are two ways to store text data in pandas:\n",
    "- **Object -dtype NumPy array** (Object data type has a broader scope and allows to store pretty much anything).\n",
    "- **StringDtype extension type**\n",
    "\n",
    "**``One important thing``** to note here is that **object datatype is still the default datatype for strings**. To use StringDtype, we need to explicitly state it. Pandas recommend using StringDtype to store text data. However, “String” data type is not superior to “object” in terms of performance as of now **🧐 [SOURCE01](https://pandas.pydata.org/pandas-docs/stable/user_guide/text.html), [SOURCE02](https://www.w3schools.com/python/python_ref_string.asp)**. \n",
    "\n",
    "**🧐 [Why We Need to Use Pandas New String Dtype Instead of Object for Textual Data](https://towardsdatascience.com/why-we-need-to-use-pandas-new-string-dtype-instead-of-object-for-textual-data-6fd419842e24)**\n",
    "\n",
    "**🧐 [How do StringDtype objects differ from object dtype in Python Pandas?](https://www.tutorialspoint.com/how-do-stringdtype-objects-differ-from-object-dtype-in-python-pandas)**\n",
    "\n",
    "**🧐 [Pandas distinction between str and object types](https://stackoverflow.com/questions/34881079/pandas-distinction-between-str-and-object-types)**\n",
    "\n",
    "<p style=\"background-color:#FFFFFF; font-family:newtimeroman; color:#0000FF; font-size:110%; text-align:left;\"><strong>-----------------------------------------------------------------------------------------------------------------------------------------------------------------------------------------------</strong></p>\n",
    "\n",
    "### REMINDER: Distinction between ``str`` and ``object`` types\n",
    "\n",
    "``Numpy's string dtypes are NOT python strings``. Therefore, Pandas deliberately uses native Python strings, which require an object dtype.\n",
    "\n",
    "In pandas, there is an important distinction between string types and object types, particularly when dealing with text data. Here's a concise overview of the differences:\n",
    "\n",
    "<p style=\"background-color:#FFFFFF; font-family:newtimeroman; color:#0000FF; font-size:125%; text-align:left;\">1. String Types in NumPy vs. Python</p>\n",
    "\n",
    "- **NumPy String Dtypes:**\n",
    "   - ``NumPy`` provides ``specific string dtypes`` like np.str_ or np.bytes_.\n",
    "   - These are ``fixed-size`` and more efficient for certain operations but do ``NOT support the full range of string operations`` available in Python.\n",
    "- **Python Strings:**\n",
    "   - Native ``Python strings (str)`` are ``dynamic in size`` and support a wide range of methods for manipulation and formatting.\n",
    "   - They are ``mutable`` and can represent any Unicode character.\n",
    "\n",
    "<p style=\"background-color:#FFFFFF; font-family:newtimeroman; color:#0000FF; font-size:125%; text-align:left;\">2. Pandas' Choice of Data Types</p>\n",
    "\n",
    "- **Object Dtype:**\n",
    "   - In ``Pandas``, when text data is stored, it ``typically`` uses the ``object dtype``.\n",
    "   - This is because ``object`` can ``hold any Python object``, including strings. As a result, Pandas can flexibly accommodate the varied lengths and complex operations associated with Python strings.\n",
    "- **String Dtype:**\n",
    "   - In more recent versions of Pandas, there is also a ``dedicated string dtype`` (introduced as ``pd.StringDtype()``).\n",
    "   - This dtype is designed to be ``more efficient than object dtype for string operations`` and provides better performance for string-specific functionality.\n",
    "\n",
    "<p style=\"background-color:#FFFFFF; font-family:newtimeroman; color:#0000FF; font-size:125%; text-align:left;\">3. Implications of Using Object Dtype</p>\n",
    "\n",
    "   - When a Pandas Series or DataFrame column is of object dtype:\n",
    "     - It can contain ``mixed data types`` (e.g., numbers, strings).\n",
    "     - ``Operations on strings may be slower`` due to the overhead of handling generic objects.\n",
    "   - If you want to ensure ``better performance with string operations``, you can ``convert an object dtype column to the new string dtype``:\n",
    "     - ``df['column_name'] = df['column_name'].astype('string')``\n",
    "\n",
    "\n",
    "<p style=\"background-color:#FFFFFF; font-family:newtimeroman; color:#0000FF; font-size:110%; text-align:left;\"><strong>-----------------------------------------------------------------------------------------------------------------------------------------------------------------------------------------------</strong></p>\n",
    "\n",
    "<p style=\"background-color:#FFFFFF; font-family:newtimeroman; color:#F5051E; font-size:150%; text-align:left;\">The main difference between the object-dtype in NumPy arrays and the StringDtype extension type in Pandas is how they handle string data.</p>\n",
    "\n",
    "<p style=\"background-color:#FFFFFF; font-family:newtimeroman; color:#0000FF; font-size:125%; text-align:left;\">1. Object dtype in NumPy Arrays:</p>\n",
    "\n",
    "   - In NumPy, when an array contains elements of different types or when the array contains elements of more complex data structures (e.g., lists, dictionaries), the data type of the array is set to object. This means that the array elements are essentially treated as Python objects, and NumPy does not impose any restrictions on the type of data that can be stored in the array.\n",
    "   - The object dtype provides flexibility but may come at the cost of performance, as NumPy loses the ability to utilize specialized operations on the data due to its generic nature. Additionally, operations on arrays with object dtype might be slower compared to arrays with more specific dtypes.\n",
    "<br>\n",
    "\n",
    "<p style=\"background-color:#FFFFFF; font-family:newtimeroman; color:#0000FF; font-size:125%; text-align:left;\">2. StringDtype Extension Type in Pandas:</p>\n",
    "\n",
    "   - In Pandas, the StringDtype extension type is designed specifically to handle string data. It is a more efficient and specialized data type compared to the object dtype for handling text data. The StringDtype allows for vectorized string operations, which means that Pandas can perform string operations on entire columns of data efficiently, without the need for explicit loops.\n",
    "   - The StringDtype is part of the Pandas extension types, and it was introduced in Pandas version 1.0.0 to provide more consistency and improved performance for string data handling. Before Pandas 1.0.0, strings were usually represented as object dtypes in Pandas Series.\n",
    "   \n",
    "In summary, while both object dtype in NumPy and StringDtype extension type in Pandas can store string data, the StringDtype is specifically designed for efficient string handling and provides better performance for string operations in the context of Pandas. If you are working with string data in Pandas, it is recommended to use the StringDtype whenever possible to take advantage of its benefits in terms of efficiency and functionality.\n",
    "\n",
    "<p style=\"background-color:#FFFFFF; font-family:newtimeroman; color:#0000FF; font-size:110%; text-align:left;\"><strong>-----------------------------------------------------------------------------------------------------------------------------------------------------------------------------------------------</strong></p>\n",
    "\n",
    "\n",
    "**In this notebook, the **🧐 [string operations](https://www.tutorialspoint.com/python_pandas/python_pandas_working_with_text_data.htm)** will first be discussed with our basic Series/Index and we will learn how to apply these string functions on the DataFrame.**"
   ]
  },
  {
   "cell_type": "markdown",
   "metadata": {},
   "source": [
    "### <p style=\"background-color:#E51A59; font-family:newtimeroman; color:#FFF9ED; font-size:150%; text-align:LEFT; border-radius:10px 10px;\">String Methods</p>\n",
    "\n",
    "<a id=\"1.1\"></a>\n",
    "<a href=\"#toc\" class=\"btn btn-primary btn-sm\" role=\"button\" aria-pressed=\"true\" \n",
    "style=\"color:blue; background-color:#dfa8e4\" data-toggle=\"popover\">Content</a>\n",
    "\n",
    "Strings implement all of the common sequence operations, along with the additional methods described at [the official documentation](https://docs.python.org/3/library/stdtypes.html#string-methods).\n",
    "\n",
    "Strings also support two styles of string formatting, one providing a large degree of flexibility and customization (**Please see the information about** [str.format()](https://docs.python.org/3/library/stdtypes.html#str.format), [Format String Syntax](https://docs.python.org/3/library/string.html#formatstrings) and [Custom String Formatting](https://docs.python.org/3/library/string.html#string-formatting)) and the other based on C printf style formatting that handles a narrower range of types and is slightly harder to use correctly, but is often faster for the cases it can handle ([printf-style String Formatting](https://docs.python.org/3/library/stdtypes.html#old-string-formatting)).\n",
    "\n",
    "The [Text Processing Services](https://docs.python.org/3/library/text.html#textservices) section of the standard library covers a number of other modules that provide various text related utilities (including regular expression support in the [re](https://docs.python.org/3/library/re.html#module-re) module).\n",
    "\n",
    "Please watch [**``Video Source``**](https://www.youtube.com/watch?v=6JNwK6hEneg) for enhancing your understanding of working with Text Data in Pandas.  \n",
    "\n",
    "<p style=\"background-color:#FFFFFF; font-family:newtimeroman; color:#0000FF; font-size:125%; text-align:left;\"><strong>What are these String Methods? Now let us examine some of the most common and usefull String Methods and dig into them one by one:</strong></p>\n",
    "\n",
    "\n",
    "<p style=\"background-color:#FFFFFF; font-family:newtimeroman; color:#0000FF; font-size:110%; text-align:left;\"><strong>-----------------------------------------------------------------------------------------------------------------------------------------------------------------------------------------------</strong></p>\n",
    "\n"
   ]
  },
  {
   "cell_type": "code",
   "execution_count": 2,
   "metadata": {
    "id": "Wcou4rZ3Aga6",
    "outputId": "b1002003-cccc-4cb2-b592-4988a8e220d3",
    "scrolled": true
   },
   "outputs": [
    {
     "data": {
      "text/html": [
       "<div>\n",
       "<style scoped>\n",
       "    .dataframe tbody tr th:only-of-type {\n",
       "        vertical-align: middle;\n",
       "    }\n",
       "\n",
       "    .dataframe tbody tr th {\n",
       "        vertical-align: top;\n",
       "    }\n",
       "\n",
       "    .dataframe thead th {\n",
       "        text-align: right;\n",
       "    }\n",
       "</style>\n",
       "<table border=\"1\" class=\"dataframe\">\n",
       "  <thead>\n",
       "    <tr style=\"text-align: right;\">\n",
       "      <th></th>\n",
       "      <th>id</th>\n",
       "      <th>staff</th>\n",
       "      <th>department</th>\n",
       "      <th>job</th>\n",
       "      <th>salary</th>\n",
       "      <th>age</th>\n",
       "    </tr>\n",
       "  </thead>\n",
       "  <tbody>\n",
       "    <tr>\n",
       "      <th>0</th>\n",
       "      <td>M0001</td>\n",
       "      <td>Tom BLUE</td>\n",
       "      <td>HR</td>\n",
       "      <td>manager</td>\n",
       "      <td>\"$150,000\"</td>\n",
       "      <td>52</td>\n",
       "    </tr>\n",
       "    <tr>\n",
       "      <th>1</th>\n",
       "      <td>M0002</td>\n",
       "      <td>JOHN BLACK</td>\n",
       "      <td>IT</td>\n",
       "      <td>manager</td>\n",
       "      <td>\"$180,000\"</td>\n",
       "      <td>48</td>\n",
       "    </tr>\n",
       "    <tr>\n",
       "      <th>2</th>\n",
       "      <td>E0001</td>\n",
       "      <td>Micheal Brown</td>\n",
       "      <td>IT</td>\n",
       "      <td>data scientist</td>\n",
       "      <td>\"$150,000\"</td>\n",
       "      <td>35</td>\n",
       "    </tr>\n",
       "    <tr>\n",
       "      <th>3</th>\n",
       "      <td>E0002</td>\n",
       "      <td>jason walker</td>\n",
       "      <td>HR</td>\n",
       "      <td>recruiter</td>\n",
       "      <td>130000dolar</td>\n",
       "      <td>38</td>\n",
       "    </tr>\n",
       "    <tr>\n",
       "      <th>4</th>\n",
       "      <td>E0003</td>\n",
       "      <td>Alex Green</td>\n",
       "      <td>IT</td>\n",
       "      <td>backend developer</td>\n",
       "      <td>\"$110,000\"</td>\n",
       "      <td>-</td>\n",
       "    </tr>\n",
       "    <tr>\n",
       "      <th>5</th>\n",
       "      <td>E0004</td>\n",
       "      <td>OSCAR SMİTH</td>\n",
       "      <td>IT</td>\n",
       "      <td>frontend developer</td>\n",
       "      <td>\"$120,000\"</td>\n",
       "      <td>32</td>\n",
       "    </tr>\n",
       "    <tr>\n",
       "      <th>6</th>\n",
       "      <td>E0005</td>\n",
       "      <td>Adrian STAR</td>\n",
       "      <td>IT</td>\n",
       "      <td>data scientist</td>\n",
       "      <td>\"$135,000\"</td>\n",
       "      <td>40</td>\n",
       "    </tr>\n",
       "    <tr>\n",
       "      <th>7</th>\n",
       "      <td>E0006</td>\n",
       "      <td>Albert simon</td>\n",
       "      <td>IT</td>\n",
       "      <td>data scientist</td>\n",
       "      <td>125000dolar</td>\n",
       "      <td>35</td>\n",
       "    </tr>\n",
       "  </tbody>\n",
       "</table>\n",
       "</div>"
      ],
      "text/plain": [
       "      id          staff department                 job       salary age\n",
       "0  M0001       Tom BLUE         HR             manager   \"$150,000\"  52\n",
       "1  M0002     JOHN BLACK         IT             manager   \"$180,000\"  48\n",
       "2  E0001  Micheal Brown         IT      data scientist   \"$150,000\"  35\n",
       "3  E0002   jason walker         HR           recruiter  130000dolar  38\n",
       "4  E0003     Alex Green         IT   backend developer   \"$110,000\"   -\n",
       "5  E0004    OSCAR SMİTH         IT  frontend developer   \"$120,000\"  32\n",
       "6  E0005    Adrian STAR         IT      data scientist   \"$135,000\"  40\n",
       "7  E0006   Albert simon         IT      data scientist  125000dolar  35"
      ]
     },
     "execution_count": 2,
     "metadata": {},
     "output_type": "execute_result"
    }
   ],
   "source": [
    "# Load the DataFrame from the Excel file\n",
    "df = pd.read_excel(\"text_exercise.xlsx\")\n",
    "\n",
    "# Display the DataFrame\n",
    "df"
   ]
  },
  {
   "cell_type": "markdown",
   "metadata": {},
   "source": [
    "<p style=\"background-color:#FFFFFF; font-family:newtimeroman; color:#0000FF; font-size:110%; text-align:left;\"><strong>-----------------------------------------------------------------------------------------------------------------------------------------------------------------------------------------------</strong></p>\n",
    "\n",
    "\n",
    "**The following ``info()`` method provides a concise summary of the DataFrame, including the index data type, column names, non-null counts, data types of each column, and memory usage.**\n",
    "- This is particularly useful for understanding the structure of our dataset and identifying any potential issues, such as missing values."
   ]
  },
  {
   "cell_type": "code",
   "execution_count": 3,
   "metadata": {
    "id": "dBJWHYguAga7",
    "outputId": "9999aabf-3605-477f-b824-89f37c43973a",
    "scrolled": true
   },
   "outputs": [
    {
     "name": "stdout",
     "output_type": "stream",
     "text": [
      "<class 'pandas.core.frame.DataFrame'>\n",
      "RangeIndex: 8 entries, 0 to 7\n",
      "Data columns (total 6 columns):\n",
      " #   Column      Non-Null Count  Dtype \n",
      "---  ------      --------------  ----- \n",
      " 0   id          8 non-null      object\n",
      " 1   staff       8 non-null      object\n",
      " 2   department  8 non-null      object\n",
      " 3   job         8 non-null      object\n",
      " 4   salary      8 non-null      object\n",
      " 5   age         8 non-null      object\n",
      "dtypes: object(6)\n",
      "memory usage: 516.0+ bytes\n"
     ]
    }
   ],
   "source": [
    "# Summary of the DataFrame\n",
    "\n",
    "df.info()"
   ]
  },
  {
   "cell_type": "markdown",
   "metadata": {},
   "source": [
    "The output from ``df.info()`` provides a ``summary of our DataFrame``, which contains important details about its structure and data types. Here’s a breakdown of the information provided:\n",
    "\n",
    "**DataFrame Overview:**\n",
    "- **``Class``**: Indicates that df is a Pandas DataFrame.\n",
    "- **``RangeIndex``**: The DataFrame has ``8 entries (rows)``, ``indexed from 0 to 7``.\n",
    "- **``Data Columns``**: There are a ``total of 6 columns`` in the DataFrame.\n",
    "- **``Column Names and Types``**:\n",
    "   - **``id``**: ``8 non-null entries``, ``dtype: object``\n",
    "   - **``staff``**: ``8 non-null entries``, ``dtype: object``\n",
    "   - **``department``**: ``8 non-null entries``, ``dtype: object``\n",
    "   - **``job``**: ``8 non-null entries``, ``dtype: object``\n",
    "   - **``salary``**: ``8 non-null entries``, ``dtype: object``\n",
    "   - **``age``**: ``8 non-null entries``, ``dtype: object``\n",
    "\n",
    "**Key Insights:**\n",
    "- **``Non-Null Count``**:\n",
    "   - All columns have ``8 non-null entries``, which means there are ``no missing values`` in any of the columns.\n",
    "- **``Data Types``**:\n",
    "   -`` All columns`` are of ``object type``. This means that Pandas treats them as generic objects, which can include strings. However, the ``salary`` and ``age`` columns should ideally be numerical types for analysis purposes (e.g., integers or floats).\n",
    "- **``Memory Usage``**:\n",
    "   - The DataFrame is using approximately ``512 bytes of memory``.\n",
    "\n",
    "**Recommendations for Data Cleaning:**\n",
    "- Given that ``salary`` and ``age`` are currently of ``object type``, you may want to:\n",
    "   - **``Convert salary to a Numeric Type``**:\n",
    "     - Remove any non-numeric characters (like $, ,, or text) and convert the column to a numeric type (e.g., float).\n",
    "   - **``Convert age to an Integer Type``**:\n",
    "     - Ensure that any non-standard entries (e.g., -) are handled appropriately—either by replacing them with a valid age or marking them as missing.\n",
    "\n",
    "<p style=\"background-color:#FFFFFF; font-family:newtimeroman; color:#0000FF; font-size:110%; text-align:left;\"><strong>-----------------------------------------------------------------------------------------------------------------------------------------------------------------------------------------------</strong></p>\n",
    "\n"
   ]
  },
  {
   "cell_type": "markdown",
   "metadata": {
    "id": "wjdf9RVrAga8"
   },
   "source": [
    "### <p style=\"background-color:#E51A59; font-family:newtimeroman; color:#FFF9ED; font-size:150%; text-align:LEFT; border-radius:10px 10px;\">Most Usefull String Methods</p>\n",
    "\n",
    "<a id=\"1.2\"></a>\n",
    "<a href=\"#toc\" class=\"btn btn-primary btn-sm\" role=\"button\" aria-pressed=\"true\" \n",
    "style=\"color:blue; background-color:#dfa8e4\" data-toggle=\"popover\">Content</a>\n",
    "\n",
    "<p style=\"background-color:#FFFFFF; font-family:newtimeroman; color:blue; font-size:150%; text-align:left;\">📢❗🚨 In pandas, string methods are primarily applied to columns of type object or string. These methods allow for efficient manipulation and analysis of text data within DataFrames or Series.</p>"
   ]
  },
  {
   "cell_type": "markdown",
   "metadata": {
    "id": "7WlezG_wAga9"
   },
   "source": [
    "- **[str.lower()](https://pandas.pydata.org/docs/reference/api/pandas.Series.str.lower.html) =>** Converts a string into lower case\n",
    "- **[str.upper()](https://pandas.pydata.org/docs/reference/api/pandas.Series.str.upper.html) =>** Converts a string into upper case\n",
    "- **[str.capitalize()](https://pandas.pydata.org/docs/reference/api/pandas.Series.str.capitalize.html) =>** Converts the first character to upper case\n",
    "- **[str.title()](https://pandas.pydata.org/docs/reference/api/pandas.Series.str.title.html) =>** Converts the first character of each word to upper case\n",
    "- **[str.swapcase()](https://pandas.pydata.org/docs/reference/api/pandas.Series.str.swapcase.html) =>** Swaps the case lower/upper\n",
    "\n",
    "**🧐 [SOURCE01](https://www.tutorialspoint.com/python_pandas/python_pandas_working_with_text_data.htm)\n",
    "[SOURCE02](https://www.aboutdatablog.com/post/10-most-useful-string-functions-in-pandas)\n",
    "[SOURCE03](https://towardsdatascience.com/5-must-know-pandas-operations-on-strings-4f88ca6b8e25)\n",
    "[SOURCE04](https://towardsdatascience.com/pandas-string-operations-explained-fdfab7602fb4)\n",
    "[SOURCE05](https://blog.devgenius.io/string-operations-on-pandas-dataframe-88af220439d1)\n",
    "[SOURCE06](https://www.geeksforgeeks.org/string-manipulations-in-pandas-dataframe/)**"
   ]
  },
  {
   "cell_type": "markdown",
   "metadata": {
    "id": "8Fq8bdAMAga9"
   },
   "source": [
    "<p style=\"background-color:#FFFFFF; font-family:newtimeroman; color:#0000FF; font-size:110%; text-align:left;\"><strong>-----------------------------------------------------------------------------------------------------------------------------------------------------------------------------------------------</strong></p>\n",
    "\n",
    "\n",
    "## <p style=\"background-color:#FFFFFF; font-family:newtimeroman; color:#0000FF; font-size:125%; text-align:left;\"><strong>Part-01:</strong></p>\n",
    "\n",
    "\n",
    "### ``str.lower()``:  \n",
    "\n",
    "- returns a string where all characters are lower case.\n",
    "\n",
    "\n",
    "**The following code ``converts all the entries`` in the ``\"staff\"`` column of the DataFrame to ``lowercase``.** "
   ]
  },
  {
   "cell_type": "code",
   "execution_count": 4,
   "metadata": {
    "id": "BUhHBhCFAga-",
    "outputId": "4b95e343-a785-4c9f-8a74-5a95b437759f"
   },
   "outputs": [
    {
     "data": {
      "text/plain": [
       "0         tom blue\n",
       "1       john black\n",
       "2    micheal brown\n",
       "3     jason walker\n",
       "4       alex green\n",
       "5     oscar smi̇th\n",
       "6      adrian star\n",
       "7     albert simon\n",
       "Name: staff, dtype: object"
      ]
     },
     "execution_count": 4,
     "metadata": {},
     "output_type": "execute_result"
    }
   ],
   "source": [
    "# Convert the \"staff\" column to lowercase\n",
    "\n",
    "df[\"staff\"].str.lower()"
   ]
  },
  {
   "cell_type": "markdown",
   "metadata": {},
   "source": [
    "\n",
    "\n",
    "<p style=\"background-color:#FFFFFF; font-family:newtimeroman; color:#0000FF; font-size:110%; text-align:left;\"><strong>-----------------------------------------------------------------------------------------------------------------------------------------------------------------------------------------------</strong></p>\n",
    "\n",
    "### ``str.upper()``  \n",
    "- Used to convert strings in the Series/Index to uppercase. \n",
    "\n",
    "**The following code ``converts all the entries`` in the ``\"staff\"`` column of the DataFrame to ``uppercase``.** "
   ]
  },
  {
   "cell_type": "code",
   "execution_count": 5,
   "metadata": {
    "id": "CE3Nf_EuAgbA",
    "outputId": "9486383e-94a8-4022-92f8-aca418d70728"
   },
   "outputs": [
    {
     "data": {
      "text/plain": [
       "0         TOM BLUE\n",
       "1       JOHN BLACK\n",
       "2    MICHEAL BROWN\n",
       "3     JASON WALKER\n",
       "4       ALEX GREEN\n",
       "5      OSCAR SMİTH\n",
       "6      ADRIAN STAR\n",
       "7     ALBERT SIMON\n",
       "Name: staff, dtype: object"
      ]
     },
     "execution_count": 5,
     "metadata": {},
     "output_type": "execute_result"
    }
   ],
   "source": [
    "# Convert the \"staff\" column to uppercase\n",
    "\n",
    "df[\"staff\"].str.upper()"
   ]
  },
  {
   "cell_type": "markdown",
   "metadata": {},
   "source": [
    "\n",
    "\n",
    "<p style=\"background-color:#FFFFFF; font-family:newtimeroman; color:#0000FF; font-size:110%; text-align:left;\"><strong>-----------------------------------------------------------------------------------------------------------------------------------------------------------------------------------------------</strong></p>\n",
    "\n",
    "### ``str.title()`` \n",
    "- Used to convert strings in the Series/Index to titlecase.\n",
    "\n",
    "**The following code ``converts all the entries`` in the ``\"staff\"`` column of the DataFrame to ``title case``.** "
   ]
  },
  {
   "cell_type": "code",
   "execution_count": 6,
   "metadata": {
    "id": "zzwpizBNAgbB",
    "outputId": "b0be1851-2959-4984-fdd8-a381322a5748"
   },
   "outputs": [
    {
     "data": {
      "text/plain": [
       "0         Tom Blue\n",
       "1       John Black\n",
       "2    Micheal Brown\n",
       "3     Jason Walker\n",
       "4       Alex Green\n",
       "5     Oscar Smi̇th\n",
       "6      Adrian Star\n",
       "7     Albert Simon\n",
       "Name: staff, dtype: object"
      ]
     },
     "execution_count": 6,
     "metadata": {},
     "output_type": "execute_result"
    }
   ],
   "source": [
    "# Convert the \"staff\" column to title case\n",
    "\n",
    "df[\"staff\"].str.title()"
   ]
  },
  {
   "cell_type": "markdown",
   "metadata": {},
   "source": [
    "<p style=\"background-color:#FFFFFF; font-family:newtimeroman; color:#0000FF; font-size:110%; text-align:left;\"><strong>-----------------------------------------------------------------------------------------------------------------------------------------------------------------------------------------------</strong></p>\n",
    "\n",
    "\n",
    "### ``str.capitalize()``\n",
    "- Used to capitalize the string elements in Pandas Series.\n",
    "\n",
    "**The following code ``converts the first character of each string`` in the ``\"staff\"`` column to ``uppercase`` and ``all other characters`` to ``lowercase``.** "
   ]
  },
  {
   "cell_type": "code",
   "execution_count": 7,
   "metadata": {
    "id": "8tUWKQzYAgbC",
    "outputId": "d13b570e-c620-4a04-ad86-71cf6348d018"
   },
   "outputs": [
    {
     "data": {
      "text/plain": [
       "0         Tom blue\n",
       "1       John black\n",
       "2    Micheal brown\n",
       "3     Jason walker\n",
       "4       Alex green\n",
       "5     Oscar smi̇th\n",
       "6      Adrian star\n",
       "7     Albert simon\n",
       "Name: staff, dtype: object"
      ]
     },
     "execution_count": 7,
     "metadata": {},
     "output_type": "execute_result"
    }
   ],
   "source": [
    "# Convert the \"staff\" column to capitalize\n",
    "\n",
    "df[\"staff\"].str.capitalize()"
   ]
  },
  {
   "cell_type": "markdown",
   "metadata": {},
   "source": [
    "\n",
    "\n",
    "<p style=\"background-color:#FFFFFF; font-family:newtimeroman; color:#0000FF; font-size:110%; text-align:left;\"><strong>-----------------------------------------------------------------------------------------------------------------------------------------------------------------------------------------------</strong></p>\n",
    "\n",
    "**``str.swapcase()``** \n",
    "- Returns a string where all the upper case letters is converted to lower case and vice versa.\n",
    "\n",
    "**The following code ``converts all uppercase letters`` in the ``\"staff\"`` column to ``lowercase`` and ``all lowercase letters to uppercase``.** "
   ]
  },
  {
   "cell_type": "code",
   "execution_count": 8,
   "metadata": {
    "id": "kg1DdEOEAgbC",
    "outputId": "089a55cb-1eab-49d7-826f-f8fb115feb80"
   },
   "outputs": [
    {
     "data": {
      "text/plain": [
       "0         tOM blue\n",
       "1       john black\n",
       "2    mICHEAL bROWN\n",
       "3     JASON WALKER\n",
       "4       aLEX gREEN\n",
       "5     oscar smi̇th\n",
       "6      aDRIAN star\n",
       "7     aLBERT SIMON\n",
       "Name: staff, dtype: object"
      ]
     },
     "execution_count": 8,
     "metadata": {},
     "output_type": "execute_result"
    }
   ],
   "source": [
    "# Convert the \"staff\" column by swapping case\n",
    "\n",
    "df[\"staff\"].str.swapcase()"
   ]
  },
  {
   "cell_type": "markdown",
   "metadata": {},
   "source": [
    "\n",
    "\n",
    "<p style=\"background-color:#FFFFFF; font-family:newtimeroman; color:#0000FF; font-size:110%; text-align:left;\"><strong>-----------------------------------------------------------------------------------------------------------------------------------------------------------------------------------------------</strong></p>\n",
    "\n"
   ]
  },
  {
   "cell_type": "markdown",
   "metadata": {
    "id": "s2Ak2zZlAgbD"
   },
   "source": [
    "## <p style=\"background-color:#FFFFFF; font-family:newtimeroman; color:#0000FF; font-size:125%; text-align:left;\"><strong>Part-02:</strong></p>\n",
    "\n",
    "- **[str.isalpha()](https://pandas.pydata.org/docs/reference/api/pandas.Series.str.isalpha.html)     =>** Returns True if all characters in the string are in the alphabet\n",
    "- **[str.isnumeric()](https://pandas.pydata.org/docs/reference/api/pandas.Series.str.isnumeric.html)   =>** Returns True if all characters in the string are numeric\n",
    "- **[str.isalnum()](https://pandas.pydata.org/docs/reference/api/pandas.Series.str.isalnum.html)     =>** Returns True if all characters in the string are alphanumeric\n",
    "- **[str.endswith()](https://pandas.pydata.org/docs/reference/api/pandas.Series.str.endswith.html)\t  =>** Returns true if the string ends with the specified value\n",
    "- **[str.startswith()](https://pandas.pydata.org/docs/reference/api/pandas.Series.str.startswith.html)  =>** Returns true if the string starts with the specified value\n",
    "- **[str.contains()](https://pandas.pydata.org/docs/reference/api/pandas.Series.str.contains.html)    =>** Returns a Boolean value True for each element if the substring contains in the element, else False.\n",
    "\n",
    "**🧐 [SOURCE01](https://careerkarma.com/blog/python-isalpha-isnumeric-isalnum/)\n",
    "[SOURCE02](https://careerkarma.com/blog/python-startswith-and-endswith/)\n",
    "[SOURCE03](https://www.geeksforgeeks.org/python-startswith-endswidth-function/)\n",
    "[SOURCE04](https://towardsdatascience.com/check-for-a-substring-in-a-pandas-dataframe-column-4b949f64852#:~:text=The%20contains%20method%20in%20Pandas,str.)**"
   ]
  },
  {
   "cell_type": "markdown",
   "metadata": {
    "id": "_UhyMqLDAgbE"
   },
   "source": [
    "\n",
    "\n",
    "<p style=\"background-color:#FFFFFF; font-family:newtimeroman; color:#0000FF; font-size:110%; text-align:left;\"><strong>-----------------------------------------------------------------------------------------------------------------------------------------------------------------------------------------------</strong></p>\n",
    "\n"
   ]
  },
  {
   "cell_type": "code",
   "execution_count": 9,
   "metadata": {
    "id": "5-gjRh4VAgbE",
    "outputId": "2bd1d413-f3f7-40cf-f713-8ac825b20204"
   },
   "outputs": [
    {
     "data": {
      "text/html": [
       "<div>\n",
       "<style scoped>\n",
       "    .dataframe tbody tr th:only-of-type {\n",
       "        vertical-align: middle;\n",
       "    }\n",
       "\n",
       "    .dataframe tbody tr th {\n",
       "        vertical-align: top;\n",
       "    }\n",
       "\n",
       "    .dataframe thead th {\n",
       "        text-align: right;\n",
       "    }\n",
       "</style>\n",
       "<table border=\"1\" class=\"dataframe\">\n",
       "  <thead>\n",
       "    <tr style=\"text-align: right;\">\n",
       "      <th></th>\n",
       "      <th>id</th>\n",
       "      <th>staff</th>\n",
       "      <th>department</th>\n",
       "      <th>job</th>\n",
       "      <th>salary</th>\n",
       "      <th>age</th>\n",
       "    </tr>\n",
       "  </thead>\n",
       "  <tbody>\n",
       "    <tr>\n",
       "      <th>0</th>\n",
       "      <td>M0001</td>\n",
       "      <td>Tom BLUE</td>\n",
       "      <td>HR</td>\n",
       "      <td>manager</td>\n",
       "      <td>\"$150,000\"</td>\n",
       "      <td>52</td>\n",
       "    </tr>\n",
       "    <tr>\n",
       "      <th>1</th>\n",
       "      <td>M0002</td>\n",
       "      <td>JOHN BLACK</td>\n",
       "      <td>IT</td>\n",
       "      <td>manager</td>\n",
       "      <td>\"$180,000\"</td>\n",
       "      <td>48</td>\n",
       "    </tr>\n",
       "    <tr>\n",
       "      <th>2</th>\n",
       "      <td>E0001</td>\n",
       "      <td>Micheal Brown</td>\n",
       "      <td>IT</td>\n",
       "      <td>data scientist</td>\n",
       "      <td>\"$150,000\"</td>\n",
       "      <td>35</td>\n",
       "    </tr>\n",
       "    <tr>\n",
       "      <th>3</th>\n",
       "      <td>E0002</td>\n",
       "      <td>jason walker</td>\n",
       "      <td>HR</td>\n",
       "      <td>recruiter</td>\n",
       "      <td>130000dolar</td>\n",
       "      <td>38</td>\n",
       "    </tr>\n",
       "    <tr>\n",
       "      <th>4</th>\n",
       "      <td>E0003</td>\n",
       "      <td>Alex Green</td>\n",
       "      <td>IT</td>\n",
       "      <td>backend developer</td>\n",
       "      <td>\"$110,000\"</td>\n",
       "      <td>-</td>\n",
       "    </tr>\n",
       "    <tr>\n",
       "      <th>5</th>\n",
       "      <td>E0004</td>\n",
       "      <td>OSCAR SMİTH</td>\n",
       "      <td>IT</td>\n",
       "      <td>frontend developer</td>\n",
       "      <td>\"$120,000\"</td>\n",
       "      <td>32</td>\n",
       "    </tr>\n",
       "    <tr>\n",
       "      <th>6</th>\n",
       "      <td>E0005</td>\n",
       "      <td>Adrian STAR</td>\n",
       "      <td>IT</td>\n",
       "      <td>data scientist</td>\n",
       "      <td>\"$135,000\"</td>\n",
       "      <td>40</td>\n",
       "    </tr>\n",
       "    <tr>\n",
       "      <th>7</th>\n",
       "      <td>E0006</td>\n",
       "      <td>Albert simon</td>\n",
       "      <td>IT</td>\n",
       "      <td>data scientist</td>\n",
       "      <td>125000dolar</td>\n",
       "      <td>35</td>\n",
       "    </tr>\n",
       "  </tbody>\n",
       "</table>\n",
       "</div>"
      ],
      "text/plain": [
       "      id          staff department                 job       salary age\n",
       "0  M0001       Tom BLUE         HR             manager   \"$150,000\"  52\n",
       "1  M0002     JOHN BLACK         IT             manager   \"$180,000\"  48\n",
       "2  E0001  Micheal Brown         IT      data scientist   \"$150,000\"  35\n",
       "3  E0002   jason walker         HR           recruiter  130000dolar  38\n",
       "4  E0003     Alex Green         IT   backend developer   \"$110,000\"   -\n",
       "5  E0004    OSCAR SMİTH         IT  frontend developer   \"$120,000\"  32\n",
       "6  E0005    Adrian STAR         IT      data scientist   \"$135,000\"  40\n",
       "7  E0006   Albert simon         IT      data scientist  125000dolar  35"
      ]
     },
     "execution_count": 9,
     "metadata": {},
     "output_type": "execute_result"
    }
   ],
   "source": [
    "# Let us remember our df\n",
    "\n",
    "df"
   ]
  },
  {
   "cell_type": "markdown",
   "metadata": {},
   "source": [
    "\n",
    "\n",
    "<p style=\"background-color:#FFFFFF; font-family:newtimeroman; color:#0000FF; font-size:110%; text-align:left;\"><strong>-----------------------------------------------------------------------------------------------------------------------------------------------------------------------------------------------</strong></p>\n",
    "\n",
    "### str.isalpha()\n",
    "- Function in pandas python checks whether the string consists of ``alphabetic characters only``. It returns True when alphabetic value is present and it returns False when the alphabetic value is not present.\n",
    "\n",
    "**The following code snippet displays the ``\"job\"`` column from the DataFrame and ``check if each job title consists solely of alphabetic characters``:**"
   ]
  },
  {
   "cell_type": "code",
   "execution_count": 10,
   "metadata": {
    "id": "egiL851cAgbF",
    "outputId": "73efa5d3-10c7-478b-d05d-c573bb8fb1be"
   },
   "outputs": [
    {
     "data": {
      "text/plain": [
       "0               manager\n",
       "1               manager\n",
       "2        data scientist\n",
       "3             recruiter\n",
       "4     backend developer\n",
       "5    frontend developer\n",
       "6        data scientist\n",
       "7        data scientist\n",
       "Name: job, dtype: object"
      ]
     },
     "metadata": {},
     "output_type": "display_data"
    },
    {
     "data": {
      "text/plain": [
       "0     True\n",
       "1     True\n",
       "2    False\n",
       "3     True\n",
       "4    False\n",
       "5    False\n",
       "6    False\n",
       "7    False\n",
       "Name: job, dtype: bool"
      ]
     },
     "execution_count": 10,
     "metadata": {},
     "output_type": "execute_result"
    }
   ],
   "source": [
    "# Display the \"job\" column\n",
    "display(df.job)\n",
    "\n",
    "# Check if each job title is alphabetic\n",
    "df.job.str.isalpha()"
   ]
  },
  {
   "cell_type": "markdown",
   "metadata": {},
   "source": [
    "The job title ``\"data scientist\"`` contains a ``space`` between the words \"data\" and \"scientist.\" The isalpha() method considers spaces as non-alphabetic characters, which leads to the result being False.\n",
    "\n",
    "<p style=\"background-color:#FFFFFF; font-family:newtimeroman; color:#0000FF; font-size:110%; text-align:left;\"><strong>-----------------------------------------------------------------------------------------------------------------------------------------------------------------------------------------------</strong></p>\n",
    "\n",
    "### str.isnumeric()\n",
    "- Checks whether all characters in each string are ``numeric``. This is equivalent to running the Python string method **str.isnumeric()** for each element of the Series/Index."
   ]
  },
  {
   "cell_type": "code",
   "execution_count": 11,
   "metadata": {
    "id": "Wf9cUkshAgbG",
    "outputId": "d1ac5e64-79e6-4705-fec9-a9f21f0cbdb8"
   },
   "outputs": [
    {
     "data": {
      "text/plain": [
       "0    52\n",
       "1    48\n",
       "2    35\n",
       "3    38\n",
       "4     -\n",
       "5    32\n",
       "6    40\n",
       "7    35\n",
       "Name: age, dtype: object"
      ]
     },
     "metadata": {},
     "output_type": "display_data"
    },
    {
     "name": "stdout",
     "output_type": "stream",
     "text": [
      "<class 'int'>\n"
     ]
    },
    {
     "data": {
      "text/plain": [
       "0      NaN\n",
       "1      NaN\n",
       "2      NaN\n",
       "3      NaN\n",
       "4    False\n",
       "5      NaN\n",
       "6      NaN\n",
       "7      NaN\n",
       "Name: age, dtype: object"
      ]
     },
     "execution_count": 11,
     "metadata": {},
     "output_type": "execute_result"
    }
   ],
   "source": [
    "# Display the \"age\" column\n",
    "display(df[\"age\"])\n",
    "\n",
    "# Print the type of the first element in the \"age\" column\n",
    "print(type(df.age[0]))\n",
    "\n",
    "# Check if each age entry is numeric\n",
    "df[\"age\"].str.isnumeric()"
   ]
  },
  {
   "cell_type": "markdown",
   "metadata": {},
   "source": [
    "📢❗🚨 This will return a ``Series of boolean`` values indicating`` whether each age entry is numeric``. However, the str.isnumeric() method will ``NOT work correctly due to the presence of a non-numeric character`` **``('-')``**.\n",
    "\n",
    "📢❗🚨 The output, where many entries are NaN (Not a Number), likely indicates that the entries in the ``\"age\"`` column are not being recognized as strings. This can happen if there are ``leading`` or ``trailing spaces``, or if the entries are of ``mixed types`` (e.g., integers and strings).\n",
    "\n",
    "**Possible Reasons for ``NaN`` Output:**\n",
    "- **``Leading or Trailing Spaces:``**\n",
    "   - If there are leading or trailing spaces in the age entries, the method may not recognize the values as valid strings for numeric checking.\n",
    "- **``Mixed Data Types:``**\n",
    "   - If the column contains integers, strings, and special characters (like '-'), pandas may interpret the column as an object type, but the string methods may not work as expected.\n",
    "\n",
    "<p style=\"background-color:#FFFFFF; font-family:newtimeroman; color:#0000FF; font-size:110%; text-align:left;\"><strong>-----------------------------------------------------------------------------------------------------------------------------------------------------------------------------------------------</strong></p>\n",
    "\n",
    "\n",
    "\n"
   ]
  },
  {
   "cell_type": "code",
   "execution_count": 12,
   "metadata": {
    "id": "nMCQ34HaAgbG",
    "outputId": "6a53cb98-e5d7-42eb-b3a9-623295734a9c"
   },
   "outputs": [
    {
     "data": {
      "text/plain": [
       "0     True\n",
       "1     True\n",
       "2     True\n",
       "3     True\n",
       "4    False\n",
       "5     True\n",
       "6     True\n",
       "7     True\n",
       "Name: age, dtype: boolean"
      ]
     },
     "execution_count": 12,
     "metadata": {},
     "output_type": "execute_result"
    }
   ],
   "source": [
    "# Convert the \"age\" column to string and check if each entry is numeric\n",
    "\n",
    "df[\"age\"].astype(\"string\").str.isnumeric()"
   ]
  },
  {
   "cell_type": "markdown",
   "metadata": {},
   "source": [
    "**Explanation:**\n",
    "- **``astype(\"string\")``**: This converts the \"age\" column to a pandas string type, which allows for string operations to be applied consistently across all entries.\n",
    "- **``str.isnumeric()``**: This method checks if each string consists only of numeric characters. It returns False for entries like '-' that are not numeric.\n",
    "\n",
    "<p style=\"background-color:#FFFFFF; font-family:newtimeroman; color:#0000FF; font-size:110%; text-align:left;\"><strong>-----------------------------------------------------------------------------------------------------------------------------------------------------------------------------------------------</strong></p>\n",
    "\n",
    "### str.isalnum()\n",
    "- Function in python checks whether the string consists of ``alphanumeric characters``. It returns True when alphanumeric value is present and it returns False when the alphanumeric value is not present. Alphanumeric means a character that is ``either a letter or a number``."
   ]
  },
  {
   "cell_type": "code",
   "execution_count": 13,
   "metadata": {
    "id": "C_nbZSKTAgbH",
    "outputId": "063b60a7-d8af-457a-e2c6-8d5f9f5a6678"
   },
   "outputs": [
    {
     "data": {
      "text/plain": [
       "0     \"$150,000\"\n",
       "1     \"$180,000\"\n",
       "2     \"$150,000\"\n",
       "3    130000dolar\n",
       "4     \"$110,000\"\n",
       "5     \"$120,000\"\n",
       "6     \"$135,000\"\n",
       "7    125000dolar\n",
       "Name: salary, dtype: object"
      ]
     },
     "metadata": {},
     "output_type": "display_data"
    },
    {
     "data": {
      "text/plain": [
       "0    False\n",
       "1    False\n",
       "2    False\n",
       "3     True\n",
       "4    False\n",
       "5    False\n",
       "6    False\n",
       "7     True\n",
       "Name: salary, dtype: bool"
      ]
     },
     "execution_count": 13,
     "metadata": {},
     "output_type": "execute_result"
    }
   ],
   "source": [
    "# Display the \"salary\" column\n",
    "display(df.salary)\n",
    "\n",
    "# Check if each salary entry is alphanumeric\n",
    "df[\"salary\"].str.isalnum()"
   ]
  },
  {
   "cell_type": "markdown",
   "metadata": {},
   "source": [
    "This returns a Series of boolean values indicating ``whether each salary entry consists solely of alphanumeric characters``.\n",
    "\n",
    "**Explanation:**\n",
    "- **``isalnum()``**: This method checks if each string consists only of alphanumeric characters (letters and numbers). It returns False for entries that contain special characters like ``$`` or ``,``, which are common in salary formats.\n",
    "\n",
    "   - In this case, entries like ``\"$150,000\"`` and ``\"$110,000\"`` will return ``False``, while ``130000dolar`` and ``125000dolar`` will return ``True`` because they ``contain only alphanumeric character``s (📢❗🚨 but note that they are not in the proper currency format).\n",
    "\n",
    "<p style=\"background-color:#FFFFFF; font-family:newtimeroman; color:#0000FF; font-size:110%; text-align:left;\"><strong>-----------------------------------------------------------------------------------------------------------------------------------------------------------------------------------------------</strong></p>\n",
    "\n",
    "### str.startswith()\n",
    "\n",
    "Pandas **startswith()** tests if the start of each string element matches a pattern. It is yet another method to search and filter text data in Series or Data Frame. This method is Similar to Python’s startswith() method, but has different parameters and it works on Pandas objects only. Hence .str has to be prefixed everytime before calling this method, so that the compiler knows that it’s different from default function."
   ]
  },
  {
   "cell_type": "code",
   "execution_count": 14,
   "metadata": {
    "id": "YJA7lu2CAgbH",
    "outputId": "dccdb85a-07af-40bb-d3c5-7b913a2f47b5"
   },
   "outputs": [
    {
     "data": {
      "text/plain": [
       "0               manager\n",
       "1               manager\n",
       "2        data scientist\n",
       "3             recruiter\n",
       "4     backend developer\n",
       "5    frontend developer\n",
       "6        data scientist\n",
       "7        data scientist\n",
       "Name: job, dtype: object"
      ]
     },
     "metadata": {},
     "output_type": "display_data"
    },
    {
     "data": {
      "text/plain": [
       "0    False\n",
       "1    False\n",
       "2     True\n",
       "3    False\n",
       "4    False\n",
       "5    False\n",
       "6     True\n",
       "7     True\n",
       "Name: job, dtype: bool"
      ]
     },
     "execution_count": 14,
     "metadata": {},
     "output_type": "execute_result"
    }
   ],
   "source": [
    "# Display the \"job\" column\n",
    "display(df.job)\n",
    "\n",
    "# Check if each job title starts with \"d\"\n",
    "df[\"job\"].str.startswith(\"d\")"
   ]
  },
  {
   "cell_type": "markdown",
   "metadata": {},
   "source": [
    "This returns a ``Series of boolean values`` indicating ``whether each job title starts with the letter \"d\"``.\n",
    "\n",
    "**Explanation:**\n",
    "- **``startswith(\"d\")``**: This method checks ``whether each string in the \"job\" column begins with the letter \"d\"``.\n",
    "   - In this case, it will return ``True`` for ``job titles like \"data scientist\"``, while ``other titles that do not start with \"d\"`` will return ``False``.\n",
    "\n",
    "<p style=\"background-color:#FFFFFF; font-family:newtimeroman; color:#0000FF; font-size:110%; text-align:left;\"><strong>-----------------------------------------------------------------------------------------------------------------------------------------------------------------------------------------------</strong></p>\n",
    "\n",
    "### str.endswith()\n",
    "\n",
    "Pandas **endswith()** method is a built-in function that determines whether the given string ends with a specific sequence of characters."
   ]
  },
  {
   "cell_type": "code",
   "execution_count": 15,
   "metadata": {
    "id": "Ut-kacTIAgbH",
    "outputId": "9f73090b-5b06-44b8-b771-f657fcbc9d08"
   },
   "outputs": [
    {
     "data": {
      "text/plain": [
       "0               manager\n",
       "1               manager\n",
       "2        data scientist\n",
       "3             recruiter\n",
       "4     backend developer\n",
       "5    frontend developer\n",
       "6        data scientist\n",
       "7        data scientist\n",
       "Name: job, dtype: object"
      ]
     },
     "metadata": {},
     "output_type": "display_data"
    },
    {
     "data": {
      "text/plain": [
       "0    False\n",
       "1    False\n",
       "2    False\n",
       "3    False\n",
       "4     True\n",
       "5     True\n",
       "6    False\n",
       "7    False\n",
       "Name: job, dtype: bool"
      ]
     },
     "execution_count": 15,
     "metadata": {},
     "output_type": "execute_result"
    }
   ],
   "source": [
    "# Display the \"job\" column\n",
    "display(df.job)\n",
    "\n",
    "# Check if each job title ends with \"per\"\n",
    "df[\"job\"].str.endswith(\"per\")"
   ]
  },
  {
   "cell_type": "markdown",
   "metadata": {},
   "source": [
    "This will return a ``Series of boolean values`` indicating ``whether each job title ends with the string \"per\"``.\n",
    "\n",
    "**Explanation:**\n",
    "- **``endswith(\"per\")``**: This method checks ``whether each string in the \"job\" column ends with the specified substring \"per\"``.\n",
    "   - In this case, it will return ``True`` for ``job titles like \"backend developer\"`` and ``\"frontend developer\"``, while ``other titles that do not end with \"per\"`` will return ``False``.\n",
    "\n",
    "<p style=\"background-color:#FFFFFF; font-family:newtimeroman; color:#0000FF; font-size:110%; text-align:left;\"><strong>-----------------------------------------------------------------------------------------------------------------------------------------------------------------------------------------------</strong></p>\n",
    "\n",
    "### str.contains()\n",
    "\n",
    "The **contains()** method in Pandas allows you to search a column for a specific substring. The contains method returns boolean values for the Series with True for if the original Series value contains the substring and False if not **🧐 [SOURCE](https://towardsdatascience.com/check-for-a-substring-in-a-pandas-dataframe-column-4b949f64852#:~:text=The%20contains%20method%20in%20Pandas,str.)**."
   ]
  },
  {
   "cell_type": "code",
   "execution_count": 16,
   "metadata": {
    "id": "Dh18m0YUAgbI",
    "outputId": "a712bf27-9b25-4132-9279-1aec4e1efdce"
   },
   "outputs": [
    {
     "data": {
      "text/plain": [
       "0               manager\n",
       "1               manager\n",
       "2        data scientist\n",
       "3             recruiter\n",
       "4     backend developer\n",
       "5    frontend developer\n",
       "6        data scientist\n",
       "7        data scientist\n",
       "Name: job, dtype: object"
      ]
     },
     "metadata": {},
     "output_type": "display_data"
    },
    {
     "data": {
      "text/plain": [
       "0    False\n",
       "1    False\n",
       "2     True\n",
       "3    False\n",
       "4    False\n",
       "5    False\n",
       "6     True\n",
       "7     True\n",
       "Name: job, dtype: bool"
      ]
     },
     "execution_count": 16,
     "metadata": {},
     "output_type": "execute_result"
    }
   ],
   "source": [
    "# Display the \"job\" column\n",
    "display(df[\"job\"])\n",
    "\n",
    "# Check if each job title contains \"data\"\n",
    "df[\"job\"].str.contains(\"data\")"
   ]
  },
  {
   "cell_type": "markdown",
   "metadata": {},
   "source": [
    "This will return a ``Series of boolean values`` indicating ``whether each job title contains the substring \"data\"``.\n",
    "\n",
    "**Explanation:**\n",
    "- **``contains(\"data\")``**: This method checks ``whether each string in the \"job\" column contains the substring \"data\"``.\n",
    "   - In this case, it will return ``True`` for ``job titles like \"data scientist\"``, while ``other titles that do not contain \"data\"`` will return ``False``.\n",
    "\n",
    "<p style=\"background-color:#FFFFFF; font-family:newtimeroman; color:#0000FF; font-size:110%; text-align:left;\"><strong>-----------------------------------------------------------------------------------------------------------------------------------------------------------------------------------------------</strong></p>\n",
    "\n"
   ]
  },
  {
   "cell_type": "code",
   "execution_count": 17,
   "metadata": {
    "id": "OJmmKZf-AgbI",
    "outputId": "f327b727-9569-4889-e371-c3991025b416"
   },
   "outputs": [
    {
     "data": {
      "text/plain": [
       "0     \"$150,000\"\n",
       "1     \"$180,000\"\n",
       "2     \"$150,000\"\n",
       "3    130000dolar\n",
       "4     \"$110,000\"\n",
       "5     \"$120,000\"\n",
       "6     \"$135,000\"\n",
       "7    125000dolar\n",
       "Name: salary, dtype: object"
      ]
     },
     "metadata": {},
     "output_type": "display_data"
    },
    {
     "data": {
      "text/plain": [
       "0    False\n",
       "1    False\n",
       "2    False\n",
       "3     True\n",
       "4    False\n",
       "5    False\n",
       "6    False\n",
       "7     True\n",
       "Name: salary, dtype: bool"
      ]
     },
     "execution_count": 17,
     "metadata": {},
     "output_type": "execute_result"
    }
   ],
   "source": [
    "# Display the \"salary\" column\n",
    "display(df.salary)\n",
    "\n",
    "# Check if each salary entry contains lowercase alphabetic characters\n",
    "df[\"salary\"].str.contains(\"[a-z]+\")"
   ]
  },
  {
   "cell_type": "markdown",
   "metadata": {},
   "source": [
    "This will return a ``Series of boolean values`` indicating ``whether each salary entry contains lowercase alphabetic characters``.\n",
    "\n",
    "**Explanation:**\n",
    "- **``contains(\"[a-z]+\")``**: This method checks ``whether each string in the \"salary\" column contains at least one lowercase letter``.\n",
    "   - In this case, it will return ``True`` for ``entries like \"130000dolar\" and \"125000dolar\"`` that include ``lowercase letters``, while ``other entries that do not contain lowercase letters`` will return ``False``.\n",
    "\n",
    "<p style=\"background-color:#FFFFFF; font-family:newtimeroman; color:#0000FF; font-size:110%; text-align:left;\"><strong>-----------------------------------------------------------------------------------------------------------------------------------------------------------------------------------------------</strong></p>\n",
    "\n",
    "**We can use these string methods which returning boolean expression for creating condition and so selecting relative rows:**"
   ]
  },
  {
   "cell_type": "code",
   "execution_count": 18,
   "metadata": {
    "id": "xuQadChjAgbJ",
    "outputId": "30b57947-1784-4505-e797-b59ddc0290c9"
   },
   "outputs": [
    {
     "data": {
      "text/html": [
       "<div>\n",
       "<style scoped>\n",
       "    .dataframe tbody tr th:only-of-type {\n",
       "        vertical-align: middle;\n",
       "    }\n",
       "\n",
       "    .dataframe tbody tr th {\n",
       "        vertical-align: top;\n",
       "    }\n",
       "\n",
       "    .dataframe thead th {\n",
       "        text-align: right;\n",
       "    }\n",
       "</style>\n",
       "<table border=\"1\" class=\"dataframe\">\n",
       "  <thead>\n",
       "    <tr style=\"text-align: right;\">\n",
       "      <th></th>\n",
       "      <th>id</th>\n",
       "      <th>staff</th>\n",
       "      <th>department</th>\n",
       "      <th>job</th>\n",
       "      <th>salary</th>\n",
       "      <th>age</th>\n",
       "    </tr>\n",
       "  </thead>\n",
       "  <tbody>\n",
       "    <tr>\n",
       "      <th>2</th>\n",
       "      <td>E0001</td>\n",
       "      <td>Micheal Brown</td>\n",
       "      <td>IT</td>\n",
       "      <td>data scientist</td>\n",
       "      <td>\"$150,000\"</td>\n",
       "      <td>35</td>\n",
       "    </tr>\n",
       "    <tr>\n",
       "      <th>6</th>\n",
       "      <td>E0005</td>\n",
       "      <td>Adrian STAR</td>\n",
       "      <td>IT</td>\n",
       "      <td>data scientist</td>\n",
       "      <td>\"$135,000\"</td>\n",
       "      <td>40</td>\n",
       "    </tr>\n",
       "    <tr>\n",
       "      <th>7</th>\n",
       "      <td>E0006</td>\n",
       "      <td>Albert simon</td>\n",
       "      <td>IT</td>\n",
       "      <td>data scientist</td>\n",
       "      <td>125000dolar</td>\n",
       "      <td>35</td>\n",
       "    </tr>\n",
       "  </tbody>\n",
       "</table>\n",
       "</div>"
      ],
      "text/plain": [
       "      id          staff department             job       salary age\n",
       "2  E0001  Micheal Brown         IT  data scientist   \"$150,000\"  35\n",
       "6  E0005    Adrian STAR         IT  data scientist   \"$135,000\"  40\n",
       "7  E0006   Albert simon         IT  data scientist  125000dolar  35"
      ]
     },
     "execution_count": 18,
     "metadata": {},
     "output_type": "execute_result"
    }
   ],
   "source": [
    "# Filter the DataFrame for rows where the \"job\" column contains \"data\"\n",
    "\n",
    "df[df[\"job\"].str.contains(\"data\")]"
   ]
  },
  {
   "cell_type": "markdown",
   "metadata": {},
   "source": [
    "**Explanation:**\n",
    "- **``df.job.str.contains(\"data\")``**: Filters the DataFrame to ``include only those rows`` where ``the \"job\" column contains the substring \"data\"``.\n",
    "   - This will include all ``entries for job titles`` like ``\"data scientist\"``.\n",
    "\n",
    "<p style=\"background-color:#FFFFFF; font-family:newtimeroman; color:#0000FF; font-size:110%; text-align:left;\"><strong>-----------------------------------------------------------------------------------------------------------------------------------------------------------------------------------------------</strong></p>\n",
    "\n"
   ]
  },
  {
   "cell_type": "code",
   "execution_count": 19,
   "metadata": {
    "id": "qXgaQUNiAgbJ",
    "outputId": "758be3e4-73c5-433c-929e-c1891a3f2bfa"
   },
   "outputs": [
    {
     "data": {
      "text/plain": [
       "2    IT\n",
       "6    IT\n",
       "7    IT\n",
       "Name: department, dtype: object"
      ]
     },
     "execution_count": 19,
     "metadata": {},
     "output_type": "execute_result"
    }
   ],
   "source": [
    "# Retrieve the \"department\" values where the \"job\" contains \"data\"\n",
    "\n",
    "df.loc[df[\"job\"].str.contains(\"data\"), \"department\"]"
   ]
  },
  {
   "cell_type": "markdown",
   "metadata": {},
   "source": [
    "The output shows the ``\"department\"`` entries corresponding to ``job titles`` that contain ``\"data\"``:\n",
    "\n",
    "**Explanation:**\n",
    "- **``df.loc[...]``**: This method is used to access a group of rows and columns by labels or a boolean array.\n",
    "- **``df.job.str.contains(\"data\")``**: This condition checks which job titles contain the substring \"data\".\n",
    "- **``\"department\"``**: This specifies that you want to retrieve the values from the \"department\" column for the filtered rows.\n",
    "\n",
    "<p style=\"background-color:#FFFFFF; font-family:newtimeroman; color:#0000FF; font-size:110%; text-align:left;\"><strong>-----------------------------------------------------------------------------------------------------------------------------------------------------------------------------------------------</strong></p>\n",
    "\n",
    "**The following code snippet updates the ``\"department\"`` values in the DataFrame to ``\"DS\"`` for the rows where the \"job\" column contains the substring ``\"data\"``:**"
   ]
  },
  {
   "cell_type": "code",
   "execution_count": 20,
   "metadata": {
    "id": "ZYQ1qHBUAgbJ",
    "outputId": "7ad73dc6-1dc1-449a-88f4-2e5f852c79d5"
   },
   "outputs": [
    {
     "data": {
      "text/html": [
       "<div>\n",
       "<style scoped>\n",
       "    .dataframe tbody tr th:only-of-type {\n",
       "        vertical-align: middle;\n",
       "    }\n",
       "\n",
       "    .dataframe tbody tr th {\n",
       "        vertical-align: top;\n",
       "    }\n",
       "\n",
       "    .dataframe thead th {\n",
       "        text-align: right;\n",
       "    }\n",
       "</style>\n",
       "<table border=\"1\" class=\"dataframe\">\n",
       "  <thead>\n",
       "    <tr style=\"text-align: right;\">\n",
       "      <th></th>\n",
       "      <th>id</th>\n",
       "      <th>staff</th>\n",
       "      <th>department</th>\n",
       "      <th>job</th>\n",
       "      <th>salary</th>\n",
       "      <th>age</th>\n",
       "    </tr>\n",
       "  </thead>\n",
       "  <tbody>\n",
       "    <tr>\n",
       "      <th>0</th>\n",
       "      <td>M0001</td>\n",
       "      <td>Tom BLUE</td>\n",
       "      <td>HR</td>\n",
       "      <td>manager</td>\n",
       "      <td>\"$150,000\"</td>\n",
       "      <td>52</td>\n",
       "    </tr>\n",
       "    <tr>\n",
       "      <th>1</th>\n",
       "      <td>M0002</td>\n",
       "      <td>JOHN BLACK</td>\n",
       "      <td>IT</td>\n",
       "      <td>manager</td>\n",
       "      <td>\"$180,000\"</td>\n",
       "      <td>48</td>\n",
       "    </tr>\n",
       "    <tr>\n",
       "      <th>2</th>\n",
       "      <td>E0001</td>\n",
       "      <td>Micheal Brown</td>\n",
       "      <td>DS</td>\n",
       "      <td>data scientist</td>\n",
       "      <td>\"$150,000\"</td>\n",
       "      <td>35</td>\n",
       "    </tr>\n",
       "    <tr>\n",
       "      <th>3</th>\n",
       "      <td>E0002</td>\n",
       "      <td>jason walker</td>\n",
       "      <td>HR</td>\n",
       "      <td>recruiter</td>\n",
       "      <td>130000dolar</td>\n",
       "      <td>38</td>\n",
       "    </tr>\n",
       "    <tr>\n",
       "      <th>4</th>\n",
       "      <td>E0003</td>\n",
       "      <td>Alex Green</td>\n",
       "      <td>IT</td>\n",
       "      <td>backend developer</td>\n",
       "      <td>\"$110,000\"</td>\n",
       "      <td>-</td>\n",
       "    </tr>\n",
       "    <tr>\n",
       "      <th>5</th>\n",
       "      <td>E0004</td>\n",
       "      <td>OSCAR SMİTH</td>\n",
       "      <td>IT</td>\n",
       "      <td>frontend developer</td>\n",
       "      <td>\"$120,000\"</td>\n",
       "      <td>32</td>\n",
       "    </tr>\n",
       "    <tr>\n",
       "      <th>6</th>\n",
       "      <td>E0005</td>\n",
       "      <td>Adrian STAR</td>\n",
       "      <td>DS</td>\n",
       "      <td>data scientist</td>\n",
       "      <td>\"$135,000\"</td>\n",
       "      <td>40</td>\n",
       "    </tr>\n",
       "    <tr>\n",
       "      <th>7</th>\n",
       "      <td>E0006</td>\n",
       "      <td>Albert simon</td>\n",
       "      <td>DS</td>\n",
       "      <td>data scientist</td>\n",
       "      <td>125000dolar</td>\n",
       "      <td>35</td>\n",
       "    </tr>\n",
       "  </tbody>\n",
       "</table>\n",
       "</div>"
      ],
      "text/plain": [
       "      id          staff department                 job       salary age\n",
       "0  M0001       Tom BLUE         HR             manager   \"$150,000\"  52\n",
       "1  M0002     JOHN BLACK         IT             manager   \"$180,000\"  48\n",
       "2  E0001  Micheal Brown         DS      data scientist   \"$150,000\"  35\n",
       "3  E0002   jason walker         HR           recruiter  130000dolar  38\n",
       "4  E0003     Alex Green         IT   backend developer   \"$110,000\"   -\n",
       "5  E0004    OSCAR SMİTH         IT  frontend developer   \"$120,000\"  32\n",
       "6  E0005    Adrian STAR         DS      data scientist   \"$135,000\"  40\n",
       "7  E0006   Albert simon         DS      data scientist  125000dolar  35"
      ]
     },
     "execution_count": 20,
     "metadata": {},
     "output_type": "execute_result"
    }
   ],
   "source": [
    "# Update the \"department\" to \"DS\" where the \"job\" contains \"data\"\n",
    "df.loc[df[\"job\"].str.contains(\"data\"), \"department\"] = \"DS\"\n",
    "\n",
    "# Display the updated DataFrame\n",
    "df"
   ]
  },
  {
   "cell_type": "markdown",
   "metadata": {},
   "source": [
    "**Explanation:**\n",
    "- **``df.loc[...]``**: This is used to ``access/filter specific rows`` and ``columns`` in the DataFrame ``based on conditions``.\n",
    "- **``df.job.str.contains(\"data\")``**: This condition ``checks`` for ``job titles that contain the substring`` ``\"data\"``.\n",
    "- **``\"department\"] = \"DS\"``**: This ``assigns`` the value ``\"DS\"`` to the \"department\" column ``for the filtered rows``.\n",
    "\n",
    "<p style=\"background-color:#FFFFFF; font-family:newtimeroman; color:#0000FF; font-size:110%; text-align:left;\"><strong>-----------------------------------------------------------------------------------------------------------------------------------------------------------------------------------------------</strong></p>\n",
    "\n",
    "**The following code snippet updates the ``\"department\"`` values in the DataFrame to ``\"IT\"`` for the rows where the \"job\" column contains the ``substring \"data\"``:**"
   ]
  },
  {
   "cell_type": "code",
   "execution_count": 21,
   "metadata": {
    "id": "3HvLsGnvAgbK",
    "outputId": "9b3ce444-3495-4cfb-a639-d0ec3aa20896"
   },
   "outputs": [
    {
     "data": {
      "text/html": [
       "<div>\n",
       "<style scoped>\n",
       "    .dataframe tbody tr th:only-of-type {\n",
       "        vertical-align: middle;\n",
       "    }\n",
       "\n",
       "    .dataframe tbody tr th {\n",
       "        vertical-align: top;\n",
       "    }\n",
       "\n",
       "    .dataframe thead th {\n",
       "        text-align: right;\n",
       "    }\n",
       "</style>\n",
       "<table border=\"1\" class=\"dataframe\">\n",
       "  <thead>\n",
       "    <tr style=\"text-align: right;\">\n",
       "      <th></th>\n",
       "      <th>id</th>\n",
       "      <th>staff</th>\n",
       "      <th>department</th>\n",
       "      <th>job</th>\n",
       "      <th>salary</th>\n",
       "      <th>age</th>\n",
       "    </tr>\n",
       "  </thead>\n",
       "  <tbody>\n",
       "    <tr>\n",
       "      <th>0</th>\n",
       "      <td>M0001</td>\n",
       "      <td>Tom BLUE</td>\n",
       "      <td>HR</td>\n",
       "      <td>manager</td>\n",
       "      <td>\"$150,000\"</td>\n",
       "      <td>52</td>\n",
       "    </tr>\n",
       "    <tr>\n",
       "      <th>1</th>\n",
       "      <td>M0002</td>\n",
       "      <td>JOHN BLACK</td>\n",
       "      <td>IT</td>\n",
       "      <td>manager</td>\n",
       "      <td>\"$180,000\"</td>\n",
       "      <td>48</td>\n",
       "    </tr>\n",
       "    <tr>\n",
       "      <th>2</th>\n",
       "      <td>E0001</td>\n",
       "      <td>Micheal Brown</td>\n",
       "      <td>IT</td>\n",
       "      <td>data scientist</td>\n",
       "      <td>\"$150,000\"</td>\n",
       "      <td>35</td>\n",
       "    </tr>\n",
       "    <tr>\n",
       "      <th>3</th>\n",
       "      <td>E0002</td>\n",
       "      <td>jason walker</td>\n",
       "      <td>HR</td>\n",
       "      <td>recruiter</td>\n",
       "      <td>130000dolar</td>\n",
       "      <td>38</td>\n",
       "    </tr>\n",
       "    <tr>\n",
       "      <th>4</th>\n",
       "      <td>E0003</td>\n",
       "      <td>Alex Green</td>\n",
       "      <td>IT</td>\n",
       "      <td>backend developer</td>\n",
       "      <td>\"$110,000\"</td>\n",
       "      <td>-</td>\n",
       "    </tr>\n",
       "    <tr>\n",
       "      <th>5</th>\n",
       "      <td>E0004</td>\n",
       "      <td>OSCAR SMİTH</td>\n",
       "      <td>IT</td>\n",
       "      <td>frontend developer</td>\n",
       "      <td>\"$120,000\"</td>\n",
       "      <td>32</td>\n",
       "    </tr>\n",
       "    <tr>\n",
       "      <th>6</th>\n",
       "      <td>E0005</td>\n",
       "      <td>Adrian STAR</td>\n",
       "      <td>IT</td>\n",
       "      <td>data scientist</td>\n",
       "      <td>\"$135,000\"</td>\n",
       "      <td>40</td>\n",
       "    </tr>\n",
       "    <tr>\n",
       "      <th>7</th>\n",
       "      <td>E0006</td>\n",
       "      <td>Albert simon</td>\n",
       "      <td>IT</td>\n",
       "      <td>data scientist</td>\n",
       "      <td>125000dolar</td>\n",
       "      <td>35</td>\n",
       "    </tr>\n",
       "  </tbody>\n",
       "</table>\n",
       "</div>"
      ],
      "text/plain": [
       "      id          staff department                 job       salary age\n",
       "0  M0001       Tom BLUE         HR             manager   \"$150,000\"  52\n",
       "1  M0002     JOHN BLACK         IT             manager   \"$180,000\"  48\n",
       "2  E0001  Micheal Brown         IT      data scientist   \"$150,000\"  35\n",
       "3  E0002   jason walker         HR           recruiter  130000dolar  38\n",
       "4  E0003     Alex Green         IT   backend developer   \"$110,000\"   -\n",
       "5  E0004    OSCAR SMİTH         IT  frontend developer   \"$120,000\"  32\n",
       "6  E0005    Adrian STAR         IT      data scientist   \"$135,000\"  40\n",
       "7  E0006   Albert simon         IT      data scientist  125000dolar  35"
      ]
     },
     "execution_count": 21,
     "metadata": {},
     "output_type": "execute_result"
    }
   ],
   "source": [
    "# Update the \"department\" to \"IT\" where the \"job\" contains \"data\"\n",
    "df.loc[df[\"job\"].str.contains(\"data\"), \"department\"] = \"IT\"\n",
    "\n",
    "# Display the updated DataFrame\n",
    "df"
   ]
  },
  {
   "cell_type": "markdown",
   "metadata": {},
   "source": [
    "**Explanation:**\n",
    "- **``df.loc[...]``**: This is used to ``access/filter specific rows`` and ``columns`` in the DataFrame ``based on conditions``.\n",
    "- **``df.job.str.contains(\"data\")``**: This condition ``checks`` for ``job titles that contain the substring`` ``\"data\"``.\n",
    "- **``\"department\"] = \"DS\"``**: This ``assigns`` the value ``\"IT\"`` to the \"department\" column ``for the filtered rows``.\n",
    "\n",
    "<p style=\"background-color:#FFFFFF; font-family:newtimeroman; color:#0000FF; font-size:110%; text-align:left;\"><strong>-----------------------------------------------------------------------------------------------------------------------------------------------------------------------------------------------</strong></p>\n",
    "\n"
   ]
  },
  {
   "cell_type": "markdown",
   "metadata": {
    "id": "B_vrLzLHAgbK"
   },
   "source": [
    "## <p style=\"background-color:#FFFFFF; font-family:newtimeroman; color:#0000FF; font-size:125%; text-align:left;\"><strong>Part-03:</strong></p>\n",
    "\n",
    "\n",
    "- **[str.strip()](https://pandas.pydata.org/docs/reference/api/pandas.Series.str.lstrip.html)\t=>** Returns a trimmed version of the string\n",
    "- **[str.replace()](https://pandas.pydata.org/docs/reference/api/pandas.Series.replace.html) =>** Returns a string where a specified value is replaced with a specified value\n",
    "- **[str.split()](https://pandas.pydata.org/docs/reference/api/pandas.Series.str.split.html)\t=>** Splits the string at the specified separator, and returns a list\n",
    "- **[str.find()](https://pandas.pydata.org/docs/reference/api/pandas.Series.str.find.html)\t=>** Searches the string for a specified value and returns the position of where it was found\n",
    "- **[str.findall()](https://pandas.pydata.org/docs/reference/api/pandas.Series.str.findall.html)\t=>** Returns a list of all occurrence of the pattern.\n",
    "- **[str.join()](https://pandas.pydata.org/docs/reference/api/pandas.Series.str.join.html)\t=>** Converts the elements of an iterable into a string"
   ]
  },
  {
   "cell_type": "code",
   "execution_count": 22,
   "metadata": {
    "id": "Shci_JTXAgbL",
    "outputId": "d93af8e8-5d24-4973-8d6d-ad449e47993f"
   },
   "outputs": [
    {
     "data": {
      "text/html": [
       "<div>\n",
       "<style scoped>\n",
       "    .dataframe tbody tr th:only-of-type {\n",
       "        vertical-align: middle;\n",
       "    }\n",
       "\n",
       "    .dataframe tbody tr th {\n",
       "        vertical-align: top;\n",
       "    }\n",
       "\n",
       "    .dataframe thead th {\n",
       "        text-align: right;\n",
       "    }\n",
       "</style>\n",
       "<table border=\"1\" class=\"dataframe\">\n",
       "  <thead>\n",
       "    <tr style=\"text-align: right;\">\n",
       "      <th></th>\n",
       "      <th>id</th>\n",
       "      <th>staff</th>\n",
       "      <th>department</th>\n",
       "      <th>job</th>\n",
       "      <th>salary</th>\n",
       "      <th>age</th>\n",
       "    </tr>\n",
       "  </thead>\n",
       "  <tbody>\n",
       "    <tr>\n",
       "      <th>0</th>\n",
       "      <td>M0001</td>\n",
       "      <td>Tom BLUE</td>\n",
       "      <td>HR</td>\n",
       "      <td>manager</td>\n",
       "      <td>\"$150,000\"</td>\n",
       "      <td>52</td>\n",
       "    </tr>\n",
       "    <tr>\n",
       "      <th>1</th>\n",
       "      <td>M0002</td>\n",
       "      <td>JOHN BLACK</td>\n",
       "      <td>IT</td>\n",
       "      <td>manager</td>\n",
       "      <td>\"$180,000\"</td>\n",
       "      <td>48</td>\n",
       "    </tr>\n",
       "    <tr>\n",
       "      <th>2</th>\n",
       "      <td>E0001</td>\n",
       "      <td>Micheal Brown</td>\n",
       "      <td>IT</td>\n",
       "      <td>data scientist</td>\n",
       "      <td>\"$150,000\"</td>\n",
       "      <td>35</td>\n",
       "    </tr>\n",
       "    <tr>\n",
       "      <th>3</th>\n",
       "      <td>E0002</td>\n",
       "      <td>jason walker</td>\n",
       "      <td>HR</td>\n",
       "      <td>recruiter</td>\n",
       "      <td>130000dolar</td>\n",
       "      <td>38</td>\n",
       "    </tr>\n",
       "    <tr>\n",
       "      <th>4</th>\n",
       "      <td>E0003</td>\n",
       "      <td>Alex Green</td>\n",
       "      <td>IT</td>\n",
       "      <td>backend developer</td>\n",
       "      <td>\"$110,000\"</td>\n",
       "      <td>-</td>\n",
       "    </tr>\n",
       "    <tr>\n",
       "      <th>5</th>\n",
       "      <td>E0004</td>\n",
       "      <td>OSCAR SMİTH</td>\n",
       "      <td>IT</td>\n",
       "      <td>frontend developer</td>\n",
       "      <td>\"$120,000\"</td>\n",
       "      <td>32</td>\n",
       "    </tr>\n",
       "    <tr>\n",
       "      <th>6</th>\n",
       "      <td>E0005</td>\n",
       "      <td>Adrian STAR</td>\n",
       "      <td>IT</td>\n",
       "      <td>data scientist</td>\n",
       "      <td>\"$135,000\"</td>\n",
       "      <td>40</td>\n",
       "    </tr>\n",
       "    <tr>\n",
       "      <th>7</th>\n",
       "      <td>E0006</td>\n",
       "      <td>Albert simon</td>\n",
       "      <td>IT</td>\n",
       "      <td>data scientist</td>\n",
       "      <td>125000dolar</td>\n",
       "      <td>35</td>\n",
       "    </tr>\n",
       "  </tbody>\n",
       "</table>\n",
       "</div>"
      ],
      "text/plain": [
       "      id          staff department                 job       salary age\n",
       "0  M0001       Tom BLUE         HR             manager   \"$150,000\"  52\n",
       "1  M0002     JOHN BLACK         IT             manager   \"$180,000\"  48\n",
       "2  E0001  Micheal Brown         IT      data scientist   \"$150,000\"  35\n",
       "3  E0002   jason walker         HR           recruiter  130000dolar  38\n",
       "4  E0003     Alex Green         IT   backend developer   \"$110,000\"   -\n",
       "5  E0004    OSCAR SMİTH         IT  frontend developer   \"$120,000\"  32\n",
       "6  E0005    Adrian STAR         IT      data scientist   \"$135,000\"  40\n",
       "7  E0006   Albert simon         IT      data scientist  125000dolar  35"
      ]
     },
     "execution_count": 22,
     "metadata": {},
     "output_type": "execute_result"
    }
   ],
   "source": [
    "# Let's remember our df\n",
    "\n",
    "df"
   ]
  },
  {
   "cell_type": "markdown",
   "metadata": {},
   "source": [
    "\n",
    "\n",
    "<p style=\"background-color:#FFFFFF; font-family:newtimeroman; color:#0000FF; font-size:110%; text-align:left;\"><strong>-----------------------------------------------------------------------------------------------------------------------------------------------------------------------------------------------</strong></p>\n",
    "\n"
   ]
  },
  {
   "cell_type": "markdown",
   "metadata": {},
   "source": [
    "### str.strip()\n",
    "\n",
    "**NOTE:** For a better using and understanding of strip, please revise escape characters in python **🧐 [Source01 for Escape Characters](https://www.python-ds.com/python-3-escape-sequences) & [Source02 for Escape Characters](https://www.w3schools.com/python/gloss_python_escape_characters.asp)**"
   ]
  },
  {
   "cell_type": "code",
   "execution_count": 23,
   "metadata": {
    "id": "qXYbASxLAgbL",
    "outputId": "8f8c406e-2bd0-4166-fb9f-78185788e923"
   },
   "outputs": [
    {
     "data": {
      "text/plain": [
       "0       $150,000\n",
       "1       $180,000\n",
       "2       $150,000\n",
       "3    130000dolar\n",
       "4       $110,000\n",
       "5       $120,000\n",
       "6       $135,000\n",
       "7    125000dolar\n",
       "Name: salary, dtype: object"
      ]
     },
     "execution_count": 23,
     "metadata": {},
     "output_type": "execute_result"
    }
   ],
   "source": [
    "# Remove double quotes from the \"salary\" column\n",
    "\n",
    "df[\"salary\"].str.strip(\"\\\"\")\n",
    "df[\"salary\"].str.strip('\"')"
   ]
  },
  {
   "cell_type": "markdown",
   "metadata": {},
   "source": [
    "**Explanation:**\n",
    "- **``str.strip('\"')``**: This method removes ``leading`` and ``trailing double`` quotes from each entry in the ``\"salary\"`` column. If there are no double quotes, the values remain unchanged.\n",
    "- Note that in our original data, it seems we have double quotes around some salary values. If we want to ensure that all such quotes are removed, this method will work effectively.\n",
    "\n",
    "<p style=\"background-color:#FFFFFF; font-family:newtimeroman; color:#0000FF; font-size:110%; text-align:left;\"><strong>-----------------------------------------------------------------------------------------------------------------------------------------------------------------------------------------------</strong></p>\n",
    "\n"
   ]
  },
  {
   "cell_type": "code",
   "execution_count": 24,
   "metadata": {
    "id": "Vv7_JyG0AgbL",
    "outputId": "b51ac2da-0ffa-46e1-c809-feeb1955adb9"
   },
   "outputs": [
    {
     "data": {
      "text/plain": [
       "0    $150,000\n",
       "1    $180,000\n",
       "2    $150,000\n",
       "3      130000\n",
       "4    $110,000\n",
       "5    $120,000\n",
       "6    $135,000\n",
       "7      125000\n",
       "Name: salary, dtype: object"
      ]
     },
     "execution_count": 24,
     "metadata": {},
     "output_type": "execute_result"
    }
   ],
   "source": [
    "# Clean the \"salary\" column by removing leading and trailing double quotes and substring \"dolar\" from the end of the strings.\n",
    "\n",
    "df[\"salary\"].str.strip(\"\\\"\").str.rstrip(\"dolar\")"
   ]
  },
  {
   "cell_type": "markdown",
   "metadata": {},
   "source": [
    "The output shows the cleaned salary values, with double quotes removed and \"dolar\" stripped from the end where applicable:\n",
    "\n",
    "**Explanation:**\n",
    "- **``str.strip('\"')``**: This removes any ``leading`` and ``trailing double quotes`` from the salary strings.\n",
    "- **``str.rstrip(\"dolar\")``**: This removes the ``substring \"dolar\"`` from the end of the strings. Note that it removes each character in \"dolar\" individually until it encounters a character that is not part of that set.\n",
    "\n",
    "<p style=\"background-color:#FFFFFF; font-family:newtimeroman; color:#0000FF; font-size:110%; text-align:left;\"><strong>-----------------------------------------------------------------------------------------------------------------------------------------------------------------------------------------------</strong></p>\n",
    "\n",
    "**The following code snippet cleans the ``\"salary\"`` entries in the DataFrame by chaining the ``str.strip()``, ``str.rstrip()``, and ``str.lstrip()`` methods. This will remove ``double quotes``, the ``substring \"dolar\"`` from the end, and the ``dollar sign $`` from the beginning of the salary strings.**"
   ]
  },
  {
   "cell_type": "code",
   "execution_count": 25,
   "metadata": {
    "id": "vSx0SfYiAgbM",
    "outputId": "5ea4d19c-ca5d-48ff-81e5-ac839abf17b1"
   },
   "outputs": [
    {
     "data": {
      "text/plain": [
       "0    150,000\n",
       "1    180,000\n",
       "2    150,000\n",
       "3     130000\n",
       "4    110,000\n",
       "5    120,000\n",
       "6    135,000\n",
       "7     125000\n",
       "Name: salary, dtype: object"
      ]
     },
     "execution_count": 25,
     "metadata": {},
     "output_type": "execute_result"
    }
   ],
   "source": [
    "# Clean the \"salary\" column\n",
    "\n",
    "df[\"salary\"].str.strip(\"\\\"\").str.rstrip(\"dolar\").str.lstrip(\"$\")"
   ]
  },
  {
   "cell_type": "markdown",
   "metadata": {},
   "source": [
    "**Explanation:**\n",
    "- **``str.strip('\"')``**: Removes any ``leading`` and ``trailing`` ``double quotes`` from the salary strings.\n",
    "- **``str.rstrip(\"dolar\")``**: Removes the ``substring \"dolar\"`` from the ``end of the strings``.\n",
    "- **``str.lstrip(\"$\")``**: Removes the ``dollar sign $`` from the ``beginning of the strings``.\n",
    "\n",
    "<p style=\"background-color:#FFFFFF; font-family:newtimeroman; color:#0000FF; font-size:110%; text-align:left;\"><strong>-----------------------------------------------------------------------------------------------------------------------------------------------------------------------------------------------</strong></p>\n",
    "\n",
    "**The following code snippet will do the ``same thing`` as it removes ``double quotes``, the ``substring \"dolar\"`` from the end, and the ``dollar sign $`` from the beginning of the salary strings.**"
   ]
  },
  {
   "cell_type": "code",
   "execution_count": 26,
   "metadata": {
    "id": "9Fx1llkwAgbM",
    "outputId": "2fa29efa-64fe-4215-c65f-10df823c59d4"
   },
   "outputs": [
    {
     "data": {
      "text/plain": [
       "0    150,000\n",
       "1    180,000\n",
       "2    150,000\n",
       "3     130000\n",
       "4    110,000\n",
       "5    120,000\n",
       "6    135,000\n",
       "7     125000\n",
       "Name: salary, dtype: object"
      ]
     },
     "execution_count": 26,
     "metadata": {},
     "output_type": "execute_result"
    }
   ],
   "source": [
    "# Clean the \"salary\" column\n",
    "\n",
    "df[\"salary\"].str.strip(\"\\\"dolar$\")"
   ]
  },
  {
   "cell_type": "markdown",
   "metadata": {},
   "source": [
    "\n",
    "\n",
    "<p style=\"background-color:#FFFFFF; font-family:newtimeroman; color:#0000FF; font-size:110%; text-align:left;\"><strong>-----------------------------------------------------------------------------------------------------------------------------------------------------------------------------------------------</strong></p>\n",
    "\n",
    "**The following code snippet clean the \"salary\" entries in the DataFrame by using ``str.strip()`` to remove ``unwanted characters`` (double quotes, \"dolar\", and the dollar sign $) and then ``use str.replace()`` to ``remove commas``.** "
   ]
  },
  {
   "cell_type": "code",
   "execution_count": 27,
   "metadata": {
    "id": "Nky2zsCAAgbM",
    "outputId": "4d1ea786-05d4-4cc6-b9ba-75a5263edb97"
   },
   "outputs": [
    {
     "data": {
      "text/plain": [
       "0    150000\n",
       "1    180000\n",
       "2    150000\n",
       "3    130000\n",
       "4    110000\n",
       "5    120000\n",
       "6    135000\n",
       "7    125000\n",
       "Name: salary, dtype: object"
      ]
     },
     "execution_count": 27,
     "metadata": {},
     "output_type": "execute_result"
    }
   ],
   "source": [
    "df[\"salary\"].str.strip(\"\\\"dolar$\").str.replace(\",\", \"\")\n",
    "\n",
    "#df.salary.str.strip(\"\\\"dolar$\").replace(\",\", \"\") # \"replace\" method without \"str\" seeks specified character/characters as a full match"
   ]
  },
  {
   "cell_type": "markdown",
   "metadata": {},
   "source": [
    "**Explanation:**\n",
    "- **``str.strip(\"\\\"dolar$\")``**: This removes any leading or trailing double quotes, \"dolar\", and the dollar sign $ from each string in the \"salary\" column.\n",
    "- **``str.replace(\",\", \"\")``**: This removes commas from the salary strings.\n",
    "\n",
    "<p style=\"background-color:#FFFFFF; font-family:newtimeroman; color:#0000FF; font-size:110%; text-align:left;\"><strong>-----------------------------------------------------------------------------------------------------------------------------------------------------------------------------------------------</strong></p>\n",
    "\n",
    "**The following code converts the ``salary entries`` to a ``numeric type (float)`` after ``stripping unwanted characters`` and ``removing commas``:**"
   ]
  },
  {
   "cell_type": "code",
   "execution_count": 28,
   "metadata": {
    "id": "ESsvD7UVAgbN",
    "outputId": "e51efb46-545f-41d6-f18d-04509875c851"
   },
   "outputs": [
    {
     "data": {
      "text/plain": [
       "0    150000.0\n",
       "1    180000.0\n",
       "2    150000.0\n",
       "3    130000.0\n",
       "4    110000.0\n",
       "5    120000.0\n",
       "6    135000.0\n",
       "7    125000.0\n",
       "Name: salary, dtype: float64"
      ]
     },
     "execution_count": 28,
     "metadata": {},
     "output_type": "execute_result"
    }
   ],
   "source": [
    "# Clean the \"salary\" column, remove unwanted characters and convert to float\n",
    "\n",
    "df[\"salary\"].str.strip(\"\\\"dolar$\").str.replace(\",\", \"\").astype(float)"
   ]
  },
  {
   "cell_type": "markdown",
   "metadata": {},
   "source": [
    "**Explanation:**\n",
    "- **``str.strip(\"\\\"dolar$\")``**: Removes leading and trailing double quotes, \"dolar\", and the dollar sign $.\n",
    "- **``str.replace(\",\", \"\")``**: Removes commas from the salary strings.\n",
    "- **``astype(float)``**: Converts the cleaned string values to floats.\n",
    "\n",
    "<p style=\"background-color:#FFFFFF; font-family:newtimeroman; color:#0000FF; font-size:110%; text-align:left;\"><strong>-----------------------------------------------------------------------------------------------------------------------------------------------------------------------------------------------</strong></p>\n",
    "\n"
   ]
  },
  {
   "cell_type": "code",
   "execution_count": 29,
   "metadata": {
    "id": "lkmi659KAgbN",
    "outputId": "a6bdc771-3aca-4d59-8a6b-3c0b2f4f42da"
   },
   "outputs": [
    {
     "data": {
      "text/plain": [
       "0    150000.0\n",
       "1    180000.0\n",
       "2    150000.0\n",
       "3    130000.0\n",
       "4    110000.0\n",
       "5    120000.0\n",
       "6    135000.0\n",
       "7    125000.0\n",
       "Name: salary, dtype: float64"
      ]
     },
     "execution_count": 29,
     "metadata": {},
     "output_type": "execute_result"
    }
   ],
   "source": [
    "# Update \"salary\" column\n",
    "df[\"salary\"] = df.salary.str.strip(\"\\\"dolar$\").str.replace(\",\", \"\").astype(float)\n",
    "\n",
    "# Display the updated \"salary\" column\n",
    "df.salary"
   ]
  },
  {
   "cell_type": "markdown",
   "metadata": {},
   "source": [
    "\n",
    "\n",
    "<p style=\"background-color:#FFFFFF; font-family:newtimeroman; color:#0000FF; font-size:110%; text-align:left;\"><strong>-----------------------------------------------------------------------------------------------------------------------------------------------------------------------------------------------</strong></p>\n",
    "\n"
   ]
  },
  {
   "cell_type": "code",
   "execution_count": 30,
   "metadata": {
    "id": "EfuopQ65AgbN",
    "outputId": "48bfdc82-c4e5-4c2f-834c-5a479a35d1d2"
   },
   "outputs": [
    {
     "data": {
      "text/plain": [
       "0    52\n",
       "1    48\n",
       "2    35\n",
       "3    38\n",
       "4     -\n",
       "5    32\n",
       "6    40\n",
       "7    35\n",
       "Name: age, dtype: object"
      ]
     },
     "execution_count": 30,
     "metadata": {},
     "output_type": "execute_result"
    }
   ],
   "source": [
    "# Let's remmeber \"age\" feature\n",
    "\n",
    "df[\"age\"]"
   ]
  },
  {
   "cell_type": "markdown",
   "metadata": {},
   "source": [
    "\n",
    "\n",
    "<p style=\"background-color:#FFFFFF; font-family:newtimeroman; color:#0000FF; font-size:110%; text-align:left;\"><strong>-----------------------------------------------------------------------------------------------------------------------------------------------------------------------------------------------</strong></p>\n",
    "\n",
    "### str.replace()\n"
   ]
  },
  {
   "cell_type": "code",
   "execution_count": 31,
   "metadata": {
    "id": "btqy2XNGAgbN",
    "outputId": "4e8ad7ba-6741-4cd8-e8ff-80be746783c2"
   },
   "outputs": [
    {
     "data": {
      "text/plain": [
       "0    52.0\n",
       "1    48.0\n",
       "2    35.0\n",
       "3    38.0\n",
       "4     NaN\n",
       "5    32.0\n",
       "6    40.0\n",
       "7    35.0\n",
       "Name: age, dtype: float64"
      ]
     },
     "execution_count": 31,
     "metadata": {},
     "output_type": "execute_result"
    }
   ],
   "source": [
    "# Replace \"-\" with NaN in the \"age\" column\n",
    "\n",
    "df[\"age\"].replace(\"-\", np.nan)\n",
    "\n",
    "# df.age.str.replace(\"-\", np.nan) # gives an error"
   ]
  },
  {
   "cell_type": "markdown",
   "metadata": {},
   "source": [
    "\n",
    "\n",
    "<p style=\"background-color:#FFFFFF; font-family:newtimeroman; color:#0000FF; font-size:110%; text-align:left;\"><strong>-----------------------------------------------------------------------------------------------------------------------------------------------------------------------------------------------</strong></p>\n",
    "\n"
   ]
  },
  {
   "cell_type": "code",
   "execution_count": 32,
   "metadata": {
    "id": "GIuOmW6CAgbO",
    "outputId": "8df50331-2f17-4937-9472-a730786b32e7"
   },
   "outputs": [
    {
     "data": {
      "text/plain": [
       "0    52.0\n",
       "1    48.0\n",
       "2    35.0\n",
       "3    38.0\n",
       "4     NaN\n",
       "5    32.0\n",
       "6    40.0\n",
       "7    35.0\n",
       "Name: age, dtype: float64"
      ]
     },
     "execution_count": 32,
     "metadata": {},
     "output_type": "execute_result"
    }
   ],
   "source": [
    "# Update \"age\" column\n",
    "df[\"age\"] = df[\"age\"].replace(\"-\", np.nan)\n",
    "\n",
    "# Display the updated \"age\" column\n",
    "df[\"age\"]"
   ]
  },
  {
   "cell_type": "markdown",
   "metadata": {},
   "source": [
    "\n",
    "\n",
    "<p style=\"background-color:#FFFFFF; font-family:newtimeroman; color:#0000FF; font-size:110%; text-align:left;\"><strong>-----------------------------------------------------------------------------------------------------------------------------------------------------------------------------------------------</strong></p>\n",
    "\n",
    "### 🔥 Special Note: [``str.replace()``](https://pandas.pydata.org/docs/reference/api/pandas.Series.replace.html) vs [``.replace()``](https://www.programiz.com/python-programming/methods/string/replace) 🔥\n",
    "\n",
    "- **Purpose:** Use **str.replace** for substring replacements on a single string column, and **replace** for any general replacement on one or more columns.\n",
    "\n",
    "- **Usage:** **str.replace** can replace one thing at a time. **replace** lets you perform multiple independent replacements, i.e., replace many things at once.\n",
    "\n",
    "- **Default behavior:** **str.replace** enables regex replacement by default. **replace** only performs a full match unless the regex=True switch is used.\n",
    "\n",
    "**replace()** works for string as well as non-string replacement. What's more, it is also meant to work for multiple columns at a time (you can access replace as a DataFrame method df.replace() as well, if you need to replace values across the entire DataFrame.\n",
    "\n",
    "**🧐 [What is the difference between Series.replace and Series.str.replace?](https://stackoverflow.com/questions/56625031/what-is-the-difference-between-series-replace-and-series-str-replace)**\n",
    "\n",
    "<p style=\"background-color:#FFFFFF; font-family:newtimeroman; color:#0000FF; font-size:110%; text-align:left;\"><strong>-----------------------------------------------------------------------------------------------------------------------------------------------------------------------------------------------</strong></p>\n"
   ]
  },
  {
   "cell_type": "markdown",
   "metadata": {},
   "source": [
    "### str.get() & Indexing with .str[ ]\n",
    "\n",
    "You can use **``[ ]``** notation to directly index by position locations **🧐 [SOURCE](https://pandas.pydata.org/pandas-docs/version/0.15/text.html)**. \n",
    "\n",
    "**[pandas.Series.str.get](https://pandas.pydata.org/docs/reference/api/pandas.Series.str.get.html)**\n",
    "\n",
    "- Extract element from each component at specified position or with specified key.\n",
    "- Extract element from lists, tuples, dict, or strings in each element in the Series/Index.\n",
    "\n",
    "<p style=\"background-color:#FFFFFF; font-family:newtimeroman; color:#0000FF; font-size:110%; text-align:left;\"><strong>-----------------------------------------------------------------------------------------------------------------------------------------------------------------------------------------------</strong></p>\n"
   ]
  },
  {
   "cell_type": "code",
   "execution_count": 33,
   "metadata": {
    "id": "Vj2uh1NrAgbO",
    "outputId": "897f6315-ae11-49da-92b6-55daf3d3f17e"
   },
   "outputs": [
    {
     "data": {
      "text/plain": [
       "0         Tom BLUE\n",
       "1       JOHN BLACK\n",
       "2    Micheal Brown\n",
       "3     jason walker\n",
       "4       Alex Green\n",
       "5      OSCAR SMİTH\n",
       "6      Adrian STAR\n",
       "7     Albert simon\n",
       "Name: staff, dtype: object"
      ]
     },
     "execution_count": 33,
     "metadata": {},
     "output_type": "execute_result"
    }
   ],
   "source": [
    "# Let's remmeber \"staff\" feature\n",
    "\n",
    "df[\"staff\"]"
   ]
  },
  {
   "cell_type": "markdown",
   "metadata": {},
   "source": [
    "\n",
    "\n",
    "<p style=\"background-color:#FFFFFF; font-family:newtimeroman; color:#0000FF; font-size:110%; text-align:left;\"><strong>-----------------------------------------------------------------------------------------------------------------------------------------------------------------------------------------------</strong></p>\n",
    "\n"
   ]
  },
  {
   "cell_type": "code",
   "execution_count": 34,
   "metadata": {
    "id": "XtyT480_AgbP",
    "outputId": "e3dec857-d4ed-4e4f-f0fd-60c2da609ee8"
   },
   "outputs": [
    {
     "data": {
      "text/html": [
       "<div>\n",
       "<style scoped>\n",
       "    .dataframe tbody tr th:only-of-type {\n",
       "        vertical-align: middle;\n",
       "    }\n",
       "\n",
       "    .dataframe tbody tr th {\n",
       "        vertical-align: top;\n",
       "    }\n",
       "\n",
       "    .dataframe thead th {\n",
       "        text-align: right;\n",
       "    }\n",
       "</style>\n",
       "<table border=\"1\" class=\"dataframe\">\n",
       "  <thead>\n",
       "    <tr style=\"text-align: right;\">\n",
       "      <th></th>\n",
       "      <th>id</th>\n",
       "      <th>department</th>\n",
       "      <th>job</th>\n",
       "      <th>salary</th>\n",
       "      <th>age</th>\n",
       "      <th>first_name</th>\n",
       "      <th>last_name</th>\n",
       "    </tr>\n",
       "  </thead>\n",
       "  <tbody>\n",
       "    <tr>\n",
       "      <th>0</th>\n",
       "      <td>M0001</td>\n",
       "      <td>HR</td>\n",
       "      <td>manager</td>\n",
       "      <td>150000.0</td>\n",
       "      <td>52.0</td>\n",
       "      <td>Tom</td>\n",
       "      <td>Blue</td>\n",
       "    </tr>\n",
       "    <tr>\n",
       "      <th>1</th>\n",
       "      <td>M0002</td>\n",
       "      <td>IT</td>\n",
       "      <td>manager</td>\n",
       "      <td>180000.0</td>\n",
       "      <td>48.0</td>\n",
       "      <td>John</td>\n",
       "      <td>Black</td>\n",
       "    </tr>\n",
       "    <tr>\n",
       "      <th>2</th>\n",
       "      <td>E0001</td>\n",
       "      <td>IT</td>\n",
       "      <td>data scientist</td>\n",
       "      <td>150000.0</td>\n",
       "      <td>35.0</td>\n",
       "      <td>Micheal</td>\n",
       "      <td>Brown</td>\n",
       "    </tr>\n",
       "    <tr>\n",
       "      <th>3</th>\n",
       "      <td>E0002</td>\n",
       "      <td>HR</td>\n",
       "      <td>recruiter</td>\n",
       "      <td>130000.0</td>\n",
       "      <td>38.0</td>\n",
       "      <td>Jason</td>\n",
       "      <td>Walker</td>\n",
       "    </tr>\n",
       "    <tr>\n",
       "      <th>4</th>\n",
       "      <td>E0003</td>\n",
       "      <td>IT</td>\n",
       "      <td>backend developer</td>\n",
       "      <td>110000.0</td>\n",
       "      <td>NaN</td>\n",
       "      <td>Alex</td>\n",
       "      <td>Green</td>\n",
       "    </tr>\n",
       "    <tr>\n",
       "      <th>5</th>\n",
       "      <td>E0004</td>\n",
       "      <td>IT</td>\n",
       "      <td>frontend developer</td>\n",
       "      <td>120000.0</td>\n",
       "      <td>32.0</td>\n",
       "      <td>Oscar</td>\n",
       "      <td>Smi̇th</td>\n",
       "    </tr>\n",
       "    <tr>\n",
       "      <th>6</th>\n",
       "      <td>E0005</td>\n",
       "      <td>IT</td>\n",
       "      <td>data scientist</td>\n",
       "      <td>135000.0</td>\n",
       "      <td>40.0</td>\n",
       "      <td>Adrian</td>\n",
       "      <td>Star</td>\n",
       "    </tr>\n",
       "    <tr>\n",
       "      <th>7</th>\n",
       "      <td>E0006</td>\n",
       "      <td>IT</td>\n",
       "      <td>data scientist</td>\n",
       "      <td>125000.0</td>\n",
       "      <td>35.0</td>\n",
       "      <td>Albert</td>\n",
       "      <td>Simon</td>\n",
       "    </tr>\n",
       "  </tbody>\n",
       "</table>\n",
       "</div>"
      ],
      "text/plain": [
       "      id department                 job    salary   age first_name last_name\n",
       "0  M0001         HR             manager  150000.0  52.0        Tom      Blue\n",
       "1  M0002         IT             manager  180000.0  48.0       John     Black\n",
       "2  E0001         IT      data scientist  150000.0  35.0    Micheal     Brown\n",
       "3  E0002         HR           recruiter  130000.0  38.0      Jason    Walker\n",
       "4  E0003         IT   backend developer  110000.0   NaN       Alex     Green\n",
       "5  E0004         IT  frontend developer  120000.0  32.0      Oscar    Smi̇th\n",
       "6  E0005         IT      data scientist  135000.0  40.0     Adrian      Star\n",
       "7  E0006         IT      data scientist  125000.0  35.0     Albert     Simon"
      ]
     },
     "execution_count": 34,
     "metadata": {},
     "output_type": "execute_result"
    }
   ],
   "source": [
    "# Create a new column for first names\n",
    "df[\"first_name\"] = df.staff.str.title().str.split().str[0]\n",
    "\n",
    "# Create a new column for last names\n",
    "df[\"last_name\"] = df.staff.str.title().str.split().str.get(1)\n",
    "\n",
    "# Drop the original \"staff\" column\n",
    "df.drop(\"staff\", axis=1, inplace=True)\n",
    "\n",
    "# Display the updated DataFrame\n",
    "df"
   ]
  },
  {
   "cell_type": "markdown",
   "metadata": {},
   "source": [
    "**Explanation:**\n",
    "- **``Extracting First Names``**:\n",
    "   - **``df.staff.str.title()``**: Converts the names in the \"staff\" column to title case (capitalizes the first letter of each word).\n",
    "   - **``str.split()``**: Splits each name into a list of words.\n",
    "   - **``str[0]``**: Accesses the first element of the list (the first name).\n",
    "- **``Extracting Last Names``**:\n",
    "   - **Similar to the first name extraction, but str.get(1) is used to access the second element of the list (the last name).\n",
    "- **``Dropping the Original Column``**:\n",
    "   - **``df.drop(\"staff\", axis=1, inplace=True)``**: Removes the \"staff\" column from the DataFrame.\n",
    "\n",
    "<p style=\"background-color:#FFFFFF; font-family:newtimeroman; color:#0000FF; font-size:110%; text-align:left;\"><strong>-----------------------------------------------------------------------------------------------------------------------------------------------------------------------------------------------</strong></p>\n",
    "\n"
   ]
  },
  {
   "cell_type": "code",
   "execution_count": 35,
   "metadata": {
    "id": "jpCVoWfrAgbP",
    "outputId": "3fca84a0-34ed-4900-fa04-9652e527f862"
   },
   "outputs": [
    {
     "data": {
      "text/html": [
       "<div>\n",
       "<style scoped>\n",
       "    .dataframe tbody tr th:only-of-type {\n",
       "        vertical-align: middle;\n",
       "    }\n",
       "\n",
       "    .dataframe tbody tr th {\n",
       "        vertical-align: top;\n",
       "    }\n",
       "\n",
       "    .dataframe thead th {\n",
       "        text-align: right;\n",
       "    }\n",
       "</style>\n",
       "<table border=\"1\" class=\"dataframe\">\n",
       "  <thead>\n",
       "    <tr style=\"text-align: right;\">\n",
       "      <th></th>\n",
       "      <th>id</th>\n",
       "      <th>department</th>\n",
       "      <th>job</th>\n",
       "      <th>salary</th>\n",
       "      <th>age</th>\n",
       "      <th>first_name</th>\n",
       "      <th>last_name</th>\n",
       "    </tr>\n",
       "  </thead>\n",
       "  <tbody>\n",
       "    <tr>\n",
       "      <th>0</th>\n",
       "      <td>M0001</td>\n",
       "      <td>HR</td>\n",
       "      <td>manager</td>\n",
       "      <td>150000.0</td>\n",
       "      <td>52.0</td>\n",
       "      <td>Tom</td>\n",
       "      <td>Blue</td>\n",
       "    </tr>\n",
       "    <tr>\n",
       "      <th>1</th>\n",
       "      <td>M0002</td>\n",
       "      <td>IT</td>\n",
       "      <td>manager</td>\n",
       "      <td>180000.0</td>\n",
       "      <td>48.0</td>\n",
       "      <td>John</td>\n",
       "      <td>Black</td>\n",
       "    </tr>\n",
       "    <tr>\n",
       "      <th>2</th>\n",
       "      <td>E0001</td>\n",
       "      <td>IT</td>\n",
       "      <td>data scientist</td>\n",
       "      <td>150000.0</td>\n",
       "      <td>35.0</td>\n",
       "      <td>Micheal</td>\n",
       "      <td>Brown</td>\n",
       "    </tr>\n",
       "    <tr>\n",
       "      <th>3</th>\n",
       "      <td>E0002</td>\n",
       "      <td>HR</td>\n",
       "      <td>recruiter</td>\n",
       "      <td>130000.0</td>\n",
       "      <td>38.0</td>\n",
       "      <td>Jason</td>\n",
       "      <td>Walker</td>\n",
       "    </tr>\n",
       "    <tr>\n",
       "      <th>4</th>\n",
       "      <td>E0003</td>\n",
       "      <td>IT</td>\n",
       "      <td>backend developer</td>\n",
       "      <td>110000.0</td>\n",
       "      <td>NaN</td>\n",
       "      <td>Alex</td>\n",
       "      <td>Green</td>\n",
       "    </tr>\n",
       "    <tr>\n",
       "      <th>5</th>\n",
       "      <td>E0004</td>\n",
       "      <td>IT</td>\n",
       "      <td>frontend developer</td>\n",
       "      <td>120000.0</td>\n",
       "      <td>32.0</td>\n",
       "      <td>Oscar</td>\n",
       "      <td>Smi̇th</td>\n",
       "    </tr>\n",
       "    <tr>\n",
       "      <th>6</th>\n",
       "      <td>E0005</td>\n",
       "      <td>IT</td>\n",
       "      <td>data scientist</td>\n",
       "      <td>135000.0</td>\n",
       "      <td>40.0</td>\n",
       "      <td>Adrian</td>\n",
       "      <td>Star</td>\n",
       "    </tr>\n",
       "    <tr>\n",
       "      <th>7</th>\n",
       "      <td>E0006</td>\n",
       "      <td>IT</td>\n",
       "      <td>data scientist</td>\n",
       "      <td>125000.0</td>\n",
       "      <td>35.0</td>\n",
       "      <td>Albert</td>\n",
       "      <td>Simon</td>\n",
       "    </tr>\n",
       "  </tbody>\n",
       "</table>\n",
       "</div>"
      ],
      "text/plain": [
       "      id department                 job    salary   age first_name last_name\n",
       "0  M0001         HR             manager  150000.0  52.0        Tom      Blue\n",
       "1  M0002         IT             manager  180000.0  48.0       John     Black\n",
       "2  E0001         IT      data scientist  150000.0  35.0    Micheal     Brown\n",
       "3  E0002         HR           recruiter  130000.0  38.0      Jason    Walker\n",
       "4  E0003         IT   backend developer  110000.0   NaN       Alex     Green\n",
       "5  E0004         IT  frontend developer  120000.0  32.0      Oscar    Smi̇th\n",
       "6  E0005         IT      data scientist  135000.0  40.0     Adrian      Star\n",
       "7  E0006         IT      data scientist  125000.0  35.0     Albert     Simon"
      ]
     },
     "execution_count": 35,
     "metadata": {},
     "output_type": "execute_result"
    }
   ],
   "source": [
    "# Let's remmeber our DataFrame\n",
    "\n",
    "df"
   ]
  },
  {
   "cell_type": "markdown",
   "metadata": {},
   "source": [
    "\n",
    "\n",
    "<p style=\"background-color:#FFFFFF; font-family:newtimeroman; color:#0000FF; font-size:110%; text-align:left;\"><strong>-----------------------------------------------------------------------------------------------------------------------------------------------------------------------------------------------</strong></p>\n",
    "\n"
   ]
  },
  {
   "cell_type": "code",
   "execution_count": 36,
   "metadata": {
    "id": "L92RYYQFAgbP",
    "outputId": "e0918aaa-0840-46e1-8661-579f2cad9efe"
   },
   "outputs": [
    {
     "data": {
      "text/plain": [
       "0               manager\n",
       "1               manager\n",
       "2        data scientist\n",
       "3             recruiter\n",
       "4     backend developer\n",
       "5    frontend developer\n",
       "6        data scientist\n",
       "7        data scientist\n",
       "Name: job, dtype: object"
      ]
     },
     "execution_count": 36,
     "metadata": {},
     "output_type": "execute_result"
    }
   ],
   "source": [
    "# Let's remmeber \"job\" feature\n",
    "\n",
    "df[\"job\"]"
   ]
  },
  {
   "cell_type": "markdown",
   "metadata": {},
   "source": [
    "\n",
    "\n",
    "<p style=\"background-color:#FFFFFF; font-family:newtimeroman; color:#0000FF; font-size:110%; text-align:left;\"><strong>-----------------------------------------------------------------------------------------------------------------------------------------------------------------------------------------------</strong></p>\n",
    "\n",
    "### str.find() & str.rfind()\n",
    "\n",
    "**str.find** returns ``lowest indexes`` in each strings in the Series/Index. Each of returned indexes corresponds to the position where the substring is fully contained between [start:end]. Return -1 on failure. Equivalent to standard str.find().\n",
    "\n",
    "**str.rfind** returns ``highest indexes`` in each strings in the Series/Index. Each of returned indexes corresponds to the position where the substring is fully contained between [start:end]. Return -1 on failure. Equivalent to standard str.rfind().\n",
    "\n",
    "<p style=\"background-color:#FFFFFF; font-family:newtimeroman; color:#0000FF; font-size:110%; text-align:left;\"><strong>-----------------------------------------------------------------------------------------------------------------------------------------------------------------------------------------------</strong></p>\n",
    "\n",
    "**The following code snippet identfies the ``index positions`` of the ``substring \"developer\"`` for each job entry.**\n",
    "\n",
    "**You can use the ``str.find()`` and this operation allows you to identify ``which job titles include the substring \"developer\"`` and ``where they occur in the string``. This method will return the ``index of the first occurrence`` of the ``substring``, and it will return ``-1`` if the substring is ``not found``.**"
   ]
  },
  {
   "cell_type": "code",
   "execution_count": 37,
   "metadata": {
    "id": "7wrFd_TKAgbQ",
    "outputId": "32f01197-3a6a-4543-dcf7-4da1cd593300"
   },
   "outputs": [
    {
     "data": {
      "text/plain": [
       "0   -1\n",
       "1   -1\n",
       "2   -1\n",
       "3   -1\n",
       "4    8\n",
       "5    9\n",
       "6   -1\n",
       "7   -1\n",
       "Name: job, dtype: int64"
      ]
     },
     "execution_count": 37,
     "metadata": {},
     "output_type": "execute_result"
    }
   ],
   "source": [
    "# Find the position of \"developer\" in the \"job\" column\n",
    "\n",
    "df[\"job\"].str.find(\"developer\")"
   ]
  },
  {
   "cell_type": "markdown",
   "metadata": {},
   "source": [
    "**Explanation:**\n",
    "- **``str.find(\"developer\")``**: This method checks each entry in the \"job\" column for the substring \"developer\".\n",
    "   - If \"developer\" is found, it returns the starting index of the substring.\n",
    "   - If \"developer\" is not found, it returns -1.\n",
    "\n",
    "<p style=\"background-color:#FFFFFF; font-family:newtimeroman; color:#0000FF; font-size:110%; text-align:left;\"><strong>-----------------------------------------------------------------------------------------------------------------------------------------------------------------------------------------------</strong></p>\n",
    "\n",
    "### str.findall()\n",
    "\n",
    "**str.findall** finds ``all occurrences`` of pattern or regular expression in the Series/Index **🧐 [SOURCE](https://pandas.pydata.org/docs/reference/api/pandas.Series.str.findall.html)**."
   ]
  },
  {
   "cell_type": "code",
   "execution_count": 38,
   "metadata": {
    "id": "De1fD0R-AgbQ",
    "outputId": "c965dcb8-0b53-4afc-d458-f1f377dbb2a2"
   },
   "outputs": [
    {
     "data": {
      "text/plain": [
       "0               manager\n",
       "1               manager\n",
       "2        data scientist\n",
       "3             recruiter\n",
       "4     backend developer\n",
       "5    frontend developer\n",
       "6        data scientist\n",
       "7        data scientist\n",
       "Name: job, dtype: object"
      ]
     },
     "metadata": {},
     "output_type": "display_data"
    },
    {
     "data": {
      "text/plain": [
       "0             []\n",
       "1             []\n",
       "2             []\n",
       "3             []\n",
       "4    [developer]\n",
       "5    [developer]\n",
       "6             []\n",
       "7             []\n",
       "Name: job, dtype: object"
      ]
     },
     "execution_count": 38,
     "metadata": {},
     "output_type": "execute_result"
    }
   ],
   "source": [
    "# Display the \"job\" column\n",
    "display(df[\"job\"])\n",
    "\n",
    "# Find all occurrences of \"developer\" in the \"job\" column\n",
    "df[\"job\"].str.findall(\"developer\")"
   ]
  },
  {
   "cell_type": "markdown",
   "metadata": {},
   "source": [
    "**Explanation:**\n",
    "- **``df.job.str.findall(\"developer\")``**: This method ``searches`` each entry in the \"job\" column for the ``substring \"developer\"`` and returns a ``list of all occurrences found``.\n",
    "   - If \"developer\" is found, it will appear in the list.\n",
    "   - If ``not found``, it will return an ``empty list``.\n",
    "\n",
    "<p style=\"background-color:#FFFFFF; font-family:newtimeroman; color:#0000FF; font-size:110%; text-align:left;\"><strong>-----------------------------------------------------------------------------------------------------------------------------------------------------------------------------------------------</strong></p>\n",
    "\n",
    "**The following code snippet add new columns to our DataFrame named ``\"skills\"`` and ``\"Skills\"``:**"
   ]
  },
  {
   "cell_type": "code",
   "execution_count": 39,
   "metadata": {},
   "outputs": [
    {
     "data": {
      "text/html": [
       "<div>\n",
       "<style scoped>\n",
       "    .dataframe tbody tr th:only-of-type {\n",
       "        vertical-align: middle;\n",
       "    }\n",
       "\n",
       "    .dataframe tbody tr th {\n",
       "        vertical-align: top;\n",
       "    }\n",
       "\n",
       "    .dataframe thead th {\n",
       "        text-align: right;\n",
       "    }\n",
       "</style>\n",
       "<table border=\"1\" class=\"dataframe\">\n",
       "  <thead>\n",
       "    <tr style=\"text-align: right;\">\n",
       "      <th></th>\n",
       "      <th>id</th>\n",
       "      <th>department</th>\n",
       "      <th>job</th>\n",
       "      <th>salary</th>\n",
       "      <th>age</th>\n",
       "      <th>first_name</th>\n",
       "      <th>last_name</th>\n",
       "      <th>skills</th>\n",
       "      <th>Skills</th>\n",
       "    </tr>\n",
       "  </thead>\n",
       "  <tbody>\n",
       "    <tr>\n",
       "      <th>0</th>\n",
       "      <td>M0001</td>\n",
       "      <td>HR</td>\n",
       "      <td>manager</td>\n",
       "      <td>150000.0</td>\n",
       "      <td>52.0</td>\n",
       "      <td>Tom</td>\n",
       "      <td>Blue</td>\n",
       "      <td>[]</td>\n",
       "      <td>[]</td>\n",
       "    </tr>\n",
       "    <tr>\n",
       "      <th>1</th>\n",
       "      <td>M0002</td>\n",
       "      <td>IT</td>\n",
       "      <td>manager</td>\n",
       "      <td>180000.0</td>\n",
       "      <td>48.0</td>\n",
       "      <td>John</td>\n",
       "      <td>Black</td>\n",
       "      <td>[Java, C++]</td>\n",
       "      <td>Java, C++</td>\n",
       "    </tr>\n",
       "    <tr>\n",
       "      <th>2</th>\n",
       "      <td>E0001</td>\n",
       "      <td>IT</td>\n",
       "      <td>data scientist</td>\n",
       "      <td>150000.0</td>\n",
       "      <td>35.0</td>\n",
       "      <td>Micheal</td>\n",
       "      <td>Brown</td>\n",
       "      <td>[Python, Tableau, SQL]</td>\n",
       "      <td>[Python, Tableau, SQL]</td>\n",
       "    </tr>\n",
       "    <tr>\n",
       "      <th>3</th>\n",
       "      <td>E0002</td>\n",
       "      <td>HR</td>\n",
       "      <td>recruiter</td>\n",
       "      <td>130000.0</td>\n",
       "      <td>38.0</td>\n",
       "      <td>Jason</td>\n",
       "      <td>Walker</td>\n",
       "      <td>[]</td>\n",
       "      <td>[]</td>\n",
       "    </tr>\n",
       "    <tr>\n",
       "      <th>4</th>\n",
       "      <td>E0003</td>\n",
       "      <td>IT</td>\n",
       "      <td>backend developer</td>\n",
       "      <td>110000.0</td>\n",
       "      <td>NaN</td>\n",
       "      <td>Alex</td>\n",
       "      <td>Green</td>\n",
       "      <td>[React, Django]</td>\n",
       "      <td>[React, Django]</td>\n",
       "    </tr>\n",
       "    <tr>\n",
       "      <th>5</th>\n",
       "      <td>E0004</td>\n",
       "      <td>IT</td>\n",
       "      <td>frontend developer</td>\n",
       "      <td>120000.0</td>\n",
       "      <td>32.0</td>\n",
       "      <td>Oscar</td>\n",
       "      <td>Smi̇th</td>\n",
       "      <td>[JavaScript, Python]</td>\n",
       "      <td>[JavaScript, Python]</td>\n",
       "    </tr>\n",
       "    <tr>\n",
       "      <th>6</th>\n",
       "      <td>E0005</td>\n",
       "      <td>IT</td>\n",
       "      <td>data scientist</td>\n",
       "      <td>135000.0</td>\n",
       "      <td>40.0</td>\n",
       "      <td>Adrian</td>\n",
       "      <td>Star</td>\n",
       "      <td>[R, SQL]</td>\n",
       "      <td>[R, SQL]</td>\n",
       "    </tr>\n",
       "    <tr>\n",
       "      <th>7</th>\n",
       "      <td>E0006</td>\n",
       "      <td>IT</td>\n",
       "      <td>data scientist</td>\n",
       "      <td>125000.0</td>\n",
       "      <td>35.0</td>\n",
       "      <td>Albert</td>\n",
       "      <td>Simon</td>\n",
       "      <td>[SQL, Python]</td>\n",
       "      <td>[SQL, Python]</td>\n",
       "    </tr>\n",
       "  </tbody>\n",
       "</table>\n",
       "</div>"
      ],
      "text/plain": [
       "      id department                 job    salary   age first_name last_name  \\\n",
       "0  M0001         HR             manager  150000.0  52.0        Tom      Blue   \n",
       "1  M0002         IT             manager  180000.0  48.0       John     Black   \n",
       "2  E0001         IT      data scientist  150000.0  35.0    Micheal     Brown   \n",
       "3  E0002         HR           recruiter  130000.0  38.0      Jason    Walker   \n",
       "4  E0003         IT   backend developer  110000.0   NaN       Alex     Green   \n",
       "5  E0004         IT  frontend developer  120000.0  32.0      Oscar    Smi̇th   \n",
       "6  E0005         IT      data scientist  135000.0  40.0     Adrian      Star   \n",
       "7  E0006         IT      data scientist  125000.0  35.0     Albert     Simon   \n",
       "\n",
       "                   skills                  Skills  \n",
       "0                      []                      []  \n",
       "1             [Java, C++]               Java, C++  \n",
       "2  [Python, Tableau, SQL]  [Python, Tableau, SQL]  \n",
       "3                      []                      []  \n",
       "4         [React, Django]         [React, Django]  \n",
       "5    [JavaScript, Python]    [JavaScript, Python]  \n",
       "6                [R, SQL]                [R, SQL]  \n",
       "7           [SQL, Python]           [SQL, Python]  "
      ]
     },
     "execution_count": 39,
     "metadata": {},
     "output_type": "execute_result"
    }
   ],
   "source": [
    "# Let's add new features named \"skils\" and \"Skills\" to our DataFrame\n",
    "\n",
    "df[\"skills\"] = [[], [\"Java\", \"C++\"], [\"Python\", \"Tableau\", \"SQL\"], [], [\"React\", \"Django\"], [\"JavaScript\", \"Python\"], [\"R\", \"SQL\"], [\"SQL\", \"Python\"]]\n",
    "df[\"Skills\"] = [[], [], [\"Python\",\"Tableau\",\"SQL\"], [], [\"React\", \"Django\"], [\"JavaScript\", \"Python\"], [\"R\", \"SQL\"], [\"SQL\", \"Python\"]]\n",
    "df.loc[1, \"Skills\"] = \"Java, C++\"\n",
    "\n",
    "# Display the DataFrame\n",
    "df"
   ]
  },
  {
   "cell_type": "markdown",
   "metadata": {},
   "source": [
    "\n",
    "\n",
    "<p style=\"background-color:#FFFFFF; font-family:newtimeroman; color:#0000FF; font-size:110%; text-align:left;\"><strong>-----------------------------------------------------------------------------------------------------------------------------------------------------------------------------------------------</strong></p>\n",
    "\n",
    "\n",
    "### str.join()\n",
    "\n",
    "- If the elements of a Series are ``lists`` themselves, join the content of these lists using the delimiter passed to the function. This function is an equivalent to str.join() **🧐 [SOURCE](https://pandas.pydata.org/docs/reference/api/pandas.Series.str.join.html)**.\n",
    "\n",
    "**Join** lists contained as elements in the Series/Index with passed delimiter.\n",
    "\n",
    "<p style=\"background-color:#FFFFFF; font-family:newtimeroman; color:#0000FF; font-size:110%; text-align:left;\"><strong>-----------------------------------------------------------------------------------------------------------------------------------------------------------------------------------------------</strong></p>\n",
    "\n",
    "\n",
    "**We can use the ``str.join()`` method to ``concatenate the lists in the \"skills\"`` column into a ``single string`` for each row, separating the skills with a comma.** "
   ]
  },
  {
   "cell_type": "code",
   "execution_count": 40,
   "metadata": {
    "id": "78OCy4m2AgbU",
    "outputId": "0faaf598-5375-42f5-ddfa-e97ed66bd0b8"
   },
   "outputs": [
    {
     "data": {
      "text/plain": [
       "0                      \n",
       "1              Java,C++\n",
       "2    Python,Tableau,SQL\n",
       "3                      \n",
       "4          React,Django\n",
       "5     JavaScript,Python\n",
       "6                 R,SQL\n",
       "7            SQL,Python\n",
       "Name: skills, dtype: object"
      ]
     },
     "execution_count": 40,
     "metadata": {},
     "output_type": "execute_result"
    }
   ],
   "source": [
    "# Concatenating the \"skills\" into a single string for each row\n",
    "\n",
    "df[\"skills\"].str.join(\",\")"
   ]
  },
  {
   "cell_type": "markdown",
   "metadata": {},
   "source": [
    "**Explanation:**\n",
    "- **``df.skills.str.join(\",\")``**: This method takes ``each list in the \"skills\"`` column and ``joins the elements into a single string``, ``separated by commas``.\n",
    "   - A new column, skills_joined, is created to store the concatenated strings.\n",
    "\n",
    "<p style=\"background-color:#FFFFFF; font-family:newtimeroman; color:#0000FF; font-size:110%; text-align:left;\"><strong>-----------------------------------------------------------------------------------------------------------------------------------------------------------------------------------------------</strong></p>\n",
    "\n",
    "**You can similarly use the ``str.join()`` method on the ``\"Skills\"`` column to ``concatenate the lists of skills into a single string for each row``, ``separating`` the skills ``with a comma``:**"
   ]
  },
  {
   "cell_type": "code",
   "execution_count": 41,
   "metadata": {
    "id": "D1qul-8xAgbV",
    "outputId": "ba62e338-8d0b-49ab-df32-30bbda83aa34"
   },
   "outputs": [
    {
     "data": {
      "text/plain": [
       "0                      \n",
       "1     J,a,v,a,,, ,C,+,+\n",
       "2    Python,Tableau,SQL\n",
       "3                      \n",
       "4          React,Django\n",
       "5     JavaScript,Python\n",
       "6                 R,SQL\n",
       "7            SQL,Python\n",
       "Name: Skills, dtype: object"
      ]
     },
     "execution_count": 41,
     "metadata": {},
     "output_type": "execute_result"
    }
   ],
   "source": [
    "# Concatenating the : into a single string for each row\n",
    "\n",
    "df[\"Skills\"].str.join(\",\")"
   ]
  },
  {
   "cell_type": "markdown",
   "metadata": {},
   "source": [
    "The **``issue``** we encounter with the output of the ``\"Skills\"`` column appears to be related to ``how the data is stored`` and then processed. Specifically, when we created the \"Skills\" column, we assigned a ``string directly`` for one entry, which can lead to ``unexpected behavior`` when we ``try to join lists with strings``.\n",
    "\n",
    "**Fixing the Issue:**\n",
    "- To ensure consistent behavior, you should maintain the same data structure (lists) for all entries in the \"Skills\" column. \n",
    "\n",
    "**Here’s how you can correct it:**\n",
    "- Convert the string entry back into a list when updating the second row.\n",
    "- Use the same structure throughout for ease of manipulation.\n",
    "\n",
    "So, by ensuring that all entries in the \"Skills\" column are lists, you maintain consistency, and the str.join() method will work correctly without introducing unexpected characters.\n",
    "\n",
    "<p style=\"background-color:#FFFFFF; font-family:newtimeroman; color:#0000FF; font-size:110%; text-align:left;\"><strong>-----------------------------------------------------------------------------------------------------------------------------------------------------------------------------------------------</strong></p>\n",
    "\n"
   ]
  },
  {
   "cell_type": "code",
   "execution_count": 42,
   "metadata": {
    "id": "GiAMxvyMAgbV",
    "outputId": "e7694d93-4fdd-4fed-ff39-b462854ca28f"
   },
   "outputs": [
    {
     "data": {
      "text/plain": [
       "0                      \n",
       "1             Java, C++\n",
       "2    Python,Tableau,SQL\n",
       "3                      \n",
       "4          React,Django\n",
       "5     JavaScript,Python\n",
       "6                 R,SQL\n",
       "7            SQL,Python\n",
       "Name: Skills, dtype: object"
      ]
     },
     "execution_count": 42,
     "metadata": {},
     "output_type": "execute_result"
    }
   ],
   "source": [
    "# Applying the function\n",
    "\n",
    "df[\"Skills\"].apply(lambda item: \",\".join(item) if type(item) == list else item)"
   ]
  },
  {
   "cell_type": "markdown",
   "metadata": {},
   "source": [
    "\n",
    "\n",
    "<p style=\"background-color:#FFFFFF; font-family:newtimeroman; color:#0000FF; font-size:110%; text-align:left;\"><strong>-----------------------------------------------------------------------------------------------------------------------------------------------------------------------------------------------</strong></p>\n",
    "\n"
   ]
  },
  {
   "cell_type": "code",
   "execution_count": 43,
   "metadata": {
    "id": "2HE2FK0xAgbV",
    "outputId": "238cc24a-a728-41db-d983-fe5ea8ea5fa3"
   },
   "outputs": [
    {
     "data": {
      "text/plain": [
       "['',\n",
       " 'Java, C++',\n",
       " 'Python,Tableau,SQL',\n",
       " '',\n",
       " 'React,Django',\n",
       " 'JavaScript,Python',\n",
       " 'R,SQL',\n",
       " 'SQL,Python']"
      ]
     },
     "execution_count": 43,
     "metadata": {},
     "output_type": "execute_result"
    }
   ],
   "source": [
    "# Using list comprehension to join skills\n",
    "\n",
    "[\",\".join(item) if type(item) == list else item for item in df[\"Skills\"]]"
   ]
  },
  {
   "cell_type": "markdown",
   "metadata": {},
   "source": [
    "\n",
    "\n",
    "<p style=\"background-color:#FFFFFF; font-family:newtimeroman; color:#0000FF; font-size:110%; text-align:left;\"><strong>-----------------------------------------------------------------------------------------------------------------------------------------------------------------------------------------------</strong></p>\n",
    "\n"
   ]
  },
  {
   "cell_type": "code",
   "execution_count": 44,
   "metadata": {
    "id": "I8oDkhT0AgbV",
    "outputId": "e36de7a0-fc06-4d6d-934e-f1cedcbbfed8"
   },
   "outputs": [
    {
     "data": {
      "text/plain": [
       "0                      \n",
       "1             Java, C++\n",
       "2    Python,Tableau,SQL\n",
       "3                      \n",
       "4          React,Django\n",
       "5     JavaScript,Python\n",
       "6                 R,SQL\n",
       "7            SQL,Python\n",
       "Name: Skills, dtype: object"
      ]
     },
     "execution_count": 44,
     "metadata": {},
     "output_type": "execute_result"
    }
   ],
   "source": [
    "# Using list comprehension to transform \"Skills\"\n",
    "df[\"Skills\"] = [\",\".join(item) if type(item) == list else item for item in df.Skills]\n",
    "\n",
    "# Display the \"Skills\" column\n",
    "df[\"Skills\"]"
   ]
  },
  {
   "cell_type": "markdown",
   "metadata": {},
   "source": [
    "\n",
    "\n",
    "<p style=\"background-color:#FFFFFF; font-family:newtimeroman; color:#0000FF; font-size:110%; text-align:left;\"><strong>-----------------------------------------------------------------------------------------------------------------------------------------------------------------------------------------------</strong></p>\n",
    "\n"
   ]
  },
  {
   "cell_type": "code",
   "execution_count": 45,
   "metadata": {
    "id": "I-ecpSnjAgbW",
    "outputId": "1491c41e-20f6-4f24-9ff5-c097c5dc0375"
   },
   "outputs": [
    {
     "data": {
      "text/html": [
       "<div>\n",
       "<style scoped>\n",
       "    .dataframe tbody tr th:only-of-type {\n",
       "        vertical-align: middle;\n",
       "    }\n",
       "\n",
       "    .dataframe tbody tr th {\n",
       "        vertical-align: top;\n",
       "    }\n",
       "\n",
       "    .dataframe thead th {\n",
       "        text-align: right;\n",
       "    }\n",
       "</style>\n",
       "<table border=\"1\" class=\"dataframe\">\n",
       "  <thead>\n",
       "    <tr style=\"text-align: right;\">\n",
       "      <th></th>\n",
       "      <th>id</th>\n",
       "      <th>department</th>\n",
       "      <th>job</th>\n",
       "      <th>salary</th>\n",
       "      <th>age</th>\n",
       "      <th>first_name</th>\n",
       "      <th>last_name</th>\n",
       "      <th>skills</th>\n",
       "      <th>Skills</th>\n",
       "    </tr>\n",
       "  </thead>\n",
       "  <tbody>\n",
       "    <tr>\n",
       "      <th>0</th>\n",
       "      <td>M0001</td>\n",
       "      <td>HR</td>\n",
       "      <td>manager</td>\n",
       "      <td>150000.0</td>\n",
       "      <td>52.0</td>\n",
       "      <td>Tom</td>\n",
       "      <td>Blue</td>\n",
       "      <td>[]</td>\n",
       "      <td></td>\n",
       "    </tr>\n",
       "    <tr>\n",
       "      <th>1</th>\n",
       "      <td>M0002</td>\n",
       "      <td>IT</td>\n",
       "      <td>manager</td>\n",
       "      <td>180000.0</td>\n",
       "      <td>48.0</td>\n",
       "      <td>John</td>\n",
       "      <td>Black</td>\n",
       "      <td>[Java, C++]</td>\n",
       "      <td>Java, C++</td>\n",
       "    </tr>\n",
       "    <tr>\n",
       "      <th>2</th>\n",
       "      <td>E0001</td>\n",
       "      <td>IT</td>\n",
       "      <td>data scientist</td>\n",
       "      <td>150000.0</td>\n",
       "      <td>35.0</td>\n",
       "      <td>Micheal</td>\n",
       "      <td>Brown</td>\n",
       "      <td>[Python, Tableau, SQL]</td>\n",
       "      <td>Python,Tableau,SQL</td>\n",
       "    </tr>\n",
       "    <tr>\n",
       "      <th>3</th>\n",
       "      <td>E0002</td>\n",
       "      <td>HR</td>\n",
       "      <td>recruiter</td>\n",
       "      <td>130000.0</td>\n",
       "      <td>38.0</td>\n",
       "      <td>Jason</td>\n",
       "      <td>Walker</td>\n",
       "      <td>[]</td>\n",
       "      <td></td>\n",
       "    </tr>\n",
       "    <tr>\n",
       "      <th>4</th>\n",
       "      <td>E0003</td>\n",
       "      <td>IT</td>\n",
       "      <td>backend developer</td>\n",
       "      <td>110000.0</td>\n",
       "      <td>NaN</td>\n",
       "      <td>Alex</td>\n",
       "      <td>Green</td>\n",
       "      <td>[React, Django]</td>\n",
       "      <td>React,Django</td>\n",
       "    </tr>\n",
       "    <tr>\n",
       "      <th>5</th>\n",
       "      <td>E0004</td>\n",
       "      <td>IT</td>\n",
       "      <td>frontend developer</td>\n",
       "      <td>120000.0</td>\n",
       "      <td>32.0</td>\n",
       "      <td>Oscar</td>\n",
       "      <td>Smi̇th</td>\n",
       "      <td>[JavaScript, Python]</td>\n",
       "      <td>JavaScript,Python</td>\n",
       "    </tr>\n",
       "    <tr>\n",
       "      <th>6</th>\n",
       "      <td>E0005</td>\n",
       "      <td>IT</td>\n",
       "      <td>data scientist</td>\n",
       "      <td>135000.0</td>\n",
       "      <td>40.0</td>\n",
       "      <td>Adrian</td>\n",
       "      <td>Star</td>\n",
       "      <td>[R, SQL]</td>\n",
       "      <td>R,SQL</td>\n",
       "    </tr>\n",
       "    <tr>\n",
       "      <th>7</th>\n",
       "      <td>E0006</td>\n",
       "      <td>IT</td>\n",
       "      <td>data scientist</td>\n",
       "      <td>125000.0</td>\n",
       "      <td>35.0</td>\n",
       "      <td>Albert</td>\n",
       "      <td>Simon</td>\n",
       "      <td>[SQL, Python]</td>\n",
       "      <td>SQL,Python</td>\n",
       "    </tr>\n",
       "  </tbody>\n",
       "</table>\n",
       "</div>"
      ],
      "text/plain": [
       "      id department                 job    salary   age first_name last_name  \\\n",
       "0  M0001         HR             manager  150000.0  52.0        Tom      Blue   \n",
       "1  M0002         IT             manager  180000.0  48.0       John     Black   \n",
       "2  E0001         IT      data scientist  150000.0  35.0    Micheal     Brown   \n",
       "3  E0002         HR           recruiter  130000.0  38.0      Jason    Walker   \n",
       "4  E0003         IT   backend developer  110000.0   NaN       Alex     Green   \n",
       "5  E0004         IT  frontend developer  120000.0  32.0      Oscar    Smi̇th   \n",
       "6  E0005         IT      data scientist  135000.0  40.0     Adrian      Star   \n",
       "7  E0006         IT      data scientist  125000.0  35.0     Albert     Simon   \n",
       "\n",
       "                   skills              Skills  \n",
       "0                      []                      \n",
       "1             [Java, C++]           Java, C++  \n",
       "2  [Python, Tableau, SQL]  Python,Tableau,SQL  \n",
       "3                      []                      \n",
       "4         [React, Django]        React,Django  \n",
       "5    [JavaScript, Python]   JavaScript,Python  \n",
       "6                [R, SQL]               R,SQL  \n",
       "7           [SQL, Python]          SQL,Python  "
      ]
     },
     "execution_count": 45,
     "metadata": {},
     "output_type": "execute_result"
    }
   ],
   "source": [
    "# Let's check our DataFrame:\n",
    "\n",
    "df"
   ]
  },
  {
   "cell_type": "markdown",
   "metadata": {},
   "source": [
    "\n",
    "\n",
    "<p style=\"background-color:#FFFFFF; font-family:newtimeroman; color:#0000FF; font-size:110%; text-align:left;\"><strong>-----------------------------------------------------------------------------------------------------------------------------------------------------------------------------------------------</strong></p>\n",
    "\n",
    "### <p style=\"background-color:#FFFFFF; font-family:newtimeroman; color:#0000FF; font-size:125%; text-align:left;\"><strong>Wrap-up:</strong></p>\n",
    "\n",
    "**Difference between Object dtype and StringDtype extension type in Pandas:**\n",
    "\n",
    "Pandas offers two main ways to handle string data: the object dtype and the StringDtype extension type. Here are the key differences between them:\n",
    "\n",
    "1. ``Object dtype in Pandas:``\n",
    "\n",
    "   - When a Pandas Series contains strings, and the data type of the Series is not explicitly specified, the default dtype used is object. This means that the elements in the Series are treated as generic Python objects, which can hold any data type, including strings, integers, lists, and more.\n",
    "   - The object dtype is a catch-all data type and is not optimized for string-specific operations. As a result, vectorized string operations are not available when using the object dtype. This may lead to less efficient string processing, especially when dealing with large datasets.\n",
    "<br>\n",
    "\n",
    "2. ``StringDtype extension type in Pandas:``\n",
    "\n",
    "   - In Pandas, the StringDtype extension type is specifically designed for working with string data. It provides better performance and supports vectorized string operations, which allow you to apply string operations to entire Series efficiently without using explicit loops.\n",
    "   - The StringDtype extension type is part of the Pandas extension types introduced in version 1.0.0, aiming to provide consistency and improved performance for string handling. It is optimized for string-specific operations and allows for more efficient memory usage when working with string data.\n",
    "\n",
    "``Key Points:``\n",
    "\n",
    "   - When dealing with string data in Pandas, using the StringDtype extension type is recommended over the object dtype for better performance and memory efficiency.\n",
    "The StringDtype extension type provides enhanced support for vectorized string operations, making it more convenient for string manipulation tasks.\n",
    "   - The object dtype should be used when the data in a Pandas Series contains different types (e.g., strings, numbers, lists), and you want to handle it in a more generic way. However, note that this may lead to reduced performance for string-specific operations.\n",
    "   \n",
    "In summary, the StringDtype extension type in Pandas is the preferred option when working with string data, as it offers better performance and supports specialized string operations compared to the generic object dtype.\n",
    "\n",
    "<p style=\"background-color:#FFFFFF; font-family:newtimeroman; color:#0000FF; font-size:110%; text-align:left;\"><strong>-----------------------------------------------------------------------------------------------------------------------------------------------------------------------------------------------</strong></p>\n"
   ]
  },
  {
   "cell_type": "markdown",
   "metadata": {
    "id": "S32AF3pOAgbW"
   },
   "source": [
    "### <p style=\"background-color:#E51A59; font-family:newtimeroman; color:#FFF9ED; font-size:150%; text-align:LEFT; border-radius:10px 10px;\">Dummy Operations</p>\n",
    "\n",
    "<a id=\"1.3\"></a>\n",
    "<a href=\"#toc\" class=\"btn btn-primary btn-sm\" role=\"button\" aria-pressed=\"true\" \n",
    "style=\"color:blue; background-color:#dfa8e4\" data-toggle=\"popover\">Content</a>\n",
    "\n",
    "- A dataset may contain various type of values, sometimes it consists of categorical values. So, in-order to use those categorical value for programming efficiently we need to create dummy variables. A dummy variable is a **``binary variable``** that indicates whether a separate categorical variable takes on a specific value [SOURCE](https://www.geeksforgeeks.org/how-to-create-dummy-variables-in-python-with-pandas/).\n",
    "\n",
    "- A **``dummy operation``** is a **``technique used in data analysis and programming to create placeholder values or variables that serve specific purposes without carrying meaningful data``**. In the context of data manipulation, dummy operations often involve generating **``dummy variables to represent categorical data numerically``**, enabling more effective statistical analysis and machine learning applications. This approach helps streamline datasets, making them easier to work with while maintaining the integrity of the original information. Dummy operations facilitate various tasks, including regression analysis and model training, by allowing algorithms to interpret categorical features as numerical inputs.\n",
    "\n",
    "### get_dummies()\n",
    "\n",
    "- **SYNTAX-1:** <b>``pd.get_dummies(data, prefix=None, prefix_sep=\"_\",)``</b><br>\n",
    "            **OR**<br>\n",
    "- **SYNTAX-1:** <b>``df[\"col_name\"].get_dummies(sep = \",\")``</b><br>\n",
    "\n",
    "- **Parameters:**\n",
    "  - **``data=``** input data i.e. it includes pandas data frame. list . set . numpy arrays etc.\n",
    "  - **``prefix=``** Initial value\n",
    "  - **``prefix_sep=``** Data values separation.\n",
    "  - **``Return Type``**: Dummy variables."
   ]
  },
  {
   "cell_type": "markdown",
   "metadata": {},
   "source": [
    "<p style=\"background-color:#FFFFFF; font-family:newtimeroman; color:#0000FF; font-size:110%; text-align:left;\"><strong>-----------------------------------------------------------------------------------------------------------------------------------------------------------------------------------------------</strong></p>\n",
    "\n",
    "\n",
    "**The following command ``converts categorical variable(s) in the department column`` of the DataFrame into ``dummy/indicator variables``.**\n",
    "- This operation is particularly useful in preparing data for machine learning models, which typically require numerical input.\n",
    "\n",
    " "
   ]
  },
  {
   "cell_type": "code",
   "execution_count": 46,
   "metadata": {
    "id": "qtcarQS1AgbW",
    "outputId": "52e6d82f-f6bc-46cb-9bea-8031ccaa7600"
   },
   "outputs": [
    {
     "data": {
      "text/html": [
       "<div>\n",
       "<style scoped>\n",
       "    .dataframe tbody tr th:only-of-type {\n",
       "        vertical-align: middle;\n",
       "    }\n",
       "\n",
       "    .dataframe tbody tr th {\n",
       "        vertical-align: top;\n",
       "    }\n",
       "\n",
       "    .dataframe thead th {\n",
       "        text-align: right;\n",
       "    }\n",
       "</style>\n",
       "<table border=\"1\" class=\"dataframe\">\n",
       "  <thead>\n",
       "    <tr style=\"text-align: right;\">\n",
       "      <th></th>\n",
       "      <th>HR</th>\n",
       "      <th>IT</th>\n",
       "    </tr>\n",
       "  </thead>\n",
       "  <tbody>\n",
       "    <tr>\n",
       "      <th>0</th>\n",
       "      <td>True</td>\n",
       "      <td>False</td>\n",
       "    </tr>\n",
       "    <tr>\n",
       "      <th>1</th>\n",
       "      <td>False</td>\n",
       "      <td>True</td>\n",
       "    </tr>\n",
       "    <tr>\n",
       "      <th>2</th>\n",
       "      <td>False</td>\n",
       "      <td>True</td>\n",
       "    </tr>\n",
       "    <tr>\n",
       "      <th>3</th>\n",
       "      <td>True</td>\n",
       "      <td>False</td>\n",
       "    </tr>\n",
       "    <tr>\n",
       "      <th>4</th>\n",
       "      <td>False</td>\n",
       "      <td>True</td>\n",
       "    </tr>\n",
       "    <tr>\n",
       "      <th>5</th>\n",
       "      <td>False</td>\n",
       "      <td>True</td>\n",
       "    </tr>\n",
       "    <tr>\n",
       "      <th>6</th>\n",
       "      <td>False</td>\n",
       "      <td>True</td>\n",
       "    </tr>\n",
       "    <tr>\n",
       "      <th>7</th>\n",
       "      <td>False</td>\n",
       "      <td>True</td>\n",
       "    </tr>\n",
       "  </tbody>\n",
       "</table>\n",
       "</div>"
      ],
      "text/plain": [
       "      HR     IT\n",
       "0   True  False\n",
       "1  False   True\n",
       "2  False   True\n",
       "3   True  False\n",
       "4  False   True\n",
       "5  False   True\n",
       "6  False   True\n",
       "7  False   True"
      ]
     },
     "execution_count": 46,
     "metadata": {},
     "output_type": "execute_result"
    }
   ],
   "source": [
    "# Create dummy variables for the 'department' column\n",
    "\n",
    "pd.get_dummies(df.department)"
   ]
  },
  {
   "cell_type": "markdown",
   "metadata": {},
   "source": [
    "As seen, **``two(2) dummy variables are created``** for the **``three categorical values of the \"department\"``** attribute. We can create dummy variables in python using **``get_dummies()``** method.\n",
    "\n",
    "\n",
    "- **``Explanation of the Command:``**\n",
    "  - **``pd.get_dummies()``**: This function from the Pandas library creates a new DataFrame where each category in the specified column becomes a separate column with binary values (0 or 1). A value of 1 indicates the presence of that category, while 0 indicates its absence.\n",
    "  - **``df.department``**: This specifies the column to be transformed. The function will analyze the unique values in the department column and generate corresponding dummy variables.\n",
    "\n",
    "- **``Explanation of the Output:``**\n",
    "  - The output contains two new columns (**``one for each unique department``**) with binary indicators showing whether each employee belongs to that department. Each column represents one of the categories, with binary values indicating the presence (1) or absence (0) of that category for each row.\n",
    "  - This transformation allows for easier analysis or modeling, as machine learning algorithms typically require numerical input.\n",
    "\n",
    "\n",
    "<p style=\"background-color:#FFFFFF; font-family:newtimeroman; color:#0000FF; font-size:125%; text-align:left;\">📢❗🚨 Dummies with <span style=\"color:red;\">drop_first=True</span> parameter can be used to <span style=\"color:red;\">drop the first column</span>. drop_first=True is important to use, as it helps in <span style=\"color:red;\">reducing the extra column created during dummy variable creation</span>. Hence it <span style=\"color:red;\">reduces the correlations created among dummy variables</span>. In other words it <span style=\"color:red;\">drops the first dummy to avoid the creation of correlated features</span>. </p>\n",
    "\n",
    "[SOURCE](https://stackoverflow.com/questions/63661560/drop-first-true-during-dummy-variable-creation-in-pandas#:~:text=1%20Answer,correlations%20created%20among%20dummy%20variables.).\n",
    "\n",
    "\n",
    "<p style=\"background-color:#FFFFFF; font-family:newtimeroman; color:#0000FF; font-size:110%; text-align:left;\"><strong>-----------------------------------------------------------------------------------------------------------------------------------------------------------------------------------------------</strong></p>\n",
    "\n",
    "**The following command ``converts the categorical variable in the department column`` of the DataFrame into ``dummy/indicator variables`` while ``dropping the first category``.**\n",
    "- This is useful for avoiding the **``\"dummy variable trap\"``** in statistical modeling, **``where one category can be perfectly predicted from the others``**.\n",
    "\n"
   ]
  },
  {
   "cell_type": "code",
   "execution_count": 47,
   "metadata": {
    "id": "ksnIuBl9AgbX",
    "outputId": "1fe8a71d-3aaa-4e14-c323-fb21b44a4fe7"
   },
   "outputs": [
    {
     "data": {
      "text/html": [
       "<div>\n",
       "<style scoped>\n",
       "    .dataframe tbody tr th:only-of-type {\n",
       "        vertical-align: middle;\n",
       "    }\n",
       "\n",
       "    .dataframe tbody tr th {\n",
       "        vertical-align: top;\n",
       "    }\n",
       "\n",
       "    .dataframe thead th {\n",
       "        text-align: right;\n",
       "    }\n",
       "</style>\n",
       "<table border=\"1\" class=\"dataframe\">\n",
       "  <thead>\n",
       "    <tr style=\"text-align: right;\">\n",
       "      <th></th>\n",
       "      <th>IT</th>\n",
       "    </tr>\n",
       "  </thead>\n",
       "  <tbody>\n",
       "    <tr>\n",
       "      <th>0</th>\n",
       "      <td>False</td>\n",
       "    </tr>\n",
       "    <tr>\n",
       "      <th>1</th>\n",
       "      <td>True</td>\n",
       "    </tr>\n",
       "    <tr>\n",
       "      <th>2</th>\n",
       "      <td>True</td>\n",
       "    </tr>\n",
       "    <tr>\n",
       "      <th>3</th>\n",
       "      <td>False</td>\n",
       "    </tr>\n",
       "    <tr>\n",
       "      <th>4</th>\n",
       "      <td>True</td>\n",
       "    </tr>\n",
       "    <tr>\n",
       "      <th>5</th>\n",
       "      <td>True</td>\n",
       "    </tr>\n",
       "    <tr>\n",
       "      <th>6</th>\n",
       "      <td>True</td>\n",
       "    </tr>\n",
       "    <tr>\n",
       "      <th>7</th>\n",
       "      <td>True</td>\n",
       "    </tr>\n",
       "  </tbody>\n",
       "</table>\n",
       "</div>"
      ],
      "text/plain": [
       "      IT\n",
       "0  False\n",
       "1   True\n",
       "2   True\n",
       "3  False\n",
       "4   True\n",
       "5   True\n",
       "6   True\n",
       "7   True"
      ]
     },
     "execution_count": 47,
     "metadata": {},
     "output_type": "execute_result"
    }
   ],
   "source": [
    "# Create dummy variables for the 'department' column, dropping the first category\n",
    "\n",
    "pd.get_dummies(df.department, drop_first=True)"
   ]
  },
  {
   "cell_type": "markdown",
   "metadata": {},
   "source": [
    "- **``Explanation of the Command:``**\n",
    "pd.get_dummies()``**: This function creates a new DataFrame where each unique category in the specified column becomes a separate column with binary values (0 or 1).\n",
    "- **``drop_first=True``**: This parameter tells Pandas to drop the first dummy variable column created. By doing so, it helps prevent multicollinearity by ensuring that the remaining columns represent the categories without redundancy.\n",
    "\n",
    "\n",
    "- **``Explanation of the Output:``**\n",
    "  - In this example, if HR is the first category alphabetically, it gets dropped, resulting in dummy variables for Engineering and Marketing.\n",
    "--  Each remaining column indicates the presence (1) or absence (0) of that category for each employee.\n",
    "\n",
    "<p style=\"background-color:#FFFFFF; font-family:newtimeroman; color:#0000FF; font-size:110%; text-align:left;\"><strong>-----------------------------------------------------------------------------------------------------------------------------------------------------------------------------------------------</strong></p>\n",
    "\n",
    "\n"
   ]
  },
  {
   "cell_type": "code",
   "execution_count": 48,
   "metadata": {
    "id": "sdilQe9fAgbX",
    "outputId": "f948a5ee-4c2e-46eb-8f5e-32df64e075f3"
   },
   "outputs": [
    {
     "data": {
      "text/plain": [
       "0                      \n",
       "1             Java, C++\n",
       "2    Python,Tableau,SQL\n",
       "3                      \n",
       "4          React,Django\n",
       "5     JavaScript,Python\n",
       "6                 R,SQL\n",
       "7            SQL,Python\n",
       "Name: Skills, dtype: object"
      ]
     },
     "execution_count": 48,
     "metadata": {},
     "output_type": "execute_result"
    }
   ],
   "source": [
    "# Access the department feature\n",
    "\n",
    "df[\"Skills\"]"
   ]
  },
  {
   "cell_type": "markdown",
   "metadata": {},
   "source": [
    "The output indicates that the **``Skills``** column in our DataFrame contains **``strings representing various skills for each entry``**, with **``some entries being empty``**. \n",
    "\n",
    "- **``Content``**: Each entry in the Skills column lists skills separated by commas. Some entries are empty, indicating that no skills are listed for those individuals.\n",
    "- **``Data Type``**: The data type is object, which is typical for string data in Pandas.\n",
    "\n",
    "<p style=\"background-color:#FFFFFF; font-family:newtimeroman; color:#0000FF; font-size:110%; text-align:left;\"><strong>-----------------------------------------------------------------------------------------------------------------------------------------------------------------------------------------------</strong></p>\n",
    "\n",
    "**The following command ``creates dummy variables`` from the ``Skills column`` in our DataFrame, where each unique skill becomes a separate column.**\n",
    "- The **``sep=\",\"``** argument specifies that the skills are separated by commas.\n",
    "\n"
   ]
  },
  {
   "cell_type": "code",
   "execution_count": 49,
   "metadata": {
    "id": "TU1ckrJ8AgbX",
    "outputId": "4ed4ec71-b7d5-46e3-eab4-c2c3a0a59f86"
   },
   "outputs": [
    {
     "data": {
      "text/html": [
       "<div>\n",
       "<style scoped>\n",
       "    .dataframe tbody tr th:only-of-type {\n",
       "        vertical-align: middle;\n",
       "    }\n",
       "\n",
       "    .dataframe tbody tr th {\n",
       "        vertical-align: top;\n",
       "    }\n",
       "\n",
       "    .dataframe thead th {\n",
       "        text-align: right;\n",
       "    }\n",
       "</style>\n",
       "<table border=\"1\" class=\"dataframe\">\n",
       "  <thead>\n",
       "    <tr style=\"text-align: right;\">\n",
       "      <th></th>\n",
       "      <th>C++</th>\n",
       "      <th>Django</th>\n",
       "      <th>Java</th>\n",
       "      <th>JavaScript</th>\n",
       "      <th>Python</th>\n",
       "      <th>R</th>\n",
       "      <th>React</th>\n",
       "      <th>SQL</th>\n",
       "      <th>Tableau</th>\n",
       "    </tr>\n",
       "  </thead>\n",
       "  <tbody>\n",
       "    <tr>\n",
       "      <th>0</th>\n",
       "      <td>0</td>\n",
       "      <td>0</td>\n",
       "      <td>0</td>\n",
       "      <td>0</td>\n",
       "      <td>0</td>\n",
       "      <td>0</td>\n",
       "      <td>0</td>\n",
       "      <td>0</td>\n",
       "      <td>0</td>\n",
       "    </tr>\n",
       "    <tr>\n",
       "      <th>1</th>\n",
       "      <td>1</td>\n",
       "      <td>0</td>\n",
       "      <td>1</td>\n",
       "      <td>0</td>\n",
       "      <td>0</td>\n",
       "      <td>0</td>\n",
       "      <td>0</td>\n",
       "      <td>0</td>\n",
       "      <td>0</td>\n",
       "    </tr>\n",
       "    <tr>\n",
       "      <th>2</th>\n",
       "      <td>0</td>\n",
       "      <td>0</td>\n",
       "      <td>0</td>\n",
       "      <td>0</td>\n",
       "      <td>1</td>\n",
       "      <td>0</td>\n",
       "      <td>0</td>\n",
       "      <td>1</td>\n",
       "      <td>1</td>\n",
       "    </tr>\n",
       "    <tr>\n",
       "      <th>3</th>\n",
       "      <td>0</td>\n",
       "      <td>0</td>\n",
       "      <td>0</td>\n",
       "      <td>0</td>\n",
       "      <td>0</td>\n",
       "      <td>0</td>\n",
       "      <td>0</td>\n",
       "      <td>0</td>\n",
       "      <td>0</td>\n",
       "    </tr>\n",
       "    <tr>\n",
       "      <th>4</th>\n",
       "      <td>0</td>\n",
       "      <td>1</td>\n",
       "      <td>0</td>\n",
       "      <td>0</td>\n",
       "      <td>0</td>\n",
       "      <td>0</td>\n",
       "      <td>1</td>\n",
       "      <td>0</td>\n",
       "      <td>0</td>\n",
       "    </tr>\n",
       "    <tr>\n",
       "      <th>5</th>\n",
       "      <td>0</td>\n",
       "      <td>0</td>\n",
       "      <td>0</td>\n",
       "      <td>1</td>\n",
       "      <td>1</td>\n",
       "      <td>0</td>\n",
       "      <td>0</td>\n",
       "      <td>0</td>\n",
       "      <td>0</td>\n",
       "    </tr>\n",
       "    <tr>\n",
       "      <th>6</th>\n",
       "      <td>0</td>\n",
       "      <td>0</td>\n",
       "      <td>0</td>\n",
       "      <td>0</td>\n",
       "      <td>0</td>\n",
       "      <td>1</td>\n",
       "      <td>0</td>\n",
       "      <td>1</td>\n",
       "      <td>0</td>\n",
       "    </tr>\n",
       "    <tr>\n",
       "      <th>7</th>\n",
       "      <td>0</td>\n",
       "      <td>0</td>\n",
       "      <td>0</td>\n",
       "      <td>0</td>\n",
       "      <td>1</td>\n",
       "      <td>0</td>\n",
       "      <td>0</td>\n",
       "      <td>1</td>\n",
       "      <td>0</td>\n",
       "    </tr>\n",
       "  </tbody>\n",
       "</table>\n",
       "</div>"
      ],
      "text/plain": [
       "    C++  Django  Java  JavaScript  Python  R  React  SQL  Tableau\n",
       "0     0       0     0           0       0  0      0    0        0\n",
       "1     1       0     1           0       0  0      0    0        0\n",
       "2     0       0     0           0       1  0      0    1        1\n",
       "3     0       0     0           0       0  0      0    0        0\n",
       "4     0       1     0           0       0  0      1    0        0\n",
       "5     0       0     0           1       1  0      0    0        0\n",
       "6     0       0     0           0       0  1      0    1        0\n",
       "7     0       0     0           0       1  0      0    1        0"
      ]
     },
     "execution_count": 49,
     "metadata": {},
     "output_type": "execute_result"
    }
   ],
   "source": [
    "# Create dummy variables for the 'Skills' column\n",
    "\n",
    "df[\"Skills\"].str.get_dummies(sep=\",\")"
   ]
  },
  {
   "cell_type": "markdown",
   "metadata": {},
   "source": [
    "**``Explanation of the Command:``**\n",
    "- **``df.Skills.str.get_dummies(sep=\",\")``**: This method applies the string method get_dummies to the Skills column. It splits each string by the specified separator (in this case, a comma) and creates a new column for each unique skill. Each entry in these new columns will have a 1 if the skill is present and 0 if it is not.\n",
    "\n",
    "**``Explanation of the Output:``**\n",
    "- Each unique skill becomes a column in the new DataFrame (skills_dummies).\n",
    "- The values in these columns indicate whether each employee possesses the corresponding skill (1) or not (0).\n",
    "- Rows with no skills (empty strings) will have all zeroes in the dummy variable columns.\n",
    "\n",
    "<p style=\"background-color:#FFFFFF; font-family:newtimeroman; color:#0000FF; font-size:110%; text-align:left;\"><strong>-----------------------------------------------------------------------------------------------------------------------------------------------------------------------------------------------</strong></p>\n",
    "\n",
    "**The following command ``sreates dummy variables`` from the ``Skills column`` in our DataFrame, with each unique skill represented as a separate column.**\n",
    "- The add_prefix(\"skills_\") method is then applied to prepend \"skills_\" to the names of these new columns."
   ]
  },
  {
   "cell_type": "code",
   "execution_count": 50,
   "metadata": {
    "id": "kx-0sPUuAgbX",
    "outputId": "d4b4169a-9fe6-46eb-cb43-a58ae0c904e2"
   },
   "outputs": [
    {
     "data": {
      "text/html": [
       "<div>\n",
       "<style scoped>\n",
       "    .dataframe tbody tr th:only-of-type {\n",
       "        vertical-align: middle;\n",
       "    }\n",
       "\n",
       "    .dataframe tbody tr th {\n",
       "        vertical-align: top;\n",
       "    }\n",
       "\n",
       "    .dataframe thead th {\n",
       "        text-align: right;\n",
       "    }\n",
       "</style>\n",
       "<table border=\"1\" class=\"dataframe\">\n",
       "  <thead>\n",
       "    <tr style=\"text-align: right;\">\n",
       "      <th></th>\n",
       "      <th>skills_ C++</th>\n",
       "      <th>skills_Django</th>\n",
       "      <th>skills_Java</th>\n",
       "      <th>skills_JavaScript</th>\n",
       "      <th>skills_Python</th>\n",
       "      <th>skills_R</th>\n",
       "      <th>skills_React</th>\n",
       "      <th>skills_SQL</th>\n",
       "      <th>skills_Tableau</th>\n",
       "    </tr>\n",
       "  </thead>\n",
       "  <tbody>\n",
       "    <tr>\n",
       "      <th>0</th>\n",
       "      <td>0</td>\n",
       "      <td>0</td>\n",
       "      <td>0</td>\n",
       "      <td>0</td>\n",
       "      <td>0</td>\n",
       "      <td>0</td>\n",
       "      <td>0</td>\n",
       "      <td>0</td>\n",
       "      <td>0</td>\n",
       "    </tr>\n",
       "    <tr>\n",
       "      <th>1</th>\n",
       "      <td>1</td>\n",
       "      <td>0</td>\n",
       "      <td>1</td>\n",
       "      <td>0</td>\n",
       "      <td>0</td>\n",
       "      <td>0</td>\n",
       "      <td>0</td>\n",
       "      <td>0</td>\n",
       "      <td>0</td>\n",
       "    </tr>\n",
       "    <tr>\n",
       "      <th>2</th>\n",
       "      <td>0</td>\n",
       "      <td>0</td>\n",
       "      <td>0</td>\n",
       "      <td>0</td>\n",
       "      <td>1</td>\n",
       "      <td>0</td>\n",
       "      <td>0</td>\n",
       "      <td>1</td>\n",
       "      <td>1</td>\n",
       "    </tr>\n",
       "    <tr>\n",
       "      <th>3</th>\n",
       "      <td>0</td>\n",
       "      <td>0</td>\n",
       "      <td>0</td>\n",
       "      <td>0</td>\n",
       "      <td>0</td>\n",
       "      <td>0</td>\n",
       "      <td>0</td>\n",
       "      <td>0</td>\n",
       "      <td>0</td>\n",
       "    </tr>\n",
       "    <tr>\n",
       "      <th>4</th>\n",
       "      <td>0</td>\n",
       "      <td>1</td>\n",
       "      <td>0</td>\n",
       "      <td>0</td>\n",
       "      <td>0</td>\n",
       "      <td>0</td>\n",
       "      <td>1</td>\n",
       "      <td>0</td>\n",
       "      <td>0</td>\n",
       "    </tr>\n",
       "    <tr>\n",
       "      <th>5</th>\n",
       "      <td>0</td>\n",
       "      <td>0</td>\n",
       "      <td>0</td>\n",
       "      <td>1</td>\n",
       "      <td>1</td>\n",
       "      <td>0</td>\n",
       "      <td>0</td>\n",
       "      <td>0</td>\n",
       "      <td>0</td>\n",
       "    </tr>\n",
       "    <tr>\n",
       "      <th>6</th>\n",
       "      <td>0</td>\n",
       "      <td>0</td>\n",
       "      <td>0</td>\n",
       "      <td>0</td>\n",
       "      <td>0</td>\n",
       "      <td>1</td>\n",
       "      <td>0</td>\n",
       "      <td>1</td>\n",
       "      <td>0</td>\n",
       "    </tr>\n",
       "    <tr>\n",
       "      <th>7</th>\n",
       "      <td>0</td>\n",
       "      <td>0</td>\n",
       "      <td>0</td>\n",
       "      <td>0</td>\n",
       "      <td>1</td>\n",
       "      <td>0</td>\n",
       "      <td>0</td>\n",
       "      <td>1</td>\n",
       "      <td>0</td>\n",
       "    </tr>\n",
       "  </tbody>\n",
       "</table>\n",
       "</div>"
      ],
      "text/plain": [
       "   skills_ C++  skills_Django  skills_Java  skills_JavaScript  skills_Python  \\\n",
       "0            0              0            0                  0              0   \n",
       "1            1              0            1                  0              0   \n",
       "2            0              0            0                  0              1   \n",
       "3            0              0            0                  0              0   \n",
       "4            0              1            0                  0              0   \n",
       "5            0              0            0                  1              1   \n",
       "6            0              0            0                  0              0   \n",
       "7            0              0            0                  0              1   \n",
       "\n",
       "   skills_R  skills_React  skills_SQL  skills_Tableau  \n",
       "0         0             0           0               0  \n",
       "1         0             0           0               0  \n",
       "2         0             0           1               1  \n",
       "3         0             0           0               0  \n",
       "4         0             1           0               0  \n",
       "5         0             0           0               0  \n",
       "6         1             0           1               0  \n",
       "7         0             0           1               0  "
      ]
     },
     "execution_count": 50,
     "metadata": {},
     "output_type": "execute_result"
    }
   ],
   "source": [
    "# Create dummy variables for the 'Skills' column and add a prefix\n",
    "\n",
    "df.Skills.str.get_dummies(sep=\",\").add_prefix(\"skills_\")"
   ]
  },
  {
   "cell_type": "markdown",
   "metadata": {},
   "source": [
    "**``Explanation of the Command:``**\n",
    "- **``df.Skills.str.get_dummies(sep=\",\")``**: This part creates a DataFrame where each unique skill from the Skills column becomes a column in the new DataFrame, with binary values (1 or 0) indicating the presence or absence of that skill.\n",
    "- **``.add_prefix(\"skills_\")``**: This method adds the prefix \"skills_\" to each of the new column names, making it clear that these columns represent skills.\n",
    "\n",
    "**``Explanation of the Output:``**\n",
    "- **``df.Skills.str.get_dummies(sep=\",\")``**: This part creates a DataFrame where each unique skill from the Skills column becomes a column in the new DataFrame, with binary values (1 or 0) indicating the presence or absence of that skill.\n",
    "- **``.add_prefix(\"skills_\")``**: This method adds the prefix \"skills_\" to each of the new column names, making it clear that these columns represent skills.\n",
    "\n",
    "<p style=\"background-color:#FFFFFF; font-family:newtimeroman; color:#0000FF; font-size:110%; text-align:left;\"><strong>-----------------------------------------------------------------------------------------------------------------------------------------------------------------------------------------------</strong></p>\n",
    "\n",
    "**The following code creates a one-hot encoded (OHE) DataFrame from a column containing categorical data, specifically from a column named Skills in a DataFrame named.**"
   ]
  },
  {
   "cell_type": "code",
   "execution_count": 51,
   "metadata": {
    "id": "fYjgl2VYAgbY"
   },
   "outputs": [],
   "source": [
    "# Create dummy variables for the Skills column\n",
    "\n",
    "skills_dummy = df.Skills.str.get_dummies(sep=\",\").add_prefix(\"skills_\")"
   ]
  },
  {
   "cell_type": "markdown",
   "metadata": {},
   "source": [
    "\n",
    "\n",
    "<p style=\"background-color:#FFFFFF; font-family:newtimeroman; color:#0000FF; font-size:110%; text-align:left;\"><strong>-----------------------------------------------------------------------------------------------------------------------------------------------------------------------------------------------</strong></p>\n",
    "\n",
    "**The following command creates a new DataFrame called df_final that includes only the specified columns (department, job, salary, and Skills) from the original DataFrame.**\n",
    "- This operation is useful for narrowing down the DataFrame to include only the relevant information you want to analyze or work with."
   ]
  },
  {
   "cell_type": "code",
   "execution_count": 52,
   "metadata": {
    "id": "96PFTEnfAgbY",
    "outputId": "858ad970-6104-4e57-c26c-3a8ac03d701b"
   },
   "outputs": [
    {
     "data": {
      "text/html": [
       "<div>\n",
       "<style scoped>\n",
       "    .dataframe tbody tr th:only-of-type {\n",
       "        vertical-align: middle;\n",
       "    }\n",
       "\n",
       "    .dataframe tbody tr th {\n",
       "        vertical-align: top;\n",
       "    }\n",
       "\n",
       "    .dataframe thead th {\n",
       "        text-align: right;\n",
       "    }\n",
       "</style>\n",
       "<table border=\"1\" class=\"dataframe\">\n",
       "  <thead>\n",
       "    <tr style=\"text-align: right;\">\n",
       "      <th></th>\n",
       "      <th>department</th>\n",
       "      <th>job</th>\n",
       "      <th>salary</th>\n",
       "      <th>Skills</th>\n",
       "    </tr>\n",
       "  </thead>\n",
       "  <tbody>\n",
       "    <tr>\n",
       "      <th>0</th>\n",
       "      <td>HR</td>\n",
       "      <td>manager</td>\n",
       "      <td>150000.0</td>\n",
       "      <td></td>\n",
       "    </tr>\n",
       "    <tr>\n",
       "      <th>1</th>\n",
       "      <td>IT</td>\n",
       "      <td>manager</td>\n",
       "      <td>180000.0</td>\n",
       "      <td>Java, C++</td>\n",
       "    </tr>\n",
       "    <tr>\n",
       "      <th>2</th>\n",
       "      <td>IT</td>\n",
       "      <td>data scientist</td>\n",
       "      <td>150000.0</td>\n",
       "      <td>Python,Tableau,SQL</td>\n",
       "    </tr>\n",
       "    <tr>\n",
       "      <th>3</th>\n",
       "      <td>HR</td>\n",
       "      <td>recruiter</td>\n",
       "      <td>130000.0</td>\n",
       "      <td></td>\n",
       "    </tr>\n",
       "    <tr>\n",
       "      <th>4</th>\n",
       "      <td>IT</td>\n",
       "      <td>backend developer</td>\n",
       "      <td>110000.0</td>\n",
       "      <td>React,Django</td>\n",
       "    </tr>\n",
       "    <tr>\n",
       "      <th>5</th>\n",
       "      <td>IT</td>\n",
       "      <td>frontend developer</td>\n",
       "      <td>120000.0</td>\n",
       "      <td>JavaScript,Python</td>\n",
       "    </tr>\n",
       "    <tr>\n",
       "      <th>6</th>\n",
       "      <td>IT</td>\n",
       "      <td>data scientist</td>\n",
       "      <td>135000.0</td>\n",
       "      <td>R,SQL</td>\n",
       "    </tr>\n",
       "    <tr>\n",
       "      <th>7</th>\n",
       "      <td>IT</td>\n",
       "      <td>data scientist</td>\n",
       "      <td>125000.0</td>\n",
       "      <td>SQL,Python</td>\n",
       "    </tr>\n",
       "  </tbody>\n",
       "</table>\n",
       "</div>"
      ],
      "text/plain": [
       "  department                 job    salary              Skills\n",
       "0         HR             manager  150000.0                    \n",
       "1         IT             manager  180000.0           Java, C++\n",
       "2         IT      data scientist  150000.0  Python,Tableau,SQL\n",
       "3         HR           recruiter  130000.0                    \n",
       "4         IT   backend developer  110000.0        React,Django\n",
       "5         IT  frontend developer  120000.0   JavaScript,Python\n",
       "6         IT      data scientist  135000.0               R,SQL\n",
       "7         IT      data scientist  125000.0          SQL,Python"
      ]
     },
     "execution_count": 52,
     "metadata": {},
     "output_type": "execute_result"
    }
   ],
   "source": [
    "# Create a new DataFrame with selected columns\n",
    "df_final = df[[\"department\", \"job\", \"salary\", \"Skills\"]]\n",
    "\n",
    "# Display the new DataFrame\n",
    "df_final"
   ]
  },
  {
   "cell_type": "markdown",
   "metadata": {},
   "source": [
    "**``Explanation of the Command:``**\n",
    "- **``df[...]``**: This syntax is used to select specific columns from the DataFrame.\n",
    "- **``[\"department\", \"job\", \"salary\", \"Skills\"]``**: This list specifies the names of the columns to be included in the new DataFrame.\n",
    "\n",
    "**``Explanation of the Output:``**\n",
    "- **``New DataFrame``**: df_final contains only the specified columns: department, job, salary, and Skills.\n",
    "- **``Data Retention``**: All the data in these columns from the original DataFrame df is retained, while other columns are excluded.\n",
    "\n",
    "<p style=\"background-color:#FFFFFF; font-family:newtimeroman; color:#0000FF; font-size:110%; text-align:left;\"><strong>-----------------------------------------------------------------------------------------------------------------------------------------------------------------------------------------------</strong></p>\n",
    "\n",
    "**The following command ``combines the DataFrame df_final with another DataFrame called skills_dummy``.**\n",
    "- This operation typically **``merges the two DataFrames``** based on their **``index,``** appending the columns from skills_dummy to df_final."
   ]
  },
  {
   "cell_type": "code",
   "execution_count": 53,
   "metadata": {
    "id": "Gcjut6yKAgbY",
    "outputId": "fec0d40a-75a5-4b8c-ec00-efc9e075ab63"
   },
   "outputs": [
    {
     "data": {
      "text/html": [
       "<div>\n",
       "<style scoped>\n",
       "    .dataframe tbody tr th:only-of-type {\n",
       "        vertical-align: middle;\n",
       "    }\n",
       "\n",
       "    .dataframe tbody tr th {\n",
       "        vertical-align: top;\n",
       "    }\n",
       "\n",
       "    .dataframe thead th {\n",
       "        text-align: right;\n",
       "    }\n",
       "</style>\n",
       "<table border=\"1\" class=\"dataframe\">\n",
       "  <thead>\n",
       "    <tr style=\"text-align: right;\">\n",
       "      <th></th>\n",
       "      <th>department</th>\n",
       "      <th>job</th>\n",
       "      <th>salary</th>\n",
       "      <th>Skills</th>\n",
       "      <th>skills_ C++</th>\n",
       "      <th>skills_Django</th>\n",
       "      <th>skills_Java</th>\n",
       "      <th>skills_JavaScript</th>\n",
       "      <th>skills_Python</th>\n",
       "      <th>skills_R</th>\n",
       "      <th>skills_React</th>\n",
       "      <th>skills_SQL</th>\n",
       "      <th>skills_Tableau</th>\n",
       "    </tr>\n",
       "  </thead>\n",
       "  <tbody>\n",
       "    <tr>\n",
       "      <th>0</th>\n",
       "      <td>HR</td>\n",
       "      <td>manager</td>\n",
       "      <td>150000.0</td>\n",
       "      <td></td>\n",
       "      <td>0</td>\n",
       "      <td>0</td>\n",
       "      <td>0</td>\n",
       "      <td>0</td>\n",
       "      <td>0</td>\n",
       "      <td>0</td>\n",
       "      <td>0</td>\n",
       "      <td>0</td>\n",
       "      <td>0</td>\n",
       "    </tr>\n",
       "    <tr>\n",
       "      <th>1</th>\n",
       "      <td>IT</td>\n",
       "      <td>manager</td>\n",
       "      <td>180000.0</td>\n",
       "      <td>Java, C++</td>\n",
       "      <td>1</td>\n",
       "      <td>0</td>\n",
       "      <td>1</td>\n",
       "      <td>0</td>\n",
       "      <td>0</td>\n",
       "      <td>0</td>\n",
       "      <td>0</td>\n",
       "      <td>0</td>\n",
       "      <td>0</td>\n",
       "    </tr>\n",
       "    <tr>\n",
       "      <th>2</th>\n",
       "      <td>IT</td>\n",
       "      <td>data scientist</td>\n",
       "      <td>150000.0</td>\n",
       "      <td>Python,Tableau,SQL</td>\n",
       "      <td>0</td>\n",
       "      <td>0</td>\n",
       "      <td>0</td>\n",
       "      <td>0</td>\n",
       "      <td>1</td>\n",
       "      <td>0</td>\n",
       "      <td>0</td>\n",
       "      <td>1</td>\n",
       "      <td>1</td>\n",
       "    </tr>\n",
       "    <tr>\n",
       "      <th>3</th>\n",
       "      <td>HR</td>\n",
       "      <td>recruiter</td>\n",
       "      <td>130000.0</td>\n",
       "      <td></td>\n",
       "      <td>0</td>\n",
       "      <td>0</td>\n",
       "      <td>0</td>\n",
       "      <td>0</td>\n",
       "      <td>0</td>\n",
       "      <td>0</td>\n",
       "      <td>0</td>\n",
       "      <td>0</td>\n",
       "      <td>0</td>\n",
       "    </tr>\n",
       "    <tr>\n",
       "      <th>4</th>\n",
       "      <td>IT</td>\n",
       "      <td>backend developer</td>\n",
       "      <td>110000.0</td>\n",
       "      <td>React,Django</td>\n",
       "      <td>0</td>\n",
       "      <td>1</td>\n",
       "      <td>0</td>\n",
       "      <td>0</td>\n",
       "      <td>0</td>\n",
       "      <td>0</td>\n",
       "      <td>1</td>\n",
       "      <td>0</td>\n",
       "      <td>0</td>\n",
       "    </tr>\n",
       "    <tr>\n",
       "      <th>5</th>\n",
       "      <td>IT</td>\n",
       "      <td>frontend developer</td>\n",
       "      <td>120000.0</td>\n",
       "      <td>JavaScript,Python</td>\n",
       "      <td>0</td>\n",
       "      <td>0</td>\n",
       "      <td>0</td>\n",
       "      <td>1</td>\n",
       "      <td>1</td>\n",
       "      <td>0</td>\n",
       "      <td>0</td>\n",
       "      <td>0</td>\n",
       "      <td>0</td>\n",
       "    </tr>\n",
       "    <tr>\n",
       "      <th>6</th>\n",
       "      <td>IT</td>\n",
       "      <td>data scientist</td>\n",
       "      <td>135000.0</td>\n",
       "      <td>R,SQL</td>\n",
       "      <td>0</td>\n",
       "      <td>0</td>\n",
       "      <td>0</td>\n",
       "      <td>0</td>\n",
       "      <td>0</td>\n",
       "      <td>1</td>\n",
       "      <td>0</td>\n",
       "      <td>1</td>\n",
       "      <td>0</td>\n",
       "    </tr>\n",
       "    <tr>\n",
       "      <th>7</th>\n",
       "      <td>IT</td>\n",
       "      <td>data scientist</td>\n",
       "      <td>125000.0</td>\n",
       "      <td>SQL,Python</td>\n",
       "      <td>0</td>\n",
       "      <td>0</td>\n",
       "      <td>0</td>\n",
       "      <td>0</td>\n",
       "      <td>1</td>\n",
       "      <td>0</td>\n",
       "      <td>0</td>\n",
       "      <td>1</td>\n",
       "      <td>0</td>\n",
       "    </tr>\n",
       "  </tbody>\n",
       "</table>\n",
       "</div>"
      ],
      "text/plain": [
       "  department                 job    salary              Skills  skills_ C++  \\\n",
       "0         HR             manager  150000.0                                0   \n",
       "1         IT             manager  180000.0           Java, C++            1   \n",
       "2         IT      data scientist  150000.0  Python,Tableau,SQL            0   \n",
       "3         HR           recruiter  130000.0                                0   \n",
       "4         IT   backend developer  110000.0        React,Django            0   \n",
       "5         IT  frontend developer  120000.0   JavaScript,Python            0   \n",
       "6         IT      data scientist  135000.0               R,SQL            0   \n",
       "7         IT      data scientist  125000.0          SQL,Python            0   \n",
       "\n",
       "   skills_Django  skills_Java  skills_JavaScript  skills_Python  skills_R  \\\n",
       "0              0            0                  0              0         0   \n",
       "1              0            1                  0              0         0   \n",
       "2              0            0                  0              1         0   \n",
       "3              0            0                  0              0         0   \n",
       "4              1            0                  0              0         0   \n",
       "5              0            0                  1              1         0   \n",
       "6              0            0                  0              0         1   \n",
       "7              0            0                  0              1         0   \n",
       "\n",
       "   skills_React  skills_SQL  skills_Tableau  \n",
       "0             0           0               0  \n",
       "1             0           0               0  \n",
       "2             0           1               1  \n",
       "3             0           0               0  \n",
       "4             1           0               0  \n",
       "5             0           0               0  \n",
       "6             0           1               0  \n",
       "7             0           1               0  "
      ]
     },
     "execution_count": 53,
     "metadata": {},
     "output_type": "execute_result"
    }
   ],
   "source": [
    "# Join the dummy variables with df_final\n",
    "\n",
    "df_final.join(skills_dummy)"
   ]
  },
  {
   "cell_type": "markdown",
   "metadata": {},
   "source": [
    "**``Explanation of the Command:``**\n",
    "- **``df_final``**: This is the primary DataFrame that contains selected columns such as department, job, salary, and Skills.\n",
    "- **``skills_dummy``**: This DataFrame contains dummy variables representing the skills of employees, created earlier using str.get_dummies(sep=\",\").add_prefix(\"skills_\").\n",
    "- **``.join()``**: This method combines the two DataFrames along their index. If the indices match, it will align the rows; if not, it will fill in missing values with NaN.\n",
    "\n",
    "**``Explanation of the Output:``**\n",
    "- **``Combined DataFrame``**: The df_combined DataFrame contains all columns from df_final along with the dummy variables from skills_dummy.\n",
    "- **``New Columns``**: Each column from skills_dummy represents a skill with binary indicators (1 or 0) showing whether each employee possesses that skill.\n",
    "- **``Alignment``**: The rows are aligned based on their original indices.\n",
    "\n",
    "<p style=\"background-color:#FFFFFF; font-family:newtimeroman; color:#0000FF; font-size:110%; text-align:left;\"><strong>-----------------------------------------------------------------------------------------------------------------------------------------------------------------------------------------------</strong></p>\n",
    "\n",
    "**The following commands ``combines two DataFrames``, ``df_final`` and ``skills_dummy``, by first ``adding one-hot encoded columns for skills`` and then ``removing the original Skills column``.**\n",
    "- This method **``adds the columns from skills_dummy to df_final``**, aligning them **``based on the index``** of the DataFrames.**\n",
    "- Then **``removes the original Skills``** column."
   ]
  },
  {
   "cell_type": "code",
   "execution_count": 54,
   "metadata": {
    "id": "6xFv8TsuAgbY"
   },
   "outputs": [],
   "source": [
    "# Join the skills_dummy DataFrame to df_final\n",
    "df_final = df_final.join(skills_dummy)\n",
    "\n",
    "# Removes the Skills column from df_final\n",
    "df_final.drop(\"Skills\", axis=1, inplace=True)"
   ]
  },
  {
   "cell_type": "markdown",
   "metadata": {},
   "source": [
    "**``Explanation of the Command:``**\n",
    "- **``Joining Dummy Variables:``**\n",
    "  - **``df_final = df_final.join(skills_dummy)``**: This command merges the skills_dummy DataFrame (which contains dummy variables for skills) with df_final. The resulting DataFrame retains all the original columns from df_final, along with the new columns from skills_dummy.\n",
    "- **``Dropping the Original Skills Column:``**\n",
    "  - **``df_final.drop(\"Skills\", axis=1, inplace=True)``**: This command removes the Skills column from df_final. The axis=1 parameter specifies that a column is being dropped, and inplace=True modifies df_final directly without creating a copy.\n",
    "\n",
    "**``Explanation of the Output:``**\n",
    "- **``Final DataFrame``**: The df_final DataFrame now contains the columns department, job, salary, and the dummy variables representing the skills.\n",
    "- **``No 'Skills' Column``**: The original Skills column has been removed, as indicated by the absence of that column in the output.\n",
    "\n",
    "<p style=\"background-color:#FFFFFF; font-family:newtimeroman; color:#0000FF; font-size:110%; text-align:left;\"><strong>-----------------------------------------------------------------------------------------------------------------------------------------------------------------------------------------------</strong></p>\n",
    "\n"
   ]
  },
  {
   "cell_type": "code",
   "execution_count": 55,
   "metadata": {
    "id": "P6ou3j9gAgbZ",
    "outputId": "8999842a-5aa7-474a-b75f-259da7fee4ee"
   },
   "outputs": [
    {
     "data": {
      "text/html": [
       "<div>\n",
       "<style scoped>\n",
       "    .dataframe tbody tr th:only-of-type {\n",
       "        vertical-align: middle;\n",
       "    }\n",
       "\n",
       "    .dataframe tbody tr th {\n",
       "        vertical-align: top;\n",
       "    }\n",
       "\n",
       "    .dataframe thead th {\n",
       "        text-align: right;\n",
       "    }\n",
       "</style>\n",
       "<table border=\"1\" class=\"dataframe\">\n",
       "  <thead>\n",
       "    <tr style=\"text-align: right;\">\n",
       "      <th></th>\n",
       "      <th>department</th>\n",
       "      <th>job</th>\n",
       "      <th>salary</th>\n",
       "      <th>skills_ C++</th>\n",
       "      <th>skills_Django</th>\n",
       "      <th>skills_Java</th>\n",
       "      <th>skills_JavaScript</th>\n",
       "      <th>skills_Python</th>\n",
       "      <th>skills_R</th>\n",
       "      <th>skills_React</th>\n",
       "      <th>skills_SQL</th>\n",
       "      <th>skills_Tableau</th>\n",
       "    </tr>\n",
       "  </thead>\n",
       "  <tbody>\n",
       "    <tr>\n",
       "      <th>0</th>\n",
       "      <td>HR</td>\n",
       "      <td>manager</td>\n",
       "      <td>150000.0</td>\n",
       "      <td>0</td>\n",
       "      <td>0</td>\n",
       "      <td>0</td>\n",
       "      <td>0</td>\n",
       "      <td>0</td>\n",
       "      <td>0</td>\n",
       "      <td>0</td>\n",
       "      <td>0</td>\n",
       "      <td>0</td>\n",
       "    </tr>\n",
       "    <tr>\n",
       "      <th>1</th>\n",
       "      <td>IT</td>\n",
       "      <td>manager</td>\n",
       "      <td>180000.0</td>\n",
       "      <td>1</td>\n",
       "      <td>0</td>\n",
       "      <td>1</td>\n",
       "      <td>0</td>\n",
       "      <td>0</td>\n",
       "      <td>0</td>\n",
       "      <td>0</td>\n",
       "      <td>0</td>\n",
       "      <td>0</td>\n",
       "    </tr>\n",
       "    <tr>\n",
       "      <th>2</th>\n",
       "      <td>IT</td>\n",
       "      <td>data scientist</td>\n",
       "      <td>150000.0</td>\n",
       "      <td>0</td>\n",
       "      <td>0</td>\n",
       "      <td>0</td>\n",
       "      <td>0</td>\n",
       "      <td>1</td>\n",
       "      <td>0</td>\n",
       "      <td>0</td>\n",
       "      <td>1</td>\n",
       "      <td>1</td>\n",
       "    </tr>\n",
       "    <tr>\n",
       "      <th>3</th>\n",
       "      <td>HR</td>\n",
       "      <td>recruiter</td>\n",
       "      <td>130000.0</td>\n",
       "      <td>0</td>\n",
       "      <td>0</td>\n",
       "      <td>0</td>\n",
       "      <td>0</td>\n",
       "      <td>0</td>\n",
       "      <td>0</td>\n",
       "      <td>0</td>\n",
       "      <td>0</td>\n",
       "      <td>0</td>\n",
       "    </tr>\n",
       "    <tr>\n",
       "      <th>4</th>\n",
       "      <td>IT</td>\n",
       "      <td>backend developer</td>\n",
       "      <td>110000.0</td>\n",
       "      <td>0</td>\n",
       "      <td>1</td>\n",
       "      <td>0</td>\n",
       "      <td>0</td>\n",
       "      <td>0</td>\n",
       "      <td>0</td>\n",
       "      <td>1</td>\n",
       "      <td>0</td>\n",
       "      <td>0</td>\n",
       "    </tr>\n",
       "    <tr>\n",
       "      <th>5</th>\n",
       "      <td>IT</td>\n",
       "      <td>frontend developer</td>\n",
       "      <td>120000.0</td>\n",
       "      <td>0</td>\n",
       "      <td>0</td>\n",
       "      <td>0</td>\n",
       "      <td>1</td>\n",
       "      <td>1</td>\n",
       "      <td>0</td>\n",
       "      <td>0</td>\n",
       "      <td>0</td>\n",
       "      <td>0</td>\n",
       "    </tr>\n",
       "    <tr>\n",
       "      <th>6</th>\n",
       "      <td>IT</td>\n",
       "      <td>data scientist</td>\n",
       "      <td>135000.0</td>\n",
       "      <td>0</td>\n",
       "      <td>0</td>\n",
       "      <td>0</td>\n",
       "      <td>0</td>\n",
       "      <td>0</td>\n",
       "      <td>1</td>\n",
       "      <td>0</td>\n",
       "      <td>1</td>\n",
       "      <td>0</td>\n",
       "    </tr>\n",
       "    <tr>\n",
       "      <th>7</th>\n",
       "      <td>IT</td>\n",
       "      <td>data scientist</td>\n",
       "      <td>125000.0</td>\n",
       "      <td>0</td>\n",
       "      <td>0</td>\n",
       "      <td>0</td>\n",
       "      <td>0</td>\n",
       "      <td>1</td>\n",
       "      <td>0</td>\n",
       "      <td>0</td>\n",
       "      <td>1</td>\n",
       "      <td>0</td>\n",
       "    </tr>\n",
       "  </tbody>\n",
       "</table>\n",
       "</div>"
      ],
      "text/plain": [
       "  department                 job    salary  skills_ C++  skills_Django  \\\n",
       "0         HR             manager  150000.0            0              0   \n",
       "1         IT             manager  180000.0            1              0   \n",
       "2         IT      data scientist  150000.0            0              0   \n",
       "3         HR           recruiter  130000.0            0              0   \n",
       "4         IT   backend developer  110000.0            0              1   \n",
       "5         IT  frontend developer  120000.0            0              0   \n",
       "6         IT      data scientist  135000.0            0              0   \n",
       "7         IT      data scientist  125000.0            0              0   \n",
       "\n",
       "   skills_Java  skills_JavaScript  skills_Python  skills_R  skills_React  \\\n",
       "0            0                  0              0         0             0   \n",
       "1            1                  0              0         0             0   \n",
       "2            0                  0              1         0             0   \n",
       "3            0                  0              0         0             0   \n",
       "4            0                  0              0         0             1   \n",
       "5            0                  1              1         0             0   \n",
       "6            0                  0              0         1             0   \n",
       "7            0                  0              1         0             0   \n",
       "\n",
       "   skills_SQL  skills_Tableau  \n",
       "0           0               0  \n",
       "1           0               0  \n",
       "2           1               1  \n",
       "3           0               0  \n",
       "4           0               0  \n",
       "5           0               0  \n",
       "6           1               0  \n",
       "7           1               0  "
      ]
     },
     "execution_count": 55,
     "metadata": {},
     "output_type": "execute_result"
    }
   ],
   "source": [
    "# Display the final DataFrame\n",
    "\n",
    "df_final"
   ]
  },
  {
   "cell_type": "markdown",
   "metadata": {},
   "source": [
    "**``Explanation of the Command:``**\n",
    "- **``Final DataFrame``**: The df_final DataFrame now contains the columns department, job, salary, and the dummy variables representing the skills.\n",
    "- **``No 'Skills' Column``**: The original Skills column has been removed, as indicated by the absence of that column in the output.\n",
    "\n",
    "<p style=\"background-color:#FFFFFF; font-family:newtimeroman; color:#0000FF; font-size:110%; text-align:left;\"><strong>-----------------------------------------------------------------------------------------------------------------------------------------------------------------------------------------------</strong></p>\n",
    "\n",
    "**The following command ``converts categorical variables`` in the df_final DataFrame into dummy/indicator variables while dropping the first category for each variable.**\n",
    "- This helps avoid the \"dummy variable trap\" in regression analysis, where one category can be perfectly predicted by the others."
   ]
  },
  {
   "cell_type": "code",
   "execution_count": 56,
   "metadata": {
    "id": "mJgTEQZlAgbZ",
    "outputId": "be68ecd0-0dda-410a-f2fb-5c4ff96c65d5"
   },
   "outputs": [
    {
     "data": {
      "text/html": [
       "<div>\n",
       "<style scoped>\n",
       "    .dataframe tbody tr th:only-of-type {\n",
       "        vertical-align: middle;\n",
       "    }\n",
       "\n",
       "    .dataframe tbody tr th {\n",
       "        vertical-align: top;\n",
       "    }\n",
       "\n",
       "    .dataframe thead th {\n",
       "        text-align: right;\n",
       "    }\n",
       "</style>\n",
       "<table border=\"1\" class=\"dataframe\">\n",
       "  <thead>\n",
       "    <tr style=\"text-align: right;\">\n",
       "      <th></th>\n",
       "      <th>salary</th>\n",
       "      <th>skills_ C++</th>\n",
       "      <th>skills_Django</th>\n",
       "      <th>skills_Java</th>\n",
       "      <th>skills_JavaScript</th>\n",
       "      <th>skills_Python</th>\n",
       "      <th>skills_R</th>\n",
       "      <th>skills_React</th>\n",
       "      <th>skills_SQL</th>\n",
       "      <th>skills_Tableau</th>\n",
       "      <th>department_IT</th>\n",
       "      <th>job_data scientist</th>\n",
       "      <th>job_frontend developer</th>\n",
       "      <th>job_manager</th>\n",
       "      <th>job_recruiter</th>\n",
       "    </tr>\n",
       "  </thead>\n",
       "  <tbody>\n",
       "    <tr>\n",
       "      <th>0</th>\n",
       "      <td>150000.0</td>\n",
       "      <td>0</td>\n",
       "      <td>0</td>\n",
       "      <td>0</td>\n",
       "      <td>0</td>\n",
       "      <td>0</td>\n",
       "      <td>0</td>\n",
       "      <td>0</td>\n",
       "      <td>0</td>\n",
       "      <td>0</td>\n",
       "      <td>False</td>\n",
       "      <td>False</td>\n",
       "      <td>False</td>\n",
       "      <td>True</td>\n",
       "      <td>False</td>\n",
       "    </tr>\n",
       "    <tr>\n",
       "      <th>1</th>\n",
       "      <td>180000.0</td>\n",
       "      <td>1</td>\n",
       "      <td>0</td>\n",
       "      <td>1</td>\n",
       "      <td>0</td>\n",
       "      <td>0</td>\n",
       "      <td>0</td>\n",
       "      <td>0</td>\n",
       "      <td>0</td>\n",
       "      <td>0</td>\n",
       "      <td>True</td>\n",
       "      <td>False</td>\n",
       "      <td>False</td>\n",
       "      <td>True</td>\n",
       "      <td>False</td>\n",
       "    </tr>\n",
       "    <tr>\n",
       "      <th>2</th>\n",
       "      <td>150000.0</td>\n",
       "      <td>0</td>\n",
       "      <td>0</td>\n",
       "      <td>0</td>\n",
       "      <td>0</td>\n",
       "      <td>1</td>\n",
       "      <td>0</td>\n",
       "      <td>0</td>\n",
       "      <td>1</td>\n",
       "      <td>1</td>\n",
       "      <td>True</td>\n",
       "      <td>True</td>\n",
       "      <td>False</td>\n",
       "      <td>False</td>\n",
       "      <td>False</td>\n",
       "    </tr>\n",
       "    <tr>\n",
       "      <th>3</th>\n",
       "      <td>130000.0</td>\n",
       "      <td>0</td>\n",
       "      <td>0</td>\n",
       "      <td>0</td>\n",
       "      <td>0</td>\n",
       "      <td>0</td>\n",
       "      <td>0</td>\n",
       "      <td>0</td>\n",
       "      <td>0</td>\n",
       "      <td>0</td>\n",
       "      <td>False</td>\n",
       "      <td>False</td>\n",
       "      <td>False</td>\n",
       "      <td>False</td>\n",
       "      <td>True</td>\n",
       "    </tr>\n",
       "    <tr>\n",
       "      <th>4</th>\n",
       "      <td>110000.0</td>\n",
       "      <td>0</td>\n",
       "      <td>1</td>\n",
       "      <td>0</td>\n",
       "      <td>0</td>\n",
       "      <td>0</td>\n",
       "      <td>0</td>\n",
       "      <td>1</td>\n",
       "      <td>0</td>\n",
       "      <td>0</td>\n",
       "      <td>True</td>\n",
       "      <td>False</td>\n",
       "      <td>False</td>\n",
       "      <td>False</td>\n",
       "      <td>False</td>\n",
       "    </tr>\n",
       "    <tr>\n",
       "      <th>5</th>\n",
       "      <td>120000.0</td>\n",
       "      <td>0</td>\n",
       "      <td>0</td>\n",
       "      <td>0</td>\n",
       "      <td>1</td>\n",
       "      <td>1</td>\n",
       "      <td>0</td>\n",
       "      <td>0</td>\n",
       "      <td>0</td>\n",
       "      <td>0</td>\n",
       "      <td>True</td>\n",
       "      <td>False</td>\n",
       "      <td>True</td>\n",
       "      <td>False</td>\n",
       "      <td>False</td>\n",
       "    </tr>\n",
       "    <tr>\n",
       "      <th>6</th>\n",
       "      <td>135000.0</td>\n",
       "      <td>0</td>\n",
       "      <td>0</td>\n",
       "      <td>0</td>\n",
       "      <td>0</td>\n",
       "      <td>0</td>\n",
       "      <td>1</td>\n",
       "      <td>0</td>\n",
       "      <td>1</td>\n",
       "      <td>0</td>\n",
       "      <td>True</td>\n",
       "      <td>True</td>\n",
       "      <td>False</td>\n",
       "      <td>False</td>\n",
       "      <td>False</td>\n",
       "    </tr>\n",
       "    <tr>\n",
       "      <th>7</th>\n",
       "      <td>125000.0</td>\n",
       "      <td>0</td>\n",
       "      <td>0</td>\n",
       "      <td>0</td>\n",
       "      <td>0</td>\n",
       "      <td>1</td>\n",
       "      <td>0</td>\n",
       "      <td>0</td>\n",
       "      <td>1</td>\n",
       "      <td>0</td>\n",
       "      <td>True</td>\n",
       "      <td>True</td>\n",
       "      <td>False</td>\n",
       "      <td>False</td>\n",
       "      <td>False</td>\n",
       "    </tr>\n",
       "  </tbody>\n",
       "</table>\n",
       "</div>"
      ],
      "text/plain": [
       "     salary  skills_ C++  skills_Django  skills_Java  skills_JavaScript  \\\n",
       "0  150000.0            0              0            0                  0   \n",
       "1  180000.0            1              0            1                  0   \n",
       "2  150000.0            0              0            0                  0   \n",
       "3  130000.0            0              0            0                  0   \n",
       "4  110000.0            0              1            0                  0   \n",
       "5  120000.0            0              0            0                  1   \n",
       "6  135000.0            0              0            0                  0   \n",
       "7  125000.0            0              0            0                  0   \n",
       "\n",
       "   skills_Python  skills_R  skills_React  skills_SQL  skills_Tableau  \\\n",
       "0              0         0             0           0               0   \n",
       "1              0         0             0           0               0   \n",
       "2              1         0             0           1               1   \n",
       "3              0         0             0           0               0   \n",
       "4              0         0             1           0               0   \n",
       "5              1         0             0           0               0   \n",
       "6              0         1             0           1               0   \n",
       "7              1         0             0           1               0   \n",
       "\n",
       "   department_IT  job_data scientist  job_frontend developer  job_manager  \\\n",
       "0          False               False                   False         True   \n",
       "1           True               False                   False         True   \n",
       "2           True                True                   False        False   \n",
       "3          False               False                   False        False   \n",
       "4           True               False                   False        False   \n",
       "5           True               False                    True        False   \n",
       "6           True                True                   False        False   \n",
       "7           True                True                   False        False   \n",
       "\n",
       "   job_recruiter  \n",
       "0          False  \n",
       "1          False  \n",
       "2          False  \n",
       "3           True  \n",
       "4          False  \n",
       "5          False  \n",
       "6          False  \n",
       "7          False  "
      ]
     },
     "execution_count": 56,
     "metadata": {},
     "output_type": "execute_result"
    }
   ],
   "source": [
    "# Create dummy variables, dropping the first category\n",
    "\n",
    "pd.get_dummies(df_final, drop_first=True)"
   ]
  },
  {
   "cell_type": "markdown",
   "metadata": {},
   "source": [
    "**``Explanation of the Command:``**\n",
    "- **``pd.get_dummies()``**: This function from the Pandas library creates a new DataFrame where each unique category in the specified categorical columns is transformed into a separate column with binary values (0 or 1).\n",
    "- **``drop_first=True``**: This parameter tells Pandas to drop the first dummy variable column created for each categorical feature, which helps reduce multicollinearity in regression models.\n",
    "\n",
    "**``Explanation of the Output:``**\n",
    "- **``Dummy Variables Created``**: Each categorical column has been transformed into multiple binary columns. For example, the department column results in department_Engineering, department_Finance, and department_Marketing.\n",
    "- **``Dropped Categories``**: The first category of each feature (like the first department) has been dropped to prevent collinearity.\n",
    "- **``Original Numeric Columns``**: The salary column remains unchanged since it is already numeric.\n",
    "\n",
    "<p style=\"background-color:#FFFFFF; font-family:newtimeroman; color:#0000FF; font-size:110%; text-align:left;\"><strong>-----------------------------------------------------------------------------------------------------------------------------------------------------------------------------------------------</strong></p>\n",
    "\n",
    "**After execution of the following command, the df_final DataFrame will be transformed to include dummy variables for the categorical columns, with the first category of each variable dropped.**"
   ]
  },
  {
   "cell_type": "code",
   "execution_count": 57,
   "metadata": {
    "id": "biPZ4JkRAgbZ"
   },
   "outputs": [
    {
     "data": {
      "text/html": [
       "<div>\n",
       "<style scoped>\n",
       "    .dataframe tbody tr th:only-of-type {\n",
       "        vertical-align: middle;\n",
       "    }\n",
       "\n",
       "    .dataframe tbody tr th {\n",
       "        vertical-align: top;\n",
       "    }\n",
       "\n",
       "    .dataframe thead th {\n",
       "        text-align: right;\n",
       "    }\n",
       "</style>\n",
       "<table border=\"1\" class=\"dataframe\">\n",
       "  <thead>\n",
       "    <tr style=\"text-align: right;\">\n",
       "      <th></th>\n",
       "      <th>salary</th>\n",
       "      <th>skills_ C++</th>\n",
       "      <th>skills_Django</th>\n",
       "      <th>skills_Java</th>\n",
       "      <th>skills_JavaScript</th>\n",
       "      <th>skills_Python</th>\n",
       "      <th>skills_R</th>\n",
       "      <th>skills_React</th>\n",
       "      <th>skills_SQL</th>\n",
       "      <th>skills_Tableau</th>\n",
       "      <th>department_IT</th>\n",
       "      <th>job_data scientist</th>\n",
       "      <th>job_frontend developer</th>\n",
       "      <th>job_manager</th>\n",
       "      <th>job_recruiter</th>\n",
       "    </tr>\n",
       "  </thead>\n",
       "  <tbody>\n",
       "    <tr>\n",
       "      <th>0</th>\n",
       "      <td>150000.0</td>\n",
       "      <td>0</td>\n",
       "      <td>0</td>\n",
       "      <td>0</td>\n",
       "      <td>0</td>\n",
       "      <td>0</td>\n",
       "      <td>0</td>\n",
       "      <td>0</td>\n",
       "      <td>0</td>\n",
       "      <td>0</td>\n",
       "      <td>False</td>\n",
       "      <td>False</td>\n",
       "      <td>False</td>\n",
       "      <td>True</td>\n",
       "      <td>False</td>\n",
       "    </tr>\n",
       "    <tr>\n",
       "      <th>1</th>\n",
       "      <td>180000.0</td>\n",
       "      <td>1</td>\n",
       "      <td>0</td>\n",
       "      <td>1</td>\n",
       "      <td>0</td>\n",
       "      <td>0</td>\n",
       "      <td>0</td>\n",
       "      <td>0</td>\n",
       "      <td>0</td>\n",
       "      <td>0</td>\n",
       "      <td>True</td>\n",
       "      <td>False</td>\n",
       "      <td>False</td>\n",
       "      <td>True</td>\n",
       "      <td>False</td>\n",
       "    </tr>\n",
       "    <tr>\n",
       "      <th>2</th>\n",
       "      <td>150000.0</td>\n",
       "      <td>0</td>\n",
       "      <td>0</td>\n",
       "      <td>0</td>\n",
       "      <td>0</td>\n",
       "      <td>1</td>\n",
       "      <td>0</td>\n",
       "      <td>0</td>\n",
       "      <td>1</td>\n",
       "      <td>1</td>\n",
       "      <td>True</td>\n",
       "      <td>True</td>\n",
       "      <td>False</td>\n",
       "      <td>False</td>\n",
       "      <td>False</td>\n",
       "    </tr>\n",
       "    <tr>\n",
       "      <th>3</th>\n",
       "      <td>130000.0</td>\n",
       "      <td>0</td>\n",
       "      <td>0</td>\n",
       "      <td>0</td>\n",
       "      <td>0</td>\n",
       "      <td>0</td>\n",
       "      <td>0</td>\n",
       "      <td>0</td>\n",
       "      <td>0</td>\n",
       "      <td>0</td>\n",
       "      <td>False</td>\n",
       "      <td>False</td>\n",
       "      <td>False</td>\n",
       "      <td>False</td>\n",
       "      <td>True</td>\n",
       "    </tr>\n",
       "    <tr>\n",
       "      <th>4</th>\n",
       "      <td>110000.0</td>\n",
       "      <td>0</td>\n",
       "      <td>1</td>\n",
       "      <td>0</td>\n",
       "      <td>0</td>\n",
       "      <td>0</td>\n",
       "      <td>0</td>\n",
       "      <td>1</td>\n",
       "      <td>0</td>\n",
       "      <td>0</td>\n",
       "      <td>True</td>\n",
       "      <td>False</td>\n",
       "      <td>False</td>\n",
       "      <td>False</td>\n",
       "      <td>False</td>\n",
       "    </tr>\n",
       "    <tr>\n",
       "      <th>5</th>\n",
       "      <td>120000.0</td>\n",
       "      <td>0</td>\n",
       "      <td>0</td>\n",
       "      <td>0</td>\n",
       "      <td>1</td>\n",
       "      <td>1</td>\n",
       "      <td>0</td>\n",
       "      <td>0</td>\n",
       "      <td>0</td>\n",
       "      <td>0</td>\n",
       "      <td>True</td>\n",
       "      <td>False</td>\n",
       "      <td>True</td>\n",
       "      <td>False</td>\n",
       "      <td>False</td>\n",
       "    </tr>\n",
       "    <tr>\n",
       "      <th>6</th>\n",
       "      <td>135000.0</td>\n",
       "      <td>0</td>\n",
       "      <td>0</td>\n",
       "      <td>0</td>\n",
       "      <td>0</td>\n",
       "      <td>0</td>\n",
       "      <td>1</td>\n",
       "      <td>0</td>\n",
       "      <td>1</td>\n",
       "      <td>0</td>\n",
       "      <td>True</td>\n",
       "      <td>True</td>\n",
       "      <td>False</td>\n",
       "      <td>False</td>\n",
       "      <td>False</td>\n",
       "    </tr>\n",
       "    <tr>\n",
       "      <th>7</th>\n",
       "      <td>125000.0</td>\n",
       "      <td>0</td>\n",
       "      <td>0</td>\n",
       "      <td>0</td>\n",
       "      <td>0</td>\n",
       "      <td>1</td>\n",
       "      <td>0</td>\n",
       "      <td>0</td>\n",
       "      <td>1</td>\n",
       "      <td>0</td>\n",
       "      <td>True</td>\n",
       "      <td>True</td>\n",
       "      <td>False</td>\n",
       "      <td>False</td>\n",
       "      <td>False</td>\n",
       "    </tr>\n",
       "  </tbody>\n",
       "</table>\n",
       "</div>"
      ],
      "text/plain": [
       "     salary  skills_ C++  skills_Django  skills_Java  skills_JavaScript  \\\n",
       "0  150000.0            0              0            0                  0   \n",
       "1  180000.0            1              0            1                  0   \n",
       "2  150000.0            0              0            0                  0   \n",
       "3  130000.0            0              0            0                  0   \n",
       "4  110000.0            0              1            0                  0   \n",
       "5  120000.0            0              0            0                  1   \n",
       "6  135000.0            0              0            0                  0   \n",
       "7  125000.0            0              0            0                  0   \n",
       "\n",
       "   skills_Python  skills_R  skills_React  skills_SQL  skills_Tableau  \\\n",
       "0              0         0             0           0               0   \n",
       "1              0         0             0           0               0   \n",
       "2              1         0             0           1               1   \n",
       "3              0         0             0           0               0   \n",
       "4              0         0             1           0               0   \n",
       "5              1         0             0           0               0   \n",
       "6              0         1             0           1               0   \n",
       "7              1         0             0           1               0   \n",
       "\n",
       "   department_IT  job_data scientist  job_frontend developer  job_manager  \\\n",
       "0          False               False                   False         True   \n",
       "1           True               False                   False         True   \n",
       "2           True                True                   False        False   \n",
       "3          False               False                   False        False   \n",
       "4           True               False                   False        False   \n",
       "5           True               False                    True        False   \n",
       "6           True                True                   False        False   \n",
       "7           True                True                   False        False   \n",
       "\n",
       "   job_recruiter  \n",
       "0          False  \n",
       "1          False  \n",
       "2          False  \n",
       "3           True  \n",
       "4          False  \n",
       "5          False  \n",
       "6          False  \n",
       "7          False  "
      ]
     },
     "execution_count": 57,
     "metadata": {},
     "output_type": "execute_result"
    }
   ],
   "source": [
    "# Create dummy variables, dropping the first category and reassigning it to itself\n",
    "\n",
    "df_final = pd.get_dummies(df_final, drop_first = True)\n",
    "\n",
    "# Display the final DataFrame\n",
    "df_final"
   ]
  },
  {
   "cell_type": "markdown",
   "metadata": {},
   "source": [
    "**``Explanation of the Command:``**\n",
    "- **``salary``**: The numeric salary of the employee.\n",
    "- **``skills_C++, skills_Data Analysis, etc.``**: Dummy variables indicating whether the employee possesses a specific skill (1 for yes, 0 for no).\n",
    "- **``department_Engineering, department_Finance, etc.``**: Dummy variables for the department, with the first department (e.g., HR) dropped.\n",
    "- **``job_Analyst, job_Developer, etc.``**: Dummy variables for the job title, with the first job (e.g., Recruiter) dropped.\n",
    "\n",
    "<p style=\"background-color:#FFFFFF; font-family:newtimeroman; color:#0000FF; font-size:110%; text-align:left;\"><strong>-----------------------------------------------------------------------------------------------------------------------------------------------------------------------------------------------</strong></p>\n",
    "\n"
   ]
  },
  {
   "cell_type": "markdown",
   "metadata": {},
   "source": [
    "## <p style=\"background-color:#E51A59; font-family:newtimeroman; color:#FFF9ED; font-size:175%; text-align:center; border-radius:10px 10px;\">Working with Time Data</p>\n",
    "\n",
    "<a id=\"2\"></a>\n",
    "<a href=\"#toc\" class=\"btn btn-primary btn-sm\" role=\"button\" aria-pressed=\"true\" \n",
    "style=\"color:blue; background-color:#dfa8e4\" data-toggle=\"popover\">Content</a>\n",
    "\n",
    "Time data plays a crucial role in various fields, including finance, healthcare, and data analysis. Effectively managing time-related information allows us to uncover trends, make predictions, and derive insights from time-series data. As someone who works with time series data on almost a daily basis, it's clear that the pandas Python package is extremely useful for time series manipulation and analysis. This basic introduction to time series data manipulation with pandas should allow you to get started in your time series analysis. Specific objectives are how to:\n",
    "- create a date range\n",
    "- work with timestamp data\n",
    "- convert string data to a timestamp\n",
    "- index and slice your time series data in a data frame\n",
    "- resample your time series for different time period aggregates/summary statistics\n",
    "- compute a rolling statistic such as a rolling average\n",
    "- work with missing data\n",
    "- understand the basics of unix/epoch time\n",
    "- understand common pitfalls of time series data analysis [SOURCE](https://towardsdatascience.com/basic-time-series-manipulation-with-pandas-4432afee64ea)\n",
    "<br>\n",
    "\n",
    "- **``Key Concepts:``**\n",
    "  - **``Time Formats``**: Time data can be represented in various formats, such as timestamps, dates, and durations. Understanding these formats is essential for accurate data manipulation.\n",
    "  - **``Time Zones``**: Handling time zones is critical when working with global data. Converting time data to a common timezone ensures consistency and accuracy in analysis.\n",
    "  - **``Resampling and Frequency Conversion``**: Time data often requires resampling to different frequencies (e.g., hourly, daily, monthly) to facilitate better analysis and visualization.\n",
    "  - **``Time Series Analysis``**: This involves techniques for analyzing time-ordered data, including trend analysis, seasonal decomposition, and forecasting.\n",
    "  - **``Libraries and Tools``**: Libraries like Pandas in Python offer robust functions for handling time data, including datetime manipulation, time series operations, and time zone handling.\n",
    "- **``Applications:``**\n",
    "  - **``Finance``**: Analyzing stock prices over time to identify trends and make investment decisions.\n",
    "  - **``Healthcare``**: Tracking patient data over time to monitor health outcomes.\n",
    "Sales``**: Understanding sales patterns to optimize inventory and marketing efforts.\n",
    "\n",
    "In this section, we will introduce how to work with each of these types of date/time data in Pandas. This short section is by no means a complete guide to the time series tools available in Python or Pandas, but instead is intended as a broad overview of how you as a user should approach working with time series [SOURCE](https://jakevdp.github.io/PythonDataScienceHandbook/03.11-working-with-time-series.html).\n",
    "\n",
    "\n",
    "\n",
    "\n"
   ]
  },
  {
   "cell_type": "markdown",
   "metadata": {
    "id": "lDR5hkFfAgbZ"
   },
   "source": [
    "### <p style=\"background-color:#E51A59; font-family:newtimeroman; color:#FFF9ED; font-size:150%; text-align:LEFT; border-radius:10px 10px;\">pd.to_datetime()</p>\n",
    "\n",
    "<a id=\"2.1\"></a>\n",
    "<a href=\"#toc\" class=\"btn btn-primary btn-sm\" role=\"button\" aria-pressed=\"true\" \n",
    "style=\"color:blue; background-color:#dfa8e4\" data-toggle=\"popover\">Content</a>\n",
    "\n",
    "For more and detailed information about to_datetime() metod, please [Visit Official Document](https://pandas.pydata.org/docs/reference/api/pandas.to_datetime.html)\n",
    "\n",
    "**``pd.to_datetime()``** Converts argument to datetime.\n",
    "\n",
    "This function converts a **``scalar``**, **``array-like``**, **``Series``** or **``DataFrame/dict-like``** to a pandas datetime object.\n",
    "\n",
    "**As stated above, many input types are supported, and lead to different output types:**\n",
    "\n",
    "- **``scalars``** can be int, float, str, datetime object (from stdlib datetime module or numpy). They are converted to Timestamp when possible, otherwise they are converted to datetime.datetime. None/NaN/null scalars are converted to NaT.\n",
    "\n",
    "- **``array-like``** can contain int, float, str, datetime objects. They are converted to DatetimeIndex when possible, otherwise they are converted to Index with object dtype, containing datetime.datetime. None/NaN/null entries are converted to NaT in both cases.\n",
    "\n",
    "- **``Series``** are converted to Series with datetime64 dtype when possible, otherwise they are converted to Series with object dtype, containing datetime.datetime. None/NaN/null entries are converted to NaT in both cases.\n",
    "\n",
    "- **``DataFrame/dict-like``** are converted to Series with datetime64 dtype. For each row a datetime is created from assembling the various dataframe columns. Column keys can be common abbreviations like [‘year’, ‘month’, ‘day’, ‘minute’, ‘second’, ‘ms’, ‘us’, ‘ns’]) or plurals of the same.\n",
    "\n",
    "[Special Note :](https://pandas.pydata.org/docs/getting_started/intro_tutorials/09_timeseries.html)\n",
    "\n",
    "As many data sets do contain datetime information in one of the columns, pandas input function like [pandas.read_csv()](https://pandas.pydata.org/docs/reference/api/pandas.read_csv.html#pandas.read_csv) and [pandas.read_json()](https://pandas.pydata.org/docs/reference/api/pandas.read_json.html#pandas.read_json) can do the transformation to dates when reading the data using the **``parse_dates parameter``** with a list of the columns to read as Timestamp."
   ]
  },
  {
   "cell_type": "markdown",
   "metadata": {},
   "source": [
    "<p style=\"background-color:#FFFFFF; font-family:newtimeroman; color:#0000FF; font-size:110%; text-align:left;\"><strong>-----------------------------------------------------------------------------------------------------------------------------------------------------------------------------------------------</strong></p>\n",
    "\n",
    "<p style=\"background-color:#FFFFFF; font-family:newtimeroman; color:blue; font-size:125%; text-align:left;\">📢👉 Why are these ``pandas.Timestamp`` objects useful? Let's illustrate the added value with some example cases. In this sense, let us assume that we want to work with the dates in the column datetime as datetime objects instead of plain text.</p>\n",
    "\n",
    "\n",
    "**The following command loads a ``CSV file`` named ``time_exercise.csv`` into a Pandas DataFrame.**\n"
   ]
  },
  {
   "cell_type": "code",
   "execution_count": 58,
   "metadata": {
    "id": "RsfZojumAgba",
    "outputId": "6cf4415d-cf33-4491-e00e-784b02bee94f"
   },
   "outputs": [
    {
     "data": {
      "text/html": [
       "<div>\n",
       "<style scoped>\n",
       "    .dataframe tbody tr th:only-of-type {\n",
       "        vertical-align: middle;\n",
       "    }\n",
       "\n",
       "    .dataframe tbody tr th {\n",
       "        vertical-align: top;\n",
       "    }\n",
       "\n",
       "    .dataframe thead th {\n",
       "        text-align: right;\n",
       "    }\n",
       "</style>\n",
       "<table border=\"1\" class=\"dataframe\">\n",
       "  <thead>\n",
       "    <tr style=\"text-align: right;\">\n",
       "      <th></th>\n",
       "      <th>id_product</th>\n",
       "      <th>order_date</th>\n",
       "      <th>product_quantity</th>\n",
       "      <th>product_price</th>\n",
       "      <th>entry_date</th>\n",
       "    </tr>\n",
       "  </thead>\n",
       "  <tbody>\n",
       "    <tr>\n",
       "      <th>0</th>\n",
       "      <td>401</td>\n",
       "      <td>2021-01-23</td>\n",
       "      <td>1.0</td>\n",
       "      <td>541.487603</td>\n",
       "      <td>2018-12-04</td>\n",
       "    </tr>\n",
       "    <tr>\n",
       "      <th>1</th>\n",
       "      <td>416</td>\n",
       "      <td>2020-04-02</td>\n",
       "      <td>1.0</td>\n",
       "      <td>131.181818</td>\n",
       "      <td>2018-12-04</td>\n",
       "    </tr>\n",
       "    <tr>\n",
       "      <th>2</th>\n",
       "      <td>717</td>\n",
       "      <td>2019-03-10</td>\n",
       "      <td>1.0</td>\n",
       "      <td>2035.488500</td>\n",
       "      <td>2018-12-04</td>\n",
       "    </tr>\n",
       "    <tr>\n",
       "      <th>3</th>\n",
       "      <td>778</td>\n",
       "      <td>2019-12-27</td>\n",
       "      <td>1.0</td>\n",
       "      <td>335.988000</td>\n",
       "      <td>2018-12-04</td>\n",
       "    </tr>\n",
       "    <tr>\n",
       "      <th>4</th>\n",
       "      <td>826</td>\n",
       "      <td>2020-02-19</td>\n",
       "      <td>1.0</td>\n",
       "      <td>342.292302</td>\n",
       "      <td>2018-12-04</td>\n",
       "    </tr>\n",
       "  </tbody>\n",
       "</table>\n",
       "</div>"
      ],
      "text/plain": [
       "   id_product  order_date  product_quantity  product_price  entry_date\n",
       "0         401  2021-01-23               1.0     541.487603  2018-12-04\n",
       "1         416  2020-04-02               1.0     131.181818  2018-12-04\n",
       "2         717  2019-03-10               1.0    2035.488500  2018-12-04\n",
       "3         778  2019-12-27               1.0     335.988000  2018-12-04\n",
       "4         826  2020-02-19               1.0     342.292302  2018-12-04"
      ]
     },
     "execution_count": 58,
     "metadata": {},
     "output_type": "execute_result"
    }
   ],
   "source": [
    "# Read and load the CSV\n",
    "df = pd.read_csv(\"time_exercise.csv\")\n",
    "\n",
    "# Display the DataFrame\n",
    "df.head()"
   ]
  },
  {
   "cell_type": "markdown",
   "metadata": {},
   "source": [
    "**The DataFrame contains the following columns:**\n",
    "\n",
    "- **``id_product``**: A unique identifier for each product.\n",
    "- **``order_date``**: The date when the product was ordered.\n",
    "- **``product_quantity``**: The quantity of the product ordered.\n",
    "- **``product_price``**: The price of the product.\n",
    "- **``entry_date``**: The date when the product entry was recorded.\n",
    "\n",
    "**``Key Considerations:``**\n",
    "- **``Date Parsing``**: Ensure that the order_date and entry_date columns are parsed as datetime objects for proper time series analysis. We can do this using **``pd.to_datetime()``**.\n",
    "\n",
    "<p style=\"background-color:#FFFFFF; font-family:newtimeroman; color:#0000FF; font-size:110%; text-align:left;\"><strong>-----------------------------------------------------------------------------------------------------------------------------------------------------------------------------------------------</strong></p>\n",
    "\n",
    "\n",
    "\n",
    "**The following ``info()`` method provides a concise summary of the DataFrame, including the index data type, column names, non-null counts, data types of each column, and memory usage.**\n",
    "- This is particularly useful for understanding the structure of our dataset and identifying any potential issues, such as missing values."
   ]
  },
  {
   "cell_type": "code",
   "execution_count": 59,
   "metadata": {
    "id": "RmufYcZmAgba",
    "outputId": "48ddee4f-ba51-4a4e-f3a4-e3e6ba74183a",
    "scrolled": true
   },
   "outputs": [
    {
     "name": "stdout",
     "output_type": "stream",
     "text": [
      "<class 'pandas.core.frame.DataFrame'>\n",
      "RangeIndex: 911 entries, 0 to 910\n",
      "Data columns (total 5 columns):\n",
      " #   Column            Non-Null Count  Dtype  \n",
      "---  ------            --------------  -----  \n",
      " 0   id_product        911 non-null    int64  \n",
      " 1   order_date        911 non-null    object \n",
      " 2   product_quantity  911 non-null    float64\n",
      " 3   product_price     911 non-null    float64\n",
      " 4   entry_date        911 non-null    object \n",
      "dtypes: float64(2), int64(1), object(2)\n",
      "memory usage: 35.7+ KB\n"
     ]
    }
   ],
   "source": [
    "# Summary of the DataFrame\n",
    "\n",
    "df.info()"
   ]
  },
  {
   "cell_type": "markdown",
   "metadata": {},
   "source": [
    "- **``Non-Null Counts``**: All columns contain 911 non-null values, meaning there are no missing values in any of the columns.\n",
    "- **``Data Types:``**\n",
    "  - **``id_product``**: An integer (int64), suitable for unique identifiers.\n",
    "  - 👉 **``order_date and entry_date``**: Stored as object, which typically means they are strings. These columns should be converted to datetime for proper time series analysis.\n",
    "  - **``product_quantity and product_price``**: Floating-point numbers (float64), appropriate for quantities and prices.\n",
    "- **``Memory Usage``**: The DataFrame uses approximately 35.7 KB of memory, indicating a relatively small dataset.\n",
    "\n",
    "<p style=\"background-color:#FFFFFF; font-family:newtimeroman; color:#0000FF; font-size:110%; text-align:left;\"><strong>-----------------------------------------------------------------------------------------------------------------------------------------------------------------------------------------------</strong></p>\n",
    "\n",
    "**The following command ``accesses the order_date column`` from the DataFrame. This will return a Pandas Series containing all the values in that column.**\n",
    "\n"
   ]
  },
  {
   "cell_type": "code",
   "execution_count": 60,
   "metadata": {
    "id": "CSxLDEtQAgba",
    "outputId": "0837ba59-75e5-4d86-dce2-6692d19942c1"
   },
   "outputs": [
    {
     "data": {
      "text/plain": [
       "0      2021-01-23\n",
       "1      2020-04-02\n",
       "2      2019-03-10\n",
       "3      2019-12-27\n",
       "4      2020-02-19\n",
       "          ...    \n",
       "906    2020-11-24\n",
       "907    2020-11-24\n",
       "908    2020-11-22\n",
       "909    2021-01-26\n",
       "910    2020-12-06\n",
       "Name: order_date, Length: 911, dtype: object"
      ]
     },
     "execution_count": 60,
     "metadata": {},
     "output_type": "execute_result"
    }
   ],
   "source": [
    "df[\"order_date\"]"
   ]
  },
  {
   "cell_type": "markdown",
   "metadata": {},
   "source": [
    "<p style=\"background-color:#FFFFFF; font-family:newtimeroman; color:blue; font-size:125%; text-align:left;\">📢👉 Initially, the ``values in datetime`` are character ``strings`` and do ``NOT provide any datetime operations`` (e.g. extract the year, day of the week,…). By applying the ``to_datetime()`` function, pandas interprets the strings and convert these to datetime (i.e. ``datetime64[ns, UTC]``) objects. In pandas we call these datetime objects similar to datetime.datetime from the standard library as ``pandas.Timestamp``</p> \n",
    "\n",
    "**[pandas.Timestamp](https://pandas.pydata.org/docs/reference/api/pandas.Timestamp.html#pandas.Timestamp)**\n",
    "\n",
    "\n",
    "- **``Type``**: The output will be a Pandas Series. If the order_date column is still in object format (as indicated in our previous info() output), the data type will be object.\n",
    "- **``Accessing Data``**: We can perform various operations on this Series, such as filtering, calculating statistics, or converting to datetime format if we haven’t done so already.\n",
    "\n",
    "<p style=\"background-color:#FFFFFF; font-family:newtimeroman; color:#0000FF; font-size:110%; text-align:left;\"><strong>-----------------------------------------------------------------------------------------------------------------------------------------------------------------------------------------------</strong></p>\n",
    "\n"
   ]
  },
  {
   "cell_type": "code",
   "execution_count": 61,
   "metadata": {},
   "outputs": [],
   "source": [
    "# df.order_date.max() - df.order_date.min()\n",
    "\n",
    "# TypeError: unsupported operand type(s) for -: 'str' and 'str'"
   ]
  },
  {
   "cell_type": "markdown",
   "metadata": {},
   "source": [
    "- **``The error TypeError: unsupported operand type(s) for -: 'str' and 'str'``** occurs because the Series a contains strings, and we're trying to perform a subtraction operation (max() - min()) on string values. In Python, we CANNOT subtract one string from another, which leads to this error.\n",
    "\n",
    "\n",
    "<p style=\"background-color:#FFFFFF; font-family:newtimeroman; color:#0000FF; font-size:110%; text-align:left;\"><strong>-----------------------------------------------------------------------------------------------------------------------------------------------------------------------------------------------</strong></p>\n",
    "\n",
    "**The following command ``converts the values in the order_date column`` of the DataFrame from their current format (likely as strings or objects) into Pandas datetime objects.**\n",
    "- This conversion is essential for performing time-based operations and analyses."
   ]
  },
  {
   "cell_type": "code",
   "execution_count": 62,
   "metadata": {
    "id": "rbu9ZlteAgba",
    "outputId": "f2c4632f-38ed-40a1-fb48-0d04c3d55b46"
   },
   "outputs": [
    {
     "data": {
      "text/plain": [
       "0     2021-01-23\n",
       "1     2020-04-02\n",
       "2     2019-03-10\n",
       "3     2019-12-27\n",
       "4     2020-02-19\n",
       "         ...    \n",
       "906   2020-11-24\n",
       "907   2020-11-24\n",
       "908   2020-11-22\n",
       "909   2021-01-26\n",
       "910   2020-12-06\n",
       "Name: order_date, Length: 911, dtype: datetime64[ns]"
      ]
     },
     "execution_count": 62,
     "metadata": {},
     "output_type": "execute_result"
    }
   ],
   "source": [
    "# Convert the values in the \"order_date\" column\n",
    "\n",
    "pd.to_datetime(df[\"order_date\"])"
   ]
  },
  {
   "cell_type": "markdown",
   "metadata": {},
   "source": [
    "**``Key Points:``**\n",
    "- **``Conversion``**: This function will **``parse the values in the order_date column``** and **``convert them into datetime64 format``**. This allows us to easily perform date and time operations, such as filtering, resampling, and calculating differences between dates.\n",
    "- **``Error Handling``**: If there are **``any invalid date formats``** in the order_date column, **``pd.to_datetime() will raise an error by default``**. We can use the errors parameter to handle such cases:\n",
    "  - **``errors='coerce'``**: Converts invalid dates to NaT (Not a Time).\n",
    "  - **``errors='ignore'``**: Returns the original input if parsing fails.\n",
    "\n",
    "<p style=\"background-color:#FFFFFF; font-family:newtimeroman; color:#0000FF; font-size:110%; text-align:left;\"><strong>-----------------------------------------------------------------------------------------------------------------------------------------------------------------------------------------------</strong></p>\n",
    "\n",
    "**The following command ``converts the entry_date and order_date columns`` in the DataFrame from their current formats (likely strings or objects) into Pandas datetime64 objects.**"
   ]
  },
  {
   "cell_type": "code",
   "execution_count": 63,
   "metadata": {
    "id": "hcvpAi_DAgbb"
   },
   "outputs": [],
   "source": [
    "# Parse the values in the \"entry_date\" and \"order_date\" columsn and Convert them into \"datetime64 format\"\n",
    "\n",
    "df[\"entry_date\"] = pd.to_datetime(df[\"entry_date\"])\n",
    "df[\"order_date\"] = pd.to_datetime(df[\"order_date\"])"
   ]
  },
  {
   "cell_type": "markdown",
   "metadata": {},
   "source": [
    "\n",
    "\n",
    "<p style=\"background-color:#FFFFFF; font-family:newtimeroman; color:#0000FF; font-size:110%; text-align:left;\"><strong>-----------------------------------------------------------------------------------------------------------------------------------------------------------------------------------------------</strong></p>\n",
    "\n",
    "**The following command display the first five rows of the DataFrame.**"
   ]
  },
  {
   "cell_type": "code",
   "execution_count": 64,
   "metadata": {
    "id": "Do_MlUJ8Agbb",
    "outputId": "33cf9f50-ade1-4330-c71d-a5b2e836af5f"
   },
   "outputs": [
    {
     "data": {
      "text/html": [
       "<div>\n",
       "<style scoped>\n",
       "    .dataframe tbody tr th:only-of-type {\n",
       "        vertical-align: middle;\n",
       "    }\n",
       "\n",
       "    .dataframe tbody tr th {\n",
       "        vertical-align: top;\n",
       "    }\n",
       "\n",
       "    .dataframe thead th {\n",
       "        text-align: right;\n",
       "    }\n",
       "</style>\n",
       "<table border=\"1\" class=\"dataframe\">\n",
       "  <thead>\n",
       "    <tr style=\"text-align: right;\">\n",
       "      <th></th>\n",
       "      <th>id_product</th>\n",
       "      <th>order_date</th>\n",
       "      <th>product_quantity</th>\n",
       "      <th>product_price</th>\n",
       "      <th>entry_date</th>\n",
       "    </tr>\n",
       "  </thead>\n",
       "  <tbody>\n",
       "    <tr>\n",
       "      <th>0</th>\n",
       "      <td>401</td>\n",
       "      <td>2021-01-23</td>\n",
       "      <td>1.0</td>\n",
       "      <td>541.487603</td>\n",
       "      <td>2018-12-04</td>\n",
       "    </tr>\n",
       "    <tr>\n",
       "      <th>1</th>\n",
       "      <td>416</td>\n",
       "      <td>2020-04-02</td>\n",
       "      <td>1.0</td>\n",
       "      <td>131.181818</td>\n",
       "      <td>2018-12-04</td>\n",
       "    </tr>\n",
       "    <tr>\n",
       "      <th>2</th>\n",
       "      <td>717</td>\n",
       "      <td>2019-03-10</td>\n",
       "      <td>1.0</td>\n",
       "      <td>2035.488500</td>\n",
       "      <td>2018-12-04</td>\n",
       "    </tr>\n",
       "    <tr>\n",
       "      <th>3</th>\n",
       "      <td>778</td>\n",
       "      <td>2019-12-27</td>\n",
       "      <td>1.0</td>\n",
       "      <td>335.988000</td>\n",
       "      <td>2018-12-04</td>\n",
       "    </tr>\n",
       "    <tr>\n",
       "      <th>4</th>\n",
       "      <td>826</td>\n",
       "      <td>2020-02-19</td>\n",
       "      <td>1.0</td>\n",
       "      <td>342.292302</td>\n",
       "      <td>2018-12-04</td>\n",
       "    </tr>\n",
       "  </tbody>\n",
       "</table>\n",
       "</div>"
      ],
      "text/plain": [
       "   id_product order_date  product_quantity  product_price entry_date\n",
       "0         401 2021-01-23               1.0     541.487603 2018-12-04\n",
       "1         416 2020-04-02               1.0     131.181818 2018-12-04\n",
       "2         717 2019-03-10               1.0    2035.488500 2018-12-04\n",
       "3         778 2019-12-27               1.0     335.988000 2018-12-04\n",
       "4         826 2020-02-19               1.0     342.292302 2018-12-04"
      ]
     },
     "execution_count": 64,
     "metadata": {},
     "output_type": "execute_result"
    }
   ],
   "source": [
    "# Access the first five entries\n",
    "\n",
    "df.head()"
   ]
  },
  {
   "cell_type": "markdown",
   "metadata": {},
   "source": [
    "\n",
    "\n",
    "<p style=\"background-color:#FFFFFF; font-family:newtimeroman; color:#0000FF; font-size:110%; text-align:left;\"><strong>-----------------------------------------------------------------------------------------------------------------------------------------------------------------------------------------------</strong></p>\n",
    "\n",
    "**The following ``info()`` method ``provides a concise summary of the DataFrame``, including the index data type, column names, non-null counts, data types of each column, and memory usage.**\n",
    "- This is particularly useful for understanding the structure of our dataset and identifying any potential issues, such as missing values."
   ]
  },
  {
   "cell_type": "code",
   "execution_count": 65,
   "metadata": {
    "id": "UQ2FUP8bAgbb",
    "outputId": "5c48ba19-191c-46cb-d53a-7179a71d0a37",
    "scrolled": true
   },
   "outputs": [
    {
     "name": "stdout",
     "output_type": "stream",
     "text": [
      "<class 'pandas.core.frame.DataFrame'>\n",
      "RangeIndex: 911 entries, 0 to 910\n",
      "Data columns (total 5 columns):\n",
      " #   Column            Non-Null Count  Dtype         \n",
      "---  ------            --------------  -----         \n",
      " 0   id_product        911 non-null    int64         \n",
      " 1   order_date        911 non-null    datetime64[ns]\n",
      " 2   product_quantity  911 non-null    float64       \n",
      " 3   product_price     911 non-null    float64       \n",
      " 4   entry_date        911 non-null    datetime64[ns]\n",
      "dtypes: datetime64[ns](2), float64(2), int64(1)\n",
      "memory usage: 35.7 KB\n"
     ]
    }
   ],
   "source": [
    "# Summary of the DataFrame\n",
    "\n",
    "df.info()"
   ]
  },
  {
   "cell_type": "markdown",
   "metadata": {},
   "source": [
    "- **``Non-Null Counts``**: All columns have 911 non-null values, indicating that there are no missing values in your dataset.\n",
    "- **``Data Types:``**\n",
    "  - **``id_product``**: Stored as int64, suitable for unique identifiers.\n",
    "  - **``order_date``**: Converted to datetime64[ns], allowing for time-based operations.\n",
    "  - **``product_quantity and product_price``**: Stored as float64, which is appropriate for numerical values.\n",
    "  - **``entry_date``**: Also in datetime64[ns], indicating successful conversion.\n",
    "- **``Memory Usage``**: The DataFrame uses approximately 35.7 KB of memory, which is efficient for a dataset of this size.\n",
    "\n",
    "<p style=\"background-color:#FFFFFF; font-family:newtimeroman; color:#0000FF; font-size:110%; text-align:left;\"><strong>-----------------------------------------------------------------------------------------------------------------------------------------------------------------------------------------------</strong></p>\n",
    "\n",
    "<p style=\"background-color:#FFFFFF; font-family:newtimeroman; color:#0000FF; font-size:125%; text-align:left;\"><strong>Now let's apply some ``aggregate methods`` for Datatime object at the given dataset:</strong></p>\n",
    "\n",
    "\n",
    "**The following command finds the earliest date in the entry_date column of the DataFrame.**\n",
    "- This will return the minimum value, which represents the earliest (December 04, 2018) entry date in the dataset.\n",
    "\n"
   ]
  },
  {
   "cell_type": "code",
   "execution_count": 66,
   "metadata": {
    "id": "N4uQfqKCAgbb",
    "outputId": "b08182d4-992e-421b-bb81-48487f79b3cf"
   },
   "outputs": [
    {
     "data": {
      "text/plain": [
       "Timestamp('2018-12-04 00:00:00')"
      ]
     },
     "execution_count": 66,
     "metadata": {},
     "output_type": "execute_result"
    }
   ],
   "source": [
    "# Find the \"minimum value (date)\" in the \"entry_date\"\n",
    "\n",
    "df[\"entry_date\"].min()"
   ]
  },
  {
   "cell_type": "markdown",
   "metadata": {},
   "source": [
    "- **``Earliest Entry Date``**: The result signifies that the oldest entry recorded in your dataset is from December 4, 2018.\n",
    "- **``Data Type``**: The result is a Pandas Timestamp object, which is a specific type used to represent dates and times in a more efficient way than standard Python datetime objects.\n",
    "\n",
    "\n",
    "Knowing the earliest entry date can be useful for several analyses, such as:\n",
    "\n",
    "- **``Time Range Analysis``**: Understanding the time span of our dataset.\n",
    "- **``Data Quality Checks``**: Ensuring that the data collected aligns with expected time frames.\n",
    "- **``Time Series Analysis``**: Setting the starting point for any time series visualizations or calculations.\n",
    "\n",
    "<p style=\"background-color:#FFFFFF; font-family:newtimeroman; color:#0000FF; font-size:110%; text-align:left;\"><strong>-----------------------------------------------------------------------------------------------------------------------------------------------------------------------------------------------</strong></p>\n",
    "\n",
    "**The following command finds the latest date in the entry_date column of the DataFrame.**\n",
    "- This will return the minimum value, which represents the oldest entry date (November 26, 2020) in the dataset.\n"
   ]
  },
  {
   "cell_type": "code",
   "execution_count": 67,
   "metadata": {
    "id": "qdKM3kmKAgbb",
    "outputId": "b934afa1-5450-4f07-ce03-d2c685609357"
   },
   "outputs": [
    {
     "data": {
      "text/plain": [
       "Timestamp('2020-11-26 00:00:00')"
      ]
     },
     "execution_count": 67,
     "metadata": {},
     "output_type": "execute_result"
    }
   ],
   "source": [
    "# Find the \"maximum value (date)\" in the \"entry_date\"\n",
    "\n",
    "df[\"entry_date\"].max()"
   ]
  },
  {
   "cell_type": "markdown",
   "metadata": {},
   "source": [
    "- **``Latest Entry Date``**: This result signifies that the most recent entry recorded in your dataset is from November 26, 2020.\n",
    "- **``Data Type``**: Similar to the minimum date, the result is a Pandas Timestamp object, which allows for efficient date manipulation and comparison.\n",
    "\n",
    "<p style=\"background-color:#FFFFFF; font-family:newtimeroman; color:#0000FF; font-size:110%; text-align:left;\"><strong>-----------------------------------------------------------------------------------------------------------------------------------------------------------------------------------------------</strong></p>\n",
    "\n",
    "**The following ``calculates the time span`` covered by the entries in the entry_date column.**"
   ]
  },
  {
   "cell_type": "code",
   "execution_count": 68,
   "metadata": {},
   "outputs": [
    {
     "data": {
      "text/plain": [
       "Timedelta('723 days 00:00:00')"
      ]
     },
     "execution_count": 68,
     "metadata": {},
     "output_type": "execute_result"
    }
   ],
   "source": [
    "# Calculate the time span in days\n",
    "\n",
    "df.entry_date.max() - df.entry_date.min()\n",
    "\n",
    "\n",
    "# # Calculate the time span in months\n",
    "# months_span = time_span.days / 30  # Approximate\n",
    "# print(f\"Approximate time span in months: {months_span:.2f} months\")\n",
    "\n",
    "# # Calculate the time span in years\n",
    "# years_span = time_span.days / 365  # Approximate\n",
    "# print(f\"Approximate time span in years: {years_span:.2f} years\")"
   ]
  },
  {
   "cell_type": "markdown",
   "metadata": {},
   "source": [
    "- **``Time Span``**: The difference of 723 days represents the total duration from the earliest entry date (December 4, 2018) to the latest entry date (November 26, 2020).\n",
    "- **``Data Type``**: The result is a Pandas Timedelta object, which is used to represent differences in time.\n",
    "\n",
    "<p style=\"background-color:#FFFFFF; font-family:newtimeroman; color:#0000FF; font-size:110%; text-align:left;\"><strong>-----------------------------------------------------------------------------------------------------------------------------------------------------------------------------------------------</strong></p>\n",
    "\n",
    "<p style=\"background-color:#FFFFFF; font-family:newtimeroman; color:#008000; font-size:125%; text-align:left;\"><strong>📌 Extra Example-1 to Digest:</strong></p>\n",
    "\n",
    "<p style=\"background-color:#FFFFFF; font-family:newtimeroman; color:blue; font-size:125%; text-align:left;\">📢❗🚨 The default date format used by Pandas when converting strings to datetime objects with pd.to_datetime() is typically ISO 8601 format, which is ``YYYY-MM-DD``. This format is widely recognized and used for representing dates in a standardized way.</p>\n",
    "\n",
    "**The following code creates a Pandas Series a containing date strings in the format \"DD-MM-YYYY\".**\n",
    "- Here’s how we can work with this Series, including converting the string dates into datetime objects for easier manipulation and analysis."
   ]
  },
  {
   "cell_type": "code",
   "execution_count": 69,
   "metadata": {
    "id": "C1kNKskpAgbc",
    "outputId": "86cc02c1-99c1-4293-c597-b4f429b701d4"
   },
   "outputs": [
    {
     "data": {
      "text/plain": [
       "0    15-03-2020\n",
       "1    18-05-2019\n",
       "2    24-07-2018\n",
       "dtype: object"
      ]
     },
     "execution_count": 69,
     "metadata": {},
     "output_type": "execute_result"
    }
   ],
   "source": [
    "# Create the Series with a specified datetime format\n",
    "time_series1 = pd.Series([\"15-03-2020\", \"18-05-2019\", \"24-07-2018\"])\n",
    "\n",
    "# Display the Series\n",
    "time_series1"
   ]
  },
  {
   "cell_type": "markdown",
   "metadata": {},
   "source": [
    "<p style=\"background-color:#FFFFFF; font-family:newtimeroman; color:#FF0000; font-size:125%; text-align:left;\"><strong>⚠️ IMPORTANT Key Points ❗❗❗</strong></p>\n",
    "\n",
    "- **``Internal Representation``**: Once a date string is converted to a datetime64 object, it is **``stored internally in a standardized format (ISO 8601)``**. This is how Pandas represents dates for efficient storage and manipulation.\n",
    "- **``Display Format``**: The display format of dates in Pandas will **``always show in ISO format``** when we print the Series or DataFrame. This does **``NOT change the underlying data``**; it just reflects **``how Pandas chooses to display it``**.\n",
    "- **``Original Format``**: The format parameter in pd.to_datetime() is used **``only to correctly interpret the input string format during conversion``**. It does NOT affect how the resulting datetime64 object is displayed.\n",
    "\n",
    "<p style=\"background-color:#FFFFFF; font-family:newtimeroman; color:#0000FF; font-size:110%; text-align:left;\"><strong>-----------------------------------------------------------------------------------------------------------------------------------------------------------------------------------------------</strong></p>\n",
    "\n",
    "**The following command finds the earliest date in the entry_date column of the DataFrame.**\n"
   ]
  },
  {
   "cell_type": "code",
   "execution_count": 70,
   "metadata": {},
   "outputs": [
    {
     "data": {
      "text/plain": [
       "'15-03-2020'"
      ]
     },
     "execution_count": 70,
     "metadata": {},
     "output_type": "execute_result"
    }
   ],
   "source": [
    "# Find the \"minimum value (date)\" in the \"time_series\"\n",
    "\n",
    "time_series1.min()"
   ]
  },
  {
   "cell_type": "markdown",
   "metadata": {},
   "source": [
    "The output returns the minimum value, which represents the earliest (March 15, 2020) entry date in the dataset.\n",
    "\n",
    "<p style=\"background-color:#FFFFFF; font-family:newtimeroman; color:#0000FF; font-size:110%; text-align:left;\"><strong>-----------------------------------------------------------------------------------------------------------------------------------------------------------------------------------------------</strong></p>\n",
    "\n",
    "**The following command finds the latest date in the entry_date column of the DataFrame.**\n"
   ]
  },
  {
   "cell_type": "code",
   "execution_count": 71,
   "metadata": {
    "id": "oFoFiNMPAgbc",
    "outputId": "d38a3b1a-3c0d-47c9-a760-25f8733c7631"
   },
   "outputs": [
    {
     "data": {
      "text/plain": [
       "'24-07-2018'"
      ]
     },
     "execution_count": 71,
     "metadata": {},
     "output_type": "execute_result"
    }
   ],
   "source": [
    "# Find the \"maximum value (date)\" in the \"time_series\"\n",
    "\n",
    "time_series1.max()"
   ]
  },
  {
   "cell_type": "markdown",
   "metadata": {},
   "source": [
    "The output returns the maximum value, which represents the oldest entry date (July 24, 2018) in the dataset.\n",
    "\n",
    "<p style=\"background-color:#FFFFFF; font-family:newtimeroman; color:#0000FF; font-size:110%; text-align:left;\"><strong>-----------------------------------------------------------------------------------------------------------------------------------------------------------------------------------------------</strong></p>\n",
    "\n"
   ]
  },
  {
   "cell_type": "code",
   "execution_count": 72,
   "metadata": {},
   "outputs": [],
   "source": [
    "# time_series1.max() - time_series1.min()\n",
    "\n",
    "# # Give an error of \"TypeError: unsupported operand type(s) for -: 'str' and 'str'\"\""
   ]
  },
  {
   "cell_type": "markdown",
   "metadata": {},
   "source": [
    "- **``The error TypeError: unsupported operand type(s) for -: 'str' and 'str'``** occurs because the Series a contains strings, and we're trying to perform a subtraction operation (max() - min()) on string values. In Python, we CANNOT subtract one string from another, which leads to this error.\n",
    "\n",
    "\n",
    "\n",
    "<p style=\"background-color:#FFFFFF; font-family:newtimeroman; color:#0000FF; font-size:110%; text-align:left;\"><strong>-----------------------------------------------------------------------------------------------------------------------------------------------------------------------------------------------</strong></p>\n",
    "\n",
    "<p style=\"background-color:#FFFFFF; font-family:newtimeroman; color:#008000; font-size:125%; text-align:left;\"><strong>📌 Extra Example-2 to Digest:</strong></p>\n",
    "\n",
    "<p style=\"background-color:#FFFFFF; font-family:newtimeroman; color:blue; font-size:125%; text-align:left;\">📢❗🚨 The default date format used by Pandas when converting strings to datetime objects with pd.to_datetime() is typically ISO 8601 format, which is ``YYYY-MM-DD``. This format is widely recognized and used for representing dates in a standardized way.</p>\n",
    "\n",
    "\n",
    "**The following command converts the Series, which contains date strings formatted as \"DD-MM-YYYY\", into Pandas datetime objects.**"
   ]
  },
  {
   "cell_type": "code",
   "execution_count": 73,
   "metadata": {
    "id": "FmOfhTySAgbc",
    "outputId": "78f40ee6-a146-446a-b154-ba370d6858c7"
   },
   "outputs": [
    {
     "data": {
      "text/plain": [
       "0   2020-03-15\n",
       "1   2019-05-18\n",
       "2   2018-07-24\n",
       "dtype: datetime64[ns]"
      ]
     },
     "execution_count": 73,
     "metadata": {},
     "output_type": "execute_result"
    }
   ],
   "source": [
    "# Create the Series with a specified datetime format\n",
    "\n",
    "pd.to_datetime(time_series1, format='%d-%m-%Y')"
   ]
  },
  {
   "cell_type": "markdown",
   "metadata": {},
   "source": [
    "\n",
    "\n",
    "<p style=\"background-color:#FFFFFF; font-family:newtimeroman; color:#0000FF; font-size:110%; text-align:left;\"><strong>-----------------------------------------------------------------------------------------------------------------------------------------------------------------------------------------------</strong></p>\n",
    "\n",
    "\n",
    "**The following command converts the Series, which contains date strings formatted as \"DD-MM-YYYY\", into Pandas datetime objects.**"
   ]
  },
  {
   "cell_type": "code",
   "execution_count": 74,
   "metadata": {},
   "outputs": [
    {
     "data": {
      "text/plain": [
       "0   2020-03-15\n",
       "1   2019-05-18\n",
       "2   2018-07-24\n",
       "dtype: datetime64[ns]"
      ]
     },
     "execution_count": 74,
     "metadata": {},
     "output_type": "execute_result"
    }
   ],
   "source": [
    "# Convert the Series to specified datetime format\n",
    "time_series2 = pd.to_datetime(time_series1, format='%d-%m-%Y')\n",
    "\n",
    "# Display the Series\n",
    "time_series2"
   ]
  },
  {
   "cell_type": "markdown",
   "metadata": {},
   "source": [
    "- **``Format Specification``**: The format='%d-%m-%Y' argument tells Pandas how to interpret the date strings:\n",
    "  - **``%d``**: Day of the month as a zero-padded decimal number.\n",
    "  - **``%m``**: Month as a zero-padded decimal number.\n",
    "  - **``%Y``**: Year with century as a decimal number.\n",
    "- **``Datetime Conversion``**: The pd.to_datetime() function converts the string representations of dates into Pandas datetime64 objects, enabling efficient date manipulation.\n",
    "\n",
    "<p style=\"background-color:#FFFFFF; font-family:newtimeroman; color:#0000FF; font-size:110%; text-align:left;\"><strong>-----------------------------------------------------------------------------------------------------------------------------------------------------------------------------------------------</strong></p>\n",
    "\n",
    "**The following command finds the earliest date in the Series.**"
   ]
  },
  {
   "cell_type": "code",
   "execution_count": 75,
   "metadata": {},
   "outputs": [
    {
     "data": {
      "text/plain": [
       "Timestamp('2018-07-24 00:00:00')"
      ]
     },
     "execution_count": 75,
     "metadata": {},
     "output_type": "execute_result"
    }
   ],
   "source": [
    "# Find the \"minimum value (date)\" in the \"time_series2\"\n",
    "min_date = time_series2.min()\n",
    "\n",
    "# Display the earliest date in the Series\n",
    "min_date"
   ]
  },
  {
   "cell_type": "markdown",
   "metadata": {},
   "source": [
    "The output returns the minimum value, which represents the oldest entry date (July 07, 2018) in the dataset.\n",
    "\n",
    "<p style=\"background-color:#FFFFFF; font-family:newtimeroman; color:#0000FF; font-size:110%; text-align:left;\"><strong>-----------------------------------------------------------------------------------------------------------------------------------------------------------------------------------------------</strong></p>\n",
    "\n",
    "**The following command finds the latest date in the Series.**\n"
   ]
  },
  {
   "cell_type": "code",
   "execution_count": 76,
   "metadata": {
    "id": "tdK7OQGiAgbd",
    "outputId": "0621a6aa-0dd9-4769-aadd-d1076815c1a3"
   },
   "outputs": [
    {
     "data": {
      "text/plain": [
       "Timestamp('2020-03-15 00:00:00')"
      ]
     },
     "execution_count": 76,
     "metadata": {},
     "output_type": "execute_result"
    }
   ],
   "source": [
    "# Find the \"maximum value (date)\" in the \"time_series2\"\n",
    "max_date = time_series2.max()\n",
    "\n",
    "# Display the oldest date in the Series\n",
    "max_date"
   ]
  },
  {
   "cell_type": "markdown",
   "metadata": {},
   "source": [
    "The output returns the maximum value, which represents the oldest entry date (March 15, 2020) in the dataset.\n",
    "\n",
    "\n",
    "<p style=\"background-color:#FFFFFF; font-family:newtimeroman; color:#0000FF; font-size:110%; text-align:left;\"><strong>-----------------------------------------------------------------------------------------------------------------------------------------------------------------------------------------------</strong></p>\n",
    "\n",
    "**The following ``calculates the time span`` covered by the entries in the Series.**\n"
   ]
  },
  {
   "cell_type": "code",
   "execution_count": 77,
   "metadata": {},
   "outputs": [
    {
     "data": {
      "text/plain": [
       "Timedelta('600 days 00:00:00')"
      ]
     },
     "execution_count": 77,
     "metadata": {},
     "output_type": "execute_result"
    }
   ],
   "source": [
    "max_date - min_date"
   ]
  },
  {
   "cell_type": "markdown",
   "metadata": {},
   "source": [
    "- **``Time Span``**: The difference of 600 days represents the total duration from the earliest entry date (July 07, 2018) to the latest entry date (March 15, 2020).\n",
    "- **``Data Type``**: The result is a Pandas Timedelta object, which is used to represent differences in time.\n",
    "\n",
    "<p style=\"background-color:#FFFFFF; font-family:newtimeroman; color:#0000FF; font-size:110%; text-align:left;\"><strong>-----------------------------------------------------------------------------------------------------------------------------------------------------------------------------------------------</strong></p>\n",
    "\n"
   ]
  },
  {
   "cell_type": "markdown",
   "metadata": {
    "id": "sJLgGEeiAgbd"
   },
   "source": [
    "### <p style=\"background-color:#E51A59; font-family:newtimeroman; color:#FFF9ED; font-size:150%; text-align:LEFT; border-radius:10px 10px;\">Series.dt()</p>\n",
    "\n",
    "<a id=\"2.2\"></a>\n",
    "<a href=\"#toc\" class=\"btn btn-primary btn-sm\" role=\"button\" aria-pressed=\"true\" \n",
    "style=\"color:blue; background-color:#dfa8e4\" data-toggle=\"popover\">Content</a>\n",
    "\n",
    "- **``Accessor object``** for datetimelike properties of the Series values [SOURCE](https://pandas.pydata.org/docs/reference/api/pandas.Series.dt.html).\n",
    "\n",
    "The **``Series.dt accessor``** in **``Pandas``** provides a set of methods and properties specifically designed for working with datetime data in a Pandas Series. It allows users to easily extract and manipulate various components of datetime objects, such as **``year``**, **``month``**, **``day``**, **``hour``**, **``minute``**, **``second``**, and more. Additionally, it supports **``operations``** like date **``arithmetic``** and **``formatting``**.\n",
    "\n",
    "**``Key Features of Series.dt:``**\n",
    "- **``Attribute Access``**: Access components like .dt.year, .dt.month, .dt.day, etc.\n",
    "- **``Date Arithmetic``**: Perform operations such as adding or subtracting time intervals.\n",
    "- **``Formatting``**: Format datetime objects for display purposes using .dt.strftime().\n",
    "- **``Filtering``**: Easily filter data based on date attributes (e.g., extracting all entries from a specific month).\n",
    "\n",
    "For a comprehensive information what the datetimelike properties, please visit [Official Pandas API Reference Document](https://pandas.pydata.org/pandas-docs/version/0.22/api.html#datetimelike-properties)\n",
    "\n",
    "\n",
    "<p style=\"background-color:#FFFFFF; font-family:newtimeroman; color:#0000FF; font-size:110%; text-align:left;\"><strong>-----------------------------------------------------------------------------------------------------------------------------------------------------------------------------------------------</strong></p>\n",
    "\n",
    "\n",
    "**The following command extracts the ``year`` component from the entry_date column in the DataFrame.** \n",
    "- This operation is made possible by the **``dt accessor``**, which provides **``access to datetime-specific properties``**."
   ]
  },
  {
   "cell_type": "code",
   "execution_count": 78,
   "metadata": {
    "id": "Zo4TbzygAgbd",
    "outputId": "890366a6-e3ec-4fd6-96bf-4aa606e11bc9"
   },
   "outputs": [
    {
     "data": {
      "text/plain": [
       "0      2018\n",
       "1      2018\n",
       "2      2018\n",
       "3      2018\n",
       "4      2018\n",
       "       ... \n",
       "906    2020\n",
       "907    2020\n",
       "908    2020\n",
       "909    2020\n",
       "910    2020\n",
       "Name: entry_date, Length: 911, dtype: int32"
      ]
     },
     "execution_count": 78,
     "metadata": {},
     "output_type": "execute_result"
    }
   ],
   "source": [
    "# Extract the year from the entry_date column\n",
    "\n",
    "df[\"entry_date\"].dt.year \n",
    "\n",
    "# it can be date, year, quarter, month, week, day, weekday, dayofweek, hour, minute, second, microsecond  "
   ]
  },
  {
   "cell_type": "markdown",
   "metadata": {},
   "source": [
    "- **``Extraction``**: The dt.year property accesses the year component of each datetime object in the entry_date Series.\n",
    "- **``Type``**: The result is a Series of integers representing the years corresponding to each entry date.\n",
    "\n",
    "<p style=\"background-color:#FFFFFF; font-family:newtimeroman; color:#0000FF; font-size:110%; text-align:left;\"><strong>-----------------------------------------------------------------------------------------------------------------------------------------------------------------------------------------------</strong></p>\n",
    "\n",
    "**The following command extracts the ``quarter`` component from the entry_date column in the DataFrame.** \n",
    "- This operation is made possible by the **``dt accessor``**, which provides **``access to datetime-specific properties``**."
   ]
  },
  {
   "cell_type": "code",
   "execution_count": 79,
   "metadata": {
    "id": "XshBg-z3Agbe",
    "outputId": "9f0028ff-15c4-4f7d-b384-f9c1423927cf"
   },
   "outputs": [
    {
     "data": {
      "text/plain": [
       "0      4\n",
       "1      4\n",
       "2      4\n",
       "3      4\n",
       "4      4\n",
       "      ..\n",
       "906    4\n",
       "907    4\n",
       "908    4\n",
       "909    4\n",
       "910    4\n",
       "Name: entry_date, Length: 911, dtype: int32"
      ]
     },
     "execution_count": 79,
     "metadata": {},
     "output_type": "execute_result"
    }
   ],
   "source": [
    "# Extract the quarter from the entry_date column\n",
    "\n",
    "df.entry_date.dt.quarter"
   ]
  },
  {
   "cell_type": "markdown",
   "metadata": {},
   "source": [
    "- **``Quarter Calculation``**: The dt.quarter property returns an integer indicating the quarter of the year:\n",
    "  - **``1``**: January to March\n",
    "  - **``2``**: April to June\n",
    "  - **``3``**: July to September\n",
    "  - **``4``**: October to December\n",
    "- **``Type``**: The result is a Series of integers, each representing the quarter corresponding to the respective entry date.\n",
    "\n",
    "<p style=\"background-color:#FFFFFF; font-family:newtimeroman; color:#0000FF; font-size:110%; text-align:left;\"><strong>-----------------------------------------------------------------------------------------------------------------------------------------------------------------------------------------------</strong></p>\n",
    "\n",
    "**The following command extracts the ``dayofweek`` component from the entry_date column in the DataFrame.** \n",
    "- This operation is made possible by the **``dt accessor``**, which provides **``access to datetime-specific properties``**."
   ]
  },
  {
   "cell_type": "code",
   "execution_count": 80,
   "metadata": {
    "id": "9k04TpnnAgbe",
    "outputId": "b60e05e0-87c9-4be7-e6e4-ee1949c5c8c2"
   },
   "outputs": [
    {
     "data": {
      "text/plain": [
       "0      1\n",
       "1      1\n",
       "2      1\n",
       "3      1\n",
       "4      1\n",
       "      ..\n",
       "906    2\n",
       "907    2\n",
       "908    4\n",
       "909    1\n",
       "910    3\n",
       "Name: entry_date, Length: 911, dtype: int32"
      ]
     },
     "execution_count": 80,
     "metadata": {},
     "output_type": "execute_result"
    }
   ],
   "source": [
    "# Extract the day of the week from the entry_date column\n",
    "\n",
    "df.entry_date.dt.dayofweek"
   ]
  },
  {
   "cell_type": "markdown",
   "metadata": {},
   "source": [
    "- **``Day of the Week Calculation``**: The dt.dayofweek property returns an integer where:\n",
    "  - **``0``**: Monday\n",
    "  - **``1``**: Tuesday\n",
    "  - **``2``**: Wednesday\n",
    "  - **``3``**: Thursday\n",
    "  - **``4``**: Friday\n",
    "  - **``5``**: Saturday\n",
    "  - **``6``**: Sunday\n",
    "- **``Type``**: The result is a Series of integers, each representing the day of the week corresponding to the respective entry date.\n",
    "\n",
    "<p style=\"background-color:#FFFFFF; font-family:newtimeroman; color:#0000FF; font-size:110%; text-align:left;\"><strong>-----------------------------------------------------------------------------------------------------------------------------------------------------------------------------------------------</strong></p>\n",
    "\n"
   ]
  },
  {
   "cell_type": "markdown",
   "metadata": {
    "id": "NOCCSjfKAgbe"
   },
   "source": [
    "### <p style=\"background-color:#E51A59; font-family:newtimeroman; color:#FFF9ED; font-size:150%; text-align:LEFT; border-radius:10px 10px;\">Datetime Module</p>\n",
    "\n",
    "<a id=\"2.3\"></a>\n",
    "<a href=\"#toc\" class=\"btn btn-primary btn-sm\" role=\"button\" aria-pressed=\"true\" \n",
    "style=\"color:blue; background-color:#dfa8e4\" data-toggle=\"popover\">Content</a>\n",
    "\n",
    "- The datetime module supplies classes for manipulating dates and times [SOURCE](https://docs.python.org/3/library/datetime.html).\n",
    "\n",
    "The **``datetime module``** in **``Python``** is a built-in library that provides classes for manipulating dates and times. It allows users to create, modify, and format date and time objects, making it essential for tasks involving time calculations, comparisons, and formatting.\n",
    "\n",
    "- **``Key Features:``**\n",
    "  - **``Classes``**: Main classes include datetime (for combined date and time), date (for date only), time (for time only), timedelta (for representing time differences), and timezone (for handling time zones).\n",
    "  - **``Arithmetic``**: Supports operations such as addition and subtraction of dates and times, enabling easy calculation of durations.\n",
    "  - **``Formatting``**: Offers methods to format dates and times as strings using various formats, which is useful for display and reporting.\n",
    "  - **``Parsing``**: Can parse strings into datetime objects using specified formats.\n",
    "\n",
    "\n",
    "### <p style=\"background-color:#FFFFFF; font-family:newtimeroman; color:#008000; font-size:125%; text-align:left;\"><strong>class datetime.datetime</strong></p>\n",
    "\n",
    "\n",
    "- A combination of a date and a time. Attributes: year, month, day, hour, minute, second, microsecond, and tzinfo.\n",
    "\n",
    "The **``datetime.datetime class``** in Python is **``part``** of the **``datetime module``** and is used to represent both date and time. It combines the functionality of the date and time classes, allowing for comprehensive manipulation of date and time data."
   ]
  },
  {
   "cell_type": "code",
   "execution_count": 81,
   "metadata": {
    "id": "8h8dEpGXAgbf"
   },
   "outputs": [],
   "source": [
    "# Import datetime class from datatime module\n",
    "\n",
    "from datetime import datetime"
   ]
  },
  {
   "cell_type": "markdown",
   "metadata": {},
   "source": [
    "\n",
    "\n",
    "<p style=\"background-color:#FFFFFF; font-family:newtimeroman; color:#0000FF; font-size:110%; text-align:left;\"><strong>-----------------------------------------------------------------------------------------------------------------------------------------------------------------------------------------------</strong></p>\n",
    "\n",
    "**The following command ``obtains the current local date and time`` as a ``datetime object``.**\n",
    "- This method captures the **``exact moment``** at which it is called, including the year, month, day, hour, minute, second, and microsecond."
   ]
  },
  {
   "cell_type": "code",
   "execution_count": 82,
   "metadata": {
    "id": "c0ixvLTdAgbf",
    "outputId": "1bba42ec-f601-46ae-8b6d-5bdb65386ac7"
   },
   "outputs": [
    {
     "data": {
      "text/plain": [
       "datetime.datetime(2024, 10, 19, 19, 5, 41, 57036)"
      ]
     },
     "execution_count": 82,
     "metadata": {},
     "output_type": "execute_result"
    }
   ],
   "source": [
    "# Display the current date and time\n",
    "\n",
    "datetime.now()"
   ]
  },
  {
   "cell_type": "markdown",
   "metadata": {},
   "source": [
    "This output is a representation of the **``datetime object itself``**. It shows the full structure of the object.\n",
    "\n",
    "\n",
    "- **``Local Time``**: The **``now()``** method returns the date and time in the **``local timezone of the system``** where the code is executed.\n",
    "- **``Precision``**: The result includes **``microsecond precision``**, allowing for very precise timing if needed.\n",
    "- **``Datetime Object``**: The output is a **``datetime object``**, which means we can use various methods and properties to manipulate or format this date and time.\n",
    "\n",
    "<p style=\"background-color:#FFFFFF; font-family:newtimeroman; color:#0000FF; font-size:110%; text-align:left;\"><strong>-----------------------------------------------------------------------------------------------------------------------------------------------------------------------------------------------</strong></p>\n",
    "\n"
   ]
  },
  {
   "cell_type": "code",
   "execution_count": 83,
   "metadata": {
    "id": "sDnraMYlAgbf",
    "outputId": "ce62bf5f-232b-461b-872d-6530a0848b61"
   },
   "outputs": [
    {
     "name": "stdout",
     "output_type": "stream",
     "text": [
      "2024-10-19 19:05:41.065679\n"
     ]
    }
   ],
   "source": [
    "# Display the current date and time\n",
    "\n",
    "print(datetime.now())"
   ]
  },
  {
   "cell_type": "markdown",
   "metadata": {},
   "source": [
    "This output is a **``string representation of the datetime object``**, formatted in a **``human-readable way``**. It uses the ISO 8601 format.\n",
    "\n",
    "- **``Object Representation``**: **``datetime.now()``** gives us a **``detailed object representation``**, useful for programmatic manipulation.\n",
    "- **``String Representation``**: **``print(datetime.now())``** provides a **``formatted string representation``** that is easier to read for display purposes.\n",
    "\n",
    "<p style=\"background-color:#FFFFFF; font-family:newtimeroman; color:blue; font-size:125%; text-align:left;\">📢👉 Note that the microsecond value shown here is slightly different (768490) from the earlier representation (758825) due to the time taken to execute the code between calls.</p>\n",
    "\n",
    "\n",
    "\n",
    "<p style=\"background-color:#FFFFFF; font-family:newtimeroman; color:#0000FF; font-size:110%; text-align:left;\"><strong>-----------------------------------------------------------------------------------------------------------------------------------------------------------------------------------------------</strong></p>\n",
    "\n",
    "**The following command returns the ``current local date and time`` as a ``datetime object``, similar to datetime.now(), but it does NOT take any parameters.**"
   ]
  },
  {
   "cell_type": "code",
   "execution_count": 84,
   "metadata": {
    "id": "Ctk18EO1Agbf",
    "outputId": "1b1d0144-b858-4657-e674-1db52772db5d"
   },
   "outputs": [
    {
     "name": "stdout",
     "output_type": "stream",
     "text": [
      "2024-10-19 19:05:41.073307\n"
     ]
    }
   ],
   "source": [
    "# Get the current local date and time\n",
    "\n",
    "print(datetime.today())"
   ]
  },
  {
   "cell_type": "markdown",
   "metadata": {},
   "source": [
    "- **``Local Time``**: Like datetime.now(), datetime.today() returns the date and time in the local timezone of the system.\n",
    "- **``Precision``**: The output includes microsecond precision, providing a very precise timestamp.\n",
    "- **``Datetime Object``**: The output is a datetime object, allowing for various manipulations, such as extracting components (year, month, day, etc.) or performing arithmetic.\n",
    "\n",
    "<p style=\"background-color:#FFFFFF; font-family:newtimeroman; color:#0000FF; font-size:110%; text-align:left;\"><strong>-----------------------------------------------------------------------------------------------------------------------------------------------------------------------------------------------</strong></p>\n",
    "\n"
   ]
  },
  {
   "cell_type": "code",
   "execution_count": 85,
   "metadata": {
    "id": "ykHDEMtIAgbg",
    "outputId": "93fdc8d9-5a0f-4b8b-e661-8b8685a3df10"
   },
   "outputs": [
    {
     "name": "stdout",
     "output_type": "stream",
     "text": [
      "2024-10-19 19:05:41.081444\n"
     ]
    }
   ],
   "source": [
    "# Get the current local date and time and assign it to an object\n",
    "current_datetime = datetime.now()\n",
    "\n",
    "# Print the Datetime Object in a String Representation\n",
    "print(current_datetime)"
   ]
  },
  {
   "cell_type": "markdown",
   "metadata": {},
   "source": [
    "- **``Format- ``**: The output is in the standard ISO 8601 format, which includes:\n",
    "  - **``Date- ``**: YYYY-MM-DD (e.g., 2024-10-19)\n",
    "  - **``Time- ``**: HH:MM:SS.ssssss (e.g., 00:47:34.768490)\n",
    "  - **``HH- ``**: Hours (24-hour format)\n",
    "  - **``MM- ``**: Minutes\n",
    "  - **``SS- ``**: Seconds\n",
    "  - **``ssssss- ``**: Microseconds\n",
    "- **``Key Points:- ``**\n",
    "  - **``Current Time- ``**: The datetime.now() method captures the exact time at which it is called, including the year, month, day, hour, minute, second, and microsecond.\n",
    "  - **``Datetime Object- ``**: The result is a datetime object, which can be further manipulated or formatted as needed.\n",
    "\n",
    "<p style=\"background-color:#FFFFFF; font-family:newtimeroman; color:#0000FF; font-size:110%; text-align:left;\"><strong>-----------------------------------------------------------------------------------------------------------------------------------------------------------------------------------------------</strong></p>\n",
    "\n",
    "**The following method extracts the ``date (year, month, and day)`` from a ``datetime object``, returning it as a ``date object``.**\n",
    "- This allows us to work specifically with the date portion, ignoring the time component."
   ]
  },
  {
   "cell_type": "code",
   "execution_count": 86,
   "metadata": {
    "id": "5srBVP05Agbg",
    "outputId": "c43128ab-0ef0-435d-9f45-7868c6effadf"
   },
   "outputs": [
    {
     "data": {
      "text/plain": [
       "datetime.date(2024, 10, 19)"
      ]
     },
     "execution_count": 86,
     "metadata": {},
     "output_type": "execute_result"
    }
   ],
   "source": [
    "# Extract the date portion\n",
    "\n",
    "current_datetime.date() \n",
    "\n",
    "# it can be date, year, month, day, weekday, isoweekday, hour, minute, second, microsecond, tzinfo "
   ]
  },
  {
   "cell_type": "markdown",
   "metadata": {},
   "source": [
    "- **``Date Object``**: The result is a date object, which contains only the year, month, and day.\n",
    "- **``Format``**: The output is in the YYYY-MM-DD format, which is a standard way to represent dates.\n",
    "\n",
    "<p style=\"background-color:#FFFFFF; font-family:newtimeroman; color:#0000FF; font-size:110%; text-align:left;\"><strong>-----------------------------------------------------------------------------------------------------------------------------------------------------------------------------------------------</strong></p>\n",
    "\n",
    "**The ``attribute year`` is used to ``extract the year component`` from a ``datetime object``.** \n",
    "- This provides an easy way to **``access just the year``** without needing to manipulate the entire datetime."
   ]
  },
  {
   "cell_type": "code",
   "execution_count": 87,
   "metadata": {
    "id": "59L4kswpAgbg",
    "outputId": "f65d8ba0-ffb0-4654-edba-6199e3079fbd"
   },
   "outputs": [
    {
     "data": {
      "text/plain": [
       "2024"
      ]
     },
     "execution_count": 87,
     "metadata": {},
     "output_type": "execute_result"
    }
   ],
   "source": [
    "# Extract the year portion\n",
    "\n",
    "current_datetime.year"
   ]
  },
  {
   "cell_type": "markdown",
   "metadata": {},
   "source": [
    "- **``Year Value``**: The result is an integer representing the current year.\n",
    "- **``Direct Access``**: This attribute allows for quick access to the year without any additional formatting or calculations.\n",
    "- **``Use Cases``**: Useful in scenarios where you need to check or log the year, perform calculations based on the year, or filter data by y\n",
    "\n",
    "<p style=\"background-color:#FFFFFF; font-family:newtimeroman; color:#0000FF; font-size:110%; text-align:left;\"><strong>-----------------------------------------------------------------------------------------------------------------------------------------------------------------------------------------------</strong></p>\n",
    "\n",
    "**The following method obtains the ``day of the week`` as an ``integer`` from a ``datetime object``.**\n",
    "- In this method, **``Monday``** is represented as **``0``** and **``Sunday``** as **``6``**.\n",
    "\n"
   ]
  },
  {
   "cell_type": "code",
   "execution_count": 88,
   "metadata": {
    "id": "axdFCvlqAgbg",
    "outputId": "4265f7c8-f9b4-4ce3-a2d8-08b2f52ee876"
   },
   "outputs": [
    {
     "data": {
      "text/plain": [
       "5"
      ]
     },
     "execution_count": 88,
     "metadata": {},
     "output_type": "execute_result"
    }
   ],
   "source": [
    "# Get the weekday\n",
    "\n",
    "current_datetime.weekday() \n",
    "\n",
    "# Return the day of the week as an integer, where Monday is 0 and Sunday is 6."
   ]
  },
  {
   "cell_type": "markdown",
   "metadata": {},
   "source": [
    "- **``Integer Representation``**: The output is an integer where:\n",
    "  - **``0``**: Monday\n",
    "  - **``1``**: Tuesday\n",
    "  - **``2``**: Wednesday\n",
    "  - **``3``**: Thursday\n",
    "  - **``4``**: Friday\n",
    "  - **``5``**: Saturday\n",
    "  - **``6``**: Sunday\n",
    "- **``Use Cases``**: This method is useful for:\n",
    "  - **``Scheduling``**: Determining the day of the week for scheduling tasks or events.\n",
    "  - **``Data Analysis``**: Analyzing trends based on days of the week (e.g., sales data).\n",
    "  - **``Conditionals:``** Performing actions based on the day of the week (e.g., different operations for weekends vs. weekdays).\n",
    "\n",
    "<p style=\"background-color:#FFFFFF; font-family:newtimeroman; color:#0000FF; font-size:110%; text-align:left;\"><strong>-----------------------------------------------------------------------------------------------------------------------------------------------------------------------------------------------</strong></p>\n",
    "\n",
    "**The following method obtains the ``day of the week`` as an ``integer`` from a ``datetime object``, following the ``ISO standard``.**\n",
    "- In this method, **``Monday``** is represented as **``1``** and **``Sunday``** as **``7``**.\n"
   ]
  },
  {
   "cell_type": "code",
   "execution_count": 89,
   "metadata": {
    "id": "zEev3QaAAgbh",
    "outputId": "c0cd497f-35f8-427f-eefb-bcaa0a718624"
   },
   "outputs": [
    {
     "data": {
      "text/plain": [
       "6"
      ]
     },
     "execution_count": 89,
     "metadata": {},
     "output_type": "execute_result"
    }
   ],
   "source": [
    "# Get the ISO weekday\n",
    "\n",
    "current_datetime.isoweekday() \n",
    "\n",
    "# Return the day of the week as an integer, where Monday is 1 and Sunday is 7."
   ]
  },
  {
   "cell_type": "markdown",
   "metadata": {},
   "source": [
    "- **``Integer Representation``**: The output is an integer where:\n",
    "  - **``1``**: Monday\n",
    "  - **``2``**: Tuesday\n",
    "  - **``3``**: Wednesday\n",
    "  - **``4``**: Thursday\n",
    "  - **``5``**: Friday\n",
    "  - **``6``**: Saturday\n",
    "  - **``7``**: Sunday\n",
    "- **``Use Cases``**: This method is useful for:\n",
    "  - **``Standardization``**: Following the ISO standard can be beneficial for international applications.\n",
    "  - **``Conditionals``**: Easily implement logic based on weekdays, such as different operations for weekends versus weekdays.\n",
    "\n",
    "<p style=\"background-color:#FFFFFF; font-family:newtimeroman; color:#0000FF; font-size:110%; text-align:left;\"><strong>-----------------------------------------------------------------------------------------------------------------------------------------------------------------------------------------------</strong></p>\n",
    "\n"
   ]
  },
  {
   "cell_type": "markdown",
   "metadata": {
    "id": "FQWezRPZAgbh"
   },
   "source": [
    "### <p style=\"background-color:#FFFFFF; font-family:newtimeroman; color:#008000; font-size:125%; text-align:left;\"><strong>class datetime.timedelta</strong></p>\n",
    "\n",
    "\n",
    "- A **``duration``** expressing the **``difference between two date``**, time, or datetime instances to microsecond resolution [SOURCE](https://www.geeksforgeeks.org/manipulate-date-and-time-with-the-datetime-module-in-python/).\n",
    "\n",
    "The **``datetime.timedelta class``** in **``Python's datetime module``** represents a **``duration``**, which is the **``difference between two dates or times``**. It is used for **``performing arithmetic``** with datetime objects, allowing us to add or subtract time intervals.\n",
    "\n",
    "We can create a timedelta object by specifying any combination of days, seconds, microseconds, milliseconds, minutes, hours, and weeks. The parameters are: days, seconds, microseconds, milliseconds, minutes, hours, and weeks.\n",
    "- **``Attributes``**: We can access the following attributes:\n",
    "  - **``.days``**: The number of days in the duration.\n",
    "  - **``.seconds``**: The number of seconds (0-86399).\n",
    "  - **``.microseconds``**: The number of microseconds (0-999999).\n",
    "- **``Operations``**: We can perform arithmetic operations with timedelta objects and datetime objects:\n",
    "  - Addition and subtraction with datetime objects to find future or past dates.\n",
    "  - Addition and subtraction between timedelta objects to calculate durations."
   ]
  },
  {
   "cell_type": "code",
   "execution_count": 90,
   "metadata": {
    "id": "Png7K7IxAgbh"
   },
   "outputs": [],
   "source": [
    "# Import datetime class from timedelta module\n",
    "\n",
    "from datetime import timedelta"
   ]
  },
  {
   "cell_type": "markdown",
   "metadata": {},
   "source": [
    "\n",
    "\n",
    "<p style=\"background-color:#FFFFFF; font-family:newtimeroman; color:#0000FF; font-size:110%; text-align:left;\"><strong>-----------------------------------------------------------------------------------------------------------------------------------------------------------------------------------------------</strong></p>\n",
    "\n"
   ]
  },
  {
   "cell_type": "code",
   "execution_count": 91,
   "metadata": {
    "id": "wg8E2F9fAgbi",
    "outputId": "c4e4ff41-75b8-4c3c-cefc-89e63497fd50"
   },
   "outputs": [
    {
     "data": {
      "text/plain": [
       "datetime.timedelta(days=2)"
      ]
     },
     "execution_count": 91,
     "metadata": {},
     "output_type": "execute_result"
    }
   ],
   "source": [
    "# Calculate a timedelta representing 2 days\n",
    "\n",
    "timedelta(days=2)"
   ]
  },
  {
   "cell_type": "markdown",
   "metadata": {},
   "source": [
    "This output is a **``representation of the timedelta object itself``**. It shows the full structure of the object.\n",
    "\n",
    "- **``Object Representation``**: **``timedelta(days=2)``** gives us a **``detailed object representation``**, useful for programmatic manipulation.\n",
    "- **``String Representation``**: **``timedelta(days=2)``** provides a **``formatted string representation``** that is easier to read for display purposes.\n",
    "\n",
    "<p style=\"background-color:#FFFFFF; font-family:newtimeroman; color:#0000FF; font-size:110%; text-align:left;\"><strong>-----------------------------------------------------------------------------------------------------------------------------------------------------------------------------------------------</strong></p>\n",
    "\n"
   ]
  },
  {
   "cell_type": "code",
   "execution_count": 92,
   "metadata": {
    "id": "zroV7fqxAgbi",
    "outputId": "4b220d7f-3471-4170-f439-e3e40ef34edd"
   },
   "outputs": [
    {
     "name": "stdout",
     "output_type": "stream",
     "text": [
      "2 days, 0:00:00\n"
     ]
    }
   ],
   "source": [
    "# Calculate a timedelta representing 2 days\n",
    "\n",
    "print(timedelta(days=2))"
   ]
  },
  {
   "cell_type": "markdown",
   "metadata": {},
   "source": [
    "This output is a **``string representation of the timedelta object``**, formatted in a **``human-readable way``**. It is a combination of days and time, making it clear how long the duration is.\n",
    "\n",
    "- **``String Representation``**: **``timedelta(days=2)``** provides a **``formatted string representation``** that is easier to read for display purposes.\n",
    "\n",
    "  - **``2 days``**: This indicates that the duration is 2 days.\n",
    "  - **``0:00:00``**: This part represents the time component of the timedelta, which is zero hours, zero minutes, and zero seconds in this case.\n",
    "\n",
    "<p style=\"background-color:#FFFFFF; font-family:newtimeroman; color:#0000FF; font-size:110%; text-align:left;\"><strong>-----------------------------------------------------------------------------------------------------------------------------------------------------------------------------------------------</strong></p>\n"
   ]
  },
  {
   "cell_type": "code",
   "execution_count": 93,
   "metadata": {
    "id": "luo_qUd0Agbi",
    "outputId": "d02b127e-4c10-4fb5-f0c5-3c3f004a9b77"
   },
   "outputs": [
    {
     "data": {
      "text/plain": [
       "datetime.datetime(2024, 10, 19, 19, 5, 41, 81444)"
      ]
     },
     "execution_count": 93,
     "metadata": {},
     "output_type": "execute_result"
    }
   ],
   "source": [
    "# Let's remember our Datatime Object where we stored the current datetime\n",
    "\n",
    "current_datetime"
   ]
  },
  {
   "cell_type": "markdown",
   "metadata": {},
   "source": [
    "\n",
    "\n",
    "<p style=\"background-color:#FFFFFF; font-family:newtimeroman; color:#0000FF; font-size:110%; text-align:left;\"><strong>-----------------------------------------------------------------------------------------------------------------------------------------------------------------------------------------------</strong></p>\n",
    "\n",
    "**The following expression ``calculates a new datetime`` that  2 days before current_datetime.**"
   ]
  },
  {
   "cell_type": "code",
   "execution_count": 94,
   "metadata": {
    "id": "i-llLd4AAgbj",
    "outputId": "65508d40-e94e-4e36-8fec-ee21232bcc05"
   },
   "outputs": [
    {
     "data": {
      "text/plain": [
       "datetime.datetime(2024, 10, 17, 19, 5, 41, 81444)"
      ]
     },
     "execution_count": 94,
     "metadata": {},
     "output_type": "execute_result"
    }
   ],
   "source": [
    "# Subtracting 2 days from the current local date and assign it into the Datatime Object\n",
    "two_days_before = current_datetime - timedelta(days=2)\n",
    "\n",
    "# Display the Datatime Object\n",
    "two_days_before"
   ]
  },
  {
   "cell_type": "markdown",
   "metadata": {},
   "source": [
    "- **``current_datetime``**: Stores the current date and time.\n",
    "- **``two_days_before``**: Shows the date and time exactly 2 days prior to current_datetime.\n",
    "\n",
    "<p style=\"background-color:#FFFFFF; font-family:newtimeroman; color:#0000FF; font-size:110%; text-align:left;\"><strong>-----------------------------------------------------------------------------------------------------------------------------------------------------------------------------------------------</strong></p>\n",
    "\n",
    "**The following expression ``calculates a new datetime`` that is ``2 weeks, 3 days, 4 hours, and 10 minutes later than current_datetime``.**\n",
    "- This operation uses the timedelta class to represent the duration and adds it to the current datetime.\n",
    "\n"
   ]
  },
  {
   "cell_type": "code",
   "execution_count": 95,
   "metadata": {
    "id": "15Oyc94eAgbj",
    "outputId": "56476576-365f-45b1-84ef-a8a35e252291"
   },
   "outputs": [
    {
     "data": {
      "text/plain": [
       "datetime.datetime(2024, 11, 5, 23, 15, 41, 81444)"
      ]
     },
     "execution_count": 95,
     "metadata": {},
     "output_type": "execute_result"
    }
   ],
   "source": [
    "# Calculate the future datetime\n",
    "\n",
    "current_datetime + timedelta(weeks=2, days=3, hours=4, minutes=10)"
   ]
  },
  {
   "cell_type": "markdown",
   "metadata": {},
   "source": [
    "- **``Current Date and Time``**: Displays the exact moment when the code was executed.\n",
    "Future Date and Time``**: Shows the date and time that results from adding 2 weeks, 3 days, 4 hours, and 10 minutes to the current date and time.\n",
    "\n",
    "**``Key Points:``**\n",
    "- **``Date Arithmetic``**: This operation demonstrates how to perform complex date arithmetic using **``multiple parameters in timedelta``**.\n",
    "- **``Flexible Calculation``**: We can adjust any of the parameters (weeks, days, hours, minutes) to suit our needs.\n",
    "- **``Use Cases``**: Useful in scheduling tasks, setting reminders, or calculating future deadlines based on various time intervals.\n",
    "\n",
    "<p style=\"background-color:#FFFFFF; font-family:newtimeroman; color:#0000FF; font-size:110%; text-align:left;\"><strong>-----------------------------------------------------------------------------------------------------------------------------------------------------------------------------------------------</strong></p>\n",
    "\n",
    "**The following code prints formatted output showing the ``current date and time``, the ``duration to be added``, and the ``total future date and time`` after adding the duration.**\n"
   ]
  },
  {
   "cell_type": "code",
   "execution_count": 96,
   "metadata": {
    "id": "TXjE5tegAgbj",
    "outputId": "5db56059-7a6d-4e69-9bb4-48f95815f7a7"
   },
   "outputs": [
    {
     "name": "stdout",
     "output_type": "stream",
     "text": [
      "Current Date   : 2024-10-19 19:05:41.081444\n",
      "Additional Time: 14 days, 4:10:00\n",
      "Future Date    : 2024-11-05 23:15:41.081444\n"
     ]
    }
   ],
   "source": [
    "print(f\"{'Current Date': <15}:\", current_datetime)\n",
    "\n",
    "print(f\"{'Additional Time': <15}:\", timedelta(weeks=2, hours=4, minutes=10))\n",
    "\n",
    "print(f\"{'Future Date': <15}:\", current_datetime + timedelta(weeks=2, days=3, hours=4, minutes=10))"
   ]
  },
  {
   "cell_type": "markdown",
   "metadata": {},
   "source": [
    "- **``Current Date``**: Displays the current date and time stored in current_datetime.\n",
    "- **``Additional Time``**: Shows the timedelta object representing the duration to be added, formatted as 14 days, 4:10:00 (2 weeks equals 14 days).\n",
    "- **``Future Date``**: Represents the future date and time after adding 2 weeks, 3 days, 4 hours, and 10 minutes to the current datetime.\n",
    "\n",
    "**``Key Points:``**\n",
    "- **``Formatted Output``**: The f\"{'label': <15}\" syntax formats the string labels to be left-aligned within a width of 15 characters, ensuring a neat and organized appearance.\n",
    "- **``Dynamic Calculation``**: Each time we run this code, it will calculate the current date and the future date based on the current moment, making it dynamic.\n",
    "- **``Use Cases``**: This formatting is useful for displaying results in a readable format, especially in reports or logs.\n",
    "\n",
    "<p style=\"background-color:#FFFFFF; font-family:newtimeroman; color:#0000FF; font-size:110%; text-align:left;\"><strong>-----------------------------------------------------------------------------------------------------------------------------------------------------------------------------------------------</strong></p>\n",
    "\n"
   ]
  },
  {
   "cell_type": "markdown",
   "metadata": {
    "id": "YRflJN_MAgbj"
   },
   "source": [
    "### <p style=\"background-color:#FFFFFF; font-family:newtimeroman; color:#008000; font-size:125%; text-align:left;\"><strong>strftime()</strong></p>\n",
    "\n",
    "- **Converting** from date/datetime/timedelta object **to string type** [SOURCE](https://strftime.org/)\n",
    "\n",
    "The **``strftime()``** method in **``Python's datetime module``** is used to format datetime objects into **``readable strings``** according to specified format codes. This method allows us to create custom date and time representations, making it easier to display or log datetime information in a desired format. By using format strings, we can control the output to include components like year, month, day, hour, minute, second, and more, tailored to your application's needs.\n",
    "\n",
    "<p style=\"background-color:#FFFFFF; font-family:newtimeroman; color:#0000FF; font-size:110%; text-align:left;\"><strong>-----------------------------------------------------------------------------------------------------------------------------------------------------------------------------------------------</strong></p>\n",
    "\n"
   ]
  },
  {
   "cell_type": "code",
   "execution_count": 97,
   "metadata": {
    "id": "gGRCO7cHAgbk",
    "outputId": "0d6f9d7f-500d-42c8-bbfe-c62a3099242d"
   },
   "outputs": [
    {
     "data": {
      "text/plain": [
       "datetime.datetime(2024, 10, 19, 19, 5, 41, 81444)"
      ]
     },
     "execution_count": 97,
     "metadata": {},
     "output_type": "execute_result"
    }
   ],
   "source": [
    "# Let's remember our current_datetime Object\n",
    "\n",
    "current_datetime"
   ]
  },
  {
   "cell_type": "markdown",
   "metadata": {},
   "source": [
    "\n",
    "\n",
    "<p style=\"background-color:#FFFFFF; font-family:newtimeroman; color:#0000FF; font-size:110%; text-align:left;\"><strong>-----------------------------------------------------------------------------------------------------------------------------------------------------------------------------------------------</strong></p>\n",
    "\n"
   ]
  },
  {
   "cell_type": "code",
   "execution_count": 98,
   "metadata": {
    "id": "fPS-2MP9Agbk",
    "outputId": "7f017741-c6fd-4797-d777-81a30eccffb8"
   },
   "outputs": [
    {
     "name": "stdout",
     "output_type": "stream",
     "text": [
      "2024-10-19 19:05:41.081444\n"
     ]
    }
   ],
   "source": [
    "print(current_datetime)"
   ]
  },
  {
   "cell_type": "markdown",
   "metadata": {},
   "source": [
    "- **``Date Part``**: This part represents the date in the format YYYY-MM-DD, indicating the year, month, and day.\n",
    "- **``Time Part``**: This section represents the time in the format HH:MM:SS, indicating the hour, minute, and second.\n",
    "- **``Nano Seconds Part``**: This number represents the microseconds, providing a high level of precision for the time.\n",
    "\n",
    "**``Key Points:``**\n",
    "- **``Datetime Object``**: The output is a representation of the datetime object, showcasing both the date and time components.\n",
    "- **``Precision``**: The inclusion of microseconds allows for very precise measurements, which can be useful in applications requiring detailed time tracking.\n",
    "\n",
    "<p style=\"background-color:#FFFFFF; font-family:newtimeroman; color:#0000FF; font-size:110%; text-align:left;\"><strong>-----------------------------------------------------------------------------------------------------------------------------------------------------------------------------------------------</strong></p>\n",
    "\n",
    "**The following expression **``extracts the year``** component from a datetime object stored in the variable current_datetime.**\n",
    "- This provides a simple way to access just the year without needing to manipulate the entire datetime."
   ]
  },
  {
   "cell_type": "code",
   "execution_count": 99,
   "metadata": {},
   "outputs": [
    {
     "data": {
      "text/plain": [
       "2024"
      ]
     },
     "execution_count": 99,
     "metadata": {},
     "output_type": "execute_result"
    }
   ],
   "source": [
    "# Extract the year\n",
    "\n",
    "current_datetime.year"
   ]
  },
  {
   "cell_type": "markdown",
   "metadata": {},
   "source": [
    "\n",
    "\n",
    "<p style=\"background-color:#FFFFFF; font-family:newtimeroman; color:#0000FF; font-size:110%; text-align:left;\"><strong>-----------------------------------------------------------------------------------------------------------------------------------------------------------------------------------------------</strong></p>\n",
    "\n",
    "**The following code returns type of datetime object stored in the variable current_datetime.**\n",
    "- It returns <class 'int'>, indicating that the result of current_datetime.year is of type int."
   ]
  },
  {
   "cell_type": "code",
   "execution_count": 100,
   "metadata": {},
   "outputs": [
    {
     "data": {
      "text/plain": [
       "int"
      ]
     },
     "execution_count": 100,
     "metadata": {},
     "output_type": "execute_result"
    }
   ],
   "source": [
    "# Extract the year and check its type\n",
    "\n",
    "type(current_datetime.year)  # This is datetime.datetime class provided by Datetime Module"
   ]
  },
  {
   "cell_type": "markdown",
   "metadata": {},
   "source": [
    "\n",
    "\n",
    "<p style=\"background-color:#FFFFFF; font-family:newtimeroman; color:#0000FF; font-size:110%; text-align:left;\"><strong>-----------------------------------------------------------------------------------------------------------------------------------------------------------------------------------------------</strong></p>\n",
    "\n",
    "<p style=\"background-color:#FFFFFF; font-family:newtimeroman; color:#FF0000; font-size:125%; text-align:left;\"><strong>⚠️ Watch out the difference ❗❗❗</strong></p>\n",
    "\n",
    "**The following expression ``formats the current_datetime object`` to return the ``year as a string`` in four-digit format.**\n",
    "- The strftime() method allows you to specify a format using format codes."
   ]
  },
  {
   "cell_type": "code",
   "execution_count": 101,
   "metadata": {
    "id": "tbczih7VAgbk",
    "outputId": "5d069c60-a25e-4428-b3b8-f57335132e8c"
   },
   "outputs": [
    {
     "data": {
      "text/plain": [
       "'2024'"
      ]
     },
     "execution_count": 101,
     "metadata": {},
     "output_type": "execute_result"
    }
   ],
   "source": [
    "# Format the year as a string\n",
    "\n",
    "current_datetime.strftime(\"%Y\")  # This is a strftime(format) method provided by Datetime Module"
   ]
  },
  {
   "cell_type": "markdown",
   "metadata": {},
   "source": [
    "- **``%Y``**: This format code represents the year with century as a decimal number (e.g., 2024).\n",
    "- **``String Output``**: The result is a string representing the year, which can be useful for display purposes or when formatting data for reports.\n",
    "- **``Customization``**: We can combine %Y with other format codes to create more complex date and time strings (e.g., \"%Y-%m-%d %H:%M\" for a full timestamp).\n",
    "\n",
    "<p style=\"background-color:#FFFFFF; font-family:newtimeroman; color:#0000FF; font-size:110%; text-align:left;\"><strong>-----------------------------------------------------------------------------------------------------------------------------------------------------------------------------------------------</strong></p>\n",
    "\n",
    "**The following code returns type of the formatted year.**"
   ]
  },
  {
   "cell_type": "code",
   "execution_count": 102,
   "metadata": {},
   "outputs": [
    {
     "data": {
      "text/plain": [
       "str"
      ]
     },
     "execution_count": 102,
     "metadata": {},
     "output_type": "execute_result"
    }
   ],
   "source": [
    "# Check the type of the formatted year\n",
    "\n",
    "type(current_datetime.strftime(\"%Y\"))"
   ]
  },
  {
   "cell_type": "markdown",
   "metadata": {},
   "source": [
    "\n",
    "\n",
    "<p style=\"background-color:#FFFFFF; font-family:newtimeroman; color:#0000FF; font-size:110%; text-align:left;\"><strong>-----------------------------------------------------------------------------------------------------------------------------------------------------------------------------------------------</strong></p>\n",
    "\n"
   ]
  },
  {
   "cell_type": "code",
   "execution_count": 103,
   "metadata": {},
   "outputs": [
    {
     "name": "stdout",
     "output_type": "stream",
     "text": [
      "Current Year        : 2024\n",
      "Current Month       : 10\n",
      "Current Day         : 19\n",
      "Current Time        : 19:05:41\n",
      "Current Date & Time : 10/19/2024, 19:05:41\n"
     ]
    }
   ],
   "source": [
    "# Store the current local date and time\n",
    "current_datetime = datetime.now()\n",
    "\n",
    "# Extract and format year\n",
    "year = current_datetime.strftime(\"%Y\")\n",
    "print(f\"{'Current Year': <20}:\", year)\n",
    "\n",
    "# Extract and format month\n",
    "month = current_datetime.strftime(\"%m\")\n",
    "print(f\"{'Current Month': <20}:\", month)\n",
    "\n",
    "# Extract and format day\n",
    "day = current_datetime.strftime(\"%d\")\n",
    "print(f\"{'Current Day': <20}:\", day)\n",
    "\n",
    "# Extract and format time\n",
    "time = current_datetime.strftime(\"%H:%M:%S\")\n",
    "print(f\"{'Current Time': <20}:\", time)\n",
    "\n",
    "\n",
    "# Extract and format date and time\n",
    "date_time = current_datetime.strftime(\"%m/%d/%Y, %H:%M:%S\")\n",
    "print(f\"{'Current Date & Time': <20}:\", date_time)"
   ]
  },
  {
   "cell_type": "markdown",
   "metadata": {},
   "source": [
    "\n",
    "\n",
    "<p style=\"background-color:#FFFFFF; font-family:newtimeroman; color:#0000FF; font-size:110%; text-align:left;\"><strong>-----------------------------------------------------------------------------------------------------------------------------------------------------------------------------------------------</strong></p>\n",
    "\n"
   ]
  },
  {
   "cell_type": "markdown",
   "metadata": {
    "id": "N95SRJrdAgbl"
   },
   "source": [
    "### <p style=\"background-color:#FFFFFF; font-family:newtimeroman; color:#008000; font-size:125%; text-align:left;\"><strong>strptime()</strong></p>\n",
    "\n",
    "- **Converting** from string type **to datetime object**\n",
    "\n",
    "The **``strptime()``** method in **``Python's datetime module``** is used to **``parse a string representation of a date and time``** into a **``datetime object``**. This method allows us to **``convert strings formatted according to specific patterns into datetime objects``**, enabling easy manipulation and calculation of dates and times. By specifying a format string that matches the structure of the input string, we can accurately interpret and work with various date-time formats.\n",
    "\n",
    "<p style=\"background-color:#FFFFFF; font-family:newtimeroman; color:#0000FF; font-size:110%; text-align:left;\"><strong>-----------------------------------------------------------------------------------------------------------------------------------------------------------------------------------------------</strong></p>\n",
    "\n",
    "**The following expression ``converts the string date into a datetime object`` using the strptime() method**\n"
   ]
  },
  {
   "cell_type": "code",
   "execution_count": 104,
   "metadata": {
    "id": "EjZffScrAgbl",
    "outputId": "ae48a780-cf7f-4c6f-aceb-13c94cbd31a3"
   },
   "outputs": [
    {
     "data": {
      "text/plain": [
       "'21 June, 2018'"
      ]
     },
     "execution_count": 104,
     "metadata": {},
     "output_type": "execute_result"
    }
   ],
   "source": [
    "# Parse the string into a datetime object\n",
    "date_string = \"21 June, 2018\"\n",
    "\n",
    "# Display the parsed datetime object\n",
    "date_string"
   ]
  },
  {
   "cell_type": "markdown",
   "metadata": {},
   "source": [
    "- **``%d``**: Day of the month as a zero-padded decimal number (01 to 31).\n",
    "- **``%B``**: Full month name (e.g., January, February, ..., June).\n",
    "- **``%Y``**: Year with century as a decimal number (e.g., 2018).\n",
    "\n",
    "\n",
    "  - **``Conversion``**: The strptime() method successfully converts the date string into a datetime object, which can be used for further manipulation and calculations.\n",
    "  - **``Format Matching``**: It’s crucial to ensure that the format string matches the structure of the date string for accurate parsing.\n",
    "\n",
    "\n",
    "<p style=\"background-color:#FFFFFF; font-family:newtimeroman; color:#0000FF; font-size:110%; text-align:left;\"><strong>-----------------------------------------------------------------------------------------------------------------------------------------------------------------------------------------------</strong></p>\n",
    "\n",
    "**The following expression converts a date string into a datetime object.**\n"
   ]
  },
  {
   "cell_type": "code",
   "execution_count": 105,
   "metadata": {
    "id": "ij8nVxsNAgbl",
    "outputId": "c0e3ec48-d0b7-4971-91e1-c5366872a583"
   },
   "outputs": [
    {
     "data": {
      "text/plain": [
       "datetime.datetime(2018, 6, 21, 0, 0)"
      ]
     },
     "execution_count": 105,
     "metadata": {},
     "output_type": "execute_result"
    }
   ],
   "source": [
    "datetime.strptime(date_string, \"%d %B, %Y\")\n",
    "\n",
    "# datetime.strptime(date_string) # gives an error"
   ]
  },
  {
   "cell_type": "markdown",
   "metadata": {},
   "source": [
    "- **``date_string``**: The string you want to convert, e.g., \"21 June, 2018\".\n",
    "- **``\"%d %B, %Y\"``**: The format string that specifies how the components of the date string are laid out:\n",
    "  - **``%d``**: Day of the month as a zero-padded decimal number (01 to 31).\n",
    "  - **``%B``**: Full month name (e.g., January, February, ..., June).\n",
    "  - **``%Y``**: Year with century as a decimal number (e.g., 2018).\n",
    "\n",
    "- **``Conversion``**: strptime() successfully converts the string representation of the date into a datetime object, allowing for date manipulations and calculations.\n",
    "- **``Use Cases``**: This method is useful for processing user input dates, reading dates from files, or converting formatted date strings from APIs.\n",
    "\n",
    "<p style=\"background-color:#FFFFFF; font-family:newtimeroman; color:#0000FF; font-size:110%; text-align:left;\"><strong>-----------------------------------------------------------------------------------------------------------------------------------------------------------------------------------------------</strong></p>\n",
    "\n",
    "**The following function ``converts a string representation of a date`` (or a list/array of date strings) into a ``datetime object`` or a series of datetime objects.**\n",
    "- This function is particularly useful for data analysis, where we may need to handle dates in various formats."
   ]
  },
  {
   "cell_type": "code",
   "execution_count": 106,
   "metadata": {
    "id": "KJEoBpAUAgbl",
    "outputId": "50ae0479-0052-40fb-f786-1f3bd45ab491"
   },
   "outputs": [
    {
     "data": {
      "text/plain": [
       "Timestamp('2018-06-21 00:00:00')"
      ]
     },
     "execution_count": 106,
     "metadata": {},
     "output_type": "execute_result"
    }
   ],
   "source": [
    "# Convert the string to a datetime object\n",
    "\n",
    "pd.to_datetime(date_string)"
   ]
  },
  {
   "cell_type": "markdown",
   "metadata": {},
   "source": [
    "- **``date_string``**: A string representing a date, such as \"21 June, 2018\".\n",
    "- **``pd.to_datetime(date_string)``**: This function attempts to parse the string and convert it into a Timestamp object (which is Pandas' equivalent of a datetime object).\n",
    "\n",
    "- **``Flexibility``**: pd.to_datetime() can handle a variety of date formats, making it more versatile than standard strptime() in certain cases.\n",
    "- **``Error Handling``**: It can also handle errors gracefully with parameters like errors='coerce', which will convert unparseable dates to NaT (Not a Time).\n",
    "- **``Use Cases``**: This function is commonly used when loading datasets that contain date information, making it easier to analyze time series data\n",
    "\n",
    "<p style=\"background-color:#FFFFFF; font-family:newtimeroman; color:#0000FF; font-size:110%; text-align:left;\"><strong>-----------------------------------------------------------------------------------------------------------------------------------------------------------------------------------------------</strong></p>\n",
    "\n",
    "**The following expression ``converts a date string into a datetime object`` using the strptime() method from Python's datetime module.**\n",
    "- This allows us to create a datetime object that can be used for various date and time manipulations."
   ]
  },
  {
   "cell_type": "code",
   "execution_count": 107,
   "metadata": {
    "id": "cgxoZ7hMAgbm",
    "outputId": "98fb0dc0-5a4d-4bff-abe6-00acbe0267ea"
   },
   "outputs": [
    {
     "data": {
      "text/plain": [
       "datetime.datetime(2018, 6, 21, 0, 0)"
      ]
     },
     "execution_count": 107,
     "metadata": {},
     "output_type": "execute_result"
    }
   ],
   "source": [
    "# Parse the string into a datetime object\n",
    "datetime_object = datetime.strptime(date_string, \"%d %B, %Y\")\n",
    "\n",
    "# Display the resulting datetime object\n",
    "datetime_object"
   ]
  },
  {
   "cell_type": "markdown",
   "metadata": {},
   "source": [
    "\n",
    "\n",
    "<p style=\"background-color:#FFFFFF; font-family:newtimeroman; color:#0000FF; font-size:110%; text-align:left;\"><strong>-----------------------------------------------------------------------------------------------------------------------------------------------------------------------------------------------</strong></p>\n",
    "\n",
    "**The following code returns type of the datetime_object.**"
   ]
  },
  {
   "cell_type": "code",
   "execution_count": 108,
   "metadata": {},
   "outputs": [
    {
     "data": {
      "text/plain": [
       "datetime.datetime"
      ]
     },
     "execution_count": 108,
     "metadata": {},
     "output_type": "execute_result"
    }
   ],
   "source": [
    "type(datetime_object)"
   ]
  },
  {
   "cell_type": "markdown",
   "metadata": {},
   "source": [
    "- **``date_string``**: The string you want to convert, e.g., \"21 June, 2018\".\n",
    "- **``\"%d %B, %Y\"``**: The format string that specifies how the components of the date string are arranged:\n",
    "  - **``%d``**: Day of the month as a zero-padded decimal number (01 to 31).\n",
    "  - **``%B``**: Full month name (e.g., January, February, ..., June).\n",
    "  - **``%Y``**: Year with century as a decimal number (e.g., 2018).\n",
    "\n",
    "- **``Conversion``**: The strptime() method successfully converts the string representation of the date into a datetime object, allowing for further manipulation and calculations.\n",
    "- **``Error Handling``**: If the string does NOT match the specified format, a ValueError will be raised, so it's important to ensure that the format string matches the date string exactly.\n",
    "- **``Use Cases``**: This method is useful for parsing dates from user input, files, or APIs where dates are provided in string format.\n",
    "\n",
    "<p style=\"background-color:#FFFFFF; font-family:newtimeroman; color:#0000FF; font-size:110%; text-align:left;\"><strong>-----------------------------------------------------------------------------------------------------------------------------------------------------------------------------------------------</strong></p>\n",
    "\n",
    "**The following expression ``access the year component`` of a datetime object.**\n",
    "- When we parse a date string into a datetime object using strptime(), we can easily retrieve individual components such as the year, month, day, hour, minute, and second."
   ]
  },
  {
   "cell_type": "code",
   "execution_count": 109,
   "metadata": {
    "id": "eGrHITqrAgbm",
    "outputId": "e065943a-29c3-427c-9cbb-7b543c4b1a01"
   },
   "outputs": [
    {
     "data": {
      "text/plain": [
       "2018"
      ]
     },
     "execution_count": 109,
     "metadata": {},
     "output_type": "execute_result"
    }
   ],
   "source": [
    "# Extract the year\n",
    "\n",
    "datetime_object.year"
   ]
  },
  {
   "cell_type": "markdown",
   "metadata": {},
   "source": [
    "- **``Year Value``**: The result is an integer representing the year (e.g., 2018).\n",
    "- **``Direct Access``**: This attribute allows us to quickly access the year without additional formatting or calculations.\n",
    "- **``Use Cases``**: Useful for filtering data, performing calculations based on the year, or logging purposes.\n",
    "\n",
    "<p style=\"background-color:#FFFFFF; font-family:newtimeroman; color:#0000FF; font-size:110%; text-align:left;\"><strong>-----------------------------------------------------------------------------------------------------------------------------------------------------------------------------------------------</strong></p>\n",
    "\n"
   ]
  },
  {
   "cell_type": "markdown",
   "metadata": {
    "id": "55c9Nc5JAgbm"
   },
   "source": [
    "## <p style=\"background-color:#E51A59; font-family:newtimeroman; color:#FFF9ED; font-size:175%; text-align:center; border-radius:10px 10px;\">Operation with Datetime Object</p>\n",
    "\n",
    "<a id=\"3\"></a>\n",
    "<a href=\"#toc\" class=\"btn btn-primary btn-sm\" role=\"button\" aria-pressed=\"true\" \n",
    "style=\"color:blue; background-color:#dfa8e4\" data-toggle=\"popover\">Content</a>"
   ]
  },
  {
   "cell_type": "markdown",
   "metadata": {
    "id": "2ZJRyxn7Agbn"
   },
   "source": [
    "## Let's detect the time between first order date and entry date for each product"
   ]
  },
  {
   "cell_type": "code",
   "execution_count": 110,
   "metadata": {
    "id": "CKcY7U1qAgbn",
    "outputId": "7f8d874b-6a86-4eea-bae9-7a7b852f273e"
   },
   "outputs": [
    {
     "data": {
      "text/html": [
       "<div>\n",
       "<style scoped>\n",
       "    .dataframe tbody tr th:only-of-type {\n",
       "        vertical-align: middle;\n",
       "    }\n",
       "\n",
       "    .dataframe tbody tr th {\n",
       "        vertical-align: top;\n",
       "    }\n",
       "\n",
       "    .dataframe thead th {\n",
       "        text-align: right;\n",
       "    }\n",
       "</style>\n",
       "<table border=\"1\" class=\"dataframe\">\n",
       "  <thead>\n",
       "    <tr style=\"text-align: right;\">\n",
       "      <th></th>\n",
       "      <th>id_product</th>\n",
       "      <th>order_date</th>\n",
       "      <th>product_quantity</th>\n",
       "      <th>product_price</th>\n",
       "      <th>entry_date</th>\n",
       "    </tr>\n",
       "  </thead>\n",
       "  <tbody>\n",
       "    <tr>\n",
       "      <th>0</th>\n",
       "      <td>401</td>\n",
       "      <td>2021-01-23</td>\n",
       "      <td>1.0</td>\n",
       "      <td>541.487603</td>\n",
       "      <td>2018-12-04</td>\n",
       "    </tr>\n",
       "    <tr>\n",
       "      <th>1</th>\n",
       "      <td>416</td>\n",
       "      <td>2020-04-02</td>\n",
       "      <td>1.0</td>\n",
       "      <td>131.181818</td>\n",
       "      <td>2018-12-04</td>\n",
       "    </tr>\n",
       "    <tr>\n",
       "      <th>2</th>\n",
       "      <td>717</td>\n",
       "      <td>2019-03-10</td>\n",
       "      <td>1.0</td>\n",
       "      <td>2035.488500</td>\n",
       "      <td>2018-12-04</td>\n",
       "    </tr>\n",
       "    <tr>\n",
       "      <th>3</th>\n",
       "      <td>778</td>\n",
       "      <td>2019-12-27</td>\n",
       "      <td>1.0</td>\n",
       "      <td>335.988000</td>\n",
       "      <td>2018-12-04</td>\n",
       "    </tr>\n",
       "    <tr>\n",
       "      <th>4</th>\n",
       "      <td>826</td>\n",
       "      <td>2020-02-19</td>\n",
       "      <td>1.0</td>\n",
       "      <td>342.292302</td>\n",
       "      <td>2018-12-04</td>\n",
       "    </tr>\n",
       "    <tr>\n",
       "      <th>...</th>\n",
       "      <td>...</td>\n",
       "      <td>...</td>\n",
       "      <td>...</td>\n",
       "      <td>...</td>\n",
       "      <td>...</td>\n",
       "    </tr>\n",
       "    <tr>\n",
       "      <th>906</th>\n",
       "      <td>1536842</td>\n",
       "      <td>2020-11-24</td>\n",
       "      <td>1.0</td>\n",
       "      <td>1186.776860</td>\n",
       "      <td>2020-10-07</td>\n",
       "    </tr>\n",
       "    <tr>\n",
       "      <th>907</th>\n",
       "      <td>1536842</td>\n",
       "      <td>2020-11-24</td>\n",
       "      <td>1.0</td>\n",
       "      <td>1186.776860</td>\n",
       "      <td>2020-10-07</td>\n",
       "    </tr>\n",
       "    <tr>\n",
       "      <th>908</th>\n",
       "      <td>1536887</td>\n",
       "      <td>2020-11-22</td>\n",
       "      <td>1.0</td>\n",
       "      <td>0.000000</td>\n",
       "      <td>2020-11-13</td>\n",
       "    </tr>\n",
       "    <tr>\n",
       "      <th>909</th>\n",
       "      <td>1536952</td>\n",
       "      <td>2021-01-26</td>\n",
       "      <td>1.0</td>\n",
       "      <td>988.429752</td>\n",
       "      <td>2020-11-24</td>\n",
       "    </tr>\n",
       "    <tr>\n",
       "      <th>910</th>\n",
       "      <td>1536974</td>\n",
       "      <td>2020-12-06</td>\n",
       "      <td>1.0</td>\n",
       "      <td>0.000000</td>\n",
       "      <td>2020-11-26</td>\n",
       "    </tr>\n",
       "  </tbody>\n",
       "</table>\n",
       "<p>911 rows × 5 columns</p>\n",
       "</div>"
      ],
      "text/plain": [
       "     id_product order_date  product_quantity  product_price entry_date\n",
       "0           401 2021-01-23               1.0     541.487603 2018-12-04\n",
       "1           416 2020-04-02               1.0     131.181818 2018-12-04\n",
       "2           717 2019-03-10               1.0    2035.488500 2018-12-04\n",
       "3           778 2019-12-27               1.0     335.988000 2018-12-04\n",
       "4           826 2020-02-19               1.0     342.292302 2018-12-04\n",
       "..          ...        ...               ...            ...        ...\n",
       "906     1536842 2020-11-24               1.0    1186.776860 2020-10-07\n",
       "907     1536842 2020-11-24               1.0    1186.776860 2020-10-07\n",
       "908     1536887 2020-11-22               1.0       0.000000 2020-11-13\n",
       "909     1536952 2021-01-26               1.0     988.429752 2020-11-24\n",
       "910     1536974 2020-12-06               1.0       0.000000 2020-11-26\n",
       "\n",
       "[911 rows x 5 columns]"
      ]
     },
     "execution_count": 110,
     "metadata": {},
     "output_type": "execute_result"
    }
   ],
   "source": [
    "# Let's remember our DataFrame\n",
    "\n",
    "df"
   ]
  },
  {
   "cell_type": "markdown",
   "metadata": {},
   "source": [
    "\n",
    "\n",
    "<p style=\"background-color:#FFFFFF; font-family:newtimeroman; color:#0000FF; font-size:110%; text-align:left;\"><strong>-----------------------------------------------------------------------------------------------------------------------------------------------------------------------------------------------</strong></p>\n",
    "\n"
   ]
  },
  {
   "cell_type": "markdown",
   "metadata": {},
   "source": [
    "<p style=\"background-color:#FFFFFF; font-family:newtimeroman; color:#008000; font-size:125%; text-align:left;\"><strong>Let us do it by string methods:</strong></p>\n",
    "\n",
    "\n",
    "**The following expression ``calculates the difference between two date columns`` in a Pandas DataFrame: ``order_date`` and ``entry_date``.**\n",
    "- This operation results in a new Series that represents the duration between the two dates for each row."
   ]
  },
  {
   "cell_type": "code",
   "execution_count": 111,
   "metadata": {
    "id": "wOEBzezNAgbn",
    "outputId": "beee4e93-918a-481a-e840-a645ce807c23"
   },
   "outputs": [
    {
     "data": {
      "text/plain": [
       "0     781 days\n",
       "1     485 days\n",
       "2      96 days\n",
       "3     388 days\n",
       "4     442 days\n",
       "        ...   \n",
       "906    48 days\n",
       "907    48 days\n",
       "908     9 days\n",
       "909    63 days\n",
       "910    10 days\n",
       "Length: 911, dtype: timedelta64[ns]"
      ]
     },
     "execution_count": 111,
     "metadata": {},
     "output_type": "execute_result"
    }
   ],
   "source": [
    "df[\"order_date\"] - df[\"entry_date\"]"
   ]
  },
  {
   "cell_type": "markdown",
   "metadata": {},
   "source": [
    "\n",
    "\n",
    "<p style=\"background-color:#FFFFFF; font-family:newtimeroman; color:#0000FF; font-size:110%; text-align:left;\"><strong>-----------------------------------------------------------------------------------------------------------------------------------------------------------------------------------------------</strong></p>\n",
    "\n"
   ]
  },
  {
   "cell_type": "code",
   "execution_count": 112,
   "metadata": {
    "id": "gZ_EXm6tAgbn"
   },
   "outputs": [
    {
     "data": {
      "text/html": [
       "<div>\n",
       "<style scoped>\n",
       "    .dataframe tbody tr th:only-of-type {\n",
       "        vertical-align: middle;\n",
       "    }\n",
       "\n",
       "    .dataframe tbody tr th {\n",
       "        vertical-align: top;\n",
       "    }\n",
       "\n",
       "    .dataframe thead th {\n",
       "        text-align: right;\n",
       "    }\n",
       "</style>\n",
       "<table border=\"1\" class=\"dataframe\">\n",
       "  <thead>\n",
       "    <tr style=\"text-align: right;\">\n",
       "      <th></th>\n",
       "      <th>id_product</th>\n",
       "      <th>order_date</th>\n",
       "      <th>product_quantity</th>\n",
       "      <th>product_price</th>\n",
       "      <th>entry_date</th>\n",
       "      <th>time_delta</th>\n",
       "    </tr>\n",
       "  </thead>\n",
       "  <tbody>\n",
       "    <tr>\n",
       "      <th>0</th>\n",
       "      <td>401</td>\n",
       "      <td>2021-01-23</td>\n",
       "      <td>1.0</td>\n",
       "      <td>541.487603</td>\n",
       "      <td>2018-12-04</td>\n",
       "      <td>781 days</td>\n",
       "    </tr>\n",
       "    <tr>\n",
       "      <th>1</th>\n",
       "      <td>416</td>\n",
       "      <td>2020-04-02</td>\n",
       "      <td>1.0</td>\n",
       "      <td>131.181818</td>\n",
       "      <td>2018-12-04</td>\n",
       "      <td>485 days</td>\n",
       "    </tr>\n",
       "    <tr>\n",
       "      <th>2</th>\n",
       "      <td>717</td>\n",
       "      <td>2019-03-10</td>\n",
       "      <td>1.0</td>\n",
       "      <td>2035.488500</td>\n",
       "      <td>2018-12-04</td>\n",
       "      <td>96 days</td>\n",
       "    </tr>\n",
       "  </tbody>\n",
       "</table>\n",
       "</div>"
      ],
      "text/plain": [
       "   id_product order_date  product_quantity  product_price entry_date  \\\n",
       "0         401 2021-01-23               1.0     541.487603 2018-12-04   \n",
       "1         416 2020-04-02               1.0     131.181818 2018-12-04   \n",
       "2         717 2019-03-10               1.0    2035.488500 2018-12-04   \n",
       "\n",
       "  time_delta  \n",
       "0   781 days  \n",
       "1   485 days  \n",
       "2    96 days  "
      ]
     },
     "execution_count": 112,
     "metadata": {},
     "output_type": "execute_result"
    }
   ],
   "source": [
    "# Calculate the difference between order_date and entry_date and create a new feature named \"time_delta\"\n",
    "\n",
    "\n",
    "df[\"time_delta\"] = df[\"order_date\"] - df[\"entry_date\"]\n",
    "\n",
    "# Display the first three (3) entries in the updated DataFrame\n",
    "df.head(3)"
   ]
  },
  {
   "cell_type": "markdown",
   "metadata": {},
   "source": [
    "\n",
    "\n",
    "<p style=\"background-color:#FFFFFF; font-family:newtimeroman; color:#0000FF; font-size:110%; text-align:left;\"><strong>-----------------------------------------------------------------------------------------------------------------------------------------------------------------------------------------------</strong></p>\n",
    "\n",
    "**The following operations ``converts the time differences into an integer representation of the days``.**"
   ]
  },
  {
   "cell_type": "code",
   "execution_count": 113,
   "metadata": {
    "id": "EkOMcRAMAgbo",
    "outputId": "821172bf-4f4a-48ab-ac83-976233d63c6e"
   },
   "outputs": [
    {
     "data": {
      "text/plain": [
       "0      781\n",
       "1      485\n",
       "2       96\n",
       "3      388\n",
       "4      442\n",
       "      ... \n",
       "906     48\n",
       "907     48\n",
       "908      9\n",
       "909     63\n",
       "910     10\n",
       "Name: time_delta, Length: 911, dtype: int32"
      ]
     },
     "execution_count": 113,
     "metadata": {},
     "output_type": "execute_result"
    }
   ],
   "source": [
    "# Extract the number of days from the time_delta\n",
    "\n",
    "df[\"time_delta\"].astype(\"str\").str.split(\" \").str[0].astype(int)"
   ]
  },
  {
   "cell_type": "code",
   "execution_count": 114,
   "metadata": {
    "id": "B90q32nYAgbo",
    "outputId": "9e3670c8-85d8-4b43-c4af-3444306e3536"
   },
   "outputs": [
    {
     "data": {
      "text/html": [
       "<div>\n",
       "<style scoped>\n",
       "    .dataframe tbody tr th:only-of-type {\n",
       "        vertical-align: middle;\n",
       "    }\n",
       "\n",
       "    .dataframe tbody tr th {\n",
       "        vertical-align: top;\n",
       "    }\n",
       "\n",
       "    .dataframe thead th {\n",
       "        text-align: right;\n",
       "    }\n",
       "</style>\n",
       "<table border=\"1\" class=\"dataframe\">\n",
       "  <thead>\n",
       "    <tr style=\"text-align: right;\">\n",
       "      <th></th>\n",
       "      <th>id_product</th>\n",
       "      <th>order_date</th>\n",
       "      <th>product_quantity</th>\n",
       "      <th>product_price</th>\n",
       "      <th>entry_date</th>\n",
       "      <th>time_delta</th>\n",
       "    </tr>\n",
       "  </thead>\n",
       "  <tbody>\n",
       "    <tr>\n",
       "      <th>0</th>\n",
       "      <td>401</td>\n",
       "      <td>2021-01-23</td>\n",
       "      <td>1.0</td>\n",
       "      <td>541.487603</td>\n",
       "      <td>2018-12-04</td>\n",
       "      <td>781</td>\n",
       "    </tr>\n",
       "    <tr>\n",
       "      <th>1</th>\n",
       "      <td>416</td>\n",
       "      <td>2020-04-02</td>\n",
       "      <td>1.0</td>\n",
       "      <td>131.181818</td>\n",
       "      <td>2018-12-04</td>\n",
       "      <td>485</td>\n",
       "    </tr>\n",
       "    <tr>\n",
       "      <th>2</th>\n",
       "      <td>717</td>\n",
       "      <td>2019-03-10</td>\n",
       "      <td>1.0</td>\n",
       "      <td>2035.488500</td>\n",
       "      <td>2018-12-04</td>\n",
       "      <td>96</td>\n",
       "    </tr>\n",
       "    <tr>\n",
       "      <th>3</th>\n",
       "      <td>778</td>\n",
       "      <td>2019-12-27</td>\n",
       "      <td>1.0</td>\n",
       "      <td>335.988000</td>\n",
       "      <td>2018-12-04</td>\n",
       "      <td>388</td>\n",
       "    </tr>\n",
       "    <tr>\n",
       "      <th>4</th>\n",
       "      <td>826</td>\n",
       "      <td>2020-02-19</td>\n",
       "      <td>1.0</td>\n",
       "      <td>342.292302</td>\n",
       "      <td>2018-12-04</td>\n",
       "      <td>442</td>\n",
       "    </tr>\n",
       "    <tr>\n",
       "      <th>...</th>\n",
       "      <td>...</td>\n",
       "      <td>...</td>\n",
       "      <td>...</td>\n",
       "      <td>...</td>\n",
       "      <td>...</td>\n",
       "      <td>...</td>\n",
       "    </tr>\n",
       "    <tr>\n",
       "      <th>906</th>\n",
       "      <td>1536842</td>\n",
       "      <td>2020-11-24</td>\n",
       "      <td>1.0</td>\n",
       "      <td>1186.776860</td>\n",
       "      <td>2020-10-07</td>\n",
       "      <td>48</td>\n",
       "    </tr>\n",
       "    <tr>\n",
       "      <th>907</th>\n",
       "      <td>1536842</td>\n",
       "      <td>2020-11-24</td>\n",
       "      <td>1.0</td>\n",
       "      <td>1186.776860</td>\n",
       "      <td>2020-10-07</td>\n",
       "      <td>48</td>\n",
       "    </tr>\n",
       "    <tr>\n",
       "      <th>908</th>\n",
       "      <td>1536887</td>\n",
       "      <td>2020-11-22</td>\n",
       "      <td>1.0</td>\n",
       "      <td>0.000000</td>\n",
       "      <td>2020-11-13</td>\n",
       "      <td>9</td>\n",
       "    </tr>\n",
       "    <tr>\n",
       "      <th>909</th>\n",
       "      <td>1536952</td>\n",
       "      <td>2021-01-26</td>\n",
       "      <td>1.0</td>\n",
       "      <td>988.429752</td>\n",
       "      <td>2020-11-24</td>\n",
       "      <td>63</td>\n",
       "    </tr>\n",
       "    <tr>\n",
       "      <th>910</th>\n",
       "      <td>1536974</td>\n",
       "      <td>2020-12-06</td>\n",
       "      <td>1.0</td>\n",
       "      <td>0.000000</td>\n",
       "      <td>2020-11-26</td>\n",
       "      <td>10</td>\n",
       "    </tr>\n",
       "  </tbody>\n",
       "</table>\n",
       "<p>911 rows × 6 columns</p>\n",
       "</div>"
      ],
      "text/plain": [
       "     id_product order_date  product_quantity  product_price entry_date  \\\n",
       "0           401 2021-01-23               1.0     541.487603 2018-12-04   \n",
       "1           416 2020-04-02               1.0     131.181818 2018-12-04   \n",
       "2           717 2019-03-10               1.0    2035.488500 2018-12-04   \n",
       "3           778 2019-12-27               1.0     335.988000 2018-12-04   \n",
       "4           826 2020-02-19               1.0     342.292302 2018-12-04   \n",
       "..          ...        ...               ...            ...        ...   \n",
       "906     1536842 2020-11-24               1.0    1186.776860 2020-10-07   \n",
       "907     1536842 2020-11-24               1.0    1186.776860 2020-10-07   \n",
       "908     1536887 2020-11-22               1.0       0.000000 2020-11-13   \n",
       "909     1536952 2021-01-26               1.0     988.429752 2020-11-24   \n",
       "910     1536974 2020-12-06               1.0       0.000000 2020-11-26   \n",
       "\n",
       "     time_delta  \n",
       "0           781  \n",
       "1           485  \n",
       "2            96  \n",
       "3           388  \n",
       "4           442  \n",
       "..          ...  \n",
       "906          48  \n",
       "907          48  \n",
       "908           9  \n",
       "909          63  \n",
       "910          10  \n",
       "\n",
       "[911 rows x 6 columns]"
      ]
     },
     "execution_count": 114,
     "metadata": {},
     "output_type": "execute_result"
    }
   ],
   "source": [
    "# Extract the number of days from the time_delta and reassign it to itself\n",
    "df[\"time_delta\"] = df[\"time_delta\"].astype(\"str\").str.split(\" \").str[0].astype(int)\n",
    "\n",
    "# Display the first and last five (5) entries in the updated DataFrame\n",
    "df"
   ]
  },
  {
   "cell_type": "markdown",
   "metadata": {},
   "source": [
    "\n",
    "\n",
    "<p style=\"background-color:#FFFFFF; font-family:newtimeroman; color:#0000FF; font-size:110%; text-align:left;\"><strong>-----------------------------------------------------------------------------------------------------------------------------------------------------------------------------------------------</strong></p>\n",
    "\n",
    "**The following expression ``calculates the minimum value of the time_delta column`` for ``each group`` defined by the id_product column in the DataFrame.**\n",
    "- This operation is useful for summarizing data and understanding the smallest time difference associated with each product.\n"
   ]
  },
  {
   "cell_type": "code",
   "execution_count": 115,
   "metadata": {
    "id": "QMkMTe98Agbo",
    "outputId": "e33060a8-e99c-47bc-c506-47e9a8834e62",
    "scrolled": true
   },
   "outputs": [
    {
     "data": {
      "text/plain": [
       "id_product\n",
       "401        781\n",
       "416        485\n",
       "717         96\n",
       "778        388\n",
       "826        442\n",
       "          ... \n",
       "1536841     38\n",
       "1536842     48\n",
       "1536887      9\n",
       "1536952     63\n",
       "1536974     10\n",
       "Name: time_delta, Length: 498, dtype: int32"
      ]
     },
     "execution_count": 115,
     "metadata": {},
     "output_type": "execute_result"
    }
   ],
   "source": [
    "# Calculate the minimum time_delta for each id_product\n",
    "\n",
    "df.groupby(\"id_product\")[\"time_delta\"].min()"
   ]
  },
  {
   "cell_type": "markdown",
   "metadata": {},
   "source": [
    "<p style=\"background-color:#FFFFFF; font-family:newtimeroman; color:#0000FF; font-size:110%; text-align:left;\"><strong>-----------------------------------------------------------------------------------------------------------------------------------------------------------------------------------------------</strong></p>\n",
    "\n",
    "\n",
    "**The following expression ``computes the minimum value of the time_delta column`` for ``each group`` defined by the id_product column, and then it ``returns a Series that aligns with the original DataFrame``.**\n",
    "- This allows us to retain the structure of the DataFrame while adding a new column with the minimum values."
   ]
  },
  {
   "cell_type": "code",
   "execution_count": 116,
   "metadata": {},
   "outputs": [
    {
     "data": {
      "text/plain": [
       "0      781\n",
       "1      485\n",
       "2       96\n",
       "3      388\n",
       "4      442\n",
       "      ... \n",
       "906     48\n",
       "907     48\n",
       "908      9\n",
       "909     63\n",
       "910     10\n",
       "Name: time_delta, Length: 911, dtype: int32"
      ]
     },
     "execution_count": 116,
     "metadata": {},
     "output_type": "execute_result"
    }
   ],
   "source": [
    "# Calculate the minimum time_delta for each id_product and align with original DataFrame\n",
    "\n",
    "df.groupby(\"id_product\")[\"time_delta\"].transform(\"min\")"
   ]
  },
  {
   "cell_type": "markdown",
   "metadata": {},
   "source": [
    "\n",
    "\n",
    "<p style=\"background-color:#FFFFFF; font-family:newtimeroman; color:#0000FF; font-size:110%; text-align:left;\"><strong>-----------------------------------------------------------------------------------------------------------------------------------------------------------------------------------------------</strong></p>\n",
    "\n",
    "**The following code ``creates a new column`` in the DataFrame that represents the ``passing_time_to_firstsale`` for ``each product identified by id_product``.**\n",
    "- This provides insight into **``how long it takes for each product to reach its first sale``."
   ]
  },
  {
   "cell_type": "code",
   "execution_count": 117,
   "metadata": {
    "id": "soR1VcxyAgbp",
    "outputId": "de2d4d6d-b105-4815-96f9-123cd0f70f4f"
   },
   "outputs": [
    {
     "data": {
      "text/html": [
       "<div>\n",
       "<style scoped>\n",
       "    .dataframe tbody tr th:only-of-type {\n",
       "        vertical-align: middle;\n",
       "    }\n",
       "\n",
       "    .dataframe tbody tr th {\n",
       "        vertical-align: top;\n",
       "    }\n",
       "\n",
       "    .dataframe thead th {\n",
       "        text-align: right;\n",
       "    }\n",
       "</style>\n",
       "<table border=\"1\" class=\"dataframe\">\n",
       "  <thead>\n",
       "    <tr style=\"text-align: right;\">\n",
       "      <th></th>\n",
       "      <th>id_product</th>\n",
       "      <th>order_date</th>\n",
       "      <th>product_quantity</th>\n",
       "      <th>product_price</th>\n",
       "      <th>entry_date</th>\n",
       "      <th>time_delta</th>\n",
       "      <th>passing_time_to_firstsale</th>\n",
       "    </tr>\n",
       "  </thead>\n",
       "  <tbody>\n",
       "    <tr>\n",
       "      <th>0</th>\n",
       "      <td>401</td>\n",
       "      <td>2021-01-23</td>\n",
       "      <td>1.0</td>\n",
       "      <td>541.487603</td>\n",
       "      <td>2018-12-04</td>\n",
       "      <td>781</td>\n",
       "      <td>781</td>\n",
       "    </tr>\n",
       "    <tr>\n",
       "      <th>1</th>\n",
       "      <td>416</td>\n",
       "      <td>2020-04-02</td>\n",
       "      <td>1.0</td>\n",
       "      <td>131.181818</td>\n",
       "      <td>2018-12-04</td>\n",
       "      <td>485</td>\n",
       "      <td>485</td>\n",
       "    </tr>\n",
       "    <tr>\n",
       "      <th>2</th>\n",
       "      <td>717</td>\n",
       "      <td>2019-03-10</td>\n",
       "      <td>1.0</td>\n",
       "      <td>2035.488500</td>\n",
       "      <td>2018-12-04</td>\n",
       "      <td>96</td>\n",
       "      <td>96</td>\n",
       "    </tr>\n",
       "    <tr>\n",
       "      <th>3</th>\n",
       "      <td>778</td>\n",
       "      <td>2019-12-27</td>\n",
       "      <td>1.0</td>\n",
       "      <td>335.988000</td>\n",
       "      <td>2018-12-04</td>\n",
       "      <td>388</td>\n",
       "      <td>388</td>\n",
       "    </tr>\n",
       "    <tr>\n",
       "      <th>4</th>\n",
       "      <td>826</td>\n",
       "      <td>2020-02-19</td>\n",
       "      <td>1.0</td>\n",
       "      <td>342.292302</td>\n",
       "      <td>2018-12-04</td>\n",
       "      <td>442</td>\n",
       "      <td>442</td>\n",
       "    </tr>\n",
       "    <tr>\n",
       "      <th>...</th>\n",
       "      <td>...</td>\n",
       "      <td>...</td>\n",
       "      <td>...</td>\n",
       "      <td>...</td>\n",
       "      <td>...</td>\n",
       "      <td>...</td>\n",
       "      <td>...</td>\n",
       "    </tr>\n",
       "    <tr>\n",
       "      <th>906</th>\n",
       "      <td>1536842</td>\n",
       "      <td>2020-11-24</td>\n",
       "      <td>1.0</td>\n",
       "      <td>1186.776860</td>\n",
       "      <td>2020-10-07</td>\n",
       "      <td>48</td>\n",
       "      <td>48</td>\n",
       "    </tr>\n",
       "    <tr>\n",
       "      <th>907</th>\n",
       "      <td>1536842</td>\n",
       "      <td>2020-11-24</td>\n",
       "      <td>1.0</td>\n",
       "      <td>1186.776860</td>\n",
       "      <td>2020-10-07</td>\n",
       "      <td>48</td>\n",
       "      <td>48</td>\n",
       "    </tr>\n",
       "    <tr>\n",
       "      <th>908</th>\n",
       "      <td>1536887</td>\n",
       "      <td>2020-11-22</td>\n",
       "      <td>1.0</td>\n",
       "      <td>0.000000</td>\n",
       "      <td>2020-11-13</td>\n",
       "      <td>9</td>\n",
       "      <td>9</td>\n",
       "    </tr>\n",
       "    <tr>\n",
       "      <th>909</th>\n",
       "      <td>1536952</td>\n",
       "      <td>2021-01-26</td>\n",
       "      <td>1.0</td>\n",
       "      <td>988.429752</td>\n",
       "      <td>2020-11-24</td>\n",
       "      <td>63</td>\n",
       "      <td>63</td>\n",
       "    </tr>\n",
       "    <tr>\n",
       "      <th>910</th>\n",
       "      <td>1536974</td>\n",
       "      <td>2020-12-06</td>\n",
       "      <td>1.0</td>\n",
       "      <td>0.000000</td>\n",
       "      <td>2020-11-26</td>\n",
       "      <td>10</td>\n",
       "      <td>10</td>\n",
       "    </tr>\n",
       "  </tbody>\n",
       "</table>\n",
       "<p>911 rows × 7 columns</p>\n",
       "</div>"
      ],
      "text/plain": [
       "     id_product order_date  product_quantity  product_price entry_date  \\\n",
       "0           401 2021-01-23               1.0     541.487603 2018-12-04   \n",
       "1           416 2020-04-02               1.0     131.181818 2018-12-04   \n",
       "2           717 2019-03-10               1.0    2035.488500 2018-12-04   \n",
       "3           778 2019-12-27               1.0     335.988000 2018-12-04   \n",
       "4           826 2020-02-19               1.0     342.292302 2018-12-04   \n",
       "..          ...        ...               ...            ...        ...   \n",
       "906     1536842 2020-11-24               1.0    1186.776860 2020-10-07   \n",
       "907     1536842 2020-11-24               1.0    1186.776860 2020-10-07   \n",
       "908     1536887 2020-11-22               1.0       0.000000 2020-11-13   \n",
       "909     1536952 2021-01-26               1.0     988.429752 2020-11-24   \n",
       "910     1536974 2020-12-06               1.0       0.000000 2020-11-26   \n",
       "\n",
       "     time_delta  passing_time_to_firstsale  \n",
       "0           781                        781  \n",
       "1           485                        485  \n",
       "2            96                         96  \n",
       "3           388                        388  \n",
       "4           442                        442  \n",
       "..          ...                        ...  \n",
       "906          48                         48  \n",
       "907          48                         48  \n",
       "908           9                          9  \n",
       "909          63                         63  \n",
       "910          10                         10  \n",
       "\n",
       "[911 rows x 7 columns]"
      ]
     },
     "execution_count": 117,
     "metadata": {},
     "output_type": "execute_result"
    }
   ],
   "source": [
    "# Create a new column for the passing time to first sale\n",
    "df[\"passing_time_to_firstsale\"] = df.groupby(\"id_product\")[\"time_delta\"].transform(\"min\")\n",
    "\n",
    "# Display the updated DataFrame\n",
    "df"
   ]
  },
  {
   "cell_type": "markdown",
   "metadata": {},
   "source": [
    "\n",
    "\n",
    "<p style=\"background-color:#FFFFFF; font-family:newtimeroman; color:#0000FF; font-size:110%; text-align:left;\"><strong>-----------------------------------------------------------------------------------------------------------------------------------------------------------------------------------------------</strong></p>\n",
    "\n",
    "**The following method ``randomly select 10 rows`` from the DataFrame.**\n",
    "- This is useful for quickly examining a subset of our data without having to display the entire DataFrame, especially when working with large datasets."
   ]
  },
  {
   "cell_type": "code",
   "execution_count": 118,
   "metadata": {},
   "outputs": [
    {
     "data": {
      "text/html": [
       "<div>\n",
       "<style scoped>\n",
       "    .dataframe tbody tr th:only-of-type {\n",
       "        vertical-align: middle;\n",
       "    }\n",
       "\n",
       "    .dataframe tbody tr th {\n",
       "        vertical-align: top;\n",
       "    }\n",
       "\n",
       "    .dataframe thead th {\n",
       "        text-align: right;\n",
       "    }\n",
       "</style>\n",
       "<table border=\"1\" class=\"dataframe\">\n",
       "  <thead>\n",
       "    <tr style=\"text-align: right;\">\n",
       "      <th></th>\n",
       "      <th>id_product</th>\n",
       "      <th>order_date</th>\n",
       "      <th>product_quantity</th>\n",
       "      <th>product_price</th>\n",
       "      <th>entry_date</th>\n",
       "      <th>time_delta</th>\n",
       "      <th>passing_time_to_firstsale</th>\n",
       "    </tr>\n",
       "  </thead>\n",
       "  <tbody>\n",
       "    <tr>\n",
       "      <th>351</th>\n",
       "      <td>4283</td>\n",
       "      <td>2019-12-30</td>\n",
       "      <td>1.0</td>\n",
       "      <td>38.740363</td>\n",
       "      <td>2018-12-04</td>\n",
       "      <td>391</td>\n",
       "      <td>391</td>\n",
       "    </tr>\n",
       "    <tr>\n",
       "      <th>382</th>\n",
       "      <td>4525</td>\n",
       "      <td>2018-11-14</td>\n",
       "      <td>1.0</td>\n",
       "      <td>144.990000</td>\n",
       "      <td>2018-12-04</td>\n",
       "      <td>-20</td>\n",
       "      <td>-20</td>\n",
       "    </tr>\n",
       "    <tr>\n",
       "      <th>702</th>\n",
       "      <td>12900</td>\n",
       "      <td>2019-10-03</td>\n",
       "      <td>1.0</td>\n",
       "      <td>311.500000</td>\n",
       "      <td>2018-12-04</td>\n",
       "      <td>303</td>\n",
       "      <td>303</td>\n",
       "    </tr>\n",
       "    <tr>\n",
       "      <th>563</th>\n",
       "      <td>6791</td>\n",
       "      <td>2020-11-28</td>\n",
       "      <td>1.0</td>\n",
       "      <td>225.619835</td>\n",
       "      <td>2018-12-04</td>\n",
       "      <td>725</td>\n",
       "      <td>565</td>\n",
       "    </tr>\n",
       "    <tr>\n",
       "      <th>323</th>\n",
       "      <td>4166</td>\n",
       "      <td>2020-06-04</td>\n",
       "      <td>1.0</td>\n",
       "      <td>303.586800</td>\n",
       "      <td>2018-12-04</td>\n",
       "      <td>548</td>\n",
       "      <td>548</td>\n",
       "    </tr>\n",
       "    <tr>\n",
       "      <th>583</th>\n",
       "      <td>6918</td>\n",
       "      <td>2020-05-17</td>\n",
       "      <td>1.0</td>\n",
       "      <td>871.909091</td>\n",
       "      <td>2018-12-04</td>\n",
       "      <td>530</td>\n",
       "      <td>506</td>\n",
       "    </tr>\n",
       "    <tr>\n",
       "      <th>248</th>\n",
       "      <td>3766</td>\n",
       "      <td>2019-12-22</td>\n",
       "      <td>1.0</td>\n",
       "      <td>667.000000</td>\n",
       "      <td>2018-12-04</td>\n",
       "      <td>383</td>\n",
       "      <td>201</td>\n",
       "    </tr>\n",
       "    <tr>\n",
       "      <th>6</th>\n",
       "      <td>946</td>\n",
       "      <td>2019-08-09</td>\n",
       "      <td>1.0</td>\n",
       "      <td>597.988500</td>\n",
       "      <td>2018-12-04</td>\n",
       "      <td>248</td>\n",
       "      <td>248</td>\n",
       "    </tr>\n",
       "    <tr>\n",
       "      <th>675</th>\n",
       "      <td>12016</td>\n",
       "      <td>2019-05-06</td>\n",
       "      <td>3.0</td>\n",
       "      <td>411.842562</td>\n",
       "      <td>2018-12-04</td>\n",
       "      <td>153</td>\n",
       "      <td>153</td>\n",
       "    </tr>\n",
       "    <tr>\n",
       "      <th>5</th>\n",
       "      <td>916</td>\n",
       "      <td>2020-01-11</td>\n",
       "      <td>1.0</td>\n",
       "      <td>803.988000</td>\n",
       "      <td>2018-12-04</td>\n",
       "      <td>403</td>\n",
       "      <td>403</td>\n",
       "    </tr>\n",
       "  </tbody>\n",
       "</table>\n",
       "</div>"
      ],
      "text/plain": [
       "     id_product order_date  product_quantity  product_price entry_date  \\\n",
       "351        4283 2019-12-30               1.0      38.740363 2018-12-04   \n",
       "382        4525 2018-11-14               1.0     144.990000 2018-12-04   \n",
       "702       12900 2019-10-03               1.0     311.500000 2018-12-04   \n",
       "563        6791 2020-11-28               1.0     225.619835 2018-12-04   \n",
       "323        4166 2020-06-04               1.0     303.586800 2018-12-04   \n",
       "583        6918 2020-05-17               1.0     871.909091 2018-12-04   \n",
       "248        3766 2019-12-22               1.0     667.000000 2018-12-04   \n",
       "6           946 2019-08-09               1.0     597.988500 2018-12-04   \n",
       "675       12016 2019-05-06               3.0     411.842562 2018-12-04   \n",
       "5           916 2020-01-11               1.0     803.988000 2018-12-04   \n",
       "\n",
       "     time_delta  passing_time_to_firstsale  \n",
       "351         391                        391  \n",
       "382         -20                        -20  \n",
       "702         303                        303  \n",
       "563         725                        565  \n",
       "323         548                        548  \n",
       "583         530                        506  \n",
       "248         383                        201  \n",
       "6           248                        248  \n",
       "675         153                        153  \n",
       "5           403                        403  "
      ]
     },
     "execution_count": 118,
     "metadata": {},
     "output_type": "execute_result"
    }
   ],
   "source": [
    "# Randomly sample 10 rows from the DataFrame\n",
    "\n",
    "df.sample(10)"
   ]
  },
  {
   "cell_type": "markdown",
   "metadata": {},
   "source": [
    "\n",
    "\n",
    "<p style=\"background-color:#FFFFFF; font-family:newtimeroman; color:#0000FF; font-size:110%; text-align:left;\"><strong>-----------------------------------------------------------------------------------------------------------------------------------------------------------------------------------------------</strong></p>\n",
    "\n"
   ]
  },
  {
   "cell_type": "markdown",
   "metadata": {
    "id": "KQdwMBFqAgbp"
   },
   "source": [
    "## Let's detect the time between last order date and today for each product"
   ]
  },
  {
   "cell_type": "markdown",
   "metadata": {},
   "source": [
    "<p style=\"background-color:#FFFFFF; font-family:newtimeroman; color:#008000; font-size:125%; text-align:left;\"><strong>This time, let us do it by datetime properties:</strong></p>\n",
    "\n",
    "\n",
    "**The following expression ``finds the latest (maximum) order_date`` for ``each unique id_product`` in the DataFrame.**\n",
    "- This operation helps summarize the data by identifying the most recent order date associated with each product."
   ]
  },
  {
   "cell_type": "code",
   "execution_count": 119,
   "metadata": {
    "id": "60S9UvSXAgbp",
    "outputId": "85a20868-2f8d-4167-ec97-ad0a75d59ef9"
   },
   "outputs": [
    {
     "data": {
      "text/plain": [
       "id_product\n",
       "401       2021-01-23\n",
       "416       2020-04-02\n",
       "717       2019-03-10\n",
       "778       2019-12-27\n",
       "826       2020-02-19\n",
       "             ...    \n",
       "1536841   2020-11-22\n",
       "1536842   2020-11-24\n",
       "1536887   2020-11-22\n",
       "1536952   2021-01-26\n",
       "1536974   2020-12-06\n",
       "Name: order_date, Length: 498, dtype: datetime64[ns]"
      ]
     },
     "execution_count": 119,
     "metadata": {},
     "output_type": "execute_result"
    }
   ],
   "source": [
    "# Calculate the latest order date for each id_product\n",
    "\n",
    "df.groupby(\"id_product\").order_date.max()"
   ]
  },
  {
   "cell_type": "markdown",
   "metadata": {},
   "source": [
    "\n",
    "\n",
    "<p style=\"background-color:#FFFFFF; font-family:newtimeroman; color:#0000FF; font-size:110%; text-align:left;\"><strong>-----------------------------------------------------------------------------------------------------------------------------------------------------------------------------------------------</strong></p>\n",
    "\n",
    "**The following expression ``calculates the maximum (latest) order_date`` for ``each group defined by id_product``, and then it ``converts those dates to a date format`` (removing the time component).**"
   ]
  },
  {
   "cell_type": "code",
   "execution_count": 120,
   "metadata": {
    "id": "FMFLUGZWAgbq",
    "outputId": "6c01d007-04ec-4581-b9f2-73ecd07bcd86",
    "scrolled": true
   },
   "outputs": [
    {
     "data": {
      "text/plain": [
       "0      2021-01-23\n",
       "1      2020-04-02\n",
       "2      2019-03-10\n",
       "3      2019-12-27\n",
       "4      2020-02-19\n",
       "          ...    \n",
       "906    2020-11-24\n",
       "907    2020-11-24\n",
       "908    2020-11-22\n",
       "909    2021-01-26\n",
       "910    2020-12-06\n",
       "Name: order_date, Length: 911, dtype: object"
      ]
     },
     "execution_count": 120,
     "metadata": {},
     "output_type": "execute_result"
    }
   ],
   "source": [
    "# Calculate the latest order date for each id_product and convert to date\n",
    "\n",
    "df.groupby(\"id_product\").order_date.transform(\"max\").dt.date"
   ]
  },
  {
   "cell_type": "markdown",
   "metadata": {},
   "source": [
    "\n",
    "\n",
    "<p style=\"background-color:#FFFFFF; font-family:newtimeroman; color:#0000FF; font-size:110%; text-align:left;\"><strong>-----------------------------------------------------------------------------------------------------------------------------------------------------------------------------------------------</strong></p>\n",
    "\n",
    "**The following code ``compute`` the latest order date for each product`` in the DataFrame and ``convert those dates to a date format`` (removing the time component).**\n",
    "- This results in a Series that contains the latest order date for each row, based on the product ID."
   ]
  },
  {
   "cell_type": "code",
   "execution_count": 121,
   "metadata": {},
   "outputs": [],
   "source": [
    "# Calculate the latest order date for each id_product and convert to date then create a new feature\n",
    "\n",
    "last_order_date = df.groupby(\"id_product\").order_date.transform(\"max\").dt.date"
   ]
  },
  {
   "cell_type": "markdown",
   "metadata": {},
   "source": [
    "\n",
    "\n",
    "<p style=\"background-color:#FFFFFF; font-family:newtimeroman; color:#0000FF; font-size:110%; text-align:left;\"><strong>-----------------------------------------------------------------------------------------------------------------------------------------------------------------------------------------------</strong></p>\n",
    "\n",
    "**The following code ``converts a string representation of a date into a Python date object``.**"
   ]
  },
  {
   "cell_type": "code",
   "execution_count": 122,
   "metadata": {
    "id": "8HQJaqm3Agbq",
    "outputId": "2813c7f6-1f10-4aa5-d6d6-0b402cd08f7e"
   },
   "outputs": [
    {
     "name": "stdout",
     "output_type": "stream",
     "text": [
      "2021-02-27\n"
     ]
    }
   ],
   "source": [
    "# Convert string to date and assign it to \"today\"\n",
    "today = pd.to_datetime(\"27-02-2021\", format='%d-%m-%Y').date()\n",
    "\n",
    "print(today)"
   ]
  },
  {
   "cell_type": "markdown",
   "metadata": {},
   "source": [
    "\n",
    "\n",
    "<p style=\"background-color:#FFFFFF; font-family:newtimeroman; color:#0000FF; font-size:110%; text-align:left;\"><strong>-----------------------------------------------------------------------------------------------------------------------------------------------------------------------------------------------</strong></p>\n",
    "\n",
    "**The following expression ``calculates the difference between a specific date (represented by the variable today) and a Series of dates (represented by last_order_date)``.**\n",
    "- This operation yields a Series of timedelta objects, which represent the differences in days between the two dates."
   ]
  },
  {
   "cell_type": "code",
   "execution_count": 123,
   "metadata": {
    "id": "_VHumQbHAgbq",
    "outputId": "dbb4bd0e-b73d-45de-f082-24deff5e98e7"
   },
   "outputs": [
    {
     "data": {
      "text/plain": [
       "0       35 days, 0:00:00\n",
       "1      331 days, 0:00:00\n",
       "2      720 days, 0:00:00\n",
       "3      428 days, 0:00:00\n",
       "4      374 days, 0:00:00\n",
       "             ...        \n",
       "906     95 days, 0:00:00\n",
       "907     95 days, 0:00:00\n",
       "908     97 days, 0:00:00\n",
       "909     32 days, 0:00:00\n",
       "910     83 days, 0:00:00\n",
       "Name: order_date, Length: 911, dtype: object"
      ]
     },
     "execution_count": 123,
     "metadata": {},
     "output_type": "execute_result"
    }
   ],
   "source": [
    "# Calculate the difference between today and last_order_date\n",
    "\n",
    "today - last_order_date"
   ]
  },
  {
   "cell_type": "markdown",
   "metadata": {},
   "source": [
    "\n",
    "\n",
    "<p style=\"background-color:#FFFFFF; font-family:newtimeroman; color:#0000FF; font-size:110%; text-align:left;\"><strong>-----------------------------------------------------------------------------------------------------------------------------------------------------------------------------------------------</strong></p>\n",
    "\n",
    "**The following code ``creates a new column`` in the DataFrame that represents the ``time elapsed since the last order date for each product``.**"
   ]
  },
  {
   "cell_type": "code",
   "execution_count": 124,
   "metadata": {
    "id": "I8tCaY6JAgbq"
   },
   "outputs": [],
   "source": [
    "# Calculate the passing time from last sale\n",
    "\n",
    "df[\"passing_time_from_lastsale\"] = today - last_order_date"
   ]
  },
  {
   "cell_type": "markdown",
   "metadata": {},
   "source": [
    "\n",
    "\n",
    "<p style=\"background-color:#FFFFFF; font-family:newtimeroman; color:#0000FF; font-size:110%; text-align:left;\"><strong>-----------------------------------------------------------------------------------------------------------------------------------------------------------------------------------------------</strong></p>\n",
    "\n"
   ]
  },
  {
   "cell_type": "code",
   "execution_count": 125,
   "metadata": {},
   "outputs": [
    {
     "data": {
      "text/html": [
       "<div>\n",
       "<style scoped>\n",
       "    .dataframe tbody tr th:only-of-type {\n",
       "        vertical-align: middle;\n",
       "    }\n",
       "\n",
       "    .dataframe tbody tr th {\n",
       "        vertical-align: top;\n",
       "    }\n",
       "\n",
       "    .dataframe thead th {\n",
       "        text-align: right;\n",
       "    }\n",
       "</style>\n",
       "<table border=\"1\" class=\"dataframe\">\n",
       "  <thead>\n",
       "    <tr style=\"text-align: right;\">\n",
       "      <th></th>\n",
       "      <th>id_product</th>\n",
       "      <th>order_date</th>\n",
       "      <th>product_quantity</th>\n",
       "      <th>product_price</th>\n",
       "      <th>entry_date</th>\n",
       "      <th>time_delta</th>\n",
       "      <th>passing_time_to_firstsale</th>\n",
       "      <th>passing_time_from_lastsale</th>\n",
       "    </tr>\n",
       "  </thead>\n",
       "  <tbody>\n",
       "    <tr>\n",
       "      <th>0</th>\n",
       "      <td>401</td>\n",
       "      <td>2021-01-23</td>\n",
       "      <td>1.0</td>\n",
       "      <td>541.487603</td>\n",
       "      <td>2018-12-04</td>\n",
       "      <td>781</td>\n",
       "      <td>781</td>\n",
       "      <td>35 days, 0:00:00</td>\n",
       "    </tr>\n",
       "    <tr>\n",
       "      <th>1</th>\n",
       "      <td>416</td>\n",
       "      <td>2020-04-02</td>\n",
       "      <td>1.0</td>\n",
       "      <td>131.181818</td>\n",
       "      <td>2018-12-04</td>\n",
       "      <td>485</td>\n",
       "      <td>485</td>\n",
       "      <td>331 days, 0:00:00</td>\n",
       "    </tr>\n",
       "    <tr>\n",
       "      <th>2</th>\n",
       "      <td>717</td>\n",
       "      <td>2019-03-10</td>\n",
       "      <td>1.0</td>\n",
       "      <td>2035.488500</td>\n",
       "      <td>2018-12-04</td>\n",
       "      <td>96</td>\n",
       "      <td>96</td>\n",
       "      <td>720 days, 0:00:00</td>\n",
       "    </tr>\n",
       "    <tr>\n",
       "      <th>3</th>\n",
       "      <td>778</td>\n",
       "      <td>2019-12-27</td>\n",
       "      <td>1.0</td>\n",
       "      <td>335.988000</td>\n",
       "      <td>2018-12-04</td>\n",
       "      <td>388</td>\n",
       "      <td>388</td>\n",
       "      <td>428 days, 0:00:00</td>\n",
       "    </tr>\n",
       "    <tr>\n",
       "      <th>4</th>\n",
       "      <td>826</td>\n",
       "      <td>2020-02-19</td>\n",
       "      <td>1.0</td>\n",
       "      <td>342.292302</td>\n",
       "      <td>2018-12-04</td>\n",
       "      <td>442</td>\n",
       "      <td>442</td>\n",
       "      <td>374 days, 0:00:00</td>\n",
       "    </tr>\n",
       "    <tr>\n",
       "      <th>...</th>\n",
       "      <td>...</td>\n",
       "      <td>...</td>\n",
       "      <td>...</td>\n",
       "      <td>...</td>\n",
       "      <td>...</td>\n",
       "      <td>...</td>\n",
       "      <td>...</td>\n",
       "      <td>...</td>\n",
       "    </tr>\n",
       "    <tr>\n",
       "      <th>906</th>\n",
       "      <td>1536842</td>\n",
       "      <td>2020-11-24</td>\n",
       "      <td>1.0</td>\n",
       "      <td>1186.776860</td>\n",
       "      <td>2020-10-07</td>\n",
       "      <td>48</td>\n",
       "      <td>48</td>\n",
       "      <td>95 days, 0:00:00</td>\n",
       "    </tr>\n",
       "    <tr>\n",
       "      <th>907</th>\n",
       "      <td>1536842</td>\n",
       "      <td>2020-11-24</td>\n",
       "      <td>1.0</td>\n",
       "      <td>1186.776860</td>\n",
       "      <td>2020-10-07</td>\n",
       "      <td>48</td>\n",
       "      <td>48</td>\n",
       "      <td>95 days, 0:00:00</td>\n",
       "    </tr>\n",
       "    <tr>\n",
       "      <th>908</th>\n",
       "      <td>1536887</td>\n",
       "      <td>2020-11-22</td>\n",
       "      <td>1.0</td>\n",
       "      <td>0.000000</td>\n",
       "      <td>2020-11-13</td>\n",
       "      <td>9</td>\n",
       "      <td>9</td>\n",
       "      <td>97 days, 0:00:00</td>\n",
       "    </tr>\n",
       "    <tr>\n",
       "      <th>909</th>\n",
       "      <td>1536952</td>\n",
       "      <td>2021-01-26</td>\n",
       "      <td>1.0</td>\n",
       "      <td>988.429752</td>\n",
       "      <td>2020-11-24</td>\n",
       "      <td>63</td>\n",
       "      <td>63</td>\n",
       "      <td>32 days, 0:00:00</td>\n",
       "    </tr>\n",
       "    <tr>\n",
       "      <th>910</th>\n",
       "      <td>1536974</td>\n",
       "      <td>2020-12-06</td>\n",
       "      <td>1.0</td>\n",
       "      <td>0.000000</td>\n",
       "      <td>2020-11-26</td>\n",
       "      <td>10</td>\n",
       "      <td>10</td>\n",
       "      <td>83 days, 0:00:00</td>\n",
       "    </tr>\n",
       "  </tbody>\n",
       "</table>\n",
       "<p>911 rows × 8 columns</p>\n",
       "</div>"
      ],
      "text/plain": [
       "     id_product order_date  product_quantity  product_price entry_date  \\\n",
       "0           401 2021-01-23               1.0     541.487603 2018-12-04   \n",
       "1           416 2020-04-02               1.0     131.181818 2018-12-04   \n",
       "2           717 2019-03-10               1.0    2035.488500 2018-12-04   \n",
       "3           778 2019-12-27               1.0     335.988000 2018-12-04   \n",
       "4           826 2020-02-19               1.0     342.292302 2018-12-04   \n",
       "..          ...        ...               ...            ...        ...   \n",
       "906     1536842 2020-11-24               1.0    1186.776860 2020-10-07   \n",
       "907     1536842 2020-11-24               1.0    1186.776860 2020-10-07   \n",
       "908     1536887 2020-11-22               1.0       0.000000 2020-11-13   \n",
       "909     1536952 2021-01-26               1.0     988.429752 2020-11-24   \n",
       "910     1536974 2020-12-06               1.0       0.000000 2020-11-26   \n",
       "\n",
       "     time_delta  passing_time_to_firstsale passing_time_from_lastsale  \n",
       "0           781                        781           35 days, 0:00:00  \n",
       "1           485                        485          331 days, 0:00:00  \n",
       "2            96                         96          720 days, 0:00:00  \n",
       "3           388                        388          428 days, 0:00:00  \n",
       "4           442                        442          374 days, 0:00:00  \n",
       "..          ...                        ...                        ...  \n",
       "906          48                         48           95 days, 0:00:00  \n",
       "907          48                         48           95 days, 0:00:00  \n",
       "908           9                          9           97 days, 0:00:00  \n",
       "909          63                         63           32 days, 0:00:00  \n",
       "910          10                         10           83 days, 0:00:00  \n",
       "\n",
       "[911 rows x 8 columns]"
      ]
     },
     "execution_count": 125,
     "metadata": {},
     "output_type": "execute_result"
    }
   ],
   "source": [
    "# Display the updated DataFrame\n",
    "\n",
    "df"
   ]
  },
  {
   "cell_type": "markdown",
   "metadata": {},
   "source": [
    "\n",
    "\n",
    "<p style=\"background-color:#FFFFFF; font-family:newtimeroman; color:#0000FF; font-size:110%; text-align:left;\"><strong>-----------------------------------------------------------------------------------------------------------------------------------------------------------------------------------------------</strong></p>\n",
    "\n",
    "**The following code ``converts the passing_time_from_lastsale column``, which contains ``timedelta objects``, into an ``integer representation of days``.**"
   ]
  },
  {
   "cell_type": "code",
   "execution_count": 126,
   "metadata": {
    "id": "AwKG1Fc0Agbr",
    "outputId": "3e2b3258-392d-4ea0-f930-1f8ab8c9876c"
   },
   "outputs": [
    {
     "data": {
      "text/html": [
       "<div>\n",
       "<style scoped>\n",
       "    .dataframe tbody tr th:only-of-type {\n",
       "        vertical-align: middle;\n",
       "    }\n",
       "\n",
       "    .dataframe tbody tr th {\n",
       "        vertical-align: top;\n",
       "    }\n",
       "\n",
       "    .dataframe thead th {\n",
       "        text-align: right;\n",
       "    }\n",
       "</style>\n",
       "<table border=\"1\" class=\"dataframe\">\n",
       "  <thead>\n",
       "    <tr style=\"text-align: right;\">\n",
       "      <th></th>\n",
       "      <th>id_product</th>\n",
       "      <th>order_date</th>\n",
       "      <th>product_quantity</th>\n",
       "      <th>product_price</th>\n",
       "      <th>entry_date</th>\n",
       "      <th>time_delta</th>\n",
       "      <th>passing_time_to_firstsale</th>\n",
       "      <th>passing_time_from_lastsale</th>\n",
       "    </tr>\n",
       "  </thead>\n",
       "  <tbody>\n",
       "    <tr>\n",
       "      <th>0</th>\n",
       "      <td>401</td>\n",
       "      <td>2021-01-23</td>\n",
       "      <td>1.0</td>\n",
       "      <td>541.487603</td>\n",
       "      <td>2018-12-04</td>\n",
       "      <td>781</td>\n",
       "      <td>781</td>\n",
       "      <td>35</td>\n",
       "    </tr>\n",
       "    <tr>\n",
       "      <th>1</th>\n",
       "      <td>416</td>\n",
       "      <td>2020-04-02</td>\n",
       "      <td>1.0</td>\n",
       "      <td>131.181818</td>\n",
       "      <td>2018-12-04</td>\n",
       "      <td>485</td>\n",
       "      <td>485</td>\n",
       "      <td>331</td>\n",
       "    </tr>\n",
       "    <tr>\n",
       "      <th>2</th>\n",
       "      <td>717</td>\n",
       "      <td>2019-03-10</td>\n",
       "      <td>1.0</td>\n",
       "      <td>2035.488500</td>\n",
       "      <td>2018-12-04</td>\n",
       "      <td>96</td>\n",
       "      <td>96</td>\n",
       "      <td>720</td>\n",
       "    </tr>\n",
       "    <tr>\n",
       "      <th>3</th>\n",
       "      <td>778</td>\n",
       "      <td>2019-12-27</td>\n",
       "      <td>1.0</td>\n",
       "      <td>335.988000</td>\n",
       "      <td>2018-12-04</td>\n",
       "      <td>388</td>\n",
       "      <td>388</td>\n",
       "      <td>428</td>\n",
       "    </tr>\n",
       "    <tr>\n",
       "      <th>4</th>\n",
       "      <td>826</td>\n",
       "      <td>2020-02-19</td>\n",
       "      <td>1.0</td>\n",
       "      <td>342.292302</td>\n",
       "      <td>2018-12-04</td>\n",
       "      <td>442</td>\n",
       "      <td>442</td>\n",
       "      <td>374</td>\n",
       "    </tr>\n",
       "    <tr>\n",
       "      <th>...</th>\n",
       "      <td>...</td>\n",
       "      <td>...</td>\n",
       "      <td>...</td>\n",
       "      <td>...</td>\n",
       "      <td>...</td>\n",
       "      <td>...</td>\n",
       "      <td>...</td>\n",
       "      <td>...</td>\n",
       "    </tr>\n",
       "    <tr>\n",
       "      <th>906</th>\n",
       "      <td>1536842</td>\n",
       "      <td>2020-11-24</td>\n",
       "      <td>1.0</td>\n",
       "      <td>1186.776860</td>\n",
       "      <td>2020-10-07</td>\n",
       "      <td>48</td>\n",
       "      <td>48</td>\n",
       "      <td>95</td>\n",
       "    </tr>\n",
       "    <tr>\n",
       "      <th>907</th>\n",
       "      <td>1536842</td>\n",
       "      <td>2020-11-24</td>\n",
       "      <td>1.0</td>\n",
       "      <td>1186.776860</td>\n",
       "      <td>2020-10-07</td>\n",
       "      <td>48</td>\n",
       "      <td>48</td>\n",
       "      <td>95</td>\n",
       "    </tr>\n",
       "    <tr>\n",
       "      <th>908</th>\n",
       "      <td>1536887</td>\n",
       "      <td>2020-11-22</td>\n",
       "      <td>1.0</td>\n",
       "      <td>0.000000</td>\n",
       "      <td>2020-11-13</td>\n",
       "      <td>9</td>\n",
       "      <td>9</td>\n",
       "      <td>97</td>\n",
       "    </tr>\n",
       "    <tr>\n",
       "      <th>909</th>\n",
       "      <td>1536952</td>\n",
       "      <td>2021-01-26</td>\n",
       "      <td>1.0</td>\n",
       "      <td>988.429752</td>\n",
       "      <td>2020-11-24</td>\n",
       "      <td>63</td>\n",
       "      <td>63</td>\n",
       "      <td>32</td>\n",
       "    </tr>\n",
       "    <tr>\n",
       "      <th>910</th>\n",
       "      <td>1536974</td>\n",
       "      <td>2020-12-06</td>\n",
       "      <td>1.0</td>\n",
       "      <td>0.000000</td>\n",
       "      <td>2020-11-26</td>\n",
       "      <td>10</td>\n",
       "      <td>10</td>\n",
       "      <td>83</td>\n",
       "    </tr>\n",
       "  </tbody>\n",
       "</table>\n",
       "<p>911 rows × 8 columns</p>\n",
       "</div>"
      ],
      "text/plain": [
       "     id_product order_date  product_quantity  product_price entry_date  \\\n",
       "0           401 2021-01-23               1.0     541.487603 2018-12-04   \n",
       "1           416 2020-04-02               1.0     131.181818 2018-12-04   \n",
       "2           717 2019-03-10               1.0    2035.488500 2018-12-04   \n",
       "3           778 2019-12-27               1.0     335.988000 2018-12-04   \n",
       "4           826 2020-02-19               1.0     342.292302 2018-12-04   \n",
       "..          ...        ...               ...            ...        ...   \n",
       "906     1536842 2020-11-24               1.0    1186.776860 2020-10-07   \n",
       "907     1536842 2020-11-24               1.0    1186.776860 2020-10-07   \n",
       "908     1536887 2020-11-22               1.0       0.000000 2020-11-13   \n",
       "909     1536952 2021-01-26               1.0     988.429752 2020-11-24   \n",
       "910     1536974 2020-12-06               1.0       0.000000 2020-11-26   \n",
       "\n",
       "     time_delta  passing_time_to_firstsale  passing_time_from_lastsale  \n",
       "0           781                        781                          35  \n",
       "1           485                        485                         331  \n",
       "2            96                         96                         720  \n",
       "3           388                        388                         428  \n",
       "4           442                        442                         374  \n",
       "..          ...                        ...                         ...  \n",
       "906          48                         48                          95  \n",
       "907          48                         48                          95  \n",
       "908           9                          9                          97  \n",
       "909          63                         63                          32  \n",
       "910          10                         10                          83  \n",
       "\n",
       "[911 rows x 8 columns]"
      ]
     },
     "execution_count": 126,
     "metadata": {},
     "output_type": "execute_result"
    }
   ],
   "source": [
    "df[\"passing_time_from_lastsale\"] = df[\"passing_time_from_lastsale\"].astype(\"str\").str.split(\" \").str[0].astype(int)\n",
    "\n",
    "# Let's discover the modified DataFrame\n",
    "df"
   ]
  },
  {
   "cell_type": "markdown",
   "metadata": {},
   "source": [
    "\n",
    "\n",
    "<p style=\"background-color:#FFFFFF; font-family:newtimeroman; color:#0000FF; font-size:110%; text-align:left;\"><strong>-----------------------------------------------------------------------------------------------------------------------------------------------------------------------------------------------</strong></p>\n",
    "\n"
   ]
  },
  {
   "cell_type": "markdown",
   "metadata": {
    "id": "VFHpLI-4Agbr"
   },
   "source": [
    "<a id=\"4\"></a>\n",
    "<a href=\"#toc\" class=\"btn btn-primary btn-sm\" role=\"button\" aria-pressed=\"true\" \n",
    "style=\"color:blue; background-color:#dfa8e4\" data-toggle=\"popover\">Content</a>\n",
    "\n",
    "## <p style=\"background-color:#FDFEFE; font-family:newtimeroman; color:#E51A59; font-size:150%; text-align:center; border-radius:10px 10px;\">End of the Session - 10</p>\n",
    "\n",
    "<p style=\"text-align: center;\"><img src=\"https://i.ibb.co/99DQ3TY/DS-Courses.png\" class=\"img-fluid\" \n",
    "alt=\"CLRSWY\"></p>\n",
    "\n",
    "\n",
    "<br><br><br>\n",
    "\n",
    "<p style=\"text-align: center;\"><img src=\"https://i.ibb.co/Rpz9L36/clarusway-logo-black.png\" width=\"450\" height=\"200\" class=\"img-fluid\" alt=\"CLRSWY_LOGO\"></p>\n",
    "\n",
    "<p style=\"background-color:#E51A59; font-family:newtimeroman; color:#FDFEFE; font-size:130%; text-align:center; border-radius:10px 10px;\">WAY TO REINVENT YOURSELF</p>"
   ]
  },
  {
   "cell_type": "markdown",
   "metadata": {
    "deletable": false,
    "editable": false
   },
   "source": [
    "<a href=\"https://clarusway.com/contact-us/\"><img align=\"center\" src=\"https://i.ibb.co/B43qn24/officially-licensed-logo.png\" alt=\"Open in Clarusway LMS\" width=\"110\" height=\"200\" title=\"This notebook is licensed by Clarusway IT training school. Please contact the authorized persons about the conditions under which you can use or share.\"></a>"
   ]
  }
 ],
 "metadata": {
  "colab": {
   "name": "DAwPy-S10 (Working with Text and Time Data).ipynb",
   "provenance": []
  },
  "kernelspec": {
   "display_name": "Python 3 (ipykernel)",
   "language": "python",
   "name": "python3"
  },
  "language_info": {
   "codemirror_mode": {
    "name": "ipython",
    "version": 3
   },
   "file_extension": ".py",
   "mimetype": "text/x-python",
   "name": "python",
   "nbconvert_exporter": "python",
   "pygments_lexer": "ipython3",
   "version": "3.11.5"
  },
  "toc": {
   "base_numbering": 1,
   "nav_menu": {},
   "number_sections": false,
   "sideBar": true,
   "skip_h1_title": false,
   "title_cell": "Table of Contents",
   "title_sidebar": "Contents",
   "toc_cell": false,
   "toc_position": {
    "height": "calc(100% - 180px)",
    "left": "10px",
    "top": "150px",
    "width": "267.1px"
   },
   "toc_section_display": true,
   "toc_window_display": true
  },
  "varInspector": {
   "cols": {
    "lenName": 16,
    "lenType": 16,
    "lenVar": 40
   },
   "kernels_config": {
    "python": {
     "delete_cmd_postfix": "",
     "delete_cmd_prefix": "del ",
     "library": "var_list.py",
     "varRefreshCmd": "print(var_dic_list())"
    },
    "r": {
     "delete_cmd_postfix": ") ",
     "delete_cmd_prefix": "rm(",
     "library": "var_list.r",
     "varRefreshCmd": "cat(var_dic_list()) "
    }
   },
   "types_to_exclude": [
    "module",
    "function",
    "builtin_function_or_method",
    "instance",
    "_Feature"
   ],
   "window_display": false
  }
 },
 "nbformat": 4,
 "nbformat_minor": 1
}
