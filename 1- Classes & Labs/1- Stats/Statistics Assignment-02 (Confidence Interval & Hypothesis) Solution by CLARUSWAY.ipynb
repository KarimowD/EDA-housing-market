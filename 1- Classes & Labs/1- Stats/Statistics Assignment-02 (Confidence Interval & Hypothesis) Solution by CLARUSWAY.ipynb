{
 "cells": [
  {
   "cell_type": "markdown",
   "id": "4e4ca998",
   "metadata": {
    "deletable": false,
    "editable": false
   },
   "source": [
    "<a href=\"https://ondiande.com/contact/\"><img align=\"center\" src=\"https://i.ibb.co/B43qn24/officially-licensed-logo.png\" alt=\"ONDIA Contact\" width=\"110\" height=\"200\" title=\"This notebook is licensed by ONDIA. Please contact the authorized persons about the conditions under which you can use or share.\"></a>"
   ]
  },
  {
   "cell_type": "markdown",
   "id": "07430f9e",
   "metadata": {},
   "source": [
    "<hr>\n",
    "\n",
    "<a href=\"https://lms.clarusway.com/mod/lesson/view.php?id=2463&pageid=4531&startlastseen=no\"><img align=\"center\" src=\"https://i.ibb.co/6Z5pQxD/lmss.png\" alt=\"Open in Clarusway LMS\" width=\"70\" height=\"200\" title=\"Open Clarusway Learning Management Sytem\"></a>\n",
    "\n",
    "<a href=\"https://github.com/clarusway/DS-DE-0322-Students/blob/main/3-%20Classes%26Labs/2-DAwPY/DAwPy_S01_(Numpy_Arrays).ipynb\"><img align=\"left\" src=\"https://i.ibb.co/n3HWyQX/github-logo.png\" alt=\"Open in Clarusway GitHub\" width=\"90\" height=\"150\" title=\"Open and Execute in Clarusway GitHub Repository\"></a>\n",
    "\n",
    "<a href=\"https://nbviewer.org/github/4dsolutions/clarusway_data_analysis/blob/main/DAwPy_S1_%28Numpy_Arrays%29/DAwPy_S1_%28Numpy_Arrays%29.ipynb\"><img align=\"right\" src=\"https://i.ibb.co/48wtV8c/nbviewer-badge.png\" alt=\"Open in nbviewer\" width=\"100\" height=\"100\" title=\"Open and Execute in nbviewer\"></a><br/>\n",
    "\n",
    "<hr>\n",
    "\n",
    "<p style=\"text-align: center;\"><img src=\"https://i.ibb.co/XS0bxSH/best-bootcamps.png\" width=\"300\" height=\"200\" class=\"img-fluid\" alt=\"Best Bootcamp Batches\"></p>\n",
    "\n",
    "<br>\n",
    "\n",
    "<p style=\"text-align: center;\"><img src=\"https://i.ibb.co/Rpz9L36/clarusway-logo-black.png\" width=\"500\" height=\"200\" class=\"img-fluid\" alt=\"CLRSWY_LOGO\"></p>\n",
    "\n",
    "\n",
    "<p style=\"background-color:#E51A59; font-family:newtimeroman; color:#FDFEFE; font-size:130%; text-align:center; border-radius:10px 10px;\">WAY TO REINVENT YOURSELF</p>\n",
    "\n",
    "<br>\n",
    "\n",
    "<img src=https://i.ibb.co/HgnTPh9/stats.png width=\"500\" height=\"200\">\n",
    "\n",
    "\n",
    "![Image_Assignment](https://i.ibb.co/cY9HhF7/bnote-assignment.gif)\n",
    "\n",
    "\n",
    "## <p style=\"background-color:#FDFEFE; font-family:newtimeroman; color:#4d77cf; font-size:175%; text-align:center; border-radius:10px 10px;\">Assignment 02 (Confidence Interval & Hypothesis)</p>"
   ]
  },
  {
   "cell_type": "markdown",
   "id": "9d47fbc6",
   "metadata": {},
   "source": [
    " ### <span style=\"color:#49519E\">1. Import NumPy, SciPy, Pandas, Matplolib, and Seaborn Libraries.<span>"
   ]
  },
  {
   "cell_type": "code",
   "execution_count": 1,
   "id": "bb8aa1ed",
   "metadata": {
    "executionInfo": {
     "elapsed": 2574,
     "status": "ok",
     "timestamp": 1712303184473,
     "user": {
      "displayName": "Richard Thames",
      "userId": "00258987493291873022"
     },
     "user_tz": -180
    },
    "id": "bb8aa1ed"
   },
   "outputs": [],
   "source": [
    "import numpy as np\n",
    "from scipy import stats\n",
    "import seaborn as sns\n",
    "import pandas as pd\n",
    "import matplotlib.pyplot as plt\n",
    "\n",
    "import warnings\n",
    "warnings.filterwarnings('ignore')"
   ]
  },
  {
   "cell_type": "markdown",
   "id": "7f39c5eb",
   "metadata": {},
   "source": [
    "## <p style=\"background-color:#FDFEFE; font-family:newtimeroman; color:#4d77cf; font-size:175%; text-align:center; border-radius:10px 10px;\">Confidence Interval</p>"
   ]
  },
  {
   "cell_type": "markdown",
   "id": "ee936c84",
   "metadata": {
    "id": "ee936c84"
   },
   "source": [
    "## <p style=\"background-color:#58B8E4; font-family:newtimeroman; color:#49519E; font-size:150%; text-align:left; border-radius:10px 10px;\"> EXERCISE-1:</p>\n",
    "\n",
    "+ What is the normal body temperature for healthy humans? A random sample of\n",
    "130 healthy human body temperatures provided by Allen Shoemaker yielded 98.25 degrees and standard deviation 0.73 degrees.\n",
    "\n",
    "- Give a 99% confidence interval for the average body temperature of healthy people."
   ]
  },
  {
   "cell_type": "markdown",
   "id": "1047a05c",
   "metadata": {},
   "source": [
    "#### <p style=\"background-color:#8CCED1; font-family:newtimeroman; color:#635EA7; font-size:175%; text-align:left; border-radius:10px 10px;\">First write the given variables:</p>"
   ]
  },
  {
   "cell_type": "code",
   "execution_count": 2,
   "id": "79e5ddf6",
   "metadata": {},
   "outputs": [],
   "source": [
    "# Sample Size (n)\n",
    "n = 130\n",
    "\n",
    "# Sample Mean (x̄)\n",
    "xbar = 98.25\n",
    "\n",
    "# Sample standard deviation (σ)\n",
    "sigma = 0.73\n",
    "\n",
    "# Confidence level (ci)\n",
    "ci = 0.99"
   ]
  },
  {
   "cell_type": "markdown",
   "id": "a4c23237",
   "metadata": {},
   "source": [
    "#### <p style=\"background-color:#8CCED1; font-family:newtimeroman; color:#635EA7; font-size:175%; text-align:left; border-radius:10px 10px;\">Second calculate te standard error of te mean (SEM):</p>"
   ]
  },
  {
   "cell_type": "markdown",
   "id": "00f732fa",
   "metadata": {},
   "source": [
    "**Why do we need se in the calculation of confidence interval?**\n",
    "\n",
    "In calculating a confidence interval, the standard error (SE), denoted by sigma / sqrt(n), plays a crucial role in estimating the range where the true population parameter (often the mean) is likely to reside with a certain level of confidence. Here's why SE is important:\n",
    "\n",
    "1. Sampling Variability:\n",
    "\n",
    "  - We rarely have data for the entire population. Instead, we rely on samples, which are subsets of the population.\n",
    "  - Samples can vary from each other, even if drawn from the same population.expand_more This variability is captured by the standard deviation (SD) of the sampling distribution of the mean.\n",
    "  - SE is a measure of this variability.expand_more It estimates how much the sample mean (xbar) might deviate from the true population mean (mu) due to sampling chance.\n",
    "\n",
    "2. Confidence Level:\n",
    "\n",
    "  - A confidence interval doesn't provide a single point estimate of the population parameter. Instead, it gives a range of values.\n",
    "  - The width of this range depends on the desired confidence level.expand_more For example, a 95% confidence interval indicates we're 95% confident that the true population parameter falls within the calculated range.\n",
    "  - SE helps determine the width of the interval.expand_more A larger SE (more sampling variability) leads to a wider confidence interval, signifying less certainty about the true population parameter's location. Conversely, a smaller SE (less variability) results in a narrower confidence interval, indicating greater confidence in the estimated range.\n",
    "\n",
    "Intuitively:\n",
    "\n",
    "Imagine tossing a fair coin many times and calculating the average number of heads (sample mean). This sample mean might not perfectly reflect the true probability of heads (0.5). SE tells us how much the sample mean might deviate from 0.5 due to random chance in selecting coin flips (sampling variability). The confidence interval, based on SE, provides a range where the true probability of heads (population mean) likely lies with a certain level of confidence.\n",
    "\n",
    "Summary:\n",
    "\n",
    "SE helps us account for the inherent variability in samples. By incorporating SE into the confidence interval calculation, we can estimate the range where the true population parameter is likely to reside with a specific level of confidence.\n",
    "\n",
    "##### <p style=\"background-color:#8CCED1; font-family:newtimeroman; color:#635EA7; font-size:175%; text-align:left; border-radius:10px 10px;\">SEM Formula:</p>"
   ]
  },
  {
   "cell_type": "code",
   "execution_count": 54,
   "id": "02c7bdea",
   "metadata": {},
   "outputs": [
    {
     "data": {
      "text/latex": [
       "$\\displaystyle sem = \\frac{\\sigma}{\\sqrt{n}}$"
      ],
      "text/plain": [
       "<IPython.core.display.Math object>"
      ]
     },
     "metadata": {},
     "output_type": "display_data"
    }
   ],
   "source": [
    "from IPython.display import display, Math, Latex\n",
    "\n",
    "# Define the formula as a string (use raw string to avoid backslash issues)\n",
    "sem_formula = r\"sem = \\frac{\\sigma}{\\sqrt{n}}\"\n",
    "\n",
    "# Use the Latex object to display the formula\n",
    "display(Math(sem_formula))\n",
    "\n",
    "# Alternatively, you can use the Latex object directly for printing\n",
    "# print(Latex(sem_formula))"
   ]
  },
  {
   "cell_type": "code",
   "execution_count": 3,
   "id": "224706f9",
   "metadata": {
    "colab": {
     "base_uri": "https://localhost:8080/"
    },
    "executionInfo": {
     "elapsed": 8,
     "status": "ok",
     "timestamp": 1712303184474,
     "user": {
      "displayName": "Richard Thames",
      "userId": "00258987493291873022"
     },
     "user_tz": -180
    },
    "id": "224706f9",
    "outputId": "c3d35f1b-4d5c-4f0e-e6e2-b775afe83f0b"
   },
   "outputs": [
    {
     "data": {
      "text/plain": [
       "0.06402523540941313"
      ]
     },
     "execution_count": 3,
     "metadata": {},
     "output_type": "execute_result"
    }
   ],
   "source": [
    "sem = sigma / np.sqrt(n)\n",
    "sem"
   ]
  },
  {
   "cell_type": "markdown",
   "id": "b558a24f",
   "metadata": {},
   "source": [
    "#### <p style=\"background-color:#8CCED1; font-family:newtimeroman; color:#635EA7; font-size:175%; text-align:left; border-radius:10px 10px;\">Third calculate the interval at the given confidence level:</p>"
   ]
  },
  {
   "cell_type": "code",
   "execution_count": 4,
   "id": "23515671",
   "metadata": {},
   "outputs": [
    {
     "data": {
      "text/plain": [
       "(98.08508192246582, 98.41491807753418)"
      ]
     },
     "execution_count": 4,
     "metadata": {},
     "output_type": "execute_result"
    }
   ],
   "source": [
    "conf_int = stats.norm.interval(confidence=0.99, loc=98.25, scale=sem)\n",
    "conf_int"
   ]
  },
  {
   "cell_type": "code",
   "execution_count": 5,
   "id": "96e94757",
   "metadata": {},
   "outputs": [
    {
     "data": {
      "image/png": "[encoded data removed]",
      "text/plain": [
       "<Figure size 1000x600 with 1 Axes>"
      ]
     },
     "metadata": {},
     "output_type": "display_data"
    }
   ],
   "source": [
    "from scipy.stats import norm\n",
    "\n",
    "# Data Preparation\n",
    "n = 130\n",
    "xbar = 98.25\n",
    "sigma = 0.73\n",
    "ci = 0.99\n",
    "ci_lower = 98.08508192246582\n",
    "ci_upper = 98.41491807753418\n",
    "\n",
    "# Error Margin Calculation\n",
    "se = sigma / np.sqrt(n)\n",
    "\n",
    "# X-axis Data Points\n",
    "x = np.linspace(ci_lower - 3 * sigma, ci_upper + 3 * sigma, 1000)\n",
    "\n",
    "# Normal Distribution Function\n",
    "normal = norm(loc=xbar, scale=sigma)\n",
    "\n",
    "# Confidence Interval Shading\n",
    "ci_x = np.linspace(ci_lower, ci_upper, 100)\n",
    "ci_pdf = normal.pdf(ci_x)\n",
    "ci_upper_fill = ci_pdf * (ci_upper - ci_lower)\n",
    "ci_lower_fill = -ci_pdf * (ci_upper - ci_lower)\n",
    "\n",
    "# Visualization\n",
    "plt.figure(figsize=(10, 6))\n",
    "plt.plot(x, normal.pdf(x), label='Normal Distribution')\n",
    "plt.fill_between(ci_x, ci_lower_fill, ci_upper_fill, color='gray', alpha=0.2, label='Confidence Interval')\n",
    "plt.xlabel('X')\n",
    "plt.ylabel('Density Function')\n",
    "plt.title('Normal Distribution & Targeted Confidence Interval ({:.2f}, {:.2f})'.format(ci_lower, ci_upper))\n",
    "plt.legend()\n",
    "plt.grid(True)\n",
    "\n",
    "# Confidence Interval Values with Annotations\n",
    "plt.annotate(\"Lower Limit: {:.2f}\".format(ci_lower), \n",
    "             xy=(ci_lower, 0.00001),  # Connection point for left arrow\n",
    "             xytext=(ci_lower-1, 0.1),  # Text position for left arrow\n",
    "             arrowprops=dict(facecolor='black', arrowstyle='->'),  # Arrow style\n",
    "             va='bottom',  # Vertical alignment\n",
    "             fontsize=8)\n",
    "\n",
    "plt.annotate(\"Upper Limit: {:.2f}\".format(ci_upper), \n",
    "             xy=(ci_upper, 0.00001),  # Connection point for right arrow\n",
    "             xytext=(ci_upper+0.3, 0.1),  # Text position for right arrow\n",
    "             arrowprops=dict(facecolor='black', arrowstyle='->'),  # Arrow style\n",
    "             va='bottom',  # Vertical alignment\n",
    "             fontsize=8)\n",
    "\n",
    "# Y-axis Adjustment\n",
    "plt.ylim(bottom=0)\n",
    "\n",
    "plt.show()"
   ]
  },
  {
   "cell_type": "markdown",
   "id": "ad718210",
   "metadata": {},
   "source": [
    "#### <p style=\"background-color:#8CCED1; font-family:newtimeroman; color:#635EA7; font-size:175%; text-align:left; border-radius:10px 10px;\">Last make a decision:</p>"
   ]
  },
  {
   "cell_type": "code",
   "execution_count": 6,
   "id": "1e8941be",
   "metadata": {},
   "outputs": [
    {
     "name": "stdout",
     "output_type": "stream",
     "text": [
      "Given a 99% confidence interval, normal body temperature for healthy humans is between 98.08508192246582 and 98.41491807753418 limits.\n"
     ]
    }
   ],
   "source": [
    "print(f\"Given a 99% confidence interval, normal body temperature for healthy humans is between {conf_int[0]} and {conf_int[1]} limits.\")"
   ]
  },
  {
   "cell_type": "markdown",
   "id": "1963b625",
   "metadata": {},
   "source": [
    "**If our sample size was less than 30 we would use te following code snippet:**"
   ]
  },
  {
   "cell_type": "code",
   "execution_count": 7,
   "id": "3da0396b",
   "metadata": {
    "colab": {
     "base_uri": "https://localhost:8080/"
    },
    "executionInfo": {
     "elapsed": 347,
     "status": "ok",
     "timestamp": 1712303207178,
     "user": {
      "displayName": "Richard Thames",
      "userId": "00258987493291873022"
     },
     "user_tz": -180
    },
    "id": "3da0396b",
    "outputId": "b78b98a8-7d5e-47d5-f7c4-ecc9ecb8f38b"
   },
   "outputs": [],
   "source": [
    "# stats.t.interval(0.99, df=n-1, loc=98.25, scale=sem)"
   ]
  },
  {
   "cell_type": "markdown",
   "id": "35b9c33e",
   "metadata": {
    "id": "35b9c33e"
   },
   "source": [
    "## <p style=\"background-color:#58B8E4; font-family:newtimeroman; color:#49519E; font-size:150%; text-align:left; border-radius:10px 10px;\"> EXERCISE-2:</p>\n",
    "\n",
    "+ The administrators for a hospital wished to estimate the average number of days required for inpatient treatment of patients between the ages of 25 and 34. A random sample of 500 hospital patients between these ages produced a mean and standard deviation equal to 5.4 and 3.1 days, respectively.\n",
    "\n",
    "\n",
    "+ Construct a 95% confidence interval for the mean length of stay for the population of patients from which the sample was drawn.\n",
    "\n"
   ]
  },
  {
   "cell_type": "markdown",
   "id": "4fb3160b",
   "metadata": {},
   "source": [
    "#### <p style=\"background-color:#8CCED1; font-family:newtimeroman; color:#635EA7; font-size:175%; text-align:left; border-radius:10px 10px;\">First write the given variables:</p>"
   ]
  },
  {
   "cell_type": "code",
   "execution_count": 8,
   "id": "d076ee20",
   "metadata": {},
   "outputs": [],
   "source": [
    "# Sample Size (n)\n",
    "n = 500\n",
    "\n",
    "# Sample Mean (x̄)\n",
    "xbar = 5.4\n",
    "\n",
    "# Sample standard deviation (σ)\n",
    "sigma = 3.1\n",
    "\n",
    "# Confidence level (ci)\n",
    "ci = 0.95"
   ]
  },
  {
   "cell_type": "markdown",
   "id": "ebf3e398",
   "metadata": {},
   "source": [
    "#### <p style=\"background-color:#8CCED1; font-family:newtimeroman; color:#635EA7; font-size:175%; text-align:left; border-radius:10px 10px;\">Second calculate te standard error of te mean (SEM):</p>"
   ]
  },
  {
   "cell_type": "code",
   "execution_count": 9,
   "id": "fa22fdea",
   "metadata": {
    "id": "fa22fdea",
    "outputId": "53570acc-84ae-48d3-aa73-c124d1ca15d0"
   },
   "outputs": [
    {
     "data": {
      "text/plain": [
       "0.13863621460498696"
      ]
     },
     "execution_count": 9,
     "metadata": {},
     "output_type": "execute_result"
    }
   ],
   "source": [
    "sem = sigma / np.sqrt(n)\n",
    "sem"
   ]
  },
  {
   "cell_type": "markdown",
   "id": "ef062656",
   "metadata": {},
   "source": [
    "#### <p style=\"background-color:#8CCED1; font-family:newtimeroman; color:#635EA7; font-size:175%; text-align:left; border-radius:10px 10px;\">Third calculate the interval at the given confidence level:</p>"
   ]
  },
  {
   "cell_type": "code",
   "execution_count": 10,
   "id": "7b62780f",
   "metadata": {},
   "outputs": [
    {
     "data": {
      "text/plain": [
       "(5.12827801242126, 5.67172198757874)"
      ]
     },
     "execution_count": 10,
     "metadata": {},
     "output_type": "execute_result"
    }
   ],
   "source": [
    "conf_int = stats.norm.interval(confidence=0.95, loc=5.4, scale=sem)\n",
    "conf_int"
   ]
  },
  {
   "cell_type": "code",
   "execution_count": 11,
   "id": "4b8c51c3",
   "metadata": {},
   "outputs": [],
   "source": [
    "# from scipy.stats import norm\n",
    "\n",
    "\n",
    "# # Z-skorunu hesapla\n",
    "# z = norm.ppf(ci / 2)\n",
    "\n",
    "# # Hata Marjını hesapla\n",
    "# se = sigma / np.sqrt(n)\n",
    "\n",
    "# # Güven aralığı sınırlarını hesapla\n",
    "# ci_lower = xbar - z * se\n",
    "# ci_upper = xbar + z * se\n",
    "\n",
    "\n",
    "# # X eksenindeki veri noktalarını oluştur\n",
    "# x = np.linspace(ci_lower - 3 * sigma, ci_upper + 3 * sigma, 100)\n",
    "\n",
    "# # Normal dağılım fonksiyonunu oluştur\n",
    "# normal = norm(loc=xbar, scale=sigma)\n",
    "\n",
    "# # Güven aralığı gölgelendirme için veri noktaları\n",
    "# ci_x = np.linspace(ci_lower, ci_upper, 100)\n",
    "# ci_pdf = normal.pdf(ci_x)\n",
    "# ci_upper_fill = ci_pdf * (ci_upper - ci_lower)\n",
    "# ci_lower_fill = -ci_pdf * (ci_upper - ci_lower)\n",
    "\n",
    "# # Görselleştirme\n",
    "# plt.figure(figsize=(10, 6))\n",
    "# plt.plot(x, normal.pdf(x), label='Normal Dağılım')\n",
    "# plt.fill_between(ci_x, ci_lower_fill, ci_upper_fill, color='gray', alpha=0.2, label='Güven Aralığı')\n",
    "# plt.xlabel('X')\n",
    "# plt.ylabel('Yoğunluk Fonksiyonu')\n",
    "# plt.title('Normal Dağılım ve {} Güven Aralığı ({:.2f}, {:.2f})'.format(ci * 100, ci_lower, ci_upper))\n",
    "# plt.legend()\n",
    "# plt.grid(True)\n",
    "# plt.show()"
   ]
  },
  {
   "cell_type": "code",
   "execution_count": 12,
   "id": "2a1c21b8",
   "metadata": {},
   "outputs": [
    {
     "data": {
      "image/png": "[encoded data removed]",
      "text/plain": [
       "<Figure size 1000x600 with 1 Axes>"
      ]
     },
     "metadata": {},
     "output_type": "display_data"
    }
   ],
   "source": [
    "from scipy.stats import norm\n",
    "\n",
    "# Data Preparation\n",
    "n = 500\n",
    "xbar = 5.4\n",
    "sigma = 3.1\n",
    "ci = 0.95\n",
    "ci_lower = 5.12827801242126\n",
    "ci_upper = 5.67172198757874\n",
    "\n",
    "# Error Margin Calculation\n",
    "se = sigma / np.sqrt(n)\n",
    "\n",
    "# X-axis Data Points\n",
    "x = np.linspace(ci_lower - 3 * sigma, ci_upper + 3 * sigma, 1000)\n",
    "\n",
    "# Normal Distribution Function\n",
    "normal = norm(loc=xbar, scale=sigma)\n",
    "\n",
    "# Confidence Interval Shading\n",
    "ci_x = np.linspace(ci_lower, ci_upper, 100)\n",
    "ci_pdf = normal.pdf(ci_x)\n",
    "ci_upper_fill = ci_pdf * (ci_upper - ci_lower)\n",
    "ci_lower_fill = -ci_pdf * (ci_upper - ci_lower)\n",
    "\n",
    "# Visualization\n",
    "plt.figure(figsize=(10, 6))\n",
    "plt.plot(x, normal.pdf(x), label='Normal Distribution')\n",
    "plt.fill_between(ci_x, ci_lower_fill, ci_upper_fill, color='gray', alpha=0.2, label='Confidence Interval')\n",
    "plt.xlabel('X')\n",
    "plt.ylabel('Density Function')\n",
    "plt.title('Normal Distribution & Targeted Confidence Interval ({:.2f}, {:.2f})'.format(ci_lower, ci_upper))\n",
    "plt.legend()\n",
    "plt.grid(True)\n",
    "\n",
    "# Confidence Interval Values with Annotations\n",
    "plt.annotate(\"Lower Limit: {:.2f}\".format(ci_lower), \n",
    "             xy=(5.13, 0.00001),  # Connection point for left arrow\n",
    "             xytext=(2, 0.04),  # Text position for left arrow\n",
    "             arrowprops=dict(facecolor='black', arrowstyle='->'),  # Arrow style\n",
    "             va='bottom',  # Vertical alignment\n",
    "             fontsize=8)\n",
    "\n",
    "plt.annotate(\"Upper Limit: {:.2f}\".format(ci_upper), \n",
    "             xy=(5.67, 0.00001),  # Connection point for right arrow\n",
    "             xytext=(7, 0.04),  # Text position for right arrow\n",
    "             arrowprops=dict(facecolor='black', arrowstyle='->'),  # Arrow style\n",
    "             va='bottom',  # Vertical alignment\n",
    "             fontsize=8)\n",
    "\n",
    "# Y-axis Adjustment\n",
    "plt.ylim(bottom=0)\n",
    "\n",
    "plt.show()"
   ]
  },
  {
   "cell_type": "markdown",
   "id": "ba05e6c7",
   "metadata": {},
   "source": [
    "#### <p style=\"background-color:#8CCED1; font-family:newtimeroman; color:#635EA7; font-size:175%; text-align:left; border-radius:10px 10px;\">Last make a decision:</p>"
   ]
  },
  {
   "cell_type": "code",
   "execution_count": 13,
   "id": "2da30c2c",
   "metadata": {},
   "outputs": [
    {
     "name": "stdout",
     "output_type": "stream",
     "text": [
      "Given a 95% confidence interval, average length of stay for the population of patients which the sample drawn is between 5.12827801242126 and 5.67172198757874 limits.\n"
     ]
    }
   ],
   "source": [
    "print(f\"Given a 95% confidence interval, average length of stay for the population of patients which the sample drawn is between {conf_int[0]} and {conf_int[1]} limits.\")"
   ]
  },
  {
   "cell_type": "markdown",
   "id": "7cf12e36",
   "metadata": {},
   "source": [
    "**If our sample size was less than 30 we would use te following code snippet:**"
   ]
  },
  {
   "cell_type": "code",
   "execution_count": 14,
   "id": "8d293b40",
   "metadata": {
    "id": "8d293b40",
    "outputId": "74d7f2c0-72a8-43e8-89de-fb11494a4d7f"
   },
   "outputs": [],
   "source": [
    "# stats.t.interval(0.95, df=n-1, loc=5.4, scale=sem)"
   ]
  },
  {
   "cell_type": "markdown",
   "id": "e48c39cc",
   "metadata": {
    "id": "e48c39cc"
   },
   "source": [
    "## <p style=\"background-color:#FDFEFE; font-family:newtimeroman; color:#4d77cf; font-size:175%; text-align:center; border-radius:10px 10px;\">Hypothesis Testing</p>"
   ]
  },
  {
   "cell_type": "markdown",
   "id": "7938a148",
   "metadata": {
    "id": "7938a148"
   },
   "source": [
    "## <p style=\"background-color:#58B8E4; font-family:newtimeroman; color:#49519E; font-size:150%; text-align:left; border-radius:10px 10px;\"> EXERCISE-3:</p>\n",
    "\n",
    "  - The hourly wages in a particular industry are normally distributed with mean $13.20 and standard deviation $2.50. A company in this industry employs 40 workers, paying them an average of $12.20 per hour.\n",
    "  \n",
    "Can this company be accused of paying substandard wages? Use an α = .01 level test. (Wackerly, Ex.10.18)\n",
    "\n",
    "  - CHECK: statistic: -2.5298221281347035, pvalue= 0.005706018193000826"
   ]
  },
  {
   "cell_type": "markdown",
   "id": "27108709",
   "metadata": {},
   "source": [
    "## <p style=\"background-color:#FFFFFF; font-family:newtimeroman; color:#E9335A; font-size:150%; text-align:left; border-radius:10px 10px;\"> REMINDER:</p>\n",
    "\n",
    "<img src=https://i.ibb.co/G0vg8c2/significance-test-steps.png width=\"400\" height=\"200\">\n",
    "\n"
   ]
  },
  {
   "cell_type": "markdown",
   "id": "962e3116",
   "metadata": {},
   "source": [
    "#### <p style=\"background-color:#8CCED1; font-family:newtimeroman; color:#635EA7; font-size:175%; text-align:left; border-radius:10px 10px;\">First write the given variables:</p>"
   ]
  },
  {
   "cell_type": "code",
   "execution_count": 52,
   "id": "247848d2",
   "metadata": {
    "id": "247848d2"
   },
   "outputs": [],
   "source": [
    "µ = 13.20\n",
    "xbar = 12.20\n",
    "sigma = 2.50\n",
    "alpha = 0.01\n",
    "n = 40"
   ]
  },
  {
   "cell_type": "markdown",
   "id": "151e002d",
   "metadata": {},
   "source": [
    "#### <p style=\"background-color:#8CCED1; font-family:newtimeroman; color:#635EA7; font-size:175%; text-align:left; border-radius:10px 10px;\">1. Stating Null (H0) & Alternative (Ha) Hypotheses:</p>"
   ]
  },
  {
   "cell_type": "raw",
   "id": "2f9b59d5",
   "metadata": {},
   "source": [
    "H0: µ = 13.20\n",
    "H1: µ < 13.20"
   ]
  },
  {
   "cell_type": "markdown",
   "id": "b234bb6e",
   "metadata": {
    "id": "2db580df"
   },
   "source": [
    "#### <p style=\"background-color:#8CCED1; font-family:newtimeroman; color:#635EA7; font-size:175%; text-align:left; border-radius:10px 10px;\">2. Calculating Test Statistics:</p>"
   ]
  },
  {
   "cell_type": "markdown",
   "id": "656c8793",
   "metadata": {},
   "source": [
    "**Why do we need z score in hypothesis testing?**\n",
    "\n",
    "Z-scores play a crucial role in hypothesis testing, particularly when dealing with normally distributed data, for several reasons:\n",
    "\n",
    "1. Standardization:\n",
    "\n",
    "Z-scores transform raw data points from their original scale (e.g., centimeters, dollars) into standard deviation units. This standardization allows us to compare data points from different populations or datasets, regardless of their original measurement units.\n",
    "\n",
    "2. Probability Calculations:\n",
    "\n",
    "The z-score of a specific data point tells you how many standard deviations it is away from the mean of the distribution. By knowing the z-score, we can utilize the standard normal distribution (also known as the z-distribution), which represents the probability distribution of z-scores for a standard normal population (mean = 0, standard deviation = 1). This lets us calculate the probability of observing a data point as extreme or more extreme than the one we have, assuming the data follows a normal distribution.\n",
    "\n",
    "3. Hypothesis Testing Framework:\n",
    "\n",
    "Hypothesis testing involves setting up a null hypothesis (H0) stating no significant difference between groups or no relationship between variables and an alternative hypothesis (Ha) proposing the opposite. Z-scores help us evaluate evidence against the null hypothesis.\n",
    "\n",
    "  - Test Statistic: In many z-tests, the z-score itself serves as the test statistic. We compare this calculated z-score to a critical value obtained from the standard normal distribution table or software at a chosen significance level (e.g., 0.05).\n",
    "\n",
    "  - Decision Making: If the calculated z-score falls outside the critical region (determined by significance level), we reject the null hypothesis and support the alternative hypothesis. Conversely, if the z-score falls within the critical region, we fail to reject the null hypothesis, but we don't necessarily prove it's true (it simply means we don't have enough evidence to reject it at that significance level).\n",
    "\n",
    "Summary:\n",
    "\n",
    "Z-scores provide ``a standardized way`` to analyze data points within a normally distributed population. This allows for probability calculations and facilitates hypothesis testing by enabling us to assess evidence against a null hypothesis based on the calculated z-score and its comparison to critical values from the standard normal distribution.\n",
    "\n",
    "\n",
    "##### <p style=\"background-color:#8CCED1; font-family:newtimeroman; color:#635EA7; font-size:175%; text-align:left; border-radius:10px 10px;\">Z-Score Formula:</p>"
   ]
  },
  {
   "cell_type": "code",
   "execution_count": 61,
   "id": "89b5e08f",
   "metadata": {},
   "outputs": [
    {
     "data": {
      "text/latex": [
       "$\\displaystyle z score = \\frac{\\overline{x} - \\mu}{\\left( \\frac{\\sigma}{\\sqrt{n}} \\right)}$"
      ],
      "text/plain": [
       "<IPython.core.display.Math object>"
      ]
     },
     "metadata": {},
     "output_type": "display_data"
    }
   ],
   "source": [
    "from IPython.display import display, Math, Latex\n",
    "\n",
    "# Define the formula as a string (use raw string to avoid backslash issues)\n",
    "ci_formula = r\"z score = \\frac{\\overline{x} - \\mu}{\\left( \\frac{\\sigma}{\\sqrt{n}} \\right)}\" \n",
    "\n",
    "# Use the Latex object to display the formula\n",
    "display(Math(ci_formula))"
   ]
  },
  {
   "cell_type": "code",
   "execution_count": 16,
   "id": "247bf45a",
   "metadata": {},
   "outputs": [
    {
     "data": {
      "text/plain": [
       "-2.5298221281347035"
      ]
     },
     "execution_count": 16,
     "metadata": {},
     "output_type": "execute_result"
    }
   ],
   "source": [
    "z_score = (xbar-µ)/(sigma/np.sqrt(n))  \n",
    "z_score"
   ]
  },
  {
   "cell_type": "markdown",
   "id": "f4df0032",
   "metadata": {},
   "source": [
    "#### <p style=\"background-color:#8CCED1; font-family:newtimeroman; color:#635EA7; font-size:175%; text-align:left; border-radius:10px 10px;\">3. Calculaing P-Value:</p>"
   ]
  },
  {
   "cell_type": "code",
   "execution_count": 17,
   "id": "3117ea42",
   "metadata": {
    "id": "3117ea42",
    "outputId": "2d8a48f8-031e-4fa5-ffdb-04c22af1f988"
   },
   "outputs": [
    {
     "data": {
      "text/plain": [
       "0.005706018193000826"
      ]
     },
     "execution_count": 17,
     "metadata": {},
     "output_type": "execute_result"
    }
   ],
   "source": [
    "# left tailed - alternative h <\n",
    "\n",
    "p_value = stats.norm.cdf(-2.5298221281347035)\n",
    "p_value"
   ]
  },
  {
   "cell_type": "markdown",
   "id": "ee203455",
   "metadata": {},
   "source": [
    "#### <p style=\"background-color:#8CCED1; font-family:newtimeroman; color:#635EA7; font-size:175%; text-align:left; border-radius:10px 10px;\">4. Making a Decision:</p>"
   ]
  },
  {
   "cell_type": "markdown",
   "id": "15f1c72b",
   "metadata": {},
   "source": [
    "<img src=https://i.ibb.co/NCLKcFs/p-value-reject-area.png width=\"400\" height=\"200\">"
   ]
  },
  {
   "cell_type": "code",
   "execution_count": 18,
   "id": "e1efb8a7",
   "metadata": {
    "id": "e1efb8a7"
   },
   "outputs": [
    {
     "name": "stdout",
     "output_type": "stream",
     "text": [
      "At 0.01 level of significance, we REJECT the null hypothesis in favor of alternative hypothesis.\n"
     ]
    }
   ],
   "source": [
    "alpha = 0.01\n",
    "\n",
    "if p_value <= alpha:\n",
    "    print('At {} level of significance, we REJECT the null hypothesis in favor of alternative hypothesis.'.format(alpha))\n",
    "else:\n",
    "    print('At {} level of significance, we FAIL to REJECT the null hypothesis.'.format(alpha))"
   ]
  },
  {
   "cell_type": "markdown",
   "id": "59d32671",
   "metadata": {
    "id": "59d32671"
   },
   "source": [
    "## <p style=\"background-color:#58B8E4; font-family:newtimeroman; color:#49519E; font-size:150%; text-align:left; border-radius:10px 10px;\"> EXERCISE-4:</p>\n",
    "\n",
    "- Shear strength measurements derived from unconfined compression tests for two types of soils gave the results shown in the following document (measurements in tons per square foot). Do the soils appear to differ with respect to average shear strength, at the 1% significance level?\n",
    "\n",
    "\n",
    "- Results for two type of soils\n",
    "  - CHECK: statistic: 5.1681473319343345, pvalue= 2.593228732352821e-06"
   ]
  },
  {
   "cell_type": "markdown",
   "id": "ebf036a9",
   "metadata": {},
   "source": [
    "#### <p style=\"background-color:#8CCED1; font-family:newtimeroman; color:#635EA7; font-size:175%; text-align:left; border-radius:10px 10px;\">First Read, Assign Dataset to a DataFrame, and Prepare it for Analysis:</p>"
   ]
  },
  {
   "cell_type": "code",
   "execution_count": 19,
   "id": "24c4e61c",
   "metadata": {
    "id": "24c4e61c",
    "outputId": "bd66bba1-7c60-4e10-81c4-cb853ee93992"
   },
   "outputs": [
    {
     "data": {
      "text/html": [
       "<div>\n",
       "<style scoped>\n",
       "    .dataframe tbody tr th:only-of-type {\n",
       "        vertical-align: middle;\n",
       "    }\n",
       "\n",
       "    .dataframe tbody tr th {\n",
       "        vertical-align: top;\n",
       "    }\n",
       "\n",
       "    .dataframe thead th {\n",
       "        text-align: right;\n",
       "    }\n",
       "</style>\n",
       "<table border=\"1\" class=\"dataframe\">\n",
       "  <thead>\n",
       "    <tr style=\"text-align: right;\">\n",
       "      <th></th>\n",
       "      <th>Soil1</th>\n",
       "      <th>Soil2</th>\n",
       "    </tr>\n",
       "  </thead>\n",
       "  <tbody>\n",
       "    <tr>\n",
       "      <th>0</th>\n",
       "      <td>1.442</td>\n",
       "      <td>1.364</td>\n",
       "    </tr>\n",
       "    <tr>\n",
       "      <th>1</th>\n",
       "      <td>1.943</td>\n",
       "      <td>1.878</td>\n",
       "    </tr>\n",
       "    <tr>\n",
       "      <th>2</th>\n",
       "      <td>1.110</td>\n",
       "      <td>1.337</td>\n",
       "    </tr>\n",
       "    <tr>\n",
       "      <th>3</th>\n",
       "      <td>1.912</td>\n",
       "      <td>1.828</td>\n",
       "    </tr>\n",
       "    <tr>\n",
       "      <th>4</th>\n",
       "      <td>1.553</td>\n",
       "      <td>1.371</td>\n",
       "    </tr>\n",
       "    <tr>\n",
       "      <th>5</th>\n",
       "      <td>1.641</td>\n",
       "      <td>1.428</td>\n",
       "    </tr>\n",
       "    <tr>\n",
       "      <th>6</th>\n",
       "      <td>1.499</td>\n",
       "      <td>1.119</td>\n",
       "    </tr>\n",
       "    <tr>\n",
       "      <th>7</th>\n",
       "      <td>1.347</td>\n",
       "      <td>1.373</td>\n",
       "    </tr>\n",
       "    <tr>\n",
       "      <th>8</th>\n",
       "      <td>1.685</td>\n",
       "      <td>1.589</td>\n",
       "    </tr>\n",
       "    <tr>\n",
       "      <th>9</th>\n",
       "      <td>1.578</td>\n",
       "      <td>1.714</td>\n",
       "    </tr>\n",
       "    <tr>\n",
       "      <th>10</th>\n",
       "      <td>1.866</td>\n",
       "      <td>1.260</td>\n",
       "    </tr>\n",
       "    <tr>\n",
       "      <th>11</th>\n",
       "      <td>1.653</td>\n",
       "      <td>1.492</td>\n",
       "    </tr>\n",
       "    <tr>\n",
       "      <th>12</th>\n",
       "      <td>1.665</td>\n",
       "      <td>1.395</td>\n",
       "    </tr>\n",
       "    <tr>\n",
       "      <th>13</th>\n",
       "      <td>1.640</td>\n",
       "      <td>1.778</td>\n",
       "    </tr>\n",
       "    <tr>\n",
       "      <th>14</th>\n",
       "      <td>1.976</td>\n",
       "      <td>1.611</td>\n",
       "    </tr>\n",
       "    <tr>\n",
       "      <th>15</th>\n",
       "      <td>1.754</td>\n",
       "      <td>1.202</td>\n",
       "    </tr>\n",
       "    <tr>\n",
       "      <th>16</th>\n",
       "      <td>1.589</td>\n",
       "      <td>1.542</td>\n",
       "    </tr>\n",
       "    <tr>\n",
       "      <th>17</th>\n",
       "      <td>1.976</td>\n",
       "      <td>1.094</td>\n",
       "    </tr>\n",
       "    <tr>\n",
       "      <th>18</th>\n",
       "      <td>1.863</td>\n",
       "      <td>1.557</td>\n",
       "    </tr>\n",
       "    <tr>\n",
       "      <th>19</th>\n",
       "      <td>1.932</td>\n",
       "      <td>1.053</td>\n",
       "    </tr>\n",
       "    <tr>\n",
       "      <th>20</th>\n",
       "      <td>1.570</td>\n",
       "      <td>1.183</td>\n",
       "    </tr>\n",
       "    <tr>\n",
       "      <th>21</th>\n",
       "      <td>1.613</td>\n",
       "      <td>1.367</td>\n",
       "    </tr>\n",
       "    <tr>\n",
       "      <th>22</th>\n",
       "      <td>2.054</td>\n",
       "      <td>1.144</td>\n",
       "    </tr>\n",
       "    <tr>\n",
       "      <th>23</th>\n",
       "      <td>1.550</td>\n",
       "      <td>1.151</td>\n",
       "    </tr>\n",
       "    <tr>\n",
       "      <th>24</th>\n",
       "      <td>1.714</td>\n",
       "      <td>1.561</td>\n",
       "    </tr>\n",
       "    <tr>\n",
       "      <th>25</th>\n",
       "      <td>1.896</td>\n",
       "      <td>1.192</td>\n",
       "    </tr>\n",
       "    <tr>\n",
       "      <th>26</th>\n",
       "      <td>1.737</td>\n",
       "      <td>1.489</td>\n",
       "    </tr>\n",
       "    <tr>\n",
       "      <th>27</th>\n",
       "      <td>1.740</td>\n",
       "      <td>1.379</td>\n",
       "    </tr>\n",
       "    <tr>\n",
       "      <th>28</th>\n",
       "      <td>1.708</td>\n",
       "      <td>1.501</td>\n",
       "    </tr>\n",
       "    <tr>\n",
       "      <th>29</th>\n",
       "      <td>1.548</td>\n",
       "      <td>1.277</td>\n",
       "    </tr>\n",
       "    <tr>\n",
       "      <th>30</th>\n",
       "      <td>NaN</td>\n",
       "      <td>1.593</td>\n",
       "    </tr>\n",
       "    <tr>\n",
       "      <th>31</th>\n",
       "      <td>NaN</td>\n",
       "      <td>1.172</td>\n",
       "    </tr>\n",
       "    <tr>\n",
       "      <th>32</th>\n",
       "      <td>NaN</td>\n",
       "      <td>1.510</td>\n",
       "    </tr>\n",
       "    <tr>\n",
       "      <th>33</th>\n",
       "      <td>NaN</td>\n",
       "      <td>1.740</td>\n",
       "    </tr>\n",
       "    <tr>\n",
       "      <th>34</th>\n",
       "      <td>NaN</td>\n",
       "      <td>1.355</td>\n",
       "    </tr>\n",
       "  </tbody>\n",
       "</table>\n",
       "</div>"
      ],
      "text/plain": [
       "    Soil1  Soil2\n",
       "0   1.442  1.364\n",
       "1   1.943  1.878\n",
       "2   1.110  1.337\n",
       "3   1.912  1.828\n",
       "4   1.553  1.371\n",
       "5   1.641  1.428\n",
       "6   1.499  1.119\n",
       "7   1.347  1.373\n",
       "8   1.685  1.589\n",
       "9   1.578  1.714\n",
       "10  1.866  1.260\n",
       "11  1.653  1.492\n",
       "12  1.665  1.395\n",
       "13  1.640  1.778\n",
       "14  1.976  1.611\n",
       "15  1.754  1.202\n",
       "16  1.589  1.542\n",
       "17  1.976  1.094\n",
       "18  1.863  1.557\n",
       "19  1.932  1.053\n",
       "20  1.570  1.183\n",
       "21  1.613  1.367\n",
       "22  2.054  1.144\n",
       "23  1.550  1.151\n",
       "24  1.714  1.561\n",
       "25  1.896  1.192\n",
       "26  1.737  1.489\n",
       "27  1.740  1.379\n",
       "28  1.708  1.501\n",
       "29  1.548  1.277\n",
       "30    NaN  1.593\n",
       "31    NaN  1.172\n",
       "32    NaN  1.510\n",
       "33    NaN  1.740\n",
       "34    NaN  1.355"
      ]
     },
     "execution_count": 19,
     "metadata": {},
     "output_type": "execute_result"
    }
   ],
   "source": [
    "df0 = pd.read_excel(\"soil.xlsx\")\n",
    "df0"
   ]
  },
  {
   "cell_type": "code",
   "execution_count": 20,
   "id": "9d213b6e",
   "metadata": {
    "id": "9d213b6e"
   },
   "outputs": [],
   "source": [
    "df = df0.dropna(axis=0)"
   ]
  },
  {
   "cell_type": "code",
   "execution_count": 21,
   "id": "896ded3c",
   "metadata": {
    "id": "896ded3c",
    "outputId": "88cb8c45-94fb-4bc1-ee83-350fd104e1fd"
   },
   "outputs": [
    {
     "data": {
      "text/plain": [
       "0     1.442\n",
       "1     1.943\n",
       "2     1.110\n",
       "3     1.912\n",
       "4     1.553\n",
       "5     1.641\n",
       "6     1.499\n",
       "7     1.347\n",
       "8     1.685\n",
       "9     1.578\n",
       "10    1.866\n",
       "11    1.653\n",
       "12    1.665\n",
       "13    1.640\n",
       "14    1.976\n",
       "15    1.754\n",
       "16    1.589\n",
       "17    1.976\n",
       "18    1.863\n",
       "19    1.932\n",
       "20    1.570\n",
       "21    1.613\n",
       "22    2.054\n",
       "23    1.550\n",
       "24    1.714\n",
       "25    1.896\n",
       "26    1.737\n",
       "27    1.740\n",
       "28    1.708\n",
       "29    1.548\n",
       "Name: Soil1, dtype: float64"
      ]
     },
     "execution_count": 21,
     "metadata": {},
     "output_type": "execute_result"
    }
   ],
   "source": [
    "soil1 = df0[\"Soil1\"].dropna(axis=0)\n",
    "soil1"
   ]
  },
  {
   "cell_type": "code",
   "execution_count": 22,
   "id": "4edc0ad4",
   "metadata": {
    "id": "4edc0ad4",
    "outputId": "5088ac00-a95c-4734-cacb-6d1c53b48c7b"
   },
   "outputs": [
    {
     "data": {
      "text/plain": [
       "0     1.364\n",
       "1     1.878\n",
       "2     1.337\n",
       "3     1.828\n",
       "4     1.371\n",
       "5     1.428\n",
       "6     1.119\n",
       "7     1.373\n",
       "8     1.589\n",
       "9     1.714\n",
       "10    1.260\n",
       "11    1.492\n",
       "12    1.395\n",
       "13    1.778\n",
       "14    1.611\n",
       "15    1.202\n",
       "16    1.542\n",
       "17    1.094\n",
       "18    1.557\n",
       "19    1.053\n",
       "20    1.183\n",
       "21    1.367\n",
       "22    1.144\n",
       "23    1.151\n",
       "24    1.561\n",
       "25    1.192\n",
       "26    1.489\n",
       "27    1.379\n",
       "28    1.501\n",
       "29    1.277\n",
       "30    1.593\n",
       "31    1.172\n",
       "32    1.510\n",
       "33    1.740\n",
       "34    1.355\n",
       "Name: Soil2, dtype: float64"
      ]
     },
     "execution_count": 22,
     "metadata": {},
     "output_type": "execute_result"
    }
   ],
   "source": [
    "soil2 = df0[\"Soil2\"]\n",
    "soil2"
   ]
  },
  {
   "cell_type": "markdown",
   "id": "6a906f51",
   "metadata": {},
   "source": [
    "#### <p style=\"background-color:#8CCED1; font-family:newtimeroman; color:#635EA7; font-size:175%; text-align:left; border-radius:10px 10px;\">1. Stating Null (H0) & Alternative (Ha) Hypotheses:</p>"
   ]
  },
  {
   "cell_type": "raw",
   "id": "b733b424",
   "metadata": {},
   "source": [
    "H0: mu1 = mu2\n",
    "H1: mu1 != mu2\n",
    "\n",
    "H0: The population variances are equal\n",
    "H1: There is a difference between the variances in the population"
   ]
  },
  {
   "cell_type": "markdown",
   "id": "d50fee84",
   "metadata": {},
   "source": [
    "#### <p style=\"background-color:#8CCED1; font-family:newtimeroman; color:#635EA7; font-size:175%; text-align:left; border-radius:10px 10px;\">2. Calculating Test Statistics:</p>"
   ]
  },
  {
   "cell_type": "markdown",
   "id": "7bfcf6dc",
   "metadata": {},
   "source": [
    "In hypothesis testing, the Levene's test is crucial when dealing with analysis of variance (ANOVA) or other tests that rely on the assumption of equal variances (homoscedasticity) across groups being compared. Here's why it's important:\n",
    "\n",
    "1. Importance of Homoscedasticity:\n",
    "\n",
    "  - Many statistical tests, including ANOVA, assume that the variances of the populations from which the samples are drawn are equal. This ensures that any observed differences in means between groups are not simply due to chance variations in spread (variance) but reflect actual differences in the populations themselves.\n",
    "\n",
    "  - If variances are unequal (heteroscedasticity), the test statistic used in ANOVA (F-statistic) becomes unreliable. The p-value calculated from the F-statistic might not accurately reflect the true significance of the observed difference between means.\n",
    "\n",
    "2. Levene's Test:\n",
    "\n",
    "  - Levene's test helps us assess this assumption of equal variances. It's a statistical test that checks for significant differences in variances across multiple groups.\n",
    "\n",
    "  - By performing Levene's test, we can determine whether it's safe to proceed with ANOVA or other tests that rely on the homoscedasticity assumption.\n",
    "\n",
    "3. Alternatives and Considerations:\n",
    "\n",
    "  - If Levene's test indicates unequal variances, there are alternative tests like Welch's ANOVA that are more robust to violations of homoscedasticity.\n",
    "\n",
    "  - Additionally, data transformations like log transformations can sometimes help stabilize variances and make them more suitable for ANOVA.\n",
    "\n",
    "In summary:\n",
    "\n",
    "Levene's test acts as a gatekeeper for tests like ANOVA. It ensures the validity of the test results by verifying a crucial assumption: equal variances across groups. If variances are unequal, Levene's test warns us that the p-value from ANOVA might not be reliable, prompting us to consider alternative test methods or data transformations to address the issue."
   ]
  },
  {
   "cell_type": "code",
   "execution_count": 23,
   "id": "bdc9d0b3",
   "metadata": {
    "id": "bdc9d0b3",
    "outputId": "b69443f5-cab1-4883-f6bd-8206c94f26a5"
   },
   "outputs": [
    {
     "data": {
      "text/plain": [
       "LeveneResult(statistic=0.31486292982090475, pvalue=0.5767018253541134)"
      ]
     },
     "execution_count": 23,
     "metadata": {},
     "output_type": "execute_result"
    }
   ],
   "source": [
    "# Perform Levene test for equal variances:\n",
    "\n",
    "# The small p-value suggests that the populations do not have equal variances.(equal_var = False)\n",
    "# The large p-value suggests that the populations have equal variances.(equal_var = True)\n",
    "\n",
    "leveneTest = stats.levene(soil1, soil2)\n",
    "leveneTest"
   ]
  },
  {
   "cell_type": "markdown",
   "id": "80f5b0d8",
   "metadata": {},
   "source": [
    "**Since ``equal variances`` are met in our analysis at a ``p-value`` of ``0.5767018253541134``, we assign ``equal_var`` parameter as ``True``:**"
   ]
  },
  {
   "cell_type": "code",
   "execution_count": 24,
   "id": "b802fda3",
   "metadata": {
    "id": "b802fda3",
    "outputId": "b078c574-66d8-42b2-e7e1-62bbd71fbec7"
   },
   "outputs": [
    {
     "data": {
      "text/plain": [
       "TtestResult(statistic=5.1681473319343345, pvalue=2.593228732352821e-06, df=63.0)"
      ]
     },
     "execution_count": 24,
     "metadata": {},
     "output_type": "execute_result"
    }
   ],
   "source": [
    "indTest = stats.ttest_ind(soil1, soil2, equal_var=True, alternative='two-sided')\n",
    "indTest"
   ]
  },
  {
   "cell_type": "markdown",
   "id": "c0d541a7",
   "metadata": {},
   "source": [
    "#### <p style=\"background-color:#8CCED1; font-family:newtimeroman; color:#635EA7; font-size:175%; text-align:left; border-radius:10px 10px;\">3. Calculaing P-Value:</p>"
   ]
  },
  {
   "cell_type": "code",
   "execution_count": 25,
   "id": "ee469ffc",
   "metadata": {},
   "outputs": [
    {
     "data": {
      "text/plain": [
       "2.593228732352821e-06"
      ]
     },
     "execution_count": 25,
     "metadata": {},
     "output_type": "execute_result"
    }
   ],
   "source": [
    "p_value = indTest.pvalue\n",
    "p_value"
   ]
  },
  {
   "cell_type": "markdown",
   "id": "f02baf14",
   "metadata": {},
   "source": [
    "#### <p style=\"background-color:#8CCED1; font-family:newtimeroman; color:#635EA7; font-size:175%; text-align:left; border-radius:10px 10px;\">4. Making a Decision:</p>"
   ]
  },
  {
   "cell_type": "markdown",
   "id": "0db47276",
   "metadata": {},
   "source": [
    "<img src=https://i.ibb.co/NCLKcFs/p-value-reject-area.png width=\"400\" height=\"200\">"
   ]
  },
  {
   "cell_type": "code",
   "execution_count": 26,
   "id": "6403b3dc",
   "metadata": {
    "id": "6403b3dc",
    "outputId": "01eacfae-3f27-489d-c2a8-5f84238b5e80"
   },
   "outputs": [
    {
     "name": "stdout",
     "output_type": "stream",
     "text": [
      "At 0.1 level of significance, we REJECT the null hypothesis in favor of alternative hypothesis.\n"
     ]
    }
   ],
   "source": [
    "alpha = 0.1\n",
    "\n",
    "if p_value < alpha:\n",
    "    print('At {} level of significance, we REJECT the null hypothesis in favor of alternative hypothesis.'.format(alpha))\n",
    "else:\n",
    "    print('At {} level of significance, we FAIL to REJECT the null hypothesis.'.format(alpha))"
   ]
  },
  {
   "cell_type": "markdown",
   "id": "693a345c",
   "metadata": {
    "id": "693a345c"
   },
   "source": [
    "## <p style=\"background-color:#58B8E4; font-family:newtimeroman; color:#49519E; font-size:150%; text-align:left; border-radius:10px 10px;\"> EXERCISE-5:</p>\n",
    "\n",
    "+ The following dataset is based on data provided by the World Bank\n",
    "(https://datacatalog.worldbank.org/dataset/education-statistics). World Bank Edstats.  2015 PISA Test Dataset\n",
    "\n",
    "\n",
    "+ Get descriptive statistics (the central tendency, dispersion and shape of a dataset’s distribution) for each continent\n",
    "group (AS, EU, AF, NA, SA, OC).\n",
    "\n",
    "\n",
    "+ Determine whether there is any difference (on the average) for the math scores among European (EU) and Asian (AS)\n",
    "countries (assume normality and equal variances). Draw side-by-side box plots.\n",
    "\n",
    "\n",
    "+ CHECK: statistic=0.870055317967983, pvalue=0.38826888111307345"
   ]
  },
  {
   "cell_type": "markdown",
   "id": "d0f47547",
   "metadata": {},
   "source": [
    "#### <p style=\"background-color:#8CCED1; font-family:newtimeroman; color:#635EA7; font-size:175%; text-align:left; border-radius:10px 10px;\">First Explore the Dataset:</p>\n",
    "\n",
    "Get descriptive statistics (the central tendency, dispersion and shape of a dataset’s distribution) for each continent group (AS, EU, AF, NA, SA, OC).\n",
    "\n",
    "Determine whether there is any difference (on the average) for the math scores among European (EU) and Asian (AS) countries (assume normality and equal variances). Draw side-by-side box plots."
   ]
  },
  {
   "cell_type": "code",
   "execution_count": 27,
   "id": "d4ab9583",
   "metadata": {
    "id": "d4ab9583",
    "outputId": "bed8615d-1bb6-4f8c-f636-30b2279eb62b"
   },
   "outputs": [
    {
     "data": {
      "text/html": [
       "<div>\n",
       "<style scoped>\n",
       "    .dataframe tbody tr th:only-of-type {\n",
       "        vertical-align: middle;\n",
       "    }\n",
       "\n",
       "    .dataframe tbody tr th {\n",
       "        vertical-align: top;\n",
       "    }\n",
       "\n",
       "    .dataframe thead th {\n",
       "        text-align: right;\n",
       "    }\n",
       "</style>\n",
       "<table border=\"1\" class=\"dataframe\">\n",
       "  <thead>\n",
       "    <tr style=\"text-align: right;\">\n",
       "      <th></th>\n",
       "      <th>Country Code</th>\n",
       "      <th>Continent_Code</th>\n",
       "      <th>internet_users_per_100</th>\n",
       "      <th>Math</th>\n",
       "      <th>Reading</th>\n",
       "      <th>Science</th>\n",
       "    </tr>\n",
       "  </thead>\n",
       "  <tbody>\n",
       "    <tr>\n",
       "      <th>0</th>\n",
       "      <td>ALB</td>\n",
       "      <td>EU</td>\n",
       "      <td>63.252933</td>\n",
       "      <td>413.1570</td>\n",
       "      <td>405.2588</td>\n",
       "      <td>427.2250</td>\n",
       "    </tr>\n",
       "    <tr>\n",
       "      <th>1</th>\n",
       "      <td>ARE</td>\n",
       "      <td>AS</td>\n",
       "      <td>90.500000</td>\n",
       "      <td>427.4827</td>\n",
       "      <td>433.5423</td>\n",
       "      <td>436.7311</td>\n",
       "    </tr>\n",
       "    <tr>\n",
       "      <th>2</th>\n",
       "      <td>ARG</td>\n",
       "      <td>SA</td>\n",
       "      <td>68.043064</td>\n",
       "      <td>409.0333</td>\n",
       "      <td>425.3031</td>\n",
       "      <td>432.2262</td>\n",
       "    </tr>\n",
       "    <tr>\n",
       "      <th>3</th>\n",
       "      <td>AUS</td>\n",
       "      <td>OC</td>\n",
       "      <td>84.560519</td>\n",
       "      <td>493.8962</td>\n",
       "      <td>502.9006</td>\n",
       "      <td>509.9939</td>\n",
       "    </tr>\n",
       "    <tr>\n",
       "      <th>4</th>\n",
       "      <td>AUT</td>\n",
       "      <td>EU</td>\n",
       "      <td>83.940142</td>\n",
       "      <td>496.7423</td>\n",
       "      <td>484.8656</td>\n",
       "      <td>495.0375</td>\n",
       "    </tr>\n",
       "    <tr>\n",
       "      <th>...</th>\n",
       "      <td>...</td>\n",
       "      <td>...</td>\n",
       "      <td>...</td>\n",
       "      <td>...</td>\n",
       "      <td>...</td>\n",
       "      <td>...</td>\n",
       "    </tr>\n",
       "    <tr>\n",
       "      <th>65</th>\n",
       "      <td>TUN</td>\n",
       "      <td>AF</td>\n",
       "      <td>48.519836</td>\n",
       "      <td>366.8180</td>\n",
       "      <td>361.0555</td>\n",
       "      <td>386.4034</td>\n",
       "    </tr>\n",
       "    <tr>\n",
       "      <th>66</th>\n",
       "      <td>TUR</td>\n",
       "      <td>EU</td>\n",
       "      <td>53.744979</td>\n",
       "      <td>420.4540</td>\n",
       "      <td>428.3351</td>\n",
       "      <td>425.4895</td>\n",
       "    </tr>\n",
       "    <tr>\n",
       "      <th>67</th>\n",
       "      <td>URY</td>\n",
       "      <td>SA</td>\n",
       "      <td>64.600000</td>\n",
       "      <td>417.9919</td>\n",
       "      <td>436.5721</td>\n",
       "      <td>435.3630</td>\n",
       "    </tr>\n",
       "    <tr>\n",
       "      <th>68</th>\n",
       "      <td>USA</td>\n",
       "      <td>NaN</td>\n",
       "      <td>74.554202</td>\n",
       "      <td>469.6285</td>\n",
       "      <td>496.9351</td>\n",
       "      <td>496.2424</td>\n",
       "    </tr>\n",
       "    <tr>\n",
       "      <th>69</th>\n",
       "      <td>VNM</td>\n",
       "      <td>AS</td>\n",
       "      <td>43.500000</td>\n",
       "      <td>494.5183</td>\n",
       "      <td>486.7738</td>\n",
       "      <td>524.6445</td>\n",
       "    </tr>\n",
       "  </tbody>\n",
       "</table>\n",
       "<p>70 rows × 6 columns</p>\n",
       "</div>"
      ],
      "text/plain": [
       "   Country Code Continent_Code  internet_users_per_100      Math   Reading  \\\n",
       "0           ALB             EU               63.252933  413.1570  405.2588   \n",
       "1           ARE             AS               90.500000  427.4827  433.5423   \n",
       "2           ARG             SA               68.043064  409.0333  425.3031   \n",
       "3           AUS             OC               84.560519  493.8962  502.9006   \n",
       "4           AUT             EU               83.940142  496.7423  484.8656   \n",
       "..          ...            ...                     ...       ...       ...   \n",
       "65          TUN             AF               48.519836  366.8180  361.0555   \n",
       "66          TUR             EU               53.744979  420.4540  428.3351   \n",
       "67          URY             SA               64.600000  417.9919  436.5721   \n",
       "68          USA            NaN               74.554202  469.6285  496.9351   \n",
       "69          VNM             AS               43.500000  494.5183  486.7738   \n",
       "\n",
       "     Science  \n",
       "0   427.2250  \n",
       "1   436.7311  \n",
       "2   432.2262  \n",
       "3   509.9939  \n",
       "4   495.0375  \n",
       "..       ...  \n",
       "65  386.4034  \n",
       "66  425.4895  \n",
       "67  435.3630  \n",
       "68  496.2424  \n",
       "69  524.6445  \n",
       "\n",
       "[70 rows x 6 columns]"
      ]
     },
     "execution_count": 27,
     "metadata": {},
     "output_type": "execute_result"
    }
   ],
   "source": [
    "df = pd.read_excel(\"2015_PISA_Test.xlsx\")\n",
    "df"
   ]
  },
  {
   "cell_type": "code",
   "execution_count": 28,
   "id": "5c6071c5",
   "metadata": {
    "id": "5c6071c5",
    "outputId": "dc8b3deb-ec7b-4659-b499-27bad5d4a601"
   },
   "outputs": [
    {
     "data": {
      "text/html": [
       "<div>\n",
       "<style scoped>\n",
       "    .dataframe tbody tr th:only-of-type {\n",
       "        vertical-align: middle;\n",
       "    }\n",
       "\n",
       "    .dataframe tbody tr th {\n",
       "        vertical-align: top;\n",
       "    }\n",
       "\n",
       "    .dataframe thead th {\n",
       "        text-align: right;\n",
       "    }\n",
       "</style>\n",
       "<table border=\"1\" class=\"dataframe\">\n",
       "  <thead>\n",
       "    <tr style=\"text-align: right;\">\n",
       "      <th></th>\n",
       "      <th>count</th>\n",
       "      <th>mean</th>\n",
       "      <th>std</th>\n",
       "      <th>min</th>\n",
       "      <th>25%</th>\n",
       "      <th>50%</th>\n",
       "      <th>75%</th>\n",
       "      <th>max</th>\n",
       "    </tr>\n",
       "  </thead>\n",
       "  <tbody>\n",
       "    <tr>\n",
       "      <th>internet_users_per_100</th>\n",
       "      <td>70.0</td>\n",
       "      <td>71.973099</td>\n",
       "      <td>16.390632</td>\n",
       "      <td>21.976068</td>\n",
       "      <td>60.899020</td>\n",
       "      <td>72.99935</td>\n",
       "      <td>85.026763</td>\n",
       "      <td>98.2000</td>\n",
       "    </tr>\n",
       "    <tr>\n",
       "      <th>Math</th>\n",
       "      <td>70.0</td>\n",
       "      <td>460.971557</td>\n",
       "      <td>53.327205</td>\n",
       "      <td>327.702000</td>\n",
       "      <td>417.416075</td>\n",
       "      <td>477.60715</td>\n",
       "      <td>500.482925</td>\n",
       "      <td>564.1897</td>\n",
       "    </tr>\n",
       "    <tr>\n",
       "      <th>Reading</th>\n",
       "      <td>70.0</td>\n",
       "      <td>460.997291</td>\n",
       "      <td>49.502679</td>\n",
       "      <td>346.549000</td>\n",
       "      <td>426.948625</td>\n",
       "      <td>480.19985</td>\n",
       "      <td>499.687475</td>\n",
       "      <td>535.1002</td>\n",
       "    </tr>\n",
       "    <tr>\n",
       "      <th>Science</th>\n",
       "      <td>70.0</td>\n",
       "      <td>465.439093</td>\n",
       "      <td>48.397254</td>\n",
       "      <td>331.638800</td>\n",
       "      <td>425.923375</td>\n",
       "      <td>475.40005</td>\n",
       "      <td>502.431250</td>\n",
       "      <td>555.5747</td>\n",
       "    </tr>\n",
       "  </tbody>\n",
       "</table>\n",
       "</div>"
      ],
      "text/plain": [
       "                        count        mean        std         min         25%  \\\n",
       "internet_users_per_100   70.0   71.973099  16.390632   21.976068   60.899020   \n",
       "Math                     70.0  460.971557  53.327205  327.702000  417.416075   \n",
       "Reading                  70.0  460.997291  49.502679  346.549000  426.948625   \n",
       "Science                  70.0  465.439093  48.397254  331.638800  425.923375   \n",
       "\n",
       "                              50%         75%       max  \n",
       "internet_users_per_100   72.99935   85.026763   98.2000  \n",
       "Math                    477.60715  500.482925  564.1897  \n",
       "Reading                 480.19985  499.687475  535.1002  \n",
       "Science                 475.40005  502.431250  555.5747  "
      ]
     },
     "execution_count": 28,
     "metadata": {},
     "output_type": "execute_result"
    }
   ],
   "source": [
    "df.describe().T"
   ]
  },
  {
   "cell_type": "code",
   "execution_count": 29,
   "id": "c07015c3",
   "metadata": {
    "id": "c07015c3",
    "outputId": "67600439-6668-4667-b533-4adbb3bcfee3"
   },
   "outputs": [
    {
     "name": "stdout",
     "output_type": "stream",
     "text": [
      "<class 'pandas.core.frame.DataFrame'>\n",
      "RangeIndex: 70 entries, 0 to 69\n",
      "Data columns (total 6 columns):\n",
      " #   Column                  Non-Null Count  Dtype  \n",
      "---  ------                  --------------  -----  \n",
      " 0   Country Code            70 non-null     object \n",
      " 1   Continent_Code          65 non-null     object \n",
      " 2   internet_users_per_100  70 non-null     float64\n",
      " 3   Math                    70 non-null     float64\n",
      " 4   Reading                 70 non-null     float64\n",
      " 5   Science                 70 non-null     float64\n",
      "dtypes: float64(4), object(2)\n",
      "memory usage: 3.4+ KB\n"
     ]
    }
   ],
   "source": [
    "df.info()"
   ]
  },
  {
   "cell_type": "code",
   "execution_count": 30,
   "id": "280fe53d",
   "metadata": {},
   "outputs": [
    {
     "data": {
      "text/plain": [
       "Continent_Code\n",
       "EU     37\n",
       "AS     17\n",
       "SA      7\n",
       "NaN     5\n",
       "OC      2\n",
       "AF      2\n",
       "Name: count, dtype: int64"
      ]
     },
     "execution_count": 30,
     "metadata": {},
     "output_type": "execute_result"
    }
   ],
   "source": [
    "df.Continent_Code.value_counts(dropna=False)"
   ]
  },
  {
   "cell_type": "code",
   "execution_count": 31,
   "id": "fed8db0e",
   "metadata": {},
   "outputs": [
    {
     "data": {
      "text/html": [
       "<div>\n",
       "<style scoped>\n",
       "    .dataframe tbody tr th:only-of-type {\n",
       "        vertical-align: middle;\n",
       "    }\n",
       "\n",
       "    .dataframe tbody tr th {\n",
       "        vertical-align: top;\n",
       "    }\n",
       "\n",
       "    .dataframe thead th {\n",
       "        text-align: right;\n",
       "    }\n",
       "</style>\n",
       "<table border=\"1\" class=\"dataframe\">\n",
       "  <thead>\n",
       "    <tr style=\"text-align: right;\">\n",
       "      <th></th>\n",
       "      <th>Country Code</th>\n",
       "      <th>Continent_Code</th>\n",
       "      <th>internet_users_per_100</th>\n",
       "      <th>Math</th>\n",
       "      <th>Reading</th>\n",
       "      <th>Science</th>\n",
       "    </tr>\n",
       "  </thead>\n",
       "  <tbody>\n",
       "    <tr>\n",
       "      <th>8</th>\n",
       "      <td>CAN</td>\n",
       "      <td>NaN</td>\n",
       "      <td>88.470000</td>\n",
       "      <td>515.6474</td>\n",
       "      <td>526.6678</td>\n",
       "      <td>527.7047</td>\n",
       "    </tr>\n",
       "    <tr>\n",
       "      <th>13</th>\n",
       "      <td>CRI</td>\n",
       "      <td>NaN</td>\n",
       "      <td>59.762950</td>\n",
       "      <td>400.2534</td>\n",
       "      <td>427.4875</td>\n",
       "      <td>419.6080</td>\n",
       "    </tr>\n",
       "    <tr>\n",
       "      <th>18</th>\n",
       "      <td>DOM</td>\n",
       "      <td>NaN</td>\n",
       "      <td>54.215766</td>\n",
       "      <td>327.7020</td>\n",
       "      <td>357.7377</td>\n",
       "      <td>331.6388</td>\n",
       "    </tr>\n",
       "    <tr>\n",
       "      <th>45</th>\n",
       "      <td>MEX</td>\n",
       "      <td>NaN</td>\n",
       "      <td>57.431043</td>\n",
       "      <td>408.0235</td>\n",
       "      <td>423.2765</td>\n",
       "      <td>415.7099</td>\n",
       "    </tr>\n",
       "    <tr>\n",
       "      <th>68</th>\n",
       "      <td>USA</td>\n",
       "      <td>NaN</td>\n",
       "      <td>74.554202</td>\n",
       "      <td>469.6285</td>\n",
       "      <td>496.9351</td>\n",
       "      <td>496.2424</td>\n",
       "    </tr>\n",
       "  </tbody>\n",
       "</table>\n",
       "</div>"
      ],
      "text/plain": [
       "   Country Code Continent_Code  internet_users_per_100      Math   Reading  \\\n",
       "8           CAN            NaN               88.470000  515.6474  526.6678   \n",
       "13          CRI            NaN               59.762950  400.2534  427.4875   \n",
       "18          DOM            NaN               54.215766  327.7020  357.7377   \n",
       "45          MEX            NaN               57.431043  408.0235  423.2765   \n",
       "68          USA            NaN               74.554202  469.6285  496.9351   \n",
       "\n",
       "     Science  \n",
       "8   527.7047  \n",
       "13  419.6080  \n",
       "18  331.6388  \n",
       "45  415.7099  \n",
       "68  496.2424  "
      ]
     },
     "execution_count": 31,
     "metadata": {},
     "output_type": "execute_result"
    }
   ],
   "source": [
    "# Filling null values in order to compare the continents more efficiently:\n",
    "\n",
    "df[df.Continent_Code.isnull()]"
   ]
  },
  {
   "cell_type": "code",
   "execution_count": 32,
   "id": "9d954884",
   "metadata": {},
   "outputs": [],
   "source": [
    "df.loc[8,  \"Continent_Code\"] = \"NA\"\n",
    "df.loc[13, \"Continent_Code\"] = \"NA\"\n",
    "df.loc[18, \"Continent_Code\"] = \"NA\"\n",
    "df.loc[45, \"Continent_Code\"] = \"SA\"\n",
    "df.loc[68, \"Continent_Code\"] = \"NA\""
   ]
  },
  {
   "cell_type": "code",
   "execution_count": 33,
   "id": "55d0e75b",
   "metadata": {},
   "outputs": [
    {
     "data": {
      "text/plain": [
       "Country Code              0\n",
       "Continent_Code            0\n",
       "internet_users_per_100    0\n",
       "Math                      0\n",
       "Reading                   0\n",
       "Science                   0\n",
       "dtype: int64"
      ]
     },
     "execution_count": 33,
     "metadata": {},
     "output_type": "execute_result"
    }
   ],
   "source": [
    "df.isnull().sum()"
   ]
  },
  {
   "cell_type": "code",
   "execution_count": 34,
   "id": "0d063b1a",
   "metadata": {},
   "outputs": [
    {
     "data": {
      "text/html": [
       "<div>\n",
       "<style scoped>\n",
       "    .dataframe tbody tr th:only-of-type {\n",
       "        vertical-align: middle;\n",
       "    }\n",
       "\n",
       "    .dataframe tbody tr th {\n",
       "        vertical-align: top;\n",
       "    }\n",
       "\n",
       "    .dataframe thead th {\n",
       "        text-align: right;\n",
       "    }\n",
       "</style>\n",
       "<table border=\"1\" class=\"dataframe\">\n",
       "  <thead>\n",
       "    <tr style=\"text-align: right;\">\n",
       "      <th></th>\n",
       "      <th>Continent_Code</th>\n",
       "      <th>AF</th>\n",
       "      <th>AS</th>\n",
       "      <th>EU</th>\n",
       "      <th>NA</th>\n",
       "      <th>OC</th>\n",
       "      <th>SA</th>\n",
       "    </tr>\n",
       "  </thead>\n",
       "  <tbody>\n",
       "    <tr>\n",
       "      <th rowspan=\"8\" valign=\"top\">internet_users_per_100</th>\n",
       "      <th>count</th>\n",
       "      <td>2.000000</td>\n",
       "      <td>17.000000</td>\n",
       "      <td>37.000000</td>\n",
       "      <td>4.000000</td>\n",
       "      <td>2.000000</td>\n",
       "      <td>8.000000</td>\n",
       "    </tr>\n",
       "    <tr>\n",
       "      <th>mean</th>\n",
       "      <td>43.359918</td>\n",
       "      <td>68.455613</td>\n",
       "      <td>77.274888</td>\n",
       "      <td>69.250730</td>\n",
       "      <td>86.391704</td>\n",
       "      <td>59.836813</td>\n",
       "    </tr>\n",
       "    <tr>\n",
       "      <th>std</th>\n",
       "      <td>7.297226</td>\n",
       "      <td>21.086060</td>\n",
       "      <td>12.425773</td>\n",
       "      <td>15.422659</td>\n",
       "      <td>2.589686</td>\n",
       "      <td>9.099606</td>\n",
       "    </tr>\n",
       "    <tr>\n",
       "      <th>min</th>\n",
       "      <td>38.200000</td>\n",
       "      <td>21.976068</td>\n",
       "      <td>53.744979</td>\n",
       "      <td>54.215766</td>\n",
       "      <td>84.560519</td>\n",
       "      <td>40.900000</td>\n",
       "    </tr>\n",
       "    <tr>\n",
       "      <th>25%</th>\n",
       "      <td>40.779959</td>\n",
       "      <td>50.300000</td>\n",
       "      <td>68.632900</td>\n",
       "      <td>58.376154</td>\n",
       "      <td>85.476112</td>\n",
       "      <td>57.049525</td>\n",
       "    </tr>\n",
       "    <tr>\n",
       "      <th>50%</th>\n",
       "      <td>43.359918</td>\n",
       "      <td>74.000000</td>\n",
       "      <td>76.184000</td>\n",
       "      <td>67.158576</td>\n",
       "      <td>86.391704</td>\n",
       "      <td>61.308476</td>\n",
       "    </tr>\n",
       "    <tr>\n",
       "      <th>75%</th>\n",
       "      <td>45.939877</td>\n",
       "      <td>84.948353</td>\n",
       "      <td>87.479056</td>\n",
       "      <td>78.033152</td>\n",
       "      <td>87.307296</td>\n",
       "      <td>65.460766</td>\n",
       "    </tr>\n",
       "    <tr>\n",
       "      <th>max</th>\n",
       "      <td>48.519836</td>\n",
       "      <td>92.884826</td>\n",
       "      <td>98.200000</td>\n",
       "      <td>88.470000</td>\n",
       "      <td>88.222889</td>\n",
       "      <td>69.198471</td>\n",
       "    </tr>\n",
       "    <tr>\n",
       "      <th rowspan=\"8\" valign=\"top\">Math</th>\n",
       "      <th>count</th>\n",
       "      <td>2.000000</td>\n",
       "      <td>17.000000</td>\n",
       "      <td>37.000000</td>\n",
       "      <td>4.000000</td>\n",
       "      <td>2.000000</td>\n",
       "      <td>8.000000</td>\n",
       "    </tr>\n",
       "    <tr>\n",
       "      <th>mean</th>\n",
       "      <td>363.212100</td>\n",
       "      <td>466.216647</td>\n",
       "      <td>477.981449</td>\n",
       "      <td>428.307825</td>\n",
       "      <td>494.559750</td>\n",
       "      <td>403.529675</td>\n",
       "    </tr>\n",
       "    <tr>\n",
       "      <th>std</th>\n",
       "      <td>5.099513</td>\n",
       "      <td>64.356490</td>\n",
       "      <td>35.150403</td>\n",
       "      <td>82.146581</td>\n",
       "      <td>0.938401</td>\n",
       "      <td>16.882028</td>\n",
       "    </tr>\n",
       "    <tr>\n",
       "      <th>min</th>\n",
       "      <td>359.606200</td>\n",
       "      <td>380.259000</td>\n",
       "      <td>371.311400</td>\n",
       "      <td>327.702000</td>\n",
       "      <td>493.896200</td>\n",
       "      <td>377.069500</td>\n",
       "    </tr>\n",
       "    <tr>\n",
       "      <th>25%</th>\n",
       "      <td>361.409150</td>\n",
       "      <td>403.833200</td>\n",
       "      <td>464.040100</td>\n",
       "      <td>382.115550</td>\n",
       "      <td>494.227975</td>\n",
       "      <td>388.873000</td>\n",
       "    </tr>\n",
       "    <tr>\n",
       "      <th>50%</th>\n",
       "      <td>363.212100</td>\n",
       "      <td>459.816000</td>\n",
       "      <td>489.728700</td>\n",
       "      <td>434.940950</td>\n",
       "      <td>494.559750</td>\n",
       "      <td>408.528400</td>\n",
       "    </tr>\n",
       "    <tr>\n",
       "      <th>75%</th>\n",
       "      <td>365.015050</td>\n",
       "      <td>531.296100</td>\n",
       "      <td>503.722000</td>\n",
       "      <td>481.133225</td>\n",
       "      <td>494.891525</td>\n",
       "      <td>417.430525</td>\n",
       "    </tr>\n",
       "    <tr>\n",
       "      <th>max</th>\n",
       "      <td>366.818000</td>\n",
       "      <td>564.189700</td>\n",
       "      <td>521.250600</td>\n",
       "      <td>515.647400</td>\n",
       "      <td>495.223300</td>\n",
       "      <td>422.671400</td>\n",
       "    </tr>\n",
       "    <tr>\n",
       "      <th rowspan=\"8\" valign=\"top\">Reading</th>\n",
       "      <th>count</th>\n",
       "      <td>2.000000</td>\n",
       "      <td>17.000000</td>\n",
       "      <td>37.000000</td>\n",
       "      <td>4.000000</td>\n",
       "      <td>2.000000</td>\n",
       "      <td>8.000000</td>\n",
       "    </tr>\n",
       "    <tr>\n",
       "      <th>mean</th>\n",
       "      <td>355.457400</td>\n",
       "      <td>454.059682</td>\n",
       "      <td>476.164608</td>\n",
       "      <td>452.207025</td>\n",
       "      <td>506.085650</td>\n",
       "      <td>425.098887</td>\n",
       "    </tr>\n",
       "    <tr>\n",
       "      <th>std</th>\n",
       "      <td>7.916909</td>\n",
       "      <td>57.048962</td>\n",
       "      <td>37.720545</td>\n",
       "      <td>75.455320</td>\n",
       "      <td>4.504341</td>\n",
       "      <td>18.262477</td>\n",
       "    </tr>\n",
       "    <tr>\n",
       "      <th>min</th>\n",
       "      <td>349.859300</td>\n",
       "      <td>346.549000</td>\n",
       "      <td>351.741500</td>\n",
       "      <td>357.737700</td>\n",
       "      <td>502.900600</td>\n",
       "      <td>397.541400</td>\n",
       "    </tr>\n",
       "    <tr>\n",
       "      <th>25%</th>\n",
       "      <td>352.658350</td>\n",
       "      <td>408.102200</td>\n",
       "      <td>452.514300</td>\n",
       "      <td>410.050050</td>\n",
       "      <td>504.493125</td>\n",
       "      <td>419.294525</td>\n",
       "    </tr>\n",
       "    <tr>\n",
       "      <th>50%</th>\n",
       "      <td>355.457400</td>\n",
       "      <td>433.542300</td>\n",
       "      <td>487.250100</td>\n",
       "      <td>462.211300</td>\n",
       "      <td>506.085650</td>\n",
       "      <td>425.104150</td>\n",
       "    </tr>\n",
       "    <tr>\n",
       "      <th>75%</th>\n",
       "      <td>358.256450</td>\n",
       "      <td>508.690500</td>\n",
       "      <td>499.814600</td>\n",
       "      <td>504.368275</td>\n",
       "      <td>507.678175</td>\n",
       "      <td>429.598000</td>\n",
       "    </tr>\n",
       "    <tr>\n",
       "      <th>max</th>\n",
       "      <td>361.055500</td>\n",
       "      <td>535.100200</td>\n",
       "      <td>526.424700</td>\n",
       "      <td>526.667800</td>\n",
       "      <td>509.270700</td>\n",
       "      <td>458.570900</td>\n",
       "    </tr>\n",
       "    <tr>\n",
       "      <th rowspan=\"8\" valign=\"top\">Science</th>\n",
       "      <th>count</th>\n",
       "      <td>2.000000</td>\n",
       "      <td>17.000000</td>\n",
       "      <td>37.000000</td>\n",
       "      <td>4.000000</td>\n",
       "      <td>2.000000</td>\n",
       "      <td>8.000000</td>\n",
       "    </tr>\n",
       "    <tr>\n",
       "      <th>mean</th>\n",
       "      <td>381.074250</td>\n",
       "      <td>467.945847</td>\n",
       "      <td>478.299381</td>\n",
       "      <td>443.798475</td>\n",
       "      <td>511.648700</td>\n",
       "      <td>420.992525</td>\n",
       "    </tr>\n",
       "    <tr>\n",
       "      <th>std</th>\n",
       "      <td>7.536556</td>\n",
       "      <td>56.671371</td>\n",
       "      <td>34.450616</td>\n",
       "      <td>87.474933</td>\n",
       "      <td>2.340241</td>\n",
       "      <td>17.232895</td>\n",
       "    </tr>\n",
       "    <tr>\n",
       "      <th>min</th>\n",
       "      <td>375.745100</td>\n",
       "      <td>386.485400</td>\n",
       "      <td>383.682400</td>\n",
       "      <td>331.638800</td>\n",
       "      <td>509.993900</td>\n",
       "      <td>396.683600</td>\n",
       "    </tr>\n",
       "    <tr>\n",
       "      <th>25%</th>\n",
       "      <td>378.409675</td>\n",
       "      <td>417.611200</td>\n",
       "      <td>460.774900</td>\n",
       "      <td>397.615700</td>\n",
       "      <td>510.821300</td>\n",
       "      <td>411.952950</td>\n",
       "    </tr>\n",
       "    <tr>\n",
       "      <th>50%</th>\n",
       "      <td>381.074250</td>\n",
       "      <td>456.483600</td>\n",
       "      <td>490.225000</td>\n",
       "      <td>457.925200</td>\n",
       "      <td>511.648700</td>\n",
       "      <td>420.159650</td>\n",
       "    </tr>\n",
       "    <tr>\n",
       "      <th>75%</th>\n",
       "      <td>383.738825</td>\n",
       "      <td>523.277400</td>\n",
       "      <td>501.936900</td>\n",
       "      <td>504.107975</td>\n",
       "      <td>512.476100</td>\n",
       "      <td>433.010400</td>\n",
       "    </tr>\n",
       "    <tr>\n",
       "      <th>max</th>\n",
       "      <td>386.403400</td>\n",
       "      <td>555.574700</td>\n",
       "      <td>534.193700</td>\n",
       "      <td>527.704700</td>\n",
       "      <td>513.303500</td>\n",
       "      <td>446.956100</td>\n",
       "    </tr>\n",
       "  </tbody>\n",
       "</table>\n",
       "</div>"
      ],
      "text/plain": [
       "Continent_Code                        AF          AS          EU          NA  \\\n",
       "internet_users_per_100 count    2.000000   17.000000   37.000000    4.000000   \n",
       "                       mean    43.359918   68.455613   77.274888   69.250730   \n",
       "                       std      7.297226   21.086060   12.425773   15.422659   \n",
       "                       min     38.200000   21.976068   53.744979   54.215766   \n",
       "                       25%     40.779959   50.300000   68.632900   58.376154   \n",
       "                       50%     43.359918   74.000000   76.184000   67.158576   \n",
       "                       75%     45.939877   84.948353   87.479056   78.033152   \n",
       "                       max     48.519836   92.884826   98.200000   88.470000   \n",
       "Math                   count    2.000000   17.000000   37.000000    4.000000   \n",
       "                       mean   363.212100  466.216647  477.981449  428.307825   \n",
       "                       std      5.099513   64.356490   35.150403   82.146581   \n",
       "                       min    359.606200  380.259000  371.311400  327.702000   \n",
       "                       25%    361.409150  403.833200  464.040100  382.115550   \n",
       "                       50%    363.212100  459.816000  489.728700  434.940950   \n",
       "                       75%    365.015050  531.296100  503.722000  481.133225   \n",
       "                       max    366.818000  564.189700  521.250600  515.647400   \n",
       "Reading                count    2.000000   17.000000   37.000000    4.000000   \n",
       "                       mean   355.457400  454.059682  476.164608  452.207025   \n",
       "                       std      7.916909   57.048962   37.720545   75.455320   \n",
       "                       min    349.859300  346.549000  351.741500  357.737700   \n",
       "                       25%    352.658350  408.102200  452.514300  410.050050   \n",
       "                       50%    355.457400  433.542300  487.250100  462.211300   \n",
       "                       75%    358.256450  508.690500  499.814600  504.368275   \n",
       "                       max    361.055500  535.100200  526.424700  526.667800   \n",
       "Science                count    2.000000   17.000000   37.000000    4.000000   \n",
       "                       mean   381.074250  467.945847  478.299381  443.798475   \n",
       "                       std      7.536556   56.671371   34.450616   87.474933   \n",
       "                       min    375.745100  386.485400  383.682400  331.638800   \n",
       "                       25%    378.409675  417.611200  460.774900  397.615700   \n",
       "                       50%    381.074250  456.483600  490.225000  457.925200   \n",
       "                       75%    383.738825  523.277400  501.936900  504.107975   \n",
       "                       max    386.403400  555.574700  534.193700  527.704700   \n",
       "\n",
       "Continent_Code                        OC          SA  \n",
       "internet_users_per_100 count    2.000000    8.000000  \n",
       "                       mean    86.391704   59.836813  \n",
       "                       std      2.589686    9.099606  \n",
       "                       min     84.560519   40.900000  \n",
       "                       25%     85.476112   57.049525  \n",
       "                       50%     86.391704   61.308476  \n",
       "                       75%     87.307296   65.460766  \n",
       "                       max     88.222889   69.198471  \n",
       "Math                   count    2.000000    8.000000  \n",
       "                       mean   494.559750  403.529675  \n",
       "                       std      0.938401   16.882028  \n",
       "                       min    493.896200  377.069500  \n",
       "                       25%    494.227975  388.873000  \n",
       "                       50%    494.559750  408.528400  \n",
       "                       75%    494.891525  417.430525  \n",
       "                       max    495.223300  422.671400  \n",
       "Reading                count    2.000000    8.000000  \n",
       "                       mean   506.085650  425.098887  \n",
       "                       std      4.504341   18.262477  \n",
       "                       min    502.900600  397.541400  \n",
       "                       25%    504.493125  419.294525  \n",
       "                       50%    506.085650  425.104150  \n",
       "                       75%    507.678175  429.598000  \n",
       "                       max    509.270700  458.570900  \n",
       "Science                count    2.000000    8.000000  \n",
       "                       mean   511.648700  420.992525  \n",
       "                       std      2.340241   17.232895  \n",
       "                       min    509.993900  396.683600  \n",
       "                       25%    510.821300  411.952950  \n",
       "                       50%    511.648700  420.159650  \n",
       "                       75%    512.476100  433.010400  \n",
       "                       max    513.303500  446.956100  "
      ]
     },
     "execution_count": 34,
     "metadata": {},
     "output_type": "execute_result"
    }
   ],
   "source": [
    "# Descriptive statistics for each continent:\n",
    "\n",
    "df.groupby(\"Continent_Code\").describe().T"
   ]
  },
  {
   "cell_type": "markdown",
   "id": "d9a5d66c",
   "metadata": {},
   "source": [
    "#### <p style=\"background-color:#8CCED1; font-family:newtimeroman; color:#635EA7; font-size:175%; text-align:left; border-radius:10px 10px;\">Exploring EU & ASIAN Countries:</p>\n",
    "\n",
    "Determine whether there is any difference (on the average) for the math scores among European (EU) and Asian (AS) countries (assume normality and equal variances). Draw side-by-side box plots. CHECK: statistic=0.870055317967983, pvalue=0.38826888111307345"
   ]
  },
  {
   "cell_type": "code",
   "execution_count": 35,
   "id": "aad87cc7",
   "metadata": {},
   "outputs": [
    {
     "data": {
      "text/plain": [
       "Index(['Country Code', 'Continent_Code', 'internet_users_per_100', 'Math',\n",
       "       'Reading', 'Science'],\n",
       "      dtype='object')"
      ]
     },
     "execution_count": 35,
     "metadata": {},
     "output_type": "execute_result"
    }
   ],
   "source": [
    "df.columns"
   ]
  },
  {
   "cell_type": "code",
   "execution_count": 36,
   "id": "51443511",
   "metadata": {},
   "outputs": [
    {
     "data": {
      "text/html": [
       "<div>\n",
       "<style scoped>\n",
       "    .dataframe tbody tr th:only-of-type {\n",
       "        vertical-align: middle;\n",
       "    }\n",
       "\n",
       "    .dataframe tbody tr th {\n",
       "        vertical-align: top;\n",
       "    }\n",
       "\n",
       "    .dataframe thead th {\n",
       "        text-align: right;\n",
       "    }\n",
       "</style>\n",
       "<table border=\"1\" class=\"dataframe\">\n",
       "  <thead>\n",
       "    <tr style=\"text-align: right;\">\n",
       "      <th></th>\n",
       "      <th>Country Code</th>\n",
       "      <th>Continent_Code</th>\n",
       "      <th>Math</th>\n",
       "    </tr>\n",
       "  </thead>\n",
       "  <tbody>\n",
       "    <tr>\n",
       "      <th>0</th>\n",
       "      <td>ALB</td>\n",
       "      <td>EU</td>\n",
       "      <td>413.1570</td>\n",
       "    </tr>\n",
       "    <tr>\n",
       "      <th>1</th>\n",
       "      <td>ARE</td>\n",
       "      <td>AS</td>\n",
       "      <td>427.4827</td>\n",
       "    </tr>\n",
       "    <tr>\n",
       "      <th>4</th>\n",
       "      <td>AUT</td>\n",
       "      <td>EU</td>\n",
       "      <td>496.7423</td>\n",
       "    </tr>\n",
       "    <tr>\n",
       "      <th>5</th>\n",
       "      <td>BEL</td>\n",
       "      <td>EU</td>\n",
       "      <td>506.9844</td>\n",
       "    </tr>\n",
       "    <tr>\n",
       "      <th>6</th>\n",
       "      <td>BGR</td>\n",
       "      <td>EU</td>\n",
       "      <td>441.1899</td>\n",
       "    </tr>\n",
       "    <tr>\n",
       "      <th>9</th>\n",
       "      <td>CHE</td>\n",
       "      <td>EU</td>\n",
       "      <td>521.2506</td>\n",
       "    </tr>\n",
       "    <tr>\n",
       "      <th>11</th>\n",
       "      <td>CHN</td>\n",
       "      <td>AS</td>\n",
       "      <td>531.2961</td>\n",
       "    </tr>\n",
       "    <tr>\n",
       "      <th>14</th>\n",
       "      <td>CYP</td>\n",
       "      <td>EU</td>\n",
       "      <td>437.1443</td>\n",
       "    </tr>\n",
       "    <tr>\n",
       "      <th>15</th>\n",
       "      <td>CZE</td>\n",
       "      <td>EU</td>\n",
       "      <td>492.3254</td>\n",
       "    </tr>\n",
       "    <tr>\n",
       "      <th>16</th>\n",
       "      <td>DEU</td>\n",
       "      <td>EU</td>\n",
       "      <td>505.9713</td>\n",
       "    </tr>\n",
       "    <tr>\n",
       "      <th>17</th>\n",
       "      <td>DNK</td>\n",
       "      <td>EU</td>\n",
       "      <td>511.0876</td>\n",
       "    </tr>\n",
       "    <tr>\n",
       "      <th>20</th>\n",
       "      <td>ESP</td>\n",
       "      <td>EU</td>\n",
       "      <td>485.8432</td>\n",
       "    </tr>\n",
       "    <tr>\n",
       "      <th>21</th>\n",
       "      <td>EST</td>\n",
       "      <td>EU</td>\n",
       "      <td>519.5291</td>\n",
       "    </tr>\n",
       "    <tr>\n",
       "      <th>22</th>\n",
       "      <td>FIN</td>\n",
       "      <td>EU</td>\n",
       "      <td>511.0769</td>\n",
       "    </tr>\n",
       "    <tr>\n",
       "      <th>23</th>\n",
       "      <td>FRA</td>\n",
       "      <td>EU</td>\n",
       "      <td>492.9204</td>\n",
       "    </tr>\n",
       "    <tr>\n",
       "      <th>24</th>\n",
       "      <td>GBR</td>\n",
       "      <td>EU</td>\n",
       "      <td>492.4785</td>\n",
       "    </tr>\n",
       "    <tr>\n",
       "      <th>25</th>\n",
       "      <td>GEO</td>\n",
       "      <td>AS</td>\n",
       "      <td>403.8332</td>\n",
       "    </tr>\n",
       "    <tr>\n",
       "      <th>26</th>\n",
       "      <td>GRC</td>\n",
       "      <td>EU</td>\n",
       "      <td>453.6299</td>\n",
       "    </tr>\n",
       "    <tr>\n",
       "      <th>27</th>\n",
       "      <td>HKG</td>\n",
       "      <td>AS</td>\n",
       "      <td>547.9310</td>\n",
       "    </tr>\n",
       "    <tr>\n",
       "      <th>28</th>\n",
       "      <td>HRV</td>\n",
       "      <td>EU</td>\n",
       "      <td>464.0401</td>\n",
       "    </tr>\n",
       "    <tr>\n",
       "      <th>29</th>\n",
       "      <td>HUN</td>\n",
       "      <td>EU</td>\n",
       "      <td>476.8309</td>\n",
       "    </tr>\n",
       "    <tr>\n",
       "      <th>30</th>\n",
       "      <td>IDN</td>\n",
       "      <td>AS</td>\n",
       "      <td>386.1096</td>\n",
       "    </tr>\n",
       "    <tr>\n",
       "      <th>31</th>\n",
       "      <td>IRL</td>\n",
       "      <td>EU</td>\n",
       "      <td>503.7220</td>\n",
       "    </tr>\n",
       "    <tr>\n",
       "      <th>32</th>\n",
       "      <td>ISL</td>\n",
       "      <td>EU</td>\n",
       "      <td>488.0332</td>\n",
       "    </tr>\n",
       "    <tr>\n",
       "      <th>33</th>\n",
       "      <td>ISR</td>\n",
       "      <td>AS</td>\n",
       "      <td>469.6695</td>\n",
       "    </tr>\n",
       "    <tr>\n",
       "      <th>34</th>\n",
       "      <td>ITA</td>\n",
       "      <td>EU</td>\n",
       "      <td>489.7287</td>\n",
       "    </tr>\n",
       "    <tr>\n",
       "      <th>35</th>\n",
       "      <td>JOR</td>\n",
       "      <td>AS</td>\n",
       "      <td>380.2590</td>\n",
       "    </tr>\n",
       "    <tr>\n",
       "      <th>36</th>\n",
       "      <td>JPN</td>\n",
       "      <td>AS</td>\n",
       "      <td>532.4399</td>\n",
       "    </tr>\n",
       "    <tr>\n",
       "      <th>37</th>\n",
       "      <td>KAZ</td>\n",
       "      <td>AS</td>\n",
       "      <td>459.8160</td>\n",
       "    </tr>\n",
       "    <tr>\n",
       "      <th>38</th>\n",
       "      <td>KOR</td>\n",
       "      <td>AS</td>\n",
       "      <td>524.1062</td>\n",
       "    </tr>\n",
       "    <tr>\n",
       "      <th>39</th>\n",
       "      <td>LBN</td>\n",
       "      <td>AS</td>\n",
       "      <td>396.2497</td>\n",
       "    </tr>\n",
       "    <tr>\n",
       "      <th>40</th>\n",
       "      <td>LTU</td>\n",
       "      <td>EU</td>\n",
       "      <td>478.3834</td>\n",
       "    </tr>\n",
       "    <tr>\n",
       "      <th>41</th>\n",
       "      <td>LUX</td>\n",
       "      <td>EU</td>\n",
       "      <td>485.7706</td>\n",
       "    </tr>\n",
       "    <tr>\n",
       "      <th>42</th>\n",
       "      <td>LVA</td>\n",
       "      <td>EU</td>\n",
       "      <td>482.3051</td>\n",
       "    </tr>\n",
       "    <tr>\n",
       "      <th>43</th>\n",
       "      <td>MAC</td>\n",
       "      <td>AS</td>\n",
       "      <td>543.8078</td>\n",
       "    </tr>\n",
       "    <tr>\n",
       "      <th>44</th>\n",
       "      <td>MDA</td>\n",
       "      <td>EU</td>\n",
       "      <td>419.6635</td>\n",
       "    </tr>\n",
       "    <tr>\n",
       "      <th>46</th>\n",
       "      <td>MKD</td>\n",
       "      <td>EU</td>\n",
       "      <td>371.3114</td>\n",
       "    </tr>\n",
       "    <tr>\n",
       "      <th>47</th>\n",
       "      <td>MLT</td>\n",
       "      <td>EU</td>\n",
       "      <td>478.6448</td>\n",
       "    </tr>\n",
       "    <tr>\n",
       "      <th>48</th>\n",
       "      <td>MNE</td>\n",
       "      <td>EU</td>\n",
       "      <td>417.9341</td>\n",
       "    </tr>\n",
       "    <tr>\n",
       "      <th>49</th>\n",
       "      <td>MYS</td>\n",
       "      <td>AS</td>\n",
       "      <td>446.1098</td>\n",
       "    </tr>\n",
       "    <tr>\n",
       "      <th>50</th>\n",
       "      <td>NLD</td>\n",
       "      <td>EU</td>\n",
       "      <td>512.2528</td>\n",
       "    </tr>\n",
       "    <tr>\n",
       "      <th>51</th>\n",
       "      <td>NOR</td>\n",
       "      <td>EU</td>\n",
       "      <td>501.7298</td>\n",
       "    </tr>\n",
       "    <tr>\n",
       "      <th>54</th>\n",
       "      <td>POL</td>\n",
       "      <td>EU</td>\n",
       "      <td>504.4693</td>\n",
       "    </tr>\n",
       "    <tr>\n",
       "      <th>55</th>\n",
       "      <td>PRT</td>\n",
       "      <td>EU</td>\n",
       "      <td>491.6270</td>\n",
       "    </tr>\n",
       "    <tr>\n",
       "      <th>56</th>\n",
       "      <td>QAT</td>\n",
       "      <td>AS</td>\n",
       "      <td>402.4007</td>\n",
       "    </tr>\n",
       "    <tr>\n",
       "      <th>57</th>\n",
       "      <td>ROU</td>\n",
       "      <td>EU</td>\n",
       "      <td>443.9543</td>\n",
       "    </tr>\n",
       "    <tr>\n",
       "      <th>58</th>\n",
       "      <td>RUS</td>\n",
       "      <td>EU</td>\n",
       "      <td>494.0600</td>\n",
       "    </tr>\n",
       "    <tr>\n",
       "      <th>59</th>\n",
       "      <td>SGP</td>\n",
       "      <td>AS</td>\n",
       "      <td>564.1897</td>\n",
       "    </tr>\n",
       "    <tr>\n",
       "      <th>60</th>\n",
       "      <td>SVK</td>\n",
       "      <td>EU</td>\n",
       "      <td>475.2301</td>\n",
       "    </tr>\n",
       "    <tr>\n",
       "      <th>61</th>\n",
       "      <td>SVN</td>\n",
       "      <td>EU</td>\n",
       "      <td>509.9196</td>\n",
       "    </tr>\n",
       "    <tr>\n",
       "      <th>62</th>\n",
       "      <td>SWE</td>\n",
       "      <td>EU</td>\n",
       "      <td>493.9181</td>\n",
       "    </tr>\n",
       "    <tr>\n",
       "      <th>63</th>\n",
       "      <td>THA</td>\n",
       "      <td>AS</td>\n",
       "      <td>415.4638</td>\n",
       "    </tr>\n",
       "    <tr>\n",
       "      <th>66</th>\n",
       "      <td>TUR</td>\n",
       "      <td>EU</td>\n",
       "      <td>420.4540</td>\n",
       "    </tr>\n",
       "    <tr>\n",
       "      <th>69</th>\n",
       "      <td>VNM</td>\n",
       "      <td>AS</td>\n",
       "      <td>494.5183</td>\n",
       "    </tr>\n",
       "  </tbody>\n",
       "</table>\n",
       "</div>"
      ],
      "text/plain": [
       "   Country Code Continent_Code      Math\n",
       "0           ALB             EU  413.1570\n",
       "1           ARE             AS  427.4827\n",
       "4           AUT             EU  496.7423\n",
       "5           BEL             EU  506.9844\n",
       "6           BGR             EU  441.1899\n",
       "9           CHE             EU  521.2506\n",
       "11          CHN             AS  531.2961\n",
       "14          CYP             EU  437.1443\n",
       "15          CZE             EU  492.3254\n",
       "16          DEU             EU  505.9713\n",
       "17          DNK             EU  511.0876\n",
       "20          ESP             EU  485.8432\n",
       "21          EST             EU  519.5291\n",
       "22          FIN             EU  511.0769\n",
       "23          FRA             EU  492.9204\n",
       "24          GBR             EU  492.4785\n",
       "25          GEO             AS  403.8332\n",
       "26          GRC             EU  453.6299\n",
       "27          HKG             AS  547.9310\n",
       "28          HRV             EU  464.0401\n",
       "29          HUN             EU  476.8309\n",
       "30          IDN             AS  386.1096\n",
       "31          IRL             EU  503.7220\n",
       "32          ISL             EU  488.0332\n",
       "33          ISR             AS  469.6695\n",
       "34          ITA             EU  489.7287\n",
       "35          JOR             AS  380.2590\n",
       "36          JPN             AS  532.4399\n",
       "37          KAZ             AS  459.8160\n",
       "38          KOR             AS  524.1062\n",
       "39          LBN             AS  396.2497\n",
       "40          LTU             EU  478.3834\n",
       "41          LUX             EU  485.7706\n",
       "42          LVA             EU  482.3051\n",
       "43          MAC             AS  543.8078\n",
       "44          MDA             EU  419.6635\n",
       "46          MKD             EU  371.3114\n",
       "47          MLT             EU  478.6448\n",
       "48          MNE             EU  417.9341\n",
       "49          MYS             AS  446.1098\n",
       "50          NLD             EU  512.2528\n",
       "51          NOR             EU  501.7298\n",
       "54          POL             EU  504.4693\n",
       "55          PRT             EU  491.6270\n",
       "56          QAT             AS  402.4007\n",
       "57          ROU             EU  443.9543\n",
       "58          RUS             EU  494.0600\n",
       "59          SGP             AS  564.1897\n",
       "60          SVK             EU  475.2301\n",
       "61          SVN             EU  509.9196\n",
       "62          SWE             EU  493.9181\n",
       "63          THA             AS  415.4638\n",
       "66          TUR             EU  420.4540\n",
       "69          VNM             AS  494.5183"
      ]
     },
     "execution_count": 36,
     "metadata": {},
     "output_type": "execute_result"
    }
   ],
   "source": [
    "df_euroasia = df.loc[(df.Continent_Code == \"EU\") | (df.Continent_Code == \"AS\")][[\"Country Code\", \"Continent_Code\", \"Math\"]]\n",
    "df_euroasia"
   ]
  },
  {
   "cell_type": "code",
   "execution_count": 37,
   "id": "a1e13cbf",
   "metadata": {},
   "outputs": [
    {
     "data": {
      "text/plain": [
       "0     413.1570\n",
       "4     496.7423\n",
       "5     506.9844\n",
       "6     441.1899\n",
       "9     521.2506\n",
       "14    437.1443\n",
       "15    492.3254\n",
       "16    505.9713\n",
       "17    511.0876\n",
       "20    485.8432\n",
       "21    519.5291\n",
       "22    511.0769\n",
       "23    492.9204\n",
       "24    492.4785\n",
       "26    453.6299\n",
       "28    464.0401\n",
       "29    476.8309\n",
       "31    503.7220\n",
       "32    488.0332\n",
       "34    489.7287\n",
       "40    478.3834\n",
       "41    485.7706\n",
       "42    482.3051\n",
       "44    419.6635\n",
       "46    371.3114\n",
       "47    478.6448\n",
       "48    417.9341\n",
       "50    512.2528\n",
       "51    501.7298\n",
       "54    504.4693\n",
       "55    491.6270\n",
       "57    443.9543\n",
       "58    494.0600\n",
       "60    475.2301\n",
       "61    509.9196\n",
       "62    493.9181\n",
       "66    420.4540\n",
       "Name: Math, dtype: float64"
      ]
     },
     "execution_count": 37,
     "metadata": {},
     "output_type": "execute_result"
    }
   ],
   "source": [
    "# Math scores of European countries:\n",
    "\n",
    "EU_math = df_euroasia.loc[df.Continent_Code == \"EU\", \"Math\"]\n",
    "EU_math"
   ]
  },
  {
   "cell_type": "code",
   "execution_count": 38,
   "id": "d2c050f8",
   "metadata": {},
   "outputs": [
    {
     "data": {
      "text/plain": [
       "1     427.4827\n",
       "11    531.2961\n",
       "25    403.8332\n",
       "27    547.9310\n",
       "30    386.1096\n",
       "33    469.6695\n",
       "35    380.2590\n",
       "36    532.4399\n",
       "37    459.8160\n",
       "38    524.1062\n",
       "39    396.2497\n",
       "43    543.8078\n",
       "49    446.1098\n",
       "56    402.4007\n",
       "59    564.1897\n",
       "63    415.4638\n",
       "69    494.5183\n",
       "Name: Math, dtype: float64"
      ]
     },
     "execution_count": 38,
     "metadata": {},
     "output_type": "execute_result"
    }
   ],
   "source": [
    "# Math scores of Asian countries\n",
    "AS_math = df_euroasia.loc[df.Continent_Code == \"AS\", \"Math\"]\n",
    "AS_math"
   ]
  },
  {
   "cell_type": "markdown",
   "id": "e1bade48",
   "metadata": {},
   "source": [
    "#### <p style=\"background-color:#8CCED1; font-family:newtimeroman; color:#635EA7; font-size:175%; text-align:left; border-radius:10px 10px;\">1. Stating Null (H0) & Alternative (Ha) Hypotheses:</p>"
   ]
  },
  {
   "cell_type": "raw",
   "id": "bd6111e0",
   "metadata": {},
   "source": [
    "H0: mu1 = mu2 \n",
    "H1: mu1 != mu2\n",
    "\n",
    "H0: The population variances are equal \n",
    "H1: There is a difference between the variances in the population\n",
    "\n",
    "H0: Europe Math and Asia Math scores are SAME wit respect to average scores \n",
    "H1: There is a difference between Europe Math and Asia Math scores"
   ]
  },
  {
   "cell_type": "markdown",
   "id": "8c8950bb",
   "metadata": {},
   "source": [
    "#### <p style=\"background-color:#8CCED1; font-family:newtimeroman; color:#635EA7; font-size:175%; text-align:left; border-radius:10px 10px;\">2. Calculating Test Statistics:</p>"
   ]
  },
  {
   "cell_type": "code",
   "execution_count": 39,
   "id": "9c675182",
   "metadata": {},
   "outputs": [
    {
     "data": {
      "text/plain": [
       "TtestResult(statistic=0.8700553179679789, pvalue=0.38826888111307556, df=52.0)"
      ]
     },
     "execution_count": 39,
     "metadata": {},
     "output_type": "execute_result"
    }
   ],
   "source": [
    "indTest = stats.ttest_ind(EU_math,\n",
    "                          AS_math, \n",
    "                          equal_var=True, \n",
    "                          alternative='two-sided')\n",
    "indTest"
   ]
  },
  {
   "cell_type": "markdown",
   "id": "3bc99304",
   "metadata": {},
   "source": [
    "#### <p style=\"background-color:#8CCED1; font-family:newtimeroman; color:#635EA7; font-size:175%; text-align:left; border-radius:10px 10px;\">3. Calculating P-Value:</p>"
   ]
  },
  {
   "cell_type": "code",
   "execution_count": 40,
   "id": "8ab829c4",
   "metadata": {},
   "outputs": [
    {
     "data": {
      "text/plain": [
       "0.38826888111307556"
      ]
     },
     "execution_count": 40,
     "metadata": {},
     "output_type": "execute_result"
    }
   ],
   "source": [
    "p_value = indTest.pvalue\n",
    "p_value"
   ]
  },
  {
   "cell_type": "markdown",
   "id": "bda5e9e0",
   "metadata": {},
   "source": [
    "#### <p style=\"background-color:#8CCED1; font-family:newtimeroman; color:#635EA7; font-size:175%; text-align:left; border-radius:10px 10px;\">4. Making a Decision:</p>"
   ]
  },
  {
   "cell_type": "markdown",
   "id": "26db0542",
   "metadata": {},
   "source": [
    "<img src=https://i.ibb.co/NCLKcFs/p-value-reject-area.png width=\"400\" height=\"200\">"
   ]
  },
  {
   "cell_type": "code",
   "execution_count": 41,
   "id": "be728e96",
   "metadata": {},
   "outputs": [
    {
     "name": "stdout",
     "output_type": "stream",
     "text": [
      "At 0.05 level of significance, we FAIL to REJECT the null hypothesis.\n"
     ]
    }
   ],
   "source": [
    "alpha = 0.05\n",
    "\n",
    "if p_value < alpha:\n",
    "    print('At {} level of significance, we REJECT the null hypothesis in favor of alternative hypothesis.'.format(alpha))\n",
    "else:\n",
    "    print('At {} level of significance, we FAIL to REJECT the null hypothesis.'.format(alpha))"
   ]
  },
  {
   "cell_type": "markdown",
   "id": "5d471b5d",
   "metadata": {},
   "source": [
    "#### <p style=\"background-color:#8CCED1; font-family:newtimeroman; color:#635EA7; font-size:175%; text-align:left; border-radius:10px 10px;\">Visualization:</p>"
   ]
  },
  {
   "cell_type": "code",
   "execution_count": 42,
   "id": "874275a7",
   "metadata": {
    "id": "874275a7"
   },
   "outputs": [],
   "source": [
    "x = df_euroasia[\"Continent_Code\"]\n",
    "y = df_euroasia[\"Math\"]"
   ]
  },
  {
   "cell_type": "code",
   "execution_count": 43,
   "id": "e1e4c7ab",
   "metadata": {
    "id": "e1e4c7ab",
    "outputId": "e3ca9c26-6e5f-41ab-c675-d8841e6693c8"
   },
   "outputs": [
    {
     "data": {
      "image/png": "[encoded data removed]",
      "text/plain": [
       "<Figure size 1000x600 with 1 Axes>"
      ]
     },
     "metadata": {},
     "output_type": "display_data"
    }
   ],
   "source": [
    "fig, ax = plt.subplots(figsize=(10, 6))\n",
    "\n",
    "ax = sns.boxplot(y=y, x=x, showmeans=True)\n",
    "\n",
    "plt.title(\"Math scores for Asia and Europe continents\", fontdict={\"fontsize\":12, \"color\": \"red\"})\n",
    "\n",
    "plt.show()"
   ]
  },
  {
   "cell_type": "markdown",
   "id": "0131e8ed",
   "metadata": {},
   "source": [
    "## <p style=\"background-color:#8CCED1; font-family:newtimeroman; color:#49519E; font-size:150%; text-align:center; border-radius:10px 10px;\">END OF THE ASSIGNMENT-02</p>\n",
    "\n",
    "# Now. it's time to relax!\n",
    "\n",
    "![Image_Assignment](https://i.ibb.co/QF5G0yf/reading-books-1110x600.png)\n",
    "[Image Credit](https://booksunlimited.ie/how-to-make-time-for-reading-books-in-a-busy-schedule/)\n",
    "\n",
    "<p style=\"text-align: center;\"><img src=\"https://i.ibb.co/99DQ3TY/DS-Courses.png\" class=\"img-fluid\" \n",
    "alt=\"CLRSWY_Courses\"></p>"
   ]
  },
  {
   "cell_type": "markdown",
   "id": "db41988f",
   "metadata": {
    "deletable": false,
    "editable": false
   },
   "source": [
    "<a href=\"https://ondiande.com/contact/\"><img align=\"center\" src=\"https://i.ibb.co/B43qn24/officially-licensed-logo.png\" alt=\"ONDIA Contact\" width=\"110\" height=\"200\" title=\"This notebook is licensed by ONDIA. Please contact the authorized persons about the conditions under which you can use or share.\"></a>"
   ]
  }
 ],
 "metadata": {
  "colab": {
   "provenance": []
  },
  "kernelspec": {
   "display_name": "Python 3 (ipykernel)",
   "language": "python",
   "name": "python3"
  },
  "language_info": {
   "codemirror_mode": {
    "name": "ipython",
    "version": 3
   },
   "file_extension": ".py",
   "mimetype": "text/x-python",
   "name": "python",
   "nbconvert_exporter": "python",
   "pygments_lexer": "ipython3",
   "version": "3.11.5"
  },
  "toc": {
   "base_numbering": "",
   "nav_menu": {},
   "number_sections": false,
   "sideBar": true,
   "skip_h1_title": false,
   "title_cell": "Table of Contents",
   "title_sidebar": "Contents",
   "toc_cell": false,
   "toc_position": {
    "height": "calc(100% - 180px)",
    "left": "10px",
    "top": "150px",
    "width": "307.2px"
   },
   "toc_section_display": true,
   "toc_window_display": true
  },
  "varInspector": {
   "cols": {
    "lenName": 16,
    "lenType": 16,
    "lenVar": 40
   },
   "kernels_config": {
    "python": {
     "delete_cmd_postfix": "",
     "delete_cmd_prefix": "del ",
     "library": "var_list.py",
     "varRefreshCmd": "print(var_dic_list())"
    },
    "r": {
     "delete_cmd_postfix": ") ",
     "delete_cmd_prefix": "rm(",
     "library": "var_list.r",
     "varRefreshCmd": "cat(var_dic_list()) "
    }
   },
   "types_to_exclude": [
    "module",
    "function",
    "builtin_function_or_method",
    "instance",
    "_Feature"
   ],
   "window_display": false
  }
 },
 "nbformat": 4,
 "nbformat_minor": 5
}
