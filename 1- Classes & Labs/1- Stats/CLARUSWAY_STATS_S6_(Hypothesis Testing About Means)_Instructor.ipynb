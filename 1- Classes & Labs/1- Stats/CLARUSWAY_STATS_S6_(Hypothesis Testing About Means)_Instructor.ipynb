{
 "cells": [
  {
   "cell_type": "markdown",
   "metadata": {
    "deletable": false,
    "editable": false
   },
   "source": [
    "<a href=\"https://clarusway.com/contact-us/\"><img align=\"center\" src=\"https://i.ibb.co/B43qn24/officially-licensed-logo.png\" alt=\"Open in Clarusway LMS\" width=\"110\" height=\"200\" title=\"This notebook is licensed by Clarusway IT training school. Please contact the authorized persons about the conditions under which you can use or share.\"></a>"
   ]
  },
  {
   "cell_type": "markdown",
   "metadata": {},
   "source": [
    "<hr>\n",
    "\n",
    "<a href=\"https://clarusway.com/\"><img align=\"center\" src=\"https://i.ibb.co/Rpz9L36/clarusway-logo-black.png\" width=\"450\" height=\"200\" alt=\"CLRSWY_LOGO\" title=\"Open and Execute in Google Colaboratory\"></a><br/>\n",
    "\n",
    "<p style=\"background-color:#E51A59; font-family:newtimeroman; color:#FDFEFE; font-size:130%; text-align:center; border-radius:10px 10px;\">WAY TO REINVENT YOURSELF</p>\n",
    "\n",
    "<p style=\"text-align: center;\"><img src=\"https://i.ibb.co/Vp7VhzT/stats.png\" class=\"img-fluid\" alt=\"STATS\" width=\"600\" height=\"200\"></p>\n",
    "\n",
    "## <p style=\"background-color:#FDFEFE; font-family:newtimeroman; color:#0000FF; font-size:150%; text-align:center; border-radius:10px 10px;\">SESSION-06 (Hypothesis Testing About Means)</p>\n",
    "\n",
    "<hr>"
   ]
  },
  {
   "cell_type": "markdown",
   "metadata": {},
   "source": [
    "#### <p style=\"background-color:#E51A59; font-family:newtimeroman; color:#FDFEFE; font-size:175%; text-align:left; border-radius:10px 10px;\">Libraries Needed in this Notebook:</p>\n",
    "\n",
    "First we must import the related libraries of Numpy, Pandas, Matplotlib and Seaborn for our analysis. We are importing the required modules by using the import keyword. "
   ]
  },
  {
   "cell_type": "code",
   "execution_count": 1,
   "metadata": {
    "id": "scbu-z7Q29Dp"
   },
   "outputs": [],
   "source": [
    "# Importing reelating libraries; Pandas, Numpy, scipy.stats\n",
    "\n",
    "import pandas as pd\n",
    "import numpy as np\n",
    "import matplotlib.pyplot as plt\n",
    "from scipy import stats\n",
    "from scipy.stats import t"
   ]
  },
  {
   "cell_type": "markdown",
   "metadata": {},
   "source": [
    "## <p style=\"background-color:#E51A59; font-family:newtimeroman; color:#FFFFFF; font-size:175%; text-align:center; border-radius:10px 10px;\">Review of the Previous Session - One Sample t-Test</p>\n",
    "\n",
    "<p style=\"background-color:#FFFFFF; font-family:newtimeroman; color:#0000FF; font-size:125%; text-align:left;\"><strong>💡🚨📢👉 Performed when the ``population standard deviation`` are ``UNKNOWN`` and sample size is ``less than 30`` ❗❗❗</strong></p>\n",
    "\n",
    "<img src=https://i.ibb.co/Z1fMJ47/decision-tree.png width=\"600\" height=\"200\">"
   ]
  },
  {
   "cell_type": "markdown",
   "metadata": {},
   "source": [
    "### <p style=\"background-color:#E51A59; font-family:newtimeroman; color:#FDFEFE; font-size:150%; text-align:left; border-radius:10px 10px;\">Example-01 (One Sample t-Test):</p>\n",
    "\n",
    "# [One Sample t-Test](https://vitalflux.com/one-sample-t-test-formula-examples/)\n",
    "\n",
    "In statistics, the t-test is often used in research when the researcher wants to know ``whether there is a significant difference between the mean of sample and the population``, or ``whether there is a significant difference between the means of two different groups`` but we do ``NOT`` have full population information available to us.\n",
    "\n",
    "The One Sample t-Test compares a sample mean to a hypothesized value for the population mean to determine whether the two means are significantly different. For instance, we may want to know if a particular sample of college students is similar to or different from college students in general.\n",
    "\n",
    "**[One-Sample t-Test](http://psychology.emory.edu/clinical/bliwise/Tutorials/TOM/meanstests/tone.htm)**<br>\n",
    "**[One Sample T Test - Easily Explained w/ 5+ Examples!](https://calcworkshop.com/hypothesis-test/one-sample-t-test/)**<br>\n",
    "**[One Sample T Test – Clearly Explained with Examples | ML+](https://www.machinelearningplus.com/statistics/one-sample-t-test/)**<br>\n",
    "**[How do you find the t-test statistic?](https://www.omnicalculator.com/statistics/t-test)**\n",
    "\n",
    "<img src=https://i.ibb.co/nsxqsbY/t-formula.png width=\"600\" height=\"200\">"
   ]
  },
  {
   "cell_type": "markdown",
   "metadata": {},
   "source": [
    "- **According to Reynolds Intellectual Ability Scales, the ``average VIQ`` (Verbal IQ scores based on the four Wechsler (1981) subtests) is about ``109``.**\n",
    "- **In our sample data, we have a ``sample of 40 cases``.** \n",
    "  - **Let's test if the ``average VIQ of people`` is significantly ``bigger than 109``.**"
   ]
  },
  {
   "cell_type": "code",
   "execution_count": 2,
   "metadata": {},
   "outputs": [
    {
     "data": {
      "text/html": [
       "<div>\n",
       "<style scoped>\n",
       "    .dataframe tbody tr th:only-of-type {\n",
       "        vertical-align: middle;\n",
       "    }\n",
       "\n",
       "    .dataframe tbody tr th {\n",
       "        vertical-align: top;\n",
       "    }\n",
       "\n",
       "    .dataframe thead th {\n",
       "        text-align: right;\n",
       "    }\n",
       "</style>\n",
       "<table border=\"1\" class=\"dataframe\">\n",
       "  <thead>\n",
       "    <tr style=\"text-align: right;\">\n",
       "      <th></th>\n",
       "      <th>Gender</th>\n",
       "      <th>FSIQ</th>\n",
       "      <th>VIQ</th>\n",
       "      <th>PIQ</th>\n",
       "      <th>Weight</th>\n",
       "      <th>Height</th>\n",
       "      <th>MRI_Count</th>\n",
       "    </tr>\n",
       "  </thead>\n",
       "  <tbody>\n",
       "    <tr>\n",
       "      <th>1</th>\n",
       "      <td>Female</td>\n",
       "      <td>133</td>\n",
       "      <td>132</td>\n",
       "      <td>124</td>\n",
       "      <td>118.0</td>\n",
       "      <td>64.5</td>\n",
       "      <td>816932</td>\n",
       "    </tr>\n",
       "    <tr>\n",
       "      <th>2</th>\n",
       "      <td>Male</td>\n",
       "      <td>140</td>\n",
       "      <td>150</td>\n",
       "      <td>124</td>\n",
       "      <td>NaN</td>\n",
       "      <td>72.5</td>\n",
       "      <td>1001121</td>\n",
       "    </tr>\n",
       "    <tr>\n",
       "      <th>3</th>\n",
       "      <td>Male</td>\n",
       "      <td>139</td>\n",
       "      <td>123</td>\n",
       "      <td>150</td>\n",
       "      <td>143.0</td>\n",
       "      <td>73.3</td>\n",
       "      <td>1038437</td>\n",
       "    </tr>\n",
       "    <tr>\n",
       "      <th>4</th>\n",
       "      <td>Male</td>\n",
       "      <td>133</td>\n",
       "      <td>129</td>\n",
       "      <td>128</td>\n",
       "      <td>172.0</td>\n",
       "      <td>68.8</td>\n",
       "      <td>965353</td>\n",
       "    </tr>\n",
       "    <tr>\n",
       "      <th>5</th>\n",
       "      <td>Female</td>\n",
       "      <td>137</td>\n",
       "      <td>132</td>\n",
       "      <td>134</td>\n",
       "      <td>147.0</td>\n",
       "      <td>65.0</td>\n",
       "      <td>951545</td>\n",
       "    </tr>\n",
       "  </tbody>\n",
       "</table>\n",
       "</div>"
      ],
      "text/plain": [
       "   Gender  FSIQ  VIQ  PIQ  Weight  Height  MRI_Count\n",
       "1  Female   133  132  124   118.0    64.5     816932\n",
       "2    Male   140  150  124     NaN    72.5    1001121\n",
       "3    Male   139  123  150   143.0    73.3    1038437\n",
       "4    Male   133  129  128   172.0    68.8     965353\n",
       "5  Female   137  132  134   147.0    65.0     951545"
      ]
     },
     "execution_count": 2,
     "metadata": {},
     "output_type": "execute_result"
    }
   ],
   "source": [
    "# Brain size and weight and IQ data (Willerman et al. 1991)\n",
    "\n",
    "df = pd.read_csv(\"brain_size.csv\", sep=\";\", na_values= \".\", index_col=0)\n",
    "\n",
    "df.head()"
   ]
  },
  {
   "cell_type": "code",
   "execution_count": 3,
   "metadata": {},
   "outputs": [
    {
     "name": "stdout",
     "output_type": "stream",
     "text": [
      "<class 'pandas.core.frame.DataFrame'>\n",
      "Index: 40 entries, 1 to 40\n",
      "Data columns (total 7 columns):\n",
      " #   Column     Non-Null Count  Dtype  \n",
      "---  ------     --------------  -----  \n",
      " 0   Gender     40 non-null     object \n",
      " 1   FSIQ       40 non-null     int64  \n",
      " 2   VIQ        40 non-null     int64  \n",
      " 3   PIQ        40 non-null     int64  \n",
      " 4   Weight     38 non-null     float64\n",
      " 5   Height     39 non-null     float64\n",
      " 6   MRI_Count  40 non-null     int64  \n",
      "dtypes: float64(2), int64(4), object(1)\n",
      "memory usage: 2.5+ KB\n"
     ]
    }
   ],
   "source": [
    "df.info()"
   ]
  },
  {
   "cell_type": "code",
   "execution_count": 4,
   "metadata": {},
   "outputs": [
    {
     "data": {
      "text/html": [
       "<div>\n",
       "<style scoped>\n",
       "    .dataframe tbody tr th:only-of-type {\n",
       "        vertical-align: middle;\n",
       "    }\n",
       "\n",
       "    .dataframe tbody tr th {\n",
       "        vertical-align: top;\n",
       "    }\n",
       "\n",
       "    .dataframe thead th {\n",
       "        text-align: right;\n",
       "    }\n",
       "</style>\n",
       "<table border=\"1\" class=\"dataframe\">\n",
       "  <thead>\n",
       "    <tr style=\"text-align: right;\">\n",
       "      <th></th>\n",
       "      <th>FSIQ</th>\n",
       "      <th>VIQ</th>\n",
       "      <th>PIQ</th>\n",
       "      <th>Weight</th>\n",
       "      <th>Height</th>\n",
       "      <th>MRI_Count</th>\n",
       "    </tr>\n",
       "  </thead>\n",
       "  <tbody>\n",
       "    <tr>\n",
       "      <th>count</th>\n",
       "      <td>40.000000</td>\n",
       "      <td>40.000000</td>\n",
       "      <td>40.00000</td>\n",
       "      <td>38.000000</td>\n",
       "      <td>39.000000</td>\n",
       "      <td>4.000000e+01</td>\n",
       "    </tr>\n",
       "    <tr>\n",
       "      <th>mean</th>\n",
       "      <td>113.450000</td>\n",
       "      <td>112.350000</td>\n",
       "      <td>111.02500</td>\n",
       "      <td>151.052632</td>\n",
       "      <td>68.525641</td>\n",
       "      <td>9.087550e+05</td>\n",
       "    </tr>\n",
       "    <tr>\n",
       "      <th>std</th>\n",
       "      <td>24.082071</td>\n",
       "      <td>23.616107</td>\n",
       "      <td>22.47105</td>\n",
       "      <td>23.478509</td>\n",
       "      <td>3.994649</td>\n",
       "      <td>7.228205e+04</td>\n",
       "    </tr>\n",
       "    <tr>\n",
       "      <th>min</th>\n",
       "      <td>77.000000</td>\n",
       "      <td>71.000000</td>\n",
       "      <td>72.00000</td>\n",
       "      <td>106.000000</td>\n",
       "      <td>62.000000</td>\n",
       "      <td>7.906190e+05</td>\n",
       "    </tr>\n",
       "    <tr>\n",
       "      <th>25%</th>\n",
       "      <td>89.750000</td>\n",
       "      <td>90.000000</td>\n",
       "      <td>88.25000</td>\n",
       "      <td>135.250000</td>\n",
       "      <td>66.000000</td>\n",
       "      <td>8.559185e+05</td>\n",
       "    </tr>\n",
       "    <tr>\n",
       "      <th>50%</th>\n",
       "      <td>116.500000</td>\n",
       "      <td>113.000000</td>\n",
       "      <td>115.00000</td>\n",
       "      <td>146.500000</td>\n",
       "      <td>68.000000</td>\n",
       "      <td>9.053990e+05</td>\n",
       "    </tr>\n",
       "    <tr>\n",
       "      <th>75%</th>\n",
       "      <td>135.500000</td>\n",
       "      <td>129.750000</td>\n",
       "      <td>128.00000</td>\n",
       "      <td>172.000000</td>\n",
       "      <td>70.500000</td>\n",
       "      <td>9.500780e+05</td>\n",
       "    </tr>\n",
       "    <tr>\n",
       "      <th>max</th>\n",
       "      <td>144.000000</td>\n",
       "      <td>150.000000</td>\n",
       "      <td>150.00000</td>\n",
       "      <td>192.000000</td>\n",
       "      <td>77.000000</td>\n",
       "      <td>1.079549e+06</td>\n",
       "    </tr>\n",
       "  </tbody>\n",
       "</table>\n",
       "</div>"
      ],
      "text/plain": [
       "             FSIQ         VIQ        PIQ      Weight     Height     MRI_Count\n",
       "count   40.000000   40.000000   40.00000   38.000000  39.000000  4.000000e+01\n",
       "mean   113.450000  112.350000  111.02500  151.052632  68.525641  9.087550e+05\n",
       "std     24.082071   23.616107   22.47105   23.478509   3.994649  7.228205e+04\n",
       "min     77.000000   71.000000   72.00000  106.000000  62.000000  7.906190e+05\n",
       "25%     89.750000   90.000000   88.25000  135.250000  66.000000  8.559185e+05\n",
       "50%    116.500000  113.000000  115.00000  146.500000  68.000000  9.053990e+05\n",
       "75%    135.500000  129.750000  128.00000  172.000000  70.500000  9.500780e+05\n",
       "max    144.000000  150.000000  150.00000  192.000000  77.000000  1.079549e+06"
      ]
     },
     "execution_count": 4,
     "metadata": {},
     "output_type": "execute_result"
    }
   ],
   "source": [
    "df.describe()"
   ]
  },
  {
   "cell_type": "markdown",
   "metadata": {},
   "source": [
    "<p style=\"background-color:#FFFFFF; font-family:newtimeroman; color:#0000FF; font-size:125%; text-align:left;\"><strong>Given Variables:</strong></p>"
   ]
  },
  {
   "cell_type": "code",
   "execution_count": 5,
   "metadata": {},
   "outputs": [],
   "source": [
    "x_bar = 112.350000   # Sample mean (replace with actual mean from your data)\n",
    "mu = 109             # Hypothesized population mean\n",
    "n = 40               # Sample size\n",
    "std_dev = 23.616107  # Sample standard deviation (replace with actual value)\n",
    "alpha = 0.05         # Significance level"
   ]
  },
  {
   "cell_type": "markdown",
   "metadata": {},
   "source": [
    "#### <p style=\"background-color:#FFFFFF; font-family:newtimeroman; color:#0000FF; font-size:125%; text-align:left;\"><strong>STEP-01: Stating the null (H0) and alternative hypothesis (Ha or H1).</strong></p>"
   ]
  },
  {
   "cell_type": "raw",
   "metadata": {},
   "source": [
    "Null Hypothesis (H₀): H0: µ = 109 \n",
    "The average Verbal IQ (VIQ) of the population is equal to 109.\n",
    "\n",
    "Alternative Hypothesis (H₁): H1: µ > 109 \n",
    "The average Verbal IQ (VIQ) of the population is greater than 109."
   ]
  },
  {
   "cell_type": "markdown",
   "metadata": {},
   "source": [
    "#### <p style=\"background-color:#FFFFFF; font-family:newtimeroman; color:#0000FF; font-size:125%; text-align:left;\"><strong>STEP-02-03: Calculating Test Statistic & p-value (the t-test for the means of two independent samples of scores):</strong></p>"
   ]
  },
  {
   "cell_type": "markdown",
   "metadata": {},
   "source": [
    "**Manuel Calculation:**\n",
    "\n",
    "<img src=https://i.ibb.co/nsxqsbY/t-formula.png width=\"500\" height=\"200\">"
   ]
  },
  {
   "cell_type": "code",
   "execution_count": 6,
   "metadata": {},
   "outputs": [
    {
     "data": {
      "text/plain": [
       "112.35"
      ]
     },
     "execution_count": 6,
     "metadata": {},
     "output_type": "execute_result"
    }
   ],
   "source": [
    "# Calculating the mean of VIQ\n",
    "\n",
    "xbar = df.VIQ.mean()\n",
    "xbar"
   ]
  },
  {
   "cell_type": "code",
   "execution_count": 7,
   "metadata": {},
   "outputs": [
    {
     "data": {
      "text/plain": [
       "23.616107063199735"
      ]
     },
     "execution_count": 7,
     "metadata": {},
     "output_type": "execute_result"
    }
   ],
   "source": [
    "# Calculating the std of VIQ\n",
    "\n",
    "s = df.VIQ.std()\n",
    "s"
   ]
  },
  {
   "cell_type": "code",
   "execution_count": 8,
   "metadata": {},
   "outputs": [
    {
     "data": {
      "text/plain": [
       "3.7340343893050596"
      ]
     },
     "execution_count": 8,
     "metadata": {},
     "output_type": "execute_result"
    }
   ],
   "source": [
    "s / np.sqrt(df.shape[0])"
   ]
  },
  {
   "cell_type": "code",
   "execution_count": 9,
   "metadata": {},
   "outputs": [
    {
     "data": {
      "text/plain": [
       "(40, 7)"
      ]
     },
     "execution_count": 9,
     "metadata": {},
     "output_type": "execute_result"
    }
   ],
   "source": [
    "df.shape"
   ]
  },
  {
   "cell_type": "code",
   "execution_count": 10,
   "metadata": {},
   "outputs": [
    {
     "data": {
      "text/plain": [
       "0.8971529586323553"
      ]
     },
     "execution_count": 10,
     "metadata": {},
     "output_type": "execute_result"
    }
   ],
   "source": [
    "# Calculating the test statistic\n",
    "\n",
    "t_test = (xbar - 109)/(s/np.sqrt(df.shape[0]))\n",
    "t_test"
   ]
  },
  {
   "cell_type": "code",
   "execution_count": 11,
   "metadata": {},
   "outputs": [
    {
     "data": {
      "text/plain": [
       "0.18757115929257173"
      ]
     },
     "execution_count": 11,
     "metadata": {},
     "output_type": "execute_result"
    }
   ],
   "source": [
    "# Calculating p-value\n",
    "\n",
    "1 - stats.t.cdf(t_test, 39)"
   ]
  },
  {
   "cell_type": "markdown",
   "metadata": {},
   "source": [
    "**Calculation using ``scipy`` library:**"
   ]
  },
  {
   "cell_type": "code",
   "execution_count": 12,
   "metadata": {},
   "outputs": [
    {
     "data": {
      "text/plain": [
       "TtestResult(statistic=0.8971529586323551, pvalue=0.18757115929257173, df=39)"
      ]
     },
     "execution_count": 12,
     "metadata": {},
     "output_type": "execute_result"
    }
   ],
   "source": [
    "# Using stats.ttest_1samp() to calculate the test statistic and p-value\n",
    "\n",
    "oneSamp = stats.ttest_1samp(df.VIQ, 109, alternative='greater')\n",
    "oneSamp"
   ]
  },
  {
   "cell_type": "code",
   "execution_count": 13,
   "metadata": {},
   "outputs": [
    {
     "data": {
      "text/plain": [
       "0.8971529586323551"
      ]
     },
     "execution_count": 13,
     "metadata": {},
     "output_type": "execute_result"
    }
   ],
   "source": [
    "# Displaying test statistic\n",
    "\n",
    "oneSamp.statistic"
   ]
  },
  {
   "cell_type": "code",
   "execution_count": 14,
   "metadata": {},
   "outputs": [
    {
     "data": {
      "text/plain": [
       "0.18757115929257173"
      ]
     },
     "execution_count": 14,
     "metadata": {},
     "output_type": "execute_result"
    }
   ],
   "source": [
    "# Displaying p-value\n",
    "\n",
    "oneSamp.pvalue"
   ]
  },
  {
   "cell_type": "markdown",
   "metadata": {},
   "source": [
    "#### <p style=\"background-color:#FFFFFF; font-family:newtimeroman; color:#0000FF; font-size:125%; text-align:left;\"><strong>STEP-04: Comparing Test Statistic to Critical Value to Make a decision:</strong></p>"
   ]
  },
  {
   "cell_type": "code",
   "execution_count": 15,
   "metadata": {},
   "outputs": [
    {
     "name": "stdout",
     "output_type": "stream",
     "text": [
      "At 0.05 level of significance, we FAIL to reject the null hypothesis.\n"
     ]
    }
   ],
   "source": [
    "# Comparing p-value and alpha\n",
    "\n",
    "alpha = 0.05\n",
    "\n",
    "if oneSamp.pvalue < alpha:\n",
    "    print('At {} level of significance, we can reject the null hypothesis in favor of alternative hypothesis.'.format(alpha))\n",
    "else:\n",
    "    print('At {} level of significance, we FAIL to reject the null hypothesis.'.format(alpha))"
   ]
  },
  {
   "cell_type": "markdown",
   "metadata": {},
   "source": [
    "**``Decision:``**\n",
    "\n",
    "α=0.05 level of significance, we compare the p-value to α:\n",
    "- Since the p-value (0.188) is greater than 0.05, we ``fail to reject the null hypothesis``.\n",
    "\n",
    "**``Interpretation of the Decision:``**\n",
    "- The results indicate that there is NOT enough statistical evidence to support the claim that the average VIQ is significantly greater than 109. This suggests that, based on the sample data, the average VIQ of the individuals in this study is not significantly different from the established average of 109.\n",
    "- Practically, this means that the sample does not provide sufficient evidence to conclude that the population's average VIQ exceeds the expected average, which may have implications for understanding the cognitive abilities of this group relative to the general population. Further research with a larger sample size or additional variables may be needed to explore this aspect more thoroughly."
   ]
  },
  {
   "cell_type": "markdown",
   "metadata": {},
   "source": [
    "**Making a decision comparing ``calculated`` and ``critical`` t scores:**"
   ]
  },
  {
   "cell_type": "code",
   "execution_count": 16,
   "metadata": {},
   "outputs": [
    {
     "name": "stdout",
     "output_type": "stream",
     "text": [
      "Critical t-value: 1.6849\n",
      "Calculated t-value: 0.8972\n",
      "FAIL to reject the null hypothesis.\n"
     ]
    }
   ],
   "source": [
    "# Given values\n",
    "x_bar = 112.35  # Sample mean (replace with actual mean from your data)\n",
    "mu = 109        # Hypothesized population mean\n",
    "n = 40          # Sample size\n",
    "std_dev = 23.616107  # Sample standard deviation (replace with actual value)\n",
    "\n",
    "# Calculate the t-statistic\n",
    "t_calculated = (x_bar - mu) / (std_dev / np.sqrt(n))\n",
    "\n",
    "# Significance level\n",
    "alpha = 0.05\n",
    "\n",
    "# Degrees of freedom\n",
    "dof = n - 1\n",
    "\n",
    "# Critical t-value for the right-tailed test\n",
    "t_critical = stats.t.ppf(1 - alpha, dof)  # Use \"1-alpha\" for right-tailed\n",
    "\n",
    "# Print the critical t-value and the calculated t-value\n",
    "print(f'Critical t-value: {t_critical:.4f}')\n",
    "print(f'Calculated t-value: {t_calculated:.4f}')\n",
    "\n",
    "# Decision\n",
    "if t_calculated > t_critical:\n",
    "    print(\"Reject the null hypothesis.\")\n",
    "else:\n",
    "    print(\"FAIL to reject the null hypothesis.\")"
   ]
  },
  {
   "cell_type": "markdown",
   "metadata": {},
   "source": [
    "- **``Critical t-value``**: The critical t-value of 1.6849 (for α=0.05 in a right-tailed test with 39 degrees of freedom) represents the threshold for rejecting the null hypothesis. It indicates the point above which we would reject the null hypothesis if our calculated t-statistic were to fall into that region.\n",
    "\n",
    "- **``Calculated t-Statistic``**: The calculated t-statistic of approximately 0.8972 is less than the critical t-value of 1.6849. This means it does NOT fall into the rejection region, indicating that the sample mean is NOT significantly greater than the hypothesized population mean.\n",
    "\n",
    "- **``Decision Rule:``**\n",
    "  - **``Right-Tailed Test``**: In a right-tailed test, you reject the null hypothesis if your calculated t-statistic is greater than the critical t-value. \n",
    "    - Since the critical t-value is 1.6849 and the calculated t-statistic is approximately 0.8972, you fail to reject the null hypothesis. This means there is not enough evidence to support the claim that the population mean is greater than 109 at the 0.05 significance level."
   ]
  },
  {
   "cell_type": "markdown",
   "metadata": {},
   "source": [
    "#### <p style=\"background-color:#FFFFFF; font-family:newtimeroman; color:#0000FF; font-size:125%; text-align:left;\"><strong>STEP-05: Visualizing the results:</strong></p>"
   ]
  },
  {
   "cell_type": "code",
   "execution_count": 17,
   "metadata": {},
   "outputs": [
    {
     "name": "stdout",
     "output_type": "stream",
     "text": [
      "Critical t-value: 1.6849\n",
      "Calculated t-value: 0.8972\n",
      "Fail to reject the null hypothesis.\n"
     ]
    },
    {
     "data": {
      "image/png": "[encoded data removed]",
      "text/plain": [
       "<Figure size 1000x500 with 1 Axes>"
      ]
     },
     "metadata": {},
     "output_type": "display_data"
    }
   ],
   "source": [
    "# Given values from your t-test\n",
    "t_statistic = 0.8972  # Calculated t-statistic\n",
    "p_value = 0.1876      # p-value from the t-test\n",
    "dof = n - 1           # Degrees of freedom (39)\n",
    "alpha = 0.05          # Significance level\n",
    "alpha = 0.05          # Significance level\n",
    "\n",
    "# Critical t-value for the right-tailed test\n",
    "t_critical = stats.t.ppf(1-alpha, dof)  # Use \"1-alpha\" for right-tailed\n",
    "\n",
    "# Print the critical t-value and the calculated t-value\n",
    "print(f'Critical t-value: {t_critical:.4f}')\n",
    "print(f'Calculated t-value: {t_calculated:.4f}')\n",
    "\n",
    "# Decision\n",
    "if t_calculated > t_critical:\n",
    "    print(\"Reject the null hypothesis.\")\n",
    "else:\n",
    "    print(\"Fail to reject the null hypothesis.\")\n",
    "\n",
    "# Define the range for the t-distribution plot\n",
    "x = np.linspace(-5, 5, 1000)\n",
    "\n",
    "# Calculate the t-distribution\n",
    "y = t.pdf(x, dof)\n",
    "\n",
    "# Create the plot\n",
    "plt.figure(figsize=(10, 5))\n",
    "\n",
    "# Plot the t-distribution\n",
    "plt.plot(x, y, label=f't-distribution (dof={dof})', color='blue')\n",
    "\n",
    "# Mark the critical t-value for alpha (one-tailed test)\n",
    "t_critical = t.ppf(1 - alpha, dof)\n",
    "plt.axvline(t_critical, color='red', linestyle='--', label=f'Critical t-value at {alpha} level')\n",
    "\n",
    "# Mark the calculated t-statistic\n",
    "plt.axvline(t_statistic, color='green', linestyle='-', label=f'Calculated t-statistic ({t_statistic:.2f})')\n",
    "\n",
    "# Add a blue horizontal line at the bottom of the distribution\n",
    "plt.axhline(0, color='blue', linestyle='-', linewidth=2)\n",
    "\n",
    "# Fill the rejection region with light red\n",
    "plt.fill_between(x, 0, y, where=(x >= t_critical), color='lightcoral', alpha=0.5, label='Rejection Region')\n",
    "\n",
    "# Fill the fail to reject area with light green\n",
    "plt.fill_between(x, 0, y, where=(x < t_critical), color='lightgreen', alpha=0.5, label='Fail to Reject Region')\n",
    "\n",
    "# Add text for p-value and alpha\n",
    "plt.text(0-1.4, 0.1, f'Calculated p-value: {p_value:.4f}', fontsize=10)\n",
    "plt.text(-0.65, 0.08, f'alpha: {alpha}', fontsize=10)\n",
    "plt.text(t_statistic, 0.05, f't statistic: {t_statistic:.2f}', color='green', fontsize=10, ha='center', va='top')\n",
    "\n",
    "# Add titles and labels\n",
    "plt.title('One-Tailed t-Distribution with Critical Region and t-Statistic', color='blue')\n",
    "plt.xlabel('t-value')\n",
    "plt.ylabel('Probability Density')\n",
    "plt.legend(fontsize='small')\n",
    "\n",
    "# Set y-axis limit to start from zero\n",
    "plt.ylim(bottom=0)\n",
    "\n",
    "# Remove grids\n",
    "plt.grid(False)\n",
    "\n",
    "# Show the plot\n",
    "plt.show()"
   ]
  },
  {
   "cell_type": "markdown",
   "metadata": {},
   "source": [
    "<p style=\"background-color:#FFFFFF; font-family:newtimeroman; color:#0000FF; font-size:125%; text-align:left;\"><strong>🤔💭 What if it was two-tailed hypothesis?</strong></p>"
   ]
  },
  {
   "cell_type": "raw",
   "metadata": {},
   "source": [
    "Set the Null and Alternative Hypotheses:\n",
    "\n",
    "Null Hypothesis (H0): The average Verbal IQ (VIQ) of the population is equal to 109. \n",
    "                  H0: μ=109\n",
    "\n",
    "Alternative Hypothesis (Ha): The average Verbal IQ (VIQ) of the population is not equal to 109. \n",
    "                         Ha: μ ≠ 109"
   ]
  },
  {
   "cell_type": "markdown",
   "metadata": {},
   "source": [
    "<p style=\"background-color:#FFFFFF; font-family:newtimeroman; color:#0000FF; font-size:125%; text-align:left;\"><strong>Let's remember the given Variables:</strong></p>"
   ]
  },
  {
   "cell_type": "code",
   "execution_count": 18,
   "metadata": {},
   "outputs": [],
   "source": [
    "x_bar = 112.350000   # Sample mean (replace with actual mean from your data)\n",
    "mu = 109             # Hypothesized population mean\n",
    "n = 40               # Sample size\n",
    "std_dev = 23.616107  # Sample standard deviation (replace with actual value)\n",
    "alpha = 0.05         # Significance level\n",
    "dof = n - 1          # # Degrees of freedom"
   ]
  },
  {
   "cell_type": "markdown",
   "metadata": {},
   "source": [
    "<p style=\"background-color:#FFFFFF; font-family:newtimeroman; color:#0000FF; font-size:125%; text-align:left;\"><strong>Visualize the results:</strong></p>"
   ]
  },
  {
   "cell_type": "code",
   "execution_count": 19,
   "metadata": {},
   "outputs": [
    {
     "name": "stdout",
     "output_type": "stream",
     "text": [
      "Critical t-value (low): -2.0227\n",
      "Critical t-value (high): 2.0227\n",
      "Calculated t-value: 0.8972\n",
      "Fail to reject the null hypothesis.\n"
     ]
    },
    {
     "data": {
      "image/png": "[encoded data removed]",
      "text/plain": [
       "<Figure size 1000x500 with 1 Axes>"
      ]
     },
     "metadata": {},
     "output_type": "display_data"
    }
   ],
   "source": [
    "# Calculate the t-statistic\n",
    "t_calculated = (x_bar - mu) / (std_dev / np.sqrt(n))\n",
    "\n",
    "# Critical t-values for the two-tailed test\n",
    "t_critical_low = stats.t.ppf(alpha / 2, dof)    # Lower critical value\n",
    "t_critical_high = stats.t.ppf(1 - alpha / 2, dof)  # Upper critical value\n",
    "\n",
    "# Print the critical t-values and the calculated t-value\n",
    "print(f'Critical t-value (low): {t_critical_low:.4f}')\n",
    "print(f'Critical t-value (high): {t_critical_high:.4f}')\n",
    "print(f'Calculated t-value: {t_calculated:.4f}')\n",
    "\n",
    "# Decision\n",
    "if t_calculated < t_critical_low or t_calculated > t_critical_high:\n",
    "    print(\"Reject the null hypothesis.\")\n",
    "else:\n",
    "    print(\"Fail to reject the null hypothesis.\")\n",
    "\n",
    "# Visualization\n",
    "# Define the range for the t-distribution plot\n",
    "x = np.linspace(-5, 5, 1000)\n",
    "y = stats.t.pdf(x, dof)\n",
    "\n",
    "# Create the plot\n",
    "plt.figure(figsize=(10, 5))\n",
    "\n",
    "# Plot the t-distribution\n",
    "plt.plot(x, y, label=f't-distribution (dof={dof})', color='blue')\n",
    "\n",
    "# Mark the critical t-values for alpha (two-tailed test)\n",
    "plt.axvline(t_critical_low, color='red', linestyle='--', label=f'Critical t-value (low) at {alpha/2} level')\n",
    "plt.axvline(t_critical_high, color='red', linestyle='--', label=f'Critical t-value (high) at {alpha/2} level')\n",
    "\n",
    "# Mark the calculated t-statistic\n",
    "plt.axvline(t_calculated, color='green', linestyle='-', label=f'Calculated t-statistic ({t_calculated:.2f})')\n",
    "\n",
    "# Add a blue horizontal line at the bottom of the distribution\n",
    "plt.axhline(0, color='blue', linestyle='-', linewidth=2)\n",
    "\n",
    "# Fill the rejection regions\n",
    "plt.fill_between(x, 0, y, where=(x <= t_critical_low), color='lightcoral', alpha=0.5, label='Rejection Region (low)')\n",
    "plt.fill_between(x, 0, y, where=(x >= t_critical_high), color='lightcoral', alpha=0.5, label='Rejection Region (high)')\n",
    "\n",
    "# Fill the non-rejection area with light green\n",
    "plt.fill_between(x, 0, y, where=(x > t_critical_low) & (x < t_critical_high), color='lightgreen', alpha=0.5, label='Fail to Reject Region')\n",
    "\n",
    "# Add text for p-value and alpha\n",
    "plt.text(-1.3, 0.1, f'Calculated p-value: {p_value:.4f}', fontsize=10)\n",
    "plt.text(-0.65, 0.08, f'alpha: {alpha}', fontsize=10)\n",
    "plt.text(t_statistic-0.85, 0.05, f't statistic: {t_statistic:.2f}', color='green', fontsize=10, ha='center', va='top')\n",
    "\n",
    "\n",
    "# Add titles and labels\n",
    "plt.title('Two-Tailed t-Distribution with Critical Regions and t-Statistic', color='blue')\n",
    "plt.xlabel('t-value')\n",
    "plt.ylabel('Probability Density')\n",
    "plt.legend(fontsize='small')\n",
    "\n",
    "# Set y-axis limit to start from zero\n",
    "plt.ylim(bottom=0)\n",
    "\n",
    "# Remove grids\n",
    "plt.grid(False)\n",
    "\n",
    "# Show the plot\n",
    "plt.show()"
   ]
  },
  {
   "cell_type": "markdown",
   "metadata": {},
   "source": [
    "## <p style=\"background-color:#E51A59; font-family:newtimeroman; color:#FFFFFF; font-size:175%; text-align:center; border-radius:10px 10px;\">A - Independent Samples t-Test</p>\n",
    "\n",
    "<p style=\"background-color:#FFFFFF; font-family:newtimeroman; color:#0000FF; font-size:125%; text-align:left;\"><strong>💡🚨📢👉 Compares the means of ``two independent groups`` ❗❗❗</strong></p>"
   ]
  },
  {
   "cell_type": "markdown",
   "metadata": {
    "id": "1yJQ9KpKONHx"
   },
   "source": [
    "## [Independent Samples t-Test](https://libguides.library.kent.edu/spss/independentttest#:~:text=The%20Independent%20Samples%20t%20Test%20compares%20the%20means%20of%20two,Independent%20t%20Test)\n",
    "\n",
    "The Independent Samples t-Test ``compares the means of two independent groups`` in order to determine ``whether there is statistical evidence that the associated population means are significantly different``. The Independent Samples t Test is a parametric test. This test is also known as: Independent t-Test.\n",
    "\n",
    "**Common Uses:**<br>\n",
    "The Independent Samples t Test is commonly used to test the following:\n",
    "\n",
    "- Statistical differences between the means of two groups\n",
    "- Statistical differences between the means of two interventions\n",
    "- Statistical differences between the means of two change scores\n",
    "\n",
    "``Note:`` The Independent Samples t-Test can only compare the means for two (and only two) groups. It CANNOT make comparisons among more than two groups. If you wish to compare the means across more than two groups, you will likely want to run an ANOVA.\n",
    "\n",
    "**Hypotheses:**<br>\n",
    "The null hypothesis (H0) and alternative hypothesis (H1) of the Independent Samples t Test can be expressed in two different but equivalent ways:\n",
    "\n",
    "- ``H0: µ1 = µ2 (\"the two population means are equal\")``\n",
    "- ``H1: µ1 ≠ µ2 (\"the two population means are not equal\")``\n",
    "\n",
    "OR\n",
    "\n",
    "- ``H0: µ1 - µ2 = 0 (\"the difference between the two population means is equal to 0\")``\n",
    "- ``H1: µ1 - µ2 ≠ 0 (\"the difference between the two population means is not 0\")``\n",
    "\n",
    "where ``µ1`` and ``µ2`` are the ``population means`` for group 1 and group 2, respectively. Notice that the second set of hypotheses can be derived from the first set by simply subtracting µ2 from both sides of the equation.\n",
    "\n",
    "**[Independent Samples T Test: Definition, Using & Interpreting](https://statisticsbyjim.com/hypothesis-testing/independent-samples-t-test/)**<br>\n",
    "**[Independent Samples T-Test](https://www.statstest.com/independent-samples-t-test/)**<br>\n",
    "**[Independent T-test Assumptions, Interpretation, and Write Up](https://usq.pressbooks.pub/statisticsforresearchstudents/chapter/independent-t-test-assumptions/)**<br>\n",
    "**[What is an Independent Samples T-Test?](https://www.statstest.com/independent-samples-t-test/)**"
   ]
  },
  {
   "cell_type": "markdown",
   "metadata": {},
   "source": [
    "<img src=https://i.ibb.co/LdStjpb/testa-diagram.jpg width=\"700\" height=\"200\">"
   ]
  },
  {
   "cell_type": "markdown",
   "metadata": {},
   "source": [
    "### <p style=\"background-color:#E51A59; font-family:newtimeroman; color:#FDFEFE; font-size:150%; text-align:left; border-radius:10px 10px;\">Example-01 (Independent Samples t-Test):</p>"
   ]
  },
  {
   "cell_type": "markdown",
   "metadata": {},
   "source": [
    "<p style=\"background-color:#FFFFFF; font-family:newtimeroman; color:#0000FF; font-size:125%; text-align:left;\">\n",
    "    👉 <span style=\"color:red;\">Hypothetical Scenario:</span> <span style=\"color:green;\">Temperature Measurement in Different Genders</span>.\n",
    "</p>\n",
    "\n",
    "- **``Context``**: A health research team is investigating whether there is a ``significant difference`` in ``average body temperature`` between ``men`` and ``women``. This study is part of a larger effort to understand physiological differences that may affect health outcomes. The researchers collected body temperature data from a sample of men and women in a local community."
   ]
  },
  {
   "cell_type": "code",
   "execution_count": 20,
   "metadata": {
    "id": "CIVxXOvVONHy"
   },
   "outputs": [],
   "source": [
    "men = [96.9, 97.4, 97.5, 97.8, 97.8, 97.9, 98, 98.6, 98.8]\n",
    "women = [97.8, 98, 98.2, 98.2, 98.2, 98.6, 98.8, 99.2, 99.4]"
   ]
  },
  {
   "cell_type": "markdown",
   "metadata": {},
   "source": [
    "#### <p style=\"background-color:#FFFFFF; font-family:newtimeroman; color:#0000FF; font-size:125%; text-align:left;\"><strong>STEP-01: Checking the Assumptions:</strong></p>\n",
    "\n",
    "   - <p style=\"background-color:#FFFFFF; font-family:newtimeroman; color:#0000FF; font-size:125%; text-align:left; font-weight: bold;\">🔔📢👉 Reminder: Always check the following assumptions step by step before performing statistical tests.</p><br>  \n",
    "\n",
    "\n",
    "- The two-samples independent t-test assumes the following characteristics about the data:\n",
    "\n",
    "  - ``Independence of the observations``. Each subject should belong to only one group. There is no relationship between the observations in each group.\n",
    "  - ``No significant outliers in the two groups``\n",
    "  - ``Normality``. the data for each group should be approximately normally distributed.\n",
    "  - **``Homogeneity of variances``**. the variance of the outcome variable should be equal in each group."
   ]
  },
  {
   "cell_type": "markdown",
   "metadata": {},
   "source": [
    "**The following code applies the independent samples t-test for comparing the ``body temperatures`` of ``men`` and ``women``, let’s conduct the independent samples t-test step-by-step.**"
   ]
  },
  {
   "cell_type": "markdown",
   "metadata": {},
   "source": [
    "#### <p style=\"background-color:#FFFFFF; font-family:newtimeroman; color:#0000FF; font-size:125%; text-align:left;\"><strong>STEP-02 Checking the Homogeneity of Variances:</strong></p>\n",
    "\n",
    "**``Levene's Test Hypothesis:``**\n",
    "- ``H0: The population variances are equal``.\n",
    "- ``H1: There is a difference between the variances in the population``."
   ]
  },
  {
   "cell_type": "code",
   "execution_count": 21,
   "metadata": {
    "colab": {
     "base_uri": "https://localhost:8080/"
    },
    "executionInfo": {
     "elapsed": 437,
     "status": "ok",
     "timestamp": 1673080969940,
     "user": {
      "displayName": "Richard Thames",
      "userId": "00258987493291873022"
     },
     "user_tz": -180
    },
    "id": "osG8X_N3ONHz",
    "outputId": "de74455f-9741-4f55-f840-5b43871e07a4"
   },
   "outputs": [
    {
     "data": {
      "text/plain": [
       "LeveneResult(statistic=0.0031923383878696503, pvalue=0.9556424422138867)"
      ]
     },
     "execution_count": 21,
     "metadata": {},
     "output_type": "execute_result"
    }
   ],
   "source": [
    "# Performing Levene test for equal variances\n",
    "\n",
    "# The small p-value suggests that the populations do NOT have equal variances.(equal_var=False)\n",
    "# The large p-value suggests that the populations have equal variances.(equal_var=True) \n",
    "\n",
    "leveneTest = stats.levene(men, women)\n",
    "leveneTest\n",
    "\n",
    "# The small p-value suggests that the populations do not have equal variances."
   ]
  },
  {
   "cell_type": "markdown",
   "metadata": {},
   "source": [
    "**``Levene's Test Interpretation:``**\n",
    "- The Levene's Test checks for the equality of variances between the two groups.\n",
    "- **``P-value``**: **``0.9556``** is much greater than the significance level (α = 0.05), indicating that we fail to reject the null hypothesis for homogeneity of variances. This suggests that the ``variances of body temperatures`` in ``men`` and ``women`` are ``equal``."
   ]
  },
  {
   "cell_type": "markdown",
   "metadata": {},
   "source": [
    "**[What is levene's test:](https://en.wikipedia.org/wiki/Levene%27s_test)**\n",
    "\n",
    "In statistics, Levene's test is an inferential statistic used to assess the equality of variances for a variable calculated for two or more groups, a condition known as homogeneity of variances. \n",
    "It tests the null hypothesis that the population variances are equal (called homogeneity of variance or homoscedasticity). If the resulting p-value of Levene's test is less than some significance level (typically 0.05), the obtained differences in sample variances are unlikely to have occurred based on random sampling from a population with equal variances. Thus, the null hypothesis of equal variances is rejected and it is concluded that there is a difference between the variances in the population.\n",
    "\n",
    "However, the robustness of the t-test to violations of this assumption can vary.\n",
    "\n",
    "**``Key Points on Robustness:``**\n",
    "- **``Equal Variances (Homogeneity):``**\n",
    "   - If the variances of the two groups are equal, the independent samples t-test provides reliable results.\n",
    "- **``Unequal Variances (Heterogeneity):``**\n",
    "   - If the variances are not equal, the standard independent samples t-test can still be used, but it may lead to inaccurate results, particularly with smaller sample sizes.\n",
    "   - The test is generally considered robust to moderate violations of the homogeneity of variances assumption, especially when sample sizes are large (n > 30 for each group). In such cases, the central limit theorem helps mitigate issues related to unequal variances.\n",
    "\n",
    "**``Welch’s t-Test:``**\n",
    "- When the assumption of equal variances is violated, it is advisable to use Welch’s t-test. This test is a variation of the t-test that does not assume equal variances and is more reliable when there are differences in variability between the groups.\n",
    "\n",
    "**``Practical Considerations:``**\n",
    "- **``Testing for Homogeneity``**: Before conducting an independent samples t-test, it is good practice to test for homogeneity of variances using Levene’s test or Bartlett’s test.\n",
    "- **``Interpreting Results``**: If Levene’s test indicates significant differences in variances, it is better to use Welch’s t-test for more accurate results."
   ]
  },
  {
   "cell_type": "markdown",
   "metadata": {},
   "source": [
    "#### <p style=\"background-color:#FFFFFF; font-family:newtimeroman; color:#0000FF; font-size:125%; text-align:left;\"><strong>STEP-03: Stating the null (H0) and alternative hypothesis (Ha or H1).</strong></p>"
   ]
  },
  {
   "cell_type": "raw",
   "metadata": {
    "id": "JtLddmDzONHz"
   },
   "source": [
    "Null Hypothesis (H0): H0: µ1 = µ2 (\"the two population means are equal\")\n",
    "There is NO difference in mean body temperatures between men and women (μ_men = μ_women).\n",
    "\n",
    "Alternative Hypothesis (H1): H1: µ1 ≠ µ2 (\"the two population means are not equal\")\n",
    "There is a difference in mean body temperatures between men and women (μ_men ≠ μ_women)."
   ]
  },
  {
   "cell_type": "code",
   "execution_count": 22,
   "metadata": {
    "colab": {
     "base_uri": "https://localhost:8080/"
    },
    "executionInfo": {
     "elapsed": 6,
     "status": "ok",
     "timestamp": 1673080971299,
     "user": {
      "displayName": "Richard Thames",
      "userId": "00258987493291873022"
     },
     "user_tz": -180
    },
    "id": "K7pRFDRRONHz",
    "outputId": "e86a0a90-8788-4c4e-f6a4-eeb468933cee"
   },
   "outputs": [
    {
     "data": {
      "text/plain": [
       "97.85555555555555"
      ]
     },
     "execution_count": 22,
     "metadata": {},
     "output_type": "execute_result"
    }
   ],
   "source": [
    "# average men body temperature\n",
    "\n",
    "np.mean(men)"
   ]
  },
  {
   "cell_type": "code",
   "execution_count": 23,
   "metadata": {
    "colab": {
     "base_uri": "https://localhost:8080/"
    },
    "executionInfo": {
     "elapsed": 7,
     "status": "ok",
     "timestamp": 1673080972753,
     "user": {
      "displayName": "Richard Thames",
      "userId": "00258987493291873022"
     },
     "user_tz": -180
    },
    "id": "NblQjudxONHz",
    "outputId": "742d3dda-8fd6-4864-c272-ba9bf4bcd146"
   },
   "outputs": [
    {
     "data": {
      "text/plain": [
       "98.48888888888888"
      ]
     },
     "execution_count": 23,
     "metadata": {},
     "output_type": "execute_result"
    }
   ],
   "source": [
    "# average women body temperature\n",
    "\n",
    "np.mean(women)"
   ]
  },
  {
   "cell_type": "markdown",
   "metadata": {
    "id": "GiciPQa_ONH0"
   },
   "source": [
    "#### <p style=\"background-color:#FFFFFF; font-family:newtimeroman; color:#0000FF; font-size:125%; text-align:left;\"><strong>STEP-04: Calculating Test Statistic & p-value (the t-test for the means of two independent samples of scores):</strong></p>"
   ]
  },
  {
   "cell_type": "markdown",
   "metadata": {},
   "source": [
    "**Conduct Independent Samples t-Test:**"
   ]
  },
  {
   "cell_type": "code",
   "execution_count": 24,
   "metadata": {
    "id": "vlKDVRAFbGbw"
   },
   "outputs": [],
   "source": [
    "# help(stats.ttest_ind)"
   ]
  },
  {
   "cell_type": "code",
   "execution_count": 25,
   "metadata": {
    "colab": {
     "base_uri": "https://localhost:8080/"
    },
    "executionInfo": {
     "elapsed": 7,
     "status": "ok",
     "timestamp": 1673081001270,
     "user": {
      "displayName": "Richard Thames",
      "userId": "00258987493291873022"
     },
     "user_tz": -180
    },
    "id": "YGDINnV9ONH0",
    "outputId": "5b90e2d4-a98b-41ed-fccb-9a8713134d35"
   },
   "outputs": [
    {
     "data": {
      "text/plain": [
       "TtestResult(statistic=-2.3724271468993643, pvalue=0.03054788637798765, df=16.0)"
      ]
     },
     "execution_count": 25,
     "metadata": {},
     "output_type": "execute_result"
    }
   ],
   "source": [
    "# Calculating test statistics using stats.ttest_ind()\n",
    "\n",
    "indTest = stats.ttest_ind(men, women, equal_var=True)\n",
    "indTest"
   ]
  },
  {
   "cell_type": "markdown",
   "metadata": {},
   "source": [
    "**Test Statistic:**"
   ]
  },
  {
   "cell_type": "code",
   "execution_count": 26,
   "metadata": {
    "colab": {
     "base_uri": "https://localhost:8080/"
    },
    "executionInfo": {
     "elapsed": 3,
     "status": "ok",
     "timestamp": 1673080977201,
     "user": {
      "displayName": "Richard Thames",
      "userId": "00258987493291873022"
     },
     "user_tz": -180
    },
    "id": "M4RzjtbFONH0",
    "outputId": "cbe1fbd2-bc7e-4541-b416-a320a1f4a481"
   },
   "outputs": [
    {
     "data": {
      "text/plain": [
       "-2.3724271468993643"
      ]
     },
     "execution_count": 26,
     "metadata": {},
     "output_type": "execute_result"
    }
   ],
   "source": [
    "test_statistic = indTest.statistic\n",
    "test_statistic"
   ]
  },
  {
   "cell_type": "markdown",
   "metadata": {},
   "source": [
    "**P Value:**"
   ]
  },
  {
   "cell_type": "code",
   "execution_count": 27,
   "metadata": {
    "colab": {
     "base_uri": "https://localhost:8080/"
    },
    "executionInfo": {
     "elapsed": 588,
     "status": "ok",
     "timestamp": 1673076316362,
     "user": {
      "displayName": "Richard Thames",
      "userId": "00258987493291873022"
     },
     "user_tz": -180
    },
    "id": "yJDOaluLONH1",
    "outputId": "6a10f177-49d1-4d3d-b13f-19bbf9b49e7e"
   },
   "outputs": [
    {
     "data": {
      "text/plain": [
       "0.03054788637798765"
      ]
     },
     "execution_count": 27,
     "metadata": {},
     "output_type": "execute_result"
    }
   ],
   "source": [
    "p_value = indTest.pvalue\n",
    "p_value"
   ]
  },
  {
   "cell_type": "markdown",
   "metadata": {},
   "source": [
    "**``T-Test Interpretation:``**\n",
    "- The **``p-value``** (**``0.03054788637798765``**) is **``less than 0.05``**, which leads us to ``reject the null hypothesis`` regarding the means of the two groups.\n",
    "- The **``negative t-statistic``** (**``-2.3724271468993643``**) indicates that the ``mean body temperature`` of ``men`` is significantly lower than that of women.\n",
    "   - In a two-sample t-test, the t-statistic measures ``how many standard deviations the difference between the sample means is from the hypothesized difference`` (which is usually zero when testing for equality).\n",
    "   - A ``negative t-statistic`` indicates that the ``mean`` of the ``first group`` (in this case, men) is ``less`` than the ``mean`` of the ``second group`` (women).\n",
    "     - The negative t-statistic indicates that ``men have a significantly lower mean body temperature compared to women``."
   ]
  },
  {
   "cell_type": "markdown",
   "metadata": {},
   "source": [
    "#### <p style=\"background-color:#FFFFFF; font-family:newtimeroman; color:#0000FF; font-size:125%; text-align:left;\"><strong>STEP-05: Comparing Test Statistic to Critical Value to Make a decision:</strong></p>"
   ]
  },
  {
   "cell_type": "code",
   "execution_count": 28,
   "metadata": {
    "colab": {
     "base_uri": "https://localhost:8080/"
    },
    "executionInfo": {
     "elapsed": 435,
     "status": "ok",
     "timestamp": 1673076391376,
     "user": {
      "displayName": "Richard Thames",
      "userId": "00258987493291873022"
     },
     "user_tz": -180
    },
    "id": "YZvLrAqpONH1",
    "outputId": "05d235ef-7c15-4552-9056-a4ad97b59771"
   },
   "outputs": [
    {
     "name": "stdout",
     "output_type": "stream",
     "text": [
      "Reject the Null Hypothesis (H0) in favor of Alternative Hypothesis. At the α=0.05, we have sufficient evidence to indicate that mean body temperatures differ for men and women.\n"
     ]
    }
   ],
   "source": [
    "alpha = 0.05\n",
    "\n",
    "if indTest.pvalue < alpha:\n",
    "    print(\"Reject the Null Hypothesis (H0) in favor of Alternative Hypothesis. At the α=0.05, we have sufficient evidence to indicate that mean body temperatures differ for men and women.\")\n",
    "else:\n",
    "    print(\"FAIL to reject the Null hypothesis (H0).\")"
   ]
  },
  {
   "cell_type": "markdown",
   "metadata": {},
   "source": [
    "**``One Sample t-Test Result Interpretation:``**\n",
    "- We reject the null hypothesis (H0); this indicates that the t-test has provided sufficient evidence to conclude that ``there is a significant difference in mean body temperatures between men and women``.\n",
    "\n",
    "**``Conclusion:``**\n",
    "- At the 0.05 level of significance, we can assert the following:\n",
    "    - **``Significant Difference``**: There is a statistically significant difference in mean body temperatures between men and women, as indicated by the rejection of the null hypothesis.\n",
    "   - **``Implications``**: This result implies that the average body temperature for men is significantly different from that of women, which could have implications in medical and health-related fields."
   ]
  },
  {
   "cell_type": "markdown",
   "metadata": {},
   "source": [
    "**Making a decision comparing ``calculated`` and ``critical`` t scores:**"
   ]
  },
  {
   "cell_type": "code",
   "execution_count": 29,
   "metadata": {},
   "outputs": [
    {
     "name": "stdout",
     "output_type": "stream",
     "text": [
      "Critical t-value (low): -2.1199\n",
      "Critical t-value (high): 2.1199\n",
      "Calculated t-value: -2.3724\n",
      "Reject the null hypothesis.\n"
     ]
    }
   ],
   "source": [
    "# Calculate means and standard deviations\n",
    "mean_men = np.mean(men)\n",
    "mean_women = np.mean(women)\n",
    "std_dev_men = np.std(men, ddof=1)  # Sample standard deviation\n",
    "std_dev_women = np.std(women, ddof=1)  # Sample standard deviation\n",
    "n_men = len(men)\n",
    "n_women = len(women)\n",
    "\n",
    "# Calculate the t-statistic for independent samples\n",
    "t_calculated = (mean_men - mean_women) / np.sqrt((std_dev_men**2 / n_men) + (std_dev_women**2 / n_women))\n",
    "\n",
    "# Significance level\n",
    "alpha = 0.05\n",
    "\n",
    "# Degrees of freedom\n",
    "dof = n_men + n_women - 2\n",
    "\n",
    "# Critical t-value for the two-tailed test\n",
    "t_critical_low = stats.t.ppf(alpha / 2, dof)    # Lower critical value\n",
    "t_critical_high = stats.t.ppf(1 - alpha / 2, dof)  # Upper critical value\n",
    "\n",
    "# Print the critical t-values and the calculated t-value\n",
    "print(f'Critical t-value (low): {t_critical_low:.4f}')\n",
    "print(f'Critical t-value (high): {t_critical_high:.4f}')\n",
    "print(f'Calculated t-value: {t_calculated:.4f}')\n",
    "\n",
    "# Decision\n",
    "if t_calculated < t_critical_low or t_calculated > t_critical_high:\n",
    "    print(\"Reject the null hypothesis.\")\n",
    "else:\n",
    "    print(\"Fail to reject the null hypothesis.\")"
   ]
  },
  {
   "cell_type": "markdown",
   "metadata": {},
   "source": [
    "- **``The critical t-values are:``**\n",
    "  - Lower Critical t-value: -2.1199\n",
    "  - Upper Critical t-value: 2.1199\n",
    "\n",
    "These critical t-values represent the thresholds for rejecting the null hypothesis at the 0.05 significance level for a two-tailed test with 39 degrees of freedom. Values falling outside this range indicate significant differences between the sample means.\n",
    "\n",
    "- **``Calculated t-Statistic:``**\n",
    "  - The calculated t-statistic is approximately -2.3724. This value is less than the lower critical t-value of -2.1199. This means that the calculated t-statistic falls into the rejection region on the left side of the distribution.\n",
    "\n",
    "- **``Decision Rule:``**\n",
    "  - For a two-tailed test, we reject the null hypothesis if the calculated t-statistic is less than the lower critical t-value or greater than the upper critical t-value.\n",
    "\n",
    "- **``Rejection Region: ``**\n",
    "  - ``t<−2.1199 or t>2.1199``\n",
    "    - Since the calculated t-statistic of -2.3724 is less than the lower critical t-value of -2.1199, we reject the null hypothesis. This indicates that there is enough evidence to suggest that there is a significant difference in mean body temperatures between men and women at the 0.05 significance level.\n",
    "\n",
    "- **``Conclusion\"``**\n",
    "  - In conclusion, the results suggest that the average body temperature of the two groups is significantly different, which may have implications for physiological studies relating to health outcomes."
   ]
  },
  {
   "cell_type": "markdown",
   "metadata": {},
   "source": [
    "#### <p style=\"background-color:#FFFFFF; font-family:newtimeroman; color:#0000FF; font-size:125%; text-align:left;\"><strong>STEP-06: Visualizing the results:</strong></p>"
   ]
  },
  {
   "cell_type": "code",
   "execution_count": 30,
   "metadata": {},
   "outputs": [
    {
     "data": {
      "image/png": "[encoded data removed]",
      "text/plain": [
       "<Figure size 1000x500 with 1 Axes>"
      ]
     },
     "metadata": {},
     "output_type": "display_data"
    }
   ],
   "source": [
    "# Given values from your t-test\n",
    "t_critical_low = -2.1199\n",
    "t_critical_high = 2.1199\n",
    "t_calculated = -2.3724\n",
    "p_value = 0.03054788637798765\n",
    "dof = 16\n",
    "alpha = 0.05\n",
    "\n",
    "# Define the range for the t-distribution plot\n",
    "x = np.linspace(-5, 5, 1000)\n",
    "y = stats.t.pdf(x, dof)\n",
    "\n",
    "# Create the plot\n",
    "plt.figure(figsize=(10, 5))\n",
    "\n",
    "# Plot the t-distribution\n",
    "plt.plot(x, y, label=f't-distribution (dof={dof})', color='blue')\n",
    "\n",
    "# Mark the critical t-values for alpha (two-tailed test)\n",
    "plt.axvline(t_critical_low, color='red', linestyle='--', label=f'Critical t-value (low) at {alpha/2} level')\n",
    "plt.axvline(t_critical_high, color='red', linestyle='--', label=f'Critical t-value (high) at {alpha/2} level')\n",
    "\n",
    "# Mark the calculated t-statistic\n",
    "plt.axvline(t_calculated, color='green', linestyle='-', label=f'Calculated t-statistic ({t_calculated:.2f})')\n",
    "\n",
    "# Add a blue horizontal line at the bottom of the distribution\n",
    "plt.axhline(0, color='blue', linestyle='-', linewidth=2)\n",
    "\n",
    "# Fill the rejection regions\n",
    "plt.fill_between(x, 0, y, where=(x <= t_critical_low), color='lightcoral', alpha=0.5, label='Rejection Region (low)')\n",
    "plt.fill_between(x, 0, y, where=(x >= t_critical_high), color='lightcoral', alpha=0.5, label='Rejection Region (high)')\n",
    "\n",
    "# Fill the fail to reject area with light green\n",
    "plt.fill_between(x, 0, y, where=(x > t_critical_low) & (x < t_critical_high), color='lightgreen', alpha=0.5, label='Fail to Reject Region')\n",
    "\n",
    "# Add text for p-value and alpha\n",
    "plt.text(-1.3, 0.1, f'Calculated p-value: {p_value:.4f}', fontsize=10)\n",
    "plt.text(-0.65, 0.08, f'alpha: {alpha}', fontsize=10)\n",
    "plt.text(t_statistic-0.85, 0.05, f't statistic: {t_statistic:.2f}', color='green', fontsize=10, ha='center', va='top')\n",
    "\n",
    "# Add titles and labels\n",
    "plt.title('Two-Tailed t-Distribution with Critical Regions and t-Statistic', color='blue')\n",
    "plt.xlabel('t-value')\n",
    "plt.ylabel('Probability Density')\n",
    "plt.legend(fontsize='small')\n",
    "\n",
    "# Set y-axis limit to start from zero\n",
    "plt.ylim(bottom=0)\n",
    "\n",
    "# Remove grids\n",
    "plt.grid(False)\n",
    "\n",
    "# Show the plot\n",
    "plt.show()"
   ]
  },
  {
   "cell_type": "markdown",
   "metadata": {},
   "source": [
    "### <p style=\"background-color:#E51A59; font-family:newtimeroman; color:#FDFEFE; font-size:150%; text-align:left; border-radius:10px 10px;\">Example-02 (Independent Samples t-Test):</p>"
   ]
  },
  {
   "cell_type": "markdown",
   "metadata": {},
   "source": [
    "<p style=\"background-color:#FFFFFF; font-family:newtimeroman; color:#0000FF; font-size:125%; text-align:left;\">\n",
    "    👉 <span style=\"color:red;\">Scenario:</span> <span style=\"color:green;\">Arsenic Levels in Water Supplies</span>.\n",
    "</p>\n",
    "\n",
    "- **``Context``**: A public health study aims to compare arsenic levels in drinking water between urban areas (Metro Phoenix) and rural areas (Rural Arizona) in Arizona. The researchers want to determine if there is a significant difference in arsenic levels between these two regions."
   ]
  },
  {
   "cell_type": "code",
   "execution_count": 31,
   "metadata": {},
   "outputs": [
    {
     "data": {
      "text/html": [
       "<div>\n",
       "<style scoped>\n",
       "    .dataframe tbody tr th:only-of-type {\n",
       "        vertical-align: middle;\n",
       "    }\n",
       "\n",
       "    .dataframe tbody tr th {\n",
       "        vertical-align: top;\n",
       "    }\n",
       "\n",
       "    .dataframe thead th {\n",
       "        text-align: right;\n",
       "    }\n",
       "</style>\n",
       "<table border=\"1\" class=\"dataframe\">\n",
       "  <thead>\n",
       "    <tr style=\"text-align: right;\">\n",
       "      <th></th>\n",
       "      <th>Metro Phoenix</th>\n",
       "      <th>x1</th>\n",
       "      <th>Rural Arizona</th>\n",
       "      <th>x2</th>\n",
       "    </tr>\n",
       "  </thead>\n",
       "  <tbody>\n",
       "    <tr>\n",
       "      <th>0</th>\n",
       "      <td>Phoenix</td>\n",
       "      <td>3</td>\n",
       "      <td>Rimrock</td>\n",
       "      <td>48</td>\n",
       "    </tr>\n",
       "    <tr>\n",
       "      <th>1</th>\n",
       "      <td>Chandler</td>\n",
       "      <td>7</td>\n",
       "      <td>Goodyear</td>\n",
       "      <td>44</td>\n",
       "    </tr>\n",
       "    <tr>\n",
       "      <th>2</th>\n",
       "      <td>Gilbert</td>\n",
       "      <td>25</td>\n",
       "      <td>New River</td>\n",
       "      <td>40</td>\n",
       "    </tr>\n",
       "    <tr>\n",
       "      <th>3</th>\n",
       "      <td>Glendale</td>\n",
       "      <td>10</td>\n",
       "      <td>Apache Junction</td>\n",
       "      <td>38</td>\n",
       "    </tr>\n",
       "    <tr>\n",
       "      <th>4</th>\n",
       "      <td>Mesa</td>\n",
       "      <td>15</td>\n",
       "      <td>Buckeye</td>\n",
       "      <td>33</td>\n",
       "    </tr>\n",
       "    <tr>\n",
       "      <th>5</th>\n",
       "      <td>Paradise Valley</td>\n",
       "      <td>6</td>\n",
       "      <td>Nogales</td>\n",
       "      <td>21</td>\n",
       "    </tr>\n",
       "    <tr>\n",
       "      <th>6</th>\n",
       "      <td>Peoria</td>\n",
       "      <td>12</td>\n",
       "      <td>Black Canyon City</td>\n",
       "      <td>20</td>\n",
       "    </tr>\n",
       "    <tr>\n",
       "      <th>7</th>\n",
       "      <td>Scottsdale</td>\n",
       "      <td>25</td>\n",
       "      <td>Sedona</td>\n",
       "      <td>12</td>\n",
       "    </tr>\n",
       "    <tr>\n",
       "      <th>8</th>\n",
       "      <td>Tempe</td>\n",
       "      <td>15</td>\n",
       "      <td>Payson</td>\n",
       "      <td>1</td>\n",
       "    </tr>\n",
       "    <tr>\n",
       "      <th>9</th>\n",
       "      <td>Sun City</td>\n",
       "      <td>7</td>\n",
       "      <td>Casa Grande</td>\n",
       "      <td>18</td>\n",
       "    </tr>\n",
       "  </tbody>\n",
       "</table>\n",
       "</div>"
      ],
      "text/plain": [
       "     Metro Phoenix  x1      Rural Arizona  x2\n",
       "0          Phoenix   3            Rimrock  48\n",
       "1         Chandler   7           Goodyear  44\n",
       "2          Gilbert  25          New River  40\n",
       "3         Glendale  10    Apache Junction  38\n",
       "4             Mesa  15            Buckeye  33\n",
       "5  Paradise Valley   6            Nogales  21\n",
       "6           Peoria  12  Black Canyon City  20\n",
       "7       Scottsdale  25             Sedona  12\n",
       "8            Tempe  15             Payson   1\n",
       "9         Sun City   7        Casa Grande  18"
      ]
     },
     "execution_count": 31,
     "metadata": {},
     "output_type": "execute_result"
    }
   ],
   "source": [
    "# Importing arsenic dataset\n",
    "\n",
    "arsenic = pd.read_csv(\"arsenic.csv\")\n",
    "arsenic"
   ]
  },
  {
   "cell_type": "code",
   "execution_count": 32,
   "metadata": {},
   "outputs": [
    {
     "data": {
      "text/html": [
       "<div>\n",
       "<style scoped>\n",
       "    .dataframe tbody tr th:only-of-type {\n",
       "        vertical-align: middle;\n",
       "    }\n",
       "\n",
       "    .dataframe tbody tr th {\n",
       "        vertical-align: top;\n",
       "    }\n",
       "\n",
       "    .dataframe thead th {\n",
       "        text-align: right;\n",
       "    }\n",
       "</style>\n",
       "<table border=\"1\" class=\"dataframe\">\n",
       "  <thead>\n",
       "    <tr style=\"text-align: right;\">\n",
       "      <th></th>\n",
       "      <th>count</th>\n",
       "      <th>mean</th>\n",
       "      <th>std</th>\n",
       "      <th>min</th>\n",
       "      <th>25%</th>\n",
       "      <th>50%</th>\n",
       "      <th>75%</th>\n",
       "      <th>max</th>\n",
       "    </tr>\n",
       "  </thead>\n",
       "  <tbody>\n",
       "    <tr>\n",
       "      <th>x1</th>\n",
       "      <td>10.0</td>\n",
       "      <td>12.5</td>\n",
       "      <td>7.633988</td>\n",
       "      <td>3.0</td>\n",
       "      <td>7.0</td>\n",
       "      <td>11.0</td>\n",
       "      <td>15.0</td>\n",
       "      <td>25.0</td>\n",
       "    </tr>\n",
       "    <tr>\n",
       "      <th>x2</th>\n",
       "      <td>10.0</td>\n",
       "      <td>27.5</td>\n",
       "      <td>15.349629</td>\n",
       "      <td>1.0</td>\n",
       "      <td>18.5</td>\n",
       "      <td>27.0</td>\n",
       "      <td>39.5</td>\n",
       "      <td>48.0</td>\n",
       "    </tr>\n",
       "  </tbody>\n",
       "</table>\n",
       "</div>"
      ],
      "text/plain": [
       "    count  mean        std  min   25%   50%   75%   max\n",
       "x1   10.0  12.5   7.633988  3.0   7.0  11.0  15.0  25.0\n",
       "x2   10.0  27.5  15.349629  1.0  18.5  27.0  39.5  48.0"
      ]
     },
     "execution_count": 32,
     "metadata": {},
     "output_type": "execute_result"
    }
   ],
   "source": [
    "arsenic.describe().T"
   ]
  },
  {
   "cell_type": "markdown",
   "metadata": {},
   "source": [
    "<p style=\"background-color:#FFFFFF; font-family:newtimeroman; color:#0000FF; font-size:125%; text-align:left;\"><strong>Given Variables:</strong></p>"
   ]
  },
  {
   "cell_type": "code",
   "execution_count": 33,
   "metadata": {},
   "outputs": [
    {
     "name": "stdout",
     "output_type": "stream",
     "text": [
      "Urban Mean (x_bar): 12.500000\n",
      "Rural Mean (x_bar): 27.500000\n",
      "Urban Std Dev: 7.633988\n",
      "Rural Std Dev: 15.349629\n",
      "Total Sample Size (n): 20\n",
      "Degrees of Fredom: 18\n",
      "Significance Level (alpha): 0.05\n"
     ]
    }
   ],
   "source": [
    "# Urban Areas (Metro Phoenix)\n",
    "mean_urban = arsenic[\"x1\"].mean()    # Sample mean for urban areas\n",
    "std_dev_urban = arsenic[\"x1\"].std()  # Sample standard deviation for urban areas\n",
    "n_urban = len(arsenic[\"x1\"])         # Sample size for urban areas\n",
    "\n",
    "# Rural Areas (Rural Arizona)\n",
    "mean_rural = arsenic[\"x2\"].mean()    # Sample mean for rural areas\n",
    "std_dev_rural = arsenic[\"x2\"].std()  # Sample standard deviation for rural areas\n",
    "n_rural = len(arsenic[\"x2\"])         # Sample size for rural areas\n",
    "\n",
    "# Summary of variables\n",
    "x_bar_urban = mean_urban  # Sample mean for urban areas\n",
    "x_bar_rural = mean_rural  # Sample mean for rural areas\n",
    "n = n_urban + n_rural     # Total sample size\n",
    "alpha = 0.05              # Significance level\n",
    "\n",
    "# Sample sizes for each group\n",
    "n_urban = len(arsenic[\"x1\"])  # Urban areas\n",
    "n_rural = len(arsenic[\"x2\"])  # Rural areas\n",
    "# Calculate degrees of freedom\n",
    "dof = (n_urban + n_rural) - 2\n",
    "\n",
    "# For reporting\n",
    "print(f'Urban Mean (x_bar): {x_bar_urban:.6f}')\n",
    "print(f'Rural Mean (x_bar): {x_bar_rural:.6f}')\n",
    "print(f'Urban Std Dev: {std_dev_urban:.6f}')\n",
    "print(f'Rural Std Dev: {std_dev_rural:.6f}')\n",
    "print(f'Total Sample Size (n): {n}')\n",
    "print(f'Degrees of Fredom: {dof}')\n",
    "print(f'Significance Level (alpha): {alpha}')"
   ]
  },
  {
   "cell_type": "markdown",
   "metadata": {},
   "source": [
    "<hr>\n",
    "\n",
    "**The following code applies the ``independent samples t-test`` for analyzing the arsenic concentration in public drinking water supplies between metropolitan Phoenix and rural Arizona; let’s conduct the independent samples t-test step-by-step.**"
   ]
  },
  {
   "cell_type": "markdown",
   "metadata": {},
   "source": [
    "#### <p style=\"background-color:#FFFFFF; font-family:newtimeroman; color:#0000FF; font-size:125%; text-align:left;\"><strong>STEP-01 Checking the Homogeneity of Variances:</strong></p>\n",
    "\n",
    "**``Levene's Test Hypothesis:``**\n",
    "- H0: The population variances are equal.\n",
    "- H1: There is a difference between the variances in the population"
   ]
  },
  {
   "cell_type": "code",
   "execution_count": 34,
   "metadata": {},
   "outputs": [
    {
     "data": {
      "text/plain": [
       "LeveneResult(statistic=7.7015516672169, pvalue=0.012482954069299166)"
      ]
     },
     "execution_count": 34,
     "metadata": {},
     "output_type": "execute_result"
    }
   ],
   "source": [
    "# Performing Levene test for equal variances:\n",
    "\n",
    "leveneTest = stats.levene(arsenic.x1, arsenic.x2)\n",
    "leveneTest\n",
    "\n",
    "# The small p-value suggests that the populations do not have equal variances."
   ]
  },
  {
   "cell_type": "markdown",
   "metadata": {},
   "source": [
    "**``Levene's Test Interpretation:``**\n",
    "- The p-value for Levene's test (0.0125) is less than 0.05, indicating that we reject the null hypothesis for homogeneity of variances. This suggests that the variances of arsenic concentrations in the two groups are significantly different."
   ]
  },
  {
   "cell_type": "markdown",
   "metadata": {},
   "source": [
    "#### <p style=\"background-color:#FFFFFF; font-family:newtimeroman; color:#0000FF; font-size:125%; text-align:left;\"><strong>STEP-02: Stating the null (H0) and alternative hypothesis (Ha or H1).</strong></p>"
   ]
  },
  {
   "cell_type": "raw",
   "metadata": {},
   "source": [
    "Null Hypothesis (H0): H0: µ1 = µ2 (\"the two population means are equal\")\n",
    "There is NO difference in arsenic concentrations between metropolitan Phoenix and rural Arizona (μ_metro = μ_rural).\n",
    " \n",
    "Alternative Hypothesis (H1): H1: µ1 ≠ µ2 (\"the two population means are not equal\")\n",
    "There is a difference in arsenic concentrations between metropolitan Phoenix and rural Arizona (μ_metro ≠ μ_rural)."
   ]
  },
  {
   "cell_type": "code",
   "execution_count": 35,
   "metadata": {},
   "outputs": [
    {
     "data": {
      "text/plain": [
       "12.5"
      ]
     },
     "execution_count": 35,
     "metadata": {},
     "output_type": "execute_result"
    }
   ],
   "source": [
    "# Average arsenic in Metro Phoenix\n",
    "\n",
    "arsenic.x1.mean()"
   ]
  },
  {
   "cell_type": "code",
   "execution_count": 36,
   "metadata": {},
   "outputs": [
    {
     "data": {
      "text/plain": [
       "27.5"
      ]
     },
     "execution_count": 36,
     "metadata": {},
     "output_type": "execute_result"
    }
   ],
   "source": [
    "# Average arsenic in Rural Arizona\n",
    "\n",
    "arsenic.x2.mean()"
   ]
  },
  {
   "cell_type": "markdown",
   "metadata": {},
   "source": [
    "#### <p style=\"background-color:#FFFFFF; font-family:newtimeroman; color:#0000FF; font-size:125%; text-align:left;\"><strong>STEP-03: Calculating Test Statistic (the t-test for the means of two independent samples of scores):</strong></p>"
   ]
  },
  {
   "cell_type": "markdown",
   "metadata": {},
   "source": [
    "**Conduct Independent Samples t-Test:**"
   ]
  },
  {
   "cell_type": "code",
   "execution_count": 37,
   "metadata": {},
   "outputs": [
    {
     "data": {
      "text/plain": [
       "TtestResult(statistic=-2.7669395785560553, pvalue=0.0158272848161009, df=13.19556427423346)"
      ]
     },
     "execution_count": 37,
     "metadata": {},
     "output_type": "execute_result"
    }
   ],
   "source": [
    "# Calculating test statistics using stats.ttest_ind()\n",
    "\n",
    "indTest = stats.ttest_ind(arsenic.x1, arsenic.x2, equal_var=False)\n",
    "indTest"
   ]
  },
  {
   "cell_type": "markdown",
   "metadata": {},
   "source": [
    "**Test Statistic:**"
   ]
  },
  {
   "cell_type": "code",
   "execution_count": 38,
   "metadata": {},
   "outputs": [
    {
     "data": {
      "text/plain": [
       "-2.7669395785560553"
      ]
     },
     "execution_count": 38,
     "metadata": {},
     "output_type": "execute_result"
    }
   ],
   "source": [
    "test_statistic = indTest.statistic\n",
    "test_statistic"
   ]
  },
  {
   "cell_type": "markdown",
   "metadata": {},
   "source": [
    "**P Value:**"
   ]
  },
  {
   "cell_type": "code",
   "execution_count": 39,
   "metadata": {},
   "outputs": [
    {
     "data": {
      "text/plain": [
       "0.0158272848161009"
      ]
     },
     "execution_count": 39,
     "metadata": {},
     "output_type": "execute_result"
    }
   ],
   "source": [
    "p_value = indTest.pvalue\n",
    "p_value"
   ]
  },
  {
   "cell_type": "markdown",
   "metadata": {},
   "source": [
    "**``T-Test Interpretation:``**\n",
    "- The p-value for the t-test (0.0158) is also less than 0.05, which indicates that we reject the null hypothesis regarding the means of the two groups.\n",
    "- The negative t-statistic (-2.7669) suggests that the mean arsenic concentration in metropolitan Phoenix is lower than in rural Arizona.\n",
    "   - The t-statistic indicates how many standard deviations the sample mean of one group (in this case, metropolitan Phoenix) is from the hypothesized mean (which, in this context, could be the mean of rural Arizona if we are comparing the two groups).\n",
    "   - A negative t-statistic generally means that the sample mean of the first group (metropolitan Phoenix) is less than the sample mean of the second group (rural Arizona).\n",
    "     - If the t-statistic is negative, it indicates that the mean for the first group (metropolitan Phoenix) is lower than that of the second group (rural Arizona).\n",
    "     - Conversely, if the t-statistic were positive, it would suggest that the mean for metropolitan Phoenix is higher than that of rural Arizona."
   ]
  },
  {
   "cell_type": "markdown",
   "metadata": {},
   "source": [
    "#### <p style=\"background-color:#FFFFFF; font-family:newtimeroman; color:#0000FF; font-size:125%; text-align:left;\"><strong>STEP-04: Comparing Test Statistic to Critical Value to Make a decision:</strong></p>"
   ]
  },
  {
   "cell_type": "code",
   "execution_count": 40,
   "metadata": {},
   "outputs": [
    {
     "name": "stdout",
     "output_type": "stream",
     "text": [
      "At 0.05 level of significance, we can reject the null hypothesis in favor of alternative hypothesis.\n"
     ]
    }
   ],
   "source": [
    "alpha = 0.05\n",
    "\n",
    "if indTest.pvalue < alpha:\n",
    "    print('At {} level of significance, we can reject the null hypothesis in favor of alternative hypothesis.'.format(alpha))\n",
    "else:\n",
    "    print('At {} level of significance, we FAIL to reject the null hypothesis.'.format(alpha))"
   ]
  },
  {
   "cell_type": "markdown",
   "metadata": {},
   "source": [
    "**``One Sample t-Test Result Interpretation:``**\n",
    "\n",
    "- **``Rejecting the Null Hypothesis``**: At the 0.05 level of significance, we reject the null hypothesis, indicating that there is a statistically significant difference in arsenic concentrations between metropolitan Phoenix and rural Arizona.\n",
    "\n",
    "**``Interpretation of the Decision:``**\n",
    "- The results imply that the average arsenic concentration in one of the groups (likely rural Arizona, given the negative t-statistic) is significantly different from that in metropolitan Phoenix. This finding raises potential health concerns regarding arsenic exposure in drinking water, particularly in the area with higher concentrations.\n",
    "- Public health officials may need to investigate further and consider measures to address the potential risks associated with arsenic in drinking water supplies, especially in the rural communities.\n",
    "\n",
    "**``Wrap up:``**\n",
    "- In summary, the analysis indicates that there is a significant difference in arsenic concentrations in drinking water between metropolitan and rural areas, with implications for public health and safety."
   ]
  },
  {
   "cell_type": "markdown",
   "metadata": {},
   "source": [
    "**Making a decision comparing ``calculated`` and ``critical`` t scores:**"
   ]
  },
  {
   "cell_type": "code",
   "execution_count": 41,
   "metadata": {},
   "outputs": [],
   "source": [
    "# # Urban Areas (Metro Phoenix)\n",
    "# mean_urban = arsenic[\"x1\"].mean()    # Sample mean for urban areas\n",
    "# std_dev_urban = arsenic[\"x1\"].std()  # Sample standard deviation for urban areas\n",
    "# n_urban = len(arsenic[\"x1\"])         # Sample size for urban areas\n",
    "\n",
    "# # Rural Areas (Rural Arizona)\n",
    "# mean_rural = arsenic[\"x2\"].mean()    # Sample mean for rural areas\n",
    "# std_dev_rural = arsenic[\"x2\"].std()  # Sample standard deviation for rural areas\n",
    "# n_rural = len(arsenic[\"x2\"])         # Sample size for rural areas\n",
    "\n",
    "# # Summary of variables\n",
    "# x_bar_urban = mean_urban  # Sample mean for urban areas\n",
    "# x_bar_rural = mean_rural  # Sample mean for rural areas\n",
    "# n = n_urban + n_rural     # Total sample size\n",
    "# alpha = 0.05              # Significance level\n",
    "\n",
    "# # Sample sizes for each group\n",
    "# n_urban = len(arsenic[\"x1\"])  # Urban areas\n",
    "# n_rural = len(arsenic[\"x2\"])  # Rural areas\n",
    "# # Calculate degrees of freedom\n",
    "# dof = (n_urban + n_rural) - 2"
   ]
  },
  {
   "cell_type": "code",
   "execution_count": 42,
   "metadata": {},
   "outputs": [
    {
     "name": "stdout",
     "output_type": "stream",
     "text": [
      "Critical t-value (low): -2.1009\n",
      "Critical t-value (high): 2.1009\n",
      "Calculated t-value: -2.7669\n",
      "Degrees of Freedom (dof): 18\n",
      "Alpha (significance level): 0.05\n",
      "Reject the null hypothesis.\n"
     ]
    }
   ],
   "source": [
    "# Calculate means and standard deviations\n",
    "mean_urban = arsenic[\"x1\"].mean()    # Sample mean for urban areas\n",
    "mean_rural = arsenic[\"x2\"].mean()    # Sample mean for rural areas\n",
    "std_dev_urban = arsenic[\"x1\"].std()  # Sample standard deviation for urban areas\n",
    "std_dev_rural = arsenic[\"x2\"].std()  # Sample standard deviation for rural areas\n",
    "n_urban = len(arsenic[\"x1\"])         # Sample size for urban areas\n",
    "n_rural = len(arsenic[\"x2\"])         # Sample size for rural areas\n",
    "\n",
    "# Calculate the t-statistic for independent samples\n",
    "t_calculated = (mean_urban - mean_rural) / np.sqrt((std_dev_urban**2 / n_urban) + (std_dev_rural**2 / n_rural))\n",
    "\n",
    "dof = n_urban + n_rural - 2\n",
    "t_critical_low = stats.t.ppf(alpha / 2, dof)       # Lower critical value\n",
    "t_critical_high = stats.t.ppf(1 - alpha / 2, dof)  # Upper critical value\n",
    "\n",
    "# Print the critical t-values and the calculated t-value\n",
    "print(f'Critical t-value (low): {t_critical_low:.4f}')\n",
    "print(f'Critical t-value (high): {t_critical_high:.4f}')\n",
    "print(f'Calculated t-value: {t_calculated:.4f}')\n",
    "print(f'Degrees of Freedom (dof): {dof}')\n",
    "print(f'Alpha (significance level): {alpha}')\n",
    "\n",
    "# Decision\n",
    "if t_calculated < t_critical_low or t_calculated > t_critical_high:\n",
    "    print(\"Reject the null hypothesis.\")\n",
    "else:\n",
    "    print(\"FAIL to reject the null hypothesis.\")"
   ]
  },
  {
   "cell_type": "markdown",
   "metadata": {},
   "source": [
    "- **``The critical t-values are:``**\n",
    "  - **``Lower Critical t-value``**: tcritical low\n",
    "  - **``Upper Critical t-value``**: tcritical high\n",
    " \n",
    "    - These critical t-values represent the thresholds for rejecting the null hypothesis at the 0.05 significance level for a two-tailed test with (n₁ + n₂ - 2) degrees of freedom. Values falling outside this range indicate significant differences between the sample means.\n",
    "\n",
    "- **``Calculated t-Statistic:``**\n",
    "  - The calculated t-statistic is approximately (t_calculated). This value is less than the lower critical t-value of (t_critical_low). This means that the calculated t-statistic falls into the rejection region on the left side of the distribution.\n",
    "\n",
    "- **``Decision Rule:``**\n",
    "  - For a two-tailed test, we reject the null hypothesis if the calculated t-statistic is less than the lower critical t-value or greater than the upper critical t-value.\n",
    "\n",
    "    - Rejection Region: ``t < tcritical low``  or ``t > tcritical high``\n",
    "  - Since the calculated t-statistic of (t_calculated) is less than the lower critical t-value of (t_critical_low), we reject the null hypothesis. This indicates that there is enough evidence to suggest that there is a significant difference in arsenic levels between urban and rural areas at the 0.05 significance level.\n",
    "\n",
    "- **``Conclusion:``**\n",
    "  - In conclusion, the results suggest that the average arsenic levels in drinking water between urban and rural areas differ significantly, which may have important implications for public health policies and water quality standards in Arizona."
   ]
  },
  {
   "cell_type": "markdown",
   "metadata": {},
   "source": [
    "#### <p style=\"background-color:#FFFFFF; font-family:newtimeroman; color:#0000FF; font-size:125%; text-align:left;\"><strong>STEP-05: Visualizing the results:</strong></p>"
   ]
  },
  {
   "cell_type": "code",
   "execution_count": 43,
   "metadata": {},
   "outputs": [
    {
     "data": {
      "image/png": "[encoded data removed]",
      "text/plain": [
       "<Figure size 1000x500 with 1 Axes>"
      ]
     },
     "metadata": {},
     "output_type": "display_data"
    }
   ],
   "source": [
    "# Given values from your t-test\n",
    "t_critical_low = -2.160  # Example critical t-value from calculations\n",
    "t_critical_high = 2.160  # Example critical t-value from calculations\n",
    "t_calculated = -2.7669   # Calculated t-value\n",
    "p_value = 0.0158         # Given p-value from the t-test\n",
    "dof = 18                 # Approximated degrees of freedom\n",
    "alpha = 0.05             # Significance level\n",
    "\n",
    "# Define the range for the t-distribution plot\n",
    "x = np.linspace(-5, 5, 1000)\n",
    "y = stats.t.pdf(x, dof)\n",
    "\n",
    "# Create the plot\n",
    "plt.figure(figsize=(10, 5))\n",
    "\n",
    "# Plot the t-distribution\n",
    "plt.plot(x, y, label=f't-distribution (dof={dof})', color='blue')\n",
    "\n",
    "# Mark the critical t-values for alpha (two-tailed test)\n",
    "plt.axvline(t_critical_low, color='red', linestyle='--', label=f'Critical t-value (low) at {alpha/2} level')\n",
    "plt.axvline(t_critical_high, color='red', linestyle='--', label=f'Critical t-value (high) at {alpha/2} level')\n",
    "\n",
    "# Mark the calculated t-statistic\n",
    "plt.axvline(t_calculated, color='green', linestyle='-', label=f'Calculated t-statistic ({t_calculated:.2f})')\n",
    "\n",
    "# Add a blue horizontal line at the bottom of the distribution\n",
    "plt.axhline(0, color='blue', linestyle='-', linewidth=2)\n",
    "\n",
    "# Fill the rejection regions\n",
    "plt.fill_between(x, 0, y, where=(x <= t_critical_low), color='lightcoral', alpha=0.5, label='Rejection Region (low)')\n",
    "plt.fill_between(x, 0, y, where=(x >= t_critical_high), color='lightcoral', alpha=0.5, label='Rejection Region (high)')\n",
    "\n",
    "# Fill the fail to reject area with light green\n",
    "plt.fill_between(x, 0, y, where=(x > t_critical_low) & (x < t_critical_high), color='lightgreen', alpha=0.5, label='Fail to Reject Region')\n",
    "\n",
    "# Add text for p-value and alpha\n",
    "plt.text(-1.3, 0.1, f'Calculated p-value: {p_value:.4f}', fontsize=10)\n",
    "plt.text(-0.65, 0.08, f'alpha: {alpha}', fontsize=10)\n",
    "plt.text(t_calculated - 0.85, 0.05, f't statistic: {t_calculated:.2f}', color='green', fontsize=10, ha='center', va='top')\n",
    "\n",
    "# Add titles and labels\n",
    "plt.title('Two-Tailed t-Distribution with Critical Regions and t-Statistic', color='blue')\n",
    "plt.xlabel('t-value')\n",
    "plt.ylabel('Probability Density')\n",
    "plt.legend(fontsize='small')\n",
    "\n",
    "# Set y-axis limit to start from zero\n",
    "plt.ylim(bottom=0)\n",
    "\n",
    "# Remove grids\n",
    "plt.grid(False)\n",
    "\n",
    "# Show the plot\n",
    "plt.show()"
   ]
  },
  {
   "cell_type": "markdown",
   "metadata": {},
   "source": [
    "## <p style=\"background-color:#E51A59; font-family:newtimeroman; color:#FFFFFF; font-size:175%; text-align:center; border-radius:10px 10px;\">B - Paired (Dependent) Samples t-Test</p>\n",
    "\n",
    "<p style=\"background-color:#FFFFFF; font-family:newtimeroman; color:#0000FF; font-size:125%; text-align:left;\"><strong>💡🚨📢👉 Compares the means of two measurements from same source over the time or at different conditions or etc. ❗❗❗</strong></p>"
   ]
  },
  {
   "cell_type": "markdown",
   "metadata": {
    "id": "iKBF7QtaONH1"
   },
   "source": [
    "## [Paired (Dependent) Samples T-Test](https://libguides.library.kent.edu/SPSS/PairedSamplestTest)\n",
    "\n",
    "The Paired Samples t-Test ``compares the means of two measurements taken from the same individual, object, or related units``. These \"paired\" measurements can represent things like:\n",
    "- A ``measurement`` taken at ``two different times`` (e.g., pre-test and post-test score with an intervention administered between the two time points)\n",
    "- A ``measurement`` taken ``under two different conditions`` (e.g., completing a test under a \"control\" condition and an \"experimental\" condition)\n",
    "- ``Measurements`` taken from ``two halves or sides of a subject or experimental unit`` (e.g., measuring hearing loss in a subject's left and right ears).\n",
    "\n",
    "The ``purpose`` of the test is to ``determine whether there is statistical evidence that the mean difference between paired observations is significantly different from zero``. The Paired Samples t Test is a parametric test.\n",
    "\n",
    "This test is also known as:\n",
    "- ``Dependent t-Test``\n",
    "- ``Paired t-Test``\n",
    "- ``Repeated Measures t-Test``\n",
    "\n",
    "**Hypotheses:**\n",
    "\n",
    "The hypotheses can be expressed in two different ways that express the same idea and are mathematically equivalent:\n",
    "- ``H0: µ1 = µ2 (\"the paired population means are equal\")``\n",
    "- ``H1: µ1 ≠ µ2 (\"the paired population means are not equal\")``\n",
    "\n",
    "OR\n",
    "- ``H0: µ1 - µ2 = 0 (\"the difference between the paired population means is equal to 0\")``\n",
    "- ``H1: µ1 - µ2 ≠ 0 (\"the difference between the paired population means is not 0\")``\n",
    "\n",
    "where\n",
    "- ``µ1`` is the ``population mean of variable 1``, and\n",
    "- ``µ2`` is ``the population mean of variable 2``.\n",
    "\n",
    "**[How to use Python to Perform a Paired Sample T-test](https://www.marsja.se/how-to-use-python-to-perform-a-paired-sample-t-test/)**<br>\n",
    "\n",
    "\n",
    "<p style=\"background-color:#FFFFFF; font-family:newtimeroman; color:#0000FF; font-size:125%; text-align:left;\">\n",
    "    👉 The Dependent (or Paired) t-test is based on the assumption that the differences between pairs of observations are <span style=\"color:red;\">normally distributed</span>, and <span style=\"color:red;\">NOT specifically on the assumption of homogeneity of variance</span> within each group. However, it's good practice to check the <span style=\"color:red;\">variances for similarity when working with small samples</span>. If the variances are significantly different, we can consider using the <span style=\"color:red;\">Welch's t-test</span>, which does not require <span style=\"color:red;\">homogeneity of variance assumption</span>.\n",
    "</p>"
   ]
  },
  {
   "cell_type": "markdown",
   "metadata": {
    "id": "GCU28cSfONH1"
   },
   "source": [
    "### <p style=\"background-color:#E51A59; font-family:newtimeroman; color:#FDFEFE; font-size:150%; text-align:left; border-radius:10px 10px;\">Example-01 (Paired (Dependent) Samples t-Test):</p>"
   ]
  },
  {
   "cell_type": "markdown",
   "metadata": {},
   "source": [
    "<p style=\"background-color:#FFFFFF; font-family:newtimeroman; color:#0000FF; font-size:125%; text-align:left;\">\n",
    "    👉 <span style=\"color:red;\">Hypothetical Scenario:</span> <span style=\"color:green;\">Comparing Strength Prediction Methods</span>.\n",
    "</p>\n",
    "    \n",
    "- **``Context``**: A materials science research team is investigating the effectiveness of two different methods for predicting the strength of a new composite material. The team conducts an experiment to assess the strength predictions generated by the Karlsruhe method and the Lehigh method.\n",
    "\n",
    "- The experiment involves testing samples using both methods, and the results are measured in megapascals (MPa). The goal is to determine if there is a statistically significant difference in the strength predictions between the two methods."
   ]
  },
  {
   "cell_type": "code",
   "execution_count": 44,
   "metadata": {
    "id": "hnl_JBV7ONH2"
   },
   "outputs": [],
   "source": [
    "karlsruhe = [1.186, 1.151, 1.322, 1.339, 1.2, 1.402, 1.365, 1.537, 1.559]\n",
    "lehigh = [1.061, 0.992, 1.063, 1.062, 1.065, 1.178, 1.037, 1.086, 1.052] "
   ]
  },
  {
   "cell_type": "markdown",
   "metadata": {},
   "source": [
    "**Checking the Assumptions:**\n",
    "\n",
    "The paired (dependent) t-test assumes the following characteristics about the data:\n",
    "- The dependent variable must be continuous (interval/ratio).\n",
    "- The observations are independent of one another.\n",
    "- The dependent variable should be approximately normally distributed.\n",
    "- The dependent variable should not contain any outliers."
   ]
  },
  {
   "cell_type": "markdown",
   "metadata": {},
   "source": [
    "#### <p style=\"background-color:#FFFFFF; font-family:newtimeroman; color:#0000FF; font-size:125%; text-align:left;\"><strong>STEP-01: Stating the null (H0) and alternative hypothesis (Ha or H1).</strong></p>"
   ]
  },
  {
   "cell_type": "raw",
   "metadata": {},
   "source": [
    "Null Hypothesis (H0): H0: µ1 = µ2 (\"the paired population means are equal\")\n",
    "There is NO difference in strength predictions between the Karlsruhe and Lehigh methods (μ_karlsruhe = μ_lehigh).\n",
    "\n",
    "Alternative Hypothesis (H1): H1: µ1 ≠ µ2 (\"the paired population means are not equal\")\n",
    "The Karlsruhe method produces higher strength predictions than the Lehigh method (μ_karlsruhe ≠ μ_lehigh)."
   ]
  },
  {
   "cell_type": "code",
   "execution_count": 45,
   "metadata": {},
   "outputs": [
    {
     "data": {
      "text/plain": [
       "1.3401111111111108"
      ]
     },
     "execution_count": 45,
     "metadata": {},
     "output_type": "execute_result"
    }
   ],
   "source": [
    "# Average in karlsruhe method\n",
    "\n",
    "np.mean(karlsruhe)"
   ]
  },
  {
   "cell_type": "code",
   "execution_count": 46,
   "metadata": {},
   "outputs": [
    {
     "data": {
      "text/plain": [
       "1.0662222222222222"
      ]
     },
     "execution_count": 46,
     "metadata": {},
     "output_type": "execute_result"
    }
   ],
   "source": [
    "# Average in lehigh method\n",
    "\n",
    "np.mean(lehigh)"
   ]
  },
  {
   "cell_type": "markdown",
   "metadata": {},
   "source": [
    "#### <p style=\"background-color:#FFFFFF; font-family:newtimeroman; color:#0000FF; font-size:125%; text-align:left;\"><strong>STEP-02: Calculating Test Statistic & p-value (the t-test for the means of two dependent (Paired) samples of scores):</strong></p>"
   ]
  },
  {
   "cell_type": "markdown",
   "metadata": {},
   "source": [
    "**Conduct Paired (Dependent) Samples t-Test:**"
   ]
  },
  {
   "cell_type": "code",
   "execution_count": 47,
   "metadata": {
    "colab": {
     "base_uri": "https://localhost:8080/"
    },
    "executionInfo": {
     "elapsed": 458,
     "status": "ok",
     "timestamp": 1673082334636,
     "user": {
      "displayName": "Richard Thames",
      "userId": "00258987493291873022"
     },
     "user_tz": -180
    },
    "id": "uPLEtigFONH3",
    "outputId": "d05add86-d27e-43ef-dcf4-18ddb4c0f8f1"
   },
   "outputs": [
    {
     "data": {
      "text/plain": [
       "TtestResult(statistic=6.0819394375848255, pvalue=0.00029529546278604066, df=8)"
      ]
     },
     "execution_count": 47,
     "metadata": {},
     "output_type": "execute_result"
    }
   ],
   "source": [
    "# Calculate test statistics using stats.ttest_rel()  \n",
    "\n",
    "pairedtest = stats.ttest_rel(karlsruhe, lehigh)\n",
    "pairedtest"
   ]
  },
  {
   "cell_type": "markdown",
   "metadata": {},
   "source": [
    "**Test Statistic:**"
   ]
  },
  {
   "cell_type": "code",
   "execution_count": 48,
   "metadata": {},
   "outputs": [
    {
     "data": {
      "text/plain": [
       "6.0819394375848255"
      ]
     },
     "execution_count": 48,
     "metadata": {},
     "output_type": "execute_result"
    }
   ],
   "source": [
    "test_statistic = pairedtest.statistic\n",
    "test_statistic"
   ]
  },
  {
   "cell_type": "markdown",
   "metadata": {},
   "source": [
    "#### <p style=\"background-color:#FFFFFF; font-family:newtimeroman; color:#0000FF; font-size:125%; text-align:left;\"><strong>STEP-03: Calculating the p-value:</strong></p>"
   ]
  },
  {
   "cell_type": "markdown",
   "metadata": {},
   "source": [
    "**P Value:**"
   ]
  },
  {
   "cell_type": "code",
   "execution_count": 49,
   "metadata": {},
   "outputs": [
    {
     "data": {
      "text/plain": [
       "0.00029529546278604066"
      ]
     },
     "execution_count": 49,
     "metadata": {},
     "output_type": "execute_result"
    }
   ],
   "source": [
    "p_value = pairedtest.pvalue\n",
    "p_value "
   ]
  },
  {
   "cell_type": "markdown",
   "metadata": {},
   "source": [
    "**``T-Test Interpretation:``**\n",
    "- The t-statistic of 6.0819 is quite large, indicating a substantial difference between the two methods.\n",
    "- The p-value (0.0003) is significantly less than the alpha level of 0.05, leading us to reject the null hypothesis."
   ]
  },
  {
   "cell_type": "markdown",
   "metadata": {},
   "source": [
    "#### <p style=\"background-color:#FFFFFF; font-family:newtimeroman; color:#0000FF; font-size:125%; text-align:left;\"><strong>STEP-04: Comparing Test Statistic to Critical Value to Make a decision:</strong></p>"
   ]
  },
  {
   "cell_type": "code",
   "execution_count": 50,
   "metadata": {
    "colab": {
     "base_uri": "https://localhost:8080/"
    },
    "executionInfo": {
     "elapsed": 424,
     "status": "ok",
     "timestamp": 1673082382078,
     "user": {
      "displayName": "Richard Thames",
      "userId": "00258987493291873022"
     },
     "user_tz": -180
    },
    "id": "7bVGa7jrONH3",
    "outputId": "9ae72f07-8723-483e-8468-d2d07cd9789d"
   },
   "outputs": [
    {
     "name": "stdout",
     "output_type": "stream",
     "text": [
      "Reject the Null hypothesis (H0). The data indicate that the Karlsruhe method produces, on the average, higher strength predictions than does the Lehigh method.\n"
     ]
    }
   ],
   "source": [
    "alpha = 0.05\n",
    "\n",
    "if pairedtest.pvalue < alpha:\n",
    "    print(\"Reject the Null hypothesis (H0). The data indicate that the Karlsruhe method produces, on the average, higher strength predictions than does the Lehigh method.\")\n",
    "else:\n",
    "    print(\"FAIL to reject Null hypothesis (H0)\")"
   ]
  },
  {
   "cell_type": "markdown",
   "metadata": {},
   "source": [
    "**``Conclusion:``**\n",
    "- **``Rejecting the Null Hypothesis``**: At the 0.05 level of significance, we reject the null hypothesis, indicating that there is a statistically significant difference between strength predictions of the two methods.\n",
    "\n",
    "**``Interpretation of the Decision:``**\n",
    "- The data indicate that the Karlsruhe method produces, on average, higher strength predictions than the Lehigh method. This suggests that researchers and engineers may prefer the Karlsruhe method for more accurate strength assessments of the composite material.\n",
    "- Given the significant difference in predictions, further investigation into the methodologies and their underlying principles may be warranted to understand why the Karlsruhe method yields stronger predictions.\n",
    "\n",
    "**``Wrap up:``**\n",
    "This analysis highlights the effectiveness of the Karlsruhe method over the Lehigh method in predicting material strength, providing valuable insights for researchers and engineers in materials science. The results may influence future choices in method selection for strength prediction, ultimately impacting material design and safety evaluations."
   ]
  },
  {
   "cell_type": "markdown",
   "metadata": {},
   "source": [
    "**Making a decision comparing ``calculated`` and ``critical`` t scores:**"
   ]
  },
  {
   "cell_type": "code",
   "execution_count": 51,
   "metadata": {},
   "outputs": [
    {
     "name": "stdout",
     "output_type": "stream",
     "text": [
      "Critical t-value (low): -2.3060\n",
      "Critical t-value (high): 2.3060\n",
      "Calculated t-value: 6.0819\n",
      "Degrees of Freedom (dof): 8\n",
      "Alpha (significance level): 0.05\n",
      "Calculated p-value: 0.0002952955\n",
      "Reject the null hypothesis.\n"
     ]
    }
   ],
   "source": [
    "# Calculate differences\n",
    "differences = np.array(karlsruhe) - np.array(lehigh)\n",
    "\n",
    "# Calculate mean and standard deviation of differences\n",
    "mean_diff = np.mean(differences)\n",
    "std_dev_diff = np.std(differences, ddof=1)  # Sample standard deviation of differences\n",
    "n = len(differences)                         # Sample size\n",
    "\n",
    "# Calculate the t-statistic for paired samples\n",
    "t_calculated = mean_diff / (std_dev_diff / np.sqrt(n))\n",
    "\n",
    "# Degrees of freedom\n",
    "dof = n - 1\n",
    "\n",
    "# Significance level\n",
    "alpha = 0.05\n",
    "\n",
    "# Critical t-values for the two-tailed test\n",
    "t_critical_low = stats.t.ppf(alpha / 2, dof)   # Lower critical value\n",
    "t_critical_high = stats.t.ppf(1 - alpha / 2, dof)  # Upper critical value\n",
    "\n",
    "# Calculate the p-value for the two-tailed test\n",
    "p_value = 2 * (1 - stats.t.cdf(abs(t_calculated), dof))  # Two-tailed p-value\n",
    "\n",
    "# Print the results\n",
    "print(f'Critical t-value (low): {t_critical_low:.4f}')\n",
    "print(f'Critical t-value (high): {t_critical_high:.4f}')\n",
    "print(f'Calculated t-value: {t_calculated:.4f}')\n",
    "print(f'Degrees of Freedom (dof): {dof}')\n",
    "print(f'Alpha (significance level): {alpha}')\n",
    "print(f'Calculated p-value: {p_value:.10f}')\n",
    "\n",
    "# Decision\n",
    "if p_value < alpha:\n",
    "    print(\"Reject the null hypothesis.\")\n",
    "else:\n",
    "    print(\"Fail to reject the null hypothesis.\")"
   ]
  },
  {
   "cell_type": "markdown",
   "metadata": {},
   "source": [
    "- **``The critical t-values are:``**\n",
    "\n",
    "  - **``Lower Critical t-value``**: tcritical low\n",
    "  - **``Upper Critical t-value``**: tcritical high\n",
    "\n",
    "    - These critical t-values represent the thresholds for rejecting the null hypothesis at the 0.05 significance level for a two-tailed test with (n - 1) degrees of freedom. Values falling outside this range indicate significant differences between the sample means.\n",
    "\n",
    "- **``Decision Rule:``**\n",
    "  - t_calculated value is compared against the critical t-values. For a two-tailed test, we reject the null hypothesis if the calculated t-statistic is less than the lower critical t-value or greater than the upper critical t-value.\n",
    "\n",
    "- **``Rejection Region``**: ``t < t critical low``  or ``t > t critical high``\n",
    " \n",
    "  - Since the calculated t-statistic of (t_calculated) is greater than the lower critical t-value of (t_critical_low) and less than the upper critical t-value of (t_critical_high), we reject the null hypothesis.\n",
    "\n",
    "  - This indicates that there is enough evidence to suggest that there is a significant difference in strength predictions between the Karlsruhe and Lehigh methods at the 0.05 significance level.\n",
    "\n",
    "- **``Conclusion:``**\n",
    "  - In conclusion, the results suggest that the average strength predictions from the Karlsruhe method are significantly different from those of the Lehigh method, which may have important implications for the selection of strength prediction methods in materials science research."
   ]
  },
  {
   "cell_type": "markdown",
   "metadata": {},
   "source": [
    "#### <p style=\"background-color:#FFFFFF; font-family:newtimeroman; color:#0000FF; font-size:125%; text-align:left;\"><strong>STEP-05: Visualizing the results:</strong></p>"
   ]
  },
  {
   "cell_type": "code",
   "execution_count": 52,
   "metadata": {},
   "outputs": [
    {
     "data": {
      "image/png": "[encoded data removed]",
      "text/plain": [
       "<Figure size 1000x500 with 1 Axes>"
      ]
     },
     "metadata": {},
     "output_type": "display_data"
    }
   ],
   "source": [
    "# Given values from your t-test\n",
    "t_critical_low = -2.160  # Example critical t-value from calculations\n",
    "t_critical_high = 2.160   # Example critical t-value from calculations\n",
    "t_calculated = 3.456  # Replace with your calculated t-statistic\n",
    "p_value = 0.0002953  # Given p-value from the t-test\n",
    "dof = 8  # Replace with your calculated degrees of freedom (n - 1)\n",
    "alpha = 0.05\n",
    "\n",
    "# Define the range for the t-distribution plot\n",
    "x = np.linspace(-5, 5, 1000)\n",
    "y = stats.t.pdf(x, dof)\n",
    "\n",
    "# Create the plot\n",
    "plt.figure(figsize=(10, 5))\n",
    "\n",
    "# Plot the t-distribution\n",
    "plt.plot(x, y, label=f't-distribution (dof={dof})', color='blue')\n",
    "\n",
    "# Mark the critical t-values for alpha (two-tailed test)\n",
    "plt.axvline(t_critical_low, color='red', linestyle='--', label=f'Critical t-value (low) at {alpha/2} level')\n",
    "plt.axvline(t_critical_high, color='red', linestyle='--', label=f'Critical t-value (high) at {alpha/2} level')\n",
    "\n",
    "# Mark the calculated t-statistic\n",
    "plt.axvline(t_calculated, color='green', linestyle='-', label=f'Calculated t-statistic ({t_calculated:.2f})')\n",
    "\n",
    "# Add a blue horizontal line at the bottom of the distribution\n",
    "plt.axhline(0, color='blue', linestyle='-', linewidth=2)\n",
    "\n",
    "# Fill the rejection regions\n",
    "plt.fill_between(x, 0, y, where=(x <= t_critical_low), color='lightcoral', alpha=0.5, label='Rejection Region (low)')\n",
    "plt.fill_between(x, 0, y, where=(x >= t_critical_high), color='lightcoral', alpha=0.5, label='Rejection Region (high)')\n",
    "\n",
    "# Fill the fail to reject area with light green\n",
    "plt.fill_between(x, 0, y, where=(x > t_critical_low) & (x < t_critical_high), color='lightgreen', alpha=0.5, label='Fail to Reject Region')\n",
    "\n",
    "# Add text for p-value and alpha\n",
    "plt.text(-1.3, 0.1, f'Calculated p-value: {p_value:.4f}', fontsize=10)\n",
    "plt.text(-0.65, 0.08, f'alpha: {alpha}', fontsize=10)\n",
    "plt.text(t_calculated + 0.85, 0.05, f't statistic: {t_calculated:.2f}', color='green', fontsize=10, ha='center', va='top')\n",
    "\n",
    "# Add titles and labels\n",
    "plt.title('Two-Tailed t-Distribution with Critical Regions and t-Statistic', color='blue')\n",
    "plt.xlabel('t-value')\n",
    "plt.ylabel('Probability Density')\n",
    "plt.legend(fontsize='small')\n",
    "\n",
    "# Set y-axis limit to start from zero\n",
    "plt.ylim(bottom=0)\n",
    "\n",
    "# Remove grids\n",
    "plt.grid(False)\n",
    "\n",
    "# Show the plot\n",
    "plt.show()"
   ]
  },
  {
   "cell_type": "markdown",
   "metadata": {},
   "source": [
    "### <p style=\"background-color:#E51A59; font-family:newtimeroman; color:#FDFEFE; font-size:150%; text-align:left; border-radius:10px 10px;\">Example-02 (Paired (Dependent) Samples t-Test):</p>"
   ]
  },
  {
   "cell_type": "markdown",
   "metadata": {},
   "source": [
    "<p style=\"background-color:#FFFFFF; font-family:newtimeroman; color:#0000FF; font-size:125%; text-align:left;\">\n",
    "    👉 <span style=\"color:red;\">Prozac Data:</span>\n",
    "</p>\n",
    "\n",
    "\n",
    "- Let us consider a simple example of what is often termed \"pre/post\" data or \"pretest/posttest\" data.\n",
    "- Suppose you wish to test the effect of Prozac on the well-being of depressed individuals, using a standardised \"well-being scale\" that sums Likert-type items to obtain a score that could range from 0 to 20.\n",
    "- Higher scores indicate greater well-being (that is, Prozac is having a positive effect).\n",
    "While there are flaws in this design (e.g., lack of a control group) it will serve as an example of how to analyse such data.\n",
    "- Determine if Prozac enhances well-being in depressed individuals. Use 0.05"
   ]
  },
  {
   "cell_type": "code",
   "execution_count": 53,
   "metadata": {},
   "outputs": [
    {
     "data": {
      "text/html": [
       "<div>\n",
       "<style scoped>\n",
       "    .dataframe tbody tr th:only-of-type {\n",
       "        vertical-align: middle;\n",
       "    }\n",
       "\n",
       "    .dataframe tbody tr th {\n",
       "        vertical-align: top;\n",
       "    }\n",
       "\n",
       "    .dataframe thead th {\n",
       "        text-align: right;\n",
       "    }\n",
       "</style>\n",
       "<table border=\"1\" class=\"dataframe\">\n",
       "  <thead>\n",
       "    <tr style=\"text-align: right;\">\n",
       "      <th></th>\n",
       "      <th>moodpre</th>\n",
       "      <th>moodpost</th>\n",
       "      <th>difference</th>\n",
       "    </tr>\n",
       "  </thead>\n",
       "  <tbody>\n",
       "    <tr>\n",
       "      <th>0</th>\n",
       "      <td>3</td>\n",
       "      <td>5</td>\n",
       "      <td>2</td>\n",
       "    </tr>\n",
       "    <tr>\n",
       "      <th>1</th>\n",
       "      <td>0</td>\n",
       "      <td>1</td>\n",
       "      <td>1</td>\n",
       "    </tr>\n",
       "    <tr>\n",
       "      <th>2</th>\n",
       "      <td>6</td>\n",
       "      <td>5</td>\n",
       "      <td>-1</td>\n",
       "    </tr>\n",
       "    <tr>\n",
       "      <th>3</th>\n",
       "      <td>7</td>\n",
       "      <td>7</td>\n",
       "      <td>0</td>\n",
       "    </tr>\n",
       "    <tr>\n",
       "      <th>4</th>\n",
       "      <td>4</td>\n",
       "      <td>10</td>\n",
       "      <td>6</td>\n",
       "    </tr>\n",
       "    <tr>\n",
       "      <th>5</th>\n",
       "      <td>3</td>\n",
       "      <td>9</td>\n",
       "      <td>6</td>\n",
       "    </tr>\n",
       "    <tr>\n",
       "      <th>6</th>\n",
       "      <td>2</td>\n",
       "      <td>7</td>\n",
       "      <td>5</td>\n",
       "    </tr>\n",
       "    <tr>\n",
       "      <th>7</th>\n",
       "      <td>1</td>\n",
       "      <td>11</td>\n",
       "      <td>10</td>\n",
       "    </tr>\n",
       "    <tr>\n",
       "      <th>8</th>\n",
       "      <td>4</td>\n",
       "      <td>8</td>\n",
       "      <td>4</td>\n",
       "    </tr>\n",
       "  </tbody>\n",
       "</table>\n",
       "</div>"
      ],
      "text/plain": [
       "   moodpre  moodpost  difference\n",
       "0        3         5           2\n",
       "1        0         1           1\n",
       "2        6         5          -1\n",
       "3        7         7           0\n",
       "4        4        10           6\n",
       "5        3         9           6\n",
       "6        2         7           5\n",
       "7        1        11          10\n",
       "8        4         8           4"
      ]
     },
     "execution_count": 53,
     "metadata": {},
     "output_type": "execute_result"
    }
   ],
   "source": [
    "# Reading Prozac dataset\n",
    "\n",
    "prozac = pd.read_csv(\"prozac.csv\")\n",
    "prozac"
   ]
  },
  {
   "cell_type": "code",
   "execution_count": 54,
   "metadata": {},
   "outputs": [
    {
     "name": "stdout",
     "output_type": "stream",
     "text": [
      "<class 'pandas.core.frame.DataFrame'>\n",
      "RangeIndex: 9 entries, 0 to 8\n",
      "Data columns (total 3 columns):\n",
      " #   Column      Non-Null Count  Dtype\n",
      "---  ------      --------------  -----\n",
      " 0   moodpre     9 non-null      int64\n",
      " 1   moodpost    9 non-null      int64\n",
      " 2   difference  9 non-null      int64\n",
      "dtypes: int64(3)\n",
      "memory usage: 348.0 bytes\n"
     ]
    }
   ],
   "source": [
    "prozac.info()"
   ]
  },
  {
   "cell_type": "markdown",
   "metadata": {},
   "source": [
    "#### <p style=\"background-color:#FFFFFF; font-family:newtimeroman; color:#0000FF; font-size:125%; text-align:left;\"><strong>STEP-01: Stating the null (H0) and alternative hypothesis (Ha or H1).</strong></p>"
   ]
  },
  {
   "cell_type": "raw",
   "metadata": {},
   "source": [
    "Null Hypothesis (H0): H0: µ1 = µ2 (\"the paired population means are equal\")\n",
    "There is no difference in well-being scores before and after treatment with Prozac.\n",
    "\n",
    "Alternative Hypothesis (H1): H1: µ1 > µ2 (\"the paired population means are not equal\")\n",
    "There is a difference in well-being scores before and after treatment with Prozac.\n",
    "(This indicates that the post-treatment scores are greater than pre-treatment scores, suggesting a positive effect of Prozac.)"
   ]
  },
  {
   "cell_type": "code",
   "execution_count": 55,
   "metadata": {},
   "outputs": [
    {
     "data": {
      "text/plain": [
       "3.3333333333333335"
      ]
     },
     "execution_count": 55,
     "metadata": {},
     "output_type": "execute_result"
    }
   ],
   "source": [
    "# Average of moodpost\n",
    "\n",
    "prozac[\"moodpre\"].mean()"
   ]
  },
  {
   "cell_type": "code",
   "execution_count": 56,
   "metadata": {},
   "outputs": [
    {
     "data": {
      "text/plain": [
       "7.0"
      ]
     },
     "execution_count": 56,
     "metadata": {},
     "output_type": "execute_result"
    }
   ],
   "source": [
    "# Average of moodpost\n",
    "\n",
    "prozac[\"moodpost\"].mean()"
   ]
  },
  {
   "cell_type": "markdown",
   "metadata": {},
   "source": [
    "#### <p style=\"background-color:#FFFFFF; font-family:newtimeroman; color:#0000FF; font-size:125%; text-align:left;\"><strong>STEP-02: Calculating Test Statistic & p-value (the t-test for the means of two dependent (Paired) samples of scores):</strong></p>"
   ]
  },
  {
   "cell_type": "markdown",
   "metadata": {},
   "source": [
    "**Conduct Paired (Dependent) Samples t-Test:**"
   ]
  },
  {
   "cell_type": "code",
   "execution_count": 57,
   "metadata": {},
   "outputs": [
    {
     "data": {
      "text/plain": [
       "TtestResult(statistic=3.1428571428571423, pvalue=0.006872912197394244, df=8)"
      ]
     },
     "execution_count": 57,
     "metadata": {},
     "output_type": "execute_result"
    }
   ],
   "source": [
    "pairedtest = stats.ttest_rel(prozac.moodpost, prozac.moodpre, alternative=\"greater\")\n",
    "pairedtest"
   ]
  },
  {
   "cell_type": "markdown",
   "metadata": {},
   "source": [
    "**Test Statistic:**"
   ]
  },
  {
   "cell_type": "code",
   "execution_count": 58,
   "metadata": {},
   "outputs": [
    {
     "data": {
      "text/plain": [
       "3.1428571428571423"
      ]
     },
     "execution_count": 58,
     "metadata": {},
     "output_type": "execute_result"
    }
   ],
   "source": [
    "test_statistic = pairedtest.statistic\n",
    "test_statistic"
   ]
  },
  {
   "cell_type": "markdown",
   "metadata": {},
   "source": [
    "#### <p style=\"background-color:#FFFFFF; font-family:newtimeroman; color:#0000FF; font-size:125%; text-align:left;\"><strong>STEP-03: Calculating the p-value:</strong></p>"
   ]
  },
  {
   "cell_type": "markdown",
   "metadata": {},
   "source": [
    "**P Value:**"
   ]
  },
  {
   "cell_type": "code",
   "execution_count": 59,
   "metadata": {},
   "outputs": [
    {
     "data": {
      "text/plain": [
       "0.006872912197394244"
      ]
     },
     "execution_count": 59,
     "metadata": {},
     "output_type": "execute_result"
    }
   ],
   "source": [
    "p_value = pairedtest.pvalue\n",
    "p_value "
   ]
  },
  {
   "cell_type": "markdown",
   "metadata": {},
   "source": [
    "**``Interpretation of the Test Statistic:``**\n",
    "\n",
    "- **``Test Statistic``**: The t-statistic of approximately 3.14 indicates the ratio of the difference between the group means to the variation in the sample data.\n",
    "  - A higher t-statistic suggests a greater difference between the means relative to the variability of the data. In this case, it indicates that the average increase in well-being scores after taking Prozac is substantial compared to the variability in scores.\n",
    "- The p-value (0.0069) is significantly less than the alpha level of 0.05, leading us to reject the null hypothesis."
   ]
  },
  {
   "cell_type": "markdown",
   "metadata": {},
   "source": [
    "#### <p style=\"background-color:#FFFFFF; font-family:newtimeroman; color:#0000FF; font-size:125%; text-align:left;\"><strong>STEP-04: Comparing Test Statistic to Critical Value to Make a decision:</strong></p>"
   ]
  },
  {
   "cell_type": "code",
   "execution_count": 60,
   "metadata": {},
   "outputs": [
    {
     "name": "stdout",
     "output_type": "stream",
     "text": [
      "At 0.05 level of significance, we can reject the null hypothesis in favor of alternative hypothesis.\n"
     ]
    }
   ],
   "source": [
    "alpha = 0.05\n",
    "\n",
    "if pairedtest.pvalue < alpha:\n",
    "    print('At {} level of significance, we can reject the null hypothesis in favor of alternative hypothesis.'.format(alpha))\n",
    "else:\n",
    "    print('At {} level of significance, we FAIL to reject the null hypothesis.'.format(alpha))"
   ]
  },
  {
   "cell_type": "markdown",
   "metadata": {},
   "source": [
    "**``Conclusion:``**\n",
    "- **``Rejecting the Null Hypothesis``**: At the 0.05 level of significance, we reject the null hypothesis, indicating that there is a statistically significant difference in well-being scores before and after treatment with Prozac.\n",
    "\n",
    "**``Interpretation of the Decision:``**\n",
    "- The results suggest that the well-being scores (measured on a scale from 0 to 20) significantly increased after the individuals were treated with Prozac. The t-statistic of approximately 3.14 and the p-value of 0.0069 indicate that the observed improvement in well-being is unlikely to have occurred by chance.\n",
    "- This finding supports the idea that Prozac has a positive effect on enhancing the well-being of depressed individuals, as reflected by the increase in scores on the well-being scale.\n",
    "\n",
    "**``Wrap Up:``**\n",
    "- This analysis provides evidence that Prozac may effectively enhance the well-being of individuals suffering from depression. While the study design has limitations, such as the absence of a control group, the significant results warrant further investigation. Future studies could explore the long-term effects of Prozac and consider including a control group to strengthen the findings."
   ]
  },
  {
   "cell_type": "markdown",
   "metadata": {},
   "source": [
    "**Making a decision comparing ``calculated`` and ``critical`` t scores:**"
   ]
  },
  {
   "cell_type": "code",
   "execution_count": 61,
   "metadata": {},
   "outputs": [
    {
     "name": "stdout",
     "output_type": "stream",
     "text": [
      "Critical t-value: 1.8595\n",
      "Calculated t-value: 3.1429\n",
      "Degrees of Freedom (dof): 8\n",
      "Alpha (significance level): 0.05\n",
      "Calculated p-value: 0.0068729122\n",
      "Reject the null hypothesis.\n"
     ]
    }
   ],
   "source": [
    "# Calculate differences\n",
    "differences = prozac['moodpost'] - prozac['moodpre']\n",
    "\n",
    "# Calculate mean and standard deviation of differences\n",
    "mean_diff = np.mean(differences)\n",
    "std_dev_diff = np.std(differences, ddof=1)  # Sample standard deviation\n",
    "n = len(differences)                         # Sample size\n",
    "\n",
    "# Calculate the t-statistic for paired samples\n",
    "t_calculated = mean_diff / (std_dev_diff / np.sqrt(n))\n",
    "\n",
    "# Degrees of freedom\n",
    "dof = n - 1\n",
    "\n",
    "# Significance level\n",
    "alpha = 0.05\n",
    "\n",
    "# Critical t-value for the one-tailed test\n",
    "t_critical = stats.t.ppf(1 - alpha, dof)  # Upper critical value for one-tailed test\n",
    "\n",
    "# Calculate the p-value for the one-tailed test\n",
    "p_value = 1 - stats.t.cdf(t_calculated, dof)  # One-tailed p-value\n",
    "\n",
    "# Print the results\n",
    "print(f'Critical t-value: {t_critical:.4f}')\n",
    "print(f'Calculated t-value: {t_calculated:.4f}')\n",
    "print(f'Degrees of Freedom (dof): {dof}')\n",
    "print(f'Alpha (significance level): {alpha}')\n",
    "print(f'Calculated p-value: {p_value:.10f}')\n",
    "\n",
    "# Decision\n",
    "if p_value < alpha:\n",
    "    print(\"Reject the null hypothesis.\")\n",
    "else:\n",
    "    print(\"Fail to reject the null hypothesis.\")"
   ]
  },
  {
   "cell_type": "markdown",
   "metadata": {},
   "source": [
    "- **``The critical t-values are:``**\n",
    "\n",
    "  - **``Lower Critical t-value``**: N/A (not applicable for one-tailed test)\n",
    "  - **``Upper Critical t-value``**: tcritical\n",
    "\n",
    "- These critical t-values represent the threshold for rejecting the null hypothesis at the 0.05 significance level for a one-tailed test with (n−1) degrees of freedom. Values falling above this threshold indicate significant positive differences in well-being scores after treatment with Prozac.\n",
    "\n",
    "- **``Decision Rule:``**\n",
    "  - The calculated t-statistic is compared against the critical t-value.\n",
    "    - For a one-tailed test, we reject the null hypothesis if the calculated t-statistic is greater than the upper critical t-value.\n",
    "\n",
    "- **``Rejection Region:``** ``t > t critical``\n",
    " \n",
    "  - Since the calculated t-statistic of (t_calculated) is greater than the upper critical t-value of (t_critical), we reject the null hypothesis.\n",
    "\n",
    "    - This indicates that there is enough evidence to suggest that Prozac enhances well-being in depressed individuals at the 0.05 significance level.\n",
    "\n",
    "- **``Conclusion:``**\n",
    "  - In conclusion, the results suggest that the average well-being scores of individuals after treatment with Prozac are significantly higher than before treatment. This finding may have important implications for the use of Prozac in clinical settings for improving mental health in depressed individuals."
   ]
  },
  {
   "cell_type": "markdown",
   "metadata": {},
   "source": [
    "#### <p style=\"background-color:#FFFFFF; font-family:newtimeroman; color:#0000FF; font-size:125%; text-align:left;\"><strong>STEP-05: Visualizing the results:</strong></p>"
   ]
  },
  {
   "cell_type": "code",
   "execution_count": 62,
   "metadata": {},
   "outputs": [
    {
     "data": {
      "image/png": "[encoded data removed]",
      "text/plain": [
       "<Figure size 1000x500 with 1 Axes>"
      ]
     },
     "metadata": {},
     "output_type": "display_data"
    }
   ],
   "source": [
    "# Given values from your t-test\n",
    "t_critical = stats.t.ppf(1 - 0.05, 8)  # Calculate the critical t-value for one-tailed test\n",
    "t_calculated = 3.456  # Replace with your calculated t-statistic\n",
    "p_value = 0.0069  # Given p-value from the t-test\n",
    "dof = 8  # Degrees of freedom (n - 1)\n",
    "alpha = 0.05\n",
    "\n",
    "# Define the range for the t-distribution plot\n",
    "x = np.linspace(-5, 5, 1000)\n",
    "y = stats.t.pdf(x, dof)\n",
    "\n",
    "# Create the plot\n",
    "plt.figure(figsize=(10, 5))\n",
    "\n",
    "# Plot the t-distribution\n",
    "plt.plot(x, y, label=f't-distribution (dof={dof})', color='blue')\n",
    "\n",
    "# Mark the critical t-value for alpha (one-tailed test)\n",
    "plt.axvline(t_critical, color='red', linestyle='--', label=f'Critical t-value at {alpha} level')\n",
    "\n",
    "# Mark the calculated t-statistic\n",
    "plt.axvline(t_calculated, color='green', linestyle='-', label=f'Calculated t-statistic ({t_calculated:.2f})')\n",
    "\n",
    "# Add a blue horizontal line at the bottom of the distribution\n",
    "plt.axhline(0, color='blue', linestyle='-', linewidth=2)\n",
    "\n",
    "# Fill the rejection region\n",
    "plt.fill_between(x, 0, y, where=(x >= t_critical), color='lightcoral', alpha=0.5, label='Rejection Region')\n",
    "\n",
    "# Fill the fail to reject area with light green\n",
    "plt.fill_between(x, 0, y, where=(x < t_critical), color='lightgreen', alpha=0.5, label='Fail to Reject Region')\n",
    "\n",
    "# Add text for p-value and alpha\n",
    "plt.text(-1.3, 0.1, f'Calculated p-value: {p_value:.4f}', fontsize=10)\n",
    "plt.text(-0.65, 0.08, f'alpha: {alpha}', fontsize=10)\n",
    "plt.text(t_calculated + 0.2, 0.05, f't statistic: {t_calculated:.2f}', color='green', fontsize=10, ha='center', va='top')\n",
    "\n",
    "# Add titles and labels\n",
    "plt.title('One-Tailed t-Distribution with Critical Region and t-Statistic', color='blue')\n",
    "plt.xlabel('t-value')\n",
    "plt.ylabel('Probability Density')\n",
    "plt.legend(fontsize='small')\n",
    "\n",
    "# Set y-axis limit to start from zero\n",
    "plt.ylim(bottom=0)\n",
    "\n",
    "# Remove grids\n",
    "plt.grid(False)\n",
    "\n",
    "# Show the plot\n",
    "plt.show()"
   ]
  },
  {
   "cell_type": "markdown",
   "metadata": {},
   "source": [
    "### <p style=\"background-color:#E51A59; font-family:newtimeroman; color:#FDFEFE; font-size:150%; text-align:left; border-radius:10px 10px;\">It's your turn (Paired (Dependent) Samples t-Test Exercise for Students):</p>\n",
    "\n",
    "The data set is fictitious and contains blood pressure readings before and after an intervention (treatment). These are variables ``“bp_before”`` and ``“bp_after”``."
   ]
  },
  {
   "cell_type": "code",
   "execution_count": 63,
   "metadata": {},
   "outputs": [
    {
     "data": {
      "text/html": [
       "<div>\n",
       "<style scoped>\n",
       "    .dataframe tbody tr th:only-of-type {\n",
       "        vertical-align: middle;\n",
       "    }\n",
       "\n",
       "    .dataframe tbody tr th {\n",
       "        vertical-align: top;\n",
       "    }\n",
       "\n",
       "    .dataframe thead th {\n",
       "        text-align: right;\n",
       "    }\n",
       "</style>\n",
       "<table border=\"1\" class=\"dataframe\">\n",
       "  <thead>\n",
       "    <tr style=\"text-align: right;\">\n",
       "      <th></th>\n",
       "      <th>patient</th>\n",
       "      <th>sex</th>\n",
       "      <th>agegrp</th>\n",
       "      <th>bp_before</th>\n",
       "      <th>bp_after</th>\n",
       "    </tr>\n",
       "  </thead>\n",
       "  <tbody>\n",
       "    <tr>\n",
       "      <th>0</th>\n",
       "      <td>1</td>\n",
       "      <td>Male</td>\n",
       "      <td>30-45</td>\n",
       "      <td>143</td>\n",
       "      <td>153</td>\n",
       "    </tr>\n",
       "    <tr>\n",
       "      <th>1</th>\n",
       "      <td>2</td>\n",
       "      <td>Male</td>\n",
       "      <td>30-45</td>\n",
       "      <td>163</td>\n",
       "      <td>170</td>\n",
       "    </tr>\n",
       "    <tr>\n",
       "      <th>2</th>\n",
       "      <td>3</td>\n",
       "      <td>Male</td>\n",
       "      <td>30-45</td>\n",
       "      <td>153</td>\n",
       "      <td>168</td>\n",
       "    </tr>\n",
       "    <tr>\n",
       "      <th>3</th>\n",
       "      <td>4</td>\n",
       "      <td>Male</td>\n",
       "      <td>30-45</td>\n",
       "      <td>153</td>\n",
       "      <td>142</td>\n",
       "    </tr>\n",
       "    <tr>\n",
       "      <th>4</th>\n",
       "      <td>5</td>\n",
       "      <td>Male</td>\n",
       "      <td>30-45</td>\n",
       "      <td>146</td>\n",
       "      <td>141</td>\n",
       "    </tr>\n",
       "    <tr>\n",
       "      <th>...</th>\n",
       "      <td>...</td>\n",
       "      <td>...</td>\n",
       "      <td>...</td>\n",
       "      <td>...</td>\n",
       "      <td>...</td>\n",
       "    </tr>\n",
       "    <tr>\n",
       "      <th>115</th>\n",
       "      <td>116</td>\n",
       "      <td>Female</td>\n",
       "      <td>60+</td>\n",
       "      <td>152</td>\n",
       "      <td>152</td>\n",
       "    </tr>\n",
       "    <tr>\n",
       "      <th>116</th>\n",
       "      <td>117</td>\n",
       "      <td>Female</td>\n",
       "      <td>60+</td>\n",
       "      <td>161</td>\n",
       "      <td>152</td>\n",
       "    </tr>\n",
       "    <tr>\n",
       "      <th>117</th>\n",
       "      <td>118</td>\n",
       "      <td>Female</td>\n",
       "      <td>60+</td>\n",
       "      <td>165</td>\n",
       "      <td>174</td>\n",
       "    </tr>\n",
       "    <tr>\n",
       "      <th>118</th>\n",
       "      <td>119</td>\n",
       "      <td>Female</td>\n",
       "      <td>60+</td>\n",
       "      <td>149</td>\n",
       "      <td>151</td>\n",
       "    </tr>\n",
       "    <tr>\n",
       "      <th>119</th>\n",
       "      <td>120</td>\n",
       "      <td>Female</td>\n",
       "      <td>60+</td>\n",
       "      <td>185</td>\n",
       "      <td>163</td>\n",
       "    </tr>\n",
       "  </tbody>\n",
       "</table>\n",
       "<p>120 rows × 5 columns</p>\n",
       "</div>"
      ],
      "text/plain": [
       "     patient     sex agegrp  bp_before  bp_after\n",
       "0          1    Male  30-45        143       153\n",
       "1          2    Male  30-45        163       170\n",
       "2          3    Male  30-45        153       168\n",
       "3          4    Male  30-45        153       142\n",
       "4          5    Male  30-45        146       141\n",
       "..       ...     ...    ...        ...       ...\n",
       "115      116  Female    60+        152       152\n",
       "116      117  Female    60+        161       152\n",
       "117      118  Female    60+        165       174\n",
       "118      119  Female    60+        149       151\n",
       "119      120  Female    60+        185       163\n",
       "\n",
       "[120 rows x 5 columns]"
      ]
     },
     "execution_count": 63,
     "metadata": {},
     "output_type": "execute_result"
    }
   ],
   "source": [
    "df = pd.read_csv(\"blood_pressure.csv\")\n",
    "df"
   ]
  },
  {
   "cell_type": "markdown",
   "metadata": {},
   "source": [
    "**``The dataset contains the following columns:``**\n",
    "\n",
    "- **``patient``**: Unique identifier for each participant\n",
    "- **``sex``**: Gender of the participant (Male/Female)\n",
    "- **``agegrp``**: Age group of the participant (e.g., 30-45, 60+)\n",
    "- **``bp_before``**: Blood pressure reading before treatment\n",
    "- **``bp_after``**: Blood pressure reading after treatment"
   ]
  },
  {
   "cell_type": "code",
   "execution_count": 64,
   "metadata": {},
   "outputs": [
    {
     "data": {
      "text/html": [
       "<div>\n",
       "<style scoped>\n",
       "    .dataframe tbody tr th:only-of-type {\n",
       "        vertical-align: middle;\n",
       "    }\n",
       "\n",
       "    .dataframe tbody tr th {\n",
       "        vertical-align: top;\n",
       "    }\n",
       "\n",
       "    .dataframe thead th {\n",
       "        text-align: right;\n",
       "    }\n",
       "</style>\n",
       "<table border=\"1\" class=\"dataframe\">\n",
       "  <thead>\n",
       "    <tr style=\"text-align: right;\">\n",
       "      <th></th>\n",
       "      <th>bp_before</th>\n",
       "      <th>bp_after</th>\n",
       "    </tr>\n",
       "  </thead>\n",
       "  <tbody>\n",
       "    <tr>\n",
       "      <th>count</th>\n",
       "      <td>120.000000</td>\n",
       "      <td>120.000000</td>\n",
       "    </tr>\n",
       "    <tr>\n",
       "      <th>mean</th>\n",
       "      <td>156.450000</td>\n",
       "      <td>151.358333</td>\n",
       "    </tr>\n",
       "    <tr>\n",
       "      <th>std</th>\n",
       "      <td>11.389845</td>\n",
       "      <td>14.177622</td>\n",
       "    </tr>\n",
       "    <tr>\n",
       "      <th>min</th>\n",
       "      <td>138.000000</td>\n",
       "      <td>125.000000</td>\n",
       "    </tr>\n",
       "    <tr>\n",
       "      <th>25%</th>\n",
       "      <td>147.000000</td>\n",
       "      <td>140.750000</td>\n",
       "    </tr>\n",
       "    <tr>\n",
       "      <th>50%</th>\n",
       "      <td>154.500000</td>\n",
       "      <td>149.500000</td>\n",
       "    </tr>\n",
       "    <tr>\n",
       "      <th>75%</th>\n",
       "      <td>164.000000</td>\n",
       "      <td>161.000000</td>\n",
       "    </tr>\n",
       "    <tr>\n",
       "      <th>max</th>\n",
       "      <td>185.000000</td>\n",
       "      <td>185.000000</td>\n",
       "    </tr>\n",
       "  </tbody>\n",
       "</table>\n",
       "</div>"
      ],
      "text/plain": [
       "        bp_before    bp_after\n",
       "count  120.000000  120.000000\n",
       "mean   156.450000  151.358333\n",
       "std     11.389845   14.177622\n",
       "min    138.000000  125.000000\n",
       "25%    147.000000  140.750000\n",
       "50%    154.500000  149.500000\n",
       "75%    164.000000  161.000000\n",
       "max    185.000000  185.000000"
      ]
     },
     "execution_count": 64,
     "metadata": {},
     "output_type": "execute_result"
    }
   ],
   "source": [
    "df[['bp_before', 'bp_after']].describe()"
   ]
  },
  {
   "cell_type": "code",
   "execution_count": 65,
   "metadata": {},
   "outputs": [
    {
     "name": "stdout",
     "output_type": "stream",
     "text": [
      "<class 'pandas.core.frame.DataFrame'>\n",
      "RangeIndex: 120 entries, 0 to 119\n",
      "Data columns (total 5 columns):\n",
      " #   Column     Non-Null Count  Dtype \n",
      "---  ------     --------------  ----- \n",
      " 0   patient    120 non-null    int64 \n",
      " 1   sex        120 non-null    object\n",
      " 2   agegrp     120 non-null    object\n",
      " 3   bp_before  120 non-null    int64 \n",
      " 4   bp_after   120 non-null    int64 \n",
      "dtypes: int64(3), object(2)\n",
      "memory usage: 4.8+ KB\n"
     ]
    }
   ],
   "source": [
    "df.info()"
   ]
  },
  {
   "cell_type": "markdown",
   "metadata": {},
   "source": [
    "#### <p style=\"background-color:#FFFFFF; font-family:newtimeroman; color:#0000FF; font-size:125%; text-align:left;\"><strong>STEP-01: Stating the null (H0) and alternative hypothesis (Ha or H1).</strong></p>"
   ]
  },
  {
   "cell_type": "raw",
   "metadata": {},
   "source": [
    "Null Hypothesis (H0): H0: µ1 = µ2 (\"the paired population means are equal\")\n",
    "There is no difference in blood pressure before and after treatment (μ_bp_before = μ_bp_after).\n",
    "\n",
    "Alternative Hypothesis (H1): H1: µ1 ≠ µ2 (\"the paired population means are not equal\")\n",
    "There is a difference in blood pressure before and after treatment (μ_bp_before ≠ μ_bp_after)."
   ]
  },
  {
   "cell_type": "markdown",
   "metadata": {},
   "source": [
    "#### <p style=\"background-color:#FFFFFF; font-family:newtimeroman; color:#0000FF; font-size:125%; text-align:left;\"><strong>STEP-02: Calculating Test Statistic & p-value (the t-test for the means of two dependent (Paired) samples of scores):</strong></p>"
   ]
  },
  {
   "cell_type": "markdown",
   "metadata": {},
   "source": [
    "**Conduct Independent Samples t-Test:**"
   ]
  },
  {
   "cell_type": "code",
   "execution_count": 66,
   "metadata": {},
   "outputs": [
    {
     "data": {
      "text/plain": [
       "TtestResult(statistic=3.3371870510833657, pvalue=0.0011297914644840823, df=119)"
      ]
     },
     "execution_count": 66,
     "metadata": {},
     "output_type": "execute_result"
    }
   ],
   "source": [
    "pairedtest = stats.ttest_rel(df['bp_before'], df['bp_after'])\n",
    "pairedtest"
   ]
  },
  {
   "cell_type": "markdown",
   "metadata": {},
   "source": [
    "**Test Statistic:**"
   ]
  },
  {
   "cell_type": "code",
   "execution_count": 67,
   "metadata": {},
   "outputs": [
    {
     "data": {
      "text/plain": [
       "3.3371870510833657"
      ]
     },
     "execution_count": 67,
     "metadata": {},
     "output_type": "execute_result"
    }
   ],
   "source": [
    "test_statistic = pairedtest.statistic\n",
    "test_statistic"
   ]
  },
  {
   "cell_type": "markdown",
   "metadata": {},
   "source": [
    "#### <p style=\"background-color:#FFFFFF; font-family:newtimeroman; color:#0000FF; font-size:125%; text-align:left;\"><strong>STEP-03: Calculating the p-value:</strong></p>"
   ]
  },
  {
   "cell_type": "markdown",
   "metadata": {},
   "source": [
    "**P Value:**"
   ]
  },
  {
   "cell_type": "code",
   "execution_count": 68,
   "metadata": {},
   "outputs": [
    {
     "data": {
      "text/plain": [
       "0.0011297914644840823"
      ]
     },
     "execution_count": 68,
     "metadata": {},
     "output_type": "execute_result"
    }
   ],
   "source": [
    "p_value = pairedtest.pvalue\n",
    "p_value "
   ]
  },
  {
   "cell_type": "markdown",
   "metadata": {},
   "source": [
    "**``T-Test Interpretation:``**\n",
    "- The t-statistic of 3.3372 indicates a significant difference between the two measurements.\n",
    "- The p-value (0.0011) is much lower than the significance level of 0.05, leading us to reject the null hypothesis"
   ]
  },
  {
   "cell_type": "markdown",
   "metadata": {},
   "source": [
    "#### <p style=\"background-color:#FFFFFF; font-family:newtimeroman; color:#0000FF; font-size:125%; text-align:left;\"><strong>STEP-04: Comparing Test Statistic to Critical Value to Make a decision:</strong></p>"
   ]
  },
  {
   "cell_type": "code",
   "execution_count": 69,
   "metadata": {},
   "outputs": [
    {
     "name": "stdout",
     "output_type": "stream",
     "text": [
      "At 0.05 level of significance, we can reject the Null hypothesis (H0) in favor of Alternative hypothesis (H1).\n"
     ]
    }
   ],
   "source": [
    "alpha = 0.05\n",
    "\n",
    "if pairedtest.pvalue < alpha:\n",
    "    print('At {} level of significance, we can reject the Null hypothesis (H0) in favor of Alternative hypothesis (H1).'.format(alpha))\n",
    "else:\n",
    "    print('At {} level of significance, we FAIL to reject the Null hypothesis (H0).'.format(alpha))"
   ]
  },
  {
   "cell_type": "markdown",
   "metadata": {},
   "source": [
    "**Interpretation of the results:**"
   ]
  },
  {
   "cell_type": "markdown",
   "metadata": {},
   "source": [
    "**``Conclusion:``**\n",
    "- The findings are ``statistically significant!`` One can ``reject the null hypothesis`` in support of the alternative.\n",
    "\n",
    "  - **``Rejecting the Null Hypothesis``**: At the 0.05 level of significance, we reject the null hypothesis, indicating that there is a statistically significant difference in blood pressure readings before and after treatment.\n",
    "\n",
    "**``Interpretation of the Decision:``**\n",
    "- The results suggest that the treatment effectively alters blood pressure levels among participants. Specifically, the decrease in blood pressure from the \"bp_before\" to \"bp_after\" indicates a positive treatment outcome.\n",
    "- This finding could support the use of this treatment in clinical practice for managing high blood pressure.\n",
    "\n",
    "**``Wrap up:``**\n",
    "This analysis highlights the effectiveness of the new treatment in reducing blood pressure, providing crucial evidence for its potential application in medical settings. The results underscore the importance of continued research in hypertension management and the benefits of effective treatments for patient health.\n",
    "\n",
    "In this analysis, another component needed to report the findings is the ``degrees of freedom (df)``. This can be calculated by taking the total number of paired observations and subtracting 1. In our case, ``df = 120 – 1 = 119``.\n",
    "\n",
    "A paired sample t-test was used to analyze the blood pressure before and after the intervention to test if the intervention had a significant affect on the blood pressure. The blood pressure before the intervention was higher (156.45 ± 11.39 units) compared to the blood pressure post intervention (151.36 ± 14.18 units); there was a statistically significant decrease in blood pressure (t(119)=3.34, p= 0.0011) of 5.09 units."
   ]
  },
  {
   "cell_type": "markdown",
   "metadata": {},
   "source": [
    "**Making a decision comparing ``calculated`` and ``critical`` t scores:**\n",
    "\n",
    "- **``NOTE:``** To ensure the calculated t-value is positive, it's important to clarify the direction of the difference you want to analyze. If you want a positive t-value, you should calculate the differences as ``\"bp_before\"`` - ``\"bp_after\"``, assuming you want to test if the \"before\" values are greater than the \"after\" values. Here’s the updated code reflecting that approach:"
   ]
  },
  {
   "cell_type": "code",
   "execution_count": 70,
   "metadata": {},
   "outputs": [
    {
     "name": "stdout",
     "output_type": "stream",
     "text": [
      "Critical t-value (low): -1.9801\n",
      "Critical t-value (high): 1.9801\n",
      "Calculated t-value: 3.3372\n",
      "Degrees of Freedom (dof): 119\n",
      "Alpha (significance level): 0.05\n",
      "Calculated p-value: 0.0011297915\n",
      "Reject the null hypothesis.\n"
     ]
    }
   ],
   "source": [
    "# Calculate differences (to ensure positive t-value)\n",
    "differences = df['bp_before'] - df['bp_after']  # Change this to ensure a positive difference\n",
    "\n",
    "# Calculate mean and standard deviation of differences\n",
    "mean_diff = np.mean(differences)\n",
    "std_dev_diff = np.std(differences, ddof=1)  # Sample standard deviation\n",
    "n = len(differences)                         # Sample size\n",
    "\n",
    "# Calculate the t-statistic for paired samples\n",
    "t_calculated = mean_diff / (std_dev_diff / np.sqrt(n))\n",
    "\n",
    "# Degrees of freedom\n",
    "dof = n - 1\n",
    "\n",
    "# Significance level\n",
    "alpha = 0.05\n",
    "\n",
    "# Critical t-values for the two-tailed test\n",
    "t_critical_low = stats.t.ppf(alpha / 2, dof)   # Lower critical value\n",
    "t_critical_high = stats.t.ppf(1 - alpha / 2, dof)  # Upper critical value\n",
    "\n",
    "# Calculate the p-value for the two-tailed test\n",
    "p_value = 2 * (1 - stats.t.cdf(t_calculated, dof))  # Two-tailed p-value\n",
    "\n",
    "# Print the results\n",
    "print(f'Critical t-value (low): {t_critical_low:.4f}')\n",
    "print(f'Critical t-value (high): {t_critical_high:.4f}')\n",
    "print(f'Calculated t-value: {t_calculated:.4f}')\n",
    "print(f'Degrees of Freedom (dof): {dof}')\n",
    "print(f'Alpha (significance level): {alpha}')\n",
    "print(f'Calculated p-value: {p_value:.10f}')\n",
    "\n",
    "# Decision\n",
    "if p_value < alpha:\n",
    "    print(\"Reject the null hypothesis.\")\n",
    "else:\n",
    "    print(\"Fail to reject the null hypothesis.\")"
   ]
  },
  {
   "cell_type": "markdown",
   "metadata": {},
   "source": [
    "- **``The critical t-values are:``**\n",
    "\n",
    "  - **``Lower Critical t-value``**: tcritical low\n",
    "  - **``Upper Critical t-value``**: tcritical high\n",
    "\n",
    "    - These critical t-values represent the thresholds for rejecting the null hypothesis at the 0.05 significance level for a two-tailed test with (n−1) degrees of freedom. Values falling outside this range indicate significant differences between the blood pressure readings before and after treatment.\n",
    "\n",
    "- **``Decision Rule:``**\n",
    "  - The calculated t-statistic is compared against the critical t-values. For a two-tailed test, we reject the null hypothesis if the calculated t-statistic is less than the lower critical t-value or greater than the upper critical t-value.\n",
    "\n",
    "- **``Rejection Region``**: ``t < t critical low``  or ``t > t critical high``\n",
    " \n",
    "  - Since the calculated t-statistic of (t_calculated) is greater than the upper critical t-value of (t critical high), we reject the null hypothesis.\n",
    "\n",
    "  - This indicates that there is enough evidence to suggest that there is a significant difference in blood pressure readings before and after treatment at the 0.05 significance level.\n",
    "\n",
    "- **``Conclusion:``**\n",
    "  - In conclusion, the results suggest that the average blood pressure readings before treatment are significantly higher than those after treatment. This finding may have important implications for the effectiveness of the intervention in managing blood pressure levels among patients."
   ]
  },
  {
   "cell_type": "markdown",
   "metadata": {},
   "source": [
    "#### <p style=\"background-color:#FFFFFF; font-family:newtimeroman; color:#0000FF; font-size:125%; text-align:left;\"><strong>STEP-05: Visualizing the results:</strong></p>"
   ]
  },
  {
   "cell_type": "code",
   "execution_count": 71,
   "metadata": {},
   "outputs": [
    {
     "data": {
      "image/png": "[encoded data removed]",
      "text/plain": [
       "<Figure size 1000x500 with 1 Axes>"
      ]
     },
     "metadata": {},
     "output_type": "display_data"
    }
   ],
   "source": [
    "# Calculate differences (to ensure positive t-value)\n",
    "differences = df['bp_before'] - df['bp_after']  # Change to ensure a positive difference\n",
    "\n",
    "# Calculate mean and standard deviation of differences\n",
    "mean_diff = np.mean(differences)\n",
    "std_dev_diff = np.std(differences, ddof=1)  # Sample standard deviation\n",
    "n = len(differences)                         # Sample size\n",
    "\n",
    "# Calculate the t-statistic for paired samples\n",
    "t_calculated = mean_diff / (std_dev_diff / np.sqrt(n))\n",
    "\n",
    "# Degrees of freedom\n",
    "dof = n - 1\n",
    "\n",
    "# Significance level\n",
    "alpha = 0.05\n",
    "\n",
    "# Critical t-values for the two-tailed test\n",
    "t_critical_low = stats.t.ppf(alpha / 2, dof)   # Lower critical value\n",
    "t_critical_high = stats.t.ppf(1 - alpha / 2, dof)  # Upper critical value\n",
    "\n",
    "# Define the range for the t-distribution plot\n",
    "x = np.linspace(-5, 5, 1000)\n",
    "y = stats.t.pdf(x, dof)\n",
    "\n",
    "# Create the plot\n",
    "plt.figure(figsize=(10, 5))\n",
    "\n",
    "# Plot the t-distribution\n",
    "plt.plot(x, y, label=f't-distribution (dof={dof})', color='blue')\n",
    "\n",
    "# Mark the critical t-values for alpha (two-tailed test)\n",
    "plt.axvline(t_critical_low, color='red', linestyle='--', label=f'Critical t-value (low): {t_critical_low:.2f}')\n",
    "plt.axvline(t_critical_high, color='red', linestyle='--', label=f'Critical t-value (high): {t_critical_high:.2f}')\n",
    "\n",
    "# Mark the calculated t-statistic\n",
    "plt.axvline(t_calculated, color='green', linestyle='-', label=f'Calculated t-statistic: {t_calculated:.2f}')\n",
    "\n",
    "# Add a blue horizontal line at the bottom of the distribution\n",
    "plt.axhline(0, color='blue', linestyle='-', linewidth=2)\n",
    "\n",
    "# Fill the rejection regions\n",
    "plt.fill_between(x, 0, y, where=(x <= t_critical_low), color='lightcoral', alpha=0.5, label='Rejection Region (low)')\n",
    "plt.fill_between(x, 0, y, where=(x >= t_critical_high), color='lightcoral', alpha=0.5, label='Rejection Region (high)')\n",
    "\n",
    "# Fill the fail to reject area with light green\n",
    "plt.fill_between(x, 0, y, where=(x > t_critical_low) & (x < t_critical_high), color='lightgreen', alpha=0.5, label='Fail to Reject Region')\n",
    "\n",
    "# Add text for p-value and alpha\n",
    "p_value = 2 * (1 - stats.t.cdf(t_calculated, dof))  # Calculate the two-tailed p-value\n",
    "plt.text(-1.3, 0.1, f'Calculated p-value: {p_value:.4f}', fontsize=10)\n",
    "plt.text(-0.65, 0.08, f'alpha: {alpha}', fontsize=10)\n",
    "plt.text(t_calculated + 0.5, 0.05, f't statistic: {t_calculated:.2f}', color='green', fontsize=10, ha='center', va='top')\n",
    "\n",
    "# Add titles and labels\n",
    "plt.title('Two-Tailed t-Distribution with Critical Regions and t-Statistic', color='blue')\n",
    "plt.xlabel('t-value')\n",
    "plt.ylabel('Probability Density')\n",
    "plt.legend(fontsize='small')\n",
    "\n",
    "# Set y-axis limit to start from zero\n",
    "plt.ylim(bottom=0)\n",
    "\n",
    "# Remove grids\n",
    "plt.grid(False)\n",
    "\n",
    "# Show the plot\n",
    "plt.show()"
   ]
  },
  {
   "cell_type": "markdown",
   "metadata": {},
   "source": [
    "## <p style=\"background-color:#E51A59; font-family:newtimeroman; color:#FFFFFF; font-size:175%; text-align:center; border-radius:10px 10px;\">C - ANOVA (Analysis of Variance)</p>\n",
    "\n",
    "<p style=\"background-color:#FFFFFF; font-family:newtimeroman; color:#0000FF; font-size:125%; text-align:left;\"><strong>💡🚨📢👉 Compares the means of ``two or more`` ``independent groups`` ❗❗❗</strong></p>"
   ]
  },
  {
   "cell_type": "markdown",
   "metadata": {
    "id": "eewh4-Lfa6nd"
   },
   "source": [
    "## [ANOVA](https://libguides.library.kent.edu/SPSS/OneWayANOVA)\n",
    "\n",
    "One-Way ANOVA (\"analysis of variance\") compares the means of two or more independent groups in order to determine whether there is statistical evidence that the associated population means are significantly different. One-Way ANOVA is a parametric test.\n",
    "\n",
    "This test is also known as:\n",
    "\n",
    "- One-Factor ANOVA\n",
    "- One-Way Analysis of Variance\n",
    "- Between Subjects ANOVA\n",
    "\n",
    "**The null and alternative hypotheses of one-way ANOVA can be expressed as:**\n",
    "\n",
    "- H0: µ1 = µ2 = µ3  = ...   = µk   (\"all k population means are equal\")\n",
    "- H1: At least one µi different  (\"at least one of the k population means is not equal to the others\")\n",
    "\n",
    "where\n",
    "\n",
    "µi is the population mean of the ith group (i = 1, 2, ..., k)\n",
    "\n",
    "``Note:`` The One-Way ANOVA is considered an omnibus (Latin for “all”) test because the F test indicates whether the model is significant overall—i.e., whether or not there are any significant differences in the means between any of the groups. (Stated another way, this says that at least one of the means is different from the others.) However, it does not indicate which mean is different. Determining which specific pairs of means are significantly different requires either contrasts or post hoc (Latin for “after this”) tests. Besides the one-way ANOVA is considered a robust test against the normality assumption. This means that it tolerates violations to its normality assumption rather well.\n",
    "\n",
    "**Assumptions:**\n",
    "\n",
    "- The dependent variable is continuous, and it is measured twice on the same sample of subjects.\n",
    "- The independent variable should consist of two categorical, \"related groups\" or \"matched pairs\".\n",
    "- The difference between the scores of the variables are normally distributed."
   ]
  },
  {
   "cell_type": "markdown",
   "metadata": {
    "id": "pBXdKy36gLiF"
   },
   "source": [
    "### <p style=\"background-color:#E51A59; font-family:newtimeroman; color:#FDFEFE; font-size:150%; text-align:left; border-radius:10px 10px;\">Example-01 (ANOVA - Analysis of variance):</p>"
   ]
  },
  {
   "cell_type": "code",
   "execution_count": 72,
   "metadata": {
    "id": "69oWieikamQS"
   },
   "outputs": [],
   "source": [
    "# pip install statsmodels"
   ]
  },
  {
   "cell_type": "code",
   "execution_count": 73,
   "metadata": {
    "id": "3ZkQ9DQOa9qr"
   },
   "outputs": [],
   "source": [
    "import statsmodels.api as sm"
   ]
  },
  {
   "cell_type": "code",
   "execution_count": 74,
   "metadata": {
    "colab": {
     "base_uri": "https://localhost:8080/"
    },
    "executionInfo": {
     "elapsed": 2241,
     "status": "ok",
     "timestamp": 1673083032417,
     "user": {
      "displayName": "Richard Thames",
      "userId": "00258987493291873022"
     },
     "user_tz": -180
    },
    "id": "pSHI2w2pbCAa",
    "outputId": "4233827c-8b03-49f0-dd30-552ee7d2ba4a"
   },
   "outputs": [
    {
     "data": {
      "text/plain": [
       "dict_keys(['data', '__doc__', 'package', 'title', 'from_cache'])"
      ]
     },
     "execution_count": 74,
     "metadata": {},
     "output_type": "execute_result"
    }
   ],
   "source": [
    "df = sm.datasets.get_rdataset(dataname=\"Cushings\", package=\"MASS\")\n",
    "\n",
    "df.keys()"
   ]
  },
  {
   "cell_type": "markdown",
   "metadata": {},
   "source": [
    "<p style=\"background-color:#FFFFFF; font-family:newtimeroman; color:#0000FF; font-size:125%; text-align:left;\">\n",
    "    👉 <span style=\"color:red;\">Cushing syndrome:</span> <span style=\"color:green;\">happens when the body has too much of the hormone cortisol for a long time. This can result from the body making too much cortisol, or from taking medicines called glucocorticoids, which affect the body the same way as cortisol.</span>\n",
    "</p>"
   ]
  },
  {
   "cell_type": "code",
   "execution_count": 75,
   "metadata": {
    "colab": {
     "base_uri": "https://localhost:8080/",
     "height": 363
    },
    "executionInfo": {
     "elapsed": 11,
     "status": "ok",
     "timestamp": 1673083050783,
     "user": {
      "displayName": "Richard Thames",
      "userId": "00258987493291873022"
     },
     "user_tz": -180
    },
    "id": "kawFbaiFbLPl",
    "outputId": "614c8410-9f8d-4ddf-97ef-9bc1f19a8ce2"
   },
   "outputs": [
    {
     "data": {
      "text/html": [
       "<div>\n",
       "<style scoped>\n",
       "    .dataframe tbody tr th:only-of-type {\n",
       "        vertical-align: middle;\n",
       "    }\n",
       "\n",
       "    .dataframe tbody tr th {\n",
       "        vertical-align: top;\n",
       "    }\n",
       "\n",
       "    .dataframe thead th {\n",
       "        text-align: right;\n",
       "    }\n",
       "</style>\n",
       "<table border=\"1\" class=\"dataframe\">\n",
       "  <thead>\n",
       "    <tr style=\"text-align: right;\">\n",
       "      <th></th>\n",
       "      <th>Tetrahydrocortisone</th>\n",
       "      <th>Pregnanetriol</th>\n",
       "      <th>Type</th>\n",
       "    </tr>\n",
       "    <tr>\n",
       "      <th>rownames</th>\n",
       "      <th></th>\n",
       "      <th></th>\n",
       "      <th></th>\n",
       "    </tr>\n",
       "  </thead>\n",
       "  <tbody>\n",
       "    <tr>\n",
       "      <th>a1</th>\n",
       "      <td>3.1</td>\n",
       "      <td>11.70</td>\n",
       "      <td>a</td>\n",
       "    </tr>\n",
       "    <tr>\n",
       "      <th>a2</th>\n",
       "      <td>3.0</td>\n",
       "      <td>1.30</td>\n",
       "      <td>a</td>\n",
       "    </tr>\n",
       "    <tr>\n",
       "      <th>a3</th>\n",
       "      <td>1.9</td>\n",
       "      <td>0.10</td>\n",
       "      <td>a</td>\n",
       "    </tr>\n",
       "    <tr>\n",
       "      <th>a4</th>\n",
       "      <td>3.8</td>\n",
       "      <td>0.04</td>\n",
       "      <td>a</td>\n",
       "    </tr>\n",
       "    <tr>\n",
       "      <th>a5</th>\n",
       "      <td>4.1</td>\n",
       "      <td>1.10</td>\n",
       "      <td>a</td>\n",
       "    </tr>\n",
       "    <tr>\n",
       "      <th>a6</th>\n",
       "      <td>1.9</td>\n",
       "      <td>0.40</td>\n",
       "      <td>a</td>\n",
       "    </tr>\n",
       "    <tr>\n",
       "      <th>b1</th>\n",
       "      <td>8.3</td>\n",
       "      <td>1.00</td>\n",
       "      <td>b</td>\n",
       "    </tr>\n",
       "    <tr>\n",
       "      <th>b2</th>\n",
       "      <td>3.8</td>\n",
       "      <td>0.20</td>\n",
       "      <td>b</td>\n",
       "    </tr>\n",
       "    <tr>\n",
       "      <th>b3</th>\n",
       "      <td>3.9</td>\n",
       "      <td>0.60</td>\n",
       "      <td>b</td>\n",
       "    </tr>\n",
       "    <tr>\n",
       "      <th>b4</th>\n",
       "      <td>7.8</td>\n",
       "      <td>1.20</td>\n",
       "      <td>b</td>\n",
       "    </tr>\n",
       "  </tbody>\n",
       "</table>\n",
       "</div>"
      ],
      "text/plain": [
       "          Tetrahydrocortisone  Pregnanetriol Type\n",
       "rownames                                         \n",
       "a1                        3.1          11.70    a\n",
       "a2                        3.0           1.30    a\n",
       "a3                        1.9           0.10    a\n",
       "a4                        3.8           0.04    a\n",
       "a5                        4.1           1.10    a\n",
       "a6                        1.9           0.40    a\n",
       "b1                        8.3           1.00    b\n",
       "b2                        3.8           0.20    b\n",
       "b3                        3.9           0.60    b\n",
       "b4                        7.8           1.20    b"
      ]
     },
     "execution_count": 75,
     "metadata": {},
     "output_type": "execute_result"
    }
   ],
   "source": [
    "df = df.data\n",
    "\n",
    "df.head(10)"
   ]
  },
  {
   "cell_type": "markdown",
   "metadata": {},
   "source": [
    "**The dataset consists of the following columns:**\n",
    "- **``Tetrahydrocortisone``**: Level of Tetrahydrocortisone hormone (in unspecified units)\n",
    "- **``Pregnanetriol``**: Level of Pregnanetriol hormone (in unspecified units)\n",
    "- **``Type``**: Classification of the patient (either \"a\" or \"b\")"
   ]
  },
  {
   "cell_type": "code",
   "execution_count": 76,
   "metadata": {
    "colab": {
     "base_uri": "https://localhost:8080/"
    },
    "executionInfo": {
     "elapsed": 480,
     "status": "ok",
     "timestamp": 1673083091141,
     "user": {
      "displayName": "Richard Thames",
      "userId": "00258987493291873022"
     },
     "user_tz": -180
    },
    "id": "ZKBeBPnpbPYO",
    "outputId": "25838c49-936d-4f7b-bc83-7a1e95946475"
   },
   "outputs": [
    {
     "data": {
      "text/plain": [
       "(27, 3)"
      ]
     },
     "execution_count": 76,
     "metadata": {},
     "output_type": "execute_result"
    }
   ],
   "source": [
    "df.shape"
   ]
  },
  {
   "cell_type": "code",
   "execution_count": 77,
   "metadata": {},
   "outputs": [
    {
     "name": "stdout",
     "output_type": "stream",
     "text": [
      "<class 'pandas.core.frame.DataFrame'>\n",
      "Index: 27 entries, a1 to u6\n",
      "Data columns (total 3 columns):\n",
      " #   Column               Non-Null Count  Dtype  \n",
      "---  ------               --------------  -----  \n",
      " 0   Tetrahydrocortisone  27 non-null     float64\n",
      " 1   Pregnanetriol        27 non-null     float64\n",
      " 2   Type                 27 non-null     object \n",
      "dtypes: float64(2), object(1)\n",
      "memory usage: 864.0+ bytes\n"
     ]
    }
   ],
   "source": [
    "df.info()"
   ]
  },
  {
   "cell_type": "markdown",
   "metadata": {},
   "source": [
    "<p style=\"background-color:#FFFFFF; font-family:newtimeroman; color:#0000FF; font-size:125%; text-align:left;\">\n",
    "    👉 <span style=\"color:red;\">Hypothetical Scenario:</span> <span style=\"color:green;\"> Investigating Hormonal Profiles in Cushing Syndrome Patients.</span>\n",
    "</p>\n",
    "\n",
    "- **``Context``**: A team of endocrinologists is conducting a study to better understand the hormonal profiles associated with Cushing syndrome. This condition is characterized by prolonged exposure to elevated cortisol levels, which can lead to various health complications.\n",
    "\n",
    "  - The study aims to compare the levels of two specific metabolites—T``etrahydrocortisone`` and ``Pregnanetriol``—among patients diagnosed with Cushing syndrome. By analyzing these metabolites, researchers hope to identify patterns that could aid in the diagnosis and management of the condition.\n",
    "\n",
    "- **``Study Design``**:\n",
    "  - **``Objective``**: To assess the differences in Tetrahydrocortisone and Pregnanetriol levels between two groups of patients with Cushing syndrome.\n",
    "- **``Groups``**:\n",
    "  - **``Group A``**: Patients with endogenous Cushing syndrome (where the body produces excess cortisol).\n",
    "  - **``Group B``**: Patients receiving glucocorticoid therapy (exogenous sources of cortisol)."
   ]
  },
  {
   "cell_type": "markdown",
   "metadata": {},
   "source": [
    "**[Checking the Assumptions for One-Way ANOVA Test:](https://online.stat.psu.edu/stat500/lesson/10/10.2/10.2.1)**\n",
    "\n",
    "There are **``three primary assumptions in ANOVA``**:\n",
    "\n",
    "- The responses for each factor level have a ``normal population distribution``.\n",
    "- These distributions have the ``same variance`` (Homogenity of variances).\n",
    "- The data are ``independent``.\n",
    "\n",
    "Besides;\n",
    "- The ``dependent variable`` is ``continuous``.\n",
    "- The ``independent variable`` that is ``categorical``."
   ]
  },
  {
   "cell_type": "markdown",
   "metadata": {},
   "source": [
    "<p style=\"background-color:#FFFFFF; font-family:newtimeroman; color:#0000FF; font-size:110%; text-align:left;\"><strong>-----------------------------------------------------------------------------------------------------------------------------------------------------------------------------------------------</strong></p>\n",
    "\n",
    "**Conduct Homogenity of Variance Test:**\n",
    "\n",
    "<p style=\"background-color:#FFFFFF; font-family:newtimeroman; color:#0000FF; font-size:125%; text-align:left;\">\n",
    "    👉 <span style=\"color:green;\">Before conducting a one-way ANOVA, it is essential to check the assumption of homogeneity of variances among the groups. This ensures that the variances across the different groups are approximately equal, which is a key assumption for ANOVA.</span>\n",
    "</p>\n",
    "\n",
    "**``Levene's Test``**: One common method to test for homogeneity of variances is Levene's test. This test assesses whether the variance among the groups is the same."
   ]
  },
  {
   "cell_type": "code",
   "execution_count": 78,
   "metadata": {},
   "outputs": [
    {
     "name": "stdout",
     "output_type": "stream",
     "text": [
      "Levene's Test for Homogeneity of Variances:\n",
      "Statistic: 1.4638116353797523, p-value: 0.25050472991960193\n",
      "Homogeneity of variances assumption is NOT violated. Proceeding with ANOVA.\n",
      "One-way ANOVA results for Tetrahydrocortisone:\n",
      "F-statistic: 3.2257394791378426, p-value: 0.0412182793672776\n"
     ]
    }
   ],
   "source": [
    "# Grouping the data by Type for ANOVA\n",
    "group_a = df.Tetrahydrocortisone[df.Type == \"a\"]\n",
    "group_b = df.Tetrahydrocortisone[df.Type == \"b\"]\n",
    "group_c = df.Tetrahydrocortisone[df.Type == \"c\"]\n",
    "group_u = df.Tetrahydrocortisone[df.Type == \"u\"]\n",
    "\n",
    "# Conducting Levene's Test for Homogeneity of Variances\n",
    "stat, p_value_levene = stats.levene(group_a, group_b, group_c, group_u)\n",
    "\n",
    "print(\"Levene's Test for Homogeneity of Variances:\")\n",
    "print(f\"Statistic: {stat}, p-value: {p_value_levene}\")\n",
    "\n",
    "# Check if the p-value is greater than 0.05\n",
    "if p_value_levene > 0.05:\n",
    "    print(\"Homogeneity of variances assumption is NOT violated. Proceeding with ANOVA.\")\n",
    "    \n",
    "    # Conducting the one-way ANOVA\n",
    "    f_stat, p_value_anova = stats.f_oneway(group_a, group_b, group_c, group_u)\n",
    "    \n",
    "    # Output the ANOVA results\n",
    "    print(\"One-way ANOVA results for Tetrahydrocortisone:\")\n",
    "    print(f\"F-statistic: {f_stat}, p-value: {p_value_anova}\")\n",
    "else:\n",
    "    print(\"Homogeneity of variances assumption is violated. Consider using a different method (e.g., Welch's ANOVA).\")"
   ]
  },
  {
   "cell_type": "markdown",
   "metadata": {},
   "source": [
    "**Levene's Test Results:**\n",
    "- Based on the results of the homogeneity test (Levene’s test), we observed whether the variances across the groups (control, patient1, patient2) are equal. If the assumption of homogeneity of variances is met, we proceed with the one-way ANOVA.\n",
    "  - **``Levene's p-value > 0.05``**: This suggests that the variances across the groups are equal (homogeneous), and we can proceed with the one-way ANOVA.\n",
    "  - **``Levene's p-value ≤ 0.05``**: If the p-value is less than or equal to 0.05, this indicates a violation of the homogeneity assumption, suggesting that we might want to use Welch's ANOVA instead of the standard one-way ANOVA.\n",
    "\n",
    "\n",
    "<p style=\"background-color:#FFFFFF; font-family:newtimeroman; color:#0000FF; font-size:110%; text-align:left;\"><strong>-----------------------------------------------------------------------------------------------------------------------------------------------------------------------------------------------</strong></p>\n"
   ]
  },
  {
   "cell_type": "markdown",
   "metadata": {},
   "source": [
    "#### <p style=\"background-color:#FFFFFF; font-family:newtimeroman; color:#0000FF; font-size:125%; text-align:left;\"><strong>STEP-01: Stating the null (H0) and alternative hypothesis (Ha or H1).</strong></p>"
   ]
  },
  {
   "cell_type": "code",
   "execution_count": 79,
   "metadata": {
    "id": "YmUanUBJbWdh"
   },
   "outputs": [],
   "source": [
    "from scipy.stats import f_oneway"
   ]
  },
  {
   "cell_type": "raw",
   "metadata": {},
   "source": [
    "Null Hypothesis (H0): H0: µ1 = µ2 = µ3 = ... = µk (\"all k population means are equal\")\n",
    "There are no differences in hormone levels among the different types (μ_a = μ_b = μ_c = μ_u).\n",
    "\n",
    "Alternative Hypothesis (H1): H1: At least one µi different (\"at least one of the k population means is not equal to the others\")\n",
    "At least one group mean is different (μ_a ≠ μ_b ≠ μ_c ≠ μ_u)."
   ]
  },
  {
   "cell_type": "markdown",
   "metadata": {},
   "source": [
    "#### <p style=\"background-color:#FFFFFF; font-family:newtimeroman; color:#0000FF; font-size:125%; text-align:left;\"><strong>STEP-02: Calculating Test Statistic:</strong></p>"
   ]
  },
  {
   "cell_type": "code",
   "execution_count": 80,
   "metadata": {
    "colab": {
     "base_uri": "https://localhost:8080/"
    },
    "executionInfo": {
     "elapsed": 456,
     "status": "ok",
     "timestamp": 1673083112599,
     "user": {
      "displayName": "Richard Thames",
      "userId": "00258987493291873022"
     },
     "user_tz": -180
    },
    "id": "3ZKWoJaqbRZm",
    "outputId": "7a269d90-c6de-4922-f3a8-c7b35dcee6b6"
   },
   "outputs": [
    {
     "data": {
      "text/plain": [
       "array(['a', 'b', 'c', 'u'], dtype=object)"
      ]
     },
     "execution_count": 80,
     "metadata": {},
     "output_type": "execute_result"
    }
   ],
   "source": [
    "df.Type.unique()"
   ]
  },
  {
   "cell_type": "code",
   "execution_count": 81,
   "metadata": {},
   "outputs": [
    {
     "data": {
      "text/html": [
       "<div>\n",
       "<style scoped>\n",
       "    .dataframe tbody tr th:only-of-type {\n",
       "        vertical-align: middle;\n",
       "    }\n",
       "\n",
       "    .dataframe tbody tr th {\n",
       "        vertical-align: top;\n",
       "    }\n",
       "\n",
       "    .dataframe thead th {\n",
       "        text-align: right;\n",
       "    }\n",
       "</style>\n",
       "<table border=\"1\" class=\"dataframe\">\n",
       "  <thead>\n",
       "    <tr style=\"text-align: right;\">\n",
       "      <th></th>\n",
       "      <th>Tetrahydrocortisone</th>\n",
       "      <th>Pregnanetriol</th>\n",
       "      <th>Type</th>\n",
       "    </tr>\n",
       "    <tr>\n",
       "      <th>rownames</th>\n",
       "      <th></th>\n",
       "      <th></th>\n",
       "      <th></th>\n",
       "    </tr>\n",
       "  </thead>\n",
       "  <tbody>\n",
       "    <tr>\n",
       "      <th>a1</th>\n",
       "      <td>3.1</td>\n",
       "      <td>11.70</td>\n",
       "      <td>a</td>\n",
       "    </tr>\n",
       "    <tr>\n",
       "      <th>a2</th>\n",
       "      <td>3.0</td>\n",
       "      <td>1.30</td>\n",
       "      <td>a</td>\n",
       "    </tr>\n",
       "    <tr>\n",
       "      <th>a3</th>\n",
       "      <td>1.9</td>\n",
       "      <td>0.10</td>\n",
       "      <td>a</td>\n",
       "    </tr>\n",
       "    <tr>\n",
       "      <th>a4</th>\n",
       "      <td>3.8</td>\n",
       "      <td>0.04</td>\n",
       "      <td>a</td>\n",
       "    </tr>\n",
       "    <tr>\n",
       "      <th>a5</th>\n",
       "      <td>4.1</td>\n",
       "      <td>1.10</td>\n",
       "      <td>a</td>\n",
       "    </tr>\n",
       "    <tr>\n",
       "      <th>a6</th>\n",
       "      <td>1.9</td>\n",
       "      <td>0.40</td>\n",
       "      <td>a</td>\n",
       "    </tr>\n",
       "  </tbody>\n",
       "</table>\n",
       "</div>"
      ],
      "text/plain": [
       "          Tetrahydrocortisone  Pregnanetriol Type\n",
       "rownames                                         \n",
       "a1                        3.1          11.70    a\n",
       "a2                        3.0           1.30    a\n",
       "a3                        1.9           0.10    a\n",
       "a4                        3.8           0.04    a\n",
       "a5                        4.1           1.10    a\n",
       "a6                        1.9           0.40    a"
      ]
     },
     "execution_count": 81,
     "metadata": {},
     "output_type": "execute_result"
    }
   ],
   "source": [
    "df[df.Type==\"a\"]"
   ]
  },
  {
   "cell_type": "code",
   "execution_count": 82,
   "metadata": {
    "colab": {
     "base_uri": "https://localhost:8080/"
    },
    "executionInfo": {
     "elapsed": 437,
     "status": "ok",
     "timestamp": 1673083123573,
     "user": {
      "displayName": "Richard Thames",
      "userId": "00258987493291873022"
     },
     "user_tz": -180
    },
    "id": "QcQ-9pMVth-W",
    "outputId": "0558f973-0cb5-41b0-c450-4b1933810464"
   },
   "outputs": [
    {
     "data": {
      "text/plain": [
       "rownames\n",
       "a1    3.1\n",
       "a2    3.0\n",
       "a3    1.9\n",
       "a4    3.8\n",
       "a5    4.1\n",
       "a6    1.9\n",
       "Name: Tetrahydrocortisone, dtype: float64"
      ]
     },
     "execution_count": 82,
     "metadata": {},
     "output_type": "execute_result"
    }
   ],
   "source": [
    "df.Tetrahydrocortisone[df.Type==\"a\"]"
   ]
  },
  {
   "cell_type": "markdown",
   "metadata": {},
   "source": [
    "**Conduct ANOVA (Analysis of Variance):**"
   ]
  },
  {
   "cell_type": "code",
   "execution_count": 83,
   "metadata": {
    "colab": {
     "base_uri": "https://localhost:8080/"
    },
    "executionInfo": {
     "elapsed": 434,
     "status": "ok",
     "timestamp": 1673083149083,
     "user": {
      "displayName": "Richard Thames",
      "userId": "00258987493291873022"
     },
     "user_tz": -180
    },
    "id": "i2xM9DwHb_3M",
    "outputId": "efda095c-27bc-4dc2-ae90-eaed162e6dee"
   },
   "outputs": [
    {
     "data": {
      "text/plain": [
       "F_onewayResult(statistic=3.2257394791378426, pvalue=0.0412182793672776)"
      ]
     },
     "execution_count": 83,
     "metadata": {},
     "output_type": "execute_result"
    }
   ],
   "source": [
    "anova_test = f_oneway((df.Tetrahydrocortisone[df.Type==\"a\"]), \n",
    "                      (df.Tetrahydrocortisone[df.Type==\"b\"]),\n",
    "                      (df.Tetrahydrocortisone[df.Type==\"c\"]),\n",
    "                      (df.Tetrahydrocortisone[df.Type==\"u\"]))\n",
    "\n",
    "anova_test"
   ]
  },
  {
   "cell_type": "markdown",
   "metadata": {},
   "source": [
    "**Interpretation of Results**\n",
    "- **``F-statistic``**: This value indicates the ratio of variance between the groups to the variance within the groups. A **``higher F-value``** suggests a **``greater variance between the group means``** compared to the variance within the groups.\n",
    "- **``p-value``**: This value indicates the probability of observing the data if the null hypothesis is true (i.e., there is NO difference between the group means). \n",
    "\n",
    "**Decision Rule:**\n",
    "- If the **``p-value``** is **``less than the significance level``** (commonly set at 0.05), we **``reject the null hypothesis``**, concluding that there is a **``statistically significant difference between the groups``**.\n",
    "\n",
    "**Conclusion**\n",
    "- Based on the results of the ANOVA, we can determine if there are significant differences in the levels of Tetrahydrocortisone and Pregnanetriol between the two groups of patients with Cushing syndrome. If significant differences are found, further post-hoc analyses (like Tukey's HSD) can be performed to explore the differences in more detail."
   ]
  },
  {
   "cell_type": "markdown",
   "metadata": {},
   "source": [
    "**Test Statistic:**"
   ]
  },
  {
   "cell_type": "code",
   "execution_count": 84,
   "metadata": {},
   "outputs": [
    {
     "data": {
      "text/plain": [
       "3.2257394791378426"
      ]
     },
     "execution_count": 84,
     "metadata": {},
     "output_type": "execute_result"
    }
   ],
   "source": [
    "test_statistic = anova_test.statistic\n",
    "test_statistic"
   ]
  },
  {
   "cell_type": "markdown",
   "metadata": {},
   "source": [
    "#### <p style=\"background-color:#FFFFFF; font-family:newtimeroman; color:#0000FF; font-size:125%; text-align:left;\"><strong>STEP-03: Calculating the p-value:</strong></p>"
   ]
  },
  {
   "cell_type": "markdown",
   "metadata": {},
   "source": [
    "**P Value:**"
   ]
  },
  {
   "cell_type": "code",
   "execution_count": 85,
   "metadata": {},
   "outputs": [
    {
     "data": {
      "text/plain": [
       "0.0412182793672776"
      ]
     },
     "execution_count": 85,
     "metadata": {},
     "output_type": "execute_result"
    }
   ],
   "source": [
    "p_value = anova_test.pvalue\n",
    "p_value"
   ]
  },
  {
   "cell_type": "markdown",
   "metadata": {},
   "source": [
    "- The **``F-statistic``** of **``3.23``** indicates a substantial variance between the group means compared to the variance within the groups.\n",
    "- The **``p-value (0.0412)``** is significantly lower than the alpha level of 0.05."
   ]
  },
  {
   "cell_type": "markdown",
   "metadata": {},
   "source": [
    "#### <p style=\"background-color:#FFFFFF; font-family:newtimeroman; color:#0000FF; font-size:125%; text-align:left;\"><strong>STEP-04: Comparing Test Statistic to Critical Value to Make a decision:</strong></p>"
   ]
  },
  {
   "cell_type": "code",
   "execution_count": 86,
   "metadata": {
    "colab": {
     "base_uri": "https://localhost:8080/"
    },
    "executionInfo": {
     "elapsed": 4,
     "status": "ok",
     "timestamp": 1673083194540,
     "user": {
      "displayName": "Richard Thames",
      "userId": "00258987493291873022"
     },
     "user_tz": -180
    },
    "id": "udI8Fhr1dOxt",
    "outputId": "0e45a6be-4b8a-4777-d511-95bcda03884e"
   },
   "outputs": [
    {
     "name": "stdout",
     "output_type": "stream",
     "text": [
      "At 0.05 level of significance, we can reject the Null hypothesis (H0) in favor of Alternative hypothesis (H1) \n",
      "and conclude that the differences among group means (at least one group) are statistically significant.\n"
     ]
    }
   ],
   "source": [
    "alpha = 0.05\n",
    "\n",
    "if anova_test.pvalue < alpha:\n",
    "    print('At {} level of significance, we can reject the Null hypothesis (H0) in favor of Alternative hypothesis (H1) \\nand conclude that the differences among group means (at least one group) are statistically significant.'.format(alpha))\n",
    "else:\n",
    "    print('At {} level of significance, we FAIL to reject the Null hypothesis.'.format(alpha))"
   ]
  },
  {
   "cell_type": "markdown",
   "metadata": {},
   "source": [
    "**``Conclusion:``**\n",
    "**``Rejecting the Null Hypothesis``**: At the 0.05 level of significance, we reject the null hypothesis, indicating that there is a statistically significant difference in hormone levels among at least one of the groups.\n",
    "\n",
    "**``Interpretation of the Decision:``**\n",
    "- The results suggest that the levels of Tetrahydrocortisone and/or Pregnanetriol differ significantly between at least one of the patient types (a or b).\n",
    "- This finding could have implications for understanding the hormonal profiles of patients with Cushing's syndrome and could guide treatment strategies or further research.\n",
    "\n",
    "**``Wrap up``**\n",
    "This analysis highlights that there are significant differences in hormone levels between the patient types in Cushing's syndrome, providing valuable insights into the condition and its physiological impacts. Further research may be warranted to explore the underlying factors contributing to these differences and to assess their clinical relevance."
   ]
  },
  {
   "cell_type": "markdown",
   "metadata": {},
   "source": [
    "**Making a decision comparing the ``calculated F-statistic`` to a ``critical F-value``:**"
   ]
  },
  {
   "cell_type": "code",
   "execution_count": 87,
   "metadata": {},
   "outputs": [
    {
     "name": "stdout",
     "output_type": "stream",
     "text": [
      "Calculated F-statistic: 3.2257\n",
      "Critical F-value: 3.0280\n",
      "Calculated p-value: 0.0412182794\n",
      "Reject the null hypothesis.\n"
     ]
    }
   ],
   "source": [
    "# Extract F-statistic and p-value\n",
    "f_calculated = anova_test.statistic\n",
    "p_value = anova_test.pvalue\n",
    "\n",
    "# Degrees of freedom\n",
    "k = len(df['Type'].unique())  # Number of groups\n",
    "n = df.shape[0]               # Total number of observations\n",
    "dof_numerator = k - 1         # Degrees of freedom between groups\n",
    "dof_denominator = n - k       # Degrees of freedom within groups\n",
    "\n",
    "# Significance level\n",
    "alpha = 0.05\n",
    "\n",
    "# Critical F-value\n",
    "f_critical = stats.f.ppf(1 - alpha, dof_numerator, dof_denominator)\n",
    "\n",
    "# Print the results\n",
    "print(f'Calculated F-statistic: {f_calculated:.4f}')\n",
    "print(f'Critical F-value: {f_critical:.4f}')\n",
    "print(f'Calculated p-value: {p_value:.10f}')\n",
    "\n",
    "# Decision\n",
    "if f_calculated > f_critical:\n",
    "    print(\"Reject the null hypothesis.\")\n",
    "else:\n",
    "    print(\"Fail to reject the null hypothesis.\")"
   ]
  },
  {
   "cell_type": "markdown",
   "metadata": {},
   "source": [
    "- **``The critical F-values are:``**\n",
    "  - **``Critical F-value``**: Fcritical\n",
    "  - **``Calculated F-statistic``**: fcalculated\n",
    "\n",
    "    - This critical F-value represents the threshold for rejecting the null hypothesis at the 0.05 significance level, based on the degrees of freedom for the numerator and denominator. Values falling outside this range indicate significant differences in hormone levels among the different types of patients.\n",
    "\n",
    "- **``Decision Rule:``**\n",
    "  - The calculated F-statistic is compared against the critical F-value. For ANOVA, we reject the null hypothesis if the calculated F-statistic is greater than the critical F-value.\n",
    "\n",
    "- **``Rejection Region``**: ``F > Fcritical``\n",
    "\n",
    "  - Since the calculated F-statistic of 3.2257 (f_calculated) is greater than the critical F-value of 3.0280 (F_critical), we reject the null hypothesis.\n",
    "\n",
    "  - This indicates that there is enough evidence to suggest that at least one group mean is significantly different from the others at the 0.05 significance level.\n",
    "\n",
    "- **``Conclusion:``**\n",
    "  - In conclusion, the results suggest that there are significant differences in the levels of Tetrahydrocortisone among the different types of patients with Cushing's syndrome. This finding may have important implications for understanding the variations in hormone levels and the effectiveness of different treatment approaches."
   ]
  },
  {
   "cell_type": "markdown",
   "metadata": {},
   "source": [
    "#### <p style=\"background-color:#FFFFFF; font-family:newtimeroman; color:#0000FF; font-size:125%; text-align:left;\"><strong>STEP-05: Visualizing the results:</strong></p>"
   ]
  },
  {
   "cell_type": "code",
   "execution_count": 88,
   "metadata": {},
   "outputs": [
    {
     "data": {
      "image/png": "[encoded data removed]",
      "text/plain": [
       "<Figure size 1000x500 with 1 Axes>"
      ]
     },
     "metadata": {},
     "output_type": "display_data"
    }
   ],
   "source": [
    "# Extract F-statistic and p-value\n",
    "f_calculated = anova_test.statistic\n",
    "p_value = anova_test.pvalue\n",
    "\n",
    "# Degrees of freedom\n",
    "k = len(df['Type'].unique())  # Number of groups\n",
    "n = df.shape[0]               # Total number of observations\n",
    "dof_numerator = k - 1         # Degrees of freedom between groups\n",
    "dof_denominator = n - k       # Degrees of freedom within groups\n",
    "\n",
    "# Significance level\n",
    "alpha = 0.05\n",
    "\n",
    "# Critical F-value\n",
    "f_critical = stats.f.ppf(1 - alpha, dof_numerator, dof_denominator)\n",
    "\n",
    "# Define the range for the F-distribution plot\n",
    "x = np.linspace(0, 5, 1000)\n",
    "y = stats.f.pdf(x, dof_numerator, dof_denominator)\n",
    "\n",
    "# Create the plot\n",
    "plt.figure(figsize=(10, 5))\n",
    "\n",
    "# Plot the F-distribution\n",
    "plt.plot(x, y, label=f'F-distribution (dof={dof_numerator}, {dof_denominator})', color='blue')\n",
    "\n",
    "# Mark the critical F-value\n",
    "plt.axvline(f_critical, color='red', linestyle='--', label=f'Critical F-value: {f_critical:.4f}')\n",
    "\n",
    "# Mark the calculated F-statistic\n",
    "plt.axvline(f_calculated, color='green', linestyle='-', label=f'Calculated F-statistic: {f_calculated:.4f}')\n",
    "\n",
    "# Fill the rejection region\n",
    "plt.fill_between(x, 0, y, where=(x >= f_critical), color='lightcoral', alpha=0.5, label='Rejection Region')\n",
    "\n",
    "# Add a blue horizontal line at the bottom of the distribution\n",
    "plt.axhline(0, color='blue', linestyle='-', linewidth=2)\n",
    "\n",
    "# Add text for p-value and alpha\n",
    "plt.text(f_calculated + 0.2, 0.05, f'Calculated p-value: {p_value:.4f}', color='green', fontsize=10, ha='center')\n",
    "plt.text(f_critical + 0.2, 0.1, f'alpha: {alpha}', fontsize=10, color='red', ha='center')\n",
    "\n",
    "# Add titles and labels\n",
    "plt.title('F-Distribution with Critical Regions and F-Statistic', color='blue')\n",
    "plt.xlabel('F-value')\n",
    "plt.ylabel('Probability Density')\n",
    "plt.legend(fontsize='small')\n",
    "\n",
    "# Set y-axis limit to start from zero\n",
    "plt.ylim(bottom=0)\n",
    "\n",
    "# Remove grids\n",
    "plt.grid(False)\n",
    "\n",
    "# Show the plot\n",
    "plt.show()"
   ]
  },
  {
   "cell_type": "markdown",
   "metadata": {},
   "source": [
    "<p style=\"background-color:#FFFFFF; font-family:newtimeroman; color:#FF0000; font-size:125%; text-align:left;\">🚨📢🔔⚠️ IMPORTANT: In theory, a negative calculated F-statistic is NOT possible. The F-statistic is a ratio of variances, specifically the variance between groups divided by the variance within groups. Since variances are always non-negative values (as they are derived from squared quantities), the F-statistic itself will always be non-negative.</p>\n",
    "\n",
    "- **``Interpretation:``**\n",
    "  - An F-statistic of 0 would indicate that the variance between the groups is zero, suggesting that the group means are equal.\n",
    "  - A positive F-statistic indicates that there is more variance between the group means than within the groups, which is what we want to detect in an ANOVA.\n",
    "\n",
    "- **``If a negative value is observed:``**\n",
    "  - If we somehow calculate a negative F-statistic, it typically indicates a computational error or misuse of the formulas involved in the ANOVA process."
   ]
  },
  {
   "cell_type": "markdown",
   "metadata": {},
   "source": [
    "### <p style=\"background-color:#E51A59; font-family:newtimeroman; color:#FDFEFE; font-size:150%; text-align:left; border-radius:10px 10px;\">It's your turn (ANOVA Exercise Exercise for Students):</p>\n",
    "\n",
    "\n",
    "## [Dataset Source](https://nicoleeic.github.io/Brain_and_Code/2019/09/02/ANOVA_new.html)"
   ]
  },
  {
   "cell_type": "markdown",
   "metadata": {},
   "source": [
    "<p style=\"background-color:#FFFFFF; font-family:newtimeroman; color:#0000FF; font-size:125%; text-align:left;\">\n",
    "    👉 <span style=\"color:red;\">Hypothetical Scenario:</span> <span style=\"color:green;\">Evaluating Treatment Effects on Recovery Time.</span>\n",
    "</p>\n",
    "\n",
    "Context: A clinical research team is investigating the effects of two different treatments on recovery time for patients after knee surgery. The team conducts an experiment to assess the recovery times observed under a standard rehabilitation program versus a new, innovative therapy.\n",
    "\n",
    "- In this experiment, researchers randomly assign thirty patients to one of two treatment groups: the control group, which follows the standard rehabilitation program, and the experimental group, which receives the new therapy. The recovery times, measured in days, are recorded for each patient.\n",
    "\n",
    "- The goal of the study is to determine if there is a statistically significant difference in recovery times between the two treatment methods, which could inform future clinical practices.\n",
    "\n",
    "<p style=\"background-color:#FFFFFF; font-family:newtimeroman; color:#0000FF; font-size:110%; text-align:left;\"><strong>-----------------------------------------------------------------------------------------------------------------------------------------------------------------------------------------------</strong></p>\n",
    "\n",
    "\n",
    "**The following code snippet generates a DataFrame (df_1way) for an experimental design with three groups (control, patient1, patient2) and thirty subjects per group.**"
   ]
  },
  {
   "cell_type": "code",
   "execution_count": 89,
   "metadata": {},
   "outputs": [],
   "source": [
    "# information on experimental design\n",
    "group_list = ['control','patient1','patient2']\n",
    "subs_list = ['01', '02', '03', '04', '05', '06', '07', '08', '09', '10']\n",
    "\n",
    "# read data into dataframe\n",
    "df_1way = pd.DataFrame(columns=[\"group\", \"value\"])\n",
    "\n",
    "my_row = 0\n",
    "for ind_g, group in enumerate(group_list):\n",
    "    for sub in subs_list:\n",
    "        # generate random value here as example\n",
    "        my_val = np.random.normal(ind_g, 1, 1)[0]\n",
    "        df_1way.loc[my_row] = [group, my_val]\n",
    "        my_row = my_row + 1"
   ]
  },
  {
   "cell_type": "code",
   "execution_count": 90,
   "metadata": {},
   "outputs": [
    {
     "data": {
      "text/html": [
       "<div>\n",
       "<style scoped>\n",
       "    .dataframe tbody tr th:only-of-type {\n",
       "        vertical-align: middle;\n",
       "    }\n",
       "\n",
       "    .dataframe tbody tr th {\n",
       "        vertical-align: top;\n",
       "    }\n",
       "\n",
       "    .dataframe thead th {\n",
       "        text-align: right;\n",
       "    }\n",
       "</style>\n",
       "<table border=\"1\" class=\"dataframe\">\n",
       "  <thead>\n",
       "    <tr style=\"text-align: right;\">\n",
       "      <th></th>\n",
       "      <th>group</th>\n",
       "      <th>value</th>\n",
       "    </tr>\n",
       "  </thead>\n",
       "  <tbody>\n",
       "    <tr>\n",
       "      <th>0</th>\n",
       "      <td>control</td>\n",
       "      <td>1.330309</td>\n",
       "    </tr>\n",
       "    <tr>\n",
       "      <th>1</th>\n",
       "      <td>control</td>\n",
       "      <td>-0.734269</td>\n",
       "    </tr>\n",
       "    <tr>\n",
       "      <th>2</th>\n",
       "      <td>control</td>\n",
       "      <td>0.203671</td>\n",
       "    </tr>\n",
       "    <tr>\n",
       "      <th>3</th>\n",
       "      <td>control</td>\n",
       "      <td>-0.186697</td>\n",
       "    </tr>\n",
       "    <tr>\n",
       "      <th>4</th>\n",
       "      <td>control</td>\n",
       "      <td>1.167343</td>\n",
       "    </tr>\n",
       "    <tr>\n",
       "      <th>5</th>\n",
       "      <td>control</td>\n",
       "      <td>0.675459</td>\n",
       "    </tr>\n",
       "    <tr>\n",
       "      <th>6</th>\n",
       "      <td>control</td>\n",
       "      <td>1.424499</td>\n",
       "    </tr>\n",
       "    <tr>\n",
       "      <th>7</th>\n",
       "      <td>control</td>\n",
       "      <td>-1.029691</td>\n",
       "    </tr>\n",
       "    <tr>\n",
       "      <th>8</th>\n",
       "      <td>control</td>\n",
       "      <td>0.795588</td>\n",
       "    </tr>\n",
       "    <tr>\n",
       "      <th>9</th>\n",
       "      <td>control</td>\n",
       "      <td>0.344925</td>\n",
       "    </tr>\n",
       "    <tr>\n",
       "      <th>10</th>\n",
       "      <td>patient1</td>\n",
       "      <td>1.346504</td>\n",
       "    </tr>\n",
       "    <tr>\n",
       "      <th>11</th>\n",
       "      <td>patient1</td>\n",
       "      <td>1.707669</td>\n",
       "    </tr>\n",
       "    <tr>\n",
       "      <th>12</th>\n",
       "      <td>patient1</td>\n",
       "      <td>1.893956</td>\n",
       "    </tr>\n",
       "    <tr>\n",
       "      <th>13</th>\n",
       "      <td>patient1</td>\n",
       "      <td>0.946037</td>\n",
       "    </tr>\n",
       "    <tr>\n",
       "      <th>14</th>\n",
       "      <td>patient1</td>\n",
       "      <td>1.825471</td>\n",
       "    </tr>\n",
       "    <tr>\n",
       "      <th>15</th>\n",
       "      <td>patient1</td>\n",
       "      <td>1.718069</td>\n",
       "    </tr>\n",
       "    <tr>\n",
       "      <th>16</th>\n",
       "      <td>patient1</td>\n",
       "      <td>0.485474</td>\n",
       "    </tr>\n",
       "    <tr>\n",
       "      <th>17</th>\n",
       "      <td>patient1</td>\n",
       "      <td>1.106891</td>\n",
       "    </tr>\n",
       "    <tr>\n",
       "      <th>18</th>\n",
       "      <td>patient1</td>\n",
       "      <td>1.268809</td>\n",
       "    </tr>\n",
       "    <tr>\n",
       "      <th>19</th>\n",
       "      <td>patient1</td>\n",
       "      <td>1.513840</td>\n",
       "    </tr>\n",
       "    <tr>\n",
       "      <th>20</th>\n",
       "      <td>patient2</td>\n",
       "      <td>1.446535</td>\n",
       "    </tr>\n",
       "    <tr>\n",
       "      <th>21</th>\n",
       "      <td>patient2</td>\n",
       "      <td>4.312553</td>\n",
       "    </tr>\n",
       "    <tr>\n",
       "      <th>22</th>\n",
       "      <td>patient2</td>\n",
       "      <td>1.322210</td>\n",
       "    </tr>\n",
       "    <tr>\n",
       "      <th>23</th>\n",
       "      <td>patient2</td>\n",
       "      <td>4.541170</td>\n",
       "    </tr>\n",
       "    <tr>\n",
       "      <th>24</th>\n",
       "      <td>patient2</td>\n",
       "      <td>2.282131</td>\n",
       "    </tr>\n",
       "    <tr>\n",
       "      <th>25</th>\n",
       "      <td>patient2</td>\n",
       "      <td>2.164871</td>\n",
       "    </tr>\n",
       "    <tr>\n",
       "      <th>26</th>\n",
       "      <td>patient2</td>\n",
       "      <td>1.247655</td>\n",
       "    </tr>\n",
       "    <tr>\n",
       "      <th>27</th>\n",
       "      <td>patient2</td>\n",
       "      <td>1.926330</td>\n",
       "    </tr>\n",
       "    <tr>\n",
       "      <th>28</th>\n",
       "      <td>patient2</td>\n",
       "      <td>2.014492</td>\n",
       "    </tr>\n",
       "    <tr>\n",
       "      <th>29</th>\n",
       "      <td>patient2</td>\n",
       "      <td>0.965086</td>\n",
       "    </tr>\n",
       "  </tbody>\n",
       "</table>\n",
       "</div>"
      ],
      "text/plain": [
       "       group     value\n",
       "0    control  1.330309\n",
       "1    control -0.734269\n",
       "2    control  0.203671\n",
       "3    control -0.186697\n",
       "4    control  1.167343\n",
       "5    control  0.675459\n",
       "6    control  1.424499\n",
       "7    control -1.029691\n",
       "8    control  0.795588\n",
       "9    control  0.344925\n",
       "10  patient1  1.346504\n",
       "11  patient1  1.707669\n",
       "12  patient1  1.893956\n",
       "13  patient1  0.946037\n",
       "14  patient1  1.825471\n",
       "15  patient1  1.718069\n",
       "16  patient1  0.485474\n",
       "17  patient1  1.106891\n",
       "18  patient1  1.268809\n",
       "19  patient1  1.513840\n",
       "20  patient2  1.446535\n",
       "21  patient2  4.312553\n",
       "22  patient2  1.322210\n",
       "23  patient2  4.541170\n",
       "24  patient2  2.282131\n",
       "25  patient2  2.164871\n",
       "26  patient2  1.247655\n",
       "27  patient2  1.926330\n",
       "28  patient2  2.014492\n",
       "29  patient2  0.965086"
      ]
     },
     "execution_count": 90,
     "metadata": {},
     "output_type": "execute_result"
    }
   ],
   "source": [
    "df_1way"
   ]
  },
  {
   "cell_type": "code",
   "execution_count": 91,
   "metadata": {},
   "outputs": [
    {
     "name": "stdout",
     "output_type": "stream",
     "text": [
      "<class 'pandas.core.frame.DataFrame'>\n",
      "Index: 30 entries, 0 to 29\n",
      "Data columns (total 2 columns):\n",
      " #   Column  Non-Null Count  Dtype  \n",
      "---  ------  --------------  -----  \n",
      " 0   group   30 non-null     object \n",
      " 1   value   30 non-null     float64\n",
      "dtypes: float64(1), object(1)\n",
      "memory usage: 720.0+ bytes\n"
     ]
    }
   ],
   "source": [
    "df_1way.info()"
   ]
  },
  {
   "cell_type": "markdown",
   "metadata": {},
   "source": [
    "<p style=\"background-color:#FFFFFF; font-family:newtimeroman; color:#0000FF; font-size:110%; text-align:left;\"><strong>-----------------------------------------------------------------------------------------------------------------------------------------------------------------------------------------------</strong></p>\n",
    "\n",
    "**Conduct Homogenity of Variance Test:**\n",
    "\n",
    "\n",
    "<p style=\"background-color:#FFFFFF; font-family:newtimeroman; color:#0000FF; font-size:125%; text-align:left;\">\n",
    "    👉 <span style=\"color:green;\">Before conducting a one-way ANOVA, it is essential to check the assumption of homogeneity of variances among the groups. This ensures that the variances across the different groups are approximately equal, which is a key assumption for ANOVA.</span>\n",
    "</p>\n",
    "\n",
    "**``Levene's Test``**: One common method to test for homogeneity of variances is Levene's test. This test assesses whether the variance among the groups is the same."
   ]
  },
  {
   "cell_type": "code",
   "execution_count": 92,
   "metadata": {},
   "outputs": [
    {
     "name": "stdout",
     "output_type": "stream",
     "text": [
      "Levene's Test for Homogeneity of Variances:\n",
      "Statistic: 1.6981632777577582, p-value: 0.20198817466085128\n",
      "Homogeneity of variances assumption is NOT violated (p > 0.05).\n"
     ]
    }
   ],
   "source": [
    "# Conducting Levene's Test for Homogeneity of Variances\n",
    "group_control = df_1way.value[df_1way.group == \"control\"]\n",
    "group_patient1 = df_1way.value[df_1way.group == \"patient1\"]\n",
    "group_patient2 = df_1way.value[df_1way.group == \"patient2\"]\n",
    "\n",
    "# Perform Levene's test\n",
    "stat, p_value = stats.levene(group_control, group_patient1, group_patient2)\n",
    "\n",
    "# Output the results\n",
    "print(\"Levene's Test for Homogeneity of Variances:\")\n",
    "print(f\"Statistic: {stat}, p-value: {p_value}\")\n",
    "\n",
    "# Check if the p-value is greater than 0.05\n",
    "if p_value > 0.05:\n",
    "    print(\"Homogeneity of variances assumption is NOT violated (p > 0.05).\")\n",
    "else:\n",
    "    print(\"Homogeneity of variances assumption is violated (p ≤ 0.05). Consider using Welch's ANOVA.\")"
   ]
  },
  {
   "cell_type": "markdown",
   "metadata": {},
   "source": [
    "**Levene's Test Results:**\n",
    "- Based on the results of the homogeneity test (Levene’s test), we observed whether the variances across the groups (control, patient1, patient2) are equal. If the assumption of homogeneity of variances is met, we proceed with the one-way ANOVA.\n",
    "  - **``Levene's p-value > 0.05``**: This suggests that the variances across the groups are equal (homogeneous).\n",
    "  - **``Levene's p-value ≤ 0.05``**: This indicates a violation of the homogeneity assumption, suggesting that we might want to use Welch's ANOVA instead of the standard one-way ANOVA.\n",
    "\n",
    "\n",
    "<p style=\"background-color:#FFFFFF; font-family:newtimeroman; color:#0000FF; font-size:110%; text-align:left;\"><strong>-----------------------------------------------------------------------------------------------------------------------------------------------------------------------------------------------</strong></p>\n"
   ]
  },
  {
   "cell_type": "markdown",
   "metadata": {},
   "source": [
    "<p style=\"background-color:#FFFFFF; font-family:newtimeroman; color:#0000FF; font-size:125%; text-align:left;\">\n",
    "    👉 <span style=\"color:red;\">Research Question:</span> <span style=\"color:green;\">Compare an outcome measure in three different groups of subjects (healthy controls and two groups of patients, 10 subjects per group).</span>\n",
    "</p>\n"
   ]
  },
  {
   "cell_type": "markdown",
   "metadata": {},
   "source": [
    "#### <p style=\"background-color:#FFFFFF; font-family:newtimeroman; color:#0000FF; font-size:125%; text-align:left;\"><strong>STEP-01: Stating the null (H0) and alternative hypothesis (Ha or H1).</strong></p>"
   ]
  },
  {
   "cell_type": "raw",
   "metadata": {},
   "source": [
    "Null Hypothesis (H1): H0: µ1 = µ2 = µ3 = ... = µk (\"all k population means are equal\")\n",
    "H0: μcontrol = μpatient1 = μpatient2\n",
    "There are no differences in the mean values among the different groups (control, patient1, patient2). This means that any observed differences in sample means are due to random chance.\n",
    "\n",
    "Alternative Hypothesis (H1): H1: At least one µi different (\"at least one of the k population means is not equal to the others\")\n",
    "At least one group mean is different from the others. This indicates that the treatment or condition associated with one of the groups has a statistically significant effect on the measured values."
   ]
  },
  {
   "cell_type": "markdown",
   "metadata": {},
   "source": [
    "#### <p style=\"background-color:#FFFFFF; font-family:newtimeroman; color:#0000FF; font-size:125%; text-align:left;\"><strong>STEP-02: Calculating Test Statistic:</strong></p>"
   ]
  },
  {
   "cell_type": "code",
   "execution_count": 93,
   "metadata": {},
   "outputs": [
    {
     "data": {
      "text/html": [
       "<div>\n",
       "<style scoped>\n",
       "    .dataframe tbody tr th:only-of-type {\n",
       "        vertical-align: middle;\n",
       "    }\n",
       "\n",
       "    .dataframe tbody tr th {\n",
       "        vertical-align: top;\n",
       "    }\n",
       "\n",
       "    .dataframe thead th {\n",
       "        text-align: right;\n",
       "    }\n",
       "</style>\n",
       "<table border=\"1\" class=\"dataframe\">\n",
       "  <thead>\n",
       "    <tr style=\"text-align: right;\">\n",
       "      <th></th>\n",
       "      <th>group</th>\n",
       "      <th>value</th>\n",
       "    </tr>\n",
       "  </thead>\n",
       "  <tbody>\n",
       "    <tr>\n",
       "      <th>0</th>\n",
       "      <td>control</td>\n",
       "      <td>1.330309</td>\n",
       "    </tr>\n",
       "    <tr>\n",
       "      <th>1</th>\n",
       "      <td>control</td>\n",
       "      <td>-0.734269</td>\n",
       "    </tr>\n",
       "    <tr>\n",
       "      <th>2</th>\n",
       "      <td>control</td>\n",
       "      <td>0.203671</td>\n",
       "    </tr>\n",
       "    <tr>\n",
       "      <th>3</th>\n",
       "      <td>control</td>\n",
       "      <td>-0.186697</td>\n",
       "    </tr>\n",
       "    <tr>\n",
       "      <th>4</th>\n",
       "      <td>control</td>\n",
       "      <td>1.167343</td>\n",
       "    </tr>\n",
       "    <tr>\n",
       "      <th>5</th>\n",
       "      <td>control</td>\n",
       "      <td>0.675459</td>\n",
       "    </tr>\n",
       "    <tr>\n",
       "      <th>6</th>\n",
       "      <td>control</td>\n",
       "      <td>1.424499</td>\n",
       "    </tr>\n",
       "    <tr>\n",
       "      <th>7</th>\n",
       "      <td>control</td>\n",
       "      <td>-1.029691</td>\n",
       "    </tr>\n",
       "    <tr>\n",
       "      <th>8</th>\n",
       "      <td>control</td>\n",
       "      <td>0.795588</td>\n",
       "    </tr>\n",
       "    <tr>\n",
       "      <th>9</th>\n",
       "      <td>control</td>\n",
       "      <td>0.344925</td>\n",
       "    </tr>\n",
       "  </tbody>\n",
       "</table>\n",
       "</div>"
      ],
      "text/plain": [
       "     group     value\n",
       "0  control  1.330309\n",
       "1  control -0.734269\n",
       "2  control  0.203671\n",
       "3  control -0.186697\n",
       "4  control  1.167343\n",
       "5  control  0.675459\n",
       "6  control  1.424499\n",
       "7  control -1.029691\n",
       "8  control  0.795588\n",
       "9  control  0.344925"
      ]
     },
     "execution_count": 93,
     "metadata": {},
     "output_type": "execute_result"
    }
   ],
   "source": [
    "# Filter the DataFrame\n",
    "\n",
    "df_1way[df_1way.group==\"control\"]"
   ]
  },
  {
   "cell_type": "markdown",
   "metadata": {},
   "source": [
    "**Conduct ANOVA (Analysis of Variance):**"
   ]
  },
  {
   "cell_type": "code",
   "execution_count": 94,
   "metadata": {},
   "outputs": [
    {
     "data": {
      "text/plain": [
       "F_onewayResult(statistic=10.192280036930583, pvalue=0.0005038639671731915)"
      ]
     },
     "execution_count": 94,
     "metadata": {},
     "output_type": "execute_result"
    }
   ],
   "source": [
    "anova_test = f_oneway((df_1way.value[df_1way.group==\"control\"]), \n",
    "                      (df_1way.value[df_1way.group==\"patient1\"]),\n",
    "                      (df_1way.value[df_1way.group==\"patient2\"]))\n",
    "\n",
    "\n",
    "anova_test"
   ]
  },
  {
   "cell_type": "markdown",
   "metadata": {},
   "source": [
    "**Interpretation of Results for Patient Groups**\n",
    "- **``F-statistic``**: This value indicates the ratio of variance between the groups to the variance within the groups. A **``higher F-value``** suggests a **``greater variance between the group means``** compared to the variance within the groups.\n",
    "\n",
    "- **``p-value``**: This value indicates the probability of observing the data if the null hypothesis is true (i.e., there is NO difference between the group means). A lower p-value suggests that the observed differences in means are unlikely to have occurred by chance.\n",
    "\n"
   ]
  },
  {
   "cell_type": "markdown",
   "metadata": {},
   "source": [
    "**Test Statistic:**"
   ]
  },
  {
   "cell_type": "code",
   "execution_count": 95,
   "metadata": {},
   "outputs": [
    {
     "data": {
      "text/plain": [
       "10.192280036930583"
      ]
     },
     "execution_count": 95,
     "metadata": {},
     "output_type": "execute_result"
    }
   ],
   "source": [
    "test_statistic = anova_test.statistic\n",
    "test_statistic"
   ]
  },
  {
   "cell_type": "markdown",
   "metadata": {},
   "source": [
    "#### <p style=\"background-color:#FFFFFF; font-family:newtimeroman; color:#0000FF; font-size:125%; text-align:left;\"><strong>STEP-03: Calculating the p-value:</strong></p>"
   ]
  },
  {
   "cell_type": "markdown",
   "metadata": {},
   "source": [
    "**P Value:**"
   ]
  },
  {
   "cell_type": "code",
   "execution_count": 96,
   "metadata": {},
   "outputs": [
    {
     "data": {
      "text/plain": [
       "0.0005038639671731915"
      ]
     },
     "execution_count": 96,
     "metadata": {},
     "output_type": "execute_result"
    }
   ],
   "source": [
    "p_value = anova_test.pvalue\n",
    "p_value"
   ]
  },
  {
   "cell_type": "markdown",
   "metadata": {},
   "source": [
    "**Decision Rule:**\n",
    "- If the **``p-value``** is **``less than the significance level``** (commonly set at 0.05), we **``reject the null hypothesis``**, concluding that there is a **``statistically significant difference between the groups``**.\n",
    "\n",
    "**Conclusion**\n",
    "\n",
    "- If the results of the one-way ANOVA indicate a significant p-value (less than 0.05), it suggests that there are significant differences in the recovery times between the patient groups. Should significant differences be found, further post-hoc analyses (such as Tukey's HSD) can be performed to identify which specific groups differ from one another.\n",
    "- Conversely, if the p-value from the ANOVA is greater than 0.05, we fail to reject the null hypothesis, indicating that there is no statistically significant difference in recovery times among the groups, suggesting that the treatments may have similar effects on recovery.\n",
    "\n",
    "  - The **``F-statistic``** of **``5.36``** indicates that there is a significant amount of variance between the group means compared to the variance within the groups.\n",
    "  - The **``p-value (0.01)``** is is less than the significance level of 0.05."
   ]
  },
  {
   "cell_type": "markdown",
   "metadata": {},
   "source": [
    "#### <p style=\"background-color:#FFFFFF; font-family:newtimeroman; color:#0000FF; font-size:125%; text-align:left;\"><strong>STEP-04: Comparing Test Statistic to Critical Value to Make a decision:</strong></p>"
   ]
  },
  {
   "cell_type": "code",
   "execution_count": 97,
   "metadata": {},
   "outputs": [
    {
     "name": "stdout",
     "output_type": "stream",
     "text": [
      "At 0.05 level of significance, we can reject the Null hypothesis (H0) in favor of Alternative hypothesis (H1) \n",
      "and conclude that the differences among group means (at least one group) are statistically significant.\n"
     ]
    }
   ],
   "source": [
    "alpha = 0.05\n",
    "\n",
    "if anova_test.pvalue < alpha:\n",
    "    print('At {} level of significance, we can reject the Null hypothesis (H0) in favor of Alternative hypothesis (H1) \\nand conclude that the differences among group means (at least one group) are statistically significant.'.format(alpha))\n",
    "else:\n",
    "    print('At {} level of significance, we FAIL to reject the Null hypothesis.'.format(alpha))"
   ]
  },
  {
   "cell_type": "markdown",
   "metadata": {},
   "source": [
    "**``Conclusion:``**\n",
    "**``Rejecting the Null Hypothesis``**: At the 0.05 level of significance, we reject the null hypothesis, indicating that there is a statistically significant difference in the measured values among at least one of the groups (control, patient1, patient2).\n",
    "\n",
    "**``Interpretation of the Decision:``**\n",
    "- The results suggest that the values associated with at least one group differ significantly from the others, implying that the treatment or condition represented by those groups has an effect.\n",
    "- This finding may have important implications for understanding how different treatments or conditions impact the measured outcomes, potentially guiding future research and clinical practices.\n",
    "\n",
    "**``Wrap up``**\n",
    "This analysis highlights that there are significant differences in the outcomes among the groups in the study. These insights provide valuable information regarding the effects of different treatments or conditions represented by the groups. Further investigations may be necessary to identify the specific group differences and to explore the underlying mechanisms that contribute to these observed effects."
   ]
  },
  {
   "cell_type": "markdown",
   "metadata": {},
   "source": [
    "**Making a decision comparing the ``calculated F-statistic`` to a ``critical F-value``:**"
   ]
  },
  {
   "cell_type": "code",
   "execution_count": 98,
   "metadata": {},
   "outputs": [
    {
     "name": "stdout",
     "output_type": "stream",
     "text": [
      "Calculated F-statistic: 10.1923\n",
      "Critical F-value: 3.3541\n",
      "Calculated p-value: 0.0005038640\n",
      "Reject the null hypothesis.\n"
     ]
    }
   ],
   "source": [
    "# Extract F-statistic and p-value\n",
    "f_calculated = anova_test.statistic\n",
    "p_value = anova_test.pvalue\n",
    "\n",
    "# Degrees of freedom\n",
    "k = len(df_1way['group'].unique())  # Number of groups\n",
    "n = df_1way.shape[0]                # Total number of observations\n",
    "dof_numerator = k - 1                # Degrees of freedom between groups\n",
    "dof_denominator = n - k              # Degrees of freedom within groups\n",
    "\n",
    "# Significance level\n",
    "alpha = 0.05\n",
    "\n",
    "# Critical F-value\n",
    "f_critical = stats.f.ppf(1 - alpha, dof_numerator, dof_denominator)\n",
    "\n",
    "# Print the results\n",
    "print(f'Calculated F-statistic: {f_calculated:.4f}')\n",
    "print(f'Critical F-value: {f_critical:.4f}')\n",
    "print(f'Calculated p-value: {p_value:.10f}')\n",
    "\n",
    "# Decision\n",
    "if f_calculated > f_critical:\n",
    "    print(\"Reject the null hypothesis.\")\n",
    "else:\n",
    "    print(\"Fail to reject the null hypothesis.\")"
   ]
  },
  {
   "cell_type": "markdown",
   "metadata": {},
   "source": [
    "- **``The critical F-values are:``**\n",
    "  - **``Critical F-value``**: Fcritical\n",
    "  - **``Calculated F-statistic``**: fcalculated\n",
    "\n",
    "    - This critical F-value represents the threshold for rejecting the null hypothesis at the 0.05 significance level, based on the degrees of freedom for the numerator and denominator. Values falling outside this range indicate significant differences in the means among the different groups (control, patient1, patient2).\n",
    "\n",
    "- **``Decision Rule:``**\n",
    "  - The calculated F-statistic is compared against the critical F-value. For ANOVA, we reject the null hypothesis if the calculated F-statistic is greater than the critical F-value.\n",
    "\n",
    "- **``Rejection Region``**: ``F > Fcritical``\n",
    "\n",
    "  - Since the calculated F-statistic of 322.5818 (f_calculated) is greater than the critical F-value of 3.3541 (F_critical), we reject the null hypothesis.\n",
    "\n",
    "  - This indicates that there is enough evidence to suggest that at least one group mean is significantly different from the others at the 0.05 significance level.\n",
    "\n",
    "- **``Conclusion:``**\n",
    "  - In conclusion, the results suggest that there are significant differences in the measured values among the different groups (control, patient1, patient2). This finding may have important implications for understanding the effects of treatment conditions on the measured outcomes."
   ]
  },
  {
   "cell_type": "markdown",
   "metadata": {},
   "source": [
    "#### <p style=\"background-color:#FFFFFF; font-family:newtimeroman; color:#0000FF; font-size:125%; text-align:left;\"><strong>STEP-05: Visualizing the results:</strong></p>"
   ]
  },
  {
   "cell_type": "code",
   "execution_count": 99,
   "metadata": {},
   "outputs": [
    {
     "data": {
      "image/png": "[encoded data removed]",
      "text/plain": [
       "<Figure size 1000x500 with 1 Axes>"
      ]
     },
     "metadata": {},
     "output_type": "display_data"
    }
   ],
   "source": [
    "# Extract F-statistic and p-value\n",
    "f_calculated = anova_test.statistic\n",
    "p_value = anova_test.pvalue\n",
    "\n",
    "# Degrees of freedom\n",
    "k = len(df_1way['group'].unique())  # Number of groups\n",
    "n = df_1way.shape[0]                # Total number of observations\n",
    "dof_numerator = k - 1                # Degrees of freedom between groups\n",
    "dof_denominator = n - k              # Degrees of freedom within groups\n",
    "\n",
    "# Significance level\n",
    "alpha = 0.05\n",
    "\n",
    "# Critical F-value\n",
    "f_critical = stats.f.ppf(1 - alpha, dof_numerator, dof_denominator)\n",
    "\n",
    "# Define the range for the F-distribution plot\n",
    "x = np.linspace(0, 5, 1000)\n",
    "y = stats.f.pdf(x, dof_numerator, dof_denominator)\n",
    "\n",
    "# Create the plot\n",
    "plt.figure(figsize=(10, 5))\n",
    "\n",
    "# Plot the F-distribution\n",
    "plt.plot(x, y, label=f'F-distribution (dof={dof_numerator}, {dof_denominator})', color='blue')\n",
    "\n",
    "# Mark the critical F-value\n",
    "plt.axvline(f_critical, color='red', linestyle='--', label=f'Critical F-value: {f_critical:.4f}')\n",
    "\n",
    "# Mark the calculated F-statistic\n",
    "plt.axvline(f_calculated, color='green', linestyle='-', label=f'Calculated F-statistic: {f_calculated:.4f}')\n",
    "\n",
    "# Fill the rejection region\n",
    "plt.fill_between(x, 0, y, where=(x >= f_critical), color='lightcoral', alpha=0.5, label='Rejection Region')\n",
    "\n",
    "# Add a blue horizontal line at the bottom of the distribution\n",
    "plt.axhline(0, color='blue', linestyle='-', linewidth=2)\n",
    "\n",
    "# Add text for p-value and alpha\n",
    "plt.text(f_calculated + 0.2, 0.05, f'Calculated p-value: {p_value:.4f}', color='green', fontsize=10, ha='center')\n",
    "plt.text(f_critical + 0.2, 0.1, f'alpha: {alpha}', fontsize=10, color='red', ha='center')\n",
    "\n",
    "# Add titles and labels\n",
    "plt.title('F-Distribution with Critical Regions and F-Statistic', color='blue')\n",
    "plt.xlabel('F-value')\n",
    "plt.ylabel('Probability Density')\n",
    "plt.legend(fontsize='small')\n",
    "\n",
    "# Set y-axis limit to start from zero\n",
    "plt.ylim(bottom=0)\n",
    "\n",
    "# Remove grids\n",
    "plt.grid(False)\n",
    "\n",
    "# Show the plot\n",
    "plt.show()"
   ]
  },
  {
   "cell_type": "markdown",
   "metadata": {},
   "source": [
    "## <p style=\"background-color:#FDFEFE; font-family:newtimeroman; color:#E51A59; font-size:150%; text-align:center; border-radius:10px 10px;\">End of the Session - 06</p>\n",
    "\n",
    "<p style=\"text-align: center;\"><img src=\"https://i.ibb.co/TtRtYNn/healthy-lunch.jpg\" width=\"800\" height=\"200\" class=\"img-fluid\" alt=\"Lunch Time\"></p>\n",
    "\n",
    "\n",
    "<p style=\"text-align: center;\"><img src=\"https://i.ibb.co/99DQ3TY/DS-Courses.png\" class=\"img-fluid\" \n",
    "alt=\"CLRSWY\"></p>\n",
    "\n",
    "\n",
    "<br><br><br>\n",
    "\n",
    "<p style=\"text-align: center;\"><img src=\"https://i.ibb.co/Rpz9L36/clarusway-logo-black.png\" width=\"450\" height=\"200\" class=\"img-fluid\" alt=\"CLRSWY_LOGO\"></p>\n",
    "\n",
    "<p style=\"background-color:#E51A59; font-family:newtimeroman; color:#FDFEFE; font-size:130%; text-align:center; border-radius:10px 10px;\">WAY TO REINVENT YOURSELF</p>"
   ]
  },
  {
   "cell_type": "markdown",
   "metadata": {
    "deletable": false,
    "editable": false
   },
   "source": [
    "<a href=\"https://clarusway.com/contact-us/\"><img align=\"center\" src=\"https://i.ibb.co/B43qn24/officially-licensed-logo.png\" alt=\"Open in Clarusway LMS\" width=\"110\" height=\"200\" title=\"This notebook is licensed by Clarusway IT training school. Please contact the authorized persons about the conditions under which you can use or share.\"></a>"
   ]
  }
 ],
 "metadata": {
  "colab": {
   "provenance": [
    {
     "file_id": "1TFTXwMsq_LE_E13ZfZMhwosaIUb2J6Lx",
     "timestamp": 1644940745214
    },
    {
     "file_id": "10AaYzkuMZiK4_vSS0fo4EHHbaSXh7F9k",
     "timestamp": 1644053579521
    }
   ]
  },
  "kernelspec": {
   "display_name": "Python 3 (ipykernel)",
   "language": "python",
   "name": "python3"
  },
  "language_info": {
   "codemirror_mode": {
    "name": "ipython",
    "version": 3
   },
   "file_extension": ".py",
   "mimetype": "text/x-python",
   "name": "python",
   "nbconvert_exporter": "python",
   "pygments_lexer": "ipython3",
   "version": "3.11.5"
  },
  "toc": {
   "base_numbering": 1,
   "nav_menu": {},
   "number_sections": false,
   "sideBar": true,
   "skip_h1_title": false,
   "title_cell": "Table of Contents",
   "title_sidebar": "Contents",
   "toc_cell": false,
   "toc_position": {
    "height": "calc(100% - 180px)",
    "left": "10px",
    "top": "150px",
    "width": "330.6px"
   },
   "toc_section_display": true,
   "toc_window_display": true
  },
  "varInspector": {
   "cols": {
    "lenName": 16,
    "lenType": 16,
    "lenVar": 40
   },
   "kernels_config": {
    "python": {
     "delete_cmd_postfix": "",
     "delete_cmd_prefix": "del ",
     "library": "var_list.py",
     "varRefreshCmd": "print(var_dic_list())"
    },
    "r": {
     "delete_cmd_postfix": ") ",
     "delete_cmd_prefix": "rm(",
     "library": "var_list.r",
     "varRefreshCmd": "cat(var_dic_list()) "
    }
   },
   "types_to_exclude": [
    "module",
    "function",
    "builtin_function_or_method",
    "instance",
    "_Feature"
   ],
   "window_display": false
  }
 },
 "nbformat": 4,
 "nbformat_minor": 1
}
