{
 "cells": [
  {
   "cell_type": "markdown",
   "metadata": {
    "deletable": false,
    "editable": false
   },
   "source": [
    "<a href=\"https://clarusway.com/contact-us/\"><img align=\"center\" src=\"https://i.ibb.co/B43qn24/officially-licensed-logo.png\" alt=\"Open in Clarusway LMS\" width=\"110\" height=\"200\" title=\"This notebook is licensed by Clarusway IT training school. Please contact the authorized persons about the conditions under which you can use or share.\"></a>\n",
    "\n",
    "\n",
    "\n"
   ]
  },
  {
   "cell_type": "markdown",
   "metadata": {},
   "source": [
    "<hr>\n",
    "\n",
    "<a href=\"https://clarusway.com/\"><img align=\"center\" src=\"https://i.ibb.co/Rpz9L36/clarusway-logo-black.png\" width=\"450\" height=\"200\" alt=\"CLRSWY_LOGO\" title=\"Open and Execute in Google Colaboratory\"></a><br/>\n",
    "\n",
    "<p style=\"background-color:#E51A59; font-family:newtimeroman; color:#FDFEFE; font-size:130%; text-align:center; border-radius:10px 10px;\">WAY TO REINVENT YOURSELF</p>\n",
    "\n",
    "<p style=\"text-align: center;\"><img src=\"https://i.ibb.co/Vp7VhzT/stats.png\" class=\"img-fluid\" alt=\"STATS\" width=\"600\" height=\"200\"></p>\n",
    "\n",
    "## <p style=\"background-color:#FDFEFE; font-family:newtimeroman; color:#0000FF; font-size:150%; text-align:center; border-radius:10px 10px;\">SESSION-07 (Analysis of Categorical Variables)</p>\n",
    "\n",
    "<hr>"
   ]
  },
  {
   "cell_type": "markdown",
   "metadata": {},
   "source": [
    "#### <p style=\"background-color:#E51A59; font-family:newtimeroman; color:#FDFEFE; font-size:175%; text-align:left; border-radius:10px 10px;\">Libraries Needed in this Notebook:</p>\n",
    "\n",
    "First we must import the related libraries of Numpy, Pandas, Matplotlib and Seaborn for our analysis. We are importing the required modules by using the import keyword. "
   ]
  },
  {
   "cell_type": "code",
   "execution_count": 49,
   "metadata": {
    "id": "Fy9a4Bxrx-oh"
   },
   "outputs": [],
   "source": [
    "# Importing reelating libraries; Pandas, Numpy, scipy.stats\n",
    "\n",
    "import pandas as pd\n",
    "import numpy as np\n",
    "import matplotlib.pyplot as plt\n",
    "import seaborn as sns\n",
    "from scipy.stats import chi2_contingency\n",
    "from scipy import stats"
   ]
  },
  {
   "cell_type": "markdown",
   "metadata": {
    "id": "pjJT9uAXyBGL"
   },
   "source": [
    "### <p style=\"background-color:#E51A59; font-family:newtimeroman; color:#FDFEFE; font-size:150%; text-align:left; border-radius:10px 10px;\">Example-01 (Inclass Data):</p>"
   ]
  },
  {
   "cell_type": "code",
   "execution_count": 50,
   "metadata": {
    "id": "dXjPyKTGbK6J"
   },
   "outputs": [
    {
     "data": {
      "text/plain": [
       "[[15, 21, 45, 13], [26, 31, 34, 5], [33, 17, 49, 20]]"
      ]
     },
     "execution_count": 50,
     "metadata": {},
     "output_type": "execute_result"
    }
   ],
   "source": [
    "table = [[15, 21, 45, 13],[26, 31, 34, 5], [33, 17, 49, 20]]\n",
    "table"
   ]
  },
  {
   "cell_type": "code",
   "execution_count": 51,
   "metadata": {},
   "outputs": [
    {
     "data": {
      "text/html": [
       "<div>\n",
       "<style scoped>\n",
       "    .dataframe tbody tr th:only-of-type {\n",
       "        vertical-align: middle;\n",
       "    }\n",
       "\n",
       "    .dataframe tbody tr th {\n",
       "        vertical-align: top;\n",
       "    }\n",
       "\n",
       "    .dataframe thead th {\n",
       "        text-align: right;\n",
       "    }\n",
       "</style>\n",
       "<table border=\"1\" class=\"dataframe\">\n",
       "  <thead>\n",
       "    <tr style=\"text-align: right;\">\n",
       "      <th></th>\n",
       "      <th>Educational Attainment</th>\n",
       "      <th>Training Program</th>\n",
       "      <th>Count</th>\n",
       "    </tr>\n",
       "  </thead>\n",
       "  <tbody>\n",
       "    <tr>\n",
       "      <th>0</th>\n",
       "      <td>High School</td>\n",
       "      <td>Technical Skills</td>\n",
       "      <td>15</td>\n",
       "    </tr>\n",
       "    <tr>\n",
       "      <th>1</th>\n",
       "      <td>High School</td>\n",
       "      <td>Leadership Development</td>\n",
       "      <td>21</td>\n",
       "    </tr>\n",
       "    <tr>\n",
       "      <th>2</th>\n",
       "      <td>High School</td>\n",
       "      <td>Soft Skills</td>\n",
       "      <td>45</td>\n",
       "    </tr>\n",
       "    <tr>\n",
       "      <th>3</th>\n",
       "      <td>Bachelor's Degree</td>\n",
       "      <td>Technical Skills</td>\n",
       "      <td>26</td>\n",
       "    </tr>\n",
       "    <tr>\n",
       "      <th>4</th>\n",
       "      <td>Bachelor's Degree</td>\n",
       "      <td>Leadership Development</td>\n",
       "      <td>31</td>\n",
       "    </tr>\n",
       "    <tr>\n",
       "      <th>5</th>\n",
       "      <td>Bachelor's Degree</td>\n",
       "      <td>Soft Skills</td>\n",
       "      <td>34</td>\n",
       "    </tr>\n",
       "    <tr>\n",
       "      <th>6</th>\n",
       "      <td>Master's Degree</td>\n",
       "      <td>Technical Skills</td>\n",
       "      <td>33</td>\n",
       "    </tr>\n",
       "    <tr>\n",
       "      <th>7</th>\n",
       "      <td>Master's Degree</td>\n",
       "      <td>Leadership Development</td>\n",
       "      <td>17</td>\n",
       "    </tr>\n",
       "    <tr>\n",
       "      <th>8</th>\n",
       "      <td>Master's Degree</td>\n",
       "      <td>Soft Skills</td>\n",
       "      <td>49</td>\n",
       "    </tr>\n",
       "  </tbody>\n",
       "</table>\n",
       "</div>"
      ],
      "text/plain": [
       "  Educational Attainment        Training Program  Count\n",
       "0            High School        Technical Skills     15\n",
       "1            High School  Leadership Development     21\n",
       "2            High School             Soft Skills     45\n",
       "3      Bachelor's Degree        Technical Skills     26\n",
       "4      Bachelor's Degree  Leadership Development     31\n",
       "5      Bachelor's Degree             Soft Skills     34\n",
       "6        Master's Degree        Technical Skills     33\n",
       "7        Master's Degree  Leadership Development     17\n",
       "8        Master's Degree             Soft Skills     49"
      ]
     },
     "execution_count": 51,
     "metadata": {},
     "output_type": "execute_result"
    }
   ],
   "source": [
    "# Create the data for the DataFrame\n",
    "data = {\n",
    "    'Educational Attainment': ['High School', 'High School', 'High School', \n",
    "                               'Bachelor\\'s Degree', 'Bachelor\\'s Degree', 'Bachelor\\'s Degree', \n",
    "                               'Master\\'s Degree', 'Master\\'s Degree', 'Master\\'s Degree'],\n",
    "    'Training Program': ['Technical Skills', 'Leadership Development', 'Soft Skills', \n",
    "                        'Technical Skills', 'Leadership Development', 'Soft Skills', \n",
    "                        'Technical Skills', 'Leadership Development', 'Soft Skills'],\n",
    "    'Count': [15, 21, 45, \n",
    "              26, 31, 34, \n",
    "              33, 17, 49]\n",
    "}\n",
    "\n",
    "# Create the DataFrame\n",
    "df = pd.DataFrame(data)\n",
    "\n",
    "# Display the DataFrame\n",
    "df"
   ]
  },
  {
   "cell_type": "markdown",
   "metadata": {},
   "source": [
    "- **``Context:``**\n",
    "   - In a company looking to improve employee skills, management is interested in understanding how different educational backgrounds influence preferences for training programs. The company offers four types of training programs:\n",
    "<hr>\n",
    "\n",
    "<p style=\"background-color:#FFFFFF; font-family:newtimeroman; color:#0000FF; font-size:125%; text-align:left;\">\n",
    "    👉 <span style=\"color:red;\">Research Question:</span> <span style=\"color:green;\">Is there a relationship between educational attainment and the preference for types of training programs among employees in a company?</span>\n",
    "</p>"
   ]
  },
  {
   "cell_type": "markdown",
   "metadata": {},
   "source": [
    "#### <p style=\"background-color:#FFFFFF; font-family:newtimeroman; color:#0000FF; font-size:125%; text-align:left;\"><strong>STEP-01: Stating the null (H0) and alternative hypothesis (Ha or H1).</strong></p>"
   ]
  },
  {
   "cell_type": "raw",
   "metadata": {
    "id": "HiNewC7eeep0"
   },
   "source": [
    "Null Hypothesis (H₀): Ho: The two categorical variables are independent.\n",
    "There is no relationship between educational attainment and preference for training programs. (The two categorical variables are independent.)\n",
    "\n",
    "Alternative Hypothesis (H₁): H1: The two categorical variables are dependent.\n",
    "There is a relationship between educational attainment and preference for training programs. (The two categorical variables are dependent.)"
   ]
  },
  {
   "cell_type": "markdown",
   "metadata": {},
   "source": [
    "#### <p style=\"background-color:#FFFFFF; font-family:newtimeroman; color:#0000FF; font-size:125%; text-align:left;\"><strong>STEP-02-03: Calculating Test Statistic & p-value:</strong></p>\n",
    "\n",
    "\n",
    "**Creating a Cross-Tabulation (contingency table):** \n",
    "\n",
    "- **``FIRST APPROACH``**: Using DataFrame and Creating a Pivot Table"
   ]
  },
  {
   "cell_type": "code",
   "execution_count": 52,
   "metadata": {},
   "outputs": [
    {
     "data": {
      "text/html": [
       "<div>\n",
       "<style scoped>\n",
       "    .dataframe tbody tr th:only-of-type {\n",
       "        vertical-align: middle;\n",
       "    }\n",
       "\n",
       "    .dataframe tbody tr th {\n",
       "        vertical-align: top;\n",
       "    }\n",
       "\n",
       "    .dataframe thead th {\n",
       "        text-align: right;\n",
       "    }\n",
       "</style>\n",
       "<table border=\"1\" class=\"dataframe\">\n",
       "  <thead>\n",
       "    <tr style=\"text-align: right;\">\n",
       "      <th>Training Program</th>\n",
       "      <th>Leadership Development</th>\n",
       "      <th>Soft Skills</th>\n",
       "      <th>Technical Skills</th>\n",
       "    </tr>\n",
       "    <tr>\n",
       "      <th>Educational Attainment</th>\n",
       "      <th></th>\n",
       "      <th></th>\n",
       "      <th></th>\n",
       "    </tr>\n",
       "  </thead>\n",
       "  <tbody>\n",
       "    <tr>\n",
       "      <th>Bachelor's Degree</th>\n",
       "      <td>31.0</td>\n",
       "      <td>34.0</td>\n",
       "      <td>26.0</td>\n",
       "    </tr>\n",
       "    <tr>\n",
       "      <th>High School</th>\n",
       "      <td>21.0</td>\n",
       "      <td>45.0</td>\n",
       "      <td>15.0</td>\n",
       "    </tr>\n",
       "    <tr>\n",
       "      <th>Master's Degree</th>\n",
       "      <td>17.0</td>\n",
       "      <td>49.0</td>\n",
       "      <td>33.0</td>\n",
       "    </tr>\n",
       "  </tbody>\n",
       "</table>\n",
       "</div>"
      ],
      "text/plain": [
       "Training Program        Leadership Development  Soft Skills  Technical Skills\n",
       "Educational Attainment                                                       \n",
       "Bachelor's Degree                         31.0         34.0              26.0\n",
       "High School                               21.0         45.0              15.0\n",
       "Master's Degree                           17.0         49.0              33.0"
      ]
     },
     "execution_count": 52,
     "metadata": {},
     "output_type": "execute_result"
    }
   ],
   "source": [
    "# Create a contingency table\n",
    "contingency_table = df.pivot_table(index='Educational Attainment', \n",
    "                                   columns='Training Program', \n",
    "                                   values='Count', \n",
    "                                   fill_value=0)\n",
    "\n",
    "contingency_table"
   ]
  },
  {
   "cell_type": "code",
   "execution_count": 53,
   "metadata": {},
   "outputs": [],
   "source": [
    "# Perform the Chi-Squared test\n",
    "\n",
    "# chi2_stat, p_value, dof, expected = stats.chi2_contingency(contingency_table)"
   ]
  },
  {
   "cell_type": "code",
   "execution_count": 54,
   "metadata": {},
   "outputs": [],
   "source": [
    "# Print the results\n",
    "\n",
    "# print(\"Chi-Squared Statistic:\", chi2_stat)\n",
    "# print(\"P-value:\", p_value)\n",
    "# print(\"Degrees of Freedom:\", dof)\n",
    "# print(\"Expected Frequencies:\\n\", expected)"
   ]
  },
  {
   "cell_type": "markdown",
   "metadata": {},
   "source": [
    "\n",
    "- **``SECOND APPROACH``**: Using a list of Scores directly"
   ]
  },
  {
   "cell_type": "code",
   "execution_count": 55,
   "metadata": {
    "id": "WG2FuPm2bK-3"
   },
   "outputs": [
    {
     "name": "stdout",
     "output_type": "stream",
     "text": [
      "Chi-Squared Statistic: 19.177972167356753\n",
      "P-value: 0.0038733888380696486\n",
      "Degrees of Freedom: 6\n",
      "Expected Frequencies:\n",
      " [[22.51132686 20.99029126 38.93851133 11.55987055]\n",
      " [22.99029126 21.4368932  39.76699029 11.80582524]\n",
      " [28.49838188 26.57281553 49.29449838 14.63430421]]\n"
     ]
    }
   ],
   "source": [
    "# Perform the Chi-Squared test\n",
    "chi2_stat, p_value, dof, expected = chi2_contingency(table)\n",
    "\n",
    "# Print the results\n",
    "print(\"Chi-Squared Statistic:\", chi2_stat)\n",
    "print(\"P-value:\", p_value)\n",
    "print(\"Degrees of Freedom:\", dof)\n",
    "print(\"Expected Frequencies:\\n\", expected)"
   ]
  },
  {
   "cell_type": "markdown",
   "metadata": {},
   "source": [
    "#### <p style=\"background-color:#FFFFFF; font-family:newtimeroman; color:#0000FF; font-size:125%; text-align:left;\"><strong>STEP-04: Comparing Test Statistic to Critical Value to Make a decision:</strong></p>"
   ]
  },
  {
   "cell_type": "code",
   "execution_count": 56,
   "metadata": {},
   "outputs": [
    {
     "name": "stdout",
     "output_type": "stream",
     "text": [
      "stat=19.178, p=0.0039\n",
      "We reject the null hypothesis. The two categorical variables are dependent\n"
     ]
    }
   ],
   "source": [
    "print('stat=%.3f, p=%.4f' % (chi2_stat, p_value))\n",
    "\n",
    "if p_value > 0.05:\n",
    "    print('Fail to reject Ho')\n",
    "else:\n",
    "    print('We reject the null hypothesis. The two categorical variables are dependent')"
   ]
  },
  {
   "cell_type": "markdown",
   "metadata": {},
   "source": [
    "- **``Chi-Squared Statistic``**: 12.158\n",
    "- **``P-value``**: 0.0162\n",
    "<hr>\n",
    "\n",
    "<p style=\"background-color:#FFFFFF; font-family:newtimeroman; color:#0000FF; font-size:125%; text-align:left;\">\n",
    "    👉 <span style=\"color:green;\">Decision:</span>\n",
    "</p>\n",
    "\n",
    "   - Since the p-value (0.0162) is less than the common significance level of 0.05, we reject the null hypothesis (H₀). This indicates that there is sufficient evidence to suggest that the two categorical variables—educational attainment and preference for training programs—are dependent.\n",
    "\n",
    "<p style=\"background-color:#FFFFFF; font-family:newtimeroman; color:#0000FF; font-size:125%; text-align:left;\">\n",
    "    👉 <span style=\"color:green;\">Interpretation:</span>\n",
    "</p>\n",
    "\n",
    "  - **``Dependent Relationship``**: The rejection of the null hypothesis implies that employees' preferences for training programs vary according to their educational backgrounds. In other words, the type of training program an employee prefers is influenced by their level of education.\n",
    "\n",
    "<p style=\"background-color:#FFFFFF; font-family:newtimeroman; color:#0000FF; font-size:125%; text-align:left;\">\n",
    "    👉 <span style=\"color:green;\">Practical Implications:</span>\n",
    "</p>\n",
    "\n",
    "  - This finding can inform the company's training program development. For instance, if employees with a high school diploma prefer soft skills training, while those with a master's degree lean towards technical skills, the company might consider tailoring its offerings to better match these preferences.\n",
    "  - Understanding these preferences can enhance employee satisfaction and engagement in training initiatives, ultimately leading to better skill development and productivity.\n",
    "\n",
    "<p style=\"background-color:#FFFFFF; font-family:newtimeroman; color:#0000FF; font-size:125%; text-align:left;\">\n",
    "    👉 <span style=\"color:green;\">Further Analysis:</span>\n",
    "</p>\n",
    "\n",
    "  - The company may want to conduct follow-up analyses to explore which specific educational levels most strongly influence preferences for each type of training program. This could help in refining the training strategy.\n",
    "  - Additionally, it might be useful to consider other factors (such as job roles, age, or years of experience) that could further explain variations in training preferences."
   ]
  },
  {
   "cell_type": "code",
   "execution_count": 57,
   "metadata": {
    "colab": {
     "base_uri": "https://localhost:8080/"
    },
    "executionInfo": {
     "elapsed": 329,
     "status": "ok",
     "timestamp": 1673286320374,
     "user": {
      "displayName": "Richard Thames",
      "userId": "00258987493291873022"
     },
     "user_tz": -180
    },
    "id": "rCS6ztIRKf15",
    "outputId": "3c9084ea-a12c-4936-b430-243a01ce233e"
   },
   "outputs": [
    {
     "data": {
      "text/plain": [
       "6"
      ]
     },
     "execution_count": 57,
     "metadata": {},
     "output_type": "execute_result"
    }
   ],
   "source": [
    "dof"
   ]
  },
  {
   "cell_type": "code",
   "execution_count": 58,
   "metadata": {
    "colab": {
     "base_uri": "https://localhost:8080/"
    },
    "executionInfo": {
     "elapsed": 283,
     "status": "ok",
     "timestamp": 1673286335386,
     "user": {
      "displayName": "Richard Thames",
      "userId": "00258987493291873022"
     },
     "user_tz": -180
    },
    "id": "RVTTiTxEgtEy",
    "outputId": "90428bc8-f20f-4752-aed2-d29bdd9c4f47"
   },
   "outputs": [
    {
     "data": {
      "text/plain": [
       "0.00072445577483915"
      ]
     },
     "execution_count": 58,
     "metadata": {},
     "output_type": "execute_result"
    }
   ],
   "source": [
    "# We can get the same result with manual method\n",
    "\n",
    "from scipy import stats\n",
    "\n",
    "1 - stats.chi2.cdf(19.18, 4)"
   ]
  },
  {
   "cell_type": "markdown",
   "metadata": {},
   "source": [
    "#### <p style=\"background-color:#FFFFFF; font-family:newtimeroman; color:#0000FF; font-size:125%; text-align:left;\"><strong>STEP-05: Visualizing the results:</strong></p>"
   ]
  },
  {
   "cell_type": "code",
   "execution_count": 11,
   "metadata": {},
   "outputs": [
    {
     "data": {
      "image/png": "[encoded data removed]",
      "text/plain": [
       "<Figure size 1000x500 with 1 Axes>"
      ]
     },
     "metadata": {},
     "output_type": "display_data"
    }
   ],
   "source": [
    "from scipy.stats import chi2\n",
    "\n",
    "# Given values from your chi-square test\n",
    "chi_statistic = 12.158175304914435\n",
    "calculated_p_value = 0.016212988224694105\n",
    "alpha = 0.05\n",
    "dof = 4  # Degrees of freedom for chi-square test\n",
    "\n",
    "# Define the range for the chi-square distribution plot\n",
    "x = np.linspace(-5, chi2.ppf(0.999, dof), 1000)  # Extend x-axis to cover the chi-square distribution\n",
    "\n",
    "# Calculate the chi-square distribution\n",
    "y = chi2.pdf(x, dof)\n",
    "\n",
    "# Create the plot\n",
    "plt.figure(figsize=(10, 5))\n",
    "\n",
    "# Plot the chi-square distribution\n",
    "plt.plot(x, y, color='blue')\n",
    "\n",
    "# Mark the critical chi-square value for alpha (two-tailed test)\n",
    "chi_critical = chi2.ppf(1 - alpha, dof)\n",
    "plt.axvline(chi_critical, color='red', linestyle='--', label=f'Critical chi-square value ({round(chi_critical, 2)})')\n",
    "\n",
    "# Mark the calculated chi-square statistic\n",
    "plt.axvline(chi_statistic, color='green', linestyle='-', label=f'Calculated chi-square statistic ({chi_statistic:.2f})')\n",
    "\n",
    "# Fill the area from 0 to critical chi square value with light green at defined alpha level\n",
    "plt.fill_between(x, 0, y, where=(x < chi_critical), color='lightgreen', alpha=0.5, label=f'Fail to Reject Area ({alpha})')\n",
    "\n",
    "# Fill the rejection area(s) with light red based on defined alpha level\n",
    "plt.fill_between(x, 0, y, where=(x >= chi_critical), color='lightcoral', alpha=0.5, label=f'Rejection Area ({calculated_p_value:.4f})')\n",
    "\n",
    "# Add text for p-value and alpha\n",
    "# plt.text(7, 0.3, f'p-value: {calculated_p_value:.4f}', fontsize=10)\n",
    "# plt.text(7, 0.25, f'alpha: {alpha}', fontsize=10)\n",
    "plt.text(chi_statistic + 0,  0.025, f'chi statistic: {chi_statistic:.2f}', color='green', fontsize=10, ha='center', va='top')\n",
    "plt.text(chi_critical + 0, 0.05, f'chi critical value: {chi_critical:.2f}', color='red', fontsize=10, ha='center', va='top')\n",
    "\n",
    "# Add titles and labels\n",
    "plt.title('Chi-Square Distribution with Critical Region and Statistic', color='blue')\n",
    "plt.xlabel('chi-square value')\n",
    "plt.ylabel('Probability Density')\n",
    "plt.legend(fontsize='small')\n",
    "\n",
    "# Set y-axis limit to start from zero\n",
    "plt.ylim(bottom=0)\n",
    "\n",
    "# Remove grids\n",
    "plt.grid(False)\n",
    "\n",
    "# Show the plot\n",
    "plt.show()"
   ]
  },
  {
   "cell_type": "markdown",
   "metadata": {
    "id": "gO6K8Qirx5g8"
   },
   "source": [
    "### <p style=\"background-color:#E51A59; font-family:newtimeroman; color:#FDFEFE; font-size:150%; text-align:left; border-radius:10px 10px;\">Example-02 (Titanic Dataset):</p>"
   ]
  },
  {
   "cell_type": "markdown",
   "metadata": {},
   "source": [
    "**The following code loads the Titanic dataset, which contains data about passengers on the Titanic, including features such as age, sex, fare, class, and whether they survived.**"
   ]
  },
  {
   "cell_type": "code",
   "execution_count": 12,
   "metadata": {
    "colab": {
     "base_uri": "https://localhost:8080/",
     "height": 269
    },
    "executionInfo": {
     "elapsed": 1111,
     "status": "ok",
     "timestamp": 1673287411064,
     "user": {
      "displayName": "Richard Thames",
      "userId": "00258987493291873022"
     },
     "user_tz": -180
    },
    "id": "NBd9_A9QxOYP",
    "outputId": "476b3b19-8738-4637-c86b-f0ca1f30b964"
   },
   "outputs": [
    {
     "data": {
      "text/html": [
       "<div>\n",
       "<style scoped>\n",
       "    .dataframe tbody tr th:only-of-type {\n",
       "        vertical-align: middle;\n",
       "    }\n",
       "\n",
       "    .dataframe tbody tr th {\n",
       "        vertical-align: top;\n",
       "    }\n",
       "\n",
       "    .dataframe thead th {\n",
       "        text-align: right;\n",
       "    }\n",
       "</style>\n",
       "<table border=\"1\" class=\"dataframe\">\n",
       "  <thead>\n",
       "    <tr style=\"text-align: right;\">\n",
       "      <th></th>\n",
       "      <th>survived</th>\n",
       "      <th>pclass</th>\n",
       "      <th>sex</th>\n",
       "      <th>age</th>\n",
       "      <th>sibsp</th>\n",
       "      <th>parch</th>\n",
       "      <th>fare</th>\n",
       "      <th>embarked</th>\n",
       "      <th>class</th>\n",
       "      <th>who</th>\n",
       "      <th>adult_male</th>\n",
       "      <th>deck</th>\n",
       "      <th>embark_town</th>\n",
       "      <th>alive</th>\n",
       "      <th>alone</th>\n",
       "    </tr>\n",
       "  </thead>\n",
       "  <tbody>\n",
       "    <tr>\n",
       "      <th>328</th>\n",
       "      <td>1</td>\n",
       "      <td>3</td>\n",
       "      <td>female</td>\n",
       "      <td>31.0</td>\n",
       "      <td>1</td>\n",
       "      <td>1</td>\n",
       "      <td>20.5250</td>\n",
       "      <td>S</td>\n",
       "      <td>Third</td>\n",
       "      <td>woman</td>\n",
       "      <td>False</td>\n",
       "      <td>NaN</td>\n",
       "      <td>Southampton</td>\n",
       "      <td>yes</td>\n",
       "      <td>False</td>\n",
       "    </tr>\n",
       "    <tr>\n",
       "      <th>738</th>\n",
       "      <td>0</td>\n",
       "      <td>3</td>\n",
       "      <td>male</td>\n",
       "      <td>NaN</td>\n",
       "      <td>0</td>\n",
       "      <td>0</td>\n",
       "      <td>7.8958</td>\n",
       "      <td>S</td>\n",
       "      <td>Third</td>\n",
       "      <td>man</td>\n",
       "      <td>True</td>\n",
       "      <td>NaN</td>\n",
       "      <td>Southampton</td>\n",
       "      <td>no</td>\n",
       "      <td>True</td>\n",
       "    </tr>\n",
       "    <tr>\n",
       "      <th>390</th>\n",
       "      <td>1</td>\n",
       "      <td>1</td>\n",
       "      <td>male</td>\n",
       "      <td>36.0</td>\n",
       "      <td>1</td>\n",
       "      <td>2</td>\n",
       "      <td>120.0000</td>\n",
       "      <td>S</td>\n",
       "      <td>First</td>\n",
       "      <td>man</td>\n",
       "      <td>True</td>\n",
       "      <td>B</td>\n",
       "      <td>Southampton</td>\n",
       "      <td>yes</td>\n",
       "      <td>False</td>\n",
       "    </tr>\n",
       "    <tr>\n",
       "      <th>308</th>\n",
       "      <td>0</td>\n",
       "      <td>2</td>\n",
       "      <td>male</td>\n",
       "      <td>30.0</td>\n",
       "      <td>1</td>\n",
       "      <td>0</td>\n",
       "      <td>24.0000</td>\n",
       "      <td>C</td>\n",
       "      <td>Second</td>\n",
       "      <td>man</td>\n",
       "      <td>True</td>\n",
       "      <td>NaN</td>\n",
       "      <td>Cherbourg</td>\n",
       "      <td>no</td>\n",
       "      <td>False</td>\n",
       "    </tr>\n",
       "    <tr>\n",
       "      <th>648</th>\n",
       "      <td>0</td>\n",
       "      <td>3</td>\n",
       "      <td>male</td>\n",
       "      <td>NaN</td>\n",
       "      <td>0</td>\n",
       "      <td>0</td>\n",
       "      <td>7.5500</td>\n",
       "      <td>S</td>\n",
       "      <td>Third</td>\n",
       "      <td>man</td>\n",
       "      <td>True</td>\n",
       "      <td>NaN</td>\n",
       "      <td>Southampton</td>\n",
       "      <td>no</td>\n",
       "      <td>True</td>\n",
       "    </tr>\n",
       "    <tr>\n",
       "      <th>675</th>\n",
       "      <td>0</td>\n",
       "      <td>3</td>\n",
       "      <td>male</td>\n",
       "      <td>18.0</td>\n",
       "      <td>0</td>\n",
       "      <td>0</td>\n",
       "      <td>7.7750</td>\n",
       "      <td>S</td>\n",
       "      <td>Third</td>\n",
       "      <td>man</td>\n",
       "      <td>True</td>\n",
       "      <td>NaN</td>\n",
       "      <td>Southampton</td>\n",
       "      <td>no</td>\n",
       "      <td>True</td>\n",
       "    </tr>\n",
       "    <tr>\n",
       "      <th>756</th>\n",
       "      <td>0</td>\n",
       "      <td>3</td>\n",
       "      <td>male</td>\n",
       "      <td>28.0</td>\n",
       "      <td>0</td>\n",
       "      <td>0</td>\n",
       "      <td>7.7958</td>\n",
       "      <td>S</td>\n",
       "      <td>Third</td>\n",
       "      <td>man</td>\n",
       "      <td>True</td>\n",
       "      <td>NaN</td>\n",
       "      <td>Southampton</td>\n",
       "      <td>no</td>\n",
       "      <td>True</td>\n",
       "    </tr>\n",
       "    <tr>\n",
       "      <th>180</th>\n",
       "      <td>0</td>\n",
       "      <td>3</td>\n",
       "      <td>female</td>\n",
       "      <td>NaN</td>\n",
       "      <td>8</td>\n",
       "      <td>2</td>\n",
       "      <td>69.5500</td>\n",
       "      <td>S</td>\n",
       "      <td>Third</td>\n",
       "      <td>woman</td>\n",
       "      <td>False</td>\n",
       "      <td>NaN</td>\n",
       "      <td>Southampton</td>\n",
       "      <td>no</td>\n",
       "      <td>False</td>\n",
       "    </tr>\n",
       "    <tr>\n",
       "      <th>887</th>\n",
       "      <td>1</td>\n",
       "      <td>1</td>\n",
       "      <td>female</td>\n",
       "      <td>19.0</td>\n",
       "      <td>0</td>\n",
       "      <td>0</td>\n",
       "      <td>30.0000</td>\n",
       "      <td>S</td>\n",
       "      <td>First</td>\n",
       "      <td>woman</td>\n",
       "      <td>False</td>\n",
       "      <td>B</td>\n",
       "      <td>Southampton</td>\n",
       "      <td>yes</td>\n",
       "      <td>True</td>\n",
       "    </tr>\n",
       "    <tr>\n",
       "      <th>588</th>\n",
       "      <td>0</td>\n",
       "      <td>3</td>\n",
       "      <td>male</td>\n",
       "      <td>22.0</td>\n",
       "      <td>0</td>\n",
       "      <td>0</td>\n",
       "      <td>8.0500</td>\n",
       "      <td>S</td>\n",
       "      <td>Third</td>\n",
       "      <td>man</td>\n",
       "      <td>True</td>\n",
       "      <td>NaN</td>\n",
       "      <td>Southampton</td>\n",
       "      <td>no</td>\n",
       "      <td>True</td>\n",
       "    </tr>\n",
       "  </tbody>\n",
       "</table>\n",
       "</div>"
      ],
      "text/plain": [
       "     survived  pclass     sex   age  sibsp  parch      fare embarked   class  \\\n",
       "328         1       3  female  31.0      1      1   20.5250        S   Third   \n",
       "738         0       3    male   NaN      0      0    7.8958        S   Third   \n",
       "390         1       1    male  36.0      1      2  120.0000        S   First   \n",
       "308         0       2    male  30.0      1      0   24.0000        C  Second   \n",
       "648         0       3    male   NaN      0      0    7.5500        S   Third   \n",
       "675         0       3    male  18.0      0      0    7.7750        S   Third   \n",
       "756         0       3    male  28.0      0      0    7.7958        S   Third   \n",
       "180         0       3  female   NaN      8      2   69.5500        S   Third   \n",
       "887         1       1  female  19.0      0      0   30.0000        S   First   \n",
       "588         0       3    male  22.0      0      0    8.0500        S   Third   \n",
       "\n",
       "       who  adult_male deck  embark_town alive  alone  \n",
       "328  woman       False  NaN  Southampton   yes  False  \n",
       "738    man        True  NaN  Southampton    no   True  \n",
       "390    man        True    B  Southampton   yes  False  \n",
       "308    man        True  NaN    Cherbourg    no  False  \n",
       "648    man        True  NaN  Southampton    no   True  \n",
       "675    man        True  NaN  Southampton    no   True  \n",
       "756    man        True  NaN  Southampton    no   True  \n",
       "180  woman       False  NaN  Southampton    no  False  \n",
       "887  woman       False    B  Southampton   yes   True  \n",
       "588    man        True  NaN  Southampton    no   True  "
      ]
     },
     "execution_count": 12,
     "metadata": {},
     "output_type": "execute_result"
    }
   ],
   "source": [
    "# Load dataset\n",
    "titanic = sns.load_dataset(\"titanic\")\n",
    "\n",
    "# Retrieve a random sample of 10 rows from the Titanic DataFrame. \n",
    "titanic.sample(10)"
   ]
  },
  {
   "cell_type": "markdown",
   "metadata": {},
   "source": [
    "<p style=\"background-color:#FFFFFF; font-family:newtimeroman; color:#0000FF; font-size:125%; text-align:left;\">\n",
    "    👉 <span style=\"color:green;\">Columns in the Titanic Dataset:</span>\n",
    "</p>\n",
    "\n",
    "- **``survived``**: Indicates whether the passenger survived (1) or did not survive (0).\n",
    "- **``pclass``**: Represents the class of the ticket (1st, 2nd, or 3rd).\n",
    "- **``sex``**: The gender of the passenger (male or female).\n",
    "- **``age``**: The age of the passenger. This may include NaN (missing values) for some entries.\n",
    "- **``sibsp``**: The number of siblings or spouses that the passenger had aboard the Titanic.\n",
    "- **``parch``**: The number of parents or children that the passenger had aboard the Titanic.\n",
    "- **``fare``**: The fare paid for the ticket, which can vary widely.\n",
    "- **``embarked``**: The port where the passenger boarded the Titanic. Values include:\n",
    "   - C: Cherbourg\n",
    "   - Q: Queenstown\n",
    "   - S: Southampton\n",
    "- **``class``**: A categorical representation of the passenger's class (1st, 2nd, or 3rd).\n",
    "- **``who``**: A categorical variable indicating whether the passenger is an adult male, adult female, or child.\n",
    "- **``adult_male``**: A boolean value indicating if the passenger is an adult male (True) or not (False).\n",
    "- **``deck``**: The deck on which the passenger's cabin was located (if available).\n",
    "- **``embark_town``**: The town from which the passenger embarked, which can include Cherbourg, Queenstown, or Southampton.\n",
    "- **``alive``**: A categorical representation indicating whether the passenger was alive (yes) or not (no).\n",
    "- **``alone``**: A boolean value indicating whether the passenger was traveling alone (True) or not (False)."
   ]
  },
  {
   "cell_type": "markdown",
   "metadata": {
    "id": "WiOPrCk6xlkf"
   },
   "source": [
    "**⭐ How many rows and columns we have in Titanic Dataset?**"
   ]
  },
  {
   "cell_type": "code",
   "execution_count": 13,
   "metadata": {
    "colab": {
     "base_uri": "https://localhost:8080/"
    },
    "executionInfo": {
     "elapsed": 303,
     "status": "ok",
     "timestamp": 1673287509989,
     "user": {
      "displayName": "Richard Thames",
      "userId": "00258987493291873022"
     },
     "user_tz": -180
    },
    "id": "7p5GepbvxWxS",
    "outputId": "edbca15a-a3ff-4467-a514-ebe72893b518"
   },
   "outputs": [
    {
     "data": {
      "text/plain": [
       "(891, 15)"
      ]
     },
     "execution_count": 13,
     "metadata": {},
     "output_type": "execute_result"
    }
   ],
   "source": [
    "# Get the dimensions of the Titanic DataFrame\n",
    "\n",
    "titanic.shape"
   ]
  },
  {
   "cell_type": "markdown",
   "metadata": {
    "id": "ZPdQIWt2z7LL"
   },
   "source": [
    "**⭐ How many null values are there in the features/columns?**"
   ]
  },
  {
   "cell_type": "code",
   "execution_count": 14,
   "metadata": {
    "colab": {
     "base_uri": "https://localhost:8080/"
    },
    "executionInfo": {
     "elapsed": 345,
     "status": "ok",
     "timestamp": 1673287521423,
     "user": {
      "displayName": "Richard Thames",
      "userId": "00258987493291873022"
     },
     "user_tz": -180
    },
    "id": "pzdJZdGDx41l",
    "outputId": "041b3f4d-ca7b-49d8-8c36-3e0e26c739b5"
   },
   "outputs": [
    {
     "data": {
      "text/plain": [
       "survived         0\n",
       "pclass           0\n",
       "sex              0\n",
       "age            177\n",
       "sibsp            0\n",
       "parch            0\n",
       "fare             0\n",
       "embarked         2\n",
       "class            0\n",
       "who              0\n",
       "adult_male       0\n",
       "deck           688\n",
       "embark_town      2\n",
       "alive            0\n",
       "alone            0\n",
       "dtype: int64"
      ]
     },
     "execution_count": 14,
     "metadata": {},
     "output_type": "execute_result"
    }
   ],
   "source": [
    "# check for missing values in the Titanic DataFrame\n",
    "\n",
    "titanic.isnull().sum()"
   ]
  },
  {
   "cell_type": "markdown",
   "metadata": {},
   "source": [
    "- **``Columns with Missing Values``**:\n",
    "  - **``age``**: 177 missing values\n",
    "  - **``embarked``**: 2 missing values\n",
    "  - **``deck``**: 688 missing values\n",
    "  - **``embark_town``**: 2 missing values\n",
    "- **``Columns without Missing Values``**: All other columns have no missing values.\n",
    "<hr>\n",
    "\n",
    "- **``Importance of Missing Values:``**\n",
    "  - **``Handling Missing Data``**: When analyzing the Titanic dataset, it's important to address these missing values.        Depending on the analysis, you might choose to:\n",
    "    - Fill missing values with the mean, median, or mode.\n",
    "    - Drop rows with missing values.\n",
    "    - Use more advanced imputation techniques."
   ]
  },
  {
   "cell_type": "code",
   "execution_count": 15,
   "metadata": {},
   "outputs": [
    {
     "data": {
      "text/html": [
       "<div>\n",
       "<style scoped>\n",
       "    .dataframe tbody tr th:only-of-type {\n",
       "        vertical-align: middle;\n",
       "    }\n",
       "\n",
       "    .dataframe tbody tr th {\n",
       "        vertical-align: top;\n",
       "    }\n",
       "\n",
       "    .dataframe thead th {\n",
       "        text-align: right;\n",
       "    }\n",
       "</style>\n",
       "<table border=\"1\" class=\"dataframe\">\n",
       "  <thead>\n",
       "    <tr style=\"text-align: right;\">\n",
       "      <th></th>\n",
       "      <th>survived</th>\n",
       "      <th>pclass</th>\n",
       "      <th>sex</th>\n",
       "      <th>age</th>\n",
       "      <th>sibsp</th>\n",
       "      <th>parch</th>\n",
       "      <th>fare</th>\n",
       "      <th>embarked</th>\n",
       "      <th>class</th>\n",
       "      <th>who</th>\n",
       "      <th>adult_male</th>\n",
       "      <th>deck</th>\n",
       "      <th>embark_town</th>\n",
       "      <th>alive</th>\n",
       "      <th>alone</th>\n",
       "    </tr>\n",
       "  </thead>\n",
       "  <tbody>\n",
       "    <tr>\n",
       "      <th>0</th>\n",
       "      <td>0</td>\n",
       "      <td>3</td>\n",
       "      <td>male</td>\n",
       "      <td>22.0</td>\n",
       "      <td>1</td>\n",
       "      <td>0</td>\n",
       "      <td>7.2500</td>\n",
       "      <td>S</td>\n",
       "      <td>Third</td>\n",
       "      <td>man</td>\n",
       "      <td>True</td>\n",
       "      <td>NaN</td>\n",
       "      <td>Southampton</td>\n",
       "      <td>no</td>\n",
       "      <td>False</td>\n",
       "    </tr>\n",
       "    <tr>\n",
       "      <th>1</th>\n",
       "      <td>1</td>\n",
       "      <td>1</td>\n",
       "      <td>female</td>\n",
       "      <td>38.0</td>\n",
       "      <td>1</td>\n",
       "      <td>0</td>\n",
       "      <td>71.2833</td>\n",
       "      <td>C</td>\n",
       "      <td>First</td>\n",
       "      <td>woman</td>\n",
       "      <td>False</td>\n",
       "      <td>C</td>\n",
       "      <td>Cherbourg</td>\n",
       "      <td>yes</td>\n",
       "      <td>False</td>\n",
       "    </tr>\n",
       "    <tr>\n",
       "      <th>2</th>\n",
       "      <td>1</td>\n",
       "      <td>3</td>\n",
       "      <td>female</td>\n",
       "      <td>26.0</td>\n",
       "      <td>0</td>\n",
       "      <td>0</td>\n",
       "      <td>7.9250</td>\n",
       "      <td>S</td>\n",
       "      <td>Third</td>\n",
       "      <td>woman</td>\n",
       "      <td>False</td>\n",
       "      <td>NaN</td>\n",
       "      <td>Southampton</td>\n",
       "      <td>yes</td>\n",
       "      <td>True</td>\n",
       "    </tr>\n",
       "    <tr>\n",
       "      <th>3</th>\n",
       "      <td>1</td>\n",
       "      <td>1</td>\n",
       "      <td>female</td>\n",
       "      <td>35.0</td>\n",
       "      <td>1</td>\n",
       "      <td>0</td>\n",
       "      <td>53.1000</td>\n",
       "      <td>S</td>\n",
       "      <td>First</td>\n",
       "      <td>woman</td>\n",
       "      <td>False</td>\n",
       "      <td>C</td>\n",
       "      <td>Southampton</td>\n",
       "      <td>yes</td>\n",
       "      <td>False</td>\n",
       "    </tr>\n",
       "    <tr>\n",
       "      <th>4</th>\n",
       "      <td>0</td>\n",
       "      <td>3</td>\n",
       "      <td>male</td>\n",
       "      <td>35.0</td>\n",
       "      <td>0</td>\n",
       "      <td>0</td>\n",
       "      <td>8.0500</td>\n",
       "      <td>S</td>\n",
       "      <td>Third</td>\n",
       "      <td>man</td>\n",
       "      <td>True</td>\n",
       "      <td>NaN</td>\n",
       "      <td>Southampton</td>\n",
       "      <td>no</td>\n",
       "      <td>True</td>\n",
       "    </tr>\n",
       "  </tbody>\n",
       "</table>\n",
       "</div>"
      ],
      "text/plain": [
       "   survived  pclass     sex   age  sibsp  parch     fare embarked  class  \\\n",
       "0         0       3    male  22.0      1      0   7.2500        S  Third   \n",
       "1         1       1  female  38.0      1      0  71.2833        C  First   \n",
       "2         1       3  female  26.0      0      0   7.9250        S  Third   \n",
       "3         1       1  female  35.0      1      0  53.1000        S  First   \n",
       "4         0       3    male  35.0      0      0   8.0500        S  Third   \n",
       "\n",
       "     who  adult_male deck  embark_town alive  alone  \n",
       "0    man        True  NaN  Southampton    no  False  \n",
       "1  woman       False    C    Cherbourg   yes  False  \n",
       "2  woman       False  NaN  Southampton   yes   True  \n",
       "3  woman       False    C  Southampton   yes  False  \n",
       "4    man        True  NaN  Southampton    no   True  "
      ]
     },
     "execution_count": 15,
     "metadata": {},
     "output_type": "execute_result"
    }
   ],
   "source": [
    "# Display the first five entries\n",
    "\n",
    "titanic.head()"
   ]
  },
  {
   "cell_type": "markdown",
   "metadata": {},
   "source": [
    "**The following code removes the columns ``\"deck\"`` and ``\"age\"`` from the Titanic DataFrame.**"
   ]
  },
  {
   "cell_type": "code",
   "execution_count": 16,
   "metadata": {
    "id": "mKBpmAhJyc3I"
   },
   "outputs": [
    {
     "data": {
      "text/html": [
       "<div>\n",
       "<style scoped>\n",
       "    .dataframe tbody tr th:only-of-type {\n",
       "        vertical-align: middle;\n",
       "    }\n",
       "\n",
       "    .dataframe tbody tr th {\n",
       "        vertical-align: top;\n",
       "    }\n",
       "\n",
       "    .dataframe thead th {\n",
       "        text-align: right;\n",
       "    }\n",
       "</style>\n",
       "<table border=\"1\" class=\"dataframe\">\n",
       "  <thead>\n",
       "    <tr style=\"text-align: right;\">\n",
       "      <th></th>\n",
       "      <th>survived</th>\n",
       "      <th>pclass</th>\n",
       "      <th>sex</th>\n",
       "      <th>sibsp</th>\n",
       "      <th>parch</th>\n",
       "      <th>fare</th>\n",
       "      <th>embarked</th>\n",
       "      <th>class</th>\n",
       "      <th>who</th>\n",
       "      <th>adult_male</th>\n",
       "      <th>embark_town</th>\n",
       "      <th>alive</th>\n",
       "      <th>alone</th>\n",
       "    </tr>\n",
       "  </thead>\n",
       "  <tbody>\n",
       "    <tr>\n",
       "      <th>0</th>\n",
       "      <td>0</td>\n",
       "      <td>3</td>\n",
       "      <td>male</td>\n",
       "      <td>1</td>\n",
       "      <td>0</td>\n",
       "      <td>7.2500</td>\n",
       "      <td>S</td>\n",
       "      <td>Third</td>\n",
       "      <td>man</td>\n",
       "      <td>True</td>\n",
       "      <td>Southampton</td>\n",
       "      <td>no</td>\n",
       "      <td>False</td>\n",
       "    </tr>\n",
       "    <tr>\n",
       "      <th>1</th>\n",
       "      <td>1</td>\n",
       "      <td>1</td>\n",
       "      <td>female</td>\n",
       "      <td>1</td>\n",
       "      <td>0</td>\n",
       "      <td>71.2833</td>\n",
       "      <td>C</td>\n",
       "      <td>First</td>\n",
       "      <td>woman</td>\n",
       "      <td>False</td>\n",
       "      <td>Cherbourg</td>\n",
       "      <td>yes</td>\n",
       "      <td>False</td>\n",
       "    </tr>\n",
       "    <tr>\n",
       "      <th>2</th>\n",
       "      <td>1</td>\n",
       "      <td>3</td>\n",
       "      <td>female</td>\n",
       "      <td>0</td>\n",
       "      <td>0</td>\n",
       "      <td>7.9250</td>\n",
       "      <td>S</td>\n",
       "      <td>Third</td>\n",
       "      <td>woman</td>\n",
       "      <td>False</td>\n",
       "      <td>Southampton</td>\n",
       "      <td>yes</td>\n",
       "      <td>True</td>\n",
       "    </tr>\n",
       "    <tr>\n",
       "      <th>3</th>\n",
       "      <td>1</td>\n",
       "      <td>1</td>\n",
       "      <td>female</td>\n",
       "      <td>1</td>\n",
       "      <td>0</td>\n",
       "      <td>53.1000</td>\n",
       "      <td>S</td>\n",
       "      <td>First</td>\n",
       "      <td>woman</td>\n",
       "      <td>False</td>\n",
       "      <td>Southampton</td>\n",
       "      <td>yes</td>\n",
       "      <td>False</td>\n",
       "    </tr>\n",
       "    <tr>\n",
       "      <th>4</th>\n",
       "      <td>0</td>\n",
       "      <td>3</td>\n",
       "      <td>male</td>\n",
       "      <td>0</td>\n",
       "      <td>0</td>\n",
       "      <td>8.0500</td>\n",
       "      <td>S</td>\n",
       "      <td>Third</td>\n",
       "      <td>man</td>\n",
       "      <td>True</td>\n",
       "      <td>Southampton</td>\n",
       "      <td>no</td>\n",
       "      <td>True</td>\n",
       "    </tr>\n",
       "    <tr>\n",
       "      <th>...</th>\n",
       "      <td>...</td>\n",
       "      <td>...</td>\n",
       "      <td>...</td>\n",
       "      <td>...</td>\n",
       "      <td>...</td>\n",
       "      <td>...</td>\n",
       "      <td>...</td>\n",
       "      <td>...</td>\n",
       "      <td>...</td>\n",
       "      <td>...</td>\n",
       "      <td>...</td>\n",
       "      <td>...</td>\n",
       "      <td>...</td>\n",
       "    </tr>\n",
       "    <tr>\n",
       "      <th>886</th>\n",
       "      <td>0</td>\n",
       "      <td>2</td>\n",
       "      <td>male</td>\n",
       "      <td>0</td>\n",
       "      <td>0</td>\n",
       "      <td>13.0000</td>\n",
       "      <td>S</td>\n",
       "      <td>Second</td>\n",
       "      <td>man</td>\n",
       "      <td>True</td>\n",
       "      <td>Southampton</td>\n",
       "      <td>no</td>\n",
       "      <td>True</td>\n",
       "    </tr>\n",
       "    <tr>\n",
       "      <th>887</th>\n",
       "      <td>1</td>\n",
       "      <td>1</td>\n",
       "      <td>female</td>\n",
       "      <td>0</td>\n",
       "      <td>0</td>\n",
       "      <td>30.0000</td>\n",
       "      <td>S</td>\n",
       "      <td>First</td>\n",
       "      <td>woman</td>\n",
       "      <td>False</td>\n",
       "      <td>Southampton</td>\n",
       "      <td>yes</td>\n",
       "      <td>True</td>\n",
       "    </tr>\n",
       "    <tr>\n",
       "      <th>888</th>\n",
       "      <td>0</td>\n",
       "      <td>3</td>\n",
       "      <td>female</td>\n",
       "      <td>1</td>\n",
       "      <td>2</td>\n",
       "      <td>23.4500</td>\n",
       "      <td>S</td>\n",
       "      <td>Third</td>\n",
       "      <td>woman</td>\n",
       "      <td>False</td>\n",
       "      <td>Southampton</td>\n",
       "      <td>no</td>\n",
       "      <td>False</td>\n",
       "    </tr>\n",
       "    <tr>\n",
       "      <th>889</th>\n",
       "      <td>1</td>\n",
       "      <td>1</td>\n",
       "      <td>male</td>\n",
       "      <td>0</td>\n",
       "      <td>0</td>\n",
       "      <td>30.0000</td>\n",
       "      <td>C</td>\n",
       "      <td>First</td>\n",
       "      <td>man</td>\n",
       "      <td>True</td>\n",
       "      <td>Cherbourg</td>\n",
       "      <td>yes</td>\n",
       "      <td>True</td>\n",
       "    </tr>\n",
       "    <tr>\n",
       "      <th>890</th>\n",
       "      <td>0</td>\n",
       "      <td>3</td>\n",
       "      <td>male</td>\n",
       "      <td>0</td>\n",
       "      <td>0</td>\n",
       "      <td>7.7500</td>\n",
       "      <td>Q</td>\n",
       "      <td>Third</td>\n",
       "      <td>man</td>\n",
       "      <td>True</td>\n",
       "      <td>Queenstown</td>\n",
       "      <td>no</td>\n",
       "      <td>True</td>\n",
       "    </tr>\n",
       "  </tbody>\n",
       "</table>\n",
       "<p>891 rows × 13 columns</p>\n",
       "</div>"
      ],
      "text/plain": [
       "     survived  pclass     sex  sibsp  parch     fare embarked   class    who  \\\n",
       "0           0       3    male      1      0   7.2500        S   Third    man   \n",
       "1           1       1  female      1      0  71.2833        C   First  woman   \n",
       "2           1       3  female      0      0   7.9250        S   Third  woman   \n",
       "3           1       1  female      1      0  53.1000        S   First  woman   \n",
       "4           0       3    male      0      0   8.0500        S   Third    man   \n",
       "..        ...     ...     ...    ...    ...      ...      ...     ...    ...   \n",
       "886         0       2    male      0      0  13.0000        S  Second    man   \n",
       "887         1       1  female      0      0  30.0000        S   First  woman   \n",
       "888         0       3  female      1      2  23.4500        S   Third  woman   \n",
       "889         1       1    male      0      0  30.0000        C   First    man   \n",
       "890         0       3    male      0      0   7.7500        Q   Third    man   \n",
       "\n",
       "     adult_male  embark_town alive  alone  \n",
       "0          True  Southampton    no  False  \n",
       "1         False    Cherbourg   yes  False  \n",
       "2         False  Southampton   yes   True  \n",
       "3         False  Southampton   yes  False  \n",
       "4          True  Southampton    no   True  \n",
       "..          ...          ...   ...    ...  \n",
       "886        True  Southampton    no   True  \n",
       "887       False  Southampton   yes   True  \n",
       "888       False  Southampton    no  False  \n",
       "889        True    Cherbourg   yes   True  \n",
       "890        True   Queenstown    no   True  \n",
       "\n",
       "[891 rows x 13 columns]"
      ]
     },
     "execution_count": 16,
     "metadata": {},
     "output_type": "execute_result"
    }
   ],
   "source": [
    "titanic.drop([\"deck\", \"age\"], axis=1, inplace=True)\n",
    "\n",
    "# Display the first and last five entries\n",
    "titanic"
   ]
  },
  {
   "cell_type": "code",
   "execution_count": 17,
   "metadata": {},
   "outputs": [
    {
     "name": "stdout",
     "output_type": "stream",
     "text": [
      "<class 'pandas.core.frame.DataFrame'>\n",
      "RangeIndex: 891 entries, 0 to 890\n",
      "Data columns (total 13 columns):\n",
      " #   Column       Non-Null Count  Dtype   \n",
      "---  ------       --------------  -----   \n",
      " 0   survived     891 non-null    int64   \n",
      " 1   pclass       891 non-null    int64   \n",
      " 2   sex          891 non-null    object  \n",
      " 3   sibsp        891 non-null    int64   \n",
      " 4   parch        891 non-null    int64   \n",
      " 5   fare         891 non-null    float64 \n",
      " 6   embarked     889 non-null    object  \n",
      " 7   class        891 non-null    category\n",
      " 8   who          891 non-null    object  \n",
      " 9   adult_male   891 non-null    bool    \n",
      " 10  embark_town  889 non-null    object  \n",
      " 11  alive        891 non-null    object  \n",
      " 12  alone        891 non-null    bool    \n",
      "dtypes: bool(2), category(1), float64(1), int64(4), object(5)\n",
      "memory usage: 72.5+ KB\n"
     ]
    }
   ],
   "source": [
    "# Get the summary of the DataFrame\n",
    "\n",
    "titanic.info()"
   ]
  },
  {
   "cell_type": "markdown",
   "metadata": {},
   "source": [
    "**The following code ``removes any rows`` from the Titanic DataFrame that contain missing values.** "
   ]
  },
  {
   "cell_type": "code",
   "execution_count": 18,
   "metadata": {
    "id": "W0woGl-KxvQu"
   },
   "outputs": [
    {
     "data": {
      "text/html": [
       "<div>\n",
       "<style scoped>\n",
       "    .dataframe tbody tr th:only-of-type {\n",
       "        vertical-align: middle;\n",
       "    }\n",
       "\n",
       "    .dataframe tbody tr th {\n",
       "        vertical-align: top;\n",
       "    }\n",
       "\n",
       "    .dataframe thead th {\n",
       "        text-align: right;\n",
       "    }\n",
       "</style>\n",
       "<table border=\"1\" class=\"dataframe\">\n",
       "  <thead>\n",
       "    <tr style=\"text-align: right;\">\n",
       "      <th></th>\n",
       "      <th>survived</th>\n",
       "      <th>pclass</th>\n",
       "      <th>sex</th>\n",
       "      <th>sibsp</th>\n",
       "      <th>parch</th>\n",
       "      <th>fare</th>\n",
       "      <th>embarked</th>\n",
       "      <th>class</th>\n",
       "      <th>who</th>\n",
       "      <th>adult_male</th>\n",
       "      <th>embark_town</th>\n",
       "      <th>alive</th>\n",
       "      <th>alone</th>\n",
       "    </tr>\n",
       "  </thead>\n",
       "  <tbody>\n",
       "    <tr>\n",
       "      <th>0</th>\n",
       "      <td>0</td>\n",
       "      <td>3</td>\n",
       "      <td>male</td>\n",
       "      <td>1</td>\n",
       "      <td>0</td>\n",
       "      <td>7.2500</td>\n",
       "      <td>S</td>\n",
       "      <td>Third</td>\n",
       "      <td>man</td>\n",
       "      <td>True</td>\n",
       "      <td>Southampton</td>\n",
       "      <td>no</td>\n",
       "      <td>False</td>\n",
       "    </tr>\n",
       "    <tr>\n",
       "      <th>1</th>\n",
       "      <td>1</td>\n",
       "      <td>1</td>\n",
       "      <td>female</td>\n",
       "      <td>1</td>\n",
       "      <td>0</td>\n",
       "      <td>71.2833</td>\n",
       "      <td>C</td>\n",
       "      <td>First</td>\n",
       "      <td>woman</td>\n",
       "      <td>False</td>\n",
       "      <td>Cherbourg</td>\n",
       "      <td>yes</td>\n",
       "      <td>False</td>\n",
       "    </tr>\n",
       "    <tr>\n",
       "      <th>2</th>\n",
       "      <td>1</td>\n",
       "      <td>3</td>\n",
       "      <td>female</td>\n",
       "      <td>0</td>\n",
       "      <td>0</td>\n",
       "      <td>7.9250</td>\n",
       "      <td>S</td>\n",
       "      <td>Third</td>\n",
       "      <td>woman</td>\n",
       "      <td>False</td>\n",
       "      <td>Southampton</td>\n",
       "      <td>yes</td>\n",
       "      <td>True</td>\n",
       "    </tr>\n",
       "    <tr>\n",
       "      <th>3</th>\n",
       "      <td>1</td>\n",
       "      <td>1</td>\n",
       "      <td>female</td>\n",
       "      <td>1</td>\n",
       "      <td>0</td>\n",
       "      <td>53.1000</td>\n",
       "      <td>S</td>\n",
       "      <td>First</td>\n",
       "      <td>woman</td>\n",
       "      <td>False</td>\n",
       "      <td>Southampton</td>\n",
       "      <td>yes</td>\n",
       "      <td>False</td>\n",
       "    </tr>\n",
       "    <tr>\n",
       "      <th>4</th>\n",
       "      <td>0</td>\n",
       "      <td>3</td>\n",
       "      <td>male</td>\n",
       "      <td>0</td>\n",
       "      <td>0</td>\n",
       "      <td>8.0500</td>\n",
       "      <td>S</td>\n",
       "      <td>Third</td>\n",
       "      <td>man</td>\n",
       "      <td>True</td>\n",
       "      <td>Southampton</td>\n",
       "      <td>no</td>\n",
       "      <td>True</td>\n",
       "    </tr>\n",
       "    <tr>\n",
       "      <th>...</th>\n",
       "      <td>...</td>\n",
       "      <td>...</td>\n",
       "      <td>...</td>\n",
       "      <td>...</td>\n",
       "      <td>...</td>\n",
       "      <td>...</td>\n",
       "      <td>...</td>\n",
       "      <td>...</td>\n",
       "      <td>...</td>\n",
       "      <td>...</td>\n",
       "      <td>...</td>\n",
       "      <td>...</td>\n",
       "      <td>...</td>\n",
       "    </tr>\n",
       "    <tr>\n",
       "      <th>886</th>\n",
       "      <td>0</td>\n",
       "      <td>2</td>\n",
       "      <td>male</td>\n",
       "      <td>0</td>\n",
       "      <td>0</td>\n",
       "      <td>13.0000</td>\n",
       "      <td>S</td>\n",
       "      <td>Second</td>\n",
       "      <td>man</td>\n",
       "      <td>True</td>\n",
       "      <td>Southampton</td>\n",
       "      <td>no</td>\n",
       "      <td>True</td>\n",
       "    </tr>\n",
       "    <tr>\n",
       "      <th>887</th>\n",
       "      <td>1</td>\n",
       "      <td>1</td>\n",
       "      <td>female</td>\n",
       "      <td>0</td>\n",
       "      <td>0</td>\n",
       "      <td>30.0000</td>\n",
       "      <td>S</td>\n",
       "      <td>First</td>\n",
       "      <td>woman</td>\n",
       "      <td>False</td>\n",
       "      <td>Southampton</td>\n",
       "      <td>yes</td>\n",
       "      <td>True</td>\n",
       "    </tr>\n",
       "    <tr>\n",
       "      <th>888</th>\n",
       "      <td>0</td>\n",
       "      <td>3</td>\n",
       "      <td>female</td>\n",
       "      <td>1</td>\n",
       "      <td>2</td>\n",
       "      <td>23.4500</td>\n",
       "      <td>S</td>\n",
       "      <td>Third</td>\n",
       "      <td>woman</td>\n",
       "      <td>False</td>\n",
       "      <td>Southampton</td>\n",
       "      <td>no</td>\n",
       "      <td>False</td>\n",
       "    </tr>\n",
       "    <tr>\n",
       "      <th>889</th>\n",
       "      <td>1</td>\n",
       "      <td>1</td>\n",
       "      <td>male</td>\n",
       "      <td>0</td>\n",
       "      <td>0</td>\n",
       "      <td>30.0000</td>\n",
       "      <td>C</td>\n",
       "      <td>First</td>\n",
       "      <td>man</td>\n",
       "      <td>True</td>\n",
       "      <td>Cherbourg</td>\n",
       "      <td>yes</td>\n",
       "      <td>True</td>\n",
       "    </tr>\n",
       "    <tr>\n",
       "      <th>890</th>\n",
       "      <td>0</td>\n",
       "      <td>3</td>\n",
       "      <td>male</td>\n",
       "      <td>0</td>\n",
       "      <td>0</td>\n",
       "      <td>7.7500</td>\n",
       "      <td>Q</td>\n",
       "      <td>Third</td>\n",
       "      <td>man</td>\n",
       "      <td>True</td>\n",
       "      <td>Queenstown</td>\n",
       "      <td>no</td>\n",
       "      <td>True</td>\n",
       "    </tr>\n",
       "  </tbody>\n",
       "</table>\n",
       "<p>889 rows × 13 columns</p>\n",
       "</div>"
      ],
      "text/plain": [
       "     survived  pclass     sex  sibsp  parch     fare embarked   class    who  \\\n",
       "0           0       3    male      1      0   7.2500        S   Third    man   \n",
       "1           1       1  female      1      0  71.2833        C   First  woman   \n",
       "2           1       3  female      0      0   7.9250        S   Third  woman   \n",
       "3           1       1  female      1      0  53.1000        S   First  woman   \n",
       "4           0       3    male      0      0   8.0500        S   Third    man   \n",
       "..        ...     ...     ...    ...    ...      ...      ...     ...    ...   \n",
       "886         0       2    male      0      0  13.0000        S  Second    man   \n",
       "887         1       1  female      0      0  30.0000        S   First  woman   \n",
       "888         0       3  female      1      2  23.4500        S   Third  woman   \n",
       "889         1       1    male      0      0  30.0000        C   First    man   \n",
       "890         0       3    male      0      0   7.7500        Q   Third    man   \n",
       "\n",
       "     adult_male  embark_town alive  alone  \n",
       "0          True  Southampton    no  False  \n",
       "1         False    Cherbourg   yes  False  \n",
       "2         False  Southampton   yes   True  \n",
       "3         False  Southampton   yes  False  \n",
       "4          True  Southampton    no   True  \n",
       "..          ...          ...   ...    ...  \n",
       "886        True  Southampton    no   True  \n",
       "887       False  Southampton   yes   True  \n",
       "888       False  Southampton    no  False  \n",
       "889        True    Cherbourg   yes   True  \n",
       "890        True   Queenstown    no   True  \n",
       "\n",
       "[889 rows x 13 columns]"
      ]
     },
     "execution_count": 18,
     "metadata": {},
     "output_type": "execute_result"
    }
   ],
   "source": [
    "titanic = titanic.dropna()\n",
    "\n",
    "# Display the first and last five entries\n",
    "titanic"
   ]
  },
  {
   "cell_type": "code",
   "execution_count": 19,
   "metadata": {
    "colab": {
     "base_uri": "https://localhost:8080/"
    },
    "executionInfo": {
     "elapsed": 287,
     "status": "ok",
     "timestamp": 1673287535340,
     "user": {
      "displayName": "Richard Thames",
      "userId": "00258987493291873022"
     },
     "user_tz": -180
    },
    "id": "-ZsXEhrzLani",
    "outputId": "0ae8275e-61c1-47da-9079-d06605b817d5"
   },
   "outputs": [
    {
     "name": "stdout",
     "output_type": "stream",
     "text": [
      "<class 'pandas.core.frame.DataFrame'>\n",
      "Index: 889 entries, 0 to 890\n",
      "Data columns (total 13 columns):\n",
      " #   Column       Non-Null Count  Dtype   \n",
      "---  ------       --------------  -----   \n",
      " 0   survived     889 non-null    int64   \n",
      " 1   pclass       889 non-null    int64   \n",
      " 2   sex          889 non-null    object  \n",
      " 3   sibsp        889 non-null    int64   \n",
      " 4   parch        889 non-null    int64   \n",
      " 5   fare         889 non-null    float64 \n",
      " 6   embarked     889 non-null    object  \n",
      " 7   class        889 non-null    category\n",
      " 8   who          889 non-null    object  \n",
      " 9   adult_male   889 non-null    bool    \n",
      " 10  embark_town  889 non-null    object  \n",
      " 11  alive        889 non-null    object  \n",
      " 12  alone        889 non-null    bool    \n",
      "dtypes: bool(2), category(1), float64(1), int64(4), object(5)\n",
      "memory usage: 79.1+ KB\n"
     ]
    }
   ],
   "source": [
    "# Get the summary of the DataFrame\n",
    "\n",
    "titanic.info()"
   ]
  },
  {
   "cell_type": "code",
   "execution_count": 20,
   "metadata": {
    "id": "CxWisEYaNVWw"
   },
   "outputs": [
    {
     "data": {
      "text/html": [
       "<div>\n",
       "<style scoped>\n",
       "    .dataframe tbody tr th:only-of-type {\n",
       "        vertical-align: middle;\n",
       "    }\n",
       "\n",
       "    .dataframe tbody tr th {\n",
       "        vertical-align: top;\n",
       "    }\n",
       "\n",
       "    .dataframe thead th {\n",
       "        text-align: right;\n",
       "    }\n",
       "</style>\n",
       "<table border=\"1\" class=\"dataframe\">\n",
       "  <thead>\n",
       "    <tr style=\"text-align: right;\">\n",
       "      <th></th>\n",
       "      <th>survived</th>\n",
       "      <th>pclass</th>\n",
       "      <th>sex</th>\n",
       "      <th>sibsp</th>\n",
       "      <th>parch</th>\n",
       "      <th>fare</th>\n",
       "      <th>embarked</th>\n",
       "      <th>class</th>\n",
       "      <th>who</th>\n",
       "      <th>adult_male</th>\n",
       "      <th>embark_town</th>\n",
       "      <th>alive</th>\n",
       "      <th>alone</th>\n",
       "    </tr>\n",
       "  </thead>\n",
       "  <tbody>\n",
       "    <tr>\n",
       "      <th>281</th>\n",
       "      <td>0</td>\n",
       "      <td>3</td>\n",
       "      <td>male</td>\n",
       "      <td>0</td>\n",
       "      <td>0</td>\n",
       "      <td>7.8542</td>\n",
       "      <td>S</td>\n",
       "      <td>Third</td>\n",
       "      <td>man</td>\n",
       "      <td>True</td>\n",
       "      <td>Southampton</td>\n",
       "      <td>no</td>\n",
       "      <td>True</td>\n",
       "    </tr>\n",
       "    <tr>\n",
       "      <th>435</th>\n",
       "      <td>1</td>\n",
       "      <td>1</td>\n",
       "      <td>female</td>\n",
       "      <td>1</td>\n",
       "      <td>2</td>\n",
       "      <td>120.0000</td>\n",
       "      <td>S</td>\n",
       "      <td>First</td>\n",
       "      <td>child</td>\n",
       "      <td>False</td>\n",
       "      <td>Southampton</td>\n",
       "      <td>yes</td>\n",
       "      <td>False</td>\n",
       "    </tr>\n",
       "    <tr>\n",
       "      <th>39</th>\n",
       "      <td>1</td>\n",
       "      <td>3</td>\n",
       "      <td>female</td>\n",
       "      <td>1</td>\n",
       "      <td>0</td>\n",
       "      <td>11.2417</td>\n",
       "      <td>C</td>\n",
       "      <td>Third</td>\n",
       "      <td>child</td>\n",
       "      <td>False</td>\n",
       "      <td>Cherbourg</td>\n",
       "      <td>yes</td>\n",
       "      <td>False</td>\n",
       "    </tr>\n",
       "    <tr>\n",
       "      <th>418</th>\n",
       "      <td>0</td>\n",
       "      <td>2</td>\n",
       "      <td>male</td>\n",
       "      <td>0</td>\n",
       "      <td>0</td>\n",
       "      <td>13.0000</td>\n",
       "      <td>S</td>\n",
       "      <td>Second</td>\n",
       "      <td>man</td>\n",
       "      <td>True</td>\n",
       "      <td>Southampton</td>\n",
       "      <td>no</td>\n",
       "      <td>True</td>\n",
       "    </tr>\n",
       "    <tr>\n",
       "      <th>585</th>\n",
       "      <td>1</td>\n",
       "      <td>1</td>\n",
       "      <td>female</td>\n",
       "      <td>0</td>\n",
       "      <td>2</td>\n",
       "      <td>79.6500</td>\n",
       "      <td>S</td>\n",
       "      <td>First</td>\n",
       "      <td>woman</td>\n",
       "      <td>False</td>\n",
       "      <td>Southampton</td>\n",
       "      <td>yes</td>\n",
       "      <td>False</td>\n",
       "    </tr>\n",
       "    <tr>\n",
       "      <th>...</th>\n",
       "      <td>...</td>\n",
       "      <td>...</td>\n",
       "      <td>...</td>\n",
       "      <td>...</td>\n",
       "      <td>...</td>\n",
       "      <td>...</td>\n",
       "      <td>...</td>\n",
       "      <td>...</td>\n",
       "      <td>...</td>\n",
       "      <td>...</td>\n",
       "      <td>...</td>\n",
       "      <td>...</td>\n",
       "      <td>...</td>\n",
       "    </tr>\n",
       "    <tr>\n",
       "      <th>555</th>\n",
       "      <td>0</td>\n",
       "      <td>1</td>\n",
       "      <td>male</td>\n",
       "      <td>0</td>\n",
       "      <td>0</td>\n",
       "      <td>26.5500</td>\n",
       "      <td>S</td>\n",
       "      <td>First</td>\n",
       "      <td>man</td>\n",
       "      <td>True</td>\n",
       "      <td>Southampton</td>\n",
       "      <td>no</td>\n",
       "      <td>True</td>\n",
       "    </tr>\n",
       "    <tr>\n",
       "      <th>478</th>\n",
       "      <td>0</td>\n",
       "      <td>3</td>\n",
       "      <td>male</td>\n",
       "      <td>0</td>\n",
       "      <td>0</td>\n",
       "      <td>7.5208</td>\n",
       "      <td>S</td>\n",
       "      <td>Third</td>\n",
       "      <td>man</td>\n",
       "      <td>True</td>\n",
       "      <td>Southampton</td>\n",
       "      <td>no</td>\n",
       "      <td>True</td>\n",
       "    </tr>\n",
       "    <tr>\n",
       "      <th>780</th>\n",
       "      <td>1</td>\n",
       "      <td>3</td>\n",
       "      <td>female</td>\n",
       "      <td>0</td>\n",
       "      <td>0</td>\n",
       "      <td>7.2292</td>\n",
       "      <td>C</td>\n",
       "      <td>Third</td>\n",
       "      <td>child</td>\n",
       "      <td>False</td>\n",
       "      <td>Cherbourg</td>\n",
       "      <td>yes</td>\n",
       "      <td>True</td>\n",
       "    </tr>\n",
       "    <tr>\n",
       "      <th>724</th>\n",
       "      <td>1</td>\n",
       "      <td>1</td>\n",
       "      <td>male</td>\n",
       "      <td>1</td>\n",
       "      <td>0</td>\n",
       "      <td>53.1000</td>\n",
       "      <td>S</td>\n",
       "      <td>First</td>\n",
       "      <td>man</td>\n",
       "      <td>True</td>\n",
       "      <td>Southampton</td>\n",
       "      <td>yes</td>\n",
       "      <td>False</td>\n",
       "    </tr>\n",
       "    <tr>\n",
       "      <th>409</th>\n",
       "      <td>0</td>\n",
       "      <td>3</td>\n",
       "      <td>female</td>\n",
       "      <td>3</td>\n",
       "      <td>1</td>\n",
       "      <td>25.4667</td>\n",
       "      <td>S</td>\n",
       "      <td>Third</td>\n",
       "      <td>woman</td>\n",
       "      <td>False</td>\n",
       "      <td>Southampton</td>\n",
       "      <td>no</td>\n",
       "      <td>False</td>\n",
       "    </tr>\n",
       "  </tbody>\n",
       "</table>\n",
       "<p>200 rows × 13 columns</p>\n",
       "</div>"
      ],
      "text/plain": [
       "     survived  pclass     sex  sibsp  parch      fare embarked   class    who  \\\n",
       "281         0       3    male      0      0    7.8542        S   Third    man   \n",
       "435         1       1  female      1      2  120.0000        S   First  child   \n",
       "39          1       3  female      1      0   11.2417        C   Third  child   \n",
       "418         0       2    male      0      0   13.0000        S  Second    man   \n",
       "585         1       1  female      0      2   79.6500        S   First  woman   \n",
       "..        ...     ...     ...    ...    ...       ...      ...     ...    ...   \n",
       "555         0       1    male      0      0   26.5500        S   First    man   \n",
       "478         0       3    male      0      0    7.5208        S   Third    man   \n",
       "780         1       3  female      0      0    7.2292        C   Third  child   \n",
       "724         1       1    male      1      0   53.1000        S   First    man   \n",
       "409         0       3  female      3      1   25.4667        S   Third  woman   \n",
       "\n",
       "     adult_male  embark_town alive  alone  \n",
       "281        True  Southampton    no   True  \n",
       "435       False  Southampton   yes  False  \n",
       "39        False    Cherbourg   yes  False  \n",
       "418        True  Southampton    no   True  \n",
       "585       False  Southampton   yes  False  \n",
       "..          ...          ...   ...    ...  \n",
       "555        True  Southampton    no   True  \n",
       "478        True  Southampton    no   True  \n",
       "780       False    Cherbourg   yes   True  \n",
       "724        True  Southampton   yes  False  \n",
       "409       False  Southampton    no  False  \n",
       "\n",
       "[200 rows x 13 columns]"
      ]
     },
     "execution_count": 20,
     "metadata": {},
     "output_type": "execute_result"
    }
   ],
   "source": [
    "titanic2 = titanic.sample(200, random_state=42)\n",
    "\n",
    "# Display the first and last five entries\n",
    "titanic2"
   ]
  },
  {
   "cell_type": "markdown",
   "metadata": {},
   "source": [
    "<p style=\"background-color:#FFFFFF; font-family:newtimeroman; color:#0000FF; font-size:125%; text-align:left;\">\n",
    "    👉 <span style=\"color:red;\">Research Question:</span> <span style=\"color:green;\">Does gender affects survival at the significance level of 0.01?</span>\n",
    "</p>"
   ]
  },
  {
   "cell_type": "markdown",
   "metadata": {},
   "source": [
    "#### <p style=\"background-color:#FFFFFF; font-family:newtimeroman; color:#0000FF; font-size:125%; text-align:left;\"><strong>STEP-01: Stating the null (H0) and alternative hypothesis (Ha or H1).</strong></p>"
   ]
  },
  {
   "cell_type": "raw",
   "metadata": {},
   "source": [
    "Null Hypothesis (H₀): Ho: The two categorical variables (sex & survived) are independent.\n",
    "The two categorical variables (sex and survived) are independent.\n",
    "\n",
    "Alternative Hypothesis (H₁): H1: The two categorical variables (sex & survived) are dependent.\n",
    "The two categorical variables (sex and survived) are dependent."
   ]
  },
  {
   "cell_type": "markdown",
   "metadata": {},
   "source": [
    "**Creating a Cross-Tabulation (contingency table):**"
   ]
  },
  {
   "cell_type": "code",
   "execution_count": 21,
   "metadata": {
    "colab": {
     "base_uri": "https://localhost:8080/",
     "height": 143
    },
    "executionInfo": {
     "elapsed": 280,
     "status": "ok",
     "timestamp": 1673287694365,
     "user": {
      "displayName": "Richard Thames",
      "userId": "00258987493291873022"
     },
     "user_tz": -180
    },
    "id": "R76f_QqTofen",
    "outputId": "0b5a4dba-5df7-4e7d-d57f-f8b5a12c257d"
   },
   "outputs": [
    {
     "data": {
      "text/html": [
       "<div>\n",
       "<style scoped>\n",
       "    .dataframe tbody tr th:only-of-type {\n",
       "        vertical-align: middle;\n",
       "    }\n",
       "\n",
       "    .dataframe tbody tr th {\n",
       "        vertical-align: top;\n",
       "    }\n",
       "\n",
       "    .dataframe thead th {\n",
       "        text-align: right;\n",
       "    }\n",
       "</style>\n",
       "<table border=\"1\" class=\"dataframe\">\n",
       "  <thead>\n",
       "    <tr style=\"text-align: right;\">\n",
       "      <th>sex</th>\n",
       "      <th>female</th>\n",
       "      <th>male</th>\n",
       "    </tr>\n",
       "    <tr>\n",
       "      <th>survived</th>\n",
       "      <th></th>\n",
       "      <th></th>\n",
       "    </tr>\n",
       "  </thead>\n",
       "  <tbody>\n",
       "    <tr>\n",
       "      <th>0</th>\n",
       "      <td>24</td>\n",
       "      <td>101</td>\n",
       "    </tr>\n",
       "    <tr>\n",
       "      <th>1</th>\n",
       "      <td>56</td>\n",
       "      <td>19</td>\n",
       "    </tr>\n",
       "  </tbody>\n",
       "</table>\n",
       "</div>"
      ],
      "text/plain": [
       "sex       female  male\n",
       "survived              \n",
       "0             24   101\n",
       "1             56    19"
      ]
     },
     "execution_count": 21,
     "metadata": {},
     "output_type": "execute_result"
    }
   ],
   "source": [
    "# Both male and female survivors can be examined using a crosstab\n",
    "\n",
    "gender_crosstab = pd.crosstab(titanic2.survived, titanic2.sex)\n",
    "gender_crosstab"
   ]
  },
  {
   "cell_type": "markdown",
   "metadata": {},
   "source": [
    "#### <p style=\"background-color:#FFFFFF; font-family:newtimeroman; color:#0000FF; font-size:125%; text-align:left;\"><strong>STEP-02-03: Calculating Test Statistic & p-value:</strong></p>"
   ]
  },
  {
   "cell_type": "code",
   "execution_count": 22,
   "metadata": {
    "colab": {
     "base_uri": "https://localhost:8080/"
    },
    "executionInfo": {
     "elapsed": 288,
     "status": "ok",
     "timestamp": 1673287888957,
     "user": {
      "displayName": "Richard Thames",
      "userId": "00258987493291873022"
     },
     "user_tz": -180
    },
    "id": "Z67wPEkXyjBb",
    "outputId": "6fbd0837-b063-404c-b7a3-fb5f03840f67"
   },
   "outputs": [
    {
     "name": "stdout",
     "output_type": "stream",
     "text": [
      "Chi-Squared Statistic: 57.8\n",
      "P-value: 2.901697212562876e-14\n",
      "Degrees of Freedom: 1\n",
      "Expected Frequencies:\n",
      " [[50. 75.]\n",
      " [30. 45.]]\n"
     ]
    }
   ],
   "source": [
    "chi2_stat, p_value, dof, expected = stats.chi2_contingency(gender_crosstab)\n",
    "\n",
    "# print('stat=%.3f, p=%.4f' % (chi2_stat, p_value))\n",
    "\n",
    "print(\"Chi-Squared Statistic:\", chi2_stat)\n",
    "print(\"P-value:\", p_value)\n",
    "print(\"Degrees of Freedom:\", dof)\n",
    "print(\"Expected Frequencies:\\n\", expected)"
   ]
  },
  {
   "cell_type": "markdown",
   "metadata": {},
   "source": [
    "- **``Significance Level``**: specified as a significance level of 0.01.\n",
    "- **``P-value``**: If the calculated p-value (e.g., 0.0000) is less than 0.01, you reject the null hypothesis (H₀)."
   ]
  },
  {
   "cell_type": "markdown",
   "metadata": {},
   "source": [
    "#### <p style=\"background-color:#FFFFFF; font-family:newtimeroman; color:#0000FF; font-size:125%; text-align:left;\"><strong>STEP-04: Comparing Test Statistic to Critical Value to Make a decision:</strong></p>"
   ]
  },
  {
   "cell_type": "code",
   "execution_count": 23,
   "metadata": {
    "colab": {
     "base_uri": "https://localhost:8080/"
    },
    "executionInfo": {
     "elapsed": 256,
     "status": "ok",
     "timestamp": 1673287899386,
     "user": {
      "displayName": "Richard Thames",
      "userId": "00258987493291873022"
     },
     "user_tz": -180
    },
    "id": "jAn5YJJY1pvW",
    "outputId": "a2d88f53-57e8-40a1-dd4b-3bf37600d0e6"
   },
   "outputs": [
    {
     "name": "stdout",
     "output_type": "stream",
     "text": [
      "At 0.01 level of significance, we can REJECT the Null Hypothesis (H0) in favor of Alternative hypothesis (H1) and \n",
      "it can be concluded that two categorical variables ['survived'] and ['sex'] are statistically dependent.\n"
     ]
    }
   ],
   "source": [
    "alpha = 0.01\n",
    "\n",
    "if p_value < alpha:\n",
    "    print('At {} level of significance, we can REJECT the Null Hypothesis (H0) in favor of Alternative hypothesis (H1) and \\nit can be concluded that two categorical variables {} and {} are statistically dependent.'.format(alpha, gender_crosstab.index.names, gender_crosstab.columns.names))\n",
    "else:\n",
    "    print('At {} level of significance, we FAIL to REJECT the Null Hypothesis (H0)and \\nit can be concluded that two categorical variables {} and {} are statistically independent.'.format(alpha, gender_crosstab.index.names, gender_crosstab.columns.names))"
   ]
  },
  {
   "cell_type": "markdown",
   "metadata": {},
   "source": [
    "<p style=\"background-color:#FFFFFF; font-family:newtimeroman; color:#0000FF; font-size:125%; text-align:left;\">\n",
    "    👉 <span style=\"color:green;\">Conclusion:</span>\n",
    "</p>\n",
    "\n",
    "  - Since the null hypothesis is rejected , this indicates that there is a statistically significant relationship between gender and survival on the Titanic.\n",
    "\n",
    "<p style=\"background-color:#FFFFFF; font-family:newtimeroman; color:#0000FF; font-size:125%; text-align:left;\">\n",
    "    👉 <span style=\"color:green;\">Interpretation:</span>\n",
    "</p>\n",
    "\n",
    "  - This suggests that the likelihood of survival was dependent on the sex of the passenger. Typically, historical analyses show that women had a higher survival rate compared to men in such disasters."
   ]
  },
  {
   "cell_type": "markdown",
   "metadata": {},
   "source": [
    "#### <p style=\"background-color:#FFFFFF; font-family:newtimeroman; color:#0000FF; font-size:125%; text-align:left;\"><strong>STEP-05: Visualizing the results:</strong></p>"
   ]
  },
  {
   "cell_type": "code",
   "execution_count": 24,
   "metadata": {},
   "outputs": [
    {
     "data": {
      "image/png": "[encoded data removed]",
      "text/plain": [
       "<Figure size 1000x500 with 1 Axes>"
      ]
     },
     "metadata": {},
     "output_type": "display_data"
    }
   ],
   "source": [
    "from scipy.stats import chi2\n",
    "\n",
    "# Given values from your chi-square test\n",
    "chi_statistic = 57.8\n",
    "calculated_p_value = 0.000\n",
    "alpha = 0.01\n",
    "dof = 1  # Degrees of freedom for chi-square test\n",
    "\n",
    "# Define the range for the chi-square distribution plot\n",
    "x = np.linspace(-5, chi2.ppf(0.999, dof), 1000)  # Extend x-axis to cover the chi-square distribution\n",
    "\n",
    "# Calculate the chi-square distribution\n",
    "y = chi2.pdf(x, dof)\n",
    "\n",
    "# Create the plot\n",
    "plt.figure(figsize=(10, 5))\n",
    "\n",
    "# Plot the chi-square distribution\n",
    "plt.plot(x, y, color='blue')\n",
    "\n",
    "# Mark the critical chi-square value for alpha (two-tailed test)\n",
    "chi_critical = chi2.ppf(1 - alpha, dof)\n",
    "plt.axvline(chi_critical, color='red', linestyle='--', label=f'Critical chi-square value ({round(chi_critical, 2)})')\n",
    "\n",
    "# Mark the calculated chi-square statistic\n",
    "plt.axvline(chi_statistic, color='green', linestyle='-', label=f'Calculated chi-square statistic ({chi_statistic:.2f})')\n",
    "\n",
    "# Fill the area from 0 to critical chi square value with light green at defined alpha level\n",
    "plt.fill_between(x, 0, y, where=(x < chi_critical), color='lightgreen', alpha=0.5, label=f'Fail to Reject Area ({alpha})')\n",
    "\n",
    "# Fill the rejection area(s) with light red based on defined alpha level\n",
    "plt.fill_between(x, 0, y, where=(x >= chi_critical), color='lightcoral', alpha=0.5, label=f'Rejection Area ({calculated_p_value:.4f})')\n",
    "\n",
    "# Add text for p-value and alpha\n",
    "# plt.text(7, 0.3, f'p-value: {calculated_p_value:.4f}', fontsize=10)\n",
    "# plt.text(7, 0.25, f'alpha: {alpha}', fontsize=10)\n",
    "plt.text(chi_statistic - 6,  1, f'chi statistic: {chi_statistic:.2f}', color='green', fontsize=10, ha='center', va='top')\n",
    "plt.text(chi_critical + 0.5, 1, f'chi critical value: {chi_critical:.2f}', color='red', fontsize=10, ha='center', va='top')\n",
    "\n",
    "# Add titles and labels\n",
    "plt.title('Chi-Square Distribution with Critical Region and Statistic', color='blue')\n",
    "plt.xlabel('chi-square value')\n",
    "plt.ylabel('Probability Density')\n",
    "plt.legend(fontsize='small')\n",
    "\n",
    "# Set y-axis limit to start from zero\n",
    "plt.ylim(bottom=0)\n",
    "\n",
    "# Remove grids\n",
    "plt.grid(False)\n",
    "\n",
    "# Show the plot\n",
    "plt.show()"
   ]
  },
  {
   "cell_type": "markdown",
   "metadata": {
    "id": "NW0yKzFZ4a5d"
   },
   "source": [
    "### <p style=\"background-color:#E51A59; font-family:newtimeroman; color:#FDFEFE; font-size:150%; text-align:left; border-radius:10px 10px;\">Example-03 (Titanic Dataset):</p>"
   ]
  },
  {
   "cell_type": "markdown",
   "metadata": {},
   "source": [
    "<p style=\"background-color:#FFFFFF; font-family:newtimeroman; color:#0000FF; font-size:125%; text-align:left;\">\n",
    "    👉 <span style=\"color:red;\">Research Question:</span> <span style=\"color:green;\">Does the type of class affect survival? In other words, Class and survived variables are dependent or not at the significance level of 0.01?</span>\n",
    "</p>"
   ]
  },
  {
   "cell_type": "markdown",
   "metadata": {},
   "source": [
    "#### <p style=\"background-color:#FFFFFF; font-family:newtimeroman; color:#0000FF; font-size:125%; text-align:left;\"><strong>STEP-01: Stating the null (H0) and alternative hypothesis (Ha or H1).</strong></p>"
   ]
  },
  {
   "cell_type": "raw",
   "metadata": {},
   "source": [
    "Null Hypothesis (H₀): Ho: The two categorical variables (class & survived) are independent.\n",
    "The two categorical variables (class and survived) are independent.\n",
    "\n",
    "Alternative Hypothesis (H₁): H1: The two categorical variables (class & survived) are dependent.\n",
    "The two categorical variables (class and survived) are dependent."
   ]
  },
  {
   "cell_type": "markdown",
   "metadata": {},
   "source": [
    "**Creating a Cross-Tabulation (contingency table):**"
   ]
  },
  {
   "cell_type": "code",
   "execution_count": 25,
   "metadata": {
    "colab": {
     "base_uri": "https://localhost:8080/",
     "height": 143
    },
    "executionInfo": {
     "elapsed": 280,
     "status": "ok",
     "timestamp": 1673287904702,
     "user": {
      "displayName": "Richard Thames",
      "userId": "00258987493291873022"
     },
     "user_tz": -180
    },
    "id": "u2P5UER1ytLd",
    "outputId": "7ece84f6-f152-4be6-bc83-9612f2520128"
   },
   "outputs": [
    {
     "data": {
      "text/html": [
       "<div>\n",
       "<style scoped>\n",
       "    .dataframe tbody tr th:only-of-type {\n",
       "        vertical-align: middle;\n",
       "    }\n",
       "\n",
       "    .dataframe tbody tr th {\n",
       "        vertical-align: top;\n",
       "    }\n",
       "\n",
       "    .dataframe thead th {\n",
       "        text-align: right;\n",
       "    }\n",
       "</style>\n",
       "<table border=\"1\" class=\"dataframe\">\n",
       "  <thead>\n",
       "    <tr style=\"text-align: right;\">\n",
       "      <th>class</th>\n",
       "      <th>First</th>\n",
       "      <th>Second</th>\n",
       "      <th>Third</th>\n",
       "    </tr>\n",
       "    <tr>\n",
       "      <th>survived</th>\n",
       "      <th></th>\n",
       "      <th></th>\n",
       "      <th></th>\n",
       "    </tr>\n",
       "  </thead>\n",
       "  <tbody>\n",
       "    <tr>\n",
       "      <th>0</th>\n",
       "      <td>16</td>\n",
       "      <td>27</td>\n",
       "      <td>82</td>\n",
       "    </tr>\n",
       "    <tr>\n",
       "      <th>1</th>\n",
       "      <td>32</td>\n",
       "      <td>18</td>\n",
       "      <td>25</td>\n",
       "    </tr>\n",
       "  </tbody>\n",
       "</table>\n",
       "</div>"
      ],
      "text/plain": [
       "class     First  Second  Third\n",
       "survived                      \n",
       "0            16      27     82\n",
       "1            32      18     25"
      ]
     },
     "execution_count": 25,
     "metadata": {},
     "output_type": "execute_result"
    }
   ],
   "source": [
    "# Both male and female survivors can be examined using a crosstab\n",
    "\n",
    "class_crosstab = pd.crosstab(titanic2[\"survived\"], titanic2[\"class\"])\n",
    "class_crosstab"
   ]
  },
  {
   "cell_type": "markdown",
   "metadata": {},
   "source": [
    "#### <p style=\"background-color:#FFFFFF; font-family:newtimeroman; color:#0000FF; font-size:125%; text-align:left;\"><strong>STEP-02-03: Calculating Test Statistic & p-value:</strong></p>"
   ]
  },
  {
   "cell_type": "code",
   "execution_count": 26,
   "metadata": {
    "colab": {
     "base_uri": "https://localhost:8080/"
    },
    "executionInfo": {
     "elapsed": 259,
     "status": "ok",
     "timestamp": 1673287955163,
     "user": {
      "displayName": "Richard Thames",
      "userId": "00258987493291873022"
     },
     "user_tz": -180
    },
    "id": "tg4I62I1zQh-",
    "outputId": "83f3b8f7-bfeb-426b-9e0a-e9090dc55d09"
   },
   "outputs": [
    {
     "name": "stdout",
     "output_type": "stream",
     "text": [
      "Chi-Squared Statistic: 26.66434060228453\n",
      "P-value: 1.6214815313122389e-06\n",
      "Degrees of Freedom: 2\n",
      "Expected Frequencies:\n",
      " [[30.    28.125 66.875]\n",
      " [18.    16.875 40.125]]\n"
     ]
    }
   ],
   "source": [
    "chi2_stat, p_value, dof, expected = stats.chi2_contingency(class_crosstab)\n",
    "\n",
    "# print('stat=%.3f, p=%.4f' % (chi2_stat, p_value))\n",
    "\n",
    "print(\"Chi-Squared Statistic:\", chi2_stat)\n",
    "print(\"P-value:\", p_value)\n",
    "print(\"Degrees of Freedom:\", dof)\n",
    "print(\"Expected Frequencies:\\n\", expected)"
   ]
  },
  {
   "cell_type": "markdown",
   "metadata": {},
   "source": [
    "- **``Significance Level``**: specified as a significance level of 0.01.\n",
    "- **``P-value``**: The p-value is significantly less than 0.01 (p = 0.0000), which leads us to reject the null hypothesis (H₀)."
   ]
  },
  {
   "cell_type": "markdown",
   "metadata": {},
   "source": [
    "#### <p style=\"background-color:#FFFFFF; font-family:newtimeroman; color:#0000FF; font-size:125%; text-align:left;\"><strong>STEP-04: Comparing Test Statistic to Critical Value to Make a decision:</strong></p>"
   ]
  },
  {
   "cell_type": "code",
   "execution_count": 27,
   "metadata": {
    "colab": {
     "base_uri": "https://localhost:8080/"
    },
    "executionInfo": {
     "elapsed": 300,
     "status": "ok",
     "timestamp": 1673287964038,
     "user": {
      "displayName": "Richard Thames",
      "userId": "00258987493291873022"
     },
     "user_tz": -180
    },
    "id": "aneg32Yr2YXB",
    "outputId": "23ef6fb8-7cad-4b9a-9c71-6e049495a7ba"
   },
   "outputs": [
    {
     "name": "stdout",
     "output_type": "stream",
     "text": [
      "At 0.01 level of significance, we can REJECT the Null Hypothesis (H0) in favor of Alternative hypothesis (H1) and \n",
      "it can be concluded that two categorical variables ['survived'] and ['class'] are statistically dependent.\n"
     ]
    }
   ],
   "source": [
    "alpha = 0.01\n",
    "\n",
    "if p_value < alpha:\n",
    "    print('At {} level of significance, we can REJECT the Null Hypothesis (H0) in favor of Alternative hypothesis (H1) and \\nit can be concluded that two categorical variables {} and {} are statistically dependent.'.format(alpha, class_crosstab.index.names, class_crosstab.columns.names))\n",
    "else:\n",
    "    print('At {} level of significance, we FAIL to REJECT the Null Hypothesis (H0)and \\nit can be concluded that two categorical variables {} and {} are statistically independent.'.format(alpha, class_crosstab.index.names, class_crosstab.columns.names))"
   ]
  },
  {
   "cell_type": "markdown",
   "metadata": {},
   "source": [
    "<p style=\"background-color:#FFFFFF; font-family:newtimeroman; color:#0000FF; font-size:125%; text-align:left;\">\n",
    "    👉 <span style=\"color:green;\">Conclusion:</span>\n",
    "</p>\n",
    "\n",
    "  - **``Dependent Relationship``**: Since we reject the null hypothesis, we conclude that there is a statistically significant relationship between the class of passengers and their survival on the Titanic. This means that the likelihood of survival is influenced by the class in which a passenger traveled.\n",
    "\n",
    "<p style=\"background-color:#FFFFFF; font-family:newtimeroman; color:#0000FF; font-size:125%; text-align:left;\">\n",
    "    👉 <span style=\"color:green;\">Interpretation:</span>\n",
    "</p>\n",
    "\n",
    "  - **``Class and Survival Rates``**: Historical analyses typically indicate that passengers in higher classes (1st class) had a higher survival rate compared to those in lower classes (2nd and 3rd class). This result aligns with societal norms at the time regarding access to lifeboats and prioritization during evacuation.\n",
    "  - **``Societal Implications``**: This finding highlights the impact of social class on survival during emergencies, raising discussions about equity and access in crisis situations."
   ]
  },
  {
   "cell_type": "markdown",
   "metadata": {},
   "source": [
    "#### <p style=\"background-color:#FFFFFF; font-family:newtimeroman; color:#0000FF; font-size:125%; text-align:left;\"><strong>STEP-05: Visualizing the results:</strong></p>"
   ]
  },
  {
   "cell_type": "code",
   "execution_count": 28,
   "metadata": {},
   "outputs": [
    {
     "data": {
      "image/png": "[encoded data removed]",
      "text/plain": [
       "<Figure size 1000x500 with 1 Axes>"
      ]
     },
     "metadata": {},
     "output_type": "display_data"
    }
   ],
   "source": [
    "from scipy.stats import chi2\n",
    "\n",
    "# Given values from your chi-square test\n",
    "chi_statistic = 26.66434060228453\n",
    "calculated_p_value = 0.000\n",
    "alpha = 0.01\n",
    "dof = 2  # Degrees of freedom for chi-square test\n",
    "\n",
    "# Define the range for the chi-square distribution plot\n",
    "x = np.linspace(-5, chi2.ppf(0.999, dof), 1000)  # Extend x-axis to cover the chi-square distribution\n",
    "\n",
    "# Calculate the chi-square distribution\n",
    "y = chi2.pdf(x, dof)\n",
    "\n",
    "# Create the plot\n",
    "plt.figure(figsize=(10, 5))\n",
    "\n",
    "# Plot the chi-square distribution\n",
    "plt.plot(x, y, color='blue')\n",
    "\n",
    "# Mark the critical chi-square value for alpha (two-tailed test)\n",
    "chi_critical = chi2.ppf(1 - alpha, dof)\n",
    "plt.axvline(chi_critical, color='red', linestyle='--', label=f'Critical chi-square value ({round(chi_critical, 2)})')\n",
    "\n",
    "# Mark the calculated chi-square statistic\n",
    "plt.axvline(chi_statistic, color='green', linestyle='-', label=f'Calculated chi-square statistic ({chi_statistic:.2f})')\n",
    "\n",
    "# Fill the area from 0 to critical chi square value with light green at defined alpha level\n",
    "plt.fill_between(x, 0, y, where=(x < chi_critical), color='lightgreen', alpha=0.5, label=f'Fail to Reject Area ({alpha})')\n",
    "\n",
    "# Fill the rejection area(s) with light red based on defined alpha level\n",
    "plt.fill_between(x, 0, y, where=(x >= chi_critical), color='lightcoral', alpha=0.5, label=f'Rejection Area ({calculated_p_value:.4f})')\n",
    "\n",
    "# Add text for p-value and alpha\n",
    "# plt.text(7, 0.3, f'p-value: {calculated_p_value:.4f}', fontsize=10)\n",
    "# plt.text(7, 0.25, f'alpha: {alpha}', fontsize=10)\n",
    "plt.text(chi_statistic - 3,  0.05, f'chi statistic: {chi_statistic:.2f}', color='green', fontsize=10, ha='center', va='top')\n",
    "plt.text(chi_critical + 0, 0.05, f'chi critical value: {chi_critical:.2f}', color='red', fontsize=10, ha='center', va='top')\n",
    "\n",
    "# Add titles and labels\n",
    "plt.title('Chi-Square Distribution with Critical Region and Statistic', color='blue')\n",
    "plt.xlabel('chi-square value')\n",
    "plt.ylabel('Probability Density')\n",
    "plt.legend(fontsize='small')\n",
    "\n",
    "# Set y-axis limit to start from zero\n",
    "plt.ylim(bottom=0)\n",
    "\n",
    "# Remove grids\n",
    "plt.grid(False)\n",
    "\n",
    "# Show the plot\n",
    "plt.show()"
   ]
  },
  {
   "cell_type": "markdown",
   "metadata": {},
   "source": [
    "### <p style=\"background-color:#E51A59; font-family:newtimeroman; color:#FDFEFE; font-size:150%; text-align:left; border-radius:10px 10px;\">Example-04 (Titanic Dataset):</p>"
   ]
  },
  {
   "cell_type": "markdown",
   "metadata": {},
   "source": [
    "<p style=\"background-color:#FFFFFF; font-family:newtimeroman; color:#0000FF; font-size:125%; text-align:left;\">\n",
    "    👉 <span style=\"color:red;\">Research Question:</span> <span style=\"color:green;\">Does the place where passangers embarked affect the type of class (city of port) at the significance level of 0.01? In other words, embarked and class variables are dependent or not?</span>\n",
    "</p>"
   ]
  },
  {
   "cell_type": "markdown",
   "metadata": {},
   "source": [
    "#### <p style=\"background-color:#FFFFFF; font-family:newtimeroman; color:#0000FF; font-size:125%; text-align:left;\"><strong>STEP-01: Stating the null (H0) and alternative hypothesis (Ha or H1).</strong></p>"
   ]
  },
  {
   "cell_type": "raw",
   "metadata": {},
   "source": [
    "Null Hypothesis (H₀): Ho: The two categorical variables (embarked & class) are independent.\n",
    "The two categorical variables (embarked and class) are independent.\n",
    "\n",
    "Alternative Hypothesis (H₁): H1: The two categorical variables (embarked & class) are dependent.\n",
    "The two categorical variables (embarked and class) are dependent."
   ]
  },
  {
   "cell_type": "markdown",
   "metadata": {},
   "source": [
    "**Creating a Cross-Tabulation (contingency table):**"
   ]
  },
  {
   "cell_type": "code",
   "execution_count": 29,
   "metadata": {
    "colab": {
     "base_uri": "https://localhost:8080/",
     "height": 175
    },
    "executionInfo": {
     "elapsed": 291,
     "status": "ok",
     "timestamp": 1673288011933,
     "user": {
      "displayName": "Richard Thames",
      "userId": "00258987493291873022"
     },
     "user_tz": -180
    },
    "id": "_vrNiyj4wi1B",
    "outputId": "096f75e8-a068-471a-9b2c-a06809c45f3a"
   },
   "outputs": [
    {
     "data": {
      "text/html": [
       "<div>\n",
       "<style scoped>\n",
       "    .dataframe tbody tr th:only-of-type {\n",
       "        vertical-align: middle;\n",
       "    }\n",
       "\n",
       "    .dataframe tbody tr th {\n",
       "        vertical-align: top;\n",
       "    }\n",
       "\n",
       "    .dataframe thead th {\n",
       "        text-align: right;\n",
       "    }\n",
       "</style>\n",
       "<table border=\"1\" class=\"dataframe\">\n",
       "  <thead>\n",
       "    <tr style=\"text-align: right;\">\n",
       "      <th>class</th>\n",
       "      <th>First</th>\n",
       "      <th>Second</th>\n",
       "      <th>Third</th>\n",
       "    </tr>\n",
       "    <tr>\n",
       "      <th>embarked</th>\n",
       "      <th></th>\n",
       "      <th></th>\n",
       "      <th></th>\n",
       "    </tr>\n",
       "  </thead>\n",
       "  <tbody>\n",
       "    <tr>\n",
       "      <th>C</th>\n",
       "      <td>21</td>\n",
       "      <td>2</td>\n",
       "      <td>15</td>\n",
       "    </tr>\n",
       "    <tr>\n",
       "      <th>Q</th>\n",
       "      <td>1</td>\n",
       "      <td>2</td>\n",
       "      <td>12</td>\n",
       "    </tr>\n",
       "    <tr>\n",
       "      <th>S</th>\n",
       "      <td>26</td>\n",
       "      <td>41</td>\n",
       "      <td>80</td>\n",
       "    </tr>\n",
       "  </tbody>\n",
       "</table>\n",
       "</div>"
      ],
      "text/plain": [
       "class     First  Second  Third\n",
       "embarked                      \n",
       "C            21       2     15\n",
       "Q             1       2     12\n",
       "S            26      41     80"
      ]
     },
     "execution_count": 29,
     "metadata": {},
     "output_type": "execute_result"
    }
   ],
   "source": [
    "embark_crosstab = pd.crosstab(titanic2[\"embarked\"], titanic2[\"class\"])\n",
    "embark_crosstab"
   ]
  },
  {
   "cell_type": "code",
   "execution_count": 30,
   "metadata": {
    "id": "h_LWdgEXw--3"
   },
   "outputs": [],
   "source": [
    "# embark_crosstab = pd.crosstab(titanic2[\"embarked\"], titanic2[\"class\"], normalize=\"columns\")\n",
    "# embark_crosstab"
   ]
  },
  {
   "cell_type": "markdown",
   "metadata": {},
   "source": [
    "#### <p style=\"background-color:#FFFFFF; font-family:newtimeroman; color:#0000FF; font-size:125%; text-align:left;\"><strong>STEP-02-03: Calculating Test Statistic & p-value:</strong></p>"
   ]
  },
  {
   "cell_type": "code",
   "execution_count": 31,
   "metadata": {
    "colab": {
     "base_uri": "https://localhost:8080/"
    },
    "executionInfo": {
     "elapsed": 285,
     "status": "ok",
     "timestamp": 1673288050878,
     "user": {
      "displayName": "Richard Thames",
      "userId": "00258987493291873022"
     },
     "user_tz": -180
    },
    "id": "30TQwqULw505",
    "outputId": "105153c5-8732-428d-a011-dc56d8dfaa88"
   },
   "outputs": [
    {
     "name": "stdout",
     "output_type": "stream",
     "text": [
      "Chi-Squared Statistic: 30.66060428106314\n",
      "P-value: 3.5902822709677483e-06\n",
      "Degrees of Freedom: 4\n",
      "Expected Frequencies:\n",
      " [[ 9.12   8.55  20.33 ]\n",
      " [ 3.6    3.375  8.025]\n",
      " [35.28  33.075 78.645]]\n"
     ]
    }
   ],
   "source": [
    "chi2_stat, p_value, dof, expected = stats.chi2_contingency(embark_crosstab)\n",
    "\n",
    "# print('stat=%.3f, p=%.4f' % (chi2_stat, p_value))\n",
    "\n",
    "print(\"Chi-Squared Statistic:\", chi2_stat)\n",
    "print(\"P-value:\", p_value)\n",
    "print(\"Degrees of Freedom:\", dof)\n",
    "print(\"Expected Frequencies:\\n\", expected)"
   ]
  },
  {
   "cell_type": "markdown",
   "metadata": {},
   "source": [
    "- **``Significance Level``**: specified as a significance level of 0.01.\n",
    "- **``P-value``**: The p-value is significantly less than 0.01 (p = 0.0000), which leads us to reject the null hypothesis (H₀)."
   ]
  },
  {
   "cell_type": "markdown",
   "metadata": {},
   "source": [
    "#### <p style=\"background-color:#FFFFFF; font-family:newtimeroman; color:#0000FF; font-size:125%; text-align:left;\"><strong>STEP-04: Comparing Test Statistic to Critical Value to Make a decision:</strong></p>"
   ]
  },
  {
   "cell_type": "code",
   "execution_count": 32,
   "metadata": {},
   "outputs": [
    {
     "name": "stdout",
     "output_type": "stream",
     "text": [
      "At 0.01 level of significance, we can REJECT the Null Hypothesis (H0) in favor of Alternative hypothesis (H1) and \n",
      "it can be concluded that two categorical variables ['embarked'] and ['class'] are statistically dependent.\n"
     ]
    }
   ],
   "source": [
    "alpha = 0.01\n",
    "\n",
    "if p_value < alpha:\n",
    "    print('At {} level of significance, we can REJECT the Null Hypothesis (H0) in favor of Alternative hypothesis (H1) and \\nit can be concluded that two categorical variables {} and {} are statistically dependent.'.format(alpha, embark_crosstab.index.names, embark_crosstab.columns.names))\n",
    "else:\n",
    "    print('At {} level of significance, we FAIL to REJECT the Null Hypothesis (H0)and \\nit can be concluded that two categorical variables {} and {} are statistically independent.'.format(alpha, embark_crosstab.index.names, embark_crosstab.columns.names))"
   ]
  },
  {
   "cell_type": "markdown",
   "metadata": {},
   "source": [
    "<p style=\"background-color:#FFFFFF; font-family:newtimeroman; color:#0000FF; font-size:125%; text-align:left;\">\n",
    "    👉 <span style=\"color:green;\">Conclusion:</span>\n",
    "</p>\n",
    "\n",
    "- **``Dependent Relationship``**: Since we reject the null hypothesis, we conclude that there is a statistically significant relationship between the port of embarkation and the class of passengers on the Titanic. This indicates that the class in which a passenger traveled is influenced by where they boarded the ship.\n",
    "\n",
    "<p style=\"background-color:#FFFFFF; font-family:newtimeroman; color:#0000FF; font-size:125%; text-align:left;\">\n",
    "    👉 <span style=\"color:green;\">Interpretation:</span>\n",
    "</p>\n",
    "\n",
    "  - **``Embarkation and Class Distribution``**: Historical context suggests that the majority of 1st class passengers boarded from Cherbourg, while many 3rd class passengers boarded from Southampton and Queenstown. This dependency highlights socio-economic factors influencing where passengers chose to embark.\n",
    "  - **``Societal Implications``**: Understanding these relationships can provide insights into migration patterns and social stratification during the early 20th century, as well as the demographics of those who traveled on the Titanic."
   ]
  },
  {
   "cell_type": "markdown",
   "metadata": {},
   "source": [
    "#### <p style=\"background-color:#FFFFFF; font-family:newtimeroman; color:#0000FF; font-size:125%; text-align:left;\"><strong>STEP-05: Visualizing the results:</strong></p>"
   ]
  },
  {
   "cell_type": "code",
   "execution_count": 33,
   "metadata": {},
   "outputs": [
    {
     "data": {
      "image/png": "[encoded data removed]",
      "text/plain": [
       "<Figure size 1000x500 with 1 Axes>"
      ]
     },
     "metadata": {},
     "output_type": "display_data"
    }
   ],
   "source": [
    "from scipy.stats import chi2\n",
    "\n",
    "# Given values from your chi-square test\n",
    "chi_statistic = 30.66060428106314\n",
    "calculated_p_value = 0.000\n",
    "alpha = 0.01\n",
    "dof = 4  # Degrees of freedom for chi-square test\n",
    "\n",
    "# Define the range for the chi-square distribution plot\n",
    "x = np.linspace(-5, chi2.ppf(0.999, dof), 1000)  # Extend x-axis to cover the chi-square distribution\n",
    "\n",
    "# Calculate the chi-square distribution\n",
    "y = chi2.pdf(x, dof)\n",
    "\n",
    "# Create the plot\n",
    "plt.figure(figsize=(10, 5))\n",
    "\n",
    "# Plot the chi-square distribution\n",
    "plt.plot(x, y, color='blue')\n",
    "\n",
    "# Mark the critical chi-square value for alpha (two-tailed test)\n",
    "chi_critical = chi2.ppf(1 - alpha, dof)\n",
    "plt.axvline(chi_critical, color='red', linestyle='--', label=f'Critical chi-square value ({round(chi_critical, 2)})')\n",
    "\n",
    "# Mark the calculated chi-square statistic\n",
    "plt.axvline(chi_statistic, color='green', linestyle='-', label=f'Calculated chi-square statistic ({chi_statistic:.2f})')\n",
    "\n",
    "# Fill the area from 0 to critical chi square value with light green at defined alpha level\n",
    "plt.fill_between(x, 0, y, where=(x < chi_critical), color='lightgreen', alpha=0.5, label=f'Fail to Reject Area ({alpha})')\n",
    "\n",
    "# Fill the rejection area(s) with light red based on defined alpha level\n",
    "plt.fill_between(x, 0, y, where=(x >= chi_critical), color='lightcoral', alpha=0.5, label=f'Rejection Area ({calculated_p_value:.4f})')\n",
    "\n",
    "# Add text for p-value and alpha\n",
    "# plt.text(7, 0.3, f'p-value: {calculated_p_value:.4f}', fontsize=10)\n",
    "# plt.text(7, 0.25, f'alpha: {alpha}', fontsize=10)\n",
    "plt.text(chi_statistic - 4,  0.05, f'chi statistic: {chi_statistic:.2f}', color='green', fontsize=10, ha='center', va='top')\n",
    "plt.text(chi_critical + 0, 0.05, f'chi critical value: {chi_critical:.2f}', color='red', fontsize=10, ha='center', va='top')\n",
    "\n",
    "# Add titles and labels\n",
    "plt.title('Chi-Square Distribution with Critical Region and Statistic', color='blue')\n",
    "plt.xlabel('chi-square value')\n",
    "plt.ylabel('Probability Density')\n",
    "plt.legend(fontsize='small')\n",
    "\n",
    "# Set y-axis limit to start from zero\n",
    "plt.ylim(bottom=0)\n",
    "\n",
    "# Remove grids\n",
    "plt.grid(False)\n",
    "\n",
    "# Show the plot\n",
    "plt.show()"
   ]
  },
  {
   "cell_type": "markdown",
   "metadata": {},
   "source": [
    "### <p style=\"background-color:#E51A59; font-family:newtimeroman; color:#FDFEFE; font-size:150%; text-align:left; border-radius:10px 10px;\">Example-05 (mpg Dataset):</p>"
   ]
  },
  {
   "cell_type": "code",
   "execution_count": 34,
   "metadata": {
    "colab": {
     "base_uri": "https://localhost:8080/",
     "height": 269
    },
    "executionInfo": {
     "elapsed": 706,
     "status": "ok",
     "timestamp": 1673288094899,
     "user": {
      "displayName": "Richard Thames",
      "userId": "00258987493291873022"
     },
     "user_tz": -180
    },
    "id": "oMPIysTbxgr1",
    "outputId": "a06a4b95-daf3-4198-f8aa-14b492b36322"
   },
   "outputs": [
    {
     "data": {
      "text/html": [
       "<div>\n",
       "<style scoped>\n",
       "    .dataframe tbody tr th:only-of-type {\n",
       "        vertical-align: middle;\n",
       "    }\n",
       "\n",
       "    .dataframe tbody tr th {\n",
       "        vertical-align: top;\n",
       "    }\n",
       "\n",
       "    .dataframe thead th {\n",
       "        text-align: right;\n",
       "    }\n",
       "</style>\n",
       "<table border=\"1\" class=\"dataframe\">\n",
       "  <thead>\n",
       "    <tr style=\"text-align: right;\">\n",
       "      <th></th>\n",
       "      <th>mpg</th>\n",
       "      <th>cylinders</th>\n",
       "      <th>displacement</th>\n",
       "      <th>horsepower</th>\n",
       "      <th>weight</th>\n",
       "      <th>acceleration</th>\n",
       "      <th>model_year</th>\n",
       "      <th>origin</th>\n",
       "      <th>name</th>\n",
       "    </tr>\n",
       "  </thead>\n",
       "  <tbody>\n",
       "    <tr>\n",
       "      <th>198</th>\n",
       "      <td>33.0</td>\n",
       "      <td>4</td>\n",
       "      <td>91.0</td>\n",
       "      <td>53.0</td>\n",
       "      <td>1795</td>\n",
       "      <td>17.4</td>\n",
       "      <td>76</td>\n",
       "      <td>japan</td>\n",
       "      <td>honda civic</td>\n",
       "    </tr>\n",
       "    <tr>\n",
       "      <th>368</th>\n",
       "      <td>27.0</td>\n",
       "      <td>4</td>\n",
       "      <td>112.0</td>\n",
       "      <td>88.0</td>\n",
       "      <td>2640</td>\n",
       "      <td>18.6</td>\n",
       "      <td>82</td>\n",
       "      <td>usa</td>\n",
       "      <td>chevrolet cavalier wagon</td>\n",
       "    </tr>\n",
       "    <tr>\n",
       "      <th>297</th>\n",
       "      <td>25.4</td>\n",
       "      <td>5</td>\n",
       "      <td>183.0</td>\n",
       "      <td>77.0</td>\n",
       "      <td>3530</td>\n",
       "      <td>20.1</td>\n",
       "      <td>79</td>\n",
       "      <td>europe</td>\n",
       "      <td>mercedes benz 300d</td>\n",
       "    </tr>\n",
       "    <tr>\n",
       "      <th>304</th>\n",
       "      <td>37.3</td>\n",
       "      <td>4</td>\n",
       "      <td>91.0</td>\n",
       "      <td>69.0</td>\n",
       "      <td>2130</td>\n",
       "      <td>14.7</td>\n",
       "      <td>79</td>\n",
       "      <td>europe</td>\n",
       "      <td>fiat strada custom</td>\n",
       "    </tr>\n",
       "    <tr>\n",
       "      <th>285</th>\n",
       "      <td>17.0</td>\n",
       "      <td>8</td>\n",
       "      <td>305.0</td>\n",
       "      <td>130.0</td>\n",
       "      <td>3840</td>\n",
       "      <td>15.4</td>\n",
       "      <td>79</td>\n",
       "      <td>usa</td>\n",
       "      <td>chevrolet caprice classic</td>\n",
       "    </tr>\n",
       "    <tr>\n",
       "      <th>189</th>\n",
       "      <td>15.5</td>\n",
       "      <td>8</td>\n",
       "      <td>304.0</td>\n",
       "      <td>120.0</td>\n",
       "      <td>3962</td>\n",
       "      <td>13.9</td>\n",
       "      <td>76</td>\n",
       "      <td>usa</td>\n",
       "      <td>amc matador</td>\n",
       "    </tr>\n",
       "    <tr>\n",
       "      <th>50</th>\n",
       "      <td>28.0</td>\n",
       "      <td>4</td>\n",
       "      <td>116.0</td>\n",
       "      <td>90.0</td>\n",
       "      <td>2123</td>\n",
       "      <td>14.0</td>\n",
       "      <td>71</td>\n",
       "      <td>europe</td>\n",
       "      <td>opel 1900</td>\n",
       "    </tr>\n",
       "  </tbody>\n",
       "</table>\n",
       "</div>"
      ],
      "text/plain": [
       "      mpg  cylinders  displacement  horsepower  weight  acceleration  \\\n",
       "198  33.0          4          91.0        53.0    1795          17.4   \n",
       "368  27.0          4         112.0        88.0    2640          18.6   \n",
       "297  25.4          5         183.0        77.0    3530          20.1   \n",
       "304  37.3          4          91.0        69.0    2130          14.7   \n",
       "285  17.0          8         305.0       130.0    3840          15.4   \n",
       "189  15.5          8         304.0       120.0    3962          13.9   \n",
       "50   28.0          4         116.0        90.0    2123          14.0   \n",
       "\n",
       "     model_year  origin                       name  \n",
       "198          76   japan                honda civic  \n",
       "368          82     usa   chevrolet cavalier wagon  \n",
       "297          79  europe         mercedes benz 300d  \n",
       "304          79  europe         fiat strada custom  \n",
       "285          79     usa  chevrolet caprice classic  \n",
       "189          76     usa                amc matador  \n",
       "50           71  europe                  opel 1900  "
      ]
     },
     "execution_count": 34,
     "metadata": {},
     "output_type": "execute_result"
    }
   ],
   "source": [
    "mpg = sns.load_dataset(\"mpg\")\n",
    "mpg.sample(7)"
   ]
  },
  {
   "cell_type": "markdown",
   "metadata": {},
   "source": [
    "- **``Columns in the \"mpg\" Dataset:``**\n",
    "  - **``mpg``**: Miles per gallon (fuel efficiency).\n",
    "  - **``cylinders``**: Number of cylinders in the engine.\n",
    "  - **``displacement``**: Engine displacement (in cubic inches).\n",
    "  - **``horsepower``**: Engine horsepower.\n",
    "  - **``weight``**: Vehicle weight (in pounds).\n",
    "  - **``acceleration``**: Time taken to accelerate from 0 to 60 mph (in seconds).\n",
    "  - **``model_year``**: The year of the model (1970–1982).\n",
    "  - **``origin``**: The origin of the car (e.g., \"usa\", \"europe\", \"japan\").\n",
    "  - **``name``**: The name of the car."
   ]
  },
  {
   "cell_type": "markdown",
   "metadata": {},
   "source": [
    "<p style=\"background-color:#FFFFFF; font-family:newtimeroman; color:#0000FF; font-size:125%; text-align:left;\">\n",
    "    👉 <span style=\"color:red;\">Research Question:</span> <span style=\"color:green;\">Does the origin of cars affect the number of cylinders at the significance level of 0.05? In other words, origin and cylinders variables are dependent or not?</span>\n",
    "</p>"
   ]
  },
  {
   "cell_type": "markdown",
   "metadata": {},
   "source": [
    "#### <p style=\"background-color:#FFFFFF; font-family:newtimeroman; color:#0000FF; font-size:125%; text-align:left;\"><strong>STEP-01: Stating the null (H0) and alternative hypothesis (Ha or H1).</strong></p>"
   ]
  },
  {
   "cell_type": "raw",
   "metadata": {},
   "source": [
    "Null Hypothesis (H₀): Ho: The two categorical variables (origin & cylinders) are independent.\n",
    "The two categorical variables (origin and cylinders) are independent.\n",
    "\n",
    "Alternative Hypothesis (H₁): H1: The two categorical variables (origin & cylinders) are dependent.\n",
    "The two categorical variables (origin and cylinders) are dependent."
   ]
  },
  {
   "cell_type": "markdown",
   "metadata": {},
   "source": [
    "**Creating a Cross-Tabulation (contingency table):**"
   ]
  },
  {
   "cell_type": "code",
   "execution_count": 35,
   "metadata": {
    "colab": {
     "base_uri": "https://localhost:8080/",
     "height": 175
    },
    "executionInfo": {
     "elapsed": 292,
     "status": "ok",
     "timestamp": 1673288145688,
     "user": {
      "displayName": "Richard Thames",
      "userId": "00258987493291873022"
     },
     "user_tz": -180
    },
    "id": "IG5qsJrSxlVM",
    "outputId": "1baf0e24-0b55-481c-9d39-c63bb6d4580e"
   },
   "outputs": [
    {
     "data": {
      "text/html": [
       "<div>\n",
       "<style scoped>\n",
       "    .dataframe tbody tr th:only-of-type {\n",
       "        vertical-align: middle;\n",
       "    }\n",
       "\n",
       "    .dataframe tbody tr th {\n",
       "        vertical-align: top;\n",
       "    }\n",
       "\n",
       "    .dataframe thead th {\n",
       "        text-align: right;\n",
       "    }\n",
       "</style>\n",
       "<table border=\"1\" class=\"dataframe\">\n",
       "  <thead>\n",
       "    <tr style=\"text-align: right;\">\n",
       "      <th>cylinders</th>\n",
       "      <th>3</th>\n",
       "      <th>4</th>\n",
       "      <th>5</th>\n",
       "      <th>6</th>\n",
       "      <th>8</th>\n",
       "    </tr>\n",
       "    <tr>\n",
       "      <th>origin</th>\n",
       "      <th></th>\n",
       "      <th></th>\n",
       "      <th></th>\n",
       "      <th></th>\n",
       "      <th></th>\n",
       "    </tr>\n",
       "  </thead>\n",
       "  <tbody>\n",
       "    <tr>\n",
       "      <th>europe</th>\n",
       "      <td>0</td>\n",
       "      <td>63</td>\n",
       "      <td>3</td>\n",
       "      <td>4</td>\n",
       "      <td>0</td>\n",
       "    </tr>\n",
       "    <tr>\n",
       "      <th>japan</th>\n",
       "      <td>4</td>\n",
       "      <td>69</td>\n",
       "      <td>0</td>\n",
       "      <td>6</td>\n",
       "      <td>0</td>\n",
       "    </tr>\n",
       "    <tr>\n",
       "      <th>usa</th>\n",
       "      <td>0</td>\n",
       "      <td>72</td>\n",
       "      <td>0</td>\n",
       "      <td>74</td>\n",
       "      <td>103</td>\n",
       "    </tr>\n",
       "  </tbody>\n",
       "</table>\n",
       "</div>"
      ],
      "text/plain": [
       "cylinders  3   4  5   6    8\n",
       "origin                      \n",
       "europe     0  63  3   4    0\n",
       "japan      4  69  0   6    0\n",
       "usa        0  72  0  74  103"
      ]
     },
     "execution_count": 35,
     "metadata": {},
     "output_type": "execute_result"
    }
   ],
   "source": [
    "origin_crosstab = pd.crosstab(mpg[\"origin\"], mpg[\"cylinders\"])\n",
    "origin_crosstab"
   ]
  },
  {
   "cell_type": "markdown",
   "metadata": {},
   "source": [
    "#### <p style=\"background-color:#FFFFFF; font-family:newtimeroman; color:#0000FF; font-size:125%; text-align:left;\"><strong>STEP-02-03: Calculating Test Statistic & p-value:</strong></p>"
   ]
  },
  {
   "cell_type": "code",
   "execution_count": 36,
   "metadata": {
    "colab": {
     "base_uri": "https://localhost:8080/"
    },
    "executionInfo": {
     "elapsed": 252,
     "status": "ok",
     "timestamp": 1673288148003,
     "user": {
      "displayName": "Richard Thames",
      "userId": "00258987493291873022"
     },
     "user_tz": -180
    },
    "id": "clZibojlx0_m",
    "outputId": "a0682f0c-fc46-4d43-efd9-e2588570a12d"
   },
   "outputs": [
    {
     "name": "stdout",
     "output_type": "stream",
     "text": [
      "Chi-Squared Statistic: 180.10177141976715\n",
      "P-value: 9.800693325588298e-35\n",
      "Degrees of Freedom: 8\n",
      "Expected Frequencies:\n",
      " [[  0.70351759  35.87939698   0.52763819  14.77386935  18.11557789]\n",
      " [  0.79396985  40.49246231   0.59547739  16.67336683  20.44472362]\n",
      " [  2.50251256 127.6281407    1.87688442  52.55276382  64.43969849]]\n"
     ]
    }
   ],
   "source": [
    "chi2_stat, p_value, dof, expected = stats.chi2_contingency(origin_crosstab)\n",
    "\n",
    "# print('stat=%.3f, p=%.4f' % (chi2_stat, p_value))\n",
    "\n",
    "print(\"Chi-Squared Statistic:\", chi2_stat)\n",
    "print(\"P-value:\", p_value)\n",
    "print(\"Degrees of Freedom:\", dof)\n",
    "print(\"Expected Frequencies:\\n\", expected)"
   ]
  },
  {
   "cell_type": "markdown",
   "metadata": {},
   "source": [
    "- **``Significance Level``**: specified as a significance level of 0.05.\n",
    "- **``P-value``**: The p-value is significantly less than 0.05 (p = 0.0000), which leads us to reject the null hypothesis (H₀)."
   ]
  },
  {
   "cell_type": "markdown",
   "metadata": {},
   "source": [
    "#### <p style=\"background-color:#FFFFFF; font-family:newtimeroman; color:#0000FF; font-size:125%; text-align:left;\"><strong>STEP-04: Comparing Test Statistic to Critical Value to Make a decision:</strong></p>"
   ]
  },
  {
   "cell_type": "code",
   "execution_count": 37,
   "metadata": {},
   "outputs": [
    {
     "name": "stdout",
     "output_type": "stream",
     "text": [
      "At 0.05 level of significance, we can REJECT the Null Hypothesis (H0) in favor of Alternative hypothesis (H1) and \n",
      "it can be concluded that two categorical variables ['origin'] and ['cylinders'] are statistically dependent.\n"
     ]
    }
   ],
   "source": [
    "alpha = 0.05\n",
    "\n",
    "if p_value < alpha:\n",
    "    print('At {} level of significance, we can REJECT the Null Hypothesis (H0) in favor of Alternative hypothesis (H1) and \\nit can be concluded that two categorical variables {} and {} are statistically dependent.'.format(alpha, origin_crosstab.index.names, origin_crosstab.columns.names))\n",
    "else:\n",
    "    print('At {} level of significance, we FAIL to REJECT the Null Hypothesis (H0)and \\nit can be concluded that two categorical variables {} and {} are statistically independent.'.format(alpha, origin_crosstab.index.names, origin_crosstab.columns.names))"
   ]
  },
  {
   "cell_type": "markdown",
   "metadata": {},
   "source": [
    "<p style=\"background-color:#FFFFFF; font-family:newtimeroman; color:#0000FF; font-size:125%; text-align:left;\">\n",
    "    👉 <span style=\"color:green;\">Conclusion:</span>\n",
    "</p>\n",
    "\n",
    "- Since you reject the null hypothesis, you conclude that there is a statistically significant relationship between the origin of the cars and the number of cylinders. This indicates that the number of cylinders is influenced by the car's origin.\n",
    "\n",
    "\n",
    "<p style=\"background-color:#FFFFFF; font-family:newtimeroman; color:#0000FF; font-size:125%; text-align:left;\">\n",
    "    👉 <span style=\"color:green;\">Interpretation:</span>\n",
    "</p>\n",
    "\n",
    "  - **``Dependence``**: The results suggest that cars from different origins (e.g., USA, Europe, Japan) tend to have different distributions of cylinder counts. For instance, certain origins may favor smaller engines (fewer cylinders) while others may produce larger engines (more cylinders).\n",
    "  - **``Practical Implications``**: Understanding this relationship can provide insights into automotive engineering trends and consumer preferences based on geographical markets."
   ]
  },
  {
   "cell_type": "markdown",
   "metadata": {},
   "source": [
    "#### <p style=\"background-color:#FFFFFF; font-family:newtimeroman; color:#0000FF; font-size:125%; text-align:left;\"><strong>STEP-05: Visualizing the results:</strong></p>"
   ]
  },
  {
   "cell_type": "code",
   "execution_count": 38,
   "metadata": {},
   "outputs": [
    {
     "data": {
      "image/png": "[encoded data removed]",
      "text/plain": [
       "<Figure size 1000x500 with 1 Axes>"
      ]
     },
     "metadata": {},
     "output_type": "display_data"
    }
   ],
   "source": [
    "from scipy.stats import chi2\n",
    "\n",
    "# Given values from your chi-square test\n",
    "chi_statistic = 180.10177141976715\n",
    "calculated_p_value = 0.000\n",
    "alpha = 0.05\n",
    "dof = 8  # Degrees of freedom for chi-square test\n",
    "\n",
    "# Define the range for the chi-square distribution plot\n",
    "x = np.linspace(-5, chi2.ppf(0.999, dof), 1000)  # Extend x-axis to cover the chi-square distribution\n",
    "\n",
    "# Calculate the chi-square distribution\n",
    "y = chi2.pdf(x, dof)\n",
    "\n",
    "# Create the plot\n",
    "plt.figure(figsize=(10, 5))\n",
    "\n",
    "# Plot the chi-square distribution\n",
    "plt.plot(x, y, color='blue')\n",
    "\n",
    "# Mark the critical chi-square value for alpha (two-tailed test)\n",
    "chi_critical = chi2.ppf(1 - alpha, dof)\n",
    "plt.axvline(chi_critical, color='red', linestyle='--', label=f'Critical chi-square value ({round(chi_critical, 2)})')\n",
    "\n",
    "# Mark the calculated chi-square statistic\n",
    "plt.axvline(chi_statistic, color='green', linestyle='-', label=f'Calculated chi-square statistic ({chi_statistic:.2f})')\n",
    "\n",
    "# Fill the area from 0 to critical chi square value with light green at defined alpha level\n",
    "plt.fill_between(x, 0, y, where=(x < chi_critical), color='lightgreen', alpha=0.5, label=f'Fail to Reject Area ({alpha})')\n",
    "\n",
    "# Fill the rejection area(s) with light red based on defined alpha level\n",
    "plt.fill_between(x, 0, y, where=(x >= chi_critical), color='lightcoral', alpha=0.5, label=f'Rejection Area ({calculated_p_value:.4f})')\n",
    "\n",
    "# Add text for p-value and alpha\n",
    "# plt.text(7, 0.3, f'p-value: {calculated_p_value:.4f}', fontsize=10)\n",
    "# plt.text(7, 0.25, f'alpha: {alpha}', fontsize=10)\n",
    "plt.text(chi_statistic - 20,  0.05, f'chi statistic: {chi_statistic:.2f}', color='green', fontsize=10, ha='center', va='top')\n",
    "plt.text(chi_critical + 25, 0.05, f'chi critical value: {chi_critical:.2f}', color='red', fontsize=10, ha='center', va='top')\n",
    "\n",
    "# Add titles and labels\n",
    "plt.title('Chi-Square Distribution with Critical Region and Statistic', color='blue')\n",
    "plt.xlabel('chi-square value')\n",
    "plt.ylabel('Probability Density')\n",
    "plt.legend(fontsize='small')\n",
    "\n",
    "# Set y-axis limit to start from zero\n",
    "plt.ylim(bottom=0)\n",
    "\n",
    "# Remove grids\n",
    "plt.grid(False)\n",
    "\n",
    "# Show the plot\n",
    "plt.show()"
   ]
  },
  {
   "cell_type": "markdown",
   "metadata": {},
   "source": [
    "### <p style=\"background-color:#E51A59; font-family:newtimeroman; color:#FDFEFE; font-size:150%; text-align:left; border-radius:10px 10px;\">Example-06 (diamonds Dataset):</p>"
   ]
  },
  {
   "cell_type": "code",
   "execution_count": 39,
   "metadata": {},
   "outputs": [
    {
     "data": {
      "text/html": [
       "<div>\n",
       "<style scoped>\n",
       "    .dataframe tbody tr th:only-of-type {\n",
       "        vertical-align: middle;\n",
       "    }\n",
       "\n",
       "    .dataframe tbody tr th {\n",
       "        vertical-align: top;\n",
       "    }\n",
       "\n",
       "    .dataframe thead th {\n",
       "        text-align: right;\n",
       "    }\n",
       "</style>\n",
       "<table border=\"1\" class=\"dataframe\">\n",
       "  <thead>\n",
       "    <tr style=\"text-align: right;\">\n",
       "      <th></th>\n",
       "      <th>carat</th>\n",
       "      <th>cut</th>\n",
       "      <th>color</th>\n",
       "      <th>clarity</th>\n",
       "      <th>depth</th>\n",
       "      <th>table</th>\n",
       "      <th>price</th>\n",
       "      <th>x</th>\n",
       "      <th>y</th>\n",
       "      <th>z</th>\n",
       "    </tr>\n",
       "  </thead>\n",
       "  <tbody>\n",
       "    <tr>\n",
       "      <th>3876</th>\n",
       "      <td>0.83</td>\n",
       "      <td>Ideal</td>\n",
       "      <td>F</td>\n",
       "      <td>SI1</td>\n",
       "      <td>62.8</td>\n",
       "      <td>56.0</td>\n",
       "      <td>3482</td>\n",
       "      <td>5.97</td>\n",
       "      <td>6.01</td>\n",
       "      <td>3.76</td>\n",
       "    </tr>\n",
       "    <tr>\n",
       "      <th>25903</th>\n",
       "      <td>1.83</td>\n",
       "      <td>Ideal</td>\n",
       "      <td>H</td>\n",
       "      <td>SI1</td>\n",
       "      <td>61.5</td>\n",
       "      <td>56.0</td>\n",
       "      <td>15032</td>\n",
       "      <td>7.87</td>\n",
       "      <td>7.81</td>\n",
       "      <td>4.82</td>\n",
       "    </tr>\n",
       "    <tr>\n",
       "      <th>42474</th>\n",
       "      <td>0.50</td>\n",
       "      <td>Ideal</td>\n",
       "      <td>E</td>\n",
       "      <td>SI1</td>\n",
       "      <td>63.0</td>\n",
       "      <td>56.0</td>\n",
       "      <td>1317</td>\n",
       "      <td>5.13</td>\n",
       "      <td>5.06</td>\n",
       "      <td>3.21</td>\n",
       "    </tr>\n",
       "    <tr>\n",
       "      <th>33944</th>\n",
       "      <td>0.31</td>\n",
       "      <td>Ideal</td>\n",
       "      <td>H</td>\n",
       "      <td>SI1</td>\n",
       "      <td>61.3</td>\n",
       "      <td>56.0</td>\n",
       "      <td>464</td>\n",
       "      <td>4.36</td>\n",
       "      <td>4.39</td>\n",
       "      <td>2.68</td>\n",
       "    </tr>\n",
       "    <tr>\n",
       "      <th>13953</th>\n",
       "      <td>1.09</td>\n",
       "      <td>Premium</td>\n",
       "      <td>H</td>\n",
       "      <td>VS2</td>\n",
       "      <td>59.7</td>\n",
       "      <td>58.0</td>\n",
       "      <td>5677</td>\n",
       "      <td>6.73</td>\n",
       "      <td>6.66</td>\n",
       "      <td>4.00</td>\n",
       "    </tr>\n",
       "    <tr>\n",
       "      <th>18172</th>\n",
       "      <td>1.01</td>\n",
       "      <td>Very Good</td>\n",
       "      <td>E</td>\n",
       "      <td>VS1</td>\n",
       "      <td>63.4</td>\n",
       "      <td>58.0</td>\n",
       "      <td>7366</td>\n",
       "      <td>6.38</td>\n",
       "      <td>6.36</td>\n",
       "      <td>4.04</td>\n",
       "    </tr>\n",
       "    <tr>\n",
       "      <th>15007</th>\n",
       "      <td>1.27</td>\n",
       "      <td>Ideal</td>\n",
       "      <td>G</td>\n",
       "      <td>SI2</td>\n",
       "      <td>61.8</td>\n",
       "      <td>56.0</td>\n",
       "      <td>6045</td>\n",
       "      <td>6.96</td>\n",
       "      <td>6.93</td>\n",
       "      <td>4.29</td>\n",
       "    </tr>\n",
       "  </tbody>\n",
       "</table>\n",
       "</div>"
      ],
      "text/plain": [
       "       carat        cut color clarity  depth  table  price     x     y     z\n",
       "3876    0.83      Ideal     F     SI1   62.8   56.0   3482  5.97  6.01  3.76\n",
       "25903   1.83      Ideal     H     SI1   61.5   56.0  15032  7.87  7.81  4.82\n",
       "42474   0.50      Ideal     E     SI1   63.0   56.0   1317  5.13  5.06  3.21\n",
       "33944   0.31      Ideal     H     SI1   61.3   56.0    464  4.36  4.39  2.68\n",
       "13953   1.09    Premium     H     VS2   59.7   58.0   5677  6.73  6.66  4.00\n",
       "18172   1.01  Very Good     E     VS1   63.4   58.0   7366  6.38  6.36  4.04\n",
       "15007   1.27      Ideal     G     SI2   61.8   56.0   6045  6.96  6.93  4.29"
      ]
     },
     "execution_count": 39,
     "metadata": {},
     "output_type": "execute_result"
    }
   ],
   "source": [
    "diamonds = sns.load_dataset(\"diamonds\")\n",
    "\n",
    "diamonds.sample(7)"
   ]
  },
  {
   "cell_type": "markdown",
   "metadata": {},
   "source": [
    "<p style=\"background-color:#FFFFFF; font-family:newtimeroman; color:#0000FF; font-size:125%; text-align:left;\">\n",
    "    👉 <span style=\"color:red;\">Research Question:</span> <span style=\"color:green;\">Does the clarity of diomands affect their type of cut at the significance level of 0.01? In other words, cut and clarity variables are dependent or not?</span>\n",
    "</p>"
   ]
  },
  {
   "cell_type": "markdown",
   "metadata": {},
   "source": [
    "#### <p style=\"background-color:#FFFFFF; font-family:newtimeroman; color:#0000FF; font-size:125%; text-align:left;\"><strong>STEP-01: Stating the null (H0) and alternative hypothesis (Ha or H1).</strong></p>"
   ]
  },
  {
   "cell_type": "raw",
   "metadata": {},
   "source": [
    "Null Hypothesis (H₀): Ho: The two categorical variables (cut & clarity) are independent.\n",
    "The two categorical variables (cut and clarity) are independent.\n",
    "\n",
    "Alternative Hypothesis (H₁): H1: The two categorical variables (cut & clarity) are dependent.\n",
    "The two categorical variables (cut and clarity) are dependent."
   ]
  },
  {
   "cell_type": "markdown",
   "metadata": {},
   "source": [
    "**Creating a Cross-Tabulation (contingency table):**"
   ]
  },
  {
   "cell_type": "code",
   "execution_count": 40,
   "metadata": {},
   "outputs": [
    {
     "data": {
      "text/html": [
       "<div>\n",
       "<style scoped>\n",
       "    .dataframe tbody tr th:only-of-type {\n",
       "        vertical-align: middle;\n",
       "    }\n",
       "\n",
       "    .dataframe tbody tr th {\n",
       "        vertical-align: top;\n",
       "    }\n",
       "\n",
       "    .dataframe thead th {\n",
       "        text-align: right;\n",
       "    }\n",
       "</style>\n",
       "<table border=\"1\" class=\"dataframe\">\n",
       "  <thead>\n",
       "    <tr style=\"text-align: right;\">\n",
       "      <th>clarity</th>\n",
       "      <th>IF</th>\n",
       "      <th>VVS1</th>\n",
       "      <th>VVS2</th>\n",
       "      <th>VS1</th>\n",
       "      <th>VS2</th>\n",
       "      <th>SI1</th>\n",
       "      <th>SI2</th>\n",
       "      <th>I1</th>\n",
       "    </tr>\n",
       "    <tr>\n",
       "      <th>cut</th>\n",
       "      <th></th>\n",
       "      <th></th>\n",
       "      <th></th>\n",
       "      <th></th>\n",
       "      <th></th>\n",
       "      <th></th>\n",
       "      <th></th>\n",
       "      <th></th>\n",
       "    </tr>\n",
       "  </thead>\n",
       "  <tbody>\n",
       "    <tr>\n",
       "      <th>Ideal</th>\n",
       "      <td>1212</td>\n",
       "      <td>2047</td>\n",
       "      <td>2606</td>\n",
       "      <td>3589</td>\n",
       "      <td>5071</td>\n",
       "      <td>4282</td>\n",
       "      <td>2598</td>\n",
       "      <td>146</td>\n",
       "    </tr>\n",
       "    <tr>\n",
       "      <th>Premium</th>\n",
       "      <td>230</td>\n",
       "      <td>616</td>\n",
       "      <td>870</td>\n",
       "      <td>1989</td>\n",
       "      <td>3357</td>\n",
       "      <td>3575</td>\n",
       "      <td>2949</td>\n",
       "      <td>205</td>\n",
       "    </tr>\n",
       "    <tr>\n",
       "      <th>Very Good</th>\n",
       "      <td>268</td>\n",
       "      <td>789</td>\n",
       "      <td>1235</td>\n",
       "      <td>1775</td>\n",
       "      <td>2591</td>\n",
       "      <td>3240</td>\n",
       "      <td>2100</td>\n",
       "      <td>84</td>\n",
       "    </tr>\n",
       "    <tr>\n",
       "      <th>Good</th>\n",
       "      <td>71</td>\n",
       "      <td>186</td>\n",
       "      <td>286</td>\n",
       "      <td>648</td>\n",
       "      <td>978</td>\n",
       "      <td>1560</td>\n",
       "      <td>1081</td>\n",
       "      <td>96</td>\n",
       "    </tr>\n",
       "    <tr>\n",
       "      <th>Fair</th>\n",
       "      <td>9</td>\n",
       "      <td>17</td>\n",
       "      <td>69</td>\n",
       "      <td>170</td>\n",
       "      <td>261</td>\n",
       "      <td>408</td>\n",
       "      <td>466</td>\n",
       "      <td>210</td>\n",
       "    </tr>\n",
       "  </tbody>\n",
       "</table>\n",
       "</div>"
      ],
      "text/plain": [
       "clarity      IF  VVS1  VVS2   VS1   VS2   SI1   SI2   I1\n",
       "cut                                                     \n",
       "Ideal      1212  2047  2606  3589  5071  4282  2598  146\n",
       "Premium     230   616   870  1989  3357  3575  2949  205\n",
       "Very Good   268   789  1235  1775  2591  3240  2100   84\n",
       "Good         71   186   286   648   978  1560  1081   96\n",
       "Fair          9    17    69   170   261   408   466  210"
      ]
     },
     "execution_count": 40,
     "metadata": {},
     "output_type": "execute_result"
    }
   ],
   "source": [
    "cut_crosstab = pd.crosstab(diamonds[\"cut\"], diamonds[\"clarity\"])\n",
    "cut_crosstab"
   ]
  },
  {
   "cell_type": "code",
   "execution_count": 41,
   "metadata": {},
   "outputs": [
    {
     "data": {
      "text/plain": [
       "FrozenList(['cut'])"
      ]
     },
     "execution_count": 41,
     "metadata": {},
     "output_type": "execute_result"
    }
   ],
   "source": [
    "cut_crosstab.index.names"
   ]
  },
  {
   "cell_type": "code",
   "execution_count": 42,
   "metadata": {},
   "outputs": [
    {
     "data": {
      "text/plain": [
       "FrozenList(['clarity'])"
      ]
     },
     "execution_count": 42,
     "metadata": {},
     "output_type": "execute_result"
    }
   ],
   "source": [
    "cut_crosstab.columns.names"
   ]
  },
  {
   "cell_type": "markdown",
   "metadata": {},
   "source": [
    "**``🎁 BONUS INFO:``** FrozenList is a type of data structure in Python, introduced in Python 3.9 as part of the collections module. It is similar to a regular list but is immutable, meaning that once it is created, its contents cannot be changed (i.e., you cannot add, remove, or modify elements).\n",
    "   - **``Data Integrity``**: When you need to ensure that your data does not change throughout its lifecycle.\n",
    "   - **``Performance``**: In some cases, immutable data structures can offer performance benefits, especially in multi-threaded environments."
   ]
  },
  {
   "cell_type": "markdown",
   "metadata": {},
   "source": [
    "#### <p style=\"background-color:#FFFFFF; font-family:newtimeroman; color:#0000FF; font-size:125%; text-align:left;\"><strong>STEP-02-03: Calculating Test Statistic & p-value:</strong></p>"
   ]
  },
  {
   "cell_type": "code",
   "execution_count": 43,
   "metadata": {},
   "outputs": [
    {
     "name": "stdout",
     "output_type": "stream",
     "text": [
      "Chi-Squared Statistic: 4391.398067200363\n",
      "P-value: 0.0\n",
      "Degrees of Freedom: 28\n",
      "Expected Frequencies:\n",
      " [[ 715.17037449 1460.30598813 2024.05202076 3264.61292176 4897.51868743\n",
      "  5219.94466073 3673.33878383  296.05656285]\n",
      " [ 457.65461624  934.48470523 1295.23926585 2089.1038376  3134.03926585\n",
      "  3340.36735261 2350.65728587  189.45367075]\n",
      " [ 400.94141639  818.68205413 1134.73140527 1830.21916945 2745.6647386\n",
      "  2926.4243604  2059.36054876  165.97630701]\n",
      " [ 162.80571005  332.43288839  460.76744531  743.17623285 1114.90077864\n",
      "  1188.29977753  836.22106044   67.39610679]\n",
      " [  53.42788283  109.09436411  151.20986281  243.88783834  365.87652948\n",
      "   389.96384872  274.4223211    22.11735261]]\n"
     ]
    }
   ],
   "source": [
    "chi2_stat, p_value, dof, expected = stats.chi2_contingency(cut_crosstab)\n",
    "\n",
    "# print('stat=%.3f, p=%.4f' % (chi2_stat, p_value))\n",
    "\n",
    "print(\"Chi-Squared Statistic:\", chi2_stat)\n",
    "print(\"P-value:\", p_value)\n",
    "print(\"Degrees of Freedom:\", dof)\n",
    "print(\"Expected Frequencies:\\n\", expected)"
   ]
  },
  {
   "cell_type": "markdown",
   "metadata": {},
   "source": [
    "- **``Significance Level``**: specified as a significance level of 0.01.\n",
    "- **``P-value``**: The p-value is significantly less than 0.01 (p = 0.0000), which leads us to reject the null hypothesis (H₀)."
   ]
  },
  {
   "cell_type": "markdown",
   "metadata": {},
   "source": [
    "#### <p style=\"background-color:#FFFFFF; font-family:newtimeroman; color:#0000FF; font-size:125%; text-align:left;\"><strong>STEP-04: Comparing Test Statistic to Critical Value to Make a decision:</strong></p>"
   ]
  },
  {
   "cell_type": "code",
   "execution_count": 44,
   "metadata": {},
   "outputs": [
    {
     "name": "stdout",
     "output_type": "stream",
     "text": [
      "At 0.01 level of significance, we can REJECT the Null Hypothesis (H0) in favor of Alternative hypothesis (H1) and \n",
      "it can be concluded that two categorical variables ['cut'] and ['clarity'] are statistically dependent.\n"
     ]
    }
   ],
   "source": [
    "alpha = 0.01\n",
    "\n",
    "if p_value < alpha:\n",
    "    print('At {} level of significance, we can REJECT the Null Hypothesis (H0) in favor of Alternative hypothesis (H1) and \\nit can be concluded that two categorical variables {} and {} are statistically dependent.'.format(alpha, cut_crosstab.index.names, cut_crosstab.columns.names))\n",
    "else:\n",
    "    print('At {} level of significance, we FAIL to REJECT the Null Hypothesis (H0)and \\nit can be concluded that two categorical variables {} and {} are statistically independent.'.format(alpha, cut_crosstab.index.names, cut_crosstab.columns.names))"
   ]
  },
  {
   "cell_type": "markdown",
   "metadata": {},
   "source": [
    "<p style=\"background-color:#FFFFFF; font-family:newtimeroman; color:#0000FF; font-size:125%; text-align:left;\">\n",
    "    👉 <span style=\"color:green;\">Conclusion:</span>\n",
    "</p>\n",
    "\n",
    "   - Since you reject the null hypothesis, you conclude that there is a statistically significant relationship between the clarity of diamonds and their cut. This indicates that the clarity classification of a diamond influences its cut type.\n",
    "\n",
    "<p style=\"background-color:#FFFFFF; font-family:newtimeroman; color:#0000FF; font-size:125%; text-align:left;\">\n",
    "    👉 <span style=\"color:green;\">Interpretation:</span>\n",
    "</p>\n",
    "\n",
    "- **``Dependence``**: The results suggest that different levels of clarity are associated with specific types of cuts. For example, higher clarity diamonds may be more likely to be cut in a particular style compared to lower clarity diamonds.\n",
    "  - **``Practical Implications``**: Understanding this relationship can be valuable for jewelers and retailers in marketing and pricing strategies, as certain cuts may be preferred for diamonds of specific clarity grades."
   ]
  },
  {
   "cell_type": "markdown",
   "metadata": {},
   "source": [
    "#### <p style=\"background-color:#FFFFFF; font-family:newtimeroman; color:#0000FF; font-size:125%; text-align:left;\"><strong>STEP-05: Visualizing the results:</strong></p>"
   ]
  },
  {
   "cell_type": "code",
   "execution_count": 45,
   "metadata": {},
   "outputs": [
    {
     "data": {
      "image/png": "[encoded data removed]",
      "text/plain": [
       "<Figure size 1000x500 with 1 Axes>"
      ]
     },
     "metadata": {},
     "output_type": "display_data"
    }
   ],
   "source": [
    "from scipy.stats import chi2\n",
    "\n",
    "# Given values from your chi-square test\n",
    "chi_statistic = 4391.398067200363\n",
    "calculated_p_value = 0.000\n",
    "alpha = 0.01\n",
    "dof = 28  # Degrees of freedom for chi-square test\n",
    "\n",
    "# Define the range for the chi-square distribution plot\n",
    "x = np.linspace(-5, chi2.ppf(0.999, dof), 1000)  # Extend x-axis to cover the chi-square distribution\n",
    "\n",
    "# Calculate the chi-square distribution\n",
    "y = chi2.pdf(x, dof)\n",
    "\n",
    "# Create the plot\n",
    "plt.figure(figsize=(10, 5))\n",
    "\n",
    "# Plot the chi-square distribution\n",
    "plt.plot(x, y, color='blue')\n",
    "\n",
    "# Mark the critical chi-square value for alpha (two-tailed test)\n",
    "chi_critical = chi2.ppf(1 - alpha, dof)\n",
    "plt.axvline(chi_critical, color='red', linestyle='--', label=f'Critical chi-square value ({round(chi_critical, 2)})')\n",
    "\n",
    "# Mark the calculated chi-square statistic\n",
    "plt.axvline(chi_statistic, color='green', linestyle='-', label=f'Calculated chi-square statistic ({chi_statistic:.2f})')\n",
    "\n",
    "# Fill the area from 0 to critical chi square value with light green at defined alpha level\n",
    "plt.fill_between(x, 0, y, where=(x < chi_critical), color='lightgreen', alpha=0.5, label=f'Fail to Reject Area ({alpha})')\n",
    "\n",
    "# Fill the rejection area(s) with light red based on defined alpha level\n",
    "plt.fill_between(x, 0, y, where=(x >= chi_critical), color='lightcoral', alpha=0.5, label=f'Rejection Area ({calculated_p_value:.4f})')\n",
    "\n",
    "# Add text for p-value and alpha\n",
    "# plt.text(7, 0.3, f'p-value: {calculated_p_value:.4f}', fontsize=10)\n",
    "# plt.text(7, 0.25, f'alpha: {alpha}', fontsize=10)\n",
    "plt.text(chi_statistic - 500,  0.025, f'chi statistic: {chi_statistic:.2f}', color='green', fontsize=10, ha='center', va='top')\n",
    "plt.text(chi_critical + 600, 0.025, f'chi critical value: {chi_critical:.2f}', color='red', fontsize=10, ha='center', va='top')\n",
    "\n",
    "# Add titles and labels\n",
    "plt.title('Chi-Square Distribution with Critical Region and Statistic', color='blue')\n",
    "plt.xlabel('chi-square value')\n",
    "plt.ylabel('Probability Density')\n",
    "plt.legend(fontsize='small')\n",
    "\n",
    "# Set y-axis limit to start from zero\n",
    "plt.ylim(bottom=0)\n",
    "\n",
    "# Remove grids\n",
    "plt.grid(False)\n",
    "\n",
    "# Show the plot\n",
    "plt.show()"
   ]
  },
  {
   "cell_type": "markdown",
   "metadata": {},
   "source": [
    "### <p style=\"background-color:#E51A59; font-family:newtimeroman; color:#FDFEFE; font-size:150%; text-align:left; border-radius:10px 10px;\">It's your turn (Pick up any built-in Dataset from Seaborn library):</p>"
   ]
  },
  {
   "cell_type": "code",
   "execution_count": 46,
   "metadata": {
    "colab": {
     "base_uri": "https://localhost:8080/"
    },
    "executionInfo": {
     "elapsed": 685,
     "status": "ok",
     "timestamp": 1673288183011,
     "user": {
      "displayName": "Richard Thames",
      "userId": "00258987493291873022"
     },
     "user_tz": -180
    },
    "id": "VAad6nIUx4gI",
    "outputId": "9123084b-e1f5-49fc-e151-fe7fd26efd8e"
   },
   "outputs": [
    {
     "data": {
      "text/plain": [
       "['anagrams',\n",
       " 'anscombe',\n",
       " 'attention',\n",
       " 'brain_networks',\n",
       " 'car_crashes',\n",
       " 'diamonds',\n",
       " 'dots',\n",
       " 'dowjones',\n",
       " 'exercise',\n",
       " 'flights',\n",
       " 'fmri',\n",
       " 'geyser',\n",
       " 'glue',\n",
       " 'healthexp',\n",
       " 'iris',\n",
       " 'mpg',\n",
       " 'penguins',\n",
       " 'planets',\n",
       " 'seaice',\n",
       " 'taxis',\n",
       " 'tips',\n",
       " 'titanic']"
      ]
     },
     "execution_count": 46,
     "metadata": {},
     "output_type": "execute_result"
    }
   ],
   "source": [
    "sns.get_dataset_names()"
   ]
  },
  {
   "cell_type": "code",
   "execution_count": null,
   "metadata": {},
   "outputs": [],
   "source": []
  },
  {
   "cell_type": "markdown",
   "metadata": {},
   "source": [
    "#### <p style=\"background-color:#FFFFFF; font-family:newtimeroman; color:#0000FF; font-size:125%; text-align:left;\"><strong>STEP-01: Stating the null (H0) and alternative hypothesis (Ha or H1).</strong></p>"
   ]
  },
  {
   "cell_type": "code",
   "execution_count": null,
   "metadata": {},
   "outputs": [],
   "source": []
  },
  {
   "cell_type": "markdown",
   "metadata": {},
   "source": [
    "#### <p style=\"background-color:#FFFFFF; font-family:newtimeroman; color:#0000FF; font-size:125%; text-align:left;\"><strong>STEP-02-03: Calculating Test Statistic & p-value:</strong></p>"
   ]
  },
  {
   "cell_type": "code",
   "execution_count": null,
   "metadata": {},
   "outputs": [],
   "source": []
  },
  {
   "cell_type": "markdown",
   "metadata": {},
   "source": [
    "#### <p style=\"background-color:#FFFFFF; font-family:newtimeroman; color:#0000FF; font-size:125%; text-align:left;\"><strong>STEP-04: Comparing Test Statistic to Critical Value to Make a decision:</strong></p>"
   ]
  },
  {
   "cell_type": "code",
   "execution_count": null,
   "metadata": {},
   "outputs": [],
   "source": []
  },
  {
   "cell_type": "markdown",
   "metadata": {},
   "source": [
    "#### <p style=\"background-color:#FFFFFF; font-family:newtimeroman; color:#0000FF; font-size:125%; text-align:left;\"><strong>STEP-05: Visualizing the results:</strong></p>"
   ]
  },
  {
   "cell_type": "code",
   "execution_count": null,
   "metadata": {},
   "outputs": [],
   "source": []
  },
  {
   "cell_type": "markdown",
   "metadata": {},
   "source": [
    "## <p style=\"background-color:#FDFEFE; font-family:newtimeroman; color:#E51A59; font-size:150%; text-align:center; border-radius:10px 10px;\">End of the Session - 07</p>\n",
    "\n",
    "<p style=\"text-align: center;\"><img src=\"https://i.ibb.co/99DQ3TY/DS-Courses.png\" class=\"img-fluid\" \n",
    "alt=\"CLRSWY\"></p>\n",
    "\n",
    "\n",
    "<br><br><br>\n",
    "\n",
    "<p style=\"text-align: center;\"><img src=\"https://i.ibb.co/Rpz9L36/clarusway-logo-black.png\" width=\"450\" height=\"200\" class=\"img-fluid\" alt=\"CLRSWY_LOGO\"></p>\n",
    "\n",
    "<p style=\"background-color:#E51A59; font-family:newtimeroman; color:#FDFEFE; font-size:130%; text-align:center; border-radius:10px 10px;\">WAY TO REINVENT YOURSELF</p>"
   ]
  },
  {
   "cell_type": "markdown",
   "metadata": {
    "deletable": false,
    "editable": false
   },
   "source": [
    "<a href=\"https://clarusway.com/contact-us/\"><img align=\"center\" src=\"https://i.ibb.co/B43qn24/officially-licensed-logo.png\" alt=\"Open in Clarusway LMS\" width=\"110\" height=\"200\" title=\"This notebook is licensed by Clarusway IT training school. Please contact the authorized persons about the conditions under which you can use or share.\"></a>"
   ]
  }
 ],
 "metadata": {
  "colab": {
   "provenance": [
    {
     "file_id": "1g0l6wGovUU2sFAbkCcDjhIi44avshlBX",
     "timestamp": 1662894358657
    }
   ]
  },
  "kernelspec": {
   "display_name": "Python 3 (ipykernel)",
   "language": "python",
   "name": "python3"
  },
  "language_info": {
   "codemirror_mode": {
    "name": "ipython",
    "version": 3
   },
   "file_extension": ".py",
   "mimetype": "text/x-python",
   "name": "python",
   "nbconvert_exporter": "python",
   "pygments_lexer": "ipython3",
   "version": "3.11.5"
  },
  "toc": {
   "base_numbering": 1,
   "nav_menu": {},
   "number_sections": false,
   "sideBar": true,
   "skip_h1_title": false,
   "title_cell": "Table of Contents",
   "title_sidebar": "Contents",
   "toc_cell": false,
   "toc_position": {
    "height": "calc(100% - 180px)",
    "left": "10px",
    "top": "150px",
    "width": "320px"
   },
   "toc_section_display": true,
   "toc_window_display": true
  },
  "varInspector": {
   "cols": {
    "lenName": 16,
    "lenType": 16,
    "lenVar": 40
   },
   "kernels_config": {
    "python": {
     "delete_cmd_postfix": "",
     "delete_cmd_prefix": "del ",
     "library": "var_list.py",
     "varRefreshCmd": "print(var_dic_list())"
    },
    "r": {
     "delete_cmd_postfix": ") ",
     "delete_cmd_prefix": "rm(",
     "library": "var_list.r",
     "varRefreshCmd": "cat(var_dic_list()) "
    }
   },
   "types_to_exclude": [
    "module",
    "function",
    "builtin_function_or_method",
    "instance",
    "_Feature"
   ],
   "window_display": false
  }
 },
 "nbformat": 4,
 "nbformat_minor": 1
}
