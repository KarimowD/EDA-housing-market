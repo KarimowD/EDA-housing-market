{
 "cells": [
  {
   "cell_type": "markdown",
   "metadata": {
    "deletable": false,
    "editable": false
   },
   "source": [
    "<a href=\"https://clarusway.com/contact-us/\"><img align=\"center\" src=\"https://i.ibb.co/B43qn24/officially-licensed-logo.png\" alt=\"Open in Clarusway LMS\" width=\"110\" height=\"200\" title=\"This notebook is licensed by Clarusway IT training school. Please contact the authorized persons about the conditions under which you can use or share.\"></a>"
   ]
  },
  {
   "cell_type": "markdown",
   "metadata": {},
   "source": [
    "<hr>\n",
    "\n",
    "<a href=\"https://clarusway.com/\"><img align=\"center\" src=\"https://i.ibb.co/Rpz9L36/clarusway-logo-black.png\" width=\"450\" height=\"200\" alt=\"CLRSWY_LOGO\" title=\"Open and Execute in Google Colaboratory\"></a><br/>\n",
    "\n",
    "<p style=\"background-color:#E51A59; font-family:newtimeroman; color:#FDFEFE; font-size:130%; text-align:center; border-radius:10px 10px;\">WAY TO REINVENT YOURSELF</p>\n",
    "\n",
    "<p style=\"text-align: center;\"><img src=\"https://i.ibb.co/Vp7VhzT/stats.png\" class=\"img-fluid\" alt=\"STATS\" width=\"600\" height=\"200\"></p>\n",
    "\n",
    "## <p style=\"background-color:#FDFEFE; font-family:newtimeroman; color:#0000FF; font-size:150%; text-align:center; border-radius:10px 10px;\">SESSION-05 (Basic Concepts of Hypothesis Testing)</p>\n",
    "\n",
    "<p style=\"background-color:#FFFFFF; font-family:newtimeroman; color:#0000FF; font-size:110%; text-align:left;\"><strong>-----------------------------------------------------------------------------------------------------------------------------------------------------------------------------------------------</strong></p>\n"
   ]
  },
  {
   "cell_type": "markdown",
   "metadata": {},
   "source": [
    "\n",
    "\n",
    "<p style=\"background-color:#FFFFFF; font-family:newtimeroman; color:#0000FF; font-size:125%; text-align:left;\"><strong>Statistical Inference:</strong></p>\n",
    "\n",
    "**``Confidence intervals``** are one of the two most common types of statistical inference. Researchers use a confidence interval when their goal is ``to estimate a population parameter``. \n",
    "\n",
    "The second common type of inference, called a **``test of significance``**, has a different goal: ``to assess the evidence provided by data about some claim concerning a population``. A ``test of significance`` is a formal procedure for comparing observed data with a claim (also called a hypothesis), the truth of which is being assessed. \n",
    "- The ``claim`` is a ``statement about a parameter``, like the population proportion p or the population mean μ.\n",
    "- The ``results of a significance`` test are expressed in terms of a probability that measures ``how well the data and the claim agree``.\n",
    "   - In order to determine if two numbers are significantly different, a statistical test must be conducted to provide evidence. Researchers cannot rely on subjective interpretations.\n",
    "   - Researchers must collect statistical evidence to make a claim, and this is done by conducting a test of statistical significance."
   ]
  },
  {
   "cell_type": "markdown",
   "metadata": {},
   "source": [
    "#### <p style=\"background-color:#E51A59; font-family:newtimeroman; color:#FDFEFE; font-size:175%; text-align:left; border-radius:10px 10px;\">Libraries Needed in this Notebook:</p>\n",
    "\n",
    "First we must import the related libraries of Numpy, Pandas, Matplotlib and Seaborn for our analysis. We are importing the required modules by using the import keyword. "
   ]
  },
  {
   "cell_type": "code",
   "execution_count": 1,
   "metadata": {
    "executionInfo": {
     "elapsed": 315,
     "status": "ok",
     "timestamp": 1662784676074,
     "user": {
      "displayName": "Richard Thames",
      "userId": "00258987493291873022"
     },
     "user_tz": -180
    },
    "id": "fiWDbiDD2lmT"
   },
   "outputs": [],
   "source": [
    "# Importing related libraries\n",
    "\n",
    "# import statsmodels.api as sm\n",
    "import pandas as pd\n",
    "import numpy as np\n",
    "import matplotlib.pyplot as plt\n",
    "from scipy import stats\n",
    "import scipy.stats as stats\n",
    "from scipy.stats import t\n",
    "from math import sqrt"
   ]
  },
  {
   "cell_type": "markdown",
   "metadata": {
    "id": "Kqhaon5X2lmL"
   },
   "source": [
    "# [One Sample Z-Test](https://www.analystsoft.com/en/products/statplus/content/help/analysis_basic_statistics_one_sample_z-test.html)\n",
    "\n",
    "The **``One-Sample z-test``** is used when we want to know ``whether the difference between the mean of a sample mean and the mean of a population is large enough to be statistically significant``, that is, if it is unlikely to have occurred by chance. The test is considered robust for violations of normal distribution and it is usually applied to relatively **``large samples (N > 30)``** or **``when the population variance is known``**, otherwise you might consider using t-test.\n",
    "\n",
    "<p style=\"background-color:#FFFFFF; font-family:newtimeroman; color:#0000FF; font-size:125%; text-align:left;\"><strong>Assumptions:</strong></p>\n",
    "\n",
    " - 👉 **``Mean``** and **``variance``** of the population are **``known``**.\n",
    " - 👉 The test statistic follows **``normal distribution``**.\n",
    "\n",
    "**[One Sample Z-Test: Definition, Formula, and Example](https://www.statology.org/one-sample-z-test/)**<br>\n",
    "**[One-Sample Z-Test](http://psychology.emory.edu/clinical/bliwise/Tutorials/TOM/meanstests/zone.htm#:~:text=The%20one%2Dsample%20Z%20test%20compares%20a%20sample%20to%20a,central%20tendency%20and%20variability%2Fdispersion.)**<br>\n",
    "**[One Sample Z-Test: How to Run One](https://www.statisticshowto.com/one-sample-z-test/)**"
   ]
  },
  {
   "cell_type": "markdown",
   "metadata": {
    "id": "mJH02eQn2lmS"
   },
   "source": [
    "## <p style=\"background-color:#E51A59; font-family:newtimeroman; color:#FFFFFF; font-size:175%; text-align:center; border-radius:10px 10px;\">A - One Sample z-Test</p>\n",
    "\n",
    "<p style=\"background-color:#FFFFFF; font-family:newtimeroman; color:#0000FF; font-size:125%; text-align:left;\"><strong>💡🚨📢👉 Performed when the ``population means`` and ``standard deviation`` are ``KNOWN`` ❗❗❗</strong></p>\n",
    "\n",
    "<img src=https://i.ibb.co/Z1fMJ47/decision-tree.png width=\"600\" height=\"200\">\n",
    "\n",
    "<p style=\"background-color:#FFFFFF; font-family:newtimeroman; color:#0000FF; font-size:110%; text-align:left;\"><strong>-----------------------------------------------------------------------------------------------------------------------------------------------------------------------------------------------</strong></p>\n"
   ]
  },
  {
   "cell_type": "markdown",
   "metadata": {
    "id": "SCxyfVJ72lmS"
   },
   "source": [
    "### <p style=\"background-color:#E51A59; font-family:newtimeroman; color:#FDFEFE; font-size:150%; text-align:left; border-radius:10px 10px;\">Example-01 (One Sample z-Test):</p>"
   ]
  },
  {
   "cell_type": "markdown",
   "metadata": {
    "id": "5c00Iz_K2lmT"
   },
   "source": [
    "#### <p style=\"background-color:#FFFFFF; font-family:newtimeroman; color:#0000FF; font-size:125%; text-align:left; font-weight: bold;\">🔔📢👉 Reminder: Always check the following assumptions step by step before performing statistical tests.</p>  \n",
    "<p style=\"text-align: center;\"><img src=\"https://i.ibb.co/G0vg8c2/significance-test-steps.png\" class=\"img-fluid\" alt=\"STATS\" width=\"300\" height=\"200\"></p>"
   ]
  },
  {
   "cell_type": "markdown",
   "metadata": {},
   "source": [
    "- **Suppose that a beach is safe to swim if the mean level of lead in the water is ``10.0 (μ0)`` parts/million.**  \n",
    "  - **We assume Xi ~ N (μ, ``σ=1.5``)**\n",
    "  - **Water safety is going to be determined by taking ``40 water samples`` and using the test statistic.** \n",
    "    - **``Sample mean=10.5``**\n",
    "    - **``α=0.05``**"
   ]
  },
  {
   "cell_type": "markdown",
   "metadata": {},
   "source": [
    "<p style=\"background-color:#FFFFFF; font-family:newtimeroman; color:#0000FF; font-size:125%; text-align:left;\"><strong>Given Variables:</strong></p>"
   ]
  },
  {
   "cell_type": "code",
   "execution_count": 2,
   "metadata": {
    "id": "5UU9HfZi2lmU"
   },
   "outputs": [],
   "source": [
    "# Writing the given variables\n",
    "\n",
    "x_bar = 10.5  # Sample mean\n",
    "n = 40        # Sample size\n",
    "sigma = 1.5   # Population standard deviation\n",
    "mu = 10       # Hypothesized population mean"
   ]
  },
  {
   "cell_type": "markdown",
   "metadata": {},
   "source": [
    "#### <p style=\"background-color:#FFFFFF; font-family:newtimeroman; color:#0000FF; font-size:125%; text-align:left;\"><strong>STEP-01: Stating the null (H0) and alternative hypothesis (Ha or H1).</strong></p>\n",
    "\n",
    "- The null hypothesis, denoted as H0, is the claim that is initially assumed to be true.\n",
    "- The alternative hypothesis, denoted as Ha, is a claim that is contradictory to H0.\n",
    "- We always test a null hypothesis against an alternative. \n",
    "- The null hypothesis represents the initially assumed true statement. \n",
    "- The null hypothesis is used as factually correct unless it can be proven beyond a reasonable doubt that it is untrue.\n",
    "- These two hypotheses are mutually exclusive (and usually exhaustive).\n",
    "***************************************************************************************************************************\n",
    "- In a right-tailed test, the alternative hypothesis (H1) states that the population parameter is greater than the value specified in the null hypothesis (H0)."
   ]
  },
  {
   "cell_type": "raw",
   "metadata": {},
   "source": [
    "The null hypothesis..........: H0: μ  <= 10\n",
    "The mean level of lead in the water is 10.0 parts/million (μ = 10.0).\n",
    "    \n",
    "The alternative hypothesis...: Ha: μ  > 10\n",
    "The mean level of lead in the water is greater than 10.0 parts/million (μ > 10.0)."
   ]
  },
  {
   "cell_type": "markdown",
   "metadata": {},
   "source": [
    "<img src=https://i.ibb.co/4Sggp8f/one-two-tailed.png width=\"400\" height=\"200\">\n",
    "<img src=https://i.ibb.co/tbpc616/alpha-values.png width=\"200\" height=\"200\">"
   ]
  },
  {
   "cell_type": "markdown",
   "metadata": {
    "id": "l62qBl7N2lmU"
   },
   "source": [
    "#### <p style=\"background-color:#FFFFFF; font-family:newtimeroman; color:#0000FF; font-size:125%; text-align:left;\"><strong>STEP-02: Calculating the test statistic:</strong></p>\n",
    "\n",
    "<img src=https://i.ibb.co/2ynY3cY/z-formula1.png width=\"600\" height=\"200\">\n",
    "\n",
    "<img src=https://i.ibb.co/FKkMk7W/Screenshot-42.png width=\"400\" height=\"200\">"
   ]
  },
  {
   "cell_type": "code",
   "execution_count": 3,
   "metadata": {
    "colab": {
     "base_uri": "https://localhost:8080/"
    },
    "executionInfo": {
     "elapsed": 7,
     "status": "ok",
     "timestamp": 1662658348024,
     "user": {
      "displayName": "Richard Thames",
      "userId": "00258987493291873022"
     },
     "user_tz": -180
    },
    "id": "nE_oBxpC2lmU",
    "outputId": "03030b59-1162-4eaf-9c9d-c0222b3c7b54"
   },
   "outputs": [
    {
     "data": {
      "text/plain": [
       "2.1081851067789197"
      ]
     },
     "execution_count": 3,
     "metadata": {},
     "output_type": "execute_result"
    }
   ],
   "source": [
    "# Calculate the z-statistic\n",
    "\n",
    "z = (x_bar-mu) / (sigma/sqrt(n))\n",
    "z"
   ]
  },
  {
   "cell_type": "markdown",
   "metadata": {
    "id": "WepdGOFB2lmV"
   },
   "source": [
    "#### <p style=\"background-color:#FFFFFF; font-family:newtimeroman; color:#0000FF; font-size:125%; text-align:left;\"><strong>STEP-03: Calculating the p-value:</strong></p>\n",
    "\n",
    "\n",
    "<img src=https://i.ibb.co/jRcqVnx/rejection-areas.png width=\"900\" height=\"200\">\n",
    "\n",
    "**[Source](https://sphweb.bumc.bu.edu/otlt/MPH-Modules/PH717-QuantCore/PH717-Module7-T-tests/PH717-Module7-T-tests4.html)**"
   ]
  },
  {
   "cell_type": "code",
   "execution_count": 4,
   "metadata": {
    "colab": {
     "base_uri": "https://localhost:8080/"
    },
    "executionInfo": {
     "elapsed": 7,
     "status": "ok",
     "timestamp": 1662658348025,
     "user": {
      "displayName": "Richard Thames",
      "userId": "00258987493291873022"
     },
     "user_tz": -180
    },
    "id": "fLEuq-_n2lmV",
    "outputId": "6ceb34e1-f9f6-44e5-8562-4d39eb2b03e4"
   },
   "outputs": [
    {
     "data": {
      "text/plain": [
       "0.017507490509831247"
      ]
     },
     "execution_count": 4,
     "metadata": {},
     "output_type": "execute_result"
    }
   ],
   "source": [
    "# Calculate the p-value for the right-tailed test\n",
    "\n",
    "p_value = 1 - stats.norm.cdf(z)\n",
    "# p_value = 1 - stats.norm.cdf(2.1081851067789197)\n",
    "p_value"
   ]
  },
  {
   "cell_type": "markdown",
   "metadata": {},
   "source": [
    "<!-- <img src=https://i.ibb.co/MNgLbWR/one-tailed.png width=\"300\" height=\"200\">\n",
    "\n",
    "<img src=https://i.ibb.co/ChYm8Rg/rejection-acceptance-areas.png width=\"300\" height=\"200\"> -->\n",
    "\n",
    "<div style=\"display: flex; justify-content: center; align-items: center; text-align: center;\">\n",
    "    <div style=\"margin: 10px;\">\n",
    "        <img src=\"https://i.ibb.co/MNgLbWR/one-tailed.png\" class=\"img-fluid\" alt=\"STATS\" width=\"310\" height=\"200\">\n",
    "    </div>\n",
    "    <div style=\"margin: 10px;\">\n",
    "        <img src=\"https://i.ibb.co/ChYm8Rg/rejection-acceptance-areas.png\" class=\"img-fluid\" alt=\"SECOND IMAGE\" width=\"380\" height=\"200\">\n",
    "    </div>\n",
    "</div>"
   ]
  },
  {
   "cell_type": "markdown",
   "metadata": {},
   "source": [
    "#### <p style=\"background-color:#FFFFFF; font-family:newtimeroman; color:#0000FF; font-size:125%; text-align:left;\"><strong>STEP-04: Comparing Test Statistic to Critical Value to Make a decision:</strong></p>"
   ]
  },
  {
   "cell_type": "code",
   "execution_count": 5,
   "metadata": {
    "colab": {
     "base_uri": "https://localhost:8080/"
    },
    "executionInfo": {
     "elapsed": 7,
     "status": "ok",
     "timestamp": 1662658349250,
     "user": {
      "displayName": "Richard Thames",
      "userId": "00258987493291873022"
     },
     "user_tz": -180
    },
    "id": "VoFW6ujX2lmW",
    "outputId": "9c2fc57a-38f4-4fc1-9b45-a709d033b22e"
   },
   "outputs": [
    {
     "name": "stdout",
     "output_type": "stream",
     "text": [
      "At 0.05 level of significance, we can reject the null hypothesis in favor of alternative hypothesis.\n"
     ]
    }
   ],
   "source": [
    "# Decision based on p-value\n",
    "\n",
    "alpha = 0.05\n",
    "\n",
    "if p_value < alpha:\n",
    "    print('At {} level of significance, we can reject the null hypothesis in favor of alternative hypothesis.'.format(alpha))\n",
    "else:\n",
    "    print('At {} level of significance, we fail to reject the null hypothesis.'.format(alpha))"
   ]
  },
  {
   "cell_type": "markdown",
   "metadata": {},
   "source": [
    "**``Interpretation of the Decision:``**\n",
    "- At the 0.05 level of significance, rejecting the null hypothesis means that there is sufficient evidence to conclude that the mean level of lead in the water is greater than 10.0 parts/million.\n",
    "\n",
    "**``Conclusion:``**\n",
    "- **``Safety Concern``**: Since the mean lead level is found to be significantly higher than the safety threshold, this indicates a potential health risk for swimmers.\n",
    "- **``Action Recommendation``**: It is advisable to issue warnings or restrictions on swimming at the beach until further testing or remediation of the water quality can be conducted.\n",
    "\n",
    "In summary, the results suggest that swimming in this area may NOT be safe due to elevated lead levels, and appropriate actions should be taken to protect public health."
   ]
  },
  {
   "cell_type": "markdown",
   "metadata": {},
   "source": [
    "**Making a decision comparing ``calculated`` and ``critical`` z scores:**"
   ]
  },
  {
   "cell_type": "code",
   "execution_count": 6,
   "metadata": {},
   "outputs": [
    {
     "name": "stdout",
     "output_type": "stream",
     "text": [
      "Critical z-value: 1.6449\n",
      "Calculated z-value: 2.1082\n",
      "Reject the null hypothesis.\n"
     ]
    }
   ],
   "source": [
    "# Calculate the z-statistic\n",
    "z_calculated = (x_bar - mu) / (sigma / np.sqrt(n))\n",
    "\n",
    "# Significance level\n",
    "alpha = 0.05\n",
    "\n",
    "# Critical z-value for the right-tailed test\n",
    "z_critical = stats.norm.ppf(1 - alpha)  # Use 1 - alpha for right-tailed\n",
    "\n",
    "# Print the critical z-value and the calculated z-value\n",
    "print(f'Critical z-value: {z_critical:.4f}')\n",
    "print(f'Calculated z-value: {z_calculated:.4f}')\n",
    "\n",
    "# Decision\n",
    "if z_calculated > z_critical:\n",
    "    print(\"Reject the null hypothesis.\")\n",
    "else:\n",
    "    print(\"Fail to reject the null hypothesis.\")"
   ]
  },
  {
   "cell_type": "markdown",
   "metadata": {},
   "source": [
    "- **``Critical Value:``**\n",
    "The critical z-value of 2.3263 (for α=0.01 in a right-tailed test) represents the threshold for rejecting the null hypothesis. It indicates the point above which we would reject the null hypothesis if our calculated z-statistic were to fall into that region.\n",
    "\n",
    "- **``Calculated z-Statistic:``**\n",
    "The calculated z-statistic of approximately 2.5492 is greater than the critical z-value of 2.3263. This means it falls into the rejection region, indicating that the sample mean is significantly greater than the hypothesized population mean.\n",
    "\n",
    "- **``Decision Rule:``**\n",
    "  - **``Right-Tailed Test``**: In a right-tailed test, you reject the null hypothesis if your calculated z-statistic is greater than the critical z-value. Since the critical z-value is 2.3263 and the calculated z-statistic is approximately 2.5492, you reject the null hypothesis. This means there is sufficient evidence to support the claim that the population mean is greater than the specified value at the 0.01 significance level."
   ]
  },
  {
   "cell_type": "markdown",
   "metadata": {},
   "source": [
    "#### <p style=\"background-color:#FFFFFF; font-family:newtimeroman; color:#0000FF; font-size:125%; text-align:left;\"><strong>STEP-05: Visualizing the results:</strong></p>"
   ]
  },
  {
   "cell_type": "code",
   "execution_count": 7,
   "metadata": {},
   "outputs": [
    {
     "data": {
      "image/png": "[encoded data removed]",
      "text/plain": [
       "<Figure size 1000x500 with 1 Axes>"
      ]
     },
     "metadata": {},
     "output_type": "display_data"
    }
   ],
   "source": [
    "import numpy as np\n",
    "import matplotlib.pyplot as plt\n",
    "from scipy.stats import norm\n",
    "\n",
    "# Given values from your z-test\n",
    "z_statistic = 2.5492  # Replace with your calculated z-statistic\n",
    "alpha = 0.05\n",
    "\n",
    "# Define the range for the z-distribution plot\n",
    "x = np.linspace(-4, 4, 1000)\n",
    "\n",
    "# Calculate the z-distribution\n",
    "y = norm.pdf(x)\n",
    "\n",
    "# Create the plot\n",
    "plt.figure(figsize=(10, 5))\n",
    "\n",
    "# Plot the z-distribution\n",
    "plt.plot(x, y, label='Standard Normal Distribution', color='blue')\n",
    "\n",
    "# Mark the critical z-value for alpha (one-tailed test)\n",
    "z_critical = norm.ppf(1 - alpha)\n",
    "plt.axvline(z_critical, color='red', linestyle='--', label=f'Critical z-value at {alpha} level')\n",
    "\n",
    "# Mark the calculated z-statistic\n",
    "plt.axvline(z_statistic, color='green', linestyle='-', label=f'Calculated z-statistic ({z_statistic:.2f})')\n",
    "\n",
    "# Add a blue horizontal line at the bottom of the distribution\n",
    "plt.axhline(0, color='blue', linestyle='-', linewidth=2)\n",
    "\n",
    "# Fill the rejection region with light red\n",
    "plt.fill_between(x, 0, y, where=(x >= z_critical), color='lightcoral', alpha=0.5, label='Rejection Region')\n",
    "\n",
    "# Fill the fail to reject area with light green\n",
    "plt.fill_between(x, 0, y, where=(x < z_critical), color='lightgreen', alpha=0.5, label='Fail to Reject Region')\n",
    "\n",
    "# Add text for alpha\n",
    "plt.text(-3, 0.1, f'alpha: {alpha}', fontsize=10)\n",
    "plt.text(z_statistic, 0.05, f'z statistic: {z_statistic:.2f}', color='green', fontsize=10, ha='center', va='top')\n",
    "\n",
    "# Add titles and labels\n",
    "plt.title('One-Tailed z-Distribution with Critical Region and z-Statistic', color='blue')\n",
    "plt.xlabel('z-value')\n",
    "plt.ylabel('Probability Density')\n",
    "plt.legend(fontsize='small')\n",
    "\n",
    "# Set y-axis limit to start from zero\n",
    "plt.ylim(bottom=0)\n",
    "\n",
    "# Remove grids\n",
    "plt.grid(False)\n",
    "\n",
    "# Show the plot\n",
    "plt.show()"
   ]
  },
  {
   "cell_type": "markdown",
   "metadata": {},
   "source": [
    "<p style=\"background-color:#FFFFFF; font-family:newtimeroman; color:#0000FF; font-size:110%; text-align:left;\"><strong>-----------------------------------------------------------------------------------------------------------------------------------------------------------------------------------------------</strong></p>\n",
    "\n",
    "\n",
    "### <p style=\"background-color:#E51A59; font-family:newtimeroman; color:#FDFEFE; font-size:150%; text-align:left; border-radius:10px 10px;\">Example-02 (One Sample z-Test):</p>"
   ]
  },
  {
   "cell_type": "markdown",
   "metadata": {},
   "source": [
    "- **A department store manager determines that a new billing system will be cost-effective only if the ``mean`` monthly account is more than ``170 dollars``.**\n",
    "- **A ``random sample of 400`` monthly accounts is drawn, for which the ``sample mean`` is ``178 dollars``.**\n",
    "- **The accounts are ``approximately normally distributed`` with a ``standard deviation of 65 dollars``.**\n",
    "- **Can we conclude that the new system will be cost-effective?**"
   ]
  },
  {
   "cell_type": "markdown",
   "metadata": {},
   "source": [
    "<p style=\"background-color:#FFFFFF; font-family:newtimeroman; color:#0000FF; font-size:125%; text-align:left;\"><strong>Given Variables:</strong></p>"
   ]
  },
  {
   "cell_type": "code",
   "execution_count": 8,
   "metadata": {},
   "outputs": [],
   "source": [
    "# Writing the given variables\n",
    "\n",
    "x_bar = 178  # Sample mean\n",
    "n = 400        # Sample size\n",
    "sigma = 65   # Population standard deviation\n",
    "mu = 170       # Hypothesized population mean\n",
    "alpha = 0.05"
   ]
  },
  {
   "cell_type": "markdown",
   "metadata": {},
   "source": [
    "#### <p style=\"background-color:#FFFFFF; font-family:newtimeroman; color:#0000FF; font-size:125%; text-align:left;\"><strong>STEP-01: Stating the null (H0) and alternative hypothesis (Ha or H1).</strong></p>\n",
    "\n",
    "- The null hypothesis, denoted as H0, is the claim that is initially assumed to be true.\n",
    "- The alternative hypothesis, denoted as Ha, is a claim that is contradictory to H0.\n",
    "- We always test a null hypothesis against an alternative. \n",
    "- The null hypothesis represents the initially assumed true statement. \n",
    "- The null hypothesis is used as factually correct unless it can be proven beyond a reasonable doubt that it is untrue.\n",
    "- These two hypotheses are mutually exclusive (and usually exhaustive).\n",
    "***************************************************************************************************************************\n",
    "- In a right-tailed test, the alternative hypothesis (H1) states that the population parameter is greater than the value specified in the null hypothesis (H0)."
   ]
  },
  {
   "cell_type": "raw",
   "metadata": {},
   "source": [
    "The null hypothesis..........: H0: μ  ≤ 170\n",
    "The mean monthly account is less than or equal to 170 dollars (μ ≤ 170).\n",
    "\n",
    "Sample The alternative hypothesis...: Ha: μ  > 170\n",
    "The mean monthly account is greater than hypothesized population mean, 170 dollars (μ > 170)."
   ]
  },
  {
   "cell_type": "markdown",
   "metadata": {},
   "source": [
    "#### <p style=\"background-color:#FFFFFF; font-family:newtimeroman; color:#0000FF; font-size:125%; text-align:left;\"><strong>STEP-02: Calculating the test statistic:</strong></p>"
   ]
  },
  {
   "cell_type": "code",
   "execution_count": 9,
   "metadata": {},
   "outputs": [
    {
     "data": {
      "text/plain": [
       "2.4615384615384617"
      ]
     },
     "execution_count": 9,
     "metadata": {},
     "output_type": "execute_result"
    }
   ],
   "source": [
    "# Calculate the z-statistic\n",
    "\n",
    "z = (x_bar - mu) / (sigma/np.sqrt(n))\n",
    "z"
   ]
  },
  {
   "cell_type": "markdown",
   "metadata": {},
   "source": [
    "#### <p style=\"background-color:#FFFFFF; font-family:newtimeroman; color:#0000FF; font-size:125%; text-align:left;\"><strong>STEP-03: Calculating the p-value:</strong></p>"
   ]
  },
  {
   "cell_type": "code",
   "execution_count": 10,
   "metadata": {},
   "outputs": [
    {
     "data": {
      "text/plain": [
       "0.006917128192854505"
      ]
     },
     "execution_count": 10,
     "metadata": {},
     "output_type": "execute_result"
    }
   ],
   "source": [
    "# Calculate the p-value for the right-tailed test\n",
    "\n",
    "p_value = 1 - stats.norm.cdf(z)\n",
    "p_value"
   ]
  },
  {
   "cell_type": "markdown",
   "metadata": {},
   "source": [
    "<p style=\"background-color:#FFFFFF; font-family:newtimeroman; color:green; font-size:125%; text-align:left;\"><strong>👉 Alternative way to calculate significance value:</strong></p>\n"
   ]
  },
  {
   "cell_type": "code",
   "execution_count": 11,
   "metadata": {},
   "outputs": [
    {
     "data": {
      "text/plain": [
       "3.25"
      ]
     },
     "execution_count": 11,
     "metadata": {},
     "output_type": "execute_result"
    }
   ],
   "source": [
    "# Standard Error (standard deviation of sampling distribition of sample mean)\n",
    "\n",
    "se = sigma/np.sqrt(n)\n",
    "se"
   ]
  },
  {
   "cell_type": "code",
   "execution_count": 12,
   "metadata": {},
   "outputs": [
    {
     "data": {
      "text/plain": [
       "0.006917128192854505"
      ]
     },
     "execution_count": 12,
     "metadata": {},
     "output_type": "execute_result"
    }
   ],
   "source": [
    "# loc=0, scale=1\n",
    "# The location (``loc``) keyword specifies the mean.\n",
    "# The scale (``scale``) keyword specifies the standard deviation.\n",
    "\n",
    "# 1 - stats.norm.cdf(178, 170, 3.25)\n",
    "1 - stats.norm.cdf(178, 170, se)"
   ]
  },
  {
   "cell_type": "markdown",
   "metadata": {},
   "source": [
    "#### <p style=\"background-color:#FFFFFF; font-family:newtimeroman; color:#0000FF; font-size:125%; text-align:left;\"><strong>STEP-04: Comparing Test Statistic to Critical Value to Make a decision:</strong></p>\n",
    "\n",
    "<img src=https://i.ibb.co/FKkMk7W/Screenshot-42.png width=\"400\" height=\"200\">"
   ]
  },
  {
   "cell_type": "code",
   "execution_count": 13,
   "metadata": {},
   "outputs": [
    {
     "name": "stdout",
     "output_type": "stream",
     "text": [
      "At 0.05 level of significance, we can reject the null hypothesis in favor of alternative hypothesis.\n"
     ]
    }
   ],
   "source": [
    "# Decision based on p-value\n",
    "\n",
    "if p_value < alpha:\n",
    "    print('At {} level of significance, we can reject the null hypothesis in favor of alternative hypothesis.'.format(alpha))\n",
    "else:\n",
    "    print('At {} level of significance, we fail to reject the null hypothesis.'.format(alpha))"
   ]
  },
  {
   "cell_type": "markdown",
   "metadata": {},
   "source": [
    "**``Interpretation of the Decision:``**\n",
    "- At the 0.05 level of significance, rejecting the null hypothesis indicates that there is sufficient evidence to conclude that the mean monthly account is greater than 170 dollars.\n",
    "\n",
    "**``Conclusion``**\n",
    "- **``Cost-Effectiveness``**: Since the mean monthly account is significantly higher than 170 dollars, we can conclude that the new billing system is likely to be cost-effective.\n",
    "- **``Recommendation``**: The department store manager should proceed with implementing the new billing system, as the data supports its cost-effectiveness based on the sampled accounts.\n",
    "\n",
    "In summary, the hypothesis test suggests that the new system will be beneficial financially, warranting its adoption."
   ]
  },
  {
   "cell_type": "markdown",
   "metadata": {},
   "source": [
    "**Making a decision comparing ``calculated`` and ``critical`` z scores:**"
   ]
  },
  {
   "cell_type": "code",
   "execution_count": 14,
   "metadata": {},
   "outputs": [
    {
     "name": "stdout",
     "output_type": "stream",
     "text": [
      "Critical z-value: 1.6449\n",
      "Calculated z-value: 2.4615\n",
      "Reject the null hypothesis.\n"
     ]
    }
   ],
   "source": [
    "# Calculate the z-statistic\n",
    "z_calculated = (x_bar - mu) / (sigma / np.sqrt(n))\n",
    "\n",
    "# Significance level\n",
    "alpha = 0.05\n",
    "\n",
    "# Critical z-value for the right-tailed test\n",
    "z_critical = stats.norm.ppf(1 - alpha)  # Use 1 - alpha for right-tailed\n",
    "\n",
    "# Print the critical z-value and the calculated z-value\n",
    "print(f'Critical z-value: {z_critical:.4f}')\n",
    "print(f'Calculated z-value: {z_calculated:.4f}')\n",
    "\n",
    "# Decision\n",
    "if z_calculated > z_critical:\n",
    "    print(\"Reject the null hypothesis.\")\n",
    "else:\n",
    "    print(\"Fail to reject the null hypothesis.\")"
   ]
  },
  {
   "cell_type": "markdown",
   "metadata": {},
   "source": [
    "- **``Critical Value:``**\n",
    "The critical z-value of 1.6449 (for α=0.01 in a right-tailed test) represents the threshold for rejecting the null hypothesis. It indicates the point above which we would reject the null hypothesis if our calculated z-statistic were to fall into that region.\n",
    "\n",
    "- **``Calculated z-Statistic:``**\n",
    "The calculated z-statistic of approximately 2.4615 is greater than the critical z-value of 1.6449. This means it falls into the rejection region, indicating that the sample mean is significantly greater than the hypothesized population mean.\n",
    "\n",
    "- **``Decision Rule:``**\n",
    "  - **``Right-Tailed Test``**: In a right-tailed test, you reject the null hypothesis if your calculated z-statistic is greater than the critical z-value. Since the critical z-value is 1.6449 and the calculated z-statistic is approximately 2.4615, you reject the null hypothesis. This means there is sufficient evidence to support the claim that the population mean is greater than the specified value at the 0.01 significance level."
   ]
  },
  {
   "cell_type": "markdown",
   "metadata": {},
   "source": [
    "#### <p style=\"background-color:#FFFFFF; font-family:newtimeroman; color:#0000FF; font-size:125%; text-align:left;\"><strong>STEP-05: Visualizing the results:</strong></p>"
   ]
  },
  {
   "cell_type": "code",
   "execution_count": 15,
   "metadata": {},
   "outputs": [
    {
     "data": {
      "image/png": "[encoded data removed]",
      "text/plain": [
       "<Figure size 1000x500 with 1 Axes>"
      ]
     },
     "metadata": {},
     "output_type": "display_data"
    }
   ],
   "source": [
    "import numpy as np\n",
    "import matplotlib.pyplot as plt\n",
    "from scipy.stats import norm\n",
    "\n",
    "# Given values from your z-test\n",
    "z_statistic = 2.4615  # Replace with your calculated z-statistic\n",
    "alpha = 0.05\n",
    "\n",
    "# Define the range for the z-distribution plot\n",
    "x = np.linspace(-4, 4, 1000)\n",
    "\n",
    "# Calculate the z-distribution\n",
    "y = norm.pdf(x)\n",
    "\n",
    "# Create the plot\n",
    "plt.figure(figsize=(10, 5))\n",
    "\n",
    "# Plot the z-distribution\n",
    "plt.plot(x, y, label='Standard Normal Distribution', color='blue')\n",
    "\n",
    "# Mark the critical z-value for alpha (one-tailed test)\n",
    "z_critical = norm.ppf(1 - alpha)\n",
    "plt.axvline(z_critical, color='red', linestyle='--', label=f'Critical z-value at {alpha} level')\n",
    "\n",
    "# Mark the calculated z-statistic\n",
    "plt.axvline(z_statistic, color='green', linestyle='-', label=f'Calculated z-statistic ({z_statistic:.2f})')\n",
    "\n",
    "# Add a blue horizontal line at the bottom of the distribution\n",
    "plt.axhline(0, color='blue', linestyle='-', linewidth=2)\n",
    "\n",
    "# Fill the rejection region with light red\n",
    "plt.fill_between(x, 0, y, where=(x >= z_critical), color='lightcoral', alpha=0.5, label='Rejection Region')\n",
    "\n",
    "# Fill the fail to reject area with light green\n",
    "plt.fill_between(x, 0, y, where=(x < z_critical), color='lightgreen', alpha=0.5, label='Fail to Reject Region')\n",
    "\n",
    "# Add text for alpha\n",
    "plt.text(-3, 0.1, f'alpha: {alpha}', fontsize=10)\n",
    "plt.text(z_statistic, 0.05, f'z statistic: {z_statistic:.2f}', color='green', fontsize=10, ha='center', va='top')\n",
    "\n",
    "# Add titles and labels\n",
    "plt.title('One-Tailed z-Distribution with Critical Region and z-Statistic', color='blue')\n",
    "plt.xlabel('z-value')\n",
    "plt.ylabel('Probability Density')\n",
    "plt.legend(fontsize='small')\n",
    "\n",
    "# Set y-axis limit to start from zero\n",
    "plt.ylim(bottom=0)\n",
    "\n",
    "# Remove grids\n",
    "plt.grid(False)\n",
    "\n",
    "# Show the plot\n",
    "plt.show()"
   ]
  },
  {
   "cell_type": "markdown",
   "metadata": {},
   "source": [
    "<p style=\"background-color:#FFFFFF; font-family:newtimeroman; color:#0000FF; font-size:110%; text-align:left;\"><strong>-----------------------------------------------------------------------------------------------------------------------------------------------------------------------------------------------</strong></p>\n",
    "\n",
    "\n",
    "### <p style=\"background-color:#E51A59; font-family:newtimeroman; color:#FDFEFE; font-size:150%; text-align:left; border-radius:10px 10px;\">It's your turn (z-test Exercise for Students):</p>\n",
    "\n",
    "**``1,500 women`` followed the Atkin’s diet for a month. A ``random sample of 43 women`` gained an ``average of 6.7 pounds``. Test the hypothesis that the average weight gain per woman for the month was ``over 5 pounds``. The ``standard deviation`` for all women in the group was ``7.1``.**"
   ]
  },
  {
   "cell_type": "markdown",
   "metadata": {},
   "source": [
    "<p style=\"background-color:#FFFFFF; font-family:newtimeroman; color:#0000FF; font-size:125%; text-align:left;\"><strong>Given Variables:</strong></p>"
   ]
  },
  {
   "cell_type": "code",
   "execution_count": 16,
   "metadata": {},
   "outputs": [],
   "source": [
    "# Writing the given variables\n",
    "\n",
    "x_bar = 6.7  # Sample mean\n",
    "n = 43       # Sample size\n",
    "sigma = 7.1  # Population standard deviation\n",
    "mu = 5       # Hypothesized population mean\n",
    "alpha = 0.05"
   ]
  },
  {
   "cell_type": "markdown",
   "metadata": {},
   "source": [
    "#### <p style=\"background-color:#FFFFFF; font-family:newtimeroman; color:#0000FF; font-size:125%; text-align:left;\"><strong>STEP-01: Stating the null (H0) and alternative hypothesis (Ha or H1).</strong></p>"
   ]
  },
  {
   "cell_type": "raw",
   "metadata": {},
   "source": [
    "The null hypothesis..........: H0: μ  ≤ 170\n",
    "The average weight gain per woman is less than or equal to 5 pounds. (μ ≤ 5).\n",
    "\n",
    "Sample The alternative hypothesis...: Ha: μ  > 170\n",
    "The average weight gain per woman is greater than 5 pounds. (μ > 5)."
   ]
  },
  {
   "cell_type": "markdown",
   "metadata": {},
   "source": [
    "#### <p style=\"background-color:#FFFFFF; font-family:newtimeroman; color:#0000FF; font-size:125%; text-align:left;\"><strong>STEP-02: Calculating the test statistic:</strong></p>"
   ]
  },
  {
   "cell_type": "code",
   "execution_count": 17,
   "metadata": {},
   "outputs": [
    {
     "data": {
      "text/plain": [
       "1.5700909142694934"
      ]
     },
     "execution_count": 17,
     "metadata": {},
     "output_type": "execute_result"
    }
   ],
   "source": [
    "# Calculate the z-statistic\n",
    "\n",
    "z = (x_bar - mu) / (sigma/np.sqrt(n))\n",
    "z"
   ]
  },
  {
   "cell_type": "markdown",
   "metadata": {},
   "source": [
    "#### <p style=\"background-color:#FFFFFF; font-family:newtimeroman; color:#0000FF; font-size:125%; text-align:left;\"><strong>STEP-03: Calculating the p-value:</strong></p>"
   ]
  },
  {
   "cell_type": "code",
   "execution_count": 18,
   "metadata": {},
   "outputs": [
    {
     "data": {
      "text/plain": [
       "0.058196981015623095"
      ]
     },
     "execution_count": 18,
     "metadata": {},
     "output_type": "execute_result"
    }
   ],
   "source": [
    "# Calculate the p-value for the right-tailed test\n",
    "\n",
    "p_value = 1 - stats.norm.cdf(z)\n",
    "p_value"
   ]
  },
  {
   "cell_type": "markdown",
   "metadata": {},
   "source": [
    "#### <p style=\"background-color:#FFFFFF; font-family:newtimeroman; color:#0000FF; font-size:125%; text-align:left;\"><strong>STEP-04: Comparing Test Statistic to Critical Value to Make a decision:</strong></p>"
   ]
  },
  {
   "cell_type": "code",
   "execution_count": 19,
   "metadata": {},
   "outputs": [
    {
     "name": "stdout",
     "output_type": "stream",
     "text": [
      "At 0.05 level of significance, we fail to reject the null hypothesis.\n"
     ]
    }
   ],
   "source": [
    "# Decision based on p-value\n",
    "\n",
    "if p_value < alpha:\n",
    "    print('At {} level of significance, we can reject the null hypothesis in favor of alternative hypothesis.'.format(alpha))\n",
    "else:\n",
    "    print('At {} level of significance, we fail to reject the null hypothesis.'.format(alpha))"
   ]
  },
  {
   "cell_type": "markdown",
   "metadata": {},
   "source": [
    "- **``Interpretation of the Decision:``**\n",
    "  - At the 0.05 level of significance, failing to reject the null hypothesis indicates that there is insufficient evidence to conclude that the average weight gain per woman on the Atkin’s diet is greater than 5 pounds.\n",
    "\n",
    "- **``Conclusion:``**\n",
    "  - **``Weight Gain``**: Since the average weight gain is NOT significantly higher than 5 pounds, we CANNOT affirm that the diet leads to a substantial increase in weight for women in the sample.\n",
    "  - **``Recommendation``**: Further research is recommended to explore the effects of the Atkin’s diet on weight gain, as the current data does not support the claim of significant weight gain.\n",
    "- In summary, the hypothesis test suggests that the Atkin’s diet may NOT lead to an average weight gain exceeding 5 pounds, warranting further investigation before drawing definitive conclusions."
   ]
  },
  {
   "cell_type": "markdown",
   "metadata": {},
   "source": [
    "**Making a decision comparing ``calculated`` and ``critical`` z scores:**"
   ]
  },
  {
   "cell_type": "code",
   "execution_count": 20,
   "metadata": {},
   "outputs": [
    {
     "name": "stdout",
     "output_type": "stream",
     "text": [
      "Critical z-value: 1.6449\n",
      "Calculated z-value: 1.5701\n",
      "Fail to reject the null hypothesis.\n"
     ]
    }
   ],
   "source": [
    "# Calculate the z-statistic\n",
    "z_calculated = (x_bar - mu) / (sigma / np.sqrt(n))\n",
    "\n",
    "# Significance level\n",
    "alpha = 0.05\n",
    "\n",
    "# Critical z-value for the right-tailed test\n",
    "z_critical = stats.norm.ppf(1 - alpha)  # Use 1 - alpha for right-tailed\n",
    "\n",
    "# Print the critical z-value and the calculated z-value\n",
    "print(f'Critical z-value: {z_critical:.4f}')\n",
    "print(f'Calculated z-value: {z_calculated:.4f}')\n",
    "\n",
    "# Decision\n",
    "if z_calculated > z_critical:\n",
    "    print(\"Reject the null hypothesis.\")\n",
    "else:\n",
    "    print(\"Fail to reject the null hypothesis.\")"
   ]
  },
  {
   "cell_type": "markdown",
   "metadata": {},
   "source": [
    "- **``Critical Value:``**\n",
    "The critical z-value of 1.6449 (for α=0.05 in a right-tailed test) represents the threshold for rejecting the null hypothesis. It indicates the point above which we would reject the null hypothesis if our calculated z-statistic were to exceed that value.\n",
    "- **``Calculated z-Statistic:``**\n",
    "The calculated z-statistic of approximately 1.5701 is less than the critical z-value of 1.6449. This means it does NOT fall into the rejection region, indicating that the sample mean is NOT significantly greater than the hypothesized population mean.\n",
    "- **``Decision Rule:``**\n",
    "  - **``Right-Tailed Test``**: In a right-tailed test, you reject the null hypothesis if your calculated z-statistic is greater than the critical z-value. Since the critical z-value is 1.6449 and the calculated z-statistic is approximately 1.5701, you fail to reject the null hypothesis. This means there is NOT sufficient evidence to support the claim that the population mean is greater than the specified value at the 0.05 significance level."
   ]
  },
  {
   "cell_type": "markdown",
   "metadata": {},
   "source": [
    "#### <p style=\"background-color:#FFFFFF; font-family:newtimeroman; color:#0000FF; font-size:125%; text-align:left;\"><strong>STEP-05: Visualizing the results:</strong></p>"
   ]
  },
  {
   "cell_type": "code",
   "execution_count": 21,
   "metadata": {},
   "outputs": [
    {
     "data": {
      "image/png": "[encoded data removed]",
      "text/plain": [
       "<Figure size 1000x500 with 1 Axes>"
      ]
     },
     "metadata": {},
     "output_type": "display_data"
    }
   ],
   "source": [
    "import numpy as np\n",
    "import matplotlib.pyplot as plt\n",
    "from scipy.stats import norm\n",
    "\n",
    "# Given values from your z-test\n",
    "z_statistic = 1.5701  # Replace with your calculated z-statistic\n",
    "alpha = 0.05\n",
    "\n",
    "# Define the range for the z-distribution plot\n",
    "x = np.linspace(-4, 4, 1000)\n",
    "\n",
    "# Calculate the z-distribution\n",
    "y = norm.pdf(x)\n",
    "\n",
    "# Create the plot\n",
    "plt.figure(figsize=(10, 5))\n",
    "\n",
    "# Plot the z-distribution\n",
    "plt.plot(x, y, label='Standard Normal Distribution', color='blue')\n",
    "\n",
    "# Mark the critical z-value for alpha (one-tailed test)\n",
    "z_critical = norm.ppf(1 - alpha)\n",
    "plt.axvline(z_critical, color='red', linestyle='--', label=f'Critical z-value at {alpha} level')\n",
    "\n",
    "# Mark the calculated z-statistic\n",
    "plt.axvline(z_statistic, color='green', linestyle='-', label=f'Calculated z-statistic ({z_statistic:.2f})')\n",
    "\n",
    "# Add a blue horizontal line at the bottom of the distribution\n",
    "plt.axhline(0, color='blue', linestyle='-', linewidth=2)\n",
    "\n",
    "# Fill the rejection region with light red\n",
    "plt.fill_between(x, 0, y, where=(x >= z_critical), color='lightcoral', alpha=0.5, label='Rejection Region')\n",
    "\n",
    "# Fill the fail to reject area with light green\n",
    "plt.fill_between(x, 0, y, where=(x < z_critical), color='lightgreen', alpha=0.5, label='Fail to Reject Region')\n",
    "\n",
    "# Add text for alpha\n",
    "plt.text(-3, 0.1, f'alpha: {alpha}', fontsize=10)\n",
    "plt.text(z_statistic, 0.05, f'z statistic: {z_statistic:.2f}', color='green', fontsize=10, ha='center', va='top')\n",
    "\n",
    "# Add titles and labels\n",
    "plt.title('One-Tailed z-Distribution with Critical Region and z-Statistic', color='blue')\n",
    "plt.xlabel('z-value')\n",
    "plt.ylabel('Probability Density')\n",
    "plt.legend(fontsize='small')\n",
    "\n",
    "# Set y-axis limit to start from zero\n",
    "plt.ylim(bottom=0)\n",
    "\n",
    "# Remove grids\n",
    "plt.grid(False)\n",
    "\n",
    "# Show the plot\n",
    "plt.show()"
   ]
  },
  {
   "cell_type": "markdown",
   "metadata": {},
   "source": [
    "<p style=\"background-color:#FFFFFF; font-family:newtimeroman; color:#0000FF; font-size:110%; text-align:left;\"><strong>-----------------------------------------------------------------------------------------------------------------------------------------------------------------------------------------------</strong></p>\n",
    "\n",
    "\n",
    "## <p style=\"background-color:#E51A59; font-family:newtimeroman; color:#FFFFFF; font-size:175%; text-align:center; border-radius:10px 10px;\">B - One Sample t-Test</p>\n",
    "\n",
    "<p style=\"background-color:#FFFFFF; font-family:newtimeroman; color:#0000FF; font-size:125%; text-align:left;\"><strong>💡🚨📢👉 Performed when the ``population standard deviation`` are ``UNKNOWN`` and sample size is ``less than 30`` ❗❗❗</strong></p>\n",
    "\n",
    "<img src=https://i.ibb.co/Z1fMJ47/decision-tree.png width=\"600\" height=\"200\">"
   ]
  },
  {
   "cell_type": "markdown",
   "metadata": {
    "id": "xHkk92Mv2lmY"
   },
   "source": [
    "# [One Sample t-Test](https://vitalflux.com/one-sample-t-test-formula-examples/)\n",
    "\n",
    "In statistics, the t-test is often used in research when the researcher wants to know ``whether there is a significant difference between the mean of sample and the population``, or ``whether there is a significant difference between the means of two different groups`` but we do ``NOT`` have full population information available to us.\n",
    "\n",
    "The One Sample t-Test compares a sample mean to a hypothesized value for the population mean to determine whether the two means are significantly different. For instance, we may want to know if a particular sample of college students is similar to or different from college students in general.\n",
    "\n",
    "**[One-Sample t-Test](http://psychology.emory.edu/clinical/bliwise/Tutorials/TOM/meanstests/tone.htm)**<br>\n",
    "**[One Sample T Test - Easily Explained w/ 5+ Examples!](https://calcworkshop.com/hypothesis-test/one-sample-t-test/)**<br>\n",
    "**[One Sample T Test – Clearly Explained with Examples | ML+](https://www.machinelearningplus.com/statistics/one-sample-t-test/)**<br>\n",
    "**[How do you find the t-test statistic?](https://www.omnicalculator.com/statistics/t-test)**\n",
    "\n",
    "<img src=https://i.ibb.co/nsxqsbY/t-formula.png width=\"600\" height=\"200\">"
   ]
  },
  {
   "cell_type": "markdown",
   "metadata": {
    "id": "vNwGgsvX2lmY"
   },
   "source": [
    "<p style=\"background-color:#FFFFFF; font-family:newtimeroman; color:#0000FF; font-size:110%; text-align:left;\"><strong>-----------------------------------------------------------------------------------------------------------------------------------------------------------------------------------------------</strong></p>\n",
    "\n",
    "\n",
    "### <p style=\"background-color:#E51A59; font-family:newtimeroman; color:#FDFEFE; font-size:150%; text-align:left; border-radius:10px 10px;\">Example-01 (One Sample t-Test):</p>"
   ]
  },
  {
   "cell_type": "markdown",
   "metadata": {
    "id": "OFdulawW2lmY"
   },
   "source": [
    "- **Bon Air ELEM has 1000 students. The principal of the school thinks that the ``average IQ`` of students at Bon Air is ``at least 110``. To prove her point, she administers an IQ test to ``20 randomly selected students``.** \n",
    "- **Among the sampled students, the ``average IQ`` is ``108`` with a ``standard deviation of 10``.** \n",
    "- **Based on these results, should the principal accept or reject her original hypothesis? ``α=0.01``**"
   ]
  },
  {
   "cell_type": "markdown",
   "metadata": {},
   "source": [
    "<p style=\"background-color:#FFFFFF; font-family:newtimeroman; color:#0000FF; font-size:125%; text-align:left;\"><strong>Given Variables:</strong></p>"
   ]
  },
  {
   "cell_type": "code",
   "execution_count": 22,
   "metadata": {
    "id": "3e8xedXl2lmZ"
   },
   "outputs": [],
   "source": [
    "# Writing the given variables\n",
    "\n",
    "x_bar = 108  # sample mean \n",
    "n = 20  # number of students\n",
    "s = 10  # sd of sample\n",
    "mu = 110  # Population mean \n",
    "alpha = 0.01"
   ]
  },
  {
   "cell_type": "markdown",
   "metadata": {},
   "source": [
    "#### <p style=\"background-color:#FFFFFF; font-family:newtimeroman; color:#0000FF; font-size:125%; text-align:left;\"><strong>STEP-01: Stating the null (H0) and alternative hypothesis (Ha or H1).</strong></p>\n",
    "\n",
    "- The null hypothesis, denoted as H0, is the claim that is initially assumed to be true.\n",
    "- The alternative hypothesis, denoted as Ha, is a claim that is contradictory to H0.\n",
    "- We always test a null hypothesis against an alternative. \n",
    "- The null hypothesis represents the initially assumed true statement. \n",
    "- The null hypothesis is used as factually correct unless it can be proven beyond a reasonable doubt that it is untrue.\n",
    "- These two hypotheses are mutually exclusive (and usually exhaustive).\n",
    "***************************************************************************************************************************\n",
    "- In a left-tailed test, the alternative hypothesis (H1) states that the population parameter is less than the value specified in the null hypothesis (H0)."
   ]
  },
  {
   "cell_type": "raw",
   "metadata": {},
   "source": [
    "The null hypothesis..........: H0: μ = 110\n",
    "    \n",
    "The alternative hypothesis...: Ha: μ < 110"
   ]
  },
  {
   "cell_type": "markdown",
   "metadata": {
    "id": "QDnyEEXW2lmZ"
   },
   "source": [
    "#### <p style=\"background-color:#FFFFFF; font-family:newtimeroman; color:#0000FF; font-size:125%; text-align:left;\"><strong>STEP-02: Calculating the test statistic:</strong></p>"
   ]
  },
  {
   "cell_type": "markdown",
   "metadata": {},
   "source": [
    "\n",
    "<p style=\"background-color:#FFFFFF; font-family:newtimeroman; color:green; font-size:125%; text-align:left;\"><strong>👉 Manuel Calculation:</strong></p>\n"
   ]
  },
  {
   "cell_type": "code",
   "execution_count": 23,
   "metadata": {
    "colab": {
     "base_uri": "https://localhost:8080/"
    },
    "executionInfo": {
     "elapsed": 3,
     "status": "ok",
     "timestamp": 1662658357233,
     "user": {
      "displayName": "Richard Thames",
      "userId": "00258987493291873022"
     },
     "user_tz": -180
    },
    "id": "WFK3Khm42lmZ",
    "outputId": "d48933c1-d69b-4a09-86c3-4f7ffde27458"
   },
   "outputs": [
    {
     "data": {
      "text/plain": [
       "-0.8944271909999159"
      ]
     },
     "execution_count": 23,
     "metadata": {},
     "output_type": "execute_result"
    }
   ],
   "source": [
    "t = (x_bar - mu)/(s/sqrt(n))\n",
    "t"
   ]
  },
  {
   "cell_type": "markdown",
   "metadata": {},
   "source": [
    "#### <p style=\"background-color:#FFFFFF; font-family:newtimeroman; color:#0000FF; font-size:125%; text-align:left;\"><strong>STEP-03: Calculating the p-value:</strong></p>"
   ]
  },
  {
   "cell_type": "code",
   "execution_count": 24,
   "metadata": {
    "colab": {
     "base_uri": "https://localhost:8080/"
    },
    "executionInfo": {
     "elapsed": 2,
     "status": "ok",
     "timestamp": 1662658358666,
     "user": {
      "displayName": "Richard Thames",
      "userId": "00258987493291873022"
     },
     "user_tz": -180
    },
    "id": "dIrAWEV22lmZ",
    "outputId": "a6eb7530-346a-4e2d-fbc8-2f8c69eb2420"
   },
   "outputs": [
    {
     "data": {
      "text/plain": [
       "0.1911420676837155"
      ]
     },
     "execution_count": 24,
     "metadata": {},
     "output_type": "execute_result"
    }
   ],
   "source": [
    "p_value = stats.t.cdf(t, df=n-1)\n",
    "p_value"
   ]
  },
  {
   "cell_type": "markdown",
   "metadata": {},
   "source": [
    "#### <p style=\"background-color:#FFFFFF; font-family:newtimeroman; color:#0000FF; font-size:125%; text-align:left;\"><strong>STEP-04: Comparing Test Statistic to Critical Value to Make a decision:</strong></p>\n",
    "\n",
    "<img src=https://i.ibb.co/NCLKcFs/p-value-reject-area.png width=\"400\" height=\"200\">"
   ]
  },
  {
   "cell_type": "code",
   "execution_count": 25,
   "metadata": {
    "colab": {
     "base_uri": "https://localhost:8080/"
    },
    "executionInfo": {
     "elapsed": 4,
     "status": "ok",
     "timestamp": 1662658360409,
     "user": {
      "displayName": "Richard Thames",
      "userId": "00258987493291873022"
     },
     "user_tz": -180
    },
    "id": "1pp13RAr2lmZ",
    "outputId": "4bb77928-a375-40ba-e4d7-33f0c282d6b1"
   },
   "outputs": [
    {
     "name": "stdout",
     "output_type": "stream",
     "text": [
      "At 0.01 level of significance, we fail to reject the null hypothesis.\n"
     ]
    }
   ],
   "source": [
    "if p_value<alpha:\n",
    "    print('At {} level of significance, we can reject the null hypothesis in favor of alternative hypothesis.'.format(alpha))\n",
    "else:\n",
    "    print('At {} level of significance, we fail to reject the null hypothesis.'.format(alpha))"
   ]
  },
  {
   "cell_type": "markdown",
   "metadata": {},
   "source": [
    "**``Interpretation of the Decision:``**\n",
    "- At the 0.01 level of significance, failing to reject the null hypothesis means that there is not enough evidence to conclude that the average IQ of students at Bon Air is less than 110.\n",
    "\n",
    "**``Conclusion:``**\n",
    "- **``Principal's Claim``**: The data does not provide sufficient evidence to refute the principal's claim that the average IQ is at least 110.\n",
    "- **``Recommendation``**: The principal can continue to assert that the average IQ of students is at least 110 based on the sample data collected.\n",
    "\n",
    "In summary, the results indicate that the average IQ found in the sample (108) does not provide strong enough evidence to contradict the principal's assertion regarding the average IQ of students at Bon Air Elementary."
   ]
  },
  {
   "cell_type": "markdown",
   "metadata": {},
   "source": [
    "**Making a decision comparing ``calculated`` and ``critical`` t scores:**"
   ]
  },
  {
   "cell_type": "code",
   "execution_count": 26,
   "metadata": {},
   "outputs": [
    {
     "name": "stdout",
     "output_type": "stream",
     "text": [
      "Critical t-value: -2.5395\n",
      "Calculated t-value: -0.8944\n"
     ]
    }
   ],
   "source": [
    "from scipy.stats import t as t_dist\n",
    "\n",
    "# Calculate the t-statistic\n",
    "t_calculated = (x_bar - mu) / (s / np.sqrt(n))\n",
    "\n",
    "# Significance level and degrees of freedom\n",
    "alpha = 0.01\n",
    "dof = n - 1  # degrees of freedom\n",
    "\n",
    "# Critical t-value for the left-tailed test\n",
    "t_critical = t_dist.ppf(alpha, dof)\n",
    "\n",
    "# Print the critical t-value and the calculated t-value\n",
    "print(f'Critical t-value: {t_critical:.4f}')\n",
    "print(f'Calculated t-value: {t_calculated:.4f}')"
   ]
  },
  {
   "cell_type": "markdown",
   "metadata": {},
   "source": [
    "- **``Critical Value:``**\n",
    "  - The critical t-value of -2.5395 represents the threshold for rejecting the null hypothesis in a left-tailed test. It indicates the point below which we would reject the null hypothesis if our calculated t-statistic were to fall into that region.\n",
    "- **``Calculated t-Statistic:``**\n",
    "  - The calculated t-statistic of -0.8944 is greater than the critical t-value of -2.5395. This means it is closer to zero than the critical value, indicating that the sample mean is NOT significantly lower than the hypothesized population mean.\n",
    "- **``Decision Rule:``**\n",
    "  - **``Left-Tailed Test``**: In a left-tailed test, you reject the null hypothesis if your calculated t-statistic is less than the critical t-value. Since the critical t-value is -2.5395 and the calculated t-statistic is -0.8944, you ``fail to reject`` the null hypothesis. This means there is NOT enough evidence to support the claim that the population mean is less than the specified value at the 0.01 significance level."
   ]
  },
  {
   "cell_type": "markdown",
   "metadata": {},
   "source": [
    "#### <p style=\"background-color:#FFFFFF; font-family:newtimeroman; color:#0000FF; font-size:125%; text-align:left;\"><strong>STEP-05: Visualizing the results:</strong></p>"
   ]
  },
  {
   "cell_type": "code",
   "execution_count": 27,
   "metadata": {},
   "outputs": [
    {
     "data": {
      "image/png": "[encoded data removed]",
      "text/plain": [
       "<Figure size 1000x500 with 1 Axes>"
      ]
     },
     "metadata": {},
     "output_type": "display_data"
    }
   ],
   "source": [
    "import numpy as np\n",
    "import matplotlib.pyplot as plt\n",
    "from scipy.stats import t\n",
    "\n",
    "# Given values from your t-test\n",
    "t_statistic = -0.8944271909999159\n",
    "p_value = 0.1911420676837155\n",
    "dof = 19\n",
    "alpha = 0.01\n",
    "\n",
    "# Define the range for the t-distribution plot\n",
    "x = np.linspace(-5, 5, 1000)\n",
    "\n",
    "# Calculate the t-distribution\n",
    "y = t.pdf(x, dof)\n",
    "\n",
    "# Create the plot\n",
    "plt.figure(figsize=(10, 5))\n",
    "\n",
    "# Plot the t-distribution\n",
    "plt.plot(x, y, label=f't-distribution (dof={dof})', color='blue')\n",
    "\n",
    "# Mark the critical t-value for alpha (one-tailed test)\n",
    "t_critical = t.ppf(alpha, dof)  # For left-tailed test\n",
    "plt.axvline(t_critical, color='red', linestyle='--', label=f'Critical t-value at {alpha}')\n",
    "\n",
    "# Mark the calculated t-statistic\n",
    "plt.axvline(t_statistic, color='green', linestyle='-', label=f'Calculated t-statistic ({t_statistic:.2f})')\n",
    "\n",
    "# Add a blue horizontal line at the bottom of the distribution\n",
    "plt.axhline(0, color='blue', linestyle='-', linewidth=2)\n",
    "\n",
    "# Fill the rejection region with light red regardless of p-value\n",
    "plt.fill_between(x, 0, y, where=(x <= t_critical), color='lightcoral', alpha=0.5, label='Rejection Region')\n",
    "\n",
    "# Add text for p-value and alpha\n",
    "plt.text(0, 0.1, f'Calculated p-value: {p_value:.4f}', fontsize=10)\n",
    "plt.text(0, 0.08, f'alpha: {alpha}', fontsize=10)\n",
    "plt.text(t_statistic, 0.05, f't statistic: {t_statistic:.2f}', color='green', fontsize=10, ha='center', va='top')\n",
    "\n",
    "# Add titles and labels\n",
    "plt.title('Left-Tailed t-Distribution with Critical Region and t-Statistic', color='blue')\n",
    "plt.xlabel('t-value')\n",
    "plt.ylabel('Probability Density')\n",
    "plt.legend(fontsize='small')\n",
    "\n",
    "# Set y-axis limit to start from zero\n",
    "plt.ylim(bottom=0)\n",
    "\n",
    "# Remove grids\n",
    "plt.grid(False)\n",
    "\n",
    "# Show the plot\n",
    "plt.show()"
   ]
  },
  {
   "cell_type": "markdown",
   "metadata": {},
   "source": [
    "<p style=\"background-color:#FFFFFF; font-family:newtimeroman; color:#0000FF; font-size:110%; text-align:left;\"><strong>-----------------------------------------------------------------------------------------------------------------------------------------------------------------------------------------------</strong></p>\n",
    "\n",
    "\n",
    "### <p style=\"background-color:#E51A59; font-family:newtimeroman; color:#FDFEFE; font-size:150%; text-align:left; border-radius:10px 10px;\">Example-02 (One Sample t-Test):</p>"
   ]
  },
  {
   "cell_type": "code",
   "execution_count": 28,
   "metadata": {},
   "outputs": [],
   "source": [
    "# !pip install statsmodels"
   ]
  },
  {
   "cell_type": "code",
   "execution_count": 29,
   "metadata": {},
   "outputs": [],
   "source": [
    "import statsmodels.api as sm"
   ]
  },
  {
   "cell_type": "code",
   "execution_count": 30,
   "metadata": {},
   "outputs": [
    {
     "data": {
      "text/plain": [
       "dict_keys(['data', '__doc__', 'package', 'title', 'from_cache'])"
      ]
     },
     "execution_count": 30,
     "metadata": {},
     "output_type": "execute_result"
    }
   ],
   "source": [
    "df = sm.datasets.get_rdataset(dataname=\"Pima.tr\", package=\"MASS\")\n",
    "df.keys()"
   ]
  },
  {
   "cell_type": "code",
   "execution_count": 31,
   "metadata": {},
   "outputs": [
    {
     "name": "stdout",
     "output_type": "stream",
     "text": [
      ".. container::\n",
      "\n",
      "   .. container::\n",
      "\n",
      "      ======= ===============\n",
      "      Pima.tr R Documentation\n",
      "      ======= ===============\n",
      "\n",
      "      .. rubric:: Diabetes in Pima Indian Women\n",
      "         :name: diabetes-in-pima-indian-women\n",
      "\n",
      "      .. rubric:: Description\n",
      "         :name: description\n",
      "\n",
      "      A population of women who were at least 21 years old, of Pima\n",
      "      Indian heritage and living near Phoenix, Arizona, was tested for\n",
      "      diabetes according to World Health Organization criteria. The data\n",
      "      were collected by the US National Institute of Diabetes and\n",
      "      Digestive and Kidney Diseases. We used the 532 complete records\n",
      "      after dropping the (mainly missing) data on serum insulin.\n",
      "\n",
      "      .. rubric:: Usage\n",
      "         :name: usage\n",
      "\n",
      "      .. code:: R\n",
      "\n",
      "         Pima.tr\n",
      "         Pima.tr2\n",
      "         Pima.te\n",
      "\n",
      "      .. rubric:: Format\n",
      "         :name: format\n",
      "\n",
      "      These data frames contains the following columns:\n",
      "\n",
      "      ``npreg``\n",
      "         number of pregnancies.\n",
      "\n",
      "      ``glu``\n",
      "         plasma glucose concentration in an oral glucose tolerance test.\n",
      "\n",
      "      ``bp``\n",
      "         diastolic blood pressure (mm Hg).\n",
      "\n",
      "      ``skin``\n",
      "         triceps skin fold thickness (mm).\n",
      "\n",
      "      ``bmi``\n",
      "         body mass index (weight in kg/(height in m)\\ ``^2``).\n",
      "\n",
      "      ``ped``\n",
      "         diabetes pedigree function.\n",
      "\n",
      "      ``age``\n",
      "         age in years.\n",
      "\n",
      "      ``type``\n",
      "         ``Yes`` or ``No``, for diabetic according to WHO criteria.\n",
      "\n",
      "      .. rubric:: Details\n",
      "         :name: details\n",
      "\n",
      "      The training set ``Pima.tr`` contains a randomly selected set of\n",
      "      200 subjects, and ``Pima.te`` contains the remaining 332 subjects.\n",
      "      ``Pima.tr2`` contains ``Pima.tr`` plus 100 subjects with missing\n",
      "      values in the explanatory variables.\n",
      "\n",
      "      .. rubric:: Source\n",
      "         :name: source\n",
      "\n",
      "      Smith, J. W., Everhart, J. E., Dickson, W. C., Knowler, W. C. and\n",
      "      Johannes, R. S. (1988) Using the ADAP learning algorithm to\n",
      "      forecast the onset of *diabetes mellitus*. In *Proceedings of the\n",
      "      Symposium on Computer Applications in Medical Care (Washington,\n",
      "      1988),* ed. R. A. Greenes, pp. 261–265. Los Alamitos, CA: IEEE\n",
      "      Computer Society Press.\n",
      "\n",
      "      Ripley, B.D. (1996) *Pattern Recognition and Neural Networks.*\n",
      "      Cambridge: Cambridge University Press.\n",
      "\n"
     ]
    }
   ],
   "source": [
    "print(df.__doc__)"
   ]
  },
  {
   "cell_type": "code",
   "execution_count": 32,
   "metadata": {},
   "outputs": [
    {
     "data": {
      "text/html": [
       "<div>\n",
       "<style scoped>\n",
       "    .dataframe tbody tr th:only-of-type {\n",
       "        vertical-align: middle;\n",
       "    }\n",
       "\n",
       "    .dataframe tbody tr th {\n",
       "        vertical-align: top;\n",
       "    }\n",
       "\n",
       "    .dataframe thead th {\n",
       "        text-align: right;\n",
       "    }\n",
       "</style>\n",
       "<table border=\"1\" class=\"dataframe\">\n",
       "  <thead>\n",
       "    <tr style=\"text-align: right;\">\n",
       "      <th></th>\n",
       "      <th>npreg</th>\n",
       "      <th>glu</th>\n",
       "      <th>bp</th>\n",
       "      <th>skin</th>\n",
       "      <th>bmi</th>\n",
       "      <th>ped</th>\n",
       "      <th>age</th>\n",
       "      <th>type</th>\n",
       "    </tr>\n",
       "  </thead>\n",
       "  <tbody>\n",
       "    <tr>\n",
       "      <th>0</th>\n",
       "      <td>5</td>\n",
       "      <td>86</td>\n",
       "      <td>68</td>\n",
       "      <td>28</td>\n",
       "      <td>30.2</td>\n",
       "      <td>0.364</td>\n",
       "      <td>24</td>\n",
       "      <td>No</td>\n",
       "    </tr>\n",
       "    <tr>\n",
       "      <th>1</th>\n",
       "      <td>7</td>\n",
       "      <td>195</td>\n",
       "      <td>70</td>\n",
       "      <td>33</td>\n",
       "      <td>25.1</td>\n",
       "      <td>0.163</td>\n",
       "      <td>55</td>\n",
       "      <td>Yes</td>\n",
       "    </tr>\n",
       "    <tr>\n",
       "      <th>2</th>\n",
       "      <td>5</td>\n",
       "      <td>77</td>\n",
       "      <td>82</td>\n",
       "      <td>41</td>\n",
       "      <td>35.8</td>\n",
       "      <td>0.156</td>\n",
       "      <td>35</td>\n",
       "      <td>No</td>\n",
       "    </tr>\n",
       "    <tr>\n",
       "      <th>3</th>\n",
       "      <td>0</td>\n",
       "      <td>165</td>\n",
       "      <td>76</td>\n",
       "      <td>43</td>\n",
       "      <td>47.9</td>\n",
       "      <td>0.259</td>\n",
       "      <td>26</td>\n",
       "      <td>No</td>\n",
       "    </tr>\n",
       "    <tr>\n",
       "      <th>4</th>\n",
       "      <td>0</td>\n",
       "      <td>107</td>\n",
       "      <td>60</td>\n",
       "      <td>25</td>\n",
       "      <td>26.4</td>\n",
       "      <td>0.133</td>\n",
       "      <td>23</td>\n",
       "      <td>No</td>\n",
       "    </tr>\n",
       "    <tr>\n",
       "      <th>...</th>\n",
       "      <td>...</td>\n",
       "      <td>...</td>\n",
       "      <td>...</td>\n",
       "      <td>...</td>\n",
       "      <td>...</td>\n",
       "      <td>...</td>\n",
       "      <td>...</td>\n",
       "      <td>...</td>\n",
       "    </tr>\n",
       "    <tr>\n",
       "      <th>195</th>\n",
       "      <td>2</td>\n",
       "      <td>141</td>\n",
       "      <td>58</td>\n",
       "      <td>34</td>\n",
       "      <td>25.4</td>\n",
       "      <td>0.699</td>\n",
       "      <td>24</td>\n",
       "      <td>No</td>\n",
       "    </tr>\n",
       "    <tr>\n",
       "      <th>196</th>\n",
       "      <td>7</td>\n",
       "      <td>129</td>\n",
       "      <td>68</td>\n",
       "      <td>49</td>\n",
       "      <td>38.5</td>\n",
       "      <td>0.439</td>\n",
       "      <td>43</td>\n",
       "      <td>Yes</td>\n",
       "    </tr>\n",
       "    <tr>\n",
       "      <th>197</th>\n",
       "      <td>0</td>\n",
       "      <td>106</td>\n",
       "      <td>70</td>\n",
       "      <td>37</td>\n",
       "      <td>39.4</td>\n",
       "      <td>0.605</td>\n",
       "      <td>22</td>\n",
       "      <td>No</td>\n",
       "    </tr>\n",
       "    <tr>\n",
       "      <th>198</th>\n",
       "      <td>1</td>\n",
       "      <td>118</td>\n",
       "      <td>58</td>\n",
       "      <td>36</td>\n",
       "      <td>33.3</td>\n",
       "      <td>0.261</td>\n",
       "      <td>23</td>\n",
       "      <td>No</td>\n",
       "    </tr>\n",
       "    <tr>\n",
       "      <th>199</th>\n",
       "      <td>8</td>\n",
       "      <td>155</td>\n",
       "      <td>62</td>\n",
       "      <td>26</td>\n",
       "      <td>34.0</td>\n",
       "      <td>0.543</td>\n",
       "      <td>46</td>\n",
       "      <td>Yes</td>\n",
       "    </tr>\n",
       "  </tbody>\n",
       "</table>\n",
       "<p>200 rows × 8 columns</p>\n",
       "</div>"
      ],
      "text/plain": [
       "     npreg  glu  bp  skin   bmi    ped  age type\n",
       "0        5   86  68    28  30.2  0.364   24   No\n",
       "1        7  195  70    33  25.1  0.163   55  Yes\n",
       "2        5   77  82    41  35.8  0.156   35   No\n",
       "3        0  165  76    43  47.9  0.259   26   No\n",
       "4        0  107  60    25  26.4  0.133   23   No\n",
       "..     ...  ...  ..   ...   ...    ...  ...  ...\n",
       "195      2  141  58    34  25.4  0.699   24   No\n",
       "196      7  129  68    49  38.5  0.439   43  Yes\n",
       "197      0  106  70    37  39.4  0.605   22   No\n",
       "198      1  118  58    36  33.3  0.261   23   No\n",
       "199      8  155  62    26  34.0  0.543   46  Yes\n",
       "\n",
       "[200 rows x 8 columns]"
      ]
     },
     "execution_count": 32,
     "metadata": {},
     "output_type": "execute_result"
    }
   ],
   "source": [
    "df.data"
   ]
  },
  {
   "cell_type": "code",
   "execution_count": 33,
   "metadata": {},
   "outputs": [],
   "source": [
    "df = df.data"
   ]
  },
  {
   "cell_type": "code",
   "execution_count": 34,
   "metadata": {},
   "outputs": [
    {
     "data": {
      "text/html": [
       "<div>\n",
       "<style scoped>\n",
       "    .dataframe tbody tr th:only-of-type {\n",
       "        vertical-align: middle;\n",
       "    }\n",
       "\n",
       "    .dataframe tbody tr th {\n",
       "        vertical-align: top;\n",
       "    }\n",
       "\n",
       "    .dataframe thead th {\n",
       "        text-align: right;\n",
       "    }\n",
       "</style>\n",
       "<table border=\"1\" class=\"dataframe\">\n",
       "  <thead>\n",
       "    <tr style=\"text-align: right;\">\n",
       "      <th></th>\n",
       "      <th>npreg</th>\n",
       "      <th>glu</th>\n",
       "      <th>bp</th>\n",
       "      <th>skin</th>\n",
       "      <th>bmi</th>\n",
       "      <th>ped</th>\n",
       "      <th>age</th>\n",
       "      <th>type</th>\n",
       "    </tr>\n",
       "  </thead>\n",
       "  <tbody>\n",
       "    <tr>\n",
       "      <th>0</th>\n",
       "      <td>5</td>\n",
       "      <td>86</td>\n",
       "      <td>68</td>\n",
       "      <td>28</td>\n",
       "      <td>30.2</td>\n",
       "      <td>0.364</td>\n",
       "      <td>24</td>\n",
       "      <td>No</td>\n",
       "    </tr>\n",
       "    <tr>\n",
       "      <th>1</th>\n",
       "      <td>7</td>\n",
       "      <td>195</td>\n",
       "      <td>70</td>\n",
       "      <td>33</td>\n",
       "      <td>25.1</td>\n",
       "      <td>0.163</td>\n",
       "      <td>55</td>\n",
       "      <td>Yes</td>\n",
       "    </tr>\n",
       "    <tr>\n",
       "      <th>2</th>\n",
       "      <td>5</td>\n",
       "      <td>77</td>\n",
       "      <td>82</td>\n",
       "      <td>41</td>\n",
       "      <td>35.8</td>\n",
       "      <td>0.156</td>\n",
       "      <td>35</td>\n",
       "      <td>No</td>\n",
       "    </tr>\n",
       "    <tr>\n",
       "      <th>3</th>\n",
       "      <td>0</td>\n",
       "      <td>165</td>\n",
       "      <td>76</td>\n",
       "      <td>43</td>\n",
       "      <td>47.9</td>\n",
       "      <td>0.259</td>\n",
       "      <td>26</td>\n",
       "      <td>No</td>\n",
       "    </tr>\n",
       "    <tr>\n",
       "      <th>4</th>\n",
       "      <td>0</td>\n",
       "      <td>107</td>\n",
       "      <td>60</td>\n",
       "      <td>25</td>\n",
       "      <td>26.4</td>\n",
       "      <td>0.133</td>\n",
       "      <td>23</td>\n",
       "      <td>No</td>\n",
       "    </tr>\n",
       "  </tbody>\n",
       "</table>\n",
       "</div>"
      ],
      "text/plain": [
       "   npreg  glu  bp  skin   bmi    ped  age type\n",
       "0      5   86  68    28  30.2  0.364   24   No\n",
       "1      7  195  70    33  25.1  0.163   55  Yes\n",
       "2      5   77  82    41  35.8  0.156   35   No\n",
       "3      0  165  76    43  47.9  0.259   26   No\n",
       "4      0  107  60    25  26.4  0.133   23   No"
      ]
     },
     "execution_count": 34,
     "metadata": {},
     "output_type": "execute_result"
    }
   ],
   "source": [
    "df.head()"
   ]
  },
  {
   "cell_type": "code",
   "execution_count": 35,
   "metadata": {},
   "outputs": [
    {
     "name": "stdout",
     "output_type": "stream",
     "text": [
      "<class 'pandas.core.frame.DataFrame'>\n",
      "RangeIndex: 200 entries, 0 to 199\n",
      "Data columns (total 8 columns):\n",
      " #   Column  Non-Null Count  Dtype  \n",
      "---  ------  --------------  -----  \n",
      " 0   npreg   200 non-null    int64  \n",
      " 1   glu     200 non-null    int64  \n",
      " 2   bp      200 non-null    int64  \n",
      " 3   skin    200 non-null    int64  \n",
      " 4   bmi     200 non-null    float64\n",
      " 5   ped     200 non-null    float64\n",
      " 6   age     200 non-null    int64  \n",
      " 7   type    200 non-null    object \n",
      "dtypes: float64(2), int64(5), object(1)\n",
      "memory usage: 12.6+ KB\n"
     ]
    }
   ],
   "source": [
    "df.info()"
   ]
  },
  {
   "cell_type": "code",
   "execution_count": 36,
   "metadata": {},
   "outputs": [
    {
     "data": {
      "text/html": [
       "<div>\n",
       "<style scoped>\n",
       "    .dataframe tbody tr th:only-of-type {\n",
       "        vertical-align: middle;\n",
       "    }\n",
       "\n",
       "    .dataframe tbody tr th {\n",
       "        vertical-align: top;\n",
       "    }\n",
       "\n",
       "    .dataframe thead th {\n",
       "        text-align: right;\n",
       "    }\n",
       "</style>\n",
       "<table border=\"1\" class=\"dataframe\">\n",
       "  <thead>\n",
       "    <tr style=\"text-align: right;\">\n",
       "      <th></th>\n",
       "      <th>npreg</th>\n",
       "      <th>glu</th>\n",
       "      <th>bp</th>\n",
       "      <th>skin</th>\n",
       "      <th>bmi</th>\n",
       "      <th>ped</th>\n",
       "      <th>age</th>\n",
       "    </tr>\n",
       "  </thead>\n",
       "  <tbody>\n",
       "    <tr>\n",
       "      <th>count</th>\n",
       "      <td>200.000000</td>\n",
       "      <td>200.000000</td>\n",
       "      <td>200.000000</td>\n",
       "      <td>200.000000</td>\n",
       "      <td>200.000000</td>\n",
       "      <td>200.000000</td>\n",
       "      <td>200.000000</td>\n",
       "    </tr>\n",
       "    <tr>\n",
       "      <th>mean</th>\n",
       "      <td>3.570000</td>\n",
       "      <td>123.970000</td>\n",
       "      <td>71.260000</td>\n",
       "      <td>29.215000</td>\n",
       "      <td>32.310000</td>\n",
       "      <td>0.460765</td>\n",
       "      <td>32.110000</td>\n",
       "    </tr>\n",
       "    <tr>\n",
       "      <th>std</th>\n",
       "      <td>3.366268</td>\n",
       "      <td>31.667225</td>\n",
       "      <td>11.479604</td>\n",
       "      <td>11.724594</td>\n",
       "      <td>6.130212</td>\n",
       "      <td>0.307225</td>\n",
       "      <td>10.975436</td>\n",
       "    </tr>\n",
       "    <tr>\n",
       "      <th>min</th>\n",
       "      <td>0.000000</td>\n",
       "      <td>56.000000</td>\n",
       "      <td>38.000000</td>\n",
       "      <td>7.000000</td>\n",
       "      <td>18.200000</td>\n",
       "      <td>0.085000</td>\n",
       "      <td>21.000000</td>\n",
       "    </tr>\n",
       "    <tr>\n",
       "      <th>25%</th>\n",
       "      <td>1.000000</td>\n",
       "      <td>100.000000</td>\n",
       "      <td>64.000000</td>\n",
       "      <td>20.750000</td>\n",
       "      <td>27.575000</td>\n",
       "      <td>0.253500</td>\n",
       "      <td>23.000000</td>\n",
       "    </tr>\n",
       "    <tr>\n",
       "      <th>50%</th>\n",
       "      <td>2.000000</td>\n",
       "      <td>120.500000</td>\n",
       "      <td>70.000000</td>\n",
       "      <td>29.000000</td>\n",
       "      <td>32.800000</td>\n",
       "      <td>0.372500</td>\n",
       "      <td>28.000000</td>\n",
       "    </tr>\n",
       "    <tr>\n",
       "      <th>75%</th>\n",
       "      <td>6.000000</td>\n",
       "      <td>144.000000</td>\n",
       "      <td>78.000000</td>\n",
       "      <td>36.000000</td>\n",
       "      <td>36.500000</td>\n",
       "      <td>0.616000</td>\n",
       "      <td>39.250000</td>\n",
       "    </tr>\n",
       "    <tr>\n",
       "      <th>max</th>\n",
       "      <td>14.000000</td>\n",
       "      <td>199.000000</td>\n",
       "      <td>110.000000</td>\n",
       "      <td>99.000000</td>\n",
       "      <td>47.900000</td>\n",
       "      <td>2.288000</td>\n",
       "      <td>63.000000</td>\n",
       "    </tr>\n",
       "  </tbody>\n",
       "</table>\n",
       "</div>"
      ],
      "text/plain": [
       "            npreg         glu          bp        skin         bmi         ped  \\\n",
       "count  200.000000  200.000000  200.000000  200.000000  200.000000  200.000000   \n",
       "mean     3.570000  123.970000   71.260000   29.215000   32.310000    0.460765   \n",
       "std      3.366268   31.667225   11.479604   11.724594    6.130212    0.307225   \n",
       "min      0.000000   56.000000   38.000000    7.000000   18.200000    0.085000   \n",
       "25%      1.000000  100.000000   64.000000   20.750000   27.575000    0.253500   \n",
       "50%      2.000000  120.500000   70.000000   29.000000   32.800000    0.372500   \n",
       "75%      6.000000  144.000000   78.000000   36.000000   36.500000    0.616000   \n",
       "max     14.000000  199.000000  110.000000   99.000000   47.900000    2.288000   \n",
       "\n",
       "              age  \n",
       "count  200.000000  \n",
       "mean    32.110000  \n",
       "std     10.975436  \n",
       "min     21.000000  \n",
       "25%     23.000000  \n",
       "50%     28.000000  \n",
       "75%     39.250000  \n",
       "max     63.000000  "
      ]
     },
     "execution_count": 36,
     "metadata": {},
     "output_type": "execute_result"
    }
   ],
   "source": [
    "df.describe()"
   ]
  },
  {
   "cell_type": "code",
   "execution_count": 37,
   "metadata": {},
   "outputs": [
    {
     "data": {
      "text/html": [
       "<div>\n",
       "<style scoped>\n",
       "    .dataframe tbody tr th:only-of-type {\n",
       "        vertical-align: middle;\n",
       "    }\n",
       "\n",
       "    .dataframe tbody tr th {\n",
       "        vertical-align: top;\n",
       "    }\n",
       "\n",
       "    .dataframe thead th {\n",
       "        text-align: right;\n",
       "    }\n",
       "</style>\n",
       "<table border=\"1\" class=\"dataframe\">\n",
       "  <thead>\n",
       "    <tr style=\"text-align: right;\">\n",
       "      <th></th>\n",
       "      <th>npreg</th>\n",
       "      <th>glu</th>\n",
       "      <th>bp</th>\n",
       "      <th>skin</th>\n",
       "      <th>bmi</th>\n",
       "      <th>ped</th>\n",
       "      <th>age</th>\n",
       "      <th>type</th>\n",
       "    </tr>\n",
       "  </thead>\n",
       "  <tbody>\n",
       "    <tr>\n",
       "      <th>95</th>\n",
       "      <td>12</td>\n",
       "      <td>140</td>\n",
       "      <td>82</td>\n",
       "      <td>43</td>\n",
       "      <td>39.2</td>\n",
       "      <td>0.528</td>\n",
       "      <td>58</td>\n",
       "      <td>Yes</td>\n",
       "    </tr>\n",
       "    <tr>\n",
       "      <th>15</th>\n",
       "      <td>4</td>\n",
       "      <td>99</td>\n",
       "      <td>76</td>\n",
       "      <td>15</td>\n",
       "      <td>23.2</td>\n",
       "      <td>0.223</td>\n",
       "      <td>21</td>\n",
       "      <td>No</td>\n",
       "    </tr>\n",
       "    <tr>\n",
       "      <th>30</th>\n",
       "      <td>1</td>\n",
       "      <td>79</td>\n",
       "      <td>60</td>\n",
       "      <td>42</td>\n",
       "      <td>43.5</td>\n",
       "      <td>0.678</td>\n",
       "      <td>23</td>\n",
       "      <td>No</td>\n",
       "    </tr>\n",
       "    <tr>\n",
       "      <th>158</th>\n",
       "      <td>8</td>\n",
       "      <td>126</td>\n",
       "      <td>74</td>\n",
       "      <td>38</td>\n",
       "      <td>25.9</td>\n",
       "      <td>0.162</td>\n",
       "      <td>39</td>\n",
       "      <td>No</td>\n",
       "    </tr>\n",
       "    <tr>\n",
       "      <th>128</th>\n",
       "      <td>1</td>\n",
       "      <td>120</td>\n",
       "      <td>80</td>\n",
       "      <td>48</td>\n",
       "      <td>38.9</td>\n",
       "      <td>1.162</td>\n",
       "      <td>41</td>\n",
       "      <td>No</td>\n",
       "    </tr>\n",
       "    <tr>\n",
       "      <th>115</th>\n",
       "      <td>0</td>\n",
       "      <td>137</td>\n",
       "      <td>84</td>\n",
       "      <td>27</td>\n",
       "      <td>27.3</td>\n",
       "      <td>0.231</td>\n",
       "      <td>59</td>\n",
       "      <td>No</td>\n",
       "    </tr>\n",
       "    <tr>\n",
       "      <th>69</th>\n",
       "      <td>0</td>\n",
       "      <td>135</td>\n",
       "      <td>94</td>\n",
       "      <td>46</td>\n",
       "      <td>40.6</td>\n",
       "      <td>0.284</td>\n",
       "      <td>26</td>\n",
       "      <td>No</td>\n",
       "    </tr>\n",
       "    <tr>\n",
       "      <th>170</th>\n",
       "      <td>6</td>\n",
       "      <td>115</td>\n",
       "      <td>60</td>\n",
       "      <td>39</td>\n",
       "      <td>33.7</td>\n",
       "      <td>0.245</td>\n",
       "      <td>40</td>\n",
       "      <td>Yes</td>\n",
       "    </tr>\n",
       "    <tr>\n",
       "      <th>174</th>\n",
       "      <td>0</td>\n",
       "      <td>95</td>\n",
       "      <td>85</td>\n",
       "      <td>25</td>\n",
       "      <td>37.4</td>\n",
       "      <td>0.247</td>\n",
       "      <td>24</td>\n",
       "      <td>Yes</td>\n",
       "    </tr>\n",
       "    <tr>\n",
       "      <th>45</th>\n",
       "      <td>2</td>\n",
       "      <td>125</td>\n",
       "      <td>60</td>\n",
       "      <td>20</td>\n",
       "      <td>33.8</td>\n",
       "      <td>0.088</td>\n",
       "      <td>31</td>\n",
       "      <td>No</td>\n",
       "    </tr>\n",
       "    <tr>\n",
       "      <th>66</th>\n",
       "      <td>6</td>\n",
       "      <td>134</td>\n",
       "      <td>70</td>\n",
       "      <td>23</td>\n",
       "      <td>35.4</td>\n",
       "      <td>0.542</td>\n",
       "      <td>29</td>\n",
       "      <td>Yes</td>\n",
       "    </tr>\n",
       "    <tr>\n",
       "      <th>182</th>\n",
       "      <td>0</td>\n",
       "      <td>117</td>\n",
       "      <td>66</td>\n",
       "      <td>31</td>\n",
       "      <td>30.8</td>\n",
       "      <td>0.493</td>\n",
       "      <td>22</td>\n",
       "      <td>No</td>\n",
       "    </tr>\n",
       "    <tr>\n",
       "      <th>165</th>\n",
       "      <td>4</td>\n",
       "      <td>85</td>\n",
       "      <td>58</td>\n",
       "      <td>22</td>\n",
       "      <td>27.8</td>\n",
       "      <td>0.306</td>\n",
       "      <td>28</td>\n",
       "      <td>No</td>\n",
       "    </tr>\n",
       "    <tr>\n",
       "      <th>78</th>\n",
       "      <td>3</td>\n",
       "      <td>107</td>\n",
       "      <td>62</td>\n",
       "      <td>13</td>\n",
       "      <td>22.9</td>\n",
       "      <td>0.678</td>\n",
       "      <td>23</td>\n",
       "      <td>Yes</td>\n",
       "    </tr>\n",
       "    <tr>\n",
       "      <th>186</th>\n",
       "      <td>14</td>\n",
       "      <td>100</td>\n",
       "      <td>78</td>\n",
       "      <td>25</td>\n",
       "      <td>36.6</td>\n",
       "      <td>0.412</td>\n",
       "      <td>46</td>\n",
       "      <td>Yes</td>\n",
       "    </tr>\n",
       "  </tbody>\n",
       "</table>\n",
       "</div>"
      ],
      "text/plain": [
       "     npreg  glu  bp  skin   bmi    ped  age type\n",
       "95      12  140  82    43  39.2  0.528   58  Yes\n",
       "15       4   99  76    15  23.2  0.223   21   No\n",
       "30       1   79  60    42  43.5  0.678   23   No\n",
       "158      8  126  74    38  25.9  0.162   39   No\n",
       "128      1  120  80    48  38.9  1.162   41   No\n",
       "115      0  137  84    27  27.3  0.231   59   No\n",
       "69       0  135  94    46  40.6  0.284   26   No\n",
       "170      6  115  60    39  33.7  0.245   40  Yes\n",
       "174      0   95  85    25  37.4  0.247   24  Yes\n",
       "45       2  125  60    20  33.8  0.088   31   No\n",
       "66       6  134  70    23  35.4  0.542   29  Yes\n",
       "182      0  117  66    31  30.8  0.493   22   No\n",
       "165      4   85  58    22  27.8  0.306   28   No\n",
       "78       3  107  62    13  22.9  0.678   23  Yes\n",
       "186     14  100  78    25  36.6  0.412   46  Yes"
      ]
     },
     "execution_count": 37,
     "metadata": {},
     "output_type": "execute_result"
    }
   ],
   "source": [
    "pima_15 = df.sample(15, random_state=42)\n",
    "pima_15"
   ]
  },
  {
   "cell_type": "code",
   "execution_count": 38,
   "metadata": {},
   "outputs": [
    {
     "data": {
      "text/html": [
       "<div>\n",
       "<style scoped>\n",
       "    .dataframe tbody tr th:only-of-type {\n",
       "        vertical-align: middle;\n",
       "    }\n",
       "\n",
       "    .dataframe tbody tr th {\n",
       "        vertical-align: top;\n",
       "    }\n",
       "\n",
       "    .dataframe thead th {\n",
       "        text-align: right;\n",
       "    }\n",
       "</style>\n",
       "<table border=\"1\" class=\"dataframe\">\n",
       "  <thead>\n",
       "    <tr style=\"text-align: right;\">\n",
       "      <th></th>\n",
       "      <th>npreg</th>\n",
       "      <th>glu</th>\n",
       "      <th>bp</th>\n",
       "      <th>skin</th>\n",
       "      <th>bmi</th>\n",
       "      <th>ped</th>\n",
       "      <th>age</th>\n",
       "    </tr>\n",
       "  </thead>\n",
       "  <tbody>\n",
       "    <tr>\n",
       "      <th>count</th>\n",
       "      <td>15.000000</td>\n",
       "      <td>15.000000</td>\n",
       "      <td>15.000000</td>\n",
       "      <td>15.000000</td>\n",
       "      <td>15.000000</td>\n",
       "      <td>15.000000</td>\n",
       "      <td>15.000000</td>\n",
       "    </tr>\n",
       "    <tr>\n",
       "      <th>mean</th>\n",
       "      <td>4.066667</td>\n",
       "      <td>114.266667</td>\n",
       "      <td>72.600000</td>\n",
       "      <td>30.466667</td>\n",
       "      <td>33.133333</td>\n",
       "      <td>0.418600</td>\n",
       "      <td>34.000000</td>\n",
       "    </tr>\n",
       "    <tr>\n",
       "      <th>std</th>\n",
       "      <td>4.431489</td>\n",
       "      <td>19.370326</td>\n",
       "      <td>11.274497</td>\n",
       "      <td>11.407182</td>\n",
       "      <td>6.508419</td>\n",
       "      <td>0.275028</td>\n",
       "      <td>12.660399</td>\n",
       "    </tr>\n",
       "    <tr>\n",
       "      <th>min</th>\n",
       "      <td>0.000000</td>\n",
       "      <td>79.000000</td>\n",
       "      <td>58.000000</td>\n",
       "      <td>13.000000</td>\n",
       "      <td>22.900000</td>\n",
       "      <td>0.088000</td>\n",
       "      <td>21.000000</td>\n",
       "    </tr>\n",
       "    <tr>\n",
       "      <th>25%</th>\n",
       "      <td>0.500000</td>\n",
       "      <td>99.500000</td>\n",
       "      <td>61.000000</td>\n",
       "      <td>22.500000</td>\n",
       "      <td>27.550000</td>\n",
       "      <td>0.238000</td>\n",
       "      <td>23.500000</td>\n",
       "    </tr>\n",
       "    <tr>\n",
       "      <th>50%</th>\n",
       "      <td>3.000000</td>\n",
       "      <td>117.000000</td>\n",
       "      <td>74.000000</td>\n",
       "      <td>27.000000</td>\n",
       "      <td>33.800000</td>\n",
       "      <td>0.306000</td>\n",
       "      <td>29.000000</td>\n",
       "    </tr>\n",
       "    <tr>\n",
       "      <th>75%</th>\n",
       "      <td>6.000000</td>\n",
       "      <td>130.000000</td>\n",
       "      <td>81.000000</td>\n",
       "      <td>40.500000</td>\n",
       "      <td>38.150000</td>\n",
       "      <td>0.535000</td>\n",
       "      <td>40.500000</td>\n",
       "    </tr>\n",
       "    <tr>\n",
       "      <th>max</th>\n",
       "      <td>14.000000</td>\n",
       "      <td>140.000000</td>\n",
       "      <td>94.000000</td>\n",
       "      <td>48.000000</td>\n",
       "      <td>43.500000</td>\n",
       "      <td>1.162000</td>\n",
       "      <td>59.000000</td>\n",
       "    </tr>\n",
       "  </tbody>\n",
       "</table>\n",
       "</div>"
      ],
      "text/plain": [
       "           npreg         glu         bp       skin        bmi        ped  \\\n",
       "count  15.000000   15.000000  15.000000  15.000000  15.000000  15.000000   \n",
       "mean    4.066667  114.266667  72.600000  30.466667  33.133333   0.418600   \n",
       "std     4.431489   19.370326  11.274497  11.407182   6.508419   0.275028   \n",
       "min     0.000000   79.000000  58.000000  13.000000  22.900000   0.088000   \n",
       "25%     0.500000   99.500000  61.000000  22.500000  27.550000   0.238000   \n",
       "50%     3.000000  117.000000  74.000000  27.000000  33.800000   0.306000   \n",
       "75%     6.000000  130.000000  81.000000  40.500000  38.150000   0.535000   \n",
       "max    14.000000  140.000000  94.000000  48.000000  43.500000   1.162000   \n",
       "\n",
       "             age  \n",
       "count  15.000000  \n",
       "mean   34.000000  \n",
       "std    12.660399  \n",
       "min    21.000000  \n",
       "25%    23.500000  \n",
       "50%    29.000000  \n",
       "75%    40.500000  \n",
       "max    59.000000  "
      ]
     },
     "execution_count": 38,
     "metadata": {},
     "output_type": "execute_result"
    }
   ],
   "source": [
    "pima_15.describe()"
   ]
  },
  {
   "cell_type": "markdown",
   "metadata": {},
   "source": [
    "***************************************************************************************************************************\n",
    "**A doctor claims, based on his experience, that the average body mass index of diabetic Pima Indian women who are at least 21 years old is 32.31. Johnson Walker, a researcher working for the World Health Organization, tested whether this claim is true by finding a BIM score of 33.13. in a study conducted among 15 diabetic Pima Native American women aged 21-65.**\n",
    "- **Based on these results, should our researcher accept or reject the doctor's claim (original hypothesis)? α=0.05**\n",
    "\n",
    "  - In a right-tailed test, the alternative hypothesis (H1) states that the population parameter is greater than the value specified in the null hypothesis (H0)."
   ]
  },
  {
   "cell_type": "markdown",
   "metadata": {},
   "source": [
    "<hr>\n",
    "\n",
    "<p style=\"background-color:#FFFFFF; font-family:newtimeroman; color:#0000FF; font-size:125%; text-align:left;\"><strong>Given Variables for Population:</strong></p>\n",
    "\n",
    "- population size= 200\n",
    "- population std of bmi= 6.130212\n",
    "- population mean = 32.310000\n",
    "\n",
    "<hr>\n",
    "\n",
    "<p style=\"background-color:#FFFFFF; font-family:newtimeroman; color:#0000FF; font-size:125%; text-align:left;\"><strong>Given Variables for Sample:</strong></p>\n",
    "\n",
    "- sample size = 15\n",
    "- sample std = 6.51\n",
    "- sample mean = 33.13"
   ]
  },
  {
   "cell_type": "markdown",
   "metadata": {},
   "source": [
    "<p style=\"background-color:#FFFFFF; font-family:newtimeroman; color:#0000FF; font-size:125%; text-align:left;\"><strong>Given Variables:</strong></p>"
   ]
  },
  {
   "cell_type": "code",
   "execution_count": 39,
   "metadata": {},
   "outputs": [],
   "source": [
    "# Writing the given variables\n",
    "\n",
    "x_bar = 33.13  # sample mean \n",
    "n = 15  # number of students\n",
    "s = 6.51  # sd of sample\n",
    "mu = 32.310000  # Population mean \n",
    "alpha = 0.01"
   ]
  },
  {
   "cell_type": "markdown",
   "metadata": {},
   "source": [
    "#### <p style=\"background-color:#FFFFFF; font-family:newtimeroman; color:#0000FF; font-size:125%; text-align:left;\"><strong>STEP-01: Stating the null (H0) and alternative hypothesis (Ha or H1).</strong></p>\n",
    "\n",
    "- The null hypothesis, denoted as H0, is the claim that is initially assumed to be true.\n",
    "- The alternative hypothesis, denoted as Ha, is a claim that is contradictory to H0.\n",
    "- We always test a null hypothesis against an alternative. \n",
    "- The null hypothesis represents the initially assumed true statement. \n",
    "- The null hypothesis is used as factually correct unless it can be proven beyond a reasonable doubt that it is untrue.\n",
    "- These two hypotheses are mutually exclusive (and usually exhaustive)."
   ]
  },
  {
   "cell_type": "raw",
   "metadata": {},
   "source": [
    "The null hypothesis..........: H0: μ  = 32.31\n",
    "The average BMI of diabetic Pima Indian women is (equal to) 2.31 (μ = 32.31).\n",
    "\n",
    "The alternative hypothesis...: Ha: μ  > 32.31\n",
    "The average BMI of diabetic Pima Indian women is different from (greater than) 31)."
   ]
  },
  {
   "cell_type": "markdown",
   "metadata": {},
   "source": [
    "#### <p style=\"background-color:#FFFFFF; font-family:newtimeroman; color:#0000FF; font-size:125%; text-align:left;\"><strong>STEP-02: Calculating the test statistic:</strong></p>"
   ]
  },
  {
   "cell_type": "markdown",
   "metadata": {},
   "source": [
    "**[ttest_1samp](https://docs.scipy.org/doc/scipy/reference/generated/scipy.stats.ttest_1samp.html)**\n",
    "\n",
    "- Calculate the T-test for the mean of ONE group of scores.\n",
    "- This is a test for the null hypothesis that the expected value (mean) of a sample of independent observations a is equal to the given population mean."
   ]
  },
  {
   "cell_type": "code",
   "execution_count": 40,
   "metadata": {},
   "outputs": [],
   "source": [
    "# help(stats.ttest_1samp)"
   ]
  },
  {
   "cell_type": "code",
   "execution_count": 41,
   "metadata": {},
   "outputs": [
    {
     "data": {
      "text/plain": [
       "TtestResult(statistic=0.48994326658723525, pvalue=0.6317624485791171, df=14)"
      ]
     },
     "execution_count": 41,
     "metadata": {},
     "output_type": "execute_result"
    }
   ],
   "source": [
    "onesample = stats.ttest_1samp (pima_15[\"bmi\"], 32.31)\n",
    "onesample"
   ]
  },
  {
   "cell_type": "markdown",
   "metadata": {},
   "source": [
    "#### <p style=\"background-color:#FFFFFF; font-family:newtimeroman; color:#0000FF; font-size:125%; text-align:left;\"><strong>STEP-03: Calculating the p-value:</strong></p>"
   ]
  },
  {
   "cell_type": "markdown",
   "metadata": {},
   "source": [
    "**Because it is a ``two-sided test`` we should divide the p_value by 2 at the and if we are seeking one-side test OR we should define ``alternative`` parameter as \"greater\".**"
   ]
  },
  {
   "cell_type": "code",
   "execution_count": 42,
   "metadata": {},
   "outputs": [
    {
     "data": {
      "text/plain": [
       "0.31588122428955856"
      ]
     },
     "execution_count": 42,
     "metadata": {},
     "output_type": "execute_result"
    }
   ],
   "source": [
    "p_value = onesample.pvalue/2\n",
    "p_value"
   ]
  },
  {
   "cell_type": "code",
   "execution_count": 43,
   "metadata": {},
   "outputs": [
    {
     "data": {
      "text/plain": [
       "TtestResult(statistic=0.48994326658723525, pvalue=0.31588122428955856, df=14)"
      ]
     },
     "execution_count": 43,
     "metadata": {},
     "output_type": "execute_result"
    }
   ],
   "source": [
    "# Rather than dividing pvalue with 2 we can use alternative = \"greater\"\n",
    "\n",
    "onesample = stats.ttest_1samp(pima_15[\"bmi\"], 32.31, alternative=\"greater\")\n",
    "onesample"
   ]
  },
  {
   "cell_type": "markdown",
   "metadata": {},
   "source": [
    "#### <p style=\"background-color:#FFFFFF; font-family:newtimeroman; color:#0000FF; font-size:125%; text-align:left;\"><strong>STEP-04: Comparing Test Statistic to Critical Value to Make a decision:</strong></p>\n",
    "\n",
    "<img src=https://i.ibb.co/FKkMk7W/Screenshot-42.png width=\"400\" height=\"200\">"
   ]
  },
  {
   "cell_type": "code",
   "execution_count": 44,
   "metadata": {},
   "outputs": [
    {
     "name": "stdout",
     "output_type": "stream",
     "text": [
      "At 0.05 level of significance, we fail to reject the null hypothesis.\n"
     ]
    }
   ],
   "source": [
    "alpha = 0.05\n",
    "if onesample.pvalue/2<alpha:\n",
    "    print('At {} level of significance, we can reject the null hypothesis in favor of alternative hypothesis.'.format(alpha))\n",
    "else:\n",
    "    print('At {} level of significance, we fail to reject the null hypothesis.'.format(alpha))"
   ]
  },
  {
   "cell_type": "markdown",
   "metadata": {},
   "source": [
    "**``Interpretation of the Decision:``**\n",
    "- At the 0.05 level of significance, failing to reject the null hypothesis means there is not enough evidence to conclude that the average BMI of diabetic Pima Indian women is different from 32.31.\n",
    "\n",
    "**``Conclusion:``**\n",
    "- **``Doctor's Claim``**: The data does not provide sufficient evidence to refute the doctor's claim that the average BMI is 32.31.\n",
    "- **``Recommendation``**: The researcher may continue to consider the doctor's claim as valid based on the sample data collected, as it does not significantly differ from the claim.\n",
    "\n",
    "In summary, the results indicate that the average BMI found in the sample (33.13) does not provide strong enough evidence to contradict the doctor's assertion regarding the average BMI of diabetic Pima Indian women."
   ]
  },
  {
   "cell_type": "markdown",
   "metadata": {},
   "source": [
    "**Making a decision comparing ``calculated`` and ``critical`` t scores:**"
   ]
  },
  {
   "cell_type": "code",
   "execution_count": 45,
   "metadata": {},
   "outputs": [
    {
     "name": "stdout",
     "output_type": "stream",
     "text": [
      "Critical t-value: 1.7613\n",
      "Calculated t-value: 0.4878\n"
     ]
    }
   ],
   "source": [
    "from scipy.stats import t as t_dist\n",
    "\n",
    "# Calculate the t-statistic\n",
    "t_calculated = (x_bar - mu) / (s / np.sqrt(n))\n",
    "\n",
    "# Significance level and degrees of freedom\n",
    "alpha = 0.05\n",
    "dof = n - 1  # degrees of freedom\n",
    "\n",
    "# Critical t-value for the right-tailed test\n",
    "t_critical = t_dist.ppf(1 - alpha, dof)  # Use 1 - alpha for right-tailed\n",
    "\n",
    "# Print the critical t-value and the calculated t-value\n",
    "print(f'Critical t-value: {t_critical:.4f}')\n",
    "print(f'Calculated t-value: {t_calculated:.4f}')"
   ]
  },
  {
   "cell_type": "markdown",
   "metadata": {},
   "source": [
    "- **``Critical Value:``**\n",
    "   - The critical t-value of 1.7613 represents the threshold for rejecting the null hypothesis in a right-tailed test. It indicates the point above which we would reject the null hypothesis if our calculated t-statistic were to fall into that region.\n",
    "\n",
    "- **``Calculated t-Statistic:``**\n",
    "   - The calculated t-statistic of approximately 0.488 is less than the critical t-value of 1.7613. This means it is further away from the rejection region, indicating that the sample mean is NOT significantly greater than the hypothesized population mean.\n",
    "\n",
    "- **``Decision Rule:``**\n",
    "  - **``Right-Tailed Test``**: In a right-tailed test, you reject the null hypothesis if your calculated t-statistic is greater than the critical t-value. Since the critical t-value is 1.7613 and the calculated t-statistic is approximately 0.488, you fail to reject the null hypothesis. This means there is NOT enough evidence to support the claim that the population mean is greater than the specified value at the 0.05 significance level."
   ]
  },
  {
   "cell_type": "code",
   "execution_count": 46,
   "metadata": {},
   "outputs": [],
   "source": [
    "# help(stats.ttest_1samp)"
   ]
  },
  {
   "cell_type": "markdown",
   "metadata": {},
   "source": [
    "#### <p style=\"background-color:#FFFFFF; font-family:newtimeroman; color:#0000FF; font-size:125%; text-align:left;\"><strong>STEP-05: Visualizing the results:</strong></p>"
   ]
  },
  {
   "cell_type": "code",
   "execution_count": 47,
   "metadata": {},
   "outputs": [
    {
     "data": {
      "image/png": "[encoded data removed]",
      "text/plain": [
       "<Figure size 1000x500 with 1 Axes>"
      ]
     },
     "metadata": {},
     "output_type": "display_data"
    }
   ],
   "source": [
    "import numpy as np\n",
    "import matplotlib.pyplot as plt\n",
    "from scipy.stats import t\n",
    "\n",
    "# Given values from your t-test\n",
    "t_statistic = 0.48994326658723525\n",
    "p_value = 0.31588122428955856\n",
    "dof = 14\n",
    "alpha = 0.05\n",
    "\n",
    "# Define the range for the t-distribution plot\n",
    "x = np.linspace(-5, 5, 1000)\n",
    "\n",
    "# Calculate the t-distribution\n",
    "y = t.pdf(x, dof)\n",
    "\n",
    "# Create the plot\n",
    "plt.figure(figsize=(10, 5))\n",
    "\n",
    "# Plot the t-distribution\n",
    "plt.plot(x, y, label=f't-distribution (dof={dof})', color='blue')\n",
    "\n",
    "# Mark the critical t-value for alpha (one-tailed test)\n",
    "t_critical = t.ppf(1 - alpha, dof)\n",
    "plt.axvline(t_critical, color='red', linestyle='--', label=f'Critical t-value at {alpha} level')\n",
    "\n",
    "# Mark the calculated t-statistic\n",
    "plt.axvline(t_statistic, color='green', linestyle='-', label=f'Calculated t-statistic ({t_statistic:.2f})')\n",
    "\n",
    "# Add a blue horizontal line at the bottom of the distribution\n",
    "plt.axhline(0, color='blue', linestyle='-', linewidth=2)\n",
    "\n",
    "# Fill the rejection region with light red regardless of p-value\n",
    "plt.fill_between(x, 0, y, where=(x >= t_critical), color='lightcoral', alpha=0.5, label='Rejection Region')\n",
    "\n",
    "# Add text for p-value and alpha\n",
    "plt.text(-1.3, 0.1, f'Calculated p-value: {p_value:.4f}', fontsize=10)\n",
    "plt.text(-0.65, 0.08, f'alpha: {alpha}', fontsize=10)\n",
    "plt.text(t_statistic, 0.05, f't statistic: {t_statistic:.2f}', color='green', fontsize=10, ha='center', va='top')\n",
    "\n",
    "# Add titles and labels\n",
    "plt.title('One-Tailed t-Distribution with Critical Region and t-Statistic', color='blue')\n",
    "plt.xlabel('t-value')\n",
    "plt.ylabel('Probability Density')\n",
    "plt.legend(fontsize='small')\n",
    "\n",
    "# Set y-axis limit to start from zero\n",
    "plt.ylim(bottom=0)\n",
    "\n",
    "# Remove grids\n",
    "plt.grid(False)\n",
    "\n",
    "# Show the plot\n",
    "plt.show()"
   ]
  },
  {
   "cell_type": "code",
   "execution_count": 48,
   "metadata": {},
   "outputs": [
    {
     "data": {
      "image/png": "[encoded data removed]",
      "text/plain": [
       "<Figure size 1000x500 with 1 Axes>"
      ]
     },
     "metadata": {},
     "output_type": "display_data"
    }
   ],
   "source": [
    "import numpy as np\n",
    "import matplotlib.pyplot as plt\n",
    "from scipy.stats import t\n",
    "\n",
    "# Given values from your t-test\n",
    "t_statistic = 0.48994326658723525\n",
    "p_value = 0.31588122428955856\n",
    "dof = 14\n",
    "alpha = 0.05\n",
    "\n",
    "# Define the range for the t-distribution plot\n",
    "x = np.linspace(-5, 5, 1000)\n",
    "\n",
    "# Calculate the t-distribution\n",
    "y = t.pdf(x, dof)\n",
    "\n",
    "# Create the plot\n",
    "plt.figure(figsize=(10, 5))\n",
    "\n",
    "# Plot the t-distribution\n",
    "plt.plot(x, y, label=f't-distribution (dof={dof})', color='blue')\n",
    "\n",
    "# Mark the critical t-values for alpha/2 (two-tailed test)\n",
    "t_critical = t.ppf(1 - alpha/2, dof)\n",
    "plt.axvline(t_critical, color='red', linestyle='--', label=f'Critical t-value ({alpha/2})')\n",
    "plt.axvline(-t_critical, color='red', linestyle='--')\n",
    "\n",
    "# Mark the calculated t-statistic\n",
    "plt.axvline(t_statistic, color='green', linestyle='-', label=f'Calculated t-statistic ({t_statistic:.2f})')\n",
    "\n",
    "# Add a blue horizontal line at the bottom of the distribution\n",
    "plt.axhline(0, color='blue', linestyle='-', linewidth=2)\n",
    "\n",
    "# Fill the rejection region(s) with light red\n",
    "plt.fill_between(x, 0, y, where=(x >= t_critical) | (x <= -t_critical), color='lightcoral', alpha=0.5, label='Rejection Region')\n",
    "\n",
    "# Add text for p-value and alpha\n",
    "plt.text(-1.3, 0.1, f'Calculated p-value: {p_value:.4f}', fontsize=10)\n",
    "plt.text(-0.65, 0.08, f'alpha: {alpha}', fontsize=10)\n",
    "plt.text(t_statistic+0.85, 0.05, f't statistic: {t_statistic:.2f}', color='green', fontsize=10, ha='center', va='top')\n",
    "\n",
    "# Add titles and labels\n",
    "plt.title('t-Distribution with Critical Region and t-Statistic', color='blue')\n",
    "plt.xlabel('t-value')\n",
    "plt.ylabel('Probability Density')\n",
    "plt.legend(fontsize='small')\n",
    "\n",
    "# Set y-axis limit to start from zero\n",
    "plt.ylim(bottom=0)\n",
    "\n",
    "# Remove grids\n",
    "plt.grid(False)\n",
    "\n",
    "# Show the plot\n",
    "plt.show()"
   ]
  },
  {
   "cell_type": "markdown",
   "metadata": {},
   "source": [
    "<p style=\"background-color:#FFFFFF; font-family:newtimeroman; color:#0000FF; font-size:110%; text-align:left;\"><strong>-----------------------------------------------------------------------------------------------------------------------------------------------------------------------------------------------</strong></p>\n",
    "\n",
    "\n",
    "### <p style=\"background-color:#E51A59; font-family:newtimeroman; color:#FDFEFE; font-size:150%; text-align:left; border-radius:10px 10px;\">Example-03 (One Sample t-Test):</p>"
   ]
  },
  {
   "cell_type": "code",
   "execution_count": 49,
   "metadata": {},
   "outputs": [
    {
     "data": {
      "text/plain": [
       "['anagrams',\n",
       " 'anscombe',\n",
       " 'attention',\n",
       " 'brain_networks',\n",
       " 'car_crashes',\n",
       " 'diamonds',\n",
       " 'dots',\n",
       " 'dowjones',\n",
       " 'exercise',\n",
       " 'flights',\n",
       " 'fmri',\n",
       " 'geyser',\n",
       " 'glue',\n",
       " 'healthexp',\n",
       " 'iris',\n",
       " 'mpg',\n",
       " 'penguins',\n",
       " 'planets',\n",
       " 'seaice',\n",
       " 'taxis',\n",
       " 'tips',\n",
       " 'titanic']"
      ]
     },
     "execution_count": 49,
     "metadata": {},
     "output_type": "execute_result"
    }
   ],
   "source": [
    "import seaborn as sns\n",
    "sns.get_dataset_names()"
   ]
  },
  {
   "cell_type": "code",
   "execution_count": 50,
   "metadata": {},
   "outputs": [
    {
     "data": {
      "text/html": [
       "<div>\n",
       "<style scoped>\n",
       "    .dataframe tbody tr th:only-of-type {\n",
       "        vertical-align: middle;\n",
       "    }\n",
       "\n",
       "    .dataframe tbody tr th {\n",
       "        vertical-align: top;\n",
       "    }\n",
       "\n",
       "    .dataframe thead th {\n",
       "        text-align: right;\n",
       "    }\n",
       "</style>\n",
       "<table border=\"1\" class=\"dataframe\">\n",
       "  <thead>\n",
       "    <tr style=\"text-align: right;\">\n",
       "      <th></th>\n",
       "      <th>species</th>\n",
       "      <th>island</th>\n",
       "      <th>bill_length_mm</th>\n",
       "      <th>bill_depth_mm</th>\n",
       "      <th>flipper_length_mm</th>\n",
       "      <th>body_mass_g</th>\n",
       "      <th>sex</th>\n",
       "    </tr>\n",
       "  </thead>\n",
       "  <tbody>\n",
       "    <tr>\n",
       "      <th>0</th>\n",
       "      <td>Adelie</td>\n",
       "      <td>Torgersen</td>\n",
       "      <td>39.1</td>\n",
       "      <td>18.7</td>\n",
       "      <td>181.0</td>\n",
       "      <td>3750.0</td>\n",
       "      <td>Male</td>\n",
       "    </tr>\n",
       "    <tr>\n",
       "      <th>1</th>\n",
       "      <td>Adelie</td>\n",
       "      <td>Torgersen</td>\n",
       "      <td>39.5</td>\n",
       "      <td>17.4</td>\n",
       "      <td>186.0</td>\n",
       "      <td>3800.0</td>\n",
       "      <td>Female</td>\n",
       "    </tr>\n",
       "    <tr>\n",
       "      <th>2</th>\n",
       "      <td>Adelie</td>\n",
       "      <td>Torgersen</td>\n",
       "      <td>40.3</td>\n",
       "      <td>18.0</td>\n",
       "      <td>195.0</td>\n",
       "      <td>3250.0</td>\n",
       "      <td>Female</td>\n",
       "    </tr>\n",
       "    <tr>\n",
       "      <th>3</th>\n",
       "      <td>Adelie</td>\n",
       "      <td>Torgersen</td>\n",
       "      <td>NaN</td>\n",
       "      <td>NaN</td>\n",
       "      <td>NaN</td>\n",
       "      <td>NaN</td>\n",
       "      <td>NaN</td>\n",
       "    </tr>\n",
       "    <tr>\n",
       "      <th>4</th>\n",
       "      <td>Adelie</td>\n",
       "      <td>Torgersen</td>\n",
       "      <td>36.7</td>\n",
       "      <td>19.3</td>\n",
       "      <td>193.0</td>\n",
       "      <td>3450.0</td>\n",
       "      <td>Female</td>\n",
       "    </tr>\n",
       "  </tbody>\n",
       "</table>\n",
       "</div>"
      ],
      "text/plain": [
       "  species     island  bill_length_mm  bill_depth_mm  flipper_length_mm  \\\n",
       "0  Adelie  Torgersen            39.1           18.7              181.0   \n",
       "1  Adelie  Torgersen            39.5           17.4              186.0   \n",
       "2  Adelie  Torgersen            40.3           18.0              195.0   \n",
       "3  Adelie  Torgersen             NaN            NaN                NaN   \n",
       "4  Adelie  Torgersen            36.7           19.3              193.0   \n",
       "\n",
       "   body_mass_g     sex  \n",
       "0       3750.0    Male  \n",
       "1       3800.0  Female  \n",
       "2       3250.0  Female  \n",
       "3          NaN     NaN  \n",
       "4       3450.0  Female  "
      ]
     },
     "execution_count": 50,
     "metadata": {},
     "output_type": "execute_result"
    }
   ],
   "source": [
    "df = sns.load_dataset(\"penguins\")\n",
    "df.head()"
   ]
  },
  {
   "cell_type": "code",
   "execution_count": 51,
   "metadata": {},
   "outputs": [
    {
     "name": "stdout",
     "output_type": "stream",
     "text": [
      "<class 'pandas.core.frame.DataFrame'>\n",
      "Index: 168 entries, 0 to 343\n",
      "Data columns (total 7 columns):\n",
      " #   Column             Non-Null Count  Dtype  \n",
      "---  ------             --------------  -----  \n",
      " 0   species            168 non-null    object \n",
      " 1   island             168 non-null    object \n",
      " 2   bill_length_mm     168 non-null    float64\n",
      " 3   bill_depth_mm      168 non-null    float64\n",
      " 4   flipper_length_mm  168 non-null    float64\n",
      " 5   body_mass_g        168 non-null    float64\n",
      " 6   sex                168 non-null    object \n",
      "dtypes: float64(4), object(3)\n",
      "memory usage: 10.5+ KB\n"
     ]
    }
   ],
   "source": [
    "df[df.sex==\"Male\"].info()"
   ]
  },
  {
   "cell_type": "code",
   "execution_count": 52,
   "metadata": {},
   "outputs": [
    {
     "data": {
      "text/plain": [
       "(333, 7)"
      ]
     },
     "execution_count": 52,
     "metadata": {},
     "output_type": "execute_result"
    }
   ],
   "source": [
    "df = df.dropna()\n",
    "df.shape"
   ]
  },
  {
   "cell_type": "code",
   "execution_count": 53,
   "metadata": {},
   "outputs": [
    {
     "name": "stdout",
     "output_type": "stream",
     "text": [
      "<class 'pandas.core.frame.DataFrame'>\n",
      "Index: 168 entries, 0 to 343\n",
      "Data columns (total 7 columns):\n",
      " #   Column             Non-Null Count  Dtype  \n",
      "---  ------             --------------  -----  \n",
      " 0   species            168 non-null    object \n",
      " 1   island             168 non-null    object \n",
      " 2   bill_length_mm     168 non-null    float64\n",
      " 3   bill_depth_mm      168 non-null    float64\n",
      " 4   flipper_length_mm  168 non-null    float64\n",
      " 5   body_mass_g        168 non-null    float64\n",
      " 6   sex                168 non-null    object \n",
      "dtypes: float64(4), object(3)\n",
      "memory usage: 10.5+ KB\n"
     ]
    }
   ],
   "source": [
    "df[df.sex==\"Male\"].info()"
   ]
  },
  {
   "cell_type": "code",
   "execution_count": 54,
   "metadata": {},
   "outputs": [
    {
     "data": {
      "text/html": [
       "<div>\n",
       "<style scoped>\n",
       "    .dataframe tbody tr th:only-of-type {\n",
       "        vertical-align: middle;\n",
       "    }\n",
       "\n",
       "    .dataframe tbody tr th {\n",
       "        vertical-align: top;\n",
       "    }\n",
       "\n",
       "    .dataframe thead th {\n",
       "        text-align: right;\n",
       "    }\n",
       "</style>\n",
       "<table border=\"1\" class=\"dataframe\">\n",
       "  <thead>\n",
       "    <tr style=\"text-align: right;\">\n",
       "      <th></th>\n",
       "      <th>bill_length_mm</th>\n",
       "      <th>bill_depth_mm</th>\n",
       "      <th>flipper_length_mm</th>\n",
       "      <th>body_mass_g</th>\n",
       "    </tr>\n",
       "  </thead>\n",
       "  <tbody>\n",
       "    <tr>\n",
       "      <th>count</th>\n",
       "      <td>168.000000</td>\n",
       "      <td>168.000000</td>\n",
       "      <td>168.000000</td>\n",
       "      <td>168.000000</td>\n",
       "    </tr>\n",
       "    <tr>\n",
       "      <th>mean</th>\n",
       "      <td>45.854762</td>\n",
       "      <td>17.891071</td>\n",
       "      <td>204.505952</td>\n",
       "      <td>4545.684524</td>\n",
       "    </tr>\n",
       "    <tr>\n",
       "      <th>std</th>\n",
       "      <td>5.366896</td>\n",
       "      <td>1.863351</td>\n",
       "      <td>14.547876</td>\n",
       "      <td>787.628884</td>\n",
       "    </tr>\n",
       "    <tr>\n",
       "      <th>min</th>\n",
       "      <td>34.600000</td>\n",
       "      <td>14.100000</td>\n",
       "      <td>178.000000</td>\n",
       "      <td>3250.000000</td>\n",
       "    </tr>\n",
       "    <tr>\n",
       "      <th>25%</th>\n",
       "      <td>40.975000</td>\n",
       "      <td>16.075000</td>\n",
       "      <td>193.000000</td>\n",
       "      <td>3900.000000</td>\n",
       "    </tr>\n",
       "    <tr>\n",
       "      <th>50%</th>\n",
       "      <td>46.800000</td>\n",
       "      <td>18.450000</td>\n",
       "      <td>200.500000</td>\n",
       "      <td>4300.000000</td>\n",
       "    </tr>\n",
       "    <tr>\n",
       "      <th>75%</th>\n",
       "      <td>50.325000</td>\n",
       "      <td>19.250000</td>\n",
       "      <td>219.000000</td>\n",
       "      <td>5312.500000</td>\n",
       "    </tr>\n",
       "    <tr>\n",
       "      <th>max</th>\n",
       "      <td>59.600000</td>\n",
       "      <td>21.500000</td>\n",
       "      <td>231.000000</td>\n",
       "      <td>6300.000000</td>\n",
       "    </tr>\n",
       "  </tbody>\n",
       "</table>\n",
       "</div>"
      ],
      "text/plain": [
       "       bill_length_mm  bill_depth_mm  flipper_length_mm  body_mass_g\n",
       "count      168.000000     168.000000         168.000000   168.000000\n",
       "mean        45.854762      17.891071         204.505952  4545.684524\n",
       "std          5.366896       1.863351          14.547876   787.628884\n",
       "min         34.600000      14.100000         178.000000  3250.000000\n",
       "25%         40.975000      16.075000         193.000000  3900.000000\n",
       "50%         46.800000      18.450000         200.500000  4300.000000\n",
       "75%         50.325000      19.250000         219.000000  5312.500000\n",
       "max         59.600000      21.500000         231.000000  6300.000000"
      ]
     },
     "execution_count": 54,
     "metadata": {},
     "output_type": "execute_result"
    }
   ],
   "source": [
    "df[df.sex==\"Male\"].describe()"
   ]
  },
  {
   "cell_type": "code",
   "execution_count": 55,
   "metadata": {},
   "outputs": [
    {
     "data": {
      "text/html": [
       "<div>\n",
       "<style scoped>\n",
       "    .dataframe tbody tr th:only-of-type {\n",
       "        vertical-align: middle;\n",
       "    }\n",
       "\n",
       "    .dataframe tbody tr th {\n",
       "        vertical-align: top;\n",
       "    }\n",
       "\n",
       "    .dataframe thead th {\n",
       "        text-align: right;\n",
       "    }\n",
       "</style>\n",
       "<table border=\"1\" class=\"dataframe\">\n",
       "  <thead>\n",
       "    <tr style=\"text-align: right;\">\n",
       "      <th></th>\n",
       "      <th>species</th>\n",
       "      <th>island</th>\n",
       "      <th>bill_length_mm</th>\n",
       "      <th>bill_depth_mm</th>\n",
       "      <th>flipper_length_mm</th>\n",
       "      <th>body_mass_g</th>\n",
       "      <th>sex</th>\n",
       "    </tr>\n",
       "  </thead>\n",
       "  <tbody>\n",
       "    <tr>\n",
       "      <th>281</th>\n",
       "      <td>Gentoo</td>\n",
       "      <td>Biscoe</td>\n",
       "      <td>46.2</td>\n",
       "      <td>14.9</td>\n",
       "      <td>221.0</td>\n",
       "      <td>5300.0</td>\n",
       "      <td>Male</td>\n",
       "    </tr>\n",
       "    <tr>\n",
       "      <th>67</th>\n",
       "      <td>Adelie</td>\n",
       "      <td>Biscoe</td>\n",
       "      <td>41.1</td>\n",
       "      <td>19.1</td>\n",
       "      <td>188.0</td>\n",
       "      <td>4100.0</td>\n",
       "      <td>Male</td>\n",
       "    </tr>\n",
       "    <tr>\n",
       "      <th>245</th>\n",
       "      <td>Gentoo</td>\n",
       "      <td>Biscoe</td>\n",
       "      <td>46.1</td>\n",
       "      <td>15.1</td>\n",
       "      <td>215.0</td>\n",
       "      <td>5100.0</td>\n",
       "      <td>Male</td>\n",
       "    </tr>\n",
       "    <tr>\n",
       "      <th>65</th>\n",
       "      <td>Adelie</td>\n",
       "      <td>Biscoe</td>\n",
       "      <td>41.6</td>\n",
       "      <td>18.0</td>\n",
       "      <td>192.0</td>\n",
       "      <td>3950.0</td>\n",
       "      <td>Male</td>\n",
       "    </tr>\n",
       "    <tr>\n",
       "      <th>291</th>\n",
       "      <td>Gentoo</td>\n",
       "      <td>Biscoe</td>\n",
       "      <td>46.4</td>\n",
       "      <td>15.6</td>\n",
       "      <td>221.0</td>\n",
       "      <td>5000.0</td>\n",
       "      <td>Male</td>\n",
       "    </tr>\n",
       "    <tr>\n",
       "      <th>329</th>\n",
       "      <td>Gentoo</td>\n",
       "      <td>Biscoe</td>\n",
       "      <td>48.1</td>\n",
       "      <td>15.1</td>\n",
       "      <td>209.0</td>\n",
       "      <td>5500.0</td>\n",
       "      <td>Male</td>\n",
       "    </tr>\n",
       "    <tr>\n",
       "      <th>335</th>\n",
       "      <td>Gentoo</td>\n",
       "      <td>Biscoe</td>\n",
       "      <td>55.1</td>\n",
       "      <td>16.0</td>\n",
       "      <td>230.0</td>\n",
       "      <td>5850.0</td>\n",
       "      <td>Male</td>\n",
       "    </tr>\n",
       "    <tr>\n",
       "      <th>109</th>\n",
       "      <td>Adelie</td>\n",
       "      <td>Biscoe</td>\n",
       "      <td>43.2</td>\n",
       "      <td>19.0</td>\n",
       "      <td>197.0</td>\n",
       "      <td>4775.0</td>\n",
       "      <td>Male</td>\n",
       "    </tr>\n",
       "    <tr>\n",
       "      <th>217</th>\n",
       "      <td>Chinstrap</td>\n",
       "      <td>Dream</td>\n",
       "      <td>49.6</td>\n",
       "      <td>18.2</td>\n",
       "      <td>193.0</td>\n",
       "      <td>3775.0</td>\n",
       "      <td>Male</td>\n",
       "    </tr>\n",
       "    <tr>\n",
       "      <th>127</th>\n",
       "      <td>Adelie</td>\n",
       "      <td>Torgersen</td>\n",
       "      <td>41.5</td>\n",
       "      <td>18.3</td>\n",
       "      <td>195.0</td>\n",
       "      <td>4300.0</td>\n",
       "      <td>Male</td>\n",
       "    </tr>\n",
       "    <tr>\n",
       "      <th>36</th>\n",
       "      <td>Adelie</td>\n",
       "      <td>Dream</td>\n",
       "      <td>38.8</td>\n",
       "      <td>20.0</td>\n",
       "      <td>190.0</td>\n",
       "      <td>3950.0</td>\n",
       "      <td>Male</td>\n",
       "    </tr>\n",
       "    <tr>\n",
       "      <th>319</th>\n",
       "      <td>Gentoo</td>\n",
       "      <td>Biscoe</td>\n",
       "      <td>51.1</td>\n",
       "      <td>16.5</td>\n",
       "      <td>225.0</td>\n",
       "      <td>5250.0</td>\n",
       "      <td>Male</td>\n",
       "    </tr>\n",
       "    <tr>\n",
       "      <th>273</th>\n",
       "      <td>Gentoo</td>\n",
       "      <td>Biscoe</td>\n",
       "      <td>50.1</td>\n",
       "      <td>15.0</td>\n",
       "      <td>225.0</td>\n",
       "      <td>5000.0</td>\n",
       "      <td>Male</td>\n",
       "    </tr>\n",
       "    <tr>\n",
       "      <th>97</th>\n",
       "      <td>Adelie</td>\n",
       "      <td>Dream</td>\n",
       "      <td>40.3</td>\n",
       "      <td>18.5</td>\n",
       "      <td>196.0</td>\n",
       "      <td>4350.0</td>\n",
       "      <td>Male</td>\n",
       "    </tr>\n",
       "    <tr>\n",
       "      <th>143</th>\n",
       "      <td>Adelie</td>\n",
       "      <td>Dream</td>\n",
       "      <td>40.7</td>\n",
       "      <td>17.0</td>\n",
       "      <td>190.0</td>\n",
       "      <td>3725.0</td>\n",
       "      <td>Male</td>\n",
       "    </tr>\n",
       "  </tbody>\n",
       "</table>\n",
       "</div>"
      ],
      "text/plain": [
       "       species     island  bill_length_mm  bill_depth_mm  flipper_length_mm  \\\n",
       "281     Gentoo     Biscoe            46.2           14.9              221.0   \n",
       "67      Adelie     Biscoe            41.1           19.1              188.0   \n",
       "245     Gentoo     Biscoe            46.1           15.1              215.0   \n",
       "65      Adelie     Biscoe            41.6           18.0              192.0   \n",
       "291     Gentoo     Biscoe            46.4           15.6              221.0   \n",
       "329     Gentoo     Biscoe            48.1           15.1              209.0   \n",
       "335     Gentoo     Biscoe            55.1           16.0              230.0   \n",
       "109     Adelie     Biscoe            43.2           19.0              197.0   \n",
       "217  Chinstrap      Dream            49.6           18.2              193.0   \n",
       "127     Adelie  Torgersen            41.5           18.3              195.0   \n",
       "36      Adelie      Dream            38.8           20.0              190.0   \n",
       "319     Gentoo     Biscoe            51.1           16.5              225.0   \n",
       "273     Gentoo     Biscoe            50.1           15.0              225.0   \n",
       "97      Adelie      Dream            40.3           18.5              196.0   \n",
       "143     Adelie      Dream            40.7           17.0              190.0   \n",
       "\n",
       "     body_mass_g   sex  \n",
       "281       5300.0  Male  \n",
       "67        4100.0  Male  \n",
       "245       5100.0  Male  \n",
       "65        3950.0  Male  \n",
       "291       5000.0  Male  \n",
       "329       5500.0  Male  \n",
       "335       5850.0  Male  \n",
       "109       4775.0  Male  \n",
       "217       3775.0  Male  \n",
       "127       4300.0  Male  \n",
       "36        3950.0  Male  \n",
       "319       5250.0  Male  \n",
       "273       5000.0  Male  \n",
       "97        4350.0  Male  \n",
       "143       3725.0  Male  "
      ]
     },
     "execution_count": 55,
     "metadata": {},
     "output_type": "execute_result"
    }
   ],
   "source": [
    "male_penguen_15 = df[df.sex==\"Male\"].sample(15, random_state=42)\n",
    "male_penguen_15"
   ]
  },
  {
   "cell_type": "code",
   "execution_count": 56,
   "metadata": {},
   "outputs": [
    {
     "data": {
      "text/html": [
       "<div>\n",
       "<style scoped>\n",
       "    .dataframe tbody tr th:only-of-type {\n",
       "        vertical-align: middle;\n",
       "    }\n",
       "\n",
       "    .dataframe tbody tr th {\n",
       "        vertical-align: top;\n",
       "    }\n",
       "\n",
       "    .dataframe thead th {\n",
       "        text-align: right;\n",
       "    }\n",
       "</style>\n",
       "<table border=\"1\" class=\"dataframe\">\n",
       "  <thead>\n",
       "    <tr style=\"text-align: right;\">\n",
       "      <th></th>\n",
       "      <th>bill_length_mm</th>\n",
       "      <th>bill_depth_mm</th>\n",
       "      <th>flipper_length_mm</th>\n",
       "      <th>body_mass_g</th>\n",
       "    </tr>\n",
       "  </thead>\n",
       "  <tbody>\n",
       "    <tr>\n",
       "      <th>count</th>\n",
       "      <td>15.000000</td>\n",
       "      <td>15.000000</td>\n",
       "      <td>15.000000</td>\n",
       "      <td>15.000000</td>\n",
       "    </tr>\n",
       "    <tr>\n",
       "      <th>mean</th>\n",
       "      <td>45.326667</td>\n",
       "      <td>17.086667</td>\n",
       "      <td>205.800000</td>\n",
       "      <td>4661.666667</td>\n",
       "    </tr>\n",
       "    <tr>\n",
       "      <th>std</th>\n",
       "      <td>4.783075</td>\n",
       "      <td>1.742685</td>\n",
       "      <td>15.446682</td>\n",
       "      <td>682.554725</td>\n",
       "    </tr>\n",
       "    <tr>\n",
       "      <th>min</th>\n",
       "      <td>38.800000</td>\n",
       "      <td>14.900000</td>\n",
       "      <td>188.000000</td>\n",
       "      <td>3725.000000</td>\n",
       "    </tr>\n",
       "    <tr>\n",
       "      <th>25%</th>\n",
       "      <td>41.300000</td>\n",
       "      <td>15.350000</td>\n",
       "      <td>192.500000</td>\n",
       "      <td>4025.000000</td>\n",
       "    </tr>\n",
       "    <tr>\n",
       "      <th>50%</th>\n",
       "      <td>46.100000</td>\n",
       "      <td>17.000000</td>\n",
       "      <td>197.000000</td>\n",
       "      <td>4775.000000</td>\n",
       "    </tr>\n",
       "    <tr>\n",
       "      <th>75%</th>\n",
       "      <td>48.850000</td>\n",
       "      <td>18.400000</td>\n",
       "      <td>221.000000</td>\n",
       "      <td>5175.000000</td>\n",
       "    </tr>\n",
       "    <tr>\n",
       "      <th>max</th>\n",
       "      <td>55.100000</td>\n",
       "      <td>20.000000</td>\n",
       "      <td>230.000000</td>\n",
       "      <td>5850.000000</td>\n",
       "    </tr>\n",
       "  </tbody>\n",
       "</table>\n",
       "</div>"
      ],
      "text/plain": [
       "       bill_length_mm  bill_depth_mm  flipper_length_mm  body_mass_g\n",
       "count       15.000000      15.000000          15.000000    15.000000\n",
       "mean        45.326667      17.086667         205.800000  4661.666667\n",
       "std          4.783075       1.742685          15.446682   682.554725\n",
       "min         38.800000      14.900000         188.000000  3725.000000\n",
       "25%         41.300000      15.350000         192.500000  4025.000000\n",
       "50%         46.100000      17.000000         197.000000  4775.000000\n",
       "75%         48.850000      18.400000         221.000000  5175.000000\n",
       "max         55.100000      20.000000         230.000000  5850.000000"
      ]
     },
     "execution_count": 56,
     "metadata": {},
     "output_type": "execute_result"
    }
   ],
   "source": [
    "male_penguen_15.describe()"
   ]
  },
  {
   "cell_type": "markdown",
   "metadata": {},
   "source": [
    "<p style=\"background-color:#FFFFFF; font-family:newtimeroman; color:#0000FF; font-size:110%; text-align:left;\"><strong>-----------------------------------------------------------------------------------------------------------------------------------------------------------------------------------------------</strong></p>\n",
    "**In a zoo, it is claimed that the average weight of male penguins is 4500 grams. However, our researcher Orion Cloud, thinking that this claim does not reflect the truth, found the average weight of mmale penguins to be 4661 grams in a study conducted among 15 male penguins. Based on these results, should our researcher accept or reject the claim (original hypothesis) of the zoo staff? α=0.05**\n",
    "\n",
    "- In a right-tailed test, the alternative hypothesis (H1) states that the population parameter is greater than the value specified in the null hypothesis (H0).\n",
    "\n",
    "<p style=\"background-color:#FFFFFF; font-family:newtimeroman; color:#0000FF; font-size:110%; text-align:left;\"><strong>-----------------------------------------------------------------------------------------------------------------------------------------------------------------------------------------------</strong></p>\n"
   ]
  },
  {
   "cell_type": "markdown",
   "metadata": {},
   "source": [
    "\n",
    "<p style=\"background-color:#FFFFFF; font-family:newtimeroman; color:#0000FF; font-size:125%; text-align:left;\"><strong>Given Variables for Population:</strong></p>\n",
    "\n",
    "- population size= 168\n",
    "- population std of body_mass_g for male penguin = 787.628884\n",
    "- population mean of body_mass_g for male penguin = 4545.684524\n",
    "\n",
    "<hr>\n",
    "\n",
    "<p style=\"background-color:#FFFFFF; font-family:newtimeroman; color:#0000FF; font-size:125%; text-align:left;\"><strong>Given Variables for Sample:</strong></p>\n",
    "\n",
    "- sample size = 15\n",
    "- sample std of body_mass_g for male penguin = 682.55\n",
    "- sample mean of body_mass_g for male penguin = 4661.67"
   ]
  },
  {
   "cell_type": "markdown",
   "metadata": {},
   "source": [
    "<p style=\"background-color:#FFFFFF; font-family:newtimeroman; color:#0000FF; font-size:125%; text-align:left;\"><strong>Given Variables:</strong></p>"
   ]
  },
  {
   "cell_type": "code",
   "execution_count": 57,
   "metadata": {},
   "outputs": [],
   "source": [
    "# Writing the given variables\n",
    "\n",
    "x_bar = 4661.67  # sample mean \n",
    "n = 15  # number of students\n",
    "s = 682.55  # sd of sample\n",
    "mu = 4545.684524  # Population mean \n",
    "alpha = 0.05"
   ]
  },
  {
   "cell_type": "markdown",
   "metadata": {},
   "source": [
    "#### <p style=\"background-color:#FFFFFF; font-family:newtimeroman; color:#0000FF; font-size:125%; text-align:left;\"><strong>STEP-01: Stating the null (H0) and alternative hypothesis (Ha or H1).</strong></p>\n",
    "\n",
    "- The null hypothesis, denoted as H0, is the claim that is initially assumed to be true.\n",
    "- The alternative hypothesis, denoted as Ha, is a claim that is contradictory to H0.\n",
    "- We always test a null hypothesis against an alternative. \n",
    "- The null hypothesis represents the initially assumed true statement. \n",
    "- The null hypothesis is used as factually correct unless it can be proven beyond a reasonable doubt that it is untrue.\n",
    "- These two hypotheses are mutually exclusive (and usually exhaustive)."
   ]
  },
  {
   "cell_type": "raw",
   "metadata": {},
   "source": [
    "The null hypothesis..........: H0: μ  = 4500\n",
    "The average weight of male penguins is (equal to) 4500 grams (μ = 4500).\n",
    "\n",
    "The alternative hypothesis...: Ha: μ  > 4500\n",
    "The average weight of male penguins is different from (greater than) 4500 grams (μ > 4500)."
   ]
  },
  {
   "cell_type": "markdown",
   "metadata": {},
   "source": [
    "#### <p style=\"background-color:#FFFFFF; font-family:newtimeroman; color:#0000FF; font-size:125%; text-align:left;\"><strong>STEP-02: Calculating the test statistic:</strong></p>"
   ]
  },
  {
   "cell_type": "code",
   "execution_count": 58,
   "metadata": {},
   "outputs": [
    {
     "data": {
      "text/plain": [
       "TtestResult(statistic=0.917336419870783, pvalue=0.1872496747294224, df=14)"
      ]
     },
     "execution_count": 58,
     "metadata": {},
     "output_type": "execute_result"
    }
   ],
   "source": [
    "onesample = stats.ttest_1samp (male_penguen_15.body_mass_g, 4500, alternative=\"greater\")\n",
    "onesample"
   ]
  },
  {
   "cell_type": "code",
   "execution_count": 59,
   "metadata": {},
   "outputs": [
    {
     "data": {
      "text/plain": [
       "0.917336419870783"
      ]
     },
     "execution_count": 59,
     "metadata": {},
     "output_type": "execute_result"
    }
   ],
   "source": [
    "test_statistic = onesample.statistic\n",
    "test_statistic"
   ]
  },
  {
   "cell_type": "markdown",
   "metadata": {},
   "source": [
    "#### <p style=\"background-color:#FFFFFF; font-family:newtimeroman; color:#0000FF; font-size:125%; text-align:left;\"><strong>STEP-03: Calculating the p-value:</strong></p>"
   ]
  },
  {
   "cell_type": "markdown",
   "metadata": {},
   "source": [
    "**Because it is a ``two-sided test`` we should divide the p_value by 2 at the and if we are seeking one-side test OR we should define ``alternative`` parameter as \"greater\".**"
   ]
  },
  {
   "cell_type": "code",
   "execution_count": 60,
   "metadata": {},
   "outputs": [
    {
     "data": {
      "text/plain": [
       "0.1872496747294224"
      ]
     },
     "execution_count": 60,
     "metadata": {},
     "output_type": "execute_result"
    }
   ],
   "source": [
    "p_value = onesample.pvalue\n",
    "p_value"
   ]
  },
  {
   "cell_type": "markdown",
   "metadata": {},
   "source": [
    "#### <p style=\"background-color:#FFFFFF; font-family:newtimeroman; color:#0000FF; font-size:125%; text-align:left;\"><strong>STEP-04: Comparing Test Statistic to Critical Value to Make a decision:</strong></p>\n",
    "\n",
    "<img src=https://i.ibb.co/FKkMk7W/Screenshot-42.png width=\"400\" height=\"200\">"
   ]
  },
  {
   "cell_type": "code",
   "execution_count": 61,
   "metadata": {},
   "outputs": [
    {
     "name": "stdout",
     "output_type": "stream",
     "text": [
      "At 0.05 level of significance, we fail to reject the null hypothesis.\n"
     ]
    }
   ],
   "source": [
    "alpha = 0.05\n",
    "if onesample.pvalue <= alpha:\n",
    "    print('At {} level of significance, we can reject the null hypothesis in favor of alternative hypothesis.'.format(alpha))\n",
    "else:\n",
    "    print('At {} level of significance, we fail to reject the null hypothesis.'.format(alpha))"
   ]
  },
  {
   "cell_type": "markdown",
   "metadata": {},
   "source": [
    "**``Interpretation of the Decision:``**\n",
    "- At the 0.05 level of significance, failing to reject the null hypothesis means there is not enough evidence to conclude that the average weight of male penguins is different from 4500 grams.\n",
    "\n",
    "**``Conclusion:``**\n",
    "- **``Zoo's Claim``**: The data does not provide sufficient evidence to refute the zoo's claim that the average weight of male penguins is 4500 grams.\n",
    "- **``Recommendation``**: Researcher Orion Cloud may continue to accept the zoo's claim based on the sample data collected, as the average weight found in the sample (4661 grams) does not significantly differ from the claimed average.\n",
    "\n",
    "In summary, the results indicate that the average weight of male penguins in the sample does not provide strong enough evidence to contradict the zoo's assertion regarding their average weight."
   ]
  },
  {
   "cell_type": "markdown",
   "metadata": {},
   "source": [
    "**Making a decision comparing ``calculated`` and ``critical`` t scores:**"
   ]
  },
  {
   "cell_type": "code",
   "execution_count": 62,
   "metadata": {},
   "outputs": [
    {
     "name": "stdout",
     "output_type": "stream",
     "text": [
      "Critical t-value: 1.7613\n",
      "Calculated t-value: 0.6581\n"
     ]
    }
   ],
   "source": [
    "from scipy.stats import t as t_dist\n",
    "\n",
    "# Calculate the t-statistic\n",
    "t_calculated = (x_bar - mu) / (s / np.sqrt(n))\n",
    "\n",
    "# Significance level and degrees of freedom\n",
    "alpha = 0.05\n",
    "dof = n - 1  # degrees of freedom\n",
    "\n",
    "# Critical t-value for the right-tailed test\n",
    "t_critical = t_dist.ppf(1 - alpha, dof)  # Use 1 - alpha for right-tailed\n",
    "\n",
    "# Print the critical t-value and the calculated t-value\n",
    "print(f'Critical t-value: {t_critical:.4f}')\n",
    "print(f'Calculated t-value: {t_calculated:.4f}')"
   ]
  },
  {
   "cell_type": "markdown",
   "metadata": {},
   "source": [
    "- **``Critical Value:``**\n",
    "   - The critical t-value of 1.7613 represents the threshold for rejecting the null hypothesis in a right-tailed test. It indicates the point above which we would reject the null hypothesis if our calculated t-statistic were to fall into that region.\n",
    "\n",
    "- **``Calculated t-Statistic:``**\n",
    "   - The calculated t-statistic of approximately 0.6581 is less than the critical t-value of 1.7613. This means it is further away from the rejection region, indicating that the sample mean is NOT significantly greater than the hypothesized population mean.\n",
    "\n",
    "- **``Decision Rule:``**\n",
    "  - **``Right-Tailed Test``**: In a right-tailed test, you reject the null hypothesis if your calculated t-statistic is greater than the critical t-value. Since the critical t-value is 1.7613 and the calculated t-statistic is approximately 0.6581, you fail to reject the null hypothesis. This means there is NOT enough evidence to support the claim that the population mean is greater than the specified value at the 0.05 significance level."
   ]
  },
  {
   "cell_type": "markdown",
   "metadata": {},
   "source": [
    "#### <p style=\"background-color:#FFFFFF; font-family:newtimeroman; color:#0000FF; font-size:125%; text-align:left;\"><strong>STEP-05: Visualizing the results:</strong></p>"
   ]
  },
  {
   "cell_type": "code",
   "execution_count": 63,
   "metadata": {},
   "outputs": [
    {
     "data": {
      "image/png": "[encoded data removed]",
      "text/plain": [
       "<Figure size 1000x500 with 1 Axes>"
      ]
     },
     "metadata": {},
     "output_type": "display_data"
    }
   ],
   "source": [
    "import numpy as np\n",
    "import matplotlib.pyplot as plt\n",
    "from scipy.stats import t\n",
    "\n",
    "# Given values from your t-test\n",
    "t_statistic = 0.917336419870783\n",
    "p_value = 0.1872496747294224\n",
    "dof = 14\n",
    "alpha = 0.05\n",
    "\n",
    "# Define the range for the t-distribution plot\n",
    "x = np.linspace(-5, 5, 1000)\n",
    "\n",
    "# Calculate the t-distribution\n",
    "y = t.pdf(x, dof)\n",
    "\n",
    "# Create the plot\n",
    "plt.figure(figsize=(10, 5))\n",
    "\n",
    "# Plot the t-distribution\n",
    "plt.plot(x, y, label=f't-distribution (dof={dof})', color='blue')\n",
    "\n",
    "# Mark the critical t-value for alpha (one-tailed test)\n",
    "t_critical = t.ppf(1 - alpha, dof)\n",
    "plt.axvline(t_critical, color='red', linestyle='--', label=f'Critical t-value at {alpha} level')\n",
    "\n",
    "# Mark the calculated t-statistic\n",
    "plt.axvline(t_statistic, color='green', linestyle='-', label=f'Calculated t-statistic ({t_statistic:.2f})')\n",
    "\n",
    "# Add a blue horizontal line at the bottom of the distribution\n",
    "plt.axhline(0, color='blue', linestyle='-', linewidth=2)\n",
    "\n",
    "# Fill the rejection region with light red regardless of p-value\n",
    "plt.fill_between(x, 0, y, where=(x >= t_critical), color='lightcoral', alpha=0.5, label='Rejection Region')\n",
    "\n",
    "# Add text for p-value and alpha\n",
    "plt.text(-1.3, 0.1, f'Calculated p-value: {p_value:.4f}', fontsize=10)\n",
    "plt.text(-0.65, 0.08, f'alpha: {alpha}', fontsize=10)\n",
    "plt.text(t_statistic, 0.05, f't statistic: {t_statistic:.2f}', color='green', fontsize=10, ha='center', va='top')\n",
    "\n",
    "# Add titles and labels\n",
    "plt.title('One-Tailed t-Distribution with Critical Region and t-Statistic', color='blue')\n",
    "plt.xlabel('t-value')\n",
    "plt.ylabel('Probability Density')\n",
    "plt.legend(fontsize='small')\n",
    "\n",
    "# Set y-axis limit to start from zero\n",
    "plt.ylim(bottom=0)\n",
    "\n",
    "# Remove grids\n",
    "plt.grid(False)\n",
    "\n",
    "# Show the plot\n",
    "plt.show()"
   ]
  },
  {
   "cell_type": "markdown",
   "metadata": {},
   "source": [
    "<p style=\"background-color:#FFFFFF; font-family:newtimeroman; color:#0000FF; font-size:110%; text-align:left;\"><strong>-----------------------------------------------------------------------------------------------------------------------------------------------------------------------------------------------</strong></p>\n",
    "\n",
    "\n",
    "### <p style=\"background-color:#E51A59; font-family:newtimeroman; color:#FDFEFE; font-size:150%; text-align:left; border-radius:10px 10px;\">Example-04 (One Sample t-Test):</p>"
   ]
  },
  {
   "cell_type": "code",
   "execution_count": 64,
   "metadata": {},
   "outputs": [
    {
     "data": {
      "text/html": [
       "<div>\n",
       "<style scoped>\n",
       "    .dataframe tbody tr th:only-of-type {\n",
       "        vertical-align: middle;\n",
       "    }\n",
       "\n",
       "    .dataframe tbody tr th {\n",
       "        vertical-align: top;\n",
       "    }\n",
       "\n",
       "    .dataframe thead th {\n",
       "        text-align: right;\n",
       "    }\n",
       "</style>\n",
       "<table border=\"1\" class=\"dataframe\">\n",
       "  <thead>\n",
       "    <tr style=\"text-align: right;\">\n",
       "      <th></th>\n",
       "      <th>mpg</th>\n",
       "      <th>cylinders</th>\n",
       "      <th>displacement</th>\n",
       "      <th>horsepower</th>\n",
       "      <th>weight</th>\n",
       "      <th>acceleration</th>\n",
       "      <th>model_year</th>\n",
       "      <th>origin</th>\n",
       "      <th>name</th>\n",
       "    </tr>\n",
       "  </thead>\n",
       "  <tbody>\n",
       "    <tr>\n",
       "      <th>0</th>\n",
       "      <td>18.0</td>\n",
       "      <td>8</td>\n",
       "      <td>307.0</td>\n",
       "      <td>130.0</td>\n",
       "      <td>3504</td>\n",
       "      <td>12.0</td>\n",
       "      <td>70</td>\n",
       "      <td>usa</td>\n",
       "      <td>chevrolet chevelle malibu</td>\n",
       "    </tr>\n",
       "    <tr>\n",
       "      <th>1</th>\n",
       "      <td>15.0</td>\n",
       "      <td>8</td>\n",
       "      <td>350.0</td>\n",
       "      <td>165.0</td>\n",
       "      <td>3693</td>\n",
       "      <td>11.5</td>\n",
       "      <td>70</td>\n",
       "      <td>usa</td>\n",
       "      <td>buick skylark 320</td>\n",
       "    </tr>\n",
       "    <tr>\n",
       "      <th>2</th>\n",
       "      <td>18.0</td>\n",
       "      <td>8</td>\n",
       "      <td>318.0</td>\n",
       "      <td>150.0</td>\n",
       "      <td>3436</td>\n",
       "      <td>11.0</td>\n",
       "      <td>70</td>\n",
       "      <td>usa</td>\n",
       "      <td>plymouth satellite</td>\n",
       "    </tr>\n",
       "    <tr>\n",
       "      <th>3</th>\n",
       "      <td>16.0</td>\n",
       "      <td>8</td>\n",
       "      <td>304.0</td>\n",
       "      <td>150.0</td>\n",
       "      <td>3433</td>\n",
       "      <td>12.0</td>\n",
       "      <td>70</td>\n",
       "      <td>usa</td>\n",
       "      <td>amc rebel sst</td>\n",
       "    </tr>\n",
       "    <tr>\n",
       "      <th>4</th>\n",
       "      <td>17.0</td>\n",
       "      <td>8</td>\n",
       "      <td>302.0</td>\n",
       "      <td>140.0</td>\n",
       "      <td>3449</td>\n",
       "      <td>10.5</td>\n",
       "      <td>70</td>\n",
       "      <td>usa</td>\n",
       "      <td>ford torino</td>\n",
       "    </tr>\n",
       "  </tbody>\n",
       "</table>\n",
       "</div>"
      ],
      "text/plain": [
       "    mpg  cylinders  displacement  horsepower  weight  acceleration  \\\n",
       "0  18.0          8         307.0       130.0    3504          12.0   \n",
       "1  15.0          8         350.0       165.0    3693          11.5   \n",
       "2  18.0          8         318.0       150.0    3436          11.0   \n",
       "3  16.0          8         304.0       150.0    3433          12.0   \n",
       "4  17.0          8         302.0       140.0    3449          10.5   \n",
       "\n",
       "   model_year origin                       name  \n",
       "0          70    usa  chevrolet chevelle malibu  \n",
       "1          70    usa          buick skylark 320  \n",
       "2          70    usa         plymouth satellite  \n",
       "3          70    usa              amc rebel sst  \n",
       "4          70    usa                ford torino  "
      ]
     },
     "execution_count": 64,
     "metadata": {},
     "output_type": "execute_result"
    }
   ],
   "source": [
    "df = sns.load_dataset(\"mpg\")\n",
    "df.head()"
   ]
  },
  {
   "cell_type": "code",
   "execution_count": 65,
   "metadata": {},
   "outputs": [
    {
     "data": {
      "text/plain": [
       "(392, 9)"
      ]
     },
     "execution_count": 65,
     "metadata": {},
     "output_type": "execute_result"
    }
   ],
   "source": [
    "df = df.dropna()\n",
    "df.shape"
   ]
  },
  {
   "cell_type": "code",
   "execution_count": 66,
   "metadata": {},
   "outputs": [
    {
     "name": "stdout",
     "output_type": "stream",
     "text": [
      "<class 'pandas.core.frame.DataFrame'>\n",
      "Index: 245 entries, 0 to 397\n",
      "Data columns (total 9 columns):\n",
      " #   Column        Non-Null Count  Dtype  \n",
      "---  ------        --------------  -----  \n",
      " 0   mpg           245 non-null    float64\n",
      " 1   cylinders     245 non-null    int64  \n",
      " 2   displacement  245 non-null    float64\n",
      " 3   horsepower    245 non-null    float64\n",
      " 4   weight        245 non-null    int64  \n",
      " 5   acceleration  245 non-null    float64\n",
      " 6   model_year    245 non-null    int64  \n",
      " 7   origin        245 non-null    object \n",
      " 8   name          245 non-null    object \n",
      "dtypes: float64(4), int64(3), object(2)\n",
      "memory usage: 19.1+ KB\n"
     ]
    }
   ],
   "source": [
    "df[df.origin==\"usa\"].info()"
   ]
  },
  {
   "cell_type": "code",
   "execution_count": 67,
   "metadata": {},
   "outputs": [
    {
     "data": {
      "text/html": [
       "<div>\n",
       "<style scoped>\n",
       "    .dataframe tbody tr th:only-of-type {\n",
       "        vertical-align: middle;\n",
       "    }\n",
       "\n",
       "    .dataframe tbody tr th {\n",
       "        vertical-align: top;\n",
       "    }\n",
       "\n",
       "    .dataframe thead th {\n",
       "        text-align: right;\n",
       "    }\n",
       "</style>\n",
       "<table border=\"1\" class=\"dataframe\">\n",
       "  <thead>\n",
       "    <tr style=\"text-align: right;\">\n",
       "      <th></th>\n",
       "      <th>mpg</th>\n",
       "      <th>cylinders</th>\n",
       "      <th>displacement</th>\n",
       "      <th>horsepower</th>\n",
       "      <th>weight</th>\n",
       "      <th>acceleration</th>\n",
       "      <th>model_year</th>\n",
       "    </tr>\n",
       "  </thead>\n",
       "  <tbody>\n",
       "    <tr>\n",
       "      <th>count</th>\n",
       "      <td>245.000000</td>\n",
       "      <td>245.000000</td>\n",
       "      <td>245.000000</td>\n",
       "      <td>245.00000</td>\n",
       "      <td>245.000000</td>\n",
       "      <td>245.000000</td>\n",
       "      <td>245.000000</td>\n",
       "    </tr>\n",
       "    <tr>\n",
       "      <th>mean</th>\n",
       "      <td>20.033469</td>\n",
       "      <td>6.277551</td>\n",
       "      <td>247.512245</td>\n",
       "      <td>119.04898</td>\n",
       "      <td>3372.489796</td>\n",
       "      <td>14.990204</td>\n",
       "      <td>75.591837</td>\n",
       "    </tr>\n",
       "    <tr>\n",
       "      <th>std</th>\n",
       "      <td>6.440384</td>\n",
       "      <td>1.655996</td>\n",
       "      <td>98.376347</td>\n",
       "      <td>39.89779</td>\n",
       "      <td>795.346690</td>\n",
       "      <td>2.736020</td>\n",
       "      <td>3.660368</td>\n",
       "    </tr>\n",
       "    <tr>\n",
       "      <th>min</th>\n",
       "      <td>9.000000</td>\n",
       "      <td>4.000000</td>\n",
       "      <td>85.000000</td>\n",
       "      <td>52.00000</td>\n",
       "      <td>1800.000000</td>\n",
       "      <td>8.000000</td>\n",
       "      <td>70.000000</td>\n",
       "    </tr>\n",
       "    <tr>\n",
       "      <th>25%</th>\n",
       "      <td>15.000000</td>\n",
       "      <td>4.000000</td>\n",
       "      <td>151.000000</td>\n",
       "      <td>88.00000</td>\n",
       "      <td>2720.000000</td>\n",
       "      <td>13.000000</td>\n",
       "      <td>73.000000</td>\n",
       "    </tr>\n",
       "    <tr>\n",
       "      <th>50%</th>\n",
       "      <td>18.500000</td>\n",
       "      <td>6.000000</td>\n",
       "      <td>250.000000</td>\n",
       "      <td>105.00000</td>\n",
       "      <td>3381.000000</td>\n",
       "      <td>15.000000</td>\n",
       "      <td>76.000000</td>\n",
       "    </tr>\n",
       "    <tr>\n",
       "      <th>75%</th>\n",
       "      <td>24.000000</td>\n",
       "      <td>8.000000</td>\n",
       "      <td>318.000000</td>\n",
       "      <td>150.00000</td>\n",
       "      <td>4055.000000</td>\n",
       "      <td>16.700000</td>\n",
       "      <td>78.000000</td>\n",
       "    </tr>\n",
       "    <tr>\n",
       "      <th>max</th>\n",
       "      <td>39.000000</td>\n",
       "      <td>8.000000</td>\n",
       "      <td>455.000000</td>\n",
       "      <td>230.00000</td>\n",
       "      <td>5140.000000</td>\n",
       "      <td>22.200000</td>\n",
       "      <td>82.000000</td>\n",
       "    </tr>\n",
       "  </tbody>\n",
       "</table>\n",
       "</div>"
      ],
      "text/plain": [
       "              mpg   cylinders  displacement  horsepower       weight  \\\n",
       "count  245.000000  245.000000    245.000000   245.00000   245.000000   \n",
       "mean    20.033469    6.277551    247.512245   119.04898  3372.489796   \n",
       "std      6.440384    1.655996     98.376347    39.89779   795.346690   \n",
       "min      9.000000    4.000000     85.000000    52.00000  1800.000000   \n",
       "25%     15.000000    4.000000    151.000000    88.00000  2720.000000   \n",
       "50%     18.500000    6.000000    250.000000   105.00000  3381.000000   \n",
       "75%     24.000000    8.000000    318.000000   150.00000  4055.000000   \n",
       "max     39.000000    8.000000    455.000000   230.00000  5140.000000   \n",
       "\n",
       "       acceleration  model_year  \n",
       "count    245.000000  245.000000  \n",
       "mean      14.990204   75.591837  \n",
       "std        2.736020    3.660368  \n",
       "min        8.000000   70.000000  \n",
       "25%       13.000000   73.000000  \n",
       "50%       15.000000   76.000000  \n",
       "75%       16.700000   78.000000  \n",
       "max       22.200000   82.000000  "
      ]
     },
     "execution_count": 67,
     "metadata": {},
     "output_type": "execute_result"
    }
   ],
   "source": [
    "df[df.origin==\"usa\"].describe()"
   ]
  },
  {
   "cell_type": "code",
   "execution_count": 68,
   "metadata": {},
   "outputs": [
    {
     "data": {
      "text/html": [
       "<div>\n",
       "<style scoped>\n",
       "    .dataframe tbody tr th:only-of-type {\n",
       "        vertical-align: middle;\n",
       "    }\n",
       "\n",
       "    .dataframe tbody tr th {\n",
       "        vertical-align: top;\n",
       "    }\n",
       "\n",
       "    .dataframe thead th {\n",
       "        text-align: right;\n",
       "    }\n",
       "</style>\n",
       "<table border=\"1\" class=\"dataframe\">\n",
       "  <thead>\n",
       "    <tr style=\"text-align: right;\">\n",
       "      <th></th>\n",
       "      <th>mpg</th>\n",
       "      <th>cylinders</th>\n",
       "      <th>displacement</th>\n",
       "      <th>horsepower</th>\n",
       "      <th>weight</th>\n",
       "      <th>acceleration</th>\n",
       "      <th>model_year</th>\n",
       "      <th>origin</th>\n",
       "      <th>name</th>\n",
       "    </tr>\n",
       "  </thead>\n",
       "  <tbody>\n",
       "    <tr>\n",
       "      <th>254</th>\n",
       "      <td>20.2</td>\n",
       "      <td>6</td>\n",
       "      <td>200.0</td>\n",
       "      <td>85.0</td>\n",
       "      <td>2965</td>\n",
       "      <td>15.8</td>\n",
       "      <td>78</td>\n",
       "      <td>usa</td>\n",
       "      <td>ford fairmont (auto)</td>\n",
       "    </tr>\n",
       "    <tr>\n",
       "      <th>196</th>\n",
       "      <td>24.5</td>\n",
       "      <td>4</td>\n",
       "      <td>98.0</td>\n",
       "      <td>60.0</td>\n",
       "      <td>2164</td>\n",
       "      <td>22.1</td>\n",
       "      <td>76</td>\n",
       "      <td>usa</td>\n",
       "      <td>chevrolet woody</td>\n",
       "    </tr>\n",
       "    <tr>\n",
       "      <th>395</th>\n",
       "      <td>32.0</td>\n",
       "      <td>4</td>\n",
       "      <td>135.0</td>\n",
       "      <td>84.0</td>\n",
       "      <td>2295</td>\n",
       "      <td>11.6</td>\n",
       "      <td>82</td>\n",
       "      <td>usa</td>\n",
       "      <td>dodge rampage</td>\n",
       "    </tr>\n",
       "    <tr>\n",
       "      <th>189</th>\n",
       "      <td>15.5</td>\n",
       "      <td>8</td>\n",
       "      <td>304.0</td>\n",
       "      <td>120.0</td>\n",
       "      <td>3962</td>\n",
       "      <td>13.9</td>\n",
       "      <td>76</td>\n",
       "      <td>usa</td>\n",
       "      <td>amc matador</td>\n",
       "    </tr>\n",
       "    <tr>\n",
       "      <th>396</th>\n",
       "      <td>28.0</td>\n",
       "      <td>4</td>\n",
       "      <td>120.0</td>\n",
       "      <td>79.0</td>\n",
       "      <td>2625</td>\n",
       "      <td>18.6</td>\n",
       "      <td>82</td>\n",
       "      <td>usa</td>\n",
       "      <td>ford ranger</td>\n",
       "    </tr>\n",
       "    <tr>\n",
       "      <th>161</th>\n",
       "      <td>16.0</td>\n",
       "      <td>6</td>\n",
       "      <td>250.0</td>\n",
       "      <td>105.0</td>\n",
       "      <td>3897</td>\n",
       "      <td>18.5</td>\n",
       "      <td>75</td>\n",
       "      <td>usa</td>\n",
       "      <td>chevroelt chevelle malibu</td>\n",
       "    </tr>\n",
       "    <tr>\n",
       "      <th>215</th>\n",
       "      <td>13.0</td>\n",
       "      <td>8</td>\n",
       "      <td>318.0</td>\n",
       "      <td>150.0</td>\n",
       "      <td>3755</td>\n",
       "      <td>14.0</td>\n",
       "      <td>76</td>\n",
       "      <td>usa</td>\n",
       "      <td>dodge d100</td>\n",
       "    </tr>\n",
       "    <tr>\n",
       "      <th>106</th>\n",
       "      <td>12.0</td>\n",
       "      <td>8</td>\n",
       "      <td>350.0</td>\n",
       "      <td>180.0</td>\n",
       "      <td>4499</td>\n",
       "      <td>12.5</td>\n",
       "      <td>73</td>\n",
       "      <td>usa</td>\n",
       "      <td>oldsmobile vista cruiser</td>\n",
       "    </tr>\n",
       "    <tr>\n",
       "      <th>371</th>\n",
       "      <td>29.0</td>\n",
       "      <td>4</td>\n",
       "      <td>135.0</td>\n",
       "      <td>84.0</td>\n",
       "      <td>2525</td>\n",
       "      <td>16.0</td>\n",
       "      <td>82</td>\n",
       "      <td>usa</td>\n",
       "      <td>dodge aries se</td>\n",
       "    </tr>\n",
       "    <tr>\n",
       "      <th>256</th>\n",
       "      <td>20.5</td>\n",
       "      <td>6</td>\n",
       "      <td>225.0</td>\n",
       "      <td>100.0</td>\n",
       "      <td>3430</td>\n",
       "      <td>17.2</td>\n",
       "      <td>78</td>\n",
       "      <td>usa</td>\n",
       "      <td>plymouth volare</td>\n",
       "    </tr>\n",
       "    <tr>\n",
       "      <th>226</th>\n",
       "      <td>20.5</td>\n",
       "      <td>6</td>\n",
       "      <td>231.0</td>\n",
       "      <td>105.0</td>\n",
       "      <td>3425</td>\n",
       "      <td>16.9</td>\n",
       "      <td>77</td>\n",
       "      <td>usa</td>\n",
       "      <td>buick skylark</td>\n",
       "    </tr>\n",
       "    <tr>\n",
       "      <th>341</th>\n",
       "      <td>23.5</td>\n",
       "      <td>6</td>\n",
       "      <td>173.0</td>\n",
       "      <td>110.0</td>\n",
       "      <td>2725</td>\n",
       "      <td>12.6</td>\n",
       "      <td>81</td>\n",
       "      <td>usa</td>\n",
       "      <td>chevrolet citation</td>\n",
       "    </tr>\n",
       "    <tr>\n",
       "      <th>116</th>\n",
       "      <td>16.0</td>\n",
       "      <td>8</td>\n",
       "      <td>400.0</td>\n",
       "      <td>230.0</td>\n",
       "      <td>4278</td>\n",
       "      <td>9.5</td>\n",
       "      <td>73</td>\n",
       "      <td>usa</td>\n",
       "      <td>pontiac grand prix</td>\n",
       "    </tr>\n",
       "    <tr>\n",
       "      <th>36</th>\n",
       "      <td>19.0</td>\n",
       "      <td>6</td>\n",
       "      <td>250.0</td>\n",
       "      <td>88.0</td>\n",
       "      <td>3302</td>\n",
       "      <td>15.5</td>\n",
       "      <td>71</td>\n",
       "      <td>usa</td>\n",
       "      <td>ford torino 500</td>\n",
       "    </tr>\n",
       "    <tr>\n",
       "      <th>292</th>\n",
       "      <td>18.5</td>\n",
       "      <td>8</td>\n",
       "      <td>360.0</td>\n",
       "      <td>150.0</td>\n",
       "      <td>3940</td>\n",
       "      <td>13.0</td>\n",
       "      <td>79</td>\n",
       "      <td>usa</td>\n",
       "      <td>chrysler lebaron town @ country (sw)</td>\n",
       "    </tr>\n",
       "  </tbody>\n",
       "</table>\n",
       "</div>"
      ],
      "text/plain": [
       "      mpg  cylinders  displacement  horsepower  weight  acceleration  \\\n",
       "254  20.2          6         200.0        85.0    2965          15.8   \n",
       "196  24.5          4          98.0        60.0    2164          22.1   \n",
       "395  32.0          4         135.0        84.0    2295          11.6   \n",
       "189  15.5          8         304.0       120.0    3962          13.9   \n",
       "396  28.0          4         120.0        79.0    2625          18.6   \n",
       "161  16.0          6         250.0       105.0    3897          18.5   \n",
       "215  13.0          8         318.0       150.0    3755          14.0   \n",
       "106  12.0          8         350.0       180.0    4499          12.5   \n",
       "371  29.0          4         135.0        84.0    2525          16.0   \n",
       "256  20.5          6         225.0       100.0    3430          17.2   \n",
       "226  20.5          6         231.0       105.0    3425          16.9   \n",
       "341  23.5          6         173.0       110.0    2725          12.6   \n",
       "116  16.0          8         400.0       230.0    4278           9.5   \n",
       "36   19.0          6         250.0        88.0    3302          15.5   \n",
       "292  18.5          8         360.0       150.0    3940          13.0   \n",
       "\n",
       "     model_year origin                                  name  \n",
       "254          78    usa                  ford fairmont (auto)  \n",
       "196          76    usa                       chevrolet woody  \n",
       "395          82    usa                         dodge rampage  \n",
       "189          76    usa                           amc matador  \n",
       "396          82    usa                           ford ranger  \n",
       "161          75    usa             chevroelt chevelle malibu  \n",
       "215          76    usa                            dodge d100  \n",
       "106          73    usa              oldsmobile vista cruiser  \n",
       "371          82    usa                        dodge aries se  \n",
       "256          78    usa                       plymouth volare  \n",
       "226          77    usa                         buick skylark  \n",
       "341          81    usa                    chevrolet citation  \n",
       "116          73    usa                    pontiac grand prix  \n",
       "36           71    usa                       ford torino 500  \n",
       "292          79    usa  chrysler lebaron town @ country (sw)  "
      ]
     },
     "execution_count": 68,
     "metadata": {},
     "output_type": "execute_result"
    }
   ],
   "source": [
    "uscar_mpg_15 = df[df.origin==\"usa\"].sample(15, random_state=55)\n",
    "uscar_mpg_15"
   ]
  },
  {
   "cell_type": "code",
   "execution_count": 69,
   "metadata": {},
   "outputs": [
    {
     "data": {
      "text/html": [
       "<div>\n",
       "<style scoped>\n",
       "    .dataframe tbody tr th:only-of-type {\n",
       "        vertical-align: middle;\n",
       "    }\n",
       "\n",
       "    .dataframe tbody tr th {\n",
       "        vertical-align: top;\n",
       "    }\n",
       "\n",
       "    .dataframe thead th {\n",
       "        text-align: right;\n",
       "    }\n",
       "</style>\n",
       "<table border=\"1\" class=\"dataframe\">\n",
       "  <thead>\n",
       "    <tr style=\"text-align: right;\">\n",
       "      <th></th>\n",
       "      <th>mpg</th>\n",
       "      <th>cylinders</th>\n",
       "      <th>displacement</th>\n",
       "      <th>horsepower</th>\n",
       "      <th>weight</th>\n",
       "      <th>acceleration</th>\n",
       "      <th>model_year</th>\n",
       "    </tr>\n",
       "  </thead>\n",
       "  <tbody>\n",
       "    <tr>\n",
       "      <th>count</th>\n",
       "      <td>15.000000</td>\n",
       "      <td>15.000000</td>\n",
       "      <td>15.000000</td>\n",
       "      <td>15.000000</td>\n",
       "      <td>15.000000</td>\n",
       "      <td>15.00000</td>\n",
       "      <td>15.000000</td>\n",
       "    </tr>\n",
       "    <tr>\n",
       "      <th>mean</th>\n",
       "      <td>20.546667</td>\n",
       "      <td>6.133333</td>\n",
       "      <td>236.600000</td>\n",
       "      <td>115.333333</td>\n",
       "      <td>3319.133333</td>\n",
       "      <td>15.18000</td>\n",
       "      <td>77.266667</td>\n",
       "    </tr>\n",
       "    <tr>\n",
       "      <th>std</th>\n",
       "      <td>5.892231</td>\n",
       "      <td>1.597617</td>\n",
       "      <td>94.610329</td>\n",
       "      <td>44.916854</td>\n",
       "      <td>738.338953</td>\n",
       "      <td>3.22384</td>\n",
       "      <td>3.494213</td>\n",
       "    </tr>\n",
       "    <tr>\n",
       "      <th>min</th>\n",
       "      <td>12.000000</td>\n",
       "      <td>4.000000</td>\n",
       "      <td>98.000000</td>\n",
       "      <td>60.000000</td>\n",
       "      <td>2164.000000</td>\n",
       "      <td>9.50000</td>\n",
       "      <td>71.000000</td>\n",
       "    </tr>\n",
       "    <tr>\n",
       "      <th>25%</th>\n",
       "      <td>16.000000</td>\n",
       "      <td>5.000000</td>\n",
       "      <td>154.000000</td>\n",
       "      <td>84.500000</td>\n",
       "      <td>2675.000000</td>\n",
       "      <td>12.80000</td>\n",
       "      <td>75.500000</td>\n",
       "    </tr>\n",
       "    <tr>\n",
       "      <th>50%</th>\n",
       "      <td>20.200000</td>\n",
       "      <td>6.000000</td>\n",
       "      <td>231.000000</td>\n",
       "      <td>105.000000</td>\n",
       "      <td>3425.000000</td>\n",
       "      <td>15.50000</td>\n",
       "      <td>77.000000</td>\n",
       "    </tr>\n",
       "    <tr>\n",
       "      <th>75%</th>\n",
       "      <td>24.000000</td>\n",
       "      <td>8.000000</td>\n",
       "      <td>311.000000</td>\n",
       "      <td>135.000000</td>\n",
       "      <td>3918.500000</td>\n",
       "      <td>17.05000</td>\n",
       "      <td>80.000000</td>\n",
       "    </tr>\n",
       "    <tr>\n",
       "      <th>max</th>\n",
       "      <td>32.000000</td>\n",
       "      <td>8.000000</td>\n",
       "      <td>400.000000</td>\n",
       "      <td>230.000000</td>\n",
       "      <td>4499.000000</td>\n",
       "      <td>22.10000</td>\n",
       "      <td>82.000000</td>\n",
       "    </tr>\n",
       "  </tbody>\n",
       "</table>\n",
       "</div>"
      ],
      "text/plain": [
       "             mpg  cylinders  displacement  horsepower       weight  \\\n",
       "count  15.000000  15.000000     15.000000   15.000000    15.000000   \n",
       "mean   20.546667   6.133333    236.600000  115.333333  3319.133333   \n",
       "std     5.892231   1.597617     94.610329   44.916854   738.338953   \n",
       "min    12.000000   4.000000     98.000000   60.000000  2164.000000   \n",
       "25%    16.000000   5.000000    154.000000   84.500000  2675.000000   \n",
       "50%    20.200000   6.000000    231.000000  105.000000  3425.000000   \n",
       "75%    24.000000   8.000000    311.000000  135.000000  3918.500000   \n",
       "max    32.000000   8.000000    400.000000  230.000000  4499.000000   \n",
       "\n",
       "       acceleration  model_year  \n",
       "count      15.00000   15.000000  \n",
       "mean       15.18000   77.266667  \n",
       "std         3.22384    3.494213  \n",
       "min         9.50000   71.000000  \n",
       "25%        12.80000   75.500000  \n",
       "50%        15.50000   77.000000  \n",
       "75%        17.05000   80.000000  \n",
       "max        22.10000   82.000000  "
      ]
     },
     "execution_count": 69,
     "metadata": {},
     "output_type": "execute_result"
    }
   ],
   "source": [
    "uscar_mpg_15.describe()"
   ]
  },
  {
   "cell_type": "markdown",
   "metadata": {},
   "source": [
    "<p style=\"background-color:#FFFFFF; font-family:newtimeroman; color:#0000FF; font-size:110%; text-align:left;\"><strong>-----------------------------------------------------------------------------------------------------------------------------------------------------------------------------------------------</strong></p>\n",
    "\n",
    "**Salespeople at an international trade show claim that the average fuel economy of American cars is 20 mpg. However, our researcher, Sam Steady, thinking it would be higher, examined 15 of the 245 vehicles on display and found that the average fuel economy was 20.55 mpg. Based on these results, should the researcher accept or reject the salespeople's claim (the original hypothesis)? α=0.05**\n",
    "\n",
    "- In a right-tailed test, the alternative hypothesis (H1) states that the population parameter is greater than the value specified in the null hypothesis (H0)."
   ]
  },
  {
   "cell_type": "markdown",
   "metadata": {},
   "source": [
    "<p style=\"background-color:#FFFFFF; font-family:newtimeroman; color:#0000FF; font-size:125%; text-align:left;\"><strong>Given Variables for Population:</strong></p>\n",
    "\n",
    "- population size= 245\n",
    "- population std of American cars for mpg = 6.440384\n",
    "- population mean of American cars for mpg = 20.033469\n",
    "\n",
    "<hr>\n",
    "\n",
    "<p style=\"background-color:#FFFFFF; font-family:newtimeroman; color:#0000FF; font-size:125%; text-align:left;\"><strong>Given Variables for Sample:</strong></p>\n",
    "\n",
    "- sample size = 15\n",
    "- sample std of American cars for mpg = 5.89\n",
    "- sample mean of American cars for mpg = 20.55"
   ]
  },
  {
   "cell_type": "markdown",
   "metadata": {},
   "source": [
    "<p style=\"background-color:#FFFFFF; font-family:newtimeroman; color:#0000FF; font-size:125%; text-align:left;\"><strong>Given Variables:</strong></p>"
   ]
  },
  {
   "cell_type": "code",
   "execution_count": 70,
   "metadata": {},
   "outputs": [],
   "source": [
    "# Writing the given variables\n",
    "\n",
    "x_bar = 20.55  # sample mean \n",
    "n = 15  # number of students\n",
    "s = 5.89  # sd of sample\n",
    "mu = 20.033469  # Population mean \n",
    "alpha = 0.05"
   ]
  },
  {
   "cell_type": "markdown",
   "metadata": {},
   "source": [
    "#### <p style=\"background-color:#FFFFFF; font-family:newtimeroman; color:#0000FF; font-size:125%; text-align:left;\"><strong>STEP-01: Stating the null (H0) and alternative hypothesis (Ha or H1).</strong></p>\n",
    "\n",
    "- The null hypothesis, denoted as H0, is the claim that is initially assumed to be true.\n",
    "- The alternative hypothesis, denoted as Ha, is a claim that is contradictory to H0.\n",
    "- We always test a null hypothesis against an alternative. \n",
    "- The null hypothesis represents the initially assumed true statement. \n",
    "- The null hypothesis is used as factually correct unless it can be proven beyond a reasonable doubt that it is untrue.\n",
    "- These two hypotheses are mutually exclusive (and usually exhaustive)."
   ]
  },
  {
   "cell_type": "raw",
   "metadata": {},
   "source": [
    "avg mpg for usa cars:\n",
    "\n",
    "The null hypothesis..........: H0: μ  = 20\n",
    "The average fuel economy of American cars is (equal to) 20 mpg (μ = 20).\n",
    "\n",
    "The alternative hypothesis...: Ha: μ  > 20\n",
    "The average fuel economy of American cars is different from (greater than) 20 mpg (μ > 20)."
   ]
  },
  {
   "cell_type": "markdown",
   "metadata": {},
   "source": [
    "#### <p style=\"background-color:#FFFFFF; font-family:newtimeroman; color:#0000FF; font-size:125%; text-align:left;\"><strong>STEP-02: Calculating the test statistic:</strong></p>"
   ]
  },
  {
   "cell_type": "code",
   "execution_count": 71,
   "metadata": {},
   "outputs": [
    {
     "data": {
      "text/plain": [
       "TtestResult(statistic=0.33732658568604273, pvalue=0.37043739488781624, df=14)"
      ]
     },
     "execution_count": 71,
     "metadata": {},
     "output_type": "execute_result"
    }
   ],
   "source": [
    "onesample = stats.ttest_1samp (uscar_mpg_15.mpg, 20.033469, alternative=\"greater\")\n",
    "onesample"
   ]
  },
  {
   "cell_type": "code",
   "execution_count": 72,
   "metadata": {},
   "outputs": [
    {
     "data": {
      "text/plain": [
       "0.33732658568604273"
      ]
     },
     "execution_count": 72,
     "metadata": {},
     "output_type": "execute_result"
    }
   ],
   "source": [
    "test_statistic = onesample.statistic\n",
    "test_statistic"
   ]
  },
  {
   "cell_type": "markdown",
   "metadata": {},
   "source": [
    "#### <p style=\"background-color:#FFFFFF; font-family:newtimeroman; color:#0000FF; font-size:125%; text-align:left;\"><strong>STEP-03: Calculating the p-value:</strong></p>"
   ]
  },
  {
   "cell_type": "markdown",
   "metadata": {},
   "source": [
    "**Because it is a ``two-sided test`` we should divide the p_value by 2 at the and if we are seeking one-side test OR we should define ``alternative`` parameter as \"greater\".**"
   ]
  },
  {
   "cell_type": "code",
   "execution_count": 73,
   "metadata": {},
   "outputs": [
    {
     "data": {
      "text/plain": [
       "0.37043739488781624"
      ]
     },
     "execution_count": 73,
     "metadata": {},
     "output_type": "execute_result"
    }
   ],
   "source": [
    "p_value = onesample.pvalue\n",
    "p_value"
   ]
  },
  {
   "cell_type": "markdown",
   "metadata": {},
   "source": [
    "#### <p style=\"background-color:#FFFFFF; font-family:newtimeroman; color:#0000FF; font-size:125%; text-align:left;\"><strong>STEP-04: Comparing Test Statistic to Critical Value to Make a decision:</strong></p>\n",
    "\n",
    "<img src=https://i.ibb.co/FKkMk7W/Screenshot-42.png width=\"400\" height=\"200\">"
   ]
  },
  {
   "cell_type": "code",
   "execution_count": 74,
   "metadata": {},
   "outputs": [
    {
     "name": "stdout",
     "output_type": "stream",
     "text": [
      "At 0.05 level of significance, we fail to reject the null hypothesis.\n"
     ]
    }
   ],
   "source": [
    "alpha = 0.05\n",
    "\n",
    "if onesample.pvalue <= alpha:\n",
    "    print('At {} level of significance, we can reject the null hypothesis in favor of alternative hypothesis.'.format(alpha))\n",
    "else:\n",
    "    print('At {} level of significance, we fail to reject the null hypothesis.'.format(alpha))"
   ]
  },
  {
   "cell_type": "markdown",
   "metadata": {},
   "source": [
    "**``Interpretation of the Decision:``**\n",
    "- At the 0.05 level of significance, failing to reject the null hypothesis implies that the data does not provide strong enough evidence to support the claim that the average fuel economy of American cars exceeds 20 mpg.\n",
    "\n",
    "**``Conclusion:``**\n",
    "- **``Researcher's Claim``**: The original claim by the salespeople that the average fuel economy is 20 mpg is not contradicted by the sample data.\n",
    "- **``Recommendation``**: Based on the findings, the researcher Sam should conclude that there is not enough evidence to assert that the average fuel economy of American cars is greater than 20 mpg. The salespeople's claim that the average fuel economy is 20 mpg remains accepted.\n",
    "\n",
    "In summary, the decision to fail to reject the null hypothesis suggests that the researcher's findings do not support the belief that the average fuel economy of American cars is higher than what the salespeople claim."
   ]
  },
  {
   "cell_type": "markdown",
   "metadata": {},
   "source": [
    "**Making a decision comparing ``calculated`` and ``critical`` t scores:**"
   ]
  },
  {
   "cell_type": "code",
   "execution_count": 75,
   "metadata": {},
   "outputs": [
    {
     "name": "stdout",
     "output_type": "stream",
     "text": [
      "Critical t-value: 1.7613\n",
      "Calculated t-value: 0.3396\n"
     ]
    }
   ],
   "source": [
    "from scipy.stats import t as t_dist\n",
    "\n",
    "# Calculate the t-statistic\n",
    "t_calculated = (x_bar - mu) / (s / np.sqrt(n))\n",
    "\n",
    "# Significance level and degrees of freedom\n",
    "alpha = 0.05\n",
    "dof = n - 1  # degrees of freedom\n",
    "\n",
    "# Critical t-value for the right-tailed test\n",
    "t_critical = t_dist.ppf(1 - alpha, dof)  # Use 1 - alpha for right-tailed\n",
    "\n",
    "# Print the critical t-value and the calculated t-value\n",
    "print(f'Critical t-value: {t_critical:.4f}')\n",
    "print(f'Calculated t-value: {t_calculated:.4f}')"
   ]
  },
  {
   "cell_type": "markdown",
   "metadata": {},
   "source": [
    "- **``Critical Value:``**\n",
    "   - The critical t-value of 1.7613 represents the threshold for rejecting the null hypothesis in a right-tailed test. It indicates the point above which we would reject the null hypothesis if our calculated t-statistic were to fall into that region.\n",
    "\n",
    "- **``Calculated t-Statistic:``**\n",
    "   - The calculated t-statistic of approximately 0.3396 is less than the critical t-value of 1.7613. This means it is further away from the rejection region, indicating that the sample mean is NOT significantly greater than the hypothesized population mean.\n",
    "\n",
    "- **``Decision Rule:``**\n",
    "  - **``Right-Tailed Test``**: In a right-tailed test, you reject the null hypothesis if your calculated t-statistic is greater than the critical t-value. Since the critical t-value is 1.7613 and the calculated t-statistic is approximately 0.3396, you fail to reject the null hypothesis. This means there is NOT enough evidence to support the claim that the population mean is greater than the specified value at the 0.05 significance level."
   ]
  },
  {
   "cell_type": "markdown",
   "metadata": {},
   "source": [
    "#### <p style=\"background-color:#FFFFFF; font-family:newtimeroman; color:#0000FF; font-size:125%; text-align:left;\"><strong>STEP-05: Visualizing the results:</strong></p>"
   ]
  },
  {
   "cell_type": "code",
   "execution_count": 76,
   "metadata": {},
   "outputs": [
    {
     "data": {
      "image/png": "[encoded data removed]",
      "text/plain": [
       "<Figure size 1000x500 with 1 Axes>"
      ]
     },
     "metadata": {},
     "output_type": "display_data"
    }
   ],
   "source": [
    "import numpy as np\n",
    "import matplotlib.pyplot as plt\n",
    "from scipy.stats import t\n",
    "\n",
    "# Given values from your t-test\n",
    "t_statistic = 0.33732658568604273\n",
    "p_value = 0.37043739488781624\n",
    "dof = 14\n",
    "alpha = 0.05\n",
    "\n",
    "# Define the range for the t-distribution plot\n",
    "x = np.linspace(-5, 5, 1000)\n",
    "\n",
    "# Calculate the t-distribution\n",
    "y = t.pdf(x, dof)\n",
    "\n",
    "# Create the plot\n",
    "plt.figure(figsize=(10, 5))\n",
    "\n",
    "# Plot the t-distribution\n",
    "plt.plot(x, y, label=f't-distribution (dof={dof})', color='blue')\n",
    "\n",
    "# Mark the critical t-value for alpha (one-tailed test)\n",
    "t_critical = t.ppf(1 - alpha, dof)\n",
    "plt.axvline(t_critical, color='red', linestyle='--', label=f'Critical t-value at {alpha} level')\n",
    "\n",
    "# Mark the calculated t-statistic\n",
    "plt.axvline(t_statistic, color='green', linestyle='-', label=f'Calculated t-statistic ({t_statistic:.2f})')\n",
    "\n",
    "# Add a blue horizontal line at the bottom of the distribution\n",
    "plt.axhline(0, color='blue', linestyle='-', linewidth=2)\n",
    "\n",
    "# Fill the rejection region with light red regardless of p-value\n",
    "plt.fill_between(x, 0, y, where=(x >= t_critical), color='lightcoral', alpha=0.5, label='Rejection Region')\n",
    "\n",
    "# Add text for p-value and alpha\n",
    "plt.text(-1.3, 0.1, f'Calculated p-value: {p_value:.4f}', fontsize=10)\n",
    "plt.text(-0.65, 0.08, f'alpha: {alpha}', fontsize=10)\n",
    "plt.text(t_statistic, 0.05, f't statistic: {t_statistic:.2f}', color='green', fontsize=10, ha='center', va='top')\n",
    "\n",
    "# Add titles and labels\n",
    "plt.title('One-Tailed t-Distribution with Critical Region and t-Statistic', color='blue')\n",
    "plt.xlabel('t-value')\n",
    "plt.ylabel('Probability Density')\n",
    "plt.legend(fontsize='small')\n",
    "\n",
    "# Set y-axis limit to start from zero\n",
    "plt.ylim(bottom=0)\n",
    "\n",
    "# Remove grids\n",
    "plt.grid(False)\n",
    "\n",
    "# Show the plot\n",
    "plt.show()"
   ]
  },
  {
   "cell_type": "markdown",
   "metadata": {},
   "source": [
    "<p style=\"background-color:#FFFFFF; font-family:newtimeroman; color:#0000FF; font-size:110%; text-align:left;\"><strong>-----------------------------------------------------------------------------------------------------------------------------------------------------------------------------------------------</strong></p>\n",
    "\n",
    "\n",
    "### <p style=\"background-color:#FFFFFF; font-family:newtimeroman; color:#0000FF; font-size:125%; text-align:left;\"><strong>🎁 Bonus Info:</strong></p>\n",
    "\n",
    "A **``critical-T``** or **``critical-Z value``** is a **``“cut-off point”``** on the t and z distribution. A t-distribution/z-distribution is a ``probability distribution that is used to calculate population parameters when the sample size is small for t-distribution/large for z-distribution and when the population variance is unknown for t-distribution/known for z-distribution``. T & Z values are used to analyze whether to support or reject a null hypothesis.\n",
    "\n",
    "<p style=\"background-color:#FFFFFF; font-family:newtimeroman; color:#0000FF; font-size:110%; text-align:left;\"><strong>-----------------------------------------------------------------------------------------------------------------------------------------------------------------------------------------------</strong></p>\n"
   ]
  },
  {
   "cell_type": "code",
   "execution_count": 77,
   "metadata": {},
   "outputs": [
    {
     "name": "stdout",
     "output_type": "stream",
     "text": [
      "-1.7613101357748564\n",
      "-1.7613101357748564\n",
      "1.7613101357748562\n",
      "1.7613101357748562\n"
     ]
    }
   ],
   "source": [
    "# How to calculate Critical t-value for the \"left-tailed test\"\n",
    "print(stats.t.ppf(alpha, df=n-1))\n",
    "print(t_dist.ppf(alpha, dof))\n",
    "\n",
    "# How to calculate Critical t-value for the \"right-tailed test\"\n",
    "print(stats.t.ppf(1 - alpha, df=n-1))  # Use 1 - alpha for right-tailed\n",
    "print(t_dist.ppf(1 - alpha, dof))  # Use 1 - alpha for right-tailed"
   ]
  },
  {
   "cell_type": "markdown",
   "metadata": {},
   "source": [
    "<p style=\"background-color:#FFFFFF; font-family:newtimeroman; color:#0000FF; font-size:125%; text-align:left;\"><strong>🔔📢👉 While making your test we can compare:</strong></p>\n",
    "\n",
    "- Either ``t0 vs tcritical`` and ``z0 vs zcritical``\n",
    "- Or ``p-value vs alpha value (α)``\n",
    "\n",
    "**[Hypothesis testing and p-values](https://www.khanacademy.org/math/statistics-probability/significance-tests-one-sample/more-significance-testing-videos/v/hypothesis-testing-and-p-values)**"
   ]
  },
  {
   "cell_type": "markdown",
   "metadata": {},
   "source": [
    "<p style=\"background-color:#FFFFFF; font-family:newtimeroman; color:#0000FF; font-size:110%; text-align:left;\"><strong>-----------------------------------------------------------------------------------------------------------------------------------------------------------------------------------------------</strong></p>\n",
    "\n",
    "\n",
    "### <p style=\"background-color:#E51A59; font-family:newtimeroman; color:#FDFEFE; font-size:150%; text-align:left; border-radius:10px 10px;\">It's your turn (t-test Exercise for Students):</p>\n",
    "\n",
    "**Imagine a company wants to test the claim that their batteries last ``more than 40 hours``. Using a simple ``random sample of 15 batteries`` yielded a ``mean of 44.9 hours``, with a ``standard deviation of 8.9 hours``. Test this claim using a ``significance level of 0.05``.**"
   ]
  },
  {
   "cell_type": "markdown",
   "metadata": {},
   "source": [
    "<p style=\"background-color:#FFFFFF; font-family:newtimeroman; color:#0000FF; font-size:125%; text-align:left;\"><strong>Given Variables:</strong></p>"
   ]
  },
  {
   "cell_type": "code",
   "execution_count": 78,
   "metadata": {},
   "outputs": [],
   "source": [
    "# Writing the given variables\n",
    "\n",
    "x_bar = 44.9  # sample mean \n",
    "n = 15  # number of batteries\n",
    "s = 8.9  # sd of sample\n",
    "mu = 40  # Population mean - hypothesized mean \n",
    "alpha = 0.05"
   ]
  },
  {
   "cell_type": "markdown",
   "metadata": {},
   "source": [
    "**Let's go through the hypothesis testing steps for the claim that the batteries last more than 40 hours.**"
   ]
  },
  {
   "cell_type": "markdown",
   "metadata": {},
   "source": [
    "#### <p style=\"background-color:#FFFFFF; font-family:newtimeroman; color:#0000FF; font-size:125%; text-align:left;\"><strong>STEP-01: Stating the null (H0) and alternative hypothesis (Ha or H1).</strong></p>"
   ]
  },
  {
   "cell_type": "raw",
   "metadata": {},
   "source": [
    "Null Hypothesis (H₀): The mean battery life is less than or equal to 40 hours.\n",
    "                  H0: μ ≤ 40\n",
    "\n",
    "Alternative Hypothesis (H₁): The mean battery life is greater than 40 hours.\n",
    "                         H1: μ > 40"
   ]
  },
  {
   "cell_type": "markdown",
   "metadata": {},
   "source": [
    "#### <p style=\"background-color:#FFFFFF; font-family:newtimeroman; color:#0000FF; font-size:125%; text-align:left;\"><strong>STEP-02: Calculating the test statistic:</strong></p>"
   ]
  },
  {
   "cell_type": "markdown",
   "metadata": {},
   "source": [
    "\n",
    "<p style=\"background-color:#FFFFFF; font-family:newtimeroman; color:green; font-size:125%; text-align:left;\"><strong>👉 Manuel calculation:</strong></p>\n"
   ]
  },
  {
   "cell_type": "code",
   "execution_count": 79,
   "metadata": {},
   "outputs": [
    {
     "data": {
      "text/plain": [
       "2.132316673754645"
      ]
     },
     "execution_count": 79,
     "metadata": {},
     "output_type": "execute_result"
    }
   ],
   "source": [
    "# Calculate the t-statistic and p-value\n",
    "\n",
    "t = (x_bar - mu)/(s/sqrt(n))\n",
    "t"
   ]
  },
  {
   "cell_type": "markdown",
   "metadata": {},
   "source": [
    "#### <p style=\"background-color:#FFFFFF; font-family:newtimeroman; color:#0000FF; font-size:125%; text-align:left;\"><strong>STEP-03: Calculating the p-value:</strong></p>"
   ]
  },
  {
   "cell_type": "code",
   "execution_count": 80,
   "metadata": {},
   "outputs": [
    {
     "data": {
      "text/plain": [
       "0.9744134437723521"
      ]
     },
     "execution_count": 80,
     "metadata": {},
     "output_type": "execute_result"
    }
   ],
   "source": [
    "p_value = stats.t.cdf(t, df=n-1)\n",
    "p_value"
   ]
  },
  {
   "cell_type": "markdown",
   "metadata": {},
   "source": [
    "#### <p style=\"background-color:#FFFFFF; font-family:newtimeroman; color:#0000FF; font-size:125%; text-align:left;\"><strong>STEP-04: Comparing Test Statistic to Critical Value to Make a decision:</strong></p>\n",
    "\n",
    "<!-- <img src=https://i.ibb.co/NCLKcFs/p-value-reject-area.png width=\"400\" height=\"200\"> -->\n",
    "<img src=https://i.ibb.co/FKkMk7W/Screenshot-42.png width=\"400\" height=\"200\">"
   ]
  },
  {
   "cell_type": "code",
   "execution_count": 81,
   "metadata": {},
   "outputs": [
    {
     "name": "stdout",
     "output_type": "stream",
     "text": [
      "At 0.05 level of significance, we fail to reject the null hypothesis.\n"
     ]
    }
   ],
   "source": [
    "alpha = 0.05\n",
    "\n",
    "if p_value <= alpha:\n",
    "    print('At {} level of significance, we can reject the null hypothesis in favor of alternative hypothesis.'.format(alpha))\n",
    "else:\n",
    "    print('At {} level of significance, we fail to reject the null hypothesis.'.format(alpha))"
   ]
  },
  {
   "cell_type": "markdown",
   "metadata": {},
   "source": [
    "**Making a decision comparing ``calculated`` and ``critical`` t scores:**"
   ]
  },
  {
   "cell_type": "code",
   "execution_count": 82,
   "metadata": {},
   "outputs": [
    {
     "name": "stdout",
     "output_type": "stream",
     "text": [
      "Critical t-value: 1.7613\n",
      "Calculated t-value: 2.1323\n"
     ]
    }
   ],
   "source": [
    "from scipy.stats import t as t_dist\n",
    "\n",
    "# Calculate the t-statistic\n",
    "t_calculated = (x_bar - mu) / (s / np.sqrt(n))\n",
    "\n",
    "# Significance level and degrees of freedom\n",
    "alpha = 0.05\n",
    "dof = n - 1  # degrees of freedom\n",
    "\n",
    "# Critical t-value for the right-tailed test\n",
    "t_critical = t_dist.ppf(1 - alpha, dof)  # Use 1 - alpha for right-tailed\n",
    "\n",
    "# Print the critical t-value and the calculated t-value\n",
    "print(f'Critical t-value: {t_critical:.4f}')\n",
    "print(f'Calculated t-value: {t_calculated:.4f}')"
   ]
  },
  {
   "cell_type": "markdown",
   "metadata": {},
   "source": [
    "#### <p style=\"background-color:#FFFFFF; font-family:newtimeroman; color:#FF0000; font-size:125%; text-align:left;\"><strong>💥🙃🤔 CONTRADICTION:</strong></p>\n",
    "\n",
    "This means that if our calculated t-statistic exceeds 1.761, we would reject the null hypothesis in a one-tailed test."
   ]
  },
  {
   "cell_type": "markdown",
   "metadata": {},
   "source": [
    "- **``Critical Value:``**\n",
    "   - The critical t-value of 1.7613 represents the threshold for rejecting the null hypothesis in a right-tailed test. It indicates the point above which we would reject the null hypothesis if our calculated t-statistic were to fall into that region.\n",
    "\n",
    "- **``Calculated t-Statistic:``**\n",
    "  - The calculated t-statistic of approximately 2.1323 is greater than the critical t-value of 1.7613. This means it falls into the rejection region, indicating that the sample mean is significantly greater than the hypothesized population mean.\n",
    "\n",
    "- **``Decision Rule:``**\n",
    "  - **``Right-Tailed Test``**: In a right-tailed test, we reject the null hypothesis if our calculated t-statistic is greater than the critical t-value. Since the critical t-value is 1.7613 and the calculated t-statistic is approximately 2.1323, we reject the null hypothesis. This means there is enough evidence to support the claim that the population mean is greater than the specified value at the 0.05 significance level."
   ]
  },
  {
   "cell_type": "markdown",
   "metadata": {},
   "source": [
    "#### <p style=\"background-color:#FFFFFF; font-family:newtimeroman; color:#FF0000; font-size:125%; text-align:left;\"><strong>STEP-05: Visualizing the results:</strong></p>\n",
    "\n"
   ]
  },
  {
   "cell_type": "code",
   "execution_count": 83,
   "metadata": {},
   "outputs": [
    {
     "data": {
      "image/png": "[encoded data removed]",
      "text/plain": [
       "<Figure size 1000x500 with 1 Axes>"
      ]
     },
     "metadata": {},
     "output_type": "display_data"
    }
   ],
   "source": [
    "import numpy as np\n",
    "import matplotlib.pyplot as plt\n",
    "from scipy.stats import t\n",
    "\n",
    "# Given values from your t-test\n",
    "t_statistic = 2.132316673754645\n",
    "p_value = 0.9744134437723521\n",
    "dof = 14\n",
    "alpha = 0.05\n",
    "\n",
    "# Define the range for the t-distribution plot\n",
    "x = np.linspace(-5, 5, 1000)\n",
    "\n",
    "# Calculate the t-distribution\n",
    "y = t.pdf(x, dof)\n",
    "\n",
    "# Create the plot\n",
    "plt.figure(figsize=(10, 5))\n",
    "\n",
    "# Plot the t-distribution\n",
    "plt.plot(x, y, label=f't-distribution (dof={dof})', color='blue')\n",
    "\n",
    "# Mark the critical t-value for alpha (one-tailed test)\n",
    "t_critical = t.ppf(1 - alpha, dof)\n",
    "plt.axvline(t_critical, color='red', linestyle='--', label=f'Critical t-value ({alpha})')\n",
    "\n",
    "# Mark the calculated t-statistic\n",
    "plt.axvline(t_statistic, color='green', linestyle='-', label=f'Calculated t-statistic ({t_statistic:.2f})')\n",
    "\n",
    "# Add a blue horizontal line at the bottom of the distribution\n",
    "plt.axhline(0, color='blue', linestyle='-', linewidth=2)\n",
    "\n",
    "# Fill the rejection region with light red regardless of p-value\n",
    "plt.fill_between(x, 0, y, where=(x >= t_critical), color='lightcoral', alpha=0.5, label='Rejection Region')\n",
    "\n",
    "# Add text for p-value and alpha\n",
    "plt.text(-1.3, 0.1, f'Calculated p-value: {p_value:.4f}', fontsize=10)\n",
    "plt.text(-0.65, 0.08, f'alpha: {alpha}', fontsize=10)\n",
    "plt.text(t_statistic + 0.5, 0.05, f't statistic: {t_statistic:.2f}', color='green', fontsize=10, ha='center', va='top')\n",
    "\n",
    "# Add titles and labels\n",
    "plt.title('One-Tailed t-Distribution with Critical Region and t-Statistic', color='blue')\n",
    "plt.xlabel('t-value')\n",
    "plt.ylabel('Probability Density')\n",
    "plt.legend(fontsize='small')\n",
    "\n",
    "# Set y-axis limit to start from zero\n",
    "plt.ylim(bottom=0)\n",
    "\n",
    "# Remove grids\n",
    "plt.grid(False)\n",
    "\n",
    "# Show the plot\n",
    "plt.show()"
   ]
  },
  {
   "cell_type": "markdown",
   "metadata": {},
   "source": [
    "The image presents a graphical representation of a one-tailed t-distribution with calculations relevant to hypothesis testing. Here are the key elements and their interpretations:\n",
    "\n",
    "- 1. **t-Distribution Curve**: The blue curve represents the t-distribution with 14 degrees of freedom (df=14), which is typically used when the sample size is small.\n",
    "\n",
    "- 👉 2. **Critical Value (Dashed Red Line)**: The ``red dashed`` line denotes the ``critical t-value for a significance level (alpha) of 0.05``, which indicates the ``threshold beyond which the null hypothesis would be rejected``.\n",
    "\n",
    "- 👉 3. **Calculated t-Statistic (Green Line)**: The vertical ``green line`` indicates the ``calculated t-statistic`` value of ``2.13`` from the data. This value is used to determine where the observed statistic falls relative to the critical value.\n",
    "\n",
    "- 👉 4. **P-Value**: The ``calculated p-value`` is approximately ``0.9744``, which is ``significantly higher than the alpha level of 0.05``. This indicates that there is ``strong evidence to NOT reject the null hypothesis``.\n",
    "\n",
    "- 5. **Rejection Region (Shaded Area)**: The area to the right of the critical value (and highlighted in pink) represents the rejection region. If the t-statistic falls into this region, the null hypothesis can be rejected.\n",
    "\n",
    "**Summary Interpretation:**\n",
    "- Since the ``calculated t-statistic (2.13)`` does ``exceed the critical value`` for the one-tailed test, we do ``reject the null hypothesis``.\n",
    "- ON THE OTHER HAND the ``p-value (0.9744)`` is ``greater`` than the ``significance level (0.05)``, we do ``NOT reject the null hypothesis``. This suggests that the test does NOT provide sufficient evidence to support the alternative hypothesis at the 0.05 significance level.\n",
    "\n",
    "<p style=\"background-color:#FFFFFF; font-family:newtimeroman; color:red; font-size:125%; text-align:left;\"><strong>🤔💭 Which conclusion is CORRECT❓</strong></p>\n"
   ]
  },
  {
   "cell_type": "markdown",
   "metadata": {},
   "source": [
    "⚠️ There seems to be a contradiction in the interpretation of the p-value and the critical value. The apparent contradiction arises because:\n",
    "  - **T-statistic being greater than critical value** implies we could reject the null hypothesis.\n",
    "  - **High p-value** indicates that there is NOT enough evidence against the null hypothesis.\n",
    "\n",
    "Let’s clarify this:\n",
    "\n",
    "- **``Critical Value:``**\n",
    "  - For a one-tailed test with α=0.05 and df=14, the critical t-value is approximately 1.761.\n",
    "    - This means that if our calculated t-statistic is greater than 1.761, we would typically reject the null hypothesis.\n",
    "- **``Calculated t-statistic:``**\n",
    "  - Our calculated t-statistic is 2.132. Since this value is greater than 1.761, it suggests that we should reject the null hypothesis based on the critical value approach.\n",
    "- **``Calculated p-value:``**\n",
    "  - The p-value we provided is 0.9744. This indicates a very high probability that the observed data would occur under the null hypothesis. Since the p-value is greater than the significance level (α=0.05), we would fail to reject the null hypothesis based on the p-value approach.\n",
    "- **``Conclusion:``**\n",
    "  - ``There is indeed an inconsistency``:\n",
    "    - The ``p-value`` approach suggests ``failing to reject`` the null hypothesis because 0.9744>0.05.\n",
    "    - The ``critical value`` approach suggests ``rejecting`` the null hypothesis because 2.132>1.761.\n",
    "- **``Resolution:``**\n",
    "  - The discrepancy arises from how the t-statistic and the p-value are interpreted in relation to the hypothesis test. Here’s how to resolve it:\n",
    "    - **``Check the Calculation``**: Ensure that the p-value was calculated correctly. For a one-tailed test, the p-value should be calculated as the area to the right of the calculated t-statistic.\n",
    "    - **``Conclude Based on P-Value``**: If the p-value is indeed correct and greater than α, then we should fail to reject the null hypothesis, regardless of the t-statistic being greater than the critical value.\n",
    "\n",
    "\n",
    "<p style=\"background-color:#FFFFFF; font-family:newtimeroman; color:green; font-size:125%; text-align:left;\">🔔 In summary, the decision should be based on the p-value, which indicates that we fail to reject the null hypothesis. If we confirm that the p-value calculation is accurate, then that should be we final decision.</p>"
   ]
  },
  {
   "cell_type": "markdown",
   "metadata": {},
   "source": [
    "### Summary\n",
    "\n",
    "<img src=https://i.ibb.co/pKK7xVk/Z-Test-vs-T-Test.png width=\"500\" height=\"200\">\n",
    "\n",
    "<p style=\"background-color:#FFFFFF; font-family:newtimeroman; color:#0000FF; font-size:110%; text-align:left;\"><strong>-----------------------------------------------------------------------------------------------------------------------------------------------------------------------------------------------</strong></p>\n"
   ]
  },
  {
   "cell_type": "markdown",
   "metadata": {},
   "source": [
    "\n",
    "\n",
    "## <p style=\"background-color:#FDFEFE; font-family:newtimeroman; color:#E51A59; font-size:150%; text-align:center; border-radius:10px 10px;\">End of the Session - 05</p>\n",
    "\n",
    "<p style=\"text-align: center;\"><img src=\"https://i.ibb.co/TtRtYNn/healthy-lunch.jpg\" width=\"800\" height=\"200\" class=\"img-fluid\" alt=\"Lunch Time\"></p>\n",
    "\n",
    "\n",
    "<p style=\"text-align: center;\"><img src=\"https://i.ibb.co/99DQ3TY/DS-Courses.png\" class=\"img-fluid\" \n",
    "alt=\"CLRSWY\"></p>\n",
    "\n",
    "\n",
    "<br><br><br>\n",
    "\n",
    "<p style=\"text-align: center;\"><img src=\"https://i.ibb.co/Rpz9L36/clarusway-logo-black.png\" width=\"450\" height=\"200\" class=\"img-fluid\" alt=\"CLRSWY_LOGO\"></p>\n",
    "\n",
    "<p style=\"background-color:#E51A59; font-family:newtimeroman; color:#FDFEFE; font-size:130%; text-align:center; border-radius:10px 10px;\">WAY TO REINVENT YOURSELF</p>"
   ]
  },
  {
   "cell_type": "markdown",
   "metadata": {
    "deletable": false,
    "editable": false
   },
   "source": [
    "<a href=\"https://clarusway.com/contact-us/\"><img align=\"center\" src=\"https://i.ibb.co/B43qn24/officially-licensed-logo.png\" alt=\"Open in Clarusway LMS\" width=\"110\" height=\"200\" title=\"This notebook is licensed by Clarusway IT training school. Please contact the authorized persons about the conditions under which you can use or share.\"></a>"
   ]
  }
 ],
 "metadata": {
  "colab": {
   "collapsed_sections": [],
   "provenance": [
    {
     "file_id": "1WkrGCoJV6zUcHgc560ZuesFbKuXT6_YH",
     "timestamp": 1644864723517
    },
    {
     "file_id": "1d2RZk4O4_0VzRxhKJcHCgVqwbCXLP4Zc",
     "timestamp": 1619099564054
    }
   ]
  },
  "kernelspec": {
   "display_name": "Python 3 (ipykernel)",
   "language": "python",
   "name": "python3"
  },
  "language_info": {
   "codemirror_mode": {
    "name": "ipython",
    "version": 3
   },
   "file_extension": ".py",
   "mimetype": "text/x-python",
   "name": "python",
   "nbconvert_exporter": "python",
   "pygments_lexer": "ipython3",
   "version": "3.11.5"
  },
  "toc": {
   "base_numbering": 1,
   "nav_menu": {},
   "number_sections": false,
   "sideBar": true,
   "skip_h1_title": false,
   "title_cell": "Table of Contents",
   "title_sidebar": "Contents",
   "toc_cell": false,
   "toc_position": {
    "height": "calc(100% - 180px)",
    "left": "10px",
    "top": "150px",
    "width": "307.2px"
   },
   "toc_section_display": true,
   "toc_window_display": true
  },
  "varInspector": {
   "cols": {
    "lenName": 16,
    "lenType": 16,
    "lenVar": 40
   },
   "kernels_config": {
    "python": {
     "delete_cmd_postfix": "",
     "delete_cmd_prefix": "del ",
     "library": "var_list.py",
     "varRefreshCmd": "print(var_dic_list())"
    },
    "r": {
     "delete_cmd_postfix": ") ",
     "delete_cmd_prefix": "rm(",
     "library": "var_list.r",
     "varRefreshCmd": "cat(var_dic_list()) "
    }
   },
   "types_to_exclude": [
    "module",
    "function",
    "builtin_function_or_method",
    "instance",
    "_Feature"
   ],
   "window_display": false
  }
 },
 "nbformat": 4,
 "nbformat_minor": 1
}
