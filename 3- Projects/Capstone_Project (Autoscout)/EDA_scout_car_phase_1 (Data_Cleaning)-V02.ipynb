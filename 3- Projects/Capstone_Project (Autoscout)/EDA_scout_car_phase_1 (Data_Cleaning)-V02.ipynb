{
 "cells": [
  {
   "cell_type": "code",
   "execution_count": 244,
   "metadata": {
    "ExecuteTime": {
     "end_time": "2025-01-16T09:21:59.164485Z",
     "start_time": "2025-01-16T09:21:59.135754Z"
    },
    "deletable": false,
    "editable": false
   },
   "outputs": [
    {
     "data": {
      "application/javascript": [
       "/** Below because this notebook is pretty large */\n",
       "var rto = 180;\n",
       "console.log('NB: Increase require timeout to ' + rto + ' seconds');\n",
       "window.requirejs.config({waitSeconds: rto}); \n"
      ],
      "text/plain": [
       "<IPython.core.display.Javascript object>"
      ]
     },
     "metadata": {},
     "output_type": "display_data"
    }
   ],
   "source": [
    "%%javascript\n",
    "/** Below because this notebook is pretty large */\n",
    "var rto = 180;\n",
    "console.log('NB: Increase require timeout to ' + rto + ' seconds');\n",
    "window.requirejs.config({waitSeconds: rto}); "
   ]
  },
  {
   "cell_type": "markdown",
   "metadata": {
    "deletable": false,
    "editable": false
   },
   "source": [
    "<a href=\"https://clarusway.com/contact-us/\"><img align=\"center\" src=\"https://i.ibb.co/B43qn24/officially-licensed-logo.png\" alt=\"Open in Clarusway LMS\" width=\"110\" height=\"200\" title=\"This notebook is licensed by Clarusway IT training school. Please contact the authorized persons about the conditions under which you can use or share.\"></a>"
   ]
  },
  {
   "cell_type": "markdown",
   "metadata": {},
   "source": [
    "___\n",
    "\n",
    "<a href=\"https://lms.clarusway.com/mod/lesson/view.php?id=8511&pageid=8142&startlastseen=no\"><img align=\"left\" src=\"https://i.ibb.co/6Z5pQxD/lmss.png\" alt=\"Open in Clarusway LMS\" width=\"70\" height=\"200\" title=\"Open Clarusway Learning Management Sytem\"></a>\n",
    "\n",
    "<a href=\"\"><img align=\"right\" src=\"https://i.ibb.co/n3HWyQX/github-logo.png\" alt=\"Open in Clarusway GitHub\" width=\"100\" height=\"150\" title=\"Open and Execute in Clarusway GitHub Repository\"></a>\n",
    "\n",
    "<br><br><br>\n",
    "\n",
    "<p style=\"text-align: center;\"><img src=\"https://i.ibb.co/Rpz9L36/clarusway-logo-black.png\" width=\"450\" height=\"200\" class=\"img-fluid\" alt=\"CLRSWY_LOGO\"></p>\n",
    "\n",
    "<p style=\"background-color:#E51A59; font-family:newtimeroman; color:#FDFEFE; font-size:130%; text-align:center; border-radius:10px 10px;\">WAY TO REINVENT YOURSELF</p>\n",
    "\n",
    "<img src=https://i.ibb.co/b5xXg11/used-cars1.jpg width=\"1100\" height=\"100\">\n",
    "\n",
    "[Image Credit](https://myscriptneedshelp.com/2022/auto/buying-used-cars-in-tempe-is-easier-now/)\n",
    "\n",
    "## <p style=\"background-color:#FDFEFE; font-family:newtimeroman; color:#060108; font-size:200%; text-align:center; border-radius:10px 10px;\">The Capstone Project of Data Analytics Module</p>\n",
    "\n",
    "## <p style=\"background-color:#FDFEFE; font-family:newtimeroman; color:#060108; font-size:150%; text-align:center; border-radius:10px 10px;\">Car Price Prediction EDA</p>"
   ]
  },
  {
   "cell_type": "markdown",
   "metadata": {},
   "source": [
    "<a id=\"toc\"></a>\n",
    "\n",
    "## <p style=\"background-color:#9d4f8c; font-family:newtimeroman; color:#FFF9ED; font-size:175%; text-align:center; border-radius:10px 10px;\">Content</p>\n",
    "\n",
    "* [INTRODUCTION](#0)\n",
    "* [IMPORTING LIBRARIES NEEDED IN THIS NOTEBOOK](#1)\n",
    "* [PART-01 (DATA CLEANING)](#2)\n",
    "* [THE EXAMINATION OF COLUMNS](#3)    \n",
    "* [THE END OF DATA CLEANING (PART - 01)](#4)"
   ]
  },
  {
   "cell_type": "markdown",
   "metadata": {},
   "source": [
    "## <p style=\"background-color:#9d4f8c; font-family:newtimeroman; color:#FFF9ED; font-size:175%; text-align:center; border-radius:10px 10px;\">Introduction</p>\n",
    "\n",
    "<a id=\"0\"></a>\n",
    "<a href=\"#toc\" class=\"btn btn-primary btn-sm\" role=\"button\" aria-pressed=\"true\" \n",
    "style=\"color:blue; background-color:#dfa8e4\" data-toggle=\"popover\">Content</a>\n",
    "\n",
    "\n",
    "## What is Exploratory Data Analysis?\n",
    "\n",
    "Exploratory Data Analysis (EDA), also known as Data Exploration, is a step in the Data Analysis Process, where a number of techniques are used to better understand the dataset being used.\n",
    "\n",
    "‘Understanding the dataset’ can refer to a number of things including but not limited to…\n",
    "\n",
    "- Extracting important variables and leaving behind useless variables\n",
    "- Identifying outliers, missing values, or human error\n",
    "- Understanding the relationship(s), or lack of, between variables\n",
    "- Ultimately, maximizing your insights of a dataset and minimizing potential error that may occur later in the process\n",
    "\n",
    "By conducting EDA, you can turn an almost useable dataset into a completely useable dataset.\n",
    "\n",
    "Exploratory Data Analysis does two main things:\n",
    "\n",
    "- It helps clean up a dataset.\n",
    "- It gives you a better understanding of the variables and the relationships between them.\n",
    "\n",
    "There are main components of exploring data:\n",
    "\n",
    "- Understanding your variables\n",
    "- Cleaning your dataset\n",
    "- Analyzing relationships between variables with Data Visualization\n",
    "\n",
    "For further reading;\n",
    "\n",
    "- **🧐 [Mastering Exploratory Data Analysis(EDA) For Data Science Enthusiasts](https://www.analyticsvidhya.com/blog/2021/04/mastering-exploratory-data-analysiseda-for-data-science-enthusiasts/)**\n",
    "\n",
    "- **🧐 [Exploratory Data Analysis — Visualising, summarising, and interpreting data](https://medium.com/mlearning-ai/exploratory-data-analysis-visualising-summarising-and-interpreting-data-bbe2c9518afb)**\n",
    "- **🧐 [Exploratory Data Analysis (EDA) techniques for Kaggle competition beginners](https://towardsdatascience.com/exploratory-data-analysis-eda-techniques-for-kaggle-competition-beginners-be4237c3c3a9)**\n",
    "\n",
    "Let's back to our project.\n",
    "\n",
    "Welcome to \"***Car Price Prediction EDA Project***\". This is the capstone project of ***Data Analytics*** Module. **Auto Scout** data used for this project, were scraped from the on-line car trading company, Auto Scout, in 2022, contains many features of 13 different car models. In this project, you will have the opportunity to apply many commonly used algorithms for Data Cleaning and Exploratory Data Analysis by using many Python libraries such as Numpy, Pandas, Matplotlib, Seaborn, Scipy.\n",
    "\n",
    "<div style=\"background-color: #ffeeba; padding: 10px; font-size: 14px; font-weight: bold;\">\n",
    "The project consists of <code>3 parts:</code>\n",
    "    \n",
    "  - <code>First part</code> is related to <code>data cleaning</code>. It deals with Incorrect Headers (Column names), Incorrect Format, Anomalies, Dropping useless columns.\n",
    "  - <code>Second part</code> is related to <code>filling data</code>. It deals with Missing Values. Categorical to numeric transformation is done.\n",
    "  - <code>Third part</code> is related to <code>handling outliers of data</code> via Visualisation libraries. Some insights are extracted.\n",
    "</div>"
   ]
  },
  {
   "cell_type": "markdown",
   "metadata": {},
   "source": [
    "## <p style=\"background-color:#9d4f8c; font-family:newtimeroman; color:#FFF9ED; font-size:175%; text-align:center; border-radius:10px 10px;\">Importing Libraries Needed in This Notebook</p>\n",
    "\n",
    "<a id=\"1\"></a>\n",
    "<a href=\"#toc\" class=\"btn btn-primary btn-sm\" role=\"button\" aria-pressed=\"true\" \n",
    "style=\"color:blue; background-color:#dfa8e4\" data-toggle=\"popover\">Content</a>\n",
    "\n",
    "If you have NOT installed NumPy & Pandas so far, once you've installed them you can import them as a library and other libraries need in this analysis:"
   ]
  },
  {
   "cell_type": "markdown",
   "metadata": {},
   "source": [
    "**Also, please NOTE that ``Skimpy`` is not yet supported on each Numpy version, requires ``numpy=1.22.2`` as of November, 2022**\n",
    "- **Skimpy has dependency issues with the latest Numpy version**\n",
    "  - **Pandas**: **``1.5.3``**\n",
    "  - **Numpy**: **``1.22.3``**\n",
    "  - **Matplotlib**: **``3.8``**\n",
    "  - **Seaborn**: **``0.12``**"
   ]
  },
  {
   "cell_type": "code",
   "execution_count": 245,
   "metadata": {
    "ExecuteTime": {
     "end_time": "2025-01-16T09:22:04.960942Z",
     "start_time": "2025-01-16T09:21:59.169305Z"
    }
   },
   "outputs": [
    {
     "name": "stdout",
     "output_type": "stream",
     "text": [
      "The Versions of Packages Used in This Study:\n",
      "--------------------------------------------\n",
      "NumPy version: 2.2.1\n",
      "Pandas version: 2.2.3\n",
      "Matplotlib version: 3.9.1\n",
      "Seaborn version: 0.13.2\n",
      "--------------------------------------------\n",
      "Jupyter Notebook version: Selected Jupyter core packages...\n",
      "IPython          : 8.27.0\n",
      "ipykernel        : 6.29.5\n",
      "ipywidgets       : 8.1.5\n",
      "jupyter_client   : 7.4.9\n",
      "jupyter_core     : 5.7.2\n",
      "jupyter_server   : 2.14.1\n",
      "jupyterlab       : not installed\n",
      "nbclient         : 0.8.0\n",
      "nbconvert        : 7.16.4\n",
      "nbformat         : 5.10.4\n",
      "notebook         : 6.5.7\n",
      "qtconsole        : not installed\n",
      "traitlets        : 5.14.3\n"
     ]
    }
   ],
   "source": [
    "print(\"The Versions of Packages Used in This Study:\")\n",
    "print(\"-\"*44)\n",
    "\n",
    "# Importing the NumPy library\n",
    "import numpy\n",
    "# Printing the version of NumPy\n",
    "print(\"NumPy version:\", numpy.__version__)\n",
    "\n",
    "# Importing the Pandas library\n",
    "import pandas\n",
    "# Printing the version of Pandas\n",
    "print(\"Pandas version:\", pandas.__version__)\n",
    "\n",
    "# Importing the Matplotlib library\n",
    "import matplotlib\n",
    "# Printing the version of Matplotlib\n",
    "print(\"Matplotlib version:\", matplotlib.__version__)\n",
    "\n",
    "# Importing the Seaborn library\n",
    "import seaborn\n",
    "# Printing the version of Seaborn\n",
    "print(\"Seaborn version:\", seaborn.__version__)\n",
    "\n",
    "print(\"-\"*44)\n",
    "\n",
    "# Printing the version of Jupyter\n",
    "# !jupyter --version\n",
    "import subprocess\n",
    "\n",
    "# Get Jupyter version\n",
    "try:\n",
    "    jupyter_version = subprocess.check_output([\"jupyter\", \"--version\"], text=True)\n",
    "    print(\"Jupyter Notebook version:\", jupyter_version.strip())\n",
    "except Exception as e:\n",
    "    print(\"Error retrieving Jupyter version:\", e)"
   ]
  },
  {
   "cell_type": "code",
   "execution_count": 246,
   "metadata": {
    "ExecuteTime": {
     "end_time": "2025-01-16T09:22:04.991687Z",
     "start_time": "2025-01-16T09:22:04.964002Z"
    }
   },
   "outputs": [],
   "source": [
    "import numpy as np\n",
    "import pandas as pd\n",
    "import re\n",
    "\n",
    "import seaborn as sns \n",
    "import matplotlib.pyplot as plt\n",
    "\n",
    "from ipywidgets import interact, Dropdown, IntSlider, Output, widgets\n",
    "from IPython.display import display  \n",
    "from termcolor import colored\n",
    "\n",
    "# from skimpy import clean_columns\n",
    "\n",
    "import warnings\n",
    "warnings.filterwarnings(\"ignore\")\n",
    "warnings.warn(\"this will not show\")\n",
    "\n",
    "%matplotlib inline\n",
    "# %matplotlib notebook\n",
    "\n",
    "plt.rcParams[\"figure.figsize\"] = (10, 6)\n",
    "# plt.rcParams['figure.dpi'] = 100\n",
    "\n",
    "sns.set_style(\"whitegrid\")\n",
    "pd.set_option('display.float_format', lambda x: '%.2f' % x)\n",
    "\n",
    "pd.options.display.max_rows = 300\n",
    "pd.options.display.max_columns = 100"
   ]
  },
  {
   "cell_type": "markdown",
   "metadata": {},
   "source": [
    "#### User Defined Functions:"
   ]
  },
  {
   "cell_type": "code",
   "execution_count": 247,
   "metadata": {
    "ExecuteTime": {
     "end_time": "2025-01-16T09:22:05.049030Z",
     "start_time": "2025-01-16T09:22:04.994741Z"
    }
   },
   "outputs": [],
   "source": [
    "def show_distribution(col):\n",
    "    \"\"\"\n",
    "    Plots a histogram and boxplot of a numeric column in a Pandas DataFrame, and prints statistical calculations about the column.\n",
    "\n",
    "    Parameters:\n",
    "    -----------\n",
    "    col : Pandas Series\n",
    "        A numeric column in a Pandas DataFrame.\n",
    "\n",
    "    Returns:\n",
    "    --------\n",
    "    None.\n",
    "\n",
    "    Prints:\n",
    "    -------\n",
    "    Statistical calculations about the column, including minimum value, mean, median, mode, and maximum value.\n",
    "\n",
    "    Plots:\n",
    "    ------\n",
    "    A histogram of the column's values, with lines indicating the minimum, mean, median, mode, and maximum values.\n",
    "\n",
    "    A boxplot of the column's values, with a line indicating the median and markers indicating the mean and outliers.\n",
    "    \"\"\"\n",
    "    \n",
    "    # Get statistics\n",
    "    from termcolor import colored\n",
    "\n",
    "    print(colored('Statistical Calculations :', 'red', attrs=['bold']))\n",
    "    print(colored('-'*26, 'red', attrs=['bold']))    \n",
    "    min_val = col.min()\n",
    "    max_val = col.max()\n",
    "    mean_val = col.mean()\n",
    "    med_val = col.median()\n",
    "    mod_val = col.mode()[0]\n",
    "\n",
    "    print(colored('Minimum:{:>7.2f}\\nMean:{:>10.2f}\\nMedian:{:>8.2f}\\nMode:{:>10.2f}\\nMaximum:{:>7.2f}\\n'.format(min_val,\n",
    "                                                                                             mean_val,\n",
    "                                                                                             med_val,\n",
    "                                                                                             mod_val,\n",
    "                                                                                             max_val), 'blue', attrs=['bold']))\n",
    "    \n",
    "    # Create a figure for 2 subplots (2 rows, 1 column)\n",
    "    fig, ax = plt.subplots(2, 1, figsize=(15, 15))\n",
    "\n",
    "    # Plot the histogram   \n",
    "    ax[0].hist(col, bins=30)\n",
    "    ax[0].set_ylabel('Frequency', fontsize=10)\n",
    "\n",
    "    # Add lines for the mean, median, and mode\n",
    "    ax[0].axvline(x=min_val,  color='orange',     linestyle='dashed', linewidth=2, label='Minimum')\n",
    "    ax[0].axvline(x=mean_val, color='lightgreen', linestyle='dashed', linewidth=2, label='Mean')\n",
    "    ax[0].axvline(x=med_val,  color='cyan',       linestyle='dashed', linewidth=2, label='Median')\n",
    "    ax[0].axvline(x=mod_val,  color='purple',     linestyle='dashed', linewidth=2, label='Mode')\n",
    "    ax[0].axvline(x=max_val,  color='red',        linestyle='dashed', linewidth=2, label='Maximum')\n",
    "    ax[0].legend(loc='upper right')\n",
    "\n",
    "    # Plot the boxplot   \n",
    "    medianprops = dict(linestyle='-', linewidth=3, color='m')\n",
    "    boxprops=dict(linestyle='-', linewidth=1.5)\n",
    "    meanprops={\"marker\":\"d\", \"markerfacecolor\":\"blue\", \"markeredgecolor\":\"black\", \"markersize\":\"10\"}\n",
    "    flierprops={'marker': 'o', 'markersize': 8, 'markerfacecolor': 'fuchsia'}\n",
    "    \n",
    "    ax[1].boxplot(col, \n",
    "                  vert=False,\n",
    "                  notch=True, \n",
    "                  patch_artist=False,\n",
    "                  medianprops=medianprops,\n",
    "                  flierprops=flierprops,\n",
    "                  showmeans=True,\n",
    "                  meanprops=meanprops)\n",
    "    \n",
    "    ax[1].set_xlabel('value', fontsize=10)\n",
    "    \n",
    "    # Add a title to the Figure\n",
    "    fig.suptitle('Data Distribution', fontsize=20)\n",
    "    \n",
    "    plt.show()"
   ]
  },
  {
   "cell_type": "code",
   "execution_count": 248,
   "metadata": {
    "ExecuteTime": {
     "end_time": "2025-01-16T09:22:05.086161Z",
     "start_time": "2025-01-16T09:22:05.063350Z"
    }
   },
   "outputs": [],
   "source": [
    "def first_looking(df, col):\n",
    "    \"\"\"\n",
    "    Prints basic information about a column in a Pandas DataFrame.\n",
    "\n",
    "    Parameters:\n",
    "    -----------\n",
    "    df : pandas.DataFrame\n",
    "        The DataFrame to analyze.\n",
    "    col : str\n",
    "        The name of the column to analyze.\n",
    "\n",
    "    Returns:\n",
    "    --------\n",
    "    None.\n",
    "\n",
    "    Prints:\n",
    "    -------\n",
    "    column name    : str\n",
    "        The name of the column being analyzed.\n",
    "    per_of_nulls   : float\n",
    "        The percentage of null values in the column.\n",
    "    num_of_nulls   : int\n",
    "        The number of null values in the column.\n",
    "    num_of_uniques : int\n",
    "        The number of unique values in the column.\n",
    "    shape_of_df    : tuple\n",
    "        The shape of the DataFrame.\n",
    "    The unique values in the column and their frequency of occurrence.\n",
    "    \"\"\"\n",
    "    print(\"column name    : \", col)\n",
    "    print(\"--------------------------------\")\n",
    "    print(\"per_of_nulls   : \", \"%\", round(df[col].isnull().sum() * 100 / df.shape[0], 2))\n",
    "    print(\"num_of_nulls   : \", df[col].isnull().sum())\n",
    "    print(\"num_of_uniques : \", df[col].astype(str).nunique())\n",
    "    print(\"shape_of_df    : \", df.shape)\n",
    "    print(\"--------------------------------\")\n",
    "    print(df[col].value_counts(dropna=False))"
   ]
  },
  {
   "cell_type": "markdown",
   "metadata": {},
   "source": [
    "## <p style=\"background-color:#9d4f8c; font-family:newtimeroman; color:#FFF9ED; font-size:175%; text-align:center; border-radius:10px 10px;\">PART- 01 (Data Cleaning)</p>\n",
    "\n",
    "<a id=\"2\"></a>\n",
    "<a href=\"#toc\" class=\"btn btn-primary btn-sm\" role=\"button\" aria-pressed=\"true\" \n",
    "style=\"color:blue; background-color:#dfa8e4\" data-toggle=\"popover\">Content</a>\n",
    "\n",
    "Data cleaning is the process of ensuring that your data is correct and useable by identifying any errors in the data, or missing data by correcting or deleting them.\n",
    "\n",
    "Cleaning up data is the first and most important step, as it ensures the quality of the data is met to prepare data for visualization.\n",
    "\n",
    "The steps in cleaning the data as;\n",
    "\n",
    "- Checking Null entries\n",
    "- Removing Null Entries\n",
    "- Filling values in place of Null Entries (If Numerical feature)\n",
    "- Checking Duplicates\n",
    "- Removing Duplicates\n",
    "\n",
    "**Now let us begin our analysis by reading & assigning our dataset to a Pandas object as df (📝 Besides, in case the original dataset might be needed in any phase of the analysis, it will be copied at the beginning before going further because it is NOT forgotten that any change made throughout the analysis will change the data as well):**"
   ]
  },
  {
   "cell_type": "code",
   "execution_count": 249,
   "metadata": {
    "ExecuteTime": {
     "end_time": "2025-01-16T09:22:11.059224Z",
     "start_time": "2025-01-16T09:22:05.090251Z"
    }
   },
   "outputs": [],
   "source": [
    "df0 = pd.read_json(\"as24_cars.zip\")\n",
    "\n",
    "df = df0.copy()\n",
    "\n",
    "# In some cases, without lines=True, you will get \"ValueError: Trailing data\"\n",
    "# The following image represents the original view of Json file opened by VScode"
   ]
  },
  {
   "cell_type": "markdown",
   "metadata": {},
   "source": [
    "<div style=\"background-color: lightgreen; padding: 10px; font-size: 14px;\">\n",
    "As seen in the image below, if you're loading a JSON file which had JSON data on each separate line, this means that .json file would contain one JSON object in each line as per the specification. In these circumstances, the answer to how you read it into a dataframe in Pandas is that you have to read it line by line using lines=True.\n",
    "</div>\n",
    "\n",
    "![JSON_FILE_ERROR](https://i.ibb.co/4j0SJqW/autoscout-json.png)"
   ]
  },
  {
   "cell_type": "code",
   "execution_count": 250,
   "metadata": {
    "ExecuteTime": {
     "end_time": "2025-01-16T09:22:11.228880Z",
     "start_time": "2025-01-16T09:22:11.062288Z"
    }
   },
   "outputs": [
    {
     "data": {
      "text/html": [
       "<div>\n",
       "<style scoped>\n",
       "    .dataframe tbody tr th:only-of-type {\n",
       "        vertical-align: middle;\n",
       "    }\n",
       "\n",
       "    .dataframe tbody tr th {\n",
       "        vertical-align: top;\n",
       "    }\n",
       "\n",
       "    .dataframe thead th {\n",
       "        text-align: right;\n",
       "    }\n",
       "</style>\n",
       "<table border=\"1\" class=\"dataframe\">\n",
       "  <thead>\n",
       "    <tr style=\"text-align: right;\">\n",
       "      <th></th>\n",
       "      <th>make_model</th>\n",
       "      <th>short_description</th>\n",
       "      <th>make</th>\n",
       "      <th>model</th>\n",
       "      <th>location</th>\n",
       "      <th>price</th>\n",
       "      <th>Body type</th>\n",
       "      <th>Type</th>\n",
       "      <th>Doors</th>\n",
       "      <th>Country version</th>\n",
       "      <th>Offer number</th>\n",
       "      <th>Warranty</th>\n",
       "      <th>Mileage</th>\n",
       "      <th>First registration</th>\n",
       "      <th>Gearbox</th>\n",
       "      <th>Fuel type</th>\n",
       "      <th>Colour</th>\n",
       "      <th>Paint</th>\n",
       "      <th>desc</th>\n",
       "      <th>seller</th>\n",
       "      <th>Seats</th>\n",
       "      <th>Power</th>\n",
       "      <th>Engine size</th>\n",
       "      <th>Gears</th>\n",
       "      <th>CO₂-emissions</th>\n",
       "      <th>Manufacturer colour</th>\n",
       "      <th>Drivetrain</th>\n",
       "      <th>Cylinders</th>\n",
       "      <th>Fuel consumption</th>\n",
       "      <th>\\nComfort &amp; Convenience\\n</th>\n",
       "      <th>\\nEntertainment &amp; Media\\n</th>\n",
       "      <th>\\nSafety &amp; Security\\n</th>\n",
       "      <th>\\nExtras\\n</th>\n",
       "      <th>Empty weight</th>\n",
       "      <th>Model code</th>\n",
       "      <th>General inspection</th>\n",
       "      <th>Last service</th>\n",
       "      <th>Full service history</th>\n",
       "      <th>Non-smoker vehicle</th>\n",
       "      <th>Emission class</th>\n",
       "      <th>Emissions sticker</th>\n",
       "      <th>Upholstery colour</th>\n",
       "      <th>Upholstery</th>\n",
       "      <th>Production date</th>\n",
       "      <th>Previous owner</th>\n",
       "      <th>Other fuel types</th>\n",
       "      <th>Power consumption</th>\n",
       "      <th>Energy efficiency class</th>\n",
       "      <th>CO₂-efficiency</th>\n",
       "      <th>Fuel consumption (WLTP)</th>\n",
       "      <th>CO₂-emissions (WLTP)</th>\n",
       "      <th>Available from</th>\n",
       "      <th>Taxi or rental car</th>\n",
       "      <th>Availability</th>\n",
       "      <th>Last timing belt change</th>\n",
       "      <th>Electric Range (WLTP)</th>\n",
       "      <th>Power consumption (WLTP)</th>\n",
       "      <th>Battery Ownership</th>\n",
       "    </tr>\n",
       "  </thead>\n",
       "  <tbody>\n",
       "    <tr>\n",
       "      <th>0</th>\n",
       "      <td>Mercedes-Benz A 160</td>\n",
       "      <td>CDi</td>\n",
       "      <td>\\nMercedes-Benz\\n</td>\n",
       "      <td>[\\n, A 160 ,\\n]</td>\n",
       "      <td>P.I. EL PALMAR C/FORJA 6,  11500 PUERTO DE SAN...</td>\n",
       "      <td>€ 16,950.-</td>\n",
       "      <td>[\\n, Compact, \\n]</td>\n",
       "      <td>[\\n, Used, \\n]</td>\n",
       "      <td>[\\n, 5, \\n]</td>\n",
       "      <td>[\\n, Spain, \\n]</td>\n",
       "      <td>[\\n, 7468157, \\n]</td>\n",
       "      <td>[\\n, 24 months, \\n]</td>\n",
       "      <td>120,200 km</td>\n",
       "      <td>06/2016</td>\n",
       "      <td>[\\nManual\\n]</td>\n",
       "      <td>Diesel</td>\n",
       "      <td>Black</td>\n",
       "      <td>Metallic</td>\n",
       "      <td>[ , Precio al contado: 16950 euros,  ,  , Vehí...</td>\n",
       "      <td>Dealer</td>\n",
       "      <td>NaN</td>\n",
       "      <td>NaN</td>\n",
       "      <td>NaN</td>\n",
       "      <td>NaN</td>\n",
       "      <td>NaN</td>\n",
       "      <td>NaN</td>\n",
       "      <td>NaN</td>\n",
       "      <td>NaN</td>\n",
       "      <td>NaN</td>\n",
       "      <td>NaN</td>\n",
       "      <td>NaN</td>\n",
       "      <td>NaN</td>\n",
       "      <td>NaN</td>\n",
       "      <td>NaN</td>\n",
       "      <td>NaN</td>\n",
       "      <td>NaN</td>\n",
       "      <td>NaN</td>\n",
       "      <td>NaN</td>\n",
       "      <td>NaN</td>\n",
       "      <td>NaN</td>\n",
       "      <td>NaN</td>\n",
       "      <td>NaN</td>\n",
       "      <td>NaN</td>\n",
       "      <td>NaN</td>\n",
       "      <td>NaN</td>\n",
       "      <td>NaN</td>\n",
       "      <td>NaN</td>\n",
       "      <td>NaN</td>\n",
       "      <td>NaN</td>\n",
       "      <td>NaN</td>\n",
       "      <td>NaN</td>\n",
       "      <td>NaN</td>\n",
       "      <td>NaN</td>\n",
       "      <td>NaN</td>\n",
       "      <td>NaN</td>\n",
       "      <td>NaN</td>\n",
       "      <td>NaN</td>\n",
       "      <td>NaN</td>\n",
       "    </tr>\n",
       "    <tr>\n",
       "      <th>1</th>\n",
       "      <td>Mercedes-Benz EQE 350</td>\n",
       "      <td>350+</td>\n",
       "      <td>\\nMercedes-Benz\\n</td>\n",
       "      <td>[\\n, EQE 350 ,\\n]</td>\n",
       "      <td>APARTADO DE CORREOS 1032,  26140 LOGROÑO, ES</td>\n",
       "      <td>€ 80,900.-</td>\n",
       "      <td>[\\n, Compact, \\n]</td>\n",
       "      <td>[\\n, Pre-registered, \\n]</td>\n",
       "      <td>[\\n, 4, \\n]</td>\n",
       "      <td>[\\n, Spain, \\n]</td>\n",
       "      <td>[\\n, 7054863, \\n]</td>\n",
       "      <td>[\\n, 24 months, \\n]</td>\n",
       "      <td>5,000 km</td>\n",
       "      <td>06/2022</td>\n",
       "      <td>[\\nAutomatic\\n]</td>\n",
       "      <td>Electric</td>\n",
       "      <td>NaN</td>\n",
       "      <td>NaN</td>\n",
       "      <td>[ , Precio al contado: 88900 euros,  , AUTO OJ...</td>\n",
       "      <td>Dealer</td>\n",
       "      <td>[\\n, 5, \\n]</td>\n",
       "      <td>[\\n215 kW (292 hp)\\n]</td>\n",
       "      <td>[\\n1 cc\\n]</td>\n",
       "      <td>[\\n9\\n]</td>\n",
       "      <td>0 g/km (comb.)</td>\n",
       "      <td>Negro Obsidiana</td>\n",
       "      <td>NaN</td>\n",
       "      <td>NaN</td>\n",
       "      <td>NaN</td>\n",
       "      <td>NaN</td>\n",
       "      <td>NaN</td>\n",
       "      <td>NaN</td>\n",
       "      <td>NaN</td>\n",
       "      <td>NaN</td>\n",
       "      <td>NaN</td>\n",
       "      <td>NaN</td>\n",
       "      <td>NaN</td>\n",
       "      <td>NaN</td>\n",
       "      <td>NaN</td>\n",
       "      <td>NaN</td>\n",
       "      <td>NaN</td>\n",
       "      <td>NaN</td>\n",
       "      <td>NaN</td>\n",
       "      <td>NaN</td>\n",
       "      <td>NaN</td>\n",
       "      <td>NaN</td>\n",
       "      <td>NaN</td>\n",
       "      <td>NaN</td>\n",
       "      <td>NaN</td>\n",
       "      <td>NaN</td>\n",
       "      <td>NaN</td>\n",
       "      <td>NaN</td>\n",
       "      <td>NaN</td>\n",
       "      <td>NaN</td>\n",
       "      <td>NaN</td>\n",
       "      <td>NaN</td>\n",
       "      <td>NaN</td>\n",
       "      <td>NaN</td>\n",
       "    </tr>\n",
       "    <tr>\n",
       "      <th>2</th>\n",
       "      <td>Mercedes-Benz A 45 AMG</td>\n",
       "      <td>S 4Matic+ 8G-DCT</td>\n",
       "      <td>\\nMercedes-Benz\\n</td>\n",
       "      <td>[\\n, A 45 AMG ,\\n]</td>\n",
       "      <td>PORT. TARRACO, MOLL DE LLEVANT, Nº 5, LOC. 6-8...</td>\n",
       "      <td>€ 69,900.-</td>\n",
       "      <td>[\\n, Compact, \\n]</td>\n",
       "      <td>[\\n, Used, \\n]</td>\n",
       "      <td>[\\n, 5, \\n]</td>\n",
       "      <td>[\\n, Spain, \\n]</td>\n",
       "      <td>[\\n, 7410454, \\n]</td>\n",
       "      <td>[\\n, 12 months, \\n]</td>\n",
       "      <td>18,900 km</td>\n",
       "      <td>07/2020</td>\n",
       "      <td>[\\nAutomatic\\n]</td>\n",
       "      <td>Gasoline</td>\n",
       "      <td>Grey</td>\n",
       "      <td>NaN</td>\n",
       "      <td>[Gris MANUFAKTUR mountaingrau magno,  , Linea/...</td>\n",
       "      <td>Dealer</td>\n",
       "      <td>[\\n, 5, \\n]</td>\n",
       "      <td>[\\n310 kW (421 hp)\\n]</td>\n",
       "      <td>[\\n1,991 cc\\n]</td>\n",
       "      <td>[\\n8\\n]</td>\n",
       "      <td>NaN</td>\n",
       "      <td>Mountaingrau magno</td>\n",
       "      <td>[\\n, 4WD, \\n]</td>\n",
       "      <td>[\\n4\\n]</td>\n",
       "      <td>[[8.4 l/100 km (comb.)], [10.9 l/100 km (city)...</td>\n",
       "      <td>NaN</td>\n",
       "      <td>NaN</td>\n",
       "      <td>NaN</td>\n",
       "      <td>NaN</td>\n",
       "      <td>NaN</td>\n",
       "      <td>NaN</td>\n",
       "      <td>NaN</td>\n",
       "      <td>NaN</td>\n",
       "      <td>NaN</td>\n",
       "      <td>NaN</td>\n",
       "      <td>NaN</td>\n",
       "      <td>NaN</td>\n",
       "      <td>NaN</td>\n",
       "      <td>NaN</td>\n",
       "      <td>NaN</td>\n",
       "      <td>NaN</td>\n",
       "      <td>NaN</td>\n",
       "      <td>NaN</td>\n",
       "      <td>NaN</td>\n",
       "      <td>NaN</td>\n",
       "      <td>NaN</td>\n",
       "      <td>NaN</td>\n",
       "      <td>NaN</td>\n",
       "      <td>NaN</td>\n",
       "      <td>NaN</td>\n",
       "      <td>NaN</td>\n",
       "      <td>NaN</td>\n",
       "      <td>NaN</td>\n",
       "      <td>NaN</td>\n",
       "    </tr>\n",
       "    <tr>\n",
       "      <th>3</th>\n",
       "      <td>Mercedes-Benz A 35 AMG</td>\n",
       "      <td>4Matic+ 7G-DCT</td>\n",
       "      <td>\\nMercedes-Benz\\n</td>\n",
       "      <td>[\\n, A 35 AMG ,\\n]</td>\n",
       "      <td>Carrer de Provença, 31 Local,  8029 BARCELONA, ES</td>\n",
       "      <td>€ 46,990.-</td>\n",
       "      <td>[\\n, Compact, \\n]</td>\n",
       "      <td>[\\n, Used, \\n]</td>\n",
       "      <td>[\\n, 5, \\n]</td>\n",
       "      <td>[\\n, Spain, \\n]</td>\n",
       "      <td>[\\n, 7464503, \\n]</td>\n",
       "      <td>[\\n, 12 months, \\n]</td>\n",
       "      <td>18,995 km</td>\n",
       "      <td>01/2020</td>\n",
       "      <td>[\\nAutomatic\\n]</td>\n",
       "      <td>Gasoline</td>\n",
       "      <td>Yellow</td>\n",
       "      <td>NaN</td>\n",
       "      <td>[ , Precio al contado: 48990 euros,  ,  , BONI...</td>\n",
       "      <td>Dealer</td>\n",
       "      <td>[\\n, 5, \\n]</td>\n",
       "      <td>[\\n225 kW (306 hp)\\n]</td>\n",
       "      <td>[\\n1,991 cc\\n]</td>\n",
       "      <td>[\\n7\\n]</td>\n",
       "      <td>NaN</td>\n",
       "      <td>Amarillo Sol</td>\n",
       "      <td>[\\n, 4WD, \\n]</td>\n",
       "      <td>[\\n4\\n]</td>\n",
       "      <td>[[7.3 l/100 km (comb.)], [9.3 l/100 km (city)]...</td>\n",
       "      <td>[Air conditioning, Automatic climate control, ...</td>\n",
       "      <td>[USB]</td>\n",
       "      <td>[ABS, Central door lock, Driver-side airbag, E...</td>\n",
       "      <td>[Sport seats]</td>\n",
       "      <td>NaN</td>\n",
       "      <td>NaN</td>\n",
       "      <td>NaN</td>\n",
       "      <td>NaN</td>\n",
       "      <td>NaN</td>\n",
       "      <td>NaN</td>\n",
       "      <td>NaN</td>\n",
       "      <td>NaN</td>\n",
       "      <td>NaN</td>\n",
       "      <td>NaN</td>\n",
       "      <td>NaN</td>\n",
       "      <td>NaN</td>\n",
       "      <td>NaN</td>\n",
       "      <td>NaN</td>\n",
       "      <td>NaN</td>\n",
       "      <td>NaN</td>\n",
       "      <td>NaN</td>\n",
       "      <td>NaN</td>\n",
       "      <td>NaN</td>\n",
       "      <td>NaN</td>\n",
       "      <td>NaN</td>\n",
       "      <td>NaN</td>\n",
       "      <td>NaN</td>\n",
       "      <td>NaN</td>\n",
       "      <td>NaN</td>\n",
       "    </tr>\n",
       "    <tr>\n",
       "      <th>4</th>\n",
       "      <td>Mercedes-Benz A 45 AMG</td>\n",
       "      <td>200CDI BE Line 4M 7G-DCT</td>\n",
       "      <td>\\nMercedes-Benz\\n</td>\n",
       "      <td>[\\n, A 45 AMG ,\\n]</td>\n",
       "      <td>CARRIL ARAGONES 4,  30007 CASILLAS, ES</td>\n",
       "      <td>€ 16,800.-</td>\n",
       "      <td>[\\n, Compact, \\n]</td>\n",
       "      <td>[\\n, Used, \\n]</td>\n",
       "      <td>[\\n, 5, \\n]</td>\n",
       "      <td>[\\n, Spain, \\n]</td>\n",
       "      <td>[\\n, 7127931, \\n]</td>\n",
       "      <td>[\\n, 12 months, \\n]</td>\n",
       "      <td>197,000 km</td>\n",
       "      <td>09/2015</td>\n",
       "      <td>[\\nAutomatic\\n]</td>\n",
       "      <td>Diesel</td>\n",
       "      <td>White</td>\n",
       "      <td>Metallic</td>\n",
       "      <td>[ , Precio al contado: 17400 euros,  , Vehícul...</td>\n",
       "      <td>Dealer</td>\n",
       "      <td>[\\n, 5, \\n]</td>\n",
       "      <td>[\\n100 kW (136 hp)\\n]</td>\n",
       "      <td>[\\n2,143 cc\\n]</td>\n",
       "      <td>[\\n7\\n]</td>\n",
       "      <td>NaN</td>\n",
       "      <td>NaN</td>\n",
       "      <td>[\\n, 4WD, \\n]</td>\n",
       "      <td>[\\n4\\n]</td>\n",
       "      <td>[[4.9 l/100 km (comb.)], [5.7 l/100 km (city)]...</td>\n",
       "      <td>[Air conditioning, Electrical side mirrors, Mu...</td>\n",
       "      <td>[Bluetooth, CD player, MP3, USB]</td>\n",
       "      <td>[ABS, Central door lock, Driver-side airbag, E...</td>\n",
       "      <td>NaN</td>\n",
       "      <td>[\\n1,545 kg\\n]</td>\n",
       "      <td>NaN</td>\n",
       "      <td>NaN</td>\n",
       "      <td>NaN</td>\n",
       "      <td>NaN</td>\n",
       "      <td>NaN</td>\n",
       "      <td>NaN</td>\n",
       "      <td>NaN</td>\n",
       "      <td>NaN</td>\n",
       "      <td>NaN</td>\n",
       "      <td>NaN</td>\n",
       "      <td>NaN</td>\n",
       "      <td>NaN</td>\n",
       "      <td>NaN</td>\n",
       "      <td>NaN</td>\n",
       "      <td>NaN</td>\n",
       "      <td>NaN</td>\n",
       "      <td>NaN</td>\n",
       "      <td>NaN</td>\n",
       "      <td>NaN</td>\n",
       "      <td>NaN</td>\n",
       "      <td>NaN</td>\n",
       "      <td>NaN</td>\n",
       "      <td>NaN</td>\n",
       "      <td>NaN</td>\n",
       "    </tr>\n",
       "    <tr>\n",
       "      <th>...</th>\n",
       "      <td>...</td>\n",
       "      <td>...</td>\n",
       "      <td>...</td>\n",
       "      <td>...</td>\n",
       "      <td>...</td>\n",
       "      <td>...</td>\n",
       "      <td>...</td>\n",
       "      <td>...</td>\n",
       "      <td>...</td>\n",
       "      <td>...</td>\n",
       "      <td>...</td>\n",
       "      <td>...</td>\n",
       "      <td>...</td>\n",
       "      <td>...</td>\n",
       "      <td>...</td>\n",
       "      <td>...</td>\n",
       "      <td>...</td>\n",
       "      <td>...</td>\n",
       "      <td>...</td>\n",
       "      <td>...</td>\n",
       "      <td>...</td>\n",
       "      <td>...</td>\n",
       "      <td>...</td>\n",
       "      <td>...</td>\n",
       "      <td>...</td>\n",
       "      <td>...</td>\n",
       "      <td>...</td>\n",
       "      <td>...</td>\n",
       "      <td>...</td>\n",
       "      <td>...</td>\n",
       "      <td>...</td>\n",
       "      <td>...</td>\n",
       "      <td>...</td>\n",
       "      <td>...</td>\n",
       "      <td>...</td>\n",
       "      <td>...</td>\n",
       "      <td>...</td>\n",
       "      <td>...</td>\n",
       "      <td>...</td>\n",
       "      <td>...</td>\n",
       "      <td>...</td>\n",
       "      <td>...</td>\n",
       "      <td>...</td>\n",
       "      <td>...</td>\n",
       "      <td>...</td>\n",
       "      <td>...</td>\n",
       "      <td>...</td>\n",
       "      <td>...</td>\n",
       "      <td>...</td>\n",
       "      <td>...</td>\n",
       "      <td>...</td>\n",
       "      <td>...</td>\n",
       "      <td>...</td>\n",
       "      <td>...</td>\n",
       "      <td>...</td>\n",
       "      <td>...</td>\n",
       "      <td>...</td>\n",
       "      <td>...</td>\n",
       "    </tr>\n",
       "    <tr>\n",
       "      <th>29475</th>\n",
       "      <td>Volvo S40</td>\n",
       "      <td>2.4i Momentum/ Airco/ NAP/ APK/ Elek. Ramen</td>\n",
       "      <td>\\nVolvo\\n</td>\n",
       "      <td>[\\n, S40 ,\\n]</td>\n",
       "      <td>Stobbeweg 6,  2461 EX TER AAR, NL</td>\n",
       "      <td>€ 5,499.-</td>\n",
       "      <td>[\\n, Sedan, \\n]</td>\n",
       "      <td>[\\n, Used, \\n]</td>\n",
       "      <td>[\\n, 4, \\n]</td>\n",
       "      <td>NaN</td>\n",
       "      <td>[\\n, 09-PF-XS, \\n]</td>\n",
       "      <td>NaN</td>\n",
       "      <td>145,000 km</td>\n",
       "      <td>06/2004</td>\n",
       "      <td>[\\nAutomatic\\n]</td>\n",
       "      <td>Gasoline</td>\n",
       "      <td>Grey</td>\n",
       "      <td>NaN</td>\n",
       "      <td>[Een goed rijdende auto met APK + NAP + Elektr...</td>\n",
       "      <td>Dealer</td>\n",
       "      <td>[\\n, 5, \\n]</td>\n",
       "      <td>[\\n125 kW (170 hp)\\n]</td>\n",
       "      <td>[\\n2,435 cc\\n]</td>\n",
       "      <td>[\\n5\\n]</td>\n",
       "      <td>217 g/km (comb.)</td>\n",
       "      <td>Grijs</td>\n",
       "      <td>[\\n, Front, \\n]</td>\n",
       "      <td>[\\n5\\n]</td>\n",
       "      <td>[[9.1 l/100 km (comb.)], [13.2 l/100 km (city)...</td>\n",
       "      <td>[Air conditioning, Armrest, Automatic climate ...</td>\n",
       "      <td>[On-board computer, Radio]</td>\n",
       "      <td>[ABS, Central door lock, Central door lock wit...</td>\n",
       "      <td>[Alloy wheels (16\"), Trailer hitch]</td>\n",
       "      <td>[\\n1,357 kg\\n]</td>\n",
       "      <td>NaN</td>\n",
       "      <td>08/2023</td>\n",
       "      <td>NaN</td>\n",
       "      <td>Yes</td>\n",
       "      <td>NaN</td>\n",
       "      <td>Euro 4</td>\n",
       "      <td>NaN</td>\n",
       "      <td>NaN</td>\n",
       "      <td>NaN</td>\n",
       "      <td>NaN</td>\n",
       "      <td>NaN</td>\n",
       "      <td>NaN</td>\n",
       "      <td>NaN</td>\n",
       "      <td>NaN</td>\n",
       "      <td>NaN</td>\n",
       "      <td>NaN</td>\n",
       "      <td>NaN</td>\n",
       "      <td>NaN</td>\n",
       "      <td>NaN</td>\n",
       "      <td>NaN</td>\n",
       "      <td>NaN</td>\n",
       "      <td>NaN</td>\n",
       "      <td>NaN</td>\n",
       "      <td>NaN</td>\n",
       "    </tr>\n",
       "    <tr>\n",
       "      <th>29476</th>\n",
       "      <td>Volvo C30</td>\n",
       "      <td>1.6 D DRIVe Start/Stop R-design</td>\n",
       "      <td>\\nVolvo\\n</td>\n",
       "      <td>[\\n, C30 ,\\n]</td>\n",
       "      <td>Sur rendez-vous,  5060 Sambreville, BE</td>\n",
       "      <td>€ 7,300.-</td>\n",
       "      <td>[\\n, Sedan, \\n]</td>\n",
       "      <td>[\\n, Used, \\n]</td>\n",
       "      <td>[\\n, 3, \\n]</td>\n",
       "      <td>[\\n, Belgium, \\n]</td>\n",
       "      <td>NaN</td>\n",
       "      <td>[\\n, 13 months, \\n]</td>\n",
       "      <td>96,000 km</td>\n",
       "      <td>04/2011</td>\n",
       "      <td>[\\nManual\\n]</td>\n",
       "      <td>Diesel (Particle filter)</td>\n",
       "      <td>Grey</td>\n",
       "      <td>Metallic</td>\n",
       "      <td>[*** VOLVO C30 2011 TRES PROPRE EN PARFAIT ETA...</td>\n",
       "      <td>Dealer</td>\n",
       "      <td>[\\n, 4, \\n]</td>\n",
       "      <td>[\\n84 kW (114 hp)\\n]</td>\n",
       "      <td>[\\n1,560 cc\\n]</td>\n",
       "      <td>[\\n6\\n]</td>\n",
       "      <td>99 g/km (comb.)</td>\n",
       "      <td>NaN</td>\n",
       "      <td>[\\n, Front, \\n]</td>\n",
       "      <td>[\\n4\\n]</td>\n",
       "      <td>[[3.8 l/100 km (comb.)], [4.3 l/100 km (city)]...</td>\n",
       "      <td>[Air conditioning, Armrest, Automatic climate ...</td>\n",
       "      <td>[Bluetooth, CD player, Hands-free equipment, M...</td>\n",
       "      <td>[ABS, Alarm system, Central door lock with rem...</td>\n",
       "      <td>[Alloy wheels, Automatically dimming interior ...</td>\n",
       "      <td>[\\n1,356 kg\\n]</td>\n",
       "      <td>NaN</td>\n",
       "      <td>NaN</td>\n",
       "      <td>NaN</td>\n",
       "      <td>Yes</td>\n",
       "      <td>NaN</td>\n",
       "      <td>Euro 5</td>\n",
       "      <td>NaN</td>\n",
       "      <td>Black</td>\n",
       "      <td>NaN</td>\n",
       "      <td>NaN</td>\n",
       "      <td>[[96,000 km, 04/2011], 1]</td>\n",
       "      <td>NaN</td>\n",
       "      <td>NaN</td>\n",
       "      <td>NaN</td>\n",
       "      <td>NaN</td>\n",
       "      <td>NaN</td>\n",
       "      <td>NaN</td>\n",
       "      <td>NaN</td>\n",
       "      <td>NaN</td>\n",
       "      <td>NaN</td>\n",
       "      <td>NaN</td>\n",
       "      <td>NaN</td>\n",
       "      <td>NaN</td>\n",
       "      <td>NaN</td>\n",
       "    </tr>\n",
       "    <tr>\n",
       "      <th>29477</th>\n",
       "      <td>Volvo S90</td>\n",
       "      <td>T5 AUT(8) MOMENTUM BUSINESS SCHUIFDAK 360GR CA...</td>\n",
       "      <td>\\nVolvo\\n</td>\n",
       "      <td>[\\n, S90 ,\\n]</td>\n",
       "      <td>Bergambachterstraat 5,  2871 JB SCHOONHOVEN, NL</td>\n",
       "      <td>€ 29,900.-</td>\n",
       "      <td>[\\n, Sedan, \\n]</td>\n",
       "      <td>[\\n, Used, \\n]</td>\n",
       "      <td>[\\n, 4, \\n]</td>\n",
       "      <td>NaN</td>\n",
       "      <td>[\\n, 2791, \\n]</td>\n",
       "      <td>[\\n, 12 months, \\n]</td>\n",
       "      <td>94,343 km</td>\n",
       "      <td>11/2017</td>\n",
       "      <td>[\\nAutomatic\\n]</td>\n",
       "      <td>Gasoline</td>\n",
       "      <td>Blue</td>\n",
       "      <td>Metallic</td>\n",
       "      <td>[Bekijk deze auto in unieke 360 graden present...</td>\n",
       "      <td>Dealer</td>\n",
       "      <td>[\\n, 5, \\n]</td>\n",
       "      <td>[\\n187 kW (254 hp)\\n]</td>\n",
       "      <td>[\\n1,969 cc\\n]</td>\n",
       "      <td>[\\n8\\n]</td>\n",
       "      <td>149 g/km (comb.)</td>\n",
       "      <td>Denim Blue metallic (blauw met</td>\n",
       "      <td>NaN</td>\n",
       "      <td>[\\n4\\n]</td>\n",
       "      <td>[[6.5 l/100 km (comb.)], [8.6 l/100 km (city)]...</td>\n",
       "      <td>[Air conditioning, Armrest, Automatic climate ...</td>\n",
       "      <td>[Android Auto, Apple CarPlay, Bluetooth, Hands...</td>\n",
       "      <td>[Adaptive Cruise Control, Adaptive headlights,...</td>\n",
       "      <td>[Alloy wheels (18\"), Automatically dimming int...</td>\n",
       "      <td>[\\n1,617 kg\\n]</td>\n",
       "      <td>NaN</td>\n",
       "      <td>New</td>\n",
       "      <td>NaN</td>\n",
       "      <td>Yes</td>\n",
       "      <td>NaN</td>\n",
       "      <td>Euro 6</td>\n",
       "      <td>NaN</td>\n",
       "      <td>Other</td>\n",
       "      <td>Full leather</td>\n",
       "      <td>NaN</td>\n",
       "      <td>NaN</td>\n",
       "      <td>NaN</td>\n",
       "      <td>NaN</td>\n",
       "      <td>NaN</td>\n",
       "      <td>NaN</td>\n",
       "      <td>NaN</td>\n",
       "      <td>NaN</td>\n",
       "      <td>NaN</td>\n",
       "      <td>NaN</td>\n",
       "      <td>NaN</td>\n",
       "      <td>NaN</td>\n",
       "      <td>NaN</td>\n",
       "      <td>NaN</td>\n",
       "      <td>NaN</td>\n",
       "    </tr>\n",
       "    <tr>\n",
       "      <th>29478</th>\n",
       "      <td>Volvo S80</td>\n",
       "      <td>2.9 Executive G. NETTE AUTO! LEER! NAVI! CRUIS...</td>\n",
       "      <td>\\nVolvo\\n</td>\n",
       "      <td>[\\n, S80 ,\\n]</td>\n",
       "      <td>Lage Ham 106,  5102 AE DONGEN, NL</td>\n",
       "      <td>€ 4,440.-</td>\n",
       "      <td>[\\n, Sedan, \\n]</td>\n",
       "      <td>[\\n, Used, \\n]</td>\n",
       "      <td>[\\n, 4, \\n]</td>\n",
       "      <td>NaN</td>\n",
       "      <td>[\\n, 43-JR-LR, \\n]</td>\n",
       "      <td>NaN</td>\n",
       "      <td>230,047 km</td>\n",
       "      <td>07/2002</td>\n",
       "      <td>[\\nAutomatic\\n]</td>\n",
       "      <td>Super 95</td>\n",
       "      <td>Grey</td>\n",
       "      <td>NaN</td>\n",
       "      <td>[YOUNGTIMER !, Bedrijfsinformatie, NEEM VOOR U...</td>\n",
       "      <td>Dealer</td>\n",
       "      <td>[\\n, 5, \\n]</td>\n",
       "      <td>[\\n147 kW (200 hp)\\n]</td>\n",
       "      <td>[\\n2,922 cc\\n]</td>\n",
       "      <td>NaN</td>\n",
       "      <td>251 g/km (comb.)</td>\n",
       "      <td>Grijs</td>\n",
       "      <td>[\\n, Front, \\n]</td>\n",
       "      <td>[\\n6\\n]</td>\n",
       "      <td>[[10.4 l/100 km (comb.)], [15.3 l/100 km (city...</td>\n",
       "      <td>[Air conditioning, Armrest, Cruise control, El...</td>\n",
       "      <td>[On-board computer]</td>\n",
       "      <td>[ABS, Alarm system, Central door lock, Central...</td>\n",
       "      <td>[Alloy wheels, Automatically dimming interior ...</td>\n",
       "      <td>[\\n1,573 kg\\n]</td>\n",
       "      <td>NaN</td>\n",
       "      <td>05/2023</td>\n",
       "      <td>NaN</td>\n",
       "      <td>NaN</td>\n",
       "      <td>NaN</td>\n",
       "      <td>Euro 3</td>\n",
       "      <td>NaN</td>\n",
       "      <td>Beige</td>\n",
       "      <td>Full leather</td>\n",
       "      <td>NaN</td>\n",
       "      <td>[[230,047 km, 07/2002], 5]</td>\n",
       "      <td>NaN</td>\n",
       "      <td>NaN</td>\n",
       "      <td>NaN</td>\n",
       "      <td>NaN</td>\n",
       "      <td>NaN</td>\n",
       "      <td>NaN</td>\n",
       "      <td>NaN</td>\n",
       "      <td>NaN</td>\n",
       "      <td>NaN</td>\n",
       "      <td>NaN</td>\n",
       "      <td>NaN</td>\n",
       "      <td>NaN</td>\n",
       "      <td>NaN</td>\n",
       "    </tr>\n",
       "    <tr>\n",
       "      <th>29479</th>\n",
       "      <td>NaN</td>\n",
       "      <td>NaN</td>\n",
       "      <td>NaN</td>\n",
       "      <td>NaN</td>\n",
       "      <td>NaN</td>\n",
       "      <td>NaN</td>\n",
       "      <td>NaN</td>\n",
       "      <td>NaN</td>\n",
       "      <td>NaN</td>\n",
       "      <td>NaN</td>\n",
       "      <td>NaN</td>\n",
       "      <td>NaN</td>\n",
       "      <td>NaN</td>\n",
       "      <td>NaN</td>\n",
       "      <td>NaN</td>\n",
       "      <td>NaN</td>\n",
       "      <td>NaN</td>\n",
       "      <td>NaN</td>\n",
       "      <td>NaN</td>\n",
       "      <td>NaN</td>\n",
       "      <td>NaN</td>\n",
       "      <td>NaN</td>\n",
       "      <td>NaN</td>\n",
       "      <td>NaN</td>\n",
       "      <td>NaN</td>\n",
       "      <td>NaN</td>\n",
       "      <td>NaN</td>\n",
       "      <td>NaN</td>\n",
       "      <td>NaN</td>\n",
       "      <td>NaN</td>\n",
       "      <td>NaN</td>\n",
       "      <td>NaN</td>\n",
       "      <td>NaN</td>\n",
       "      <td>NaN</td>\n",
       "      <td>NaN</td>\n",
       "      <td>NaN</td>\n",
       "      <td>NaN</td>\n",
       "      <td>NaN</td>\n",
       "      <td>NaN</td>\n",
       "      <td>NaN</td>\n",
       "      <td>NaN</td>\n",
       "      <td>NaN</td>\n",
       "      <td>NaN</td>\n",
       "      <td>NaN</td>\n",
       "      <td>NaN</td>\n",
       "      <td>NaN</td>\n",
       "      <td>NaN</td>\n",
       "      <td>NaN</td>\n",
       "      <td>NaN</td>\n",
       "      <td>NaN</td>\n",
       "      <td>NaN</td>\n",
       "      <td>NaN</td>\n",
       "      <td>NaN</td>\n",
       "      <td>NaN</td>\n",
       "      <td>NaN</td>\n",
       "      <td>NaN</td>\n",
       "      <td>NaN</td>\n",
       "      <td>NaN</td>\n",
       "    </tr>\n",
       "  </tbody>\n",
       "</table>\n",
       "<p>29480 rows × 58 columns</p>\n",
       "</div>"
      ],
      "text/plain": [
       "                   make_model  \\\n",
       "0         Mercedes-Benz A 160   \n",
       "1       Mercedes-Benz EQE 350   \n",
       "2      Mercedes-Benz A 45 AMG   \n",
       "3      Mercedes-Benz A 35 AMG   \n",
       "4      Mercedes-Benz A 45 AMG   \n",
       "...                       ...   \n",
       "29475               Volvo S40   \n",
       "29476               Volvo C30   \n",
       "29477               Volvo S90   \n",
       "29478               Volvo S80   \n",
       "29479                     NaN   \n",
       "\n",
       "                                       short_description               make  \\\n",
       "0                                                    CDi  \\nMercedes-Benz\\n   \n",
       "1                                                   350+  \\nMercedes-Benz\\n   \n",
       "2                                       S 4Matic+ 8G-DCT  \\nMercedes-Benz\\n   \n",
       "3                                         4Matic+ 7G-DCT  \\nMercedes-Benz\\n   \n",
       "4                               200CDI BE Line 4M 7G-DCT  \\nMercedes-Benz\\n   \n",
       "...                                                  ...                ...   \n",
       "29475        2.4i Momentum/ Airco/ NAP/ APK/ Elek. Ramen          \\nVolvo\\n   \n",
       "29476                    1.6 D DRIVe Start/Stop R-design          \\nVolvo\\n   \n",
       "29477  T5 AUT(8) MOMENTUM BUSINESS SCHUIFDAK 360GR CA...          \\nVolvo\\n   \n",
       "29478  2.9 Executive G. NETTE AUTO! LEER! NAVI! CRUIS...          \\nVolvo\\n   \n",
       "29479                                                NaN                NaN   \n",
       "\n",
       "                    model                                           location  \\\n",
       "0         [\\n, A 160 ,\\n]  P.I. EL PALMAR C/FORJA 6,  11500 PUERTO DE SAN...   \n",
       "1       [\\n, EQE 350 ,\\n]       APARTADO DE CORREOS 1032,  26140 LOGROÑO, ES   \n",
       "2      [\\n, A 45 AMG ,\\n]  PORT. TARRACO, MOLL DE LLEVANT, Nº 5, LOC. 6-8...   \n",
       "3      [\\n, A 35 AMG ,\\n]  Carrer de Provença, 31 Local,  8029 BARCELONA, ES   \n",
       "4      [\\n, A 45 AMG ,\\n]             CARRIL ARAGONES 4,  30007 CASILLAS, ES   \n",
       "...                   ...                                                ...   \n",
       "29475       [\\n, S40 ,\\n]                  Stobbeweg 6,  2461 EX TER AAR, NL   \n",
       "29476       [\\n, C30 ,\\n]             Sur rendez-vous,  5060 Sambreville, BE   \n",
       "29477       [\\n, S90 ,\\n]    Bergambachterstraat 5,  2871 JB SCHOONHOVEN, NL   \n",
       "29478       [\\n, S80 ,\\n]                  Lage Ham 106,  5102 AE DONGEN, NL   \n",
       "29479                 NaN                                                NaN   \n",
       "\n",
       "            price          Body type                      Type        Doors  \\\n",
       "0      € 16,950.-  [\\n, Compact, \\n]            [\\n, Used, \\n]  [\\n, 5, \\n]   \n",
       "1      € 80,900.-  [\\n, Compact, \\n]  [\\n, Pre-registered, \\n]  [\\n, 4, \\n]   \n",
       "2      € 69,900.-  [\\n, Compact, \\n]            [\\n, Used, \\n]  [\\n, 5, \\n]   \n",
       "3      € 46,990.-  [\\n, Compact, \\n]            [\\n, Used, \\n]  [\\n, 5, \\n]   \n",
       "4      € 16,800.-  [\\n, Compact, \\n]            [\\n, Used, \\n]  [\\n, 5, \\n]   \n",
       "...           ...                ...                       ...          ...   \n",
       "29475   € 5,499.-    [\\n, Sedan, \\n]            [\\n, Used, \\n]  [\\n, 4, \\n]   \n",
       "29476   € 7,300.-    [\\n, Sedan, \\n]            [\\n, Used, \\n]  [\\n, 3, \\n]   \n",
       "29477  € 29,900.-    [\\n, Sedan, \\n]            [\\n, Used, \\n]  [\\n, 4, \\n]   \n",
       "29478   € 4,440.-    [\\n, Sedan, \\n]            [\\n, Used, \\n]  [\\n, 4, \\n]   \n",
       "29479         NaN                NaN                       NaN          NaN   \n",
       "\n",
       "         Country version        Offer number             Warranty     Mileage  \\\n",
       "0        [\\n, Spain, \\n]   [\\n, 7468157, \\n]  [\\n, 24 months, \\n]  120,200 km   \n",
       "1        [\\n, Spain, \\n]   [\\n, 7054863, \\n]  [\\n, 24 months, \\n]    5,000 km   \n",
       "2        [\\n, Spain, \\n]   [\\n, 7410454, \\n]  [\\n, 12 months, \\n]   18,900 km   \n",
       "3        [\\n, Spain, \\n]   [\\n, 7464503, \\n]  [\\n, 12 months, \\n]   18,995 km   \n",
       "4        [\\n, Spain, \\n]   [\\n, 7127931, \\n]  [\\n, 12 months, \\n]  197,000 km   \n",
       "...                  ...                 ...                  ...         ...   \n",
       "29475                NaN  [\\n, 09-PF-XS, \\n]                  NaN  145,000 km   \n",
       "29476  [\\n, Belgium, \\n]                 NaN  [\\n, 13 months, \\n]   96,000 km   \n",
       "29477                NaN      [\\n, 2791, \\n]  [\\n, 12 months, \\n]   94,343 km   \n",
       "29478                NaN  [\\n, 43-JR-LR, \\n]                  NaN  230,047 km   \n",
       "29479                NaN                 NaN                  NaN         NaN   \n",
       "\n",
       "      First registration          Gearbox                 Fuel type  Colour  \\\n",
       "0                06/2016     [\\nManual\\n]                    Diesel   Black   \n",
       "1                06/2022  [\\nAutomatic\\n]                  Electric     NaN   \n",
       "2                07/2020  [\\nAutomatic\\n]                  Gasoline    Grey   \n",
       "3                01/2020  [\\nAutomatic\\n]                  Gasoline  Yellow   \n",
       "4                09/2015  [\\nAutomatic\\n]                    Diesel   White   \n",
       "...                  ...              ...                       ...     ...   \n",
       "29475            06/2004  [\\nAutomatic\\n]                  Gasoline    Grey   \n",
       "29476            04/2011     [\\nManual\\n]  Diesel (Particle filter)    Grey   \n",
       "29477            11/2017  [\\nAutomatic\\n]                  Gasoline    Blue   \n",
       "29478            07/2002  [\\nAutomatic\\n]                  Super 95    Grey   \n",
       "29479                NaN              NaN                       NaN     NaN   \n",
       "\n",
       "          Paint                                               desc  seller  \\\n",
       "0      Metallic  [ , Precio al contado: 16950 euros,  ,  , Vehí...  Dealer   \n",
       "1           NaN  [ , Precio al contado: 88900 euros,  , AUTO OJ...  Dealer   \n",
       "2           NaN  [Gris MANUFAKTUR mountaingrau magno,  , Linea/...  Dealer   \n",
       "3           NaN  [ , Precio al contado: 48990 euros,  ,  , BONI...  Dealer   \n",
       "4      Metallic  [ , Precio al contado: 17400 euros,  , Vehícul...  Dealer   \n",
       "...         ...                                                ...     ...   \n",
       "29475       NaN  [Een goed rijdende auto met APK + NAP + Elektr...  Dealer   \n",
       "29476  Metallic  [*** VOLVO C30 2011 TRES PROPRE EN PARFAIT ETA...  Dealer   \n",
       "29477  Metallic  [Bekijk deze auto in unieke 360 graden present...  Dealer   \n",
       "29478       NaN  [YOUNGTIMER !, Bedrijfsinformatie, NEEM VOOR U...  Dealer   \n",
       "29479       NaN                                                NaN     NaN   \n",
       "\n",
       "             Seats                  Power     Engine size    Gears  \\\n",
       "0              NaN                    NaN             NaN      NaN   \n",
       "1      [\\n, 5, \\n]  [\\n215 kW (292 hp)\\n]      [\\n1 cc\\n]  [\\n9\\n]   \n",
       "2      [\\n, 5, \\n]  [\\n310 kW (421 hp)\\n]  [\\n1,991 cc\\n]  [\\n8\\n]   \n",
       "3      [\\n, 5, \\n]  [\\n225 kW (306 hp)\\n]  [\\n1,991 cc\\n]  [\\n7\\n]   \n",
       "4      [\\n, 5, \\n]  [\\n100 kW (136 hp)\\n]  [\\n2,143 cc\\n]  [\\n7\\n]   \n",
       "...            ...                    ...             ...      ...   \n",
       "29475  [\\n, 5, \\n]  [\\n125 kW (170 hp)\\n]  [\\n2,435 cc\\n]  [\\n5\\n]   \n",
       "29476  [\\n, 4, \\n]   [\\n84 kW (114 hp)\\n]  [\\n1,560 cc\\n]  [\\n6\\n]   \n",
       "29477  [\\n, 5, \\n]  [\\n187 kW (254 hp)\\n]  [\\n1,969 cc\\n]  [\\n8\\n]   \n",
       "29478  [\\n, 5, \\n]  [\\n147 kW (200 hp)\\n]  [\\n2,922 cc\\n]      NaN   \n",
       "29479          NaN                    NaN             NaN      NaN   \n",
       "\n",
       "          CO₂-emissions             Manufacturer colour       Drivetrain  \\\n",
       "0                   NaN                             NaN              NaN   \n",
       "1        0 g/km (comb.)                 Negro Obsidiana              NaN   \n",
       "2                   NaN              Mountaingrau magno    [\\n, 4WD, \\n]   \n",
       "3                   NaN                    Amarillo Sol    [\\n, 4WD, \\n]   \n",
       "4                   NaN                             NaN    [\\n, 4WD, \\n]   \n",
       "...                 ...                             ...              ...   \n",
       "29475  217 g/km (comb.)                           Grijs  [\\n, Front, \\n]   \n",
       "29476   99 g/km (comb.)                             NaN  [\\n, Front, \\n]   \n",
       "29477  149 g/km (comb.)  Denim Blue metallic (blauw met              NaN   \n",
       "29478  251 g/km (comb.)                           Grijs  [\\n, Front, \\n]   \n",
       "29479               NaN                             NaN              NaN   \n",
       "\n",
       "      Cylinders                                   Fuel consumption  \\\n",
       "0           NaN                                                NaN   \n",
       "1           NaN                                                NaN   \n",
       "2       [\\n4\\n]  [[8.4 l/100 km (comb.)], [10.9 l/100 km (city)...   \n",
       "3       [\\n4\\n]  [[7.3 l/100 km (comb.)], [9.3 l/100 km (city)]...   \n",
       "4       [\\n4\\n]  [[4.9 l/100 km (comb.)], [5.7 l/100 km (city)]...   \n",
       "...         ...                                                ...   \n",
       "29475   [\\n5\\n]  [[9.1 l/100 km (comb.)], [13.2 l/100 km (city)...   \n",
       "29476   [\\n4\\n]  [[3.8 l/100 km (comb.)], [4.3 l/100 km (city)]...   \n",
       "29477   [\\n4\\n]  [[6.5 l/100 km (comb.)], [8.6 l/100 km (city)]...   \n",
       "29478   [\\n6\\n]  [[10.4 l/100 km (comb.)], [15.3 l/100 km (city...   \n",
       "29479       NaN                                                NaN   \n",
       "\n",
       "                               \\nComfort & Convenience\\n  \\\n",
       "0                                                    NaN   \n",
       "1                                                    NaN   \n",
       "2                                                    NaN   \n",
       "3      [Air conditioning, Automatic climate control, ...   \n",
       "4      [Air conditioning, Electrical side mirrors, Mu...   \n",
       "...                                                  ...   \n",
       "29475  [Air conditioning, Armrest, Automatic climate ...   \n",
       "29476  [Air conditioning, Armrest, Automatic climate ...   \n",
       "29477  [Air conditioning, Armrest, Automatic climate ...   \n",
       "29478  [Air conditioning, Armrest, Cruise control, El...   \n",
       "29479                                                NaN   \n",
       "\n",
       "                               \\nEntertainment & Media\\n  \\\n",
       "0                                                    NaN   \n",
       "1                                                    NaN   \n",
       "2                                                    NaN   \n",
       "3                                                  [USB]   \n",
       "4                       [Bluetooth, CD player, MP3, USB]   \n",
       "...                                                  ...   \n",
       "29475                         [On-board computer, Radio]   \n",
       "29476  [Bluetooth, CD player, Hands-free equipment, M...   \n",
       "29477  [Android Auto, Apple CarPlay, Bluetooth, Hands...   \n",
       "29478                                [On-board computer]   \n",
       "29479                                                NaN   \n",
       "\n",
       "                                   \\nSafety & Security\\n  \\\n",
       "0                                                    NaN   \n",
       "1                                                    NaN   \n",
       "2                                                    NaN   \n",
       "3      [ABS, Central door lock, Driver-side airbag, E...   \n",
       "4      [ABS, Central door lock, Driver-side airbag, E...   \n",
       "...                                                  ...   \n",
       "29475  [ABS, Central door lock, Central door lock wit...   \n",
       "29476  [ABS, Alarm system, Central door lock with rem...   \n",
       "29477  [Adaptive Cruise Control, Adaptive headlights,...   \n",
       "29478  [ABS, Alarm system, Central door lock, Central...   \n",
       "29479                                                NaN   \n",
       "\n",
       "                                              \\nExtras\\n    Empty weight  \\\n",
       "0                                                    NaN             NaN   \n",
       "1                                                    NaN             NaN   \n",
       "2                                                    NaN             NaN   \n",
       "3                                          [Sport seats]             NaN   \n",
       "4                                                    NaN  [\\n1,545 kg\\n]   \n",
       "...                                                  ...             ...   \n",
       "29475                [Alloy wheels (16\"), Trailer hitch]  [\\n1,357 kg\\n]   \n",
       "29476  [Alloy wheels, Automatically dimming interior ...  [\\n1,356 kg\\n]   \n",
       "29477  [Alloy wheels (18\"), Automatically dimming int...  [\\n1,617 kg\\n]   \n",
       "29478  [Alloy wheels, Automatically dimming interior ...  [\\n1,573 kg\\n]   \n",
       "29479                                                NaN             NaN   \n",
       "\n",
       "      Model code General inspection Last service Full service history  \\\n",
       "0            NaN                NaN          NaN                  NaN   \n",
       "1            NaN                NaN          NaN                  NaN   \n",
       "2            NaN                NaN          NaN                  NaN   \n",
       "3            NaN                NaN          NaN                  NaN   \n",
       "4            NaN                NaN          NaN                  NaN   \n",
       "...          ...                ...          ...                  ...   \n",
       "29475        NaN            08/2023          NaN                  Yes   \n",
       "29476        NaN                NaN          NaN                  Yes   \n",
       "29477        NaN                New          NaN                  Yes   \n",
       "29478        NaN            05/2023          NaN                  NaN   \n",
       "29479        NaN                NaN          NaN                  NaN   \n",
       "\n",
       "      Non-smoker vehicle Emission class Emissions sticker Upholstery colour  \\\n",
       "0                    NaN            NaN               NaN               NaN   \n",
       "1                    NaN            NaN               NaN               NaN   \n",
       "2                    NaN            NaN               NaN               NaN   \n",
       "3                    NaN            NaN               NaN               NaN   \n",
       "4                    NaN            NaN               NaN               NaN   \n",
       "...                  ...            ...               ...               ...   \n",
       "29475                NaN         Euro 4               NaN               NaN   \n",
       "29476                NaN         Euro 5               NaN             Black   \n",
       "29477                NaN         Euro 6               NaN             Other   \n",
       "29478                NaN         Euro 3               NaN             Beige   \n",
       "29479                NaN            NaN               NaN               NaN   \n",
       "\n",
       "         Upholstery  Production date              Previous owner  \\\n",
       "0               NaN              NaN                         NaN   \n",
       "1               NaN              NaN                         NaN   \n",
       "2               NaN              NaN                         NaN   \n",
       "3               NaN              NaN                         NaN   \n",
       "4               NaN              NaN                         NaN   \n",
       "...             ...              ...                         ...   \n",
       "29475           NaN              NaN                         NaN   \n",
       "29476           NaN              NaN   [[96,000 km, 04/2011], 1]   \n",
       "29477  Full leather              NaN                         NaN   \n",
       "29478  Full leather              NaN  [[230,047 km, 07/2002], 5]   \n",
       "29479           NaN              NaN                         NaN   \n",
       "\n",
       "      Other fuel types Power consumption Energy efficiency class  \\\n",
       "0                  NaN               NaN                     NaN   \n",
       "1                  NaN               NaN                     NaN   \n",
       "2                  NaN               NaN                     NaN   \n",
       "3                  NaN               NaN                     NaN   \n",
       "4                  NaN               NaN                     NaN   \n",
       "...                ...               ...                     ...   \n",
       "29475              NaN               NaN                     NaN   \n",
       "29476              NaN               NaN                     NaN   \n",
       "29477              NaN               NaN                     NaN   \n",
       "29478              NaN               NaN                     NaN   \n",
       "29479              NaN               NaN                     NaN   \n",
       "\n",
       "      CO₂-efficiency Fuel consumption (WLTP) CO₂-emissions (WLTP)  \\\n",
       "0                NaN                     NaN                  NaN   \n",
       "1                NaN                     NaN                  NaN   \n",
       "2                NaN                     NaN                  NaN   \n",
       "3                NaN                     NaN                  NaN   \n",
       "4                NaN                     NaN                  NaN   \n",
       "...              ...                     ...                  ...   \n",
       "29475            NaN                     NaN                  NaN   \n",
       "29476            NaN                     NaN                  NaN   \n",
       "29477            NaN                     NaN                  NaN   \n",
       "29478            NaN                     NaN                  NaN   \n",
       "29479            NaN                     NaN                  NaN   \n",
       "\n",
       "      Available from Taxi or rental car Availability Last timing belt change  \\\n",
       "0                NaN                NaN          NaN                     NaN   \n",
       "1                NaN                NaN          NaN                     NaN   \n",
       "2                NaN                NaN          NaN                     NaN   \n",
       "3                NaN                NaN          NaN                     NaN   \n",
       "4                NaN                NaN          NaN                     NaN   \n",
       "...              ...                ...          ...                     ...   \n",
       "29475            NaN                NaN          NaN                     NaN   \n",
       "29476            NaN                NaN          NaN                     NaN   \n",
       "29477            NaN                NaN          NaN                     NaN   \n",
       "29478            NaN                NaN          NaN                     NaN   \n",
       "29479            NaN                NaN          NaN                     NaN   \n",
       "\n",
       "      Electric Range (WLTP) Power consumption (WLTP) Battery Ownership  \n",
       "0                       NaN                      NaN               NaN  \n",
       "1                       NaN                      NaN               NaN  \n",
       "2                       NaN                      NaN               NaN  \n",
       "3                       NaN                      NaN               NaN  \n",
       "4                       NaN                      NaN               NaN  \n",
       "...                     ...                      ...               ...  \n",
       "29475                   NaN                      NaN               NaN  \n",
       "29476                   NaN                      NaN               NaN  \n",
       "29477                   NaN                      NaN               NaN  \n",
       "29478                   NaN                      NaN               NaN  \n",
       "29479                   NaN                      NaN               NaN  \n",
       "\n",
       "[29480 rows x 58 columns]"
      ]
     },
     "execution_count": 250,
     "metadata": {},
     "output_type": "execute_result"
    }
   ],
   "source": [
    "df"
   ]
  },
  {
   "cell_type": "markdown",
   "metadata": {},
   "source": [
    "<div style=\"background-color: #f8e57d; padding: 10px; font-size: 14px;\">\n",
    "⚠️ It is noteworthy that ALL values in some of the rows, such as at the index number of 29479, are NaN, as can be seen in the above output.\n",
    "</div>\n",
    "\n",
    "Now let's take a look at how the values in the columns look, how they are preserved, and decide which parts of these values are needed in the analysis. The features/columns that will be used/kept in the analysis are supposed to be cleaned because they look like messy/distorted:\n",
    "\n",
    "- Transpose() method helps us to see all the columns at once."
   ]
  },
  {
   "cell_type": "code",
   "execution_count": 251,
   "metadata": {
    "ExecuteTime": {
     "end_time": "2025-01-16T09:22:11.301353Z",
     "start_time": "2025-01-16T09:22:11.235222Z"
    }
   },
   "outputs": [
    {
     "data": {
      "text/html": [
       "<div>\n",
       "<style scoped>\n",
       "    .dataframe tbody tr th:only-of-type {\n",
       "        vertical-align: middle;\n",
       "    }\n",
       "\n",
       "    .dataframe tbody tr th {\n",
       "        vertical-align: top;\n",
       "    }\n",
       "\n",
       "    .dataframe thead th {\n",
       "        text-align: right;\n",
       "    }\n",
       "</style>\n",
       "<table border=\"1\" class=\"dataframe\">\n",
       "  <thead>\n",
       "    <tr style=\"text-align: right;\">\n",
       "      <th></th>\n",
       "      <th>0</th>\n",
       "      <th>1</th>\n",
       "      <th>2</th>\n",
       "    </tr>\n",
       "  </thead>\n",
       "  <tbody>\n",
       "    <tr>\n",
       "      <th>make_model</th>\n",
       "      <td>Mercedes-Benz A 160</td>\n",
       "      <td>Mercedes-Benz EQE 350</td>\n",
       "      <td>Mercedes-Benz A 45 AMG</td>\n",
       "    </tr>\n",
       "    <tr>\n",
       "      <th>short_description</th>\n",
       "      <td>CDi</td>\n",
       "      <td>350+</td>\n",
       "      <td>S 4Matic+ 8G-DCT</td>\n",
       "    </tr>\n",
       "    <tr>\n",
       "      <th>make</th>\n",
       "      <td>\\nMercedes-Benz\\n</td>\n",
       "      <td>\\nMercedes-Benz\\n</td>\n",
       "      <td>\\nMercedes-Benz\\n</td>\n",
       "    </tr>\n",
       "    <tr>\n",
       "      <th>model</th>\n",
       "      <td>[\\n, A 160 ,\\n]</td>\n",
       "      <td>[\\n, EQE 350 ,\\n]</td>\n",
       "      <td>[\\n, A 45 AMG ,\\n]</td>\n",
       "    </tr>\n",
       "    <tr>\n",
       "      <th>location</th>\n",
       "      <td>P.I. EL PALMAR C/FORJA 6,  11500 PUERTO DE SAN...</td>\n",
       "      <td>APARTADO DE CORREOS 1032,  26140 LOGROÑO, ES</td>\n",
       "      <td>PORT. TARRACO, MOLL DE LLEVANT, Nº 5, LOC. 6-8...</td>\n",
       "    </tr>\n",
       "    <tr>\n",
       "      <th>price</th>\n",
       "      <td>€ 16,950.-</td>\n",
       "      <td>€ 80,900.-</td>\n",
       "      <td>€ 69,900.-</td>\n",
       "    </tr>\n",
       "    <tr>\n",
       "      <th>Body type</th>\n",
       "      <td>[\\n, Compact, \\n]</td>\n",
       "      <td>[\\n, Compact, \\n]</td>\n",
       "      <td>[\\n, Compact, \\n]</td>\n",
       "    </tr>\n",
       "    <tr>\n",
       "      <th>Type</th>\n",
       "      <td>[\\n, Used, \\n]</td>\n",
       "      <td>[\\n, Pre-registered, \\n]</td>\n",
       "      <td>[\\n, Used, \\n]</td>\n",
       "    </tr>\n",
       "    <tr>\n",
       "      <th>Doors</th>\n",
       "      <td>[\\n, 5, \\n]</td>\n",
       "      <td>[\\n, 4, \\n]</td>\n",
       "      <td>[\\n, 5, \\n]</td>\n",
       "    </tr>\n",
       "    <tr>\n",
       "      <th>Country version</th>\n",
       "      <td>[\\n, Spain, \\n]</td>\n",
       "      <td>[\\n, Spain, \\n]</td>\n",
       "      <td>[\\n, Spain, \\n]</td>\n",
       "    </tr>\n",
       "    <tr>\n",
       "      <th>Offer number</th>\n",
       "      <td>[\\n, 7468157, \\n]</td>\n",
       "      <td>[\\n, 7054863, \\n]</td>\n",
       "      <td>[\\n, 7410454, \\n]</td>\n",
       "    </tr>\n",
       "    <tr>\n",
       "      <th>Warranty</th>\n",
       "      <td>[\\n, 24 months, \\n]</td>\n",
       "      <td>[\\n, 24 months, \\n]</td>\n",
       "      <td>[\\n, 12 months, \\n]</td>\n",
       "    </tr>\n",
       "    <tr>\n",
       "      <th>Mileage</th>\n",
       "      <td>120,200 km</td>\n",
       "      <td>5,000 km</td>\n",
       "      <td>18,900 km</td>\n",
       "    </tr>\n",
       "    <tr>\n",
       "      <th>First registration</th>\n",
       "      <td>06/2016</td>\n",
       "      <td>06/2022</td>\n",
       "      <td>07/2020</td>\n",
       "    </tr>\n",
       "    <tr>\n",
       "      <th>Gearbox</th>\n",
       "      <td>[\\nManual\\n]</td>\n",
       "      <td>[\\nAutomatic\\n]</td>\n",
       "      <td>[\\nAutomatic\\n]</td>\n",
       "    </tr>\n",
       "    <tr>\n",
       "      <th>Fuel type</th>\n",
       "      <td>Diesel</td>\n",
       "      <td>Electric</td>\n",
       "      <td>Gasoline</td>\n",
       "    </tr>\n",
       "    <tr>\n",
       "      <th>Colour</th>\n",
       "      <td>Black</td>\n",
       "      <td>NaN</td>\n",
       "      <td>Grey</td>\n",
       "    </tr>\n",
       "    <tr>\n",
       "      <th>Paint</th>\n",
       "      <td>Metallic</td>\n",
       "      <td>NaN</td>\n",
       "      <td>NaN</td>\n",
       "    </tr>\n",
       "    <tr>\n",
       "      <th>desc</th>\n",
       "      <td>[ , Precio al contado: 16950 euros,  ,  , Vehí...</td>\n",
       "      <td>[ , Precio al contado: 88900 euros,  , AUTO OJ...</td>\n",
       "      <td>[Gris MANUFAKTUR mountaingrau magno,  , Linea/...</td>\n",
       "    </tr>\n",
       "    <tr>\n",
       "      <th>seller</th>\n",
       "      <td>Dealer</td>\n",
       "      <td>Dealer</td>\n",
       "      <td>Dealer</td>\n",
       "    </tr>\n",
       "    <tr>\n",
       "      <th>Seats</th>\n",
       "      <td>NaN</td>\n",
       "      <td>[\\n, 5, \\n]</td>\n",
       "      <td>[\\n, 5, \\n]</td>\n",
       "    </tr>\n",
       "    <tr>\n",
       "      <th>Power</th>\n",
       "      <td>NaN</td>\n",
       "      <td>[\\n215 kW (292 hp)\\n]</td>\n",
       "      <td>[\\n310 kW (421 hp)\\n]</td>\n",
       "    </tr>\n",
       "    <tr>\n",
       "      <th>Engine size</th>\n",
       "      <td>NaN</td>\n",
       "      <td>[\\n1 cc\\n]</td>\n",
       "      <td>[\\n1,991 cc\\n]</td>\n",
       "    </tr>\n",
       "    <tr>\n",
       "      <th>Gears</th>\n",
       "      <td>NaN</td>\n",
       "      <td>[\\n9\\n]</td>\n",
       "      <td>[\\n8\\n]</td>\n",
       "    </tr>\n",
       "    <tr>\n",
       "      <th>CO₂-emissions</th>\n",
       "      <td>NaN</td>\n",
       "      <td>0 g/km (comb.)</td>\n",
       "      <td>NaN</td>\n",
       "    </tr>\n",
       "    <tr>\n",
       "      <th>Manufacturer colour</th>\n",
       "      <td>NaN</td>\n",
       "      <td>Negro Obsidiana</td>\n",
       "      <td>Mountaingrau magno</td>\n",
       "    </tr>\n",
       "    <tr>\n",
       "      <th>Drivetrain</th>\n",
       "      <td>NaN</td>\n",
       "      <td>NaN</td>\n",
       "      <td>[\\n, 4WD, \\n]</td>\n",
       "    </tr>\n",
       "    <tr>\n",
       "      <th>Cylinders</th>\n",
       "      <td>NaN</td>\n",
       "      <td>NaN</td>\n",
       "      <td>[\\n4\\n]</td>\n",
       "    </tr>\n",
       "    <tr>\n",
       "      <th>Fuel consumption</th>\n",
       "      <td>NaN</td>\n",
       "      <td>NaN</td>\n",
       "      <td>[[8.4 l/100 km (comb.)], [10.9 l/100 km (city)...</td>\n",
       "    </tr>\n",
       "    <tr>\n",
       "      <th>\\nComfort &amp; Convenience\\n</th>\n",
       "      <td>NaN</td>\n",
       "      <td>NaN</td>\n",
       "      <td>NaN</td>\n",
       "    </tr>\n",
       "    <tr>\n",
       "      <th>\\nEntertainment &amp; Media\\n</th>\n",
       "      <td>NaN</td>\n",
       "      <td>NaN</td>\n",
       "      <td>NaN</td>\n",
       "    </tr>\n",
       "    <tr>\n",
       "      <th>\\nSafety &amp; Security\\n</th>\n",
       "      <td>NaN</td>\n",
       "      <td>NaN</td>\n",
       "      <td>NaN</td>\n",
       "    </tr>\n",
       "    <tr>\n",
       "      <th>\\nExtras\\n</th>\n",
       "      <td>NaN</td>\n",
       "      <td>NaN</td>\n",
       "      <td>NaN</td>\n",
       "    </tr>\n",
       "    <tr>\n",
       "      <th>Empty weight</th>\n",
       "      <td>NaN</td>\n",
       "      <td>NaN</td>\n",
       "      <td>NaN</td>\n",
       "    </tr>\n",
       "    <tr>\n",
       "      <th>Model code</th>\n",
       "      <td>NaN</td>\n",
       "      <td>NaN</td>\n",
       "      <td>NaN</td>\n",
       "    </tr>\n",
       "    <tr>\n",
       "      <th>General inspection</th>\n",
       "      <td>NaN</td>\n",
       "      <td>NaN</td>\n",
       "      <td>NaN</td>\n",
       "    </tr>\n",
       "    <tr>\n",
       "      <th>Last service</th>\n",
       "      <td>NaN</td>\n",
       "      <td>NaN</td>\n",
       "      <td>NaN</td>\n",
       "    </tr>\n",
       "    <tr>\n",
       "      <th>Full service history</th>\n",
       "      <td>NaN</td>\n",
       "      <td>NaN</td>\n",
       "      <td>NaN</td>\n",
       "    </tr>\n",
       "    <tr>\n",
       "      <th>Non-smoker vehicle</th>\n",
       "      <td>NaN</td>\n",
       "      <td>NaN</td>\n",
       "      <td>NaN</td>\n",
       "    </tr>\n",
       "    <tr>\n",
       "      <th>Emission class</th>\n",
       "      <td>NaN</td>\n",
       "      <td>NaN</td>\n",
       "      <td>NaN</td>\n",
       "    </tr>\n",
       "    <tr>\n",
       "      <th>Emissions sticker</th>\n",
       "      <td>NaN</td>\n",
       "      <td>NaN</td>\n",
       "      <td>NaN</td>\n",
       "    </tr>\n",
       "    <tr>\n",
       "      <th>Upholstery colour</th>\n",
       "      <td>NaN</td>\n",
       "      <td>NaN</td>\n",
       "      <td>NaN</td>\n",
       "    </tr>\n",
       "    <tr>\n",
       "      <th>Upholstery</th>\n",
       "      <td>NaN</td>\n",
       "      <td>NaN</td>\n",
       "      <td>NaN</td>\n",
       "    </tr>\n",
       "    <tr>\n",
       "      <th>Production date</th>\n",
       "      <td>NaN</td>\n",
       "      <td>NaN</td>\n",
       "      <td>NaN</td>\n",
       "    </tr>\n",
       "    <tr>\n",
       "      <th>Previous owner</th>\n",
       "      <td>NaN</td>\n",
       "      <td>NaN</td>\n",
       "      <td>NaN</td>\n",
       "    </tr>\n",
       "    <tr>\n",
       "      <th>Other fuel types</th>\n",
       "      <td>NaN</td>\n",
       "      <td>NaN</td>\n",
       "      <td>NaN</td>\n",
       "    </tr>\n",
       "    <tr>\n",
       "      <th>Power consumption</th>\n",
       "      <td>NaN</td>\n",
       "      <td>NaN</td>\n",
       "      <td>NaN</td>\n",
       "    </tr>\n",
       "    <tr>\n",
       "      <th>Energy efficiency class</th>\n",
       "      <td>NaN</td>\n",
       "      <td>NaN</td>\n",
       "      <td>NaN</td>\n",
       "    </tr>\n",
       "    <tr>\n",
       "      <th>CO₂-efficiency</th>\n",
       "      <td>NaN</td>\n",
       "      <td>NaN</td>\n",
       "      <td>NaN</td>\n",
       "    </tr>\n",
       "    <tr>\n",
       "      <th>Fuel consumption (WLTP)</th>\n",
       "      <td>NaN</td>\n",
       "      <td>NaN</td>\n",
       "      <td>NaN</td>\n",
       "    </tr>\n",
       "    <tr>\n",
       "      <th>CO₂-emissions (WLTP)</th>\n",
       "      <td>NaN</td>\n",
       "      <td>NaN</td>\n",
       "      <td>NaN</td>\n",
       "    </tr>\n",
       "    <tr>\n",
       "      <th>Available from</th>\n",
       "      <td>NaN</td>\n",
       "      <td>NaN</td>\n",
       "      <td>NaN</td>\n",
       "    </tr>\n",
       "    <tr>\n",
       "      <th>Taxi or rental car</th>\n",
       "      <td>NaN</td>\n",
       "      <td>NaN</td>\n",
       "      <td>NaN</td>\n",
       "    </tr>\n",
       "    <tr>\n",
       "      <th>Availability</th>\n",
       "      <td>NaN</td>\n",
       "      <td>NaN</td>\n",
       "      <td>NaN</td>\n",
       "    </tr>\n",
       "    <tr>\n",
       "      <th>Last timing belt change</th>\n",
       "      <td>NaN</td>\n",
       "      <td>NaN</td>\n",
       "      <td>NaN</td>\n",
       "    </tr>\n",
       "    <tr>\n",
       "      <th>Electric Range (WLTP)</th>\n",
       "      <td>NaN</td>\n",
       "      <td>NaN</td>\n",
       "      <td>NaN</td>\n",
       "    </tr>\n",
       "    <tr>\n",
       "      <th>Power consumption (WLTP)</th>\n",
       "      <td>NaN</td>\n",
       "      <td>NaN</td>\n",
       "      <td>NaN</td>\n",
       "    </tr>\n",
       "    <tr>\n",
       "      <th>Battery Ownership</th>\n",
       "      <td>NaN</td>\n",
       "      <td>NaN</td>\n",
       "      <td>NaN</td>\n",
       "    </tr>\n",
       "  </tbody>\n",
       "</table>\n",
       "</div>"
      ],
      "text/plain": [
       "                                                                           0  \\\n",
       "make_model                                               Mercedes-Benz A 160   \n",
       "short_description                                                        CDi   \n",
       "make                                                       \\nMercedes-Benz\\n   \n",
       "model                                                        [\\n, A 160 ,\\n]   \n",
       "location                   P.I. EL PALMAR C/FORJA 6,  11500 PUERTO DE SAN...   \n",
       "price                                                             € 16,950.-   \n",
       "Body type                                                  [\\n, Compact, \\n]   \n",
       "Type                                                          [\\n, Used, \\n]   \n",
       "Doors                                                            [\\n, 5, \\n]   \n",
       "Country version                                              [\\n, Spain, \\n]   \n",
       "Offer number                                               [\\n, 7468157, \\n]   \n",
       "Warranty                                                 [\\n, 24 months, \\n]   \n",
       "Mileage                                                           120,200 km   \n",
       "First registration                                                   06/2016   \n",
       "Gearbox                                                         [\\nManual\\n]   \n",
       "Fuel type                                                             Diesel   \n",
       "Colour                                                                 Black   \n",
       "Paint                                                               Metallic   \n",
       "desc                       [ , Precio al contado: 16950 euros,  ,  , Vehí...   \n",
       "seller                                                                Dealer   \n",
       "Seats                                                                    NaN   \n",
       "Power                                                                    NaN   \n",
       "Engine size                                                              NaN   \n",
       "Gears                                                                    NaN   \n",
       "CO₂-emissions                                                            NaN   \n",
       "Manufacturer colour                                                      NaN   \n",
       "Drivetrain                                                               NaN   \n",
       "Cylinders                                                                NaN   \n",
       "Fuel consumption                                                         NaN   \n",
       "\\nComfort & Convenience\\n                                                NaN   \n",
       "\\nEntertainment & Media\\n                                                NaN   \n",
       "\\nSafety & Security\\n                                                    NaN   \n",
       "\\nExtras\\n                                                               NaN   \n",
       "Empty weight                                                             NaN   \n",
       "Model code                                                               NaN   \n",
       "General inspection                                                       NaN   \n",
       "Last service                                                             NaN   \n",
       "Full service history                                                     NaN   \n",
       "Non-smoker vehicle                                                       NaN   \n",
       "Emission class                                                           NaN   \n",
       "Emissions sticker                                                        NaN   \n",
       "Upholstery colour                                                        NaN   \n",
       "Upholstery                                                               NaN   \n",
       "Production date                                                          NaN   \n",
       "Previous owner                                                           NaN   \n",
       "Other fuel types                                                         NaN   \n",
       "Power consumption                                                        NaN   \n",
       "Energy efficiency class                                                  NaN   \n",
       "CO₂-efficiency                                                           NaN   \n",
       "Fuel consumption (WLTP)                                                  NaN   \n",
       "CO₂-emissions (WLTP)                                                     NaN   \n",
       "Available from                                                           NaN   \n",
       "Taxi or rental car                                                       NaN   \n",
       "Availability                                                             NaN   \n",
       "Last timing belt change                                                  NaN   \n",
       "Electric Range (WLTP)                                                    NaN   \n",
       "Power consumption (WLTP)                                                 NaN   \n",
       "Battery Ownership                                                        NaN   \n",
       "\n",
       "                                                                           1  \\\n",
       "make_model                                             Mercedes-Benz EQE 350   \n",
       "short_description                                                       350+   \n",
       "make                                                       \\nMercedes-Benz\\n   \n",
       "model                                                      [\\n, EQE 350 ,\\n]   \n",
       "location                        APARTADO DE CORREOS 1032,  26140 LOGROÑO, ES   \n",
       "price                                                             € 80,900.-   \n",
       "Body type                                                  [\\n, Compact, \\n]   \n",
       "Type                                                [\\n, Pre-registered, \\n]   \n",
       "Doors                                                            [\\n, 4, \\n]   \n",
       "Country version                                              [\\n, Spain, \\n]   \n",
       "Offer number                                               [\\n, 7054863, \\n]   \n",
       "Warranty                                                 [\\n, 24 months, \\n]   \n",
       "Mileage                                                             5,000 km   \n",
       "First registration                                                   06/2022   \n",
       "Gearbox                                                      [\\nAutomatic\\n]   \n",
       "Fuel type                                                           Electric   \n",
       "Colour                                                                   NaN   \n",
       "Paint                                                                    NaN   \n",
       "desc                       [ , Precio al contado: 88900 euros,  , AUTO OJ...   \n",
       "seller                                                                Dealer   \n",
       "Seats                                                            [\\n, 5, \\n]   \n",
       "Power                                                  [\\n215 kW (292 hp)\\n]   \n",
       "Engine size                                                       [\\n1 cc\\n]   \n",
       "Gears                                                                [\\n9\\n]   \n",
       "CO₂-emissions                                                 0 g/km (comb.)   \n",
       "Manufacturer colour                                          Negro Obsidiana   \n",
       "Drivetrain                                                               NaN   \n",
       "Cylinders                                                                NaN   \n",
       "Fuel consumption                                                         NaN   \n",
       "\\nComfort & Convenience\\n                                                NaN   \n",
       "\\nEntertainment & Media\\n                                                NaN   \n",
       "\\nSafety & Security\\n                                                    NaN   \n",
       "\\nExtras\\n                                                               NaN   \n",
       "Empty weight                                                             NaN   \n",
       "Model code                                                               NaN   \n",
       "General inspection                                                       NaN   \n",
       "Last service                                                             NaN   \n",
       "Full service history                                                     NaN   \n",
       "Non-smoker vehicle                                                       NaN   \n",
       "Emission class                                                           NaN   \n",
       "Emissions sticker                                                        NaN   \n",
       "Upholstery colour                                                        NaN   \n",
       "Upholstery                                                               NaN   \n",
       "Production date                                                          NaN   \n",
       "Previous owner                                                           NaN   \n",
       "Other fuel types                                                         NaN   \n",
       "Power consumption                                                        NaN   \n",
       "Energy efficiency class                                                  NaN   \n",
       "CO₂-efficiency                                                           NaN   \n",
       "Fuel consumption (WLTP)                                                  NaN   \n",
       "CO₂-emissions (WLTP)                                                     NaN   \n",
       "Available from                                                           NaN   \n",
       "Taxi or rental car                                                       NaN   \n",
       "Availability                                                             NaN   \n",
       "Last timing belt change                                                  NaN   \n",
       "Electric Range (WLTP)                                                    NaN   \n",
       "Power consumption (WLTP)                                                 NaN   \n",
       "Battery Ownership                                                        NaN   \n",
       "\n",
       "                                                                           2  \n",
       "make_model                                            Mercedes-Benz A 45 AMG  \n",
       "short_description                                           S 4Matic+ 8G-DCT  \n",
       "make                                                       \\nMercedes-Benz\\n  \n",
       "model                                                     [\\n, A 45 AMG ,\\n]  \n",
       "location                   PORT. TARRACO, MOLL DE LLEVANT, Nº 5, LOC. 6-8...  \n",
       "price                                                             € 69,900.-  \n",
       "Body type                                                  [\\n, Compact, \\n]  \n",
       "Type                                                          [\\n, Used, \\n]  \n",
       "Doors                                                            [\\n, 5, \\n]  \n",
       "Country version                                              [\\n, Spain, \\n]  \n",
       "Offer number                                               [\\n, 7410454, \\n]  \n",
       "Warranty                                                 [\\n, 12 months, \\n]  \n",
       "Mileage                                                            18,900 km  \n",
       "First registration                                                   07/2020  \n",
       "Gearbox                                                      [\\nAutomatic\\n]  \n",
       "Fuel type                                                           Gasoline  \n",
       "Colour                                                                  Grey  \n",
       "Paint                                                                    NaN  \n",
       "desc                       [Gris MANUFAKTUR mountaingrau magno,  , Linea/...  \n",
       "seller                                                                Dealer  \n",
       "Seats                                                            [\\n, 5, \\n]  \n",
       "Power                                                  [\\n310 kW (421 hp)\\n]  \n",
       "Engine size                                                   [\\n1,991 cc\\n]  \n",
       "Gears                                                                [\\n8\\n]  \n",
       "CO₂-emissions                                                            NaN  \n",
       "Manufacturer colour                                       Mountaingrau magno  \n",
       "Drivetrain                                                     [\\n, 4WD, \\n]  \n",
       "Cylinders                                                            [\\n4\\n]  \n",
       "Fuel consumption           [[8.4 l/100 km (comb.)], [10.9 l/100 km (city)...  \n",
       "\\nComfort & Convenience\\n                                                NaN  \n",
       "\\nEntertainment & Media\\n                                                NaN  \n",
       "\\nSafety & Security\\n                                                    NaN  \n",
       "\\nExtras\\n                                                               NaN  \n",
       "Empty weight                                                             NaN  \n",
       "Model code                                                               NaN  \n",
       "General inspection                                                       NaN  \n",
       "Last service                                                             NaN  \n",
       "Full service history                                                     NaN  \n",
       "Non-smoker vehicle                                                       NaN  \n",
       "Emission class                                                           NaN  \n",
       "Emissions sticker                                                        NaN  \n",
       "Upholstery colour                                                        NaN  \n",
       "Upholstery                                                               NaN  \n",
       "Production date                                                          NaN  \n",
       "Previous owner                                                           NaN  \n",
       "Other fuel types                                                         NaN  \n",
       "Power consumption                                                        NaN  \n",
       "Energy efficiency class                                                  NaN  \n",
       "CO₂-efficiency                                                           NaN  \n",
       "Fuel consumption (WLTP)                                                  NaN  \n",
       "CO₂-emissions (WLTP)                                                     NaN  \n",
       "Available from                                                           NaN  \n",
       "Taxi or rental car                                                       NaN  \n",
       "Availability                                                             NaN  \n",
       "Last timing belt change                                                  NaN  \n",
       "Electric Range (WLTP)                                                    NaN  \n",
       "Power consumption (WLTP)                                                 NaN  \n",
       "Battery Ownership                                                        NaN  "
      ]
     },
     "execution_count": 251,
     "metadata": {},
     "output_type": "execute_result"
    }
   ],
   "source": [
    "df.head(3).T"
   ]
  },
  {
   "cell_type": "code",
   "execution_count": 252,
   "metadata": {
    "ExecuteTime": {
     "end_time": "2025-01-16T09:22:11.320383Z",
     "start_time": "2025-01-16T09:22:11.309061Z"
    }
   },
   "outputs": [
    {
     "data": {
      "text/plain": [
       "(29480, 58)"
      ]
     },
     "execution_count": 252,
     "metadata": {},
     "output_type": "execute_result"
    }
   ],
   "source": [
    "df.shape"
   ]
  },
  {
   "cell_type": "code",
   "execution_count": 253,
   "metadata": {
    "ExecuteTime": {
     "end_time": "2025-01-16T09:22:11.587228Z",
     "start_time": "2025-01-16T09:22:11.332944Z"
    }
   },
   "outputs": [
    {
     "name": "stdout",
     "output_type": "stream",
     "text": [
      "<class 'pandas.core.frame.DataFrame'>\n",
      "RangeIndex: 29480 entries, 0 to 29479\n",
      "Data columns (total 58 columns):\n",
      " #   Column                    Non-Null Count  Dtype  \n",
      "---  ------                    --------------  -----  \n",
      " 0   make_model                28630 non-null  object \n",
      " 1   short_description         28630 non-null  object \n",
      " 2   make                      28630 non-null  object \n",
      " 3   model                     28630 non-null  object \n",
      " 4   location                  28630 non-null  object \n",
      " 5   price                     28630 non-null  object \n",
      " 6   Body type                 28630 non-null  object \n",
      " 7   Type                      28630 non-null  object \n",
      " 8   Doors                     28271 non-null  object \n",
      " 9   Country version           16889 non-null  object \n",
      " 10  Offer number              23100 non-null  object \n",
      " 11  Warranty                  15784 non-null  object \n",
      " 12  Mileage                   28629 non-null  object \n",
      " 13  First registration        28628 non-null  object \n",
      " 14  Gearbox                   28382 non-null  object \n",
      " 15  Fuel type                 26843 non-null  object \n",
      " 16  Colour                    26906 non-null  object \n",
      " 17  Paint                     14495 non-null  object \n",
      " 18  desc                      28047 non-null  object \n",
      " 19  seller                    28630 non-null  object \n",
      " 20  Seats                     25505 non-null  object \n",
      " 21  Power                     28058 non-null  object \n",
      " 22  Engine size               27227 non-null  object \n",
      " 23  Gears                     18954 non-null  object \n",
      " 24  CO₂-emissions             18594 non-null  object \n",
      " 25  Manufacturer colour       21787 non-null  object \n",
      " 26  Drivetrain                16893 non-null  object \n",
      " 27  Cylinders                 18852 non-null  object \n",
      " 28  Fuel consumption          23385 non-null  object \n",
      " 29  \n",
      "Comfort & Convenience\n",
      "   25433 non-null  object \n",
      " 30  \n",
      "Entertainment & Media\n",
      "   23644 non-null  object \n",
      " 31  \n",
      "Safety & Security\n",
      "       25415 non-null  object \n",
      " 32  \n",
      "Extras\n",
      "                  23480 non-null  object \n",
      " 33  Empty weight              17758 non-null  object \n",
      " 34  Model code                8367 non-null   object \n",
      " 35  General inspection        12254 non-null  object \n",
      " 36  Last service              2003 non-null   object \n",
      " 37  Full service history      12565 non-null  object \n",
      " 38  Non-smoker vehicle        11594 non-null  object \n",
      " 39  Emission class            17859 non-null  object \n",
      " 40  Emissions sticker         9414 non-null   object \n",
      " 41  Upholstery colour         14569 non-null  object \n",
      " 42  Upholstery                18610 non-null  object \n",
      " 43  Production date           5908 non-null   float64\n",
      " 44  Previous owner            14015 non-null  object \n",
      " 45  Other fuel types          2313 non-null   object \n",
      " 46  Power consumption         515 non-null    object \n",
      " 47  Energy efficiency class   7804 non-null   object \n",
      " 48  CO₂-efficiency            7804 non-null   object \n",
      " 49  Fuel consumption (WLTP)   100 non-null    object \n",
      " 50  CO₂-emissions (WLTP)      116 non-null    object \n",
      " 51  Available from            393 non-null    object \n",
      " 52  Taxi or rental car        422 non-null    object \n",
      " 53  Availability              301 non-null    object \n",
      " 54  Last timing belt change   572 non-null    object \n",
      " 55  Electric Range (WLTP)     16 non-null     object \n",
      " 56  Power consumption (WLTP)  16 non-null     object \n",
      " 57  Battery Ownership         7 non-null      object \n",
      "dtypes: float64(1), object(57)\n",
      "memory usage: 13.0+ MB\n"
     ]
    }
   ],
   "source": [
    "df.info()"
   ]
  },
  {
   "cell_type": "markdown",
   "metadata": {},
   "source": [
    "<div style=\"background-color: lightgreen; padding: 10px; font-size: 14px;\">\n",
    "We see that there is ``no standard in defining the names of the columns/features`` in our dayaset.\n",
    "</div>\n",
    "\n",
    "  - Some feature names in our data set start with capital letters, some are defined with lower case letters, some contain spaces, and some have new lines."
   ]
  },
  {
   "cell_type": "markdown",
   "metadata": {},
   "source": [
    "### The Examination of Column Names & Data Types"
   ]
  },
  {
   "cell_type": "markdown",
   "metadata": {},
   "source": [
    "#### Checking Mixed Type of Data:\n",
    "\n",
    "- As you may recall from our Data Analysis course, there can be ``different data types`` within the ``Object data type``.\n",
    "  - First, let's examine which features have an object data type.\n",
    "  - Even if the columns with Object data type are represented by numbers, if there is even one string expression in it, this feature will automatically be defined as Object data type.\n",
    "    - For this reason, special attention should be paid to these columns/features during the Exploratory Data Analysis process."
   ]
  },
  {
   "cell_type": "code",
   "execution_count": 254,
   "metadata": {
    "ExecuteTime": {
     "end_time": "2025-01-16T09:22:12.756371Z",
     "start_time": "2025-01-16T09:22:11.593352Z"
    }
   },
   "outputs": [
    {
     "name": "stdout",
     "output_type": "stream",
     "text": [
      "Column \u001b[1m\u001b[91mmake_model\u001b[0m has mixed object types.\n",
      "Column \u001b[1m\u001b[91mshort_description\u001b[0m has mixed object types.\n",
      "Column \u001b[1m\u001b[91mmake\u001b[0m has mixed object types.\n",
      "Column \u001b[1m\u001b[91mmodel\u001b[0m has mixed object types.\n",
      "Column \u001b[1m\u001b[91mlocation\u001b[0m has mixed object types.\n",
      "Column \u001b[1m\u001b[91mprice\u001b[0m has mixed object types.\n",
      "Column \u001b[1m\u001b[91mBody type\u001b[0m has mixed object types.\n",
      "Column \u001b[1m\u001b[91mType\u001b[0m has mixed object types.\n",
      "Column \u001b[1m\u001b[91mDoors\u001b[0m has mixed object types.\n",
      "Column \u001b[1m\u001b[91mCountry version\u001b[0m has mixed object types.\n",
      "Column \u001b[1m\u001b[91mOffer number\u001b[0m has mixed object types.\n",
      "Column \u001b[1m\u001b[91mWarranty\u001b[0m has mixed object types.\n",
      "Column \u001b[1m\u001b[91mMileage\u001b[0m has mixed object types.\n",
      "Column \u001b[1m\u001b[91mFirst registration\u001b[0m has mixed object types.\n",
      "Column \u001b[1m\u001b[91mGearbox\u001b[0m has mixed object types.\n",
      "Column \u001b[1m\u001b[91mFuel type\u001b[0m has mixed object types.\n",
      "Column \u001b[1m\u001b[91mColour\u001b[0m has mixed object types.\n",
      "Column \u001b[1m\u001b[91mPaint\u001b[0m has mixed object types.\n",
      "Column \u001b[1m\u001b[91mdesc\u001b[0m has mixed object types.\n",
      "Column \u001b[1m\u001b[91mseller\u001b[0m has mixed object types.\n",
      "Column \u001b[1m\u001b[91mSeats\u001b[0m has mixed object types.\n",
      "Column \u001b[1m\u001b[91mPower\u001b[0m has mixed object types.\n",
      "Column \u001b[1m\u001b[91mEngine size\u001b[0m has mixed object types.\n",
      "Column \u001b[1m\u001b[91mGears\u001b[0m has mixed object types.\n",
      "Column \u001b[1m\u001b[91mCO₂-emissions\u001b[0m has mixed object types.\n",
      "Column \u001b[1m\u001b[91mManufacturer colour\u001b[0m has mixed object types.\n",
      "Column \u001b[1m\u001b[91mDrivetrain\u001b[0m has mixed object types.\n",
      "Column \u001b[1m\u001b[91mCylinders\u001b[0m has mixed object types.\n",
      "Column \u001b[1m\u001b[91mFuel consumption\u001b[0m has mixed object types.\n",
      "Column \u001b[1m\u001b[91m\n",
      "Comfort & Convenience\n",
      "\u001b[0m has mixed object types.\n",
      "Column \u001b[1m\u001b[91m\n",
      "Entertainment & Media\n",
      "\u001b[0m has mixed object types.\n",
      "Column \u001b[1m\u001b[91m\n",
      "Safety & Security\n",
      "\u001b[0m has mixed object types.\n",
      "Column \u001b[1m\u001b[91m\n",
      "Extras\n",
      "\u001b[0m has mixed object types.\n",
      "Column \u001b[1m\u001b[91mEmpty weight\u001b[0m has mixed object types.\n",
      "Column \u001b[1m\u001b[91mModel code\u001b[0m has mixed object types.\n",
      "Column \u001b[1m\u001b[91mGeneral inspection\u001b[0m has mixed object types.\n",
      "Column \u001b[1m\u001b[91mLast service\u001b[0m has mixed object types.\n",
      "Column \u001b[1m\u001b[91mFull service history\u001b[0m has mixed object types.\n",
      "Column \u001b[1m\u001b[91mNon-smoker vehicle\u001b[0m has mixed object types.\n",
      "Column \u001b[1m\u001b[91mEmission class\u001b[0m has mixed object types.\n",
      "Column \u001b[1m\u001b[91mEmissions sticker\u001b[0m has mixed object types.\n",
      "Column \u001b[1m\u001b[91mUpholstery colour\u001b[0m has mixed object types.\n",
      "Column \u001b[1m\u001b[91mUpholstery\u001b[0m has mixed object types.\n",
      "Column \u001b[1m\u001b[91mPrevious owner\u001b[0m has mixed object types.\n",
      "Column \u001b[1m\u001b[91mOther fuel types\u001b[0m has mixed object types.\n",
      "Column \u001b[1m\u001b[91mPower consumption\u001b[0m has mixed object types.\n",
      "Column \u001b[1m\u001b[91mEnergy efficiency class\u001b[0m has mixed object types.\n",
      "Column \u001b[1m\u001b[91mCO₂-efficiency\u001b[0m has mixed object types.\n",
      "Column \u001b[1m\u001b[91mFuel consumption (WLTP)\u001b[0m has mixed object types.\n",
      "Column \u001b[1m\u001b[91mCO₂-emissions (WLTP)\u001b[0m has mixed object types.\n",
      "Column \u001b[1m\u001b[91mAvailable from\u001b[0m has mixed object types.\n",
      "Column \u001b[1m\u001b[91mTaxi or rental car\u001b[0m has mixed object types.\n",
      "Column \u001b[1m\u001b[91mAvailability\u001b[0m has mixed object types.\n",
      "Column \u001b[1m\u001b[91mLast timing belt change\u001b[0m has mixed object types.\n",
      "Column \u001b[1m\u001b[91mElectric Range (WLTP)\u001b[0m has mixed object types.\n",
      "Column \u001b[1m\u001b[91mPower consumption (WLTP)\u001b[0m has mixed object types.\n",
      "Column \u001b[1m\u001b[91mBattery Ownership\u001b[0m has mixed object types.\n"
     ]
    }
   ],
   "source": [
    "class color:\n",
    "    PURPLE = '\\033[95m'\n",
    "    CYAN = '\\033[96m'\n",
    "    DARKCYAN = '\\033[36m'\n",
    "    BLUE = '\\033[94m'\n",
    "    GREEN = '\\033[92m'\n",
    "    YELLOW = '\\033[93m'\n",
    "    RED = '\\033[91m'\n",
    "    BOLD = '\\033[1m'\n",
    "    UNDERLINE = '\\033[4m'\n",
    "    END = '\\033[0m'\n",
    "\n",
    "def check_obj_columns(df):\n",
    "    '''\n",
    "    Returns NO PROBLEM or column/s which has/have mixed object types.\n",
    "    '''    \n",
    "    \n",
    "    tdf = df.select_dtypes(include=['object']).applymap(type)\n",
    "    for col in tdf:\n",
    "        if len(set(tdf[col].values)) > 1:\n",
    "            print(\"Column\" + \" \" + color.BOLD + color.RED + col + color.END + \" \" + \"has mixed object types.\" )\n",
    "    else:\n",
    "        if len(set(tdf[col].values)) == 1:\n",
    "            print(color.BOLD + color.GREEN + \"NO PROBLEM\" + \" \" + color.END + \" \" + \"with the data types of Columns in the DataFrame.\")\n",
    "\n",
    "check_obj_columns(df)"
   ]
  },
  {
   "cell_type": "markdown",
   "metadata": {},
   "source": [
    "**What does the code above do?**\n",
    "\n",
    "- This code defines a Python class called color that contains string constants with ANSI escape codes for text color formatting. It also defines a function called check_obj_columns() that takes a Pandas DataFrame df as input and prints out whether or not the columns of the DataFrame have mixed object types.\n",
    "\n",
    "- The color class defines constants for different text colors and styles using ANSI escape codes. For example, color.BOLD and color.RED are used to print the column name in bold red letters. These escape codes are used to format the text output when the check_obj_columns() function is called.\n",
    "\n",
    "- The **``check_obj_columns()``** function ``selects all columns in the input DataFrame that have object data types (i.e., strings or mixed data types)`` using the select_dtypes() method. It then applies the type() function to each element in these columns using the applymap() method to get the type of each element.\n",
    "\n",
    "- For each column in the DataFrame, the function checks if there is more than one unique type of object in the column. If there is more than one unique type, the function prints out a warning message that the column has mixed object types using the red and bold text formatting defined in the color class.\n",
    "\n",
    "- If all columns have the same type of object, the function prints out a \"NO PROBLEM\" message using the green and bold text formatting defined in the color class.\n",
    "\n",
    "Overall, this code is a simple utility function that helps to identify columns in a DataFrame that have mixed object types, which can be useful in data cleaning and preprocessing tasks."
   ]
  },
  {
   "cell_type": "markdown",
   "metadata": {},
   "source": [
    "**Let us rectify the** **``Incorrect Headers (Column names)``**:"
   ]
  },
  {
   "cell_type": "markdown",
   "metadata": {},
   "source": [
    "One way of renaming the columns in a Pandas dataframe is by using the **``rename()``** function. This method is quite useful when we need to rename some selected columns because we need to specify information only for the columns which are to be renamed **🧐 [Source](https://www.geeksforgeeks.org/how-to-rename-columns-in-pandas-dataframe/)**."
   ]
  },
  {
   "cell_type": "code",
   "execution_count": 255,
   "metadata": {
    "ExecuteTime": {
     "end_time": "2025-01-16T09:22:12.771231Z",
     "start_time": "2025-01-16T09:22:12.759938Z"
    }
   },
   "outputs": [
    {
     "data": {
      "text/plain": [
       "['\\nComfort & Convenience\\n',\n",
       " '\\nEntertainment & Media\\n',\n",
       " '\\nExtras\\n',\n",
       " '\\nSafety & Security\\n',\n",
       " 'Availability',\n",
       " 'Available from',\n",
       " 'Battery Ownership',\n",
       " 'Body type',\n",
       " 'CO₂-efficiency',\n",
       " 'CO₂-emissions',\n",
       " 'CO₂-emissions (WLTP)',\n",
       " 'Colour',\n",
       " 'Country version',\n",
       " 'Cylinders',\n",
       " 'Doors',\n",
       " 'Drivetrain',\n",
       " 'Electric Range (WLTP)',\n",
       " 'Emission class',\n",
       " 'Emissions sticker',\n",
       " 'Empty weight',\n",
       " 'Energy efficiency class',\n",
       " 'Engine size',\n",
       " 'First registration',\n",
       " 'Fuel consumption',\n",
       " 'Fuel consumption (WLTP)',\n",
       " 'Fuel type',\n",
       " 'Full service history',\n",
       " 'Gearbox',\n",
       " 'Gears',\n",
       " 'General inspection',\n",
       " 'Last service',\n",
       " 'Last timing belt change',\n",
       " 'Manufacturer colour',\n",
       " 'Mileage',\n",
       " 'Model code',\n",
       " 'Non-smoker vehicle',\n",
       " 'Offer number',\n",
       " 'Other fuel types',\n",
       " 'Paint',\n",
       " 'Power',\n",
       " 'Power consumption',\n",
       " 'Power consumption (WLTP)',\n",
       " 'Previous owner',\n",
       " 'Production date',\n",
       " 'Seats',\n",
       " 'Taxi or rental car',\n",
       " 'Type',\n",
       " 'Upholstery',\n",
       " 'Upholstery colour',\n",
       " 'Warranty',\n",
       " 'desc',\n",
       " 'location',\n",
       " 'make',\n",
       " 'make_model',\n",
       " 'model',\n",
       " 'price',\n",
       " 'seller',\n",
       " 'short_description']"
      ]
     },
     "execution_count": 255,
     "metadata": {},
     "output_type": "execute_result"
    }
   ],
   "source": [
    "# df.columns\n",
    "\n",
    "sorted(df.columns)"
   ]
  },
  {
   "cell_type": "markdown",
   "metadata": {},
   "source": [
    "**In our first approach, we can give new names to the columns with an inappropriate names by directly assigning them to themselves**"
   ]
  },
  {
   "cell_type": "code",
   "execution_count": 256,
   "metadata": {
    "ExecuteTime": {
     "end_time": "2025-01-16T09:22:12.778386Z",
     "start_time": "2025-01-16T09:22:12.774811Z"
    }
   },
   "outputs": [],
   "source": [
    "# # First Method\n",
    "\n",
    "# df[\"Comfort_Convenience\"] = df[\"\\nComfort & Convenience\\n\"]\n",
    "# df[\"Entertainment_Media\"] = df[\"\\nEntertainment & Media\\n\"]\n",
    "# df[\"Extras\"] = df[\"\\nExtras\\n\"]\n",
    "# df[\"Safety_Security\"] = df[\"\\nSafety & Security\\n\"]\n",
    "\n",
    "# drop_columns = [\"\\nComfort & Convenience\\n\", \"\\nEntertainment & Media\\n\", \"\\nExtras\\n\", \"\\nSafety & Security\\n\"]\n",
    "\n",
    "# df.drop(drop_columns, axis=1, inplace=True)"
   ]
  },
  {
   "cell_type": "markdown",
   "metadata": {},
   "source": [
    "**In our second approach, we can use ``rename()`` method for modifying the columns with an inappropriate names.**"
   ]
  },
  {
   "cell_type": "code",
   "execution_count": 257,
   "metadata": {
    "ExecuteTime": {
     "end_time": "2025-01-16T09:22:12.792289Z",
     "start_time": "2025-01-16T09:22:12.783625Z"
    }
   },
   "outputs": [],
   "source": [
    "# # Second Method\n",
    "\n",
    "# df.rename(columns={\"\\nComfort & Convenience\\n\": \"Comfort_Convenience\",\n",
    "#                    \"\\nEntertainment & Media\\n\":\"Entertainment_Media\",\n",
    "#                    \"\\nExtras\\n\":\"Extras\",\n",
    "#                    \"\\nSafety & Security\\n\":\"Safety_Security\"},\n",
    "#                     inplace=True)\n",
    "\n",
    "# df.head(3)"
   ]
  },
  {
   "cell_type": "markdown",
   "metadata": {},
   "source": [
    "**In our third approach, we can use create a User Defined Function for modifying the columns with an inappropriate names.**"
   ]
  },
  {
   "cell_type": "code",
   "execution_count": 258,
   "metadata": {
    "ExecuteTime": {
     "end_time": "2025-01-16T09:22:12.802732Z",
     "start_time": "2025-01-16T09:22:12.795852Z"
    }
   },
   "outputs": [],
   "source": [
    "# Third Method\n",
    "\n",
    "# Function to convert the inappropriate columns names to snake case\n",
    "\n",
    "def to_snake_case(column_name):\n",
    "    # Remove leading and trailing whitespace and underscores\n",
    "    column_name = column_name.strip().strip('_')\n",
    "    # Replace newlines and multiple spaces with a single space\n",
    "    column_name = re.sub(r'\\s+', ' ', column_name)  \n",
    "    # Replace hyphens with underscores\n",
    "    column_name = column_name.replace('-', '_')\n",
    "    # Replace special characters (except spaces) with nothing\n",
    "    column_name = re.sub(r'[^a-zA-Z0-9 _]', '', column_name)\n",
    "    # Replace spaces with underscores\n",
    "    column_name = column_name.replace(' ', '_')\n",
    "    # Remove double underscores\n",
    "    column_name = re.sub(r'__+', '_', column_name)  \n",
    "    # Convert to lowercase\n",
    "    column_name = column_name.lower()\n",
    "    return column_name"
   ]
  },
  {
   "cell_type": "code",
   "execution_count": 259,
   "metadata": {
    "ExecuteTime": {
     "end_time": "2025-01-16T09:22:12.811926Z",
     "start_time": "2025-01-16T09:22:12.806817Z"
    }
   },
   "outputs": [],
   "source": [
    "# Rename DataFrame columns\n",
    "\n",
    "df.columns = df.columns.to_series().apply(to_snake_case)"
   ]
  },
  {
   "cell_type": "code",
   "execution_count": 260,
   "metadata": {
    "ExecuteTime": {
     "end_time": "2025-01-16T09:22:12.824846Z",
     "start_time": "2025-01-16T09:22:12.817716Z"
    }
   },
   "outputs": [
    {
     "data": {
      "text/plain": [
       "Index(['make_model', 'short_description', 'make', 'model', 'location', 'price',\n",
       "       'body_type', 'type', 'doors', 'country_version', 'offer_number',\n",
       "       'warranty', 'mileage', 'first_registration', 'gearbox', 'fuel_type',\n",
       "       'colour', 'paint', 'desc', 'seller', 'seats', 'power', 'engine_size',\n",
       "       'gears', 'co_emissions', 'manufacturer_colour', 'drivetrain',\n",
       "       'cylinders', 'fuel_consumption', 'comfort_convenience',\n",
       "       'entertainment_media', 'safety_security', 'extras', 'empty_weight',\n",
       "       'model_code', 'general_inspection', 'last_service',\n",
       "       'full_service_history', 'non_smoker_vehicle', 'emission_class',\n",
       "       'emissions_sticker', 'upholstery_colour', 'upholstery',\n",
       "       'production_date', 'previous_owner', 'other_fuel_types',\n",
       "       'power_consumption', 'energy_efficiency_class', 'co_efficiency',\n",
       "       'fuel_consumption_wltp', 'co_emissions_wltp', 'available_from',\n",
       "       'taxi_or_rental_car', 'availability', 'last_timing_belt_change',\n",
       "       'electric_range_wltp', 'power_consumption_wltp', 'battery_ownership'],\n",
       "      dtype='object')"
      ]
     },
     "execution_count": 260,
     "metadata": {},
     "output_type": "execute_result"
    }
   ],
   "source": [
    "df.columns"
   ]
  },
  {
   "cell_type": "code",
   "execution_count": 261,
   "metadata": {
    "ExecuteTime": {
     "end_time": "2025-01-16T09:22:13.866705Z",
     "start_time": "2025-01-16T09:22:12.828938Z"
    }
   },
   "outputs": [
    {
     "name": "stdout",
     "output_type": "stream",
     "text": [
      "<class 'pandas.core.frame.DataFrame'>\n",
      "RangeIndex: 29480 entries, 0 to 29479\n",
      "Data columns (total 58 columns):\n",
      " #   Column                   Non-Null Count  Dtype  \n",
      "---  ------                   --------------  -----  \n",
      " 0   make_model               28630 non-null  object \n",
      " 1   short_description        28630 non-null  object \n",
      " 2   make                     28630 non-null  object \n",
      " 3   model                    28630 non-null  object \n",
      " 4   location                 28630 non-null  object \n",
      " 5   price                    28630 non-null  object \n",
      " 6   body_type                28630 non-null  object \n",
      " 7   type                     28630 non-null  object \n",
      " 8   doors                    28271 non-null  object \n",
      " 9   country_version          16889 non-null  object \n",
      " 10  offer_number             23100 non-null  object \n",
      " 11  warranty                 15784 non-null  object \n",
      " 12  mileage                  28629 non-null  object \n",
      " 13  first_registration       28628 non-null  object \n",
      " 14  gearbox                  28382 non-null  object \n",
      " 15  fuel_type                26843 non-null  object \n",
      " 16  colour                   26906 non-null  object \n",
      " 17  paint                    14495 non-null  object \n",
      " 18  desc                     28047 non-null  object \n",
      " 19  seller                   28630 non-null  object \n",
      " 20  seats                    25505 non-null  object \n",
      " 21  power                    28058 non-null  object \n",
      " 22  engine_size              27227 non-null  object \n",
      " 23  gears                    18954 non-null  object \n",
      " 24  co_emissions             18594 non-null  object \n",
      " 25  manufacturer_colour      21787 non-null  object \n",
      " 26  drivetrain               16893 non-null  object \n",
      " 27  cylinders                18852 non-null  object \n",
      " 28  fuel_consumption         23385 non-null  object \n",
      " 29  comfort_convenience      25433 non-null  object \n",
      " 30  entertainment_media      23644 non-null  object \n",
      " 31  safety_security          25415 non-null  object \n",
      " 32  extras                   23480 non-null  object \n",
      " 33  empty_weight             17758 non-null  object \n",
      " 34  model_code               8367 non-null   object \n",
      " 35  general_inspection       12254 non-null  object \n",
      " 36  last_service             2003 non-null   object \n",
      " 37  full_service_history     12565 non-null  object \n",
      " 38  non_smoker_vehicle       11594 non-null  object \n",
      " 39  emission_class           17859 non-null  object \n",
      " 40  emissions_sticker        9414 non-null   object \n",
      " 41  upholstery_colour        14569 non-null  object \n",
      " 42  upholstery               18610 non-null  object \n",
      " 43  production_date          5908 non-null   float64\n",
      " 44  previous_owner           14015 non-null  object \n",
      " 45  other_fuel_types         2313 non-null   object \n",
      " 46  power_consumption        515 non-null    object \n",
      " 47  energy_efficiency_class  7804 non-null   object \n",
      " 48  co_efficiency            7804 non-null   object \n",
      " 49  fuel_consumption_wltp    100 non-null    object \n",
      " 50  co_emissions_wltp        116 non-null    object \n",
      " 51  available_from           393 non-null    object \n",
      " 52  taxi_or_rental_car       422 non-null    object \n",
      " 53  availability             301 non-null    object \n",
      " 54  last_timing_belt_change  572 non-null    object \n",
      " 55  electric_range_wltp      16 non-null     object \n",
      " 56  power_consumption_wltp   16 non-null     object \n",
      " 57  battery_ownership        7 non-null      object \n",
      "dtypes: float64(1), object(57)\n",
      "memory usage: 13.0+ MB\n"
     ]
    }
   ],
   "source": [
    "df.info()"
   ]
  },
  {
   "cell_type": "code",
   "execution_count": 262,
   "metadata": {
    "ExecuteTime": {
     "end_time": "2025-01-16T09:22:13.877444Z",
     "start_time": "2025-01-16T09:22:13.870276Z"
    }
   },
   "outputs": [
    {
     "data": {
      "text/plain": [
       "(29480, 58)"
      ]
     },
     "execution_count": 262,
     "metadata": {},
     "output_type": "execute_result"
    }
   ],
   "source": [
    "df.shape"
   ]
  },
  {
   "cell_type": "markdown",
   "metadata": {},
   "source": [
    "### The Examination of Missing Values:\n",
    "\n",
    "- Missing values in a dataset are a critical issue that can significantly impact data analysis and decision-making. They can lead to biased estimates, reduced statistical power, and erroneous conclusions if not properly addressed. The presence of missing data may distort relationships between variables, obscure trends, and affect the accuracy of predictive models. Furthermore, handling missing values requires careful consideration of imputation methods or exclusion techniques, as inappropriate handling can exacerbate problems rather than solve them. Therefore, identifying, understanding, and addressing missing values are essential steps in ensuring the integrity and reliability of data analyses."
   ]
  },
  {
   "cell_type": "code",
   "execution_count": 263,
   "metadata": {
    "ExecuteTime": {
     "end_time": "2025-01-16T09:22:14.093712Z",
     "start_time": "2025-01-16T09:22:13.880499Z"
    }
   },
   "outputs": [
    {
     "data": {
      "text/plain": [
       "make_model                   850\n",
       "short_description            850\n",
       "make                         850\n",
       "model                        850\n",
       "location                     850\n",
       "price                        850\n",
       "body_type                    850\n",
       "type                         850\n",
       "doors                       1209\n",
       "country_version            12591\n",
       "offer_number                6380\n",
       "warranty                   13696\n",
       "mileage                      851\n",
       "first_registration           852\n",
       "gearbox                     1098\n",
       "fuel_type                   2637\n",
       "colour                      2574\n",
       "paint                      14985\n",
       "desc                        1433\n",
       "seller                       850\n",
       "seats                       3975\n",
       "power                       1422\n",
       "engine_size                 2253\n",
       "gears                      10526\n",
       "co_emissions               10886\n",
       "manufacturer_colour         7693\n",
       "drivetrain                 12587\n",
       "cylinders                  10628\n",
       "fuel_consumption            6095\n",
       "comfort_convenience         4047\n",
       "entertainment_media         5836\n",
       "safety_security             4065\n",
       "extras                      6000\n",
       "empty_weight               11722\n",
       "model_code                 21113\n",
       "general_inspection         17226\n",
       "last_service               27477\n",
       "full_service_history       16915\n",
       "non_smoker_vehicle         17886\n",
       "emission_class             11621\n",
       "emissions_sticker          20066\n",
       "upholstery_colour          14911\n",
       "upholstery                 10870\n",
       "production_date            23572\n",
       "previous_owner             15465\n",
       "other_fuel_types           27167\n",
       "power_consumption          28965\n",
       "energy_efficiency_class    21676\n",
       "co_efficiency              21676\n",
       "fuel_consumption_wltp      29380\n",
       "co_emissions_wltp          29364\n",
       "available_from             29087\n",
       "taxi_or_rental_car         29058\n",
       "availability               29179\n",
       "last_timing_belt_change    28908\n",
       "electric_range_wltp        29464\n",
       "power_consumption_wltp     29464\n",
       "battery_ownership          29473\n",
       "dtype: int64"
      ]
     },
     "execution_count": 263,
     "metadata": {},
     "output_type": "execute_result"
    }
   ],
   "source": [
    "df.isnull().sum()"
   ]
  },
  {
   "cell_type": "markdown",
   "metadata": {},
   "source": [
    "<div style=\"background-color: lightgreen; padding: 10px; font-size: 14px;\">\n",
    "When examining missing values in any dataset, looking only at their numbers can lead us to make mistakes. Looking at the percentage of missing values rather than their numbers will provide a more accurate examination.\n",
    "</div>"
   ]
  },
  {
   "cell_type": "code",
   "execution_count": 264,
   "metadata": {
    "ExecuteTime": {
     "end_time": "2025-01-16T09:22:14.329297Z",
     "start_time": "2025-01-16T09:22:14.098025Z"
    }
   },
   "outputs": [
    {
     "data": {
      "text/plain": [
       "battery_ownership         99.98\n",
       "power_consumption_wltp    99.95\n",
       "electric_range_wltp       99.95\n",
       "fuel_consumption_wltp     99.66\n",
       "co_emissions_wltp         99.61\n",
       "availability              98.98\n",
       "available_from            98.67\n",
       "taxi_or_rental_car        98.57\n",
       "power_consumption         98.25\n",
       "last_timing_belt_change   98.06\n",
       "last_service              93.21\n",
       "other_fuel_types          92.15\n",
       "production_date           79.96\n",
       "co_efficiency             73.53\n",
       "energy_efficiency_class   73.53\n",
       "model_code                71.62\n",
       "emissions_sticker         68.07\n",
       "non_smoker_vehicle        60.67\n",
       "general_inspection        58.43\n",
       "full_service_history      57.38\n",
       "previous_owner            52.46\n",
       "paint                     50.83\n",
       "upholstery_colour         50.58\n",
       "warranty                  46.46\n",
       "country_version           42.71\n",
       "drivetrain                42.70\n",
       "empty_weight              39.76\n",
       "emission_class            39.42\n",
       "co_emissions              36.93\n",
       "upholstery                36.87\n",
       "cylinders                 36.05\n",
       "gears                     35.71\n",
       "manufacturer_colour       26.10\n",
       "offer_number              21.64\n",
       "fuel_consumption          20.68\n",
       "extras                    20.35\n",
       "entertainment_media       19.80\n",
       "safety_security           13.79\n",
       "comfort_convenience       13.73\n",
       "seats                     13.48\n",
       "fuel_type                  8.95\n",
       "colour                     8.73\n",
       "engine_size                7.64\n",
       "desc                       4.86\n",
       "power                      4.82\n",
       "doors                      4.10\n",
       "gearbox                    3.72\n",
       "first_registration         2.89\n",
       "mileage                    2.89\n",
       "price                      2.88\n",
       "make                       2.88\n",
       "model                      2.88\n",
       "location                   2.88\n",
       "short_description          2.88\n",
       "body_type                  2.88\n",
       "type                       2.88\n",
       "seller                     2.88\n",
       "make_model                 2.88\n",
       "dtype: float64"
      ]
     },
     "execution_count": 264,
     "metadata": {},
     "output_type": "execute_result"
    }
   ],
   "source": [
    "(df.isnull().sum()*100 / df.shape[0]).sort_values(ascending=False)"
   ]
  },
  {
   "cell_type": "markdown",
   "metadata": {},
   "source": [
    "**Droping columns that have missing values more than %80.**"
   ]
  },
  {
   "cell_type": "code",
   "execution_count": 265,
   "metadata": {
    "ExecuteTime": {
     "end_time": "2025-01-16T09:22:14.340334Z",
     "start_time": "2025-01-16T09:22:14.334134Z"
    }
   },
   "outputs": [],
   "source": [
    "def df_nans(df, limit):\n",
    "    \"\"\"\n",
    "    Calculate the percentage of missing values in each column of a DataFrame.\n",
    "    \n",
    "    Parameters:\n",
    "    df (pd.DataFrame): The DataFrame to analyze.\n",
    "    limit (float): The percentage limit for missing values to consider.\n",
    "    \n",
    "    Returns:\n",
    "    pd.Series or str: Series of columns with missing values over the limit or a message if none.\n",
    "    \"\"\"\n",
    "    # Calculate the percentage of missing values for each column\n",
    "    missing = (df.isnull().sum() * 100) / df.shape[0]\n",
    "    # Filter columns where the percentage of missing values exceeds the limit\n",
    "    missing = missing[missing >= limit]\n",
    "    \n",
    "    if missing.empty:\n",
    "        return \"No columns have missing values that exceed the given limit.\"\n",
    "    else:\n",
    "        return missing"
   ]
  },
  {
   "cell_type": "code",
   "execution_count": 266,
   "metadata": {
    "ExecuteTime": {
     "end_time": "2025-01-16T09:22:14.357771Z",
     "start_time": "2025-01-16T09:22:14.349525Z"
    }
   },
   "outputs": [],
   "source": [
    "def show_missing_values(limit):\n",
    "    \"\"\"\n",
    "    Wrapper function to show missing values in the DataFrame based on a limit.\n",
    "    \n",
    "    Parameters:\n",
    "    df (pd.DataFrame): The DataFrame to analyze.\n",
    "    limit (float): The percentage limit for missing values to consider.\n",
    "    \n",
    "    Returns:\n",
    "    pd.Series or str: Series of columns with missing values over the limit or a message if none.\n",
    "    \"\"\"\n",
    "    return df_nans(df, limit)"
   ]
  },
  {
   "cell_type": "code",
   "execution_count": 267,
   "metadata": {
    "ExecuteTime": {
     "end_time": "2025-01-16T09:22:14.368648Z",
     "start_time": "2025-01-16T09:22:14.361347Z"
    }
   },
   "outputs": [],
   "source": [
    "def column_nans(serial):\n",
    "    \"\"\"\n",
    "    Calculate the percentage of missing values in a Series.\n",
    "    \n",
    "    Parameters:\n",
    "    serial (pd.Series): The Series to analyze.\n",
    "    \n",
    "    Returns:\n",
    "    float: Percentage of missing values.\n",
    "    \"\"\"\n",
    "    return (serial.isnull().sum() * 100) / serial.size"
   ]
  },
  {
   "cell_type": "markdown",
   "metadata": {},
   "source": [
    "**What does the code above do?**\n",
    "\n",
    "- This code defines three functions that are useful for analyzing missing data in a Pandas DataFrame:\n",
    "\n",
    "  - df_nans(df, limit): This function takes a Pandas DataFrame df and a percentage limit as inputs and returns a Series that lists the percentage of missing values for each column in the DataFrame that exceeds the given limit. It first calculates the percentage of missing values for each column using the isnull() method, which returns a boolean DataFrame indicating the presence of missing values. The sum() method then sums up the number of missing values for each column, and the resulting Series is divided by the total number of rows in the DataFrame to get the percentage of missing values. Finally, the function filters the resulting Series to include only columns where the percentage of missing values exceeds the given limit.\n",
    "\n",
    "  - show_missing_values(limit): This function is a wrapper around df_nans() that takes a percentage limit as input and returns the same Series as df_nans(). It simply calls df_nans() with the global DataFrame df as input.\n",
    "\n",
    "  - column_nans(serial): This function takes a Pandas Series serial as input and returns the percentage of missing values in the Series. It first applies the isnull() method to the Series to get a boolean Series indicating the presence of missing values. The sum() method then sums up the number of missing values in the Series, and the resulting value is divided by the total number of values in the Series to get the percentage of missing values.\n",
    "\n",
    "Overall, these functions provide a convenient way to quickly identify columns or individual Series in a DataFrame that have a high percentage of missing values. They can be useful for data cleaning and preprocessing tasks, as well as for exploratory data analysis."
   ]
  },
  {
   "cell_type": "markdown",
   "metadata": {},
   "source": [
    "<div style=\"background-color: #f8e57d; padding: 10px; font-size: 14px;\">\n",
    "A common threshold for dropping a column with missing values is around 50% or more of its entries being missing. This is because if more than half of the data in a column is absent, the remaining data may not provide a reliable or representative sample for analysis. Retaining such a column could lead to skewed results or interpretations, as the missing data may contain important information. Dropping columns with excessive missing values helps maintain data quality and integrity, ensuring that analyses are based on sufficiently complete and informative datasets. However, the decision may vary depending on the specific context and the importance of the variable in relation to the overall analysis.\n",
    " \n",
    "<br>\n",
    "    \n",
    "Some practitioners adopt a threshold of 70% to 80% missing values as a guideline for dropping a column. This approach acknowledges that while some data loss is acceptable, retaining columns with such high levels of missingness can significantly undermine the quality of the analysis. If a column has 70% to 80% missing values, the information it provides is likely insufficient to draw reliable conclusions. By using this threshold, analysts aim to balance retaining valuable data while ensuring that the dataset remains robust and representative. Ultimately, the choice of threshold should be based on the specific context, the importance of the variable, and the potential impact on the analysis.    \n",
    "</div>"
   ]
  },
  {
   "cell_type": "code",
   "execution_count": 268,
   "metadata": {
    "ExecuteTime": {
     "end_time": "2025-01-16T09:22:14.594724Z",
     "start_time": "2025-01-16T09:22:14.372731Z"
    }
   },
   "outputs": [
    {
     "data": {
      "text/plain": [
       "last_service              93.21\n",
       "other_fuel_types          92.15\n",
       "power_consumption         98.25\n",
       "fuel_consumption_wltp     99.66\n",
       "co_emissions_wltp         99.61\n",
       "available_from            98.67\n",
       "taxi_or_rental_car        98.57\n",
       "availability              98.98\n",
       "last_timing_belt_change   98.06\n",
       "electric_range_wltp       99.95\n",
       "power_consumption_wltp    99.95\n",
       "battery_ownership         99.98\n",
       "dtype: float64"
      ]
     },
     "execution_count": 268,
     "metadata": {},
     "output_type": "execute_result"
    }
   ],
   "source": [
    "df_nans(df, 80)"
   ]
  },
  {
   "cell_type": "code",
   "execution_count": 269,
   "metadata": {
    "ExecuteTime": {
     "end_time": "2025-01-16T09:22:14.835030Z",
     "start_time": "2025-01-16T09:22:14.601352Z"
    }
   },
   "outputs": [
    {
     "data": {
      "text/plain": [
       "last_service              93.21\n",
       "other_fuel_types          92.15\n",
       "power_consumption         98.25\n",
       "fuel_consumption_wltp     99.66\n",
       "co_emissions_wltp         99.61\n",
       "available_from            98.67\n",
       "taxi_or_rental_car        98.57\n",
       "availability              98.98\n",
       "last_timing_belt_change   98.06\n",
       "electric_range_wltp       99.95\n",
       "power_consumption_wltp    99.95\n",
       "battery_ownership         99.98\n",
       "dtype: float64"
      ]
     },
     "execution_count": 269,
     "metadata": {},
     "output_type": "execute_result"
    }
   ],
   "source": [
    "show_missing_values(80)"
   ]
  },
  {
   "cell_type": "markdown",
   "metadata": {},
   "source": [
    "**Let us assign the features having missing values more than 80% to an object named ``drop_columns`` and drop them from the DataFrame:** "
   ]
  },
  {
   "cell_type": "code",
   "execution_count": 270,
   "metadata": {
    "ExecuteTime": {
     "end_time": "2025-01-16T09:22:15.065815Z",
     "start_time": "2025-01-16T09:22:14.838105Z"
    }
   },
   "outputs": [
    {
     "data": {
      "text/plain": [
       "Index(['last_service', 'other_fuel_types', 'power_consumption',\n",
       "       'fuel_consumption_wltp', 'co_emissions_wltp', 'available_from',\n",
       "       'taxi_or_rental_car', 'availability', 'last_timing_belt_change',\n",
       "       'electric_range_wltp', 'power_consumption_wltp', 'battery_ownership'],\n",
       "      dtype='object')"
      ]
     },
     "execution_count": 270,
     "metadata": {},
     "output_type": "execute_result"
    }
   ],
   "source": [
    "drop_columns = show_missing_values(80).index\n",
    "\n",
    "drop_columns"
   ]
  },
  {
   "cell_type": "markdown",
   "metadata": {},
   "source": [
    "<div style=\"background-color: #ffcccb; padding: 10px; font-size: 14px;\">\n",
    "Always check the shape before and after dropping anything from your dataset!!!\n",
    "</div>"
   ]
  },
  {
   "cell_type": "code",
   "execution_count": 271,
   "metadata": {
    "ExecuteTime": {
     "end_time": "2025-01-16T09:22:15.219726Z",
     "start_time": "2025-01-16T09:22:15.068883Z"
    }
   },
   "outputs": [
    {
     "data": {
      "text/plain": [
       "(29480, 58)"
      ]
     },
     "metadata": {},
     "output_type": "display_data"
    },
    {
     "data": {
      "text/plain": [
       "(29480, 46)"
      ]
     },
     "metadata": {},
     "output_type": "display_data"
    }
   ],
   "source": [
    "display(df.shape)\n",
    "\n",
    "df.drop(drop_columns, axis=1, inplace=True)\n",
    "\n",
    "display(df.shape)"
   ]
  },
  {
   "cell_type": "code",
   "execution_count": 272,
   "metadata": {
    "ExecuteTime": {
     "end_time": "2025-01-16T09:22:15.468503Z",
     "start_time": "2025-01-16T09:22:15.238267Z"
    }
   },
   "outputs": [
    {
     "name": "stdout",
     "output_type": "stream",
     "text": [
      "<class 'pandas.core.frame.DataFrame'>\n",
      "RangeIndex: 29480 entries, 0 to 29479\n",
      "Data columns (total 46 columns):\n",
      " #   Column                   Non-Null Count  Dtype  \n",
      "---  ------                   --------------  -----  \n",
      " 0   make_model               28630 non-null  object \n",
      " 1   short_description        28630 non-null  object \n",
      " 2   make                     28630 non-null  object \n",
      " 3   model                    28630 non-null  object \n",
      " 4   location                 28630 non-null  object \n",
      " 5   price                    28630 non-null  object \n",
      " 6   body_type                28630 non-null  object \n",
      " 7   type                     28630 non-null  object \n",
      " 8   doors                    28271 non-null  object \n",
      " 9   country_version          16889 non-null  object \n",
      " 10  offer_number             23100 non-null  object \n",
      " 11  warranty                 15784 non-null  object \n",
      " 12  mileage                  28629 non-null  object \n",
      " 13  first_registration       28628 non-null  object \n",
      " 14  gearbox                  28382 non-null  object \n",
      " 15  fuel_type                26843 non-null  object \n",
      " 16  colour                   26906 non-null  object \n",
      " 17  paint                    14495 non-null  object \n",
      " 18  desc                     28047 non-null  object \n",
      " 19  seller                   28630 non-null  object \n",
      " 20  seats                    25505 non-null  object \n",
      " 21  power                    28058 non-null  object \n",
      " 22  engine_size              27227 non-null  object \n",
      " 23  gears                    18954 non-null  object \n",
      " 24  co_emissions             18594 non-null  object \n",
      " 25  manufacturer_colour      21787 non-null  object \n",
      " 26  drivetrain               16893 non-null  object \n",
      " 27  cylinders                18852 non-null  object \n",
      " 28  fuel_consumption         23385 non-null  object \n",
      " 29  comfort_convenience      25433 non-null  object \n",
      " 30  entertainment_media      23644 non-null  object \n",
      " 31  safety_security          25415 non-null  object \n",
      " 32  extras                   23480 non-null  object \n",
      " 33  empty_weight             17758 non-null  object \n",
      " 34  model_code               8367 non-null   object \n",
      " 35  general_inspection       12254 non-null  object \n",
      " 36  full_service_history     12565 non-null  object \n",
      " 37  non_smoker_vehicle       11594 non-null  object \n",
      " 38  emission_class           17859 non-null  object \n",
      " 39  emissions_sticker        9414 non-null   object \n",
      " 40  upholstery_colour        14569 non-null  object \n",
      " 41  upholstery               18610 non-null  object \n",
      " 42  production_date          5908 non-null   float64\n",
      " 43  previous_owner           14015 non-null  object \n",
      " 44  energy_efficiency_class  7804 non-null   object \n",
      " 45  co_efficiency            7804 non-null   object \n",
      "dtypes: float64(1), object(45)\n",
      "memory usage: 10.3+ MB\n"
     ]
    }
   ],
   "source": [
    "df.info()"
   ]
  },
  {
   "cell_type": "markdown",
   "metadata": {},
   "source": [
    "### The Examination of Duplicated Values:\n",
    "\n",
    "- Duplicate values in a dataset can significantly undermine the quality and reliability of data analysis. They can skew results, leading to biased estimates and misleading conclusions, as repeated entries may artificially inflate counts or averages. In predictive modeling, duplicates can cause overfitting, where the model learns to recognize patterns based on redundant data rather than true underlying trends. Additionally, they complicate data cleaning processes and can hinder effective data visualization. Therefore, identifying and addressing duplicates is essential for ensuring data integrity, enhancing analytical accuracy, and facilitating meaningful insights."
   ]
  },
  {
   "cell_type": "code",
   "execution_count": 273,
   "metadata": {
    "ExecuteTime": {
     "end_time": "2025-01-16T09:22:18.367101Z",
     "start_time": "2025-01-16T09:22:15.475747Z"
    }
   },
   "outputs": [
    {
     "data": {
      "text/plain": [
       "np.int64(4384)"
      ]
     },
     "execution_count": 273,
     "metadata": {},
     "output_type": "execute_result"
    }
   ],
   "source": [
    "# df.duplicated()\n",
    "# Gives TypeError: unhashable type: 'list'\n",
    "\n",
    "df.astype(str).duplicated(keep=False).sum()"
   ]
  },
  {
   "cell_type": "markdown",
   "metadata": {},
   "source": [
    "**Why does df.duplicated() gives ``TypeError: unhashable type``:**\n",
    "\n",
    "The ``TypeError: unhashable type``: 'list' error occurs when you try to use a list as a key in a dictionary or as an element in a set. In the case of df.duplicated(), this error can occur if the DataFrame df contains columns with lists as elements.\n",
    "\n",
    "The ``duplicated()`` method is used to identify duplicate rows in a DataFrame based on the values in all columns. <u>However, if the DataFrame contains columns with lists as elements, the duplicated() method will fail with a **TypeError because lists are ``mutable`` and therefore ``unhashable``**.</u>\n",
    "\n",
    "To avoid this error, you can **EITHER** remove the columns with lists from the DataFrame before calling duplicated(), **OR** you can convert the lists to immutable types such as tuples before calling duplicated(). For example, you can convert all lists in the DataFrame to tuples using the applymap() method like this:\n",
    "   - <code>df = df.applymap(lambda x: tuple(x) if isinstance(x, list) else x)</code><br>\n",
    "   - <code>duplicates = df.duplicated()</code>\n",
    "   \n",
    "**The reason behind this problem at hand** is the list contains list of values in some columns such as ``\"Fuel consumption\"``. That’s because the list values in each row can **NOT** be hashable. Like: [[9.2 l/100 km (comb.)], [13 l/100 km (city)],...] in \"Fuel consumption\" feature.  \n",
    "\n",
    "**So, how do we solve the problem?**\n",
    "\n",
    "**🧐 [TypeError: unhashable type: ‘list’! How to Drop Duplicates with Lists in Pandas](https://jianan-lin.medium.com/typeerror-unhashable-type-list-how-to-drop-duplicates-with-lists-in-pandas-45d9e4dd2f6c)** \n",
    "\n",
    "**What is ``mutable`` and ``unhashable`` in Python?**\n",
    "\n",
    "- In Python, a **``mutable object``** is an object that <u>can be changed after it is created</u>. This means that the object's contents can be ``modified``, ``added`` or ``removed``. Examples of mutable objects in Python include ``lists``, ``dictionaries``, and ``sets``.\n",
    "\n",
    "- On the other hand, an **``unhashable object``** in Python is an object that <u>CANNOT be used as a key in a dictionary or as an element in a set<u>. This is because <u>hashable objects need to have a hash value<u> that **remains constant throughout their lifetime**, which is NOT possible with mutable objects. Examples of unhashable objects include lists and dictionaries, as well as any object that contains mutable objects as its elements.\n",
    "\n",
    "- It's important to note that ``NOT all mutable objects are unhashable``, and ``NOT all unhashable objects are mutable``. For example, tuples are immutable objects that are unhashable if they contain an unhashable element, but they are hashable if they only contain hashable elements."
   ]
  },
  {
   "cell_type": "code",
   "execution_count": 274,
   "metadata": {
    "ExecuteTime": {
     "end_time": "2025-01-16T09:22:21.235648Z",
     "start_time": "2025-01-16T09:22:18.374276Z"
    },
    "scrolled": false
   },
   "outputs": [
    {
     "data": {
      "text/html": [
       "<div>\n",
       "<style scoped>\n",
       "    .dataframe tbody tr th:only-of-type {\n",
       "        vertical-align: middle;\n",
       "    }\n",
       "\n",
       "    .dataframe tbody tr th {\n",
       "        vertical-align: top;\n",
       "    }\n",
       "\n",
       "    .dataframe thead th {\n",
       "        text-align: right;\n",
       "    }\n",
       "</style>\n",
       "<table border=\"1\" class=\"dataframe\">\n",
       "  <thead>\n",
       "    <tr style=\"text-align: right;\">\n",
       "      <th></th>\n",
       "      <th>make_model</th>\n",
       "      <th>short_description</th>\n",
       "      <th>make</th>\n",
       "      <th>model</th>\n",
       "      <th>location</th>\n",
       "      <th>price</th>\n",
       "      <th>body_type</th>\n",
       "      <th>type</th>\n",
       "      <th>doors</th>\n",
       "      <th>country_version</th>\n",
       "      <th>offer_number</th>\n",
       "      <th>warranty</th>\n",
       "      <th>mileage</th>\n",
       "      <th>first_registration</th>\n",
       "      <th>gearbox</th>\n",
       "      <th>fuel_type</th>\n",
       "      <th>colour</th>\n",
       "      <th>paint</th>\n",
       "      <th>desc</th>\n",
       "      <th>seller</th>\n",
       "      <th>seats</th>\n",
       "      <th>power</th>\n",
       "      <th>engine_size</th>\n",
       "      <th>gears</th>\n",
       "      <th>co_emissions</th>\n",
       "      <th>manufacturer_colour</th>\n",
       "      <th>drivetrain</th>\n",
       "      <th>cylinders</th>\n",
       "      <th>fuel_consumption</th>\n",
       "      <th>comfort_convenience</th>\n",
       "      <th>entertainment_media</th>\n",
       "      <th>safety_security</th>\n",
       "      <th>extras</th>\n",
       "      <th>empty_weight</th>\n",
       "      <th>model_code</th>\n",
       "      <th>general_inspection</th>\n",
       "      <th>full_service_history</th>\n",
       "      <th>non_smoker_vehicle</th>\n",
       "      <th>emission_class</th>\n",
       "      <th>emissions_sticker</th>\n",
       "      <th>upholstery_colour</th>\n",
       "      <th>upholstery</th>\n",
       "      <th>production_date</th>\n",
       "      <th>previous_owner</th>\n",
       "      <th>energy_efficiency_class</th>\n",
       "      <th>co_efficiency</th>\n",
       "    </tr>\n",
       "  </thead>\n",
       "  <tbody>\n",
       "    <tr>\n",
       "      <th>579</th>\n",
       "      <td>Mercedes-Benz SLK 200</td>\n",
       "      <td>Kompressor Aut. Cabrio Final Edition</td>\n",
       "      <td>\\nMercedes-Benz\\n</td>\n",
       "      <td>[\\n, SLK 200 ,\\n]</td>\n",
       "      <td>Marienborner Str.  49,  55128 Mainz, DE</td>\n",
       "      <td>€ 15,990.-</td>\n",
       "      <td>[\\n, Convertible, \\n]</td>\n",
       "      <td>[\\n, Used, \\n]</td>\n",
       "      <td>[\\n, 2, \\n]</td>\n",
       "      <td>[\\n, Germany, \\n]</td>\n",
       "      <td>NaN</td>\n",
       "      <td>[\\n, Yes, \\n]</td>\n",
       "      <td>39,000 km</td>\n",
       "      <td>05/2003</td>\n",
       "      <td>[\\nAutomatic\\n]</td>\n",
       "      <td>Regular/Benzine 91</td>\n",
       "      <td>Silver</td>\n",
       "      <td>Metallic</td>\n",
       "      <td>[Zum Verkauf steht ein gepflegter Mercedes-Ben...</td>\n",
       "      <td>Dealer</td>\n",
       "      <td>[\\n, 2, \\n]</td>\n",
       "      <td>[\\n120 kW (163 hp)\\n]</td>\n",
       "      <td>[\\n1,998 cc\\n]</td>\n",
       "      <td>NaN</td>\n",
       "      <td>235 g/km (comb.)</td>\n",
       "      <td>Brillantsilber metallic</td>\n",
       "      <td>NaN</td>\n",
       "      <td>NaN</td>\n",
       "      <td>[[9.6 l/100 km (comb.)], [14.4 l/100 km (city)...</td>\n",
       "      <td>[Air conditioning, Armrest, Cruise control, El...</td>\n",
       "      <td>[CD player, Radio]</td>\n",
       "      <td>[Alarm system, Central door lock, Driver-side ...</td>\n",
       "      <td>[Alloy wheels, Sport seats]</td>\n",
       "      <td>NaN</td>\n",
       "      <td>NaN</td>\n",
       "      <td>New</td>\n",
       "      <td>NaN</td>\n",
       "      <td>Yes</td>\n",
       "      <td>Euro 4</td>\n",
       "      <td>4 (Green)</td>\n",
       "      <td>Black</td>\n",
       "      <td>Full leather</td>\n",
       "      <td>NaN</td>\n",
       "      <td>[[39,000 km, 05/2003], 1]</td>\n",
       "      <td>NaN</td>\n",
       "      <td>NaN</td>\n",
       "    </tr>\n",
       "    <tr>\n",
       "      <th>580</th>\n",
       "      <td>Mercedes-Benz SLK 200</td>\n",
       "      <td>Kompressor Aut. Cabrio Final Edition</td>\n",
       "      <td>\\nMercedes-Benz\\n</td>\n",
       "      <td>[\\n, SLK 200 ,\\n]</td>\n",
       "      <td>Marienborner Str.  49,  55128 Mainz, DE</td>\n",
       "      <td>€ 15,990.-</td>\n",
       "      <td>[\\n, Convertible, \\n]</td>\n",
       "      <td>[\\n, Used, \\n]</td>\n",
       "      <td>[\\n, 2, \\n]</td>\n",
       "      <td>[\\n, Germany, \\n]</td>\n",
       "      <td>NaN</td>\n",
       "      <td>[\\n, Yes, \\n]</td>\n",
       "      <td>39,000 km</td>\n",
       "      <td>05/2003</td>\n",
       "      <td>[\\nAutomatic\\n]</td>\n",
       "      <td>Regular/Benzine 91</td>\n",
       "      <td>Silver</td>\n",
       "      <td>Metallic</td>\n",
       "      <td>[Zum Verkauf steht ein gepflegter Mercedes-Ben...</td>\n",
       "      <td>Dealer</td>\n",
       "      <td>[\\n, 2, \\n]</td>\n",
       "      <td>[\\n120 kW (163 hp)\\n]</td>\n",
       "      <td>[\\n1,998 cc\\n]</td>\n",
       "      <td>NaN</td>\n",
       "      <td>235 g/km (comb.)</td>\n",
       "      <td>Brillantsilber metallic</td>\n",
       "      <td>NaN</td>\n",
       "      <td>NaN</td>\n",
       "      <td>[[9.6 l/100 km (comb.)], [14.4 l/100 km (city)...</td>\n",
       "      <td>[Air conditioning, Armrest, Cruise control, El...</td>\n",
       "      <td>[CD player, Radio]</td>\n",
       "      <td>[Alarm system, Central door lock, Driver-side ...</td>\n",
       "      <td>[Alloy wheels, Sport seats]</td>\n",
       "      <td>NaN</td>\n",
       "      <td>NaN</td>\n",
       "      <td>New</td>\n",
       "      <td>NaN</td>\n",
       "      <td>Yes</td>\n",
       "      <td>Euro 4</td>\n",
       "      <td>4 (Green)</td>\n",
       "      <td>Black</td>\n",
       "      <td>Full leather</td>\n",
       "      <td>NaN</td>\n",
       "      <td>[[39,000 km, 05/2003], 1]</td>\n",
       "      <td>NaN</td>\n",
       "      <td>NaN</td>\n",
       "    </tr>\n",
       "    <tr>\n",
       "      <th>610</th>\n",
       "      <td>Mercedes-Benz G 500</td>\n",
       "      <td>Cabrio LORINSER UMBAU/AHK/ELEKTR. SITZE</td>\n",
       "      <td>\\nMercedes-Benz\\n</td>\n",
       "      <td>[\\n, G 500 ,\\n]</td>\n",
       "      <td>Alte Bundesstr. 45,  71332 Waiblingen, DE</td>\n",
       "      <td>€ 209,000.-</td>\n",
       "      <td>[\\n, Convertible, \\n]</td>\n",
       "      <td>[\\n, Used, \\n]</td>\n",
       "      <td>[\\n, 3, \\n]</td>\n",
       "      <td>NaN</td>\n",
       "      <td>[\\n, 29474, \\n]</td>\n",
       "      <td>NaN</td>\n",
       "      <td>172,000 km</td>\n",
       "      <td>02/1999</td>\n",
       "      <td>[\\nAutomatic\\n]</td>\n",
       "      <td>Regular/Benzine 91 (Particle filter)</td>\n",
       "      <td>Black</td>\n",
       "      <td>Metallic</td>\n",
       "      <td>[unfallfrei, scheckheftgepflegt, Nichtraucher,...</td>\n",
       "      <td>Dealer</td>\n",
       "      <td>[\\n, 5, \\n]</td>\n",
       "      <td>[\\n218 kW (296 hp)\\n]</td>\n",
       "      <td>[\\n4,996 cc\\n]</td>\n",
       "      <td>NaN</td>\n",
       "      <td>400 g/km (comb.)</td>\n",
       "      <td>Schwarz obsidianschwarz metall</td>\n",
       "      <td>[\\n, 4WD, \\n]</td>\n",
       "      <td>NaN</td>\n",
       "      <td>[[16.7 l/100 km (comb.)], [21.8 l/100 km (city...</td>\n",
       "      <td>[Air conditioning, Armrest, Cruise control, El...</td>\n",
       "      <td>[On-board computer, Radio]</td>\n",
       "      <td>[Central door lock, Driver-side airbag, Fog li...</td>\n",
       "      <td>[Alloy wheels, Trailer hitch, Tuned car]</td>\n",
       "      <td>[\\n2,350 kg\\n]</td>\n",
       "      <td>[\\n, 0710/403, \\n]</td>\n",
       "      <td>New</td>\n",
       "      <td>Yes</td>\n",
       "      <td>Yes</td>\n",
       "      <td>Euro 4</td>\n",
       "      <td>4 (Green)</td>\n",
       "      <td>Black</td>\n",
       "      <td>Full leather</td>\n",
       "      <td>1999.00</td>\n",
       "      <td>[[172,000 km, 02/1999], 2]</td>\n",
       "      <td>G</td>\n",
       "      <td>Calculated on basis of measured CO₂-emissions ...</td>\n",
       "    </tr>\n",
       "    <tr>\n",
       "      <th>613</th>\n",
       "      <td>Mercedes-Benz G 500</td>\n",
       "      <td>Cabrio LORINSER UMBAU/AHK/ELEKTR. SITZE</td>\n",
       "      <td>\\nMercedes-Benz\\n</td>\n",
       "      <td>[\\n, G 500 ,\\n]</td>\n",
       "      <td>Alte Bundesstr. 45,  71332 Waiblingen, DE</td>\n",
       "      <td>€ 209,000.-</td>\n",
       "      <td>[\\n, Convertible, \\n]</td>\n",
       "      <td>[\\n, Used, \\n]</td>\n",
       "      <td>[\\n, 3, \\n]</td>\n",
       "      <td>NaN</td>\n",
       "      <td>[\\n, 29474, \\n]</td>\n",
       "      <td>NaN</td>\n",
       "      <td>172,000 km</td>\n",
       "      <td>02/1999</td>\n",
       "      <td>[\\nAutomatic\\n]</td>\n",
       "      <td>Regular/Benzine 91 (Particle filter)</td>\n",
       "      <td>Black</td>\n",
       "      <td>Metallic</td>\n",
       "      <td>[unfallfrei, scheckheftgepflegt, Nichtraucher,...</td>\n",
       "      <td>Dealer</td>\n",
       "      <td>[\\n, 5, \\n]</td>\n",
       "      <td>[\\n218 kW (296 hp)\\n]</td>\n",
       "      <td>[\\n4,996 cc\\n]</td>\n",
       "      <td>NaN</td>\n",
       "      <td>400 g/km (comb.)</td>\n",
       "      <td>Schwarz obsidianschwarz metall</td>\n",
       "      <td>[\\n, 4WD, \\n]</td>\n",
       "      <td>NaN</td>\n",
       "      <td>[[16.7 l/100 km (comb.)], [21.8 l/100 km (city...</td>\n",
       "      <td>[Air conditioning, Armrest, Cruise control, El...</td>\n",
       "      <td>[On-board computer, Radio]</td>\n",
       "      <td>[Central door lock, Driver-side airbag, Fog li...</td>\n",
       "      <td>[Alloy wheels, Trailer hitch, Tuned car]</td>\n",
       "      <td>[\\n2,350 kg\\n]</td>\n",
       "      <td>[\\n, 0710/403, \\n]</td>\n",
       "      <td>New</td>\n",
       "      <td>Yes</td>\n",
       "      <td>Yes</td>\n",
       "      <td>Euro 4</td>\n",
       "      <td>4 (Green)</td>\n",
       "      <td>Black</td>\n",
       "      <td>Full leather</td>\n",
       "      <td>1999.00</td>\n",
       "      <td>[[172,000 km, 02/1999], 2]</td>\n",
       "      <td>G</td>\n",
       "      <td>Calculated on basis of measured CO₂-emissions ...</td>\n",
       "    </tr>\n",
       "    <tr>\n",
       "      <th>839</th>\n",
       "      <td>Mercedes-Benz CLA 45 AMG</td>\n",
       "      <td>4Matic*KAMERA*NAVI*LED*DESIGNO*SHZ*</td>\n",
       "      <td>\\nMercedes-Benz\\n</td>\n",
       "      <td>[\\n, CLA 45 AMG ,\\n]</td>\n",
       "      <td>Aidlinger Straße 16 - 18,  71069 Sindelfingen-...</td>\n",
       "      <td>€ 33,890.-</td>\n",
       "      <td>[\\n, Coupe, \\n]</td>\n",
       "      <td>[\\n, Used, \\n]</td>\n",
       "      <td>[\\n, 4, \\n]</td>\n",
       "      <td>[\\n, Germany, \\n]</td>\n",
       "      <td>[\\n, M-174, \\n]</td>\n",
       "      <td>[\\n, Yes, \\n]</td>\n",
       "      <td>76,900 km</td>\n",
       "      <td>08/2016</td>\n",
       "      <td>[\\nAutomatic\\n]</td>\n",
       "      <td>Regular/Benzine 91</td>\n",
       "      <td>White</td>\n",
       "      <td>NaN</td>\n",
       "      <td>[Sonderausstattung:, LED-Scheinwerfer, Navigat...</td>\n",
       "      <td>Dealer</td>\n",
       "      <td>[\\n, 5, \\n]</td>\n",
       "      <td>[\\n280 kW (381 hp)\\n]</td>\n",
       "      <td>[\\n1,991 cc\\n]</td>\n",
       "      <td>NaN</td>\n",
       "      <td>162 g/km (comb.)</td>\n",
       "      <td>CALCITWEISS</td>\n",
       "      <td>[\\n, 4WD, \\n]</td>\n",
       "      <td>NaN</td>\n",
       "      <td>[[6.9 l/100 km (comb.)], [9.2 l/100 km (city)]...</td>\n",
       "      <td>[Air conditioning, Armrest, Automatic climate ...</td>\n",
       "      <td>[Bluetooth, CD player, Hands-free equipment, O...</td>\n",
       "      <td>[ABS, Adaptive Cruise Control, Blind spot moni...</td>\n",
       "      <td>[Alloy wheels, Ambient lighting, Automatically...</td>\n",
       "      <td>NaN</td>\n",
       "      <td>NaN</td>\n",
       "      <td>New</td>\n",
       "      <td>Yes</td>\n",
       "      <td>Yes</td>\n",
       "      <td>Euro 6</td>\n",
       "      <td>4 (Green)</td>\n",
       "      <td>Black</td>\n",
       "      <td>alcantara</td>\n",
       "      <td>NaN</td>\n",
       "      <td>[[76,900 km, 08/2016], 2]</td>\n",
       "      <td>NaN</td>\n",
       "      <td>NaN</td>\n",
       "    </tr>\n",
       "    <tr>\n",
       "      <th>...</th>\n",
       "      <td>...</td>\n",
       "      <td>...</td>\n",
       "      <td>...</td>\n",
       "      <td>...</td>\n",
       "      <td>...</td>\n",
       "      <td>...</td>\n",
       "      <td>...</td>\n",
       "      <td>...</td>\n",
       "      <td>...</td>\n",
       "      <td>...</td>\n",
       "      <td>...</td>\n",
       "      <td>...</td>\n",
       "      <td>...</td>\n",
       "      <td>...</td>\n",
       "      <td>...</td>\n",
       "      <td>...</td>\n",
       "      <td>...</td>\n",
       "      <td>...</td>\n",
       "      <td>...</td>\n",
       "      <td>...</td>\n",
       "      <td>...</td>\n",
       "      <td>...</td>\n",
       "      <td>...</td>\n",
       "      <td>...</td>\n",
       "      <td>...</td>\n",
       "      <td>...</td>\n",
       "      <td>...</td>\n",
       "      <td>...</td>\n",
       "      <td>...</td>\n",
       "      <td>...</td>\n",
       "      <td>...</td>\n",
       "      <td>...</td>\n",
       "      <td>...</td>\n",
       "      <td>...</td>\n",
       "      <td>...</td>\n",
       "      <td>...</td>\n",
       "      <td>...</td>\n",
       "      <td>...</td>\n",
       "      <td>...</td>\n",
       "      <td>...</td>\n",
       "      <td>...</td>\n",
       "      <td>...</td>\n",
       "      <td>...</td>\n",
       "      <td>...</td>\n",
       "      <td>...</td>\n",
       "      <td>...</td>\n",
       "    </tr>\n",
       "    <tr>\n",
       "      <th>29441</th>\n",
       "      <td>Volvo V40</td>\n",
       "      <td>D3 150ch R-Design Geartronic</td>\n",
       "      <td>\\nVolvo\\n</td>\n",
       "      <td>[\\n, V40 ,\\n]</td>\n",
       "      <td>19 rue des Alliés,  57050 Metz, FR</td>\n",
       "      <td>€ 18,999.-</td>\n",
       "      <td>[\\n, Sedan, \\n]</td>\n",
       "      <td>[\\n, Used, \\n]</td>\n",
       "      <td>[\\n, 5, \\n]</td>\n",
       "      <td>NaN</td>\n",
       "      <td>[\\n, 1380, \\n]</td>\n",
       "      <td>[\\n, 12 months, \\n]</td>\n",
       "      <td>93,257 km</td>\n",
       "      <td>05/2018</td>\n",
       "      <td>[\\nAutomatic\\n]</td>\n",
       "      <td>Diesel</td>\n",
       "      <td>NaN</td>\n",
       "      <td>NaN</td>\n",
       "      <td>[Gris Osmium;Préparation pour la caméra de rec...</td>\n",
       "      <td>Dealer</td>\n",
       "      <td>[\\n, 5, \\n]</td>\n",
       "      <td>[\\n112 kW (152 hp)\\n]</td>\n",
       "      <td>[\\n1,969 cc\\n]</td>\n",
       "      <td>NaN</td>\n",
       "      <td>108 g/km (comb.)</td>\n",
       "      <td>Gris Osmium</td>\n",
       "      <td>NaN</td>\n",
       "      <td>NaN</td>\n",
       "      <td>NaN</td>\n",
       "      <td>[Armrest, Automatic climate control, 2 zones, ...</td>\n",
       "      <td>NaN</td>\n",
       "      <td>[ABS, Driver-side airbag, Emergency brake assi...</td>\n",
       "      <td>[Emergency tyre]</td>\n",
       "      <td>NaN</td>\n",
       "      <td>NaN</td>\n",
       "      <td>NaN</td>\n",
       "      <td>NaN</td>\n",
       "      <td>NaN</td>\n",
       "      <td>NaN</td>\n",
       "      <td>NaN</td>\n",
       "      <td>NaN</td>\n",
       "      <td>NaN</td>\n",
       "      <td>NaN</td>\n",
       "      <td>NaN</td>\n",
       "      <td>NaN</td>\n",
       "      <td>NaN</td>\n",
       "    </tr>\n",
       "    <tr>\n",
       "      <th>29445</th>\n",
       "      <td>NaN</td>\n",
       "      <td>NaN</td>\n",
       "      <td>NaN</td>\n",
       "      <td>NaN</td>\n",
       "      <td>NaN</td>\n",
       "      <td>NaN</td>\n",
       "      <td>NaN</td>\n",
       "      <td>NaN</td>\n",
       "      <td>NaN</td>\n",
       "      <td>NaN</td>\n",
       "      <td>NaN</td>\n",
       "      <td>NaN</td>\n",
       "      <td>NaN</td>\n",
       "      <td>NaN</td>\n",
       "      <td>NaN</td>\n",
       "      <td>NaN</td>\n",
       "      <td>NaN</td>\n",
       "      <td>NaN</td>\n",
       "      <td>NaN</td>\n",
       "      <td>NaN</td>\n",
       "      <td>NaN</td>\n",
       "      <td>NaN</td>\n",
       "      <td>NaN</td>\n",
       "      <td>NaN</td>\n",
       "      <td>NaN</td>\n",
       "      <td>NaN</td>\n",
       "      <td>NaN</td>\n",
       "      <td>NaN</td>\n",
       "      <td>NaN</td>\n",
       "      <td>NaN</td>\n",
       "      <td>NaN</td>\n",
       "      <td>NaN</td>\n",
       "      <td>NaN</td>\n",
       "      <td>NaN</td>\n",
       "      <td>NaN</td>\n",
       "      <td>NaN</td>\n",
       "      <td>NaN</td>\n",
       "      <td>NaN</td>\n",
       "      <td>NaN</td>\n",
       "      <td>NaN</td>\n",
       "      <td>NaN</td>\n",
       "      <td>NaN</td>\n",
       "      <td>NaN</td>\n",
       "      <td>NaN</td>\n",
       "      <td>NaN</td>\n",
       "      <td>NaN</td>\n",
       "    </tr>\n",
       "    <tr>\n",
       "      <th>29451</th>\n",
       "      <td>NaN</td>\n",
       "      <td>NaN</td>\n",
       "      <td>NaN</td>\n",
       "      <td>NaN</td>\n",
       "      <td>NaN</td>\n",
       "      <td>NaN</td>\n",
       "      <td>NaN</td>\n",
       "      <td>NaN</td>\n",
       "      <td>NaN</td>\n",
       "      <td>NaN</td>\n",
       "      <td>NaN</td>\n",
       "      <td>NaN</td>\n",
       "      <td>NaN</td>\n",
       "      <td>NaN</td>\n",
       "      <td>NaN</td>\n",
       "      <td>NaN</td>\n",
       "      <td>NaN</td>\n",
       "      <td>NaN</td>\n",
       "      <td>NaN</td>\n",
       "      <td>NaN</td>\n",
       "      <td>NaN</td>\n",
       "      <td>NaN</td>\n",
       "      <td>NaN</td>\n",
       "      <td>NaN</td>\n",
       "      <td>NaN</td>\n",
       "      <td>NaN</td>\n",
       "      <td>NaN</td>\n",
       "      <td>NaN</td>\n",
       "      <td>NaN</td>\n",
       "      <td>NaN</td>\n",
       "      <td>NaN</td>\n",
       "      <td>NaN</td>\n",
       "      <td>NaN</td>\n",
       "      <td>NaN</td>\n",
       "      <td>NaN</td>\n",
       "      <td>NaN</td>\n",
       "      <td>NaN</td>\n",
       "      <td>NaN</td>\n",
       "      <td>NaN</td>\n",
       "      <td>NaN</td>\n",
       "      <td>NaN</td>\n",
       "      <td>NaN</td>\n",
       "      <td>NaN</td>\n",
       "      <td>NaN</td>\n",
       "      <td>NaN</td>\n",
       "      <td>NaN</td>\n",
       "    </tr>\n",
       "    <tr>\n",
       "      <th>29473</th>\n",
       "      <td>NaN</td>\n",
       "      <td>NaN</td>\n",
       "      <td>NaN</td>\n",
       "      <td>NaN</td>\n",
       "      <td>NaN</td>\n",
       "      <td>NaN</td>\n",
       "      <td>NaN</td>\n",
       "      <td>NaN</td>\n",
       "      <td>NaN</td>\n",
       "      <td>NaN</td>\n",
       "      <td>NaN</td>\n",
       "      <td>NaN</td>\n",
       "      <td>NaN</td>\n",
       "      <td>NaN</td>\n",
       "      <td>NaN</td>\n",
       "      <td>NaN</td>\n",
       "      <td>NaN</td>\n",
       "      <td>NaN</td>\n",
       "      <td>NaN</td>\n",
       "      <td>NaN</td>\n",
       "      <td>NaN</td>\n",
       "      <td>NaN</td>\n",
       "      <td>NaN</td>\n",
       "      <td>NaN</td>\n",
       "      <td>NaN</td>\n",
       "      <td>NaN</td>\n",
       "      <td>NaN</td>\n",
       "      <td>NaN</td>\n",
       "      <td>NaN</td>\n",
       "      <td>NaN</td>\n",
       "      <td>NaN</td>\n",
       "      <td>NaN</td>\n",
       "      <td>NaN</td>\n",
       "      <td>NaN</td>\n",
       "      <td>NaN</td>\n",
       "      <td>NaN</td>\n",
       "      <td>NaN</td>\n",
       "      <td>NaN</td>\n",
       "      <td>NaN</td>\n",
       "      <td>NaN</td>\n",
       "      <td>NaN</td>\n",
       "      <td>NaN</td>\n",
       "      <td>NaN</td>\n",
       "      <td>NaN</td>\n",
       "      <td>NaN</td>\n",
       "      <td>NaN</td>\n",
       "    </tr>\n",
       "    <tr>\n",
       "      <th>29479</th>\n",
       "      <td>NaN</td>\n",
       "      <td>NaN</td>\n",
       "      <td>NaN</td>\n",
       "      <td>NaN</td>\n",
       "      <td>NaN</td>\n",
       "      <td>NaN</td>\n",
       "      <td>NaN</td>\n",
       "      <td>NaN</td>\n",
       "      <td>NaN</td>\n",
       "      <td>NaN</td>\n",
       "      <td>NaN</td>\n",
       "      <td>NaN</td>\n",
       "      <td>NaN</td>\n",
       "      <td>NaN</td>\n",
       "      <td>NaN</td>\n",
       "      <td>NaN</td>\n",
       "      <td>NaN</td>\n",
       "      <td>NaN</td>\n",
       "      <td>NaN</td>\n",
       "      <td>NaN</td>\n",
       "      <td>NaN</td>\n",
       "      <td>NaN</td>\n",
       "      <td>NaN</td>\n",
       "      <td>NaN</td>\n",
       "      <td>NaN</td>\n",
       "      <td>NaN</td>\n",
       "      <td>NaN</td>\n",
       "      <td>NaN</td>\n",
       "      <td>NaN</td>\n",
       "      <td>NaN</td>\n",
       "      <td>NaN</td>\n",
       "      <td>NaN</td>\n",
       "      <td>NaN</td>\n",
       "      <td>NaN</td>\n",
       "      <td>NaN</td>\n",
       "      <td>NaN</td>\n",
       "      <td>NaN</td>\n",
       "      <td>NaN</td>\n",
       "      <td>NaN</td>\n",
       "      <td>NaN</td>\n",
       "      <td>NaN</td>\n",
       "      <td>NaN</td>\n",
       "      <td>NaN</td>\n",
       "      <td>NaN</td>\n",
       "      <td>NaN</td>\n",
       "      <td>NaN</td>\n",
       "    </tr>\n",
       "  </tbody>\n",
       "</table>\n",
       "<p>4384 rows × 46 columns</p>\n",
       "</div>"
      ],
      "text/plain": [
       "                     make_model                        short_description  \\\n",
       "579       Mercedes-Benz SLK 200     Kompressor Aut. Cabrio Final Edition   \n",
       "580       Mercedes-Benz SLK 200     Kompressor Aut. Cabrio Final Edition   \n",
       "610         Mercedes-Benz G 500  Cabrio LORINSER UMBAU/AHK/ELEKTR. SITZE   \n",
       "613         Mercedes-Benz G 500  Cabrio LORINSER UMBAU/AHK/ELEKTR. SITZE   \n",
       "839    Mercedes-Benz CLA 45 AMG      4Matic*KAMERA*NAVI*LED*DESIGNO*SHZ*   \n",
       "...                         ...                                      ...   \n",
       "29441                 Volvo V40             D3 150ch R-Design Geartronic   \n",
       "29445                       NaN                                      NaN   \n",
       "29451                       NaN                                      NaN   \n",
       "29473                       NaN                                      NaN   \n",
       "29479                       NaN                                      NaN   \n",
       "\n",
       "                    make                 model  \\\n",
       "579    \\nMercedes-Benz\\n     [\\n, SLK 200 ,\\n]   \n",
       "580    \\nMercedes-Benz\\n     [\\n, SLK 200 ,\\n]   \n",
       "610    \\nMercedes-Benz\\n       [\\n, G 500 ,\\n]   \n",
       "613    \\nMercedes-Benz\\n       [\\n, G 500 ,\\n]   \n",
       "839    \\nMercedes-Benz\\n  [\\n, CLA 45 AMG ,\\n]   \n",
       "...                  ...                   ...   \n",
       "29441          \\nVolvo\\n         [\\n, V40 ,\\n]   \n",
       "29445                NaN                   NaN   \n",
       "29451                NaN                   NaN   \n",
       "29473                NaN                   NaN   \n",
       "29479                NaN                   NaN   \n",
       "\n",
       "                                                location        price  \\\n",
       "579              Marienborner Str.  49,  55128 Mainz, DE   € 15,990.-   \n",
       "580              Marienborner Str.  49,  55128 Mainz, DE   € 15,990.-   \n",
       "610            Alte Bundesstr. 45,  71332 Waiblingen, DE  € 209,000.-   \n",
       "613            Alte Bundesstr. 45,  71332 Waiblingen, DE  € 209,000.-   \n",
       "839    Aidlinger Straße 16 - 18,  71069 Sindelfingen-...   € 33,890.-   \n",
       "...                                                  ...          ...   \n",
       "29441                 19 rue des Alliés,  57050 Metz, FR   € 18,999.-   \n",
       "29445                                                NaN          NaN   \n",
       "29451                                                NaN          NaN   \n",
       "29473                                                NaN          NaN   \n",
       "29479                                                NaN          NaN   \n",
       "\n",
       "                   body_type            type        doors    country_version  \\\n",
       "579    [\\n, Convertible, \\n]  [\\n, Used, \\n]  [\\n, 2, \\n]  [\\n, Germany, \\n]   \n",
       "580    [\\n, Convertible, \\n]  [\\n, Used, \\n]  [\\n, 2, \\n]  [\\n, Germany, \\n]   \n",
       "610    [\\n, Convertible, \\n]  [\\n, Used, \\n]  [\\n, 3, \\n]                NaN   \n",
       "613    [\\n, Convertible, \\n]  [\\n, Used, \\n]  [\\n, 3, \\n]                NaN   \n",
       "839          [\\n, Coupe, \\n]  [\\n, Used, \\n]  [\\n, 4, \\n]  [\\n, Germany, \\n]   \n",
       "...                      ...             ...          ...                ...   \n",
       "29441        [\\n, Sedan, \\n]  [\\n, Used, \\n]  [\\n, 5, \\n]                NaN   \n",
       "29445                    NaN             NaN          NaN                NaN   \n",
       "29451                    NaN             NaN          NaN                NaN   \n",
       "29473                    NaN             NaN          NaN                NaN   \n",
       "29479                    NaN             NaN          NaN                NaN   \n",
       "\n",
       "          offer_number             warranty     mileage first_registration  \\\n",
       "579                NaN        [\\n, Yes, \\n]   39,000 km            05/2003   \n",
       "580                NaN        [\\n, Yes, \\n]   39,000 km            05/2003   \n",
       "610    [\\n, 29474, \\n]                  NaN  172,000 km            02/1999   \n",
       "613    [\\n, 29474, \\n]                  NaN  172,000 km            02/1999   \n",
       "839    [\\n, M-174, \\n]        [\\n, Yes, \\n]   76,900 km            08/2016   \n",
       "...                ...                  ...         ...                ...   \n",
       "29441   [\\n, 1380, \\n]  [\\n, 12 months, \\n]   93,257 km            05/2018   \n",
       "29445              NaN                  NaN         NaN                NaN   \n",
       "29451              NaN                  NaN         NaN                NaN   \n",
       "29473              NaN                  NaN         NaN                NaN   \n",
       "29479              NaN                  NaN         NaN                NaN   \n",
       "\n",
       "               gearbox                             fuel_type  colour  \\\n",
       "579    [\\nAutomatic\\n]                    Regular/Benzine 91  Silver   \n",
       "580    [\\nAutomatic\\n]                    Regular/Benzine 91  Silver   \n",
       "610    [\\nAutomatic\\n]  Regular/Benzine 91 (Particle filter)   Black   \n",
       "613    [\\nAutomatic\\n]  Regular/Benzine 91 (Particle filter)   Black   \n",
       "839    [\\nAutomatic\\n]                    Regular/Benzine 91   White   \n",
       "...                ...                                   ...     ...   \n",
       "29441  [\\nAutomatic\\n]                                Diesel     NaN   \n",
       "29445              NaN                                   NaN     NaN   \n",
       "29451              NaN                                   NaN     NaN   \n",
       "29473              NaN                                   NaN     NaN   \n",
       "29479              NaN                                   NaN     NaN   \n",
       "\n",
       "          paint                                               desc  seller  \\\n",
       "579    Metallic  [Zum Verkauf steht ein gepflegter Mercedes-Ben...  Dealer   \n",
       "580    Metallic  [Zum Verkauf steht ein gepflegter Mercedes-Ben...  Dealer   \n",
       "610    Metallic  [unfallfrei, scheckheftgepflegt, Nichtraucher,...  Dealer   \n",
       "613    Metallic  [unfallfrei, scheckheftgepflegt, Nichtraucher,...  Dealer   \n",
       "839         NaN  [Sonderausstattung:, LED-Scheinwerfer, Navigat...  Dealer   \n",
       "...         ...                                                ...     ...   \n",
       "29441       NaN  [Gris Osmium;Préparation pour la caméra de rec...  Dealer   \n",
       "29445       NaN                                                NaN     NaN   \n",
       "29451       NaN                                                NaN     NaN   \n",
       "29473       NaN                                                NaN     NaN   \n",
       "29479       NaN                                                NaN     NaN   \n",
       "\n",
       "             seats                  power     engine_size gears  \\\n",
       "579    [\\n, 2, \\n]  [\\n120 kW (163 hp)\\n]  [\\n1,998 cc\\n]   NaN   \n",
       "580    [\\n, 2, \\n]  [\\n120 kW (163 hp)\\n]  [\\n1,998 cc\\n]   NaN   \n",
       "610    [\\n, 5, \\n]  [\\n218 kW (296 hp)\\n]  [\\n4,996 cc\\n]   NaN   \n",
       "613    [\\n, 5, \\n]  [\\n218 kW (296 hp)\\n]  [\\n4,996 cc\\n]   NaN   \n",
       "839    [\\n, 5, \\n]  [\\n280 kW (381 hp)\\n]  [\\n1,991 cc\\n]   NaN   \n",
       "...            ...                    ...             ...   ...   \n",
       "29441  [\\n, 5, \\n]  [\\n112 kW (152 hp)\\n]  [\\n1,969 cc\\n]   NaN   \n",
       "29445          NaN                    NaN             NaN   NaN   \n",
       "29451          NaN                    NaN             NaN   NaN   \n",
       "29473          NaN                    NaN             NaN   NaN   \n",
       "29479          NaN                    NaN             NaN   NaN   \n",
       "\n",
       "           co_emissions             manufacturer_colour     drivetrain  \\\n",
       "579    235 g/km (comb.)         Brillantsilber metallic            NaN   \n",
       "580    235 g/km (comb.)         Brillantsilber metallic            NaN   \n",
       "610    400 g/km (comb.)  Schwarz obsidianschwarz metall  [\\n, 4WD, \\n]   \n",
       "613    400 g/km (comb.)  Schwarz obsidianschwarz metall  [\\n, 4WD, \\n]   \n",
       "839    162 g/km (comb.)                     CALCITWEISS  [\\n, 4WD, \\n]   \n",
       "...                 ...                             ...            ...   \n",
       "29441  108 g/km (comb.)                     Gris Osmium            NaN   \n",
       "29445               NaN                             NaN            NaN   \n",
       "29451               NaN                             NaN            NaN   \n",
       "29473               NaN                             NaN            NaN   \n",
       "29479               NaN                             NaN            NaN   \n",
       "\n",
       "      cylinders                                   fuel_consumption  \\\n",
       "579         NaN  [[9.6 l/100 km (comb.)], [14.4 l/100 km (city)...   \n",
       "580         NaN  [[9.6 l/100 km (comb.)], [14.4 l/100 km (city)...   \n",
       "610         NaN  [[16.7 l/100 km (comb.)], [21.8 l/100 km (city...   \n",
       "613         NaN  [[16.7 l/100 km (comb.)], [21.8 l/100 km (city...   \n",
       "839         NaN  [[6.9 l/100 km (comb.)], [9.2 l/100 km (city)]...   \n",
       "...         ...                                                ...   \n",
       "29441       NaN                                                NaN   \n",
       "29445       NaN                                                NaN   \n",
       "29451       NaN                                                NaN   \n",
       "29473       NaN                                                NaN   \n",
       "29479       NaN                                                NaN   \n",
       "\n",
       "                                     comfort_convenience  \\\n",
       "579    [Air conditioning, Armrest, Cruise control, El...   \n",
       "580    [Air conditioning, Armrest, Cruise control, El...   \n",
       "610    [Air conditioning, Armrest, Cruise control, El...   \n",
       "613    [Air conditioning, Armrest, Cruise control, El...   \n",
       "839    [Air conditioning, Armrest, Automatic climate ...   \n",
       "...                                                  ...   \n",
       "29441  [Armrest, Automatic climate control, 2 zones, ...   \n",
       "29445                                                NaN   \n",
       "29451                                                NaN   \n",
       "29473                                                NaN   \n",
       "29479                                                NaN   \n",
       "\n",
       "                                     entertainment_media  \\\n",
       "579                                   [CD player, Radio]   \n",
       "580                                   [CD player, Radio]   \n",
       "610                           [On-board computer, Radio]   \n",
       "613                           [On-board computer, Radio]   \n",
       "839    [Bluetooth, CD player, Hands-free equipment, O...   \n",
       "...                                                  ...   \n",
       "29441                                                NaN   \n",
       "29445                                                NaN   \n",
       "29451                                                NaN   \n",
       "29473                                                NaN   \n",
       "29479                                                NaN   \n",
       "\n",
       "                                         safety_security  \\\n",
       "579    [Alarm system, Central door lock, Driver-side ...   \n",
       "580    [Alarm system, Central door lock, Driver-side ...   \n",
       "610    [Central door lock, Driver-side airbag, Fog li...   \n",
       "613    [Central door lock, Driver-side airbag, Fog li...   \n",
       "839    [ABS, Adaptive Cruise Control, Blind spot moni...   \n",
       "...                                                  ...   \n",
       "29441  [ABS, Driver-side airbag, Emergency brake assi...   \n",
       "29445                                                NaN   \n",
       "29451                                                NaN   \n",
       "29473                                                NaN   \n",
       "29479                                                NaN   \n",
       "\n",
       "                                                  extras    empty_weight  \\\n",
       "579                          [Alloy wheels, Sport seats]             NaN   \n",
       "580                          [Alloy wheels, Sport seats]             NaN   \n",
       "610             [Alloy wheels, Trailer hitch, Tuned car]  [\\n2,350 kg\\n]   \n",
       "613             [Alloy wheels, Trailer hitch, Tuned car]  [\\n2,350 kg\\n]   \n",
       "839    [Alloy wheels, Ambient lighting, Automatically...             NaN   \n",
       "...                                                  ...             ...   \n",
       "29441                                   [Emergency tyre]             NaN   \n",
       "29445                                                NaN             NaN   \n",
       "29451                                                NaN             NaN   \n",
       "29473                                                NaN             NaN   \n",
       "29479                                                NaN             NaN   \n",
       "\n",
       "               model_code general_inspection full_service_history  \\\n",
       "579                   NaN                New                  NaN   \n",
       "580                   NaN                New                  NaN   \n",
       "610    [\\n, 0710/403, \\n]                New                  Yes   \n",
       "613    [\\n, 0710/403, \\n]                New                  Yes   \n",
       "839                   NaN                New                  Yes   \n",
       "...                   ...                ...                  ...   \n",
       "29441                 NaN                NaN                  NaN   \n",
       "29445                 NaN                NaN                  NaN   \n",
       "29451                 NaN                NaN                  NaN   \n",
       "29473                 NaN                NaN                  NaN   \n",
       "29479                 NaN                NaN                  NaN   \n",
       "\n",
       "      non_smoker_vehicle emission_class emissions_sticker upholstery_colour  \\\n",
       "579                  Yes         Euro 4         4 (Green)             Black   \n",
       "580                  Yes         Euro 4         4 (Green)             Black   \n",
       "610                  Yes         Euro 4         4 (Green)             Black   \n",
       "613                  Yes         Euro 4         4 (Green)             Black   \n",
       "839                  Yes         Euro 6         4 (Green)             Black   \n",
       "...                  ...            ...               ...               ...   \n",
       "29441                NaN            NaN               NaN               NaN   \n",
       "29445                NaN            NaN               NaN               NaN   \n",
       "29451                NaN            NaN               NaN               NaN   \n",
       "29473                NaN            NaN               NaN               NaN   \n",
       "29479                NaN            NaN               NaN               NaN   \n",
       "\n",
       "         upholstery  production_date              previous_owner  \\\n",
       "579    Full leather              NaN   [[39,000 km, 05/2003], 1]   \n",
       "580    Full leather              NaN   [[39,000 km, 05/2003], 1]   \n",
       "610    Full leather          1999.00  [[172,000 km, 02/1999], 2]   \n",
       "613    Full leather          1999.00  [[172,000 km, 02/1999], 2]   \n",
       "839       alcantara              NaN   [[76,900 km, 08/2016], 2]   \n",
       "...             ...              ...                         ...   \n",
       "29441           NaN              NaN                         NaN   \n",
       "29445           NaN              NaN                         NaN   \n",
       "29451           NaN              NaN                         NaN   \n",
       "29473           NaN              NaN                         NaN   \n",
       "29479           NaN              NaN                         NaN   \n",
       "\n",
       "      energy_efficiency_class  \\\n",
       "579                       NaN   \n",
       "580                       NaN   \n",
       "610                         G   \n",
       "613                         G   \n",
       "839                       NaN   \n",
       "...                       ...   \n",
       "29441                     NaN   \n",
       "29445                     NaN   \n",
       "29451                     NaN   \n",
       "29473                     NaN   \n",
       "29479                     NaN   \n",
       "\n",
       "                                           co_efficiency  \n",
       "579                                                  NaN  \n",
       "580                                                  NaN  \n",
       "610    Calculated on basis of measured CO₂-emissions ...  \n",
       "613    Calculated on basis of measured CO₂-emissions ...  \n",
       "839                                                  NaN  \n",
       "...                                                  ...  \n",
       "29441                                                NaN  \n",
       "29445                                                NaN  \n",
       "29451                                                NaN  \n",
       "29473                                                NaN  \n",
       "29479                                                NaN  \n",
       "\n",
       "[4384 rows x 46 columns]"
      ]
     },
     "execution_count": 274,
     "metadata": {},
     "output_type": "execute_result"
    }
   ],
   "source": [
    "df[df.astype(str).duplicated(keep=False)]"
   ]
  },
  {
   "cell_type": "markdown",
   "metadata": {},
   "source": [
    "<div style=\"background-color: #ffcccb; padding: 10px; font-size: 14px;\">\n",
    "Here, the location column is important in determining duplicate values ​​because how many vehicles with the same features can be sold from the same address?\n",
    "</div>"
   ]
  },
  {
   "cell_type": "code",
   "execution_count": 275,
   "metadata": {
    "ExecuteTime": {
     "end_time": "2025-01-16T09:22:23.427646Z",
     "start_time": "2025-01-16T09:22:21.239721Z"
    }
   },
   "outputs": [
    {
     "data": {
      "text/plain": [
       "make_model\n",
       "Volvo C70                   690\n",
       "Volvo V40                   678\n",
       "Volvo XC60                  350\n",
       "Volvo V60                   308\n",
       "Volvo C30                   228\n",
       "Volvo V90                   208\n",
       "Volvo XC90                  206\n",
       "Volvo XC40                  196\n",
       "Dacia Sandero               112\n",
       "Nissan Qashqai              107\n",
       "Volvo V90 Cross Country      88\n",
       "Opel                         84\n",
       "SEAT Leon                    78\n",
       "Fiat Tipo                    77\n",
       "Ford Mustang                 75\n",
       "Fiat 500                     72\n",
       "Hyundai i30                  67\n",
       "Ford Focus                   64\n",
       "Nissan Micra                 61\n",
       "Dacia Jogger                 59\n",
       "Toyota Yaris                 51\n",
       "Ford Fiesta                  50\n",
       "Fiat 500C                    48\n",
       "Volvo V60 Cross Country      46\n",
       "Peugeot 208                  43\n",
       "Volvo V70                    42\n",
       "Renault Clio                 42\n",
       "SEAT Ibiza                   41\n",
       "Renault Megane               41\n",
       "Dacia Duster                 40\n",
       "Opel Corsa                   40\n",
       "Toyota C-HR                  35\n",
       "Fiat 500X                    33\n",
       "Toyota Auris                 32\n",
       "Volvo 480                    32\n",
       "Volvo V40 Cross Country      30\n",
       "Volvo P1800                  30\n",
       "Peugeot 308                  30\n",
       "Opel Astra                   30\n",
       "Hyundai TUCSON               29\n",
       "Volvo S90                    28\n",
       "Volvo XC70                   28\n",
       "Renault Captur               28\n",
       "Ford Mondeo                  28\n",
       "Peugeot 3008                 27\n",
       "Ford Kuga                    27\n",
       "Skoda Fabia                  26\n",
       "Dacia Spring                 25\n",
       "Volvo S60                    24\n",
       "Skoda Octavia                24\n",
       "Toyota Corolla               24\n",
       "Volvo                        22\n",
       "Toyota Land Cruiser          21\n",
       "Skoda Scala                  21\n",
       "Toyota Aygo                  20\n",
       "Renault Talisman             20\n",
       "Skoda Kodiaq                 19\n",
       "Nissan Pulsar                19\n",
       "Ford Puma                    19\n",
       "Volvo S40                    18\n",
       "Volvo 262                    18\n",
       "Mercedes-Benz A 45 AMG       17\n",
       "Opel Crossland X             17\n",
       "Peugeot 2008                 17\n",
       "SEAT Arona                   16\n",
       "Fiat 500L                    16\n",
       "Nissan Townstar              16\n",
       "Skoda Karoq                  15\n",
       "Renault ZOE                  14\n",
       "Toyota Aygo X                14\n",
       "Mercedes-Benz A 180          13\n",
       "Mercedes-Benz A 200          13\n",
       "Volvo 240                    12\n",
       "Skoda Kamiq                  12\n",
       "Opel Grandland X             11\n",
       "Hyundai IONIQ                11\n",
       "Volvo Amazon                 10\n",
       "Volvo V50                    10\n",
       "Dacia Logan                  10\n",
       "Peugeot RCZ                  10\n",
       "Renault Arkana               10\n",
       "Toyota RAV 4                 10\n",
       "Mercedes-Benz A 250          10\n",
       "Toyota Yaris Cross            9\n",
       "Mercedes-Benz CL              9\n",
       "Toyota Hilux                  9\n",
       "Mercedes-Benz GLC 220         8\n",
       "Toyota MR 2                   8\n",
       "Mercedes-Benz CLA 45 AMG      8\n",
       "Fiat Coupe                    8\n",
       "SEAT Ateca                    8\n",
       "Peugeot 5008                  8\n",
       "Renault Kadjar                8\n",
       "Nissan Juke                   7\n",
       "Ford Edge                     7\n",
       "Opel Insignia                 7\n",
       "Hyundai i20                   6\n",
       "Hyundai i10                   6\n",
       "Peugeot e-2008                6\n",
       "Skoda Superb                  6\n",
       "Fiat Panda                    6\n",
       "Opel Mokka                    6\n",
       "Ford Mustang Mach-E           6\n",
       "Hyundai Genesis               6\n",
       "Renault Trafic                6\n",
       "Renault Wind                  6\n",
       "Nissan Leaf                   6\n",
       "Mercedes-Benz C 200           6\n",
       "Opel Adam                     5\n",
       "Toyota Proace                 5\n",
       "Fiat 500e                     5\n",
       "Nissan 370Z                   4\n",
       "Volvo S80                     4\n",
       "Mercedes-Benz C 220           4\n",
       "Mercedes-Benz CLS 350         4\n",
       "Mercedes-Benz C 180           4\n",
       "Mercedes-Benz E 300           4\n",
       "Ford EcoSport                 4\n",
       "Hyundai KONA                  4\n",
       "Hyundai iX20                  4\n",
       "Mercedes-Benz G 63 AMG        4\n",
       "Mercedes-Benz                 4\n",
       "Mercedes-Benz CLA 200         4\n",
       "Fiat New Panda                4\n",
       "Mercedes-Benz CLS 400         4\n",
       "Fiat Barchetta                4\n",
       "Renault Koleos                4\n",
       "Mercedes-Benz E 53 AMG        4\n",
       "Fiat Punto                    4\n",
       "Volvo 780                     4\n",
       "Renault Laguna                4\n",
       "Volvo PV544                   4\n",
       "Renault Twingo                4\n",
       "Volvo C40                     4\n",
       "Mercedes-Benz GLA 45 AMG      3\n",
       "Peugeot 307                   3\n",
       "Mercedes-Benz SLK 200         3\n",
       "Mercedes-Benz C 250           2\n",
       "Mercedes-Benz S 63 AMG        2\n",
       "Volvo 740                     2\n",
       "Volvo 850                     2\n",
       "Hyundai Coupe                 2\n",
       "Hyundai iX35                  2\n",
       "Mercedes-Benz A 220           2\n",
       "Mercedes-Benz ML 63 AMG       2\n",
       "Mercedes-Benz AMG GT          2\n",
       "Hyundai Getz                  2\n",
       "Mercedes-Benz A 35 AMG        2\n",
       "Mercedes-Benz GLE 63 AMG      2\n",
       "Mercedes-Benz G 500           2\n",
       "Hyundai                       2\n",
       "Hyundai SANTA FE              2\n",
       "Mercedes-Benz C 43 AMG        2\n",
       "Hyundai BAYON                 2\n",
       "Mercedes-Benz CLK 200         2\n",
       "Mercedes-Benz E 200           2\n",
       "Nissan GT-R                   2\n",
       "Ford Transit Connect          2\n",
       "Mercedes-Benz C 300           2\n",
       "Mercedes-Benz EQS             2\n",
       "Opel Cascada                  2\n",
       "Dacia Dokker                  2\n",
       "Opel GT                       2\n",
       "Opel Monza                    2\n",
       "Dacia                         2\n",
       "Opel Crossland                2\n",
       "Skoda Enyaq                   2\n",
       "Skoda Rapid/Spaceback         2\n",
       "Opel Movano                   2\n",
       "SEAT Alhambra                 2\n",
       "SEAT Tarraco                  2\n",
       "Renault                       2\n",
       "Peugeot 108                   2\n",
       "Peugeot 508                   2\n",
       "Peugeot 207                   2\n",
       "Peugeot 206                   2\n",
       "Mercedes-Benz C 36 AMG        2\n",
       "Toyota FJ40                   2\n",
       "Ford Transit                  2\n",
       "Toyota Supra                  2\n",
       "Ford Tourneo Custom           2\n",
       "Ford F 150                    2\n",
       "Mercedes-Benz GLC 300         2\n",
       "Mercedes-Benz G 400           2\n",
       "Mercedes-Benz G 230           2\n",
       "Nissan Note                   2\n",
       "Nissan Primera                2\n",
       "Nissan Almera Tino            2\n",
       "Mercedes-Benz E 350           2\n",
       "Nissan Murano                 2\n",
       "Nissan 300 ZX                 2\n",
       "Nissan 350Z                   2\n",
       "Mercedes-Benz E 450           2\n",
       "Mercedes-Benz V 250           2\n",
       "Toyota Camry                  2\n",
       "Toyota Avensis                2\n",
       "Mercedes-Benz S 500           2\n",
       "Volvo 945                     2\n",
       "Name: count, dtype: int64"
      ]
     },
     "execution_count": 275,
     "metadata": {},
     "output_type": "execute_result"
    }
   ],
   "source": [
    "df[df.astype(str).duplicated(['make_model', 'short_description', 'location'], keep=False)]['make_model'].value_counts(dropna=True)"
   ]
  },
  {
   "cell_type": "code",
   "execution_count": 276,
   "metadata": {
    "ExecuteTime": {
     "end_time": "2025-01-16T09:22:26.448147Z",
     "start_time": "2025-01-16T09:22:23.433800Z"
    },
    "scrolled": false
   },
   "outputs": [
    {
     "data": {
      "text/html": [
       "<div>\n",
       "<style scoped>\n",
       "    .dataframe tbody tr th:only-of-type {\n",
       "        vertical-align: middle;\n",
       "    }\n",
       "\n",
       "    .dataframe tbody tr th {\n",
       "        vertical-align: top;\n",
       "    }\n",
       "\n",
       "    .dataframe thead th {\n",
       "        text-align: right;\n",
       "    }\n",
       "</style>\n",
       "<table border=\"1\" class=\"dataframe\">\n",
       "  <thead>\n",
       "    <tr style=\"text-align: right;\">\n",
       "      <th></th>\n",
       "      <th>make_model</th>\n",
       "      <th>short_description</th>\n",
       "      <th>make</th>\n",
       "      <th>model</th>\n",
       "      <th>location</th>\n",
       "      <th>price</th>\n",
       "      <th>body_type</th>\n",
       "      <th>type</th>\n",
       "      <th>doors</th>\n",
       "      <th>country_version</th>\n",
       "      <th>offer_number</th>\n",
       "      <th>warranty</th>\n",
       "      <th>mileage</th>\n",
       "      <th>first_registration</th>\n",
       "      <th>gearbox</th>\n",
       "      <th>fuel_type</th>\n",
       "      <th>colour</th>\n",
       "      <th>paint</th>\n",
       "      <th>desc</th>\n",
       "      <th>seller</th>\n",
       "      <th>seats</th>\n",
       "      <th>power</th>\n",
       "      <th>engine_size</th>\n",
       "      <th>gears</th>\n",
       "      <th>co_emissions</th>\n",
       "      <th>manufacturer_colour</th>\n",
       "      <th>drivetrain</th>\n",
       "      <th>cylinders</th>\n",
       "      <th>fuel_consumption</th>\n",
       "      <th>comfort_convenience</th>\n",
       "      <th>entertainment_media</th>\n",
       "      <th>safety_security</th>\n",
       "      <th>extras</th>\n",
       "      <th>empty_weight</th>\n",
       "      <th>model_code</th>\n",
       "      <th>general_inspection</th>\n",
       "      <th>full_service_history</th>\n",
       "      <th>non_smoker_vehicle</th>\n",
       "      <th>emission_class</th>\n",
       "      <th>emissions_sticker</th>\n",
       "      <th>upholstery_colour</th>\n",
       "      <th>upholstery</th>\n",
       "      <th>production_date</th>\n",
       "      <th>previous_owner</th>\n",
       "      <th>energy_efficiency_class</th>\n",
       "      <th>co_efficiency</th>\n",
       "    </tr>\n",
       "  </thead>\n",
       "  <tbody>\n",
       "    <tr>\n",
       "      <th>26470</th>\n",
       "      <td>Volvo C70</td>\n",
       "      <td>T5 Summum</td>\n",
       "      <td>\\nVolvo\\n</td>\n",
       "      <td>[\\n, C70 ,\\n]</td>\n",
       "      <td>RIO ULLA 15,  28017 MADRID, ES</td>\n",
       "      <td>€ 11,999.-</td>\n",
       "      <td>[\\n, Convertible, \\n]</td>\n",
       "      <td>[\\n, Used, \\n]</td>\n",
       "      <td>[\\n, 2, \\n]</td>\n",
       "      <td>[\\n, Spain, \\n]</td>\n",
       "      <td>[\\n, 7211423, \\n]</td>\n",
       "      <td>[\\n, 12 months, \\n]</td>\n",
       "      <td>199,000 km</td>\n",
       "      <td>03/2006</td>\n",
       "      <td>[\\nManual\\n]</td>\n",
       "      <td>Gasoline</td>\n",
       "      <td>Beige</td>\n",
       "      <td>Metallic</td>\n",
       "      <td>[Volvo C70 T5 220cv, Marzo 2006 único dueño, 1...</td>\n",
       "      <td>Dealer</td>\n",
       "      <td>[\\n, 4, \\n]</td>\n",
       "      <td>[\\n162 kW (220 hp)\\n]</td>\n",
       "      <td>[\\n2,435 cc\\n]</td>\n",
       "      <td>[\\n6\\n]</td>\n",
       "      <td>NaN</td>\n",
       "      <td>NaN</td>\n",
       "      <td>[\\n, Front, \\n]</td>\n",
       "      <td>[\\n5\\n]</td>\n",
       "      <td>[[9.1 l/100 km (comb.)], [11.8 l/100 km (city)...</td>\n",
       "      <td>[Air conditioning, Automatic climate control, ...</td>\n",
       "      <td>NaN</td>\n",
       "      <td>[ABS, Central door lock, Driver-side airbag, F...</td>\n",
       "      <td>[Alloy wheels]</td>\n",
       "      <td>[\\n1,711 kg\\n]</td>\n",
       "      <td>NaN</td>\n",
       "      <td>NaN</td>\n",
       "      <td>NaN</td>\n",
       "      <td>NaN</td>\n",
       "      <td>NaN</td>\n",
       "      <td>NaN</td>\n",
       "      <td>NaN</td>\n",
       "      <td>NaN</td>\n",
       "      <td>NaN</td>\n",
       "      <td>NaN</td>\n",
       "      <td>NaN</td>\n",
       "      <td>NaN</td>\n",
       "    </tr>\n",
       "    <tr>\n",
       "      <th>26471</th>\n",
       "      <td>Volvo C70</td>\n",
       "      <td>2.4i Momentum</td>\n",
       "      <td>\\nVolvo\\n</td>\n",
       "      <td>[\\n, C70 ,\\n]</td>\n",
       "      <td>Auf dem Sand 28,  40721 Hilden, DE</td>\n",
       "      <td>€ 11,880.-</td>\n",
       "      <td>[\\n, Convertible, \\n]</td>\n",
       "      <td>[\\n, Used, \\n]</td>\n",
       "      <td>[\\n, 2, \\n]</td>\n",
       "      <td>[\\n, Germany, \\n]</td>\n",
       "      <td>[\\n, 001731_3386, \\n]</td>\n",
       "      <td>[\\n, 12 months, \\n]</td>\n",
       "      <td>155,923 km</td>\n",
       "      <td>08/2006</td>\n",
       "      <td>[\\nManual\\n]</td>\n",
       "      <td>Super Plus 98</td>\n",
       "      <td>Gold</td>\n",
       "      <td>Metallic</td>\n",
       "      <td>[ * ABS,  * Airbag Fahrerseite,  * Airbag auf ...</td>\n",
       "      <td>Dealer</td>\n",
       "      <td>[\\n, 4, \\n]</td>\n",
       "      <td>[\\n125 kW (170 hp)\\n]</td>\n",
       "      <td>[\\n2,435 cc\\n]</td>\n",
       "      <td>[\\n5\\n]</td>\n",
       "      <td>215 g/km (comb.)</td>\n",
       "      <td>ZANZIBAR GOLD PEARL</td>\n",
       "      <td>[\\n, Front, \\n]</td>\n",
       "      <td>[\\n5\\n]</td>\n",
       "      <td>[[9 l/100 km (comb.)], [12.9 l/100 km (city)],...</td>\n",
       "      <td>[Air conditioning, Armrest, Automatic climate ...</td>\n",
       "      <td>[CD player, On-board computer, Radio, Sound sy...</td>\n",
       "      <td>[ABS, Bi-Xenon headlights, Central door lock, ...</td>\n",
       "      <td>[Alloy wheels (18\"), Automatically dimming int...</td>\n",
       "      <td>[\\n1,685 kg\\n]</td>\n",
       "      <td>[\\n, 9101/ABY, \\n]</td>\n",
       "      <td>New</td>\n",
       "      <td>Yes</td>\n",
       "      <td>NaN</td>\n",
       "      <td>Euro 4</td>\n",
       "      <td>4 (Green)</td>\n",
       "      <td>Beige</td>\n",
       "      <td>Part leather</td>\n",
       "      <td>NaN</td>\n",
       "      <td>[[155,923 km, 08/2006], 2]</td>\n",
       "      <td>F</td>\n",
       "      <td>Calculated on basis of measured CO₂-emissions ...</td>\n",
       "    </tr>\n",
       "    <tr>\n",
       "      <th>26472</th>\n",
       "      <td>Volvo C70</td>\n",
       "      <td>2.5T 220PS Cabriolet T5 Summum 1.Hand Xenon</td>\n",
       "      <td>\\nVolvo\\n</td>\n",
       "      <td>[\\n, C70 ,\\n]</td>\n",
       "      <td>Lichterfelder Allee 14,  14513 Teltow, DE</td>\n",
       "      <td>€ 20,999.-</td>\n",
       "      <td>[\\n, Convertible, \\n]</td>\n",
       "      <td>[\\n, Used, \\n]</td>\n",
       "      <td>[\\n, 2, \\n]</td>\n",
       "      <td>[\\n, Germany, \\n]</td>\n",
       "      <td>[\\n, 280, \\n]</td>\n",
       "      <td>[\\n, Yes, \\n]</td>\n",
       "      <td>69,747 km</td>\n",
       "      <td>05/2007</td>\n",
       "      <td>[\\nAutomatic\\n]</td>\n",
       "      <td>Regular/Benzine E10 91</td>\n",
       "      <td>Black</td>\n",
       "      <td>Metallic</td>\n",
       "      <td>[Herzlich Willkommen bei der Autohaus Klann Gm...</td>\n",
       "      <td>Dealer</td>\n",
       "      <td>[\\n, 4, \\n]</td>\n",
       "      <td>[\\n162 kW (220 hp)\\n]</td>\n",
       "      <td>[\\n2,521 cc\\n]</td>\n",
       "      <td>NaN</td>\n",
       "      <td>234 g/km (comb.)</td>\n",
       "      <td>Black Sapphire Metallic</td>\n",
       "      <td>NaN</td>\n",
       "      <td>NaN</td>\n",
       "      <td>[[9.8 l/100 km (comb.)], [14.7 l/100 km (city)...</td>\n",
       "      <td>[Air conditioning, Armrest, Automatic climate ...</td>\n",
       "      <td>[CD player, On-board computer, Radio, Sound sy...</td>\n",
       "      <td>[ABS, Bi-Xenon headlights, Central door lock, ...</td>\n",
       "      <td>[All season tyres, Alloy wheels, Automatically...</td>\n",
       "      <td>NaN</td>\n",
       "      <td>NaN</td>\n",
       "      <td>04/2024</td>\n",
       "      <td>Yes</td>\n",
       "      <td>Yes</td>\n",
       "      <td>Euro 4</td>\n",
       "      <td>4 (Green)</td>\n",
       "      <td>Grey</td>\n",
       "      <td>Full leather</td>\n",
       "      <td>NaN</td>\n",
       "      <td>[[69,747 km, 05/2007], 1]</td>\n",
       "      <td>NaN</td>\n",
       "      <td>NaN</td>\n",
       "    </tr>\n",
       "    <tr>\n",
       "      <th>26473</th>\n",
       "      <td>Volvo C70</td>\n",
       "      <td>2.0 D3 150PS Cabriolet Momentum Automatik</td>\n",
       "      <td>\\nVolvo\\n</td>\n",
       "      <td>[\\n, C70 ,\\n]</td>\n",
       "      <td>Lichterfelder Allee 14,  14513 Teltow, DE</td>\n",
       "      <td>€ 14,999.-</td>\n",
       "      <td>[\\n, Convertible, \\n]</td>\n",
       "      <td>[\\n, Used, \\n]</td>\n",
       "      <td>[\\n, 2, \\n]</td>\n",
       "      <td>[\\n, Germany, \\n]</td>\n",
       "      <td>[\\n, 494-P2, \\n]</td>\n",
       "      <td>[\\n, Yes, \\n]</td>\n",
       "      <td>146,348 km</td>\n",
       "      <td>10/2011</td>\n",
       "      <td>[\\nAutomatic\\n]</td>\n",
       "      <td>Diesel</td>\n",
       "      <td>Blue</td>\n",
       "      <td>Metallic</td>\n",
       "      <td>[Herzlich Willkommen bei der Autohaus Klann Gm...</td>\n",
       "      <td>Dealer</td>\n",
       "      <td>[\\n, 4, \\n]</td>\n",
       "      <td>[\\n110 kW (150 hp)\\n]</td>\n",
       "      <td>[\\n1,984 cc\\n]</td>\n",
       "      <td>NaN</td>\n",
       "      <td>NaN</td>\n",
       "      <td>CASPIAN BLUE METALLIC</td>\n",
       "      <td>NaN</td>\n",
       "      <td>NaN</td>\n",
       "      <td>NaN</td>\n",
       "      <td>[Air conditioning, Armrest, Automatic climate ...</td>\n",
       "      <td>[Bluetooth, CD player, Hands-free equipment, O...</td>\n",
       "      <td>[ABS, Central door lock, Driver-side airbag, E...</td>\n",
       "      <td>[All season tyres, Alloy wheels, Automatically...</td>\n",
       "      <td>NaN</td>\n",
       "      <td>NaN</td>\n",
       "      <td>08/2023</td>\n",
       "      <td>Yes</td>\n",
       "      <td>Yes</td>\n",
       "      <td>Euro 5</td>\n",
       "      <td>4 (Green)</td>\n",
       "      <td>Black</td>\n",
       "      <td>Part leather</td>\n",
       "      <td>NaN</td>\n",
       "      <td>[[146,348 km, 10/2011], 1]</td>\n",
       "      <td>NaN</td>\n",
       "      <td>NaN</td>\n",
       "    </tr>\n",
       "    <tr>\n",
       "      <th>26474</th>\n",
       "      <td>Volvo C70</td>\n",
       "      <td>2.0D SUMMUM</td>\n",
       "      <td>\\nVolvo\\n</td>\n",
       "      <td>[\\n, C70 ,\\n]</td>\n",
       "      <td>POL. IND. DE CROSS 39600 SANTANDER CANTABRIA E...</td>\n",
       "      <td>€ 9,900.-</td>\n",
       "      <td>[\\n, Convertible, \\n]</td>\n",
       "      <td>[\\n, Used, \\n]</td>\n",
       "      <td>[\\n, 2, \\n]</td>\n",
       "      <td>[\\n, Spain, \\n]</td>\n",
       "      <td>[\\n, 7273637, \\n]</td>\n",
       "      <td>[\\n, 12 months, \\n]</td>\n",
       "      <td>144,000 km</td>\n",
       "      <td>05/2008</td>\n",
       "      <td>[\\nManual\\n]</td>\n",
       "      <td>Diesel</td>\n",
       "      <td>Silver</td>\n",
       "      <td>NaN</td>\n",
       "      <td>[ , Precio al contado: 9990 euros,  , Hola, ¿Q...</td>\n",
       "      <td>Dealer</td>\n",
       "      <td>NaN</td>\n",
       "      <td>[\\n100 kW (136 hp)\\n]</td>\n",
       "      <td>[\\n2,000 cc\\n]</td>\n",
       "      <td>NaN</td>\n",
       "      <td>NaN</td>\n",
       "      <td>Gris / Plata</td>\n",
       "      <td>NaN</td>\n",
       "      <td>NaN</td>\n",
       "      <td>NaN</td>\n",
       "      <td>NaN</td>\n",
       "      <td>NaN</td>\n",
       "      <td>NaN</td>\n",
       "      <td>NaN</td>\n",
       "      <td>NaN</td>\n",
       "      <td>NaN</td>\n",
       "      <td>NaN</td>\n",
       "      <td>NaN</td>\n",
       "      <td>NaN</td>\n",
       "      <td>NaN</td>\n",
       "      <td>NaN</td>\n",
       "      <td>NaN</td>\n",
       "      <td>NaN</td>\n",
       "      <td>NaN</td>\n",
       "      <td>NaN</td>\n",
       "      <td>NaN</td>\n",
       "      <td>NaN</td>\n",
       "    </tr>\n",
       "    <tr>\n",
       "      <th>...</th>\n",
       "      <td>...</td>\n",
       "      <td>...</td>\n",
       "      <td>...</td>\n",
       "      <td>...</td>\n",
       "      <td>...</td>\n",
       "      <td>...</td>\n",
       "      <td>...</td>\n",
       "      <td>...</td>\n",
       "      <td>...</td>\n",
       "      <td>...</td>\n",
       "      <td>...</td>\n",
       "      <td>...</td>\n",
       "      <td>...</td>\n",
       "      <td>...</td>\n",
       "      <td>...</td>\n",
       "      <td>...</td>\n",
       "      <td>...</td>\n",
       "      <td>...</td>\n",
       "      <td>...</td>\n",
       "      <td>...</td>\n",
       "      <td>...</td>\n",
       "      <td>...</td>\n",
       "      <td>...</td>\n",
       "      <td>...</td>\n",
       "      <td>...</td>\n",
       "      <td>...</td>\n",
       "      <td>...</td>\n",
       "      <td>...</td>\n",
       "      <td>...</td>\n",
       "      <td>...</td>\n",
       "      <td>...</td>\n",
       "      <td>...</td>\n",
       "      <td>...</td>\n",
       "      <td>...</td>\n",
       "      <td>...</td>\n",
       "      <td>...</td>\n",
       "      <td>...</td>\n",
       "      <td>...</td>\n",
       "      <td>...</td>\n",
       "      <td>...</td>\n",
       "      <td>...</td>\n",
       "      <td>...</td>\n",
       "      <td>...</td>\n",
       "      <td>...</td>\n",
       "      <td>...</td>\n",
       "      <td>...</td>\n",
       "    </tr>\n",
       "    <tr>\n",
       "      <th>27449</th>\n",
       "      <td>Volvo C70</td>\n",
       "      <td>C70 Coupe 2.5 193cv</td>\n",
       "      <td>\\nVolvo\\n</td>\n",
       "      <td>[\\n, C70 ,\\n]</td>\n",
       "      <td>47923 Rimini, IT</td>\n",
       "      <td>€ 7,400.-</td>\n",
       "      <td>[\\n, Coupe, \\n]</td>\n",
       "      <td>[\\n, Used, \\n]</td>\n",
       "      <td>[\\n, 2, \\n]</td>\n",
       "      <td>NaN</td>\n",
       "      <td>NaN</td>\n",
       "      <td>NaN</td>\n",
       "      <td>219,000 km</td>\n",
       "      <td>01/2001</td>\n",
       "      <td>[\\nManual\\n]</td>\n",
       "      <td>LPG</td>\n",
       "      <td>Blue</td>\n",
       "      <td>Metallic</td>\n",
       "      <td>[Vendo Volvo C70 2.4 turbo 193cv del 2001. 5 c...</td>\n",
       "      <td>Private seller</td>\n",
       "      <td>[\\n, 4, \\n]</td>\n",
       "      <td>[\\n142 kW (193 hp)\\n]</td>\n",
       "      <td>[\\n2,435 cc\\n]</td>\n",
       "      <td>[\\n5\\n]</td>\n",
       "      <td>NaN</td>\n",
       "      <td>NaN</td>\n",
       "      <td>[\\n, Front, \\n]</td>\n",
       "      <td>[\\n5\\n]</td>\n",
       "      <td>[[9.9 l/100 km (comb.)], [13.7 l/100 km (city)...</td>\n",
       "      <td>[Air conditioning, Armrest, Automatic climate ...</td>\n",
       "      <td>[CD player, On-board computer, Radio, Sound sy...</td>\n",
       "      <td>[ABS, Adaptive headlights, Alarm system, Centr...</td>\n",
       "      <td>[Alloy wheels (17\"), Ambient lighting, Automat...</td>\n",
       "      <td>[\\n1,551 kg\\n]</td>\n",
       "      <td>NaN</td>\n",
       "      <td>02/2024</td>\n",
       "      <td>NaN</td>\n",
       "      <td>Yes</td>\n",
       "      <td>Euro 6</td>\n",
       "      <td>NaN</td>\n",
       "      <td>Grey</td>\n",
       "      <td>Full leather</td>\n",
       "      <td>NaN</td>\n",
       "      <td>NaN</td>\n",
       "      <td>NaN</td>\n",
       "      <td>NaN</td>\n",
       "    </tr>\n",
       "    <tr>\n",
       "      <th>27450</th>\n",
       "      <td>Volvo C70</td>\n",
       "      <td>Coupé 2.0 T Prestige UNIEK!</td>\n",
       "      <td>\\nVolvo\\n</td>\n",
       "      <td>[\\n, C70 ,\\n]</td>\n",
       "      <td>Edisonweg 16a,  2952 AD ALBLASSERDAM, NL</td>\n",
       "      <td>€ 8,950.-</td>\n",
       "      <td>[\\n, Coupe, \\n]</td>\n",
       "      <td>[\\n, Used, \\n]</td>\n",
       "      <td>[\\n, 2, \\n]</td>\n",
       "      <td>NaN</td>\n",
       "      <td>[\\n, 50157964, \\n]</td>\n",
       "      <td>NaN</td>\n",
       "      <td>118,232 km</td>\n",
       "      <td>12/2000</td>\n",
       "      <td>[\\nManual\\n]</td>\n",
       "      <td>Gasoline</td>\n",
       "      <td>Orange</td>\n",
       "      <td>Metallic</td>\n",
       "      <td>[Voor de echte liefhebber: een unieke Volvo C7...</td>\n",
       "      <td>Dealer</td>\n",
       "      <td>[\\n, 4, \\n]</td>\n",
       "      <td>[\\n120 kW (163 hp)\\n]</td>\n",
       "      <td>[\\n1,984 cc\\n]</td>\n",
       "      <td>[\\n5\\n]</td>\n",
       "      <td>234 g/km (comb.)</td>\n",
       "      <td>Saffron Pearl 435</td>\n",
       "      <td>[\\n, Front, \\n]</td>\n",
       "      <td>[\\n5\\n]</td>\n",
       "      <td>[[9.7 l/100 km (comb.)], [13.5 l/100 km (city)...</td>\n",
       "      <td>[Air conditioning, Armrest, Automatic climate ...</td>\n",
       "      <td>[CD player, On-board computer, Radio]</td>\n",
       "      <td>[ABS, Alarm system, Central door lock, Central...</td>\n",
       "      <td>[Alloy wheels (16\"), Automatically dimming int...</td>\n",
       "      <td>[\\n1,436 kg\\n]</td>\n",
       "      <td>NaN</td>\n",
       "      <td>New</td>\n",
       "      <td>Yes</td>\n",
       "      <td>NaN</td>\n",
       "      <td>NaN</td>\n",
       "      <td>NaN</td>\n",
       "      <td>Other</td>\n",
       "      <td>Full leather</td>\n",
       "      <td>NaN</td>\n",
       "      <td>[[118,232 km, 12/2000], 2]</td>\n",
       "      <td>NaN</td>\n",
       "      <td>NaN</td>\n",
       "    </tr>\n",
       "    <tr>\n",
       "      <th>27451</th>\n",
       "      <td>Volvo C70</td>\n",
       "      <td>COUPE' 2000 TURBO T5 226CV</td>\n",
       "      <td>\\nVolvo\\n</td>\n",
       "      <td>[\\n, C70 ,\\n]</td>\n",
       "      <td>41126 Modena, IT</td>\n",
       "      <td>€ 7,500.-</td>\n",
       "      <td>[\\n, Coupe, \\n]</td>\n",
       "      <td>[\\n, Used, \\n]</td>\n",
       "      <td>[\\n, 2, \\n]</td>\n",
       "      <td>NaN</td>\n",
       "      <td>NaN</td>\n",
       "      <td>NaN</td>\n",
       "      <td>227,000 km</td>\n",
       "      <td>02/2000</td>\n",
       "      <td>[\\nManual\\n]</td>\n",
       "      <td>Gasoline</td>\n",
       "      <td>Silver</td>\n",
       "      <td>Metallic</td>\n",
       "      <td>[Volvo C70 prima serie anno 2000, motore benzi...</td>\n",
       "      <td>Private seller</td>\n",
       "      <td>[\\n, 4, \\n]</td>\n",
       "      <td>[\\n166 kW (226 hp)\\n]</td>\n",
       "      <td>[\\n2,000 cc\\n]</td>\n",
       "      <td>[\\n5\\n]</td>\n",
       "      <td>NaN</td>\n",
       "      <td>NaN</td>\n",
       "      <td>[\\n, Front, \\n]</td>\n",
       "      <td>[\\n5\\n]</td>\n",
       "      <td>[[8.5 l/100 km (comb.)]]</td>\n",
       "      <td>[Air conditioning, Armrest, Auxiliary heating,...</td>\n",
       "      <td>[Android Auto, Apple CarPlay, Bluetooth, Digit...</td>\n",
       "      <td>[ABS, Alarm system, Central door lock, Central...</td>\n",
       "      <td>[Alloy wheels (17\"), Spare tyre, Summer tyres,...</td>\n",
       "      <td>[\\n1,491 kg\\n]</td>\n",
       "      <td>NaN</td>\n",
       "      <td>07/2023</td>\n",
       "      <td>Yes</td>\n",
       "      <td>Yes</td>\n",
       "      <td>Euro 3</td>\n",
       "      <td>NaN</td>\n",
       "      <td>Black</td>\n",
       "      <td>Full leather</td>\n",
       "      <td>NaN</td>\n",
       "      <td>[[227,000 km, 02/2000], 1]</td>\n",
       "      <td>NaN</td>\n",
       "      <td>NaN</td>\n",
       "    </tr>\n",
       "    <tr>\n",
       "      <th>27456</th>\n",
       "      <td>Volvo C70</td>\n",
       "      <td>2.5T</td>\n",
       "      <td>\\nVolvo\\n</td>\n",
       "      <td>[\\n, C70 ,\\n]</td>\n",
       "      <td>94051 Hauzenberg, DE</td>\n",
       "      <td>€ 12,500.-</td>\n",
       "      <td>[\\n, Coupe, \\n]</td>\n",
       "      <td>[\\n, Used, \\n]</td>\n",
       "      <td>[\\n, 2, \\n]</td>\n",
       "      <td>NaN</td>\n",
       "      <td>NaN</td>\n",
       "      <td>NaN</td>\n",
       "      <td>182,000 km</td>\n",
       "      <td>11/1998</td>\n",
       "      <td>[\\nAutomatic\\n]</td>\n",
       "      <td>Gasoline</td>\n",
       "      <td>Red</td>\n",
       "      <td>Metallic</td>\n",
       "      <td>[Guter Zustand innen wie außen, voll funktions...</td>\n",
       "      <td>Private seller</td>\n",
       "      <td>[\\n, 4, \\n]</td>\n",
       "      <td>[\\n142 kW (193 hp)\\n]</td>\n",
       "      <td>[\\n2,435 cc\\n]</td>\n",
       "      <td>[\\n4\\n]</td>\n",
       "      <td>250 g/km (comb.)</td>\n",
       "      <td>NaN</td>\n",
       "      <td>[\\n, Front, \\n]</td>\n",
       "      <td>[\\n5\\n]</td>\n",
       "      <td>[[10.7 l/100 km (comb.)], [15.3 l/100 km (city...</td>\n",
       "      <td>[Armrest, Automatic climate control, 2 zones, ...</td>\n",
       "      <td>[CD player, Hands-free equipment, On-board com...</td>\n",
       "      <td>[ABS, Central door lock with remote control, D...</td>\n",
       "      <td>[Alloy wheels (16\"), Automatically dimming int...</td>\n",
       "      <td>[\\n1,480 kg\\n]</td>\n",
       "      <td>NaN</td>\n",
       "      <td>06/2024</td>\n",
       "      <td>Yes</td>\n",
       "      <td>Yes</td>\n",
       "      <td>Euro 3</td>\n",
       "      <td>1 (No sticker)</td>\n",
       "      <td>Beige</td>\n",
       "      <td>Full leather</td>\n",
       "      <td>NaN</td>\n",
       "      <td>[[182,000 km, 11/1998], 1]</td>\n",
       "      <td>NaN</td>\n",
       "      <td>NaN</td>\n",
       "    </tr>\n",
       "    <tr>\n",
       "      <th>27486</th>\n",
       "      <td>Volvo C70</td>\n",
       "      <td>2.0 D Summum</td>\n",
       "      <td>\\nVolvo\\n</td>\n",
       "      <td>[\\n, C70 ,\\n]</td>\n",
       "      <td>Viale della Marina, 59,  00122 Ostia lido - Ro...</td>\n",
       "      <td>€ 9,900.-</td>\n",
       "      <td>[\\n, Coupe, \\n]</td>\n",
       "      <td>[\\n, Used, \\n]</td>\n",
       "      <td>[\\n, 2, \\n]</td>\n",
       "      <td>[\\n, Italy, \\n]</td>\n",
       "      <td>NaN</td>\n",
       "      <td>NaN</td>\n",
       "      <td>195,000 km</td>\n",
       "      <td>07/2008</td>\n",
       "      <td>[\\nAutomatic\\n]</td>\n",
       "      <td>Diesel</td>\n",
       "      <td>Silver</td>\n",
       "      <td>NaN</td>\n",
       "      <td>[CONTO VENDITA PRIVATO, OTTIME CONDIZIONI DI C...</td>\n",
       "      <td>Dealer</td>\n",
       "      <td>[\\n, 4, \\n]</td>\n",
       "      <td>[\\n100 kW (136 hp)\\n]</td>\n",
       "      <td>[\\n1,997 cc\\n]</td>\n",
       "      <td>[\\n6\\n]</td>\n",
       "      <td>158 g/km (comb.)</td>\n",
       "      <td>NaN</td>\n",
       "      <td>[\\n, Front, \\n]</td>\n",
       "      <td>[\\n4\\n]</td>\n",
       "      <td>[[6 l/100 km (comb.)], [7.9 l/100 km (city)], ...</td>\n",
       "      <td>[Air conditioning, Armrest, Automatic climate ...</td>\n",
       "      <td>[Bluetooth, CD player, Hands-free equipment, M...</td>\n",
       "      <td>[ABS, Central door lock, Driver-side airbag, E...</td>\n",
       "      <td>[Alloy wheels (18\"), Emergency tyre]</td>\n",
       "      <td>[\\n1,706 kg\\n]</td>\n",
       "      <td>NaN</td>\n",
       "      <td>NaN</td>\n",
       "      <td>NaN</td>\n",
       "      <td>NaN</td>\n",
       "      <td>Euro 4</td>\n",
       "      <td>NaN</td>\n",
       "      <td>Black</td>\n",
       "      <td>Full leather</td>\n",
       "      <td>NaN</td>\n",
       "      <td>[[195,000 km, 07/2008], 2]</td>\n",
       "      <td>NaN</td>\n",
       "      <td>NaN</td>\n",
       "    </tr>\n",
       "  </tbody>\n",
       "</table>\n",
       "<p>692 rows × 46 columns</p>\n",
       "</div>"
      ],
      "text/plain": [
       "      make_model                            short_description       make  \\\n",
       "26470  Volvo C70                                    T5 Summum  \\nVolvo\\n   \n",
       "26471  Volvo C70                                2.4i Momentum  \\nVolvo\\n   \n",
       "26472  Volvo C70  2.5T 220PS Cabriolet T5 Summum 1.Hand Xenon  \\nVolvo\\n   \n",
       "26473  Volvo C70    2.0 D3 150PS Cabriolet Momentum Automatik  \\nVolvo\\n   \n",
       "26474  Volvo C70                                  2.0D SUMMUM  \\nVolvo\\n   \n",
       "...          ...                                          ...        ...   \n",
       "27449  Volvo C70                          C70 Coupe 2.5 193cv  \\nVolvo\\n   \n",
       "27450  Volvo C70                  Coupé 2.0 T Prestige UNIEK!  \\nVolvo\\n   \n",
       "27451  Volvo C70                   COUPE' 2000 TURBO T5 226CV  \\nVolvo\\n   \n",
       "27456  Volvo C70                                         2.5T  \\nVolvo\\n   \n",
       "27486  Volvo C70                                 2.0 D Summum  \\nVolvo\\n   \n",
       "\n",
       "               model                                           location  \\\n",
       "26470  [\\n, C70 ,\\n]                     RIO ULLA 15,  28017 MADRID, ES   \n",
       "26471  [\\n, C70 ,\\n]                 Auf dem Sand 28,  40721 Hilden, DE   \n",
       "26472  [\\n, C70 ,\\n]          Lichterfelder Allee 14,  14513 Teltow, DE   \n",
       "26473  [\\n, C70 ,\\n]          Lichterfelder Allee 14,  14513 Teltow, DE   \n",
       "26474  [\\n, C70 ,\\n]  POL. IND. DE CROSS 39600 SANTANDER CANTABRIA E...   \n",
       "...              ...                                                ...   \n",
       "27449  [\\n, C70 ,\\n]                                   47923 Rimini, IT   \n",
       "27450  [\\n, C70 ,\\n]           Edisonweg 16a,  2952 AD ALBLASSERDAM, NL   \n",
       "27451  [\\n, C70 ,\\n]                                   41126 Modena, IT   \n",
       "27456  [\\n, C70 ,\\n]                               94051 Hauzenberg, DE   \n",
       "27486  [\\n, C70 ,\\n]  Viale della Marina, 59,  00122 Ostia lido - Ro...   \n",
       "\n",
       "            price              body_type            type        doors  \\\n",
       "26470  € 11,999.-  [\\n, Convertible, \\n]  [\\n, Used, \\n]  [\\n, 2, \\n]   \n",
       "26471  € 11,880.-  [\\n, Convertible, \\n]  [\\n, Used, \\n]  [\\n, 2, \\n]   \n",
       "26472  € 20,999.-  [\\n, Convertible, \\n]  [\\n, Used, \\n]  [\\n, 2, \\n]   \n",
       "26473  € 14,999.-  [\\n, Convertible, \\n]  [\\n, Used, \\n]  [\\n, 2, \\n]   \n",
       "26474   € 9,900.-  [\\n, Convertible, \\n]  [\\n, Used, \\n]  [\\n, 2, \\n]   \n",
       "...           ...                    ...             ...          ...   \n",
       "27449   € 7,400.-        [\\n, Coupe, \\n]  [\\n, Used, \\n]  [\\n, 2, \\n]   \n",
       "27450   € 8,950.-        [\\n, Coupe, \\n]  [\\n, Used, \\n]  [\\n, 2, \\n]   \n",
       "27451   € 7,500.-        [\\n, Coupe, \\n]  [\\n, Used, \\n]  [\\n, 2, \\n]   \n",
       "27456  € 12,500.-        [\\n, Coupe, \\n]  [\\n, Used, \\n]  [\\n, 2, \\n]   \n",
       "27486   € 9,900.-        [\\n, Coupe, \\n]  [\\n, Used, \\n]  [\\n, 2, \\n]   \n",
       "\n",
       "         country_version           offer_number             warranty  \\\n",
       "26470    [\\n, Spain, \\n]      [\\n, 7211423, \\n]  [\\n, 12 months, \\n]   \n",
       "26471  [\\n, Germany, \\n]  [\\n, 001731_3386, \\n]  [\\n, 12 months, \\n]   \n",
       "26472  [\\n, Germany, \\n]          [\\n, 280, \\n]        [\\n, Yes, \\n]   \n",
       "26473  [\\n, Germany, \\n]       [\\n, 494-P2, \\n]        [\\n, Yes, \\n]   \n",
       "26474    [\\n, Spain, \\n]      [\\n, 7273637, \\n]  [\\n, 12 months, \\n]   \n",
       "...                  ...                    ...                  ...   \n",
       "27449                NaN                    NaN                  NaN   \n",
       "27450                NaN     [\\n, 50157964, \\n]                  NaN   \n",
       "27451                NaN                    NaN                  NaN   \n",
       "27456                NaN                    NaN                  NaN   \n",
       "27486    [\\n, Italy, \\n]                    NaN                  NaN   \n",
       "\n",
       "          mileage first_registration          gearbox               fuel_type  \\\n",
       "26470  199,000 km            03/2006     [\\nManual\\n]                Gasoline   \n",
       "26471  155,923 km            08/2006     [\\nManual\\n]           Super Plus 98   \n",
       "26472   69,747 km            05/2007  [\\nAutomatic\\n]  Regular/Benzine E10 91   \n",
       "26473  146,348 km            10/2011  [\\nAutomatic\\n]                  Diesel   \n",
       "26474  144,000 km            05/2008     [\\nManual\\n]                  Diesel   \n",
       "...           ...                ...              ...                     ...   \n",
       "27449  219,000 km            01/2001     [\\nManual\\n]                     LPG   \n",
       "27450  118,232 km            12/2000     [\\nManual\\n]                Gasoline   \n",
       "27451  227,000 km            02/2000     [\\nManual\\n]                Gasoline   \n",
       "27456  182,000 km            11/1998  [\\nAutomatic\\n]                Gasoline   \n",
       "27486  195,000 km            07/2008  [\\nAutomatic\\n]                  Diesel   \n",
       "\n",
       "       colour     paint                                               desc  \\\n",
       "26470   Beige  Metallic  [Volvo C70 T5 220cv, Marzo 2006 único dueño, 1...   \n",
       "26471    Gold  Metallic  [ * ABS,  * Airbag Fahrerseite,  * Airbag auf ...   \n",
       "26472   Black  Metallic  [Herzlich Willkommen bei der Autohaus Klann Gm...   \n",
       "26473    Blue  Metallic  [Herzlich Willkommen bei der Autohaus Klann Gm...   \n",
       "26474  Silver       NaN  [ , Precio al contado: 9990 euros,  , Hola, ¿Q...   \n",
       "...       ...       ...                                                ...   \n",
       "27449    Blue  Metallic  [Vendo Volvo C70 2.4 turbo 193cv del 2001. 5 c...   \n",
       "27450  Orange  Metallic  [Voor de echte liefhebber: een unieke Volvo C7...   \n",
       "27451  Silver  Metallic  [Volvo C70 prima serie anno 2000, motore benzi...   \n",
       "27456     Red  Metallic  [Guter Zustand innen wie außen, voll funktions...   \n",
       "27486  Silver       NaN  [CONTO VENDITA PRIVATO, OTTIME CONDIZIONI DI C...   \n",
       "\n",
       "               seller        seats                  power     engine_size  \\\n",
       "26470          Dealer  [\\n, 4, \\n]  [\\n162 kW (220 hp)\\n]  [\\n2,435 cc\\n]   \n",
       "26471          Dealer  [\\n, 4, \\n]  [\\n125 kW (170 hp)\\n]  [\\n2,435 cc\\n]   \n",
       "26472          Dealer  [\\n, 4, \\n]  [\\n162 kW (220 hp)\\n]  [\\n2,521 cc\\n]   \n",
       "26473          Dealer  [\\n, 4, \\n]  [\\n110 kW (150 hp)\\n]  [\\n1,984 cc\\n]   \n",
       "26474          Dealer          NaN  [\\n100 kW (136 hp)\\n]  [\\n2,000 cc\\n]   \n",
       "...               ...          ...                    ...             ...   \n",
       "27449  Private seller  [\\n, 4, \\n]  [\\n142 kW (193 hp)\\n]  [\\n2,435 cc\\n]   \n",
       "27450          Dealer  [\\n, 4, \\n]  [\\n120 kW (163 hp)\\n]  [\\n1,984 cc\\n]   \n",
       "27451  Private seller  [\\n, 4, \\n]  [\\n166 kW (226 hp)\\n]  [\\n2,000 cc\\n]   \n",
       "27456  Private seller  [\\n, 4, \\n]  [\\n142 kW (193 hp)\\n]  [\\n2,435 cc\\n]   \n",
       "27486          Dealer  [\\n, 4, \\n]  [\\n100 kW (136 hp)\\n]  [\\n1,997 cc\\n]   \n",
       "\n",
       "         gears      co_emissions      manufacturer_colour       drivetrain  \\\n",
       "26470  [\\n6\\n]               NaN                      NaN  [\\n, Front, \\n]   \n",
       "26471  [\\n5\\n]  215 g/km (comb.)      ZANZIBAR GOLD PEARL  [\\n, Front, \\n]   \n",
       "26472      NaN  234 g/km (comb.)  Black Sapphire Metallic              NaN   \n",
       "26473      NaN               NaN    CASPIAN BLUE METALLIC              NaN   \n",
       "26474      NaN               NaN             Gris / Plata              NaN   \n",
       "...        ...               ...                      ...              ...   \n",
       "27449  [\\n5\\n]               NaN                      NaN  [\\n, Front, \\n]   \n",
       "27450  [\\n5\\n]  234 g/km (comb.)        Saffron Pearl 435  [\\n, Front, \\n]   \n",
       "27451  [\\n5\\n]               NaN                      NaN  [\\n, Front, \\n]   \n",
       "27456  [\\n4\\n]  250 g/km (comb.)                      NaN  [\\n, Front, \\n]   \n",
       "27486  [\\n6\\n]  158 g/km (comb.)                      NaN  [\\n, Front, \\n]   \n",
       "\n",
       "      cylinders                                   fuel_consumption  \\\n",
       "26470   [\\n5\\n]  [[9.1 l/100 km (comb.)], [11.8 l/100 km (city)...   \n",
       "26471   [\\n5\\n]  [[9 l/100 km (comb.)], [12.9 l/100 km (city)],...   \n",
       "26472       NaN  [[9.8 l/100 km (comb.)], [14.7 l/100 km (city)...   \n",
       "26473       NaN                                                NaN   \n",
       "26474       NaN                                                NaN   \n",
       "...         ...                                                ...   \n",
       "27449   [\\n5\\n]  [[9.9 l/100 km (comb.)], [13.7 l/100 km (city)...   \n",
       "27450   [\\n5\\n]  [[9.7 l/100 km (comb.)], [13.5 l/100 km (city)...   \n",
       "27451   [\\n5\\n]                           [[8.5 l/100 km (comb.)]]   \n",
       "27456   [\\n5\\n]  [[10.7 l/100 km (comb.)], [15.3 l/100 km (city...   \n",
       "27486   [\\n4\\n]  [[6 l/100 km (comb.)], [7.9 l/100 km (city)], ...   \n",
       "\n",
       "                                     comfort_convenience  \\\n",
       "26470  [Air conditioning, Automatic climate control, ...   \n",
       "26471  [Air conditioning, Armrest, Automatic climate ...   \n",
       "26472  [Air conditioning, Armrest, Automatic climate ...   \n",
       "26473  [Air conditioning, Armrest, Automatic climate ...   \n",
       "26474                                                NaN   \n",
       "...                                                  ...   \n",
       "27449  [Air conditioning, Armrest, Automatic climate ...   \n",
       "27450  [Air conditioning, Armrest, Automatic climate ...   \n",
       "27451  [Air conditioning, Armrest, Auxiliary heating,...   \n",
       "27456  [Armrest, Automatic climate control, 2 zones, ...   \n",
       "27486  [Air conditioning, Armrest, Automatic climate ...   \n",
       "\n",
       "                                     entertainment_media  \\\n",
       "26470                                                NaN   \n",
       "26471  [CD player, On-board computer, Radio, Sound sy...   \n",
       "26472  [CD player, On-board computer, Radio, Sound sy...   \n",
       "26473  [Bluetooth, CD player, Hands-free equipment, O...   \n",
       "26474                                                NaN   \n",
       "...                                                  ...   \n",
       "27449  [CD player, On-board computer, Radio, Sound sy...   \n",
       "27450              [CD player, On-board computer, Radio]   \n",
       "27451  [Android Auto, Apple CarPlay, Bluetooth, Digit...   \n",
       "27456  [CD player, Hands-free equipment, On-board com...   \n",
       "27486  [Bluetooth, CD player, Hands-free equipment, M...   \n",
       "\n",
       "                                         safety_security  \\\n",
       "26470  [ABS, Central door lock, Driver-side airbag, F...   \n",
       "26471  [ABS, Bi-Xenon headlights, Central door lock, ...   \n",
       "26472  [ABS, Bi-Xenon headlights, Central door lock, ...   \n",
       "26473  [ABS, Central door lock, Driver-side airbag, E...   \n",
       "26474                                                NaN   \n",
       "...                                                  ...   \n",
       "27449  [ABS, Adaptive headlights, Alarm system, Centr...   \n",
       "27450  [ABS, Alarm system, Central door lock, Central...   \n",
       "27451  [ABS, Alarm system, Central door lock, Central...   \n",
       "27456  [ABS, Central door lock with remote control, D...   \n",
       "27486  [ABS, Central door lock, Driver-side airbag, E...   \n",
       "\n",
       "                                                  extras    empty_weight  \\\n",
       "26470                                     [Alloy wheels]  [\\n1,711 kg\\n]   \n",
       "26471  [Alloy wheels (18\"), Automatically dimming int...  [\\n1,685 kg\\n]   \n",
       "26472  [All season tyres, Alloy wheels, Automatically...             NaN   \n",
       "26473  [All season tyres, Alloy wheels, Automatically...             NaN   \n",
       "26474                                                NaN             NaN   \n",
       "...                                                  ...             ...   \n",
       "27449  [Alloy wheels (17\"), Ambient lighting, Automat...  [\\n1,551 kg\\n]   \n",
       "27450  [Alloy wheels (16\"), Automatically dimming int...  [\\n1,436 kg\\n]   \n",
       "27451  [Alloy wheels (17\"), Spare tyre, Summer tyres,...  [\\n1,491 kg\\n]   \n",
       "27456  [Alloy wheels (16\"), Automatically dimming int...  [\\n1,480 kg\\n]   \n",
       "27486               [Alloy wheels (18\"), Emergency tyre]  [\\n1,706 kg\\n]   \n",
       "\n",
       "               model_code general_inspection full_service_history  \\\n",
       "26470                 NaN                NaN                  NaN   \n",
       "26471  [\\n, 9101/ABY, \\n]                New                  Yes   \n",
       "26472                 NaN            04/2024                  Yes   \n",
       "26473                 NaN            08/2023                  Yes   \n",
       "26474                 NaN                NaN                  NaN   \n",
       "...                   ...                ...                  ...   \n",
       "27449                 NaN            02/2024                  NaN   \n",
       "27450                 NaN                New                  Yes   \n",
       "27451                 NaN            07/2023                  Yes   \n",
       "27456                 NaN            06/2024                  Yes   \n",
       "27486                 NaN                NaN                  NaN   \n",
       "\n",
       "      non_smoker_vehicle emission_class emissions_sticker upholstery_colour  \\\n",
       "26470                NaN            NaN               NaN               NaN   \n",
       "26471                NaN         Euro 4         4 (Green)             Beige   \n",
       "26472                Yes         Euro 4         4 (Green)              Grey   \n",
       "26473                Yes         Euro 5         4 (Green)             Black   \n",
       "26474                NaN            NaN               NaN               NaN   \n",
       "...                  ...            ...               ...               ...   \n",
       "27449                Yes         Euro 6               NaN              Grey   \n",
       "27450                NaN            NaN               NaN             Other   \n",
       "27451                Yes         Euro 3               NaN             Black   \n",
       "27456                Yes         Euro 3    1 (No sticker)             Beige   \n",
       "27486                NaN         Euro 4               NaN             Black   \n",
       "\n",
       "         upholstery  production_date              previous_owner  \\\n",
       "26470           NaN              NaN                         NaN   \n",
       "26471  Part leather              NaN  [[155,923 km, 08/2006], 2]   \n",
       "26472  Full leather              NaN   [[69,747 km, 05/2007], 1]   \n",
       "26473  Part leather              NaN  [[146,348 km, 10/2011], 1]   \n",
       "26474           NaN              NaN                         NaN   \n",
       "...             ...              ...                         ...   \n",
       "27449  Full leather              NaN                         NaN   \n",
       "27450  Full leather              NaN  [[118,232 km, 12/2000], 2]   \n",
       "27451  Full leather              NaN  [[227,000 km, 02/2000], 1]   \n",
       "27456  Full leather              NaN  [[182,000 km, 11/1998], 1]   \n",
       "27486  Full leather              NaN  [[195,000 km, 07/2008], 2]   \n",
       "\n",
       "      energy_efficiency_class  \\\n",
       "26470                     NaN   \n",
       "26471                       F   \n",
       "26472                     NaN   \n",
       "26473                     NaN   \n",
       "26474                     NaN   \n",
       "...                       ...   \n",
       "27449                     NaN   \n",
       "27450                     NaN   \n",
       "27451                     NaN   \n",
       "27456                     NaN   \n",
       "27486                     NaN   \n",
       "\n",
       "                                           co_efficiency  \n",
       "26470                                                NaN  \n",
       "26471  Calculated on basis of measured CO₂-emissions ...  \n",
       "26472                                                NaN  \n",
       "26473                                                NaN  \n",
       "26474                                                NaN  \n",
       "...                                                  ...  \n",
       "27449                                                NaN  \n",
       "27450                                                NaN  \n",
       "27451                                                NaN  \n",
       "27456                                                NaN  \n",
       "27486                                                NaN  \n",
       "\n",
       "[692 rows x 46 columns]"
      ]
     },
     "execution_count": 276,
     "metadata": {},
     "output_type": "execute_result"
    }
   ],
   "source": [
    "df[df.astype(str)['make_model'] == 'Volvo C70']"
   ]
  },
  {
   "cell_type": "markdown",
   "metadata": {},
   "source": [
    "**When we examine the output above, we see that there is a problem especially with Volvo brand vehicles when the data is retrieved from the web page dring scraping process.**"
   ]
  },
  {
   "cell_type": "code",
   "execution_count": 277,
   "metadata": {
    "ExecuteTime": {
     "end_time": "2025-01-16T09:22:26.607037Z",
     "start_time": "2025-01-16T09:22:26.455283Z"
    }
   },
   "outputs": [
    {
     "data": {
      "text/plain": [
       "True     690\n",
       "False      2\n",
       "Name: count, dtype: int64"
      ]
     },
     "execution_count": 277,
     "metadata": {},
     "output_type": "execute_result"
    }
   ],
   "source": [
    "df[df['make_model'] == 'Volvo C70'].astype(str).duplicated(keep=False).value_counts(dropna=False)"
   ]
  },
  {
   "cell_type": "markdown",
   "metadata": {},
   "source": [
    "<div style=\"background-color: lightgreen; padding: 10px; font-size: 14px;\">\n",
    "We will not handle duplicate values for now, we will leave this process for later, assuming that there may be created other duplicate values during the EDA we will perform.\n",
    "</div>"
   ]
  },
  {
   "cell_type": "code",
   "execution_count": 278,
   "metadata": {
    "ExecuteTime": {
     "end_time": "2025-01-16T09:22:26.615740Z",
     "start_time": "2025-01-16T09:22:26.610126Z"
    }
   },
   "outputs": [],
   "source": [
    "# df.drop_duplicates(keep=\"first\", inplace=True)"
   ]
  },
  {
   "cell_type": "markdown",
   "metadata": {},
   "source": [
    "<div style=\"background-color: #ffcccb; padding: 10px; font-size: 14px;\">\n",
    "⚠️ 🔥 SPECIAL NOTE:\n",
    "</div>\n",
    "\n",
    "**Why does scraping date from web pages sometimes create duplicate values?**\n",
    "\n",
    "Scraping data from web pages can sometimes create duplicate values due to a number of reasons:\n",
    "\n",
    "  - **``Pagination``**: If a website has multiple pages for the same data, it is possible that the scraper may scrape the same data from multiple pages, resulting in duplicate values.\n",
    "\n",
    "  - **``Inconsistent web page structure``**: Sometimes, web pages may have inconsistent or poorly structured HTML code, which can confuse the scraper and cause it to scrape the same data multiple times.\n",
    "\n",
    "  - **``Dynamic content``**: Some websites use dynamic content that changes frequently, such as user-generated content or real-time data. When a scraper visits such a website, it may scrape the same data multiple times if the content changes during the scraping process.\n",
    "\n",
    "  - **``Caching``**: Web pages may be cached by the browser or server, which can cause the scraper to retrieve the same data multiple times if it does not account for caching.\n",
    "\n",
    "To avoid duplicate values when scraping web pages, it is important to carefully analyze the web page structure and develop a scraping strategy that takes into account the above factors. This may involve using techniques such as pagination control, carefully selecting the data to scrape, and using caching strategies to avoid unnecessary requests. Additionally, using libraries or frameworks designed for web scraping can help to mitigate some of these issues."
   ]
  },
  {
   "cell_type": "markdown",
   "metadata": {},
   "source": [
    "## <p style=\"background-color:#9d4f8c; font-family:newtimeroman; color:#FFF9ED; font-size:175%; text-align:center; border-radius:10px 10px;\">The Examination of Columns</p>\n",
    "\n",
    "⚠️ It's highly crucial for any analysis to get domain knowledge about the subject at hand before starting the examination of features/columns one by one. Therefore, always make search on that and keep scrutinizing/reading throughout your analysis\n",
    "\n",
    "**🧐 [12 Factors That Affect Your Car’s Resale Value](https://www.moneycrashers.com/factors-affect-used-cars-resale-value/)**<br>\n",
    "**🧐 [9 Factors That Impact The Value of Your Car](https://carchase.com.au/resources/car-valuation-guide/9-factors-that-impact-the-value-of-your-car/)**<br>\n",
    "**🧐 [Factors That Can Affect Used Car Trade-In Value](https://www.capitalone.com/cars/learn/managing-your-money-wisely/factors-that-can-affect-used-car-tradein-value/1224)**<br>\n",
    "**🧐 [7 Factors That Influence the Price of a Used Car](https://www.truebil.com/blog/7-factors-that-influence-the-price-of-a-used-car)**<br>\n",
    "**🧐 [A Study on the Factors Affecting the Value of Used Cars](https://www.google.com/url?sa=t&rct=j&q=&esrc=s&source=web&cd=&cad=rja&uact=8&ved=2ahUKEwjns7id59L7AhWfhv0HHUflBkwQFnoECCkQAQ&url=https%3A%2F%2Fwww.atlantis-press.com%2Farticle%2F25891081.pdf&usg=AOvVaw3JqJ5XKF1Wk0PC_56OSfal)**<br>\n",
    "**🧐 [What are the factors that influence a used car price?](https://carsellzone.com/blog/detail/factors-affect-car-price)**<br>\n",
    "\n",
    "<a id=\"3\"></a>\n",
    "<a href=\"#toc\" class=\"btn btn-primary btn-sm\" role=\"button\" aria-pressed=\"true\" \n",
    "style=\"color:blue; background-color:#dfa8e4\" data-toggle=\"popover\">Content</a>\n",
    "\n",
    "## Let's examine and clean all the columns/features one by one:"
   ]
  },
  {
   "cell_type": "code",
   "execution_count": 279,
   "metadata": {
    "ExecuteTime": {
     "end_time": "2025-01-16T09:22:26.638543Z",
     "start_time": "2025-01-16T09:22:26.622043Z"
    }
   },
   "outputs": [],
   "source": [
    "# Let's remember our User Defined Function for first looking to the columns\n",
    "\n",
    "def first_looking(df, col):\n",
    "    print(\"column name    : \", col)  # Prints out related column name\n",
    "    print(\"--------------------------------\")\n",
    "    print(\"per_of_nulls   : \", \"%\", round(df[col].isnull().sum() * 100 / df.shape[0], 2))  # Calculates the percentage of Null values for related column\n",
    "    print(\"num_of_nulls   : \", df[col].isnull().sum())  # Prints out the total number of Null values for related column\n",
    "    print(\"num_of_uniques : \", df[col].astype(str).nunique())  # Prints out the number of unique values for related column\n",
    "    print(\"shape_of_df    : \", df.shape)  # Prints out the shape of DataFrame\n",
    "    print(\"--------------------------------\")\n",
    "    print(df[col].value_counts(dropna=False))  # Prints out the number of occurance for unique values in the related column"
   ]
  },
  {
   "cell_type": "markdown",
   "metadata": {},
   "source": [
    "## price (target/label column)\n",
    "\n",
    "- **Since the ``price`` column is our Target Feature, we will start our analysis with it first.**"
   ]
  },
  {
   "cell_type": "code",
   "execution_count": 280,
   "metadata": {
    "ExecuteTime": {
     "end_time": "2025-01-16T09:22:26.710770Z",
     "start_time": "2025-01-16T09:22:26.642636Z"
    }
   },
   "outputs": [
    {
     "name": "stdout",
     "output_type": "stream",
     "text": [
      "column name    :  price\n",
      "--------------------------------\n",
      "per_of_nulls   :  % 2.88\n",
      "num_of_nulls   :  850\n",
      "num_of_uniques :  5022\n",
      "shape_of_df    :  (29480, 46)\n",
      "--------------------------------\n",
      "price\n",
      "NaN           850\n",
      "€ 14,990.-    222\n",
      "€ 12,990.-    219\n",
      "€ 16,990.-    186\n",
      "€ 19,990.-    166\n",
      "             ... \n",
      "€ 19,112.-      1\n",
      "€ 30,465.-      1\n",
      "€ 18,461.-      1\n",
      "€ 22,649.-      1\n",
      "€ 4,440.-       1\n",
      "Name: count, Length: 5022, dtype: int64\n"
     ]
    }
   ],
   "source": [
    "first_looking(df, \"price\")"
   ]
  },
  {
   "cell_type": "markdown",
   "metadata": {},
   "source": [
    "**Let's check if there has been any Null values in our Target/Label variable, Price? If so, isn't it strange? 🤔**"
   ]
  },
  {
   "cell_type": "code",
   "execution_count": 281,
   "metadata": {
    "ExecuteTime": {
     "end_time": "2025-01-16T09:22:26.739779Z",
     "start_time": "2025-01-16T09:22:26.722836Z"
    }
   },
   "outputs": [
    {
     "data": {
      "text/plain": [
       "np.True_"
      ]
     },
     "execution_count": 281,
     "metadata": {},
     "output_type": "execute_result"
    }
   ],
   "source": [
    "df[\"price\"].isnull().any()"
   ]
  },
  {
   "cell_type": "code",
   "execution_count": 282,
   "metadata": {
    "ExecuteTime": {
     "end_time": "2025-01-16T09:22:26.953638Z",
     "start_time": "2025-01-16T09:22:26.743859Z"
    }
   },
   "outputs": [
    {
     "data": {
      "text/html": [
       "<div>\n",
       "<style scoped>\n",
       "    .dataframe tbody tr th:only-of-type {\n",
       "        vertical-align: middle;\n",
       "    }\n",
       "\n",
       "    .dataframe tbody tr th {\n",
       "        vertical-align: top;\n",
       "    }\n",
       "\n",
       "    .dataframe thead th {\n",
       "        text-align: right;\n",
       "    }\n",
       "</style>\n",
       "<table border=\"1\" class=\"dataframe\">\n",
       "  <thead>\n",
       "    <tr style=\"text-align: right;\">\n",
       "      <th></th>\n",
       "      <th>make_model</th>\n",
       "      <th>short_description</th>\n",
       "      <th>make</th>\n",
       "      <th>model</th>\n",
       "      <th>location</th>\n",
       "      <th>price</th>\n",
       "      <th>body_type</th>\n",
       "      <th>type</th>\n",
       "      <th>doors</th>\n",
       "      <th>country_version</th>\n",
       "      <th>offer_number</th>\n",
       "      <th>warranty</th>\n",
       "      <th>mileage</th>\n",
       "      <th>first_registration</th>\n",
       "      <th>gearbox</th>\n",
       "      <th>fuel_type</th>\n",
       "      <th>colour</th>\n",
       "      <th>paint</th>\n",
       "      <th>desc</th>\n",
       "      <th>seller</th>\n",
       "      <th>seats</th>\n",
       "      <th>power</th>\n",
       "      <th>engine_size</th>\n",
       "      <th>gears</th>\n",
       "      <th>co_emissions</th>\n",
       "      <th>manufacturer_colour</th>\n",
       "      <th>drivetrain</th>\n",
       "      <th>cylinders</th>\n",
       "      <th>fuel_consumption</th>\n",
       "      <th>comfort_convenience</th>\n",
       "      <th>entertainment_media</th>\n",
       "      <th>safety_security</th>\n",
       "      <th>extras</th>\n",
       "      <th>empty_weight</th>\n",
       "      <th>model_code</th>\n",
       "      <th>general_inspection</th>\n",
       "      <th>full_service_history</th>\n",
       "      <th>non_smoker_vehicle</th>\n",
       "      <th>emission_class</th>\n",
       "      <th>emissions_sticker</th>\n",
       "      <th>upholstery_colour</th>\n",
       "      <th>upholstery</th>\n",
       "      <th>production_date</th>\n",
       "      <th>previous_owner</th>\n",
       "      <th>energy_efficiency_class</th>\n",
       "      <th>co_efficiency</th>\n",
       "    </tr>\n",
       "  </thead>\n",
       "  <tbody>\n",
       "    <tr>\n",
       "      <th>28483</th>\n",
       "      <td>NaN</td>\n",
       "      <td>NaN</td>\n",
       "      <td>NaN</td>\n",
       "      <td>NaN</td>\n",
       "      <td>NaN</td>\n",
       "      <td>NaN</td>\n",
       "      <td>NaN</td>\n",
       "      <td>NaN</td>\n",
       "      <td>NaN</td>\n",
       "      <td>NaN</td>\n",
       "      <td>NaN</td>\n",
       "      <td>NaN</td>\n",
       "      <td>NaN</td>\n",
       "      <td>NaN</td>\n",
       "      <td>NaN</td>\n",
       "      <td>NaN</td>\n",
       "      <td>NaN</td>\n",
       "      <td>NaN</td>\n",
       "      <td>NaN</td>\n",
       "      <td>NaN</td>\n",
       "      <td>NaN</td>\n",
       "      <td>NaN</td>\n",
       "      <td>NaN</td>\n",
       "      <td>NaN</td>\n",
       "      <td>NaN</td>\n",
       "      <td>NaN</td>\n",
       "      <td>NaN</td>\n",
       "      <td>NaN</td>\n",
       "      <td>NaN</td>\n",
       "      <td>NaN</td>\n",
       "      <td>NaN</td>\n",
       "      <td>NaN</td>\n",
       "      <td>NaN</td>\n",
       "      <td>NaN</td>\n",
       "      <td>NaN</td>\n",
       "      <td>NaN</td>\n",
       "      <td>NaN</td>\n",
       "      <td>NaN</td>\n",
       "      <td>NaN</td>\n",
       "      <td>NaN</td>\n",
       "      <td>NaN</td>\n",
       "      <td>NaN</td>\n",
       "      <td>NaN</td>\n",
       "      <td>NaN</td>\n",
       "      <td>NaN</td>\n",
       "      <td>NaN</td>\n",
       "    </tr>\n",
       "    <tr>\n",
       "      <th>18299</th>\n",
       "      <td>NaN</td>\n",
       "      <td>NaN</td>\n",
       "      <td>NaN</td>\n",
       "      <td>NaN</td>\n",
       "      <td>NaN</td>\n",
       "      <td>NaN</td>\n",
       "      <td>NaN</td>\n",
       "      <td>NaN</td>\n",
       "      <td>NaN</td>\n",
       "      <td>NaN</td>\n",
       "      <td>NaN</td>\n",
       "      <td>NaN</td>\n",
       "      <td>NaN</td>\n",
       "      <td>NaN</td>\n",
       "      <td>NaN</td>\n",
       "      <td>NaN</td>\n",
       "      <td>NaN</td>\n",
       "      <td>NaN</td>\n",
       "      <td>NaN</td>\n",
       "      <td>NaN</td>\n",
       "      <td>NaN</td>\n",
       "      <td>NaN</td>\n",
       "      <td>NaN</td>\n",
       "      <td>NaN</td>\n",
       "      <td>NaN</td>\n",
       "      <td>NaN</td>\n",
       "      <td>NaN</td>\n",
       "      <td>NaN</td>\n",
       "      <td>NaN</td>\n",
       "      <td>NaN</td>\n",
       "      <td>NaN</td>\n",
       "      <td>NaN</td>\n",
       "      <td>NaN</td>\n",
       "      <td>NaN</td>\n",
       "      <td>NaN</td>\n",
       "      <td>NaN</td>\n",
       "      <td>NaN</td>\n",
       "      <td>NaN</td>\n",
       "      <td>NaN</td>\n",
       "      <td>NaN</td>\n",
       "      <td>NaN</td>\n",
       "      <td>NaN</td>\n",
       "      <td>NaN</td>\n",
       "      <td>NaN</td>\n",
       "      <td>NaN</td>\n",
       "      <td>NaN</td>\n",
       "    </tr>\n",
       "    <tr>\n",
       "      <th>3337</th>\n",
       "      <td>NaN</td>\n",
       "      <td>NaN</td>\n",
       "      <td>NaN</td>\n",
       "      <td>NaN</td>\n",
       "      <td>NaN</td>\n",
       "      <td>NaN</td>\n",
       "      <td>NaN</td>\n",
       "      <td>NaN</td>\n",
       "      <td>NaN</td>\n",
       "      <td>NaN</td>\n",
       "      <td>NaN</td>\n",
       "      <td>NaN</td>\n",
       "      <td>NaN</td>\n",
       "      <td>NaN</td>\n",
       "      <td>NaN</td>\n",
       "      <td>NaN</td>\n",
       "      <td>NaN</td>\n",
       "      <td>NaN</td>\n",
       "      <td>NaN</td>\n",
       "      <td>NaN</td>\n",
       "      <td>NaN</td>\n",
       "      <td>NaN</td>\n",
       "      <td>NaN</td>\n",
       "      <td>NaN</td>\n",
       "      <td>NaN</td>\n",
       "      <td>NaN</td>\n",
       "      <td>NaN</td>\n",
       "      <td>NaN</td>\n",
       "      <td>NaN</td>\n",
       "      <td>NaN</td>\n",
       "      <td>NaN</td>\n",
       "      <td>NaN</td>\n",
       "      <td>NaN</td>\n",
       "      <td>NaN</td>\n",
       "      <td>NaN</td>\n",
       "      <td>NaN</td>\n",
       "      <td>NaN</td>\n",
       "      <td>NaN</td>\n",
       "      <td>NaN</td>\n",
       "      <td>NaN</td>\n",
       "      <td>NaN</td>\n",
       "      <td>NaN</td>\n",
       "      <td>NaN</td>\n",
       "      <td>NaN</td>\n",
       "      <td>NaN</td>\n",
       "      <td>NaN</td>\n",
       "    </tr>\n",
       "    <tr>\n",
       "      <th>24697</th>\n",
       "      <td>NaN</td>\n",
       "      <td>NaN</td>\n",
       "      <td>NaN</td>\n",
       "      <td>NaN</td>\n",
       "      <td>NaN</td>\n",
       "      <td>NaN</td>\n",
       "      <td>NaN</td>\n",
       "      <td>NaN</td>\n",
       "      <td>NaN</td>\n",
       "      <td>NaN</td>\n",
       "      <td>NaN</td>\n",
       "      <td>NaN</td>\n",
       "      <td>NaN</td>\n",
       "      <td>NaN</td>\n",
       "      <td>NaN</td>\n",
       "      <td>NaN</td>\n",
       "      <td>NaN</td>\n",
       "      <td>NaN</td>\n",
       "      <td>NaN</td>\n",
       "      <td>NaN</td>\n",
       "      <td>NaN</td>\n",
       "      <td>NaN</td>\n",
       "      <td>NaN</td>\n",
       "      <td>NaN</td>\n",
       "      <td>NaN</td>\n",
       "      <td>NaN</td>\n",
       "      <td>NaN</td>\n",
       "      <td>NaN</td>\n",
       "      <td>NaN</td>\n",
       "      <td>NaN</td>\n",
       "      <td>NaN</td>\n",
       "      <td>NaN</td>\n",
       "      <td>NaN</td>\n",
       "      <td>NaN</td>\n",
       "      <td>NaN</td>\n",
       "      <td>NaN</td>\n",
       "      <td>NaN</td>\n",
       "      <td>NaN</td>\n",
       "      <td>NaN</td>\n",
       "      <td>NaN</td>\n",
       "      <td>NaN</td>\n",
       "      <td>NaN</td>\n",
       "      <td>NaN</td>\n",
       "      <td>NaN</td>\n",
       "      <td>NaN</td>\n",
       "      <td>NaN</td>\n",
       "    </tr>\n",
       "    <tr>\n",
       "      <th>26901</th>\n",
       "      <td>NaN</td>\n",
       "      <td>NaN</td>\n",
       "      <td>NaN</td>\n",
       "      <td>NaN</td>\n",
       "      <td>NaN</td>\n",
       "      <td>NaN</td>\n",
       "      <td>NaN</td>\n",
       "      <td>NaN</td>\n",
       "      <td>NaN</td>\n",
       "      <td>NaN</td>\n",
       "      <td>NaN</td>\n",
       "      <td>NaN</td>\n",
       "      <td>NaN</td>\n",
       "      <td>NaN</td>\n",
       "      <td>NaN</td>\n",
       "      <td>NaN</td>\n",
       "      <td>NaN</td>\n",
       "      <td>NaN</td>\n",
       "      <td>NaN</td>\n",
       "      <td>NaN</td>\n",
       "      <td>NaN</td>\n",
       "      <td>NaN</td>\n",
       "      <td>NaN</td>\n",
       "      <td>NaN</td>\n",
       "      <td>NaN</td>\n",
       "      <td>NaN</td>\n",
       "      <td>NaN</td>\n",
       "      <td>NaN</td>\n",
       "      <td>NaN</td>\n",
       "      <td>NaN</td>\n",
       "      <td>NaN</td>\n",
       "      <td>NaN</td>\n",
       "      <td>NaN</td>\n",
       "      <td>NaN</td>\n",
       "      <td>NaN</td>\n",
       "      <td>NaN</td>\n",
       "      <td>NaN</td>\n",
       "      <td>NaN</td>\n",
       "      <td>NaN</td>\n",
       "      <td>NaN</td>\n",
       "      <td>NaN</td>\n",
       "      <td>NaN</td>\n",
       "      <td>NaN</td>\n",
       "      <td>NaN</td>\n",
       "      <td>NaN</td>\n",
       "      <td>NaN</td>\n",
       "    </tr>\n",
       "    <tr>\n",
       "      <th>29366</th>\n",
       "      <td>NaN</td>\n",
       "      <td>NaN</td>\n",
       "      <td>NaN</td>\n",
       "      <td>NaN</td>\n",
       "      <td>NaN</td>\n",
       "      <td>NaN</td>\n",
       "      <td>NaN</td>\n",
       "      <td>NaN</td>\n",
       "      <td>NaN</td>\n",
       "      <td>NaN</td>\n",
       "      <td>NaN</td>\n",
       "      <td>NaN</td>\n",
       "      <td>NaN</td>\n",
       "      <td>NaN</td>\n",
       "      <td>NaN</td>\n",
       "      <td>NaN</td>\n",
       "      <td>NaN</td>\n",
       "      <td>NaN</td>\n",
       "      <td>NaN</td>\n",
       "      <td>NaN</td>\n",
       "      <td>NaN</td>\n",
       "      <td>NaN</td>\n",
       "      <td>NaN</td>\n",
       "      <td>NaN</td>\n",
       "      <td>NaN</td>\n",
       "      <td>NaN</td>\n",
       "      <td>NaN</td>\n",
       "      <td>NaN</td>\n",
       "      <td>NaN</td>\n",
       "      <td>NaN</td>\n",
       "      <td>NaN</td>\n",
       "      <td>NaN</td>\n",
       "      <td>NaN</td>\n",
       "      <td>NaN</td>\n",
       "      <td>NaN</td>\n",
       "      <td>NaN</td>\n",
       "      <td>NaN</td>\n",
       "      <td>NaN</td>\n",
       "      <td>NaN</td>\n",
       "      <td>NaN</td>\n",
       "      <td>NaN</td>\n",
       "      <td>NaN</td>\n",
       "      <td>NaN</td>\n",
       "      <td>NaN</td>\n",
       "      <td>NaN</td>\n",
       "      <td>NaN</td>\n",
       "    </tr>\n",
       "    <tr>\n",
       "      <th>28071</th>\n",
       "      <td>NaN</td>\n",
       "      <td>NaN</td>\n",
       "      <td>NaN</td>\n",
       "      <td>NaN</td>\n",
       "      <td>NaN</td>\n",
       "      <td>NaN</td>\n",
       "      <td>NaN</td>\n",
       "      <td>NaN</td>\n",
       "      <td>NaN</td>\n",
       "      <td>NaN</td>\n",
       "      <td>NaN</td>\n",
       "      <td>NaN</td>\n",
       "      <td>NaN</td>\n",
       "      <td>NaN</td>\n",
       "      <td>NaN</td>\n",
       "      <td>NaN</td>\n",
       "      <td>NaN</td>\n",
       "      <td>NaN</td>\n",
       "      <td>NaN</td>\n",
       "      <td>NaN</td>\n",
       "      <td>NaN</td>\n",
       "      <td>NaN</td>\n",
       "      <td>NaN</td>\n",
       "      <td>NaN</td>\n",
       "      <td>NaN</td>\n",
       "      <td>NaN</td>\n",
       "      <td>NaN</td>\n",
       "      <td>NaN</td>\n",
       "      <td>NaN</td>\n",
       "      <td>NaN</td>\n",
       "      <td>NaN</td>\n",
       "      <td>NaN</td>\n",
       "      <td>NaN</td>\n",
       "      <td>NaN</td>\n",
       "      <td>NaN</td>\n",
       "      <td>NaN</td>\n",
       "      <td>NaN</td>\n",
       "      <td>NaN</td>\n",
       "      <td>NaN</td>\n",
       "      <td>NaN</td>\n",
       "      <td>NaN</td>\n",
       "      <td>NaN</td>\n",
       "      <td>NaN</td>\n",
       "      <td>NaN</td>\n",
       "      <td>NaN</td>\n",
       "      <td>NaN</td>\n",
       "    </tr>\n",
       "    <tr>\n",
       "      <th>12337</th>\n",
       "      <td>NaN</td>\n",
       "      <td>NaN</td>\n",
       "      <td>NaN</td>\n",
       "      <td>NaN</td>\n",
       "      <td>NaN</td>\n",
       "      <td>NaN</td>\n",
       "      <td>NaN</td>\n",
       "      <td>NaN</td>\n",
       "      <td>NaN</td>\n",
       "      <td>NaN</td>\n",
       "      <td>NaN</td>\n",
       "      <td>NaN</td>\n",
       "      <td>NaN</td>\n",
       "      <td>NaN</td>\n",
       "      <td>NaN</td>\n",
       "      <td>NaN</td>\n",
       "      <td>NaN</td>\n",
       "      <td>NaN</td>\n",
       "      <td>NaN</td>\n",
       "      <td>NaN</td>\n",
       "      <td>NaN</td>\n",
       "      <td>NaN</td>\n",
       "      <td>NaN</td>\n",
       "      <td>NaN</td>\n",
       "      <td>NaN</td>\n",
       "      <td>NaN</td>\n",
       "      <td>NaN</td>\n",
       "      <td>NaN</td>\n",
       "      <td>NaN</td>\n",
       "      <td>NaN</td>\n",
       "      <td>NaN</td>\n",
       "      <td>NaN</td>\n",
       "      <td>NaN</td>\n",
       "      <td>NaN</td>\n",
       "      <td>NaN</td>\n",
       "      <td>NaN</td>\n",
       "      <td>NaN</td>\n",
       "      <td>NaN</td>\n",
       "      <td>NaN</td>\n",
       "      <td>NaN</td>\n",
       "      <td>NaN</td>\n",
       "      <td>NaN</td>\n",
       "      <td>NaN</td>\n",
       "      <td>NaN</td>\n",
       "      <td>NaN</td>\n",
       "      <td>NaN</td>\n",
       "    </tr>\n",
       "    <tr>\n",
       "      <th>7231</th>\n",
       "      <td>NaN</td>\n",
       "      <td>NaN</td>\n",
       "      <td>NaN</td>\n",
       "      <td>NaN</td>\n",
       "      <td>NaN</td>\n",
       "      <td>NaN</td>\n",
       "      <td>NaN</td>\n",
       "      <td>NaN</td>\n",
       "      <td>NaN</td>\n",
       "      <td>NaN</td>\n",
       "      <td>NaN</td>\n",
       "      <td>NaN</td>\n",
       "      <td>NaN</td>\n",
       "      <td>NaN</td>\n",
       "      <td>NaN</td>\n",
       "      <td>NaN</td>\n",
       "      <td>NaN</td>\n",
       "      <td>NaN</td>\n",
       "      <td>NaN</td>\n",
       "      <td>NaN</td>\n",
       "      <td>NaN</td>\n",
       "      <td>NaN</td>\n",
       "      <td>NaN</td>\n",
       "      <td>NaN</td>\n",
       "      <td>NaN</td>\n",
       "      <td>NaN</td>\n",
       "      <td>NaN</td>\n",
       "      <td>NaN</td>\n",
       "      <td>NaN</td>\n",
       "      <td>NaN</td>\n",
       "      <td>NaN</td>\n",
       "      <td>NaN</td>\n",
       "      <td>NaN</td>\n",
       "      <td>NaN</td>\n",
       "      <td>NaN</td>\n",
       "      <td>NaN</td>\n",
       "      <td>NaN</td>\n",
       "      <td>NaN</td>\n",
       "      <td>NaN</td>\n",
       "      <td>NaN</td>\n",
       "      <td>NaN</td>\n",
       "      <td>NaN</td>\n",
       "      <td>NaN</td>\n",
       "      <td>NaN</td>\n",
       "      <td>NaN</td>\n",
       "      <td>NaN</td>\n",
       "    </tr>\n",
       "    <tr>\n",
       "      <th>13944</th>\n",
       "      <td>NaN</td>\n",
       "      <td>NaN</td>\n",
       "      <td>NaN</td>\n",
       "      <td>NaN</td>\n",
       "      <td>NaN</td>\n",
       "      <td>NaN</td>\n",
       "      <td>NaN</td>\n",
       "      <td>NaN</td>\n",
       "      <td>NaN</td>\n",
       "      <td>NaN</td>\n",
       "      <td>NaN</td>\n",
       "      <td>NaN</td>\n",
       "      <td>NaN</td>\n",
       "      <td>NaN</td>\n",
       "      <td>NaN</td>\n",
       "      <td>NaN</td>\n",
       "      <td>NaN</td>\n",
       "      <td>NaN</td>\n",
       "      <td>NaN</td>\n",
       "      <td>NaN</td>\n",
       "      <td>NaN</td>\n",
       "      <td>NaN</td>\n",
       "      <td>NaN</td>\n",
       "      <td>NaN</td>\n",
       "      <td>NaN</td>\n",
       "      <td>NaN</td>\n",
       "      <td>NaN</td>\n",
       "      <td>NaN</td>\n",
       "      <td>NaN</td>\n",
       "      <td>NaN</td>\n",
       "      <td>NaN</td>\n",
       "      <td>NaN</td>\n",
       "      <td>NaN</td>\n",
       "      <td>NaN</td>\n",
       "      <td>NaN</td>\n",
       "      <td>NaN</td>\n",
       "      <td>NaN</td>\n",
       "      <td>NaN</td>\n",
       "      <td>NaN</td>\n",
       "      <td>NaN</td>\n",
       "      <td>NaN</td>\n",
       "      <td>NaN</td>\n",
       "      <td>NaN</td>\n",
       "      <td>NaN</td>\n",
       "      <td>NaN</td>\n",
       "      <td>NaN</td>\n",
       "    </tr>\n",
       "    <tr>\n",
       "      <th>6221</th>\n",
       "      <td>NaN</td>\n",
       "      <td>NaN</td>\n",
       "      <td>NaN</td>\n",
       "      <td>NaN</td>\n",
       "      <td>NaN</td>\n",
       "      <td>NaN</td>\n",
       "      <td>NaN</td>\n",
       "      <td>NaN</td>\n",
       "      <td>NaN</td>\n",
       "      <td>NaN</td>\n",
       "      <td>NaN</td>\n",
       "      <td>NaN</td>\n",
       "      <td>NaN</td>\n",
       "      <td>NaN</td>\n",
       "      <td>NaN</td>\n",
       "      <td>NaN</td>\n",
       "      <td>NaN</td>\n",
       "      <td>NaN</td>\n",
       "      <td>NaN</td>\n",
       "      <td>NaN</td>\n",
       "      <td>NaN</td>\n",
       "      <td>NaN</td>\n",
       "      <td>NaN</td>\n",
       "      <td>NaN</td>\n",
       "      <td>NaN</td>\n",
       "      <td>NaN</td>\n",
       "      <td>NaN</td>\n",
       "      <td>NaN</td>\n",
       "      <td>NaN</td>\n",
       "      <td>NaN</td>\n",
       "      <td>NaN</td>\n",
       "      <td>NaN</td>\n",
       "      <td>NaN</td>\n",
       "      <td>NaN</td>\n",
       "      <td>NaN</td>\n",
       "      <td>NaN</td>\n",
       "      <td>NaN</td>\n",
       "      <td>NaN</td>\n",
       "      <td>NaN</td>\n",
       "      <td>NaN</td>\n",
       "      <td>NaN</td>\n",
       "      <td>NaN</td>\n",
       "      <td>NaN</td>\n",
       "      <td>NaN</td>\n",
       "      <td>NaN</td>\n",
       "      <td>NaN</td>\n",
       "    </tr>\n",
       "    <tr>\n",
       "      <th>16283</th>\n",
       "      <td>NaN</td>\n",
       "      <td>NaN</td>\n",
       "      <td>NaN</td>\n",
       "      <td>NaN</td>\n",
       "      <td>NaN</td>\n",
       "      <td>NaN</td>\n",
       "      <td>NaN</td>\n",
       "      <td>NaN</td>\n",
       "      <td>NaN</td>\n",
       "      <td>NaN</td>\n",
       "      <td>NaN</td>\n",
       "      <td>NaN</td>\n",
       "      <td>NaN</td>\n",
       "      <td>NaN</td>\n",
       "      <td>NaN</td>\n",
       "      <td>NaN</td>\n",
       "      <td>NaN</td>\n",
       "      <td>NaN</td>\n",
       "      <td>NaN</td>\n",
       "      <td>NaN</td>\n",
       "      <td>NaN</td>\n",
       "      <td>NaN</td>\n",
       "      <td>NaN</td>\n",
       "      <td>NaN</td>\n",
       "      <td>NaN</td>\n",
       "      <td>NaN</td>\n",
       "      <td>NaN</td>\n",
       "      <td>NaN</td>\n",
       "      <td>NaN</td>\n",
       "      <td>NaN</td>\n",
       "      <td>NaN</td>\n",
       "      <td>NaN</td>\n",
       "      <td>NaN</td>\n",
       "      <td>NaN</td>\n",
       "      <td>NaN</td>\n",
       "      <td>NaN</td>\n",
       "      <td>NaN</td>\n",
       "      <td>NaN</td>\n",
       "      <td>NaN</td>\n",
       "      <td>NaN</td>\n",
       "      <td>NaN</td>\n",
       "      <td>NaN</td>\n",
       "      <td>NaN</td>\n",
       "      <td>NaN</td>\n",
       "      <td>NaN</td>\n",
       "      <td>NaN</td>\n",
       "    </tr>\n",
       "    <tr>\n",
       "      <th>15516</th>\n",
       "      <td>NaN</td>\n",
       "      <td>NaN</td>\n",
       "      <td>NaN</td>\n",
       "      <td>NaN</td>\n",
       "      <td>NaN</td>\n",
       "      <td>NaN</td>\n",
       "      <td>NaN</td>\n",
       "      <td>NaN</td>\n",
       "      <td>NaN</td>\n",
       "      <td>NaN</td>\n",
       "      <td>NaN</td>\n",
       "      <td>NaN</td>\n",
       "      <td>NaN</td>\n",
       "      <td>NaN</td>\n",
       "      <td>NaN</td>\n",
       "      <td>NaN</td>\n",
       "      <td>NaN</td>\n",
       "      <td>NaN</td>\n",
       "      <td>NaN</td>\n",
       "      <td>NaN</td>\n",
       "      <td>NaN</td>\n",
       "      <td>NaN</td>\n",
       "      <td>NaN</td>\n",
       "      <td>NaN</td>\n",
       "      <td>NaN</td>\n",
       "      <td>NaN</td>\n",
       "      <td>NaN</td>\n",
       "      <td>NaN</td>\n",
       "      <td>NaN</td>\n",
       "      <td>NaN</td>\n",
       "      <td>NaN</td>\n",
       "      <td>NaN</td>\n",
       "      <td>NaN</td>\n",
       "      <td>NaN</td>\n",
       "      <td>NaN</td>\n",
       "      <td>NaN</td>\n",
       "      <td>NaN</td>\n",
       "      <td>NaN</td>\n",
       "      <td>NaN</td>\n",
       "      <td>NaN</td>\n",
       "      <td>NaN</td>\n",
       "      <td>NaN</td>\n",
       "      <td>NaN</td>\n",
       "      <td>NaN</td>\n",
       "      <td>NaN</td>\n",
       "      <td>NaN</td>\n",
       "    </tr>\n",
       "    <tr>\n",
       "      <th>27401</th>\n",
       "      <td>NaN</td>\n",
       "      <td>NaN</td>\n",
       "      <td>NaN</td>\n",
       "      <td>NaN</td>\n",
       "      <td>NaN</td>\n",
       "      <td>NaN</td>\n",
       "      <td>NaN</td>\n",
       "      <td>NaN</td>\n",
       "      <td>NaN</td>\n",
       "      <td>NaN</td>\n",
       "      <td>NaN</td>\n",
       "      <td>NaN</td>\n",
       "      <td>NaN</td>\n",
       "      <td>NaN</td>\n",
       "      <td>NaN</td>\n",
       "      <td>NaN</td>\n",
       "      <td>NaN</td>\n",
       "      <td>NaN</td>\n",
       "      <td>NaN</td>\n",
       "      <td>NaN</td>\n",
       "      <td>NaN</td>\n",
       "      <td>NaN</td>\n",
       "      <td>NaN</td>\n",
       "      <td>NaN</td>\n",
       "      <td>NaN</td>\n",
       "      <td>NaN</td>\n",
       "      <td>NaN</td>\n",
       "      <td>NaN</td>\n",
       "      <td>NaN</td>\n",
       "      <td>NaN</td>\n",
       "      <td>NaN</td>\n",
       "      <td>NaN</td>\n",
       "      <td>NaN</td>\n",
       "      <td>NaN</td>\n",
       "      <td>NaN</td>\n",
       "      <td>NaN</td>\n",
       "      <td>NaN</td>\n",
       "      <td>NaN</td>\n",
       "      <td>NaN</td>\n",
       "      <td>NaN</td>\n",
       "      <td>NaN</td>\n",
       "      <td>NaN</td>\n",
       "      <td>NaN</td>\n",
       "      <td>NaN</td>\n",
       "      <td>NaN</td>\n",
       "      <td>NaN</td>\n",
       "    </tr>\n",
       "    <tr>\n",
       "      <th>17915</th>\n",
       "      <td>NaN</td>\n",
       "      <td>NaN</td>\n",
       "      <td>NaN</td>\n",
       "      <td>NaN</td>\n",
       "      <td>NaN</td>\n",
       "      <td>NaN</td>\n",
       "      <td>NaN</td>\n",
       "      <td>NaN</td>\n",
       "      <td>NaN</td>\n",
       "      <td>NaN</td>\n",
       "      <td>NaN</td>\n",
       "      <td>NaN</td>\n",
       "      <td>NaN</td>\n",
       "      <td>NaN</td>\n",
       "      <td>NaN</td>\n",
       "      <td>NaN</td>\n",
       "      <td>NaN</td>\n",
       "      <td>NaN</td>\n",
       "      <td>NaN</td>\n",
       "      <td>NaN</td>\n",
       "      <td>NaN</td>\n",
       "      <td>NaN</td>\n",
       "      <td>NaN</td>\n",
       "      <td>NaN</td>\n",
       "      <td>NaN</td>\n",
       "      <td>NaN</td>\n",
       "      <td>NaN</td>\n",
       "      <td>NaN</td>\n",
       "      <td>NaN</td>\n",
       "      <td>NaN</td>\n",
       "      <td>NaN</td>\n",
       "      <td>NaN</td>\n",
       "      <td>NaN</td>\n",
       "      <td>NaN</td>\n",
       "      <td>NaN</td>\n",
       "      <td>NaN</td>\n",
       "      <td>NaN</td>\n",
       "      <td>NaN</td>\n",
       "      <td>NaN</td>\n",
       "      <td>NaN</td>\n",
       "      <td>NaN</td>\n",
       "      <td>NaN</td>\n",
       "      <td>NaN</td>\n",
       "      <td>NaN</td>\n",
       "      <td>NaN</td>\n",
       "      <td>NaN</td>\n",
       "    </tr>\n",
       "    <tr>\n",
       "      <th>4413</th>\n",
       "      <td>NaN</td>\n",
       "      <td>NaN</td>\n",
       "      <td>NaN</td>\n",
       "      <td>NaN</td>\n",
       "      <td>NaN</td>\n",
       "      <td>NaN</td>\n",
       "      <td>NaN</td>\n",
       "      <td>NaN</td>\n",
       "      <td>NaN</td>\n",
       "      <td>NaN</td>\n",
       "      <td>NaN</td>\n",
       "      <td>NaN</td>\n",
       "      <td>NaN</td>\n",
       "      <td>NaN</td>\n",
       "      <td>NaN</td>\n",
       "      <td>NaN</td>\n",
       "      <td>NaN</td>\n",
       "      <td>NaN</td>\n",
       "      <td>NaN</td>\n",
       "      <td>NaN</td>\n",
       "      <td>NaN</td>\n",
       "      <td>NaN</td>\n",
       "      <td>NaN</td>\n",
       "      <td>NaN</td>\n",
       "      <td>NaN</td>\n",
       "      <td>NaN</td>\n",
       "      <td>NaN</td>\n",
       "      <td>NaN</td>\n",
       "      <td>NaN</td>\n",
       "      <td>NaN</td>\n",
       "      <td>NaN</td>\n",
       "      <td>NaN</td>\n",
       "      <td>NaN</td>\n",
       "      <td>NaN</td>\n",
       "      <td>NaN</td>\n",
       "      <td>NaN</td>\n",
       "      <td>NaN</td>\n",
       "      <td>NaN</td>\n",
       "      <td>NaN</td>\n",
       "      <td>NaN</td>\n",
       "      <td>NaN</td>\n",
       "      <td>NaN</td>\n",
       "      <td>NaN</td>\n",
       "      <td>NaN</td>\n",
       "      <td>NaN</td>\n",
       "      <td>NaN</td>\n",
       "    </tr>\n",
       "    <tr>\n",
       "      <th>9287</th>\n",
       "      <td>NaN</td>\n",
       "      <td>NaN</td>\n",
       "      <td>NaN</td>\n",
       "      <td>NaN</td>\n",
       "      <td>NaN</td>\n",
       "      <td>NaN</td>\n",
       "      <td>NaN</td>\n",
       "      <td>NaN</td>\n",
       "      <td>NaN</td>\n",
       "      <td>NaN</td>\n",
       "      <td>NaN</td>\n",
       "      <td>NaN</td>\n",
       "      <td>NaN</td>\n",
       "      <td>NaN</td>\n",
       "      <td>NaN</td>\n",
       "      <td>NaN</td>\n",
       "      <td>NaN</td>\n",
       "      <td>NaN</td>\n",
       "      <td>NaN</td>\n",
       "      <td>NaN</td>\n",
       "      <td>NaN</td>\n",
       "      <td>NaN</td>\n",
       "      <td>NaN</td>\n",
       "      <td>NaN</td>\n",
       "      <td>NaN</td>\n",
       "      <td>NaN</td>\n",
       "      <td>NaN</td>\n",
       "      <td>NaN</td>\n",
       "      <td>NaN</td>\n",
       "      <td>NaN</td>\n",
       "      <td>NaN</td>\n",
       "      <td>NaN</td>\n",
       "      <td>NaN</td>\n",
       "      <td>NaN</td>\n",
       "      <td>NaN</td>\n",
       "      <td>NaN</td>\n",
       "      <td>NaN</td>\n",
       "      <td>NaN</td>\n",
       "      <td>NaN</td>\n",
       "      <td>NaN</td>\n",
       "      <td>NaN</td>\n",
       "      <td>NaN</td>\n",
       "      <td>NaN</td>\n",
       "      <td>NaN</td>\n",
       "      <td>NaN</td>\n",
       "      <td>NaN</td>\n",
       "    </tr>\n",
       "    <tr>\n",
       "      <th>3311</th>\n",
       "      <td>NaN</td>\n",
       "      <td>NaN</td>\n",
       "      <td>NaN</td>\n",
       "      <td>NaN</td>\n",
       "      <td>NaN</td>\n",
       "      <td>NaN</td>\n",
       "      <td>NaN</td>\n",
       "      <td>NaN</td>\n",
       "      <td>NaN</td>\n",
       "      <td>NaN</td>\n",
       "      <td>NaN</td>\n",
       "      <td>NaN</td>\n",
       "      <td>NaN</td>\n",
       "      <td>NaN</td>\n",
       "      <td>NaN</td>\n",
       "      <td>NaN</td>\n",
       "      <td>NaN</td>\n",
       "      <td>NaN</td>\n",
       "      <td>NaN</td>\n",
       "      <td>NaN</td>\n",
       "      <td>NaN</td>\n",
       "      <td>NaN</td>\n",
       "      <td>NaN</td>\n",
       "      <td>NaN</td>\n",
       "      <td>NaN</td>\n",
       "      <td>NaN</td>\n",
       "      <td>NaN</td>\n",
       "      <td>NaN</td>\n",
       "      <td>NaN</td>\n",
       "      <td>NaN</td>\n",
       "      <td>NaN</td>\n",
       "      <td>NaN</td>\n",
       "      <td>NaN</td>\n",
       "      <td>NaN</td>\n",
       "      <td>NaN</td>\n",
       "      <td>NaN</td>\n",
       "      <td>NaN</td>\n",
       "      <td>NaN</td>\n",
       "      <td>NaN</td>\n",
       "      <td>NaN</td>\n",
       "      <td>NaN</td>\n",
       "      <td>NaN</td>\n",
       "      <td>NaN</td>\n",
       "      <td>NaN</td>\n",
       "      <td>NaN</td>\n",
       "      <td>NaN</td>\n",
       "    </tr>\n",
       "    <tr>\n",
       "      <th>10659</th>\n",
       "      <td>NaN</td>\n",
       "      <td>NaN</td>\n",
       "      <td>NaN</td>\n",
       "      <td>NaN</td>\n",
       "      <td>NaN</td>\n",
       "      <td>NaN</td>\n",
       "      <td>NaN</td>\n",
       "      <td>NaN</td>\n",
       "      <td>NaN</td>\n",
       "      <td>NaN</td>\n",
       "      <td>NaN</td>\n",
       "      <td>NaN</td>\n",
       "      <td>NaN</td>\n",
       "      <td>NaN</td>\n",
       "      <td>NaN</td>\n",
       "      <td>NaN</td>\n",
       "      <td>NaN</td>\n",
       "      <td>NaN</td>\n",
       "      <td>NaN</td>\n",
       "      <td>NaN</td>\n",
       "      <td>NaN</td>\n",
       "      <td>NaN</td>\n",
       "      <td>NaN</td>\n",
       "      <td>NaN</td>\n",
       "      <td>NaN</td>\n",
       "      <td>NaN</td>\n",
       "      <td>NaN</td>\n",
       "      <td>NaN</td>\n",
       "      <td>NaN</td>\n",
       "      <td>NaN</td>\n",
       "      <td>NaN</td>\n",
       "      <td>NaN</td>\n",
       "      <td>NaN</td>\n",
       "      <td>NaN</td>\n",
       "      <td>NaN</td>\n",
       "      <td>NaN</td>\n",
       "      <td>NaN</td>\n",
       "      <td>NaN</td>\n",
       "      <td>NaN</td>\n",
       "      <td>NaN</td>\n",
       "      <td>NaN</td>\n",
       "      <td>NaN</td>\n",
       "      <td>NaN</td>\n",
       "      <td>NaN</td>\n",
       "      <td>NaN</td>\n",
       "      <td>NaN</td>\n",
       "    </tr>\n",
       "    <tr>\n",
       "      <th>11078</th>\n",
       "      <td>NaN</td>\n",
       "      <td>NaN</td>\n",
       "      <td>NaN</td>\n",
       "      <td>NaN</td>\n",
       "      <td>NaN</td>\n",
       "      <td>NaN</td>\n",
       "      <td>NaN</td>\n",
       "      <td>NaN</td>\n",
       "      <td>NaN</td>\n",
       "      <td>NaN</td>\n",
       "      <td>NaN</td>\n",
       "      <td>NaN</td>\n",
       "      <td>NaN</td>\n",
       "      <td>NaN</td>\n",
       "      <td>NaN</td>\n",
       "      <td>NaN</td>\n",
       "      <td>NaN</td>\n",
       "      <td>NaN</td>\n",
       "      <td>NaN</td>\n",
       "      <td>NaN</td>\n",
       "      <td>NaN</td>\n",
       "      <td>NaN</td>\n",
       "      <td>NaN</td>\n",
       "      <td>NaN</td>\n",
       "      <td>NaN</td>\n",
       "      <td>NaN</td>\n",
       "      <td>NaN</td>\n",
       "      <td>NaN</td>\n",
       "      <td>NaN</td>\n",
       "      <td>NaN</td>\n",
       "      <td>NaN</td>\n",
       "      <td>NaN</td>\n",
       "      <td>NaN</td>\n",
       "      <td>NaN</td>\n",
       "      <td>NaN</td>\n",
       "      <td>NaN</td>\n",
       "      <td>NaN</td>\n",
       "      <td>NaN</td>\n",
       "      <td>NaN</td>\n",
       "      <td>NaN</td>\n",
       "      <td>NaN</td>\n",
       "      <td>NaN</td>\n",
       "      <td>NaN</td>\n",
       "      <td>NaN</td>\n",
       "      <td>NaN</td>\n",
       "      <td>NaN</td>\n",
       "    </tr>\n",
       "  </tbody>\n",
       "</table>\n",
       "</div>"
      ],
      "text/plain": [
       "      make_model short_description make model location price body_type type  \\\n",
       "28483        NaN               NaN  NaN   NaN      NaN   NaN       NaN  NaN   \n",
       "18299        NaN               NaN  NaN   NaN      NaN   NaN       NaN  NaN   \n",
       "3337         NaN               NaN  NaN   NaN      NaN   NaN       NaN  NaN   \n",
       "24697        NaN               NaN  NaN   NaN      NaN   NaN       NaN  NaN   \n",
       "26901        NaN               NaN  NaN   NaN      NaN   NaN       NaN  NaN   \n",
       "29366        NaN               NaN  NaN   NaN      NaN   NaN       NaN  NaN   \n",
       "28071        NaN               NaN  NaN   NaN      NaN   NaN       NaN  NaN   \n",
       "12337        NaN               NaN  NaN   NaN      NaN   NaN       NaN  NaN   \n",
       "7231         NaN               NaN  NaN   NaN      NaN   NaN       NaN  NaN   \n",
       "13944        NaN               NaN  NaN   NaN      NaN   NaN       NaN  NaN   \n",
       "6221         NaN               NaN  NaN   NaN      NaN   NaN       NaN  NaN   \n",
       "16283        NaN               NaN  NaN   NaN      NaN   NaN       NaN  NaN   \n",
       "15516        NaN               NaN  NaN   NaN      NaN   NaN       NaN  NaN   \n",
       "27401        NaN               NaN  NaN   NaN      NaN   NaN       NaN  NaN   \n",
       "17915        NaN               NaN  NaN   NaN      NaN   NaN       NaN  NaN   \n",
       "4413         NaN               NaN  NaN   NaN      NaN   NaN       NaN  NaN   \n",
       "9287         NaN               NaN  NaN   NaN      NaN   NaN       NaN  NaN   \n",
       "3311         NaN               NaN  NaN   NaN      NaN   NaN       NaN  NaN   \n",
       "10659        NaN               NaN  NaN   NaN      NaN   NaN       NaN  NaN   \n",
       "11078        NaN               NaN  NaN   NaN      NaN   NaN       NaN  NaN   \n",
       "\n",
       "      doors country_version offer_number warranty mileage first_registration  \\\n",
       "28483   NaN             NaN          NaN      NaN     NaN                NaN   \n",
       "18299   NaN             NaN          NaN      NaN     NaN                NaN   \n",
       "3337    NaN             NaN          NaN      NaN     NaN                NaN   \n",
       "24697   NaN             NaN          NaN      NaN     NaN                NaN   \n",
       "26901   NaN             NaN          NaN      NaN     NaN                NaN   \n",
       "29366   NaN             NaN          NaN      NaN     NaN                NaN   \n",
       "28071   NaN             NaN          NaN      NaN     NaN                NaN   \n",
       "12337   NaN             NaN          NaN      NaN     NaN                NaN   \n",
       "7231    NaN             NaN          NaN      NaN     NaN                NaN   \n",
       "13944   NaN             NaN          NaN      NaN     NaN                NaN   \n",
       "6221    NaN             NaN          NaN      NaN     NaN                NaN   \n",
       "16283   NaN             NaN          NaN      NaN     NaN                NaN   \n",
       "15516   NaN             NaN          NaN      NaN     NaN                NaN   \n",
       "27401   NaN             NaN          NaN      NaN     NaN                NaN   \n",
       "17915   NaN             NaN          NaN      NaN     NaN                NaN   \n",
       "4413    NaN             NaN          NaN      NaN     NaN                NaN   \n",
       "9287    NaN             NaN          NaN      NaN     NaN                NaN   \n",
       "3311    NaN             NaN          NaN      NaN     NaN                NaN   \n",
       "10659   NaN             NaN          NaN      NaN     NaN                NaN   \n",
       "11078   NaN             NaN          NaN      NaN     NaN                NaN   \n",
       "\n",
       "      gearbox fuel_type colour paint desc seller seats power engine_size  \\\n",
       "28483     NaN       NaN    NaN   NaN  NaN    NaN   NaN   NaN         NaN   \n",
       "18299     NaN       NaN    NaN   NaN  NaN    NaN   NaN   NaN         NaN   \n",
       "3337      NaN       NaN    NaN   NaN  NaN    NaN   NaN   NaN         NaN   \n",
       "24697     NaN       NaN    NaN   NaN  NaN    NaN   NaN   NaN         NaN   \n",
       "26901     NaN       NaN    NaN   NaN  NaN    NaN   NaN   NaN         NaN   \n",
       "29366     NaN       NaN    NaN   NaN  NaN    NaN   NaN   NaN         NaN   \n",
       "28071     NaN       NaN    NaN   NaN  NaN    NaN   NaN   NaN         NaN   \n",
       "12337     NaN       NaN    NaN   NaN  NaN    NaN   NaN   NaN         NaN   \n",
       "7231      NaN       NaN    NaN   NaN  NaN    NaN   NaN   NaN         NaN   \n",
       "13944     NaN       NaN    NaN   NaN  NaN    NaN   NaN   NaN         NaN   \n",
       "6221      NaN       NaN    NaN   NaN  NaN    NaN   NaN   NaN         NaN   \n",
       "16283     NaN       NaN    NaN   NaN  NaN    NaN   NaN   NaN         NaN   \n",
       "15516     NaN       NaN    NaN   NaN  NaN    NaN   NaN   NaN         NaN   \n",
       "27401     NaN       NaN    NaN   NaN  NaN    NaN   NaN   NaN         NaN   \n",
       "17915     NaN       NaN    NaN   NaN  NaN    NaN   NaN   NaN         NaN   \n",
       "4413      NaN       NaN    NaN   NaN  NaN    NaN   NaN   NaN         NaN   \n",
       "9287      NaN       NaN    NaN   NaN  NaN    NaN   NaN   NaN         NaN   \n",
       "3311      NaN       NaN    NaN   NaN  NaN    NaN   NaN   NaN         NaN   \n",
       "10659     NaN       NaN    NaN   NaN  NaN    NaN   NaN   NaN         NaN   \n",
       "11078     NaN       NaN    NaN   NaN  NaN    NaN   NaN   NaN         NaN   \n",
       "\n",
       "      gears co_emissions manufacturer_colour drivetrain cylinders  \\\n",
       "28483   NaN          NaN                 NaN        NaN       NaN   \n",
       "18299   NaN          NaN                 NaN        NaN       NaN   \n",
       "3337    NaN          NaN                 NaN        NaN       NaN   \n",
       "24697   NaN          NaN                 NaN        NaN       NaN   \n",
       "26901   NaN          NaN                 NaN        NaN       NaN   \n",
       "29366   NaN          NaN                 NaN        NaN       NaN   \n",
       "28071   NaN          NaN                 NaN        NaN       NaN   \n",
       "12337   NaN          NaN                 NaN        NaN       NaN   \n",
       "7231    NaN          NaN                 NaN        NaN       NaN   \n",
       "13944   NaN          NaN                 NaN        NaN       NaN   \n",
       "6221    NaN          NaN                 NaN        NaN       NaN   \n",
       "16283   NaN          NaN                 NaN        NaN       NaN   \n",
       "15516   NaN          NaN                 NaN        NaN       NaN   \n",
       "27401   NaN          NaN                 NaN        NaN       NaN   \n",
       "17915   NaN          NaN                 NaN        NaN       NaN   \n",
       "4413    NaN          NaN                 NaN        NaN       NaN   \n",
       "9287    NaN          NaN                 NaN        NaN       NaN   \n",
       "3311    NaN          NaN                 NaN        NaN       NaN   \n",
       "10659   NaN          NaN                 NaN        NaN       NaN   \n",
       "11078   NaN          NaN                 NaN        NaN       NaN   \n",
       "\n",
       "      fuel_consumption comfort_convenience entertainment_media  \\\n",
       "28483              NaN                 NaN                 NaN   \n",
       "18299              NaN                 NaN                 NaN   \n",
       "3337               NaN                 NaN                 NaN   \n",
       "24697              NaN                 NaN                 NaN   \n",
       "26901              NaN                 NaN                 NaN   \n",
       "29366              NaN                 NaN                 NaN   \n",
       "28071              NaN                 NaN                 NaN   \n",
       "12337              NaN                 NaN                 NaN   \n",
       "7231               NaN                 NaN                 NaN   \n",
       "13944              NaN                 NaN                 NaN   \n",
       "6221               NaN                 NaN                 NaN   \n",
       "16283              NaN                 NaN                 NaN   \n",
       "15516              NaN                 NaN                 NaN   \n",
       "27401              NaN                 NaN                 NaN   \n",
       "17915              NaN                 NaN                 NaN   \n",
       "4413               NaN                 NaN                 NaN   \n",
       "9287               NaN                 NaN                 NaN   \n",
       "3311               NaN                 NaN                 NaN   \n",
       "10659              NaN                 NaN                 NaN   \n",
       "11078              NaN                 NaN                 NaN   \n",
       "\n",
       "      safety_security extras empty_weight model_code general_inspection  \\\n",
       "28483             NaN    NaN          NaN        NaN                NaN   \n",
       "18299             NaN    NaN          NaN        NaN                NaN   \n",
       "3337              NaN    NaN          NaN        NaN                NaN   \n",
       "24697             NaN    NaN          NaN        NaN                NaN   \n",
       "26901             NaN    NaN          NaN        NaN                NaN   \n",
       "29366             NaN    NaN          NaN        NaN                NaN   \n",
       "28071             NaN    NaN          NaN        NaN                NaN   \n",
       "12337             NaN    NaN          NaN        NaN                NaN   \n",
       "7231              NaN    NaN          NaN        NaN                NaN   \n",
       "13944             NaN    NaN          NaN        NaN                NaN   \n",
       "6221              NaN    NaN          NaN        NaN                NaN   \n",
       "16283             NaN    NaN          NaN        NaN                NaN   \n",
       "15516             NaN    NaN          NaN        NaN                NaN   \n",
       "27401             NaN    NaN          NaN        NaN                NaN   \n",
       "17915             NaN    NaN          NaN        NaN                NaN   \n",
       "4413              NaN    NaN          NaN        NaN                NaN   \n",
       "9287              NaN    NaN          NaN        NaN                NaN   \n",
       "3311              NaN    NaN          NaN        NaN                NaN   \n",
       "10659             NaN    NaN          NaN        NaN                NaN   \n",
       "11078             NaN    NaN          NaN        NaN                NaN   \n",
       "\n",
       "      full_service_history non_smoker_vehicle emission_class  \\\n",
       "28483                  NaN                NaN            NaN   \n",
       "18299                  NaN                NaN            NaN   \n",
       "3337                   NaN                NaN            NaN   \n",
       "24697                  NaN                NaN            NaN   \n",
       "26901                  NaN                NaN            NaN   \n",
       "29366                  NaN                NaN            NaN   \n",
       "28071                  NaN                NaN            NaN   \n",
       "12337                  NaN                NaN            NaN   \n",
       "7231                   NaN                NaN            NaN   \n",
       "13944                  NaN                NaN            NaN   \n",
       "6221                   NaN                NaN            NaN   \n",
       "16283                  NaN                NaN            NaN   \n",
       "15516                  NaN                NaN            NaN   \n",
       "27401                  NaN                NaN            NaN   \n",
       "17915                  NaN                NaN            NaN   \n",
       "4413                   NaN                NaN            NaN   \n",
       "9287                   NaN                NaN            NaN   \n",
       "3311                   NaN                NaN            NaN   \n",
       "10659                  NaN                NaN            NaN   \n",
       "11078                  NaN                NaN            NaN   \n",
       "\n",
       "      emissions_sticker upholstery_colour upholstery  production_date  \\\n",
       "28483               NaN               NaN        NaN              NaN   \n",
       "18299               NaN               NaN        NaN              NaN   \n",
       "3337                NaN               NaN        NaN              NaN   \n",
       "24697               NaN               NaN        NaN              NaN   \n",
       "26901               NaN               NaN        NaN              NaN   \n",
       "29366               NaN               NaN        NaN              NaN   \n",
       "28071               NaN               NaN        NaN              NaN   \n",
       "12337               NaN               NaN        NaN              NaN   \n",
       "7231                NaN               NaN        NaN              NaN   \n",
       "13944               NaN               NaN        NaN              NaN   \n",
       "6221                NaN               NaN        NaN              NaN   \n",
       "16283               NaN               NaN        NaN              NaN   \n",
       "15516               NaN               NaN        NaN              NaN   \n",
       "27401               NaN               NaN        NaN              NaN   \n",
       "17915               NaN               NaN        NaN              NaN   \n",
       "4413                NaN               NaN        NaN              NaN   \n",
       "9287                NaN               NaN        NaN              NaN   \n",
       "3311                NaN               NaN        NaN              NaN   \n",
       "10659               NaN               NaN        NaN              NaN   \n",
       "11078               NaN               NaN        NaN              NaN   \n",
       "\n",
       "      previous_owner energy_efficiency_class co_efficiency  \n",
       "28483            NaN                     NaN           NaN  \n",
       "18299            NaN                     NaN           NaN  \n",
       "3337             NaN                     NaN           NaN  \n",
       "24697            NaN                     NaN           NaN  \n",
       "26901            NaN                     NaN           NaN  \n",
       "29366            NaN                     NaN           NaN  \n",
       "28071            NaN                     NaN           NaN  \n",
       "12337            NaN                     NaN           NaN  \n",
       "7231             NaN                     NaN           NaN  \n",
       "13944            NaN                     NaN           NaN  \n",
       "6221             NaN                     NaN           NaN  \n",
       "16283            NaN                     NaN           NaN  \n",
       "15516            NaN                     NaN           NaN  \n",
       "27401            NaN                     NaN           NaN  \n",
       "17915            NaN                     NaN           NaN  \n",
       "4413             NaN                     NaN           NaN  \n",
       "9287             NaN                     NaN           NaN  \n",
       "3311             NaN                     NaN           NaN  \n",
       "10659            NaN                     NaN           NaN  \n",
       "11078            NaN                     NaN           NaN  "
      ]
     },
     "metadata": {},
     "output_type": "display_data"
    },
    {
     "name": "stdout",
     "output_type": "stream",
     "text": [
      "Price feature/column has 850 NaN values.\n"
     ]
    }
   ],
   "source": [
    "display(df[df[\"price\"].isnull()].sample(20))\n",
    "price_nans = df[\"price\"].isnull().sum()\n",
    "\n",
    "print(f\"Price feature/column has {price_nans} NaN values.\")"
   ]
  },
  {
   "cell_type": "markdown",
   "metadata": {},
   "source": [
    "**Let's first extract the values needed in our analysis:**"
   ]
  },
  {
   "cell_type": "code",
   "execution_count": 283,
   "metadata": {
    "ExecuteTime": {
     "end_time": "2025-01-16T09:22:27.170136Z",
     "start_time": "2025-01-16T09:22:26.958367Z"
    },
    "scrolled": false
   },
   "outputs": [
    {
     "data": {
      "text/html": [
       "<div>\n",
       "<style scoped>\n",
       "    .dataframe tbody tr th:only-of-type {\n",
       "        vertical-align: middle;\n",
       "    }\n",
       "\n",
       "    .dataframe tbody tr th {\n",
       "        vertical-align: top;\n",
       "    }\n",
       "\n",
       "    .dataframe thead th {\n",
       "        text-align: right;\n",
       "    }\n",
       "</style>\n",
       "<table border=\"1\" class=\"dataframe\">\n",
       "  <thead>\n",
       "    <tr style=\"text-align: right;\">\n",
       "      <th></th>\n",
       "      <th>0</th>\n",
       "    </tr>\n",
       "  </thead>\n",
       "  <tbody>\n",
       "    <tr>\n",
       "      <th>0</th>\n",
       "      <td>16,950</td>\n",
       "    </tr>\n",
       "    <tr>\n",
       "      <th>1</th>\n",
       "      <td>80,900</td>\n",
       "    </tr>\n",
       "    <tr>\n",
       "      <th>2</th>\n",
       "      <td>69,900</td>\n",
       "    </tr>\n",
       "    <tr>\n",
       "      <th>3</th>\n",
       "      <td>46,990</td>\n",
       "    </tr>\n",
       "    <tr>\n",
       "      <th>4</th>\n",
       "      <td>16,800</td>\n",
       "    </tr>\n",
       "    <tr>\n",
       "      <th>...</th>\n",
       "      <td>...</td>\n",
       "    </tr>\n",
       "    <tr>\n",
       "      <th>29475</th>\n",
       "      <td>5,499</td>\n",
       "    </tr>\n",
       "    <tr>\n",
       "      <th>29476</th>\n",
       "      <td>7,300</td>\n",
       "    </tr>\n",
       "    <tr>\n",
       "      <th>29477</th>\n",
       "      <td>29,900</td>\n",
       "    </tr>\n",
       "    <tr>\n",
       "      <th>29478</th>\n",
       "      <td>4,440</td>\n",
       "    </tr>\n",
       "    <tr>\n",
       "      <th>29479</th>\n",
       "      <td>NaN</td>\n",
       "    </tr>\n",
       "  </tbody>\n",
       "</table>\n",
       "<p>29480 rows × 1 columns</p>\n",
       "</div>"
      ],
      "text/plain": [
       "            0\n",
       "0      16,950\n",
       "1      80,900\n",
       "2      69,900\n",
       "3      46,990\n",
       "4      16,800\n",
       "...       ...\n",
       "29475   5,499\n",
       "29476   7,300\n",
       "29477  29,900\n",
       "29478   4,440\n",
       "29479     NaN\n",
       "\n",
       "[29480 rows x 1 columns]"
      ]
     },
     "execution_count": 283,
     "metadata": {},
     "output_type": "execute_result"
    }
   ],
   "source": [
    "df['price'].astype(str).str.extract('(\\d+.\\d+)')"
   ]
  },
  {
   "cell_type": "code",
   "execution_count": 284,
   "metadata": {
    "ExecuteTime": {
     "end_time": "2025-01-16T09:22:27.381040Z",
     "start_time": "2025-01-16T09:22:27.174785Z"
    }
   },
   "outputs": [
    {
     "data": {
      "text/plain": [
       "0       16950.00\n",
       "1       80900.00\n",
       "2       69900.00\n",
       "3       46990.00\n",
       "4       16800.00\n",
       "          ...   \n",
       "29475    5499.00\n",
       "29476    7300.00\n",
       "29477   29900.00\n",
       "29478    4440.00\n",
       "29479        NaN\n",
       "Name: price, Length: 29480, dtype: float64"
      ]
     },
     "execution_count": 284,
     "metadata": {},
     "output_type": "execute_result"
    }
   ],
   "source": [
    "# df['price'].explode().str.strip(\"€, .-\").str.replace(\",\", \"\")\n",
    "\n",
    "df['price'] = df['price'].astype(str).str.extract('(\\d+.\\d+)')\n",
    "df['price'] = df['price'].str.replace(\",\", \"\").astype(float)\n",
    "\n",
    "df['price'] "
   ]
  },
  {
   "cell_type": "code",
   "execution_count": 285,
   "metadata": {
    "ExecuteTime": {
     "end_time": "2025-01-16T09:22:27.392255Z",
     "start_time": "2025-01-16T09:22:27.385628Z"
    }
   },
   "outputs": [
    {
     "name": "stdout",
     "output_type": "stream",
     "text": [
      "850\n"
     ]
    },
    {
     "data": {
      "text/plain": [
       "(29480, 46)"
      ]
     },
     "metadata": {},
     "output_type": "display_data"
    }
   ],
   "source": [
    "print(df.price.isnull().sum())\n",
    "\n",
    "display(df.shape)"
   ]
  },
  {
   "cell_type": "code",
   "execution_count": 286,
   "metadata": {
    "ExecuteTime": {
     "end_time": "2025-01-16T09:22:27.821740Z",
     "start_time": "2025-01-16T09:22:27.397869Z"
    }
   },
   "outputs": [],
   "source": [
    "df.dropna(how='all', inplace=True)"
   ]
  },
  {
   "cell_type": "code",
   "execution_count": 287,
   "metadata": {
    "ExecuteTime": {
     "end_time": "2025-01-16T09:22:27.836533Z",
     "start_time": "2025-01-16T09:22:27.825814Z"
    }
   },
   "outputs": [
    {
     "name": "stdout",
     "output_type": "stream",
     "text": [
      "0\n"
     ]
    },
    {
     "data": {
      "text/plain": [
       "(28630, 46)"
      ]
     },
     "metadata": {},
     "output_type": "display_data"
    }
   ],
   "source": [
    "print(df.price.isnull().sum())\n",
    "\n",
    "display(df.shape)\n",
    "\n",
    "# 29480 - 28630 = 850"
   ]
  },
  {
   "cell_type": "code",
   "execution_count": 288,
   "metadata": {
    "ExecuteTime": {
     "end_time": "2025-01-16T09:22:27.857068Z",
     "start_time": "2025-01-16T09:22:27.841147Z"
    }
   },
   "outputs": [
    {
     "data": {
      "text/plain": [
       "count    28630.00\n",
       "mean     23470.66\n",
       "std      23953.50\n",
       "min        490.00\n",
       "25%      11990.00\n",
       "50%      17979.00\n",
       "75%      27990.00\n",
       "max     999999.00\n",
       "Name: price, dtype: float64"
      ]
     },
     "execution_count": 288,
     "metadata": {},
     "output_type": "execute_result"
    }
   ],
   "source": [
    "df['price'].describe()"
   ]
  },
  {
   "cell_type": "code",
   "execution_count": 289,
   "metadata": {
    "ExecuteTime": {
     "end_time": "2025-01-16T09:22:28.216312Z",
     "start_time": "2025-01-16T09:22:27.860117Z"
    }
   },
   "outputs": [
    {
     "data": {
      "image/png": "[encoded data removed]",
      "text/plain": [
       "<Figure size 1000x600 with 1 Axes>"
      ]
     },
     "metadata": {},
     "output_type": "display_data"
    }
   ],
   "source": [
    "# create box plot\n",
    "sns.boxplot(df.price)\n",
    "\n",
    "# format tick labels\n",
    "plt.ticklabel_format(style='plain', axis='y')  # style='plain' suppress the scientific notation\n",
    "\n",
    "# display plot\n",
    "plt.show()"
   ]
  },
  {
   "cell_type": "markdown",
   "metadata": {},
   "source": [
    "<div style=\"background-color: lightgreen; padding: 10px; font-size: 14px;\">\n",
    "We see that car sales prices are generally below 50,000 Euros.\n",
    "</div>"
   ]
  },
  {
   "cell_type": "code",
   "execution_count": 290,
   "metadata": {
    "ExecuteTime": {
     "end_time": "2025-01-16T09:22:29.169777Z",
     "start_time": "2025-01-16T09:22:28.221479Z"
    }
   },
   "outputs": [
    {
     "data": {
      "image/png": "[encoded data removed]",
      "text/plain": [
       "<Figure size 1000x600 with 1 Axes>"
      ]
     },
     "metadata": {},
     "output_type": "display_data"
    }
   ],
   "source": [
    "sns.distplot(df.price)\n",
    "\n",
    "plt.ticklabel_format(style='plain')  # style='plain' suppress the scientific notation\n",
    "\n",
    "plt.show()\n",
    "\n",
    "# fig, ax = plt.subplots(figsize=(15, 6))\n",
    "# ax.hist(df.price, bins=50);\n",
    "# df.price.hist(bins=100)"
   ]
  },
  {
   "cell_type": "code",
   "execution_count": 291,
   "metadata": {
    "ExecuteTime": {
     "end_time": "2025-01-16T09:22:30.086671Z",
     "start_time": "2025-01-16T09:22:29.177486Z"
    },
    "scrolled": false
   },
   "outputs": [
    {
     "name": "stdout",
     "output_type": "stream",
     "text": [
      "\u001b[1m\u001b[31mStatistical Calculations :\u001b[0m\n",
      "\u001b[1m\u001b[31m--------------------------\u001b[0m\n",
      "\u001b[1m\u001b[34mMinimum: 490.00\n",
      "Mean:  23470.66\n",
      "Median:17979.00\n",
      "Mode:  14990.00\n",
      "Maximum:999999.00\n",
      "\u001b[0m\n"
     ]
    },
    {
     "data": {
      "image/png": "[encoded data removed]",
      "text/plain": [
       "<Figure size 1500x1500 with 2 Axes>"
      ]
     },
     "metadata": {},
     "output_type": "display_data"
    }
   ],
   "source": [
    "show_distribution(df[\"price\"])"
   ]
  },
  {
   "cell_type": "markdown",
   "metadata": {},
   "source": [
    "## make_model\n",
    "\n",
    "### 📝 Some Remarks on car make & model:\n",
    "\n",
    "Of the basic factors influencing your car value are the make and model since ``some vehicles are more likely to sell than others``, there are some automobile models that also have a better reputation for durability and other aspects, making them ideal options for those wanting to buy a used car, for example, Japanese models tend to have a better reputation for resale than German models, but of course, it is not in all cases.\n",
    "\n",
    "The supply and demand of some models is another factor to consider, and, for example, if there are a lot of cars of the same brand and model as yours entering the used car market, this will also affect the price due to the offer and demand."
   ]
  },
  {
   "cell_type": "code",
   "execution_count": 292,
   "metadata": {
    "ExecuteTime": {
     "end_time": "2025-01-16T09:22:30.137225Z",
     "start_time": "2025-01-16T09:22:30.092831Z"
    }
   },
   "outputs": [
    {
     "name": "stdout",
     "output_type": "stream",
     "text": [
      "column name    :  make_model\n",
      "--------------------------------\n",
      "per_of_nulls   :  % 0.0\n",
      "num_of_nulls   :  0\n",
      "num_of_uniques :  611\n",
      "shape_of_df    :  (28630, 46)\n",
      "--------------------------------\n",
      "make_model\n",
      "Renault Megane     863\n",
      "SEAT Leon          787\n",
      "Volvo V40          740\n",
      "Dacia Sandero      730\n",
      "Hyundai i30        706\n",
      "                  ... \n",
      "Toyota GR86          1\n",
      "Toyota Tacoma        1\n",
      "Toyota Tundra        1\n",
      "Toyota 4-Runner      1\n",
      "Volvo 244            1\n",
      "Name: count, Length: 611, dtype: int64\n"
     ]
    }
   ],
   "source": [
    "first_looking(df, \"make_model\")"
   ]
  },
  {
   "cell_type": "markdown",
   "metadata": {},
   "source": [
    "**As seen, the \"make_model\" column gives us a more detailed information for our analysis; however, there been some other features, \"Make\" & \"Model\", exactly giving the same information/insights, so after the examination of these columns we will decide which one/s we will continue.**"
   ]
  },
  {
   "cell_type": "code",
   "execution_count": 293,
   "metadata": {
    "ExecuteTime": {
     "end_time": "2025-01-16T09:22:30.145062Z",
     "start_time": "2025-01-16T09:22:30.140278Z"
    }
   },
   "outputs": [],
   "source": [
    "# df.make_model.str.contains('Volvo', regex=False)\n",
    "\n",
    "# df[df.make_model.str.contains('Volvo', regex=False, na=False)]"
   ]
  },
  {
   "cell_type": "markdown",
   "metadata": {},
   "source": [
    "## make\n",
    "\n",
    "### 📝 Some Remarks on car make:\n",
    "\n",
    "**The importance of make in cars while selling and buying?**\n",
    "\n",
    "The term \"make\" in cars refers to the brand or manufacturer of the vehicle. When selling or buying a car, the make is an important consideration for several reasons:\n",
    "\n",
    "  - **``Reputation``**: Different car manufacturers have different reputations for quality, reliability, and performance. A car's make can affect its resale value, as well as the perceived value by prospective buyers.\n",
    "\n",
    "  - **``Availability of parts and service``**: The availability and cost of replacement parts and service can depend on the make of the car. Some makes may have a larger market for aftermarket parts, whereas others may require more specialized or expensive parts.\n",
    "\n",
    "  - **``Features and options``**: Different car makes can have different standard and optional features, such as safety features, entertainment systems, and performance enhancements. These features can affect the car's value and desirability.\n",
    "\n",
    "  - **``Personal preference``**: Buyers may have personal preferences for certain car makes based on factors such as brand loyalty, styling, or perceived status.\n",
    "\n",
    "When selling a car, emphasizing the make can help to attract buyers who are specifically interested in that brand or manufacturer. Similarly, when buying a car, considering the make can help to narrow down the options and find a vehicle that meets the buyer's needs and preferences.\n",
    "\n",
    "**🧐 [What Is The Difference Between The Make And Model Of A Car?](https://www.jdpower.com/cars/shopping-guides/what-is-the-difference-between-the-make-and-model-of-a-car)**"
   ]
  },
  {
   "cell_type": "code",
   "execution_count": 294,
   "metadata": {
    "ExecuteTime": {
     "end_time": "2025-01-16T09:22:30.209439Z",
     "start_time": "2025-01-16T09:22:30.150673Z"
    }
   },
   "outputs": [
    {
     "name": "stdout",
     "output_type": "stream",
     "text": [
      "column name    :  make\n",
      "--------------------------------\n",
      "per_of_nulls   :  % 0.0\n",
      "num_of_nulls   :  0\n",
      "num_of_uniques :  13\n",
      "shape_of_df    :  (28630, 46)\n",
      "--------------------------------\n",
      "make\n",
      "\\nVolvo\\n            3659\n",
      "\\nMercedes-Benz\\n    2398\n",
      "\\nOpel\\n             2385\n",
      "\\nPeugeot\\n          2360\n",
      "\\nRenault\\n          2351\n",
      "\\nFiat\\n             2338\n",
      "\\nFord\\n             2324\n",
      "\\nNissan\\n           2064\n",
      "\\nToyota\\n           2038\n",
      "\\nHyundai\\n          1867\n",
      "\\nSEAT\\n             1743\n",
      "\\nSkoda\\n            1566\n",
      "\\nDacia\\n            1537\n",
      "Name: count, dtype: int64\n"
     ]
    }
   ],
   "source": [
    "first_looking(df, \"make\")"
   ]
  },
  {
   "cell_type": "code",
   "execution_count": 295,
   "metadata": {
    "ExecuteTime": {
     "end_time": "2025-01-16T09:22:30.268989Z",
     "start_time": "2025-01-16T09:22:30.216612Z"
    }
   },
   "outputs": [],
   "source": [
    "df[\"make\"] = df.make.str.strip('\\n')"
   ]
  },
  {
   "cell_type": "code",
   "execution_count": 296,
   "metadata": {
    "ExecuteTime": {
     "end_time": "2025-01-16T09:22:30.297789Z",
     "start_time": "2025-01-16T09:22:30.275673Z"
    }
   },
   "outputs": [
    {
     "data": {
      "text/plain": [
       "make\n",
       "Volvo            3659\n",
       "Mercedes-Benz    2398\n",
       "Opel             2385\n",
       "Peugeot          2360\n",
       "Renault          2351\n",
       "Fiat             2338\n",
       "Ford             2324\n",
       "Nissan           2064\n",
       "Toyota           2038\n",
       "Hyundai          1867\n",
       "SEAT             1743\n",
       "Skoda            1566\n",
       "Dacia            1537\n",
       "Name: count, dtype: int64"
      ]
     },
     "execution_count": 296,
     "metadata": {},
     "output_type": "execute_result"
    }
   ],
   "source": [
    "df.make.value_counts(dropna=False)"
   ]
  },
  {
   "cell_type": "markdown",
   "metadata": {},
   "source": [
    "## model\n",
    "\n",
    "### 📝 Some Remarks on car model:\n",
    "\n",
    "**The importance of model in cars while selling and buying?**\n",
    "\n",
    "The model of a car is the specific version or variant of a particular make. When selling or buying a car, the model is an important consideration for several reasons:\n",
    "\n",
    "  - **``Features and options``**: Different models within a make can have different standard and optional features, such as engine size, transmission type, safety features, and entertainment systems. These features can affect the car's value and desirability.\n",
    "\n",
    "  - **``Condition``**: The condition of a particular model can vary depending on factors such as age, mileage, and maintenance history. Some models may have a reputation for being more reliable or durable than others, which can affect their resale value.\n",
    "\n",
    "  - **``Rarity``**: Some models may be more rare or collectible, which can affect their value and desirability among certain buyers.\n",
    "\n",
    "  - **``Personal preference``**: Buyers may have personal preferences for certain models based on factors such as styling, performance, or reputation.\n",
    "\n",
    "When selling a car, emphasizing the specific model can help to attract buyers who are specifically interested in that particular version or variant of the make. Similarly, when buying a car, considering the model can help to narrow down the options and find a vehicle that meets the buyer's needs and preferences."
   ]
  },
  {
   "cell_type": "code",
   "execution_count": 297,
   "metadata": {
    "ExecuteTime": {
     "end_time": "2025-01-16T09:22:31.443659Z",
     "start_time": "2025-01-16T09:22:30.303062Z"
    }
   },
   "outputs": [
    {
     "name": "stdout",
     "output_type": "stream",
     "text": [
      "column name    :  model\n",
      "--------------------------------\n",
      "per_of_nulls   :  % 0.0\n",
      "num_of_nulls   :  0\n",
      "num_of_uniques :  594\n",
      "shape_of_df    :  (28630, 46)\n",
      "--------------------------------\n",
      "model\n",
      "[\\n, Megane ,\\n]        863\n",
      "[\\n, Leon ,\\n]          787\n",
      "[\\n, V40 ,\\n]           740\n",
      "[\\n, Sandero ,\\n]       730\n",
      "[\\n, i30 ,\\n]           706\n",
      "                       ... \n",
      "[\\n, GLA 35 AMG ,\\n]      1\n",
      "[\\n, G 55 AMG ,\\n]        1\n",
      "[\\n, Ariya ,\\n]           1\n",
      "[\\n, 105 ,\\n]             1\n",
      "[\\n, 244 ,\\n]             1\n",
      "Name: count, Length: 594, dtype: int64\n"
     ]
    }
   ],
   "source": [
    "first_looking(df, \"model\")"
   ]
  },
  {
   "cell_type": "code",
   "execution_count": 298,
   "metadata": {
    "ExecuteTime": {
     "end_time": "2025-01-16T09:22:31.502522Z",
     "start_time": "2025-01-16T09:22:31.450267Z"
    }
   },
   "outputs": [
    {
     "data": {
      "text/plain": [
       "0           A 160\n",
       "1         EQE 350\n",
       "2        A 45 AMG\n",
       "3        A 35 AMG\n",
       "4        A 45 AMG\n",
       "           ...   \n",
       "29474         S90\n",
       "29475         S40\n",
       "29476         C30\n",
       "29477         S90\n",
       "29478         S80\n",
       "Name: model, Length: 28630, dtype: object"
      ]
     },
     "execution_count": 298,
     "metadata": {},
     "output_type": "execute_result"
    }
   ],
   "source": [
    "# df[\"model\"].str[0]\n",
    "# df['model'].astype(str).str.extract('([A-Z]+.\\d+)')\n",
    "# df['model'].astype(str).str.extract('( \\D+.\\d+)')\n",
    "\n",
    "df['model'] = df['model'].explode().str.strip(\"\\n, \")\n",
    "df['model']"
   ]
  },
  {
   "cell_type": "markdown",
   "metadata": {},
   "source": [
    "**🧐 What does [explode()](https://pandas.pydata.org/docs/reference/api/pandas.DataFrame.explode.html) do in Pandas?**\n",
    "\n",
    "- In pandas, the explode() function is used to transform a column containing a list-like object (e.g. a list, tuple, or Series) into multiple rows, with one row for each item in the list.\n",
    "\n",
    "- By default, explode() drops any rows with missing or null values in the column being exploded. You can use the ignore_index parameter to reset the index of the resulting DataFrame, and the level parameter to specify the level at which to explode if the column being exploded is a multi-level index."
   ]
  },
  {
   "cell_type": "code",
   "execution_count": 299,
   "metadata": {
    "ExecuteTime": {
     "end_time": "2025-01-16T09:22:31.528224Z",
     "start_time": "2025-01-16T09:22:31.510811Z"
    }
   },
   "outputs": [
    {
     "data": {
      "text/plain": [
       "model\n",
       "Megane        863\n",
       "Leon          787\n",
       "V40           740\n",
       "Sandero       730\n",
       "i30           706\n",
       "             ... \n",
       "GLA 35 AMG      1\n",
       "G 55 AMG        1\n",
       "Ariya           1\n",
       "105             1\n",
       "244             1\n",
       "Name: count, Length: 594, dtype: int64"
      ]
     },
     "execution_count": 299,
     "metadata": {},
     "output_type": "execute_result"
    }
   ],
   "source": [
    "df.model.value_counts(dropna=False)"
   ]
  },
  {
   "cell_type": "markdown",
   "metadata": {},
   "source": [
    "**Let's check the compatibility of the values in the ``make`` and ``model`` columns of the vehicles with the values in the ``make_model`` column:**"
   ]
  },
  {
   "cell_type": "code",
   "execution_count": 300,
   "metadata": {
    "ExecuteTime": {
     "end_time": "2025-01-16T09:22:31.586161Z",
     "start_time": "2025-01-16T09:22:31.536582Z"
    }
   },
   "outputs": [
    {
     "data": {
      "text/html": [
       "<div>\n",
       "<style scoped>\n",
       "    .dataframe tbody tr th:only-of-type {\n",
       "        vertical-align: middle;\n",
       "    }\n",
       "\n",
       "    .dataframe tbody tr th {\n",
       "        vertical-align: top;\n",
       "    }\n",
       "\n",
       "    .dataframe thead th {\n",
       "        text-align: right;\n",
       "    }\n",
       "</style>\n",
       "<table border=\"1\" class=\"dataframe\">\n",
       "  <thead>\n",
       "    <tr style=\"text-align: right;\">\n",
       "      <th></th>\n",
       "      <th>make_model</th>\n",
       "      <th>make</th>\n",
       "      <th>model</th>\n",
       "    </tr>\n",
       "  </thead>\n",
       "  <tbody>\n",
       "    <tr>\n",
       "      <th>13314</th>\n",
       "      <td>SEAT Leon</td>\n",
       "      <td>SEAT</td>\n",
       "      <td>Leon</td>\n",
       "    </tr>\n",
       "    <tr>\n",
       "      <th>25201</th>\n",
       "      <td>Hyundai i40</td>\n",
       "      <td>Hyundai</td>\n",
       "      <td>i40</td>\n",
       "    </tr>\n",
       "    <tr>\n",
       "      <th>17088</th>\n",
       "      <td>Toyota Aygo X</td>\n",
       "      <td>Toyota</td>\n",
       "      <td>Aygo X</td>\n",
       "    </tr>\n",
       "    <tr>\n",
       "      <th>20760</th>\n",
       "      <td>Nissan X-Trail</td>\n",
       "      <td>Nissan</td>\n",
       "      <td>X-Trail</td>\n",
       "    </tr>\n",
       "    <tr>\n",
       "      <th>13759</th>\n",
       "      <td>SEAT Ibiza</td>\n",
       "      <td>SEAT</td>\n",
       "      <td>Ibiza</td>\n",
       "    </tr>\n",
       "    <tr>\n",
       "      <th>16340</th>\n",
       "      <td>Dacia Dokker</td>\n",
       "      <td>Dacia</td>\n",
       "      <td>Dokker</td>\n",
       "    </tr>\n",
       "    <tr>\n",
       "      <th>2669</th>\n",
       "      <td>Opel Corsa</td>\n",
       "      <td>Opel</td>\n",
       "      <td>Corsa</td>\n",
       "    </tr>\n",
       "    <tr>\n",
       "      <th>13836</th>\n",
       "      <td>Skoda Fabia</td>\n",
       "      <td>Skoda</td>\n",
       "      <td>Fabia</td>\n",
       "    </tr>\n",
       "    <tr>\n",
       "      <th>16170</th>\n",
       "      <td>Dacia Duster</td>\n",
       "      <td>Dacia</td>\n",
       "      <td>Duster</td>\n",
       "    </tr>\n",
       "    <tr>\n",
       "      <th>9128</th>\n",
       "      <td>Peugeot 308</td>\n",
       "      <td>Peugeot</td>\n",
       "      <td>308</td>\n",
       "    </tr>\n",
       "    <tr>\n",
       "      <th>28863</th>\n",
       "      <td>Volvo V90</td>\n",
       "      <td>Volvo</td>\n",
       "      <td>V90</td>\n",
       "    </tr>\n",
       "    <tr>\n",
       "      <th>16339</th>\n",
       "      <td>Dacia Sandero</td>\n",
       "      <td>Dacia</td>\n",
       "      <td>Sandero</td>\n",
       "    </tr>\n",
       "    <tr>\n",
       "      <th>13036</th>\n",
       "      <td>SEAT Leon</td>\n",
       "      <td>SEAT</td>\n",
       "      <td>Leon</td>\n",
       "    </tr>\n",
       "    <tr>\n",
       "      <th>16969</th>\n",
       "      <td>Dacia Logan</td>\n",
       "      <td>Dacia</td>\n",
       "      <td>Logan</td>\n",
       "    </tr>\n",
       "    <tr>\n",
       "      <th>23608</th>\n",
       "      <td>Ford Focus</td>\n",
       "      <td>Ford</td>\n",
       "      <td>Focus</td>\n",
       "    </tr>\n",
       "    <tr>\n",
       "      <th>18999</th>\n",
       "      <td>Toyota Aygo</td>\n",
       "      <td>Toyota</td>\n",
       "      <td>Aygo</td>\n",
       "    </tr>\n",
       "    <tr>\n",
       "      <th>19820</th>\n",
       "      <td>Nissan 350Z</td>\n",
       "      <td>Nissan</td>\n",
       "      <td>350Z</td>\n",
       "    </tr>\n",
       "    <tr>\n",
       "      <th>18232</th>\n",
       "      <td>Toyota Yaris Cross</td>\n",
       "      <td>Toyota</td>\n",
       "      <td>Yaris Cross</td>\n",
       "    </tr>\n",
       "    <tr>\n",
       "      <th>6512</th>\n",
       "      <td>Renault Talisman</td>\n",
       "      <td>Renault</td>\n",
       "      <td>Talisman</td>\n",
       "    </tr>\n",
       "    <tr>\n",
       "      <th>2925</th>\n",
       "      <td>Opel Astra</td>\n",
       "      <td>Opel</td>\n",
       "      <td>Astra</td>\n",
       "    </tr>\n",
       "  </tbody>\n",
       "</table>\n",
       "</div>"
      ],
      "text/plain": [
       "               make_model     make        model\n",
       "13314           SEAT Leon     SEAT         Leon\n",
       "25201         Hyundai i40  Hyundai          i40\n",
       "17088       Toyota Aygo X   Toyota       Aygo X\n",
       "20760      Nissan X-Trail   Nissan      X-Trail\n",
       "13759          SEAT Ibiza     SEAT        Ibiza\n",
       "16340        Dacia Dokker    Dacia       Dokker\n",
       "2669           Opel Corsa     Opel        Corsa\n",
       "13836         Skoda Fabia    Skoda        Fabia\n",
       "16170        Dacia Duster    Dacia       Duster\n",
       "9128          Peugeot 308  Peugeot          308\n",
       "28863           Volvo V90    Volvo          V90\n",
       "16339       Dacia Sandero    Dacia      Sandero\n",
       "13036           SEAT Leon     SEAT         Leon\n",
       "16969         Dacia Logan    Dacia        Logan\n",
       "23608          Ford Focus     Ford        Focus\n",
       "18999         Toyota Aygo   Toyota         Aygo\n",
       "19820         Nissan 350Z   Nissan         350Z\n",
       "18232  Toyota Yaris Cross   Toyota  Yaris Cross\n",
       "6512     Renault Talisman  Renault     Talisman\n",
       "2925           Opel Astra     Opel        Astra"
      ]
     },
     "execution_count": 300,
     "metadata": {},
     "output_type": "execute_result"
    }
   ],
   "source": [
    "df[['make_model', 'make', 'model']].sample(20)"
   ]
  },
  {
   "cell_type": "markdown",
   "metadata": {},
   "source": [
    "<img src=https://i.ibb.co/VHd4whm/empty-cells.png width=\"350\" height=\"100\">"
   ]
  },
  {
   "cell_type": "markdown",
   "metadata": {},
   "source": [
    "<div style=\"background-color: lightgreen; padding: 10px; font-size: 14px;\">\n",
    "When the percentage or number of Null/Missing values are checked before it seems there has been nothing; however there has been some anomilies for <code>model</code> feature including some empty cells. Let's check them:\n",
    "</div>"
   ]
  },
  {
   "cell_type": "code",
   "execution_count": 301,
   "metadata": {
    "ExecuteTime": {
     "end_time": "2025-01-16T09:22:31.611431Z",
     "start_time": "2025-01-16T09:22:31.599630Z"
    }
   },
   "outputs": [
    {
     "data": {
      "text/plain": [
       "''"
      ]
     },
     "metadata": {},
     "output_type": "display_data"
    },
    {
     "data": {
      "text/plain": [
       "''"
      ]
     },
     "metadata": {},
     "output_type": "display_data"
    }
   ],
   "source": [
    "display(df.loc[2967, \"model\"])\n",
    "display(df.loc[22043, \"model\"])"
   ]
  },
  {
   "cell_type": "code",
   "execution_count": 302,
   "metadata": {
    "ExecuteTime": {
     "end_time": "2025-01-16T09:22:31.649253Z",
     "start_time": "2025-01-16T09:22:31.617057Z"
    }
   },
   "outputs": [
    {
     "data": {
      "text/plain": [
       "model\n",
       "False    28354\n",
       "True       276\n",
       "Name: count, dtype: int64"
      ]
     },
     "execution_count": 302,
     "metadata": {},
     "output_type": "execute_result"
    }
   ],
   "source": [
    "df['model'].str.contains(r'^\\s*$').value_counts()"
   ]
  },
  {
   "cell_type": "code",
   "execution_count": 303,
   "metadata": {
    "ExecuteTime": {
     "end_time": "2025-01-16T09:22:31.780156Z",
     "start_time": "2025-01-16T09:22:31.651836Z"
    }
   },
   "outputs": [
    {
     "name": "stdout",
     "output_type": "stream",
     "text": [
      "276\n"
     ]
    },
    {
     "data": {
      "text/html": [
       "<div>\n",
       "<style scoped>\n",
       "    .dataframe tbody tr th:only-of-type {\n",
       "        vertical-align: middle;\n",
       "    }\n",
       "\n",
       "    .dataframe tbody tr th {\n",
       "        vertical-align: top;\n",
       "    }\n",
       "\n",
       "    .dataframe thead th {\n",
       "        text-align: right;\n",
       "    }\n",
       "</style>\n",
       "<table border=\"1\" class=\"dataframe\">\n",
       "  <thead>\n",
       "    <tr style=\"text-align: right;\">\n",
       "      <th></th>\n",
       "      <th>make_model</th>\n",
       "      <th>make</th>\n",
       "      <th>model</th>\n",
       "    </tr>\n",
       "  </thead>\n",
       "  <tbody>\n",
       "    <tr>\n",
       "      <th>162</th>\n",
       "      <td>Mercedes-Benz</td>\n",
       "      <td>Mercedes-Benz</td>\n",
       "      <td></td>\n",
       "    </tr>\n",
       "    <tr>\n",
       "      <th>184</th>\n",
       "      <td>Mercedes-Benz</td>\n",
       "      <td>Mercedes-Benz</td>\n",
       "      <td></td>\n",
       "    </tr>\n",
       "    <tr>\n",
       "      <th>186</th>\n",
       "      <td>Mercedes-Benz</td>\n",
       "      <td>Mercedes-Benz</td>\n",
       "      <td></td>\n",
       "    </tr>\n",
       "    <tr>\n",
       "      <th>211</th>\n",
       "      <td>Mercedes-Benz</td>\n",
       "      <td>Mercedes-Benz</td>\n",
       "      <td></td>\n",
       "    </tr>\n",
       "    <tr>\n",
       "      <th>213</th>\n",
       "      <td>Mercedes-Benz</td>\n",
       "      <td>Mercedes-Benz</td>\n",
       "      <td></td>\n",
       "    </tr>\n",
       "    <tr>\n",
       "      <th>226</th>\n",
       "      <td>Mercedes-Benz</td>\n",
       "      <td>Mercedes-Benz</td>\n",
       "      <td></td>\n",
       "    </tr>\n",
       "    <tr>\n",
       "      <th>319</th>\n",
       "      <td>Mercedes-Benz</td>\n",
       "      <td>Mercedes-Benz</td>\n",
       "      <td></td>\n",
       "    </tr>\n",
       "    <tr>\n",
       "      <th>427</th>\n",
       "      <td>Mercedes-Benz</td>\n",
       "      <td>Mercedes-Benz</td>\n",
       "      <td></td>\n",
       "    </tr>\n",
       "    <tr>\n",
       "      <th>442</th>\n",
       "      <td>Mercedes-Benz</td>\n",
       "      <td>Mercedes-Benz</td>\n",
       "      <td></td>\n",
       "    </tr>\n",
       "    <tr>\n",
       "      <th>471</th>\n",
       "      <td>Mercedes-Benz</td>\n",
       "      <td>Mercedes-Benz</td>\n",
       "      <td></td>\n",
       "    </tr>\n",
       "    <tr>\n",
       "      <th>474</th>\n",
       "      <td>Mercedes-Benz</td>\n",
       "      <td>Mercedes-Benz</td>\n",
       "      <td></td>\n",
       "    </tr>\n",
       "    <tr>\n",
       "      <th>608</th>\n",
       "      <td>Mercedes-Benz</td>\n",
       "      <td>Mercedes-Benz</td>\n",
       "      <td></td>\n",
       "    </tr>\n",
       "    <tr>\n",
       "      <th>642</th>\n",
       "      <td>Mercedes-Benz</td>\n",
       "      <td>Mercedes-Benz</td>\n",
       "      <td></td>\n",
       "    </tr>\n",
       "    <tr>\n",
       "      <th>643</th>\n",
       "      <td>Mercedes-Benz</td>\n",
       "      <td>Mercedes-Benz</td>\n",
       "      <td></td>\n",
       "    </tr>\n",
       "    <tr>\n",
       "      <th>651</th>\n",
       "      <td>Mercedes-Benz</td>\n",
       "      <td>Mercedes-Benz</td>\n",
       "      <td></td>\n",
       "    </tr>\n",
       "    <tr>\n",
       "      <th>766</th>\n",
       "      <td>Mercedes-Benz</td>\n",
       "      <td>Mercedes-Benz</td>\n",
       "      <td></td>\n",
       "    </tr>\n",
       "    <tr>\n",
       "      <th>856</th>\n",
       "      <td>Mercedes-Benz</td>\n",
       "      <td>Mercedes-Benz</td>\n",
       "      <td></td>\n",
       "    </tr>\n",
       "    <tr>\n",
       "      <th>861</th>\n",
       "      <td>Mercedes-Benz</td>\n",
       "      <td>Mercedes-Benz</td>\n",
       "      <td></td>\n",
       "    </tr>\n",
       "    <tr>\n",
       "      <th>922</th>\n",
       "      <td>Mercedes-Benz</td>\n",
       "      <td>Mercedes-Benz</td>\n",
       "      <td></td>\n",
       "    </tr>\n",
       "    <tr>\n",
       "      <th>1229</th>\n",
       "      <td>Mercedes-Benz</td>\n",
       "      <td>Mercedes-Benz</td>\n",
       "      <td></td>\n",
       "    </tr>\n",
       "    <tr>\n",
       "      <th>1275</th>\n",
       "      <td>Mercedes-Benz</td>\n",
       "      <td>Mercedes-Benz</td>\n",
       "      <td></td>\n",
       "    </tr>\n",
       "    <tr>\n",
       "      <th>1294</th>\n",
       "      <td>Mercedes-Benz</td>\n",
       "      <td>Mercedes-Benz</td>\n",
       "      <td></td>\n",
       "    </tr>\n",
       "    <tr>\n",
       "      <th>1820</th>\n",
       "      <td>Mercedes-Benz</td>\n",
       "      <td>Mercedes-Benz</td>\n",
       "      <td></td>\n",
       "    </tr>\n",
       "    <tr>\n",
       "      <th>1974</th>\n",
       "      <td>Mercedes-Benz</td>\n",
       "      <td>Mercedes-Benz</td>\n",
       "      <td></td>\n",
       "    </tr>\n",
       "    <tr>\n",
       "      <th>2035</th>\n",
       "      <td>Mercedes-Benz</td>\n",
       "      <td>Mercedes-Benz</td>\n",
       "      <td></td>\n",
       "    </tr>\n",
       "    <tr>\n",
       "      <th>2116</th>\n",
       "      <td>Mercedes-Benz</td>\n",
       "      <td>Mercedes-Benz</td>\n",
       "      <td></td>\n",
       "    </tr>\n",
       "    <tr>\n",
       "      <th>2122</th>\n",
       "      <td>Mercedes-Benz</td>\n",
       "      <td>Mercedes-Benz</td>\n",
       "      <td></td>\n",
       "    </tr>\n",
       "    <tr>\n",
       "      <th>2186</th>\n",
       "      <td>Mercedes-Benz</td>\n",
       "      <td>Mercedes-Benz</td>\n",
       "      <td></td>\n",
       "    </tr>\n",
       "    <tr>\n",
       "      <th>2234</th>\n",
       "      <td>Mercedes-Benz</td>\n",
       "      <td>Mercedes-Benz</td>\n",
       "      <td></td>\n",
       "    </tr>\n",
       "    <tr>\n",
       "      <th>2337</th>\n",
       "      <td>Mercedes-Benz</td>\n",
       "      <td>Mercedes-Benz</td>\n",
       "      <td></td>\n",
       "    </tr>\n",
       "    <tr>\n",
       "      <th>2373</th>\n",
       "      <td>Mercedes-Benz</td>\n",
       "      <td>Mercedes-Benz</td>\n",
       "      <td></td>\n",
       "    </tr>\n",
       "    <tr>\n",
       "      <th>2917</th>\n",
       "      <td>Opel</td>\n",
       "      <td>Opel</td>\n",
       "      <td></td>\n",
       "    </tr>\n",
       "    <tr>\n",
       "      <th>2921</th>\n",
       "      <td>Opel</td>\n",
       "      <td>Opel</td>\n",
       "      <td></td>\n",
       "    </tr>\n",
       "    <tr>\n",
       "      <th>2923</th>\n",
       "      <td>Opel</td>\n",
       "      <td>Opel</td>\n",
       "      <td></td>\n",
       "    </tr>\n",
       "    <tr>\n",
       "      <th>2924</th>\n",
       "      <td>Opel</td>\n",
       "      <td>Opel</td>\n",
       "      <td></td>\n",
       "    </tr>\n",
       "    <tr>\n",
       "      <th>2926</th>\n",
       "      <td>Opel</td>\n",
       "      <td>Opel</td>\n",
       "      <td></td>\n",
       "    </tr>\n",
       "    <tr>\n",
       "      <th>2927</th>\n",
       "      <td>Opel</td>\n",
       "      <td>Opel</td>\n",
       "      <td></td>\n",
       "    </tr>\n",
       "    <tr>\n",
       "      <th>2928</th>\n",
       "      <td>Opel</td>\n",
       "      <td>Opel</td>\n",
       "      <td></td>\n",
       "    </tr>\n",
       "    <tr>\n",
       "      <th>2931</th>\n",
       "      <td>Opel</td>\n",
       "      <td>Opel</td>\n",
       "      <td></td>\n",
       "    </tr>\n",
       "    <tr>\n",
       "      <th>2932</th>\n",
       "      <td>Opel</td>\n",
       "      <td>Opel</td>\n",
       "      <td></td>\n",
       "    </tr>\n",
       "    <tr>\n",
       "      <th>2933</th>\n",
       "      <td>Opel</td>\n",
       "      <td>Opel</td>\n",
       "      <td></td>\n",
       "    </tr>\n",
       "    <tr>\n",
       "      <th>2934</th>\n",
       "      <td>Opel</td>\n",
       "      <td>Opel</td>\n",
       "      <td></td>\n",
       "    </tr>\n",
       "    <tr>\n",
       "      <th>2936</th>\n",
       "      <td>Opel</td>\n",
       "      <td>Opel</td>\n",
       "      <td></td>\n",
       "    </tr>\n",
       "    <tr>\n",
       "      <th>2939</th>\n",
       "      <td>Opel</td>\n",
       "      <td>Opel</td>\n",
       "      <td></td>\n",
       "    </tr>\n",
       "    <tr>\n",
       "      <th>2942</th>\n",
       "      <td>Opel</td>\n",
       "      <td>Opel</td>\n",
       "      <td></td>\n",
       "    </tr>\n",
       "    <tr>\n",
       "      <th>2943</th>\n",
       "      <td>Opel</td>\n",
       "      <td>Opel</td>\n",
       "      <td></td>\n",
       "    </tr>\n",
       "    <tr>\n",
       "      <th>2944</th>\n",
       "      <td>Opel</td>\n",
       "      <td>Opel</td>\n",
       "      <td></td>\n",
       "    </tr>\n",
       "    <tr>\n",
       "      <th>2945</th>\n",
       "      <td>Opel</td>\n",
       "      <td>Opel</td>\n",
       "      <td></td>\n",
       "    </tr>\n",
       "    <tr>\n",
       "      <th>2948</th>\n",
       "      <td>Opel</td>\n",
       "      <td>Opel</td>\n",
       "      <td></td>\n",
       "    </tr>\n",
       "    <tr>\n",
       "      <th>2949</th>\n",
       "      <td>Opel</td>\n",
       "      <td>Opel</td>\n",
       "      <td></td>\n",
       "    </tr>\n",
       "    <tr>\n",
       "      <th>2950</th>\n",
       "      <td>Opel</td>\n",
       "      <td>Opel</td>\n",
       "      <td></td>\n",
       "    </tr>\n",
       "    <tr>\n",
       "      <th>2951</th>\n",
       "      <td>Opel</td>\n",
       "      <td>Opel</td>\n",
       "      <td></td>\n",
       "    </tr>\n",
       "    <tr>\n",
       "      <th>2952</th>\n",
       "      <td>Opel</td>\n",
       "      <td>Opel</td>\n",
       "      <td></td>\n",
       "    </tr>\n",
       "    <tr>\n",
       "      <th>2953</th>\n",
       "      <td>Opel</td>\n",
       "      <td>Opel</td>\n",
       "      <td></td>\n",
       "    </tr>\n",
       "    <tr>\n",
       "      <th>2954</th>\n",
       "      <td>Opel</td>\n",
       "      <td>Opel</td>\n",
       "      <td></td>\n",
       "    </tr>\n",
       "    <tr>\n",
       "      <th>2958</th>\n",
       "      <td>Opel</td>\n",
       "      <td>Opel</td>\n",
       "      <td></td>\n",
       "    </tr>\n",
       "    <tr>\n",
       "      <th>2959</th>\n",
       "      <td>Opel</td>\n",
       "      <td>Opel</td>\n",
       "      <td></td>\n",
       "    </tr>\n",
       "    <tr>\n",
       "      <th>2960</th>\n",
       "      <td>Opel</td>\n",
       "      <td>Opel</td>\n",
       "      <td></td>\n",
       "    </tr>\n",
       "    <tr>\n",
       "      <th>2961</th>\n",
       "      <td>Opel</td>\n",
       "      <td>Opel</td>\n",
       "      <td></td>\n",
       "    </tr>\n",
       "    <tr>\n",
       "      <th>2962</th>\n",
       "      <td>Opel</td>\n",
       "      <td>Opel</td>\n",
       "      <td></td>\n",
       "    </tr>\n",
       "    <tr>\n",
       "      <th>2964</th>\n",
       "      <td>Opel</td>\n",
       "      <td>Opel</td>\n",
       "      <td></td>\n",
       "    </tr>\n",
       "    <tr>\n",
       "      <th>2965</th>\n",
       "      <td>Opel</td>\n",
       "      <td>Opel</td>\n",
       "      <td></td>\n",
       "    </tr>\n",
       "    <tr>\n",
       "      <th>2966</th>\n",
       "      <td>Opel</td>\n",
       "      <td>Opel</td>\n",
       "      <td></td>\n",
       "    </tr>\n",
       "    <tr>\n",
       "      <th>2967</th>\n",
       "      <td>Opel</td>\n",
       "      <td>Opel</td>\n",
       "      <td></td>\n",
       "    </tr>\n",
       "    <tr>\n",
       "      <th>2968</th>\n",
       "      <td>Opel</td>\n",
       "      <td>Opel</td>\n",
       "      <td></td>\n",
       "    </tr>\n",
       "    <tr>\n",
       "      <th>2969</th>\n",
       "      <td>Opel</td>\n",
       "      <td>Opel</td>\n",
       "      <td></td>\n",
       "    </tr>\n",
       "    <tr>\n",
       "      <th>2970</th>\n",
       "      <td>Opel</td>\n",
       "      <td>Opel</td>\n",
       "      <td></td>\n",
       "    </tr>\n",
       "    <tr>\n",
       "      <th>2971</th>\n",
       "      <td>Opel</td>\n",
       "      <td>Opel</td>\n",
       "      <td></td>\n",
       "    </tr>\n",
       "    <tr>\n",
       "      <th>2972</th>\n",
       "      <td>Opel</td>\n",
       "      <td>Opel</td>\n",
       "      <td></td>\n",
       "    </tr>\n",
       "    <tr>\n",
       "      <th>2973</th>\n",
       "      <td>Opel</td>\n",
       "      <td>Opel</td>\n",
       "      <td></td>\n",
       "    </tr>\n",
       "    <tr>\n",
       "      <th>2974</th>\n",
       "      <td>Opel</td>\n",
       "      <td>Opel</td>\n",
       "      <td></td>\n",
       "    </tr>\n",
       "    <tr>\n",
       "      <th>2975</th>\n",
       "      <td>Opel</td>\n",
       "      <td>Opel</td>\n",
       "      <td></td>\n",
       "    </tr>\n",
       "    <tr>\n",
       "      <th>2976</th>\n",
       "      <td>Opel</td>\n",
       "      <td>Opel</td>\n",
       "      <td></td>\n",
       "    </tr>\n",
       "    <tr>\n",
       "      <th>2978</th>\n",
       "      <td>Opel</td>\n",
       "      <td>Opel</td>\n",
       "      <td></td>\n",
       "    </tr>\n",
       "    <tr>\n",
       "      <th>2979</th>\n",
       "      <td>Opel</td>\n",
       "      <td>Opel</td>\n",
       "      <td></td>\n",
       "    </tr>\n",
       "    <tr>\n",
       "      <th>2980</th>\n",
       "      <td>Opel</td>\n",
       "      <td>Opel</td>\n",
       "      <td></td>\n",
       "    </tr>\n",
       "    <tr>\n",
       "      <th>2981</th>\n",
       "      <td>Opel</td>\n",
       "      <td>Opel</td>\n",
       "      <td></td>\n",
       "    </tr>\n",
       "    <tr>\n",
       "      <th>2982</th>\n",
       "      <td>Opel</td>\n",
       "      <td>Opel</td>\n",
       "      <td></td>\n",
       "    </tr>\n",
       "    <tr>\n",
       "      <th>2983</th>\n",
       "      <td>Opel</td>\n",
       "      <td>Opel</td>\n",
       "      <td></td>\n",
       "    </tr>\n",
       "    <tr>\n",
       "      <th>2984</th>\n",
       "      <td>Opel</td>\n",
       "      <td>Opel</td>\n",
       "      <td></td>\n",
       "    </tr>\n",
       "    <tr>\n",
       "      <th>2985</th>\n",
       "      <td>Opel</td>\n",
       "      <td>Opel</td>\n",
       "      <td></td>\n",
       "    </tr>\n",
       "    <tr>\n",
       "      <th>2987</th>\n",
       "      <td>Opel</td>\n",
       "      <td>Opel</td>\n",
       "      <td></td>\n",
       "    </tr>\n",
       "    <tr>\n",
       "      <th>2989</th>\n",
       "      <td>Opel</td>\n",
       "      <td>Opel</td>\n",
       "      <td></td>\n",
       "    </tr>\n",
       "    <tr>\n",
       "      <th>2990</th>\n",
       "      <td>Opel</td>\n",
       "      <td>Opel</td>\n",
       "      <td></td>\n",
       "    </tr>\n",
       "    <tr>\n",
       "      <th>2991</th>\n",
       "      <td>Opel</td>\n",
       "      <td>Opel</td>\n",
       "      <td></td>\n",
       "    </tr>\n",
       "    <tr>\n",
       "      <th>2992</th>\n",
       "      <td>Opel</td>\n",
       "      <td>Opel</td>\n",
       "      <td></td>\n",
       "    </tr>\n",
       "    <tr>\n",
       "      <th>2993</th>\n",
       "      <td>Opel</td>\n",
       "      <td>Opel</td>\n",
       "      <td></td>\n",
       "    </tr>\n",
       "    <tr>\n",
       "      <th>2995</th>\n",
       "      <td>Opel</td>\n",
       "      <td>Opel</td>\n",
       "      <td></td>\n",
       "    </tr>\n",
       "    <tr>\n",
       "      <th>2996</th>\n",
       "      <td>Opel</td>\n",
       "      <td>Opel</td>\n",
       "      <td></td>\n",
       "    </tr>\n",
       "    <tr>\n",
       "      <th>2997</th>\n",
       "      <td>Opel</td>\n",
       "      <td>Opel</td>\n",
       "      <td></td>\n",
       "    </tr>\n",
       "    <tr>\n",
       "      <th>2998</th>\n",
       "      <td>Opel</td>\n",
       "      <td>Opel</td>\n",
       "      <td></td>\n",
       "    </tr>\n",
       "    <tr>\n",
       "      <th>2999</th>\n",
       "      <td>Opel</td>\n",
       "      <td>Opel</td>\n",
       "      <td></td>\n",
       "    </tr>\n",
       "    <tr>\n",
       "      <th>3000</th>\n",
       "      <td>Opel</td>\n",
       "      <td>Opel</td>\n",
       "      <td></td>\n",
       "    </tr>\n",
       "    <tr>\n",
       "      <th>3001</th>\n",
       "      <td>Opel</td>\n",
       "      <td>Opel</td>\n",
       "      <td></td>\n",
       "    </tr>\n",
       "    <tr>\n",
       "      <th>3002</th>\n",
       "      <td>Opel</td>\n",
       "      <td>Opel</td>\n",
       "      <td></td>\n",
       "    </tr>\n",
       "    <tr>\n",
       "      <th>3003</th>\n",
       "      <td>Opel</td>\n",
       "      <td>Opel</td>\n",
       "      <td></td>\n",
       "    </tr>\n",
       "    <tr>\n",
       "      <th>3004</th>\n",
       "      <td>Opel</td>\n",
       "      <td>Opel</td>\n",
       "      <td></td>\n",
       "    </tr>\n",
       "    <tr>\n",
       "      <th>3005</th>\n",
       "      <td>Opel</td>\n",
       "      <td>Opel</td>\n",
       "      <td></td>\n",
       "    </tr>\n",
       "    <tr>\n",
       "      <th>3006</th>\n",
       "      <td>Opel</td>\n",
       "      <td>Opel</td>\n",
       "      <td></td>\n",
       "    </tr>\n",
       "    <tr>\n",
       "      <th>3007</th>\n",
       "      <td>Opel</td>\n",
       "      <td>Opel</td>\n",
       "      <td></td>\n",
       "    </tr>\n",
       "    <tr>\n",
       "      <th>3009</th>\n",
       "      <td>Opel</td>\n",
       "      <td>Opel</td>\n",
       "      <td></td>\n",
       "    </tr>\n",
       "    <tr>\n",
       "      <th>3010</th>\n",
       "      <td>Opel</td>\n",
       "      <td>Opel</td>\n",
       "      <td></td>\n",
       "    </tr>\n",
       "    <tr>\n",
       "      <th>3011</th>\n",
       "      <td>Opel</td>\n",
       "      <td>Opel</td>\n",
       "      <td></td>\n",
       "    </tr>\n",
       "    <tr>\n",
       "      <th>3012</th>\n",
       "      <td>Opel</td>\n",
       "      <td>Opel</td>\n",
       "      <td></td>\n",
       "    </tr>\n",
       "    <tr>\n",
       "      <th>3013</th>\n",
       "      <td>Opel</td>\n",
       "      <td>Opel</td>\n",
       "      <td></td>\n",
       "    </tr>\n",
       "    <tr>\n",
       "      <th>3015</th>\n",
       "      <td>Opel</td>\n",
       "      <td>Opel</td>\n",
       "      <td></td>\n",
       "    </tr>\n",
       "    <tr>\n",
       "      <th>3016</th>\n",
       "      <td>Opel</td>\n",
       "      <td>Opel</td>\n",
       "      <td></td>\n",
       "    </tr>\n",
       "    <tr>\n",
       "      <th>3017</th>\n",
       "      <td>Opel</td>\n",
       "      <td>Opel</td>\n",
       "      <td></td>\n",
       "    </tr>\n",
       "    <tr>\n",
       "      <th>3018</th>\n",
       "      <td>Opel</td>\n",
       "      <td>Opel</td>\n",
       "      <td></td>\n",
       "    </tr>\n",
       "    <tr>\n",
       "      <th>3019</th>\n",
       "      <td>Opel</td>\n",
       "      <td>Opel</td>\n",
       "      <td></td>\n",
       "    </tr>\n",
       "    <tr>\n",
       "      <th>3020</th>\n",
       "      <td>Opel</td>\n",
       "      <td>Opel</td>\n",
       "      <td></td>\n",
       "    </tr>\n",
       "    <tr>\n",
       "      <th>3021</th>\n",
       "      <td>Opel</td>\n",
       "      <td>Opel</td>\n",
       "      <td></td>\n",
       "    </tr>\n",
       "    <tr>\n",
       "      <th>3022</th>\n",
       "      <td>Opel</td>\n",
       "      <td>Opel</td>\n",
       "      <td></td>\n",
       "    </tr>\n",
       "    <tr>\n",
       "      <th>3023</th>\n",
       "      <td>Opel</td>\n",
       "      <td>Opel</td>\n",
       "      <td></td>\n",
       "    </tr>\n",
       "    <tr>\n",
       "      <th>3024</th>\n",
       "      <td>Opel</td>\n",
       "      <td>Opel</td>\n",
       "      <td></td>\n",
       "    </tr>\n",
       "    <tr>\n",
       "      <th>3025</th>\n",
       "      <td>Opel</td>\n",
       "      <td>Opel</td>\n",
       "      <td></td>\n",
       "    </tr>\n",
       "    <tr>\n",
       "      <th>3026</th>\n",
       "      <td>Opel</td>\n",
       "      <td>Opel</td>\n",
       "      <td></td>\n",
       "    </tr>\n",
       "    <tr>\n",
       "      <th>3028</th>\n",
       "      <td>Opel</td>\n",
       "      <td>Opel</td>\n",
       "      <td></td>\n",
       "    </tr>\n",
       "    <tr>\n",
       "      <th>3029</th>\n",
       "      <td>Opel</td>\n",
       "      <td>Opel</td>\n",
       "      <td></td>\n",
       "    </tr>\n",
       "    <tr>\n",
       "      <th>3030</th>\n",
       "      <td>Opel</td>\n",
       "      <td>Opel</td>\n",
       "      <td></td>\n",
       "    </tr>\n",
       "    <tr>\n",
       "      <th>3031</th>\n",
       "      <td>Opel</td>\n",
       "      <td>Opel</td>\n",
       "      <td></td>\n",
       "    </tr>\n",
       "    <tr>\n",
       "      <th>3032</th>\n",
       "      <td>Opel</td>\n",
       "      <td>Opel</td>\n",
       "      <td></td>\n",
       "    </tr>\n",
       "    <tr>\n",
       "      <th>3033</th>\n",
       "      <td>Opel</td>\n",
       "      <td>Opel</td>\n",
       "      <td></td>\n",
       "    </tr>\n",
       "    <tr>\n",
       "      <th>3034</th>\n",
       "      <td>Opel</td>\n",
       "      <td>Opel</td>\n",
       "      <td></td>\n",
       "    </tr>\n",
       "    <tr>\n",
       "      <th>3035</th>\n",
       "      <td>Opel</td>\n",
       "      <td>Opel</td>\n",
       "      <td></td>\n",
       "    </tr>\n",
       "    <tr>\n",
       "      <th>3037</th>\n",
       "      <td>Opel</td>\n",
       "      <td>Opel</td>\n",
       "      <td></td>\n",
       "    </tr>\n",
       "    <tr>\n",
       "      <th>3039</th>\n",
       "      <td>Opel</td>\n",
       "      <td>Opel</td>\n",
       "      <td></td>\n",
       "    </tr>\n",
       "    <tr>\n",
       "      <th>3040</th>\n",
       "      <td>Opel</td>\n",
       "      <td>Opel</td>\n",
       "      <td></td>\n",
       "    </tr>\n",
       "    <tr>\n",
       "      <th>3041</th>\n",
       "      <td>Opel</td>\n",
       "      <td>Opel</td>\n",
       "      <td></td>\n",
       "    </tr>\n",
       "    <tr>\n",
       "      <th>3042</th>\n",
       "      <td>Opel</td>\n",
       "      <td>Opel</td>\n",
       "      <td></td>\n",
       "    </tr>\n",
       "    <tr>\n",
       "      <th>3043</th>\n",
       "      <td>Opel</td>\n",
       "      <td>Opel</td>\n",
       "      <td></td>\n",
       "    </tr>\n",
       "    <tr>\n",
       "      <th>3044</th>\n",
       "      <td>Opel</td>\n",
       "      <td>Opel</td>\n",
       "      <td></td>\n",
       "    </tr>\n",
       "    <tr>\n",
       "      <th>3367</th>\n",
       "      <td>Opel</td>\n",
       "      <td>Opel</td>\n",
       "      <td></td>\n",
       "    </tr>\n",
       "    <tr>\n",
       "      <th>3387</th>\n",
       "      <td>Opel</td>\n",
       "      <td>Opel</td>\n",
       "      <td></td>\n",
       "    </tr>\n",
       "    <tr>\n",
       "      <th>5196</th>\n",
       "      <td>Renault</td>\n",
       "      <td>Renault</td>\n",
       "      <td></td>\n",
       "    </tr>\n",
       "    <tr>\n",
       "      <th>5323</th>\n",
       "      <td>Renault</td>\n",
       "      <td>Renault</td>\n",
       "      <td></td>\n",
       "    </tr>\n",
       "    <tr>\n",
       "      <th>5324</th>\n",
       "      <td>Renault</td>\n",
       "      <td>Renault</td>\n",
       "      <td></td>\n",
       "    </tr>\n",
       "    <tr>\n",
       "      <th>5408</th>\n",
       "      <td>Renault</td>\n",
       "      <td>Renault</td>\n",
       "      <td></td>\n",
       "    </tr>\n",
       "    <tr>\n",
       "      <th>5610</th>\n",
       "      <td>Renault</td>\n",
       "      <td>Renault</td>\n",
       "      <td></td>\n",
       "    </tr>\n",
       "    <tr>\n",
       "      <th>5626</th>\n",
       "      <td>Renault</td>\n",
       "      <td>Renault</td>\n",
       "      <td></td>\n",
       "    </tr>\n",
       "    <tr>\n",
       "      <th>5660</th>\n",
       "      <td>Renault</td>\n",
       "      <td>Renault</td>\n",
       "      <td></td>\n",
       "    </tr>\n",
       "    <tr>\n",
       "      <th>5745</th>\n",
       "      <td>Renault</td>\n",
       "      <td>Renault</td>\n",
       "      <td></td>\n",
       "    </tr>\n",
       "    <tr>\n",
       "      <th>6079</th>\n",
       "      <td>Renault</td>\n",
       "      <td>Renault</td>\n",
       "      <td></td>\n",
       "    </tr>\n",
       "    <tr>\n",
       "      <th>6102</th>\n",
       "      <td>Renault</td>\n",
       "      <td>Renault</td>\n",
       "      <td></td>\n",
       "    </tr>\n",
       "    <tr>\n",
       "      <th>6118</th>\n",
       "      <td>Renault</td>\n",
       "      <td>Renault</td>\n",
       "      <td></td>\n",
       "    </tr>\n",
       "    <tr>\n",
       "      <th>6127</th>\n",
       "      <td>Renault</td>\n",
       "      <td>Renault</td>\n",
       "      <td></td>\n",
       "    </tr>\n",
       "    <tr>\n",
       "      <th>6132</th>\n",
       "      <td>Renault</td>\n",
       "      <td>Renault</td>\n",
       "      <td></td>\n",
       "    </tr>\n",
       "    <tr>\n",
       "      <th>6639</th>\n",
       "      <td>Renault</td>\n",
       "      <td>Renault</td>\n",
       "      <td></td>\n",
       "    </tr>\n",
       "    <tr>\n",
       "      <th>6723</th>\n",
       "      <td>Renault</td>\n",
       "      <td>Renault</td>\n",
       "      <td></td>\n",
       "    </tr>\n",
       "    <tr>\n",
       "      <th>6745</th>\n",
       "      <td>Renault</td>\n",
       "      <td>Renault</td>\n",
       "      <td></td>\n",
       "    </tr>\n",
       "    <tr>\n",
       "      <th>7837</th>\n",
       "      <td>Peugeot</td>\n",
       "      <td>Peugeot</td>\n",
       "      <td></td>\n",
       "    </tr>\n",
       "    <tr>\n",
       "      <th>8106</th>\n",
       "      <td>Peugeot</td>\n",
       "      <td>Peugeot</td>\n",
       "      <td></td>\n",
       "    </tr>\n",
       "    <tr>\n",
       "      <th>9190</th>\n",
       "      <td>Peugeot</td>\n",
       "      <td>Peugeot</td>\n",
       "      <td></td>\n",
       "    </tr>\n",
       "    <tr>\n",
       "      <th>9196</th>\n",
       "      <td>Peugeot</td>\n",
       "      <td>Peugeot</td>\n",
       "      <td></td>\n",
       "    </tr>\n",
       "    <tr>\n",
       "      <th>9360</th>\n",
       "      <td>Peugeot</td>\n",
       "      <td>Peugeot</td>\n",
       "      <td></td>\n",
       "    </tr>\n",
       "    <tr>\n",
       "      <th>9762</th>\n",
       "      <td>Fiat</td>\n",
       "      <td>Fiat</td>\n",
       "      <td></td>\n",
       "    </tr>\n",
       "    <tr>\n",
       "      <th>9995</th>\n",
       "      <td>Fiat</td>\n",
       "      <td>Fiat</td>\n",
       "      <td></td>\n",
       "    </tr>\n",
       "    <tr>\n",
       "      <th>10095</th>\n",
       "      <td>Fiat</td>\n",
       "      <td>Fiat</td>\n",
       "      <td></td>\n",
       "    </tr>\n",
       "    <tr>\n",
       "      <th>10104</th>\n",
       "      <td>Fiat</td>\n",
       "      <td>Fiat</td>\n",
       "      <td></td>\n",
       "    </tr>\n",
       "    <tr>\n",
       "      <th>10145</th>\n",
       "      <td>Fiat</td>\n",
       "      <td>Fiat</td>\n",
       "      <td></td>\n",
       "    </tr>\n",
       "    <tr>\n",
       "      <th>10319</th>\n",
       "      <td>Fiat</td>\n",
       "      <td>Fiat</td>\n",
       "      <td></td>\n",
       "    </tr>\n",
       "    <tr>\n",
       "      <th>10430</th>\n",
       "      <td>Fiat</td>\n",
       "      <td>Fiat</td>\n",
       "      <td></td>\n",
       "    </tr>\n",
       "    <tr>\n",
       "      <th>10431</th>\n",
       "      <td>Fiat</td>\n",
       "      <td>Fiat</td>\n",
       "      <td></td>\n",
       "    </tr>\n",
       "    <tr>\n",
       "      <th>10474</th>\n",
       "      <td>Fiat</td>\n",
       "      <td>Fiat</td>\n",
       "      <td></td>\n",
       "    </tr>\n",
       "    <tr>\n",
       "      <th>10475</th>\n",
       "      <td>Fiat</td>\n",
       "      <td>Fiat</td>\n",
       "      <td></td>\n",
       "    </tr>\n",
       "    <tr>\n",
       "      <th>10477</th>\n",
       "      <td>Fiat</td>\n",
       "      <td>Fiat</td>\n",
       "      <td></td>\n",
       "    </tr>\n",
       "    <tr>\n",
       "      <th>10480</th>\n",
       "      <td>Fiat</td>\n",
       "      <td>Fiat</td>\n",
       "      <td></td>\n",
       "    </tr>\n",
       "    <tr>\n",
       "      <th>10488</th>\n",
       "      <td>Fiat</td>\n",
       "      <td>Fiat</td>\n",
       "      <td></td>\n",
       "    </tr>\n",
       "    <tr>\n",
       "      <th>10494</th>\n",
       "      <td>Fiat</td>\n",
       "      <td>Fiat</td>\n",
       "      <td></td>\n",
       "    </tr>\n",
       "    <tr>\n",
       "      <th>10511</th>\n",
       "      <td>Fiat</td>\n",
       "      <td>Fiat</td>\n",
       "      <td></td>\n",
       "    </tr>\n",
       "    <tr>\n",
       "      <th>10526</th>\n",
       "      <td>Fiat</td>\n",
       "      <td>Fiat</td>\n",
       "      <td></td>\n",
       "    </tr>\n",
       "    <tr>\n",
       "      <th>10571</th>\n",
       "      <td>Fiat</td>\n",
       "      <td>Fiat</td>\n",
       "      <td></td>\n",
       "    </tr>\n",
       "    <tr>\n",
       "      <th>10579</th>\n",
       "      <td>Fiat</td>\n",
       "      <td>Fiat</td>\n",
       "      <td></td>\n",
       "    </tr>\n",
       "    <tr>\n",
       "      <th>10600</th>\n",
       "      <td>Fiat</td>\n",
       "      <td>Fiat</td>\n",
       "      <td></td>\n",
       "    </tr>\n",
       "    <tr>\n",
       "      <th>10631</th>\n",
       "      <td>Fiat</td>\n",
       "      <td>Fiat</td>\n",
       "      <td></td>\n",
       "    </tr>\n",
       "    <tr>\n",
       "      <th>10632</th>\n",
       "      <td>Fiat</td>\n",
       "      <td>Fiat</td>\n",
       "      <td></td>\n",
       "    </tr>\n",
       "    <tr>\n",
       "      <th>10657</th>\n",
       "      <td>Fiat</td>\n",
       "      <td>Fiat</td>\n",
       "      <td></td>\n",
       "    </tr>\n",
       "    <tr>\n",
       "      <th>10660</th>\n",
       "      <td>Fiat</td>\n",
       "      <td>Fiat</td>\n",
       "      <td></td>\n",
       "    </tr>\n",
       "    <tr>\n",
       "      <th>10728</th>\n",
       "      <td>Fiat</td>\n",
       "      <td>Fiat</td>\n",
       "      <td></td>\n",
       "    </tr>\n",
       "    <tr>\n",
       "      <th>11228</th>\n",
       "      <td>Fiat</td>\n",
       "      <td>Fiat</td>\n",
       "      <td></td>\n",
       "    </tr>\n",
       "    <tr>\n",
       "      <th>11252</th>\n",
       "      <td>Fiat</td>\n",
       "      <td>Fiat</td>\n",
       "      <td></td>\n",
       "    </tr>\n",
       "    <tr>\n",
       "      <th>11346</th>\n",
       "      <td>Fiat</td>\n",
       "      <td>Fiat</td>\n",
       "      <td></td>\n",
       "    </tr>\n",
       "    <tr>\n",
       "      <th>11707</th>\n",
       "      <td>Fiat</td>\n",
       "      <td>Fiat</td>\n",
       "      <td></td>\n",
       "    </tr>\n",
       "    <tr>\n",
       "      <th>12072</th>\n",
       "      <td>SEAT</td>\n",
       "      <td>SEAT</td>\n",
       "      <td></td>\n",
       "    </tr>\n",
       "    <tr>\n",
       "      <th>12395</th>\n",
       "      <td>SEAT</td>\n",
       "      <td>SEAT</td>\n",
       "      <td></td>\n",
       "    </tr>\n",
       "    <tr>\n",
       "      <th>12410</th>\n",
       "      <td>SEAT</td>\n",
       "      <td>SEAT</td>\n",
       "      <td></td>\n",
       "    </tr>\n",
       "    <tr>\n",
       "      <th>13151</th>\n",
       "      <td>SEAT</td>\n",
       "      <td>SEAT</td>\n",
       "      <td></td>\n",
       "    </tr>\n",
       "    <tr>\n",
       "      <th>15138</th>\n",
       "      <td>Skoda</td>\n",
       "      <td>Skoda</td>\n",
       "      <td></td>\n",
       "    </tr>\n",
       "    <tr>\n",
       "      <th>15422</th>\n",
       "      <td>Dacia</td>\n",
       "      <td>Dacia</td>\n",
       "      <td></td>\n",
       "    </tr>\n",
       "    <tr>\n",
       "      <th>15464</th>\n",
       "      <td>Dacia</td>\n",
       "      <td>Dacia</td>\n",
       "      <td></td>\n",
       "    </tr>\n",
       "    <tr>\n",
       "      <th>15465</th>\n",
       "      <td>Dacia</td>\n",
       "      <td>Dacia</td>\n",
       "      <td></td>\n",
       "    </tr>\n",
       "    <tr>\n",
       "      <th>16537</th>\n",
       "      <td>Dacia</td>\n",
       "      <td>Dacia</td>\n",
       "      <td></td>\n",
       "    </tr>\n",
       "    <tr>\n",
       "      <th>16846</th>\n",
       "      <td>Dacia</td>\n",
       "      <td>Dacia</td>\n",
       "      <td></td>\n",
       "    </tr>\n",
       "    <tr>\n",
       "      <th>17455</th>\n",
       "      <td>Toyota</td>\n",
       "      <td>Toyota</td>\n",
       "      <td></td>\n",
       "    </tr>\n",
       "    <tr>\n",
       "      <th>17466</th>\n",
       "      <td>Toyota</td>\n",
       "      <td>Toyota</td>\n",
       "      <td></td>\n",
       "    </tr>\n",
       "    <tr>\n",
       "      <th>17467</th>\n",
       "      <td>Toyota</td>\n",
       "      <td>Toyota</td>\n",
       "      <td></td>\n",
       "    </tr>\n",
       "    <tr>\n",
       "      <th>17478</th>\n",
       "      <td>Toyota</td>\n",
       "      <td>Toyota</td>\n",
       "      <td></td>\n",
       "    </tr>\n",
       "    <tr>\n",
       "      <th>17507</th>\n",
       "      <td>Toyota</td>\n",
       "      <td>Toyota</td>\n",
       "      <td></td>\n",
       "    </tr>\n",
       "    <tr>\n",
       "      <th>17514</th>\n",
       "      <td>Toyota</td>\n",
       "      <td>Toyota</td>\n",
       "      <td></td>\n",
       "    </tr>\n",
       "    <tr>\n",
       "      <th>17560</th>\n",
       "      <td>Toyota</td>\n",
       "      <td>Toyota</td>\n",
       "      <td></td>\n",
       "    </tr>\n",
       "    <tr>\n",
       "      <th>17837</th>\n",
       "      <td>Toyota</td>\n",
       "      <td>Toyota</td>\n",
       "      <td></td>\n",
       "    </tr>\n",
       "    <tr>\n",
       "      <th>17839</th>\n",
       "      <td>Toyota</td>\n",
       "      <td>Toyota</td>\n",
       "      <td></td>\n",
       "    </tr>\n",
       "    <tr>\n",
       "      <th>18071</th>\n",
       "      <td>Toyota</td>\n",
       "      <td>Toyota</td>\n",
       "      <td></td>\n",
       "    </tr>\n",
       "    <tr>\n",
       "      <th>18253</th>\n",
       "      <td>Toyota</td>\n",
       "      <td>Toyota</td>\n",
       "      <td></td>\n",
       "    </tr>\n",
       "    <tr>\n",
       "      <th>18270</th>\n",
       "      <td>Toyota</td>\n",
       "      <td>Toyota</td>\n",
       "      <td></td>\n",
       "    </tr>\n",
       "    <tr>\n",
       "      <th>18327</th>\n",
       "      <td>Toyota</td>\n",
       "      <td>Toyota</td>\n",
       "      <td></td>\n",
       "    </tr>\n",
       "    <tr>\n",
       "      <th>18512</th>\n",
       "      <td>Toyota</td>\n",
       "      <td>Toyota</td>\n",
       "      <td></td>\n",
       "    </tr>\n",
       "    <tr>\n",
       "      <th>18524</th>\n",
       "      <td>Toyota</td>\n",
       "      <td>Toyota</td>\n",
       "      <td></td>\n",
       "    </tr>\n",
       "    <tr>\n",
       "      <th>18577</th>\n",
       "      <td>Toyota</td>\n",
       "      <td>Toyota</td>\n",
       "      <td></td>\n",
       "    </tr>\n",
       "    <tr>\n",
       "      <th>19591</th>\n",
       "      <td>Nissan</td>\n",
       "      <td>Nissan</td>\n",
       "      <td></td>\n",
       "    </tr>\n",
       "    <tr>\n",
       "      <th>19594</th>\n",
       "      <td>Nissan</td>\n",
       "      <td>Nissan</td>\n",
       "      <td></td>\n",
       "    </tr>\n",
       "    <tr>\n",
       "      <th>19597</th>\n",
       "      <td>Nissan</td>\n",
       "      <td>Nissan</td>\n",
       "      <td></td>\n",
       "    </tr>\n",
       "    <tr>\n",
       "      <th>19759</th>\n",
       "      <td>Nissan</td>\n",
       "      <td>Nissan</td>\n",
       "      <td></td>\n",
       "    </tr>\n",
       "    <tr>\n",
       "      <th>19904</th>\n",
       "      <td>Nissan</td>\n",
       "      <td>Nissan</td>\n",
       "      <td></td>\n",
       "    </tr>\n",
       "    <tr>\n",
       "      <th>19940</th>\n",
       "      <td>Nissan</td>\n",
       "      <td>Nissan</td>\n",
       "      <td></td>\n",
       "    </tr>\n",
       "    <tr>\n",
       "      <th>19946</th>\n",
       "      <td>Nissan</td>\n",
       "      <td>Nissan</td>\n",
       "      <td></td>\n",
       "    </tr>\n",
       "    <tr>\n",
       "      <th>19991</th>\n",
       "      <td>Nissan</td>\n",
       "      <td>Nissan</td>\n",
       "      <td></td>\n",
       "    </tr>\n",
       "    <tr>\n",
       "      <th>20004</th>\n",
       "      <td>Nissan</td>\n",
       "      <td>Nissan</td>\n",
       "      <td></td>\n",
       "    </tr>\n",
       "    <tr>\n",
       "      <th>20008</th>\n",
       "      <td>Nissan</td>\n",
       "      <td>Nissan</td>\n",
       "      <td></td>\n",
       "    </tr>\n",
       "    <tr>\n",
       "      <th>20020</th>\n",
       "      <td>Nissan</td>\n",
       "      <td>Nissan</td>\n",
       "      <td></td>\n",
       "    </tr>\n",
       "    <tr>\n",
       "      <th>20031</th>\n",
       "      <td>Nissan</td>\n",
       "      <td>Nissan</td>\n",
       "      <td></td>\n",
       "    </tr>\n",
       "    <tr>\n",
       "      <th>21893</th>\n",
       "      <td>Ford</td>\n",
       "      <td>Ford</td>\n",
       "      <td></td>\n",
       "    </tr>\n",
       "    <tr>\n",
       "      <th>21898</th>\n",
       "      <td>Ford</td>\n",
       "      <td>Ford</td>\n",
       "      <td></td>\n",
       "    </tr>\n",
       "    <tr>\n",
       "      <th>21915</th>\n",
       "      <td>Ford</td>\n",
       "      <td>Ford</td>\n",
       "      <td></td>\n",
       "    </tr>\n",
       "    <tr>\n",
       "      <th>21917</th>\n",
       "      <td>Ford</td>\n",
       "      <td>Ford</td>\n",
       "      <td></td>\n",
       "    </tr>\n",
       "    <tr>\n",
       "      <th>21920</th>\n",
       "      <td>Ford</td>\n",
       "      <td>Ford</td>\n",
       "      <td></td>\n",
       "    </tr>\n",
       "    <tr>\n",
       "      <th>21931</th>\n",
       "      <td>Ford</td>\n",
       "      <td>Ford</td>\n",
       "      <td></td>\n",
       "    </tr>\n",
       "    <tr>\n",
       "      <th>21932</th>\n",
       "      <td>Ford</td>\n",
       "      <td>Ford</td>\n",
       "      <td></td>\n",
       "    </tr>\n",
       "    <tr>\n",
       "      <th>21947</th>\n",
       "      <td>Ford</td>\n",
       "      <td>Ford</td>\n",
       "      <td></td>\n",
       "    </tr>\n",
       "    <tr>\n",
       "      <th>21954</th>\n",
       "      <td>Ford</td>\n",
       "      <td>Ford</td>\n",
       "      <td></td>\n",
       "    </tr>\n",
       "    <tr>\n",
       "      <th>21960</th>\n",
       "      <td>Ford</td>\n",
       "      <td>Ford</td>\n",
       "      <td></td>\n",
       "    </tr>\n",
       "    <tr>\n",
       "      <th>21967</th>\n",
       "      <td>Ford</td>\n",
       "      <td>Ford</td>\n",
       "      <td></td>\n",
       "    </tr>\n",
       "    <tr>\n",
       "      <th>21968</th>\n",
       "      <td>Ford</td>\n",
       "      <td>Ford</td>\n",
       "      <td></td>\n",
       "    </tr>\n",
       "    <tr>\n",
       "      <th>21979</th>\n",
       "      <td>Ford</td>\n",
       "      <td>Ford</td>\n",
       "      <td></td>\n",
       "    </tr>\n",
       "    <tr>\n",
       "      <th>22043</th>\n",
       "      <td>Ford</td>\n",
       "      <td>Ford</td>\n",
       "      <td></td>\n",
       "    </tr>\n",
       "    <tr>\n",
       "      <th>22052</th>\n",
       "      <td>Ford</td>\n",
       "      <td>Ford</td>\n",
       "      <td></td>\n",
       "    </tr>\n",
       "    <tr>\n",
       "      <th>22268</th>\n",
       "      <td>Ford</td>\n",
       "      <td>Ford</td>\n",
       "      <td></td>\n",
       "    </tr>\n",
       "    <tr>\n",
       "      <th>22531</th>\n",
       "      <td>Ford</td>\n",
       "      <td>Ford</td>\n",
       "      <td></td>\n",
       "    </tr>\n",
       "    <tr>\n",
       "      <th>22556</th>\n",
       "      <td>Ford</td>\n",
       "      <td>Ford</td>\n",
       "      <td></td>\n",
       "    </tr>\n",
       "    <tr>\n",
       "      <th>22787</th>\n",
       "      <td>Ford</td>\n",
       "      <td>Ford</td>\n",
       "      <td></td>\n",
       "    </tr>\n",
       "    <tr>\n",
       "      <th>23758</th>\n",
       "      <td>Hyundai</td>\n",
       "      <td>Hyundai</td>\n",
       "      <td></td>\n",
       "    </tr>\n",
       "    <tr>\n",
       "      <th>24707</th>\n",
       "      <td>Hyundai</td>\n",
       "      <td>Hyundai</td>\n",
       "      <td></td>\n",
       "    </tr>\n",
       "    <tr>\n",
       "      <th>24733</th>\n",
       "      <td>Hyundai</td>\n",
       "      <td>Hyundai</td>\n",
       "      <td></td>\n",
       "    </tr>\n",
       "    <tr>\n",
       "      <th>24734</th>\n",
       "      <td>Hyundai</td>\n",
       "      <td>Hyundai</td>\n",
       "      <td></td>\n",
       "    </tr>\n",
       "    <tr>\n",
       "      <th>24740</th>\n",
       "      <td>Hyundai</td>\n",
       "      <td>Hyundai</td>\n",
       "      <td></td>\n",
       "    </tr>\n",
       "    <tr>\n",
       "      <th>24752</th>\n",
       "      <td>Hyundai</td>\n",
       "      <td>Hyundai</td>\n",
       "      <td></td>\n",
       "    </tr>\n",
       "    <tr>\n",
       "      <th>24784</th>\n",
       "      <td>Hyundai</td>\n",
       "      <td>Hyundai</td>\n",
       "      <td></td>\n",
       "    </tr>\n",
       "    <tr>\n",
       "      <th>24814</th>\n",
       "      <td>Hyundai</td>\n",
       "      <td>Hyundai</td>\n",
       "      <td></td>\n",
       "    </tr>\n",
       "    <tr>\n",
       "      <th>25204</th>\n",
       "      <td>Hyundai</td>\n",
       "      <td>Hyundai</td>\n",
       "      <td></td>\n",
       "    </tr>\n",
       "    <tr>\n",
       "      <th>25205</th>\n",
       "      <td>Hyundai</td>\n",
       "      <td>Hyundai</td>\n",
       "      <td></td>\n",
       "    </tr>\n",
       "    <tr>\n",
       "      <th>25222</th>\n",
       "      <td>Hyundai</td>\n",
       "      <td>Hyundai</td>\n",
       "      <td></td>\n",
       "    </tr>\n",
       "    <tr>\n",
       "      <th>25315</th>\n",
       "      <td>Hyundai</td>\n",
       "      <td>Hyundai</td>\n",
       "      <td></td>\n",
       "    </tr>\n",
       "    <tr>\n",
       "      <th>25316</th>\n",
       "      <td>Hyundai</td>\n",
       "      <td>Hyundai</td>\n",
       "      <td></td>\n",
       "    </tr>\n",
       "    <tr>\n",
       "      <th>25360</th>\n",
       "      <td>Hyundai</td>\n",
       "      <td>Hyundai</td>\n",
       "      <td></td>\n",
       "    </tr>\n",
       "    <tr>\n",
       "      <th>26739</th>\n",
       "      <td>Volvo</td>\n",
       "      <td>Volvo</td>\n",
       "      <td></td>\n",
       "    </tr>\n",
       "    <tr>\n",
       "      <th>27062</th>\n",
       "      <td>Volvo</td>\n",
       "      <td>Volvo</td>\n",
       "      <td></td>\n",
       "    </tr>\n",
       "    <tr>\n",
       "      <th>27124</th>\n",
       "      <td>Volvo</td>\n",
       "      <td>Volvo</td>\n",
       "      <td></td>\n",
       "    </tr>\n",
       "    <tr>\n",
       "      <th>27130</th>\n",
       "      <td>Volvo</td>\n",
       "      <td>Volvo</td>\n",
       "      <td></td>\n",
       "    </tr>\n",
       "    <tr>\n",
       "      <th>27185</th>\n",
       "      <td>Volvo</td>\n",
       "      <td>Volvo</td>\n",
       "      <td></td>\n",
       "    </tr>\n",
       "    <tr>\n",
       "      <th>27191</th>\n",
       "      <td>Volvo</td>\n",
       "      <td>Volvo</td>\n",
       "      <td></td>\n",
       "    </tr>\n",
       "    <tr>\n",
       "      <th>27235</th>\n",
       "      <td>Volvo</td>\n",
       "      <td>Volvo</td>\n",
       "      <td></td>\n",
       "    </tr>\n",
       "    <tr>\n",
       "      <th>27283</th>\n",
       "      <td>Volvo</td>\n",
       "      <td>Volvo</td>\n",
       "      <td></td>\n",
       "    </tr>\n",
       "    <tr>\n",
       "      <th>27301</th>\n",
       "      <td>Volvo</td>\n",
       "      <td>Volvo</td>\n",
       "      <td></td>\n",
       "    </tr>\n",
       "    <tr>\n",
       "      <th>27318</th>\n",
       "      <td>Volvo</td>\n",
       "      <td>Volvo</td>\n",
       "      <td></td>\n",
       "    </tr>\n",
       "    <tr>\n",
       "      <th>27324</th>\n",
       "      <td>Volvo</td>\n",
       "      <td>Volvo</td>\n",
       "      <td></td>\n",
       "    </tr>\n",
       "    <tr>\n",
       "      <th>27379</th>\n",
       "      <td>Volvo</td>\n",
       "      <td>Volvo</td>\n",
       "      <td></td>\n",
       "    </tr>\n",
       "    <tr>\n",
       "      <th>27385</th>\n",
       "      <td>Volvo</td>\n",
       "      <td>Volvo</td>\n",
       "      <td></td>\n",
       "    </tr>\n",
       "    <tr>\n",
       "      <th>27429</th>\n",
       "      <td>Volvo</td>\n",
       "      <td>Volvo</td>\n",
       "      <td></td>\n",
       "    </tr>\n",
       "    <tr>\n",
       "      <th>27477</th>\n",
       "      <td>Volvo</td>\n",
       "      <td>Volvo</td>\n",
       "      <td></td>\n",
       "    </tr>\n",
       "    <tr>\n",
       "      <th>27495</th>\n",
       "      <td>Volvo</td>\n",
       "      <td>Volvo</td>\n",
       "      <td></td>\n",
       "    </tr>\n",
       "    <tr>\n",
       "      <th>27622</th>\n",
       "      <td>Volvo</td>\n",
       "      <td>Volvo</td>\n",
       "      <td></td>\n",
       "    </tr>\n",
       "    <tr>\n",
       "      <th>27638</th>\n",
       "      <td>Volvo</td>\n",
       "      <td>Volvo</td>\n",
       "      <td></td>\n",
       "    </tr>\n",
       "    <tr>\n",
       "      <th>27681</th>\n",
       "      <td>Volvo</td>\n",
       "      <td>Volvo</td>\n",
       "      <td></td>\n",
       "    </tr>\n",
       "    <tr>\n",
       "      <th>28020</th>\n",
       "      <td>Volvo</td>\n",
       "      <td>Volvo</td>\n",
       "      <td></td>\n",
       "    </tr>\n",
       "    <tr>\n",
       "      <th>28036</th>\n",
       "      <td>Volvo</td>\n",
       "      <td>Volvo</td>\n",
       "      <td></td>\n",
       "    </tr>\n",
       "    <tr>\n",
       "      <th>28079</th>\n",
       "      <td>Volvo</td>\n",
       "      <td>Volvo</td>\n",
       "      <td></td>\n",
       "    </tr>\n",
       "  </tbody>\n",
       "</table>\n",
       "</div>"
      ],
      "text/plain": [
       "           make_model           make model\n",
       "162    Mercedes-Benz   Mercedes-Benz      \n",
       "184    Mercedes-Benz   Mercedes-Benz      \n",
       "186    Mercedes-Benz   Mercedes-Benz      \n",
       "211    Mercedes-Benz   Mercedes-Benz      \n",
       "213    Mercedes-Benz   Mercedes-Benz      \n",
       "226    Mercedes-Benz   Mercedes-Benz      \n",
       "319    Mercedes-Benz   Mercedes-Benz      \n",
       "427    Mercedes-Benz   Mercedes-Benz      \n",
       "442    Mercedes-Benz   Mercedes-Benz      \n",
       "471    Mercedes-Benz   Mercedes-Benz      \n",
       "474    Mercedes-Benz   Mercedes-Benz      \n",
       "608    Mercedes-Benz   Mercedes-Benz      \n",
       "642    Mercedes-Benz   Mercedes-Benz      \n",
       "643    Mercedes-Benz   Mercedes-Benz      \n",
       "651    Mercedes-Benz   Mercedes-Benz      \n",
       "766    Mercedes-Benz   Mercedes-Benz      \n",
       "856    Mercedes-Benz   Mercedes-Benz      \n",
       "861    Mercedes-Benz   Mercedes-Benz      \n",
       "922    Mercedes-Benz   Mercedes-Benz      \n",
       "1229   Mercedes-Benz   Mercedes-Benz      \n",
       "1275   Mercedes-Benz   Mercedes-Benz      \n",
       "1294   Mercedes-Benz   Mercedes-Benz      \n",
       "1820   Mercedes-Benz   Mercedes-Benz      \n",
       "1974   Mercedes-Benz   Mercedes-Benz      \n",
       "2035   Mercedes-Benz   Mercedes-Benz      \n",
       "2116   Mercedes-Benz   Mercedes-Benz      \n",
       "2122   Mercedes-Benz   Mercedes-Benz      \n",
       "2186   Mercedes-Benz   Mercedes-Benz      \n",
       "2234   Mercedes-Benz   Mercedes-Benz      \n",
       "2337   Mercedes-Benz   Mercedes-Benz      \n",
       "2373   Mercedes-Benz   Mercedes-Benz      \n",
       "2917            Opel            Opel      \n",
       "2921            Opel            Opel      \n",
       "2923            Opel            Opel      \n",
       "2924            Opel            Opel      \n",
       "2926            Opel            Opel      \n",
       "2927            Opel            Opel      \n",
       "2928            Opel            Opel      \n",
       "2931            Opel            Opel      \n",
       "2932            Opel            Opel      \n",
       "2933            Opel            Opel      \n",
       "2934            Opel            Opel      \n",
       "2936            Opel            Opel      \n",
       "2939            Opel            Opel      \n",
       "2942            Opel            Opel      \n",
       "2943            Opel            Opel      \n",
       "2944            Opel            Opel      \n",
       "2945            Opel            Opel      \n",
       "2948            Opel            Opel      \n",
       "2949            Opel            Opel      \n",
       "2950            Opel            Opel      \n",
       "2951            Opel            Opel      \n",
       "2952            Opel            Opel      \n",
       "2953            Opel            Opel      \n",
       "2954            Opel            Opel      \n",
       "2958            Opel            Opel      \n",
       "2959            Opel            Opel      \n",
       "2960            Opel            Opel      \n",
       "2961            Opel            Opel      \n",
       "2962            Opel            Opel      \n",
       "2964            Opel            Opel      \n",
       "2965            Opel            Opel      \n",
       "2966            Opel            Opel      \n",
       "2967            Opel            Opel      \n",
       "2968            Opel            Opel      \n",
       "2969            Opel            Opel      \n",
       "2970            Opel            Opel      \n",
       "2971            Opel            Opel      \n",
       "2972            Opel            Opel      \n",
       "2973            Opel            Opel      \n",
       "2974            Opel            Opel      \n",
       "2975            Opel            Opel      \n",
       "2976            Opel            Opel      \n",
       "2978            Opel            Opel      \n",
       "2979            Opel            Opel      \n",
       "2980            Opel            Opel      \n",
       "2981            Opel            Opel      \n",
       "2982            Opel            Opel      \n",
       "2983            Opel            Opel      \n",
       "2984            Opel            Opel      \n",
       "2985            Opel            Opel      \n",
       "2987            Opel            Opel      \n",
       "2989            Opel            Opel      \n",
       "2990            Opel            Opel      \n",
       "2991            Opel            Opel      \n",
       "2992            Opel            Opel      \n",
       "2993            Opel            Opel      \n",
       "2995            Opel            Opel      \n",
       "2996            Opel            Opel      \n",
       "2997            Opel            Opel      \n",
       "2998            Opel            Opel      \n",
       "2999            Opel            Opel      \n",
       "3000            Opel            Opel      \n",
       "3001            Opel            Opel      \n",
       "3002            Opel            Opel      \n",
       "3003            Opel            Opel      \n",
       "3004            Opel            Opel      \n",
       "3005            Opel            Opel      \n",
       "3006            Opel            Opel      \n",
       "3007            Opel            Opel      \n",
       "3009            Opel            Opel      \n",
       "3010            Opel            Opel      \n",
       "3011            Opel            Opel      \n",
       "3012            Opel            Opel      \n",
       "3013            Opel            Opel      \n",
       "3015            Opel            Opel      \n",
       "3016            Opel            Opel      \n",
       "3017            Opel            Opel      \n",
       "3018            Opel            Opel      \n",
       "3019            Opel            Opel      \n",
       "3020            Opel            Opel      \n",
       "3021            Opel            Opel      \n",
       "3022            Opel            Opel      \n",
       "3023            Opel            Opel      \n",
       "3024            Opel            Opel      \n",
       "3025            Opel            Opel      \n",
       "3026            Opel            Opel      \n",
       "3028            Opel            Opel      \n",
       "3029            Opel            Opel      \n",
       "3030            Opel            Opel      \n",
       "3031            Opel            Opel      \n",
       "3032            Opel            Opel      \n",
       "3033            Opel            Opel      \n",
       "3034            Opel            Opel      \n",
       "3035            Opel            Opel      \n",
       "3037            Opel            Opel      \n",
       "3039            Opel            Opel      \n",
       "3040            Opel            Opel      \n",
       "3041            Opel            Opel      \n",
       "3042            Opel            Opel      \n",
       "3043            Opel            Opel      \n",
       "3044            Opel            Opel      \n",
       "3367            Opel            Opel      \n",
       "3387            Opel            Opel      \n",
       "5196         Renault         Renault      \n",
       "5323         Renault         Renault      \n",
       "5324         Renault         Renault      \n",
       "5408         Renault         Renault      \n",
       "5610         Renault         Renault      \n",
       "5626         Renault         Renault      \n",
       "5660         Renault         Renault      \n",
       "5745         Renault         Renault      \n",
       "6079         Renault         Renault      \n",
       "6102         Renault         Renault      \n",
       "6118         Renault         Renault      \n",
       "6127         Renault         Renault      \n",
       "6132         Renault         Renault      \n",
       "6639         Renault         Renault      \n",
       "6723         Renault         Renault      \n",
       "6745         Renault         Renault      \n",
       "7837         Peugeot         Peugeot      \n",
       "8106         Peugeot         Peugeot      \n",
       "9190         Peugeot         Peugeot      \n",
       "9196         Peugeot         Peugeot      \n",
       "9360         Peugeot         Peugeot      \n",
       "9762            Fiat            Fiat      \n",
       "9995            Fiat            Fiat      \n",
       "10095           Fiat            Fiat      \n",
       "10104           Fiat            Fiat      \n",
       "10145           Fiat            Fiat      \n",
       "10319           Fiat            Fiat      \n",
       "10430           Fiat            Fiat      \n",
       "10431           Fiat            Fiat      \n",
       "10474           Fiat            Fiat      \n",
       "10475           Fiat            Fiat      \n",
       "10477           Fiat            Fiat      \n",
       "10480           Fiat            Fiat      \n",
       "10488           Fiat            Fiat      \n",
       "10494           Fiat            Fiat      \n",
       "10511           Fiat            Fiat      \n",
       "10526           Fiat            Fiat      \n",
       "10571           Fiat            Fiat      \n",
       "10579           Fiat            Fiat      \n",
       "10600           Fiat            Fiat      \n",
       "10631           Fiat            Fiat      \n",
       "10632           Fiat            Fiat      \n",
       "10657           Fiat            Fiat      \n",
       "10660           Fiat            Fiat      \n",
       "10728           Fiat            Fiat      \n",
       "11228           Fiat            Fiat      \n",
       "11252           Fiat            Fiat      \n",
       "11346           Fiat            Fiat      \n",
       "11707           Fiat            Fiat      \n",
       "12072           SEAT            SEAT      \n",
       "12395           SEAT            SEAT      \n",
       "12410           SEAT            SEAT      \n",
       "13151           SEAT            SEAT      \n",
       "15138          Skoda           Skoda      \n",
       "15422          Dacia           Dacia      \n",
       "15464          Dacia           Dacia      \n",
       "15465          Dacia           Dacia      \n",
       "16537          Dacia           Dacia      \n",
       "16846          Dacia           Dacia      \n",
       "17455         Toyota          Toyota      \n",
       "17466         Toyota          Toyota      \n",
       "17467         Toyota          Toyota      \n",
       "17478         Toyota          Toyota      \n",
       "17507         Toyota          Toyota      \n",
       "17514         Toyota          Toyota      \n",
       "17560         Toyota          Toyota      \n",
       "17837         Toyota          Toyota      \n",
       "17839         Toyota          Toyota      \n",
       "18071         Toyota          Toyota      \n",
       "18253         Toyota          Toyota      \n",
       "18270         Toyota          Toyota      \n",
       "18327         Toyota          Toyota      \n",
       "18512         Toyota          Toyota      \n",
       "18524         Toyota          Toyota      \n",
       "18577         Toyota          Toyota      \n",
       "19591         Nissan          Nissan      \n",
       "19594         Nissan          Nissan      \n",
       "19597         Nissan          Nissan      \n",
       "19759         Nissan          Nissan      \n",
       "19904         Nissan          Nissan      \n",
       "19940         Nissan          Nissan      \n",
       "19946         Nissan          Nissan      \n",
       "19991         Nissan          Nissan      \n",
       "20004         Nissan          Nissan      \n",
       "20008         Nissan          Nissan      \n",
       "20020         Nissan          Nissan      \n",
       "20031         Nissan          Nissan      \n",
       "21893           Ford            Ford      \n",
       "21898           Ford            Ford      \n",
       "21915           Ford            Ford      \n",
       "21917           Ford            Ford      \n",
       "21920           Ford            Ford      \n",
       "21931           Ford            Ford      \n",
       "21932           Ford            Ford      \n",
       "21947           Ford            Ford      \n",
       "21954           Ford            Ford      \n",
       "21960           Ford            Ford      \n",
       "21967           Ford            Ford      \n",
       "21968           Ford            Ford      \n",
       "21979           Ford            Ford      \n",
       "22043           Ford            Ford      \n",
       "22052           Ford            Ford      \n",
       "22268           Ford            Ford      \n",
       "22531           Ford            Ford      \n",
       "22556           Ford            Ford      \n",
       "22787           Ford            Ford      \n",
       "23758        Hyundai         Hyundai      \n",
       "24707        Hyundai         Hyundai      \n",
       "24733        Hyundai         Hyundai      \n",
       "24734        Hyundai         Hyundai      \n",
       "24740        Hyundai         Hyundai      \n",
       "24752        Hyundai         Hyundai      \n",
       "24784        Hyundai         Hyundai      \n",
       "24814        Hyundai         Hyundai      \n",
       "25204        Hyundai         Hyundai      \n",
       "25205        Hyundai         Hyundai      \n",
       "25222        Hyundai         Hyundai      \n",
       "25315        Hyundai         Hyundai      \n",
       "25316        Hyundai         Hyundai      \n",
       "25360        Hyundai         Hyundai      \n",
       "26739          Volvo           Volvo      \n",
       "27062          Volvo           Volvo      \n",
       "27124          Volvo           Volvo      \n",
       "27130          Volvo           Volvo      \n",
       "27185          Volvo           Volvo      \n",
       "27191          Volvo           Volvo      \n",
       "27235          Volvo           Volvo      \n",
       "27283          Volvo           Volvo      \n",
       "27301          Volvo           Volvo      \n",
       "27318          Volvo           Volvo      \n",
       "27324          Volvo           Volvo      \n",
       "27379          Volvo           Volvo      \n",
       "27385          Volvo           Volvo      \n",
       "27429          Volvo           Volvo      \n",
       "27477          Volvo           Volvo      \n",
       "27495          Volvo           Volvo      \n",
       "27622          Volvo           Volvo      \n",
       "27638          Volvo           Volvo      \n",
       "27681          Volvo           Volvo      \n",
       "28020          Volvo           Volvo      \n",
       "28036          Volvo           Volvo      \n",
       "28079          Volvo           Volvo      "
      ]
     },
     "execution_count": 303,
     "metadata": {},
     "output_type": "execute_result"
    }
   ],
   "source": [
    "print((df[df['model'].str.contains(r'^\\s*$')][ \"model\"]).count())\n",
    "\n",
    "df[df['model'].str.contains(r'^\\s*$')][[\"make_model\", \"make\", \"model\"]]"
   ]
  },
  {
   "cell_type": "markdown",
   "metadata": {},
   "source": [
    "**Let's check how many unique values there have been for ``make_model``, ``make``, and ``model``:**"
   ]
  },
  {
   "cell_type": "code",
   "execution_count": 304,
   "metadata": {
    "ExecuteTime": {
     "end_time": "2025-01-16T09:22:31.861158Z",
     "start_time": "2025-01-16T09:22:31.785261Z"
    }
   },
   "outputs": [
    {
     "data": {
      "text/plain": [
       "611"
      ]
     },
     "metadata": {},
     "output_type": "display_data"
    },
    {
     "data": {
      "text/plain": [
       "13"
      ]
     },
     "metadata": {},
     "output_type": "display_data"
    },
    {
     "data": {
      "text/plain": [
       "594"
      ]
     },
     "metadata": {},
     "output_type": "display_data"
    },
    {
     "data": {
      "text/html": [
       "<div>\n",
       "<style scoped>\n",
       "    .dataframe tbody tr th:only-of-type {\n",
       "        vertical-align: middle;\n",
       "    }\n",
       "\n",
       "    .dataframe tbody tr th {\n",
       "        vertical-align: top;\n",
       "    }\n",
       "\n",
       "    .dataframe thead th {\n",
       "        text-align: right;\n",
       "    }\n",
       "</style>\n",
       "<table border=\"1\" class=\"dataframe\">\n",
       "  <thead>\n",
       "    <tr style=\"text-align: right;\">\n",
       "      <th></th>\n",
       "      <th>model</th>\n",
       "    </tr>\n",
       "    <tr>\n",
       "      <th>make</th>\n",
       "      <th></th>\n",
       "    </tr>\n",
       "  </thead>\n",
       "  <tbody>\n",
       "    <tr>\n",
       "      <th>Dacia</th>\n",
       "      <td>9</td>\n",
       "    </tr>\n",
       "    <tr>\n",
       "      <th>Fiat</th>\n",
       "      <td>45</td>\n",
       "    </tr>\n",
       "    <tr>\n",
       "      <th>Ford</th>\n",
       "      <td>44</td>\n",
       "    </tr>\n",
       "    <tr>\n",
       "      <th>Hyundai</th>\n",
       "      <td>35</td>\n",
       "    </tr>\n",
       "    <tr>\n",
       "      <th>Mercedes-Benz</th>\n",
       "      <td>205</td>\n",
       "    </tr>\n",
       "    <tr>\n",
       "      <th>Nissan</th>\n",
       "      <td>46</td>\n",
       "    </tr>\n",
       "    <tr>\n",
       "      <th>Opel</th>\n",
       "      <td>40</td>\n",
       "    </tr>\n",
       "    <tr>\n",
       "      <th>Peugeot</th>\n",
       "      <td>39</td>\n",
       "    </tr>\n",
       "    <tr>\n",
       "      <th>Renault</th>\n",
       "      <td>45</td>\n",
       "    </tr>\n",
       "    <tr>\n",
       "      <th>SEAT</th>\n",
       "      <td>16</td>\n",
       "    </tr>\n",
       "    <tr>\n",
       "      <th>Skoda</th>\n",
       "      <td>14</td>\n",
       "    </tr>\n",
       "    <tr>\n",
       "      <th>Toyota</th>\n",
       "      <td>39</td>\n",
       "    </tr>\n",
       "    <tr>\n",
       "      <th>Volvo</th>\n",
       "      <td>34</td>\n",
       "    </tr>\n",
       "  </tbody>\n",
       "</table>\n",
       "</div>"
      ],
      "text/plain": [
       "               model\n",
       "make                \n",
       "Dacia              9\n",
       "Fiat              45\n",
       "Ford              44\n",
       "Hyundai           35\n",
       "Mercedes-Benz    205\n",
       "Nissan            46\n",
       "Opel              40\n",
       "Peugeot           39\n",
       "Renault           45\n",
       "SEAT              16\n",
       "Skoda             14\n",
       "Toyota            39\n",
       "Volvo             34"
      ]
     },
     "metadata": {},
     "output_type": "display_data"
    }
   ],
   "source": [
    "display(df[\"make_model\"].nunique())  # The number of unique values in \"make_model\"\n",
    "display(df[\"make\"].nunique())        # The number of unique values in \"make\"\n",
    "display(df[\"model\"].nunique())       # The number of unique values in \"model\"\n",
    "\n",
    "display(df.groupby(\"make\")[\"model\"].nunique().to_frame())\n",
    "# display(df[df['make_model'].str.contains(r'Dacia')][\"model\"].nunique())\n",
    "# display(df[df['make_model'].str.contains(r'Fiat')][\"model\"].nunique())\n",
    "# display(df[df['make_model'].str.contains(r'SEAT')][\"model\"].nunique())"
   ]
  },
  {
   "cell_type": "code",
   "execution_count": 305,
   "metadata": {
    "ExecuteTime": {
     "end_time": "2025-01-16T09:22:31.876719Z",
     "start_time": "2025-01-16T09:22:31.868473Z"
    }
   },
   "outputs": [],
   "source": [
    "# df.drop([\"make\"], axis=1, inplace=True)\n",
    "# df.drop([\"model\"], axis=1, inplace=True)"
   ]
  },
  {
   "cell_type": "code",
   "execution_count": 306,
   "metadata": {
    "ExecuteTime": {
     "end_time": "2025-01-16T09:22:31.897855Z",
     "start_time": "2025-01-16T09:22:31.885404Z"
    }
   },
   "outputs": [
    {
     "data": {
      "text/plain": [
       "(28630, 46)"
      ]
     },
     "execution_count": 306,
     "metadata": {},
     "output_type": "execute_result"
    }
   ],
   "source": [
    "df.shape"
   ]
  },
  {
   "cell_type": "markdown",
   "metadata": {},
   "source": [
    "**After the examination, we will keep the columns of \"make_model\", \"make\", and \"model\" and decide later which one/s will be dropped.**"
   ]
  },
  {
   "cell_type": "markdown",
   "metadata": {},
   "source": [
    "## short_description\n",
    "\n",
    "### 📝 Some Remarks on short description:\n",
    "\n",
    "- In any car trade web page, the short description for a car is a brief summary or overview of the vehicle's key features and characteristics. This description typically includes information such as the make, model, year, mileage, condition, and any notable features such as trim level, engine type, transmission, and interior/exterior color.\n",
    "\n",
    "- The short_description serves as a quick summary of the car's most important details, allowing potential buyers to quickly assess whether the car meets their needs and preferences. It is often displayed prominently on the webpage alongside a photo of the car, and may also include other key information such as the asking price, location of the vehicle, and the seller's contact information.\n",
    "\n",
    "- The short_description is an important component of a car listing on a trade web page, as it can help to attract potential buyers and generate interest in the vehicle. A well-crafted short_description that accurately and effectively highlights the car's key features and benefits can help to increase the likelihood of a successful sale."
   ]
  },
  {
   "cell_type": "code",
   "execution_count": 307,
   "metadata": {
    "ExecuteTime": {
     "end_time": "2025-01-16T09:22:32.039208Z",
     "start_time": "2025-01-16T09:22:31.904972Z"
    }
   },
   "outputs": [
    {
     "name": "stdout",
     "output_type": "stream",
     "text": [
      "column name    :  short_description\n",
      "--------------------------------\n",
      "per_of_nulls   :  % 0.0\n",
      "num_of_nulls   :  0\n",
      "num_of_uniques :  20947\n",
      "shape_of_df    :  (28630, 46)\n",
      "--------------------------------\n",
      "short_description\n",
      "                                                      213\n",
      "D2 Momentum 120                                        88\n",
      "D2 Kinetic 120                                         87\n",
      "Cabrio 1.4T S&S Excellence                             85\n",
      "Extreme+ 7-Sitzer TCe 110                              57\n",
      "                                                     ... \n",
      "PureTech  EAT8 Allure Pack...DISP. PER NOLEGGIO         1\n",
      "BlueHDi 130 S&S EAT8 Business                           1\n",
      "2.0 BlueHDi 180ch S\\u0026S GT Line EAT8                 1\n",
      "1.2 PureTech Première AUT. NAVI PANO                    1\n",
      "2.9 Executive G. NETTE AUTO! LEER! NAVI! CRUISE! L      1\n",
      "Name: count, Length: 20947, dtype: int64\n"
     ]
    }
   ],
   "source": [
    "first_looking(df, \"short_description\")"
   ]
  },
  {
   "cell_type": "code",
   "execution_count": 308,
   "metadata": {
    "ExecuteTime": {
     "end_time": "2025-01-16T09:22:32.048529Z",
     "start_time": "2025-01-16T09:22:32.043804Z"
    }
   },
   "outputs": [],
   "source": [
    "# df.drop(\"short_description\", axis=1, inplace=True)"
   ]
  },
  {
   "cell_type": "code",
   "execution_count": 309,
   "metadata": {
    "ExecuteTime": {
     "end_time": "2025-01-16T09:22:32.060282Z",
     "start_time": "2025-01-16T09:22:32.052613Z"
    }
   },
   "outputs": [
    {
     "data": {
      "text/plain": [
       "(28630, 46)"
      ]
     },
     "execution_count": 309,
     "metadata": {},
     "output_type": "execute_result"
    }
   ],
   "source": [
    "df.shape"
   ]
  },
  {
   "cell_type": "markdown",
   "metadata": {},
   "source": [
    "## desc"
   ]
  },
  {
   "cell_type": "code",
   "execution_count": 310,
   "metadata": {
    "ExecuteTime": {
     "end_time": "2025-01-16T09:24:51.857703Z",
     "start_time": "2025-01-16T09:22:32.066647Z"
    }
   },
   "outputs": [
    {
     "name": "stdout",
     "output_type": "stream",
     "text": [
      "column name    :  desc\n",
      "--------------------------------\n",
      "per_of_nulls   :  % 2.04\n",
      "num_of_nulls   :  583\n",
      "num_of_uniques :  23242\n",
      "shape_of_df    :  (28630, 46)\n",
      "--------------------------------\n",
      "desc\n",
      "NaN                                                                                                                                                                                                                                                                                                                                                                                                                                                                                                                                                                                                                                                                                                                                                                                                                                                                                                                                                                                                                                                                                                                                                                                                                                                                                                                                                                                                                                                                                                                                                                                                                                                                                                                                                                                                                                                                                                                                                                                                                                                                                                                                                                                                                                                                                                                                                                                                                                                                                                                                                                                                                                                                                                                                                                                                                                                                                                                                                                                                                                                                                                                                                                                                                                                                                                                                                                                                                                                                                                                                                                                                                                                                                                                                                                                                                                                                                                                                                                                                                                                                                                                                                                  583\n",
      "[]                                                                                                                                                                                                                                                                                                                                                                                                                                                                                                                                                                                                                                                                                                                                                                                                                                                                                                                                                                                                                                                                                                                                                                                                                                                                                                                                                                                                                                                                                                                                                                                                                                                                                                                                                                                                                                                                                                                                                                                                                                                                                                                                                                                                                                                                                                                                                                                                                                                                                                                                                                                                                                                                                                                                                                                                                                                                                                                                                                                                                                                                                                                                                                                                                                                                                                                                                                                                                                                                                                                                                                                                                                                                                                                                                                                                                                                                                                                                                                                                                                                                                                                                                                    88\n",
      "[Genaue Angaben zu der Serienausstattung, finden Sie auf unsere Homepage., Gerne nehmen wir Ihr Aktuelles Fahrzeug zurück!, Der Verkäufer übernimmt keine Haftung für Tipp und Datenübermittlungsfehler., Angeführte Ausstattungen sind ggfs. gesondert vor Ort zu prüfen., Alle Angaben in den Inseraten sind unverbindlich und ohne Gewähr.,  , Dacia Jogger TCe 110 Extreme+ 7-Sitzer,  , Sonderausstattung,  , City-Paket,  , - elektrische Parkbremse, - erhöhte Mittelkonsole, - Einparkhilfe vorne und hinten, - Rückfahrkamera, - Toter-Winkel-Warner,  , Sitzheizung für Vordersitze,  , Klimaautomatik,  , Scheiben hinten abgedunkelt,  , 7-Sitzer,  , Serienausstattung,  ,  , Eco LED-Scheinwerfer,  , Reserverad,  , Notbremsassistent,  , ECO-Mode,  , 12V Steckdose,  , Klapptische für zweite Sitzreihe,  , El. Parkbremse,  , Sonnenblenden mit Make-up-Spiegel,  , Beifahrersonnenblende mit Make-up-Spiegel,  , Fahrersitz höhenverstellbar,  , Lenkrad höhen- und längsverstellbar,  , Rücksitzbank 60/40 umklappbar,  , Servolenkung,  , Zentralverriegelung,  , El. Fensterheber vorne und hinten,  , El. Seitenspiegel,  , Schlüssellose Zentralverriegelung,  , Armlehne,  , Lenkrad in Lederoptik mit Multifunktion,  , Dachreling modular,  , Leichtmetallfelgen in schwarz mit Sommerreifen,  , Reifendruck-Kontrolle,  , Dacia Media Nav Multimediasystem,  , DAB-Radio,  , MP3 fähig,  , Bluetooth,  , USB-Anschluss,  , Touchscreen,  , CarPlay,  , Android Auto,  , Sprachsteuerung,  , Navigationssystem,  , Tempomat,  , Freisprecheinrichtung,  , Bordcomputer Check-Control,  , Geschwindigkeitsbegrenzungsanlage, ...]                                                                                                                                                                                                                                                                                                                                                                                                                                                                                                                                                                                                                                                                                                                                                                                                                                                                                                                                                                                                                                                                                                                                                                                                                                                                                                                                                                                                                                                                                                                                                                                                                                                                                                                                                                                                                                                                                                                                                                                                                                                                                                                                                                                                                                                                                                                                                                                                                                                                                                           51\n",
      "[Ref.  4236LFG,            OCASIONPLUS, SÓLO ESTE MES MEJOR PRECIO GARANTIZADO, COMPRA CON TOTAL CONFIANZA - 15 DÍAS O 1000 KMs DE PRUEBA, OCASIONPLUS - Nº1 Calidad/Precio, 5000 COCHES - 50 centros en toda la península , Elige tu coche y te lo llevamos a tu provincia, Hasta 2350€ de descuento en este coche, ADEMÁS HACEMOS FINANCIACIONES A MEDIDA, PREGÚNTANOS!!, Equipamiento destacado: Techo panorámico, Tapicería de piel, Asistente de aparcamiento, Navegador, Encendido automático de faros, Arranque por botón, Start/Stop automático, Control de velocidad, Volante multifunción, Bluetooth, Aire Acondicionado (Climatizador), Control de tracción, Llantas de aleación (18\")., - Garantía total 1 año, con cobertura nacional, ampliable a 24 meses., - Certificado de Kilómetros y ausencia de golpes estructurales., - Sobrevaloramos tu coche en operaciones de cambio. Tásalo ahora en ocasionplus.com, - Entregamos cualquier coche en cualquier centro por 100€, - Abierto Domingo y Festivos.,  , Extras,  ,  , Equipamiento destacado seleccionado por el usuario,  ,  , - Llantas de aleación de 18\", - Techo panorámico, - Navegador, - Start/Stop automático, - Control de velocidad, - Volante multifunción, - Bluetooth, - Control de tracción, - Climatizador, - Llantas de aleación, - Aire Acondicionado, - Tapicería de piel, - Asistente de aparcamiento, - Encendido automático de faros, - Arranque por botón, See more]                                                                                                                                                                                                                                                                                                                                                                                                                                                                                                                                                                                                                                                                                                                                                                                                                                                                                                                                                                                                                                                                                                                                                                                                                                                                                                                                                                                                                                                                                                                                                                                                                                                                                                                                                                                                                                                                                                                                                                                                                                                                                                                                                                                                                                                                                                                                                                                                                                                                                                                                                                                                                                                                                                     34\n",
      "[ , Precio al contado: 15200 euros,  , Ref.  6710KJS,            \"OCASIONPLUS, SÓLO ESTE MES MEJOR PRECIO GARANTIZADO, COMPRA CON TOTAL CONFIANZA - 15 DÍAS O 1000 KMs DE PRUEBA, OCASIONPLUS - Nº1 Calidad/Precio, 5000 COCHES - 50 centros en toda la península , Elige tu coche y te lo llevamos a tu provincia, Hasta 1382€ de descuento en este coche, Precio oferta financiado: 13818€ (202€/mes) financiando la totalidad a un plazo mínimo de 60 meses, Precio al contado: 15200€ ADEMÁS HACEMOS FINANCIACIONES A MEDIDA, PREGÚNTANOS!!\", Equipamiento destacado: Faros traseros led, Bluetooth, Arranque por botón, Aire Acondicionado (Climatizador), Isofix, Llantas de aleación (16\")., - Coche Nacional., - Garantía total 1 año, con cobertura nacional, ampliable a 24 meses., - Certificado de Kilómetros y ausencia de golpes estructurales., - Sobrevaloramos tu coche en operaciones de cambio. Tásalo ahora en ocasionplus.com, - Entregamos cualquier coche en cualquier centro por 100€, - Abierto Domingo y Festivos.,  , Extras,  ,  , Equipamiento destacado seleccionado por el usuario,  ,  , - Bluetooth, - Climatizador, - Llantas de aleación, - Aire Acondicionado, - Llantas de aleación de 16\", - Faros traseros led, - Isofi, x- Arranque por botón,  , Condiciones de la financiación,  , \"OCASIONPLUS, SÓLO ESTE MES MEJOR PRECIO GARANTIZADO, COMPRA CON TOTAL CONFIANZA - 15 DÍAS O 1000 KMs DE PRUEBA, OCASIONPLUS - Nº1 Calidad/Precio, 5000 COCHES - 50 centros en toda la península , Elige tu coche y te lo llevamos a tu provincia, Hasta 1382€ de descuento en este coche, Precio oferta financiado: 13818€ (202€/mes) financiando la totalidad a un plazo mínimo de 60 meses, Precio al contado: 15200€ ADEMÁS HACEMOS FINANCIACIONES A MEDIDA, PREGÚNTANOS!!\", See more]                                                                                                                                                                                                                                                                                                                                                                                                                                                                                                                                                                                                                                                                                                                                                                                                                                                                                                                                                                                                                                                                                                                                                                                                                                                                                                                                                                                                                                                                                                                                                                                                                                                                                                                                                                                                                                                                                                                                                                                                                                                                                                                                                                                                                                                                                                                                               34\n",
      "                                                                                                                                                                                                                                                                                                                                                                                                                                                                                                                                                                                                                                                                                                                                                                                                                                                                                                                                                                                                                                                                                                                                                                                                                                                                                                                                                                                                                                                                                                                                                                                                                                                                                                                                                                                                                                                                                                                                                                                                                                                                                                                                                                                                                                                                                                                                                                                                                                                                                                                                                                                                                                                                                                                                                                                                                                                                                                                                                                                                                                                                                                                                                                                                                                                                                                                                                                                                                                                                                                                                                                                                                                                                                                                                                                                                                                                                                                                                                                                                                                                                                                                                                                    ... \n",
      "[PEUGEOT 3008 BUSINESS 3008 1.6 BlueHDi 120ch S&S EAT6 Active Business]                                                                                                                                                                                                                                                                                                                                                                                                                                                                                                                                                                                                                                                                                                                                                                                                                                                                                                                                                                                                                                                                                                                                                                                                                                                                                                                                                                                                                                                                                                                                                                                                                                                                                                                                                                                                                                                                                                                                                                                                                                                                                                                                                                                                                                                                                                                                                                                                                                                                                                                                                                                                                                                                                                                                                                                                                                                                                                                                                                                                                                                                                                                                                                                                                                                                                                                                                                                                                                                                                                                                                                                                                                                                                                                                                                                                                                                                                                                                                                                                                                                                                                1\n",
      "[ , Precio al contado: 27900 euros,  , Concesionario oficial Peugeot en Valencia con más de 50 Años de experiencia. Vehículo revisado en más de 100 puntos con el programa Spoticar de Peugeot. Posibilidad de financiar hasta 120 meses sin entrada. Garantizado 12 meses ampliable hasta 36 meses. Gestionamos también su seguro de coche a los mejores precios. Vehículo publicado con 3.400-€ de descuento al financiar con nuestra entidad financiera colaboradora una cantidad mínima de 10.000.-€ a 60 meses y entregando coche de más de 10 años., Este anuncio no es contractual y está sujeto a las condiciones de la campaña mensual. Le animamos, a consultar condiciones., EQUIPAMIENTOS:, Asientos de tela (material principal) y de cuero sintético (material secundario), Navegador con datos vía memoria interna/disco duro y pantalla a color de 10,0 \" con información en 3D y con voz, control mediante pantalla táctil y información de tráfico 25,4 y 36, Volante multi-función revestido de cuero ajustable en altura y en profundidad,  , Condiciones de la financiación,  , Consultar condiciones de financiación en este anuncio o contactando con el anunciante, See more]                                                                                                                                                                                                                                                                                                                                                                                                                                                                                                                                                                                                                                                                                                                                                                                                                                                                                                                                                                                                                                                                                                                                                                                                                                                                                                                                                                                                                                                                                                                                                                                                                                                                                                                                                                                                                                                                                                                                                                                                                                                                                                                                                                                                                                                                                                                                                                                                                                                                                                                                                                                                                                                                                                                                                                                                                                                                                                                                                                  1\n",
      "[Concessionaria Burnout che fa parte della Community NON PRENDERMI PER IL CHILOMETRO e da più di 10 anni sul mercato E' LIETA DI PRESENTARVI . Stupenda Peugeot 5008 1.6 hdi 120 cv 7 posti , Vettura tagliandata, garantita ,sanificata e ricondizionamento interni., SCOPRITE I NOSTRI VANTAGGI USATO GARANTITO E RICONDIZIONATO , * POSSIBILITA' PERMUTA USATO CON USATO, * FINANZIAMENTI PERSONALIZZATI. , * POSSIBILITA' DI ESTENDERE LA GARANZIA A 24 / 36 / 48 MESI , Optional:, specchi elettrici , Apple Car play, Cruise control, Completa cronologia tagliandi, vetri elettrici, Sensore pioggia , sensore luci, Unico proprietario, Sensori di parcheggio, E tanto altro ancora, Ci scusiamo per l'inconveniente ma a causa della non uniformità dei dati pubblicati dai diversi portali,vi invitiamo a verificare le caratteristiche dello specifico veicolo , * I nostri Consulenti sono a Sua disposizione tutti i giorni, dal lunedì al sabato, dalle 9.00 alle19 , WhatsApp Messenger  3473007167, See more]                                                                                                                                                                                                                                                                                                                                                                                                                                                                                                                                                                                                                                                                                                                                                                                                                                                                                                                                                                                                                                                                                                                                                                                                                                                                                                                                                                                                                                                                                                                                                                                                                                                                                                                                                                                                                                                                                                                                                                                                                                                                                                                                                                                                                                                                                                                                                                                                                                                                                                                                                                                                                                                                                                                                                                                                                                                                                                                                                                                                                                                                                                                                          1\n",
      "[Equipements supplémentaires : 2 sieges escamotables et extractibles pour les passagers du 3eme rang, Acces et demarrage mains libres, Accoudoir central AV a ouverture papillon, avec compartiment de rangement eclaire et refrigerable, Aide graphique et sonore au stationnement AR, Aide graphique et sonore au stationnement AV, Air conditionne automatique bi-zone avec aerateurs aux places AR, Airbags frontaux conducteur et passager adaptatifs (passager neutralisable par cle), airbags lateraux conducteur et passager AV, airbags rideaux de tete aux places AV et AR, Appuis-tete a securite optimisee reglables en hauteur sur les sieges conducteur et passager AV ainsi que sur les places laterales AR, Avertisseur de temps de conduite, Barres de toit longitudinales profilee en Aluminium, Boite a gants floquee et eclairee, Boitiers de retroviseurs exterieurs dans la couleur de la carrosserie, Calandre avec jonc peripherique et ailettes chromes, Ceintures de securite 3 points a enrouleur (x2) au 3eme rang, Ceintures de securite 3 points a enrouleur (x3) au 2eme rang, avec pretensionneurs et limiteurs d'effort aux places laterales, Ceintures de securite AV 3 points a enrouleur, reglables en hauteur avec pretensionneurs et limiteurs d'effort, Commande de verrouillage a distance (2 plips), Console centrale AV avec 2 porte-gobelets, Controle dynamique de stabilite CDS avec antipatinage electronique ASR, Decors de planche de bord et panneaux de portes en maille 'Brumeo', Decors interieurs (baguettes de planche de bord et panneaux de portes, enjoliveur de console) chromes, Detection de sous-gonflage indirecte, Direction assistee electrique, colonne de direction reglable en hauteur et profondeur (mecanique), Ecran tactile capacitif 8' et 'Toggles Switches', Enjoliveur d'arc de pavillon en inox, Enjoliveur de seuil d'entree de coffre chrome, Enjoliveur en inox sur les protecteurs de bas de portes, Essuie-vitre AR avec enclenchement automatique en marche AR, Essuie-vitre AV avec systeme de lavage 'Magic Wash', Fixations pour 3 sieges enfants suivant norme ISOFIX aux places du 2eme rang, Fonction 'Mirror Screen', Frein de stationnement electrique avec aide au demarrage en pente, Indicateur de rapport conseille, Inserts d'ailes AV chromes, Jantes alliage 18' 'Detroit' bi-ton diamantees, Kit de depannage de pneumatique : compresseur 12 volts, flacon de produit de colmatage, anneau de remorquage, deux cales de roue, manivelle de frein de stationnement electrique, Leve-vitres AR electriques et sequentiels avec antipincement, Leve-vitres AV electriques et sequentiels avec antipincement, Lunette AR chauffante avec antennes serigraphiees, Miroirs de courtoisie eclaires, Nouveau Peugeot i-Cockpit : combine tete haute numerique reconfigurable et volant compact multi-fonctions, Pack City 1, Pack Eclairage d'ambiance, Pack Safety Plus, Pack Visibilite, Passages de roues rapportes noirs, Peugeot Connect, Plafonnier AV avec spots de lecture (x2) et plafonniers a extinction temporisee aux 2eme et 3eme rangs, Poches/filets aumonieres au dos des sieges AV, Poignees de maintien (x4) retractables avec frein (crochets pour cintres aux places AR), Poignees de portes couleur carrosserie, Prise 12V (x3 : zone connectique, AR de console et coffre), Prise USB (dans la zone connectique), Projecteurs antibrouillard halogenes, Projecteurs halogenes a l'AV avec feux diurnes a LED, Radio 6 HP, bi-tuner compatible MP3 et connectivite Bluetooth (audio streaming, kit mains libres), avec commandes au volant, ecran tactile capacitif 8', Reconnaissance des panneaux de vitesse et preconisation de vitesse, Regulateur / Limiteur de vitesse, Retroviseurs exterieurs electriques degivrants, Retroviseurs exterieurs rabattables electriquement avec eclairage d'accueil a LED, Retroviseurs indexes a la marche AR, Rideaux pare-soleil (x2) pour les passagers du 2eme rang, Sabots de pare-chocs AV gris metallise, Securite enfants electrique des vitres AR, Sellerie TEP & Tissu 'Evron', Sieg, See more]      1\n",
      "[YOUNGTIMER !, Bedrijfsinformatie, NEEM VOOR U WILT KOMEN KIJKEN NAAR EEN AUTO TELEFONISCH CONTACT MET ONS OP 0162-313775 (optie 2) U BENT VAN HARTE WELKOM VOOR PROEFRIT! DINSDAG ALLEEN OP AFSPRAAK! , Overige informatie: Inruil, financiering, garantie of nieuwe apk zijn bespreekbaar. Inruil van uw auto, bus, bestelwagen,vrachtwagen , camper, caravan, boot, graafmachines tractoren of andere industriële equipment is mogelijk! Overdekte showroom 2500 M2 met 100 occasions op voorraad! Ons adres is Lage Ham 106 in Dongen. Openingstijden: Maandag: 9:00-18.00 Dinsdag: ALLEEN OP AFSPRAAK  woensdag t/m vrijdag: 09.00 t/m 18.00 zaterdag 09.00 t/m 14.00. Wij zijn bereikbaar op 0162-313 775 Verdere informatie: WWW.FOCD.NL. Voor informatie over afwijkende openingstijden wat betreft feestdagen kunt u terecht op onze home pagina van WWW.FOCD.NL, Meer informatie, Algemene informatie, Modeljaar: , 2001, Prestaties, Acceleratie (0-100): , 8,9 s, Topsnelheid: , 225 km/u, Maten, Afmetingen (LxBxH): , 482 x 183 x 145 cm, Wielbasis: , 279 cm, Gewichten, Laadvermogen: , 517 kg, GVW: , 2.090 kg, Max. trekgewicht: , 1.800 kg,  (ongeremd 500 kg), Financiële informatie, BTW/marge: , BTW niet verrekenbaar voor ondernemers (margeregeling), Motorrijtuigenbelasting: , € 230 - € 261,  per kwartaal, Aanvullende opties en accessoires, Exterieur, Metaalkleur vernis of parelmoerlak, Buitenspiegels elektrisch verstel- en verwarmbaar, Buitenspiegels in carrosseriekleur, Elektronische remkrachtverdeling, koplampreiniging, Trekhaak afneembaar, Infotainment, Navigatiesysteem en autotelefoon, Interieur, Achterbank verwarmd, Armsteun achter, Armsteun voor, Elektrische ramen voor en achter, Elektrisch rolgordijn voor achterruit, Elektrisch verstelbare bestuurdersstoel, Hoofdsteunen voor en achter, Houtafwerking interieur, Lendesteunen (verstelbaar), Stuur verstelbaar, Voorstoelen in hoogte verstelbaar, Voorstoelen verwarmd, Veiligheid, Airbag(s) hoofd voor, Alarm klasse 1(startblokkering), Alarm klasse 3, Side Impact Protection System, See more]                                                                                                                                                                                                                                                                                                                                                                                                                                                                                                                                                                                                                                                                                                                                                                                                                                                                                                                                                                                                                                                                                                                                                                                                                                                                                                                                                                                                                                                                                                                                                                                                                                                                                                                                                                                                                                                                                                                                                                                                                                                  1\n",
      "Name: count, Length: 23242, dtype: int64\n"
     ]
    }
   ],
   "source": [
    "first_looking(df, \"desc\")"
   ]
  },
  {
   "cell_type": "code",
   "execution_count": 311,
   "metadata": {
    "ExecuteTime": {
     "end_time": "2025-01-16T09:24:51.875793Z",
     "start_time": "2025-01-16T09:24:51.865893Z"
    }
   },
   "outputs": [
    {
     "data": {
      "text/plain": [
       "(28630, 46)"
      ]
     },
     "execution_count": 311,
     "metadata": {},
     "output_type": "execute_result"
    }
   ],
   "source": [
    "df.shape"
   ]
  },
  {
   "cell_type": "code",
   "execution_count": 312,
   "metadata": {
    "ExecuteTime": {
     "end_time": "2025-01-16T09:24:52.189991Z",
     "start_time": "2025-01-16T09:24:51.887677Z"
    }
   },
   "outputs": [],
   "source": [
    "df.drop(\"desc\", axis=1, inplace=True)"
   ]
  },
  {
   "cell_type": "code",
   "execution_count": 313,
   "metadata": {
    "ExecuteTime": {
     "end_time": "2025-01-16T09:24:52.232444Z",
     "start_time": "2025-01-16T09:24:52.193557Z"
    }
   },
   "outputs": [
    {
     "data": {
      "text/plain": [
       "(28630, 45)"
      ]
     },
     "execution_count": 313,
     "metadata": {},
     "output_type": "execute_result"
    }
   ],
   "source": [
    "df.shape"
   ]
  },
  {
   "cell_type": "markdown",
   "metadata": {},
   "source": [
    "## location\n",
    "\n",
    "### 📝 Some Remarks on location:\n",
    "\n",
    "- In a car trade web page, the location for a car refers to the physical location where the vehicle is currently located. This information is typically provided in the car's listing along with other key details such as the make, model, year, mileage, and asking price.\n",
    "\n",
    "- The location of the car is an important consideration for potential buyers, as it can affect the logistics and costs associated with purchasing and transporting the vehicle. For example, a buyer who lives far away from the location of the car may need to factor in additional costs for shipping or travel expenses in order to inspect or purchase the vehicle.\n",
    "\n",
    "- In addition to the location of the car itself, some car trade web pages may also provide information about the location of the seller or dealership selling the vehicle. This information can be useful for buyers who want to assess the reputation and credibility of the seller, as well as for those who may want to visit the seller in person to inspect the vehicle or negotiate the terms of the sale.\n",
    "\n",
    "Overall, the location of a car is an important piece of information that can help potential buyers to make informed decisions about whether a particular vehicle is a good fit for their needs and circumstances."
   ]
  },
  {
   "cell_type": "code",
   "execution_count": 314,
   "metadata": {
    "ExecuteTime": {
     "end_time": "2025-01-16T09:24:52.317650Z",
     "start_time": "2025-01-16T09:24:52.238131Z"
    }
   },
   "outputs": [
    {
     "name": "stdout",
     "output_type": "stream",
     "text": [
      "column name    :  location\n",
      "--------------------------------\n",
      "per_of_nulls   :  % 0.0\n",
      "num_of_nulls   :  0\n",
      "num_of_uniques :  8181\n",
      "shape_of_df    :  (28630, 45)\n",
      "--------------------------------\n",
      "location\n",
      "Av. Laboral, 10,  28021 MADRID, ES                          306\n",
      "Luckenwalder Berg 5,  14913 Jüterbog, DE                    170\n",
      "Ctra. del Mig, 96,,  08097 L'Hospitalet de Llobregat, ES    146\n",
      "9 boulevard Jules Ferry,  75011 Paris, FR                   142\n",
      "Neuenhofstr. 77,  52078 Aachen, DE                          135\n",
      "                                                           ... \n",
      "2727CT ZOETERMEER, NL                                         1\n",
      "Rosendaalsestraat 437-439,  6824 CK ARNHEM, NL                1\n",
      "5751VH DEURNE, NL                                             1\n",
      "00148 roma, IT                                                1\n",
      "Sur rendez-vous,  5060 Sambreville, BE                        1\n",
      "Name: count, Length: 8181, dtype: int64\n"
     ]
    }
   ],
   "source": [
    "first_looking(df, \"location\")"
   ]
  },
  {
   "cell_type": "code",
   "execution_count": 315,
   "metadata": {
    "ExecuteTime": {
     "end_time": "2025-01-16T09:24:52.342857Z",
     "start_time": "2025-01-16T09:24:52.324795Z"
    }
   },
   "outputs": [
    {
     "data": {
      "text/plain": [
       "0        P.I. EL PALMAR C/FORJA 6,  11500 PUERTO DE SAN...\n",
       "1             APARTADO DE CORREOS 1032,  26140 LOGROÑO, ES\n",
       "2        PORT. TARRACO, MOLL DE LLEVANT, Nº 5, LOC. 6-8...\n",
       "3        Carrer de Provença, 31 Local,  8029 BARCELONA, ES\n",
       "4                   CARRIL ARAGONES 4,  30007 CASILLAS, ES\n",
       "                               ...                        \n",
       "29474             HERMANOS LUMIERE Nº16,  29004 MALAGA, ES\n",
       "29475                    Stobbeweg 6,  2461 EX TER AAR, NL\n",
       "29476               Sur rendez-vous,  5060 Sambreville, BE\n",
       "29477      Bergambachterstraat 5,  2871 JB SCHOONHOVEN, NL\n",
       "29478                    Lage Ham 106,  5102 AE DONGEN, NL\n",
       "Name: location, Length: 28630, dtype: object"
      ]
     },
     "execution_count": 315,
     "metadata": {},
     "output_type": "execute_result"
    }
   ],
   "source": [
    "df.location"
   ]
  },
  {
   "cell_type": "markdown",
   "metadata": {},
   "source": [
    "### Location feature will be kept for finding the answers of some analytical questions in this analysis for now, but not in machine learning modelling."
   ]
  },
  {
   "cell_type": "markdown",
   "metadata": {},
   "source": [
    "## body_type\n",
    "\n",
    "### 📝 Some Remarks on body type (Class):\n",
    "\n",
    "- In any car trade web page, the vehicle class (body type) for a car describe the car's size, shape, and style. Vehicle class and body type affect resale value for multiple reasons. One critical factor is geography. Sports cars and convertibles sell better in warm climates, where they’re practical throughout the year. Rugged SUVs and four-wheel-drive vehicles are more popular in colder climates and areas with rougher terrain.\n",
    "\n",
    "- The vehicle class typically refers to a broader category of vehicles based on their intended use and size. Common vehicle classes include subcompact cars, compact cars, midsize cars, full-size cars, SUVs, trucks, and vans. The vehicle class can provide a general indication of the car's size, features, and capabilities, and can be useful for buyers who are looking for a specific type of vehicle for a particular purpose.\n",
    "\n",
    "Overall, both the vehicle class (body type) is important pieces of information that can help potential buyers to narrow down their options and find a vehicle that meets their needs and preferences. Car trade web pages typically provide information about the class of each vehicle in the listing, along with other key details such as the make, model, year, mileage, and asking price."
   ]
  },
  {
   "cell_type": "code",
   "execution_count": 316,
   "metadata": {
    "ExecuteTime": {
     "end_time": "2025-01-16T09:24:52.638682Z",
     "start_time": "2025-01-16T09:24:52.348479Z"
    }
   },
   "outputs": [
    {
     "name": "stdout",
     "output_type": "stream",
     "text": [
      "column name    :  body_type\n",
      "--------------------------------\n",
      "per_of_nulls   :  % 0.0\n",
      "num_of_nulls   :  0\n",
      "num_of_uniques :  6\n",
      "shape_of_df    :  (28630, 45)\n",
      "--------------------------------\n",
      "body_type\n",
      "[\\n, Station wagon, \\n]       5448\n",
      "[\\n, Off-Road/Pick-up, \\n]    5415\n",
      "[\\n, Compact, \\n]             5387\n",
      "[\\n, Sedan, \\n]               5043\n",
      "[\\n, Coupe, \\n]               4009\n",
      "[\\n, Convertible, \\n]         3328\n",
      "Name: count, dtype: int64\n"
     ]
    }
   ],
   "source": [
    "first_looking(df, \"body_type\")"
   ]
  },
  {
   "cell_type": "code",
   "execution_count": 317,
   "metadata": {
    "ExecuteTime": {
     "end_time": "2025-01-16T09:26:43.673310Z",
     "start_time": "2025-01-16T09:26:43.640753Z"
    }
   },
   "outputs": [
    {
     "data": {
      "text/plain": [
       "0        \\n, Compact, \\n\n",
       "1        \\n, Compact, \\n\n",
       "2        \\n, Compact, \\n\n",
       "3        \\n, Compact, \\n\n",
       "4        \\n, Compact, \\n\n",
       "              ...       \n",
       "29474      \\n, Sedan, \\n\n",
       "29475      \\n, Sedan, \\n\n",
       "29476      \\n, Sedan, \\n\n",
       "29477      \\n, Sedan, \\n\n",
       "29478      \\n, Sedan, \\n\n",
       "Name: body_type, Length: 28630, dtype: object"
      ]
     },
     "execution_count": 317,
     "metadata": {},
     "output_type": "execute_result"
    }
   ],
   "source": [
    "df['body_type'].explode()"
   ]
  },
  {
   "cell_type": "code",
   "execution_count": 74,
   "metadata": {
    "ExecuteTime": {
     "end_time": "2025-01-16T07:16:40.324975Z",
     "start_time": "2025-01-16T07:16:40.279765Z"
    }
   },
   "outputs": [
    {
     "data": {
      "text/plain": [
       "0        Compact\n",
       "1        Compact\n",
       "2        Compact\n",
       "3        Compact\n",
       "4        Compact\n",
       "          ...   \n",
       "29474      Sedan\n",
       "29475      Sedan\n",
       "29476      Sedan\n",
       "29477      Sedan\n",
       "29478      Sedan\n",
       "Name: body_type, Length: 28630, dtype: object"
      ]
     },
     "execution_count": 74,
     "metadata": {},
     "output_type": "execute_result"
    }
   ],
   "source": [
    "# df[\"body_type\"].str[0]\n",
    "# df['body_type'].astype(str).str.extract('([A-Z]+.\\d+)')\n",
    "# df['body_type'].astype(str).str.extract('( \\D+.\\d+)')\n",
    "\n",
    "df['body_type'] = df['body_type'].explode().str.strip(\"\\n, \")\n",
    "df['body_type']"
   ]
  },
  {
   "cell_type": "code",
   "execution_count": 75,
   "metadata": {
    "ExecuteTime": {
     "end_time": "2025-01-16T07:16:40.339269Z",
     "start_time": "2025-01-16T07:16:40.328027Z"
    },
    "scrolled": true
   },
   "outputs": [
    {
     "data": {
      "text/plain": [
       "body_type\n",
       "Station wagon       5448\n",
       "Off-Road/Pick-up    5415\n",
       "Compact             5387\n",
       "Sedan               5043\n",
       "Coupe               4009\n",
       "Convertible         3328\n",
       "Name: count, dtype: int64"
      ]
     },
     "execution_count": 75,
     "metadata": {},
     "output_type": "execute_result"
    }
   ],
   "source": [
    "df[\"body_type\"].value_counts(dropna=False)"
   ]
  },
  {
   "cell_type": "markdown",
   "metadata": {},
   "source": [
    "## type\n",
    "\n",
    "### 📝 Some Remarks on vehicle type:\n",
    "\n",
    "- An ex-demo car is a ex-demonstration unit that are typically test driven by potential customers at the showroom. In the process, the car would have clocked up some mileage. An ex-demo car, depending on how you look at it, can be quite a bargain when shopping for a car. After all, on paper at least, it offers quite a lot of savings compared to a brand-new car. More than often, ex-demo cars are top-spec models as dealers want to persuade customers to get the highest variant possible. Compared to a typical used car, getting an ex-demo car is way more straightforward and transparent, but no where as hassle-free as buying new.\n",
    "\n",
    "- A company/employee car is a vehicle provided by the business for both business and private use of an employee who usually is required to travel extensively for their role, for example, a regional sales manager. Due to its nature, this kind of cars will be driven by their owners and have more mileage than others. This is probably the most important factor in a resale. Greater the mileage, more the car has been used; hence higher wear and tear and impact on the engine. A lower reading on the odometer will always command a higher price."
   ]
  },
  {
   "cell_type": "code",
   "execution_count": 76,
   "metadata": {
    "ExecuteTime": {
     "end_time": "2025-01-16T07:16:40.423766Z",
     "start_time": "2025-01-16T07:16:40.342316Z"
    }
   },
   "outputs": [
    {
     "name": "stdout",
     "output_type": "stream",
     "text": [
      "column name    :  type\n",
      "--------------------------------\n",
      "per_of_nulls   :  % 0.0\n",
      "num_of_nulls   :  0\n",
      "num_of_uniques :  4\n",
      "shape_of_df    :  (28630, 45)\n",
      "--------------------------------\n",
      "type\n",
      "[\\n, Used, \\n]              25251\n",
      "[\\n, Demonstration, \\n]      1433\n",
      "[\\n, Pre-registered, \\n]     1377\n",
      "[\\n, Employee's car, \\n]      569\n",
      "Name: count, dtype: int64\n"
     ]
    }
   ],
   "source": [
    "first_looking(df, \"type\")"
   ]
  },
  {
   "cell_type": "code",
   "execution_count": 77,
   "metadata": {
    "ExecuteTime": {
     "end_time": "2025-01-16T07:16:40.467933Z",
     "start_time": "2025-01-16T07:16:40.426306Z"
    }
   },
   "outputs": [
    {
     "data": {
      "text/plain": [
       "0                  Used\n",
       "1        Pre-registered\n",
       "2                  Used\n",
       "3                  Used\n",
       "4                  Used\n",
       "              ...      \n",
       "29474              Used\n",
       "29475              Used\n",
       "29476              Used\n",
       "29477              Used\n",
       "29478              Used\n",
       "Name: type, Length: 28630, dtype: object"
      ]
     },
     "execution_count": 77,
     "metadata": {},
     "output_type": "execute_result"
    }
   ],
   "source": [
    "df['type'] = df['type'].explode().str.strip(\"\\n, \")\n",
    "df['type']"
   ]
  },
  {
   "cell_type": "code",
   "execution_count": 78,
   "metadata": {
    "ExecuteTime": {
     "end_time": "2025-01-16T07:16:40.482169Z",
     "start_time": "2025-01-16T07:16:40.470988Z"
    }
   },
   "outputs": [
    {
     "data": {
      "text/plain": [
       "type\n",
       "Used              25251\n",
       "Demonstration      1433\n",
       "Pre-registered     1377\n",
       "Employee's car      569\n",
       "Name: count, dtype: int64"
      ]
     },
     "execution_count": 78,
     "metadata": {},
     "output_type": "execute_result"
    }
   ],
   "source": [
    "df.type.value_counts(dropna=False)"
   ]
  },
  {
   "cell_type": "markdown",
   "metadata": {},
   "source": [
    "## doors\n",
    "\n",
    "### 📝 Some Remarks on doors:\n",
    "\n",
    "The number of doors a car has can be an important consideration when buying or selling a vehicle, depending on the preferences and needs of the buyer or seller.\n",
    "\n",
    "For example, a buyer who frequently travels with passengers or children may prefer a car with four or more doors for easier access and exit. On the other hand, a buyer who prioritizes sporty or sleek design may prefer a two-door coupe or convertible.\n",
    "\n",
    "Similarly, when selling a car, the number of doors can affect the car's desirability and resale value. Some buyers may specifically be looking for a car with a certain number of doors, depending on their needs and preferences.\n",
    "\n",
    "However, the number of doors is just one of many factors that buyers and sellers consider when evaluating a car. Other factors such as the make, model, year, mileage, condition, features, and price can also play a significant role in the buying and selling process.\n",
    "\n",
    "Ultimately, whether the number of doors is an important factor in buying or selling a car depends on the specific needs and preferences of the buyer or seller, and should be considered in the context of other relevant factors and considerations."
   ]
  },
  {
   "cell_type": "code",
   "execution_count": 79,
   "metadata": {
    "ExecuteTime": {
     "end_time": "2025-01-16T07:16:40.571079Z",
     "start_time": "2025-01-16T07:16:40.485280Z"
    }
   },
   "outputs": [
    {
     "name": "stdout",
     "output_type": "stream",
     "text": [
      "column name    :  doors\n",
      "--------------------------------\n",
      "per_of_nulls   :  % 1.25\n",
      "num_of_nulls   :  359\n",
      "num_of_uniques :  7\n",
      "shape_of_df    :  (28630, 45)\n",
      "--------------------------------\n",
      "doors\n",
      "[\\n, 5, \\n]    17481\n",
      "[\\n, 2, \\n]     5523\n",
      "[\\n, 4, \\n]     3001\n",
      "[\\n, 3, \\n]     2259\n",
      "NaN              359\n",
      "[\\n, 6, \\n]        5\n",
      "[\\n, 1, \\n]        2\n",
      "Name: count, dtype: int64\n"
     ]
    }
   ],
   "source": [
    "first_looking(df, \"doors\")"
   ]
  },
  {
   "cell_type": "code",
   "execution_count": 80,
   "metadata": {
    "ExecuteTime": {
     "end_time": "2025-01-16T07:16:40.640570Z",
     "start_time": "2025-01-16T07:16:40.573618Z"
    }
   },
   "outputs": [
    {
     "data": {
      "text/plain": [
       "0       5.00\n",
       "1       4.00\n",
       "2       5.00\n",
       "3       5.00\n",
       "4       5.00\n",
       "        ... \n",
       "29474   4.00\n",
       "29475   4.00\n",
       "29476   3.00\n",
       "29477   4.00\n",
       "29478   4.00\n",
       "Name: doors, Length: 28630, dtype: float64"
      ]
     },
     "execution_count": 80,
     "metadata": {},
     "output_type": "execute_result"
    }
   ],
   "source": [
    "df['doors'] = df['doors'].explode().str.strip(\"\\n, \")\n",
    "df['doors'] = pd.to_numeric(df['doors'])\n",
    "\n",
    "df['doors']"
   ]
  },
  {
   "cell_type": "code",
   "execution_count": 81,
   "metadata": {
    "ExecuteTime": {
     "end_time": "2025-01-16T07:16:40.654341Z",
     "start_time": "2025-01-16T07:16:40.643113Z"
    },
    "scrolled": true
   },
   "outputs": [
    {
     "data": {
      "text/plain": [
       "doors\n",
       "5.00    17481\n",
       "2.00     5523\n",
       "4.00     3001\n",
       "3.00     2259\n",
       "NaN       359\n",
       "6.00        5\n",
       "1.00        2\n",
       "Name: count, dtype: int64"
      ]
     },
     "execution_count": 81,
     "metadata": {},
     "output_type": "execute_result"
    }
   ],
   "source": [
    "df.doors.value_counts(dropna=False)"
   ]
  },
  {
   "cell_type": "markdown",
   "metadata": {},
   "source": [
    "## country_version\n",
    "\n",
    "### 📝 Some Remarks on country_version:\n",
    "\n",
    "- The country version of a car can sometimes be important in buying and selling in Europe.\n",
    "\n",
    "- Different countries may have different regulations, standards, and preferences when it comes to car design, features, and performance. For example, some countries may have stricter emissions standards or safety requirements, or may prefer cars with certain types of engines or features.\n",
    "\n",
    "- As a result, the country version of a car can affect its availability, desirability, and resale value in different European countries. A car that is popular and in high demand in one country may not be as popular or in demand in another, depending on factors such as local regulations, cultural preferences, and market conditions.\n",
    "\n",
    "- In addition, the country version of a car can also affect its maintenance and repair costs, as well as the availability of replacement parts and service. Some car parts may be specific to a particular country version of a car, and may be more difficult or expensive to source in other countries.\n",
    "\n",
    "Overall, when buying or selling a car in Europe, it is important to consider the country version of the car and how it may affect its availability, desirability, and value in different markets. Car trade web pages may provide information about the country version of a car in the listing, along with other key details such as the make, model, year, mileage, and asking price."
   ]
  },
  {
   "cell_type": "code",
   "execution_count": 82,
   "metadata": {
    "ExecuteTime": {
     "end_time": "2025-01-16T07:16:40.721931Z",
     "start_time": "2025-01-16T07:16:40.657396Z"
    }
   },
   "outputs": [
    {
     "name": "stdout",
     "output_type": "stream",
     "text": [
      "column name    :  country_version\n",
      "--------------------------------\n",
      "per_of_nulls   :  % 41.01\n",
      "num_of_nulls   :  11741\n",
      "num_of_uniques :  26\n",
      "shape_of_df    :  (28630, 45)\n",
      "--------------------------------\n",
      "country_version\n",
      "NaN                         11741\n",
      "[\\n, Germany, \\n]            7939\n",
      "[\\n, Spain, \\n]              6376\n",
      "[\\n, Italy, \\n]               679\n",
      "[\\n, Belgium, \\n]             641\n",
      "[\\n, European Union, \\n]      340\n",
      "[\\n, Netherlands, \\n]         306\n",
      "[\\n, Austria, \\n]             266\n",
      "[\\n, France, \\n]              101\n",
      "[\\n, United States, \\n]        57\n",
      "[\\n, Czechia, \\n]              47\n",
      "[\\n, Poland, \\n]               31\n",
      "[\\n, Hungary, \\n]              21\n",
      "[\\n, Denmark, \\n]              21\n",
      "[\\n, Romania, \\n]              12\n",
      "[\\n, Japan, \\n]                12\n",
      "[\\n, Switzerland, \\n]           9\n",
      "[\\n, Luxembourg, \\n]            9\n",
      "[\\n, Sweden, \\n]                6\n",
      "[\\n, Slovenia, \\n]              5\n",
      "[\\n, Slovakia, \\n]              4\n",
      "[\\n, Croatia, \\n]               3\n",
      "[\\n, Bulgaria, \\n]              1\n",
      "[\\n, Malta, \\n]                 1\n",
      "[\\n, Canada, \\n]                1\n",
      "[\\n, Mexico, \\n]                1\n",
      "Name: count, dtype: int64\n"
     ]
    }
   ],
   "source": [
    "first_looking(df, \"country_version\")"
   ]
  },
  {
   "cell_type": "code",
   "execution_count": 83,
   "metadata": {
    "ExecuteTime": {
     "end_time": "2025-01-16T07:16:40.760651Z",
     "start_time": "2025-01-16T07:16:40.724978Z"
    }
   },
   "outputs": [
    {
     "data": {
      "text/plain": [
       "0          Spain\n",
       "1          Spain\n",
       "2          Spain\n",
       "3          Spain\n",
       "4          Spain\n",
       "          ...   \n",
       "29474      Spain\n",
       "29475        NaN\n",
       "29476    Belgium\n",
       "29477        NaN\n",
       "29478        NaN\n",
       "Name: country_version, Length: 28630, dtype: object"
      ]
     },
     "execution_count": 83,
     "metadata": {},
     "output_type": "execute_result"
    }
   ],
   "source": [
    "df[\"country_version\"] = df[\"country_version\"].apply(lambda item: item[0] if type(item) == list else item)\\\n",
    "                                             .str.strip(\"\\n, \")\n",
    "df[\"country_version\"]"
   ]
  },
  {
   "cell_type": "code",
   "execution_count": 84,
   "metadata": {
    "ExecuteTime": {
     "end_time": "2025-01-16T07:16:40.774373Z",
     "start_time": "2025-01-16T07:16:40.763702Z"
    },
    "scrolled": true
   },
   "outputs": [
    {
     "data": {
      "text/plain": [
       "country_version\n",
       "NaN               11741\n",
       "Germany            7939\n",
       "Spain              6376\n",
       "Italy               679\n",
       "Belgium             641\n",
       "European Union      340\n",
       "Netherlands         306\n",
       "Austria             266\n",
       "France              101\n",
       "United States        57\n",
       "Czechia              47\n",
       "Poland               31\n",
       "Hungary              21\n",
       "Denmark              21\n",
       "Romania              12\n",
       "Japan                12\n",
       "Switzerland           9\n",
       "Luxembourg            9\n",
       "Sweden                6\n",
       "Slovenia              5\n",
       "Slovakia              4\n",
       "Croatia               3\n",
       "Bulgaria              1\n",
       "Malta                 1\n",
       "Canada                1\n",
       "Mexico                1\n",
       "Name: count, dtype: int64"
      ]
     },
     "execution_count": 84,
     "metadata": {},
     "output_type": "execute_result"
    }
   ],
   "source": [
    "df[\"country_version\"].value_counts(dropna=False)"
   ]
  },
  {
   "cell_type": "code",
   "execution_count": 85,
   "metadata": {
    "ExecuteTime": {
     "end_time": "2025-01-16T07:16:40.783537Z",
     "start_time": "2025-01-16T07:16:40.777420Z"
    }
   },
   "outputs": [
    {
     "data": {
      "text/plain": [
       "(28630, 45)"
      ]
     },
     "execution_count": 85,
     "metadata": {},
     "output_type": "execute_result"
    }
   ],
   "source": [
    "df.shape"
   ]
  },
  {
   "cell_type": "code",
   "execution_count": 86,
   "metadata": {
    "ExecuteTime": {
     "end_time": "2025-01-16T07:16:40.851236Z",
     "start_time": "2025-01-16T07:16:40.786588Z"
    }
   },
   "outputs": [],
   "source": [
    "df.drop(\"country_version\", axis=1, inplace=True)"
   ]
  },
  {
   "cell_type": "code",
   "execution_count": 87,
   "metadata": {
    "ExecuteTime": {
     "end_time": "2025-01-16T07:16:40.859883Z",
     "start_time": "2025-01-16T07:16:40.853779Z"
    }
   },
   "outputs": [
    {
     "data": {
      "text/plain": [
       "(28630, 44)"
      ]
     },
     "execution_count": 87,
     "metadata": {},
     "output_type": "execute_result"
    }
   ],
   "source": [
    "df.shape"
   ]
  },
  {
   "cell_type": "markdown",
   "metadata": {},
   "source": [
    "## offer_number\n",
    "\n",
    "### 📝 Some Remarks on offer_number:\n",
    "\n",
    "- In a car trade web page, an offer number for a car is a unique identifier assigned to a specific offer or listing for a vehicle. This number can be used by the seller or the website to track the offer and manage the details of the sale."
   ]
  },
  {
   "cell_type": "code",
   "execution_count": 88,
   "metadata": {
    "ExecuteTime": {
     "end_time": "2025-01-16T07:18:10.280486Z",
     "start_time": "2025-01-16T07:16:40.862422Z"
    }
   },
   "outputs": [
    {
     "name": "stdout",
     "output_type": "stream",
     "text": [
      "column name    :  offer_number\n",
      "--------------------------------\n",
      "per_of_nulls   :  % 19.32\n",
      "num_of_nulls   :  5530\n",
      "num_of_uniques :  20946\n",
      "shape_of_df    :  (28630, 44)\n",
      "--------------------------------\n",
      "offer_number\n",
      "NaN                                5530\n",
      "[\\n, 1, \\n]                          28\n",
      "[\\n, L-Vorlauf 2023, \\n]             10\n",
      "[\\n, 30, \\n]                          9\n",
      "[\\n, 20, \\n]                          9\n",
      "                                   ... \n",
      "[\\n, ggp-EP-880-ZS, \\n]               1\n",
      "[\\n, 7475319, \\n]                     1\n",
      "[\\n, abci-EZ-260-PS_130291, \\n]       1\n",
      "[\\n, 7407611, \\n]                     1\n",
      "[\\n, 43-JR-LR, \\n]                    1\n",
      "Name: count, Length: 20946, dtype: int64\n"
     ]
    }
   ],
   "source": [
    "first_looking(df, \"offer_number\")"
   ]
  },
  {
   "cell_type": "code",
   "execution_count": 89,
   "metadata": {
    "ExecuteTime": {
     "end_time": "2025-01-16T07:18:10.290323Z",
     "start_time": "2025-01-16T07:18:10.284062Z"
    }
   },
   "outputs": [
    {
     "data": {
      "text/plain": [
       "(28630, 44)"
      ]
     },
     "execution_count": 89,
     "metadata": {},
     "output_type": "execute_result"
    }
   ],
   "source": [
    "df.shape"
   ]
  },
  {
   "cell_type": "code",
   "execution_count": 90,
   "metadata": {
    "ExecuteTime": {
     "end_time": "2025-01-16T07:18:10.381898Z",
     "start_time": "2025-01-16T07:18:10.293369Z"
    }
   },
   "outputs": [],
   "source": [
    "df.drop(\"offer_number\", axis=1, inplace=True)"
   ]
  },
  {
   "cell_type": "code",
   "execution_count": 91,
   "metadata": {
    "ExecuteTime": {
     "end_time": "2025-01-16T07:18:10.394644Z",
     "start_time": "2025-01-16T07:18:10.386993Z"
    }
   },
   "outputs": [
    {
     "data": {
      "text/plain": [
       "(28630, 43)"
      ]
     },
     "execution_count": 91,
     "metadata": {},
     "output_type": "execute_result"
    }
   ],
   "source": [
    "df.shape"
   ]
  },
  {
   "cell_type": "markdown",
   "metadata": {},
   "source": [
    "## warranty\n",
    "\n",
    "### 📝 Some Remarks on mileage:\n",
    "\n",
    "- In a car trade web page, the warranty for a car refers to a guarantee or promise provided by the seller or manufacturer that the car will function properly for a specified period of time or under certain conditions. A warranty may cover the cost of repairs or replacement parts if the car experiences certain types of mechanical or electrical problems during the warranty period.\n",
    "\n",
    "- Warranties can provide peace of mind for buyers, as they offer a degree of protection against unexpected repair costs and defects. However, the specific terms and conditions of a warranty can vary widely depending on the seller or manufacturer, and may be subject to limitations or exclusions.\n",
    "\n",
    "- Warranties may also affect the value and desirability of a car in the used car market. A car with a strong or comprehensive warranty may be more attractive to buyers and may command a higher price, while a car with no warranty or a limited warranty may be less desirable and may sell for a lower price.\n",
    "\n",
    "- When buying or selling a car on a car trade web page, it is important to carefully review the terms and conditions of any warranty offered by the seller or manufacturer, and to factor the warranty into the pricing and negotiation process if applicable. "
   ]
  },
  {
   "cell_type": "code",
   "execution_count": 92,
   "metadata": {
    "ExecuteTime": {
     "end_time": "2025-01-16T07:18:10.494657Z",
     "start_time": "2025-01-16T07:18:10.400275Z"
    }
   },
   "outputs": [
    {
     "name": "stdout",
     "output_type": "stream",
     "text": [
      "column name    :  warranty\n",
      "--------------------------------\n",
      "per_of_nulls   :  % 44.87\n",
      "num_of_nulls   :  12846\n",
      "num_of_uniques :  66\n",
      "shape_of_df    :  (28630, 43)\n",
      "--------------------------------\n",
      "warranty\n",
      "NaN                     12846\n",
      "[\\n, 12 months, \\n]      9545\n",
      "[\\n, Yes, \\n]            2319\n",
      "[\\n, 24 months, \\n]      1515\n",
      "[\\n, 60 months, \\n]       968\n",
      "[\\n, 6 months, \\n]        398\n",
      "[\\n, 36 months, \\n]       257\n",
      "[\\n, 3 months, \\n]        185\n",
      "[\\n, 0 months, \\n]        133\n",
      "[\\n, 48 months, \\n]        78\n",
      "[\\n, 84 months, \\n]        47\n",
      "[\\n, 72 months, \\n]        40\n",
      "[\\n, 13 months, \\n]        22\n",
      "[\\n, 8 months, \\n]         19\n",
      "[\\n, 18 months, \\n]        15\n",
      "[\\n, 1 months, \\n]         15\n",
      "[\\n, 15 months, \\n]        13\n",
      "[\\n, 14 months, \\n]        13\n",
      "[\\n, 16 months, \\n]        13\n",
      "[\\n, 30 months, \\n]        12\n",
      "[\\n, 34 months, \\n]        11\n",
      "[\\n, 21 months, \\n]        11\n",
      "[\\n, 33 months, \\n]        11\n",
      "[\\n, 32 months, \\n]         9\n",
      "[\\n, 20 months, \\n]         9\n",
      "[\\n, 23 months, \\n]         9\n",
      "[\\n, 19 months, \\n]         9\n",
      "[\\n, 17 months, \\n]         9\n",
      "[\\n, 35 months, \\n]         8\n",
      "[\\n, 28 months, \\n]         8\n",
      "[\\n, 50 months, \\n]         6\n",
      "[\\n, 22 months, \\n]         6\n",
      "[\\n, 42 months, \\n]         5\n",
      "[\\n, 31 months, \\n]         4\n",
      "[\\n, 26 months, \\n]         4\n",
      "[\\n, 52 months, \\n]         4\n",
      "[\\n, 47 months, \\n]         4\n",
      "[\\n, 9 months, \\n]          4\n",
      "[\\n, 25 months, \\n]         3\n",
      "[\\n, 58 months, \\n]         3\n",
      "[\\n, 11 months, \\n]         3\n",
      "[\\n, 27 months, \\n]         3\n",
      "[\\n, 45 months, \\n]         2\n",
      "[\\n, 53 months, \\n]         2\n",
      "[\\n, 10 months, \\n]         2\n",
      "[\\n, 57 months, \\n]         2\n",
      "[\\n, 51 months, \\n]         2\n",
      "[\\n, 29 months, \\n]         2\n",
      "[\\n, 2 months, \\n]          2\n",
      "[\\n, 80 months, \\n]         2\n",
      "[\\n, 90 months, \\n]         2\n",
      "[\\n, 7 months, \\n]          2\n",
      "[\\n, 46 months, \\n]         1\n",
      "[\\n, 117 months, \\n]        1\n",
      "[\\n, 43 months, \\n]         1\n",
      "[\\n, 65 months, \\n]         1\n",
      "[\\n, 39 months, \\n]         1\n",
      "[\\n, 142 months, \\n]        1\n",
      "[\\n, 110 months, \\n]        1\n",
      "[\\n, 37 months, \\n]         1\n",
      "[\\n, 49 months, \\n]         1\n",
      "[\\n, 55 months, \\n]         1\n",
      "[\\n, 99 months, \\n]         1\n",
      "[\\n, 122 months, \\n]        1\n",
      "[\\n, 44 months, \\n]         1\n",
      "[\\n, 4 months, \\n]          1\n",
      "Name: count, dtype: int64\n"
     ]
    }
   ],
   "source": [
    "first_looking(df, \"warranty\")"
   ]
  },
  {
   "cell_type": "code",
   "execution_count": 93,
   "metadata": {
    "ExecuteTime": {
     "end_time": "2025-01-16T07:18:10.571086Z",
     "start_time": "2025-01-16T07:18:10.497735Z"
    }
   },
   "outputs": [
    {
     "data": {
      "text/plain": [
       "0       24.00\n",
       "1       24.00\n",
       "2       12.00\n",
       "3       12.00\n",
       "4       12.00\n",
       "         ... \n",
       "29474   12.00\n",
       "29475     NaN\n",
       "29476   13.00\n",
       "29477   12.00\n",
       "29478     NaN\n",
       "Name: warranty, Length: 28630, dtype: float64"
      ]
     },
     "execution_count": 93,
     "metadata": {},
     "output_type": "execute_result"
    }
   ],
   "source": [
    "df[\"warranty\"] = df.warranty.apply(lambda x : x[0] if type(x)==list else x)\n",
    "\n",
    "df[\"warranty\"] = df.warranty.str.extract('(\\d{1,4})').astype(\"float\") # str.extract('(\\d+)')\n",
    "\n",
    "df[\"warranty\"]"
   ]
  },
  {
   "cell_type": "code",
   "execution_count": 94,
   "metadata": {
    "ExecuteTime": {
     "end_time": "2025-01-16T07:18:10.584365Z",
     "start_time": "2025-01-16T07:18:10.573629Z"
    },
    "scrolled": true
   },
   "outputs": [
    {
     "data": {
      "text/plain": [
       "warranty\n",
       "NaN       15165\n",
       "12.00      9545\n",
       "24.00      1515\n",
       "60.00       968\n",
       "6.00        398\n",
       "36.00       257\n",
       "3.00        185\n",
       "0.00        133\n",
       "48.00        78\n",
       "84.00        47\n",
       "72.00        40\n",
       "13.00        22\n",
       "8.00         19\n",
       "18.00        15\n",
       "1.00         15\n",
       "15.00        13\n",
       "14.00        13\n",
       "16.00        13\n",
       "30.00        12\n",
       "34.00        11\n",
       "21.00        11\n",
       "33.00        11\n",
       "32.00         9\n",
       "20.00         9\n",
       "23.00         9\n",
       "19.00         9\n",
       "17.00         9\n",
       "35.00         8\n",
       "28.00         8\n",
       "50.00         6\n",
       "22.00         6\n",
       "42.00         5\n",
       "31.00         4\n",
       "26.00         4\n",
       "52.00         4\n",
       "47.00         4\n",
       "9.00          4\n",
       "25.00         3\n",
       "58.00         3\n",
       "11.00         3\n",
       "27.00         3\n",
       "45.00         2\n",
       "53.00         2\n",
       "10.00         2\n",
       "57.00         2\n",
       "51.00         2\n",
       "29.00         2\n",
       "2.00          2\n",
       "80.00         2\n",
       "90.00         2\n",
       "7.00          2\n",
       "46.00         1\n",
       "117.00        1\n",
       "43.00         1\n",
       "65.00         1\n",
       "39.00         1\n",
       "142.00        1\n",
       "110.00        1\n",
       "37.00         1\n",
       "49.00         1\n",
       "55.00         1\n",
       "99.00         1\n",
       "122.00        1\n",
       "44.00         1\n",
       "4.00          1\n",
       "Name: count, dtype: int64"
      ]
     },
     "execution_count": 94,
     "metadata": {},
     "output_type": "execute_result"
    }
   ],
   "source": [
    "df.warranty.value_counts(dropna=False)"
   ]
  },
  {
   "cell_type": "markdown",
   "metadata": {},
   "source": [
    "## mileage\n",
    "\n",
    "### 📝 Some Remarks on mileage:\n",
    "\n",
    "- In a car trade web page, the mileage for a car refers to the total distance the vehicle has traveled since it was first manufactured. The mileage is usually measured in kilometers or miles, depending on the country and region. Actual kilometer on the cars is one of the most important factors which one may think that there is negative linear correlation between the price and the kilometers of the car. \n",
    "\n",
    "- Cars stack, on average, 10,000-15,000 kms in mileage, each year. The more miles your car has been driven, the lower its market value will get generally. Cars with higher mileage on the odometer tend to be exposed to greater wear and tear, and are more likely to require a greater focus on maintenance and repairs. Mileage is also a key ranking factor for prospective used car buyers – the general rule of thumb being that a car with lower miles is viewed more favourably by buyers. "
   ]
  },
  {
   "cell_type": "code",
   "execution_count": 95,
   "metadata": {
    "ExecuteTime": {
     "end_time": "2025-01-16T07:18:10.643650Z",
     "start_time": "2025-01-16T07:18:10.587494Z"
    }
   },
   "outputs": [
    {
     "name": "stdout",
     "output_type": "stream",
     "text": [
      "column name    :  mileage\n",
      "--------------------------------\n",
      "per_of_nulls   :  % 0.0\n",
      "num_of_nulls   :  1\n",
      "num_of_uniques :  14184\n",
      "shape_of_df    :  (28630, 43)\n",
      "--------------------------------\n",
      "mileage\n",
      "10 km         586\n",
      "1 km          172\n",
      "50 km         133\n",
      "100 km        119\n",
      "5,000 km      118\n",
      "             ... \n",
      "141,589 km      1\n",
      "59,821 km       1\n",
      "123,500 km      1\n",
      "29,781 km       1\n",
      "230,047 km      1\n",
      "Name: count, Length: 14184, dtype: int64\n"
     ]
    }
   ],
   "source": [
    "first_looking(df, \"mileage\")"
   ]
  },
  {
   "cell_type": "code",
   "execution_count": 96,
   "metadata": {
    "ExecuteTime": {
     "end_time": "2025-01-16T07:18:10.744658Z",
     "start_time": "2025-01-16T07:18:10.646190Z"
    }
   },
   "outputs": [
    {
     "data": {
      "text/plain": [
       "0       120200.00\n",
       "1         5000.00\n",
       "2        18900.00\n",
       "3        18995.00\n",
       "4       197000.00\n",
       "           ...   \n",
       "29474    40345.00\n",
       "29475   145000.00\n",
       "29476    96000.00\n",
       "29477    94343.00\n",
       "29478   230047.00\n",
       "Name: mileage, Length: 28630, dtype: float64"
      ]
     },
     "execution_count": 96,
     "metadata": {},
     "output_type": "execute_result"
    }
   ],
   "source": [
    "# df.mileage.str.replace(',', '').str.rstrip(\" km\").replace('-', np.nan).astype('float')\n",
    "\n",
    "\n",
    "df[\"mileage\"] = df.mileage.str.replace(',', '').str.extract('(\\d{1,8})').astype('float')\n",
    "\n",
    "df[\"mileage\"]"
   ]
  },
  {
   "cell_type": "code",
   "execution_count": 97,
   "metadata": {
    "ExecuteTime": {
     "end_time": "2025-01-16T07:18:10.758417Z",
     "start_time": "2025-01-16T07:18:10.747756Z"
    }
   },
   "outputs": [
    {
     "data": {
      "text/plain": [
       "mileage\n",
       "10.00        586\n",
       "1.00         172\n",
       "50.00        133\n",
       "100.00       119\n",
       "5000.00      118\n",
       "            ... \n",
       "141589.00      1\n",
       "59821.00       1\n",
       "123500.00      1\n",
       "29781.00       1\n",
       "230047.00      1\n",
       "Name: count, Length: 14184, dtype: int64"
      ]
     },
     "execution_count": 97,
     "metadata": {},
     "output_type": "execute_result"
    }
   ],
   "source": [
    "df.mileage.value_counts(dropna=False)"
   ]
  },
  {
   "cell_type": "markdown",
   "metadata": {},
   "source": [
    "## first_registration\n",
    "\n",
    "### 📝 Some Remarks on mileage:\n",
    "\n",
    "- In a car trade web page, the first registration date for a car refers to the date when the vehicle was first registered with the local or national authorities, and legally allowed to be driven on public roads. This date is also known as the \"first registration year\" or \"registration date.\"\n",
    "\n",
    "- The first registration date is an important piece of information that can provide insight into the age and history of the vehicle. For example, a car that was first registered several years ago may have had multiple owners and may have higher mileage, while a car that was recently registered may be in better condition and may have lower mileage.\n",
    "\n",
    "- The first registration date can also affect the value and desirability of a car in the used car market. A car that is relatively new and has a recent first registration date may be more attractive to buyers and may command a higher price, while an older car with an earlier first registration date may be less desirable and may sell for a lower price.\n",
    "\n",
    "Overall, when buying or selling a car on a car trade web page, it is important to carefully review the first registration date and to consider it in the context of other factors such as the make, model, year, mileage, and condition of the vehicle. "
   ]
  },
  {
   "cell_type": "code",
   "execution_count": 98,
   "metadata": {
    "ExecuteTime": {
     "end_time": "2025-01-16T07:18:10.793021Z",
     "start_time": "2025-01-16T07:18:10.760984Z"
    }
   },
   "outputs": [
    {
     "name": "stdout",
     "output_type": "stream",
     "text": [
      "column name    :  first_registration\n",
      "--------------------------------\n",
      "per_of_nulls   :  % 0.01\n",
      "num_of_nulls   :  2\n",
      "num_of_uniques :  656\n",
      "shape_of_df    :  (28630, 43)\n",
      "--------------------------------\n",
      "first_registration\n",
      "08/2022    454\n",
      "06/2022    428\n",
      "05/2019    420\n",
      "06/2019    418\n",
      "07/2019    416\n",
      "          ... \n",
      "06/1967      1\n",
      "06/1980      1\n",
      "09/1970      1\n",
      "06/1963      1\n",
      "10/1979      1\n",
      "Name: count, Length: 656, dtype: int64\n"
     ]
    }
   ],
   "source": [
    "first_looking(df, \"first_registration\")"
   ]
  },
  {
   "cell_type": "code",
   "execution_count": 99,
   "metadata": {
    "ExecuteTime": {
     "end_time": "2025-01-16T07:18:10.842992Z",
     "start_time": "2025-01-16T07:18:10.796071Z"
    },
    "scrolled": true
   },
   "outputs": [
    {
     "data": {
      "text/plain": [
       "0        2016\n",
       "1        2022\n",
       "2        2020\n",
       "3        2020\n",
       "4        2015\n",
       "         ... \n",
       "29474    2019\n",
       "29475    2004\n",
       "29476    2011\n",
       "29477    2017\n",
       "29478    2002\n",
       "Name: first_registration, Length: 28630, dtype: object"
      ]
     },
     "execution_count": 99,
     "metadata": {},
     "output_type": "execute_result"
    }
   ],
   "source": [
    "df['first_registration'].str.extract('.*(\\d{4})', expand=False)"
   ]
  },
  {
   "cell_type": "code",
   "execution_count": 100,
   "metadata": {
    "ExecuteTime": {
     "end_time": "2025-01-16T07:18:10.870424Z",
     "start_time": "2025-01-16T07:18:10.846039Z"
    }
   },
   "outputs": [
    {
     "data": {
      "text/plain": [
       "0        2016\n",
       "1        2022\n",
       "2        2020\n",
       "3        2020\n",
       "4        2015\n",
       "         ... \n",
       "29474    2019\n",
       "29475    2004\n",
       "29476    2011\n",
       "29477    2017\n",
       "29478    2002\n",
       "Name: first_registration, Length: 28630, dtype: object"
      ]
     },
     "execution_count": 100,
     "metadata": {},
     "output_type": "execute_result"
    }
   ],
   "source": [
    "# df['first_registration'].map(lambda x: str(x)[-4:])\n",
    "# df.apply(lambda x: str(x['first_registration'])[-4:], axis=1)\n",
    "# [x.strip()[-4:] for x in df['first_registration'].astype(str)]\n",
    "# df['first_registration'].astype(str).str.findall(\"(\\w{4})\").str.join(\"\")\n",
    "# df['first_registration'].astype(str).str.extract(\"(\\w{4})\")\n",
    "# df['first_registration'].str.extract('.*(\\d{4})', expand=False)\n",
    "# df['first_registration'].get(1).extract(\"(\\w{4})\")\n",
    "\n",
    "df['first_registration'].str[-4:]"
   ]
  },
  {
   "cell_type": "code",
   "execution_count": 101,
   "metadata": {
    "ExecuteTime": {
     "end_time": "2025-01-16T07:18:10.905078Z",
     "start_time": "2025-01-16T07:18:10.873594Z"
    }
   },
   "outputs": [
    {
     "data": {
      "text/plain": [
       "0       2016.00\n",
       "1       2022.00\n",
       "2       2020.00\n",
       "3       2020.00\n",
       "4       2015.00\n",
       "          ...  \n",
       "29474   2019.00\n",
       "29475   2004.00\n",
       "29476   2011.00\n",
       "29477   2017.00\n",
       "29478   2002.00\n",
       "Name: first_registration, Length: 28630, dtype: float64"
      ]
     },
     "execution_count": 101,
     "metadata": {},
     "output_type": "execute_result"
    }
   ],
   "source": [
    "df['first_registration'] = df['first_registration'].str[-4:].astype('float')\n",
    "\n",
    "df['first_registration']"
   ]
  },
  {
   "cell_type": "code",
   "execution_count": 102,
   "metadata": {
    "ExecuteTime": {
     "end_time": "2025-01-16T07:18:10.917307Z",
     "start_time": "2025-01-16T07:18:10.908128Z"
    },
    "scrolled": true
   },
   "outputs": [
    {
     "data": {
      "text/plain": [
       "first_registration\n",
       "2019.00    3667\n",
       "2018.00    3492\n",
       "2022.00    3086\n",
       "2021.00    2870\n",
       "2020.00    2473\n",
       "2017.00    2426\n",
       "2016.00    1486\n",
       "2015.00    1237\n",
       "2014.00     936\n",
       "2013.00     703\n",
       "2012.00     655\n",
       "2011.00     642\n",
       "2010.00     559\n",
       "2007.00     492\n",
       "2008.00     441\n",
       "2009.00     424\n",
       "2006.00     395\n",
       "2005.00     287\n",
       "2004.00     247\n",
       "2003.00     211\n",
       "2001.00     191\n",
       "2002.00     187\n",
       "2000.00     160\n",
       "1999.00     144\n",
       "1998.00      91\n",
       "1997.00      81\n",
       "1994.00      80\n",
       "1995.00      78\n",
       "1996.00      71\n",
       "1991.00      62\n",
       "1992.00      60\n",
       "1993.00      55\n",
       "1990.00      54\n",
       "1966.00      41\n",
       "1967.00      34\n",
       "1988.00      33\n",
       "1965.00      32\n",
       "1973.00      29\n",
       "1972.00      29\n",
       "1968.00      27\n",
       "1987.00      26\n",
       "1978.00      23\n",
       "1986.00      22\n",
       "1989.00      20\n",
       "1970.00      19\n",
       "1971.00      18\n",
       "1985.00      18\n",
       "1969.00      17\n",
       "1979.00      17\n",
       "1983.00      16\n",
       "1975.00      14\n",
       "1977.00      13\n",
       "1964.00      11\n",
       "1976.00      11\n",
       "1982.00      11\n",
       "1984.00      10\n",
       "1981.00       9\n",
       "1963.00       9\n",
       "1974.00       9\n",
       "1962.00       8\n",
       "1961.00       7\n",
       "1980.00       6\n",
       "1955.00       6\n",
       "1954.00       4\n",
       "1958.00       4\n",
       "1957.00       4\n",
       "1960.00       4\n",
       "1932.00       3\n",
       "1937.00       2\n",
       "1959.00       2\n",
       "1900.00       2\n",
       "1953.00       2\n",
       "1930.00       2\n",
       "NaN           2\n",
       "1952.00       2\n",
       "2025.00       1\n",
       "1933.00       1\n",
       "1946.00       1\n",
       "1956.00       1\n",
       "2023.00       1\n",
       "1929.00       1\n",
       "1950.00       1\n",
       "1928.00       1\n",
       "2202.00       1\n",
       "Name: count, dtype: int64"
      ]
     },
     "execution_count": 102,
     "metadata": {},
     "output_type": "execute_result"
    }
   ],
   "source": [
    "df[\"first_registration\"].value_counts(dropna=False)"
   ]
  },
  {
   "cell_type": "markdown",
   "metadata": {},
   "source": [
    "## production_date\n",
    "\n",
    "### 📝 Some Remarks on production date:\n",
    "\n",
    "- In a car trade web page, the production date for a car refers to the date when the vehicle was manufactured by the automaker. This date is also known as the \"manufacture date\" or \"build date.\"\n",
    "\n",
    "- The production date is an important piece of information that can provide insight into the age and history of the vehicle. For example, a car that was produced several years ago may have older technology and features compared to a more recent model, while a car that was recently produced may have the latest technology and features.\n",
    "\n",
    "- The production date can also affect the value and desirability of a car in the used car market. A car that is relatively new and has a recent production date may be more attractive to buyers and may command a higher price, while an older car with an earlier production date may be less desirable and may sell for a lower price.\n",
    "\n",
    "Overall, when buying or selling a car on a car trade web page, it is important to carefully review the production date and to consider it in the context of other factors such as the make, model, year, mileage, and condition of the vehicle. "
   ]
  },
  {
   "cell_type": "code",
   "execution_count": 103,
   "metadata": {
    "ExecuteTime": {
     "end_time": "2025-01-16T07:18:10.961036Z",
     "start_time": "2025-01-16T07:18:10.920362Z"
    }
   },
   "outputs": [
    {
     "name": "stdout",
     "output_type": "stream",
     "text": [
      "column name    :  production_date\n",
      "--------------------------------\n",
      "per_of_nulls   :  % 79.36\n",
      "num_of_nulls   :  22722\n",
      "num_of_uniques :  50\n",
      "shape_of_df    :  (28630, 43)\n",
      "--------------------------------\n",
      "production_date\n",
      "NaN        22722\n",
      "2019.00     1179\n",
      "2021.00      980\n",
      "2022.00      894\n",
      "2020.00      763\n",
      "2018.00      762\n",
      "2017.00      391\n",
      "2016.00      239\n",
      "2015.00      118\n",
      "2014.00       90\n",
      "2013.00       76\n",
      "2010.00       53\n",
      "2012.00       43\n",
      "2011.00       43\n",
      "2008.00       34\n",
      "2009.00       26\n",
      "2007.00       20\n",
      "2006.00       17\n",
      "2002.00       15\n",
      "2004.00       13\n",
      "2003.00       13\n",
      "1967.00       12\n",
      "2001.00       12\n",
      "1966.00       11\n",
      "1999.00        9\n",
      "2005.00        9\n",
      "1965.00        9\n",
      "1970.00        9\n",
      "1997.00        8\n",
      "1994.00        8\n",
      "1968.00        7\n",
      "2000.00        7\n",
      "1998.00        5\n",
      "1990.00        3\n",
      "1973.00        3\n",
      "1987.00        3\n",
      "1993.00        3\n",
      "1991.00        3\n",
      "1996.00        3\n",
      "1995.00        2\n",
      "1969.00        2\n",
      "1978.00        2\n",
      "1982.00        2\n",
      "1961.00        1\n",
      "1954.00        1\n",
      "1988.00        1\n",
      "1962.00        1\n",
      "1981.00        1\n",
      "1985.00        1\n",
      "1976.00        1\n",
      "Name: count, dtype: int64\n"
     ]
    }
   ],
   "source": [
    "first_looking(df, \"production_date\")"
   ]
  },
  {
   "cell_type": "markdown",
   "metadata": {},
   "source": [
    "**Let's check the compatibility of the values in the ``first_registration`` with the ones in the ``production_date`` column:**"
   ]
  },
  {
   "cell_type": "code",
   "execution_count": 104,
   "metadata": {
    "ExecuteTime": {
     "end_time": "2025-01-16T07:18:10.981870Z",
     "start_time": "2025-01-16T07:18:10.963576Z"
    }
   },
   "outputs": [
    {
     "data": {
      "text/html": [
       "<div>\n",
       "<style scoped>\n",
       "    .dataframe tbody tr th:only-of-type {\n",
       "        vertical-align: middle;\n",
       "    }\n",
       "\n",
       "    .dataframe tbody tr th {\n",
       "        vertical-align: top;\n",
       "    }\n",
       "\n",
       "    .dataframe thead th {\n",
       "        text-align: right;\n",
       "    }\n",
       "</style>\n",
       "<table border=\"1\" class=\"dataframe\">\n",
       "  <thead>\n",
       "    <tr style=\"text-align: right;\">\n",
       "      <th></th>\n",
       "      <th>first_registration</th>\n",
       "      <th>production_date</th>\n",
       "    </tr>\n",
       "  </thead>\n",
       "  <tbody>\n",
       "    <tr>\n",
       "      <th>23</th>\n",
       "      <td>2019.00</td>\n",
       "      <td>2018.00</td>\n",
       "    </tr>\n",
       "    <tr>\n",
       "      <th>30</th>\n",
       "      <td>2020.00</td>\n",
       "      <td>2018.00</td>\n",
       "    </tr>\n",
       "    <tr>\n",
       "      <th>31</th>\n",
       "      <td>2020.00</td>\n",
       "      <td>2019.00</td>\n",
       "    </tr>\n",
       "    <tr>\n",
       "      <th>470</th>\n",
       "      <td>2022.00</td>\n",
       "      <td>2021.00</td>\n",
       "    </tr>\n",
       "    <tr>\n",
       "      <th>472</th>\n",
       "      <td>2019.00</td>\n",
       "      <td>2016.00</td>\n",
       "    </tr>\n",
       "    <tr>\n",
       "      <th>...</th>\n",
       "      <td>...</td>\n",
       "      <td>...</td>\n",
       "    </tr>\n",
       "    <tr>\n",
       "      <th>29350</th>\n",
       "      <td>2019.00</td>\n",
       "      <td>2017.00</td>\n",
       "    </tr>\n",
       "    <tr>\n",
       "      <th>29380</th>\n",
       "      <td>2022.00</td>\n",
       "      <td>2021.00</td>\n",
       "    </tr>\n",
       "    <tr>\n",
       "      <th>29414</th>\n",
       "      <td>2022.00</td>\n",
       "      <td>2021.00</td>\n",
       "    </tr>\n",
       "    <tr>\n",
       "      <th>29426</th>\n",
       "      <td>2020.00</td>\n",
       "      <td>2019.00</td>\n",
       "    </tr>\n",
       "    <tr>\n",
       "      <th>29436</th>\n",
       "      <td>2022.00</td>\n",
       "      <td>2021.00</td>\n",
       "    </tr>\n",
       "  </tbody>\n",
       "</table>\n",
       "<p>841 rows × 2 columns</p>\n",
       "</div>"
      ],
      "text/plain": [
       "       first_registration  production_date\n",
       "23                2019.00          2018.00\n",
       "30                2020.00          2018.00\n",
       "31                2020.00          2019.00\n",
       "470               2022.00          2021.00\n",
       "472               2019.00          2016.00\n",
       "...                   ...              ...\n",
       "29350             2019.00          2017.00\n",
       "29380             2022.00          2021.00\n",
       "29414             2022.00          2021.00\n",
       "29426             2020.00          2019.00\n",
       "29436             2022.00          2021.00\n",
       "\n",
       "[841 rows x 2 columns]"
      ]
     },
     "execution_count": 104,
     "metadata": {},
     "output_type": "execute_result"
    }
   ],
   "source": [
    "df[(df[\"first_registration\"].notnull()) &\\\n",
    "   (df[\"production_date\"].notnull()) &\\\n",
    "   (df[\"first_registration\"]!=df[\"production_date\"])]\\\n",
    "    [[\"first_registration\", \"production_date\"]]"
   ]
  },
  {
   "cell_type": "markdown",
   "metadata": {},
   "source": [
    "<div style=\"background-color: lightgreen; padding: 10px; font-size: 14px;\">\n",
    "The first registration and production date for a car can sometimes be different, depending on the specific circumstances of the vehicle. If the production date and first registration date of a car are different, it typically indicates that the vehicle was manufactured before it was officially registered for use on the road.\n",
    "</div>\n",
    "\n",
    "- In general, the production date refers to the date when the car was manufactured by the automaker, while the first registration date refers to the date when the car was first registered with the local or national authorities and legally allowed to be driven on public roads.\n",
    "\n",
    "- In some cases, there may be a delay between the production date and the first registration date, especially if the car was produced in one country and then exported to another country for sale. For example, a car that was manufactured in Germany in 2021 may not be registered and sold in the United States until 2022, resulting in a difference between the production date and the first registration date.\n",
    "\n",
    "- Similarly, a car that has been in storage or on a dealer lot for an extended period of time may have a production date that is earlier than the first registration date. For example, a 2021 model year car that was produced in late 2020 but not registered and sold until 2021 may have different production and registration dates."
   ]
  },
  {
   "cell_type": "markdown",
   "metadata": {},
   "source": [
    "## Feature Engineering for \"Age\" Column\n",
    "\n",
    "### ⚠️ Why do we need a new feature named \"age\"❓\n",
    "\n",
    "Car age is perhaps the biggest factor in deciding the price of a second-hand car. Most probably new cars in the world lose their value fairly quickly in the initial years of usage. Unless your car is a prized vintage, you will realize that the relation between the car price and its age are inversely proportional.\n",
    "\n",
    "Unless it is a vintage, the older the car, the lower the resale price. The reason is fairly simple – every car has a lifetime. And the closer it is to the end of its life, the lower the price.\n",
    "\n",
    "<img src=https://i.ibb.co/BBG1MyN/year-assumption-autoscout.png width=\"900\" height=\"100\"><br>\n",
    "\n",
    "<!-- ![image.png](attachment:image.png) -->"
   ]
  },
  {
   "cell_type": "code",
   "execution_count": 105,
   "metadata": {
    "ExecuteTime": {
     "end_time": "2025-01-16T07:18:10.993054Z",
     "start_time": "2025-01-16T07:18:10.984408Z"
    }
   },
   "outputs": [
    {
     "data": {
      "text/plain": [
       "0        6.00\n",
       "1        0.00\n",
       "2        2.00\n",
       "3        2.00\n",
       "4        7.00\n",
       "         ... \n",
       "29474    3.00\n",
       "29475   18.00\n",
       "29476   11.00\n",
       "29477    5.00\n",
       "29478   20.00\n",
       "Name: age, Length: 28630, dtype: float64"
      ]
     },
     "execution_count": 105,
     "metadata": {},
     "output_type": "execute_result"
    }
   ],
   "source": [
    "# The data used for this project were scraped in 2022.\n",
    "\n",
    "df['age'] = 2022 - df['first_registration']\n",
    "\n",
    "df['age']"
   ]
  },
  {
   "cell_type": "code",
   "execution_count": 106,
   "metadata": {
    "ExecuteTime": {
     "end_time": "2025-01-16T07:18:11.005282Z",
     "start_time": "2025-01-16T07:18:10.996110Z"
    }
   },
   "outputs": [
    {
     "data": {
      "text/plain": [
       "age\n",
       "3.00       3667\n",
       "4.00       3492\n",
       "0.00       3086\n",
       "1.00       2870\n",
       "2.00       2473\n",
       "5.00       2426\n",
       "6.00       1486\n",
       "7.00       1237\n",
       "8.00        936\n",
       "9.00        703\n",
       "10.00       655\n",
       "11.00       642\n",
       "12.00       559\n",
       "15.00       492\n",
       "14.00       441\n",
       "13.00       424\n",
       "16.00       395\n",
       "17.00       287\n",
       "18.00       247\n",
       "19.00       211\n",
       "21.00       191\n",
       "20.00       187\n",
       "22.00       160\n",
       "23.00       144\n",
       "24.00        91\n",
       "25.00        81\n",
       "28.00        80\n",
       "27.00        78\n",
       "26.00        71\n",
       "31.00        62\n",
       "30.00        60\n",
       "29.00        55\n",
       "32.00        54\n",
       "56.00        41\n",
       "55.00        34\n",
       "34.00        33\n",
       "57.00        32\n",
       "49.00        29\n",
       "50.00        29\n",
       "54.00        27\n",
       "35.00        26\n",
       "44.00        23\n",
       "36.00        22\n",
       "33.00        20\n",
       "52.00        19\n",
       "51.00        18\n",
       "37.00        18\n",
       "53.00        17\n",
       "43.00        17\n",
       "39.00        16\n",
       "47.00        14\n",
       "45.00        13\n",
       "58.00        11\n",
       "46.00        11\n",
       "40.00        11\n",
       "38.00        10\n",
       "41.00         9\n",
       "59.00         9\n",
       "48.00         9\n",
       "60.00         8\n",
       "61.00         7\n",
       "42.00         6\n",
       "67.00         6\n",
       "68.00         4\n",
       "64.00         4\n",
       "65.00         4\n",
       "62.00         4\n",
       "90.00         3\n",
       "85.00         2\n",
       "63.00         2\n",
       "122.00        2\n",
       "69.00         2\n",
       "92.00         2\n",
       "NaN           2\n",
       "70.00         2\n",
       "-3.00         1\n",
       "89.00         1\n",
       "76.00         1\n",
       "66.00         1\n",
       "-1.00         1\n",
       "93.00         1\n",
       "72.00         1\n",
       "94.00         1\n",
       "-180.00       1\n",
       "Name: count, dtype: int64"
      ]
     },
     "execution_count": 106,
     "metadata": {},
     "output_type": "execute_result"
    }
   ],
   "source": [
    "df.age.value_counts(dropna=False)"
   ]
  },
  {
   "cell_type": "code",
   "execution_count": 107,
   "metadata": {
    "ExecuteTime": {
     "end_time": "2025-01-16T07:18:11.053216Z",
     "start_time": "2025-01-16T07:18:11.007826Z"
    }
   },
   "outputs": [],
   "source": [
    "df.drop([\"first_registration\", \"production_date\"], axis=1, inplace=True)"
   ]
  },
  {
   "cell_type": "code",
   "execution_count": 108,
   "metadata": {
    "ExecuteTime": {
     "end_time": "2025-01-16T07:18:11.062863Z",
     "start_time": "2025-01-16T07:18:11.056258Z"
    }
   },
   "outputs": [
    {
     "data": {
      "text/plain": [
       "(28630, 42)"
      ]
     },
     "execution_count": 108,
     "metadata": {},
     "output_type": "execute_result"
    }
   ],
   "source": [
    "df.shape"
   ]
  },
  {
   "cell_type": "markdown",
   "metadata": {},
   "source": [
    "## gearbox\n",
    "\n",
    "### 📝 Some Remarks on transmission type: \n",
    "\n",
    "- In a car trade web page, the gearbox for a car refers to the component of the vehicle's drivetrain that is responsible for transmitting power from the engine to the wheels. The gearbox, also known as the transmission, allows the driver to shift between different gears to optimize the car's speed and efficiency.\n",
    "\n",
    "- There are several types of gearboxes commonly used in cars, including manual, automatic, and continuously variable transmissions (CVT). Manual gearboxes require the driver to manually shift gears using a clutch pedal and gearshift lever, while automatic gearboxes use a hydraulic system to automatically shift gears without driver intervention. CVT gearboxes use a belt or chain to continuously vary the gear ratio to optimize performance and fuel efficiency.\n",
    "\n",
    "- The type of gearbox can affect the driving experience and performance of a car, as well as its desirability and resale value in the used car market. For example, some buyers may prefer the control and engagement of a manual gearbox, while others may prefer the convenience and ease of an automatic gearbox.\n",
    "\n",
    "- Though manual transmissions (stick shifts) have historically been slightly more fuel-efficient than automatic transmissions, they’re usually detrimental to resale value in some cultures. That’s because most drivers don’t know how to drive stick, have mobility issues that make shifting painful or difficult, or simply don’t like keeping their right hands and left feet in constant motion in stop-and-go traffic."
   ]
  },
  {
   "cell_type": "code",
   "execution_count": 109,
   "metadata": {
    "ExecuteTime": {
     "end_time": "2025-01-16T07:18:11.145864Z",
     "start_time": "2025-01-16T07:18:11.065930Z"
    }
   },
   "outputs": [
    {
     "name": "stdout",
     "output_type": "stream",
     "text": [
      "column name    :  gearbox\n",
      "--------------------------------\n",
      "per_of_nulls   :  % 0.87\n",
      "num_of_nulls   :  248\n",
      "num_of_uniques :  4\n",
      "shape_of_df    :  (28630, 42)\n",
      "--------------------------------\n",
      "gearbox\n",
      "[\\nManual\\n]            17023\n",
      "[\\nAutomatic\\n]         11287\n",
      "NaN                       248\n",
      "[\\nSemi-automatic\\n]       72\n",
      "Name: count, dtype: int64\n"
     ]
    }
   ],
   "source": [
    "first_looking(df, \"gearbox\")"
   ]
  },
  {
   "cell_type": "code",
   "execution_count": 110,
   "metadata": {
    "ExecuteTime": {
     "end_time": "2025-01-16T07:18:11.264343Z",
     "start_time": "2025-01-16T07:18:11.148915Z"
    }
   },
   "outputs": [
    {
     "data": {
      "text/plain": [
       "0           Manual\n",
       "1        Automatic\n",
       "2        Automatic\n",
       "3        Automatic\n",
       "4        Automatic\n",
       "           ...    \n",
       "29474    Automatic\n",
       "29475    Automatic\n",
       "29476       Manual\n",
       "29477    Automatic\n",
       "29478    Automatic\n",
       "Name: gearbox, Length: 28630, dtype: object"
      ]
     },
     "execution_count": 110,
     "metadata": {},
     "output_type": "execute_result"
    }
   ],
   "source": [
    "# df[\"gearbox\"].apply(lambda item: item[0] if type(item) == list else item).str.split('\\n').str[1].str.strip()\n",
    "# df['gearbox'].astype(str).str.strip(\"['\\\\n\\\\n']\")\n",
    "# df['gearbox'].explode().str.strip(\"\\n \")\n",
    "\n",
    "df['gearbox'] = df['gearbox'].astype(str).str.strip(\"['\\\\n, \\\\n']\").str.extract(\"(\\D+)\")\n",
    "\n",
    "df['gearbox']"
   ]
  },
  {
   "cell_type": "markdown",
   "metadata": {},
   "source": [
    "**There have been some anomalies taken into consideration:**"
   ]
  },
  {
   "cell_type": "code",
   "execution_count": 111,
   "metadata": {
    "ExecuteTime": {
     "end_time": "2025-01-16T07:18:11.278594Z",
     "start_time": "2025-01-16T07:18:11.267406Z"
    }
   },
   "outputs": [
    {
     "data": {
      "text/plain": [
       "gearbox\n",
       "Manual            17023\n",
       "Automatic         11287\n",
       "a                   248\n",
       "Semi-automatic       72\n",
       "Name: count, dtype: int64"
      ]
     },
     "execution_count": 111,
     "metadata": {},
     "output_type": "execute_result"
    }
   ],
   "source": [
    "df.gearbox.value_counts(dropna=False)"
   ]
  },
  {
   "cell_type": "code",
   "execution_count": 112,
   "metadata": {
    "ExecuteTime": {
     "end_time": "2025-01-16T07:18:11.291320Z",
     "start_time": "2025-01-16T07:18:11.282166Z"
    }
   },
   "outputs": [],
   "source": [
    "df['gearbox'].replace('a', np.nan, inplace=True)"
   ]
  },
  {
   "cell_type": "code",
   "execution_count": 113,
   "metadata": {
    "ExecuteTime": {
     "end_time": "2025-01-16T07:18:11.304651Z",
     "start_time": "2025-01-16T07:18:11.294368Z"
    }
   },
   "outputs": [
    {
     "data": {
      "text/plain": [
       "gearbox\n",
       "Manual            17023\n",
       "Automatic         11287\n",
       "NaN                 248\n",
       "Semi-automatic       72\n",
       "Name: count, dtype: int64"
      ]
     },
     "execution_count": 113,
     "metadata": {},
     "output_type": "execute_result"
    }
   ],
   "source": [
    "df.gearbox.value_counts(dropna=False)"
   ]
  },
  {
   "cell_type": "markdown",
   "metadata": {},
   "source": [
    "## power\n",
    "\n",
    "### 📝 Some Remarks on power:\n",
    "\n",
    "- In a car trade web page, the power for a car refers to the amount of power that the car's engine is capable of producing. The power is typically measured in units of horsepower (hp) or kilowatts (kW).\n",
    "\n",
    "- The power of a car can affect its performance, acceleration, and top speed, as well as its desirability and resale value in the used car market. Higher-powered cars typically offer better performance and may be more attractive to buyers who value speed and performance.\n",
    "\n",
    "- It is important to note that the power of a car is not the only factor that determines its performance and driving experience. Other factors such as the car's weight, aerodynamics, and drivetrain also play a significant role in determining how the car handles and performs on the road."
   ]
  },
  {
   "cell_type": "code",
   "execution_count": 114,
   "metadata": {
    "ExecuteTime": {
     "end_time": "2025-01-16T07:18:11.523074Z",
     "start_time": "2025-01-16T07:18:11.307703Z"
    }
   },
   "outputs": [
    {
     "name": "stdout",
     "output_type": "stream",
     "text": [
      "column name    :  power\n",
      "--------------------------------\n",
      "per_of_nulls   :  % 2.0\n",
      "num_of_nulls   :  572\n",
      "num_of_uniques :  352\n",
      "shape_of_df    :  (28630, 42)\n",
      "--------------------------------\n",
      "power\n",
      "[\\n110 kW (150 hp)\\n]      1992\n",
      "[\\n96 kW (131 hp)\\n]       1356\n",
      "[\\n88 kW (120 hp)\\n]       1182\n",
      "[\\n81 kW (110 hp)\\n]       1166\n",
      "[\\n66 kW (90 hp)\\n]        1110\n",
      "                           ... \n",
      "[\\n746 kW (1,014 hp)\\n]       1\n",
      "[\\n570 kW (775 hp)\\n]         1\n",
      "[\\n471 kW (640 hp)\\n]         1\n",
      "[\\n179 kW (243 hp)\\n]         1\n",
      "[\\n26 kW (35 hp)\\n]           1\n",
      "Name: count, Length: 352, dtype: int64\n"
     ]
    }
   ],
   "source": [
    "first_looking(df, \"power\")"
   ]
  },
  {
   "cell_type": "code",
   "execution_count": 115,
   "metadata": {
    "ExecuteTime": {
     "end_time": "2025-01-16T07:18:11.749771Z",
     "start_time": "2025-01-16T07:18:11.526127Z"
    }
   },
   "outputs": [
    {
     "data": {
      "text/html": [
       "<div>\n",
       "<style scoped>\n",
       "    .dataframe tbody tr th:only-of-type {\n",
       "        vertical-align: middle;\n",
       "    }\n",
       "\n",
       "    .dataframe tbody tr th {\n",
       "        vertical-align: top;\n",
       "    }\n",
       "\n",
       "    .dataframe thead th {\n",
       "        text-align: right;\n",
       "    }\n",
       "</style>\n",
       "<table border=\"1\" class=\"dataframe\">\n",
       "  <thead>\n",
       "    <tr style=\"text-align: right;\">\n",
       "      <th></th>\n",
       "      <th>make_model</th>\n",
       "      <th>short_description</th>\n",
       "      <th>make</th>\n",
       "      <th>model</th>\n",
       "      <th>location</th>\n",
       "      <th>price</th>\n",
       "      <th>body_type</th>\n",
       "      <th>type</th>\n",
       "      <th>doors</th>\n",
       "      <th>warranty</th>\n",
       "      <th>mileage</th>\n",
       "      <th>gearbox</th>\n",
       "      <th>fuel_type</th>\n",
       "      <th>colour</th>\n",
       "      <th>paint</th>\n",
       "      <th>seller</th>\n",
       "      <th>seats</th>\n",
       "      <th>power</th>\n",
       "      <th>engine_size</th>\n",
       "      <th>gears</th>\n",
       "      <th>co_emissions</th>\n",
       "      <th>manufacturer_colour</th>\n",
       "      <th>drivetrain</th>\n",
       "      <th>cylinders</th>\n",
       "      <th>fuel_consumption</th>\n",
       "      <th>comfort_convenience</th>\n",
       "      <th>entertainment_media</th>\n",
       "      <th>safety_security</th>\n",
       "      <th>extras</th>\n",
       "      <th>empty_weight</th>\n",
       "      <th>model_code</th>\n",
       "      <th>general_inspection</th>\n",
       "      <th>full_service_history</th>\n",
       "      <th>non_smoker_vehicle</th>\n",
       "      <th>emission_class</th>\n",
       "      <th>emissions_sticker</th>\n",
       "      <th>upholstery_colour</th>\n",
       "      <th>upholstery</th>\n",
       "      <th>previous_owner</th>\n",
       "      <th>energy_efficiency_class</th>\n",
       "      <th>co_efficiency</th>\n",
       "      <th>age</th>\n",
       "      <th>power_kW</th>\n",
       "      <th>power_hp</th>\n",
       "    </tr>\n",
       "  </thead>\n",
       "  <tbody>\n",
       "    <tr>\n",
       "      <th>0</th>\n",
       "      <td>Mercedes-Benz A 160</td>\n",
       "      <td>CDi</td>\n",
       "      <td>Mercedes-Benz</td>\n",
       "      <td>A 160</td>\n",
       "      <td>P.I. EL PALMAR C/FORJA 6,  11500 PUERTO DE SAN...</td>\n",
       "      <td>16950.00</td>\n",
       "      <td>Compact</td>\n",
       "      <td>Used</td>\n",
       "      <td>5.00</td>\n",
       "      <td>24.00</td>\n",
       "      <td>120200.00</td>\n",
       "      <td>Manual</td>\n",
       "      <td>Diesel</td>\n",
       "      <td>Black</td>\n",
       "      <td>Metallic</td>\n",
       "      <td>Dealer</td>\n",
       "      <td>NaN</td>\n",
       "      <td>NaN</td>\n",
       "      <td>NaN</td>\n",
       "      <td>NaN</td>\n",
       "      <td>NaN</td>\n",
       "      <td>NaN</td>\n",
       "      <td>NaN</td>\n",
       "      <td>NaN</td>\n",
       "      <td>NaN</td>\n",
       "      <td>NaN</td>\n",
       "      <td>NaN</td>\n",
       "      <td>NaN</td>\n",
       "      <td>NaN</td>\n",
       "      <td>NaN</td>\n",
       "      <td>NaN</td>\n",
       "      <td>NaN</td>\n",
       "      <td>NaN</td>\n",
       "      <td>NaN</td>\n",
       "      <td>NaN</td>\n",
       "      <td>NaN</td>\n",
       "      <td>NaN</td>\n",
       "      <td>NaN</td>\n",
       "      <td>NaN</td>\n",
       "      <td>NaN</td>\n",
       "      <td>NaN</td>\n",
       "      <td>6.00</td>\n",
       "      <td>NaN</td>\n",
       "      <td>NaN</td>\n",
       "    </tr>\n",
       "    <tr>\n",
       "      <th>1</th>\n",
       "      <td>Mercedes-Benz EQE 350</td>\n",
       "      <td>350+</td>\n",
       "      <td>Mercedes-Benz</td>\n",
       "      <td>EQE 350</td>\n",
       "      <td>APARTADO DE CORREOS 1032,  26140 LOGROÑO, ES</td>\n",
       "      <td>80900.00</td>\n",
       "      <td>Compact</td>\n",
       "      <td>Pre-registered</td>\n",
       "      <td>4.00</td>\n",
       "      <td>24.00</td>\n",
       "      <td>5000.00</td>\n",
       "      <td>Automatic</td>\n",
       "      <td>Electric</td>\n",
       "      <td>NaN</td>\n",
       "      <td>NaN</td>\n",
       "      <td>Dealer</td>\n",
       "      <td>[\\n, 5, \\n]</td>\n",
       "      <td>[\\n215 kW (292 hp)\\n]</td>\n",
       "      <td>[\\n1 cc\\n]</td>\n",
       "      <td>[\\n9\\n]</td>\n",
       "      <td>0 g/km (comb.)</td>\n",
       "      <td>Negro Obsidiana</td>\n",
       "      <td>NaN</td>\n",
       "      <td>NaN</td>\n",
       "      <td>NaN</td>\n",
       "      <td>NaN</td>\n",
       "      <td>NaN</td>\n",
       "      <td>NaN</td>\n",
       "      <td>NaN</td>\n",
       "      <td>NaN</td>\n",
       "      <td>NaN</td>\n",
       "      <td>NaN</td>\n",
       "      <td>NaN</td>\n",
       "      <td>NaN</td>\n",
       "      <td>NaN</td>\n",
       "      <td>NaN</td>\n",
       "      <td>NaN</td>\n",
       "      <td>NaN</td>\n",
       "      <td>NaN</td>\n",
       "      <td>NaN</td>\n",
       "      <td>NaN</td>\n",
       "      <td>0.00</td>\n",
       "      <td>215.00</td>\n",
       "      <td>292.00</td>\n",
       "    </tr>\n",
       "    <tr>\n",
       "      <th>2</th>\n",
       "      <td>Mercedes-Benz A 45 AMG</td>\n",
       "      <td>S 4Matic+ 8G-DCT</td>\n",
       "      <td>Mercedes-Benz</td>\n",
       "      <td>A 45 AMG</td>\n",
       "      <td>PORT. TARRACO, MOLL DE LLEVANT, Nº 5, LOC. 6-8...</td>\n",
       "      <td>69900.00</td>\n",
       "      <td>Compact</td>\n",
       "      <td>Used</td>\n",
       "      <td>5.00</td>\n",
       "      <td>12.00</td>\n",
       "      <td>18900.00</td>\n",
       "      <td>Automatic</td>\n",
       "      <td>Gasoline</td>\n",
       "      <td>Grey</td>\n",
       "      <td>NaN</td>\n",
       "      <td>Dealer</td>\n",
       "      <td>[\\n, 5, \\n]</td>\n",
       "      <td>[\\n310 kW (421 hp)\\n]</td>\n",
       "      <td>[\\n1,991 cc\\n]</td>\n",
       "      <td>[\\n8\\n]</td>\n",
       "      <td>NaN</td>\n",
       "      <td>Mountaingrau magno</td>\n",
       "      <td>[\\n, 4WD, \\n]</td>\n",
       "      <td>[\\n4\\n]</td>\n",
       "      <td>[[8.4 l/100 km (comb.)], [10.9 l/100 km (city)...</td>\n",
       "      <td>NaN</td>\n",
       "      <td>NaN</td>\n",
       "      <td>NaN</td>\n",
       "      <td>NaN</td>\n",
       "      <td>NaN</td>\n",
       "      <td>NaN</td>\n",
       "      <td>NaN</td>\n",
       "      <td>NaN</td>\n",
       "      <td>NaN</td>\n",
       "      <td>NaN</td>\n",
       "      <td>NaN</td>\n",
       "      <td>NaN</td>\n",
       "      <td>NaN</td>\n",
       "      <td>NaN</td>\n",
       "      <td>NaN</td>\n",
       "      <td>NaN</td>\n",
       "      <td>2.00</td>\n",
       "      <td>310.00</td>\n",
       "      <td>421.00</td>\n",
       "    </tr>\n",
       "  </tbody>\n",
       "</table>\n",
       "</div>"
      ],
      "text/plain": [
       "               make_model short_description           make     model  \\\n",
       "0     Mercedes-Benz A 160               CDi  Mercedes-Benz     A 160   \n",
       "1   Mercedes-Benz EQE 350              350+  Mercedes-Benz   EQE 350   \n",
       "2  Mercedes-Benz A 45 AMG  S 4Matic+ 8G-DCT  Mercedes-Benz  A 45 AMG   \n",
       "\n",
       "                                            location    price body_type  \\\n",
       "0  P.I. EL PALMAR C/FORJA 6,  11500 PUERTO DE SAN... 16950.00   Compact   \n",
       "1       APARTADO DE CORREOS 1032,  26140 LOGROÑO, ES 80900.00   Compact   \n",
       "2  PORT. TARRACO, MOLL DE LLEVANT, Nº 5, LOC. 6-8... 69900.00   Compact   \n",
       "\n",
       "             type  doors  warranty   mileage    gearbox fuel_type colour  \\\n",
       "0            Used   5.00     24.00 120200.00     Manual    Diesel  Black   \n",
       "1  Pre-registered   4.00     24.00   5000.00  Automatic  Electric    NaN   \n",
       "2            Used   5.00     12.00  18900.00  Automatic  Gasoline   Grey   \n",
       "\n",
       "      paint  seller        seats                  power     engine_size  \\\n",
       "0  Metallic  Dealer          NaN                    NaN             NaN   \n",
       "1       NaN  Dealer  [\\n, 5, \\n]  [\\n215 kW (292 hp)\\n]      [\\n1 cc\\n]   \n",
       "2       NaN  Dealer  [\\n, 5, \\n]  [\\n310 kW (421 hp)\\n]  [\\n1,991 cc\\n]   \n",
       "\n",
       "     gears    co_emissions manufacturer_colour     drivetrain cylinders  \\\n",
       "0      NaN             NaN                 NaN            NaN       NaN   \n",
       "1  [\\n9\\n]  0 g/km (comb.)     Negro Obsidiana            NaN       NaN   \n",
       "2  [\\n8\\n]             NaN  Mountaingrau magno  [\\n, 4WD, \\n]   [\\n4\\n]   \n",
       "\n",
       "                                    fuel_consumption comfort_convenience  \\\n",
       "0                                                NaN                 NaN   \n",
       "1                                                NaN                 NaN   \n",
       "2  [[8.4 l/100 km (comb.)], [10.9 l/100 km (city)...                 NaN   \n",
       "\n",
       "  entertainment_media safety_security extras empty_weight model_code  \\\n",
       "0                 NaN             NaN    NaN          NaN        NaN   \n",
       "1                 NaN             NaN    NaN          NaN        NaN   \n",
       "2                 NaN             NaN    NaN          NaN        NaN   \n",
       "\n",
       "  general_inspection full_service_history non_smoker_vehicle emission_class  \\\n",
       "0                NaN                  NaN                NaN            NaN   \n",
       "1                NaN                  NaN                NaN            NaN   \n",
       "2                NaN                  NaN                NaN            NaN   \n",
       "\n",
       "  emissions_sticker upholstery_colour upholstery previous_owner  \\\n",
       "0               NaN               NaN        NaN            NaN   \n",
       "1               NaN               NaN        NaN            NaN   \n",
       "2               NaN               NaN        NaN            NaN   \n",
       "\n",
       "  energy_efficiency_class co_efficiency  age  power_kW  power_hp  \n",
       "0                     NaN           NaN 6.00       NaN       NaN  \n",
       "1                     NaN           NaN 0.00    215.00    292.00  \n",
       "2                     NaN           NaN 2.00    310.00    421.00  "
      ]
     },
     "execution_count": 115,
     "metadata": {},
     "output_type": "execute_result"
    }
   ],
   "source": [
    "df[['power_kW', 'power_hp']] = df[\"power\"].apply(lambda item: item[0] if type(item) == list else item)\\\n",
    "                              .str.extract(r'\\D*(?P<kW>\\d+)\\D+(?P<hp>\\d+)').astype(float)\n",
    "\n",
    "df.head(3)"
   ]
  },
  {
   "cell_type": "code",
   "execution_count": 116,
   "metadata": {
    "ExecuteTime": {
     "end_time": "2025-01-16T07:18:11.777372Z",
     "start_time": "2025-01-16T07:18:11.753335Z"
    }
   },
   "outputs": [
    {
     "data": {
      "text/plain": [
       "power_kW\n",
       "110.00    1992\n",
       "96.00     1356\n",
       "88.00     1182\n",
       "81.00     1166\n",
       "66.00     1110\n",
       "          ... \n",
       "746.00       1\n",
       "570.00       1\n",
       "471.00       1\n",
       "179.00       1\n",
       "26.00        1\n",
       "Name: count, Length: 352, dtype: int64"
      ]
     },
     "execution_count": 116,
     "metadata": {},
     "output_type": "execute_result"
    }
   ],
   "source": [
    "df.power_kW.value_counts(dropna=False)"
   ]
  },
  {
   "cell_type": "code",
   "execution_count": 117,
   "metadata": {
    "ExecuteTime": {
     "end_time": "2025-01-16T07:18:11.790128Z",
     "start_time": "2025-01-16T07:18:11.780970Z"
    }
   },
   "outputs": [
    {
     "data": {
      "text/plain": [
       "power_hp\n",
       "150.00    1992\n",
       "131.00    1356\n",
       "120.00    1182\n",
       "110.00    1166\n",
       "90.00     1110\n",
       "          ... \n",
       "465.00       1\n",
       "412.00       1\n",
       "670.00       1\n",
       "506.00       1\n",
       "33.00        1\n",
       "Name: count, Length: 348, dtype: int64"
      ]
     },
     "execution_count": 117,
     "metadata": {},
     "output_type": "execute_result"
    }
   ],
   "source": [
    "df.power_hp.value_counts(dropna=False)"
   ]
  },
  {
   "cell_type": "code",
   "execution_count": 118,
   "metadata": {
    "ExecuteTime": {
     "end_time": "2025-01-16T07:18:11.805425Z",
     "start_time": "2025-01-16T07:18:11.793185Z"
    }
   },
   "outputs": [
    {
     "data": {
      "text/plain": [
       "(28630, 44)"
      ]
     },
     "execution_count": 118,
     "metadata": {},
     "output_type": "execute_result"
    }
   ],
   "source": [
    "df.shape"
   ]
  },
  {
   "cell_type": "code",
   "execution_count": 119,
   "metadata": {
    "ExecuteTime": {
     "end_time": "2025-01-16T07:18:11.864517Z",
     "start_time": "2025-01-16T07:18:11.812051Z"
    }
   },
   "outputs": [],
   "source": [
    "df.drop('power', axis=1, inplace=True)"
   ]
  },
  {
   "cell_type": "code",
   "execution_count": 120,
   "metadata": {
    "ExecuteTime": {
     "end_time": "2025-01-16T07:18:11.903793Z",
     "start_time": "2025-01-16T07:18:11.897171Z"
    }
   },
   "outputs": [
    {
     "data": {
      "text/plain": [
       "(28630, 43)"
      ]
     },
     "execution_count": 120,
     "metadata": {},
     "output_type": "execute_result"
    }
   ],
   "source": [
    "df.shape"
   ]
  },
  {
   "cell_type": "markdown",
   "metadata": {},
   "source": [
    "## fuel_type\n",
    "\n",
    "### 📝 Some Remarks on fuel type:\n",
    "\n",
    "- Another key factor affecting used car prices is fuel economy. Efficient vehicles tend to hold their value better when gas prices are high, while less efficient vehicles (which typically have more cargo space and higher safety ratings) do better when gas is cheap.\n",
    "\n",
    "- In a car trade web page, the fuel type for a car refers to the type of fuel that the car's engine is designed to use. The most common fuel types used in cars are gasoline (petrol), diesel, and electric.\n",
    "\n",
    "- Gasoline-powered cars use a spark-ignition engine that runs on gasoline, while diesel-powered cars use a compression-ignition engine that runs on diesel fuel. Electric cars use an electric motor powered by a battery that is charged by plugging the car into an electrical outlet or a charging station.\n",
    "\n",
    "- The fuel type can affect the performance, efficiency, and environmental impact of a car, as well as its desirability and resale value in the used car market. For example, some buyers may prefer the efficiency and lower emissions of a diesel or electric car, while others may prefer the power and performance of a gasoline-powered car."
   ]
  },
  {
   "cell_type": "code",
   "execution_count": 121,
   "metadata": {
    "ExecuteTime": {
     "end_time": "2025-01-16T07:18:11.941090Z",
     "start_time": "2025-01-16T07:18:11.907360Z"
    }
   },
   "outputs": [
    {
     "name": "stdout",
     "output_type": "stream",
     "text": [
      "column name    :  fuel_type\n",
      "--------------------------------\n",
      "per_of_nulls   :  % 6.24\n",
      "num_of_nulls   :  1787\n",
      "num_of_uniques :  47\n",
      "shape_of_df    :  (28630, 43)\n",
      "--------------------------------\n",
      "fuel_type\n",
      "Gasoline                                                                                              8532\n",
      "Diesel                                                                                                5911\n",
      "Super 95                                                                                              3557\n",
      "Diesel (Particle filter)                                                                              2816\n",
      "Regular/Benzine 91                                                                                    2065\n",
      "NaN                                                                                                   1787\n",
      "Super E10 95                                                                                          1016\n",
      "Regular/Benzine 91 (Particle filter)                                                                   555\n",
      "Super 95 (Particle filter)                                                                             537\n",
      "Super E10 95 (Particle filter)                                                                         324\n",
      "Regular/Benzine E10 91                                                                                 278\n",
      "Others                                                                                                 197\n",
      "Gasoline (Particle filter)                                                                             196\n",
      "Electric                                                                                               185\n",
      "Super Plus 98                                                                                          170\n",
      "Liquid petroleum gas (LPG)                                                                             148\n",
      "CNG                                                                                                     87\n",
      "LPG                                                                                                     73\n",
      "Super Plus E10 98                                                                                       42\n",
      "Super Plus E10 98 (Particle filter)                                                                     35\n",
      "Domestic gas H                                                                                          24\n",
      "Others (Particle filter)                                                                                16\n",
      "Super Plus 98 (Particle filter)                                                                         15\n",
      "Domestic gas L                                                                                          10\n",
      "CNG (Particle filter)                                                                                    8\n",
      "Regular/Benzine E10 91 (Particle filter)                                                                 8\n",
      "LPG (Particle filter)                                                                                    4\n",
      "Hydrogen                                                                                                 3\n",
      "Ethanol                                                                                                  3\n",
      "Electric (Particle filter)                                                                               3\n",
      "Liquid petroleum gas (LPG) (Particle filter) / Super 95 / Super E10 95                                   3\n",
      "Liquid petroleum gas (LPG) / Super 95 / Super Plus 98 / Super Plus E10 98 / Super E10 95                 2\n",
      "Liquid petroleum gas (LPG) / Super 95 / Super E10 95                                                     2\n",
      "Domestic gas L (Particle filter)                                                                         2\n",
      "Liquid petroleum gas (LPG) (Particle filter)                                                             2\n",
      "Liquid petroleum gas (LPG) / Super 95                                                                    2\n",
      "Liquid petroleum gas (LPG) / Super 95 / Super E10 95 / Super Plus 98                                     2\n",
      "Liquid petroleum gas (LPG) / Super 95 / Super Plus 98                                                    1\n",
      "Super 95 (Particle filter) / Super E10 95 / Ethanol                                                      1\n",
      "Liquid petroleum gas (LPG) / Super E10 95 / Super Plus E10 98 / Super Plus 98 / Super 95                 1\n",
      "Liquid petroleum gas (LPG) / Super E10 95                                                                1\n",
      "Biogas                                                                                                   1\n",
      "Super 95 / Super Plus 98 / Liquid petroleum gas (LPG)                                                    1\n",
      "Domestic gas L / Super 95 / Domestic gas H                                                               1\n",
      "Domestic gas H / Super E10 95 / Super Plus E10 98 / Super 95 / Super Plus 98 / Domestic gas L            1\n",
      "Liquid petroleum gas (LPG) / Super E10 95 / Regular/Benzine 91 / Super 95 / Super Plus 98 / Biogas       1\n",
      "Super 95 / Liquid petroleum gas (LPG)                                                                    1\n",
      "Name: count, dtype: int64\n"
     ]
    }
   ],
   "source": [
    "first_looking(df, \"fuel_type\")"
   ]
  },
  {
   "cell_type": "markdown",
   "metadata": {},
   "source": [
    "<div style=\"background-color: #f8e57d; padding: 10px; font-size: 14px;\">\n",
    "There are many different fuel types in the fuel type column, far beyond our expectations.\n",
    "</div>"
   ]
  },
  {
   "cell_type": "code",
   "execution_count": 122,
   "metadata": {
    "ExecuteTime": {
     "end_time": "2025-01-16T07:18:12.029335Z",
     "start_time": "2025-01-16T07:18:11.944138Z"
    }
   },
   "outputs": [
    {
     "data": {
      "text/plain": [
       "fuel_type\n",
       "[Gasoline]                                                                                                    8532\n",
       "[Diesel]                                                                                                      5911\n",
       "[Super 95]                                                                                                    3557\n",
       "[Diesel (Particle filter)]                                                                                    2816\n",
       "[Regular, Benzine 91]                                                                                         2065\n",
       "NaN                                                                                                           1787\n",
       "[Super E10 95]                                                                                                1016\n",
       "[Regular, Benzine 91 (Particle filter)]                                                                        555\n",
       "[Super 95 (Particle filter)]                                                                                   537\n",
       "[Super E10 95 (Particle filter)]                                                                               324\n",
       "[Regular, Benzine E10 91]                                                                                      278\n",
       "[Others]                                                                                                       197\n",
       "[Gasoline (Particle filter)]                                                                                   196\n",
       "[Electric]                                                                                                     185\n",
       "[Super Plus 98]                                                                                                170\n",
       "[Liquid petroleum gas (LPG)]                                                                                   148\n",
       "[CNG]                                                                                                           87\n",
       "[LPG]                                                                                                           73\n",
       "[Super Plus E10 98]                                                                                             42\n",
       "[Super Plus E10 98 (Particle filter)]                                                                           35\n",
       "[Domestic gas H]                                                                                                24\n",
       "[Others (Particle filter)]                                                                                      16\n",
       "[Super Plus 98 (Particle filter)]                                                                               15\n",
       "[Domestic gas L]                                                                                                10\n",
       "[CNG (Particle filter)]                                                                                          8\n",
       "[Regular, Benzine E10 91 (Particle filter)]                                                                      8\n",
       "[LPG (Particle filter)]                                                                                          4\n",
       "[Hydrogen]                                                                                                       3\n",
       "[Ethanol]                                                                                                        3\n",
       "[Electric (Particle filter)]                                                                                     3\n",
       "[Liquid petroleum gas (LPG) (Particle filter) ,  Super 95 ,  Super E10 95]                                       3\n",
       "[Liquid petroleum gas (LPG) ,  Super 95 ,  Super Plus 98 ,  Super Plus E10 98 ,  Super E10 95]                   2\n",
       "[Liquid petroleum gas (LPG) ,  Super 95 ,  Super E10 95]                                                         2\n",
       "[Domestic gas L (Particle filter)]                                                                               2\n",
       "[Liquid petroleum gas (LPG) (Particle filter)]                                                                   2\n",
       "[Liquid petroleum gas (LPG) ,  Super 95]                                                                         2\n",
       "[Liquid petroleum gas (LPG) ,  Super 95 ,  Super E10 95 ,  Super Plus 98]                                        2\n",
       "[Liquid petroleum gas (LPG) ,  Super 95 ,  Super Plus 98]                                                        1\n",
       "[Super 95 (Particle filter) ,  Super E10 95 ,  Ethanol]                                                          1\n",
       "[Liquid petroleum gas (LPG) ,  Super E10 95 ,  Super Plus E10 98 ,  Super Plus 98 ,  Super 95]                   1\n",
       "[Liquid petroleum gas (LPG) ,  Super E10 95]                                                                     1\n",
       "[Biogas]                                                                                                         1\n",
       "[Super 95 ,  Super Plus 98 ,  Liquid petroleum gas (LPG)]                                                        1\n",
       "[Domestic gas L ,  Super 95 ,  Domestic gas H]                                                                   1\n",
       "[Domestic gas H ,  Super E10 95 ,  Super Plus E10 98 ,  Super 95 ,  Super Plus 98 ,  Domestic gas L]             1\n",
       "[Liquid petroleum gas (LPG) ,  Super E10 95 ,  Regular, Benzine 91 ,  Super 95 ,  Super Plus 98 ,  Biogas]       1\n",
       "[Super 95 ,  Liquid petroleum gas (LPG)]                                                                         1\n",
       "Name: count, dtype: int64"
      ]
     },
     "execution_count": 122,
     "metadata": {},
     "output_type": "execute_result"
    }
   ],
   "source": [
    "df[\"fuel_type\"].str.split(\"/\").value_counts(dropna=False)"
   ]
  },
  {
   "cell_type": "code",
   "execution_count": 123,
   "metadata": {
    "ExecuteTime": {
     "end_time": "2025-01-16T07:18:12.115991Z",
     "start_time": "2025-01-16T07:18:12.032890Z"
    }
   },
   "outputs": [
    {
     "data": {
      "text/plain": [
       "0                          Diesel\n",
       "1                        Electric\n",
       "2                        Gasoline\n",
       "3                        Gasoline\n",
       "4                          Diesel\n",
       "                   ...           \n",
       "29474                         NaN\n",
       "29475                    Gasoline\n",
       "29476    Diesel (Particle filter)\n",
       "29477                    Gasoline\n",
       "29478                    Super 95\n",
       "Name: fuel_type, Length: 28630, dtype: object"
      ]
     },
     "execution_count": 123,
     "metadata": {},
     "output_type": "execute_result"
    }
   ],
   "source": [
    "df[\"fuel_type\"] = df[\"fuel_type\"].str.split(\"/\").str[0].str.strip()\n",
    "\n",
    "df[\"fuel_type\"]"
   ]
  },
  {
   "cell_type": "code",
   "execution_count": 124,
   "metadata": {
    "ExecuteTime": {
     "end_time": "2025-01-16T07:18:12.204148Z",
     "start_time": "2025-01-16T07:18:12.119045Z"
    }
   },
   "outputs": [
    {
     "data": {
      "text/plain": [
       "0          Diesel\n",
       "1        Electric\n",
       "2        Gasoline\n",
       "3        Gasoline\n",
       "4          Diesel\n",
       "           ...   \n",
       "29474         NaN\n",
       "29475    Gasoline\n",
       "29476      Diesel\n",
       "29477    Gasoline\n",
       "29478    Super 95\n",
       "Name: fuel_type, Length: 28630, dtype: object"
      ]
     },
     "execution_count": 124,
     "metadata": {},
     "output_type": "execute_result"
    }
   ],
   "source": [
    "df[\"fuel_type\"] = df[\"fuel_type\"].str.split(\"(\").str[0].str.strip()\n",
    "\n",
    "df[\"fuel_type\"]"
   ]
  },
  {
   "cell_type": "code",
   "execution_count": 125,
   "metadata": {
    "ExecuteTime": {
     "end_time": "2025-01-16T07:18:12.219920Z",
     "start_time": "2025-01-16T07:18:12.207207Z"
    }
   },
   "outputs": [
    {
     "data": {
      "text/plain": [
       "fuel_type\n",
       "Gasoline                8728\n",
       "Diesel                  8727\n",
       "Super 95                4097\n",
       "Regular                 2906\n",
       "NaN                     1787\n",
       "Super E10 95            1340\n",
       "Others                   213\n",
       "Electric                 188\n",
       "Super Plus 98            185\n",
       "Liquid petroleum gas     165\n",
       "CNG                       95\n",
       "Super Plus E10 98         77\n",
       "LPG                       77\n",
       "Domestic gas H            25\n",
       "Domestic gas L            13\n",
       "Ethanol                    3\n",
       "Hydrogen                   3\n",
       "Biogas                     1\n",
       "Name: count, dtype: int64"
      ]
     },
     "execution_count": 125,
     "metadata": {},
     "output_type": "execute_result"
    }
   ],
   "source": [
    "df['fuel_type'].value_counts(dropna=False)"
   ]
  },
  {
   "cell_type": "markdown",
   "metadata": {},
   "source": [
    "<div style=\"background-color: lightgreen; padding: 10px; font-size: 14px;\">\n",
    "We create a user-defined function to reduce the number of fuel types that are too diverse in our dataset.\n",
    "</div>"
   ]
  },
  {
   "cell_type": "code",
   "execution_count": 126,
   "metadata": {
    "ExecuteTime": {
     "end_time": "2025-01-16T07:18:12.246545Z",
     "start_time": "2025-01-16T07:18:12.222596Z"
    }
   },
   "outputs": [],
   "source": [
    "benzine = [\"Gasoline\", \"Super 95\", \"Regular\", \"Super E10 95\", \"Super Plus 98\", \"Super Plus E10 98\", \"Others\", \"Ethanol\"]\n",
    "petroleum_gas = [\"Liquid petroleum gas\", \"CNG\", \"LPG\", \"Domestic gas H\", \"Domestic gas L\", \"Biogas\", \"Hydrogen\"]\n",
    "\n",
    "def fueltype(x):\n",
    "    if x in benzine:\n",
    "        return \"Benzine\"\n",
    "    elif x in petroleum_gas:\n",
    "        return \"Liquid/Natural Gas\"\n",
    "    else:\n",
    "        return x\n",
    "\n",
    "df[\"fuel_type\"] = df[\"fuel_type\"].apply(fueltype)"
   ]
  },
  {
   "cell_type": "code",
   "execution_count": 127,
   "metadata": {
    "ExecuteTime": {
     "end_time": "2025-01-16T07:18:12.260308Z",
     "start_time": "2025-01-16T07:18:12.249593Z"
    }
   },
   "outputs": [
    {
     "data": {
      "text/plain": [
       "fuel_type\n",
       "Benzine               17549\n",
       "Diesel                 8727\n",
       "NaN                    1787\n",
       "Liquid/Natural Gas      379\n",
       "Electric                188\n",
       "Name: count, dtype: int64"
      ]
     },
     "execution_count": 127,
     "metadata": {},
     "output_type": "execute_result"
    }
   ],
   "source": [
    "df['fuel_type'].value_counts(dropna=False)"
   ]
  },
  {
   "cell_type": "markdown",
   "metadata": {},
   "source": [
    "## colour\n",
    "\n",
    "### 📝 Some Remarks on car colour:\n",
    "\n",
    "- Car colour (some cars may have limited edition colours): Popular colours usually garner more attention from potential buyers and therefore are easier to sell. Some cars may come in limited edition colours, which can be difficult to sell; however, these cars usually find a higher than usual price when successfully sold.\n",
    "\n",
    "- In a car trade web page, the car colour for a car refers to the exterior colour of the vehicle. The colour of a car can vary widely, from traditional colours such as black, white, and silver to more unique and custom colours such as blue, red, green, or even multi-colored or metallic finishes.\n",
    "\n",
    "- The car colour can affect the appearance and style of a car, as well as its desirability and resale value in the used car market. For example, some buyers may prefer classic colours such as black or white, while others may prefer more unique or bold colours that stand out on the road."
   ]
  },
  {
   "cell_type": "code",
   "execution_count": 128,
   "metadata": {
    "ExecuteTime": {
     "end_time": "2025-01-16T07:18:12.291547Z",
     "start_time": "2025-01-16T07:18:12.263361Z"
    }
   },
   "outputs": [
    {
     "name": "stdout",
     "output_type": "stream",
     "text": [
      "column name    :  colour\n",
      "--------------------------------\n",
      "per_of_nulls   :  % 6.02\n",
      "num_of_nulls   :  1724\n",
      "num_of_uniques :  15\n",
      "shape_of_df    :  (28630, 43)\n",
      "--------------------------------\n",
      "colour\n",
      "Black     6473\n",
      "Grey      5998\n",
      "White     5185\n",
      "Blue      3478\n",
      "Red       2242\n",
      "NaN       1724\n",
      "Silver    1622\n",
      "Green      450\n",
      "Brown      437\n",
      "Orange     288\n",
      "Beige      278\n",
      "Yellow     230\n",
      "Violet      98\n",
      "Bronze      65\n",
      "Gold        62\n",
      "Name: count, dtype: int64\n"
     ]
    }
   ],
   "source": [
    "first_looking(df, \"colour\")"
   ]
  },
  {
   "cell_type": "markdown",
   "metadata": {},
   "source": [
    "## manufacturer_colour\n",
    "\n",
    "### 📝 Some Remarks on manufacturer colour:\n",
    "\n",
    "- When a car is produced by a manufacturer, the exterior is painted in a specific color or colors that are part of the manufacturer's standard color palette. These colors are often referred to as the \"factory\" or \"manufacturer\" colors. The exact color options available for a particular make and model of car can vary depending on the year of production and the specific trim level or package."
   ]
  },
  {
   "cell_type": "code",
   "execution_count": 129,
   "metadata": {
    "ExecuteTime": {
     "end_time": "2025-01-16T07:18:12.332783Z",
     "start_time": "2025-01-16T07:18:12.294088Z"
    }
   },
   "outputs": [
    {
     "name": "stdout",
     "output_type": "stream",
     "text": [
      "column name    :  manufacturer_colour\n",
      "--------------------------------\n",
      "per_of_nulls   :  % 23.9\n",
      "num_of_nulls   :  6843\n",
      "num_of_uniques :  4964\n",
      "shape_of_df    :  (28630, 43)\n",
      "--------------------------------\n",
      "manufacturer_colour\n",
      "NaN                               6843\n",
      "Blanco                            1235\n",
      "Gris                               671\n",
      "Azul                               552\n",
      "Negro                              546\n",
      "                                  ... \n",
      "Colore esterno (snowflake whit       1\n",
      "Pompeigraumetallic                   1\n",
      "Cararragrau                          1\n",
      "ICE WHITE (wit metallic)             1\n",
      "Denim Blue metallic (blauw met       1\n",
      "Name: count, Length: 4964, dtype: int64\n"
     ]
    }
   ],
   "source": [
    "first_looking(df, \"manufacturer_colour\")"
   ]
  },
  {
   "cell_type": "markdown",
   "metadata": {},
   "source": [
    "**Let's check the compatibility of the values in the ``colour``with the ones in the ``manufacturer_colour`` column:**"
   ]
  },
  {
   "cell_type": "code",
   "execution_count": 130,
   "metadata": {
    "ExecuteTime": {
     "end_time": "2025-01-16T07:18:12.354678Z",
     "start_time": "2025-01-16T07:18:12.336345Z"
    }
   },
   "outputs": [
    {
     "data": {
      "text/html": [
       "<div>\n",
       "<style scoped>\n",
       "    .dataframe tbody tr th:only-of-type {\n",
       "        vertical-align: middle;\n",
       "    }\n",
       "\n",
       "    .dataframe tbody tr th {\n",
       "        vertical-align: top;\n",
       "    }\n",
       "\n",
       "    .dataframe thead th {\n",
       "        text-align: right;\n",
       "    }\n",
       "</style>\n",
       "<table border=\"1\" class=\"dataframe\">\n",
       "  <thead>\n",
       "    <tr style=\"text-align: right;\">\n",
       "      <th></th>\n",
       "      <th>colour</th>\n",
       "      <th>manufacturer_colour</th>\n",
       "    </tr>\n",
       "  </thead>\n",
       "  <tbody>\n",
       "    <tr>\n",
       "      <th>23290</th>\n",
       "      <td>Black</td>\n",
       "      <td>Obsidian-schwarz metallic</td>\n",
       "    </tr>\n",
       "    <tr>\n",
       "      <th>29318</th>\n",
       "      <td>Grey</td>\n",
       "      <td>Grijs</td>\n",
       "    </tr>\n",
       "    <tr>\n",
       "      <th>15460</th>\n",
       "      <td>Orange</td>\n",
       "      <td>Oranje mica</td>\n",
       "    </tr>\n",
       "    <tr>\n",
       "      <th>5068</th>\n",
       "      <td>Black</td>\n",
       "      <td>Zwart</td>\n",
       "    </tr>\n",
       "    <tr>\n",
       "      <th>8144</th>\n",
       "      <td>Black</td>\n",
       "      <td>Czarny</td>\n",
       "    </tr>\n",
       "    <tr>\n",
       "      <th>7390</th>\n",
       "      <td>Grey</td>\n",
       "      <td>-</td>\n",
       "    </tr>\n",
       "    <tr>\n",
       "      <th>23123</th>\n",
       "      <td>Blue</td>\n",
       "      <td>Dynamic-Blau Metallic</td>\n",
       "    </tr>\n",
       "    <tr>\n",
       "      <th>9178</th>\n",
       "      <td>Grey</td>\n",
       "      <td>NaN</td>\n",
       "    </tr>\n",
       "    <tr>\n",
       "      <th>19923</th>\n",
       "      <td>NaN</td>\n",
       "      <td>NaN</td>\n",
       "    </tr>\n",
       "    <tr>\n",
       "      <th>11222</th>\n",
       "      <td>Green</td>\n",
       "      <td>Groen metallic</td>\n",
       "    </tr>\n",
       "    <tr>\n",
       "      <th>387</th>\n",
       "      <td>White</td>\n",
       "      <td>Blanco</td>\n",
       "    </tr>\n",
       "    <tr>\n",
       "      <th>9053</th>\n",
       "      <td>NaN</td>\n",
       "      <td>Blu</td>\n",
       "    </tr>\n",
       "    <tr>\n",
       "      <th>13902</th>\n",
       "      <td>White</td>\n",
       "      <td>Wit</td>\n",
       "    </tr>\n",
       "    <tr>\n",
       "      <th>18006</th>\n",
       "      <td>White</td>\n",
       "      <td>Schneeweiß</td>\n",
       "    </tr>\n",
       "    <tr>\n",
       "      <th>22195</th>\n",
       "      <td>Green</td>\n",
       "      <td>Eruption Green Metallic</td>\n",
       "    </tr>\n",
       "    <tr>\n",
       "      <th>11645</th>\n",
       "      <td>White</td>\n",
       "      <td>Blanco</td>\n",
       "    </tr>\n",
       "    <tr>\n",
       "      <th>13133</th>\n",
       "      <td>White</td>\n",
       "      <td>Wit metallic</td>\n",
       "    </tr>\n",
       "    <tr>\n",
       "      <th>17237</th>\n",
       "      <td>Grey</td>\n",
       "      <td>NaN</td>\n",
       "    </tr>\n",
       "    <tr>\n",
       "      <th>1985</th>\n",
       "      <td>Black</td>\n",
       "      <td>Schwarz obsidianschwarz metall</td>\n",
       "    </tr>\n",
       "    <tr>\n",
       "      <th>29156</th>\n",
       "      <td>Black</td>\n",
       "      <td>Onyx</td>\n",
       "    </tr>\n",
       "  </tbody>\n",
       "</table>\n",
       "</div>"
      ],
      "text/plain": [
       "       colour             manufacturer_colour\n",
       "23290   Black       Obsidian-schwarz metallic\n",
       "29318    Grey                           Grijs\n",
       "15460  Orange                     Oranje mica\n",
       "5068    Black                           Zwart\n",
       "8144    Black                          Czarny\n",
       "7390     Grey                               -\n",
       "23123    Blue           Dynamic-Blau Metallic\n",
       "9178     Grey                             NaN\n",
       "19923     NaN                             NaN\n",
       "11222   Green                  Groen metallic\n",
       "387     White                          Blanco\n",
       "9053      NaN                             Blu\n",
       "13902   White                             Wit\n",
       "18006   White                      Schneeweiß\n",
       "22195   Green         Eruption Green Metallic\n",
       "11645   White                          Blanco\n",
       "13133   White                    Wit metallic\n",
       "17237    Grey                             NaN\n",
       "1985    Black  Schwarz obsidianschwarz metall\n",
       "29156   Black                            Onyx"
      ]
     },
     "execution_count": 130,
     "metadata": {},
     "output_type": "execute_result"
    }
   ],
   "source": [
    "df[['colour', 'manufacturer_colour']].sample(20)"
   ]
  },
  {
   "cell_type": "code",
   "execution_count": 131,
   "metadata": {
    "ExecuteTime": {
     "end_time": "2025-01-16T07:18:12.381580Z",
     "start_time": "2025-01-16T07:18:12.357217Z"
    }
   },
   "outputs": [
    {
     "data": {
      "text/html": [
       "<div>\n",
       "<style scoped>\n",
       "    .dataframe tbody tr th:only-of-type {\n",
       "        vertical-align: middle;\n",
       "    }\n",
       "\n",
       "    .dataframe tbody tr th {\n",
       "        vertical-align: top;\n",
       "    }\n",
       "\n",
       "    .dataframe thead th {\n",
       "        text-align: right;\n",
       "    }\n",
       "</style>\n",
       "<table border=\"1\" class=\"dataframe\">\n",
       "  <thead>\n",
       "    <tr style=\"text-align: right;\">\n",
       "      <th></th>\n",
       "      <th>colour</th>\n",
       "      <th>manufacturer_colour</th>\n",
       "    </tr>\n",
       "  </thead>\n",
       "  <tbody>\n",
       "    <tr>\n",
       "      <th>1</th>\n",
       "      <td>NaN</td>\n",
       "      <td>Negro Obsidiana</td>\n",
       "    </tr>\n",
       "    <tr>\n",
       "      <th>24</th>\n",
       "      <td>NaN</td>\n",
       "      <td>GRIS GRAFITO</td>\n",
       "    </tr>\n",
       "    <tr>\n",
       "      <th>37</th>\n",
       "      <td>NaN</td>\n",
       "      <td>Plata Iridio</td>\n",
       "    </tr>\n",
       "    <tr>\n",
       "      <th>145</th>\n",
       "      <td>NaN</td>\n",
       "      <td>Gris Montagne</td>\n",
       "    </tr>\n",
       "    <tr>\n",
       "      <th>169</th>\n",
       "      <td>NaN</td>\n",
       "      <td>Bleu denim métallisé</td>\n",
       "    </tr>\n",
       "    <tr>\n",
       "      <th>...</th>\n",
       "      <td>...</td>\n",
       "      <td>...</td>\n",
       "    </tr>\n",
       "    <tr>\n",
       "      <th>29434</th>\n",
       "      <td>NaN</td>\n",
       "      <td>Blanc Cristal</td>\n",
       "    </tr>\n",
       "    <tr>\n",
       "      <th>29439</th>\n",
       "      <td>NaN</td>\n",
       "      <td>Gris Osmium</td>\n",
       "    </tr>\n",
       "    <tr>\n",
       "      <th>29440</th>\n",
       "      <td>NaN</td>\n",
       "      <td>Noir Onyx Métallisé</td>\n",
       "    </tr>\n",
       "    <tr>\n",
       "      <th>29441</th>\n",
       "      <td>NaN</td>\n",
       "      <td>Gris Osmium</td>\n",
       "    </tr>\n",
       "    <tr>\n",
       "      <th>29446</th>\n",
       "      <td>NaN</td>\n",
       "      <td>DENIM BLUE</td>\n",
       "    </tr>\n",
       "  </tbody>\n",
       "</table>\n",
       "<p>1481 rows × 2 columns</p>\n",
       "</div>"
      ],
      "text/plain": [
       "      colour   manufacturer_colour\n",
       "1        NaN       Negro Obsidiana\n",
       "24       NaN          GRIS GRAFITO\n",
       "37       NaN          Plata Iridio\n",
       "145      NaN         Gris Montagne\n",
       "169      NaN  Bleu denim métallisé\n",
       "...      ...                   ...\n",
       "29434    NaN         Blanc Cristal\n",
       "29439    NaN           Gris Osmium\n",
       "29440    NaN   Noir Onyx Métallisé\n",
       "29441    NaN           Gris Osmium\n",
       "29446    NaN            DENIM BLUE\n",
       "\n",
       "[1481 rows x 2 columns]"
      ]
     },
     "execution_count": 131,
     "metadata": {},
     "output_type": "execute_result"
    }
   ],
   "source": [
    "df[(df[\"colour\"].isnull()) & (df[\"manufacturer_colour\"].notnull())][[\"colour\", \"manufacturer_colour\"]]"
   ]
  },
  {
   "cell_type": "code",
   "execution_count": 132,
   "metadata": {
    "ExecuteTime": {
     "end_time": "2025-01-16T07:18:12.390926Z",
     "start_time": "2025-01-16T07:18:12.384122Z"
    }
   },
   "outputs": [
    {
     "data": {
      "text/plain": [
       "(28630, 43)"
      ]
     },
     "execution_count": 132,
     "metadata": {},
     "output_type": "execute_result"
    }
   ],
   "source": [
    "df.shape"
   ]
  },
  {
   "cell_type": "code",
   "execution_count": 133,
   "metadata": {
    "ExecuteTime": {
     "end_time": "2025-01-16T07:18:12.437769Z",
     "start_time": "2025-01-16T07:18:12.394002Z"
    }
   },
   "outputs": [],
   "source": [
    "df.drop([\"colour\", \"manufacturer_colour\"], axis=1, inplace=True)"
   ]
  },
  {
   "cell_type": "code",
   "execution_count": 134,
   "metadata": {
    "ExecuteTime": {
     "end_time": "2025-01-16T07:18:12.446524Z",
     "start_time": "2025-01-16T07:18:12.440891Z"
    }
   },
   "outputs": [
    {
     "data": {
      "text/plain": [
       "(28630, 41)"
      ]
     },
     "execution_count": 134,
     "metadata": {},
     "output_type": "execute_result"
    }
   ],
   "source": [
    "df.shape"
   ]
  },
  {
   "cell_type": "markdown",
   "metadata": {},
   "source": [
    "## paint\n",
    "\n",
    "### 📝 Some Remarks on paint:\n",
    "\n",
    "- In a car trade web page, the car paint type refers to the type of paint finish used on the exterior of the vehicle. The most common types of paint finishes used on cars are solid, metallic, and pearl.\n",
    "\n",
    "- Solid paint finishes are typically a single, uniform color and have no added metallic or pearlescent flakes. Metallic paint finishes contain small metallic flakes that reflect light and can create a shimmering effect in sunlight. Pearl paint finishes contain a combination of pigments and reflective flakes that create a unique, multi-dimensional effect.\n",
    "\n",
    "- Other types of paint finishes that may be listed on a car trade web page include matte, satin, and gloss. Matte finishes have a flat, non-reflective appearance, while satin finishes have a slight sheen but are not as reflective as gloss finishes.\n",
    "\n",
    "- The type of paint finish can affect the appearance and durability of the paint, as well as the desirability and resale value of the car. For example, some buyers may prefer the unique and eye-catching appearance of a metallic or pearl paint finish, while others may prefer the classic and understated look of a solid color."
   ]
  },
  {
   "cell_type": "code",
   "execution_count": 135,
   "metadata": {
    "ExecuteTime": {
     "end_time": "2025-01-16T07:18:12.479572Z",
     "start_time": "2025-01-16T07:18:12.449577Z"
    }
   },
   "outputs": [
    {
     "name": "stdout",
     "output_type": "stream",
     "text": [
      "column name    :  paint\n",
      "--------------------------------\n",
      "per_of_nulls   :  % 49.37\n",
      "num_of_nulls   :  14135\n",
      "num_of_uniques :  3\n",
      "shape_of_df    :  (28630, 41)\n",
      "--------------------------------\n",
      "paint\n",
      "Metallic     14494\n",
      "NaN          14135\n",
      "Uni/basic        1\n",
      "Name: count, dtype: int64\n"
     ]
    }
   ],
   "source": [
    "first_looking(df, \"paint\")"
   ]
  },
  {
   "cell_type": "code",
   "execution_count": 136,
   "metadata": {
    "ExecuteTime": {
     "end_time": "2025-01-16T07:18:12.499901Z",
     "start_time": "2025-01-16T07:18:12.482115Z"
    }
   },
   "outputs": [
    {
     "data": {
      "text/plain": [
       "0         Metallic\n",
       "1        Uni/basic\n",
       "2        Uni/basic\n",
       "3        Uni/basic\n",
       "4         Metallic\n",
       "           ...    \n",
       "29474    Uni/basic\n",
       "29475    Uni/basic\n",
       "29476     Metallic\n",
       "29477     Metallic\n",
       "29478    Uni/basic\n",
       "Name: paint, Length: 28630, dtype: object"
      ]
     },
     "execution_count": 136,
     "metadata": {},
     "output_type": "execute_result"
    }
   ],
   "source": [
    "# df['Paint'].fillna(\"Uni/basic\")\n",
    "\n",
    "df['paint'] = df['paint'].replace(np.nan, \"Uni/basic\", regex=True)\n",
    "\n",
    "df['paint']"
   ]
  },
  {
   "cell_type": "code",
   "execution_count": 137,
   "metadata": {
    "ExecuteTime": {
     "end_time": "2025-01-16T07:18:12.514325Z",
     "start_time": "2025-01-16T07:18:12.502444Z"
    }
   },
   "outputs": [
    {
     "data": {
      "text/plain": [
       "paint\n",
       "Metallic     14494\n",
       "Uni/basic    14136\n",
       "Name: count, dtype: int64"
      ]
     },
     "execution_count": 137,
     "metadata": {},
     "output_type": "execute_result"
    }
   ],
   "source": [
    "df['paint'].value_counts(dropna=False)"
   ]
  },
  {
   "cell_type": "code",
   "execution_count": 138,
   "metadata": {
    "ExecuteTime": {
     "end_time": "2025-01-16T07:18:12.524040Z",
     "start_time": "2025-01-16T07:18:12.517418Z"
    }
   },
   "outputs": [
    {
     "data": {
      "text/plain": [
       "(28630, 41)"
      ]
     },
     "execution_count": 138,
     "metadata": {},
     "output_type": "execute_result"
    }
   ],
   "source": [
    "df.shape"
   ]
  },
  {
   "cell_type": "code",
   "execution_count": 139,
   "metadata": {
    "ExecuteTime": {
     "end_time": "2025-01-16T07:18:12.581626Z",
     "start_time": "2025-01-16T07:18:12.526581Z"
    }
   },
   "outputs": [],
   "source": [
    "df.drop(\"paint\", axis=1, inplace=True)"
   ]
  },
  {
   "cell_type": "code",
   "execution_count": 140,
   "metadata": {
    "ExecuteTime": {
     "end_time": "2025-01-16T07:18:12.590272Z",
     "start_time": "2025-01-16T07:18:12.584674Z"
    }
   },
   "outputs": [
    {
     "data": {
      "text/plain": [
       "(28630, 40)"
      ]
     },
     "execution_count": 140,
     "metadata": {},
     "output_type": "execute_result"
    }
   ],
   "source": [
    "df.shape"
   ]
  },
  {
   "cell_type": "markdown",
   "metadata": {},
   "source": [
    "## seller\n",
    "\n",
    "### 📝 Some Remarks on seller:\n",
    "\n",
    "- In a car trade web page, the seller for a car refers to the person or entity that is offering the car for sale. The seller could be an individual, a dealership, or a private seller.\n",
    "\n",
    "- When buying or selling a car on a car trade web page, it is important to carefully review the seller and to consider it in the context of other factors such as the make, model, year, mileage, and condition of the vehicle. Different types of sellers may have different motivations, pricing strategies, and levels of transparency when it comes to selling a car.\n",
    "\n",
    "  - For example, a dealership may have a larger selection of cars to choose from and may offer financing options or warranties, but the prices may be higher to account for overhead costs and profits. A private seller may be more flexible on price and may provide more detailed information about the vehicle's history and condition, but there may be less recourse if something goes wrong with the transaction."
   ]
  },
  {
   "cell_type": "code",
   "execution_count": 141,
   "metadata": {
    "ExecuteTime": {
     "end_time": "2025-01-16T07:18:12.621464Z",
     "start_time": "2025-01-16T07:18:12.592812Z"
    }
   },
   "outputs": [
    {
     "name": "stdout",
     "output_type": "stream",
     "text": [
      "column name    :  seller\n",
      "--------------------------------\n",
      "per_of_nulls   :  % 0.0\n",
      "num_of_nulls   :  0\n",
      "num_of_uniques :  2\n",
      "shape_of_df    :  (28630, 40)\n",
      "--------------------------------\n",
      "seller\n",
      "Dealer            26318\n",
      "Private seller     2312\n",
      "Name: count, dtype: int64\n"
     ]
    }
   ],
   "source": [
    "first_looking(df, \"seller\")"
   ]
  },
  {
   "cell_type": "markdown",
   "metadata": {},
   "source": [
    "## seats\n",
    "\n",
    "### 📝 Some Remarks on seats:\n",
    "\n",
    "- In a car trade web page, the seat number for a car refers to the number of seats that the vehicle has. This includes both the driver's seat and passenger seats.\n",
    "\n",
    "- The seat number can vary depending on the make and model of the car, as well as the specific trim level or package. For example, some cars may have two seats, such as a sports car or a convertible, while others may have five or more seats, such as a minivan or SUV.\n",
    "\n",
    "- The seat number can be an important factor to consider when buying or selling a car, as it can impact the car's functionality and comfort depending on the needs of the driver and passengers. For example, a car with a larger number of seats may be more suitable for families or groups, while a car with fewer seats may be more suitable for individuals or couples."
   ]
  },
  {
   "cell_type": "code",
   "execution_count": 142,
   "metadata": {
    "ExecuteTime": {
     "end_time": "2025-01-16T07:18:12.706443Z",
     "start_time": "2025-01-16T07:18:12.624513Z"
    }
   },
   "outputs": [
    {
     "name": "stdout",
     "output_type": "stream",
     "text": [
      "column name    :  seats\n",
      "--------------------------------\n",
      "per_of_nulls   :  % 10.92\n",
      "num_of_nulls   :  3125\n",
      "num_of_uniques :  12\n",
      "shape_of_df    :  (28630, 40)\n",
      "--------------------------------\n",
      "seats\n",
      "[\\n, 5, \\n]     18308\n",
      "[\\n, 4, \\n]      5390\n",
      "NaN              3125\n",
      "[\\n, 2, \\n]      1186\n",
      "[\\n, 7, \\n]       488\n",
      "[\\n, 8, \\n]        43\n",
      "[\\n, 9, \\n]        35\n",
      "[\\n, 3, \\n]        25\n",
      "[\\n, 6, \\n]        12\n",
      "[\\n, 0, \\n]         9\n",
      "[\\n, 1, \\n]         7\n",
      "[\\n, 17, \\n]        2\n",
      "Name: count, dtype: int64\n"
     ]
    }
   ],
   "source": [
    "first_looking(df, \"seats\")"
   ]
  },
  {
   "cell_type": "code",
   "execution_count": 143,
   "metadata": {
    "ExecuteTime": {
     "end_time": "2025-01-16T07:18:13.111868Z",
     "start_time": "2025-01-16T07:18:12.708982Z"
    }
   },
   "outputs": [
    {
     "data": {
      "text/plain": [
       "0        NaN\n",
       "1       5.00\n",
       "2       5.00\n",
       "3       5.00\n",
       "4       5.00\n",
       "        ... \n",
       "29474   4.00\n",
       "29475   5.00\n",
       "29476   4.00\n",
       "29477   5.00\n",
       "29478   5.00\n",
       "Name: seats, Length: 28630, dtype: float64"
      ]
     },
     "execution_count": 143,
     "metadata": {},
     "output_type": "execute_result"
    }
   ],
   "source": [
    "df[\"seats\"] = df.seats.apply(lambda x : x[0] if type(x)==list else x)\n",
    "\n",
    "df[\"seats\"] = df.seats.str.extract('(\\d{1,4})').astype(\"float\") # str.extract('(\\d+)')\n",
    "df[\"seats\"]"
   ]
  },
  {
   "cell_type": "code",
   "execution_count": 144,
   "metadata": {
    "ExecuteTime": {
     "end_time": "2025-01-16T07:18:13.122577Z",
     "start_time": "2025-01-16T07:18:13.114915Z"
    }
   },
   "outputs": [
    {
     "data": {
      "text/plain": [
       "seats\n",
       "5.00     18308\n",
       "4.00      5390\n",
       "NaN       3125\n",
       "2.00      1186\n",
       "7.00       488\n",
       "8.00        43\n",
       "9.00        35\n",
       "3.00        25\n",
       "6.00        12\n",
       "0.00         9\n",
       "1.00         7\n",
       "17.00        2\n",
       "Name: count, dtype: int64"
      ]
     },
     "execution_count": 144,
     "metadata": {},
     "output_type": "execute_result"
    }
   ],
   "source": [
    "df['seats'].value_counts(dropna=False)"
   ]
  },
  {
   "cell_type": "markdown",
   "metadata": {},
   "source": [
    "## engine_size\n",
    "\n",
    "### 📝 Some Remarks on engine_size:\n",
    "\n",
    "- In a car trade web page, the engine size for a car refers to the volume of the engine's combustion chambers, which is typically measured in liters (L) or cubic centimeters (cc). The engine size is also known as the engine displacement.\n",
    "\n",
    "- The engine size can vary widely depending on the make and model of the car, as well as the specific trim level or package. A larger engine size generally indicates a more powerful engine that can generate more horsepower and torque, but it may also result in lower fuel efficiency and higher emissions.\n",
    "\n",
    "- When buying or selling a car on a car trade web page, it is important to carefully review the engine size and to consider it in the context of other factors such as the make, model, year, mileage, and condition of the vehicle. Car trade web pages typically provide information about the engine size for each vehicle in the listing, along with other key details such as the make, model, year, mileage, and asking price.\n",
    "\n",
    "🔔 Does the engine capacity affect the price of a vehicle❓\n",
    "\n",
    " - A larger engine tends to be more expensive for the manufacturer to build. This cost is usually recovered (plus a nice profit) by increasing the price toward the customer.\n",
    " - Many cars will have more equipment standard with the larger engine, equipment that would be chargeable extras when the car is ordered with a smaller engine. The cost of this equipment is added to the base price of the car.\n",
    "Direct taxation on engine displacement in some places. Some countries or states will calculate taxes directly on the displacement. Even with power, emissions and such identical between a large and a small engine, obsolete and nonsensical rules dictate more tax to be paid on the big one.\n",
    " - Indirect taxation on typical side effects of larger engines. Back in the day, a large engine would be more powerful than a small engine, so a tax on horsepower would hit a large engine harder than a small one. Of course, with turbocharging becoming common, a small engine with a turbocharger often has more horsepower than a large engine without a turbocharger, and thus the stronger, smaller engine would be taxed more. These days, emissions-based taxes are more popular, and larger engines tend to have more emissions than smaller engines, triggering higher taxes on the larger engines."
   ]
  },
  {
   "cell_type": "code",
   "execution_count": 145,
   "metadata": {
    "ExecuteTime": {
     "end_time": "2025-01-16T07:18:13.470166Z",
     "start_time": "2025-01-16T07:18:13.125635Z"
    }
   },
   "outputs": [
    {
     "name": "stdout",
     "output_type": "stream",
     "text": [
      "column name    :  engine_size\n",
      "--------------------------------\n",
      "per_of_nulls   :  % 4.9\n",
      "num_of_nulls   :  1403\n",
      "num_of_uniques :  468\n",
      "shape_of_df    :  (28630, 40)\n",
      "--------------------------------\n",
      "engine_size\n",
      "[\\n1,598 cc\\n]    2099\n",
      "[\\n999 cc\\n]      2068\n",
      "[\\n1,969 cc\\n]    1929\n",
      "NaN               1403\n",
      "[\\n1,461 cc\\n]    1110\n",
      "                  ... \n",
      "[\\n2,753 cc\\n]       1\n",
      "[\\n2,495 cc\\n]       1\n",
      "[\\n200 cc\\n]         1\n",
      "[\\n3,224 cc\\n]       1\n",
      "[\\n2,473 cc\\n]       1\n",
      "Name: count, Length: 468, dtype: int64\n"
     ]
    }
   ],
   "source": [
    "first_looking(df, \"engine_size\")"
   ]
  },
  {
   "cell_type": "code",
   "execution_count": 146,
   "metadata": {
    "ExecuteTime": {
     "end_time": "2025-01-16T07:18:13.603689Z",
     "start_time": "2025-01-16T07:18:13.472706Z"
    }
   },
   "outputs": [
    {
     "data": {
      "text/plain": [
       "0           NaN\n",
       "1          1.00\n",
       "2       1991.00\n",
       "3       1991.00\n",
       "4       2143.00\n",
       "          ...  \n",
       "29474   1969.00\n",
       "29475   2435.00\n",
       "29476   1560.00\n",
       "29477   1969.00\n",
       "29478   2922.00\n",
       "Name: engine_size, Length: 28630, dtype: float64"
      ]
     },
     "execution_count": 146,
     "metadata": {},
     "output_type": "execute_result"
    }
   ],
   "source": [
    "df['engine_size'] = df['engine_size'].astype(str).str.strip(\"['\\\\n, cc\\\\n']\").replace({\"a\", np.nan})\n",
    "df['engine_size'] = df['engine_size'].str.replace(',', '').str.extract('(\\d+)').astype(\"float\")\n",
    "\n",
    "df['engine_size']"
   ]
  },
  {
   "cell_type": "code",
   "execution_count": 147,
   "metadata": {
    "ExecuteTime": {
     "end_time": "2025-01-16T07:18:13.617487Z",
     "start_time": "2025-01-16T07:18:13.607781Z"
    }
   },
   "outputs": [
    {
     "data": {
      "text/plain": [
       "engine_size\n",
       "1598.00    2099\n",
       "999.00     2068\n",
       "1969.00    1929\n",
       "NaN        1403\n",
       "1461.00    1110\n",
       "           ... \n",
       "2753.00       1\n",
       "2495.00       1\n",
       "200.00        1\n",
       "3224.00       1\n",
       "2473.00       1\n",
       "Name: count, Length: 468, dtype: int64"
      ]
     },
     "execution_count": 147,
     "metadata": {},
     "output_type": "execute_result"
    }
   ],
   "source": [
    "df['engine_size'].value_counts(dropna=False)"
   ]
  },
  {
   "cell_type": "markdown",
   "metadata": {},
   "source": [
    "## gears\n",
    "\n",
    "### 📝 Some Remarks on gears:\n",
    "\n",
    "- In a car trade web page, the gears for a car refer to the number of forward gears in the car's transmission. The transmission is responsible for transmitting power from the engine to the wheels, and the number of gears can have a significant impact on the car's performance, fuel efficiency, and driving experience.\n",
    "\n",
    "- Cars can have different types of transmissions, including manual and automatic transmissions. Manual transmissions require the driver to manually shift gears using a clutch and a gearstick, while automatic transmissions shift gears automatically without the need for manual intervention.\n",
    "\n",
    "- The number of gears in a car can vary depending on the make and model of the car, as well as the specific trim level or package. Cars with more gears typically offer better fuel efficiency and smoother acceleration, as the engine can operate more efficiently at different speeds."
   ]
  },
  {
   "cell_type": "code",
   "execution_count": 148,
   "metadata": {
    "ExecuteTime": {
     "end_time": "2025-01-16T07:18:13.689325Z",
     "start_time": "2025-01-16T07:18:13.620552Z"
    }
   },
   "outputs": [
    {
     "name": "stdout",
     "output_type": "stream",
     "text": [
      "column name    :  gears\n",
      "--------------------------------\n",
      "per_of_nulls   :  % 33.8\n",
      "num_of_nulls   :  9676\n",
      "num_of_uniques :  12\n",
      "shape_of_df    :  (28630, 40)\n",
      "--------------------------------\n",
      "gears\n",
      "NaN         9676\n",
      "[\\n6\\n]     8412\n",
      "[\\n5\\n]     5335\n",
      "[\\n7\\n]     1738\n",
      "[\\n8\\n]     1690\n",
      "[\\n1\\n]      712\n",
      "[\\n9\\n]      642\n",
      "[\\n4\\n]      256\n",
      "[\\n10\\n]     112\n",
      "[\\n0\\n]       31\n",
      "[\\n3\\n]       24\n",
      "[\\n2\\n]        2\n",
      "Name: count, dtype: int64\n"
     ]
    }
   ],
   "source": [
    "first_looking(df, \"gears\")"
   ]
  },
  {
   "cell_type": "code",
   "execution_count": 149,
   "metadata": {
    "ExecuteTime": {
     "end_time": "2025-01-16T07:18:13.775449Z",
     "start_time": "2025-01-16T07:18:13.691411Z"
    }
   },
   "outputs": [
    {
     "data": {
      "text/plain": [
       "0        NaN\n",
       "1       9.00\n",
       "2       8.00\n",
       "3       7.00\n",
       "4       7.00\n",
       "        ... \n",
       "29474   8.00\n",
       "29475   5.00\n",
       "29476   6.00\n",
       "29477   8.00\n",
       "29478    NaN\n",
       "Name: gears, Length: 28630, dtype: float64"
      ]
     },
     "execution_count": 149,
     "metadata": {},
     "output_type": "execute_result"
    }
   ],
   "source": [
    "df['gears'] = df['gears'].astype(str).str.extract('(\\d+)').astype(\"float\")\n",
    "\n",
    "df['gears']"
   ]
  },
  {
   "cell_type": "code",
   "execution_count": 150,
   "metadata": {
    "ExecuteTime": {
     "end_time": "2025-01-16T07:18:13.786136Z",
     "start_time": "2025-01-16T07:18:13.777992Z"
    }
   },
   "outputs": [
    {
     "data": {
      "text/plain": [
       "gears\n",
       "NaN      9676\n",
       "6.00     8412\n",
       "5.00     5335\n",
       "7.00     1738\n",
       "8.00     1690\n",
       "1.00      712\n",
       "9.00      642\n",
       "4.00      256\n",
       "10.00     112\n",
       "0.00       31\n",
       "3.00       24\n",
       "2.00        2\n",
       "Name: count, dtype: int64"
      ]
     },
     "execution_count": 150,
     "metadata": {},
     "output_type": "execute_result"
    }
   ],
   "source": [
    "df[\"gears\"].value_counts(dropna=False)"
   ]
  },
  {
   "cell_type": "markdown",
   "metadata": {},
   "source": [
    "## co_emissions\n",
    "\n",
    "### 📝 Some Remarks on CO emissions:\n",
    "\n",
    "- CO emissions, or carbon monoxide emissions, refer to the amount of carbon monoxide that a car's engine emits during operation. Carbon monoxide is a colorless and odorless gas that is produced by the incomplete combustion of fossil fuels, such as gasoline or diesel.\n",
    "\n",
    "- Carbon monoxide emissions can be harmful to human health, as they can reduce the amount of oxygen that the body can absorb, leading to symptoms such as headaches, dizziness, and nausea. Carbon monoxide emissions also contribute to air pollution and can have a negative impact on the environment.\n",
    "\n",
    "Overall, in a car trade web page, information about CO emissions may be provided to help buyers and sellers understand the environmental impact of the vehicle. The CO emissions for a car can vary depending on the make and model of the car, as well as the age and condition of the vehicle."
   ]
  },
  {
   "cell_type": "code",
   "execution_count": 151,
   "metadata": {
    "ExecuteTime": {
     "end_time": "2025-01-16T07:18:13.822786Z",
     "start_time": "2025-01-16T07:18:13.789199Z"
    }
   },
   "outputs": [
    {
     "name": "stdout",
     "output_type": "stream",
     "text": [
      "column name    :  co_emissions\n",
      "--------------------------------\n",
      "per_of_nulls   :  % 35.05\n",
      "num_of_nulls   :  10036\n",
      "num_of_uniques :  348\n",
      "shape_of_df    :  (28630, 40)\n",
      "--------------------------------\n",
      "co_emissions\n",
      "NaN                  10036\n",
      "0 g/km (comb.)        1038\n",
      "119 g/km (comb.)       393\n",
      "124 g/km (comb.)       340\n",
      "129 g/km (comb.)       319\n",
      "                     ...  \n",
      "7 g/km (comb.)           1\n",
      "80 g/km (comb.)          1\n",
      "196  g/km (comb.)        1\n",
      "100  g/km (comb.)        1\n",
      "53 g/km (comb.)          1\n",
      "Name: count, Length: 348, dtype: int64\n"
     ]
    }
   ],
   "source": [
    "first_looking(df, \"co_emissions\")"
   ]
  },
  {
   "cell_type": "code",
   "execution_count": 152,
   "metadata": {
    "ExecuteTime": {
     "end_time": "2025-01-16T07:18:13.890081Z",
     "start_time": "2025-01-16T07:18:13.825879Z"
    }
   },
   "outputs": [
    {
     "data": {
      "text/plain": [
       "0          NaN\n",
       "1         0.00\n",
       "2          NaN\n",
       "3          NaN\n",
       "4          NaN\n",
       "         ...  \n",
       "29474      NaN\n",
       "29475   217.00\n",
       "29476    99.00\n",
       "29477   149.00\n",
       "29478   251.00\n",
       "Name: co_emissions, Length: 28630, dtype: float64"
      ]
     },
     "execution_count": 152,
     "metadata": {},
     "output_type": "execute_result"
    }
   ],
   "source": [
    "df[\"co_emissions\"] = df[\"co_emissions\"].astype(str).str.extract('(\\d+)').astype(\"float\")\n",
    "\n",
    "df[\"co_emissions\"]"
   ]
  },
  {
   "cell_type": "code",
   "execution_count": 153,
   "metadata": {
    "ExecuteTime": {
     "end_time": "2025-01-16T07:18:13.904370Z",
     "start_time": "2025-01-16T07:18:13.894162Z"
    }
   },
   "outputs": [
    {
     "data": {
      "text/plain": [
       "co_emissions\n",
       "NaN       10036\n",
       "0.00       1040\n",
       "119.00      393\n",
       "124.00      340\n",
       "129.00      319\n",
       "          ...  \n",
       "332.00        1\n",
       "70.00         1\n",
       "338.00        1\n",
       "342.00        1\n",
       "53.00         1\n",
       "Name: count, Length: 327, dtype: int64"
      ]
     },
     "execution_count": 153,
     "metadata": {},
     "output_type": "execute_result"
    }
   ],
   "source": [
    "df[\"co_emissions\"].value_counts(dropna=False)"
   ]
  },
  {
   "cell_type": "markdown",
   "metadata": {},
   "source": [
    "## drivetrain\n",
    "\n",
    "### 📝 Some Remarks on drivetrain:\n",
    "\n",
    "- A car’s drivetrain includes all of the components necessary to transfer the engine’s energy to its wheels in order to make your vehicle move. A car’s drivetrain connects the engine to the wheels enabling the vehicle to move. As the engine runs, the drivetrain helps send power through the transmission to the drive wheels. The drive wheels can be either the front wheels, rear wheels, or all the wheels — also known as front-wheel, rear-wheel, and all-wheel drive.\n",
    "\n",
    "- An Automotive Drivetrain is a combination of various components that provide power to the vehicle's wheel. It is made up of a driveshaft, transmission or gearbox, universal joints, constant velocity joints, wheels, and axles. It allows the driver to control the power flow and multiplies the engine torque for controlling the engine speed.\n",
    "\n",
    "Nowadays, the introduction of stringent emission regulations in European and North American countries has boosted demand for improved Automotive drivetrains that are lightweight and hence assist in increasing fuel efficiency, reducing emissions, and improving vehicle performance."
   ]
  },
  {
   "cell_type": "code",
   "execution_count": 154,
   "metadata": {
    "ExecuteTime": {
     "end_time": "2025-01-16T07:18:13.968567Z",
     "start_time": "2025-01-16T07:18:13.907930Z"
    }
   },
   "outputs": [
    {
     "name": "stdout",
     "output_type": "stream",
     "text": [
      "column name    :  drivetrain\n",
      "--------------------------------\n",
      "per_of_nulls   :  % 41.0\n",
      "num_of_nulls   :  11737\n",
      "num_of_uniques :  4\n",
      "shape_of_df    :  (28630, 40)\n",
      "--------------------------------\n",
      "drivetrain\n",
      "[\\n, Front, \\n]    12066\n",
      "NaN                11737\n",
      "[\\n, 4WD, \\n]       3252\n",
      "[\\n, Rear, \\n]      1575\n",
      "Name: count, dtype: int64\n"
     ]
    }
   ],
   "source": [
    "first_looking(df, \"drivetrain\")"
   ]
  },
  {
   "cell_type": "code",
   "execution_count": 155,
   "metadata": {
    "ExecuteTime": {
     "end_time": "2025-01-16T07:18:14.003655Z",
     "start_time": "2025-01-16T07:18:13.971618Z"
    }
   },
   "outputs": [
    {
     "data": {
      "text/plain": [
       "0          NaN\n",
       "1          NaN\n",
       "2          4WD\n",
       "3          4WD\n",
       "4          4WD\n",
       "         ...  \n",
       "29474      4WD\n",
       "29475    Front\n",
       "29476    Front\n",
       "29477      NaN\n",
       "29478    Front\n",
       "Name: drivetrain, Length: 28630, dtype: object"
      ]
     },
     "execution_count": 155,
     "metadata": {},
     "output_type": "execute_result"
    }
   ],
   "source": [
    "df[\"drivetrain\"] = df[\"drivetrain\"].explode().str.strip(\"\\n, \")\n",
    "\n",
    "df[\"drivetrain\"]"
   ]
  },
  {
   "cell_type": "code",
   "execution_count": 156,
   "metadata": {
    "ExecuteTime": {
     "end_time": "2025-01-16T07:18:14.016466Z",
     "start_time": "2025-01-16T07:18:14.006803Z"
    }
   },
   "outputs": [
    {
     "data": {
      "text/plain": [
       "drivetrain\n",
       "Front    12066\n",
       "NaN      11737\n",
       "4WD       3252\n",
       "Rear      1575\n",
       "Name: count, dtype: int64"
      ]
     },
     "execution_count": 156,
     "metadata": {},
     "output_type": "execute_result"
    }
   ],
   "source": [
    "df[\"drivetrain\"].value_counts(dropna=False)"
   ]
  },
  {
   "cell_type": "markdown",
   "metadata": {},
   "source": [
    "## cylinders\n",
    "\n",
    "### 📝 Some Remarks on cylinders:\n",
    "\n",
    "- In a car trade web page, the cylinders for a car refer to the number of cylinders in the car's engine. The cylinders are the part of the engine where combustion occurs, and the number of cylinders can have a significant impact on the car's performance, power, and fuel efficiency.\n",
    "\n",
    "- Cars can have different numbers of cylinders, including four-cylinder, six-cylinder, and eight-cylinder engines. Cars with more cylinders typically offer more power and performance, but may also be less fuel-efficient than cars with fewer cylinders.\n",
    "\n",
    "- When buying or selling a car on a car trade web page, it is important to carefully review the number of cylinders and to consider it in the context of other factors such as the make, model, year, mileage, and condition of the vehicle. Car trade web pages typically provide information about the number of cylinders for each vehicle in the listing, along with other key details such as the make, model, year, mileage, and asking price.\n",
    "\n",
    "It is important to note that the number of cylinders is NOT the only factor that determines a car's performance and fuel efficiency. Other factors such as the engine size, transmission, and drivetrain can also play a significant role in how the car performs on the road."
   ]
  },
  {
   "cell_type": "code",
   "execution_count": 157,
   "metadata": {
    "ExecuteTime": {
     "end_time": "2025-01-16T07:18:14.089926Z",
     "start_time": "2025-01-16T07:18:14.020045Z"
    }
   },
   "outputs": [
    {
     "name": "stdout",
     "output_type": "stream",
     "text": [
      "column name    :  cylinders\n",
      "--------------------------------\n",
      "per_of_nulls   :  % 34.15\n",
      "num_of_nulls   :  9778\n",
      "num_of_uniques :  13\n",
      "shape_of_df    :  (28630, 40)\n",
      "--------------------------------\n",
      "cylinders\n",
      "[\\n4\\n]     13068\n",
      "NaN          9778\n",
      "[\\n3\\n]      3258\n",
      "[\\n6\\n]      1013\n",
      "[\\n5\\n]       799\n",
      "[\\n8\\n]       539\n",
      "[\\n2\\n]       103\n",
      "[\\n0\\n]        35\n",
      "[\\n1\\n]        21\n",
      "[\\n12\\n]        8\n",
      "[\\n7\\n]         6\n",
      "[\\n26\\n]        1\n",
      "[\\n16\\n]        1\n",
      "Name: count, dtype: int64\n"
     ]
    }
   ],
   "source": [
    "first_looking(df, \"cylinders\")"
   ]
  },
  {
   "cell_type": "code",
   "execution_count": 158,
   "metadata": {
    "ExecuteTime": {
     "end_time": "2025-01-16T07:18:14.178639Z",
     "start_time": "2025-01-16T07:18:14.092972Z"
    }
   },
   "outputs": [
    {
     "data": {
      "text/plain": [
       "0        NaN\n",
       "1        NaN\n",
       "2       4.00\n",
       "3       4.00\n",
       "4       4.00\n",
       "        ... \n",
       "29474   4.00\n",
       "29475   5.00\n",
       "29476   4.00\n",
       "29477   4.00\n",
       "29478   6.00\n",
       "Name: cylinders, Length: 28630, dtype: float64"
      ]
     },
     "execution_count": 158,
     "metadata": {},
     "output_type": "execute_result"
    }
   ],
   "source": [
    "df[\"cylinders\"] = df[\"cylinders\"].astype(str).str.extract('(\\d+)').astype(\"float\")\n",
    "\n",
    "df[\"cylinders\"]"
   ]
  },
  {
   "cell_type": "code",
   "execution_count": 159,
   "metadata": {
    "ExecuteTime": {
     "end_time": "2025-01-16T07:18:14.192027Z",
     "start_time": "2025-01-16T07:18:14.181685Z"
    }
   },
   "outputs": [
    {
     "data": {
      "text/plain": [
       "cylinders\n",
       "4.00     13068\n",
       "NaN       9778\n",
       "3.00      3258\n",
       "6.00      1013\n",
       "5.00       799\n",
       "8.00       539\n",
       "2.00       103\n",
       "0.00        35\n",
       "1.00        21\n",
       "12.00        8\n",
       "7.00         6\n",
       "26.00        1\n",
       "16.00        1\n",
       "Name: count, dtype: int64"
      ]
     },
     "execution_count": 159,
     "metadata": {},
     "output_type": "execute_result"
    }
   ],
   "source": [
    "df[\"cylinders\"].value_counts(dropna=False)"
   ]
  },
  {
   "cell_type": "markdown",
   "metadata": {},
   "source": [
    "## fuel_consumption\n",
    "\n",
    "### 📝 Some Remarks on fuel consumption:\n",
    "\n",
    "- Another key factor is fuel economy. Efficient vehicles tend to hold their value better when gas prices are high, while less efficient vehicles (which typically have more cargo space and higher safety ratings) do better when gas is cheap.\n",
    "\n",
    "- The fuel consumption for a car in a car trade web page typically refers to the amount of fuel that the car consumes per unit of distance traveled, usually expressed in miles per gallon (mpg) or liters per 100 kilometers (L/100 km). Fuel consumption is a key factor to consider when buying or selling a car, as it can have a significant impact on the car's operating costs and environmental impact.\n",
    "\n",
    "- The fuel consumption of a car can vary depending on a number of factors, including the make and model of the car, the engine size, the number of cylinders, the transmission type, and the driving conditions. Cars with smaller engines and fewer cylinders typically offer better fuel efficiency than cars with larger engines and more cylinders.\n",
    "\n",
    "- In a car trade web page, information about fuel consumption may be provided to help buyers and sellers understand the expected fuel costs associated with the vehicle. Car trade web pages typically provide information about the fuel consumption for each vehicle in the listing, along with other key details such as the make, model, year, mileage, and asking price.\n",
    "\n",
    "It is important to keep in mind that actual fuel consumption may vary depending on a number of factors, including driving habits, road conditions, and maintenance practices. Therefore, the fuel consumption listed on a car trade web page should be used as a general guide rather than an exact estimate of the vehicle's fuel efficiency."
   ]
  },
  {
   "cell_type": "code",
   "execution_count": 160,
   "metadata": {
    "ExecuteTime": {
     "end_time": "2025-01-16T07:18:19.860795Z",
     "start_time": "2025-01-16T07:18:14.194566Z"
    }
   },
   "outputs": [
    {
     "name": "stdout",
     "output_type": "stream",
     "text": [
      "column name    :  fuel_consumption\n",
      "--------------------------------\n",
      "per_of_nulls   :  % 18.32\n",
      "num_of_nulls   :  5245\n",
      "num_of_uniques :  3453\n",
      "shape_of_df    :  (28630, 40)\n",
      "--------------------------------\n",
      "fuel_consumption\n",
      "NaN                                                                            5245\n",
      "[[0 l/100 km (comb.)]]                                                          330\n",
      "[[0 l/100 km (comb.)], [0 l/100 km (city)], [0 l/100 km (country)]]             306\n",
      "[[3.4 l/100 km (comb.)], [3.7 l/100 km (city)], [3.2 l/100 km (country)]]       170\n",
      "[[4 l/100 km (comb.)]]                                                          149\n",
      "                                                                               ... \n",
      "[[14.2 l/100 km (comb.)], [21.3 l/100 km (city)], [10 l/100 km (country)]]        1\n",
      "[[3.5 l/100 km (comb.)], [4.4 l/100 km (city)], [2.9 l/100 km (country)]]         1\n",
      "[[4.5 l/100 km (comb.)], [6.2 l/100 km (city)], [3.5 l/100 km (country)]]         1\n",
      "[[4.9 l/100 km (comb.)], [99.9 l/100 km (city)], [98 l/100 km (country)]]         1\n",
      "[[10.4 l/100 km (comb.)], [15.3 l/100 km (city)], [7.6 l/100 km (country)]]       1\n",
      "Name: count, Length: 3453, dtype: int64\n"
     ]
    }
   ],
   "source": [
    "first_looking(df, \"fuel_consumption\")"
   ]
  },
  {
   "cell_type": "markdown",
   "metadata": {},
   "source": [
    "<div style=\"background-color: lightgreen; padding: 10px; font-size: 14px;\">\n",
    "The fuel consumption column gives us 3 types of fuel consumption information: fuel consumption in urban and extra-urban areas, and the average of both fuel consumption.\n",
    "</div>"
   ]
  },
  {
   "cell_type": "code",
   "execution_count": 161,
   "metadata": {
    "ExecuteTime": {
     "end_time": "2025-01-16T07:18:19.869991Z",
     "start_time": "2025-01-16T07:18:19.863378Z"
    }
   },
   "outputs": [
    {
     "data": {
      "text/plain": [
       "[['8.4 l/100 km (comb.)'],\n",
       " ['10.9 l/100 km (city)'],\n",
       " ['5.8 l/100 km (country)']]"
      ]
     },
     "execution_count": 161,
     "metadata": {},
     "output_type": "execute_result"
    }
   ],
   "source": [
    "df[\"fuel_consumption\"].iloc[2]"
   ]
  },
  {
   "cell_type": "code",
   "execution_count": 162,
   "metadata": {
    "ExecuteTime": {
     "end_time": "2025-01-16T07:18:19.882210Z",
     "start_time": "2025-01-16T07:18:19.873558Z"
    }
   },
   "outputs": [
    {
     "data": {
      "text/plain": [
       "['8.4 l/100 km (comb.)']"
      ]
     },
     "execution_count": 162,
     "metadata": {},
     "output_type": "execute_result"
    }
   ],
   "source": [
    "df[\"fuel_consumption\"][2][0]"
   ]
  },
  {
   "cell_type": "code",
   "execution_count": 163,
   "metadata": {
    "ExecuteTime": {
     "end_time": "2025-01-16T07:18:19.891890Z",
     "start_time": "2025-01-16T07:18:19.885261Z"
    }
   },
   "outputs": [
    {
     "data": {
      "text/plain": [
       "['10.9 l/100 km (city)']"
      ]
     },
     "execution_count": 163,
     "metadata": {},
     "output_type": "execute_result"
    }
   ],
   "source": [
    "df[\"fuel_consumption\"][2][1]"
   ]
  },
  {
   "cell_type": "code",
   "execution_count": 164,
   "metadata": {
    "ExecuteTime": {
     "end_time": "2025-01-16T07:18:19.901083Z",
     "start_time": "2025-01-16T07:18:19.894964Z"
    }
   },
   "outputs": [
    {
     "data": {
      "text/plain": [
       "['5.8 l/100 km (country)']"
      ]
     },
     "execution_count": 164,
     "metadata": {},
     "output_type": "execute_result"
    }
   ],
   "source": [
    "df[\"fuel_consumption\"][2][2]"
   ]
  },
  {
   "cell_type": "code",
   "execution_count": 165,
   "metadata": {
    "ExecuteTime": {
     "end_time": "2025-01-16T07:18:19.908724Z",
     "start_time": "2025-01-16T07:18:19.904136Z"
    }
   },
   "outputs": [],
   "source": [
    "def cons_avg(x):\n",
    "    \n",
    "    if type(x)==list:\n",
    "        if x[0] != []: return x[0][0]\n",
    "        else: return None\n",
    "  \n",
    "    else:\n",
    "        return None"
   ]
  },
  {
   "cell_type": "code",
   "execution_count": 166,
   "metadata": {
    "ExecuteTime": {
     "end_time": "2025-01-16T07:18:19.917474Z",
     "start_time": "2025-01-16T07:18:19.911869Z"
    }
   },
   "outputs": [],
   "source": [
    "def cons_city(x):\n",
    "    \n",
    "    if type(x)==list and len(x)==3:\n",
    "        if x[1] != []: return x[1][0]\n",
    "        else: return None\n",
    "        \n",
    "    else:\n",
    "        return None"
   ]
  },
  {
   "cell_type": "code",
   "execution_count": 167,
   "metadata": {
    "ExecuteTime": {
     "end_time": "2025-01-16T07:18:19.925618Z",
     "start_time": "2025-01-16T07:18:19.920524Z"
    }
   },
   "outputs": [],
   "source": [
    "def cons_country(x):\n",
    "    \n",
    "    if type(x)==list and len(x)==3:\n",
    "        if x[2] != []: return x[2][0]\n",
    "        else: return None\n",
    "        \n",
    "    else:\n",
    "        return None"
   ]
  },
  {
   "cell_type": "code",
   "execution_count": 168,
   "metadata": {
    "ExecuteTime": {
     "end_time": "2025-01-16T07:18:20.020022Z",
     "start_time": "2025-01-16T07:18:19.928670Z"
    }
   },
   "outputs": [
    {
     "data": {
      "text/plain": [
       "0         NaN\n",
       "1         NaN\n",
       "2        8.40\n",
       "3        7.30\n",
       "4        4.90\n",
       "         ... \n",
       "29474    2.00\n",
       "29475    9.10\n",
       "29476    3.80\n",
       "29477    6.50\n",
       "29478   10.40\n",
       "Name: cons_avg, Length: 28630, dtype: float64"
      ]
     },
     "execution_count": 168,
     "metadata": {},
     "output_type": "execute_result"
    }
   ],
   "source": [
    "df['cons_avg'] = df[\"fuel_consumption\"].apply(cons_avg).str.extract('(\\d{1,2}.\\d|\\d{1,3})').astype(\"float\")\n",
    "df['cons_avg']                                        # str.extract('(\\S+)')"
   ]
  },
  {
   "cell_type": "code",
   "execution_count": 169,
   "metadata": {
    "ExecuteTime": {
     "end_time": "2025-01-16T07:18:20.106145Z",
     "start_time": "2025-01-16T07:18:20.023074Z"
    }
   },
   "outputs": [
    {
     "data": {
      "text/plain": [
       "0         NaN\n",
       "1         NaN\n",
       "2       10.90\n",
       "3        9.30\n",
       "4        5.70\n",
       "         ... \n",
       "29474     NaN\n",
       "29475   13.20\n",
       "29476    4.30\n",
       "29477    8.60\n",
       "29478   15.30\n",
       "Name: cons_city, Length: 28630, dtype: float64"
      ]
     },
     "execution_count": 169,
     "metadata": {},
     "output_type": "execute_result"
    }
   ],
   "source": [
    "df['cons_city'] =  df[\"fuel_consumption\"].apply(cons_city).str.extract('(\\d{1,2}.\\d|\\d{1,3})').astype(\"float\") \n",
    "df['cons_city']                                          # str.extract('(\\S+)')"
   ]
  },
  {
   "cell_type": "code",
   "execution_count": 170,
   "metadata": {
    "ExecuteTime": {
     "end_time": "2025-01-16T07:18:20.193907Z",
     "start_time": "2025-01-16T07:18:20.108709Z"
    }
   },
   "outputs": [
    {
     "data": {
      "text/plain": [
       "0        NaN\n",
       "1        NaN\n",
       "2       5.80\n",
       "3       6.10\n",
       "4       4.40\n",
       "        ... \n",
       "29474    NaN\n",
       "29475   6.70\n",
       "29476   3.50\n",
       "29477   5.30\n",
       "29478   7.60\n",
       "Name: cons_country, Length: 28630, dtype: float64"
      ]
     },
     "execution_count": 170,
     "metadata": {},
     "output_type": "execute_result"
    }
   ],
   "source": [
    "df['cons_country'] = df[\"fuel_consumption\"].apply(cons_country).str.extract('(\\d{1,2}.\\d|\\d{1,3})').astype(\"float\") \n",
    "df['cons_country']                                            # str.extract('(\\S+)')"
   ]
  },
  {
   "cell_type": "code",
   "execution_count": 171,
   "metadata": {
    "ExecuteTime": {
     "end_time": "2025-01-16T07:18:20.207628Z",
     "start_time": "2025-01-16T07:18:20.196964Z"
    }
   },
   "outputs": [
    {
     "data": {
      "text/plain": [
       "cons_avg\n",
       "NaN      5245\n",
       "5.00      831\n",
       "4.90      812\n",
       "4.50      690\n",
       "0.00      652\n",
       "5.10      647\n",
       "4.70      618\n",
       "5.40      609\n",
       "4.80      609\n",
       "5.60      594\n",
       "4.30      564\n",
       "5.30      558\n",
       "5.20      552\n",
       "4.60      550\n",
       "4.20      539\n",
       "4.10      518\n",
       "3.80      516\n",
       "5.70      504\n",
       "5.50      503\n",
       "5.90      498\n",
       "4.00      484\n",
       "4.40      442\n",
       "6.40      438\n",
       "6.00      430\n",
       "6.30      414\n",
       "5.80      399\n",
       "3.70      360\n",
       "3.90      353\n",
       "3.60      327\n",
       "7.00      312\n",
       "3.40      296\n",
       "6.50      292\n",
       "6.10      282\n",
       "6.20      278\n",
       "6.60      274\n",
       "6.90      270\n",
       "7.40      265\n",
       "7.10      253\n",
       "6.70      251\n",
       "6.80      226\n",
       "7.30      220\n",
       "7.20      202\n",
       "8.40      194\n",
       "8.00      194\n",
       "7.60      181\n",
       "3.50      180\n",
       "8.20      166\n",
       "7.70      165\n",
       "7.80      165\n",
       "7.50      156\n",
       "12.00     110\n",
       "3.30      109\n",
       "9.00      107\n",
       "9.20      103\n",
       "12.50     102\n",
       "8.60       95\n",
       "9.80       93\n",
       "8.90       92\n",
       "8.30       88\n",
       "3.00       84\n",
       "7.90       83\n",
       "9.60       79\n",
       "8.70       79\n",
       "1.70       77\n",
       "9.50       77\n",
       "1.50       73\n",
       "9.40       72\n",
       "9.70       69\n",
       "8.80       69\n",
       "8.50       67\n",
       "10.10      66\n",
       "1.80       66\n",
       "10.60      66\n",
       "3.20       64\n",
       "8.10       64\n",
       "11.80      62\n",
       "11.40      62\n",
       "9.10       61\n",
       "9.90       55\n",
       "10.90      52\n",
       "12.10      51\n",
       "2.10       49\n",
       "1.90       47\n",
       "10.00      46\n",
       "1.40       44\n",
       "10.50      44\n",
       "12.40      41\n",
       "9.30       40\n",
       "1.20       40\n",
       "11.00      39\n",
       "12.80      37\n",
       "10.30      36\n",
       "10.40      35\n",
       "12.20      34\n",
       "2.80       33\n",
       "1.60       30\n",
       "11.20      28\n",
       "2.00       27\n",
       "1.10       26\n",
       "10.80      25\n",
       "12.30      23\n",
       "11.70      23\n",
       "13.60      22\n",
       "11.50      22\n",
       "11.90      22\n",
       "10.20      21\n",
       "3.10       19\n",
       "13.50      19\n",
       "2.40       16\n",
       "1.30       15\n",
       "11.60      14\n",
       "12.60      14\n",
       "2.20       13\n",
       "11.10      13\n",
       "11.30      13\n",
       "10.70      12\n",
       "1.00       11\n",
       "2.50       11\n",
       "14.00      10\n",
       "2.30       10\n",
       "13.80       9\n",
       "13.00       8\n",
       "0.80        8\n",
       "2.90        7\n",
       "12.90       7\n",
       "13.10       7\n",
       "2.60        6\n",
       "12.70       6\n",
       "0.60        5\n",
       "13.40       5\n",
       "13.90       5\n",
       "13.20       5\n",
       "0.70        5\n",
       "99.90       4\n",
       "14.30       3\n",
       "0.90        3\n",
       "16.70       3\n",
       "14.40       3\n",
       "14.10       3\n",
       "2.70        2\n",
       "16.50       2\n",
       "14.90       2\n",
       "53.00       2\n",
       "15.60       2\n",
       "93.00       2\n",
       "14.20       1\n",
       "14.70       1\n",
       "15.00       1\n",
       "16.80       1\n",
       "18.30       1\n",
       "23.00       1\n",
       "16.40       1\n",
       "15.50       1\n",
       "15.10       1\n",
       "15.90       1\n",
       "56.00       1\n",
       "0.50        1\n",
       "16.00       1\n",
       "57.00       1\n",
       "61.00       1\n",
       "14.50       1\n",
       "44.00       1\n",
       "Name: count, dtype: int64"
      ]
     },
     "execution_count": 171,
     "metadata": {},
     "output_type": "execute_result"
    }
   ],
   "source": [
    "df['cons_avg'].value_counts(dropna=False)"
   ]
  },
  {
   "cell_type": "code",
   "execution_count": 172,
   "metadata": {
    "ExecuteTime": {
     "end_time": "2025-01-16T07:18:20.220992Z",
     "start_time": "2025-01-16T07:18:20.210700Z"
    }
   },
   "outputs": [
    {
     "data": {
      "text/plain": [
       "cons_city\n",
       "NaN      8530\n",
       "5.80      494\n",
       "6.40      485\n",
       "5.30      479\n",
       "5.70      464\n",
       "6.30      433\n",
       "6.50      424\n",
       "6.20      423\n",
       "5.90      420\n",
       "5.50      412\n",
       "6.00      405\n",
       "6.10      401\n",
       "0.00      390\n",
       "5.60      382\n",
       "6.60      374\n",
       "5.20      373\n",
       "5.00      345\n",
       "4.40      327\n",
       "5.40      321\n",
       "6.70      320\n",
       "4.20      311\n",
       "6.80      307\n",
       "7.00      298\n",
       "7.80      293\n",
       "7.60      278\n",
       "4.30      276\n",
       "5.10      272\n",
       "7.90      260\n",
       "3.70      259\n",
       "4.70      245\n",
       "8.50      242\n",
       "7.50      235\n",
       "4.60      232\n",
       "4.90      230\n",
       "7.10      228\n",
       "7.20      207\n",
       "7.30      207\n",
       "9.30      206\n",
       "4.80      205\n",
       "4.50      205\n",
       "8.20      205\n",
       "6.90      204\n",
       "8.90      189\n",
       "10.10     187\n",
       "7.40      186\n",
       "8.00      186\n",
       "8.60      180\n",
       "8.10      180\n",
       "9.10      177\n",
       "8.70      175\n",
       "7.70      171\n",
       "8.80      171\n",
       "4.10      167\n",
       "9.00      166\n",
       "8.40      146\n",
       "3.80      129\n",
       "11.50     127\n",
       "10.40     126\n",
       "9.60      126\n",
       "8.30      121\n",
       "4.00      120\n",
       "9.50      119\n",
       "10.20     117\n",
       "10.00     115\n",
       "11.20     112\n",
       "10.90     106\n",
       "9.80      101\n",
       "10.30      98\n",
       "9.70       96\n",
       "9.40       88\n",
       "10.60      87\n",
       "9.20       81\n",
       "13.50      79\n",
       "10.80      77\n",
       "11.00      75\n",
       "11.90      75\n",
       "13.00      73\n",
       "17.00      72\n",
       "12.90      71\n",
       "14.00      68\n",
       "18.30      68\n",
       "12.80      66\n",
       "13.80      66\n",
       "11.60      64\n",
       "3.00       62\n",
       "17.80      60\n",
       "11.40      60\n",
       "9.90       59\n",
       "10.70      58\n",
       "12.00      56\n",
       "14.40      53\n",
       "10.50      51\n",
       "16.10      49\n",
       "12.50      48\n",
       "15.60      47\n",
       "11.30      47\n",
       "16.00      44\n",
       "3.90       44\n",
       "15.30      43\n",
       "13.10      42\n",
       "3.50       38\n",
       "18.60      37\n",
       "19.00      36\n",
       "14.70      36\n",
       "14.10      36\n",
       "12.40      34\n",
       "15.00      34\n",
       "19.60      34\n",
       "12.20      32\n",
       "14.20      32\n",
       "13.70      32\n",
       "19.90      31\n",
       "11.80      30\n",
       "13.60      29\n",
       "16.80      27\n",
       "14.50      27\n",
       "15.70      26\n",
       "15.40      26\n",
       "12.60      25\n",
       "11.10      25\n",
       "15.80      24\n",
       "12.30      24\n",
       "13.40      23\n",
       "12.70      22\n",
       "14.30      21\n",
       "12.10      21\n",
       "16.20      20\n",
       "16.60      20\n",
       "3.60       19\n",
       "15.20      18\n",
       "20.00      15\n",
       "11.70      14\n",
       "15.50      14\n",
       "15.10      13\n",
       "13.20      13\n",
       "16.70      13\n",
       "3.30       12\n",
       "19.10      12\n",
       "18.90      11\n",
       "20.10      11\n",
       "3.40       11\n",
       "13.30      11\n",
       "14.80      11\n",
       "17.20      11\n",
       "14.60      10\n",
       "14.90       9\n",
       "15.90       8\n",
       "13.90       8\n",
       "66.00       8\n",
       "17.30       8\n",
       "3.20        7\n",
       "16.50       7\n",
       "18.00       7\n",
       "19.30       7\n",
       "18.10       6\n",
       "17.10       6\n",
       "20.30       6\n",
       "18.20       5\n",
       "17.90       5\n",
       "17.50       5\n",
       "21.30       4\n",
       "1.00        4\n",
       "17.70       4\n",
       "0.70        4\n",
       "21.70       4\n",
       "18.80       4\n",
       "20.20       3\n",
       "18.70       3\n",
       "18.50       3\n",
       "0.80        3\n",
       "2.20        3\n",
       "64.00       2\n",
       "20.90       2\n",
       "16.30       2\n",
       "24.10       2\n",
       "1.20        2\n",
       "21.80       2\n",
       "17.60       2\n",
       "21.40       2\n",
       "0.40        2\n",
       "99.90       1\n",
       "2.00        1\n",
       "17.40       1\n",
       "19.40       1\n",
       "23.20       1\n",
       "22.60       1\n",
       "19.70       1\n",
       "21.10       1\n",
       "0.50        1\n",
       "22.80       1\n",
       "46.00       1\n",
       "21.50       1\n",
       "50.00       1\n",
       "3.10        1\n",
       "79.00       1\n",
       "76.10       1\n",
       "Name: count, dtype: int64"
      ]
     },
     "execution_count": 172,
     "metadata": {},
     "output_type": "execute_result"
    }
   ],
   "source": [
    "df['cons_city'].value_counts(dropna=False)"
   ]
  },
  {
   "cell_type": "code",
   "execution_count": 173,
   "metadata": {
    "ExecuteTime": {
     "end_time": "2025-01-16T07:18:20.233363Z",
     "start_time": "2025-01-16T07:18:20.224047Z"
    }
   },
   "outputs": [
    {
     "data": {
      "text/plain": [
       "cons_country\n",
       "NaN      8530\n",
       "4.30      884\n",
       "4.00      804\n",
       "4.20      750\n",
       "4.70      730\n",
       "5.00      725\n",
       "3.60      679\n",
       "4.60      668\n",
       "4.90      663\n",
       "3.80      660\n",
       "4.50      659\n",
       "3.90      640\n",
       "4.10      632\n",
       "5.10      598\n",
       "4.40      587\n",
       "3.70      520\n",
       "5.70      474\n",
       "4.80      460\n",
       "5.40      445\n",
       "5.20      443\n",
       "5.30      413\n",
       "5.60      394\n",
       "5.50      383\n",
       "0.00      379\n",
       "5.80      376\n",
       "3.40      341\n",
       "3.20      334\n",
       "3.30      327\n",
       "3.50      304\n",
       "5.90      301\n",
       "6.50      289\n",
       "6.20      261\n",
       "6.00      242\n",
       "6.70      239\n",
       "6.10      229\n",
       "7.00      205\n",
       "6.40      202\n",
       "6.30      199\n",
       "3.00      163\n",
       "6.90      150\n",
       "6.80      139\n",
       "3.10      136\n",
       "7.40      113\n",
       "8.70      108\n",
       "6.60      108\n",
       "7.80      105\n",
       "8.10       98\n",
       "7.60       98\n",
       "7.10       98\n",
       "7.70       94\n",
       "9.10       84\n",
       "7.30       78\n",
       "8.30       77\n",
       "7.20       77\n",
       "8.00       77\n",
       "8.50       75\n",
       "8.20       69\n",
       "8.80       65\n",
       "2.90       62\n",
       "7.90       62\n",
       "9.30       53\n",
       "9.60       44\n",
       "7.50       42\n",
       "8.90       36\n",
       "9.00       34\n",
       "8.40       33\n",
       "9.80       25\n",
       "8.60       22\n",
       "9.20       22\n",
       "9.50       20\n",
       "11.00      15\n",
       "10.50      13\n",
       "10.90      12\n",
       "9.40       12\n",
       "10.00      12\n",
       "2.80       12\n",
       "11.20      11\n",
       "10.30      10\n",
       "9.70        9\n",
       "10.40       8\n",
       "2.70        6\n",
       "12.00       6\n",
       "1.00        5\n",
       "0.80        5\n",
       "11.80       5\n",
       "10.20       5\n",
       "11.10       5\n",
       "13.70       4\n",
       "9.90        4\n",
       "12.90       4\n",
       "2.60        2\n",
       "0.90        2\n",
       "12.20       2\n",
       "11.90       2\n",
       "10.60       2\n",
       "13.40       2\n",
       "2.40        1\n",
       "12.10       1\n",
       "0.60        1\n",
       "14.70       1\n",
       "11.40       1\n",
       "48.00       1\n",
       "12.40       1\n",
       "10.10       1\n",
       "13.00       1\n",
       "44.90       1\n",
       "49.00       1\n",
       "98.00       1\n",
       "1.90        1\n",
       "14.00       1\n",
       "18.00       1\n",
       "11.70       1\n",
       "14.40       1\n",
       "11.50       1\n",
       "12.70       1\n",
       "Name: count, dtype: int64"
      ]
     },
     "execution_count": 173,
     "metadata": {},
     "output_type": "execute_result"
    }
   ],
   "source": [
    "df['cons_country'].value_counts(dropna=False)"
   ]
  },
  {
   "cell_type": "code",
   "execution_count": 174,
   "metadata": {
    "ExecuteTime": {
     "end_time": "2025-01-16T07:18:20.242559Z",
     "start_time": "2025-01-16T07:18:20.236413Z"
    }
   },
   "outputs": [
    {
     "data": {
      "text/plain": [
       "(28630, 43)"
      ]
     },
     "execution_count": 174,
     "metadata": {},
     "output_type": "execute_result"
    }
   ],
   "source": [
    "df.shape"
   ]
  },
  {
   "cell_type": "code",
   "execution_count": 175,
   "metadata": {
    "ExecuteTime": {
     "end_time": "2025-01-16T07:18:20.296252Z",
     "start_time": "2025-01-16T07:18:20.245672Z"
    }
   },
   "outputs": [],
   "source": [
    "df.drop(\"fuel_consumption\", axis=1, inplace=True)"
   ]
  },
  {
   "cell_type": "code",
   "execution_count": 176,
   "metadata": {
    "ExecuteTime": {
     "end_time": "2025-01-16T07:18:20.305418Z",
     "start_time": "2025-01-16T07:18:20.299815Z"
    }
   },
   "outputs": [
    {
     "data": {
      "text/plain": [
       "(28630, 42)"
      ]
     },
     "execution_count": 176,
     "metadata": {},
     "output_type": "execute_result"
    }
   ],
   "source": [
    "df.shape"
   ]
  },
  {
   "cell_type": "markdown",
   "metadata": {},
   "source": [
    "## empty_weight\n",
    "\n",
    "### 📝 Some Remarks on empty weight:\n",
    "\n",
    "- The empty weight for a car in a car trade web page refers to the weight of the vehicle without any passengers or cargo. It is also known as the curb weight or unladen weight of the vehicle.\n",
    "\n",
    "- The empty weight of a car can vary depending on the make and model of the car, as well as the specific trim level or package. The empty weight can have a significant impact on the car's performance, fuel efficiency, and handling, as a heavier car may require more power to accelerate and may be less fuel-efficient.\n",
    "\n",
    "- In a car trade web page, information about the empty weight may be provided to help buyers and sellers understand the overall size and weight of the vehicle. Car trade web pages typically provide information about the empty weight for each vehicle in the listing, along with other key details such as the make, model, year, mileage, and asking price.\n",
    "\n",
    "It is important to keep in mind that the empty weight listed on a car trade web page may not include optional equipment or accessories that can add weight to the vehicle. Therefore, the empty weight should be used as a general guide rather than an exact measurement of the vehicle's weight.\n",
    "\n",
    "<br>\n",
    "\n",
    "<div style=\"background-color: lightgreen; padding: 10px; font-size: 14px;\">\n",
    "🤔💭 Is empty weight important to decide its price?</div>\n",
    "\n",
    "Yes, empty weight (or curb weight) is an important factor in determining a vehicle's price for several reasons:\n",
    "\n",
    "- Safety and Regulations: Heavier vehicles may require more robust safety features and compliance with different regulations, which can affect production costs and, consequently, the price.\n",
    "- Fuel Efficiency: Generally, lighter vehicles tend to be more fuel-efficient, which can appeal to consumers looking to save on fuel costs. This can positively influence pricing.\n",
    "- Performance: A vehicle's weight affects its handling, acceleration, and braking capabilities. Buyers often consider these performance aspects when assessing value.\n",
    "- Market Demand: Certain segments of the market prefer specific weight classes (e.g., lightweight sports cars vs. heavier SUVs), which can influence pricing based on supply and demand.\n",
    "- Insurance Costs: Heavier vehicles may incur higher insurance premiums, impacting the overall cost of ownership and influencing what buyers are willing to pay."
   ]
  },
  {
   "cell_type": "code",
   "execution_count": 177,
   "metadata": {
    "ExecuteTime": {
     "end_time": "2025-01-16T07:18:20.975101Z",
     "start_time": "2025-01-16T07:18:20.308470Z"
    }
   },
   "outputs": [
    {
     "name": "stdout",
     "output_type": "stream",
     "text": [
      "column name    :  empty_weight\n",
      "--------------------------------\n",
      "per_of_nulls   :  % 37.97\n",
      "num_of_nulls   :  10872\n",
      "num_of_uniques :  1219\n",
      "shape_of_df    :  (28630, 42)\n",
      "--------------------------------\n",
      "empty_weight\n",
      "NaN               10872\n",
      "[\\n1,395 kg\\n]      233\n",
      "[\\n1,055 kg\\n]      224\n",
      "[\\n1,423 kg\\n]      216\n",
      "[\\n1,165 kg\\n]      200\n",
      "                  ...  \n",
      "[\\n1,877 kg\\n]        1\n",
      "[\\n1,011 kg\\n]        1\n",
      "[\\n1,069 kg\\n]        1\n",
      "[\\n983 kg\\n]          1\n",
      "[\\n1,391 kg\\n]        1\n",
      "Name: count, Length: 1219, dtype: int64\n"
     ]
    }
   ],
   "source": [
    "first_looking(df, \"empty_weight\")"
   ]
  },
  {
   "cell_type": "code",
   "execution_count": 178,
   "metadata": {
    "ExecuteTime": {
     "end_time": "2025-01-16T07:18:21.084647Z",
     "start_time": "2025-01-16T07:18:20.978152Z"
    }
   },
   "outputs": [
    {
     "data": {
      "text/html": [
       "<div>\n",
       "<style scoped>\n",
       "    .dataframe tbody tr th:only-of-type {\n",
       "        vertical-align: middle;\n",
       "    }\n",
       "\n",
       "    .dataframe tbody tr th {\n",
       "        vertical-align: top;\n",
       "    }\n",
       "\n",
       "    .dataframe thead th {\n",
       "        text-align: right;\n",
       "    }\n",
       "</style>\n",
       "<table border=\"1\" class=\"dataframe\">\n",
       "  <thead>\n",
       "    <tr style=\"text-align: right;\">\n",
       "      <th></th>\n",
       "      <th>0</th>\n",
       "    </tr>\n",
       "  </thead>\n",
       "  <tbody>\n",
       "    <tr>\n",
       "      <th>0</th>\n",
       "      <td>NaN</td>\n",
       "    </tr>\n",
       "    <tr>\n",
       "      <th>1</th>\n",
       "      <td>NaN</td>\n",
       "    </tr>\n",
       "    <tr>\n",
       "      <th>2</th>\n",
       "      <td>NaN</td>\n",
       "    </tr>\n",
       "    <tr>\n",
       "      <th>3</th>\n",
       "      <td>NaN</td>\n",
       "    </tr>\n",
       "    <tr>\n",
       "      <th>4</th>\n",
       "      <td>1545.00</td>\n",
       "    </tr>\n",
       "    <tr>\n",
       "      <th>...</th>\n",
       "      <td>...</td>\n",
       "    </tr>\n",
       "    <tr>\n",
       "      <th>29474</th>\n",
       "      <td>2077.00</td>\n",
       "    </tr>\n",
       "    <tr>\n",
       "      <th>29475</th>\n",
       "      <td>1357.00</td>\n",
       "    </tr>\n",
       "    <tr>\n",
       "      <th>29476</th>\n",
       "      <td>1356.00</td>\n",
       "    </tr>\n",
       "    <tr>\n",
       "      <th>29477</th>\n",
       "      <td>1617.00</td>\n",
       "    </tr>\n",
       "    <tr>\n",
       "      <th>29478</th>\n",
       "      <td>1573.00</td>\n",
       "    </tr>\n",
       "  </tbody>\n",
       "</table>\n",
       "<p>28630 rows × 1 columns</p>\n",
       "</div>"
      ],
      "text/plain": [
       "            0\n",
       "0         NaN\n",
       "1         NaN\n",
       "2         NaN\n",
       "3         NaN\n",
       "4     1545.00\n",
       "...       ...\n",
       "29474 2077.00\n",
       "29475 1357.00\n",
       "29476 1356.00\n",
       "29477 1617.00\n",
       "29478 1573.00\n",
       "\n",
       "[28630 rows x 1 columns]"
      ]
     },
     "execution_count": 178,
     "metadata": {},
     "output_type": "execute_result"
    }
   ],
   "source": [
    "df['empty_weight'].astype(str).str.replace(',', '').str.extract('(\\d+)').astype(\"float\")"
   ]
  },
  {
   "cell_type": "code",
   "execution_count": 179,
   "metadata": {
    "ExecuteTime": {
     "end_time": "2025-01-16T07:18:21.190838Z",
     "start_time": "2025-01-16T07:18:21.087703Z"
    }
   },
   "outputs": [
    {
     "data": {
      "text/plain": [
       "0           NaN\n",
       "1           NaN\n",
       "2           NaN\n",
       "3           NaN\n",
       "4       1545.00\n",
       "          ...  \n",
       "29474   2077.00\n",
       "29475   1357.00\n",
       "29476   1356.00\n",
       "29477   1617.00\n",
       "29478   1573.00\n",
       "Name: empty_weight, Length: 28630, dtype: float64"
      ]
     },
     "execution_count": 179,
     "metadata": {},
     "output_type": "execute_result"
    }
   ],
   "source": [
    "df['empty_weight'] = df['empty_weight'].astype(str).str.replace(',', '').str.extract('(\\d+)').astype(\"float\")\n",
    "\n",
    "df['empty_weight']"
   ]
  },
  {
   "cell_type": "code",
   "execution_count": 180,
   "metadata": {
    "ExecuteTime": {
     "end_time": "2025-01-16T07:18:21.204583Z",
     "start_time": "2025-01-16T07:18:21.193897Z"
    }
   },
   "outputs": [
    {
     "data": {
      "text/plain": [
       "empty_weight\n",
       "NaN        10872\n",
       "1395.00      233\n",
       "1055.00      224\n",
       "1423.00      216\n",
       "1165.00      200\n",
       "           ...  \n",
       "1877.00        1\n",
       "1011.00        1\n",
       "1069.00        1\n",
       "983.00         1\n",
       "1391.00        1\n",
       "Name: count, Length: 1219, dtype: int64"
      ]
     },
     "execution_count": 180,
     "metadata": {},
     "output_type": "execute_result"
    }
   ],
   "source": [
    "df['empty_weight'].value_counts(dropna=False)"
   ]
  },
  {
   "cell_type": "markdown",
   "metadata": {},
   "source": [
    "## model_code\n",
    "\n",
    "### 📝 Some Remarks on model code:\n",
    "\n",
    "- The model code for a car in a car trade web page is a unique alphanumeric code that is assigned to a specific make and model of a car by the manufacturer. The model code is used to identify the specific configuration of the car, including its trim level, engine type, transmission, and other features.\n",
    "\n",
    "- The model code can be useful for buyers and sellers to identify the exact specifications of a particular car, especially if there are multiple variations of the same make and model. By using the model code, buyers and sellers can ensure that they are comparing apples to apples when evaluating different cars.\n",
    "\n",
    "#### ⚠️ What is Model Code and Chassis Number (VIN Code)?\n",
    "\n",
    "- The model code is to identify the manufacturer, car name, body shape, engine type, and displacement, etc.! At first glance, the model code looks like a series of letters and numbers.\n",
    "\n",
    "- Car parts are different from one car to another, even for the ones with the same model and manufacture/registration year. To identify the right parts for your car, we need the \"Model Code\" and the \"Chassis Number\" that are written on the ID plate of the vehicle. Model Code (or Number) for each models. And it is same for each models. Chassis Number (or VIN Code) is provided for each vehicles but it is different from each other even with the same model."
   ]
  },
  {
   "cell_type": "code",
   "execution_count": 181,
   "metadata": {
    "ExecuteTime": {
     "end_time": "2025-01-16T07:18:22.423251Z",
     "start_time": "2025-01-16T07:18:21.207144Z"
    }
   },
   "outputs": [
    {
     "name": "stdout",
     "output_type": "stream",
     "text": [
      "column name    :  model_code\n",
      "--------------------------------\n",
      "per_of_nulls   :  % 70.78\n",
      "num_of_nulls   :  20263\n",
      "num_of_uniques :  2187\n",
      "shape_of_df    :  (28630, 42)\n",
      "--------------------------------\n",
      "model_code\n",
      "NaN                   20263\n",
      "[\\n, 8212/AFJ, \\n]       75\n",
      "[\\n, 1727/AAM, \\n]       64\n",
      "[\\n, 1349/AGI, \\n]       61\n",
      "[\\n, 1889/ABU, \\n]       55\n",
      "                      ...  \n",
      "[\\n, 7593/ANL, \\n]        1\n",
      "[\\n, 1727/ABC, \\n]        1\n",
      "[\\n, 4136/AEC, \\n]        1\n",
      "[\\n, 4136/668, \\n]        1\n",
      "[\\n, 9101/449, \\n]        1\n",
      "Name: count, Length: 2187, dtype: int64\n"
     ]
    }
   ],
   "source": [
    "first_looking(df, \"model_code\")"
   ]
  },
  {
   "cell_type": "code",
   "execution_count": 182,
   "metadata": {
    "ExecuteTime": {
     "end_time": "2025-01-16T07:18:22.432025Z",
     "start_time": "2025-01-16T07:18:22.426303Z"
    }
   },
   "outputs": [
    {
     "data": {
      "text/plain": [
       "(28630, 42)"
      ]
     },
     "execution_count": 182,
     "metadata": {},
     "output_type": "execute_result"
    }
   ],
   "source": [
    "df.shape"
   ]
  },
  {
   "cell_type": "code",
   "execution_count": 183,
   "metadata": {
    "ExecuteTime": {
     "end_time": "2025-01-16T07:18:22.485307Z",
     "start_time": "2025-01-16T07:18:22.435068Z"
    }
   },
   "outputs": [],
   "source": [
    "df.drop(\"model_code\", axis=1, inplace=True)"
   ]
  },
  {
   "cell_type": "code",
   "execution_count": 184,
   "metadata": {
    "ExecuteTime": {
     "end_time": "2025-01-16T07:18:22.493951Z",
     "start_time": "2025-01-16T07:18:22.488360Z"
    }
   },
   "outputs": [
    {
     "data": {
      "text/plain": [
       "(28630, 41)"
      ]
     },
     "execution_count": 184,
     "metadata": {},
     "output_type": "execute_result"
    }
   ],
   "source": [
    "df.shape"
   ]
  },
  {
   "cell_type": "markdown",
   "metadata": {},
   "source": [
    "## general_inspection\n",
    "\n",
    "### 📝 Some Remarks on general inspection:\n",
    "\n",
    "- A general inspection due date for a car in a car trade web page refers to the estimated date when the vehicle will be due for its next general inspection. The due date for a general inspection can vary depending on the make and model of the car, as well as the specific requirements of the local jurisdiction or regulatory body.\n",
    "\n",
    "- The general inspection due date can be useful for buyers and sellers to understand the ongoing maintenance needs of the vehicle, as well as to estimate the potential costs associated with maintaining the vehicle over time. Car trade web pages may provide information about the general inspection due date for each vehicle in the listing, along with other key details such as the make, model, year, mileage, and asking price.\n",
    "\n",
    "It is important to note that the general inspection due date may NOT necessarily reflect the current condition of the vehicle, especially if the car has been driven extensively or has undergone significant wear and tear since the last inspection. Therefore, it is recommended that buyers have a more detailed inspection performed by a qualified technician or mechanic before making a purchase, especially for used cars. Additionally, it is important to check the specific requirements and regulations for general inspections in the local jurisdiction where the vehicle will be registered and driven."
   ]
  },
  {
   "cell_type": "code",
   "execution_count": 185,
   "metadata": {
    "ExecuteTime": {
     "end_time": "2025-01-16T07:18:22.526083Z",
     "start_time": "2025-01-16T07:18:22.496999Z"
    }
   },
   "outputs": [
    {
     "name": "stdout",
     "output_type": "stream",
     "text": [
      "column name    :  general_inspection\n",
      "--------------------------------\n",
      "per_of_nulls   :  % 57.2\n",
      "num_of_nulls   :  16376\n",
      "num_of_uniques :  92\n",
      "shape_of_df    :  (28630, 41)\n",
      "--------------------------------\n",
      "general_inspection\n",
      "NaN        16376\n",
      "New         5883\n",
      "05/2023      286\n",
      "08/2023      280\n",
      "03/2023      268\n",
      "06/2023      266\n",
      "04/2023      262\n",
      "09/2023      255\n",
      "07/2023      254\n",
      "06/2024      216\n",
      "05/2024      212\n",
      "01/2023      210\n",
      "02/2023      209\n",
      "03/2024      207\n",
      "07/2024      203\n",
      "08/2024      187\n",
      "09/2024      182\n",
      "11/2023      176\n",
      "01/2024      164\n",
      "02/2024      163\n",
      "04/2024      162\n",
      "12/2023      160\n",
      "12/2022      159\n",
      "10/2023      155\n",
      "06/2025      147\n",
      "11/2022      131\n",
      "08/2025      122\n",
      "07/2025      110\n",
      "09/2022       96\n",
      "03/2025       95\n",
      "05/2025       93\n",
      "10/2022       90\n",
      "04/2025       89\n",
      "01/2025       75\n",
      "02/2025       66\n",
      "09/2025       65\n",
      "10/2024       64\n",
      "08/2022       64\n",
      "12/2024       61\n",
      "11/2024       50\n",
      "06/2022       42\n",
      "07/2022       41\n",
      "04/2022       34\n",
      "03/2022       25\n",
      "05/2022       22\n",
      "10/2021       17\n",
      "11/2021       11\n",
      "01/2022       10\n",
      "07/2021       10\n",
      "09/2021        8\n",
      "08/2021        7\n",
      "12/2021        7\n",
      "02/2022        6\n",
      "05/2026        5\n",
      "07/2020        5\n",
      "10/2025        4\n",
      "05/2021        4\n",
      "06/2026        4\n",
      "12/2019        4\n",
      "06/2021        3\n",
      "01/2021        3\n",
      "11/2020        3\n",
      "04/2026        3\n",
      "02/2021        2\n",
      "02/2026        2\n",
      "12/2025        2\n",
      "09/2026        2\n",
      "01/2026        2\n",
      "12/2020        2\n",
      "07/2026        2\n",
      "08/2026        2\n",
      "02/2027        2\n",
      "06/2020        2\n",
      "12/2017        1\n",
      "10/2020        1\n",
      "01/2020        1\n",
      "04/2020        1\n",
      "10/2019        1\n",
      "05/2018        1\n",
      "09/2020        1\n",
      "07/2019        1\n",
      "05/2020        1\n",
      "08/2019        1\n",
      "03/2026        1\n",
      "11/2019        1\n",
      "01/2018        1\n",
      "07/2017        1\n",
      "09/2017        1\n",
      "08/2013        1\n",
      "08/2020        1\n",
      "08/2018        1\n",
      "03/2021        1\n",
      "Name: count, dtype: int64\n"
     ]
    }
   ],
   "source": [
    "first_looking(df, \"general_inspection\")"
   ]
  },
  {
   "cell_type": "code",
   "execution_count": 186,
   "metadata": {
    "ExecuteTime": {
     "end_time": "2025-01-16T07:18:22.535752Z",
     "start_time": "2025-01-16T07:18:22.530156Z"
    }
   },
   "outputs": [
    {
     "data": {
      "text/plain": [
       "(28630, 41)"
      ]
     },
     "execution_count": 186,
     "metadata": {},
     "output_type": "execute_result"
    }
   ],
   "source": [
    "df.shape"
   ]
  },
  {
   "cell_type": "code",
   "execution_count": 187,
   "metadata": {
    "ExecuteTime": {
     "end_time": "2025-01-16T07:18:22.582943Z",
     "start_time": "2025-01-16T07:18:22.538803Z"
    }
   },
   "outputs": [],
   "source": [
    "df.drop(\"general_inspection\", axis=1, inplace=True)"
   ]
  },
  {
   "cell_type": "code",
   "execution_count": 188,
   "metadata": {
    "ExecuteTime": {
     "end_time": "2025-01-16T07:18:22.592093Z",
     "start_time": "2025-01-16T07:18:22.585480Z"
    }
   },
   "outputs": [
    {
     "data": {
      "text/plain": [
       "(28630, 40)"
      ]
     },
     "execution_count": 188,
     "metadata": {},
     "output_type": "execute_result"
    }
   ],
   "source": [
    "df.shape"
   ]
  },
  {
   "cell_type": "markdown",
   "metadata": {},
   "source": [
    "## full_service_history\n",
    "\n",
    "### 📝 Some Remarks on car service history: \n",
    "\n",
    "- A full service history for a car in a car trade web page refers to a detailed record of all the maintenance and repair work that has been performed on the vehicle throughout its history. The service history may include information about routine maintenance tasks, such as oil changes, tune-ups, and tire rotations, as well as more significant repairs, such as engine rebuilds or transmission replacements.\n",
    "\n",
    "- Having a full service history can be useful for buyers and sellers to understand the ongoing maintenance needs of the vehicle, as well as to identify any potential issues or problems that may need to be addressed. Car trade web pages may provide information about the full service history for each vehicle in the listing, along with other key details such as the make, model, year, mileage, and asking price.\n",
    "\n",
    "- A full service history can also be an important factor in determining the value of a used car, as it can provide evidence of how well the vehicle has been maintained over time. Cars with a full service history may be more desirable to buyers, as they may be viewed as more reliable and less likely to have hidden issues or problems.\n",
    "\n",
    "- By keeping and maintaining your car service logbook, your car’s value will gain a boost. The logbook shows all the fixes and updates your car has gone through, which allows the buyer to have confidence in what he or she is getting."
   ]
  },
  {
   "cell_type": "code",
   "execution_count": 189,
   "metadata": {
    "ExecuteTime": {
     "end_time": "2025-01-16T07:18:22.622166Z",
     "start_time": "2025-01-16T07:18:22.595205Z"
    }
   },
   "outputs": [
    {
     "name": "stdout",
     "output_type": "stream",
     "text": [
      "column name    :  full_service_history\n",
      "--------------------------------\n",
      "per_of_nulls   :  % 56.11\n",
      "num_of_nulls   :  16065\n",
      "num_of_uniques :  2\n",
      "shape_of_df    :  (28630, 40)\n",
      "--------------------------------\n",
      "full_service_history\n",
      "NaN    16065\n",
      "Yes    12565\n",
      "Name: count, dtype: int64\n"
     ]
    }
   ],
   "source": [
    "first_looking(df, \"full_service_history\")"
   ]
  },
  {
   "cell_type": "markdown",
   "metadata": {},
   "source": [
    "<div style=\"background-color: lightgreen; padding: 10px; font-size: 14px;\">\n",
    "We accept the missing data in this column indicating that the vehicle has not been serviced. So we replace the missing values with the NO value.\n",
    "</div>"
   ]
  },
  {
   "cell_type": "code",
   "execution_count": 190,
   "metadata": {
    "ExecuteTime": {
     "end_time": "2025-01-16T07:18:22.637418Z",
     "start_time": "2025-01-16T07:18:22.624710Z"
    }
   },
   "outputs": [],
   "source": [
    "df[\"full_service_history\"].replace(np.nan, \"No\", inplace=True)"
   ]
  },
  {
   "cell_type": "code",
   "execution_count": 191,
   "metadata": {
    "ExecuteTime": {
     "end_time": "2025-01-16T07:18:22.650621Z",
     "start_time": "2025-01-16T07:18:22.640473Z"
    }
   },
   "outputs": [
    {
     "data": {
      "text/plain": [
       "full_service_history\n",
       "No     16065\n",
       "Yes    12565\n",
       "Name: count, dtype: int64"
      ]
     },
     "execution_count": 191,
     "metadata": {},
     "output_type": "execute_result"
    }
   ],
   "source": [
    "df[\"full_service_history\"].value_counts(dropna=False)"
   ]
  },
  {
   "cell_type": "markdown",
   "metadata": {},
   "source": [
    "## non_smoker_vehicle\n",
    "\n",
    "### 📝 Some Remarks on non-smoker vehicle: \n",
    "\n",
    "- A non-smoker vehicle for a car in a car trade web page refers to a vehicle that has not been regularly used by a smoker or exposed to cigarette smoke. This means that the interior of the car has not been affected by tobacco smoke or the residue left behind by smoking.\n",
    "\n",
    "- A non-smoker vehicle may be important to some buyers who are sensitive to cigarette smoke or who prefer a vehicle that has not been exposed to smoking. Car trade web pages may provide information about whether a vehicle is a non-smoker vehicle in the listing, along with other key details such as the make, model, year, mileage, and asking price."
   ]
  },
  {
   "cell_type": "code",
   "execution_count": 192,
   "metadata": {
    "ExecuteTime": {
     "end_time": "2025-01-16T07:18:22.680681Z",
     "start_time": "2025-01-16T07:18:22.653669Z"
    }
   },
   "outputs": [
    {
     "name": "stdout",
     "output_type": "stream",
     "text": [
      "column name    :  non_smoker_vehicle\n",
      "--------------------------------\n",
      "per_of_nulls   :  % 59.5\n",
      "num_of_nulls   :  17036\n",
      "num_of_uniques :  2\n",
      "shape_of_df    :  (28630, 40)\n",
      "--------------------------------\n",
      "non_smoker_vehicle\n",
      "NaN    17036\n",
      "Yes    11594\n",
      "Name: count, dtype: int64\n"
     ]
    }
   ],
   "source": [
    "first_looking(df, \"non_smoker_vehicle\")"
   ]
  },
  {
   "cell_type": "code",
   "execution_count": 193,
   "metadata": {
    "ExecuteTime": {
     "end_time": "2025-01-16T07:18:22.694897Z",
     "start_time": "2025-01-16T07:18:22.683730Z"
    }
   },
   "outputs": [],
   "source": [
    "df[\"non_smoker_vehicle\"].replace(np.nan, \"No\", inplace=True)"
   ]
  },
  {
   "cell_type": "code",
   "execution_count": 194,
   "metadata": {
    "ExecuteTime": {
     "end_time": "2025-01-16T07:18:22.709641Z",
     "start_time": "2025-01-16T07:18:22.698963Z"
    }
   },
   "outputs": [
    {
     "data": {
      "text/plain": [
       "non_smoker_vehicle\n",
       "No     17036\n",
       "Yes    11594\n",
       "Name: count, dtype: int64"
      ]
     },
     "execution_count": 194,
     "metadata": {},
     "output_type": "execute_result"
    }
   ],
   "source": [
    "df[\"non_smoker_vehicle\"].value_counts(dropna=False)"
   ]
  },
  {
   "cell_type": "code",
   "execution_count": 195,
   "metadata": {
    "ExecuteTime": {
     "end_time": "2025-01-16T07:18:22.718807Z",
     "start_time": "2025-01-16T07:18:22.712691Z"
    }
   },
   "outputs": [
    {
     "data": {
      "text/plain": [
       "(28630, 40)"
      ]
     },
     "execution_count": 195,
     "metadata": {},
     "output_type": "execute_result"
    }
   ],
   "source": [
    "df.shape"
   ]
  },
  {
   "cell_type": "code",
   "execution_count": 196,
   "metadata": {
    "ExecuteTime": {
     "end_time": "2025-01-16T07:18:22.765598Z",
     "start_time": "2025-01-16T07:18:22.721872Z"
    }
   },
   "outputs": [],
   "source": [
    "df.drop(\"non_smoker_vehicle\", axis=1, inplace=True)"
   ]
  },
  {
   "cell_type": "code",
   "execution_count": 197,
   "metadata": {
    "ExecuteTime": {
     "end_time": "2025-01-16T07:18:22.774743Z",
     "start_time": "2025-01-16T07:18:22.768647Z"
    }
   },
   "outputs": [
    {
     "data": {
      "text/plain": [
       "(28630, 39)"
      ]
     },
     "execution_count": 197,
     "metadata": {},
     "output_type": "execute_result"
    }
   ],
   "source": [
    "df.shape"
   ]
  },
  {
   "cell_type": "markdown",
   "metadata": {},
   "source": [
    "## emission_class\n",
    "\n",
    "### 📝 Some Remarks on emission class: \n",
    "\n",
    "- The emission class in Europe for a car in a car trade web page refers to the level of exhaust emissions that the vehicle is certified to meet according to European Union (EU) regulations. The EU has established a series of emission standards known as the Euro emissions standards, which set limits on the amount of pollutants that can be emitted from a vehicle's exhaust system.\n",
    "\n",
    "- The Euro emissions standards are organized into different classes, with each class representing a different level of emissions control. The higher the emission class, the more stringent the emissions requirements and the lower the allowable emissions levels.\n",
    "\n",
    "- Although emissions regulations date back to 1970, the first EU-wide standard – known as Euro 1 – wasn’t introduced until 1992, which saw catalytic converters became compulsory on new cars, effectively standardising fuel injection. \n",
    "\n",
    "- Since then, there have been a series of Euro emissions standards, leading to the current Euro 6, introduced in September 2014 for new type approvals and rolled out for the majority of vehicle sales and registrations in September 2015. Euro 6 applies to all new cars registered from 1 September 2015.\n",
    "\n",
    "**🧐 [Euro 1 to Euro 6 guide](https://www.rac.co.uk/drive/advice/emissions/euro-emissions-standards/)**\n",
    "\n",
    "**🧐 [Euro 1 to Euro 6: how clean is my car?](https://www.whatcar.com/advice/owning/euro-1-to-euro-6-how-clean-is-my-car/n1190)**"
   ]
  },
  {
   "cell_type": "code",
   "execution_count": 198,
   "metadata": {
    "ExecuteTime": {
     "end_time": "2025-01-16T07:18:22.810813Z",
     "start_time": "2025-01-16T07:18:22.777291Z"
    }
   },
   "outputs": [
    {
     "name": "stdout",
     "output_type": "stream",
     "text": [
      "column name    :  emission_class\n",
      "--------------------------------\n",
      "per_of_nulls   :  % 37.62\n",
      "num_of_nulls   :  10771\n",
      "num_of_uniques :  10\n",
      "shape_of_df    :  (28630, 39)\n",
      "--------------------------------\n",
      "emission_class\n",
      "NaN             10771\n",
      "Euro 6           6418\n",
      "Euro 6d-TEMP     3399\n",
      "Euro 6d          2858\n",
      "Euro 5           2389\n",
      "Euro 4           1743\n",
      "Euro 3            523\n",
      "Euro 2            217\n",
      "Euro 1            172\n",
      "Euro 6c           140\n",
      "Name: count, dtype: int64\n"
     ]
    }
   ],
   "source": [
    "first_looking(df, \"emission_class\")"
   ]
  },
  {
   "cell_type": "markdown",
   "metadata": {},
   "source": [
    "Whether your car is Euro 6, Euro 6c, Euro 6d-TEMP, or Euro 6d, the emission amounts are the same. The differences are purely about testing and how much discrepancy is allowed between the lab figures and those from testing on real roads."
   ]
  },
  {
   "cell_type": "code",
   "execution_count": 199,
   "metadata": {
    "ExecuteTime": {
     "end_time": "2025-01-16T07:18:22.834880Z",
     "start_time": "2025-01-16T07:18:22.813871Z"
    }
   },
   "outputs": [],
   "source": [
    "Euro_6 = [\"Euro 6\", \"Euro 6d-TEMP\", \"Euro 6d\", \"Euro 6c\"]\n",
    "\n",
    "def emissionclass(x):\n",
    "    if x in Euro_6:\n",
    "        return \"Euro 6\"\n",
    "    else:\n",
    "        return x\n",
    "\n",
    "df[\"emission_class\"] = df[\"emission_class\"].apply(emissionclass)"
   ]
  },
  {
   "cell_type": "code",
   "execution_count": 200,
   "metadata": {
    "ExecuteTime": {
     "end_time": "2025-01-16T07:18:22.848099Z",
     "start_time": "2025-01-16T07:18:22.837933Z"
    }
   },
   "outputs": [
    {
     "data": {
      "text/plain": [
       "emission_class\n",
       "Euro 6    12815\n",
       "NaN       10771\n",
       "Euro 5     2389\n",
       "Euro 4     1743\n",
       "Euro 3      523\n",
       "Euro 2      217\n",
       "Euro 1      172\n",
       "Name: count, dtype: int64"
      ]
     },
     "execution_count": 200,
     "metadata": {},
     "output_type": "execute_result"
    }
   ],
   "source": [
    "df[\"emission_class\"].value_counts(dropna=False)"
   ]
  },
  {
   "cell_type": "code",
   "execution_count": 201,
   "metadata": {
    "ExecuteTime": {
     "end_time": "2025-01-16T07:18:22.857254Z",
     "start_time": "2025-01-16T07:18:22.851147Z"
    }
   },
   "outputs": [
    {
     "data": {
      "text/plain": [
       "(28630, 39)"
      ]
     },
     "execution_count": 201,
     "metadata": {},
     "output_type": "execute_result"
    }
   ],
   "source": [
    "df.shape"
   ]
  },
  {
   "cell_type": "code",
   "execution_count": 202,
   "metadata": {
    "ExecuteTime": {
     "end_time": "2025-01-16T07:18:22.903188Z",
     "start_time": "2025-01-16T07:18:22.860299Z"
    }
   },
   "outputs": [],
   "source": [
    "df.drop(\"emission_class\", axis=1, inplace=True)"
   ]
  },
  {
   "cell_type": "code",
   "execution_count": 203,
   "metadata": {
    "ExecuteTime": {
     "end_time": "2025-01-16T07:18:22.911824Z",
     "start_time": "2025-01-16T07:18:22.905725Z"
    }
   },
   "outputs": [
    {
     "data": {
      "text/plain": [
       "(28630, 38)"
      ]
     },
     "execution_count": 203,
     "metadata": {},
     "output_type": "execute_result"
    }
   ],
   "source": [
    "df.shape"
   ]
  },
  {
   "cell_type": "markdown",
   "metadata": {},
   "source": [
    "## emissions_sticker\n",
    "\n",
    "### 📝 Some Remarks on emission sticker: \n",
    "\n",
    "- An emission sticker in Germany for a car in a car trade web page refers to a colored sticker that is affixed to the windshield of a vehicle to indicate its level of emissions. The sticker system was introduced in Germany to help regulate access to certain environmental zones in urban areas, which are designed to restrict access to high-polluting vehicles in order to improve air quality.\n",
    "\n",
    "- The emission sticker system is based on the Euro emissions standards, with vehicles meeting higher standards being eligible for a higher level of sticker. The highest level of sticker, known as a green sticker, is reserved for vehicles with the lowest emissions, while vehicles with higher emissions may receive a yellow or red sticker.\n",
    "\n",
    "- Since 2008, German cities can legally designate low-emission zones that only motorized vehicles with an emissions sticker are allowed to enter. This sticker is called Umweltplakette or Feinstaubplakette in German. Older and polluting vehicles are not eligible for emissions stickers and are as a result barred from entering low-emission zones.\n",
    "\n",
    "- The German emissions sticker comes in three colors: red, yellow and green. The red sticker is for the most polluting vehicles, the yellow sticker for slightly less polluting vehicles and and the green sticker for the least polluting vehicles.\n",
    "\n",
    "<img src=https://i.ibb.co/6JdPwc7/Colors-German-Emissions-Sticker.png width=\"400\" height=\"100\">\n",
    "\n",
    "## <p style=\"background-color:#FDFEFE; font-family:newtimeroman; color:#060108; font-size:100%; text-align:center; border-radius:10px 10px;\">Colors German Emissions Sticker</p>\n",
    "\n",
    "\n",
    "<div style=\"background-color: #ffcccb; padding: 10px; font-size: 14px;\">\n",
    "As of 2021, vehicles with a red emissions sticker are no longer allowed to enter any low-emission zones in Germany. Red stickers are therefore no longer for sale. Vehicles with a yellow sticker are only allowed to enter the low-emission zone of Neu-Ulm in Bavaria. Unless you plan to visit Neu-Ulm, obtaining a yellow sticker is not very useful.\n",
    "</div>\n",
    "\n",
    "\n",
    "- Vehicles with a green sticker on the other hand, can enter all low-emission zones in Germany. This green emissions sticker is the one you should obtain if you intend to visit German cities with a low-emission zone."
   ]
  },
  {
   "cell_type": "code",
   "execution_count": 204,
   "metadata": {
    "ExecuteTime": {
     "end_time": "2025-01-16T07:18:22.944371Z",
     "start_time": "2025-01-16T07:18:22.915387Z"
    }
   },
   "outputs": [
    {
     "name": "stdout",
     "output_type": "stream",
     "text": [
      "column name    :  emissions_sticker\n",
      "--------------------------------\n",
      "per_of_nulls   :  % 67.12\n",
      "num_of_nulls   :  19216\n",
      "num_of_uniques :  5\n",
      "shape_of_df    :  (28630, 38)\n",
      "--------------------------------\n",
      "emissions_sticker\n",
      "NaN               19216\n",
      "4 (Green)          9230\n",
      "1 (No sticker)      176\n",
      "3 (Yellow)            6\n",
      "2 (Red)               2\n",
      "Name: count, dtype: int64\n"
     ]
    }
   ],
   "source": [
    "first_looking(df, \"emissions_sticker\")"
   ]
  },
  {
   "cell_type": "code",
   "execution_count": 205,
   "metadata": {
    "ExecuteTime": {
     "end_time": "2025-01-16T07:18:23.020407Z",
     "start_time": "2025-01-16T07:18:22.947051Z"
    }
   },
   "outputs": [],
   "source": [
    "df[\"emissions_sticker\"] = df[\"emissions_sticker\"].astype(str).str.extract(r\"([a-zA-Z]+)\")"
   ]
  },
  {
   "cell_type": "code",
   "execution_count": 206,
   "metadata": {
    "ExecuteTime": {
     "end_time": "2025-01-16T07:18:23.034141Z",
     "start_time": "2025-01-16T07:18:23.023454Z"
    }
   },
   "outputs": [
    {
     "data": {
      "text/plain": [
       "emissions_sticker\n",
       "nan       19216\n",
       "Green      9230\n",
       "No          176\n",
       "Yellow        6\n",
       "Red           2\n",
       "Name: count, dtype: int64"
      ]
     },
     "execution_count": 206,
     "metadata": {},
     "output_type": "execute_result"
    }
   ],
   "source": [
    "df[\"emissions_sticker\"].value_counts(dropna=False)"
   ]
  },
  {
   "cell_type": "code",
   "execution_count": 207,
   "metadata": {
    "ExecuteTime": {
     "end_time": "2025-01-16T07:18:23.042801Z",
     "start_time": "2025-01-16T07:18:23.037202Z"
    }
   },
   "outputs": [
    {
     "data": {
      "text/plain": [
       "(28630, 38)"
      ]
     },
     "execution_count": 207,
     "metadata": {},
     "output_type": "execute_result"
    }
   ],
   "source": [
    "df.shape"
   ]
  },
  {
   "cell_type": "code",
   "execution_count": 208,
   "metadata": {
    "ExecuteTime": {
     "end_time": "2025-01-16T07:18:23.090793Z",
     "start_time": "2025-01-16T07:18:23.045852Z"
    }
   },
   "outputs": [],
   "source": [
    "df.drop(\"emissions_sticker\", axis=1, inplace=True)"
   ]
  },
  {
   "cell_type": "code",
   "execution_count": 209,
   "metadata": {
    "ExecuteTime": {
     "end_time": "2025-01-16T07:18:23.099952Z",
     "start_time": "2025-01-16T07:18:23.093335Z"
    }
   },
   "outputs": [
    {
     "data": {
      "text/plain": [
       "(28630, 37)"
      ]
     },
     "execution_count": 209,
     "metadata": {},
     "output_type": "execute_result"
    }
   ],
   "source": [
    "df.shape"
   ]
  },
  {
   "cell_type": "markdown",
   "metadata": {},
   "source": [
    "## upholstery_colour\n",
    "\n",
    "### 📝 Some Remarks on upholstery colour: \n",
    "\n",
    "- The upholstery color for a car in a car trade web page refers to the color of the seats and interior trim of the vehicle. Upholstery color can be an important factor for buyers who are looking to personalize the look and feel of their vehicle, or who may prefer certain colors for aesthetic or practical reasons.\n",
    "\n",
    "### 📝 Some Remarks on color conceptualization: \n",
    "\n",
    "- **Primary Colors:** Red, yellow and blue<br>\n",
    "  - In traditional color theory (used in paint and pigments), primary colors are the 3 pigment colors that cannot be mixed or formed by any combination of other colors. All other colors are derived from these 3 hues. \n",
    "\n",
    "- **Secondary Colors:** Green, orange and purple<br>\n",
    "  - These are the colors formed by mixing the primary colors.\n",
    "\n",
    "- **Tertiary Colors:** Yellow-orange, red-orange, red-purple, blue-purple, blue-green & yellow-green<br>\n",
    "  - These are the colors formed by mixing a primary and a secondary color. That's why the hue is a two word name, such as blue-green, red-violet, and yellow-orange.\n",
    "\n",
    "<img src=https://i.ibb.co/N38yg7r/Basic-Color-Theory.png width=\"400\" height=\"100\">\n",
    "\n",
    "## <p style=\"background-color:#FDFEFE; font-family:newtimeroman; color:#060108; font-size:100%; text-align:center; border-radius:10px 10px;\">Color Wheel</p>\n",
    "\n",
    "**🧐 [Basic Color Theory](https://www.colormatters.com/color-and-design/basic-color-theory)**"
   ]
  },
  {
   "cell_type": "code",
   "execution_count": 210,
   "metadata": {
    "ExecuteTime": {
     "end_time": "2025-01-16T07:18:23.134148Z",
     "start_time": "2025-01-16T07:18:23.103003Z"
    }
   },
   "outputs": [
    {
     "name": "stdout",
     "output_type": "stream",
     "text": [
      "column name    :  upholstery_colour\n",
      "--------------------------------\n",
      "per_of_nulls   :  % 49.11\n",
      "num_of_nulls   :  14061\n",
      "num_of_uniques :  12\n",
      "shape_of_df    :  (28630, 37)\n",
      "--------------------------------\n",
      "upholstery_colour\n",
      "NaN       14061\n",
      "Black     10416\n",
      "Grey       2038\n",
      "Other      1003\n",
      "Beige       466\n",
      "Brown       275\n",
      "Red         159\n",
      "White        93\n",
      "Blue         82\n",
      "Orange       23\n",
      "Green         8\n",
      "Yellow        6\n",
      "Name: count, dtype: int64\n"
     ]
    }
   ],
   "source": [
    "first_looking(df, \"upholstery_colour\")"
   ]
  },
  {
   "cell_type": "code",
   "execution_count": 211,
   "metadata": {
    "ExecuteTime": {
     "end_time": "2025-01-16T07:18:23.162633Z",
     "start_time": "2025-01-16T07:18:23.137211Z"
    }
   },
   "outputs": [],
   "source": [
    "Ordinary = [\"Black\", \"White\"]\n",
    "Primary = [\"Red\", \"Yellow\", \"Blue\"]\n",
    "Secondary = [\"Green\", \"Orange\"]\n",
    "Tertiary_Intermediate = [\"Brown\", \"Grey\", \"Beige\"]\n",
    "\n",
    "def coloridentifier(x):\n",
    "    if x in Ordinary:\n",
    "        return \"Ordinary\"\n",
    "    if x in Primary:\n",
    "        return \"Primary\"\n",
    "    if x in Secondary:\n",
    "        return \"Secondary\"\n",
    "    if x in Tertiary_Intermediate:\n",
    "        return \"Tertiary\"    \n",
    "    else:\n",
    "        return x\n",
    "\n",
    "df[\"upholstery_colour\"] = df[\"upholstery_colour\"].apply(coloridentifier)"
   ]
  },
  {
   "cell_type": "code",
   "execution_count": 212,
   "metadata": {
    "ExecuteTime": {
     "end_time": "2025-01-16T07:18:23.176909Z",
     "start_time": "2025-01-16T07:18:23.166197Z"
    }
   },
   "outputs": [
    {
     "data": {
      "text/plain": [
       "upholstery_colour\n",
       "NaN          14061\n",
       "Ordinary     10509\n",
       "Tertiary      2779\n",
       "Other         1003\n",
       "Primary        247\n",
       "Secondary       31\n",
       "Name: count, dtype: int64"
      ]
     },
     "execution_count": 212,
     "metadata": {},
     "output_type": "execute_result"
    }
   ],
   "source": [
    "df[\"upholstery_colour\"].value_counts(dropna=False)"
   ]
  },
  {
   "cell_type": "code",
   "execution_count": 213,
   "metadata": {
    "ExecuteTime": {
     "end_time": "2025-01-16T07:18:23.189766Z",
     "start_time": "2025-01-16T07:18:23.181068Z"
    }
   },
   "outputs": [
    {
     "data": {
      "text/plain": [
       "(28630, 37)"
      ]
     },
     "execution_count": 213,
     "metadata": {},
     "output_type": "execute_result"
    }
   ],
   "source": [
    "df.shape"
   ]
  },
  {
   "cell_type": "code",
   "execution_count": 214,
   "metadata": {
    "ExecuteTime": {
     "end_time": "2025-01-16T07:18:23.236771Z",
     "start_time": "2025-01-16T07:18:23.193327Z"
    }
   },
   "outputs": [],
   "source": [
    "df.drop(\"upholstery_colour\", axis=1, inplace=True)"
   ]
  },
  {
   "cell_type": "code",
   "execution_count": 215,
   "metadata": {
    "ExecuteTime": {
     "end_time": "2025-01-16T07:18:23.247479Z",
     "start_time": "2025-01-16T07:18:23.239847Z"
    }
   },
   "outputs": [
    {
     "data": {
      "text/plain": [
       "(28630, 36)"
      ]
     },
     "execution_count": 215,
     "metadata": {},
     "output_type": "execute_result"
    }
   ],
   "source": [
    "df.shape"
   ]
  },
  {
   "cell_type": "markdown",
   "metadata": {},
   "source": [
    "## upholstery\n",
    "\n",
    "### 📝 Some Remarks on upholstery: \n",
    "\n",
    "- The upholstery for a car in a car trade web page refers to the materials used to cover the seats and other interior surfaces of the vehicle. The upholstery can be made from a variety of materials, including cloth, leather, vinyl, or synthetic materials, and it can be available in a range of colors and patterns.\n",
    "\n",
    "- The upholstery of a car can be an important factor for buyers who are looking for a specific level of comfort, durability, or style. In a car trade web page, information about the upholstery may be provided to help buyers and sellers understand the overall quality and condition of the vehicle's interior.\n",
    "\n",
    "- Car trade web pages may provide information about the upholstery for each vehicle in the listing, including the type of material used, the color, and any special features or options. It is important to note that the upholstery may vary depending on the specific trim level or package of the vehicle, as well as the region or market where the car is sold."
   ]
  },
  {
   "cell_type": "code",
   "execution_count": 216,
   "metadata": {
    "ExecuteTime": {
     "end_time": "2025-01-16T07:18:23.284776Z",
     "start_time": "2025-01-16T07:18:23.252076Z"
    }
   },
   "outputs": [
    {
     "name": "stdout",
     "output_type": "stream",
     "text": [
      "column name    :  upholstery\n",
      "--------------------------------\n",
      "per_of_nulls   :  % 35.0\n",
      "num_of_nulls   :  10020\n",
      "num_of_uniques :  7\n",
      "shape_of_df    :  (28630, 36)\n",
      "--------------------------------\n",
      "upholstery\n",
      "NaN             10020\n",
      "Cloth            8736\n",
      "Full leather     5439\n",
      "Part leather     2835\n",
      "alcantara         764\n",
      "Other             628\n",
      "Velour            208\n",
      "Name: count, dtype: int64\n"
     ]
    }
   ],
   "source": [
    "first_looking(df, \"upholstery\")"
   ]
  },
  {
   "cell_type": "markdown",
   "metadata": {},
   "source": [
    "## previous_owner\n",
    "\n",
    "### 📝 Some Remarks on previous owner: \n",
    "\n",
    "- The previous_owner for a car in a car trade web page refers to the number of individuals or entities who have owned the vehicle before the current seller. The number of previous owners can be an important factor for buyers who are looking for a vehicle with a known history and may provide insight into how well the vehicle has been maintained and cared for over time.\n",
    "\n",
    "- In a car trade web page, information about the previous owners may be provided to help buyers and sellers understand the ownership history of the vehicle. Car trade web pages may provide information about the number of previous owners for each vehicle in the listing, along with other key details such as the make, model, year, mileage, and asking price.\n",
    "\n",
    "- It is important to note that the number of previous owners may not necessarily reflect the current condition of the vehicle, and it is still important to inspect the vehicle carefully and perform a thorough test drive before making a purchase, especially for used cars.\n",
    "\n",
    "- Additionally, it is important to verify the ownership history of the vehicle through official documents, such as the vehicle title or registration, and to be wary of any vehicles with a suspicious or unclear ownership history.\n",
    "\n",
    "- A first resale will get a better price compared to a second or third resale.  Company owned cars often fetch a lower price as multiple employees and chauffeurs may have handled the car, leading to an undesirable level of maintenance."
   ]
  },
  {
   "cell_type": "code",
   "execution_count": 217,
   "metadata": {
    "ExecuteTime": {
     "end_time": "2025-01-16T07:19:13.841545Z",
     "start_time": "2025-01-16T07:18:23.287830Z"
    }
   },
   "outputs": [
    {
     "name": "stdout",
     "output_type": "stream",
     "text": [
      "column name    :  previous_owner\n",
      "--------------------------------\n",
      "per_of_nulls   :  % 51.05\n",
      "num_of_nulls   :  14615\n",
      "num_of_uniques :  11734\n",
      "shape_of_df    :  (28630, 36)\n",
      "--------------------------------\n",
      "previous_owner\n",
      "NaN                           14615\n",
      "[[50 km, 06/2022], 1]            64\n",
      "[[10 km, 08/2022], 1]            59\n",
      "[[10 km, 07/2022], 1]            45\n",
      "[[10 km, 09/2022], 1]            38\n",
      "                              ...  \n",
      "[[358,000 km, 10/2010], 2]        1\n",
      "[[165,400 km, 09/2010], 1]        1\n",
      "[[65,000 km, 10/2006], 1]         1\n",
      "[[71,000 km, 04/2013], 1]         1\n",
      "[[230,047 km, 07/2002], 5]        1\n",
      "Name: count, Length: 11734, dtype: int64\n"
     ]
    }
   ],
   "source": [
    "first_looking(df, \"previous_owner\")"
   ]
  },
  {
   "cell_type": "code",
   "execution_count": 218,
   "metadata": {
    "ExecuteTime": {
     "end_time": "2025-01-16T07:19:13.867984Z",
     "start_time": "2025-01-16T07:19:13.844596Z"
    }
   },
   "outputs": [
    {
     "data": {
      "text/plain": [
       "0        NaN\n",
       "1        NaN\n",
       "2        NaN\n",
       "3        NaN\n",
       "4        NaN\n",
       "        ... \n",
       "29474    NaN\n",
       "29475    NaN\n",
       "29476      1\n",
       "29477    NaN\n",
       "29478      5\n",
       "Name: previous_owner, Length: 28630, dtype: object"
      ]
     },
     "execution_count": 218,
     "metadata": {},
     "output_type": "execute_result"
    }
   ],
   "source": [
    "df[\"previous_owner\"] = df[\"previous_owner\"].str[1]\n",
    "\n",
    "df[\"previous_owner\"]"
   ]
  },
  {
   "cell_type": "code",
   "execution_count": 219,
   "metadata": {
    "ExecuteTime": {
     "end_time": "2025-01-16T07:19:13.879720Z",
     "start_time": "2025-01-16T07:19:13.871034Z"
    }
   },
   "outputs": [
    {
     "data": {
      "text/plain": [
       "previous_owner\n",
       "NaN    14615\n",
       "1       9746\n",
       "2       3221\n",
       "3        699\n",
       "4        184\n",
       "5         69\n",
       "6         37\n",
       "7         22\n",
       "8         16\n",
       "9         14\n",
       "12         3\n",
       "10         2\n",
       "14         1\n",
       "13         1\n",
       "Name: count, dtype: int64"
      ]
     },
     "execution_count": 219,
     "metadata": {},
     "output_type": "execute_result"
    }
   ],
   "source": [
    "df[\"previous_owner\"].value_counts(dropna=False)"
   ]
  },
  {
   "cell_type": "markdown",
   "metadata": {},
   "source": [
    "## energy_efficiency_class\n",
    "\n",
    "### 📝 Some Remarks on energy efficiency class about vehicles in Europe: \n",
    "\n",
    "- The energy efficiency class in Europe for a car in a car trade web page refers to the level of energy efficiency that the vehicle is certified to meet according to European Union (EU) regulations. The EU has established a series of energy efficiency classes known as CO2 emissions classes, which set limits on the amount of carbon dioxide that can be emitted from a vehicle's exhaust system.\n",
    "\n",
    "- The CO2 emissions classes are organized into different levels, with each class representing a different level of energy efficiency. The higher the energy efficiency class, the lower the CO2 emissions and the more environmentally friendly the vehicle is considered to be.\n",
    "\n",
    "- In a car trade web page, the energy efficiency class may be provided to help buyers and sellers understand the environmental impact of the vehicle, as well as to identify whether the vehicle is compliant with local energy efficiency regulations. Car trade web pages may provide information about the energy efficiency class for each vehicle in the listing, along with other key details such as the make, model, year, mileage, and asking price.\n",
    "\n",
    "- It is important to note that energy efficiency standards and classes may vary depending on the region or country where the car is sold, and different regions may have different regulations or requirements for energy efficiency. Therefore, it is recommended that buyers research the specific energy efficiency standards and regulations in their local jurisdiction before making a purchase.\n",
    "\n",
    "- The Ordinance on Energy Consumption Labelling for Passenger Cars (in German), which entered into force on 1 December 2011 (Federal Law Gazette I p.1756), requires cars to be equipped with a label (in German) informing consumers about a vehicle’s CO2 efficiency. The label not only indicates the vehicle’s energy consumption in absolute terms, but also provides information about its CO2 efficiency compared with other vehicles by ranking it on a colour-coded scale. CO2 efficiency is calculated using CO2 emissions and vehicle mass. The scale ranges from 'A+' (very efficient) to 'G' (rather inefficient).\n",
    "\n",
    "- The label also allows for information about electricity consumption to be included so as to take account of developments in the area of electric mobility.\n",
    "\n",
    "<img src=https://i.ibb.co/vkSz5nj/Automotive-Energy-Efficiency.png width=\"400\" height=\"100\">\n",
    "\n",
    "## <p style=\"background-color:#FDFEFE; font-family:newtimeroman; color:#060108; font-size:100%; text-align:center; border-radius:10px 10px;\">Efficiency Labels in German Automotives</p>\n",
    "\n",
    "**🧐 [Energy consumption labelling for passenger cars](https://www.bmwk.de/Redaktion/EN/Artikel/Energy/fuel-efficiency-labelling-for-passenger-cars.html)**"
   ]
  },
  {
   "cell_type": "code",
   "execution_count": 220,
   "metadata": {
    "ExecuteTime": {
     "end_time": "2025-01-16T07:19:13.909898Z",
     "start_time": "2025-01-16T07:19:13.882801Z"
    }
   },
   "outputs": [
    {
     "name": "stdout",
     "output_type": "stream",
     "text": [
      "column name    :  energy_efficiency_class\n",
      "--------------------------------\n",
      "per_of_nulls   :  % 72.74\n",
      "num_of_nulls   :  20826\n",
      "num_of_uniques :  11\n",
      "shape_of_df    :  (28630, 36)\n",
      "--------------------------------\n",
      "energy_efficiency_class\n",
      "NaN     20826\n",
      "B        2090\n",
      "A        1687\n",
      "C        1133\n",
      "A+       1089\n",
      "D         636\n",
      "A+++      375\n",
      "G         309\n",
      "E         271\n",
      "F         147\n",
      "A++        67\n",
      "Name: count, dtype: int64\n"
     ]
    }
   ],
   "source": [
    "first_looking(df, \"energy_efficiency_class\")"
   ]
  },
  {
   "cell_type": "code",
   "execution_count": 221,
   "metadata": {
    "ExecuteTime": {
     "end_time": "2025-01-16T07:19:13.938547Z",
     "start_time": "2025-01-16T07:19:13.915038Z"
    }
   },
   "outputs": [],
   "source": [
    "efficient = [\"A\", \"A+\", \"A++\", \"A+++\", \"B\"]\n",
    "unefficient = [\"C\", \"D\", \"E\", \"F\", \"G\"]\n",
    "\n",
    "def energyefficiency(x):\n",
    "    if x in efficient:\n",
    "        return \"efficient\"\n",
    "    elif x in unefficient:\n",
    "        return \"unefficient\"    \n",
    "    else:\n",
    "        return x\n",
    "\n",
    "df[\"energy_efficiency_class\"] = df[\"energy_efficiency_class\"].apply(energyefficiency)"
   ]
  },
  {
   "cell_type": "code",
   "execution_count": 222,
   "metadata": {
    "ExecuteTime": {
     "end_time": "2025-01-16T07:19:13.950780Z",
     "start_time": "2025-01-16T07:19:13.941600Z"
    }
   },
   "outputs": [
    {
     "data": {
      "text/plain": [
       "energy_efficiency_class\n",
       "NaN            20826\n",
       "efficient       5308\n",
       "unefficient     2496\n",
       "Name: count, dtype: int64"
      ]
     },
     "execution_count": 222,
     "metadata": {},
     "output_type": "execute_result"
    }
   ],
   "source": [
    "df[\"energy_efficiency_class\"].value_counts(dropna=False)"
   ]
  },
  {
   "cell_type": "markdown",
   "metadata": {},
   "source": [
    "## co_efficiency\n",
    "\n",
    "### 📝 Some Remarks on CO efficiency: \n",
    "\n",
    "- CO2 emissions is a measure of the amount of carbon dioxide that is emitted by a vehicle's exhaust system. CO2 emissions are an important factor in understanding the environmental impact of a vehicle, as high levels of CO2 emissions are associated with increased greenhouse gas emissions and climate change.\n",
    "\n",
    "- In Europe, CO2 emissions from cars are regulated by the European Union (EU), which has established a series of CO2 emissions standards known as the Euro emissions standards. These standards set limits on the amount of CO2 that can be emitted from a vehicle's exhaust system, based on the vehicle's weight and other factors.\n",
    "\n",
    "- In a car trade web page, information about the CO2 emissions may be provided to help buyers and sellers understand the environmental impact of the vehicle, as well as to identify whether the vehicle is compliant with local emissions regulations. Car trade web pages may provide information about the CO2 emissions for each vehicle in the listing, along with other key details such as the make, model, year, mileage, and asking price.\n",
    "\n",
    "- It is important to note that CO2 emissions may vary depending on the specific model and engine of the vehicle, as well as the driving conditions and other factors. Therefore, it is recommended that buyers research the specific CO2 emissions of the vehicle they are interested in and consider the environmental impact of their purchase before making a decision."
   ]
  },
  {
   "cell_type": "code",
   "execution_count": 223,
   "metadata": {
    "ExecuteTime": {
     "end_time": "2025-01-16T07:19:13.979806Z",
     "start_time": "2025-01-16T07:19:13.953833Z"
    }
   },
   "outputs": [
    {
     "name": "stdout",
     "output_type": "stream",
     "text": [
      "column name    :  co_efficiency\n",
      "--------------------------------\n",
      "per_of_nulls   :  % 72.74\n",
      "num_of_nulls   :  20826\n",
      "num_of_uniques :  2\n",
      "shape_of_df    :  (28630, 36)\n",
      "--------------------------------\n",
      "co_efficiency\n",
      "NaN                                                                                           20826\n",
      "Calculated on basis of measured CO₂-emissions taking into account the mass of the vehicle.     7804\n",
      "Name: count, dtype: int64\n"
     ]
    }
   ],
   "source": [
    "first_looking(df, \"co_efficiency\")"
   ]
  },
  {
   "cell_type": "code",
   "execution_count": 224,
   "metadata": {
    "ExecuteTime": {
     "end_time": "2025-01-16T07:19:13.989559Z",
     "start_time": "2025-01-16T07:19:13.983889Z"
    }
   },
   "outputs": [
    {
     "data": {
      "text/plain": [
       "(28630, 36)"
      ]
     },
     "execution_count": 224,
     "metadata": {},
     "output_type": "execute_result"
    }
   ],
   "source": [
    "df.shape"
   ]
  },
  {
   "cell_type": "code",
   "execution_count": 225,
   "metadata": {
    "ExecuteTime": {
     "end_time": "2025-01-16T07:19:14.034975Z",
     "start_time": "2025-01-16T07:19:13.993133Z"
    }
   },
   "outputs": [],
   "source": [
    "df.drop(\"co_efficiency\", axis=1, inplace=True)"
   ]
  },
  {
   "cell_type": "code",
   "execution_count": 226,
   "metadata": {
    "ExecuteTime": {
     "end_time": "2025-01-16T07:19:14.044671Z",
     "start_time": "2025-01-16T07:19:14.038031Z"
    }
   },
   "outputs": [
    {
     "data": {
      "text/plain": [
       "(28630, 35)"
      ]
     },
     "execution_count": 226,
     "metadata": {},
     "output_type": "execute_result"
    }
   ],
   "source": [
    "df.shape"
   ]
  },
  {
   "cell_type": "markdown",
   "metadata": {},
   "source": [
    "## comfort_&_convenience\n",
    "\n",
    "### 📝 Some Remarks on car exterior/interior features:\n",
    "\n",
    "Comfort and convenience for a car in a car trade web page refers to the features and amenities of the vehicle that are designed to enhance the comfort, convenience, and overall driving experience for the driver and passengers.\n",
    "\n",
    "Comfort and convenience features can vary widely depending on the make, model, and trim level of the vehicle, but may include things like:\n",
    "\n",
    "  - Power windows and door locks\n",
    "  - Heated and/or ventilated seats\n",
    "  - Automatic climate control\n",
    "  - Keyless entry and ignition\n",
    "  - Adaptive cruise control\n",
    "  - Blind spot monitoring\n",
    "  - Rearview camera\n",
    "  - Navigation system\n",
    "  - Infotainment system\n",
    "  - Bluetooth connectivity\n",
    "  - USB ports and other charging options\n",
    "  - Power-adjustable seats and steering wheel\n",
    "  - Sunroof or moonroof\n",
    "  - Automatic headlights and wipers\n",
    "\n",
    "The external modifications made to your car will affect the valuation of your vehicle. Examples of such modifications include new paint, body kit upgrade, tail wings, etc. Similarly, any dent, rust or scratches on the body of the car will lower the car’s market price. Similarly, interior condition and features of your car can lead to an increase or decrease in your car’s value. Things like a dirty dashboard, scratched seats, blown out speakers, etc. will decrease the price your car can fetch. On the other hand, installing unique features like GPS, parking camera, upgraded sound system, etc. will give a boost to your car’s value."
   ]
  },
  {
   "cell_type": "code",
   "execution_count": 227,
   "metadata": {
    "ExecuteTime": {
     "end_time": "2025-01-16T07:20:16.115961Z",
     "start_time": "2025-01-16T07:19:14.060943Z"
    }
   },
   "outputs": [
    {
     "name": "stdout",
     "output_type": "stream",
     "text": [
      "column name    :  comfort_convenience\n",
      "--------------------------------\n",
      "per_of_nulls   :  % 11.17\n",
      "num_of_nulls   :  3197\n",
      "num_of_uniques :  14439\n",
      "shape_of_df    :  (28630, 35)\n",
      "--------------------------------\n",
      "comfort_convenience\n",
      "NaN                                                                                                                                                                                                                                                                                                                                                                                                              3197\n",
      "[Air conditioning, Automatic climate control, Electrical side mirrors, Multi-function steering wheel, Power windows]                                                                                                                                                                                                                                                                                              244\n",
      "[Air conditioning, Automatic climate control, Cruise control]                                                                                                                                                                                                                                                                                                                                                     171\n",
      "[Air conditioning, Automatic climate control, Cruise control, Electrical side mirrors, Multi-function steering wheel, Power windows]                                                                                                                                                                                                                                                                              168\n",
      "[Air conditioning]                                                                                                                                                                                                                                                                                                                                                                                                157\n",
      "                                                                                                                                                                                                                                                                                                                                                                                                                 ... \n",
      "[Armrest, Automatic climate control, 2 zones, Cruise control, Fold flat passenger seat, Hill Holder, Leather steering wheel, Light sensor, Lumbar support, Multi-function steering wheel, Navigation system, Parking assist system sensors rear, Power windows, Rain sensor, Seat heating, Split rear seats, Start-stop system]                                                                                     1\n",
      "[Air conditioning, Armrest, Automatic climate control, Cruise control, Electric tailgate, Electrical side mirrors, Hill Holder, Keyless central door lock, Leather steering wheel, Light sensor, Multi-function steering wheel, Navigation system, Parking assist system sensors front, Parking assist system sensors rear, Power windows, Rain sensor, Seat heating]                                               1\n",
      "[Armrest, Automatic climate control, 2 zones, Cruise control, Electrical side mirrors, Fold flat passenger seat, Hill Holder, Leather steering wheel, Light sensor, Lumbar support, Multi-function steering wheel, Navigation system, Parking assist system sensors front, Parking assist system sensors rear, Power windows, Rain sensor, Seat heating, Split rear seats, Start-stop system, Tinted windows]       1\n",
      "[Armrest, Automatic climate control, 2 zones, Cruise control, Electrical side mirrors, Hill Holder, Keyless central door lock, Leather steering wheel, Light sensor, Multi-function steering wheel, Parking assist system camera, Parking assist system sensors front, Parking assist system sensors rear, Power windows, Rain sensor, Seat heating, Split rear seats, Start-stop system, Tinted windows]           1\n",
      "[Air conditioning, Armrest, Cruise control, Electrical side mirrors, Leather steering wheel, Lumbar support, Multi-function steering wheel, Navigation system, Power windows, Seat heating, Tinted windows]                                                                                                                                                                                                         1\n",
      "Name: count, Length: 14439, dtype: int64\n"
     ]
    }
   ],
   "source": [
    "first_looking(df, \"comfort_convenience\")"
   ]
  },
  {
   "cell_type": "code",
   "execution_count": 228,
   "metadata": {
    "ExecuteTime": {
     "end_time": "2025-01-16T07:20:16.165392Z",
     "start_time": "2025-01-16T07:20:16.119014Z"
    }
   },
   "outputs": [],
   "source": [
    "# [item[0] if type(item) == list else item for item in df[\"comfort_&_convenience\"]]\n",
    "\n",
    "df[\"comfort_convenience\"] = [\", \".join(item) if type(item) == list else item for item in df[\"comfort_convenience\"]]"
   ]
  },
  {
   "cell_type": "code",
   "execution_count": 229,
   "metadata": {
    "ExecuteTime": {
     "end_time": "2025-01-16T07:20:16.219405Z",
     "start_time": "2025-01-16T07:20:16.168955Z"
    }
   },
   "outputs": [
    {
     "data": {
      "text/plain": [
       "comfort_convenience\n",
       "NaN                                                                                                                                   3197\n",
       "Air conditioning, Automatic climate control, Electrical side mirrors, Multi-function steering wheel, Power windows                     244\n",
       "Air conditioning, Automatic climate control, Cruise control                                                                            171\n",
       "Air conditioning, Automatic climate control, Cruise control, Electrical side mirrors, Multi-function steering wheel, Power windows     168\n",
       "Air conditioning                                                                                                                       157\n",
       "Name: count, dtype: int64"
      ]
     },
     "execution_count": 229,
     "metadata": {},
     "output_type": "execute_result"
    }
   ],
   "source": [
    "df[\"comfort_convenience\"].value_counts(dropna=False).head()"
   ]
  },
  {
   "cell_type": "markdown",
   "metadata": {},
   "source": [
    "## entertainment_media\n",
    "\n",
    "### 📝 Some Remarks on car Entertainment & Media features:\n",
    "\n",
    "Entertainment and media features for a car in a car trade web page refer to the technology and amenities of the vehicle that are designed to provide entertainment, information, and connectivity to the driver and passengers. These features can enhance the driving experience by providing access to music, news, navigation, and other media.\n",
    "\n",
    "Some examples of entertainment and media features that may be listed on a car trade web page include:\n",
    "\n",
    "  - Infotainment system with touchscreen display\n",
    "  - Bluetooth connectivity for streaming music and making phone calls\n",
    "  - USB ports and other charging options for devices\n",
    "  - Satellite radio\n",
    "  - HD radio\n",
    "  - CD player or MP3 player\n",
    "  - Navigation system\n",
    "  - Voice command system\n",
    "  - Rear-seat entertainment system with DVD player and screens\n",
    "  - WiFi hotspot capability\n",
    "  - Apple CarPlay and Android Auto compatibility\n",
    "  - Premium sound system with high-quality speakers\n",
    "\n",
    "In a car trade web page, information about the entertainment and media features may be provided to help buyers and sellers understand the overall value and desirability of the vehicle. Car trade web pages may provide information about the specific entertainment and media features for each vehicle in the listing, along with other key details such as the make, model, year, mileage, and asking price.\n",
    "\n",
    "It is important to note that the availability and quality of entertainment and media features can vary widely depending on the specific model and trim level of the vehicle, as well as the region or market where the car is sold. Therefore, it is recommended that buyers carefully review the specific features and options of the vehicle they are interested in to ensure that they meet their needs and preferences."
   ]
  },
  {
   "cell_type": "code",
   "execution_count": 230,
   "metadata": {
    "ExecuteTime": {
     "end_time": "2025-01-16T07:20:17.383547Z",
     "start_time": "2025-01-16T07:20:16.228648Z"
    }
   },
   "outputs": [
    {
     "name": "stdout",
     "output_type": "stream",
     "text": [
      "column name    :  entertainment_media\n",
      "--------------------------------\n",
      "per_of_nulls   :  % 17.42\n",
      "num_of_nulls   :  4986\n",
      "num_of_uniques :  1945\n",
      "shape_of_df    :  (28630, 35)\n",
      "--------------------------------\n",
      "entertainment_media\n",
      "NaN                                                                                                                                                                          4986\n",
      "[Bluetooth, USB]                                                                                                                                                              753\n",
      "[Bluetooth]                                                                                                                                                                   665\n",
      "[On-board computer]                                                                                                                                                           662\n",
      "[CD player, On-board computer, Radio]                                                                                                                                         644\n",
      "                                                                                                                                                                             ... \n",
      "[Android Auto, Apple CarPlay, Bluetooth, Digital cockpit, Digital radio, Induction charging for smartphones, On-board computer, Radio, Sound system, WLAN / WiFi hotspot]       1\n",
      "[Bluetooth, CD player, Digital cockpit, Digital radio, Hands-free equipment, Integrated music streaming, On-board computer, Sound system, USB, WLAN / WiFi hotspot]             1\n",
      "[Digital cockpit, Digital radio, On-board computer, Radio]                                                                                                                      1\n",
      "[Android Auto, Apple CarPlay, Digital radio, On-board computer, Radio, Sound system, USB, WLAN / WiFi hotspot]                                                                  1\n",
      "[Hands-free equipment, Integrated music streaming, On-board computer, Radio, USB]                                                                                               1\n",
      "Name: count, Length: 1945, dtype: int64\n"
     ]
    }
   ],
   "source": [
    "first_looking(df, \"entertainment_media\")"
   ]
  },
  {
   "cell_type": "code",
   "execution_count": 231,
   "metadata": {
    "ExecuteTime": {
     "end_time": "2025-01-16T07:20:17.417722Z",
     "start_time": "2025-01-16T07:20:17.386615Z"
    }
   },
   "outputs": [],
   "source": [
    "# [item[0] if type(item) == list else item for item in df[\"entertainment_&_media\"]]\n",
    "\n",
    "df[\"entertainment_media\"] = [\", \".join(item) if type(item) == list else item for item in df[\"entertainment_media\"]]"
   ]
  },
  {
   "cell_type": "code",
   "execution_count": 232,
   "metadata": {
    "ExecuteTime": {
     "end_time": "2025-01-16T07:20:17.437607Z",
     "start_time": "2025-01-16T07:20:17.420827Z"
    }
   },
   "outputs": [
    {
     "data": {
      "text/plain": [
       "entertainment_media\n",
       "NaN                                                                                                                4986\n",
       "Bluetooth, USB                                                                                                      753\n",
       "Bluetooth                                                                                                           665\n",
       "On-board computer                                                                                                   662\n",
       "CD player, On-board computer, Radio                                                                                 644\n",
       "Radio                                                                                                               425\n",
       "Android Auto, Apple CarPlay, Bluetooth, Digital radio, Hands-free equipment, On-board computer, Radio, USB          414\n",
       "Bluetooth, CD player, Hands-free equipment, MP3, On-board computer, Radio, USB                                      408\n",
       "CD player, Radio                                                                                                    367\n",
       "Android Auto, Apple CarPlay, Bluetooth, Digital radio, Hands-free equipment, MP3, On-board computer, Radio, USB     356\n",
       "Name: count, dtype: int64"
      ]
     },
     "execution_count": 232,
     "metadata": {},
     "output_type": "execute_result"
    }
   ],
   "source": [
    "df[\"entertainment_media\"].value_counts(dropna=False).head(10)"
   ]
  },
  {
   "cell_type": "markdown",
   "metadata": {},
   "source": [
    "## extras\n",
    "\n",
    "### 📝 Some Remarks on car extra features:\n",
    "\n",
    "Automotive technology is improving rapidly. Cars with backup cameras, hands-free parking assist, highway autopilot modes, in-cabin entertainment, and computer navigation systems tend to be more expensive than their old-fashioned peers, usually thousands or even tens of thousands of dollars more expensive. But they’re also in high demand and therefore hold value better.\n",
    "\n",
    "Extra features for a car in a car trade web page refer to the additional features and options that may be included in the vehicle beyond the standard set of features. These extra features can enhance the value, comfort, and convenience of the vehicle, and may include things like upgraded trim levels, special packages, or individual options.\n",
    "\n",
    "Some examples of extra features that may be listed on a car trade web page include:\n",
    "\n",
    "  - Leather or premium upholstery\n",
    "  - Upgraded wheels and tires\n",
    "  - Sport-tuned suspension or performance brakes\n",
    "  - Power-adjustable seats with memory function\n",
    "  - Heated and/or ventilated seats\n",
    "  - Panoramic sunroof or moonroof\n",
    "  - Xenon or LED headlights\n",
    "  - Adaptive headlights that turn with the steering wheel\n",
    "  - Advanced safety features such as lane departure warning, forward collision warning, or automatic emergency braking\n",
    "  - Premium sound system with high-quality speakers\n",
    "  - Rearview camera with 360-degree view\n",
    "  - Parking sensors or automatic parking assist\n",
    "  - Remote start or keyless entry\n",
    "  - Power liftgate or hands-free liftgate\n",
    "  - Towing package or trailer hitch\n",
    "\n",
    "In a car trade web page, information about the extra features may be provided to help buyers and sellers understand the overall value and desirability of the vehicle. Car trade web pages may provide information about the specific extra features for each vehicle in the listing, along with other key details such as the make, model, year, mileage, and asking price.\n",
    "\n",
    "It is important to note that the availability and quality of extra features can vary widely depending on the specific model and trim level of the vehicle, as well as the region or market where the car is sold. Therefore, it is recommended that buyers carefully review the specific features and options of the vehicle they are interested in to ensure that they meet their needs and preferences."
   ]
  },
  {
   "cell_type": "code",
   "execution_count": 233,
   "metadata": {
    "ExecuteTime": {
     "end_time": "2025-01-16T07:20:35.031645Z",
     "start_time": "2025-01-16T07:20:17.441163Z"
    }
   },
   "outputs": [
    {
     "name": "stdout",
     "output_type": "stream",
     "text": [
      "column name    :  extras\n",
      "--------------------------------\n",
      "per_of_nulls   :  % 17.99\n",
      "num_of_nulls   :  5150\n",
      "num_of_uniques :  9361\n",
      "shape_of_df    :  (28630, 35)\n",
      "--------------------------------\n",
      "extras\n",
      "NaN                                                                                                                                                                                                                                                                   5150\n",
      "[Alloy wheels]                                                                                                                                                                                                                                                        3408\n",
      "[Alloy wheels, Roof rack]                                                                                                                                                                                                                                              380\n",
      "[Alloy wheels, Sport seats]                                                                                                                                                                                                                                            372\n",
      "[Alloy wheels, Touch screen]                                                                                                                                                                                                                                           231\n",
      "                                                                                                                                                                                                                                                                      ... \n",
      "[Alloy wheels (18\"), Spoiler, Summer tyres, Trailer hitch]                                                                                                                                                                                                               1\n",
      "[All season tyres, Alloy wheels, Automatically dimming interior mirror, Catalytic Converter, Headlight washer system, Ski bag, Sport seats, Trailer hitch, Winter tyres]                                                                                                 1\n",
      "[Alloy wheels, Automatically dimming interior mirror, Headlight washer system, Sport package, Sport seats, Summer tyres]                                                                                                                                                 1\n",
      "[Alloy wheels (19\"), Ambient lighting, Automatically dimming interior mirror, Catalytic Converter, E10-enabled, Emergency tyre repair kit, Headlight washer system, Spoiler, Sport package, Sport seats, Sport suspension, Summer tyres, Tuned car, Voice Control]       1\n",
      "[Alloy wheels, Automatically dimming interior mirror, Ski bag, Trailer hitch]                                                                                                                                                                                            1\n",
      "Name: count, Length: 9361, dtype: int64\n"
     ]
    }
   ],
   "source": [
    "first_looking(df, \"extras\")"
   ]
  },
  {
   "cell_type": "code",
   "execution_count": 234,
   "metadata": {
    "ExecuteTime": {
     "end_time": "2025-01-16T07:20:35.064856Z",
     "start_time": "2025-01-16T07:20:35.035206Z"
    }
   },
   "outputs": [],
   "source": [
    "df[\"extras\"] = [\", \".join(item) if type(item) == list else item for item in df[\"extras\"]]"
   ]
  },
  {
   "cell_type": "code",
   "execution_count": 235,
   "metadata": {
    "ExecuteTime": {
     "end_time": "2025-01-16T07:20:35.090793Z",
     "start_time": "2025-01-16T07:20:35.068709Z"
    }
   },
   "outputs": [
    {
     "data": {
      "text/plain": [
       "extras\n",
       "NaN                                                               5150\n",
       "Alloy wheels                                                      3408\n",
       "Alloy wheels, Roof rack                                            380\n",
       "Alloy wheels, Sport seats                                          372\n",
       "Alloy wheels, Touch screen                                         231\n",
       "Alloy wheels, Catalytic Converter, Touch screen                    178\n",
       "Roof rack                                                          160\n",
       "Alloy wheels, Sport seats, Sport suspension                        157\n",
       "Alloy wheels, Catalytic Converter, Touch screen, Voice Control     153\n",
       "Alloy wheels, Touch screen, Voice Control                          142\n",
       "Name: count, dtype: int64"
      ]
     },
     "execution_count": 235,
     "metadata": {},
     "output_type": "execute_result"
    }
   ],
   "source": [
    "df[\"extras\"].value_counts(dropna=False).head(10)"
   ]
  },
  {
   "cell_type": "markdown",
   "metadata": {},
   "source": [
    "## safety_security\n",
    "\n",
    "### 📝 Some Remarks on car Safety & Security features:\n",
    "\n",
    "\n",
    "Safety and security features for a car in a car trade web page refer to the technologies and systems that are designed to protect the vehicle and its occupants from harm. These features can help prevent accidents, reduce the risk of injury, and protect the vehicle from theft or damage.\n",
    "\n",
    "Some examples of safety and security features that may be listed on a car trade web page include:\n",
    "\n",
    "  - Anti-lock brakes (ABS)\n",
    "  - Traction control\n",
    "  - Stability control\n",
    "  - Electronic stability program (ESP)\n",
    "  - Airbags (front, side, and curtain)\n",
    "  - Seatbelt pretensioners and force limiters\n",
    "  - Lane departure warning\n",
    "  - Blind spot monitoring\n",
    "  - Forward collision warning\n",
    "  - Automatic emergency braking\n",
    "  - Adaptive cruise control\n",
    "  - Rearview camera\n",
    "  - Parking sensors\n",
    "  - Anti-theft system with alarm and immobilizer\n",
    "  - Child safety locks and anchors\n",
    "  - Tire pressure monitoring system (TPMS)\n",
    "\n",
    "In a car trade web page, information about the safety and security features may be provided to help buyers and sellers understand the overall safety and security of the vehicle. Car trade web pages may provide information about the specific safety and security features for each vehicle in the listing, along with other key details such as the make, model, year, mileage, and asking price.\n",
    "\n",
    "It is important to note that the availability and quality of safety and security features can vary widely depending on the specific model and trim level of the vehicle, as well as the region or market where the car is sold. Therefore, it is recommended that buyers carefully review the specific features and options of the vehicle they are interested in to ensure that they meet their needs and preferences for safety and security."
   ]
  },
  {
   "cell_type": "code",
   "execution_count": 236,
   "metadata": {
    "ExecuteTime": {
     "end_time": "2025-01-16T07:21:15.341838Z",
     "start_time": "2025-01-16T07:20:35.093849Z"
    }
   },
   "outputs": [
    {
     "name": "stdout",
     "output_type": "stream",
     "text": [
      "column name    :  safety_security\n",
      "--------------------------------\n",
      "per_of_nulls   :  % 11.23\n",
      "num_of_nulls   :  3215\n",
      "num_of_uniques :  12550\n",
      "shape_of_df    :  (28630, 35)\n",
      "--------------------------------\n",
      "safety_security\n",
      "NaN                                                                                                                                                                                                                                                                                                                                                                                                                                                                                                                            3215\n",
      "[Isofix]                                                                                                                                                                                                                                                                                                                                                                                                                                                                                                                        380\n",
      "[ABS, Central door lock, Driver-side airbag, Electronic stability control, Immobilizer, Isofix, Passenger-side airbag, Power steering, Side airbag]                                                                                                                                                                                                                                                                                                                                                                             328\n",
      "[ABS, Central door lock, Driver-side airbag, Immobilizer, Isofix, Passenger-side airbag, Power steering, Side airbag, Traction control]                                                                                                                                                                                                                                                                                                                                                                                         125\n",
      "[ABS, Central door lock, Driver-side airbag, Electronic stability control, Fog lights, Isofix, Power steering, Side airbag]                                                                                                                                                                                                                                                                                                                                                                                                     121\n",
      "                                                                                                                                                                                                                                                                                                                                                                                                                                                                                                                               ... \n",
      "[Daytime running lights, Emergency brake assistant, Fog lights, Isofix, LED Daytime Running Lights, Lane departure warning system, Power steering, Tire pressure monitoring system]                                                                                                                                                                                                                                                                                                                                               1\n",
      "[ABS, Adaptive Cruise Control, Central door lock, Daytime running lights, Driver drowsiness detection, Driver-side airbag, Electronic stability control, Emergency brake assistant, Emergency system, Fog lights, Full-LED headlights, Glare-free high beam headlights, Immobilizer, Isofix, LED Headlights, Lane departure warning system, Passenger-side airbag, Power steering, Side airbag, Tire pressure monitoring system, Traction control]                                                                                1\n",
      "[ABS, Driver-side airbag, Electronic stability control, Emergency brake assistant, Immobilizer, LED Daytime Running Lights, Passenger-side airbag, Side airbag, Tire pressure monitoring system, Traction control]                                                                                                                                                                                                                                                                                                                1\n",
      "[ABS, Blind spot monitor, Central door lock, Daytime running lights, Distance warning system, Driver drowsiness detection, Driver-side airbag, Electronic stability control, Emergency system, Fog lights, Full-LED headlights, Head airbag, High beam assist, Immobilizer, Isofix, LED Daytime Running Lights, LED Headlights, Lane departure warning system, Passenger-side airbag, Power steering, Side airbag, Speed limit control system, Tire pressure monitoring system, Traction control, Traffic sign recognition]       1\n",
      "[ABS, Alarm system, Central door lock, Central door lock with remote control, Driver-side airbag, Electronic stability control, Fog lights, Head airbag, Immobilizer, Power steering, Side airbag, Traction control]                                                                                                                                                                                                                                                                                                              1\n",
      "Name: count, Length: 12550, dtype: int64\n"
     ]
    }
   ],
   "source": [
    "first_looking(df, \"safety_security\")"
   ]
  },
  {
   "cell_type": "code",
   "execution_count": 237,
   "metadata": {
    "ExecuteTime": {
     "end_time": "2025-01-16T07:21:15.374943Z",
     "start_time": "2025-01-16T07:21:15.344887Z"
    }
   },
   "outputs": [],
   "source": [
    "df[\"safety_security\"] = [\", \".join(item) if type(item) == list else item for item in df[\"safety_security\"]]"
   ]
  },
  {
   "cell_type": "code",
   "execution_count": 238,
   "metadata": {
    "ExecuteTime": {
     "end_time": "2025-01-16T07:21:15.454247Z",
     "start_time": "2025-01-16T07:21:15.378543Z"
    }
   },
   "outputs": [
    {
     "data": {
      "text/plain": [
       "safety_security\n",
       "NaN                                                                                                                                                  3215\n",
       "Isofix                                                                                                                                                380\n",
       "ABS, Central door lock, Driver-side airbag, Electronic stability control, Immobilizer, Isofix, Passenger-side airbag, Power steering, Side airbag     328\n",
       "ABS, Central door lock, Driver-side airbag, Immobilizer, Isofix, Passenger-side airbag, Power steering, Side airbag, Traction control                 125\n",
       "ABS, Central door lock, Driver-side airbag, Electronic stability control, Fog lights, Isofix, Power steering, Side airbag                             121\n",
       "Name: count, dtype: int64"
      ]
     },
     "execution_count": 238,
     "metadata": {},
     "output_type": "execute_result"
    }
   ],
   "source": [
    "df[\"safety_security\"].value_counts(dropna=False).head()"
   ]
  },
  {
   "cell_type": "markdown",
   "metadata": {},
   "source": [
    "**Now we can save our cleaned file as in csv format.**"
   ]
  },
  {
   "cell_type": "code",
   "execution_count": 239,
   "metadata": {
    "ExecuteTime": {
     "end_time": "2025-01-16T07:21:15.539877Z",
     "start_time": "2025-01-16T07:21:15.457820Z"
    }
   },
   "outputs": [
    {
     "data": {
      "text/plain": [
       "(28630, 35)"
      ]
     },
     "metadata": {},
     "output_type": "display_data"
    },
    {
     "name": "stdout",
     "output_type": "stream",
     "text": [
      "0 29478\n"
     ]
    },
    {
     "data": {
      "text/plain": [
       "(28630, 35)"
      ]
     },
     "metadata": {},
     "output_type": "display_data"
    },
    {
     "name": "stdout",
     "output_type": "stream",
     "text": [
      "0 28629\n"
     ]
    }
   ],
   "source": [
    "display(df.shape)\n",
    "print(df.index[0], df.index[-1])\n",
    "\n",
    "df = df.reset_index(drop=True)\n",
    "\n",
    "display(df.shape)\n",
    "print(df.index[0], df.index[-1])"
   ]
  },
  {
   "cell_type": "markdown",
   "metadata": {},
   "source": [
    "**We started with 58 columns at the beginning of the analysis, now we have 35 columns.**"
   ]
  },
  {
   "cell_type": "code",
   "execution_count": 240,
   "metadata": {
    "ExecuteTime": {
     "end_time": "2025-01-16T07:21:15.564874Z",
     "start_time": "2025-01-16T07:21:15.543441Z"
    },
    "scrolled": false
   },
   "outputs": [
    {
     "data": {
      "text/html": [
       "<div>\n",
       "<style scoped>\n",
       "    .dataframe tbody tr th:only-of-type {\n",
       "        vertical-align: middle;\n",
       "    }\n",
       "\n",
       "    .dataframe tbody tr th {\n",
       "        vertical-align: top;\n",
       "    }\n",
       "\n",
       "    .dataframe thead th {\n",
       "        text-align: right;\n",
       "    }\n",
       "</style>\n",
       "<table border=\"1\" class=\"dataframe\">\n",
       "  <thead>\n",
       "    <tr style=\"text-align: right;\">\n",
       "      <th></th>\n",
       "      <th>0</th>\n",
       "      <th>1</th>\n",
       "      <th>2</th>\n",
       "      <th>3</th>\n",
       "      <th>4</th>\n",
       "    </tr>\n",
       "  </thead>\n",
       "  <tbody>\n",
       "    <tr>\n",
       "      <th>make_model</th>\n",
       "      <td>Mercedes-Benz A 160</td>\n",
       "      <td>Mercedes-Benz EQE 350</td>\n",
       "      <td>Mercedes-Benz A 45 AMG</td>\n",
       "      <td>Mercedes-Benz A 35 AMG</td>\n",
       "      <td>Mercedes-Benz A 45 AMG</td>\n",
       "    </tr>\n",
       "    <tr>\n",
       "      <th>short_description</th>\n",
       "      <td>CDi</td>\n",
       "      <td>350+</td>\n",
       "      <td>S 4Matic+ 8G-DCT</td>\n",
       "      <td>4Matic+ 7G-DCT</td>\n",
       "      <td>200CDI BE Line 4M 7G-DCT</td>\n",
       "    </tr>\n",
       "    <tr>\n",
       "      <th>make</th>\n",
       "      <td>Mercedes-Benz</td>\n",
       "      <td>Mercedes-Benz</td>\n",
       "      <td>Mercedes-Benz</td>\n",
       "      <td>Mercedes-Benz</td>\n",
       "      <td>Mercedes-Benz</td>\n",
       "    </tr>\n",
       "    <tr>\n",
       "      <th>model</th>\n",
       "      <td>A 160</td>\n",
       "      <td>EQE 350</td>\n",
       "      <td>A 45 AMG</td>\n",
       "      <td>A 35 AMG</td>\n",
       "      <td>A 45 AMG</td>\n",
       "    </tr>\n",
       "    <tr>\n",
       "      <th>location</th>\n",
       "      <td>P.I. EL PALMAR C/FORJA 6,  11500 PUERTO DE SAN...</td>\n",
       "      <td>APARTADO DE CORREOS 1032,  26140 LOGROÑO, ES</td>\n",
       "      <td>PORT. TARRACO, MOLL DE LLEVANT, Nº 5, LOC. 6-8...</td>\n",
       "      <td>Carrer de Provença, 31 Local,  8029 BARCELONA, ES</td>\n",
       "      <td>CARRIL ARAGONES 4,  30007 CASILLAS, ES</td>\n",
       "    </tr>\n",
       "    <tr>\n",
       "      <th>price</th>\n",
       "      <td>16950.00</td>\n",
       "      <td>80900.00</td>\n",
       "      <td>69900.00</td>\n",
       "      <td>46990.00</td>\n",
       "      <td>16800.00</td>\n",
       "    </tr>\n",
       "    <tr>\n",
       "      <th>body_type</th>\n",
       "      <td>Compact</td>\n",
       "      <td>Compact</td>\n",
       "      <td>Compact</td>\n",
       "      <td>Compact</td>\n",
       "      <td>Compact</td>\n",
       "    </tr>\n",
       "    <tr>\n",
       "      <th>type</th>\n",
       "      <td>Used</td>\n",
       "      <td>Pre-registered</td>\n",
       "      <td>Used</td>\n",
       "      <td>Used</td>\n",
       "      <td>Used</td>\n",
       "    </tr>\n",
       "    <tr>\n",
       "      <th>doors</th>\n",
       "      <td>5.00</td>\n",
       "      <td>4.00</td>\n",
       "      <td>5.00</td>\n",
       "      <td>5.00</td>\n",
       "      <td>5.00</td>\n",
       "    </tr>\n",
       "    <tr>\n",
       "      <th>warranty</th>\n",
       "      <td>24.00</td>\n",
       "      <td>24.00</td>\n",
       "      <td>12.00</td>\n",
       "      <td>12.00</td>\n",
       "      <td>12.00</td>\n",
       "    </tr>\n",
       "    <tr>\n",
       "      <th>mileage</th>\n",
       "      <td>120200.00</td>\n",
       "      <td>5000.00</td>\n",
       "      <td>18900.00</td>\n",
       "      <td>18995.00</td>\n",
       "      <td>197000.00</td>\n",
       "    </tr>\n",
       "    <tr>\n",
       "      <th>gearbox</th>\n",
       "      <td>Manual</td>\n",
       "      <td>Automatic</td>\n",
       "      <td>Automatic</td>\n",
       "      <td>Automatic</td>\n",
       "      <td>Automatic</td>\n",
       "    </tr>\n",
       "    <tr>\n",
       "      <th>fuel_type</th>\n",
       "      <td>Diesel</td>\n",
       "      <td>Electric</td>\n",
       "      <td>Benzine</td>\n",
       "      <td>Benzine</td>\n",
       "      <td>Diesel</td>\n",
       "    </tr>\n",
       "    <tr>\n",
       "      <th>seller</th>\n",
       "      <td>Dealer</td>\n",
       "      <td>Dealer</td>\n",
       "      <td>Dealer</td>\n",
       "      <td>Dealer</td>\n",
       "      <td>Dealer</td>\n",
       "    </tr>\n",
       "    <tr>\n",
       "      <th>seats</th>\n",
       "      <td>NaN</td>\n",
       "      <td>5.00</td>\n",
       "      <td>5.00</td>\n",
       "      <td>5.00</td>\n",
       "      <td>5.00</td>\n",
       "    </tr>\n",
       "    <tr>\n",
       "      <th>engine_size</th>\n",
       "      <td>NaN</td>\n",
       "      <td>1.00</td>\n",
       "      <td>1991.00</td>\n",
       "      <td>1991.00</td>\n",
       "      <td>2143.00</td>\n",
       "    </tr>\n",
       "    <tr>\n",
       "      <th>gears</th>\n",
       "      <td>NaN</td>\n",
       "      <td>9.00</td>\n",
       "      <td>8.00</td>\n",
       "      <td>7.00</td>\n",
       "      <td>7.00</td>\n",
       "    </tr>\n",
       "    <tr>\n",
       "      <th>co_emissions</th>\n",
       "      <td>NaN</td>\n",
       "      <td>0.00</td>\n",
       "      <td>NaN</td>\n",
       "      <td>NaN</td>\n",
       "      <td>NaN</td>\n",
       "    </tr>\n",
       "    <tr>\n",
       "      <th>drivetrain</th>\n",
       "      <td>NaN</td>\n",
       "      <td>NaN</td>\n",
       "      <td>4WD</td>\n",
       "      <td>4WD</td>\n",
       "      <td>4WD</td>\n",
       "    </tr>\n",
       "    <tr>\n",
       "      <th>cylinders</th>\n",
       "      <td>NaN</td>\n",
       "      <td>NaN</td>\n",
       "      <td>4.00</td>\n",
       "      <td>4.00</td>\n",
       "      <td>4.00</td>\n",
       "    </tr>\n",
       "    <tr>\n",
       "      <th>comfort_convenience</th>\n",
       "      <td>NaN</td>\n",
       "      <td>NaN</td>\n",
       "      <td>NaN</td>\n",
       "      <td>Air conditioning, Automatic climate control, P...</td>\n",
       "      <td>Air conditioning, Electrical side mirrors, Mul...</td>\n",
       "    </tr>\n",
       "    <tr>\n",
       "      <th>entertainment_media</th>\n",
       "      <td>NaN</td>\n",
       "      <td>NaN</td>\n",
       "      <td>NaN</td>\n",
       "      <td>USB</td>\n",
       "      <td>Bluetooth, CD player, MP3, USB</td>\n",
       "    </tr>\n",
       "    <tr>\n",
       "      <th>safety_security</th>\n",
       "      <td>NaN</td>\n",
       "      <td>NaN</td>\n",
       "      <td>NaN</td>\n",
       "      <td>ABS, Central door lock, Driver-side airbag, El...</td>\n",
       "      <td>ABS, Central door lock, Driver-side airbag, El...</td>\n",
       "    </tr>\n",
       "    <tr>\n",
       "      <th>extras</th>\n",
       "      <td>NaN</td>\n",
       "      <td>NaN</td>\n",
       "      <td>NaN</td>\n",
       "      <td>Sport seats</td>\n",
       "      <td>NaN</td>\n",
       "    </tr>\n",
       "    <tr>\n",
       "      <th>empty_weight</th>\n",
       "      <td>NaN</td>\n",
       "      <td>NaN</td>\n",
       "      <td>NaN</td>\n",
       "      <td>NaN</td>\n",
       "      <td>1545.00</td>\n",
       "    </tr>\n",
       "    <tr>\n",
       "      <th>full_service_history</th>\n",
       "      <td>No</td>\n",
       "      <td>No</td>\n",
       "      <td>No</td>\n",
       "      <td>No</td>\n",
       "      <td>No</td>\n",
       "    </tr>\n",
       "    <tr>\n",
       "      <th>upholstery</th>\n",
       "      <td>NaN</td>\n",
       "      <td>NaN</td>\n",
       "      <td>NaN</td>\n",
       "      <td>NaN</td>\n",
       "      <td>NaN</td>\n",
       "    </tr>\n",
       "    <tr>\n",
       "      <th>previous_owner</th>\n",
       "      <td>NaN</td>\n",
       "      <td>NaN</td>\n",
       "      <td>NaN</td>\n",
       "      <td>NaN</td>\n",
       "      <td>NaN</td>\n",
       "    </tr>\n",
       "    <tr>\n",
       "      <th>energy_efficiency_class</th>\n",
       "      <td>NaN</td>\n",
       "      <td>NaN</td>\n",
       "      <td>NaN</td>\n",
       "      <td>NaN</td>\n",
       "      <td>NaN</td>\n",
       "    </tr>\n",
       "    <tr>\n",
       "      <th>age</th>\n",
       "      <td>6.00</td>\n",
       "      <td>0.00</td>\n",
       "      <td>2.00</td>\n",
       "      <td>2.00</td>\n",
       "      <td>7.00</td>\n",
       "    </tr>\n",
       "    <tr>\n",
       "      <th>power_kW</th>\n",
       "      <td>NaN</td>\n",
       "      <td>215.00</td>\n",
       "      <td>310.00</td>\n",
       "      <td>225.00</td>\n",
       "      <td>100.00</td>\n",
       "    </tr>\n",
       "    <tr>\n",
       "      <th>power_hp</th>\n",
       "      <td>NaN</td>\n",
       "      <td>292.00</td>\n",
       "      <td>421.00</td>\n",
       "      <td>306.00</td>\n",
       "      <td>136.00</td>\n",
       "    </tr>\n",
       "    <tr>\n",
       "      <th>cons_avg</th>\n",
       "      <td>NaN</td>\n",
       "      <td>NaN</td>\n",
       "      <td>8.40</td>\n",
       "      <td>7.30</td>\n",
       "      <td>4.90</td>\n",
       "    </tr>\n",
       "    <tr>\n",
       "      <th>cons_city</th>\n",
       "      <td>NaN</td>\n",
       "      <td>NaN</td>\n",
       "      <td>10.90</td>\n",
       "      <td>9.30</td>\n",
       "      <td>5.70</td>\n",
       "    </tr>\n",
       "    <tr>\n",
       "      <th>cons_country</th>\n",
       "      <td>NaN</td>\n",
       "      <td>NaN</td>\n",
       "      <td>5.80</td>\n",
       "      <td>6.10</td>\n",
       "      <td>4.40</td>\n",
       "    </tr>\n",
       "  </tbody>\n",
       "</table>\n",
       "</div>"
      ],
      "text/plain": [
       "                                                                         0  \\\n",
       "make_model                                             Mercedes-Benz A 160   \n",
       "short_description                                                      CDi   \n",
       "make                                                         Mercedes-Benz   \n",
       "model                                                                A 160   \n",
       "location                 P.I. EL PALMAR C/FORJA 6,  11500 PUERTO DE SAN...   \n",
       "price                                                             16950.00   \n",
       "body_type                                                          Compact   \n",
       "type                                                                  Used   \n",
       "doors                                                                 5.00   \n",
       "warranty                                                             24.00   \n",
       "mileage                                                          120200.00   \n",
       "gearbox                                                             Manual   \n",
       "fuel_type                                                           Diesel   \n",
       "seller                                                              Dealer   \n",
       "seats                                                                  NaN   \n",
       "engine_size                                                            NaN   \n",
       "gears                                                                  NaN   \n",
       "co_emissions                                                           NaN   \n",
       "drivetrain                                                             NaN   \n",
       "cylinders                                                              NaN   \n",
       "comfort_convenience                                                    NaN   \n",
       "entertainment_media                                                    NaN   \n",
       "safety_security                                                        NaN   \n",
       "extras                                                                 NaN   \n",
       "empty_weight                                                           NaN   \n",
       "full_service_history                                                    No   \n",
       "upholstery                                                             NaN   \n",
       "previous_owner                                                         NaN   \n",
       "energy_efficiency_class                                                NaN   \n",
       "age                                                                   6.00   \n",
       "power_kW                                                               NaN   \n",
       "power_hp                                                               NaN   \n",
       "cons_avg                                                               NaN   \n",
       "cons_city                                                              NaN   \n",
       "cons_country                                                           NaN   \n",
       "\n",
       "                                                                    1  \\\n",
       "make_model                                      Mercedes-Benz EQE 350   \n",
       "short_description                                                350+   \n",
       "make                                                    Mercedes-Benz   \n",
       "model                                                         EQE 350   \n",
       "location                 APARTADO DE CORREOS 1032,  26140 LOGROÑO, ES   \n",
       "price                                                        80900.00   \n",
       "body_type                                                     Compact   \n",
       "type                                                   Pre-registered   \n",
       "doors                                                            4.00   \n",
       "warranty                                                        24.00   \n",
       "mileage                                                       5000.00   \n",
       "gearbox                                                     Automatic   \n",
       "fuel_type                                                    Electric   \n",
       "seller                                                         Dealer   \n",
       "seats                                                            5.00   \n",
       "engine_size                                                      1.00   \n",
       "gears                                                            9.00   \n",
       "co_emissions                                                     0.00   \n",
       "drivetrain                                                        NaN   \n",
       "cylinders                                                         NaN   \n",
       "comfort_convenience                                               NaN   \n",
       "entertainment_media                                               NaN   \n",
       "safety_security                                                   NaN   \n",
       "extras                                                            NaN   \n",
       "empty_weight                                                      NaN   \n",
       "full_service_history                                               No   \n",
       "upholstery                                                        NaN   \n",
       "previous_owner                                                    NaN   \n",
       "energy_efficiency_class                                           NaN   \n",
       "age                                                              0.00   \n",
       "power_kW                                                       215.00   \n",
       "power_hp                                                       292.00   \n",
       "cons_avg                                                          NaN   \n",
       "cons_city                                                         NaN   \n",
       "cons_country                                                      NaN   \n",
       "\n",
       "                                                                         2  \\\n",
       "make_model                                          Mercedes-Benz A 45 AMG   \n",
       "short_description                                         S 4Matic+ 8G-DCT   \n",
       "make                                                         Mercedes-Benz   \n",
       "model                                                             A 45 AMG   \n",
       "location                 PORT. TARRACO, MOLL DE LLEVANT, Nº 5, LOC. 6-8...   \n",
       "price                                                             69900.00   \n",
       "body_type                                                          Compact   \n",
       "type                                                                  Used   \n",
       "doors                                                                 5.00   \n",
       "warranty                                                             12.00   \n",
       "mileage                                                           18900.00   \n",
       "gearbox                                                          Automatic   \n",
       "fuel_type                                                          Benzine   \n",
       "seller                                                              Dealer   \n",
       "seats                                                                 5.00   \n",
       "engine_size                                                        1991.00   \n",
       "gears                                                                 8.00   \n",
       "co_emissions                                                           NaN   \n",
       "drivetrain                                                             4WD   \n",
       "cylinders                                                             4.00   \n",
       "comfort_convenience                                                    NaN   \n",
       "entertainment_media                                                    NaN   \n",
       "safety_security                                                        NaN   \n",
       "extras                                                                 NaN   \n",
       "empty_weight                                                           NaN   \n",
       "full_service_history                                                    No   \n",
       "upholstery                                                             NaN   \n",
       "previous_owner                                                         NaN   \n",
       "energy_efficiency_class                                                NaN   \n",
       "age                                                                   2.00   \n",
       "power_kW                                                            310.00   \n",
       "power_hp                                                            421.00   \n",
       "cons_avg                                                              8.40   \n",
       "cons_city                                                            10.90   \n",
       "cons_country                                                          5.80   \n",
       "\n",
       "                                                                         3  \\\n",
       "make_model                                          Mercedes-Benz A 35 AMG   \n",
       "short_description                                           4Matic+ 7G-DCT   \n",
       "make                                                         Mercedes-Benz   \n",
       "model                                                             A 35 AMG   \n",
       "location                 Carrer de Provença, 31 Local,  8029 BARCELONA, ES   \n",
       "price                                                             46990.00   \n",
       "body_type                                                          Compact   \n",
       "type                                                                  Used   \n",
       "doors                                                                 5.00   \n",
       "warranty                                                             12.00   \n",
       "mileage                                                           18995.00   \n",
       "gearbox                                                          Automatic   \n",
       "fuel_type                                                          Benzine   \n",
       "seller                                                              Dealer   \n",
       "seats                                                                 5.00   \n",
       "engine_size                                                        1991.00   \n",
       "gears                                                                 7.00   \n",
       "co_emissions                                                           NaN   \n",
       "drivetrain                                                             4WD   \n",
       "cylinders                                                             4.00   \n",
       "comfort_convenience      Air conditioning, Automatic climate control, P...   \n",
       "entertainment_media                                                    USB   \n",
       "safety_security          ABS, Central door lock, Driver-side airbag, El...   \n",
       "extras                                                         Sport seats   \n",
       "empty_weight                                                           NaN   \n",
       "full_service_history                                                    No   \n",
       "upholstery                                                             NaN   \n",
       "previous_owner                                                         NaN   \n",
       "energy_efficiency_class                                                NaN   \n",
       "age                                                                   2.00   \n",
       "power_kW                                                            225.00   \n",
       "power_hp                                                            306.00   \n",
       "cons_avg                                                              7.30   \n",
       "cons_city                                                             9.30   \n",
       "cons_country                                                          6.10   \n",
       "\n",
       "                                                                         4  \n",
       "make_model                                          Mercedes-Benz A 45 AMG  \n",
       "short_description                                 200CDI BE Line 4M 7G-DCT  \n",
       "make                                                         Mercedes-Benz  \n",
       "model                                                             A 45 AMG  \n",
       "location                            CARRIL ARAGONES 4,  30007 CASILLAS, ES  \n",
       "price                                                             16800.00  \n",
       "body_type                                                          Compact  \n",
       "type                                                                  Used  \n",
       "doors                                                                 5.00  \n",
       "warranty                                                             12.00  \n",
       "mileage                                                          197000.00  \n",
       "gearbox                                                          Automatic  \n",
       "fuel_type                                                           Diesel  \n",
       "seller                                                              Dealer  \n",
       "seats                                                                 5.00  \n",
       "engine_size                                                        2143.00  \n",
       "gears                                                                 7.00  \n",
       "co_emissions                                                           NaN  \n",
       "drivetrain                                                             4WD  \n",
       "cylinders                                                             4.00  \n",
       "comfort_convenience      Air conditioning, Electrical side mirrors, Mul...  \n",
       "entertainment_media                         Bluetooth, CD player, MP3, USB  \n",
       "safety_security          ABS, Central door lock, Driver-side airbag, El...  \n",
       "extras                                                                 NaN  \n",
       "empty_weight                                                       1545.00  \n",
       "full_service_history                                                    No  \n",
       "upholstery                                                             NaN  \n",
       "previous_owner                                                         NaN  \n",
       "energy_efficiency_class                                                NaN  \n",
       "age                                                                   7.00  \n",
       "power_kW                                                            100.00  \n",
       "power_hp                                                            136.00  \n",
       "cons_avg                                                              4.90  \n",
       "cons_city                                                             5.70  \n",
       "cons_country                                                          4.40  "
      ]
     },
     "execution_count": 240,
     "metadata": {},
     "output_type": "execute_result"
    }
   ],
   "source": [
    "df.head().T"
   ]
  },
  {
   "cell_type": "code",
   "execution_count": 241,
   "metadata": {
    "ExecuteTime": {
     "end_time": "2025-01-16T07:21:15.642723Z",
     "start_time": "2025-01-16T07:21:15.568465Z"
    }
   },
   "outputs": [
    {
     "name": "stdout",
     "output_type": "stream",
     "text": [
      "<class 'pandas.core.frame.DataFrame'>\n",
      "RangeIndex: 28630 entries, 0 to 28629\n",
      "Data columns (total 35 columns):\n",
      " #   Column                   Non-Null Count  Dtype  \n",
      "---  ------                   --------------  -----  \n",
      " 0   make_model               28630 non-null  object \n",
      " 1   short_description        28630 non-null  object \n",
      " 2   make                     28630 non-null  object \n",
      " 3   model                    28630 non-null  object \n",
      " 4   location                 28630 non-null  object \n",
      " 5   price                    28630 non-null  float64\n",
      " 6   body_type                28630 non-null  object \n",
      " 7   type                     28630 non-null  object \n",
      " 8   doors                    28271 non-null  float64\n",
      " 9   warranty                 13465 non-null  float64\n",
      " 10  mileage                  28629 non-null  float64\n",
      " 11  gearbox                  28382 non-null  object \n",
      " 12  fuel_type                26843 non-null  object \n",
      " 13  seller                   28630 non-null  object \n",
      " 14  seats                    25505 non-null  float64\n",
      " 15  engine_size              27227 non-null  float64\n",
      " 16  gears                    18954 non-null  float64\n",
      " 17  co_emissions             18594 non-null  float64\n",
      " 18  drivetrain               16893 non-null  object \n",
      " 19  cylinders                18852 non-null  float64\n",
      " 20  comfort_convenience      25433 non-null  object \n",
      " 21  entertainment_media      23644 non-null  object \n",
      " 22  safety_security          25415 non-null  object \n",
      " 23  extras                   23480 non-null  object \n",
      " 24  empty_weight             17758 non-null  float64\n",
      " 25  full_service_history     28630 non-null  object \n",
      " 26  upholstery               18610 non-null  object \n",
      " 27  previous_owner           14015 non-null  object \n",
      " 28  energy_efficiency_class  7804 non-null   object \n",
      " 29  age                      28628 non-null  float64\n",
      " 30  power_kW                 28058 non-null  float64\n",
      " 31  power_hp                 28058 non-null  float64\n",
      " 32  cons_avg                 23385 non-null  float64\n",
      " 33  cons_city                20100 non-null  float64\n",
      " 34  cons_country             20100 non-null  float64\n",
      "dtypes: float64(16), object(19)\n",
      "memory usage: 7.6+ MB\n"
     ]
    }
   ],
   "source": [
    "df.info()"
   ]
  },
  {
   "cell_type": "code",
   "execution_count": 242,
   "metadata": {
    "ExecuteTime": {
     "end_time": "2025-01-16T07:21:15.826800Z",
     "start_time": "2025-01-16T07:21:15.646290Z"
    }
   },
   "outputs": [
    {
     "name": "stdout",
     "output_type": "stream",
     "text": [
      "Column \u001b[1m\u001b[91mgearbox\u001b[0m has mixed object types.\n",
      "Column \u001b[1m\u001b[91mfuel_type\u001b[0m has mixed object types.\n",
      "Column \u001b[1m\u001b[91mdrivetrain\u001b[0m has mixed object types.\n",
      "Column \u001b[1m\u001b[91mcomfort_convenience\u001b[0m has mixed object types.\n",
      "Column \u001b[1m\u001b[91mentertainment_media\u001b[0m has mixed object types.\n",
      "Column \u001b[1m\u001b[91msafety_security\u001b[0m has mixed object types.\n",
      "Column \u001b[1m\u001b[91mextras\u001b[0m has mixed object types.\n",
      "Column \u001b[1m\u001b[91mupholstery\u001b[0m has mixed object types.\n",
      "Column \u001b[1m\u001b[91mprevious_owner\u001b[0m has mixed object types.\n",
      "Column \u001b[1m\u001b[91menergy_efficiency_class\u001b[0m has mixed object types.\n"
     ]
    }
   ],
   "source": [
    "class color:\n",
    "    PURPLE = '\\033[95m'\n",
    "    CYAN = '\\033[96m'\n",
    "    DARKCYAN = '\\033[36m'\n",
    "    BLUE = '\\033[94m'\n",
    "    GREEN = '\\033[92m'\n",
    "    YELLOW = '\\033[93m'\n",
    "    RED = '\\033[91m'\n",
    "    BOLD = '\\033[1m'\n",
    "    UNDERLINE = '\\033[4m'\n",
    "    END = '\\033[0m'\n",
    "\n",
    "def check_obj_columns(df):\n",
    "    '''\n",
    "    Returns NO PROBLEM or column/s which has/have mixed object types.\n",
    "    '''    \n",
    "    \n",
    "    tdf = df.select_dtypes(include=['object']).applymap(type)\n",
    "    for col in tdf:\n",
    "        if len(set(tdf[col].values)) > 1:\n",
    "            print(\"Column\" + \" \" + color.BOLD + color.RED + col + color.END + \" \" + \"has mixed object types.\" )\n",
    "    else:\n",
    "        if len(set(tdf[col].values)) == 1:\n",
    "            print(color.BOLD + color.GREEN + \"NO PROBLEM\" + \" \" + color.END + \" \" + \"with the data types of Columns in the DataFrame.\")\n",
    "\n",
    "check_obj_columns(df)"
   ]
  },
  {
   "cell_type": "markdown",
   "metadata": {},
   "source": [
    "**Let us save our dataset with a csv extension for further analysis (Handling Missing Values) in the following notebook:**"
   ]
  },
  {
   "cell_type": "code",
   "execution_count": 243,
   "metadata": {
    "ExecuteTime": {
     "end_time": "2025-01-16T07:21:17.042274Z",
     "start_time": "2025-01-16T07:21:15.829878Z"
    }
   },
   "outputs": [],
   "source": [
    "df.to_csv(\"clean_scout2022.csv\", index=False)"
   ]
  },
  {
   "cell_type": "markdown",
   "metadata": {},
   "source": [
    "<a id=\"10\"></a>\n",
    "<a href=\"#toc\" class=\"btn btn-primary btn-sm\" role=\"button\" aria-pressed=\"true\" \n",
    "style=\"color:blue; background-color:#dfa8e4\" data-toggle=\"popover\">Content</a>\n",
    "\n",
    "## <p style=\"background-color:#FDFEFE; font-family:newtimeroman; color:#9d4f8c; font-size:150%; text-align:center; border-radius:10px 10px;\">The End of Data Cleaning (Part - 01)</p>\n",
    "\n",
    "\n",
    "<p style=\"text-align: center;\"><img src=\"https://i.ibb.co/99DQ3TY/DS-Courses.png\" class=\"img-fluid\" \n",
    "alt=\"CLRSWY\"></p>\n",
    "\n",
    "\n",
    "<br><br><br>\n",
    "\n",
    "<p style=\"text-align: center;\"><img src=\"https://i.ibb.co/Rpz9L36/clarusway-logo-black.png\" width=\"450\" height=\"200\" class=\"img-fluid\" alt=\"CLRSWY_LOGO\"></p>\n",
    "\n",
    "<p style=\"background-color:#E51A59; font-family:newtimeroman; color:#FDFEFE; font-size:130%; text-align:center; border-radius:10px 10px;\">WAY TO REINVENT YOURSELF</p>"
   ]
  },
  {
   "cell_type": "markdown",
   "metadata": {
    "deletable": false,
    "editable": false
   },
   "source": [
    "<a href=\"https://clarusway.com/contact-us/\"><img align=\"center\" src=\"https://i.ibb.co/B43qn24/officially-licensed-logo.png\" alt=\"Open in Clarusway LMS\" width=\"110\" height=\"200\" title=\"This notebook is licensed by Clarusway IT training school. Please contact the authorized persons about the conditions under which you can use or share.\"></a>"
   ]
  }
 ],
 "metadata": {
  "kernelspec": {
   "display_name": "Python 3 (ipykernel)",
   "language": "python",
   "name": "python3"
  },
  "language_info": {
   "codemirror_mode": {
    "name": "ipython",
    "version": 3
   },
   "file_extension": ".py",
   "mimetype": "text/x-python",
   "name": "python",
   "nbconvert_exporter": "python",
   "pygments_lexer": "ipython3",
   "version": "3.12.3"
  },
  "toc": {
   "base_numbering": 1,
   "nav_menu": {},
   "number_sections": false,
   "sideBar": true,
   "skip_h1_title": false,
   "title_cell": "Table of Contents",
   "title_sidebar": "Contents",
   "toc_cell": false,
   "toc_position": {
    "height": "calc(100% - 180px)",
    "left": "10px",
    "top": "150px",
    "width": "306.45px"
   },
   "toc_section_display": true,
   "toc_window_display": true
  },
  "varInspector": {
   "cols": {
    "lenName": 16,
    "lenType": 16,
    "lenVar": 40
   },
   "kernels_config": {
    "python": {
     "delete_cmd_postfix": "",
     "delete_cmd_prefix": "del ",
     "library": "var_list.py",
     "varRefreshCmd": "print(var_dic_list())"
    },
    "r": {
     "delete_cmd_postfix": ") ",
     "delete_cmd_prefix": "rm(",
     "library": "var_list.r",
     "varRefreshCmd": "cat(var_dic_list()) "
    }
   },
   "types_to_exclude": [
    "module",
    "function",
    "builtin_function_or_method",
    "instance",
    "_Feature"
   ],
   "window_display": false
  }
 },
 "nbformat": 4,
 "nbformat_minor": 4
}
